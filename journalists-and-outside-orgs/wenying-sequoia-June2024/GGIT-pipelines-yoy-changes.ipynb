{
 "cells": [
  {
   "cell_type": "markdown",
   "id": "61ba74ae-2b5e-4c18-b190-85d630799aaa",
   "metadata": {},
   "source": [
    "# Notes\n",
    "\n",
    "code for producing GOIT pipelines summary stats, and for calculating landing page stats\n",
    "\n",
    "this is saved as an Excel file, which Baird copies/pastes into the existing summary tables information on the drive here:\n",
    "https://docs.google.com/spreadsheets/d/1OYH6D7c-D0FsL5GzBGijtkmvQCTkBUclj-UVoOieUFo/edit"
   ]
  },
  {
   "cell_type": "code",
   "execution_count": 3,
   "id": "24befb0b",
   "metadata": {},
   "outputs": [],
   "source": [
    "import pandas\n",
    "import numpy\n",
    "import pygsheets\n",
    "import datetime\n",
    "import re\n",
    "import pytz"
   ]
  },
  {
   "cell_type": "code",
   "execution_count": 4,
   "id": "19845ae1-457b-4143-a932-da766c1d6a20",
   "metadata": {},
   "outputs": [],
   "source": [
    "# define the excel file to save tables in\n",
    "current_time = datetime.datetime.now(pytz.timezone('US/Eastern')).strftime(\"%Y-%m-%d_T%H%M%S\")"
   ]
  },
  {
   "cell_type": "markdown",
   "id": "c8c5ca7a",
   "metadata": {},
   "source": [
    "## import data"
   ]
  },
  {
   "cell_type": "code",
   "execution_count": 6,
   "id": "47201f22-34be-412b-8539-da38c757672d",
   "metadata": {},
   "outputs": [],
   "source": [
    "fuel_type = 'Gas'\n",
    "#fuel_type = 'Oil'\n",
    "#fuel_type = 'NGL'"
   ]
  },
  {
   "cell_type": "code",
   "execution_count": 7,
   "id": "a4185877",
   "metadata": {},
   "outputs": [],
   "source": [
    "gc = pygsheets.authorize(service_account_env_var='GDRIVE_API_CREDENTIALS')\n",
    "#spreadsheet = gc.open_by_key('1WaBMIdfRWqSqXUw7_cKXo3RipyhPdnNN8flqEYfMZIA') # file to use for gas pipelines Dec 2023\n",
    "#spreadsheet = gc.open_by_key('1foPLE6K-uqFlaYgLPAUxzeXfDO5wOOqE7tibNHeqTek') # CURRENT sheet\n",
    "spreadsheet = gc.open_by_key('1-BGgR3XYqrS52UBtvfWnOuAwyw9QCT2gNMNDPjbZus4')\n",
    "\n",
    "gas_pipes = spreadsheet.worksheet('title', 'Gas pipelines').get_as_df(start='A3')\n",
    "oil_pipes = spreadsheet.worksheet('title', 'Oil/NGL pipelines').get_as_df(start='A3')\n",
    "\n",
    "gas_pipes = gas_pipes.drop('WKTFormat', axis=1) # delete WKTFormat column\n",
    "oil_pipes = oil_pipes.drop('WKTFormat', axis=1)\n",
    "pipes_df_orig = gas_pipes.copy() #pandas.concat([oil_pipes, gas_pipes], ignore_index=True)\n",
    "\n",
    "#get other relevant sheets\n",
    "country_ratios_df = spreadsheet.worksheet('title', 'Country ratios by pipeline').get_as_df()\n",
    "owners_df_orig = spreadsheet.worksheet('title', 'Pipeline operators/owners (1/3)').get_as_df(start='A2')\n",
    "\n",
    "country_ratios_df = country_ratios_df.loc[country_ratios_df.Wiki!='']\n",
    "\n",
    "# remove empty cells for pipes, owners\n",
    "pipes_df_orig = pipes_df_orig.loc[pipes_df_orig['PipelineName']!='']\n",
    "pipes_df_orig = pipes_df_orig.loc[pipes_df_orig['Wiki']!='']\n",
    "pipes_df_orig = pipes_df_orig.loc[pipes_df_orig.Fuel==fuel_type]\n",
    "\n",
    "owners_df_orig = owners_df_orig.loc[owners_df_orig['ProjectID']!='']\n",
    "owners_df_orig = owners_df_orig.loc[owners_df_orig['Wiki']!='']\n",
    "owners_df_orig = owners_df_orig.loc[owners_df_orig.Status!='N/A']\n",
    "\n",
    "owners_df_orig.set_index('ProjectID', inplace=True)\n",
    "\n",
    "parent_metadata_df = spreadsheet.worksheet('title', 'Parent metadata (3/3)').get_as_df(start='A2')\n",
    "parent_metadata_df.set_index('Parent', inplace=True)"
   ]
  },
  {
   "cell_type": "code",
   "execution_count": 8,
   "id": "a4e98b3d",
   "metadata": {},
   "outputs": [
    {
     "name": "stderr",
     "output_type": "stream",
     "text": [
      "/var/folders/fl/t07mc8053p33mn6mdmvp45580000gn/T/ipykernel_82512/1702877721.py:1: FutureWarning: Downcasting behavior in `replace` is deprecated and will be removed in a future version. To retain the old behavior, explicitly call `result.infer_objects(copy=False)`. To opt-in to the future behavior, set `pd.set_option('future.no_silent_downcasting', True)`\n",
      "  country_ratios_df.replace('--', numpy.nan, inplace=True)\n",
      "/var/folders/fl/t07mc8053p33mn6mdmvp45580000gn/T/ipykernel_82512/1702877721.py:4: FutureWarning: Downcasting behavior in `replace` is deprecated and will be removed in a future version. To retain the old behavior, explicitly call `result.infer_objects(copy=False)`. To opt-in to the future behavior, set `pd.set_option('future.no_silent_downcasting', True)`\n",
      "  owners_df_orig.replace('--',numpy.nan,inplace=True)\n",
      "/var/folders/fl/t07mc8053p33mn6mdmvp45580000gn/T/ipykernel_82512/1702877721.py:6: FutureWarning: Downcasting behavior in `replace` is deprecated and will be removed in a future version. To retain the old behavior, explicitly call `result.infer_objects(copy=False)`. To opt-in to the future behavior, set `pd.set_option('future.no_silent_downcasting', True)`\n",
      "  pipes_df_orig.replace('--',numpy.nan,inplace=True)\n"
     ]
    }
   ],
   "source": [
    "country_ratios_df.replace('--', numpy.nan, inplace=True)\n",
    "\n",
    "owners_df_orig.replace('',numpy.nan,inplace=True)\n",
    "owners_df_orig.replace('--',numpy.nan,inplace=True)\n",
    "\n",
    "pipes_df_orig.replace('--',numpy.nan,inplace=True)"
   ]
  },
  {
   "cell_type": "code",
   "execution_count": 11,
   "id": "e38efe9a",
   "metadata": {},
   "outputs": [],
   "source": [
    "region_df_orig = spreadsheet.worksheet('title', 'Country dictionary').get_as_df(start='A2')\n",
    "\n",
    "region_name = 'Global'; region_df_touse = region_df_orig.copy()\n",
    "#region_name = 'AsiaGasTracker'; region_df_touse = region_df_orig.loc[region_df_orig.AsiaGasTracker=='Yes']\n",
    "#region_name = 'EuroGasTracker'; region_df_touse = region_df_orig.loc[region_df_orig.EuroGasTracker=='Yes']\n",
    "#region_name = 'AfricaGasTracker'; region_df_touse = region_df_orig.loc[region_df_orig.AfricaGasTracker=='Yes']\n",
    "#region_df_agt.copy()\n",
    "\n",
    "#region_df_touse = region_df_orig.copy()"
   ]
  },
  {
   "cell_type": "code",
   "execution_count": 224,
   "id": "7c93251a-ffd4-4268-a787-1800904b9952",
   "metadata": {},
   "outputs": [
    {
     "data": {
      "text/plain": [
       "MultiIndex([(  'Africa',                 'Northern Africa'),\n",
       "            (  'Africa',              'Sub-Saharan Africa'),\n",
       "            ('Americas', 'Latin America and the Caribbean'),\n",
       "            ('Americas',                'Northern America'),\n",
       "            (    'Asia',                    'Central Asia'),\n",
       "            (    'Asia',                    'Eastern Asia'),\n",
       "            (    'Asia',              'South-eastern Asia'),\n",
       "            (    'Asia',                   'Southern Asia'),\n",
       "            (    'Asia',                    'Western Asia'),\n",
       "            (  'Europe',                  'Eastern Europe'),\n",
       "            (  'Europe',                 'Northern Europe'),\n",
       "            (  'Europe',                 'Southern Europe'),\n",
       "            (  'Europe',                  'Western Europe'),\n",
       "            ( 'Oceania',       'Australia and New Zealand'),\n",
       "            ( 'Oceania',                       'Melanesia')],\n",
       "           names=['Region', 'SubRegion'])"
      ]
     },
     "execution_count": 224,
     "metadata": {},
     "output_type": "execute_result"
    }
   ],
   "source": [
    "region_df_touse_cleaned = region_df_touse.loc[(region_df_touse.Region!='--')&\n",
    "                                            (region_df_touse.SubRegion!='--')]\n",
    "multiindex_region_subregion = country_ratios_df_gas.groupby(['Region','SubRegion'])['Country'].count().index\n",
    "multiindex_region_country = country_ratios_df_gas.groupby(['Region','Country'])['Country'].count().index\n",
    "multiindex_region_subregion"
   ]
  },
  {
   "cell_type": "code",
   "execution_count": 225,
   "id": "42d8dbde-2f5e-4f66-a74a-85a0e7ee3e3b",
   "metadata": {},
   "outputs": [],
   "source": [
    "year_list = list(range(2019,2024))"
   ]
  },
  {
   "cell_type": "code",
   "execution_count": 226,
   "id": "dd104294-cf72-4433-8dbe-7ef8c146d77f",
   "metadata": {},
   "outputs": [],
   "source": [
    "multiindex_region_country_tuples = list(zip(multiindex_region_country.get_level_values(0),multiindex_region_country.get_level_values(1)))\n",
    "\n",
    "all_region_country_year_tuples = []\n",
    "for item in multiindex_region_country_tuples:\n",
    "    for year in year_list:\n",
    "        all_region_country_year_tuples.append(tuple((item[0], item[1], year)))"
   ]
  },
  {
   "cell_type": "code",
   "execution_count": 227,
   "id": "fb4c669a-cbac-41d4-a4ab-26a1ff7ad546",
   "metadata": {},
   "outputs": [
    {
     "name": "stderr",
     "output_type": "stream",
     "text": [
      "/var/folders/fl/t07mc8053p33mn6mdmvp45580000gn/T/ipykernel_82512/931518542.py:2: FutureWarning: Downcasting behavior in `replace` is deprecated and will be removed in a future version. To retain the old behavior, explicitly call `result.infer_objects(copy=False)`. To opt-in to the future behavior, set `pd.set_option('future.no_silent_downcasting', True)`\n",
      "  country_ratios_df_gas = country_ratios_df_gas.replace('',numpy.nan)\n"
     ]
    }
   ],
   "source": [
    "country_ratios_df_gas = country_ratios_df.loc[country_ratios_df.Fuel=='Gas']\n",
    "country_ratios_df_gas = country_ratios_df_gas.replace('',numpy.nan)"
   ]
  },
  {
   "cell_type": "code",
   "execution_count": 228,
   "id": "2adb670f-671b-444a-a95b-95227df70ea1",
   "metadata": {},
   "outputs": [],
   "source": [
    "# proposed\n",
    "df1 = country_ratios_df_gas.rename(columns={'ProposalYear':'Year'}).loc[country_ratios_df_gas.Status=='proposed'].groupby(\n",
    "    ['Region','Country','Year']\n",
    "        )[['LengthMergedKmByCountry']].sum().rename(columns={'LengthMergedKmByCountry':'Proposed km'})"
   ]
  },
  {
   "cell_type": "code",
   "execution_count": 229,
   "id": "fa1be811-8ebe-43e5-8bbd-a38422b01499",
   "metadata": {},
   "outputs": [],
   "source": [
    "# proposed\n",
    "df2 = country_ratios_df_gas.rename(columns={'ConstructionYear':'Year'}).loc[country_ratios_df_gas.Status=='construction'].groupby(\n",
    "    ['Region','Country','Year']\n",
    "        )[['LengthMergedKmByCountry']].sum().rename(columns={'LengthMergedKmByCountry':'Construction km'})"
   ]
  },
  {
   "cell_type": "code",
   "execution_count": 230,
   "id": "c2c08f99-c117-49e5-89e9-98261e3f01b0",
   "metadata": {},
   "outputs": [],
   "source": [
    "# operating\n",
    "df3 = country_ratios_df_gas.rename(columns={'StartYearEarliest':'Year'}).loc[country_ratios_df_gas.Status=='operating'].groupby(\n",
    "    ['Region','Country','Year']\n",
    "        )[['LengthMergedKmByCountry']].sum().rename(columns={'LengthMergedKmByCountry':'Operating km'})"
   ]
  },
  {
   "cell_type": "code",
   "execution_count": 231,
   "id": "18c55b37-3d21-4dd6-8766-0dfa8f0a77c4",
   "metadata": {},
   "outputs": [],
   "source": [
    "# proposed\n",
    "df4 = country_ratios_df_gas.rename(columns={'ShelvedYear':'Year'}).loc[country_ratios_df_gas.Status=='shelved'].groupby(\n",
    "    ['Region','Country','Year']\n",
    "        )[['LengthMergedKmByCountry']].sum().rename(columns={'LengthMergedKmByCountry':'Shelved km'})"
   ]
  },
  {
   "cell_type": "code",
   "execution_count": 232,
   "id": "a9d6add3-d60e-4adb-9aae-193d9ca49bbc",
   "metadata": {},
   "outputs": [],
   "source": [
    "# proposed\n",
    "df5 = country_ratios_df_gas.rename(columns={'CancelledYear':'Year'}).loc[country_ratios_df_gas.Status=='cancelled'].groupby(\n",
    "    ['Region','Country','Year']\n",
    "        )[['LengthMergedKmByCountry']].sum().rename(columns={'LengthMergedKmByCountry':'Cancelled km'})"
   ]
  },
  {
   "cell_type": "code",
   "execution_count": 233,
   "id": "ba431cf5-4376-4da8-b9b2-83ba4d49a764",
   "metadata": {},
   "outputs": [],
   "source": [
    "all_dfs = df1.join(df2).join(df3).join(df4).join(df5)"
   ]
  },
  {
   "cell_type": "raw",
   "id": "3bdaa24b-08d9-4cb3-9baa-c843ae6f77de",
   "metadata": {},
   "source": [
    "country_list = country_ratios_df_gas.Country.unique().tolist()\n",
    "region_list = country_ratios_df_gas.Region.unique().tolist()"
   ]
  },
  {
   "cell_type": "code",
   "execution_count": 234,
   "id": "234f6c01-4ad0-4937-bb74-c87178ca0498",
   "metadata": {},
   "outputs": [],
   "source": [
    "#new_multiindex = pandas.MultiIndex.from_product([region_list,country_list,year_list], names=['Country', 'Region', 'Year'])\n",
    "new_multiindex = pandas.MultiIndex.from_tuples(all_region_country_year_tuples, names=['Country','Region','Year'])\n",
    "\n",
    "\n"
   ]
  },
  {
   "cell_type": "code",
   "execution_count": 235,
   "id": "1b511589-a51d-496f-b649-7ac880451920",
   "metadata": {},
   "outputs": [
    {
     "data": {
      "text/plain": [
       "MultiIndex([( 'Africa',          'Algeria', 2019),\n",
       "            ( 'Africa',          'Algeria', 2020),\n",
       "            ( 'Africa',          'Algeria', 2021),\n",
       "            ( 'Africa',          'Algeria', 2022),\n",
       "            ( 'Africa',          'Algeria', 2023),\n",
       "            ( 'Africa',           'Angola', 2019),\n",
       "            ( 'Africa',           'Angola', 2020),\n",
       "            ( 'Africa',           'Angola', 2021),\n",
       "            ( 'Africa',           'Angola', 2022),\n",
       "            ( 'Africa',           'Angola', 2023),\n",
       "            ...\n",
       "            ('Oceania',      'New Zealand', 2019),\n",
       "            ('Oceania',      'New Zealand', 2020),\n",
       "            ('Oceania',      'New Zealand', 2021),\n",
       "            ('Oceania',      'New Zealand', 2022),\n",
       "            ('Oceania',      'New Zealand', 2023),\n",
       "            ('Oceania', 'Papua New Guinea', 2019),\n",
       "            ('Oceania', 'Papua New Guinea', 2020),\n",
       "            ('Oceania', 'Papua New Guinea', 2021),\n",
       "            ('Oceania', 'Papua New Guinea', 2022),\n",
       "            ('Oceania', 'Papua New Guinea', 2023)],\n",
       "           names=['Country', 'Region', 'Year'], length=750)"
      ]
     },
     "execution_count": 235,
     "metadata": {},
     "output_type": "execute_result"
    }
   ],
   "source": [
    "new_multiindex"
   ]
  },
  {
   "cell_type": "code",
   "execution_count": 236,
   "id": "f6f28f4d-6978-4f5b-a0a9-2b5d44a12dd1",
   "metadata": {},
   "outputs": [],
   "source": [
    "all_dfs.reindex(new_multiindex).reset_index().replace(\n",
    "    numpy.nan,'').to_excel('GGIT-yearly-stats-gas-pipelines.xlsx', index=False)"
   ]
  }
 ],
 "metadata": {
  "kernelspec": {
   "display_name": "Python 3 (ipykernel)",
   "language": "python",
   "name": "python3"
  },
  "language_info": {
   "codemirror_mode": {
    "name": "ipython",
    "version": 3
   },
   "file_extension": ".py",
   "mimetype": "text/x-python",
   "name": "python",
   "nbconvert_exporter": "python",
   "pygments_lexer": "ipython3",
   "version": "3.11.6"
  }
 },
 "nbformat": 4,
 "nbformat_minor": 5
}
