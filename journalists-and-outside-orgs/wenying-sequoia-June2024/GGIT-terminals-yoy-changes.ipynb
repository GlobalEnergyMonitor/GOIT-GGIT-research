{
 "cells": [
  {
   "cell_type": "code",
   "execution_count": 5,
   "id": "24befb0b",
   "metadata": {
    "tags": []
   },
   "outputs": [],
   "source": [
    "import pandas\n",
    "import numpy\n",
    "import pygsheets\n",
    "import datetime\n",
    "import pytz\n",
    "import re"
   ]
  },
  {
   "cell_type": "code",
   "execution_count": 6,
   "id": "ae44956f-e552-4988-91af-3d8b313dbe6b",
   "metadata": {
    "tags": []
   },
   "outputs": [],
   "source": [
    "# define the excel file to save tables in\n",
    "current_time = datetime.datetime.now(pytz.timezone('US/Eastern')).strftime(\"%Y-%m-%d_T%H%M%S\")"
   ]
  },
  {
   "cell_type": "code",
   "execution_count": 7,
   "id": "a4185877",
   "metadata": {
    "tags": []
   },
   "outputs": [],
   "source": [
    "gc = pygsheets.authorize(service_account_env_var='GDRIVE_API_CREDENTIALS')\n",
    "#spreadsheet = gc.open_by_key('1tcS6Wd-Wp-LTDpLzFgJY_RSNDnbyubW3J_9HKIAys4A')\n",
    "spreadsheet = gc.open_by_key('1xedJW5v5DMat4-pdC_qYzBH-L2PLsr6-N-daYD8dzgI') # June 4 for Wenying\n",
    "\n",
    "terms_df_orig = spreadsheet.worksheet('title', 'Terminals').get_as_df(start='A3')\n",
    "\n",
    "# drop any empty/imcomplete rows (those without a wiki page)\n",
    "terms_df_orig = terms_df_orig.loc[terms_df_orig.Wiki != '']\n",
    "\n",
    "#get other relevant sheets\n",
    "owners_df_orig = spreadsheet.worksheet('title', 'Terminal operators/owners (1/3)').get_as_df(start='A2')\n",
    "owners_df_orig.set_index('ComboID', inplace=True)\n",
    "\n",
    "parent_metadata_df = spreadsheet.worksheet('title', 'Parent metadata (3/3)').get_as_df(start='A2')\n",
    "parent_metadata_df.set_index('Parent', inplace=True)"
   ]
  },
  {
   "cell_type": "code",
   "execution_count": 8,
   "id": "4b8ccd2f",
   "metadata": {
    "tags": []
   },
   "outputs": [
    {
     "name": "stderr",
     "output_type": "stream",
     "text": [
      "/var/folders/fl/t07mc8053p33mn6mdmvp45580000gn/T/ipykernel_82517/2923329017.py:1: FutureWarning: Downcasting behavior in `replace` is deprecated and will be removed in a future version. To retain the old behavior, explicitly call `result.infer_objects(copy=False)`. To opt-in to the future behavior, set `pd.set_option('future.no_silent_downcasting', True)`\n",
      "  terms_df_orig.replace('--', numpy.nan, inplace=True)\n"
     ]
    }
   ],
   "source": [
    "terms_df_orig.replace('--', numpy.nan, inplace=True)"
   ]
  },
  {
   "cell_type": "code",
   "execution_count": 11,
   "id": "4527dc75",
   "metadata": {
    "tags": []
   },
   "outputs": [],
   "source": [
    "region_df_orig = spreadsheet.worksheet('title', 'Country dictionary').get_as_df(start='A2')\n",
    "#region_df_agt = region_df_orig.loc[region_df_orig['AsiaGasTracker']=='Yes']\n",
    "\n",
    "region_name = 'Global'; region_df_touse = region_df_orig.copy()\n",
    "#region_name = 'AsiaGasTracker'; region_df_touse = region_df_orig.loc[region_df_orig.AsiaGasTracker=='Yes']\n",
    "#region_name = 'EuroGasTracker'; region_df_touse = region_df_orig.loc[region_df_orig.EuroGasTracker=='Yes']\n",
    "#region_name = 'AfricaGasTracker'; region_df_touse = region_df_orig.loc[region_df_orig.AfricaGasTracker=='Yes']\n",
    "#region_df_agt.copy()"
   ]
  },
  {
   "cell_type": "code",
   "execution_count": 50,
   "id": "8922012d-4279-4f82-af18-ad78da5a9875",
   "metadata": {},
   "outputs": [
    {
     "data": {
      "text/plain": [
       "MultiIndex([(  'Africa',                 'Northern Africa'),\n",
       "            (  'Africa',              'Sub-Saharan Africa'),\n",
       "            ('Americas', 'Latin America and the Caribbean'),\n",
       "            ('Americas',                'Northern America'),\n",
       "            (    'Asia',                    'Central Asia'),\n",
       "            (    'Asia',                    'Eastern Asia'),\n",
       "            (    'Asia',              'South-eastern Asia'),\n",
       "            (    'Asia',                   'Southern Asia'),\n",
       "            (    'Asia',                    'Western Asia'),\n",
       "            (  'Europe',                  'Eastern Europe'),\n",
       "            (  'Europe',                 'Northern Europe'),\n",
       "            (  'Europe',                 'Southern Europe'),\n",
       "            (  'Europe',                  'Western Europe'),\n",
       "            ( 'Oceania',       'Australia and New Zealand'),\n",
       "            ( 'Oceania',                       'Melanesia')],\n",
       "           names=['Region', 'SubRegion'])"
      ]
     },
     "execution_count": 50,
     "metadata": {},
     "output_type": "execute_result"
    }
   ],
   "source": [
    "region_df_touse_cleaned = region_df_touse.loc[(region_df_touse.Region!='--')&\n",
    "                                            (region_df_touse.SubRegion!='--')]\n",
    "multiindex_region_subregion = terms_df_orig.groupby(['Region','SubRegion'])['Country'].count().index\n",
    "multiindex_region_country = terms_df_orig.groupby(['Region','Country'])['Country'].count().index\n",
    "multiindex_region_subregion"
   ]
  },
  {
   "cell_type": "code",
   "execution_count": 51,
   "id": "b03f9a26-4e9f-404a-aa24-0bba48da8233",
   "metadata": {},
   "outputs": [],
   "source": [
    "multiindex_region_country_tuples = list(zip(multiindex_region_country.get_level_values(0),multiindex_region_country.get_level_values(1)))\n",
    "\n",
    "all_region_country_year_tuples = []\n",
    "for item in multiindex_region_country_tuples:\n",
    "    for year in year_list:\n",
    "        all_region_country_year_tuples.append(tuple((item[0], item[1], year)))"
   ]
  },
  {
   "cell_type": "markdown",
   "id": "bef25f8e",
   "metadata": {},
   "source": [
    "### create specific dataframes for region, country_ratios, owners_df"
   ]
  },
  {
   "cell_type": "code",
   "execution_count": 52,
   "id": "86f5a6e3-ce32-433f-9cf3-3f4091d4bef9",
   "metadata": {
    "tags": []
   },
   "outputs": [],
   "source": [
    "owners_df_touse = owners_df_orig.loc[owners_df_orig['Country'].isin(region_df_touse['Country'].tolist())]\n",
    "terms_df_touse = terms_df_orig.loc[terms_df_orig['Country'].isin(region_df_touse['Country'].tolist())]"
   ]
  },
  {
   "cell_type": "markdown",
   "id": "ab0f880a-37cf-45a8-b145-4aceb04d3314",
   "metadata": {},
   "source": [
    "# export"
   ]
  },
  {
   "cell_type": "code",
   "execution_count": 53,
   "id": "de7fbf4d-f981-463b-b34c-8c0e121b76b1",
   "metadata": {},
   "outputs": [],
   "source": [
    "year_list = list(range(2015,2024))"
   ]
  },
  {
   "cell_type": "code",
   "execution_count": 54,
   "id": "631c4e76-e2c7-4932-ae5c-d3c5af8371cb",
   "metadata": {},
   "outputs": [],
   "source": [
    "# proposed\n",
    "df1 = terms_df_touse.rename(columns={'ProposalYear':'Year'}).loc[(terms_df_touse.Status=='Proposed') & \n",
    "(terms_df_touse.FacilityType=='Export')].groupby(\n",
    "    ['Region','Country','Year']\n",
    "        )[['CapacityInMtpa']].sum().rename(columns={'CapacityInMtpa':'Proposed mtpa'})"
   ]
  },
  {
   "cell_type": "code",
   "execution_count": 55,
   "id": "b72a1722-8bb0-4a32-ba35-a099029b79d6",
   "metadata": {},
   "outputs": [],
   "source": [
    "# proposed\n",
    "df2 = terms_df_touse.rename(columns={'ConstructionYear':'Year'}).loc[(terms_df_touse.Status=='Construction') & \n",
    "(terms_df_touse.FacilityType=='Export')].groupby(\n",
    "    ['Region','Country','Year']\n",
    "        )[['CapacityInMtpa']].sum().rename(columns={'CapacityInMtpa':'Under construction mtpa'})"
   ]
  },
  {
   "cell_type": "code",
   "execution_count": 56,
   "id": "4c9301ae-0be1-4b1e-90cc-7ad4a08e9b2a",
   "metadata": {},
   "outputs": [],
   "source": [
    "# proposed\n",
    "df3 = terms_df_touse.rename(columns={'StartYearEarliest':'Year'}).loc[(terms_df_touse.Status=='Operating') & \n",
    "(terms_df_touse.FacilityType=='Export')].groupby(\n",
    "    ['Region','Country','Year']\n",
    "        )[['CapacityInMtpa']].sum().rename(columns={'CapacityInMtpa':'Operating mtpa'})"
   ]
  },
  {
   "cell_type": "code",
   "execution_count": 57,
   "id": "38438906-1932-40fd-856f-e270db0fa428",
   "metadata": {},
   "outputs": [],
   "source": [
    "# proposed\n",
    "df4 = terms_df_touse.rename(columns={'ShelvedYear':'Year'}).loc[(terms_df_touse.Status=='Shelved') & \n",
    "(terms_df_touse.FacilityType=='Export')].groupby(\n",
    "    ['Region','Country','Year']\n",
    "        )[['CapacityInMtpa']].sum().rename(columns={'CapacityInMtpa':'Shelved mtpa'})"
   ]
  },
  {
   "cell_type": "code",
   "execution_count": 58,
   "id": "b6cd2913-306e-455d-9343-88541eb204ad",
   "metadata": {},
   "outputs": [],
   "source": [
    "# proposed\n",
    "df5 = terms_df_touse.rename(columns={'CancelledYear':'Year'}).loc[(terms_df_touse.Status=='Cancelled') & \n",
    "(terms_df_touse.FacilityType=='Export')].groupby(\n",
    "    ['Region','Country','Year']\n",
    "        )[['CapacityInMtpa']].sum().rename(columns={'CapacityInMtpa':'Cancelled mtpa'})"
   ]
  },
  {
   "cell_type": "code",
   "execution_count": 59,
   "id": "b5df00bc-1412-45c1-9d22-17c57cf8f02b",
   "metadata": {},
   "outputs": [],
   "source": [
    "all_dfs = df1.join(df2).join(df3).join(df4).join(df5)"
   ]
  },
  {
   "cell_type": "code",
   "execution_count": 60,
   "id": "8e81a6de-f22b-4bbc-936e-236990910be3",
   "metadata": {},
   "outputs": [],
   "source": [
    "country_list = terms_df_touse.Country.unique().tolist()\n",
    "region_list = terms_df_touse.Region.unique().tolist()"
   ]
  },
  {
   "cell_type": "code",
   "execution_count": 61,
   "id": "692cd08b-99de-42e4-bf08-f3cf1c7ed4ec",
   "metadata": {},
   "outputs": [],
   "source": [
    "#new_multiindex = pandas.MultiIndex.from_product([region_list,country_list,year_list], names=['Country', 'Region', 'Year'])\n",
    "new_multiindex = pandas.MultiIndex.from_tuples(all_region_country_year_tuples, names=['Country','Region','Year'])"
   ]
  },
  {
   "cell_type": "code",
   "execution_count": 62,
   "id": "543d2921-cfe0-4b80-b3e6-ca705eaf4fc9",
   "metadata": {},
   "outputs": [],
   "source": [
    "all_dfs.reindex(new_multiindex).reset_index().replace(\n",
    "    numpy.nan,'').to_excel('GGIT-yearly-stats-LNG-export-terminals.xlsx', index=False)"
   ]
  },
  {
   "cell_type": "markdown",
   "id": "3cc12753-0d32-42c2-8b5a-58f9b112f7a0",
   "metadata": {},
   "source": [
    "# import"
   ]
  },
  {
   "cell_type": "code",
   "execution_count": 63,
   "id": "c1a2a48d-cffd-4dc1-9755-0a2991e24002",
   "metadata": {},
   "outputs": [],
   "source": [
    "# proposed\n",
    "df1 = terms_df_touse.rename(columns={'ProposalYear':'Year'}).loc[(terms_df_touse.Status=='Proposed') & \n",
    "(terms_df_touse.FacilityType=='Import')].groupby(\n",
    "    ['Region','Country','Year']\n",
    "        )[['CapacityInMtpa']].sum().rename(columns={'CapacityInMtpa':'Proposed mtpa'})"
   ]
  },
  {
   "cell_type": "code",
   "execution_count": 64,
   "id": "96159a85-3132-4e6d-abc6-db6854600779",
   "metadata": {},
   "outputs": [],
   "source": [
    "# proposed\n",
    "df2 = terms_df_touse.rename(columns={'ConstructionYear':'Year'}).loc[(terms_df_touse.Status=='Construction') & \n",
    "(terms_df_touse.FacilityType=='Import')].groupby(\n",
    "    ['Region','Country','Year']\n",
    "        )[['CapacityInMtpa']].sum().rename(columns={'CapacityInMtpa':'Under construction mtpa'})"
   ]
  },
  {
   "cell_type": "code",
   "execution_count": 65,
   "id": "b487cf1c-8448-4be4-89b0-264f3828475c",
   "metadata": {},
   "outputs": [],
   "source": [
    "# proposed\n",
    "df3 = terms_df_touse.rename(columns={'StartYearEarliest':'Year'}).loc[(terms_df_touse.Status=='Operating') & \n",
    "(terms_df_touse.FacilityType=='Import')].groupby(\n",
    "    ['Region','Country','Year']\n",
    "        )[['CapacityInMtpa']].sum().rename(columns={'CapacityInMtpa':'Operating mtpa'})"
   ]
  },
  {
   "cell_type": "code",
   "execution_count": 66,
   "id": "f741ad38-7572-4a95-8132-3d373067a855",
   "metadata": {},
   "outputs": [],
   "source": [
    "# proposed\n",
    "df4 = terms_df_touse.rename(columns={'ShelvedYear':'Year'}).loc[(terms_df_touse.Status=='Shelved') & \n",
    "(terms_df_touse.FacilityType=='Import')].groupby(\n",
    "    ['Region','Country','Year']\n",
    "        )[['CapacityInMtpa']].sum().rename(columns={'CapacityInMtpa':'Shelved mtpa'})"
   ]
  },
  {
   "cell_type": "code",
   "execution_count": 67,
   "id": "4da8d260-55d4-4340-9c78-88934ec249e7",
   "metadata": {},
   "outputs": [],
   "source": [
    "# proposed\n",
    "df5 = terms_df_touse.rename(columns={'CancelledYear':'Year'}).loc[(terms_df_touse.Status=='Cancelled') & \n",
    "(terms_df_touse.FacilityType=='Import')].groupby(\n",
    "    ['Region','Country','Year']\n",
    "        )[['CapacityInMtpa']].sum().rename(columns={'CapacityInMtpa':'Cancelled mtpa'})"
   ]
  },
  {
   "cell_type": "code",
   "execution_count": 68,
   "id": "4077767b-cc8a-4172-946a-08af293fce43",
   "metadata": {},
   "outputs": [],
   "source": [
    "all_dfs = df1.join(df2).join(df3).join(df4).join(df5)"
   ]
  },
  {
   "cell_type": "raw",
   "id": "f15d8815-03b4-4be1-bf43-717c413f00b2",
   "metadata": {},
   "source": [
    "country_list = terms_df_touse.Country.unique().tolist()\n",
    "region_list = terms_df_touse.Region.unique().tolist()"
   ]
  },
  {
   "cell_type": "raw",
   "id": "19bc4714-c64a-4d2d-be60-5210cdfe215b",
   "metadata": {},
   "source": [
    "new_multiindex = pandas.MultiIndex.from_product([region_list,country_list,year_list], names=['Country', 'Region', 'Year'])"
   ]
  },
  {
   "cell_type": "code",
   "execution_count": 69,
   "id": "f8343449-a5e7-48ba-a157-6ed7eb148418",
   "metadata": {},
   "outputs": [],
   "source": [
    "all_dfs.reindex(new_multiindex).reset_index().replace(\n",
    "    numpy.nan,'').to_excel('GGIT-yearly-stats-LNG-import-terminals.xlsx', index=False)"
   ]
  }
 ],
 "metadata": {
  "kernelspec": {
   "display_name": "Python 3 (ipykernel)",
   "language": "python",
   "name": "python3"
  },
  "language_info": {
   "codemirror_mode": {
    "name": "ipython",
    "version": 3
   },
   "file_extension": ".py",
   "mimetype": "text/x-python",
   "name": "python",
   "nbconvert_exporter": "python",
   "pygments_lexer": "ipython3",
   "version": "3.11.6"
  }
 },
 "nbformat": 4,
 "nbformat_minor": 5
}
