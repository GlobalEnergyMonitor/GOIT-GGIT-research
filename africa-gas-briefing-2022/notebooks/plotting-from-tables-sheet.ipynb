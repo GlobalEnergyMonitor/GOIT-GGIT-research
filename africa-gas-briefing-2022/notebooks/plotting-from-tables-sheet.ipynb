{
 "cells": [
  {
   "cell_type": "markdown",
   "id": "2c7fb3c3-5846-4b5e-81fe-55b86d04b8ca",
   "metadata": {},
   "source": [
    "# script for additional figures - Africa gas briefing"
   ]
  },
  {
   "cell_type": "code",
   "execution_count": 20,
   "id": "dd351b0e-cac9-4f45-a843-db501a5770c6",
   "metadata": {},
   "outputs": [],
   "source": [
    "import matplotlib.pyplot as mp\n",
    "import matplotlib\n",
    "import pygsheets\n",
    "import numpy\n",
    "import pandas\n",
    "import squarify\n",
    "import seaborn\n",
    "import itertools"
   ]
  },
  {
   "cell_type": "code",
   "execution_count": 21,
   "id": "f13f3981-6a8d-4f1d-b497-72fc15e753be",
   "metadata": {},
   "outputs": [],
   "source": [
    "gc = pygsheets.authorize(service_account_env_var='GDRIVE_API_CREDENTIALS')\n",
    "spreadsheet = gc.open_by_key('1SHvt4dl6ErgGY9p2FJ4wHNVsRtoRKK_CxrB4VUdNPXA')"
   ]
  },
  {
   "cell_type": "code",
   "execution_count": 22,
   "id": "351393ec-5757-4e75-946d-784b07663cf3",
   "metadata": {},
   "outputs": [
    {
     "name": "stderr",
     "output_type": "stream",
     "text": [
      "/Users/baird/miniconda3/envs/gem/lib/python3.9/site-packages/pygsheets/worksheet.py:1477: UserWarning: At least one column name in the data frame is an empty string. If this is a concern, please specify include_tailing_empty=False and/or ensure that each column containing data has a name.\n",
      "  warnings.warn('At least one column name in the data frame is an empty string. If this is a concern, please specify include_tailing_empty=False and/or ensure that each column containing data has a name.')\n"
     ]
    }
   ],
   "source": [
    "table3_df = spreadsheet.worksheet('title', 'FINAL - Fig 2 (orig - Table 3_)').get_as_df()\n",
    "table14_df = spreadsheet.worksheet('title', 'FINAL - Fig 8 (orig - Table 14)').get_as_df()"
   ]
  },
  {
   "cell_type": "code",
   "execution_count": 23,
   "id": "d59bc170-adee-4ae4-9159-091fc2f6b2f8",
   "metadata": {},
   "outputs": [
    {
     "data": {
      "text/html": [
       "<div>\n",
       "<style scoped>\n",
       "    .dataframe tbody tr th:only-of-type {\n",
       "        vertical-align: middle;\n",
       "    }\n",
       "\n",
       "    .dataframe tbody tr th {\n",
       "        vertical-align: top;\n",
       "    }\n",
       "\n",
       "    .dataframe thead th {\n",
       "        text-align: right;\n",
       "    }\n",
       "</style>\n",
       "<table border=\"1\" class=\"dataframe\">\n",
       "  <thead>\n",
       "    <tr style=\"text-align: right;\">\n",
       "      <th></th>\n",
       "      <th>Year</th>\n",
       "      <th>2011</th>\n",
       "      <th>2012</th>\n",
       "      <th>2013</th>\n",
       "      <th>2014</th>\n",
       "      <th>2015</th>\n",
       "      <th>2016</th>\n",
       "      <th>2017</th>\n",
       "      <th>2018</th>\n",
       "      <th>2019</th>\n",
       "      <th>2020</th>\n",
       "      <th>2021</th>\n",
       "    </tr>\n",
       "  </thead>\n",
       "  <tbody>\n",
       "    <tr>\n",
       "      <th>0</th>\n",
       "      <td>Pipeline exports to Europe (bcm)</td>\n",
       "      <td>34.4</td>\n",
       "      <td>38.5</td>\n",
       "      <td>33.3</td>\n",
       "      <td>29.1</td>\n",
       "      <td>29.8</td>\n",
       "      <td>38.7</td>\n",
       "      <td>37.2</td>\n",
       "      <td>37.3</td>\n",
       "      <td>26.5</td>\n",
       "      <td>25.2</td>\n",
       "      <td>37.2</td>\n",
       "    </tr>\n",
       "    <tr>\n",
       "      <th>1</th>\n",
       "      <td>Pipeline exports to the Middle East (bcm)</td>\n",
       "      <td>1.6</td>\n",
       "      <td>0.8</td>\n",
       "      <td>1.1</td>\n",
       "      <td>0.3</td>\n",
       "      <td>0.3</td>\n",
       "      <td></td>\n",
       "      <td></td>\n",
       "      <td>0.1</td>\n",
       "      <td>1.2</td>\n",
       "      <td>0.4</td>\n",
       "      <td>0.7</td>\n",
       "    </tr>\n",
       "    <tr>\n",
       "      <th>2</th>\n",
       "      <td>LNG exports (bcm)</td>\n",
       "      <td>56.4</td>\n",
       "      <td>54.2</td>\n",
       "      <td>47.0</td>\n",
       "      <td>49.5</td>\n",
       "      <td>48.5</td>\n",
       "      <td>46.2</td>\n",
       "      <td>55.7</td>\n",
       "      <td>53.5</td>\n",
       "      <td>61.6</td>\n",
       "      <td>56.0</td>\n",
       "      <td>58.5</td>\n",
       "    </tr>\n",
       "    <tr>\n",
       "      <th>3</th>\n",
       "      <td>Total exports (bcm)</td>\n",
       "      <td>92.4</td>\n",
       "      <td>93.5</td>\n",
       "      <td>81.4</td>\n",
       "      <td>78.8</td>\n",
       "      <td>78.6</td>\n",
       "      <td>84.9</td>\n",
       "      <td>92.9</td>\n",
       "      <td>90.9</td>\n",
       "      <td>89.4</td>\n",
       "      <td>81.7</td>\n",
       "      <td>96.4</td>\n",
       "    </tr>\n",
       "  </tbody>\n",
       "</table>\n",
       "</div>"
      ],
      "text/plain": [
       "                                        Year  2011  2012  2013  2014  2015  \\\n",
       "0           Pipeline exports to Europe (bcm)  34.4  38.5  33.3  29.1  29.8   \n",
       "1  Pipeline exports to the Middle East (bcm)   1.6   0.8   1.1   0.3   0.3   \n",
       "2                          LNG exports (bcm)  56.4  54.2  47.0  49.5  48.5   \n",
       "3                        Total exports (bcm)  92.4  93.5  81.4  78.8  78.6   \n",
       "\n",
       "   2016  2017  2018  2019  2020  2021  \n",
       "0  38.7  37.2  37.3  26.5  25.2  37.2  \n",
       "1               0.1   1.2   0.4   0.7  \n",
       "2  46.2  55.7  53.5  61.6  56.0  58.5  \n",
       "3  84.9  92.9  90.9  89.4  81.7  96.4  "
      ]
     },
     "execution_count": 23,
     "metadata": {},
     "output_type": "execute_result"
    }
   ],
   "source": [
    "table3_df"
   ]
  },
  {
   "cell_type": "code",
   "execution_count": 24,
   "id": "a99f2921-b948-4c5f-9f71-e0602d40e5cc",
   "metadata": {},
   "outputs": [],
   "source": [
    "table3_df_clean = table3_df.replace('',0)\n",
    "table3_df_clean.set_index('Year', inplace=True)\n",
    "table3_df_clean.index.name = None\n",
    "# get rid of 'Total exports (bcm)' row\n",
    "table3_df_clean.drop('Total exports (bcm)', inplace=True)\n",
    "table3_df_clean.sort_values(2021, ascending=False, inplace=True)"
   ]
  },
  {
   "cell_type": "code",
   "execution_count": 25,
   "id": "c83c2863-c035-45c6-b0cc-636aa778aa15",
   "metadata": {},
   "outputs": [
    {
     "data": {
      "text/html": [
       "<div>\n",
       "<style scoped>\n",
       "    .dataframe tbody tr th:only-of-type {\n",
       "        vertical-align: middle;\n",
       "    }\n",
       "\n",
       "    .dataframe tbody tr th {\n",
       "        vertical-align: top;\n",
       "    }\n",
       "\n",
       "    .dataframe thead th {\n",
       "        text-align: right;\n",
       "    }\n",
       "</style>\n",
       "<table border=\"1\" class=\"dataframe\">\n",
       "  <thead>\n",
       "    <tr style=\"text-align: right;\">\n",
       "      <th></th>\n",
       "      <th>2011</th>\n",
       "      <th>2012</th>\n",
       "      <th>2013</th>\n",
       "      <th>2014</th>\n",
       "      <th>2015</th>\n",
       "      <th>2016</th>\n",
       "      <th>2017</th>\n",
       "      <th>2018</th>\n",
       "      <th>2019</th>\n",
       "      <th>2020</th>\n",
       "      <th>2021</th>\n",
       "    </tr>\n",
       "  </thead>\n",
       "  <tbody>\n",
       "    <tr>\n",
       "      <th>LNG exports (bcm)</th>\n",
       "      <td>56.4</td>\n",
       "      <td>54.2</td>\n",
       "      <td>47.0</td>\n",
       "      <td>49.5</td>\n",
       "      <td>48.5</td>\n",
       "      <td>46.2</td>\n",
       "      <td>55.7</td>\n",
       "      <td>53.5</td>\n",
       "      <td>61.6</td>\n",
       "      <td>56.0</td>\n",
       "      <td>58.5</td>\n",
       "    </tr>\n",
       "    <tr>\n",
       "      <th>Pipeline exports to Europe (bcm)</th>\n",
       "      <td>34.4</td>\n",
       "      <td>38.5</td>\n",
       "      <td>33.3</td>\n",
       "      <td>29.1</td>\n",
       "      <td>29.8</td>\n",
       "      <td>38.7</td>\n",
       "      <td>37.2</td>\n",
       "      <td>37.3</td>\n",
       "      <td>26.5</td>\n",
       "      <td>25.2</td>\n",
       "      <td>37.2</td>\n",
       "    </tr>\n",
       "    <tr>\n",
       "      <th>Pipeline exports to the Middle East (bcm)</th>\n",
       "      <td>1.6</td>\n",
       "      <td>0.8</td>\n",
       "      <td>1.1</td>\n",
       "      <td>0.3</td>\n",
       "      <td>0.3</td>\n",
       "      <td>0.0</td>\n",
       "      <td>0.0</td>\n",
       "      <td>0.1</td>\n",
       "      <td>1.2</td>\n",
       "      <td>0.4</td>\n",
       "      <td>0.7</td>\n",
       "    </tr>\n",
       "  </tbody>\n",
       "</table>\n",
       "</div>"
      ],
      "text/plain": [
       "                                           2011  2012  2013  2014  2015  2016  \\\n",
       "LNG exports (bcm)                          56.4  54.2  47.0  49.5  48.5  46.2   \n",
       "Pipeline exports to Europe (bcm)           34.4  38.5  33.3  29.1  29.8  38.7   \n",
       "Pipeline exports to the Middle East (bcm)   1.6   0.8   1.1   0.3   0.3   0.0   \n",
       "\n",
       "                                           2017  2018  2019  2020  2021  \n",
       "LNG exports (bcm)                          55.7  53.5  61.6  56.0  58.5  \n",
       "Pipeline exports to Europe (bcm)           37.2  37.3  26.5  25.2  37.2  \n",
       "Pipeline exports to the Middle East (bcm)   0.0   0.1   1.2   0.4   0.7  "
      ]
     },
     "execution_count": 25,
     "metadata": {},
     "output_type": "execute_result"
    }
   ],
   "source": [
    "table3_df_clean"
   ]
  },
  {
   "cell_type": "code",
   "execution_count": 26,
   "id": "8d6744d9-a091-4444-a73b-7f621da08c9b",
   "metadata": {},
   "outputs": [],
   "source": [
    "table3_df_cumsum = table3_df_clean.cumsum()"
   ]
  },
  {
   "cell_type": "markdown",
   "id": "bc8cbe77-a268-4440-88e1-bce99395b710",
   "metadata": {},
   "source": [
    "# Fig 3 in report"
   ]
  },
  {
   "cell_type": "code",
   "execution_count": 27,
   "id": "8b089fd8-7dba-45f2-a814-93eec967acad",
   "metadata": {},
   "outputs": [
    {
     "data": {
      "image/png": "[encoded data removed]",
      "text/plain": [
       "<Figure size 325x250 with 1 Axes>"
      ]
     },
     "metadata": {},
     "output_type": "display_data"
    }
   ],
   "source": [
    "# fill up new capacities as they come online\n",
    "start_year = 2011\n",
    "end_year = 2021\n",
    "year_list = range(start_year, end_year+1, 1)\n",
    "\n",
    "font_size = 7\n",
    "fig = mp.figure(figsize=(3.25,2.5))\n",
    "#fig = mp.figure(figsize=(3.25,4))\n",
    "\n",
    "ax = fig.add_subplot(111)\n",
    "ax.set_xlim(start_year, end_year)\n",
    "ax.set_ylim(0,100)\n",
    "\n",
    "sel_cmap = matplotlib.cm.get_cmap('Oranges')#cm.get_cmap('magma')\n",
    "export_colors = [sel_cmap(i) for i in numpy.linspace(1,0.5,table3_df_clean.index.size)]\n",
    "index_list = ['LNG exports (bcm)',\n",
    "              'Pipeline exports to Europe (bcm)',\n",
    "              'Pipeline exports to the Middle East (bcm)']\n",
    "label_list = ['LNG exports',\n",
    "              'Pipeline exports\\nto Europe',\n",
    "              'Pipeline exports\\nto the Middle East']\n",
    "\n",
    "ax.fill_between(year_list, \n",
    "                0, \n",
    "                table3_df_cumsum.loc[index_list[0]],\n",
    "                color=export_colors[0], \n",
    "                label=label_list[0],\n",
    "                edgecolor='0.9',\n",
    "                linewidth=0.25)\n",
    "\n",
    "ax.fill_between(year_list, \n",
    "                table3_df_cumsum.loc[index_list[1]],\n",
    "                table3_df_cumsum.loc[index_list[2]],\n",
    "                color=export_colors[2], \n",
    "                label=label_list[2], linewidth=0)\n",
    "\n",
    "ax.fill_between(year_list, \n",
    "                table3_df_cumsum.loc[index_list[0]],\n",
    "                table3_df_cumsum.loc[index_list[1]],\n",
    "                color=export_colors[1], \n",
    "                label=label_list[1],\n",
    "                edgecolor='0.9',\n",
    "                linewidth=0.25)\n",
    "\n",
    "# ax.plot(year_list,\n",
    "#         table3_df_cumsum.loc[index_list[1]],\n",
    "#         color='1',\n",
    "#         lw=0.25)\n",
    "\n",
    "# ax.plot(year_list,\n",
    "#         table3_df_cumsum.loc[index_list[0]],\n",
    "#         color='1',\n",
    "#         lw=0.25)\n",
    "\n",
    "ax.tick_params(labelsize=font_size)\n",
    "ax.set_ylabel('bcm', size=font_size)\n",
    "ax.set_xlabel('year', size=font_size)\n",
    "\n",
    "ax.spines['right'].set_visible(False)\n",
    "ax.spines['top'].set_visible(False)\n",
    "\n",
    "ax_h, ax_l = ax.get_legend_handles_labels()\n",
    "outline_handles = [matplotlib.patches.Patch(facecolor=color, edgecolor='0.9', linewidth=0.5, label=label) for color, label in zip(export_colors, label_list)]\n",
    "ax.legend(#ax_h[::-1],\n",
    "          outline_handles[::-1],\n",
    "          ax_l[::-1],\n",
    "          fontsize=font_size, frameon=False, labelcolor='0.9',\n",
    "          handlelength=0.73, loc='lower left', bbox_to_anchor=(.01,0.01))\n",
    "\n",
    "ax.xaxis.set_major_locator(matplotlib.ticker.MaxNLocator(integer=True))\n",
    "ax.yaxis.set_minor_locator(matplotlib.ticker.AutoMinorLocator(2))\n",
    "\n",
    "ax.xaxis.set_ticks(year_list[0::2])\n",
    "ax.xaxis.set_minor_locator(matplotlib.ticker.AutoMinorLocator(2))\n",
    "\n",
    "mp.savefig('saved-figures/exports_timeseries-fig2.png', bbox_inches='tight', transparent=True, dpi=600)\n",
    "mp.savefig('saved-figures/exports_timeseries-fig2.pdf', bbox_inches='tight', transparent=True)\n",
    "mp.savefig('saved-figures/exports_timeseries-fig2.svg', bbox_inches='tight', transparent=True)"
   ]
  },
  {
   "cell_type": "markdown",
   "id": "f61c6e5d-5ca0-45fa-8c7e-36d18333d7a4",
   "metadata": {},
   "source": [
    "# plot table 14 (Fig 8 in report)"
   ]
  },
  {
   "cell_type": "code",
   "execution_count": 28,
   "id": "8d1e2ef5-29bc-43f2-aaef-8a2f13894083",
   "metadata": {},
   "outputs": [],
   "source": [
    "sel_cmap = matplotlib.cm.get_cmap('Oranges')\n",
    "costs_prop = sel_cmap(1.0)#tracker_operating\n",
    "costs_con = sel_cmap(0.75)#tracker_construction"
   ]
  },
  {
   "cell_type": "code",
   "execution_count": 29,
   "id": "60718f0e-c3ae-4ab8-bf4c-34014fafc65d",
   "metadata": {},
   "outputs": [
    {
     "data": {
      "image/png": "[encoded data removed]",
      "text/plain": [
       "<Figure size 325x400 with 1 Axes>"
      ]
     },
     "metadata": {},
     "output_type": "display_data"
    }
   ],
   "source": [
    "font_size = 7\n",
    "ytop = 100\n",
    "set_width=0.5\n",
    "\n",
    "use_this_df = table14_df.set_index('').drop('Total')\n",
    "labels_formatted = ['Gas\\nplants',\n",
    "                    'Pipelines',\n",
    "                    'LNG\\nimport\\nterminals',\n",
    "                    'LNG\\nexport\\nterminals']\n",
    "\n",
    "fig = mp.figure(figsize=(3.25,4))\n",
    "\n",
    "ax = fig.add_subplot(111)\n",
    "\n",
    "ax.bar(use_this_df.columns, use_this_df.loc['Construction'],\n",
    "       color=costs_prop, label='Construction', width=set_width, edgecolor='1', linewidth=0.1)\n",
    "ax.bar(use_this_df.columns, use_this_df.loc['Proposed'],\n",
    "       color=costs_con, label='Proposed',\n",
    "      bottom=use_this_df.loc['Construction'], width=set_width, edgecolor='1', linewidth=0.1, alpha=0.5)\n",
    "\n",
    "ax_l,ax_h = ax.get_legend_handles_labels()\n",
    "ax.legend(ax_h, fontsize=font_size, frameon=False, handlelength=0.75, bbox_to_anchor=(-0.05,1), loc='upper left')#, bbox_to_anchor=(0.64,0.5), loc='center')\n",
    "\n",
    "ax.spines['right'].set_visible(False)\n",
    "ax.spines['top'].set_visible(False)\n",
    "ax.spines['bottom'].set_visible(False)\n",
    "ax.spines['left'].set_position(('data', -.75))\n",
    "ax.tick_params(labelsize=font_size, bottom=False)\n",
    "ax.set_xticks([0,1,2,3])\n",
    "ax.set_xticklabels(labels_formatted, ha='center', va='top')\n",
    "ax.set_ylabel('US$ billion', size=font_size)\n",
    "\n",
    "ax.set_ylim(0, ytop)\n",
    "ax.yaxis.set_minor_locator(matplotlib.ticker.AutoMinorLocator(2))\n",
    "\n",
    "mp.tight_layout()\n",
    "# ax.set_title('regional import capacity', fontsize=font_size)\n",
    "\n",
    "mp.savefig('saved-figures/all-capex-fig10.png',\n",
    "          bbox_inches='tight', \n",
    "          transparent=True,\n",
    "          dpi=600)\n",
    "\n",
    "mp.savefig('saved-figures/all-capex-fig10.pdf',\n",
    "          bbox_inches='tight', \n",
    "          transparent=True)\n",
    "\n",
    "mp.savefig('saved-figures/all-capex-fig10.svg',\n",
    "          bbox_inches='tight', \n",
    "          transparent=True)"
   ]
  },
  {
   "cell_type": "code",
   "execution_count": 30,
   "id": "154701a1-68bd-4719-be06-53214530df87",
   "metadata": {},
   "outputs": [],
   "source": [
    "single_bar_order = ['Gas plants','Pipelines','LNG Export terminals', 'LNG Import terminals']"
   ]
  },
  {
   "cell_type": "code",
   "execution_count": 31,
   "id": "53f563ed-9f87-4b1e-8a8a-d53faa365151",
   "metadata": {},
   "outputs": [
    {
     "name": "stdout",
     "output_type": "stream",
     "text": [
      "0\n",
      "1\n",
      "2\n",
      "3\n",
      "4\n",
      "5\n",
      "6\n",
      "7\n"
     ]
    },
    {
     "data": {
      "image/png": "[encoded data removed]",
      "text/plain": [
       "<Figure size 325x700 with 1 Axes>"
      ]
     },
     "metadata": {},
     "output_type": "display_data"
    }
   ],
   "source": [
    "font_size = 7\n",
    "ytop = 250\n",
    "set_width = 0.1\n",
    "\n",
    "sel_cmap = matplotlib.cm.get_cmap('Oranges_r')\n",
    "use_this_df = table14_df.set_index('').drop('Total')\n",
    "labels_formatted = ['Gas plants',\n",
    "                    'Pipelines',\n",
    "                    'LNG import\\nterminals',\n",
    "                    'LNG export\\nterminals']\n",
    "\n",
    "fig = mp.figure(figsize=(3.25,7))\n",
    "\n",
    "ax = fig.add_subplot(111)\n",
    "\n",
    "for col_idx in range(4):\n",
    "    for row_idx in range(2):\n",
    "        print(col_idx*2+row_idx)\n",
    "        color_to_use = sel_cmap((col_idx*2+1+row_idx)/(use_this_df.size+5))\n",
    "        ax.bar(0, use_this_df.iloc[row_idx,col_idx],\n",
    "               color=color_to_use,  \n",
    "               bottom=use_this_df.values.transpose().flatten()[:col_idx*2+row_idx].sum(),\n",
    "               width=set_width, edgecolor='0.9', linewidth=0.25)\n",
    "        \n",
    "        label_text = labels_formatted[col_idx]+'\\n('+use_this_df.index[row_idx]+')\\n'+\\\n",
    "                    'US$ '+str(use_this_df.iloc[row_idx,col_idx])+' billion'\n",
    "        ax.text(s=label_text,\n",
    "                x=0.52*set_width,\n",
    "                y=use_this_df.values.transpose().flatten()[:col_idx*2+1+row_idx].sum()-1,\n",
    "                fontsize=font_size, ha='left', va='top', color=color_to_use)\n",
    "\n",
    "#ax_l,ax_h = ax.get_legend_handles_labels()\n",
    "#ax.legend(ax_h, fontsize=font_size, frameon=False, handlelength=0.75, loc=5)\n",
    "\n",
    "yaxis_color = '0.1'\n",
    "ax.spines['right'].set_visible(False)\n",
    "ax.spines['top'].set_visible(False)\n",
    "ax.spines['bottom'].set_visible(False)\n",
    "ax.spines['left'].set_position(('data', -0.75*set_width))\n",
    "\n",
    "ax.spines['left'].set_color(yaxis_color)\n",
    "#ax.spines['left'].set_linewidth(2)\n",
    "ax.yaxis.label.set_color(yaxis_color)\n",
    "ax.tick_params(labelsize=font_size, bottom=False)\n",
    "ax.tick_params(axis='y', which='both', colors=yaxis_color)\n",
    "ax.set_ylabel('US$ billion', size=font_size, color=yaxis_color)\n",
    "\n",
    "ax.xaxis.set_ticklabels([])\n",
    "ax.set_ylim(0, ytop)\n",
    "ax.yaxis.set_minor_locator(matplotlib.ticker.AutoMinorLocator(2))\n",
    "\n",
    "fig.tight_layout()\n",
    "# ax.set_title('regional import capacity', fontsize=font_size)\n",
    "\n",
    "mp.savefig('saved-figures/table14-alt.png',\n",
    "          bbox_inches='tight', \n",
    "          transparent=True,\n",
    "          dpi=600)\n",
    "\n",
    "mp.savefig('saved-figures/table14-alt.pdf',\n",
    "          bbox_inches='tight', \n",
    "          transparent=True)"
   ]
  },
  {
   "cell_type": "code",
   "execution_count": 32,
   "id": "7d09ace5-ea42-4389-ace2-c9e7538dc3f2",
   "metadata": {},
   "outputs": [
    {
     "data": {
      "image/png": "[encoded data removed]",
      "text/plain": [
       "<Figure size 650x500 with 1 Axes>"
      ]
     },
     "metadata": {},
     "output_type": "display_data"
    }
   ],
   "source": [
    "fig = mp.figure(figsize=(6.5,5))\n",
    "ax = fig.add_subplot(111)\n",
    "\n",
    "labels = [j[0]+'\\nUS$'+str(j[1])+' billion' for j in \n",
    "          list(zip([i[0]+'\\n('+i[1]+')' for i in list(itertools.product(use_this_df.columns.tolist(), use_this_df.index.tolist()))],\n",
    "                   use_this_df.values.transpose().flatten()\n",
    "                  )\n",
    "              )\n",
    "         ]\n",
    "squarify.plot(sizes=use_this_df.values.flatten(),\n",
    "              color=seaborn.color_palette(\"magma\", len(use_this_df.values.flatten())),\n",
    "              ax=ax, \n",
    "              pad=0.05,\n",
    "              label=labels,\n",
    "              text_kwargs={'fontsize':font_size,'color':'0.9'})\n",
    "\n",
    "ax.axis('off')\n",
    "\n",
    "mp.savefig('saved-figures/table14-alt2.png',\n",
    "          bbox_inches='tight', \n",
    "          transparent=True,\n",
    "          dpi=600)\n",
    "\n",
    "mp.savefig('saved-figures/table14-alt2.pdf',\n",
    "          bbox_inches='tight', \n",
    "          transparent=True)"
   ]
  },
  {
   "cell_type": "markdown",
   "id": "10bcd95b-8eb8-4d9e-8ed4-465032db1a7e",
   "metadata": {},
   "source": [
    "# gas plants figures"
   ]
  },
  {
   "cell_type": "code",
   "execution_count": 33,
   "id": "f284ca44-448d-4872-af8d-7593419154f9",
   "metadata": {},
   "outputs": [],
   "source": [
    "table6_df = spreadsheet.worksheet('title', 'FINAL - Table 6 (orig - Table 12)').get_as_df()"
   ]
  },
  {
   "cell_type": "code",
   "execution_count": 34,
   "id": "6e332610-0c2a-44a5-b08c-68f59f16cfcc",
   "metadata": {},
   "outputs": [
    {
     "data": {
      "text/html": [
       "<div>\n",
       "<style scoped>\n",
       "    .dataframe tbody tr th:only-of-type {\n",
       "        vertical-align: middle;\n",
       "    }\n",
       "\n",
       "    .dataframe tbody tr th {\n",
       "        vertical-align: top;\n",
       "    }\n",
       "\n",
       "    .dataframe thead th {\n",
       "        text-align: right;\n",
       "    }\n",
       "</style>\n",
       "<table border=\"1\" class=\"dataframe\">\n",
       "  <thead>\n",
       "    <tr style=\"text-align: right;\">\n",
       "      <th></th>\n",
       "      <th>Gas plants</th>\n",
       "      <th>Pipelines</th>\n",
       "      <th>LNG Import terminals</th>\n",
       "      <th>LNG Export terminals</th>\n",
       "    </tr>\n",
       "    <tr>\n",
       "      <th></th>\n",
       "      <th></th>\n",
       "      <th></th>\n",
       "      <th></th>\n",
       "      <th></th>\n",
       "    </tr>\n",
       "  </thead>\n",
       "  <tbody>\n",
       "    <tr>\n",
       "      <th>Proposed</th>\n",
       "      <td>44.5</td>\n",
       "      <td>84.5</td>\n",
       "      <td>7.7</td>\n",
       "      <td>87.1</td>\n",
       "    </tr>\n",
       "    <tr>\n",
       "      <th>Construction</th>\n",
       "      <td>8.3</td>\n",
       "      <td>4.3</td>\n",
       "      <td>0.4</td>\n",
       "      <td>8.0</td>\n",
       "    </tr>\n",
       "  </tbody>\n",
       "</table>\n",
       "</div>"
      ],
      "text/plain": [
       "              Gas plants  Pipelines  LNG Import terminals  \\\n",
       "                                                            \n",
       "Proposed            44.5       84.5                   7.7   \n",
       "Construction         8.3        4.3                   0.4   \n",
       "\n",
       "              LNG Export terminals  \n",
       "                                    \n",
       "Proposed                      87.1  \n",
       "Construction                   8.0  "
      ]
     },
     "execution_count": 34,
     "metadata": {},
     "output_type": "execute_result"
    }
   ],
   "source": [
    "use_this_df"
   ]
  },
  {
   "cell_type": "code",
   "execution_count": 35,
   "id": "db331a45-a6c1-4880-b1fd-9d7120035b07",
   "metadata": {},
   "outputs": [],
   "source": [
    "gasplants_con = sel_cmap(0)\n",
    "gasplants_precon = sel_cmap(0.25)\n",
    "gasplants_ann = sel_cmap(0.5)"
   ]
  },
  {
   "cell_type": "code",
   "execution_count": 39,
   "id": "8d0aaa09-dcb8-45ae-8b4b-4add19d1ed1e",
   "metadata": {},
   "outputs": [
    {
     "data": {
      "image/png": "[encoded data removed]",
      "text/plain": [
       "<Figure size 325x150 with 1 Axes>"
      ]
     },
     "metadata": {},
     "output_type": "display_data"
    }
   ],
   "source": [
    "font_size = 7\n",
    "set_width = 0.5\n",
    "use_this_df = table6_df.set_index('Country').drop('Total').replace('',0).sort_values('In Development (Announced + Pre-construction + Construction)')\n",
    "rest_df = use_this_df.loc[['Rest of Africa']]\n",
    "use_this_df = pandas.concat([rest_df, use_this_df.drop('Rest of Africa')])\n",
    "ytop = use_this_df.index.size\n",
    "\n",
    "fig = mp.figure(figsize=(3.25,1.5))\n",
    "ax = fig.add_subplot(111)\n",
    "\n",
    "ax.barh(range(use_this_df.index.size), use_this_df['Construction'],\n",
    "       color=gasplants_con, label='Construction', height=set_width)\n",
    "\n",
    "ax.barh(range(use_this_df.index.size), use_this_df['Pre-construction'],\n",
    "       color=gasplants_precon, label='Pre-construction',\n",
    "      left=use_this_df['Construction'], height=set_width, alpha=0.5)\n",
    "ax.barh(range(use_this_df.index.size), use_this_df['Announced'],\n",
    "       color=gasplants_ann, label='Announced',\n",
    "      left=use_this_df[['Construction','Pre-construction']].sum(axis=1), height=set_width, alpha=0.333)\n",
    "\n",
    "ax_l,ax_h = ax.get_legend_handles_labels()\n",
    "ax.legend(ax_h, fontsize=font_size, frameon=False, handlelength=0.75, loc=0)\n",
    "\n",
    "ax.spines['right'].set_visible(False)\n",
    "ax.spines['top'].set_visible(False)\n",
    "ax.spines['left'].set_visible(False)\n",
    "ax.tick_params(labelsize=font_size,\n",
    "              left=False)\n",
    "ax.set_xlabel('MW', size=font_size)\n",
    "\n",
    "ax.yaxis.set_ticks(range(use_this_df.index.size))\n",
    "ax.yaxis.set_ticklabels(use_this_df.index, size=font_size, va='center')\n",
    "#ax.set_ylim(ybot,ytop)\n",
    "ax.set_xlim(0, 25000)\n",
    "#ax.yaxis.set_minor_locator(matplotlib.ticker.AutoMinorLocator(2))\n",
    "\n",
    "# ax.set_title('Regional Export Capacity', fontsize=font_size)\n",
    "\n",
    "mp.savefig('saved-figures/africa-gas-plants-MW-in-dev-fig8.png',\n",
    "          bbox_inches='tight', \n",
    "          transparent=True,\n",
    "          dpi=600)\n",
    "\n",
    "mp.savefig('saved-figures/africa-gas-plants-MW-in-dev-fig8.pdf',\n",
    "          bbox_inches='tight', \n",
    "          transparent=True)\n",
    "\n",
    "mp.savefig('saved-figures/africa-gas-plants-MW-in-dev-fig8.svg',\n",
    "          bbox_inches='tight', \n",
    "          transparent=True)"
   ]
  },
  {
   "cell_type": "code",
   "execution_count": 40,
   "id": "f1bd0d7d-7884-429d-ad60-60ebea33ba95",
   "metadata": {},
   "outputs": [],
   "source": [
    "table7_df = spreadsheet.worksheet('title', 'FINAL - Table 7 (orig - Table 13)').get_as_df()"
   ]
  },
  {
   "cell_type": "code",
   "execution_count": 41,
   "id": "6bef4938-6130-4656-9f80-10918b7565c8",
   "metadata": {},
   "outputs": [
    {
     "data": {
      "image/png": "[encoded data removed]",
      "text/plain": [
       "<Figure size 325x150 with 1 Axes>"
      ]
     },
     "metadata": {},
     "output_type": "display_data"
    }
   ],
   "source": [
    "font_size = 7\n",
    "set_width = 0.5\n",
    "use_this_df = table7_df.set_index('Country').drop('Total').sort_values('Proposed (US$ billion)')\n",
    "rest_df = use_this_df.loc[['Rest of Africa']]\n",
    "use_this_df = pandas.concat([rest_df, use_this_df.drop('Rest of Africa')])\n",
    "ytop = use_this_df.index.size\n",
    "\n",
    "fig = mp.figure(figsize=(3.25,1.5))\n",
    "ax = fig.add_subplot(111)\n",
    "\n",
    "ax.barh(range(use_this_df.index.size), use_this_df['Construction (US$ billion)'],\n",
    "       color=costs_prop, label='Construction', height=set_width)\n",
    "\n",
    "ax.barh(range(use_this_df.index.size), use_this_df['Proposed (US$ billion)'],\n",
    "       color=costs_con, label='Proposed',\n",
    "      left=use_this_df['Construction (US$ billion)'], height=set_width, alpha=0.5)\n",
    "\n",
    "ax_l,ax_h = ax.get_legend_handles_labels()\n",
    "ax.legend(ax_h, fontsize=font_size, frameon=False, handlelength=0.75, loc=0)\n",
    "\n",
    "ax.spines['right'].set_visible(False)\n",
    "ax.spines['top'].set_visible(False)\n",
    "ax.spines['left'].set_visible(False)\n",
    "ax.tick_params(labelsize=font_size,\n",
    "              left=False)\n",
    "ax.set_xlabel('US$ billion', size=font_size)\n",
    "\n",
    "ax.yaxis.set_ticks(range(use_this_df.index.size))\n",
    "ax.yaxis.set_ticklabels(use_this_df.index, size=font_size, va='center')\n",
    "#ax.set_ylim(ybot,ytop)\n",
    "#ax.set_xlim(0, 25000)\n",
    "#ax.yaxis.set_minor_locator(matplotlib.ticker.AutoMinorLocator(2))\n",
    "\n",
    "# ax.set_title('Regional Export Capacity', fontsize=font_size)\n",
    "\n",
    "mp.savefig('saved-figures/africa-gas-plants-capex-in-dev-fig9.png',\n",
    "          bbox_inches='tight', \n",
    "          transparent=True,\n",
    "          dpi=600)\n",
    "\n",
    "mp.savefig('saved-figures/africa-gas-plants-capex-in-dev-fig9.pdf',\n",
    "          bbox_inches='tight', \n",
    "          transparent=True)\n",
    "\n",
    "mp.savefig('saved-figures/africa-gas-plants-capex-in-dev-fig9.svg',\n",
    "          bbox_inches='tight', \n",
    "          transparent=True)"
   ]
  },
  {
   "cell_type": "code",
   "execution_count": null,
   "id": "e9e1f526-a476-4b47-8dcb-8a55c5b2db9d",
   "metadata": {},
   "outputs": [],
   "source": []
  }
 ],
 "metadata": {
  "kernelspec": {
   "display_name": "gem",
   "language": "python",
   "name": "gem"
  },
  "language_info": {
   "codemirror_mode": {
    "name": "ipython",
    "version": 3
   },
   "file_extension": ".py",
   "mimetype": "text/x-python",
   "name": "python",
   "nbconvert_exporter": "python",
   "pygments_lexer": "ipython3",
   "version": "3.9.13"
  }
 },
 "nbformat": 4,
 "nbformat_minor": 5
}
