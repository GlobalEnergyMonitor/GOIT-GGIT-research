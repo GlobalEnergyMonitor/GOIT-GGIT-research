{
 "cells": [
  {
   "cell_type": "code",
   "execution_count": 11,
   "id": "24befb0b",
   "metadata": {},
   "outputs": [],
   "source": [
    "import pandas\n",
    "pandas.options.display.max_colwidth = None #set_option('max_colwidth', None)\n",
    "pandas.options.display.max_columns = 20#None#(100)#set_option('max_columns', None)\n",
    "\n",
    "import numpy\n",
    "import pygsheets\n",
    "import datetime\n",
    "import scipy\n",
    "import sklearn.linear_model\n",
    "import sklearn.cluster\n",
    "import re\n",
    "\n",
    "import matplotlib.pyplot as mp"
   ]
  },
  {
   "cell_type": "markdown",
   "id": "c8c5ca7a",
   "metadata": {},
   "source": [
    "# import pipelines dataset"
   ]
  },
  {
   "cell_type": "code",
   "execution_count": 12,
   "id": "a4185877",
   "metadata": {},
   "outputs": [],
   "source": [
    "credentials_directory = '/Users/baird/Dropbox/_google-api/'\n",
    "gc = pygsheets.authorize(service_account_env_var='GDRIVE_API_CREDENTIALS')\n",
    "spreadsheet = gc.open_by_key('1foPLE6K-uqFlaYgLPAUxzeXfDO5wOOqE7tibNHeqTek')\n",
    "\n",
    "gas_pipes = spreadsheet.worksheet('title', 'Gas pipelines').get_as_df(start='A2')\n",
    "oil_pipes = spreadsheet.worksheet('title', 'Oil/NGL pipelines').get_as_df(start='A2')\n",
    "\n",
    "gas_pipes = gas_pipes.drop('WKTFormat', axis=1) # delete WKTFormat column\n",
    "oil_pipes = oil_pipes.drop('WKTFormat', axis=1)\n",
    "pipes_df_orig = gas_pipes.copy()\n",
    "\n",
    "# remove empty cells for pipes, owners\n",
    "pipes_df_orig = pipes_df_orig[pipes_df_orig['PipelineName']!='']\n",
    "pipes_df_orig = pipes_df_orig.loc[pipes_df_orig.Fuel.isin(['Gas','Hydrogen'])]\n",
    "\n",
    "#get other relevant sheets\n",
    "country_ratios_df = spreadsheet.worksheet('title', 'Country ratios by pipeline').get_as_df()"
   ]
  },
  {
   "cell_type": "code",
   "execution_count": 13,
   "id": "40a2ae63-5967-4184-8c6e-045bfe985a57",
   "metadata": {},
   "outputs": [],
   "source": [
    "country_ratios_df.replace('--', numpy.nan, inplace=True)\n",
    "pipes_df_orig.replace('--',numpy.nan,inplace=True)\n",
    "pipes_df_orig['ProposalYear'] = pipes_df_orig['ProposalYear'].replace('',numpy.nan)\n",
    "region_df_orig = spreadsheet.worksheet('title', 'Region dictionary').get_as_df(start='A2')"
   ]
  },
  {
   "cell_type": "code",
   "execution_count": 14,
   "id": "c68dd677",
   "metadata": {},
   "outputs": [],
   "source": [
    "region_df_eu = region_df_orig.copy()[region_df_orig['EuropeanUnion']=='Yes']\n",
    "region_df_egt = region_df_orig.copy()[region_df_orig['EuroGasTracker']=='Yes']\n",
    "region_df_europe = region_df_orig.copy()[region_df_orig['Region']=='Europe']\n",
    "region_df_eu_uk = region_df_orig.copy()[(region_df_orig['Region']=='Europe') | \n",
    "                                          (region_df_orig['Country'].isin(['United Kingdom','Israel']))]"
   ]
  },
  {
   "cell_type": "code",
   "execution_count": 15,
   "id": "be0e261d",
   "metadata": {},
   "outputs": [],
   "source": [
    "region_df_touse = region_df_eu.copy()"
   ]
  },
  {
   "cell_type": "code",
   "execution_count": 16,
   "id": "30be97ec-8dec-4f8f-b011-33b000e225c4",
   "metadata": {},
   "outputs": [],
   "source": [
    "# subset the pipelines to use\n",
    "# can't use pipes_df_touse... because some of the pipelines get eliminated if they're not in the same country...\n",
    "pipes_df_touse = pipes_df_orig.loc[\n",
    "    ~pipes_df_orig['Countries'].apply(\n",
    "        lambda x: set(x.split(', ')).isdisjoint(set(region_df_touse['Country'].tolist()))\n",
    "    )]\n",
    "\n",
    "pipes_df_touse_h2 = pipes_df_touse.loc[(pipes_df_touse.Fuel=='Hydrogen')|\n",
    "                                       (pipes_df_touse.H2Status!='')]\n",
    "pipes_df_touse = pipes_df_touse.loc[pipes_df_touse.Fuel=='Gas']\n",
    "pipes_df_orig_gas = pipes_df_orig.loc[(pipes_df_orig.Fuel=='Gas')]\n",
    "country_ratios_df_touse = country_ratios_df.loc[(country_ratios_df.Country.isin(region_df_touse['Country'].tolist()))&\n",
    "                                                (country_ratios_df.Fuel=='Gas')]"
   ]
  },
  {
   "cell_type": "code",
   "execution_count": 17,
   "id": "9e19e936-6347-4a87-b1c3-41ef21977d75",
   "metadata": {},
   "outputs": [],
   "source": [
    "western_eu = ['Ireland', 'France', 'Belgium', 'Netherlands', \n",
    "              'Luxembourg', 'Germany', 'Austria'] \n",
    "\n",
    "eastern_eu = ['Estonia', 'Latvia', 'Lithuania', 'Poland', 'Czech Republic', \n",
    "              'Slovakia', 'Slovenia', 'Croatia', 'Hungary', 'Romania', 'Bulgaria'] \n",
    "\n",
    "southern_eu = ['Portugal', 'Spain', 'Italy', \n",
    "               'Malta', 'Greece', 'Cyprus']\n",
    "\n",
    "northern_eu = ['Sweden', 'Finland', 'Denmark']"
   ]
  },
  {
   "cell_type": "markdown",
   "id": "91b920c8-c619-4771-ab09-fc2daa7c630d",
   "metadata": {},
   "source": [
    "# cost estimates for EU 27 member states"
   ]
  },
  {
   "cell_type": "markdown",
   "id": "6518849c-6323-4114-86b8-c5ce979cfa3f",
   "metadata": {},
   "source": [
    "## outliers and special cases"
   ]
  },
  {
   "cell_type": "raw",
   "id": "899a8354-bb0c-4b9c-8e9a-739814c273de",
   "metadata": {},
   "source": [
    "outliers_projectids = ['P3109', ]\n",
    "\n",
    "# P3109 = Valchi Dol–Preselka Pipeline replacement project, not a good new pipeline cost estimate"
   ]
  },
  {
   "cell_type": "markdown",
   "id": "c154cb03-730f-4fb3-b931-a0b803e224ed",
   "metadata": {},
   "source": [
    "### correct Poland-Ukraine Interconnector"
   ]
  },
  {
   "cell_type": "code",
   "execution_count": 18,
   "id": "d455f936-897f-4383-b8f8-025ed5176c04",
   "metadata": {},
   "outputs": [],
   "source": [
    "# https://www.gem.wiki/Poland-Ukraine_Interconnector_Gas_Pipeline\n",
    "# our country_ratios code calculates this is half in each country, but it's not\n",
    "country_ratios_df_touse.loc[(country_ratios_df_touse.PipelineName=='Poland-Ukraine Interconnector Gas Pipeline')&\n",
    "                      (country_ratios_df_touse.Country=='Poland'),'MergedKmByCountry'] = 1.5\n",
    "\n",
    "country_ratios_df_touse.loc[(country_ratios_df_touse.PipelineName=='Poland-Ukraine Interconnector Gas Pipeline')&\n",
    "                      (country_ratios_df_touse.Country=='Ukraine'),'MergedKmByCountry'] = 99.0"
   ]
  },
  {
   "cell_type": "markdown",
   "id": "4c7a405e-151b-4064-8748-83851bf0770b",
   "metadata": {},
   "source": [
    "### correct Gas Interconnection Poland-Lithuania (our fractional calc doesn't get it right)"
   ]
  },
  {
   "cell_type": "code",
   "execution_count": 19,
   "id": "f617eb47-28a5-4f7a-a57b-2dce0816ef22",
   "metadata": {},
   "outputs": [],
   "source": [
    "country_ratios_df_touse.loc[(country_ratios_df_touse.PipelineName=='Gas Interconnection Poland-Lithuania')&\n",
    "                      (country_ratios_df_touse.Country=='Poland'),'MergedKmByCountry'] = 343.0\n",
    "\n",
    "country_ratios_df_touse.loc[(country_ratios_df_touse.PipelineName=='Gas Interconnection Poland-Lithuania')&\n",
    "                      (country_ratios_df_touse.Country=='Lithuania'),'MergedKmByCountry'] = 165.0"
   ]
  },
  {
   "cell_type": "markdown",
   "id": "dd6dde86-be18-4e2d-b5fc-d9c82193b328",
   "metadata": {},
   "source": [
    "## exploring alternative cost calculations\n",
    "\n",
    "* if a given pipeline is super long and costs more than a short one per km, then should it be weighed more heavily in calculating the EU-average pipeline cost? the idea is that longer pipelines probably cost a significantly larger amount to build... look at the plot of that first perhaps\n",
    "\n",
    "pipeline cost vs length?"
   ]
  },
  {
   "cell_type": "code",
   "execution_count": 20,
   "id": "af6493fd-ec02-4958-b998-40e36f503415",
   "metadata": {},
   "outputs": [
    {
     "data": {
      "image/png": "[encoded data removed]",
      "text/plain": [
       "<Figure size 640x480 with 1 Axes>"
      ]
     },
     "metadata": {},
     "output_type": "display_data"
    }
   ],
   "source": [
    "ax = pipes_df_orig.plot.scatter('LengthKnownKm','CostEuro')"
   ]
  },
  {
   "cell_type": "markdown",
   "id": "49afc92c-c9c9-4f3f-b0c2-2610af5bd39d",
   "metadata": {},
   "source": [
    "### regression estimate: given length, estimate cost"
   ]
  },
  {
   "cell_type": "code",
   "execution_count": 21,
   "id": "69996780-4035-4bfb-a6ed-6402ab3b896e",
   "metadata": {},
   "outputs": [],
   "source": [
    "pipes_df_toregress = pipes_df_touse.loc[(~pipes_df_touse.LengthKnownKm.isnull())&\n",
    "                                       (~pipes_df_touse.CostEuro.isnull())&\n",
    "                                       (pipes_df_touse.LengthKnownKm>0)]\n",
    "\n",
    "# calculate projects with same name/cost, drop the first of the same pipeline names...\n",
    "same_name_and_cost = pipes_df_toregress.loc[(pipes_df_toregress.duplicated('CostEuroPerKm'))&\n",
    "                       (pipes_df_toregress.duplicated('PipelineName'))].drop_duplicates('PipelineName', keep='first')\n",
    "pipes_df_toregress_dropdupes = pipes_df_toregress.drop(same_name_and_cost.index)\n",
    "\n",
    "# # look at the full global dataset\n",
    "# pipes_df_toregress = pipes_df_orig.loc[(~pipes_df_orig.LengthKnownKm.isnull())&\n",
    "#                                         (~pipes_df_orig.CostEuro.isnull())&\n",
    "#                                         (pipes_df_orig.LengthKnownKm!=0)]#&\n",
    "#                                         #(pipes_df_orig.LengthKnownKm>100)&\n",
    "#                                         #(pipes_df_orig.LengthKnownKm<1000)]"
   ]
  },
  {
   "cell_type": "markdown",
   "id": "64f34a1a-32d8-46d0-a798-5ee3a45ed7df",
   "metadata": {},
   "source": [
    "### gentle cluster analysis"
   ]
  },
  {
   "cell_type": "code",
   "execution_count": 22,
   "id": "3080edd3-cedd-4e19-8ffa-1b4933fb708e",
   "metadata": {},
   "outputs": [],
   "source": [
    "num_clusters = 2\n",
    "kmeans_cluster = sklearn.cluster.KMeans(n_clusters=num_clusters, \n",
    "                                        init='random', \n",
    "                                        n_init=10, \n",
    "                                        max_iter=300, \n",
    "                                        tol=1e-4,\n",
    "                                       random_state=42)\n",
    "\n",
    "km_fit = kmeans_cluster.fit_predict(X=pipes_df_toregress_dropdupes.LengthKnownKm.to_numpy().reshape(-1,1),\n",
    "                   y=pipes_df_toregress_dropdupes.CostEuro.to_numpy().reshape(-1,1))"
   ]
  },
  {
   "cell_type": "code",
   "execution_count": 23,
   "id": "89b10c37-6bf0-487f-aafa-b2b312212042",
   "metadata": {},
   "outputs": [
    {
     "data": {
      "image/png": "[encoded data removed]",
      "text/plain": [
       "<Figure size 640x480 with 1 Axes>"
      ]
     },
     "metadata": {},
     "output_type": "display_data"
    }
   ],
   "source": [
    "colors=['darkred','orange','green','blue','purple']\n",
    "\n",
    "for i in range(num_clusters):\n",
    "    mp.scatter(pipes_df_toregress_dropdupes.LengthKnownKm.to_numpy().reshape(-1,1)[km_fit == i],\n",
    "               pipes_df_toregress_dropdupes.CostEuro.to_numpy().reshape(-1,1)[km_fit == i],\n",
    "               edgecolor=colors[i], color='None')\n",
    "\n",
    "#mp.xlim(0,1000)\n",
    "#mp.ylim(0,0.5e10)\n",
    "# mp.scatter(pipes_df_toregress.LengthKnownKm.to_numpy().reshape(-1,1)[km_fit == 2],\n",
    "#            pipes_df_toregress.CostEuro.to_numpy().reshape(-1,1)[km_fit == 2],\n",
    "#            color='slateblue', s=10)"
   ]
  },
  {
   "cell_type": "code",
   "execution_count": 24,
   "id": "93df749e-92b8-4479-9917-260d20ee5427",
   "metadata": {},
   "outputs": [
    {
     "name": "stderr",
     "output_type": "stream",
     "text": [
      "/Users/baird/mambaforge/envs/gem/lib/python3.11/site-packages/sklearn/utils/validation.py:1143: DataConversionWarning: A column-vector y was passed when a 1d array was expected. Please change the shape of y to (n_samples, ), for example using ravel().\n",
      "  y = column_or_1d(y, warn=True)\n"
     ]
    }
   ],
   "source": [
    "ts_estimator = sklearn.linear_model.TheilSenRegressor(random_state=42, fit_intercept=False)\n",
    "ts_estimator.fit(X=pipes_df_toregress_dropdupes.LengthKnownKm.to_numpy().reshape(-1,1),\n",
    "                 y=pipes_df_toregress_dropdupes.CostEuro.to_numpy().reshape(-1,1))\n",
    "\n",
    "r_estimator = sklearn.linear_model.RANSACRegressor(random_state=42,\n",
    "                                                   estimator=sklearn.linear_model.LinearRegression(fit_intercept=False))\n",
    "r_estimator.fit(X=pipes_df_toregress_dropdupes.LengthKnownKm.to_numpy().reshape(-1,1),\n",
    "                y=pipes_df_toregress_dropdupes.CostEuro.to_numpy().reshape(-1,1))\n",
    "\n",
    "ols_estimator = sklearn.linear_model.LinearRegression(fit_intercept=False)\n",
    "ols_estimator.fit(X=pipes_df_toregress_dropdupes.LengthKnownKm.to_numpy().reshape(-1,1),\n",
    "                  y=pipes_df_toregress_dropdupes.CostEuro.to_numpy().reshape(-1,1))\n",
    "\n",
    "ts_slope, ts_intercept, ts_low_slope, ts_high_slope = scipy.stats.mstats.theilslopes(y=pipes_df_toregress_dropdupes.CostEuro.tolist(), \n",
    "                                                                                     x=pipes_df_toregress_dropdupes.LengthKnownKm.tolist(),\n",
    "                                                                                     alpha=0.1, )\n",
    "\n",
    "s_slope, s_intercept = scipy.stats.mstats.siegelslopes(y=pipes_df_toregress_dropdupes.CostEuro.tolist(), \n",
    "                                                       x=pipes_df_toregress_dropdupes.LengthKnownKm.tolist())"
   ]
  },
  {
   "cell_type": "code",
   "execution_count": 25,
   "id": "50f9c223-b007-46b5-8ede-308b61148c9b",
   "metadata": {},
   "outputs": [
    {
     "name": "stdout",
     "output_type": "stream",
     "text": [
      "[[4.01993203]] OLS\n",
      "[1.21497253] TS\n",
      "[[1.13243081]] R\n",
      "1.9555555555555555 scipy TS slope\n",
      "2.0004776767976344 straight-up mean\n"
     ]
    },
    {
     "data": {
      "image/png": "[encoded data removed]",
      "text/plain": [
       "<Figure size 640x480 with 1 Axes>"
      ]
     },
     "metadata": {},
     "output_type": "display_data"
    }
   ],
   "source": [
    "ax = pipes_df_toregress_dropdupes.plot.scatter('LengthKnownKm','CostEuro')\n",
    "\n",
    "xmin, xmax = ax.get_xlim()\n",
    "ymin, ymax = ax.get_ylim()\n",
    "\n",
    "#ax.set_xlim(0,200)\n",
    "#ax.set_ylim(0,0.4e9)\n",
    "xvals = numpy.linspace(xmin,xmax,1000)\n",
    "\n",
    "ts_pred = ts_estimator.predict(xvals.reshape(-1,1))\n",
    "r_pred = r_estimator.predict(xvals.reshape(-1,1))\n",
    "ols_pred = ols_estimator.predict(xvals.reshape(-1,1))\n",
    "\n",
    "ax.plot(xvals, ts_slope*xvals+ts_intercept, label = 'scipy Theil-Sen regression', c='red')\n",
    "ax.plot(xvals, ts_low_slope*xvals+ts_intercept, label='scipy conf. interval', c='red', ls=':')\n",
    "ax.plot(xvals, ts_high_slope*xvals+ts_intercept, c='red', ls=':')\n",
    "\n",
    "ax.plot(xvals, ts_pred, label='scikit-learn Theil-Sen', c='green')\n",
    "ax.plot(xvals, r_pred, label='scikit-learn RANSAC', c='lightgreen')\n",
    "ax.plot(xvals, ols_pred, label='scikit-learn OLS', c='gray')\n",
    "\n",
    "ax.legend()\n",
    "\n",
    "print(ols_estimator.coef_/1e6, \"OLS\")\n",
    "print(ts_estimator.coef_/1e6, \"TS\")\n",
    "print(r_estimator.estimator_.coef_/1e6, \"R\")\n",
    "print(ts_slope/1e6, \"scipy TS slope\")\n",
    "print(pipes_df_toregress_dropdupes.CostEuroPerKm.mean()/1e6, \"straight-up mean\")"
   ]
  },
  {
   "cell_type": "markdown",
   "id": "14ebcbc6-bf2e-4adc-8b1c-ec673d139015",
   "metadata": {},
   "source": [
    "## cost decision!\n",
    "\n",
    "I'm going to use the full linear regression slope and the drop-duplicates average"
   ]
  },
  {
   "cell_type": "markdown",
   "id": "93e4ea79-784a-48c3-b23b-ab8a8b4ddb19",
   "metadata": {},
   "source": [
    "### now use these country-specific costs as multipliers on within-country kilometers\n",
    "\n",
    "LARGER MEAN"
   ]
  },
  {
   "cell_type": "code",
   "execution_count": 26,
   "id": "91e91c5b-09e7-4a91-9c4b-e08b62ebdd21",
   "metadata": {},
   "outputs": [
    {
     "data": {
      "text/plain": [
       "4.019932032583462"
      ]
     },
     "execution_count": 26,
     "metadata": {},
     "output_type": "execute_result"
    }
   ],
   "source": [
    "ols_estimator.coef_[0][0]/1e6"
   ]
  },
  {
   "cell_type": "code",
   "execution_count": 27,
   "id": "56510794-e558-4a8e-9242-d1b79ca1e606",
   "metadata": {
    "scrolled": true,
    "tags": []
   },
   "outputs": [
    {
     "name": "stderr",
     "output_type": "stream",
     "text": [
      "/var/folders/fl/t07mc8053p33mn6mdmvp45580000gn/T/ipykernel_1725/2322650868.py:3: SettingWithCopyWarning: \n",
      "A value is trying to be set on a copy of a slice from a DataFrame.\n",
      "Try using .loc[row_indexer,col_indexer] = value instead\n",
      "\n",
      "See the caveats in the documentation: https://pandas.pydata.org/pandas-docs/stable/user_guide/indexing.html#returning-a-view-versus-a-copy\n",
      "  country_ratios_df_touse['TotalEstCostEuroMillionsHigh'] = numpy.nan\n"
     ]
    }
   ],
   "source": [
    "mean_cost_per_km = ols_estimator.coef_[0][0]/1e6\n",
    "\n",
    "country_ratios_df_touse['TotalEstCostEuroMillionsHigh'] = numpy.nan\n",
    "\n",
    "for idx,row in country_ratios_df_touse.iterrows():\n",
    "    country_ratios_df_touse.loc[idx,'TotalEstCostEuroMillionsHigh'] = row['MergedKmByCountry'] * mean_cost_per_km\n",
    "\n",
    "# now replace the ones that we have exact numbers for...\n",
    "costs_exist_TF = ~country_ratios_df_touse['CostEuroPerKm'].isna()\n",
    "country_ratios_df_touse.loc[costs_exist_TF,'TotalEstCostEuroMillionsHigh'] = \\\n",
    "    country_ratios_df_touse[costs_exist_TF]['CostEuroPerKm']/1e6 * \\\n",
    "    country_ratios_df_touse[costs_exist_TF]['MergedKmByCountry']"
   ]
  },
  {
   "cell_type": "markdown",
   "id": "7ac831cd-224a-40b3-8e30-40f22fa5377b",
   "metadata": {},
   "source": [
    "SMALLER MEAN"
   ]
  },
  {
   "cell_type": "code",
   "execution_count": 28,
   "id": "6a0d1739-6fff-4eb0-92eb-25e4fb53536e",
   "metadata": {},
   "outputs": [
    {
     "data": {
      "text/plain": [
       "2.0004776767976344"
      ]
     },
     "execution_count": 28,
     "metadata": {},
     "output_type": "execute_result"
    }
   ],
   "source": [
    "pipes_df_toregress_dropdupes.CostEuroPerKm.mean()/1e6"
   ]
  },
  {
   "cell_type": "code",
   "execution_count": 29,
   "id": "8c8e1bf8-0015-4a98-86ba-bb680eec4835",
   "metadata": {},
   "outputs": [
    {
     "name": "stderr",
     "output_type": "stream",
     "text": [
      "/var/folders/fl/t07mc8053p33mn6mdmvp45580000gn/T/ipykernel_1725/275472991.py:3: SettingWithCopyWarning: \n",
      "A value is trying to be set on a copy of a slice from a DataFrame.\n",
      "Try using .loc[row_indexer,col_indexer] = value instead\n",
      "\n",
      "See the caveats in the documentation: https://pandas.pydata.org/pandas-docs/stable/user_guide/indexing.html#returning-a-view-versus-a-copy\n",
      "  country_ratios_df_touse['TotalEstCostEuroMillionsLow'] = numpy.nan\n"
     ]
    }
   ],
   "source": [
    "mean_cost_per_km = pipes_df_toregress_dropdupes.CostEuroPerKm.mean()/1e6\n",
    "\n",
    "country_ratios_df_touse['TotalEstCostEuroMillionsLow'] = numpy.nan\n",
    "\n",
    "for idx,row in country_ratios_df_touse.iterrows():\n",
    "    country_ratios_df_touse.loc[idx,'TotalEstCostEuroMillionsLow'] = row['MergedKmByCountry'] * mean_cost_per_km\n",
    "\n",
    "# now replace the ones that we have exact numbers for...\n",
    "costs_exist_TF = ~country_ratios_df_touse['CostEuro'].isna()\n",
    "\n",
    "country_ratios_df_touse.loc[costs_exist_TF,'TotalEstCostEuroMillionsLow'] = \\\n",
    "    country_ratios_df_touse[costs_exist_TF]['CostEuroPerKm']/1e6 * \\\n",
    "    country_ratios_df_touse[costs_exist_TF]['MergedKmByCountry']\n",
    "country_ratios_df_touse.loc[costs_exist_TF,'TotalEstCostEuroMillionsHigh'] = \\\n",
    "    country_ratios_df_touse[costs_exist_TF]['CostEuroPerKm']/1e6 * \\\n",
    "    country_ratios_df_touse[costs_exist_TF]['MergedKmByCountry']\n",
    "\n",
    "country_ratios_df_touse.loc[(country_ratios_df_touse['PipelineName']=='Trans-Adriatic Gas Pipeline')&\n",
    "                            (country_ratios_df_touse['SegmentName']=='TAP Expansion')&\n",
    "                            (country_ratios_df_touse['Country']=='Italy'), ['TotalEstCostEuroMillionsLow','TotalEstCostEuroMillionsHigh']] = \\\n",
    "country_ratios_df.loc[(country_ratios_df.ProjectID=='P3203'),'CostEuro'].values[0]/1e6 * 2/3 * 0.5\n",
    "\n",
    "country_ratios_df_touse.loc[(country_ratios_df_touse['PipelineName']=='Trans-Adriatic Gas Pipeline')&\n",
    "                            (country_ratios_df_touse['SegmentName']=='TAP Expansion')&\n",
    "                            (country_ratios_df_touse['Country']=='Greece'), ['TotalEstCostEuroMillionsLow','TotalEstCostEuroMillionsHigh']] = \\\n",
    "country_ratios_df.loc[(country_ratios_df.ProjectID=='P3203'),'CostEuro'].values[0]/1e6 * 2/3 * 0.5"
   ]
  },
  {
   "cell_type": "code",
   "execution_count": 30,
   "id": "e3f98183-bfcc-4bc3-b8a1-202acf4680a8",
   "metadata": {},
   "outputs": [
    {
     "name": "stderr",
     "output_type": "stream",
     "text": [
      "/var/folders/fl/t07mc8053p33mn6mdmvp45580000gn/T/ipykernel_1725/1592955527.py:1: SettingWithCopyWarning: \n",
      "A value is trying to be set on a copy of a slice from a DataFrame.\n",
      "Try using .loc[row_indexer,col_indexer] = value instead\n",
      "\n",
      "See the caveats in the documentation: https://pandas.pydata.org/pandas-docs/stable/user_guide/indexing.html#returning-a-view-versus-a-copy\n",
      "  country_ratios_df_touse['TotalEstCostEuroMillionsMean'] = \\\n"
     ]
    }
   ],
   "source": [
    "country_ratios_df_touse['TotalEstCostEuroMillionsMean'] = \\\n",
    "    country_ratios_df_touse[['TotalEstCostEuroMillionsLow','TotalEstCostEuroMillionsHigh']].mean(axis=1)"
   ]
  },
  {
   "cell_type": "code",
   "execution_count": 31,
   "id": "8548d942-9497-4df3-9b8f-30e84add13d7",
   "metadata": {},
   "outputs": [],
   "source": [
    "output_columns = ['Country',\n",
    "                  'PipelineName',\n",
    "                  'SegmentName',\n",
    "                  'Status',\n",
    "                  'CapacityBcm/y',\n",
    "                  'MergedKmByCountry',\n",
    "                  'TotalEstCostEuroMillionsMean',\n",
    "                  'TotalEstCostEuroMillionsLow',\n",
    "                  'TotalEstCostEuroMillionsHigh']\n",
    "country_ratios_df_touse_excel = country_ratios_df_touse[country_ratios_df_touse['Status'].isin(['Proposed','Construction'])]\n",
    "country_ratios_df_touse_excel = country_ratios_df_touse.sort_values(['Status',\n",
    "                                                                     'PipelineName',\n",
    "                                                                     'TotalEstCostEuroMillionsLow',\n",
    "                                                                     'TotalEstCostEuroMillionsHigh'],\n",
    "                                                                    ascending=[True,True,False,False])\n",
    "country_ratios_df_touse_excel.replace(numpy.nan, '')\n",
    "country_ratios_df_touse_excel = country_ratios_df_touse_excel[output_columns]"
   ]
  },
  {
   "cell_type": "markdown",
   "id": "5318848b-94aa-460b-80cc-a1705ba6d311",
   "metadata": {},
   "source": [
    "## print export, import, and within-EU pipelines\n",
    "\n",
    "planned pipelines to import gas into the EU"
   ]
  },
  {
   "cell_type": "code",
   "execution_count": 32,
   "id": "67e84d9a-2178-4267-aee4-690616d4f8d3",
   "metadata": {},
   "outputs": [],
   "source": [
    "# get the pipelines that import into the EU, export out, and are completely within\n",
    "pipes_df_eu_imports = pipes_df_orig.copy()[(pipes_df_orig['Fuel']=='Gas')&\n",
    "              (~pipes_df_orig['StartCountry'].isin(region_df_touse.Country))&\n",
    "              (pipes_df_orig['EndCountry'].isin(region_df_touse.Country))]\n",
    "\n",
    "pipes_df_eu_exports = pipes_df_orig.copy()[(pipes_df_orig['Fuel']=='Gas')&\n",
    "              (pipes_df_orig['StartCountry'].isin(region_df_touse.Country))&\n",
    "              (~pipes_df_orig['EndCountry'].isin(region_df_touse.Country))]\n",
    "\n",
    "pipes_df_eu_within = pipes_df_orig.copy()[(pipes_df_orig['Fuel']=='Gas')&\n",
    "              (pipes_df_orig['StartCountry'].isin(region_df_touse.Country))&\n",
    "              (pipes_df_orig['EndCountry'].isin(region_df_touse.Country))]"
   ]
  },
  {
   "cell_type": "raw",
   "id": "3fb3285a-3c71-4561-bc86-508c7195738a",
   "metadata": {},
   "source": [
    "pipes_df_eu_exports.loc[pipes_df_eu_exports.Status.isin(['Proposed','Construction'])].ProjectID"
   ]
  },
  {
   "cell_type": "raw",
   "id": "e2ff3577-79b7-4f92-bf27-b5065f4e0c9c",
   "metadata": {},
   "source": [
    "pipes_df_eu_imports[pipes_df_eu_imports['Status'].isin(['Proposed','Construction'])][\n",
    "    ['ProjectID',\n",
    "     'Status',\n",
    "     'PipelineName',\n",
    "     'Wiki',\n",
    "     'CapacityBcm/y',\n",
    "     'Countries',\n",
    "     'LengthMergedKm']\n",
    "].sort_values('Status').style.hide_index()"
   ]
  },
  {
   "cell_type": "raw",
   "id": "067054d0-111e-4db0-bb62-2f6c54f7888d",
   "metadata": {},
   "source": [
    "pipes_df_eu_exports[pipes_df_eu_exports['Status'].isin(['Proposed','Construction'])][['ProjectID','Status','PipelineName','Wiki','CapacityBcm/y','Countries','LengthMergedKm']].sort_values('Status').style.hide_index()"
   ]
  },
  {
   "cell_type": "raw",
   "id": "68a5be74-7155-4a5f-98a6-1f9d9bacf5a4",
   "metadata": {},
   "source": [
    "pipes_df_eu_within[pipes_df_eu_within['Status'].isin(['Proposed','Construction'])][['ProjectID','PipelineName','Wiki','CapacityBcm/y','Countries','LengthMergedKm']].style.hide_index()"
   ]
  },
  {
   "cell_type": "markdown",
   "id": "fb0ebebd-b542-4299-ad6d-0dc2f44c1f9f",
   "metadata": {},
   "source": [
    "## creating 2023 version of Table 8 of last year's report (appendix)"
   ]
  },
  {
   "cell_type": "code",
   "execution_count": 33,
   "id": "49480bcc-c9ad-4085-8176-352326fe4a34",
   "metadata": {},
   "outputs": [
    {
     "data": {
      "text/plain": [
       "249     P0463\n",
       "263     P0479\n",
       "358     P0732\n",
       "421     P0827\n",
       "1791    P3204\n",
       "1792    P3205\n",
       "1793    P3206\n",
       "1819    P3281\n",
       "Name: ProjectID, dtype: object"
      ]
     },
     "execution_count": 33,
     "metadata": {},
     "output_type": "execute_result"
    }
   ],
   "source": [
    "pipes_df_touse.loc[(pipes_df_touse.StartRegion!='Europe')&\n",
    "                            (pipes_df_touse.EndRegion=='Europe')&\n",
    "                            (pipes_df_touse.Status.isin(['Proposed','Construction']))].ProjectID"
   ]
  },
  {
   "cell_type": "code",
   "execution_count": 34,
   "id": "856c0855-5583-4bb6-bec3-712f38aa3802",
   "metadata": {},
   "outputs": [
    {
     "name": "stderr",
     "output_type": "stream",
     "text": [
      "/var/folders/fl/t07mc8053p33mn6mdmvp45580000gn/T/ipykernel_1725/1410622828.py:38: FutureWarning: this method is deprecated in favour of `Styler.hide(axis=\"index\")`\n",
      "  ascending=[True,True,False])[output_columns].replace(numpy.nan,'').style.hide_index()\n"
     ]
    },
    {
     "data": {
      "text/html": [
       "<style type=\"text/css\">\n",
       "</style>\n",
       "<table id=\"T_7ba09\">\n",
       "  <thead>\n",
       "    <tr>\n",
       "      <th id=\"T_7ba09_level0_col0\" class=\"col_heading level0 col0\" >Country</th>\n",
       "      <th id=\"T_7ba09_level0_col1\" class=\"col_heading level0 col1\" >PipelineName</th>\n",
       "      <th id=\"T_7ba09_level0_col2\" class=\"col_heading level0 col2\" >Status</th>\n",
       "      <th id=\"T_7ba09_level0_col3\" class=\"col_heading level0 col3\" >CapacityBcm/y</th>\n",
       "      <th id=\"T_7ba09_level0_col4\" class=\"col_heading level0 col4\" >MergedKmByCountry</th>\n",
       "      <th id=\"T_7ba09_level0_col5\" class=\"col_heading level0 col5\" >TotalEstCostEuroMillionsMean</th>\n",
       "    </tr>\n",
       "  </thead>\n",
       "  <tbody>\n",
       "    <tr>\n",
       "      <td id=\"T_7ba09_row0_col0\" class=\"data row0 col0\" >Croatia</td>\n",
       "      <td id=\"T_7ba09_row0_col1\" class=\"data row0 col1\" >Bosnia and Herzegovina–Croatia South Interconnection Gas Pipeline</td>\n",
       "      <td id=\"T_7ba09_row0_col2\" class=\"data row0 col2\" >Proposed</td>\n",
       "      <td id=\"T_7ba09_row0_col3\" class=\"data row0 col3\" >1.500000</td>\n",
       "      <td id=\"T_7ba09_row0_col4\" class=\"data row0 col4\" >63.440000</td>\n",
       "      <td id=\"T_7ba09_row0_col5\" class=\"data row0 col5\" >41.373913</td>\n",
       "    </tr>\n",
       "    <tr>\n",
       "      <td id=\"T_7ba09_row1_col0\" class=\"data row1 col0\" >Cyprus</td>\n",
       "      <td id=\"T_7ba09_row1_col1\" class=\"data row1 col1\" >Cyprus-Turkey Gas Pipeline</td>\n",
       "      <td id=\"T_7ba09_row1_col2\" class=\"data row1 col2\" >Proposed</td>\n",
       "      <td id=\"T_7ba09_row1_col3\" class=\"data row1 col3\" >3.100000</td>\n",
       "      <td id=\"T_7ba09_row1_col4\" class=\"data row1 col4\" >48.110000</td>\n",
       "      <td id=\"T_7ba09_row1_col5\" class=\"data row1 col5\" >165.560823</td>\n",
       "    </tr>\n",
       "    <tr>\n",
       "      <td id=\"T_7ba09_row2_col0\" class=\"data row2 col0\" >Greece</td>\n",
       "      <td id=\"T_7ba09_row2_col1\" class=\"data row2 col1\" >East Med Gas Pipeline</td>\n",
       "      <td id=\"T_7ba09_row2_col2\" class=\"data row2 col2\" >Proposed</td>\n",
       "      <td id=\"T_7ba09_row2_col3\" class=\"data row2 col3\" >10.000000</td>\n",
       "      <td id=\"T_7ba09_row2_col4\" class=\"data row2 col4\" >1274.860000</td>\n",
       "      <td id=\"T_7ba09_row2_col5\" class=\"data row2 col5\" >4090.459893</td>\n",
       "    </tr>\n",
       "    <tr>\n",
       "      <td id=\"T_7ba09_row3_col0\" class=\"data row3 col0\" >Cyprus</td>\n",
       "      <td id=\"T_7ba09_row3_col1\" class=\"data row3 col1\" >East Med Gas Pipeline</td>\n",
       "      <td id=\"T_7ba09_row3_col2\" class=\"data row3 col2\" >Proposed</td>\n",
       "      <td id=\"T_7ba09_row3_col3\" class=\"data row3 col3\" >10.000000</td>\n",
       "      <td id=\"T_7ba09_row3_col4\" class=\"data row3 col4\" >569.350000</td>\n",
       "      <td id=\"T_7ba09_row3_col5\" class=\"data row3 col5\" >1826.791444</td>\n",
       "    </tr>\n",
       "    <tr>\n",
       "      <td id=\"T_7ba09_row4_col0\" class=\"data row4 col0\" >Greece</td>\n",
       "      <td id=\"T_7ba09_row4_col1\" class=\"data row4 col1\" >East Med Gas Pipeline</td>\n",
       "      <td id=\"T_7ba09_row4_col2\" class=\"data row4 col2\" >Proposed</td>\n",
       "      <td id=\"T_7ba09_row4_col3\" class=\"data row4 col3\" >10.000000</td>\n",
       "      <td id=\"T_7ba09_row4_col4\" class=\"data row4 col4\" >0.000000</td>\n",
       "      <td id=\"T_7ba09_row4_col5\" class=\"data row4 col5\" ></td>\n",
       "    </tr>\n",
       "    <tr>\n",
       "      <td id=\"T_7ba09_row5_col0\" class=\"data row5 col0\" >Cyprus</td>\n",
       "      <td id=\"T_7ba09_row5_col1\" class=\"data row5 col1\" >East Med Gas Pipeline</td>\n",
       "      <td id=\"T_7ba09_row5_col2\" class=\"data row5 col2\" >Proposed</td>\n",
       "      <td id=\"T_7ba09_row5_col3\" class=\"data row5 col3\" >10.000000</td>\n",
       "      <td id=\"T_7ba09_row5_col4\" class=\"data row5 col4\" >0.000000</td>\n",
       "      <td id=\"T_7ba09_row5_col5\" class=\"data row5 col5\" ></td>\n",
       "    </tr>\n",
       "    <tr>\n",
       "      <td id=\"T_7ba09_row6_col0\" class=\"data row6 col0\" >Croatia</td>\n",
       "      <td id=\"T_7ba09_row6_col1\" class=\"data row6 col1\" >Ionian Adriatic Gas Pipeline</td>\n",
       "      <td id=\"T_7ba09_row6_col2\" class=\"data row6 col2\" >Proposed</td>\n",
       "      <td id=\"T_7ba09_row6_col3\" class=\"data row6 col3\" >5.000000</td>\n",
       "      <td id=\"T_7ba09_row6_col4\" class=\"data row6 col4\" >262.010000</td>\n",
       "      <td id=\"T_7ba09_row6_col5\" class=\"data row6 col5\" >284.329372</td>\n",
       "    </tr>\n",
       "    <tr>\n",
       "      <td id=\"T_7ba09_row7_col0\" class=\"data row7 col0\" >Cyprus</td>\n",
       "      <td id=\"T_7ba09_row7_col1\" class=\"data row7 col1\" >Israel Cyprus Gas Pipeline</td>\n",
       "      <td id=\"T_7ba09_row7_col2\" class=\"data row7 col2\" >Proposed</td>\n",
       "      <td id=\"T_7ba09_row7_col3\" class=\"data row7 col3\" >4.000000</td>\n",
       "      <td id=\"T_7ba09_row7_col4\" class=\"data row7 col4\" >152.290000</td>\n",
       "      <td id=\"T_7ba09_row7_col5\" class=\"data row7 col5\" >227.443994</td>\n",
       "    </tr>\n",
       "    <tr>\n",
       "      <td id=\"T_7ba09_row8_col0\" class=\"data row8 col0\" >Bulgaria</td>\n",
       "      <td id=\"T_7ba09_row8_col1\" class=\"data row8 col1\" >North Macedonia–Bulgaria Gas Pipeline</td>\n",
       "      <td id=\"T_7ba09_row8_col2\" class=\"data row8 col2\" >Proposed</td>\n",
       "      <td id=\"T_7ba09_row8_col3\" class=\"data row8 col3\" >2.060000</td>\n",
       "      <td id=\"T_7ba09_row8_col4\" class=\"data row8 col4\" >5.190000</td>\n",
       "      <td id=\"T_7ba09_row8_col5\" class=\"data row8 col5\" >1.085182</td>\n",
       "    </tr>\n",
       "    <tr>\n",
       "      <td id=\"T_7ba09_row9_col0\" class=\"data row9 col0\" >Romania</td>\n",
       "      <td id=\"T_7ba09_row9_col1\" class=\"data row9 col1\" >Romania-Ukraine Interconnector</td>\n",
       "      <td id=\"T_7ba09_row9_col2\" class=\"data row9 col2\" >Proposed</td>\n",
       "      <td id=\"T_7ba09_row9_col3\" class=\"data row9 col3\" ></td>\n",
       "      <td id=\"T_7ba09_row9_col4\" class=\"data row9 col4\" >146.000000</td>\n",
       "      <td id=\"T_7ba09_row9_col5\" class=\"data row9 col5\" >124.999999</td>\n",
       "    </tr>\n",
       "    <tr>\n",
       "      <td id=\"T_7ba09_row10_col0\" class=\"data row10 col0\" >Greece</td>\n",
       "      <td id=\"T_7ba09_row10_col1\" class=\"data row10 col1\" >Trans-Adriatic Gas Pipeline</td>\n",
       "      <td id=\"T_7ba09_row10_col2\" class=\"data row10 col2\" >Proposed</td>\n",
       "      <td id=\"T_7ba09_row10_col3\" class=\"data row10 col3\" >10.000000</td>\n",
       "      <td id=\"T_7ba09_row10_col4\" class=\"data row10 col4\" >0.000000</td>\n",
       "      <td id=\"T_7ba09_row10_col5\" class=\"data row10 col5\" >345.000000</td>\n",
       "    </tr>\n",
       "    <tr>\n",
       "      <td id=\"T_7ba09_row11_col0\" class=\"data row11 col0\" >Italy</td>\n",
       "      <td id=\"T_7ba09_row11_col1\" class=\"data row11 col1\" >Trans-Adriatic Gas Pipeline</td>\n",
       "      <td id=\"T_7ba09_row11_col2\" class=\"data row11 col2\" >Proposed</td>\n",
       "      <td id=\"T_7ba09_row11_col3\" class=\"data row11 col3\" >10.000000</td>\n",
       "      <td id=\"T_7ba09_row11_col4\" class=\"data row11 col4\" >0.000000</td>\n",
       "      <td id=\"T_7ba09_row11_col5\" class=\"data row11 col5\" >345.000000</td>\n",
       "    </tr>\n",
       "    <tr>\n",
       "      <td id=\"T_7ba09_row12_col0\" class=\"data row12 col0\" >Bulgaria</td>\n",
       "      <td id=\"T_7ba09_row12_col1\" class=\"data row12 col1\" >White Stream Gas Pipeline</td>\n",
       "      <td id=\"T_7ba09_row12_col2\" class=\"data row12 col2\" >Proposed</td>\n",
       "      <td id=\"T_7ba09_row12_col3\" class=\"data row12 col3\" >32.000000</td>\n",
       "      <td id=\"T_7ba09_row12_col4\" class=\"data row12 col4\" >156.470000</td>\n",
       "      <td id=\"T_7ba09_row12_col5\" class=\"data row12 col5\" >471.006754</td>\n",
       "    </tr>\n",
       "    <tr>\n",
       "      <td id=\"T_7ba09_row13_col0\" class=\"data row13 col0\" >Romania</td>\n",
       "      <td id=\"T_7ba09_row13_col1\" class=\"data row13 col1\" >White Stream Gas Pipeline</td>\n",
       "      <td id=\"T_7ba09_row13_col2\" class=\"data row13 col2\" >Proposed</td>\n",
       "      <td id=\"T_7ba09_row13_col3\" class=\"data row13 col3\" >32.000000</td>\n",
       "      <td id=\"T_7ba09_row13_col4\" class=\"data row13 col4\" >121.400000</td>\n",
       "      <td id=\"T_7ba09_row13_col5\" class=\"data row13 col5\" >365.438869</td>\n",
       "    </tr>\n",
       "  </tbody>\n",
       "</table>\n"
      ],
      "text/plain": [
       "<pandas.io.formats.style.Styler at 0x1542e2cd0>"
      ]
     },
     "execution_count": 34,
     "metadata": {},
     "output_type": "execute_result"
    }
   ],
   "source": [
    "# only construction, proposed project IDs here, built on a list:\n",
    "import_projectids = [\n",
    "#'P0463', # Nigeria-Morocco Gas Pipeline (have in table, don't count it)\n",
    "'P0479',\n",
    "#'P0684', # in 2022 (Baltic Pipe Project, now operating)\n",
    "'P0702',\n",
    "'P0732',\n",
    "'P0827', # east med (have in table but don't count it)\n",
    "'P3206', # east med expansion (have in table but don't count it)\n",
    "'P1321',\n",
    "'P1324',\n",
    "#'P1773', # this is the Siret-Khotyn Gas Pipeline, doesn't count\n",
    "#'P2264',\n",
    "'P3203', # Trans-Adriatic Gas Pipeline TAP Expansion, also P3204\n",
    "#'P3204', # 0 new km\n",
    "#'P3205', # 0 new km\n",
    "#'P3281', # 0 new km\n",
    "'P3335', # this is a duplicate of P2264\n",
    "'P2727', # Romania-Ukraine Interconnector; this is a segment: Gheraesti-Siret Gas Pipeline (Ukraine to Romania, bidirectional), added manually\n",
    "#'P3522', # UK-Ireland interconnector\n",
    "'P4399'\n",
    "]\n",
    "\n",
    "all_other_projectids = list(set(country_ratios_df_touse.loc[\n",
    "    country_ratios_df_touse.Status.isin(['Proposed','Construction'])].ProjectID) - set(import_projectids))\n",
    "\n",
    "output_columns = ['Country',\n",
    "                  'PipelineName',\n",
    "                  'Status',\n",
    "                  'CapacityBcm/y',\n",
    "                  'MergedKmByCountry',\n",
    "                  'TotalEstCostEuroMillionsMean',]\n",
    "                  #'TotalEstCostEuroMillionsLow',\n",
    "                  #'TotalEstCostEuroMillionsHigh']\n",
    "\n",
    "country_ratios_df_touse.loc[country_ratios_df_touse.ProjectID.isin(import_projectids)].sort_values(['Status','PipelineName',\n",
    "                                                                                                   'TotalEstCostEuroMillionsLow'], \n",
    "                                                                                                  ascending=[True,True,False])[output_columns].replace(numpy.nan,'').style.hide_index()\n"
   ]
  },
  {
   "cell_type": "markdown",
   "id": "122d7373-813d-4f60-bf5d-2edb8763e06d",
   "metadata": {},
   "source": [
    "## creating Table (appendix)"
   ]
  },
  {
   "cell_type": "markdown",
   "id": "b794875c-ba55-45ec-bb3c-6542e48e964a",
   "metadata": {},
   "source": [
    "### longer than 150 km"
   ]
  },
  {
   "cell_type": "code",
   "execution_count": 35,
   "id": "def164e0-8862-4a3b-9ded-3c3defa9c0df",
   "metadata": {},
   "outputs": [
    {
     "data": {
      "text/plain": [
       "23"
      ]
     },
     "execution_count": 35,
     "metadata": {},
     "output_type": "execute_result"
    }
   ],
   "source": [
    "# must be longer than 150 total, and the segment must be located within the EU\n",
    "projectids_threshold = list(\n",
    "    set(country_ratios_df_touse.loc[(country_ratios_df_touse.MergedKmByPipeline>150)&\n",
    "                                   (country_ratios_df_touse.ProjectID.isin(all_other_projectids))]['ProjectID'])\n",
    ")\n",
    "\n",
    "projectids_under_threshold = list(\n",
    "    set(all_other_projectids) - set(projectids_threshold)\n",
    ")\n",
    "\n",
    "projectids_threshold.__len__()"
   ]
  },
  {
   "cell_type": "code",
   "execution_count": 36,
   "id": "9d9d4457-07e1-483e-9b1e-ea372fa49b18",
   "metadata": {},
   "outputs": [
    {
     "name": "stderr",
     "output_type": "stream",
     "text": [
      "/var/folders/fl/t07mc8053p33mn6mdmvp45580000gn/T/ipykernel_1725/4227614377.py:13: FutureWarning: this method is deprecated in favour of `Styler.hide(axis=\"index\")`\n",
      "  'Status','PipelineName','TotalEstCostEuroMillionsLow'], ascending=[True,True,False])[output_columns].style.hide_index()\n"
     ]
    },
    {
     "data": {
      "text/html": [
       "<style type=\"text/css\">\n",
       "</style>\n",
       "<table id=\"T_6ca2b\">\n",
       "  <thead>\n",
       "    <tr>\n",
       "      <th id=\"T_6ca2b_level0_col0\" class=\"col_heading level0 col0\" >Country</th>\n",
       "      <th id=\"T_6ca2b_level0_col1\" class=\"col_heading level0 col1\" >PipelineName</th>\n",
       "      <th id=\"T_6ca2b_level0_col2\" class=\"col_heading level0 col2\" >CapacityBcm/y</th>\n",
       "      <th id=\"T_6ca2b_level0_col3\" class=\"col_heading level0 col3\" >MergedKmByPipeline</th>\n",
       "      <th id=\"T_6ca2b_level0_col4\" class=\"col_heading level0 col4\" >MergedKmByCountry</th>\n",
       "      <th id=\"T_6ca2b_level0_col5\" class=\"col_heading level0 col5\" >TotalEstCostEuroMillionsMean</th>\n",
       "    </tr>\n",
       "  </thead>\n",
       "  <tbody>\n",
       "    <tr>\n",
       "      <td id=\"T_6ca2b_row0_col0\" class=\"data row0 col0\" >Bulgaria</td>\n",
       "      <td id=\"T_6ca2b_row0_col1\" class=\"data row0 col1\" >Bulgaria-Serbia Interconnector Gas Pipeline</td>\n",
       "      <td id=\"T_6ca2b_row0_col2\" class=\"data row0 col2\" >1.800000</td>\n",
       "      <td id=\"T_6ca2b_row0_col3\" class=\"data row0 col3\" >170.000000</td>\n",
       "      <td id=\"T_6ca2b_row0_col4\" class=\"data row0 col4\" >63.710000</td>\n",
       "      <td id=\"T_6ca2b_row0_col5\" class=\"data row0 col5\" >50.218470</td>\n",
       "    </tr>\n",
       "    <tr>\n",
       "      <td id=\"T_6ca2b_row1_col0\" class=\"data row1 col0\" >Poland</td>\n",
       "      <td id=\"T_6ca2b_row1_col1\" class=\"data row1 col1\" >Gustorzyn-Wronów Gas Pipeline</td>\n",
       "      <td id=\"T_6ca2b_row1_col2\" class=\"data row1 col2\" ></td>\n",
       "      <td id=\"T_6ca2b_row1_col3\" class=\"data row1 col3\" >308.000000</td>\n",
       "      <td id=\"T_6ca2b_row1_col4\" class=\"data row1 col4\" >308.000000</td>\n",
       "      <td id=\"T_6ca2b_row1_col5\" class=\"data row1 col5\" >927.143095</td>\n",
       "    </tr>\n",
       "    <tr>\n",
       "      <td id=\"T_6ca2b_row2_col0\" class=\"data row2 col0\" >Italy</td>\n",
       "      <td id=\"T_6ca2b_row2_col1\" class=\"data row2 col1\" >Methanization of Sardinia Project</td>\n",
       "      <td id=\"T_6ca2b_row2_col2\" class=\"data row2 col2\" ></td>\n",
       "      <td id=\"T_6ca2b_row2_col3\" class=\"data row2 col3\" >573.000000</td>\n",
       "      <td id=\"T_6ca2b_row2_col4\" class=\"data row2 col4\" >573.000000</td>\n",
       "      <td id=\"T_6ca2b_row2_col5\" class=\"data row2 col5\" >642.853210</td>\n",
       "    </tr>\n",
       "    <tr>\n",
       "      <td id=\"T_6ca2b_row3_col0\" class=\"data row3 col0\" >Poland</td>\n",
       "      <td id=\"T_6ca2b_row3_col1\" class=\"data row3 col1\" >Pogórska-Wola-Tworzen Gas Pipeline</td>\n",
       "      <td id=\"T_6ca2b_row3_col2\" class=\"data row3 col2\" ></td>\n",
       "      <td id=\"T_6ca2b_row3_col3\" class=\"data row3 col3\" >168.000000</td>\n",
       "      <td id=\"T_6ca2b_row3_col4\" class=\"data row3 col4\" >168.000000</td>\n",
       "      <td id=\"T_6ca2b_row3_col5\" class=\"data row3 col5\" >300.500001</td>\n",
       "    </tr>\n",
       "    <tr>\n",
       "      <td id=\"T_6ca2b_row4_col0\" class=\"data row4 col0\" >Italy</td>\n",
       "      <td id=\"T_6ca2b_row4_col1\" class=\"data row4 col1\" >Adriatica Pipeline</td>\n",
       "      <td id=\"T_6ca2b_row4_col2\" class=\"data row4 col2\" >8.800000</td>\n",
       "      <td id=\"T_6ca2b_row4_col3\" class=\"data row4 col3\" >170.000000</td>\n",
       "      <td id=\"T_6ca2b_row4_col4\" class=\"data row4 col4\" >170.000000</td>\n",
       "      <td id=\"T_6ca2b_row4_col5\" class=\"data row4 col5\" >553.600000</td>\n",
       "    </tr>\n",
       "    <tr>\n",
       "      <td id=\"T_6ca2b_row5_col0\" class=\"data row5 col0\" >Germany</td>\n",
       "      <td id=\"T_6ca2b_row5_col1\" class=\"data row5 col1\" >Bielefeld-Magdeburg Gas Pipeline</td>\n",
       "      <td id=\"T_6ca2b_row5_col2\" class=\"data row5 col2\" ></td>\n",
       "      <td id=\"T_6ca2b_row5_col3\" class=\"data row5 col3\" >159.000000</td>\n",
       "      <td id=\"T_6ca2b_row5_col4\" class=\"data row5 col4\" >159.000000</td>\n",
       "      <td id=\"T_6ca2b_row5_col5\" class=\"data row5 col5\" >478.622572</td>\n",
       "    </tr>\n",
       "    <tr>\n",
       "      <td id=\"T_6ca2b_row6_col0\" class=\"data row6 col0\" >Romania</td>\n",
       "      <td id=\"T_6ca2b_row6_col1\" class=\"data row6 col1\" >Black Sea Shore–Podișor Gas Pipeline</td>\n",
       "      <td id=\"T_6ca2b_row6_col2\" class=\"data row6 col2\" ></td>\n",
       "      <td id=\"T_6ca2b_row6_col3\" class=\"data row6 col3\" >308.000000</td>\n",
       "      <td id=\"T_6ca2b_row6_col4\" class=\"data row6 col4\" >308.000000</td>\n",
       "      <td id=\"T_6ca2b_row6_col5\" class=\"data row6 col5\" >360.000000</td>\n",
       "    </tr>\n",
       "    <tr>\n",
       "      <td id=\"T_6ca2b_row7_col0\" class=\"data row7 col0\" >Portugal</td>\n",
       "      <td id=\"T_6ca2b_row7_col1\" class=\"data row7 col1\" >Celorico-Spanish Border Gas Pipeline</td>\n",
       "      <td id=\"T_6ca2b_row7_col2\" class=\"data row7 col2\" ></td>\n",
       "      <td id=\"T_6ca2b_row7_col3\" class=\"data row7 col3\" >162.000000</td>\n",
       "      <td id=\"T_6ca2b_row7_col4\" class=\"data row7 col4\" >162.000000</td>\n",
       "      <td id=\"T_6ca2b_row7_col5\" class=\"data row7 col5\" >114.999999</td>\n",
       "    </tr>\n",
       "    <tr>\n",
       "      <td id=\"T_6ca2b_row8_col0\" class=\"data row8 col0\" >Cyprus</td>\n",
       "      <td id=\"T_6ca2b_row8_col1\" class=\"data row8 col1\" >Cyprus-Egypt Gas Pipeline</td>\n",
       "      <td id=\"T_6ca2b_row8_col2\" class=\"data row8 col2\" >8.000000</td>\n",
       "      <td id=\"T_6ca2b_row8_col3\" class=\"data row8 col3\" >310.000000</td>\n",
       "      <td id=\"T_6ca2b_row8_col4\" class=\"data row8 col4\" >32.950000</td>\n",
       "      <td id=\"T_6ca2b_row8_col5\" class=\"data row8 col5\" >97.514057</td>\n",
       "    </tr>\n",
       "    <tr>\n",
       "      <td id=\"T_6ca2b_row9_col0\" class=\"data row9 col0\" >Czech Republic</td>\n",
       "      <td id=\"T_6ca2b_row9_col1\" class=\"data row9 col1\" >Czech-Polish Interconnector Gas Pipeline (CPI)</td>\n",
       "      <td id=\"T_6ca2b_row9_col2\" class=\"data row9 col2\" ></td>\n",
       "      <td id=\"T_6ca2b_row9_col3\" class=\"data row9 col3\" >207.000000</td>\n",
       "      <td id=\"T_6ca2b_row9_col4\" class=\"data row9 col4\" >155.340000</td>\n",
       "      <td id=\"T_6ca2b_row9_col5\" class=\"data row9 col5\" >210.670176</td>\n",
       "    </tr>\n",
       "    <tr>\n",
       "      <td id=\"T_6ca2b_row10_col0\" class=\"data row10 col0\" >Poland</td>\n",
       "      <td id=\"T_6ca2b_row10_col1\" class=\"data row10 col1\" >Czech-Polish Interconnector Gas Pipeline (CPI)</td>\n",
       "      <td id=\"T_6ca2b_row10_col2\" class=\"data row10 col2\" ></td>\n",
       "      <td id=\"T_6ca2b_row10_col3\" class=\"data row10 col3\" >207.000000</td>\n",
       "      <td id=\"T_6ca2b_row10_col4\" class=\"data row10 col4\" >51.660000</td>\n",
       "      <td id=\"T_6ca2b_row10_col5\" class=\"data row10 col5\" >70.060649</td>\n",
       "    </tr>\n",
       "    <tr>\n",
       "      <td id=\"T_6ca2b_row11_col0\" class=\"data row11 col0\" >Bulgaria</td>\n",
       "      <td id=\"T_6ca2b_row11_col1\" class=\"data row11 col1\" >Dubnitza-Nikolaevo Gas Pipeline</td>\n",
       "      <td id=\"T_6ca2b_row11_col2\" class=\"data row11 col2\" ></td>\n",
       "      <td id=\"T_6ca2b_row11_col3\" class=\"data row11 col3\" >321.370000</td>\n",
       "      <td id=\"T_6ca2b_row11_col4\" class=\"data row11 col4\" >321.370000</td>\n",
       "      <td id=\"T_6ca2b_row11_col5\" class=\"data row11 col5\" >967.389534</td>\n",
       "    </tr>\n",
       "    <tr>\n",
       "      <td id=\"T_6ca2b_row12_col0\" class=\"data row12 col0\" >Romania</td>\n",
       "      <td id=\"T_6ca2b_row12_col1\" class=\"data row12 col1\" >Eastring Pipeline</td>\n",
       "      <td id=\"T_6ca2b_row12_col2\" class=\"data row12 col2\" >20.000000</td>\n",
       "      <td id=\"T_6ca2b_row12_col3\" class=\"data row12 col3\" >1208.000000</td>\n",
       "      <td id=\"T_6ca2b_row12_col4\" class=\"data row12 col4\" >650.960000</td>\n",
       "      <td id=\"T_6ca2b_row12_col5\" class=\"data row12 col5\" >1401.072847</td>\n",
       "    </tr>\n",
       "    <tr>\n",
       "      <td id=\"T_6ca2b_row13_col0\" class=\"data row13 col0\" >Hungary</td>\n",
       "      <td id=\"T_6ca2b_row13_col1\" class=\"data row13 col1\" >Eastring Pipeline</td>\n",
       "      <td id=\"T_6ca2b_row13_col2\" class=\"data row13 col2\" >20.000000</td>\n",
       "      <td id=\"T_6ca2b_row13_col3\" class=\"data row13 col3\" >1208.000000</td>\n",
       "      <td id=\"T_6ca2b_row13_col4\" class=\"data row13 col4\" >293.660000</td>\n",
       "      <td id=\"T_6ca2b_row13_col5\" class=\"data row13 col5\" >632.049669</td>\n",
       "    </tr>\n",
       "    <tr>\n",
       "      <td id=\"T_6ca2b_row14_col0\" class=\"data row14 col0\" >Bulgaria</td>\n",
       "      <td id=\"T_6ca2b_row14_col1\" class=\"data row14 col1\" >Eastring Pipeline</td>\n",
       "      <td id=\"T_6ca2b_row14_col2\" class=\"data row14 col2\" >20.000000</td>\n",
       "      <td id=\"T_6ca2b_row14_col3\" class=\"data row14 col3\" >1208.000000</td>\n",
       "      <td id=\"T_6ca2b_row14_col4\" class=\"data row14 col4\" >233.100000</td>\n",
       "      <td id=\"T_6ca2b_row14_col5\" class=\"data row14 col5\" >501.705298</td>\n",
       "    </tr>\n",
       "    <tr>\n",
       "      <td id=\"T_6ca2b_row15_col0\" class=\"data row15 col0\" >Slovakia</td>\n",
       "      <td id=\"T_6ca2b_row15_col1\" class=\"data row15 col1\" >Eastring Pipeline</td>\n",
       "      <td id=\"T_6ca2b_row15_col2\" class=\"data row15 col2\" >20.000000</td>\n",
       "      <td id=\"T_6ca2b_row15_col3\" class=\"data row15 col3\" >1208.000000</td>\n",
       "      <td id=\"T_6ca2b_row15_col4\" class=\"data row15 col4\" >29.680000</td>\n",
       "      <td id=\"T_6ca2b_row15_col5\" class=\"data row15 col5\" >63.880795</td>\n",
       "    </tr>\n",
       "    <tr>\n",
       "      <td id=\"T_6ca2b_row16_col0\" class=\"data row16 col0\" >Slovenia</td>\n",
       "      <td id=\"T_6ca2b_row16_col1\" class=\"data row16 col1\" >Hungary-Slovenia-Italy Interconnector Gas Pipeline</td>\n",
       "      <td id=\"T_6ca2b_row16_col2\" class=\"data row16 col2\" >1.240000</td>\n",
       "      <td id=\"T_6ca2b_row16_col3\" class=\"data row16 col3\" >191.000000</td>\n",
       "      <td id=\"T_6ca2b_row16_col4\" class=\"data row16 col4\" >116.520000</td>\n",
       "      <td id=\"T_6ca2b_row16_col5\" class=\"data row16 col5\" >125.060733</td>\n",
       "    </tr>\n",
       "    <tr>\n",
       "      <td id=\"T_6ca2b_row17_col0\" class=\"data row17 col0\" >Hungary</td>\n",
       "      <td id=\"T_6ca2b_row17_col1\" class=\"data row17 col1\" >Hungary-Slovenia-Italy Interconnector Gas Pipeline</td>\n",
       "      <td id=\"T_6ca2b_row17_col2\" class=\"data row17 col2\" >1.240000</td>\n",
       "      <td id=\"T_6ca2b_row17_col3\" class=\"data row17 col3\" >191.000000</td>\n",
       "      <td id=\"T_6ca2b_row17_col4\" class=\"data row17 col4\" >73.960000</td>\n",
       "      <td id=\"T_6ca2b_row17_col5\" class=\"data row17 col5\" >79.381152</td>\n",
       "    </tr>\n",
       "    <tr>\n",
       "      <td id=\"T_6ca2b_row18_col0\" class=\"data row18 col0\" >Italy</td>\n",
       "      <td id=\"T_6ca2b_row18_col1\" class=\"data row18 col1\" >Hungary-Slovenia-Italy Interconnector Gas Pipeline</td>\n",
       "      <td id=\"T_6ca2b_row18_col2\" class=\"data row18 col2\" >1.240000</td>\n",
       "      <td id=\"T_6ca2b_row18_col3\" class=\"data row18 col3\" >191.000000</td>\n",
       "      <td id=\"T_6ca2b_row18_col4\" class=\"data row18 col4\" >0.520000</td>\n",
       "      <td id=\"T_6ca2b_row18_col5\" class=\"data row18 col5\" >0.558115</td>\n",
       "    </tr>\n",
       "    <tr>\n",
       "      <td id=\"T_6ca2b_row19_col0\" class=\"data row19 col0\" >Croatia</td>\n",
       "      <td id=\"T_6ca2b_row19_col1\" class=\"data row19 col1\" >Interconnector Croatia-Serbia</td>\n",
       "      <td id=\"T_6ca2b_row19_col2\" class=\"data row19 col2\" >7.000000</td>\n",
       "      <td id=\"T_6ca2b_row19_col3\" class=\"data row19 col3\" >182.000000</td>\n",
       "      <td id=\"T_6ca2b_row19_col4\" class=\"data row19 col4\" >109.140000</td>\n",
       "      <td id=\"T_6ca2b_row19_col5\" class=\"data row19 col5\" >93.308703</td>\n",
       "    </tr>\n",
       "    <tr>\n",
       "      <td id=\"T_6ca2b_row20_col0\" class=\"data row20 col0\" >Cyprus</td>\n",
       "      <td id=\"T_6ca2b_row20_col1\" class=\"data row20 col1\" >Israel–Egypt Offshore Gas Pipeline</td>\n",
       "      <td id=\"T_6ca2b_row20_col2\" class=\"data row20 col2\" >10.000000</td>\n",
       "      <td id=\"T_6ca2b_row20_col3\" class=\"data row20 col3\" >592.620000</td>\n",
       "      <td id=\"T_6ca2b_row20_col4\" class=\"data row20 col4\" >43.450000</td>\n",
       "      <td id=\"T_6ca2b_row20_col5\" class=\"data row20 col5\" >130.793401</td>\n",
       "    </tr>\n",
       "    <tr>\n",
       "      <td id=\"T_6ca2b_row21_col0\" class=\"data row21 col0\" >Italy</td>\n",
       "      <td id=\"T_6ca2b_row21_col1\" class=\"data row21 col1\" >Malta-Italy Gas Pipeline</td>\n",
       "      <td id=\"T_6ca2b_row21_col2\" class=\"data row21 col2\" >2.030000</td>\n",
       "      <td id=\"T_6ca2b_row21_col3\" class=\"data row21 col3\" >159.000000</td>\n",
       "      <td id=\"T_6ca2b_row21_col4\" class=\"data row21 col4\" >88.710000</td>\n",
       "      <td id=\"T_6ca2b_row21_col5\" class=\"data row21 col5\" >228.637472</td>\n",
       "    </tr>\n",
       "    <tr>\n",
       "      <td id=\"T_6ca2b_row22_col0\" class=\"data row22 col0\" >Malta</td>\n",
       "      <td id=\"T_6ca2b_row22_col1\" class=\"data row22 col1\" >Malta-Italy Gas Pipeline</td>\n",
       "      <td id=\"T_6ca2b_row22_col2\" class=\"data row22 col2\" >2.030000</td>\n",
       "      <td id=\"T_6ca2b_row22_col3\" class=\"data row22 col3\" >159.000000</td>\n",
       "      <td id=\"T_6ca2b_row22_col4\" class=\"data row22 col4\" >70.290000</td>\n",
       "      <td id=\"T_6ca2b_row22_col5\" class=\"data row22 col5\" >181.162528</td>\n",
       "    </tr>\n",
       "    <tr>\n",
       "      <td id=\"T_6ca2b_row23_col0\" class=\"data row23 col0\" >Spain</td>\n",
       "      <td id=\"T_6ca2b_row23_col1\" class=\"data row23 col1\" >Nigeria-Morocco Gas Pipeline</td>\n",
       "      <td id=\"T_6ca2b_row23_col2\" class=\"data row23 col2\" >30.000000</td>\n",
       "      <td id=\"T_6ca2b_row23_col3\" class=\"data row23 col3\" >5660.000000</td>\n",
       "      <td id=\"T_6ca2b_row23_col4\" class=\"data row23 col4\" >137.850000</td>\n",
       "      <td id=\"T_6ca2b_row23_col5\" class=\"data row23 col5\" >558.603754</td>\n",
       "    </tr>\n",
       "    <tr>\n",
       "      <td id=\"T_6ca2b_row24_col0\" class=\"data row24 col0\" >Romania</td>\n",
       "      <td id=\"T_6ca2b_row24_col1\" class=\"data row24 col1\" >North–Vest Romania Pipeline</td>\n",
       "      <td id=\"T_6ca2b_row24_col2\" class=\"data row24 col2\" ></td>\n",
       "      <td id=\"T_6ca2b_row24_col3\" class=\"data row24 col3\" >518.000000</td>\n",
       "      <td id=\"T_6ca2b_row24_col4\" class=\"data row24 col4\" >518.000000</td>\n",
       "      <td id=\"T_6ca2b_row24_col5\" class=\"data row24 col5\" >404.999999</td>\n",
       "    </tr>\n",
       "    <tr>\n",
       "      <td id=\"T_6ca2b_row25_col0\" class=\"data row25 col0\" >Croatia</td>\n",
       "      <td id=\"T_6ca2b_row25_col1\" class=\"data row25 col1\" >Omišalj-Zlobin-Bosiljevo-Sisak-Kozarac-Slobodnica LNG main evacuation pipeline</td>\n",
       "      <td id=\"T_6ca2b_row25_col2\" class=\"data row25 col2\" >10.000000</td>\n",
       "      <td id=\"T_6ca2b_row25_col3\" class=\"data row25 col3\" >180.000000</td>\n",
       "      <td id=\"T_6ca2b_row25_col4\" class=\"data row25 col4\" >180.000000</td>\n",
       "      <td id=\"T_6ca2b_row25_col5\" class=\"data row25 col5\" >198.000000</td>\n",
       "    </tr>\n",
       "    <tr>\n",
       "      <td id=\"T_6ca2b_row26_col0\" class=\"data row26 col0\" >Greece</td>\n",
       "      <td id=\"T_6ca2b_row26_col1\" class=\"data row26 col1\" >Poseidon Gas Pipeline</td>\n",
       "      <td id=\"T_6ca2b_row26_col2\" class=\"data row26 col2\" >15.000000</td>\n",
       "      <td id=\"T_6ca2b_row26_col3\" class=\"data row26 col3\" >976.000000</td>\n",
       "      <td id=\"T_6ca2b_row26_col4\" class=\"data row26 col4\" >913.790000</td>\n",
       "      <td id=\"T_6ca2b_row26_col5\" class=\"data row26 col5\" >3183.284838</td>\n",
       "    </tr>\n",
       "    <tr>\n",
       "      <td id=\"T_6ca2b_row27_col0\" class=\"data row27 col0\" >Italy</td>\n",
       "      <td id=\"T_6ca2b_row27_col1\" class=\"data row27 col1\" >Poseidon Gas Pipeline</td>\n",
       "      <td id=\"T_6ca2b_row27_col2\" class=\"data row27 col2\" >15.000000</td>\n",
       "      <td id=\"T_6ca2b_row27_col3\" class=\"data row27 col3\" >976.000000</td>\n",
       "      <td id=\"T_6ca2b_row27_col4\" class=\"data row27 col4\" >62.210000</td>\n",
       "      <td id=\"T_6ca2b_row27_col5\" class=\"data row27 col5\" >216.715164</td>\n",
       "    </tr>\n",
       "    <tr>\n",
       "      <td id=\"T_6ca2b_row28_col0\" class=\"data row28 col0\" >Italy</td>\n",
       "      <td id=\"T_6ca2b_row28_col1\" class=\"data row28 col1\" >Sealine Tirrenica gas pipeline</td>\n",
       "      <td id=\"T_6ca2b_row28_col2\" class=\"data row28 col2\" ></td>\n",
       "      <td id=\"T_6ca2b_row28_col3\" class=\"data row28 col3\" >255.000000</td>\n",
       "      <td id=\"T_6ca2b_row28_col4\" class=\"data row28 col4\" >255.000000</td>\n",
       "      <td id=\"T_6ca2b_row28_col5\" class=\"data row28 col5\" >767.602238</td>\n",
       "    </tr>\n",
       "    <tr>\n",
       "      <td id=\"T_6ca2b_row29_col0\" class=\"data row29 col0\" >Germany</td>\n",
       "      <td id=\"T_6ca2b_row29_col1\" class=\"data row29 col1\" >South German Gas Pipeline</td>\n",
       "      <td id=\"T_6ca2b_row29_col2\" class=\"data row29 col2\" ></td>\n",
       "      <td id=\"T_6ca2b_row29_col3\" class=\"data row29 col3\" >250.000000</td>\n",
       "      <td id=\"T_6ca2b_row29_col4\" class=\"data row29 col4\" >250.000000</td>\n",
       "      <td id=\"T_6ca2b_row29_col5\" class=\"data row29 col5\" >752.551214</td>\n",
       "    </tr>\n",
       "    <tr>\n",
       "      <td id=\"T_6ca2b_row30_col0\" class=\"data row30 col0\" >Spain</td>\n",
       "      <td id=\"T_6ca2b_row30_col1\" class=\"data row30 col1\" >Spain-Italy Offshore Interconnector</td>\n",
       "      <td id=\"T_6ca2b_row30_col2\" class=\"data row30 col2\" >30.000000</td>\n",
       "      <td id=\"T_6ca2b_row30_col3\" class=\"data row30 col3\" >700.000000</td>\n",
       "      <td id=\"T_6ca2b_row30_col4\" class=\"data row30 col4\" >350.000000</td>\n",
       "      <td id=\"T_6ca2b_row30_col5\" class=\"data row30 col5\" >1053.571699</td>\n",
       "    </tr>\n",
       "    <tr>\n",
       "      <td id=\"T_6ca2b_row31_col0\" class=\"data row31 col0\" >Italy</td>\n",
       "      <td id=\"T_6ca2b_row31_col1\" class=\"data row31 col1\" >Spain-Italy Offshore Interconnector</td>\n",
       "      <td id=\"T_6ca2b_row31_col2\" class=\"data row31 col2\" >30.000000</td>\n",
       "      <td id=\"T_6ca2b_row31_col3\" class=\"data row31 col3\" >700.000000</td>\n",
       "      <td id=\"T_6ca2b_row31_col4\" class=\"data row31 col4\" >350.000000</td>\n",
       "      <td id=\"T_6ca2b_row31_col5\" class=\"data row31 col5\" >1053.571699</td>\n",
       "    </tr>\n",
       "  </tbody>\n",
       "</table>\n"
      ],
      "text/plain": [
       "<pandas.io.formats.style.Styler at 0x153e4bc90>"
      ]
     },
     "execution_count": 36,
     "metadata": {},
     "output_type": "execute_result"
    }
   ],
   "source": [
    "output_columns = ['Country',\n",
    "                  'PipelineName',\n",
    "                  #'Status',\n",
    "                  'CapacityBcm/y',\n",
    "                  'MergedKmByPipeline',\n",
    "                  'MergedKmByCountry',\n",
    "                  'TotalEstCostEuroMillionsMean']#,\n",
    "                  #'TotalEstCostEuroMillionsLow',\n",
    "                  #'TotalEstCostEuroMillionsHigh']\n",
    "\n",
    "country_ratios_df_touse.replace(numpy.nan,'').loc[\n",
    "    (country_ratios_df_touse.ProjectID.isin(projectids_threshold))].sort_values([\n",
    "    'Status','PipelineName','TotalEstCostEuroMillionsLow'], ascending=[True,True,False])[output_columns].style.hide_index()\n"
   ]
  },
  {
   "cell_type": "markdown",
   "id": "90a50c8d-1cb5-4d0d-8614-9c15390a5b3e",
   "metadata": {},
   "source": [
    "### shorter than 150 km"
   ]
  },
  {
   "cell_type": "code",
   "execution_count": 37,
   "id": "37839ae1-18da-463a-ab98-43bf4834ec55",
   "metadata": {},
   "outputs": [
    {
     "data": {
      "text/html": [
       "<div>\n",
       "<style scoped>\n",
       "    .dataframe tbody tr th:only-of-type {\n",
       "        vertical-align: middle;\n",
       "    }\n",
       "\n",
       "    .dataframe tbody tr th {\n",
       "        vertical-align: top;\n",
       "    }\n",
       "\n",
       "    .dataframe thead th {\n",
       "        text-align: right;\n",
       "    }\n",
       "</style>\n",
       "<table border=\"1\" class=\"dataframe\">\n",
       "  <thead>\n",
       "    <tr style=\"text-align: right;\">\n",
       "      <th></th>\n",
       "      <th>MergedKmByCountry</th>\n",
       "      <th>TotalEstCostEuroMillionsMean</th>\n",
       "      <th>TotalEstCostEuroMillionsLow</th>\n",
       "      <th>TotalEstCostEuroMillionsHigh</th>\n",
       "    </tr>\n",
       "    <tr>\n",
       "      <th>Status</th>\n",
       "      <th></th>\n",
       "      <th></th>\n",
       "      <th></th>\n",
       "      <th></th>\n",
       "    </tr>\n",
       "  </thead>\n",
       "  <tbody>\n",
       "    <tr>\n",
       "      <th>Construction</th>\n",
       "      <td>345.70</td>\n",
       "      <td>317.051417</td>\n",
       "      <td>315.839744</td>\n",
       "      <td>318.263089</td>\n",
       "    </tr>\n",
       "    <tr>\n",
       "      <th>Proposed</th>\n",
       "      <td>2937.75</td>\n",
       "      <td>6379.748809</td>\n",
       "      <td>5116.105537</td>\n",
       "      <td>7643.392080</td>\n",
       "    </tr>\n",
       "  </tbody>\n",
       "</table>\n",
       "</div>"
      ],
      "text/plain": [
       "              MergedKmByCountry  TotalEstCostEuroMillionsMean  \\\n",
       "Status                                                          \n",
       "Construction             345.70                    317.051417   \n",
       "Proposed                2937.75                   6379.748809   \n",
       "\n",
       "              TotalEstCostEuroMillionsLow  TotalEstCostEuroMillionsHigh  \n",
       "Status                                                                   \n",
       "Construction                   315.839744                    318.263089  \n",
       "Proposed                      5116.105537                   7643.392080  "
      ]
     },
     "execution_count": 37,
     "metadata": {},
     "output_type": "execute_result"
    }
   ],
   "source": [
    "below_threshold_df = country_ratios_df_touse.loc[country_ratios_df_touse.ProjectID.isin(projectids_under_threshold)]#.groupby('Status')\n",
    "\n",
    "below_threshold_df.groupby('Status')[['MergedKmByCountry',\n",
    "                                      'TotalEstCostEuroMillionsMean',\n",
    "                                      'TotalEstCostEuroMillionsLow',\n",
    "                                      'TotalEstCostEuroMillionsHigh']].sum()"
   ]
  },
  {
   "cell_type": "markdown",
   "id": "d667c2dd-93ee-467e-a92b-8e952ad018c0",
   "metadata": {},
   "source": [
    "# import terminals now"
   ]
  },
  {
   "cell_type": "code",
   "execution_count": 39,
   "id": "831ed7ce-cd84-456c-bdbe-81266871d76c",
   "metadata": {},
   "outputs": [],
   "source": [
    "credentials_directory = '/Users/baird/Dropbox/_google-api/'\n",
    "gc = pygsheets.authorize(service_account_env_var='GDRIVE_API_CREDENTIALS')\n",
    "spreadsheet = gc.open_by_key('1tcS6Wd-Wp-LTDpLzFgJY_RSNDnbyubW3J_9HKIAys4A')\n",
    "#spreadsheet = gc.open_by_key('1BHiidrJnzh96Em3KrqBpCoWaJ3GB5OeCY9dHVaEDEFs') # mar 22 2022 version for EGT\n",
    "\n",
    "#spreadsheet[1] \"Gas Pipelines\" tab is the second index\n",
    "terms_df_orig = spreadsheet.worksheet('title', 'Terminals').get_as_df(start='A2')"
   ]
  },
  {
   "cell_type": "code",
   "execution_count": 40,
   "id": "3d5cdc48-ff99-4d3c-a4eb-daa930c8e957",
   "metadata": {},
   "outputs": [],
   "source": [
    "# replace all -- with nans\n",
    "terms_df_orig.replace('--', numpy.nan, inplace=True)\n",
    "# only keep LNG terminals (remove oil)\n",
    "terms_df_orig = terms_df_orig.loc[terms_df_orig.Fuel=='LNG']\n",
    "# remove anything without a wiki page\n",
    "terms_df_orig = terms_df_orig.loc[terms_df_orig.Wiki!='']\n",
    "# remove N/A statuses\n",
    "terms_df_orig = terms_df_orig.loc[terms_df_orig.Status!='']"
   ]
  },
  {
   "cell_type": "code",
   "execution_count": 42,
   "id": "1cd062b3-7955-4162-9bce-b4fd7170bcd6",
   "metadata": {},
   "outputs": [],
   "source": [
    "terms_df_touse = terms_df_orig.loc[(terms_df_orig['Country'].isin(region_df_touse['Country']))&\n",
    "                                   (terms_df_orig.Fuel=='LNG')]\n",
    "terms_df_touse_imports = terms_df_touse.loc[(terms_df_orig['Country'].isin(region_df_touse['Country']))&\n",
    "                                            (terms_df_touse['Import/Export']=='Import')]"
   ]
  },
  {
   "cell_type": "markdown",
   "id": "43002278-ab44-4e62-a9b9-12274d1fcd70",
   "metadata": {},
   "source": [
    "### outliers and special cases"
   ]
  },
  {
   "cell_type": "raw",
   "id": "cda8dc06-c22c-4b32-aa48-190cb0b5b18b",
   "metadata": {},
   "source": [
    "outliers_comboids = ['T068300'] # Ravenna=068300\n",
    "terms_cost_calc_eu27 = terms_cost_calc_eu27.loc[~terms_cost_calc_eu27.ComboID.isin(outliers_comboids)]"
   ]
  },
  {
   "cell_type": "markdown",
   "id": "34a066ad-c9a6-438e-b22c-f0220daec539",
   "metadata": {},
   "source": [
    "#### pull out what to regress for costs"
   ]
  },
  {
   "cell_type": "code",
   "execution_count": 43,
   "id": "5b915c1b-0e9f-469e-a8eb-598cf8f6cbf4",
   "metadata": {},
   "outputs": [],
   "source": [
    "terms_df_floating_toregress = terms_df_touse.loc[(terms_df_touse['Import/Export']=='Import')&\n",
    "                                                 (terms_df_touse.Floating=='yes')&\n",
    "                                                 (~terms_df_touse['CostEuroPerBcm/y'].isnull())]\n",
    "terms_df_floating_toregress_dropdupes = terms_df_floating_toregress.drop_duplicates('CostEuroPerBcm/y')"
   ]
  },
  {
   "cell_type": "code",
   "execution_count": 44,
   "id": "a3b7a413-f105-409d-8dc5-e00fd5085ed4",
   "metadata": {},
   "outputs": [],
   "source": [
    "terms_df_onshore_toregress = terms_df_touse.loc[(terms_df_touse['Import/Export']=='Import')&\n",
    "                                                (terms_df_touse.Floating=='')&\n",
    "                                                (~terms_df_touse['CostEuroPerBcm/y'].isnull())&\n",
    "                                                (~terms_df_touse.UnitName.str.contains('expansion', flags=re.IGNORECASE, regex=True))]\n",
    "terms_df_onshore_toregress_dropdupes = terms_df_onshore_toregress.drop_duplicates('CostEuroPerBcm/y')"
   ]
  },
  {
   "cell_type": "markdown",
   "id": "e84202ca-bde2-4eb6-8664-d613bb2f6a7c",
   "metadata": {},
   "source": [
    "### regressions for costs"
   ]
  },
  {
   "cell_type": "markdown",
   "id": "1bb82a6b-b39a-4d57-be6d-8a6cd89d1391",
   "metadata": {},
   "source": [
    "#### floating terminals"
   ]
  },
  {
   "cell_type": "code",
   "execution_count": 45,
   "id": "1a8ede59-b0d3-4d2a-9521-cb711485c9bd",
   "metadata": {},
   "outputs": [
    {
     "name": "stderr",
     "output_type": "stream",
     "text": [
      "/Users/baird/mambaforge/envs/gem/lib/python3.11/site-packages/sklearn/utils/validation.py:1143: DataConversionWarning: A column-vector y was passed when a 1d array was expected. Please change the shape of y to (n_samples, ), for example using ravel().\n",
      "  y = column_or_1d(y, warn=True)\n"
     ]
    }
   ],
   "source": [
    "ts_estimator_f = sklearn.linear_model.TheilSenRegressor(random_state=42, fit_intercept=False)\n",
    "ts_estimator_f.fit(X=terms_df_floating_toregress['CapacityInBcm/y'].to_numpy().reshape(-1,1),\n",
    "                 y=terms_df_floating_toregress.CostEuro.to_numpy().reshape(-1,1))\n",
    "\n",
    "r_estimator_f = sklearn.linear_model.RANSACRegressor(random_state=42,\n",
    "                                                   estimator=sklearn.linear_model.LinearRegression(fit_intercept=False))\n",
    "r_estimator_f.fit(X=terms_df_floating_toregress['CapacityInBcm/y'].to_numpy().reshape(-1,1),\n",
    "                y=terms_df_floating_toregress.CostEuro.to_numpy().reshape(-1,1))\n",
    "\n",
    "ols_estimator_f = sklearn.linear_model.LinearRegression(fit_intercept=False)\n",
    "ols_estimator_f.fit(X=terms_df_floating_toregress['CapacityInBcm/y'].to_numpy().reshape(-1,1),\n",
    "                  y=terms_df_floating_toregress.CostEuro.to_numpy().reshape(-1,1))\n",
    "\n",
    "ts_slope_f, ts_intercept_f, ts_low_slope_f, ts_high_slope_f = scipy.stats.mstats.theilslopes(y=terms_df_floating_toregress.CostEuro.tolist(), \n",
    "                                                                            x=terms_df_floating_toregress['CapacityInBcm/y'].tolist(),\n",
    "                                                                            alpha=0.1, )\n",
    "\n",
    "s_slope_f, s_intercept_f = scipy.stats.mstats.siegelslopes(y=terms_df_floating_toregress.CostEuro.tolist(), \n",
    "                                                       x=terms_df_floating_toregress['CapacityInBcm/y'].tolist())"
   ]
  },
  {
   "cell_type": "code",
   "execution_count": 46,
   "id": "f0eb52e6-cc09-4329-883f-aa2c21ed7783",
   "metadata": {},
   "outputs": [
    {
     "name": "stdout",
     "output_type": "stream",
     "text": [
      "[[70.1053435]] OLS\n",
      "[62.5] TS\n",
      "[[60.67546407]] R\n",
      "66.66666666666667 scipy TS slope\n",
      "90.19328627811765 straight-up mean\n"
     ]
    },
    {
     "data": {
      "image/png": "[encoded data removed]",
      "text/plain": [
       "<Figure size 640x480 with 1 Axes>"
      ]
     },
     "metadata": {},
     "output_type": "display_data"
    }
   ],
   "source": [
    "ax = terms_df_floating_toregress_dropdupes.plot.scatter('CapacityInBcm/y', 'CostEuro')\n",
    "\n",
    "xmin, xmax = ax.get_xlim()\n",
    "ymin, ymax = ax.get_ylim()\n",
    "\n",
    "#ax.set_xlim(0,200)\n",
    "#ax.set_ylim(0,0.4e9)\n",
    "xvals = numpy.linspace(xmin,xmax,1000)\n",
    "\n",
    "ts_pred_f = ts_estimator_f.predict(xvals.reshape(-1,1))\n",
    "r_pred_f = r_estimator_f.predict(xvals.reshape(-1,1))\n",
    "ols_pred_f = ols_estimator_f.predict(xvals.reshape(-1,1))\n",
    "\n",
    "ax.plot(xvals, ts_slope_f*xvals+ts_intercept_f, label = 'scipy Theil-Sen regression', c='red')\n",
    "ax.plot(xvals, ts_low_slope_f*xvals+ts_intercept_f, label='scipy conf. interval', c='red', ls=':')\n",
    "ax.plot(xvals, ts_high_slope_f*xvals+ts_intercept_f, c='red', ls=':')\n",
    "\n",
    "ax.plot(xvals, ts_pred_f, label='scikit-learn Theil-Sen', c='green')\n",
    "ax.plot(xvals, r_pred_f, label='scikit-learn RANSAC', c='lightgreen')\n",
    "ax.plot(xvals, ols_pred_f, label='scikit-learn OLS', c='gray')\n",
    "\n",
    "#ax.plot(\n",
    "\n",
    "#ax.plot(xvals, s_slope*xvals+s_intercept, label = 'scipy.stats', c='orange')\n",
    "\n",
    "ax.legend()\n",
    "\n",
    "print(ols_estimator_f.coef_/1e6, \"OLS\")\n",
    "print(ts_estimator_f.coef_/1e6, \"TS\")\n",
    "print(r_estimator_f.estimator_.coef_/1e6, \"R\")\n",
    "print(ts_slope_f/1e6, \"scipy TS slope\")\n",
    "print(terms_df_floating_toregress_dropdupes['CostEuroPerBcm/y'].mean()/1e6, \"straight-up mean\")"
   ]
  },
  {
   "cell_type": "raw",
   "id": "3a4ab72c-4bdc-4118-8fdd-d16df53bf800",
   "metadata": {},
   "source": [
    "terms_df_floating_toregress_dropdupes[['TerminalName','UnitName','CostEuro','CapacityInBcm/y']].sort_values('CapacityInBcm/y')"
   ]
  },
  {
   "cell_type": "markdown",
   "id": "e89a9209-24d9-4866-9df8-898d99f08b44",
   "metadata": {},
   "source": [
    "#### onshore terminals"
   ]
  },
  {
   "cell_type": "code",
   "execution_count": 47,
   "id": "86d98d6e-1a81-466f-aa1b-0930ca553344",
   "metadata": {},
   "outputs": [
    {
     "name": "stderr",
     "output_type": "stream",
     "text": [
      "/Users/baird/mambaforge/envs/gem/lib/python3.11/site-packages/sklearn/utils/validation.py:1143: DataConversionWarning: A column-vector y was passed when a 1d array was expected. Please change the shape of y to (n_samples, ), for example using ravel().\n",
      "  y = column_or_1d(y, warn=True)\n"
     ]
    }
   ],
   "source": [
    "ts_estimator_o = sklearn.linear_model.TheilSenRegressor(random_state=42, fit_intercept=False)\n",
    "ts_estimator_o.fit(X=terms_df_onshore_toregress['CapacityInBcm/y'].to_numpy().reshape(-1,1),\n",
    "                 y=terms_df_onshore_toregress.CostEuro.to_numpy().reshape(-1,1))\n",
    "\n",
    "r_estimator_o = sklearn.linear_model.RANSACRegressor(random_state=42,\n",
    "                                                   estimator=sklearn.linear_model.LinearRegression(fit_intercept=False))\n",
    "r_estimator_o.fit(X=terms_df_onshore_toregress['CapacityInBcm/y'].to_numpy().reshape(-1,1),\n",
    "                y=terms_df_onshore_toregress.CostEuro.to_numpy().reshape(-1,1))\n",
    "\n",
    "ols_estimator_o = sklearn.linear_model.LinearRegression(fit_intercept=False)\n",
    "ols_estimator_o.fit(X=terms_df_onshore_toregress['CapacityInBcm/y'].to_numpy().reshape(-1,1),\n",
    "                  y=terms_df_onshore_toregress.CostEuro.to_numpy().reshape(-1,1))\n",
    "\n",
    "ts_slope_o, ts_intercept_o, ts_low_slope_o, ts_high_slope_o = scipy.stats.mstats.theilslopes(y=terms_df_onshore_toregress.CostEuro.tolist(), \n",
    "                                                                            x=terms_df_onshore_toregress['CapacityInBcm/y'].tolist(),\n",
    "                                                                            alpha=0.1, )\n",
    "\n",
    "s_slope_o, s_intercept_o = scipy.stats.mstats.siegelslopes(y=terms_df_onshore_toregress.CostEuro.tolist(), \n",
    "                                                       x=terms_df_onshore_toregress['CapacityInBcm/y'].tolist())"
   ]
  },
  {
   "cell_type": "code",
   "execution_count": 48,
   "id": "d1279b63-db3f-4185-88ae-7f7d552ccacd",
   "metadata": {},
   "outputs": [
    {
     "name": "stdout",
     "output_type": "stream",
     "text": [
      "[[83.53597048]] OLS\n",
      "[125.] TS\n",
      "[[82.24138621]] R\n",
      "77.86814560898576 scipy TS slope\n"
     ]
    },
    {
     "data": {
      "image/png": "[encoded data removed]",
      "text/plain": [
       "<Figure size 640x480 with 1 Axes>"
      ]
     },
     "metadata": {},
     "output_type": "display_data"
    }
   ],
   "source": [
    "ax = terms_df_onshore_toregress_dropdupes.plot.scatter('CapacityInBcm/y', 'CostEuro')\n",
    "\n",
    "xmin, xmax = ax.get_xlim()\n",
    "ymin, ymax = ax.get_ylim()\n",
    "\n",
    "#ax.set_xlim(0,200)\n",
    "#ax.set_ylim(0,0.4e9)\n",
    "xvals = numpy.linspace(xmin,xmax,1000)\n",
    "\n",
    "ts_pred_o = ts_estimator_o.predict(xvals.reshape(-1,1))\n",
    "r_pred_o = r_estimator_o.predict(xvals.reshape(-1,1))\n",
    "ols_pred_o = ols_estimator_o.predict(xvals.reshape(-1,1))\n",
    "\n",
    "ax.plot(xvals, ts_slope_o*xvals+ts_intercept_o, label = 'scipy Theil-Sen regression', c='red')\n",
    "ax.plot(xvals, ts_low_slope_o*xvals+ts_intercept_o, label='scipy conf. interval', c='red', ls=':')\n",
    "ax.plot(xvals, ts_high_slope_o*xvals+ts_intercept_o, c='red', ls=':')\n",
    "\n",
    "ax.plot(xvals, ts_pred_o, label='scikit-learn Theil-Sen', c='green')\n",
    "ax.plot(xvals, r_pred_o, label='scikit-learn RANSAC', c='lightgreen')\n",
    "ax.plot(xvals, ols_pred_o, label='scikit-learn OLS', c='gray')\n",
    "\n",
    "#ax.plot(\n",
    "\n",
    "#ax.plot(xvals, s_slope*xvals+s_intercept, label = 'scipy.stats', c='orange')\n",
    "\n",
    "ax.legend()\n",
    "\n",
    "print(ols_estimator_o.coef_/1e6, \"OLS\")\n",
    "print(ts_estimator_o.coef_/1e6, \"TS\")\n",
    "print(r_estimator_o.estimator_.coef_/1e6, \"R\")\n",
    "print(ts_slope_o/1e6, \"scipy TS slope\")"
   ]
  },
  {
   "cell_type": "code",
   "execution_count": 49,
   "id": "f3b17986-8938-4f3e-8e86-7e3e74512aff",
   "metadata": {},
   "outputs": [
    {
     "data": {
      "text/plain": [
       "90.19328627811765"
      ]
     },
     "execution_count": 49,
     "metadata": {},
     "output_type": "execute_result"
    }
   ],
   "source": [
    "terms_df_floating_toregress_dropdupes['CostEuroPerBcm/y'].mean()/1e6"
   ]
  },
  {
   "cell_type": "code",
   "execution_count": 50,
   "id": "de35f6d1-76f3-4d65-a9e3-756496142d86",
   "metadata": {},
   "outputs": [
    {
     "data": {
      "text/plain": [
       "200.6206502353846"
      ]
     },
     "execution_count": 50,
     "metadata": {},
     "output_type": "execute_result"
    }
   ],
   "source": [
    "terms_df_onshore_toregress_dropdupes['CostEuroPerBcm/y'].mean()/1e6"
   ]
  },
  {
   "cell_type": "markdown",
   "id": "9664f674-e4f3-4915-82f3-9b7dd8af679e",
   "metadata": {},
   "source": [
    "## calculate floating costs (high and low estimates)"
   ]
  },
  {
   "cell_type": "markdown",
   "id": "35d9b531-68f3-4b98-a52b-f15786e3a4bd",
   "metadata": {},
   "source": [
    "SMALLER MEAN"
   ]
  },
  {
   "cell_type": "code",
   "execution_count": 51,
   "id": "5b80fda7-1c94-4a50-beee-cdabbe589beb",
   "metadata": {},
   "outputs": [
    {
     "name": "stdout",
     "output_type": "stream",
     "text": [
      "70.10534349959265\n",
      "83.53597048210717\n"
     ]
    }
   ],
   "source": [
    "print(ols_estimator_f.coef_[0][0]/1e6)\n",
    "print(ols_estimator_o.coef_[0][0]/1e6)"
   ]
  },
  {
   "cell_type": "code",
   "execution_count": 52,
   "id": "133e32b9-53b7-4215-940f-37b46b2ecdd3",
   "metadata": {
    "scrolled": true,
    "tags": []
   },
   "outputs": [
    {
     "name": "stderr",
     "output_type": "stream",
     "text": [
      "/var/folders/fl/t07mc8053p33mn6mdmvp45580000gn/T/ipykernel_1725/1020654288.py:8: SettingWithCopyWarning: \n",
      "A value is trying to be set on a copy of a slice from a DataFrame.\n",
      "Try using .loc[row_indexer,col_indexer] = value instead\n",
      "\n",
      "See the caveats in the documentation: https://pandas.pydata.org/pandas-docs/stable/user_guide/indexing.html#returning-a-view-versus-a-copy\n",
      "  terms_df_eu27_import_future['TotalEstCostEuroMillionsLow'] = numpy.nan\n",
      "/var/folders/fl/t07mc8053p33mn6mdmvp45580000gn/T/ipykernel_1725/1020654288.py:25: SettingWithCopyWarning: \n",
      "A value is trying to be set on a copy of a slice from a DataFrame\n",
      "\n",
      "See the caveats in the documentation: https://pandas.pydata.org/pandas-docs/stable/user_guide/indexing.html#returning-a-view-versus-a-copy\n",
      "  terms_df_eu27_import_future.loc[costs_exist_TF,'TotalEstCostEuroMillionsLow'] = \\\n"
     ]
    }
   ],
   "source": [
    "mean_cost_per_bcmy_floating = ols_estimator_f.coef_[0][0]/1e6\n",
    "mean_cost_per_bcmy_onshore = ols_estimator_o.coef_[0][0]/1e6\n",
    "\n",
    "terms_df_eu27_import_future = terms_df_touse.loc[(terms_df_touse.Status.isin(['Proposed','Construction']))&\n",
    "                                                 (terms_df_touse['Import/Export']=='Import')]\n",
    "\n",
    "# do for floating\n",
    "terms_df_eu27_import_future['TotalEstCostEuroMillionsLow'] = numpy.nan\n",
    "\n",
    "terms_df_eu27_import_future.loc[(terms_df_eu27_import_future['Floating']=='yes'),\n",
    "                                'TotalEstCostEuroMillionsLow'] = \\\n",
    "terms_df_eu27_import_future.loc[(terms_df_eu27_import_future['Floating']=='yes'),\n",
    "                                'CapacityInBcm/y'] * mean_cost_per_bcmy_floating\n",
    "\n",
    "# now do for onshore\n",
    "#terms_df_eu27_import_future.loc[:,'TotalEstCostEuroMillionsLow'] = numpy.nan\n",
    "terms_df_eu27_import_future.loc[(terms_df_eu27_import_future['Floating']==''),\n",
    "                                'TotalEstCostEuroMillionsLow'] = \\\n",
    "terms_df_eu27_import_future.loc[(terms_df_eu27_import_future['Floating']==''),\n",
    "                                'CapacityInBcm/y'] * mean_cost_per_bcmy_onshore\n",
    "\n",
    "# then replace any that we have already\n",
    "# now replace the ones that we have exact numbers for...\n",
    "costs_exist_TF = ~terms_df_eu27_import_future['CostEuro'].isna()\n",
    "terms_df_eu27_import_future.loc[costs_exist_TF,'TotalEstCostEuroMillionsLow'] = \\\n",
    "    terms_df_eu27_import_future[costs_exist_TF]['CostEuro']/1e6 #*euro_multiplier/1e6"
   ]
  },
  {
   "cell_type": "markdown",
   "id": "1a6d3e93-7f66-496e-9f31-2ed1320572b6",
   "metadata": {},
   "source": [
    "LARGER MEAN"
   ]
  },
  {
   "cell_type": "code",
   "execution_count": 53,
   "id": "ceb0fe4b-5ef3-4d89-a580-afa26fa93938",
   "metadata": {},
   "outputs": [
    {
     "name": "stderr",
     "output_type": "stream",
     "text": [
      "/var/folders/fl/t07mc8053p33mn6mdmvp45580000gn/T/ipykernel_1725/1859383821.py:8: SettingWithCopyWarning: \n",
      "A value is trying to be set on a copy of a slice from a DataFrame.\n",
      "Try using .loc[row_indexer,col_indexer] = value instead\n",
      "\n",
      "See the caveats in the documentation: https://pandas.pydata.org/pandas-docs/stable/user_guide/indexing.html#returning-a-view-versus-a-copy\n",
      "  terms_df_eu27_import_future['TotalEstCostEuroMillionsHigh'] = numpy.nan\n",
      "/var/folders/fl/t07mc8053p33mn6mdmvp45580000gn/T/ipykernel_1725/1859383821.py:25: SettingWithCopyWarning: \n",
      "A value is trying to be set on a copy of a slice from a DataFrame\n",
      "\n",
      "See the caveats in the documentation: https://pandas.pydata.org/pandas-docs/stable/user_guide/indexing.html#returning-a-view-versus-a-copy\n",
      "  terms_df_eu27_import_future.loc[costs_exist_TF,'TotalEstCostEuroMillionsHigh'] = \\\n"
     ]
    }
   ],
   "source": [
    "mean_cost_per_bcmy_floating = terms_df_floating_toregress_dropdupes['CostEuroPerBcm/y'].mean()/1e6\n",
    "mean_cost_per_bcmy_onshore = terms_df_onshore_toregress_dropdupes['CostEuroPerBcm/y'].mean()/1e6\n",
    "\n",
    "# terms_df_eu27_import_future = terms_df_touse.loc[(terms_df_touse.Status.isin(['Proposed','Construction']))&\n",
    "#                                                  (terms_df_touse['Import/Export']=='Import')]\n",
    "\n",
    "# do for floating\n",
    "terms_df_eu27_import_future['TotalEstCostEuroMillionsHigh'] = numpy.nan\n",
    "\n",
    "terms_df_eu27_import_future.loc[(terms_df_eu27_import_future['Floating']=='yes'),\n",
    "                                'TotalEstCostEuroMillionsHigh'] = \\\n",
    "terms_df_eu27_import_future.loc[(terms_df_eu27_import_future['Floating']=='yes'),\n",
    "                                'CapacityInBcm/y'] * mean_cost_per_bcmy_floating\n",
    "\n",
    "# now do for onshore\n",
    "#terms_df_eu27_import_future.loc[:,'TotalEstCostEuroMillionsLow'] = numpy.nan\n",
    "terms_df_eu27_import_future.loc[(terms_df_eu27_import_future['Floating']==''),\n",
    "                                'TotalEstCostEuroMillionsHigh'] = \\\n",
    "terms_df_eu27_import_future.loc[(terms_df_eu27_import_future['Floating']==''),\n",
    "                                'CapacityInBcm/y'] * mean_cost_per_bcmy_onshore\n",
    "\n",
    "# then replace any that we have already\n",
    "# now replace the ones that we have exact numbers for...\n",
    "costs_exist_TF = ~terms_df_eu27_import_future['CostEuro'].isna()\n",
    "terms_df_eu27_import_future.loc[costs_exist_TF,'TotalEstCostEuroMillionsHigh'] = \\\n",
    "    terms_df_eu27_import_future[costs_exist_TF]['CostEuro']/1e6 #*euro_multiplier/1e6"
   ]
  },
  {
   "cell_type": "code",
   "execution_count": 54,
   "id": "4e07b2a6-cf13-41e8-bbe2-bc29d9f52c9a",
   "metadata": {},
   "outputs": [
    {
     "name": "stderr",
     "output_type": "stream",
     "text": [
      "/var/folders/fl/t07mc8053p33mn6mdmvp45580000gn/T/ipykernel_1725/4095347764.py:1: SettingWithCopyWarning: \n",
      "A value is trying to be set on a copy of a slice from a DataFrame.\n",
      "Try using .loc[row_indexer,col_indexer] = value instead\n",
      "\n",
      "See the caveats in the documentation: https://pandas.pydata.org/pandas-docs/stable/user_guide/indexing.html#returning-a-view-versus-a-copy\n",
      "  terms_df_eu27_import_future['TotalEstCostEuroMillionsMean'] = \\\n"
     ]
    }
   ],
   "source": [
    "terms_df_eu27_import_future['TotalEstCostEuroMillionsMean'] = \\\n",
    "    terms_df_eu27_import_future[['TotalEstCostEuroMillionsLow', 'TotalEstCostEuroMillionsHigh']].mean(axis=1)"
   ]
  },
  {
   "cell_type": "markdown",
   "id": "a68f598b-7834-4ac5-800a-d03dedb938a8",
   "metadata": {},
   "source": [
    "### correct outliers/special cases"
   ]
  },
  {
   "cell_type": "code",
   "execution_count": 55,
   "id": "dc1d376b-eb39-46be-9181-d51809b43101",
   "metadata": {},
   "outputs": [],
   "source": [
    "# Zeebrugge terminal is 116 million for BOTH expansion projects, so set one equal to zero so it's not counted twice\n",
    "#T042601\thttps://www.gem.wiki/Fluxys_Zeebrugge_LNG_Terminal\tZeebrugge LNG Terminal, 2024 Expansion\n",
    "#T042602\thttps://www.gem.wiki/Fluxys_Zeebrugge_LNG_Terminal\tZeebrugge LNG Terminal, 2026 Expansion\n",
    "outliers_comboids = ['T042602']\n",
    "terms_df_eu27_import_future.loc[\n",
    "    terms_df_eu27_import_future.ComboID.isin(outliers_comboids),\n",
    "    ['TotalEstCostEuroMillionsMean','TotalEstCostEuroMillionsLow','TotalEstCostEuroMillionsHigh']] = 0.0"
   ]
  },
  {
   "cell_type": "markdown",
   "id": "545eac8a-3887-4efd-b069-aac077d135c2",
   "metadata": {},
   "source": [
    "# creating table 7 (appendix) from 2022 report"
   ]
  },
  {
   "cell_type": "code",
   "execution_count": 56,
   "id": "a8f14946-8653-4e45-b90f-4bb2b45101bb",
   "metadata": {},
   "outputs": [
    {
     "data": {
      "text/plain": [
       "235.74999999999997"
      ]
     },
     "execution_count": 56,
     "metadata": {},
     "output_type": "execute_result"
    }
   ],
   "source": [
    "terms_df_eu27_import_future['CapacityInBcm/y'].sum()"
   ]
  },
  {
   "cell_type": "code",
   "execution_count": 58,
   "id": "71440ec6-b08e-4db3-871b-64a8f1dac4ab",
   "metadata": {},
   "outputs": [
    {
     "name": "stderr",
     "output_type": "stream",
     "text": [
      "/var/folders/fl/t07mc8053p33mn6mdmvp45580000gn/T/ipykernel_1725/3698264527.py:12: SettingWithCopyWarning: \n",
      "A value is trying to be set on a copy of a slice from a DataFrame.\n",
      "Try using .loc[row_indexer,col_indexer] = value instead\n",
      "\n",
      "See the caveats in the documentation: https://pandas.pydata.org/pandas-docs/stable/user_guide/indexing.html#returning-a-view-versus-a-copy\n",
      "  terms_df_eu27_import_future['TerminalNameUnitName'] = (terms_df_eu27_import_future.TerminalName + ' ' + terms_df_eu27_import_future.UnitName).str.strip()\n",
      "/var/folders/fl/t07mc8053p33mn6mdmvp45580000gn/T/ipykernel_1725/3698264527.py:14: FutureWarning: this method is deprecated in favour of `Styler.hide(axis=\"index\")`\n",
      "  ascending=[True,True])[output_columns].replace(numpy.nan,'').style.hide_index()\n"
     ]
    },
    {
     "data": {
      "text/html": [
       "<style type=\"text/css\">\n",
       "</style>\n",
       "<table id=\"T_3ba92\">\n",
       "  <thead>\n",
       "    <tr>\n",
       "      <th id=\"T_3ba92_level0_col0\" class=\"col_heading level0 col0\" >Country</th>\n",
       "      <th id=\"T_3ba92_level0_col1\" class=\"col_heading level0 col1\" >TerminalNameUnitName</th>\n",
       "      <th id=\"T_3ba92_level0_col2\" class=\"col_heading level0 col2\" >CapacityInBcm/y</th>\n",
       "      <th id=\"T_3ba92_level0_col3\" class=\"col_heading level0 col3\" >TotalEstCostEuroMillionsMean</th>\n",
       "    </tr>\n",
       "  </thead>\n",
       "  <tbody>\n",
       "    <tr>\n",
       "      <td id=\"T_3ba92_row0_col0\" class=\"data row0 col0\" >Greece</td>\n",
       "      <td id=\"T_3ba92_row0_col1\" class=\"data row0 col1\" >Alexandroupolis FSRU</td>\n",
       "      <td id=\"T_3ba92_row0_col2\" class=\"data row0 col2\" >5.500000</td>\n",
       "      <td id=\"T_3ba92_row0_col3\" class=\"data row0 col3\" >360.000000</td>\n",
       "    </tr>\n",
       "    <tr>\n",
       "      <td id=\"T_3ba92_row1_col0\" class=\"data row1 col0\" >Germany</td>\n",
       "      <td id=\"T_3ba92_row1_col1\" class=\"data row1 col1\" >Brunsbüttel FSRU</td>\n",
       "      <td id=\"T_3ba92_row1_col2\" class=\"data row1 col2\" >8.000000</td>\n",
       "      <td id=\"T_3ba92_row1_col3\" class=\"data row1 col3\" >1000.000000</td>\n",
       "    </tr>\n",
       "    <tr>\n",
       "      <td id=\"T_3ba92_row2_col0\" class=\"data row2 col0\" >Cyprus</td>\n",
       "      <td id=\"T_3ba92_row2_col1\" class=\"data row2 col1\" >Cyprus LNG Terminal</td>\n",
       "      <td id=\"T_3ba92_row2_col2\" class=\"data row2 col2\" >0.820000</td>\n",
       "      <td id=\"T_3ba92_row2_col3\" class=\"data row2 col3\" >312.000000</td>\n",
       "    </tr>\n",
       "    <tr>\n",
       "      <td id=\"T_3ba92_row3_col0\" class=\"data row3 col0\" >Estonia</td>\n",
       "      <td id=\"T_3ba92_row3_col1\" class=\"data row3 col1\" >Paldiski FSRU</td>\n",
       "      <td id=\"T_3ba92_row3_col2\" class=\"data row3 col2\" ></td>\n",
       "      <td id=\"T_3ba92_row3_col3\" class=\"data row3 col3\" >500.000000</td>\n",
       "    </tr>\n",
       "    <tr>\n",
       "      <td id=\"T_3ba92_row4_col0\" class=\"data row4 col0\" >Germany</td>\n",
       "      <td id=\"T_3ba92_row4_col1\" class=\"data row4 col1\" >Stade FSRU</td>\n",
       "      <td id=\"T_3ba92_row4_col2\" class=\"data row4 col2\" >5.000000</td>\n",
       "      <td id=\"T_3ba92_row4_col3\" class=\"data row4 col3\" >400.746574</td>\n",
       "    </tr>\n",
       "    <tr>\n",
       "      <td id=\"T_3ba92_row5_col0\" class=\"data row5 col0\" >Belgium</td>\n",
       "      <td id=\"T_3ba92_row5_col1\" class=\"data row5 col1\" >Zeebrugge LNG Terminal 2024 Expansion</td>\n",
       "      <td id=\"T_3ba92_row5_col2\" class=\"data row5 col2\" >6.390000</td>\n",
       "      <td id=\"T_3ba92_row5_col3\" class=\"data row5 col3\" >116.000000</td>\n",
       "    </tr>\n",
       "    <tr>\n",
       "      <td id=\"T_3ba92_row6_col0\" class=\"data row6 col0\" >Belgium</td>\n",
       "      <td id=\"T_3ba92_row6_col1\" class=\"data row6 col1\" >Zeebrugge LNG Terminal 2026 Expansion</td>\n",
       "      <td id=\"T_3ba92_row6_col2\" class=\"data row6 col2\" >1.770000</td>\n",
       "      <td id=\"T_3ba92_row6_col3\" class=\"data row6 col3\" >0.000000</td>\n",
       "    </tr>\n",
       "    <tr>\n",
       "      <td id=\"T_3ba92_row7_col0\" class=\"data row7 col0\" >Poland</td>\n",
       "      <td id=\"T_3ba92_row7_col1\" class=\"data row7 col1\" >Świnoujście Polskie LNG Terminal Expansion 2</td>\n",
       "      <td id=\"T_3ba92_row7_col2\" class=\"data row7 col2\" >2.100000</td>\n",
       "      <td id=\"T_3ba92_row7_col3\" class=\"data row7 col3\" >298.364452</td>\n",
       "    </tr>\n",
       "    <tr>\n",
       "      <td id=\"T_3ba92_row8_col0\" class=\"data row8 col0\" >Greece</td>\n",
       "      <td id=\"T_3ba92_row8_col1\" class=\"data row8 col1\" >Argo FSRU</td>\n",
       "      <td id=\"T_3ba92_row8_col2\" class=\"data row8 col2\" >5.200000</td>\n",
       "      <td id=\"T_3ba92_row8_col3\" class=\"data row8 col3\" >226.500000</td>\n",
       "    </tr>\n",
       "    <tr>\n",
       "      <td id=\"T_3ba92_row9_col0\" class=\"data row9 col0\" >Germany</td>\n",
       "      <td id=\"T_3ba92_row9_col1\" class=\"data row9 col1\" >Brunsbüttel LNG Terminal</td>\n",
       "      <td id=\"T_3ba92_row9_col2\" class=\"data row9 col2\" >8.000000</td>\n",
       "      <td id=\"T_3ba92_row9_col3\" class=\"data row9 col3\" >1000.000000</td>\n",
       "    </tr>\n",
       "    <tr>\n",
       "      <td id=\"T_3ba92_row10_col0\" class=\"data row10 col0\" >Greece</td>\n",
       "      <td id=\"T_3ba92_row10_col1\" class=\"data row10 col1\" >Dioriga FSRU</td>\n",
       "      <td id=\"T_3ba92_row10_col2\" class=\"data row10 col2\" >2.600000</td>\n",
       "      <td id=\"T_3ba92_row10_col3\" class=\"data row10 col3\" >300.000000</td>\n",
       "    </tr>\n",
       "    <tr>\n",
       "      <td id=\"T_3ba92_row11_col0\" class=\"data row11 col0\" >France</td>\n",
       "      <td id=\"T_3ba92_row11_col1\" class=\"data row11 col1\" >Dunkirk LNG Terminal Debottlenecking</td>\n",
       "      <td id=\"T_3ba92_row11_col2\" class=\"data row11 col2\" >2.720000</td>\n",
       "      <td id=\"T_3ba92_row11_col3\" class=\"data row11 col3\" >386.453004</td>\n",
       "    </tr>\n",
       "    <tr>\n",
       "      <td id=\"T_3ba92_row12_col0\" class=\"data row12 col0\" >Spain</td>\n",
       "      <td id=\"T_3ba92_row12_col1\" class=\"data row12 col1\" >El Musel LNG Terminal</td>\n",
       "      <td id=\"T_3ba92_row12_col2\" class=\"data row12 col2\" >8.000000</td>\n",
       "      <td id=\"T_3ba92_row12_col3\" class=\"data row12 col3\" >1136.626483</td>\n",
       "    </tr>\n",
       "    <tr>\n",
       "      <td id=\"T_3ba92_row13_col0\" class=\"data row13 col0\" >France</td>\n",
       "      <td id=\"T_3ba92_row13_col1\" class=\"data row13 col1\" >Fos Cavaou LNG Terminal Expansion 1 (Debottlenecking)</td>\n",
       "      <td id=\"T_3ba92_row13_col2\" class=\"data row13 col2\" >2.750000</td>\n",
       "      <td id=\"T_3ba92_row13_col3\" class=\"data row13 col3\" >390.715353</td>\n",
       "    </tr>\n",
       "    <tr>\n",
       "      <td id=\"T_3ba92_row14_col0\" class=\"data row14 col0\" >France</td>\n",
       "      <td id=\"T_3ba92_row14_col1\" class=\"data row14 col1\" >Fos Cavaou LNG Terminal Expansion 2</td>\n",
       "      <td id=\"T_3ba92_row14_col2\" class=\"data row14 col2\" >5.500000</td>\n",
       "      <td id=\"T_3ba92_row14_col3\" class=\"data row14 col3\" >781.430707</td>\n",
       "    </tr>\n",
       "    <tr>\n",
       "      <td id=\"T_3ba92_row15_col0\" class=\"data row15 col0\" >Netherlands</td>\n",
       "      <td id=\"T_3ba92_row15_col1\" class=\"data row15 col1\" >Gate LNG Terminal Phase 3 Expansion</td>\n",
       "      <td id=\"T_3ba92_row15_col2\" class=\"data row15 col2\" >1.500000</td>\n",
       "      <td id=\"T_3ba92_row15_col3\" class=\"data row15 col3\" >213.117466</td>\n",
       "    </tr>\n",
       "    <tr>\n",
       "      <td id=\"T_3ba92_row16_col0\" class=\"data row16 col0\" >Netherlands</td>\n",
       "      <td id=\"T_3ba92_row16_col1\" class=\"data row16 col1\" >Gate LNG Terminal Phase 4 Expansion</td>\n",
       "      <td id=\"T_3ba92_row16_col2\" class=\"data row16 col2\" >2.500000</td>\n",
       "      <td id=\"T_3ba92_row16_col3\" class=\"data row16 col3\" >355.195776</td>\n",
       "    </tr>\n",
       "    <tr>\n",
       "      <td id=\"T_3ba92_row17_col0\" class=\"data row17 col0\" >Italy</td>\n",
       "      <td id=\"T_3ba92_row17_col1\" class=\"data row17 col1\" >Gioia Tauro LNG Terminal</td>\n",
       "      <td id=\"T_3ba92_row17_col2\" class=\"data row17 col2\" >11.700000</td>\n",
       "      <td id=\"T_3ba92_row17_col3\" class=\"data row17 col3\" >1000.000000</td>\n",
       "    </tr>\n",
       "    <tr>\n",
       "      <td id=\"T_3ba92_row18_col0\" class=\"data row18 col0\" >Croatia</td>\n",
       "      <td id=\"T_3ba92_row18_col1\" class=\"data row18 col1\" >Krk FSRU Phase 1</td>\n",
       "      <td id=\"T_3ba92_row18_col2\" class=\"data row18 col2\" >3.200000</td>\n",
       "      <td id=\"T_3ba92_row18_col3\" class=\"data row18 col3\" >25.000000</td>\n",
       "    </tr>\n",
       "    <tr>\n",
       "      <td id=\"T_3ba92_row19_col0\" class=\"data row19 col0\" >Croatia</td>\n",
       "      <td id=\"T_3ba92_row19_col1\" class=\"data row19 col1\" >Krk FSRU Phase 2</td>\n",
       "      <td id=\"T_3ba92_row19_col2\" class=\"data row19 col2\" >7.000000</td>\n",
       "      <td id=\"T_3ba92_row19_col3\" class=\"data row19 col3\" >994.548173</td>\n",
       "    </tr>\n",
       "    <tr>\n",
       "      <td id=\"T_3ba92_row20_col0\" class=\"data row20 col0\" >France</td>\n",
       "      <td id=\"T_3ba92_row20_col1\" class=\"data row20 col1\" >Le Havre FSRU</td>\n",
       "      <td id=\"T_3ba92_row20_col2\" class=\"data row20 col2\" >5.000000</td>\n",
       "      <td id=\"T_3ba92_row20_col3\" class=\"data row20 col3\" >400.746574</td>\n",
       "    </tr>\n",
       "    <tr>\n",
       "      <td id=\"T_3ba92_row21_col0\" class=\"data row21 col0\" >Germany</td>\n",
       "      <td id=\"T_3ba92_row21_col1\" class=\"data row21 col1\" >Lubmin FSRU Phase 2 (Vessel 1)</td>\n",
       "      <td id=\"T_3ba92_row21_col2\" class=\"data row21 col2\" >2.000000</td>\n",
       "      <td id=\"T_3ba92_row21_col3\" class=\"data row21 col3\" >14.814815</td>\n",
       "    </tr>\n",
       "    <tr>\n",
       "      <td id=\"T_3ba92_row22_col0\" class=\"data row22 col0\" >Germany</td>\n",
       "      <td id=\"T_3ba92_row22_col1\" class=\"data row22 col1\" >Lubmin FSRU Phase 2 (Vessel 2)</td>\n",
       "      <td id=\"T_3ba92_row22_col2\" class=\"data row22 col2\" >7.000000</td>\n",
       "      <td id=\"T_3ba92_row22_col3\" class=\"data row22 col3\" >51.851852</td>\n",
       "    </tr>\n",
       "    <tr>\n",
       "      <td id=\"T_3ba92_row23_col0\" class=\"data row23 col0\" >Germany</td>\n",
       "      <td id=\"T_3ba92_row23_col1\" class=\"data row23 col1\" >Lubmin RWE FSRU</td>\n",
       "      <td id=\"T_3ba92_row23_col2\" class=\"data row23 col2\" >5.000000</td>\n",
       "      <td id=\"T_3ba92_row23_col3\" class=\"data row23 col3\" >400.746574</td>\n",
       "    </tr>\n",
       "    <tr>\n",
       "      <td id=\"T_3ba92_row24_col0\" class=\"data row24 col0\" >France</td>\n",
       "      <td id=\"T_3ba92_row24_col1\" class=\"data row24 col1\" >Montoir LNG Terminal Expansion</td>\n",
       "      <td id=\"T_3ba92_row24_col2\" class=\"data row24 col2\" >2.500000</td>\n",
       "      <td id=\"T_3ba92_row24_col3\" class=\"data row24 col3\" >500.000000</td>\n",
       "    </tr>\n",
       "    <tr>\n",
       "      <td id=\"T_3ba92_row25_col0\" class=\"data row25 col0\" >Estonia</td>\n",
       "      <td id=\"T_3ba92_row25_col1\" class=\"data row25 col1\" >Paldiski LNG Terminal</td>\n",
       "      <td id=\"T_3ba92_row25_col2\" class=\"data row25 col2\" >2.450000</td>\n",
       "      <td id=\"T_3ba92_row25_col3\" class=\"data row25 col3\" >400.000000</td>\n",
       "    </tr>\n",
       "    <tr>\n",
       "      <td id=\"T_3ba92_row26_col0\" class=\"data row26 col0\" >Italy</td>\n",
       "      <td id=\"T_3ba92_row26_col1\" class=\"data row26 col1\" >Piombino FSRU</td>\n",
       "      <td id=\"T_3ba92_row26_col2\" class=\"data row26 col2\" >5.000000</td>\n",
       "      <td id=\"T_3ba92_row26_col3\" class=\"data row26 col3\" >400.746574</td>\n",
       "    </tr>\n",
       "    <tr>\n",
       "      <td id=\"T_3ba92_row27_col0\" class=\"data row27 col0\" >Poland</td>\n",
       "      <td id=\"T_3ba92_row27_col1\" class=\"data row27 col1\" >Polish Baltic Sea Coast Terminal</td>\n",
       "      <td id=\"T_3ba92_row27_col2\" class=\"data row27 col2\" >12.200000</td>\n",
       "      <td id=\"T_3ba92_row27_col3\" class=\"data row27 col3\" >620.000000</td>\n",
       "    </tr>\n",
       "    <tr>\n",
       "      <td id=\"T_3ba92_row28_col0\" class=\"data row28 col0\" >Italy</td>\n",
       "      <td id=\"T_3ba92_row28_col1\" class=\"data row28 col1\" >Porto Empedocle LNG Terminal</td>\n",
       "      <td id=\"T_3ba92_row28_col2\" class=\"data row28 col2\" >8.000000</td>\n",
       "      <td id=\"T_3ba92_row28_col3\" class=\"data row28 col3\" >1000.000000</td>\n",
       "    </tr>\n",
       "    <tr>\n",
       "      <td id=\"T_3ba92_row29_col0\" class=\"data row29 col0\" >Italy</td>\n",
       "      <td id=\"T_3ba92_row29_col1\" class=\"data row29 col1\" >Porto Torres FSRU Terminal</td>\n",
       "      <td id=\"T_3ba92_row29_col2\" class=\"data row29 col2\" >5.000000</td>\n",
       "      <td id=\"T_3ba92_row29_col3\" class=\"data row29 col3\" >710.391552</td>\n",
       "    </tr>\n",
       "    <tr>\n",
       "      <td id=\"T_3ba92_row30_col0\" class=\"data row30 col0\" >Italy</td>\n",
       "      <td id=\"T_3ba92_row30_col1\" class=\"data row30 col1\" >Portovesme FSRU</td>\n",
       "      <td id=\"T_3ba92_row30_col2\" class=\"data row30 col2\" ></td>\n",
       "      <td id=\"T_3ba92_row30_col3\" class=\"data row30 col3\" >259.633028</td>\n",
       "    </tr>\n",
       "    <tr>\n",
       "      <td id=\"T_3ba92_row31_col0\" class=\"data row31 col0\" >Ireland</td>\n",
       "      <td id=\"T_3ba92_row31_col1\" class=\"data row31 col1\" >Predator FSRU</td>\n",
       "      <td id=\"T_3ba92_row31_col2\" class=\"data row31 col2\" >2.600000</td>\n",
       "      <td id=\"T_3ba92_row31_col3\" class=\"data row31 col3\" >208.388219</td>\n",
       "    </tr>\n",
       "    <tr>\n",
       "      <td id=\"T_3ba92_row32_col0\" class=\"data row32 col0\" >Italy</td>\n",
       "      <td id=\"T_3ba92_row32_col1\" class=\"data row32 col1\" >Ravenna FSRU</td>\n",
       "      <td id=\"T_3ba92_row32_col2\" class=\"data row32 col2\" >5.000000</td>\n",
       "      <td id=\"T_3ba92_row32_col3\" class=\"data row32 col3\" >915.596330</td>\n",
       "    </tr>\n",
       "    <tr>\n",
       "      <td id=\"T_3ba92_row33_col0\" class=\"data row33 col0\" >Latvia</td>\n",
       "      <td id=\"T_3ba92_row33_col1\" class=\"data row33 col1\" >Riga FSRU</td>\n",
       "      <td id=\"T_3ba92_row33_col2\" class=\"data row33 col2\" >4.900000</td>\n",
       "      <td id=\"T_3ba92_row33_col3\" class=\"data row33 col3\" >392.731643</td>\n",
       "    </tr>\n",
       "    <tr>\n",
       "      <td id=\"T_3ba92_row34_col0\" class=\"data row34 col0\" >Ireland</td>\n",
       "      <td id=\"T_3ba92_row34_col1\" class=\"data row34 col1\" >Shannon FSRU</td>\n",
       "      <td id=\"T_3ba92_row34_col2\" class=\"data row34 col2\" >8.250000</td>\n",
       "      <td id=\"T_3ba92_row34_col3\" class=\"data row34 col3\" >650.000000</td>\n",
       "    </tr>\n",
       "    <tr>\n",
       "      <td id=\"T_3ba92_row35_col0\" class=\"data row35 col0\" >Latvia</td>\n",
       "      <td id=\"T_3ba92_row35_col1\" class=\"data row35 col1\" >Skulte LNG Terminal</td>\n",
       "      <td id=\"T_3ba92_row35_col2\" class=\"data row35 col2\" >4.080000</td>\n",
       "      <td id=\"T_3ba92_row35_col3\" class=\"data row35 col3\" >110.000000</td>\n",
       "    </tr>\n",
       "    <tr>\n",
       "      <td id=\"T_3ba92_row36_col0\" class=\"data row36 col0\" >Germany</td>\n",
       "      <td id=\"T_3ba92_row36_col1\" class=\"data row36 col1\" >Stade LNG Terminal</td>\n",
       "      <td id=\"T_3ba92_row36_col2\" class=\"data row36 col2\" >13.300000</td>\n",
       "      <td id=\"T_3ba92_row36_col3\" class=\"data row36 col3\" >1000.000000</td>\n",
       "    </tr>\n",
       "    <tr>\n",
       "      <td id=\"T_3ba92_row37_col0\" class=\"data row37 col0\" >Germany</td>\n",
       "      <td id=\"T_3ba92_row37_col1\" class=\"data row37 col1\" >TES Wilhelmshaven LNG Terminal</td>\n",
       "      <td id=\"T_3ba92_row37_col2\" class=\"data row37 col2\" >16.000000</td>\n",
       "      <td id=\"T_3ba92_row37_col3\" class=\"data row37 col3\" >2273.252966</td>\n",
       "    </tr>\n",
       "    <tr>\n",
       "      <td id=\"T_3ba92_row38_col0\" class=\"data row38 col0\" >Estonia</td>\n",
       "      <td id=\"T_3ba92_row38_col1\" class=\"data row38 col1\" >Tallinn LNG Terminal</td>\n",
       "      <td id=\"T_3ba92_row38_col2\" class=\"data row38 col2\" >3.670000</td>\n",
       "      <td id=\"T_3ba92_row38_col3\" class=\"data row38 col3\" >250.000000</td>\n",
       "    </tr>\n",
       "    <tr>\n",
       "      <td id=\"T_3ba92_row39_col0\" class=\"data row39 col0\" >Netherlands</td>\n",
       "      <td id=\"T_3ba92_row39_col1\" class=\"data row39 col1\" >Terneuzen FSRU</td>\n",
       "      <td id=\"T_3ba92_row39_col2\" class=\"data row39 col2\" ></td>\n",
       "      <td id=\"T_3ba92_row39_col3\" class=\"data row39 col3\" ></td>\n",
       "    </tr>\n",
       "    <tr>\n",
       "      <td id=\"T_3ba92_row40_col0\" class=\"data row40 col0\" >Greece</td>\n",
       "      <td id=\"T_3ba92_row40_col1\" class=\"data row40 col1\" >Thessaloniki FSRU</td>\n",
       "      <td id=\"T_3ba92_row40_col2\" class=\"data row40 col2\" >7.300000</td>\n",
       "      <td id=\"T_3ba92_row40_col3\" class=\"data row40 col3\" >585.089999</td>\n",
       "    </tr>\n",
       "    <tr>\n",
       "      <td id=\"T_3ba92_row41_col0\" class=\"data row41 col0\" >Greece</td>\n",
       "      <td id=\"T_3ba92_row41_col1\" class=\"data row41 col1\" >Thrace FSRU</td>\n",
       "      <td id=\"T_3ba92_row41_col2\" class=\"data row41 col2\" >6.000000</td>\n",
       "      <td id=\"T_3ba92_row41_col3\" class=\"data row41 col3\" >852.469862</td>\n",
       "    </tr>\n",
       "    <tr>\n",
       "      <td id=\"T_3ba92_row42_col0\" class=\"data row42 col0\" >Italy</td>\n",
       "      <td id=\"T_3ba92_row42_col1\" class=\"data row42 col1\" >Toscana FSRU Expansion (Efficiency)</td>\n",
       "      <td id=\"T_3ba92_row42_col2\" class=\"data row42 col2\" >1.250000</td>\n",
       "      <td id=\"T_3ba92_row42_col3\" class=\"data row42 col3\" >100.186644</td>\n",
       "    </tr>\n",
       "    <tr>\n",
       "      <td id=\"T_3ba92_row43_col0\" class=\"data row43 col0\" >Netherlands</td>\n",
       "      <td id=\"T_3ba92_row43_col1\" class=\"data row43 col1\" >VTTI FSRU</td>\n",
       "      <td id=\"T_3ba92_row43_col2\" class=\"data row43 col2\" >5.000000</td>\n",
       "      <td id=\"T_3ba92_row43_col3\" class=\"data row43 col3\" >400.746574</td>\n",
       "    </tr>\n",
       "    <tr>\n",
       "      <td id=\"T_3ba92_row44_col0\" class=\"data row44 col0\" >Germany</td>\n",
       "      <td id=\"T_3ba92_row44_col1\" class=\"data row44 col1\" >Wilhelmshaven NWO FSRU Terminal</td>\n",
       "      <td id=\"T_3ba92_row44_col2\" class=\"data row44 col2\" >9.000000</td>\n",
       "      <td id=\"T_3ba92_row44_col3\" class=\"data row44 col3\" >721.343834</td>\n",
       "    </tr>\n",
       "    <tr>\n",
       "      <td id=\"T_3ba92_row45_col0\" class=\"data row45 col0\" >Germany</td>\n",
       "      <td id=\"T_3ba92_row45_col1\" class=\"data row45 col1\" >Wilhelmshaven TES FSRU Terminal</td>\n",
       "      <td id=\"T_3ba92_row45_col2\" class=\"data row45 col2\" >5.000000</td>\n",
       "      <td id=\"T_3ba92_row45_col3\" class=\"data row45 col3\" >400.746574</td>\n",
       "    </tr>\n",
       "  </tbody>\n",
       "</table>\n"
      ],
      "text/plain": [
       "<pandas.io.formats.style.Styler at 0x1554b5c10>"
      ]
     },
     "execution_count": 58,
     "metadata": {},
     "output_type": "execute_result"
    }
   ],
   "source": [
    "output_columns = ['Country',\n",
    "                  #'TerminalName',\n",
    "                  'TerminalNameUnitName',\n",
    "                  #'UnitName',\n",
    "                  'CapacityInBcm/y',\n",
    "                  #'Status',\n",
    "                  #'Import/Export',\n",
    "                  'TotalEstCostEuroMillionsMean']#,\n",
    "                  #'TotalEstCostEuroMillionsLow',\n",
    "                  #'TotalEstCostEuroMillionsHigh']\n",
    "\n",
    "terms_df_eu27_import_future['TerminalNameUnitName'] = (terms_df_eu27_import_future.TerminalName + ' ' + terms_df_eu27_import_future.UnitName).str.strip()\n",
    "terms_df_eu27_import_future.sort_values(['Status','TerminalNameUnitName'],\n",
    "                                        ascending=[True,True])[output_columns].replace(numpy.nan,'').style.hide_index()"
   ]
  },
  {
   "cell_type": "markdown",
   "id": "3b27519d-0e05-4431-811a-6cff2ca28f9c",
   "metadata": {},
   "source": [
    "# creating table 2 - future gas infra in EU countries"
   ]
  },
  {
   "cell_type": "code",
   "execution_count": 61,
   "id": "e5d518e1-3303-41a5-aba0-6f0685cf05a4",
   "metadata": {},
   "outputs": [
    {
     "data": {
      "text/html": [
       "<div>\n",
       "<style scoped>\n",
       "    .dataframe tbody tr th:only-of-type {\n",
       "        vertical-align: middle;\n",
       "    }\n",
       "\n",
       "    .dataframe tbody tr th {\n",
       "        vertical-align: top;\n",
       "    }\n",
       "\n",
       "    .dataframe thead th {\n",
       "        text-align: right;\n",
       "    }\n",
       "</style>\n",
       "<table border=\"1\" class=\"dataframe\">\n",
       "  <thead>\n",
       "    <tr style=\"text-align: right;\">\n",
       "      <th></th>\n",
       "      <th>TotalEstCostEuroMillionsMean</th>\n",
       "    </tr>\n",
       "    <tr>\n",
       "      <th>Country</th>\n",
       "      <th></th>\n",
       "    </tr>\n",
       "  </thead>\n",
       "  <tbody>\n",
       "    <tr>\n",
       "      <th>Belgium</th>\n",
       "      <td>116.000000</td>\n",
       "    </tr>\n",
       "    <tr>\n",
       "      <th>Croatia</th>\n",
       "      <td>1019.548173</td>\n",
       "    </tr>\n",
       "    <tr>\n",
       "      <th>Cyprus</th>\n",
       "      <td>312.000000</td>\n",
       "    </tr>\n",
       "    <tr>\n",
       "      <th>Estonia</th>\n",
       "      <td>1150.000000</td>\n",
       "    </tr>\n",
       "    <tr>\n",
       "      <th>France</th>\n",
       "      <td>2459.345639</td>\n",
       "    </tr>\n",
       "    <tr>\n",
       "      <th>Germany</th>\n",
       "      <td>7263.503190</td>\n",
       "    </tr>\n",
       "    <tr>\n",
       "      <th>Greece</th>\n",
       "      <td>2324.059861</td>\n",
       "    </tr>\n",
       "    <tr>\n",
       "      <th>Ireland</th>\n",
       "      <td>858.388219</td>\n",
       "    </tr>\n",
       "    <tr>\n",
       "      <th>Italy</th>\n",
       "      <td>4386.554128</td>\n",
       "    </tr>\n",
       "    <tr>\n",
       "      <th>Latvia</th>\n",
       "      <td>502.731643</td>\n",
       "    </tr>\n",
       "    <tr>\n",
       "      <th>Netherlands</th>\n",
       "      <td>969.059816</td>\n",
       "    </tr>\n",
       "    <tr>\n",
       "      <th>Poland</th>\n",
       "      <td>918.364452</td>\n",
       "    </tr>\n",
       "    <tr>\n",
       "      <th>Spain</th>\n",
       "      <td>1136.626483</td>\n",
       "    </tr>\n",
       "  </tbody>\n",
       "</table>\n",
       "</div>"
      ],
      "text/plain": [
       "             TotalEstCostEuroMillionsMean\n",
       "Country                                  \n",
       "Belgium                        116.000000\n",
       "Croatia                       1019.548173\n",
       "Cyprus                         312.000000\n",
       "Estonia                       1150.000000\n",
       "France                        2459.345639\n",
       "Germany                       7263.503190\n",
       "Greece                        2324.059861\n",
       "Ireland                        858.388219\n",
       "Italy                         4386.554128\n",
       "Latvia                         502.731643\n",
       "Netherlands                    969.059816\n",
       "Poland                         918.364452\n",
       "Spain                         1136.626483"
      ]
     },
     "execution_count": 61,
     "metadata": {},
     "output_type": "execute_result"
    }
   ],
   "source": [
    "terms_df_eu27_import_future.groupby('Country')[['TotalEstCostEuroMillionsMean']].sum()"
   ]
  },
  {
   "cell_type": "code",
   "execution_count": 62,
   "id": "51e6863d-062a-4aee-8b28-3a1c6c14d470",
   "metadata": {},
   "outputs": [
    {
     "name": "stderr",
     "output_type": "stream",
     "text": [
      "/var/folders/fl/t07mc8053p33mn6mdmvp45580000gn/T/ipykernel_1725/2538600389.py:29: FutureWarning: The frame.append method is deprecated and will be removed from pandas in a future version. Use pandas.concat instead.\n",
      "  table2_df = table2_df.append(total)\n"
     ]
    }
   ],
   "source": [
    "# table 1 shows country totals of pipeline length, cost, LNG capacity, cost, total cost\n",
    "table2_columns = ['PipelineLengthKm','PipelineCostMillionEuro',\n",
    "                  'LNGImportCapacityBcm/y','LNGTerminalCostMillionEuro','TotalCostMillionEuro']\n",
    "table2_df = pandas.DataFrame(columns=table2_columns, index=region_df_touse.Country.tolist())\n",
    "\n",
    "table2_df['PipelineLengthKm'] = country_ratios_df_touse.loc[country_ratios_df_touse.ProjectID.isin(\n",
    "    import_projectids+all_other_projectids)].groupby('Country')['MergedKmByCountry'].sum()\n",
    "\n",
    "table2_df['PipelineCostMillionEuro'] = country_ratios_df_touse.loc[country_ratios_df_touse.ProjectID.isin(\n",
    "    import_projectids+all_other_projectids)].groupby('Country')['TotalEstCostEuroMillionsMean'].sum()\n",
    "\n",
    "# add half of Trans-Adriatic expansion to Italy, half to Greece\n",
    "#table2_df.loc['Greece','PipelineCostMillionEuro']+=1035/2\n",
    "#table2_df.loc['Italy','PipelineCostMillionEuro']+=1035/2\n",
    "\n",
    "table2_df['LNGImportCapacityBcm/y'] = terms_df_eu27_import_future.groupby('Country')['CapacityInBcm/y'].sum()\n",
    "table2_df['LNGTerminalCostMillionEuro'] = terms_df_eu27_import_future.groupby('Country')['TotalEstCostEuroMillionsMean'].sum()\n",
    "table2_df['TotalCostMillionEuro'] = table2_df.loc[:,('PipelineCostMillionEuro','LNGTerminalCostMillionEuro')].sum(axis=1)\n",
    "\n",
    "if 'Total' in table2_df.index:\n",
    "    table2_df.drop(index='Total', inplace=True)   \n",
    "    total = table2_df.sum(axis=0)\n",
    "    total.name='Total'\n",
    "    table2_df = table2_df.append(total)\n",
    "\n",
    "else:\n",
    "    total = table2_df.sum(axis=0)\n",
    "    total.name='Total'\n",
    "    table2_df = table2_df.append(total)\n",
    "\n",
    "# replace NaN with ''\n",
    "table2_df.replace(numpy.nan, '', inplace=True)\n",
    "table2_df.replace(0.0, '', inplace=True)\n"
   ]
  },
  {
   "cell_type": "code",
   "execution_count": 63,
   "id": "3a18a622-2400-462f-91b9-986fd291e9ea",
   "metadata": {},
   "outputs": [
    {
     "data": {
      "text/html": [
       "<div>\n",
       "<style scoped>\n",
       "    .dataframe tbody tr th:only-of-type {\n",
       "        vertical-align: middle;\n",
       "    }\n",
       "\n",
       "    .dataframe tbody tr th {\n",
       "        vertical-align: top;\n",
       "    }\n",
       "\n",
       "    .dataframe thead th {\n",
       "        text-align: right;\n",
       "    }\n",
       "</style>\n",
       "<table border=\"1\" class=\"dataframe\">\n",
       "  <thead>\n",
       "    <tr style=\"text-align: right;\">\n",
       "      <th></th>\n",
       "      <th>PipelineLengthKm</th>\n",
       "      <th>PipelineCostMillionEuro</th>\n",
       "      <th>LNGImportCapacityBcm/y</th>\n",
       "      <th>LNGTerminalCostMillionEuro</th>\n",
       "      <th>TotalCostMillionEuro</th>\n",
       "    </tr>\n",
       "  </thead>\n",
       "  <tbody>\n",
       "    <tr>\n",
       "      <th>Austria</th>\n",
       "      <td>59.39</td>\n",
       "      <td>178.776066</td>\n",
       "      <td></td>\n",
       "      <td></td>\n",
       "      <td>178.776066</td>\n",
       "    </tr>\n",
       "    <tr>\n",
       "      <th>Belgium</th>\n",
       "      <td></td>\n",
       "      <td></td>\n",
       "      <td>8.16</td>\n",
       "      <td>116.0</td>\n",
       "      <td>116.0</td>\n",
       "    </tr>\n",
       "    <tr>\n",
       "      <th>Bulgaria</th>\n",
       "      <td>1124.62</td>\n",
       "      <td>2577.931241</td>\n",
       "      <td></td>\n",
       "      <td></td>\n",
       "      <td>2577.931241</td>\n",
       "    </tr>\n",
       "    <tr>\n",
       "      <th>Croatia</th>\n",
       "      <td>870.54</td>\n",
       "      <td>1016.529627</td>\n",
       "      <td>10.2</td>\n",
       "      <td>1019.548173</td>\n",
       "      <td>2036.077799</td>\n",
       "    </tr>\n",
       "    <tr>\n",
       "      <th>Cyprus</th>\n",
       "      <td>921.15</td>\n",
       "      <td>2684.692924</td>\n",
       "      <td>0.82</td>\n",
       "      <td>312.0</td>\n",
       "      <td>2996.692924</td>\n",
       "    </tr>\n",
       "    <tr>\n",
       "      <th>Czech Republic</th>\n",
       "      <td>157.95</td>\n",
       "      <td>218.52681</td>\n",
       "      <td></td>\n",
       "      <td></td>\n",
       "      <td>218.52681</td>\n",
       "    </tr>\n",
       "    <tr>\n",
       "      <th>Denmark</th>\n",
       "      <td></td>\n",
       "      <td></td>\n",
       "      <td></td>\n",
       "      <td></td>\n",
       "      <td></td>\n",
       "    </tr>\n",
       "    <tr>\n",
       "      <th>Estonia</th>\n",
       "      <td>1.2</td>\n",
       "      <td>3.612246</td>\n",
       "      <td>6.12</td>\n",
       "      <td>1150.0</td>\n",
       "      <td>1153.612246</td>\n",
       "    </tr>\n",
       "    <tr>\n",
       "      <th>Finland</th>\n",
       "      <td></td>\n",
       "      <td></td>\n",
       "      <td></td>\n",
       "      <td></td>\n",
       "      <td></td>\n",
       "    </tr>\n",
       "    <tr>\n",
       "      <th>France</th>\n",
       "      <td></td>\n",
       "      <td></td>\n",
       "      <td>18.47</td>\n",
       "      <td>2459.345639</td>\n",
       "      <td>2459.345639</td>\n",
       "    </tr>\n",
       "    <tr>\n",
       "      <th>Germany</th>\n",
       "      <td>582.45</td>\n",
       "      <td>1757.875419</td>\n",
       "      <td>78.3</td>\n",
       "      <td>7263.50319</td>\n",
       "      <td>9021.378608</td>\n",
       "    </tr>\n",
       "    <tr>\n",
       "      <th>Greece</th>\n",
       "      <td>2606.87</td>\n",
       "      <td>8262.417258</td>\n",
       "      <td>26.6</td>\n",
       "      <td>2324.059861</td>\n",
       "      <td>10586.477119</td>\n",
       "    </tr>\n",
       "    <tr>\n",
       "      <th>Hungary</th>\n",
       "      <td>367.62</td>\n",
       "      <td>711.430821</td>\n",
       "      <td></td>\n",
       "      <td></td>\n",
       "      <td>711.430821</td>\n",
       "    </tr>\n",
       "    <tr>\n",
       "      <th>Ireland</th>\n",
       "      <td>26.0</td>\n",
       "      <td>78.265326</td>\n",
       "      <td>10.85</td>\n",
       "      <td>858.388219</td>\n",
       "      <td>936.653545</td>\n",
       "    </tr>\n",
       "    <tr>\n",
       "      <th>Italy</th>\n",
       "      <td>2070.45</td>\n",
       "      <td>5325.371131</td>\n",
       "      <td>35.95</td>\n",
       "      <td>4386.554128</td>\n",
       "      <td>9711.925258</td>\n",
       "    </tr>\n",
       "    <tr>\n",
       "      <th>Latvia</th>\n",
       "      <td>31.5</td>\n",
       "      <td>26.0</td>\n",
       "      <td>8.98</td>\n",
       "      <td>502.731643</td>\n",
       "      <td>528.731643</td>\n",
       "    </tr>\n",
       "    <tr>\n",
       "      <th>Lithuania</th>\n",
       "      <td></td>\n",
       "      <td></td>\n",
       "      <td></td>\n",
       "      <td></td>\n",
       "      <td></td>\n",
       "    </tr>\n",
       "    <tr>\n",
       "      <th>Luxembourg</th>\n",
       "      <td></td>\n",
       "      <td></td>\n",
       "      <td></td>\n",
       "      <td></td>\n",
       "      <td></td>\n",
       "    </tr>\n",
       "    <tr>\n",
       "      <th>Malta</th>\n",
       "      <td>70.29</td>\n",
       "      <td>181.162528</td>\n",
       "      <td></td>\n",
       "      <td></td>\n",
       "      <td>181.162528</td>\n",
       "    </tr>\n",
       "    <tr>\n",
       "      <th>Netherlands</th>\n",
       "      <td>44.55</td>\n",
       "      <td>134.104626</td>\n",
       "      <td>9.0</td>\n",
       "      <td>969.059816</td>\n",
       "      <td>1103.164442</td>\n",
       "    </tr>\n",
       "    <tr>\n",
       "      <th>Poland</th>\n",
       "      <td>1281.16</td>\n",
       "      <td>2618.122307</td>\n",
       "      <td>14.3</td>\n",
       "      <td>918.364452</td>\n",
       "      <td>3536.486759</td>\n",
       "    </tr>\n",
       "    <tr>\n",
       "      <th>Portugal</th>\n",
       "      <td>162.0</td>\n",
       "      <td>114.999999</td>\n",
       "      <td></td>\n",
       "      <td></td>\n",
       "      <td>114.999999</td>\n",
       "    </tr>\n",
       "    <tr>\n",
       "      <th>Romania</th>\n",
       "      <td>1824.17</td>\n",
       "      <td>2700.791303</td>\n",
       "      <td></td>\n",
       "      <td></td>\n",
       "      <td>2700.791303</td>\n",
       "    </tr>\n",
       "    <tr>\n",
       "      <th>Slovakia</th>\n",
       "      <td>29.68</td>\n",
       "      <td>63.880795</td>\n",
       "      <td></td>\n",
       "      <td></td>\n",
       "      <td>63.880795</td>\n",
       "    </tr>\n",
       "    <tr>\n",
       "      <th>Slovenia</th>\n",
       "      <td>528.0</td>\n",
       "      <td>1013.350501</td>\n",
       "      <td></td>\n",
       "      <td></td>\n",
       "      <td>1013.350501</td>\n",
       "    </tr>\n",
       "    <tr>\n",
       "      <th>Spain</th>\n",
       "      <td>522.85</td>\n",
       "      <td>1717.532623</td>\n",
       "      <td>8.0</td>\n",
       "      <td>1136.626483</td>\n",
       "      <td>2854.159106</td>\n",
       "    </tr>\n",
       "    <tr>\n",
       "      <th>Sweden</th>\n",
       "      <td></td>\n",
       "      <td></td>\n",
       "      <td></td>\n",
       "      <td></td>\n",
       "      <td></td>\n",
       "    </tr>\n",
       "    <tr>\n",
       "      <th>Total</th>\n",
       "      <td>13282.44</td>\n",
       "      <td>31385.373551</td>\n",
       "      <td>235.75</td>\n",
       "      <td>23416.181602</td>\n",
       "      <td>54801.555153</td>\n",
       "    </tr>\n",
       "  </tbody>\n",
       "</table>\n",
       "</div>"
      ],
      "text/plain": [
       "               PipelineLengthKm PipelineCostMillionEuro  \\\n",
       "Austria                   59.39              178.776066   \n",
       "Belgium                                                   \n",
       "Bulgaria                1124.62             2577.931241   \n",
       "Croatia                  870.54             1016.529627   \n",
       "Cyprus                   921.15             2684.692924   \n",
       "Czech Republic           157.95               218.52681   \n",
       "Denmark                                                   \n",
       "Estonia                     1.2                3.612246   \n",
       "Finland                                                   \n",
       "France                                                    \n",
       "Germany                  582.45             1757.875419   \n",
       "Greece                  2606.87             8262.417258   \n",
       "Hungary                  367.62              711.430821   \n",
       "Ireland                    26.0               78.265326   \n",
       "Italy                   2070.45             5325.371131   \n",
       "Latvia                     31.5                    26.0   \n",
       "Lithuania                                                 \n",
       "Luxembourg                                                \n",
       "Malta                     70.29              181.162528   \n",
       "Netherlands               44.55              134.104626   \n",
       "Poland                  1281.16             2618.122307   \n",
       "Portugal                  162.0              114.999999   \n",
       "Romania                 1824.17             2700.791303   \n",
       "Slovakia                  29.68               63.880795   \n",
       "Slovenia                  528.0             1013.350501   \n",
       "Spain                    522.85             1717.532623   \n",
       "Sweden                                                    \n",
       "Total                  13282.44            31385.373551   \n",
       "\n",
       "               LNGImportCapacityBcm/y LNGTerminalCostMillionEuro  \\\n",
       "Austria                                                            \n",
       "Belgium                          8.16                      116.0   \n",
       "Bulgaria                                                           \n",
       "Croatia                          10.2                1019.548173   \n",
       "Cyprus                           0.82                      312.0   \n",
       "Czech Republic                                                     \n",
       "Denmark                                                            \n",
       "Estonia                          6.12                     1150.0   \n",
       "Finland                                                            \n",
       "France                          18.47                2459.345639   \n",
       "Germany                          78.3                 7263.50319   \n",
       "Greece                           26.6                2324.059861   \n",
       "Hungary                                                            \n",
       "Ireland                         10.85                 858.388219   \n",
       "Italy                           35.95                4386.554128   \n",
       "Latvia                           8.98                 502.731643   \n",
       "Lithuania                                                          \n",
       "Luxembourg                                                         \n",
       "Malta                                                              \n",
       "Netherlands                       9.0                 969.059816   \n",
       "Poland                           14.3                 918.364452   \n",
       "Portugal                                                           \n",
       "Romania                                                            \n",
       "Slovakia                                                           \n",
       "Slovenia                                                           \n",
       "Spain                             8.0                1136.626483   \n",
       "Sweden                                                             \n",
       "Total                          235.75               23416.181602   \n",
       "\n",
       "               TotalCostMillionEuro  \n",
       "Austria                  178.776066  \n",
       "Belgium                       116.0  \n",
       "Bulgaria                2577.931241  \n",
       "Croatia                 2036.077799  \n",
       "Cyprus                  2996.692924  \n",
       "Czech Republic            218.52681  \n",
       "Denmark                              \n",
       "Estonia                 1153.612246  \n",
       "Finland                              \n",
       "France                  2459.345639  \n",
       "Germany                 9021.378608  \n",
       "Greece                 10586.477119  \n",
       "Hungary                  711.430821  \n",
       "Ireland                  936.653545  \n",
       "Italy                   9711.925258  \n",
       "Latvia                   528.731643  \n",
       "Lithuania                            \n",
       "Luxembourg                           \n",
       "Malta                    181.162528  \n",
       "Netherlands             1103.164442  \n",
       "Poland                  3536.486759  \n",
       "Portugal                 114.999999  \n",
       "Romania                 2700.791303  \n",
       "Slovakia                  63.880795  \n",
       "Slovenia                1013.350501  \n",
       "Spain                   2854.159106  \n",
       "Sweden                               \n",
       "Total                  54801.555153  "
      ]
     },
     "execution_count": 63,
     "metadata": {},
     "output_type": "execute_result"
    }
   ],
   "source": [
    "table2_df#['LNGImportCapacityBcm/y'][:-1].replace('',numpy.nan).sum()"
   ]
  },
  {
   "cell_type": "markdown",
   "id": "97192f83-d5eb-4d0f-990e-7b8240b861d2",
   "metadata": {},
   "source": [
    "# creating table 4 from report (nsew_eu)"
   ]
  },
  {
   "cell_type": "code",
   "execution_count": 64,
   "id": "b442417c-6b1f-4382-ad72-847016799fac",
   "metadata": {},
   "outputs": [
    {
     "data": {
      "text/plain": [
       "['P0479',\n",
       " 'P0702',\n",
       " 'P0732',\n",
       " 'P0827',\n",
       " 'P3206',\n",
       " 'P1321',\n",
       " 'P1324',\n",
       " 'P3203',\n",
       " 'P3335',\n",
       " 'P2727',\n",
       " 'P4399']"
      ]
     },
     "execution_count": 64,
     "metadata": {},
     "output_type": "execute_result"
    }
   ],
   "source": [
    "import_projectids"
   ]
  },
  {
   "cell_type": "code",
   "execution_count": 81,
   "id": "5f59ce1f-f5a2-43ff-8b7e-fc3f2ed28be8",
   "metadata": {},
   "outputs": [],
   "source": [
    "region_list = [western_eu,eastern_eu,southern_eu,northern_eu]\n",
    "index_list = ['Western EU','Eastern EU','Southern EU','Northern EU']\n",
    "project_list = []\n",
    "\n",
    "table4_nsew = pandas.DataFrame(0, columns=['EstCostMillionEuroConstruction',\n",
    "                                           'CostNumPipesConstruction',\n",
    "                                           'CostNumTermsConstruction',\n",
    "                                           'PipeLengthConstruction',\n",
    "                                        'CapacityInBcm/yConstruction',\n",
    "                                           'CapacNumPipesConstruction',\n",
    "                                           'CapacNumTermsConstruction',\n",
    "                                           'CapacPipesConstruction',\n",
    "                                           'CapacTermsConstruction',\n",
    "                                        'EstCostMillionEuroProposed',\n",
    "                                           'CostNumPipesProposed',\n",
    "                                           'CostNumTermsProposed',\n",
    "                                           'PipeLengthProposed',\n",
    "                                        'CapacityInBcm/yProposed',\n",
    "                                           'CapacNumPipesProposed',\n",
    "                                           'CapacNumTermsProposed',\n",
    "                                           'CapacPipesProposed',\n",
    "                                           'CapacTermsProposed'\n",
    "                                          ], index=range(4))\n",
    "\n",
    "terms_w_eu = pandas.DataFrame()\n",
    "terms_n_eu = pandas.DataFrame()\n",
    "terms_s_eu = pandas.DataFrame()\n",
    "terms_e_eu = pandas.DataFrame()\n",
    "\n",
    "pipes_w_eu = pandas.DataFrame()\n",
    "pipes_n_eu = pandas.DataFrame()\n",
    "pipes_s_eu = pandas.DataFrame()\n",
    "pipes_e_eu = pandas.DataFrame()\n",
    "\n",
    "for idx,row in table4_nsew.iterrows():\n",
    "    \n",
    "    for STATUS in ['Proposed','Construction']:\n",
    "        \n",
    "        # for proposed\n",
    "        # for pipeline costs, we don't care about imports only, we also care about general pipelines\n",
    "        pipeline_cost = country_ratios_df_touse.loc[(country_ratios_df_touse.Status.isin([STATUS])) &\n",
    "                               (country_ratios_df_touse.Country.isin(region_list[idx]))]['TotalEstCostEuroMillionsMean'].sum()\n",
    "        \n",
    "        pipe_cost_num = country_ratios_df_touse.loc[(country_ratios_df_touse.Status.isin([STATUS])) &\n",
    "                               (country_ratios_df_touse.Country.isin(region_list[idx]))]['TotalEstCostEuroMillionsMean'].count()\n",
    "        \n",
    "        \n",
    "        pipe_length = country_ratios_df_touse.loc[(country_ratios_df_touse.Status.isin([STATUS])) &\n",
    "                               (country_ratios_df_touse.Country.isin(region_list[idx]))]['MergedKmByCountry'].sum()\n",
    "\n",
    "        pipeline_capacity = pipes_df_orig_gas.loc[(pipes_df_orig_gas.ProjectID.isin(import_projectids)) &\n",
    "                                (pipes_df_orig_gas.EndCountry.isin(region_list[idx])) &\n",
    "                                (pipes_df_orig_gas.Status.isin([STATUS]))]['CapacityBcm/y'].sum()\n",
    "        \n",
    "        pipe_cap_num = pipes_df_orig_gas.loc[(pipes_df_orig_gas.ProjectID.isin(import_projectids)) &\n",
    "                                (pipes_df_orig_gas.EndCountry.isin(region_list[idx])) &\n",
    "                                (pipes_df_orig_gas.Status.isin([STATUS]))]['CapacityBcm/y'].count()\n",
    "\n",
    "        terminal_cost = terms_df_eu27_import_future.loc[(terms_df_eu27_import_future.Status.isin([STATUS])) &\n",
    "                                    (terms_df_eu27_import_future.Country.isin(region_list[idx]))]['TotalEstCostEuroMillionsMean'].sum()\n",
    "        term_num = terms_df_eu27_import_future.loc[(terms_df_eu27_import_future.Status.isin([STATUS])) &\n",
    "                                    (terms_df_eu27_import_future.Country.isin(region_list[idx]))]['TotalEstCostEuroMillionsMean'].count()\n",
    "\n",
    "        terminal_capacity = terms_df_eu27_import_future.loc[(terms_df_eu27_import_future.Status.isin([STATUS])) &\n",
    "                                    (terms_df_eu27_import_future.Country.isin(region_list[idx]))]['CapacityInBcm/y'].sum()\n",
    "\n",
    "        # pipelines are import only\n",
    "        which_pipelines_df = country_ratios_df_touse.loc[(country_ratios_df_touse.Status.isin([STATUS])) &\n",
    "                               (country_ratios_df_touse.Country.isin(region_list[idx]) &\n",
    "                               (country_ratios_df_touse.ProjectID.isin(import_projectids)))]\n",
    "        which_terminals_df = terms_df_eu27_import_future.loc[(terms_df_eu27_import_future.Status.isin([STATUS])) &\n",
    "                                    (terms_df_eu27_import_future.Country.isin(region_list[idx]))]\n",
    "        \n",
    "        #print(which_terminals_df.ComboID)\n",
    "\n",
    "        if index_list[idx]=='Western EU':\n",
    "            terms_w_eu = pandas.concat([terms_w_eu,which_terminals_df])\n",
    "            pipes_w_eu = pandas.concat([pipes_w_eu,which_pipelines_df])\n",
    "        if index_list[idx]=='Northern EU':\n",
    "            terms_n_eu = pandas.concat([terms_n_eu,which_terminals_df])\n",
    "            pipes_n_eu = pandas.concat([pipes_n_eu,which_pipelines_df])\n",
    "        if index_list[idx]=='Eastern EU':\n",
    "            terms_e_eu = pandas.concat([terms_e_eu,which_terminals_df])\n",
    "            pipes_e_eu = pandas.concat([pipes_e_eu,which_pipelines_df])\n",
    "        if index_list[idx]=='Southern EU':\n",
    "            terms_s_eu = pandas.concat([terms_s_eu,which_terminals_df])\n",
    "            pipes_s_eu = pandas.concat([pipes_s_eu,which_pipelines_df])\n",
    "\n",
    "        table4_nsew.loc[idx, 'EstCostMillionEuro'+STATUS] += terminal_cost+pipeline_cost\n",
    "        table4_nsew.loc[idx, 'CapacityInBcm/y'+STATUS] += terminal_capacity+pipeline_capacity\n",
    "        table4_nsew.loc[idx, 'CapacTerms'+STATUS] = terminal_capacity\n",
    "        table4_nsew.loc[idx, 'CapacPipes'+STATUS] = pipeline_capacity\n",
    "        table4_nsew.loc[idx, 'CostNumTerms'+STATUS] = term_num\n",
    "        table4_nsew.loc[idx, 'CapacNumTerms'+STATUS] = term_num\n",
    "        table4_nsew.loc[idx, 'CostNumPipes'+STATUS] = pipe_cost_num\n",
    "        table4_nsew.loc[idx, 'CapacNumPipes'+STATUS] = pipe_cap_num\n",
    "        table4_nsew.loc[idx, 'PipeLength'+STATUS] = pipe_length\n",
    "\n",
    "table4_nsew.index = index_list\n",
    "\n",
    "# add trans-adriatic\n",
    "#table4_nsew.loc['Southern EU','EstCostMillionEuroProposed'] += 1035."
   ]
  },
  {
   "cell_type": "code",
   "execution_count": 82,
   "id": "be94ad0b-572e-4f0c-b9a8-4f37df8a3cbc",
   "metadata": {},
   "outputs": [
    {
     "data": {
      "text/html": [
       "<div>\n",
       "<style scoped>\n",
       "    .dataframe tbody tr th:only-of-type {\n",
       "        vertical-align: middle;\n",
       "    }\n",
       "\n",
       "    .dataframe tbody tr th {\n",
       "        vertical-align: top;\n",
       "    }\n",
       "\n",
       "    .dataframe thead th {\n",
       "        text-align: right;\n",
       "    }\n",
       "</style>\n",
       "<table border=\"1\" class=\"dataframe\">\n",
       "  <thead>\n",
       "    <tr style=\"text-align: right;\">\n",
       "      <th></th>\n",
       "      <th>EstCostMillionEuroConstruction</th>\n",
       "      <th>CostNumPipesConstruction</th>\n",
       "      <th>CostNumTermsConstruction</th>\n",
       "      <th>PipeLengthConstruction</th>\n",
       "      <th>CapacityInBcm/yConstruction</th>\n",
       "      <th>CapacNumPipesConstruction</th>\n",
       "      <th>CapacNumTermsConstruction</th>\n",
       "      <th>CapacPipesConstruction</th>\n",
       "      <th>CapacTermsConstruction</th>\n",
       "      <th>EstCostMillionEuroProposed</th>\n",
       "      <th>CostNumPipesProposed</th>\n",
       "      <th>CostNumTermsProposed</th>\n",
       "      <th>PipeLengthProposed</th>\n",
       "      <th>CapacityInBcm/yProposed</th>\n",
       "      <th>CapacNumPipesProposed</th>\n",
       "      <th>CapacNumTermsProposed</th>\n",
       "      <th>CapacPipesProposed</th>\n",
       "      <th>CapacTermsProposed</th>\n",
       "    </tr>\n",
       "  </thead>\n",
       "  <tbody>\n",
       "    <tr>\n",
       "      <th>Western EU</th>\n",
       "      <td>1516.746574</td>\n",
       "      <td>0</td>\n",
       "      <td>4</td>\n",
       "      <td>0.00</td>\n",
       "      <td>21.16</td>\n",
       "      <td>0</td>\n",
       "      <td>4</td>\n",
       "      <td>0</td>\n",
       "      <td>21.16</td>\n",
       "      <td>12298.571726</td>\n",
       "      <td>10</td>\n",
       "      <td>18</td>\n",
       "      <td>712.39</td>\n",
       "      <td>103.62</td>\n",
       "      <td>0</td>\n",
       "      <td>18</td>\n",
       "      <td>0.00</td>\n",
       "      <td>103.62</td>\n",
       "    </tr>\n",
       "    <tr>\n",
       "      <th>Eastern EU</th>\n",
       "      <td>2133.277434</td>\n",
       "      <td>10</td>\n",
       "      <td>2</td>\n",
       "      <td>709.91</td>\n",
       "      <td>2.10</td>\n",
       "      <td>0</td>\n",
       "      <td>2</td>\n",
       "      <td>0</td>\n",
       "      <td>2.10</td>\n",
       "      <td>12407.542483</td>\n",
       "      <td>53</td>\n",
       "      <td>7</td>\n",
       "      <td>5506.53</td>\n",
       "      <td>78.06</td>\n",
       "      <td>4</td>\n",
       "      <td>7</td>\n",
       "      <td>40.56</td>\n",
       "      <td>37.50</td>\n",
       "    </tr>\n",
       "    <tr>\n",
       "      <th>Southern EU</th>\n",
       "      <td>1574.853210</td>\n",
       "      <td>4</td>\n",
       "      <td>2</td>\n",
       "      <td>748.50</td>\n",
       "      <td>6.32</td>\n",
       "      <td>0</td>\n",
       "      <td>2</td>\n",
       "      <td>0</td>\n",
       "      <td>6.32</td>\n",
       "      <td>24870.563725</td>\n",
       "      <td>35</td>\n",
       "      <td>12</td>\n",
       "      <td>5605.11</td>\n",
       "      <td>102.15</td>\n",
       "      <td>5</td>\n",
       "      <td>12</td>\n",
       "      <td>37.10</td>\n",
       "      <td>65.05</td>\n",
       "    </tr>\n",
       "    <tr>\n",
       "      <th>Northern EU</th>\n",
       "      <td>0.000000</td>\n",
       "      <td>0</td>\n",
       "      <td>0</td>\n",
       "      <td>0.00</td>\n",
       "      <td>0.00</td>\n",
       "      <td>0</td>\n",
       "      <td>0</td>\n",
       "      <td>0</td>\n",
       "      <td>0.00</td>\n",
       "      <td>0.000000</td>\n",
       "      <td>0</td>\n",
       "      <td>0</td>\n",
       "      <td>0.00</td>\n",
       "      <td>0.00</td>\n",
       "      <td>0</td>\n",
       "      <td>0</td>\n",
       "      <td>0.00</td>\n",
       "      <td>0.00</td>\n",
       "    </tr>\n",
       "  </tbody>\n",
       "</table>\n",
       "</div>"
      ],
      "text/plain": [
       "             EstCostMillionEuroConstruction  CostNumPipesConstruction  \\\n",
       "Western EU                      1516.746574                         0   \n",
       "Eastern EU                      2133.277434                        10   \n",
       "Southern EU                     1574.853210                         4   \n",
       "Northern EU                        0.000000                         0   \n",
       "\n",
       "             CostNumTermsConstruction  PipeLengthConstruction  \\\n",
       "Western EU                          4                    0.00   \n",
       "Eastern EU                          2                  709.91   \n",
       "Southern EU                         2                  748.50   \n",
       "Northern EU                         0                    0.00   \n",
       "\n",
       "             CapacityInBcm/yConstruction  CapacNumPipesConstruction  \\\n",
       "Western EU                         21.16                          0   \n",
       "Eastern EU                          2.10                          0   \n",
       "Southern EU                         6.32                          0   \n",
       "Northern EU                         0.00                          0   \n",
       "\n",
       "             CapacNumTermsConstruction  CapacPipesConstruction  \\\n",
       "Western EU                           4                       0   \n",
       "Eastern EU                           2                       0   \n",
       "Southern EU                          2                       0   \n",
       "Northern EU                          0                       0   \n",
       "\n",
       "             CapacTermsConstruction  EstCostMillionEuroProposed  \\\n",
       "Western EU                    21.16                12298.571726   \n",
       "Eastern EU                     2.10                12407.542483   \n",
       "Southern EU                    6.32                24870.563725   \n",
       "Northern EU                    0.00                    0.000000   \n",
       "\n",
       "             CostNumPipesProposed  CostNumTermsProposed  PipeLengthProposed  \\\n",
       "Western EU                     10                    18              712.39   \n",
       "Eastern EU                     53                     7             5506.53   \n",
       "Southern EU                    35                    12             5605.11   \n",
       "Northern EU                     0                     0                0.00   \n",
       "\n",
       "             CapacityInBcm/yProposed  CapacNumPipesProposed  \\\n",
       "Western EU                    103.62                      0   \n",
       "Eastern EU                     78.06                      4   \n",
       "Southern EU                   102.15                      5   \n",
       "Northern EU                     0.00                      0   \n",
       "\n",
       "             CapacNumTermsProposed  CapacPipesProposed  CapacTermsProposed  \n",
       "Western EU                      18                0.00              103.62  \n",
       "Eastern EU                       7               40.56               37.50  \n",
       "Southern EU                     12               37.10               65.05  \n",
       "Northern EU                      0                0.00                0.00  "
      ]
     },
     "execution_count": 82,
     "metadata": {},
     "output_type": "execute_result"
    }
   ],
   "source": [
    "table4_nsew"
   ]
  },
  {
   "cell_type": "markdown",
   "id": "32ec398b-2c60-44c8-9d94-26f38965942f",
   "metadata": {},
   "source": [
    "# creating figure 1 data\n",
    "\n",
    "sum of Table 1 columns..."
   ]
  },
  {
   "cell_type": "code",
   "execution_count": 70,
   "id": "63542f11-cc8e-4e42-bf70-266237e5fa1d",
   "metadata": {},
   "outputs": [],
   "source": [
    "figure1_table_columns = ['TotalConstructionCostMillionEuro','TotalProposedCostMillionEuro','Total']\n",
    "figure1_table_df = pandas.DataFrame(0, columns=figure1_table_columns, index=region_df_touse.Country,)\n",
    "\n",
    "\n",
    "# for proposed\n",
    "figure1_table_df['TotalProposedCostMillionEuro'] = \\\n",
    "country_ratios_df_touse.loc[country_ratios_df_touse.Status.isin(\n",
    "    ['Proposed'])].groupby(['Country'])['TotalEstCostEuroMillionsMean'].sum()\n",
    "\n",
    "figure1_table_df['TotalProposedCostMillionEuro'] = \\\n",
    "figure1_table_df['TotalProposedCostMillionEuro'].add( \\\n",
    "terms_df_eu27_import_future.loc[terms_df_eu27_import_future.Status.isin(\n",
    "    ['Proposed'])].groupby(['Country'])['TotalEstCostEuroMillionsMean'].sum(), \\\n",
    "                                                    fill_value=0)\n",
    "\n",
    "figure1_table_df.loc['Italy','TotalProposedCostMillionEuro'] += 1035/2.\n",
    "figure1_table_df.loc['Greece','TotalProposedCostMillionEuro'] += 1035/2.\n",
    "\n",
    "# for construction\n",
    "figure1_table_df['TotalConstructionCostMillionEuro'] = \\\n",
    "country_ratios_df_touse.loc[country_ratios_df_touse.Status.isin(\n",
    "    ['Construction'])].groupby(['Country'])['TotalEstCostEuroMillionsMean'].sum()\n",
    "\n",
    "figure1_table_df['TotalConstructionCostMillionEuro'] = \\\n",
    "figure1_table_df['TotalConstructionCostMillionEuro'].add( \\\n",
    "terms_df_eu27_import_future.loc[terms_df_eu27_import_future.Status.isin(\n",
    "    ['Construction'])].groupby(['Country'])['TotalEstCostEuroMillionsMean'].sum(), \\\n",
    "                                                         fill_value=0, axis=0)\n",
    "\n",
    "figure1_table_df['Total'] = \\\n",
    "figure1_table_df[['TotalConstructionCostMillionEuro','TotalProposedCostMillionEuro']].sum(axis=1)\n",
    "figure1_table_df.sort_values(['Total','Country'], ascending=[False, True], inplace=True)\n",
    "\n",
    "figure1_table_df.replace(numpy.nan, '', inplace=True)\n",
    "figure1_table_df.replace(0, '', inplace=True)"
   ]
  },
  {
   "cell_type": "code",
   "execution_count": 71,
   "id": "8956df7f-9379-4a88-97d4-beef82d1c74d",
   "metadata": {},
   "outputs": [
    {
     "data": {
      "text/html": [
       "<div>\n",
       "<style scoped>\n",
       "    .dataframe tbody tr th:only-of-type {\n",
       "        vertical-align: middle;\n",
       "    }\n",
       "\n",
       "    .dataframe tbody tr th {\n",
       "        vertical-align: top;\n",
       "    }\n",
       "\n",
       "    .dataframe thead th {\n",
       "        text-align: right;\n",
       "    }\n",
       "</style>\n",
       "<table border=\"1\" class=\"dataframe\">\n",
       "  <thead>\n",
       "    <tr style=\"text-align: right;\">\n",
       "      <th></th>\n",
       "      <th>TotalConstructionCostMillionEuro</th>\n",
       "      <th>TotalProposedCostMillionEuro</th>\n",
       "      <th>Total</th>\n",
       "    </tr>\n",
       "    <tr>\n",
       "      <th>Country</th>\n",
       "      <th></th>\n",
       "      <th></th>\n",
       "      <th></th>\n",
       "    </tr>\n",
       "  </thead>\n",
       "  <tbody>\n",
       "    <tr>\n",
       "      <th>Greece</th>\n",
       "      <td>440.0</td>\n",
       "      <td>10663.977119</td>\n",
       "      <td>11103.977119</td>\n",
       "    </tr>\n",
       "    <tr>\n",
       "      <th>Italy</th>\n",
       "      <td>822.85321</td>\n",
       "      <td>9406.572048</td>\n",
       "      <td>10229.425258</td>\n",
       "    </tr>\n",
       "    <tr>\n",
       "      <th>Germany</th>\n",
       "      <td>1400.746574</td>\n",
       "      <td>7620.632034</td>\n",
       "      <td>9021.378608</td>\n",
       "    </tr>\n",
       "    <tr>\n",
       "      <th>Poland</th>\n",
       "      <td>1553.007548</td>\n",
       "      <td>1983.479211</td>\n",
       "      <td>3536.486759</td>\n",
       "    </tr>\n",
       "    <tr>\n",
       "      <th>Cyprus</th>\n",
       "      <td>312.0</td>\n",
       "      <td>2684.692924</td>\n",
       "      <td>2996.692924</td>\n",
       "    </tr>\n",
       "    <tr>\n",
       "      <th>Spain</th>\n",
       "      <td></td>\n",
       "      <td>2854.159106</td>\n",
       "      <td>2854.159106</td>\n",
       "    </tr>\n",
       "    <tr>\n",
       "      <th>Romania</th>\n",
       "      <td></td>\n",
       "      <td>2700.791303</td>\n",
       "      <td>2700.791303</td>\n",
       "    </tr>\n",
       "    <tr>\n",
       "      <th>Bulgaria</th>\n",
       "      <td>76.65764</td>\n",
       "      <td>2501.273601</td>\n",
       "      <td>2577.931241</td>\n",
       "    </tr>\n",
       "    <tr>\n",
       "      <th>France</th>\n",
       "      <td></td>\n",
       "      <td>2459.345639</td>\n",
       "      <td>2459.345639</td>\n",
       "    </tr>\n",
       "    <tr>\n",
       "      <th>Croatia</th>\n",
       "      <td></td>\n",
       "      <td>2036.077799</td>\n",
       "      <td>2036.077799</td>\n",
       "    </tr>\n",
       "    <tr>\n",
       "      <th>Estonia</th>\n",
       "      <td>503.612246</td>\n",
       "      <td>650.0</td>\n",
       "      <td>1153.612246</td>\n",
       "    </tr>\n",
       "    <tr>\n",
       "      <th>Netherlands</th>\n",
       "      <td></td>\n",
       "      <td>1103.164442</td>\n",
       "      <td>1103.164442</td>\n",
       "    </tr>\n",
       "    <tr>\n",
       "      <th>Slovenia</th>\n",
       "      <td></td>\n",
       "      <td>1013.350501</td>\n",
       "      <td>1013.350501</td>\n",
       "    </tr>\n",
       "    <tr>\n",
       "      <th>Ireland</th>\n",
       "      <td></td>\n",
       "      <td>936.653545</td>\n",
       "      <td>936.653545</td>\n",
       "    </tr>\n",
       "    <tr>\n",
       "      <th>Hungary</th>\n",
       "      <td></td>\n",
       "      <td>711.430821</td>\n",
       "      <td>711.430821</td>\n",
       "    </tr>\n",
       "    <tr>\n",
       "      <th>Latvia</th>\n",
       "      <td></td>\n",
       "      <td>528.731643</td>\n",
       "      <td>528.731643</td>\n",
       "    </tr>\n",
       "    <tr>\n",
       "      <th>Czech Republic</th>\n",
       "      <td></td>\n",
       "      <td>218.52681</td>\n",
       "      <td>218.52681</td>\n",
       "    </tr>\n",
       "    <tr>\n",
       "      <th>Malta</th>\n",
       "      <td></td>\n",
       "      <td>181.162528</td>\n",
       "      <td>181.162528</td>\n",
       "    </tr>\n",
       "    <tr>\n",
       "      <th>Austria</th>\n",
       "      <td></td>\n",
       "      <td>178.776066</td>\n",
       "      <td>178.776066</td>\n",
       "    </tr>\n",
       "    <tr>\n",
       "      <th>Belgium</th>\n",
       "      <td>116.0</td>\n",
       "      <td></td>\n",
       "      <td>116.0</td>\n",
       "    </tr>\n",
       "    <tr>\n",
       "      <th>Portugal</th>\n",
       "      <td></td>\n",
       "      <td>114.999999</td>\n",
       "      <td>114.999999</td>\n",
       "    </tr>\n",
       "    <tr>\n",
       "      <th>Slovakia</th>\n",
       "      <td></td>\n",
       "      <td>63.880795</td>\n",
       "      <td>63.880795</td>\n",
       "    </tr>\n",
       "    <tr>\n",
       "      <th>Denmark</th>\n",
       "      <td></td>\n",
       "      <td></td>\n",
       "      <td></td>\n",
       "    </tr>\n",
       "    <tr>\n",
       "      <th>Finland</th>\n",
       "      <td></td>\n",
       "      <td></td>\n",
       "      <td></td>\n",
       "    </tr>\n",
       "    <tr>\n",
       "      <th>Lithuania</th>\n",
       "      <td></td>\n",
       "      <td></td>\n",
       "      <td></td>\n",
       "    </tr>\n",
       "    <tr>\n",
       "      <th>Luxembourg</th>\n",
       "      <td></td>\n",
       "      <td></td>\n",
       "      <td></td>\n",
       "    </tr>\n",
       "    <tr>\n",
       "      <th>Sweden</th>\n",
       "      <td></td>\n",
       "      <td></td>\n",
       "      <td></td>\n",
       "    </tr>\n",
       "  </tbody>\n",
       "</table>\n",
       "</div>"
      ],
      "text/plain": [
       "               TotalConstructionCostMillionEuro TotalProposedCostMillionEuro  \\\n",
       "Country                                                                        \n",
       "Greece                                    440.0                 10663.977119   \n",
       "Italy                                 822.85321                  9406.572048   \n",
       "Germany                             1400.746574                  7620.632034   \n",
       "Poland                              1553.007548                  1983.479211   \n",
       "Cyprus                                    312.0                  2684.692924   \n",
       "Spain                                                            2854.159106   \n",
       "Romania                                                          2700.791303   \n",
       "Bulgaria                               76.65764                  2501.273601   \n",
       "France                                                           2459.345639   \n",
       "Croatia                                                          2036.077799   \n",
       "Estonia                              503.612246                        650.0   \n",
       "Netherlands                                                      1103.164442   \n",
       "Slovenia                                                         1013.350501   \n",
       "Ireland                                                           936.653545   \n",
       "Hungary                                                           711.430821   \n",
       "Latvia                                                            528.731643   \n",
       "Czech Republic                                                     218.52681   \n",
       "Malta                                                             181.162528   \n",
       "Austria                                                           178.776066   \n",
       "Belgium                                   116.0                                \n",
       "Portugal                                                          114.999999   \n",
       "Slovakia                                                           63.880795   \n",
       "Denmark                                                                        \n",
       "Finland                                                                        \n",
       "Lithuania                                                                      \n",
       "Luxembourg                                                                     \n",
       "Sweden                                                                         \n",
       "\n",
       "                       Total  \n",
       "Country                       \n",
       "Greece          11103.977119  \n",
       "Italy           10229.425258  \n",
       "Germany          9021.378608  \n",
       "Poland           3536.486759  \n",
       "Cyprus           2996.692924  \n",
       "Spain            2854.159106  \n",
       "Romania          2700.791303  \n",
       "Bulgaria         2577.931241  \n",
       "France           2459.345639  \n",
       "Croatia          2036.077799  \n",
       "Estonia          1153.612246  \n",
       "Netherlands      1103.164442  \n",
       "Slovenia         1013.350501  \n",
       "Ireland           936.653545  \n",
       "Hungary           711.430821  \n",
       "Latvia            528.731643  \n",
       "Czech Republic     218.52681  \n",
       "Malta             181.162528  \n",
       "Austria           178.776066  \n",
       "Belgium                116.0  \n",
       "Portugal          114.999999  \n",
       "Slovakia           63.880795  \n",
       "Denmark                       \n",
       "Finland                       \n",
       "Lithuania                     \n",
       "Luxembourg                    \n",
       "Sweden                        "
      ]
     },
     "execution_count": 71,
     "metadata": {},
     "output_type": "execute_result"
    }
   ],
   "source": [
    "figure1_table_df"
   ]
  },
  {
   "cell_type": "markdown",
   "id": "679ab83a-7079-49ee-846e-9e9a63e513c9",
   "metadata": {},
   "source": [
    "# report numbers"
   ]
  },
  {
   "cell_type": "code",
   "execution_count": 72,
   "id": "885316ea-93de-4fbe-8749-1694ec16d3dc",
   "metadata": {},
   "outputs": [
    {
     "data": {
      "text/plain": [
       "1458.41"
      ]
     },
     "execution_count": 72,
     "metadata": {},
     "output_type": "execute_result"
    }
   ],
   "source": [
    "# key points\n",
    "# num of gas pipelines under const in EU\n",
    "country_ratios_df_touse.loc[country_ratios_df_touse.Status.isin(['Construction'])]['MergedKmByCountry'].sum()"
   ]
  },
  {
   "cell_type": "code",
   "execution_count": 73,
   "id": "85fdde21-9fac-475d-880c-ab8d4098d166",
   "metadata": {},
   "outputs": [
    {
     "data": {
      "text/plain": [
       "1925.5585489067287"
      ]
     },
     "execution_count": 73,
     "metadata": {},
     "output_type": "execute_result"
    }
   ],
   "source": [
    "# total cost\n",
    "country_ratios_df_touse.loc[country_ratios_df_touse.Status.isin(['Construction'])]['TotalEstCostEuroMillionsLow'].sum()"
   ]
  },
  {
   "cell_type": "code",
   "execution_count": 74,
   "id": "8ea67ba5-1527-45a3-810d-4ca198505be8",
   "metadata": {},
   "outputs": [
    {
     "data": {
      "text/plain": [
       "2549.973835715706"
      ]
     },
     "execution_count": 74,
     "metadata": {},
     "output_type": "execute_result"
    }
   ],
   "source": [
    "country_ratios_df_touse.loc[country_ratios_df_touse.Status.isin(['Construction'])]['TotalEstCostEuroMillionsHigh'].sum()"
   ]
  },
  {
   "cell_type": "code",
   "execution_count": 75,
   "id": "868e350b-5180-4238-8ed9-86c4f258e8d7",
   "metadata": {},
   "outputs": [
    {
     "name": "stdout",
     "output_type": "stream",
     "text": [
      "97.79375\n",
      "16\n"
     ]
    }
   ],
   "source": [
    "# number of distinct projects\n",
    "unique_const = country_ratios_df_touse.loc[(country_ratios_df_touse.Status.isin(['Construction']))].ProjectID.unique().tolist()\n",
    "print(pipes_df_orig.loc[pipes_df_orig.ProjectID.isin(unique_const)]['LengthMergedKm'].mean())\n",
    "print(pipes_df_orig.loc[pipes_df_orig.ProjectID.isin(unique_const)]['LengthMergedKm'].size)"
   ]
  },
  {
   "cell_type": "code",
   "execution_count": 76,
   "id": "0a8d5704-e8f5-4a26-acb9-fd077285271d",
   "metadata": {},
   "outputs": [
    {
     "data": {
      "text/plain": [
       "11824.029999999999"
      ]
     },
     "execution_count": 76,
     "metadata": {},
     "output_type": "execute_result"
    }
   ],
   "source": [
    "country_ratios_df_touse.loc[country_ratios_df_touse.Status.isin(['Proposed'])]['MergedKmByCountry'].sum()"
   ]
  },
  {
   "cell_type": "code",
   "execution_count": 77,
   "id": "d8722b0d-47ae-40f1-9b1b-0720827d19f5",
   "metadata": {},
   "outputs": [
    {
     "data": {
      "text/plain": [
       "25857.754656690784"
      ]
     },
     "execution_count": 77,
     "metadata": {},
     "output_type": "execute_result"
    }
   ],
   "source": [
    "country_ratios_df_touse.loc[country_ratios_df_touse.Status.isin(['Proposed'])]['TotalEstCostEuroMillionsLow'].sum()"
   ]
  },
  {
   "cell_type": "code",
   "execution_count": 78,
   "id": "4f384768-b6b3-472c-a4a0-6e2d3950062c",
   "metadata": {},
   "outputs": [
    {
     "data": {
      "text/plain": [
       "32437.46006053793"
      ]
     },
     "execution_count": 78,
     "metadata": {},
     "output_type": "execute_result"
    }
   ],
   "source": [
    "country_ratios_df_touse.loc[country_ratios_df_touse.Status.isin(['Proposed'])]['TotalEstCostEuroMillionsHigh'].sum()"
   ]
  },
  {
   "cell_type": "code",
   "execution_count": null,
   "id": "c427f720-929f-47e2-b136-c5ac1bcc9d89",
   "metadata": {},
   "outputs": [],
   "source": [
    "# number of distinct projects\n",
    "unique_prop = country_ratios_df_touse.loc[(country_ratios_df_touse.Status.isin(['Proposed']))].ProjectID.unique().tolist()\n",
    "print(pipes_df_orig.loc[pipes_df_orig.ProjectID.isin(unique_prop)]['LengthMergedKm'].mean())\n",
    "print(pipes_df_orig.loc[pipes_df_orig.ProjectID.isin(unique_prop)]['LengthMergedKm'].size)"
   ]
  },
  {
   "cell_type": "markdown",
   "id": "614864a3-d612-48a4-a39b-619a0b0001ea",
   "metadata": {},
   "source": [
    "# how many announced since war started?"
   ]
  },
  {
   "cell_type": "raw",
   "id": "99f76f33-b202-4d45-89bb-80e58ce909c3",
   "metadata": {},
   "source": [
    "pipes_df_orig.loc[(pipes_df_orig.Fuel=='Gas')&\n",
    "                  (pipes_df_orig.ProposalYear>=2022)&\n",
    "                  ((pipes_df_orig.StartRegion=='Europe')|\n",
    "                  (pipes_df_orig.EndRegion=='Europe'))]#.to_excel('recent_pipelines.xlsx')"
   ]
  },
  {
   "cell_type": "markdown",
   "id": "54a9474b-6b5c-4838-9193-235156826c0a",
   "metadata": {},
   "source": [
    "# commissioned in 2022/2023"
   ]
  },
  {
   "cell_type": "code",
   "execution_count": null,
   "id": "d53c3d7b-8ab3-40b6-843d-768da60acbbe",
   "metadata": {},
   "outputs": [],
   "source": [
    "pipes_df_touse.loc[(pipes_df_touse.Status=='Operating')&\n",
    "                   (pipes_df_touse.StartYearEarliest==2022)][['PipelineName',\n",
    "                                                              'Wiki',\n",
    "                                                              'Countries',\n",
    "                                                              'CapacityBcm/y',\n",
    "                                                              'CostEuro',\n",
    "                                                              'LengthKnownKm']].set_index('PipelineName')"
   ]
  },
  {
   "cell_type": "code",
   "execution_count": null,
   "id": "578ce7ea-49c2-4686-a1e8-3d7473368024",
   "metadata": {},
   "outputs": [],
   "source": [
    "terms_df_touse_imports.loc[(terms_df_touse_imports.Status=='Operating')&\n",
    "                           (terms_df_touse_imports.StartYearEarliest.isin([2022,2023]))][['ComboID',\n",
    "                                                                              'TerminalName',\n",
    "                                                                              'UnitName',\n",
    "                                                                              'Wiki',\n",
    "                                                                              'Country',\n",
    "                                                                              'CapacityInBcm/y',\n",
    "                                                                              'CostEuro',\n",
    "                                                                              'StartYear1','StartMonth1']].set_index('TerminalName').replace(numpy.nan,'')"
   ]
  },
  {
   "cell_type": "markdown",
   "id": "76737361-d320-4538-ac0a-1874c7bd52d4",
   "metadata": {},
   "source": [
    "## starting in 2023 under const"
   ]
  },
  {
   "cell_type": "code",
   "execution_count": null,
   "id": "4cfeb812-9681-492a-b1ce-c41db863eaa4",
   "metadata": {},
   "outputs": [],
   "source": [
    "terms_df_touse_imports.loc[(terms_df_touse_imports.Status.isin(['Construction','Proposed']))&\n",
    "                           (terms_df_touse_imports.StartYearEarliest.isin([2023,2024,2025,2026,2027,2028,2029,2030]))].groupby(['StartYearEarliest',\n",
    "                                                                                                           'Status'])[['CapacityInBcm/y']].sum()"
   ]
  },
  {
   "cell_type": "markdown",
   "id": "69cf63a0-9890-4a75-8b11-1848c57f9727",
   "metadata": {},
   "source": [
    "# existing capacity"
   ]
  },
  {
   "cell_type": "code",
   "execution_count": null,
   "id": "14b18ea4-4480-4829-bb48-df6cd9caffdf",
   "metadata": {},
   "outputs": [],
   "source": [
    "terms_df_touse.loc[(terms_df_touse.Status.isin(['Operating']))&\n",
    "                   (terms_df_touse['Import/Export']=='Import')]['CapacityInBcm/y'].sum()"
   ]
  },
  {
   "cell_type": "code",
   "execution_count": null,
   "id": "f1d5eb57-b708-4ddb-9949-e39e788ec824",
   "metadata": {},
   "outputs": [],
   "source": [
    "terms_df_touse.loc[(terms_df_touse.Status.isin(['Operating']))&\n",
    "                   (terms_df_touse['Import/Export']=='Import')\n",
    "                  ].groupby('StartYear1')[['CapacityInBcm/y']].sum(min_count=0).cumsum()"
   ]
  },
  {
   "cell_type": "code",
   "execution_count": null,
   "id": "86e06ce8-932e-41a3-9a96-666667fefca2",
   "metadata": {},
   "outputs": [],
   "source": [
    "terms_df_touse.loc[(terms_df_touse.Status.isin(['Proposed','Construction']))&\n",
    "                   (terms_df_touse['Import/Export']=='Import')\n",
    "                  ].groupby('StartYearEarliest')[['CapacityInBcm/y']].sum()#.cumsum()"
   ]
  },
  {
   "cell_type": "markdown",
   "id": "381a3867-8f51-4fc4-80a8-27769d6b3e35",
   "metadata": {},
   "source": [
    "proposed since 2022"
   ]
  },
  {
   "cell_type": "code",
   "execution_count": null,
   "id": "b1b3cf30-3179-4e18-afba-b33469bb2eed",
   "metadata": {},
   "outputs": [],
   "source": [
    "terms_df_touse_imports.loc[terms_df_touse_imports.ProposalYear==2022]['CapacityInBcm/y'].sum()"
   ]
  },
  {
   "cell_type": "markdown",
   "id": "2faf0d7d-b7ab-430b-9b6a-0249cb0d2cae",
   "metadata": {},
   "source": [
    "began construction since 2022"
   ]
  },
  {
   "cell_type": "code",
   "execution_count": null,
   "id": "c8638694-7cb1-4172-819e-6d9a3f0af529",
   "metadata": {},
   "outputs": [],
   "source": [
    "terms_df_touse_imports.loc[(terms_df_touse_imports.Status.isin(['Construction','Operating']))&\n",
    "                           (terms_df_touse_imports.ConstructionYear==2022)]['CapacityInBcm/y'].sum()"
   ]
  },
  {
   "cell_type": "markdown",
   "id": "4eba6b07-b8a2-4fcf-83dd-85fa7e484ef7",
   "metadata": {},
   "source": [
    "started since 2022"
   ]
  },
  {
   "cell_type": "code",
   "execution_count": null,
   "id": "ba145266-b80e-4bcd-89ad-9c25cb465947",
   "metadata": {},
   "outputs": [],
   "source": [
    "terms_df_touse_imports.loc[terms_df_touse_imports.StartYearEarliest.isin([2022,2023])]['CapacityInBcm/y'].sum()"
   ]
  },
  {
   "cell_type": "markdown",
   "id": "54ba5a42-8c86-44e3-b7fe-52484cebb9c0",
   "metadata": {},
   "source": [
    "# cancellations per year"
   ]
  },
  {
   "cell_type": "raw",
   "id": "3f9907e9-b18a-4d4f-a993-80537f4f76c5",
   "metadata": {},
   "source": [
    "terms_df_touse.loc[(terms_df_touse.Status=='Cancelled')].groupby('CancelledYear')[['CapacityInBcm/y']].sum()"
   ]
  },
  {
   "cell_type": "raw",
   "id": "1dc99e14-e6e8-4584-a0f9-6fe554a8d974",
   "metadata": {},
   "source": [
    "pandas.DataFrame(terms_df_touse.loc[(terms_df_touse.Status=='Cancelled')].groupby(['CancelledYear'])['TerminalID'].unique())"
   ]
  },
  {
   "cell_type": "raw",
   "id": "18b1f698-51f5-4e37-8193-e3f0e2c2034a",
   "metadata": {},
   "source": [
    "pandas.DataFrame(terms_df_touse.loc[(terms_df_touse.Status.isin(['Proposed','Construction']))].groupby(['ProposalYear'])['TerminalID'].unique()).reindex(numpy.arange(2010,2023)).replace(numpy.nan,'')"
   ]
  },
  {
   "cell_type": "raw",
   "id": "2bd227a7-9b2a-45a7-9a58-88eaffe9e22f",
   "metadata": {},
   "source": [
    "terms_df_touse.loc[(terms_df_touse.Status.isin(['Proposed','Construction']))].groupby(['ProposalYear'])[['CapacityInBcm/y']].sum().reindex(numpy.arange(2010,2023)).replace(numpy.nan,'')\n",
    "\n"
   ]
  },
  {
   "cell_type": "raw",
   "id": "ece44706-3ad8-4701-821e-78eedbfb3021",
   "metadata": {},
   "source": [
    "pandas.DataFrame(pipes_df_touse.loc[(pipes_df_touse.Status=='Cancelled')].groupby(['CancelledYear'])['ProjectID'].unique())#.split(', ')"
   ]
  },
  {
   "cell_type": "raw",
   "id": "ddc8f6e2-ca8f-426b-b447-811caf15b5b6",
   "metadata": {},
   "source": [
    "pipes_df_touse.loc[(pipes_df_touse.Status=='Cancelled')].groupby(['CancelledYear'])['CapacityBcm/y','LengthMergedKm'].sum()"
   ]
  },
  {
   "cell_type": "code",
   "execution_count": null,
   "id": "64bb6bf6-ff55-4c07-87e1-546a2942a2f7",
   "metadata": {},
   "outputs": [],
   "source": []
  },
  {
   "cell_type": "raw",
   "id": "9d6e011a-9342-4f13-9690-4ad0bda341fd",
   "metadata": {},
   "source": [
    "pandas.DataFrame(pipes_df_touse.loc[(pipes_df_touse.Status.isin(['Proposed','Construction']))].groupby(['ProposalYear'])['ProjectID'].unique())#.split(', ')"
   ]
  },
  {
   "cell_type": "raw",
   "id": "0035c385-92e5-470e-8a69-d2806df6a615",
   "metadata": {},
   "source": [
    "pipes_df_touse.loc[(pipes_df_touse.Status.isin(['Proposed','Construction']))].groupby(['ProposalYear'])['CapacityBcm/y','LengthMergedKm'].sum().reindex(numpy.arange(2010,2023)).replace(numpy.nan,'')\n",
    "\n",
    "\n"
   ]
  },
  {
   "cell_type": "markdown",
   "id": "860c7d5a-e29e-47ab-ad2e-47463dd1b94b",
   "metadata": {},
   "source": [
    "# hydrogen exploring"
   ]
  },
  {
   "cell_type": "code",
   "execution_count": null,
   "id": "78db73d8-86b0-4ce4-a954-8bda8d2f0a52",
   "metadata": {},
   "outputs": [],
   "source": [
    "pipes_df_touse = pipes_df_touse.loc[pipes_df_touse.H2Status!='']\n",
    "pipes_df_touse_h2.H2Status.unique()"
   ]
  },
  {
   "cell_type": "code",
   "execution_count": null,
   "id": "f0e28126-8fab-4389-a0af-c5ef70174ca9",
   "metadata": {},
   "outputs": [],
   "source": [
    "pipes_df_touse_h2.loc[pipes_df_touse_h2.Fuel=='Hydrogen'][['ProjectID','Status','H2Status']]"
   ]
  },
  {
   "cell_type": "code",
   "execution_count": null,
   "id": "2400983a-4581-49a7-a35e-94c37dde9b27",
   "metadata": {},
   "outputs": [],
   "source": [
    "print(pipes_df_touse_h2.loc[pipes_df_touse_h2.H2Status=='Pre-construction (H2 only)'].shape)\n",
    "print(pipes_df_touse_h2.loc[pipes_df_touse_h2.H2Status=='Speculative (H2 only)'].shape)\n",
    "print(pipes_df_touse_h2.loc[pipes_df_touse_h2.H2Status=='Proposed'].shape)"
   ]
  },
  {
   "cell_type": "code",
   "execution_count": null,
   "id": "d159b537-44db-4c97-bec5-cb1fabc82723",
   "metadata": {},
   "outputs": [],
   "source": [
    "pipes_df_touse_h2.groupby('H2Status')[['LengthMergedKm']].count()#.sum()"
   ]
  },
  {
   "cell_type": "code",
   "execution_count": null,
   "id": "e156faae-7053-4779-b617-9d01fb3424d8",
   "metadata": {},
   "outputs": [],
   "source": [
    "pipes_df_touse_h2.groupby(['H2Status','H2Type'])[['LengthMergedKm']].sum()"
   ]
  },
  {
   "cell_type": "markdown",
   "id": "7bf21806-5221-4e5c-ab09-7aa14937dc9c",
   "metadata": {},
   "source": [
    "* how many H2 pipelines are planning to be 100%? blended?\n",
    "  * A: really, none; the Malta-Italy Gas Pipeline is actually seeming realistic-ish but has language about \"up to 100%\" rather than a confirmation"
   ]
  },
  {
   "cell_type": "markdown",
   "id": "5451e96a-36ab-4afb-a6fd-fe2ad189c178",
   "metadata": {},
   "source": [
    "## hydrogen table 1"
   ]
  },
  {
   "cell_type": "code",
   "execution_count": null,
   "id": "5ddfcda2-853c-4119-865e-94b354b85a9c",
   "metadata": {},
   "outputs": [],
   "source": [
    "country_ratios_df_touse.loc[country_ratios_df_touse.H2Status!=''].MergedKmByCountry.sort_values()"
   ]
  },
  {
   "cell_type": "code",
   "execution_count": null,
   "id": "691ac2a3-6e9e-4112-b49e-4643f9c47ba3",
   "metadata": {},
   "outputs": [],
   "source": [
    "# country_ratios_df_touse.loc[country_ratios_df_touse.H2Status!=''].groupby(\n",
    "#     ['H2Status','Country'])[['MergedKmByCountry']].sum().sort_values('MergedKmByCountry', ascending=False)\n",
    "\n",
    "country_ratios_df_touse.loc[country_ratios_df_touse.H2Status!=''].groupby(\n",
    "    ['Country'])[['MergedKmByCountry']].sum().sort_values('MergedKmByCountry', ascending=False)"
   ]
  },
  {
   "cell_type": "code",
   "execution_count": null,
   "id": "c9bc328e-a939-4413-b5f0-02aaa7497941",
   "metadata": {},
   "outputs": [],
   "source": []
  }
 ],
 "metadata": {
  "kernelspec": {
   "display_name": "Python 3 (ipykernel)",
   "language": "python",
   "name": "python3"
  },
  "language_info": {
   "codemirror_mode": {
    "name": "ipython",
    "version": 3
   },
   "file_extension": ".py",
   "mimetype": "text/x-python",
   "name": "python",
   "nbconvert_exporter": "python",
   "pygments_lexer": "ipython3",
   "version": "3.11.0"
  }
 },
 "nbformat": 4,
 "nbformat_minor": 5
}
