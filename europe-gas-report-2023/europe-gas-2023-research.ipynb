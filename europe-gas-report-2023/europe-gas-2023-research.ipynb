{
 "cells": [
  {
   "cell_type": "code",
   "execution_count": 26,
   "id": "24befb0b",
   "metadata": {},
   "outputs": [],
   "source": [
    "import pandas\n",
    "\n",
    "import numpy\n",
    "import pygsheets\n",
    "import datetime\n",
    "import scipy\n",
    "import sklearn.linear_model\n",
    "import sklearn.cluster\n",
    "\n",
    "import matplotlib.pyplot as mp"
   ]
  },
  {
   "cell_type": "markdown",
   "id": "c8c5ca7a",
   "metadata": {},
   "source": [
    "# import pipelines dataset"
   ]
  },
  {
   "cell_type": "code",
   "execution_count": 27,
   "id": "a4185877",
   "metadata": {},
   "outputs": [],
   "source": [
    "credentials_directory = '/Users/baird/Dropbox/_google-api/'\n",
    "gc = pygsheets.authorize(service_account_env_var='GDRIVE_API_CREDENTIALS')\n",
    "spreadsheet = gc.open_by_key('1foPLE6K-uqFlaYgLPAUxzeXfDO5wOOqE7tibNHeqTek')\n",
    "\n",
    "gas_pipes = spreadsheet.worksheet('title', 'Gas pipelines').get_as_df(start='A2')\n",
    "oil_pipes = spreadsheet.worksheet('title', 'Oil/NGL pipelines').get_as_df(start='A2')\n",
    "\n",
    "gas_pipes = gas_pipes.drop('WKTFormat', axis=1) # delete WKTFormat column\n",
    "oil_pipes = oil_pipes.drop('WKTFormat', axis=1)\n",
    "pipes_df_orig = gas_pipes.copy()\n",
    "\n",
    "# remove empty cells for pipes, owners\n",
    "pipes_df_orig = pipes_df_orig[pipes_df_orig['PipelineName']!='']\n",
    "pipes_df_orig = pipes_df_orig.loc[pipes_df_orig.Fuel=='Gas']\n",
    "\n",
    "#get other relevant sheets\n",
    "country_ratios_df = spreadsheet.worksheet('title', 'Country ratios by pipeline').get_as_df()"
   ]
  },
  {
   "cell_type": "code",
   "execution_count": 28,
   "id": "40a2ae63-5967-4184-8c6e-045bfe985a57",
   "metadata": {},
   "outputs": [],
   "source": [
    "country_ratios_df.replace('--', numpy.nan, inplace=True)\n",
    "pipes_df_orig.replace('--',numpy.nan,inplace=True)\n",
    "pipes_df_orig['ProposalYear'] = pipes_df_orig['ProposalYear'].replace('',numpy.nan)\n",
    "region_df_orig = spreadsheet.worksheet('title', 'Region dictionary').get_as_df(start='A2')"
   ]
  },
  {
   "cell_type": "code",
   "execution_count": 29,
   "id": "c68dd677",
   "metadata": {},
   "outputs": [],
   "source": [
    "region_df_eu = region_df_orig.copy()[region_df_orig['EuropeanUnion']=='Yes']\n",
    "region_df_egt = region_df_orig.copy()[region_df_orig['EuroGasTracker']=='Yes']\n",
    "region_df_europe = region_df_orig.copy()[region_df_orig['Region']=='Europe']\n",
    "region_df_eu_uk = region_df_orig.copy()[(region_df_orig['Region']=='Europe') | \n",
    "                                          (region_df_orig['Country'].isin(['United Kingdom','Israel']))]"
   ]
  },
  {
   "cell_type": "code",
   "execution_count": 30,
   "id": "be0e261d",
   "metadata": {},
   "outputs": [],
   "source": [
    "region_df_touse = region_df_eu.copy()"
   ]
  },
  {
   "cell_type": "code",
   "execution_count": 31,
   "id": "30be97ec-8dec-4f8f-b011-33b000e225c4",
   "metadata": {},
   "outputs": [],
   "source": [
    "# subset the pipelines to use\n",
    "pipes_df_touse = pipes_df_orig.loc[\n",
    "    ~pipes_df_orig['Countries'].apply(\n",
    "        lambda x: set(x.split(', ')).isdisjoint(set(region_df_touse['Country'].tolist()))\n",
    "    )]\n",
    "\n",
    "pipes_df_touse = pipes_df_touse.loc[pipes_df_touse.Fuel=='Gas']\n",
    "country_ratios_df_touse = country_ratios_df.loc[(country_ratios_df.Country.isin(region_df_touse['Country'].tolist()))&\n",
    "                                                (country_ratios_df.Fuel=='Gas')]"
   ]
  },
  {
   "cell_type": "code",
   "execution_count": 32,
   "id": "9e19e936-6347-4a87-b1c3-41ef21977d75",
   "metadata": {},
   "outputs": [],
   "source": [
    "western_eu = ['Ireland', 'France', 'Belgium', 'Netherlands', \n",
    "              'Luxembourg', 'Germany', 'Austria'] \n",
    "\n",
    "eastern_eu = ['Estonia', 'Latvia', 'Lithuania', 'Poland', 'Czech Republic', \n",
    "              'Slovakia', 'Slovenia', 'Croatia', 'Hungary', 'Romania', 'Bulgaria'] \n",
    "\n",
    "southern_eu = ['Portugal', 'Spain', 'Italy', \n",
    "               'Malta', 'Greece', 'Cyprus']\n",
    "\n",
    "northern_eu = ['Sweden', 'Finland', 'Denmark']"
   ]
  },
  {
   "cell_type": "markdown",
   "id": "3dae1288-d13a-42b0-9100-4130ad4dbbc3",
   "metadata": {},
   "source": [
    "### add double dagger to PCI5 projects???"
   ]
  },
  {
   "cell_type": "code",
   "execution_count": 33,
   "id": "d0da4d0e-6dba-47be-b3ee-c0d6522f6c7a",
   "metadata": {},
   "outputs": [],
   "source": [
    "double_dagger = u\"\\u2021\""
   ]
  },
  {
   "cell_type": "code",
   "execution_count": 34,
   "id": "48a1f01f-f83f-429e-9738-897d851754cc",
   "metadata": {},
   "outputs": [],
   "source": [
    "pipes_df_touse.loc[pipes_df_touse.PCI5=='yes','PipelineName'] += ' ' + double_dagger\n",
    "\n",
    "country_ratios_df_touse.loc[country_ratios_df_touse.ProjectID.isin(\n",
    "                pipes_df_touse[pipes_df_touse.PCI5=='yes']['ProjectID'].tolist()), 'PipelineName'] += ' '+double_dagger\n"
   ]
  },
  {
   "cell_type": "markdown",
   "id": "91b920c8-c619-4771-ab09-fc2daa7c630d",
   "metadata": {},
   "source": [
    "# cost estimates for EU 27 member states"
   ]
  },
  {
   "cell_type": "markdown",
   "id": "6518849c-6323-4114-86b8-c5ce979cfa3f",
   "metadata": {},
   "source": [
    "## outliers and special cases"
   ]
  },
  {
   "cell_type": "code",
   "execution_count": 35,
   "id": "fe2e4fa1-63ae-4f1a-b85b-fa958fa917f5",
   "metadata": {},
   "outputs": [],
   "source": [
    "outliers_projectids = ['P3109', ]\n",
    "\n",
    "# P3109 = Valchi Dol–Preselka Pipeline replacement project, not a good new pipeline cost estimate"
   ]
  },
  {
   "cell_type": "markdown",
   "id": "c154cb03-730f-4fb3-b931-a0b803e224ed",
   "metadata": {},
   "source": [
    "### correct Poland-Ukraine Interconnector"
   ]
  },
  {
   "cell_type": "code",
   "execution_count": 36,
   "id": "d455f936-897f-4383-b8f8-025ed5176c04",
   "metadata": {},
   "outputs": [],
   "source": [
    "# https://www.gem.wiki/Poland-Ukraine_Interconnector_Gas_Pipeline\n",
    "# our country_ratios code calculates this is half in each country, but it's not\n",
    "country_ratios_df_touse.loc[(country_ratios_df_touse.PipelineName=='Poland-Ukraine Interconnector Gas Pipeline')&\n",
    "                      (country_ratios_df_touse.Country=='Poland'),'MergedKmByCountry'] = 1.5\n",
    "\n",
    "country_ratios_df_touse.loc[(country_ratios_df_touse.PipelineName=='Poland-Ukraine Interconnector Gas Pipeline')&\n",
    "                      (country_ratios_df_touse.Country=='Ukraine'),'MergedKmByCountry'] = 99.0"
   ]
  },
  {
   "cell_type": "markdown",
   "id": "4c7a405e-151b-4064-8748-83851bf0770b",
   "metadata": {},
   "source": [
    "### correct Gas Interconnection Poland-Lithuania (our fractional calc doesn't get it right)"
   ]
  },
  {
   "cell_type": "code",
   "execution_count": 37,
   "id": "f617eb47-28a5-4f7a-a57b-2dce0816ef22",
   "metadata": {},
   "outputs": [],
   "source": [
    "country_ratios_df_touse.loc[(country_ratios_df_touse.PipelineName=='Gas Interconnection Poland-Lithuania')&\n",
    "                      (country_ratios_df_touse.Country=='Poland'),'MergedKmByCountry'] = 343.0\n",
    "\n",
    "country_ratios_df_touse.loc[(country_ratios_df_touse.PipelineName=='Gas Interconnection Poland-Lithuania')&\n",
    "                      (country_ratios_df_touse.Country=='Lithuania'),'MergedKmByCountry'] = 165.0"
   ]
  },
  {
   "cell_type": "markdown",
   "id": "37572601-5a8c-4f5f-918c-4d3e770d5aea",
   "metadata": {},
   "source": [
    "### pull out only pipelines with known length and cost"
   ]
  },
  {
   "cell_type": "code",
   "execution_count": 38,
   "id": "922700f6-bf52-4c52-98ce-cb4468f0cc09",
   "metadata": {},
   "outputs": [],
   "source": [
    "# pull out only pipelines that have a KNOWN LENGTH AND COST and are in the EU27\n",
    "country_ratios_cost_calc = country_ratios_df_touse.loc[(~country_ratios_df_touse['CostEuroPerKm'].isnull())]\n",
    "\n",
    "# Adriatica Pipeline is now fixed, no need to remove is as an outlier\n",
    "country_ratios_cost_calc = country_ratios_cost_calc[~country_ratios_cost_calc.ProjectID.isin(outliers_projectids)]"
   ]
  },
  {
   "cell_type": "markdown",
   "id": "51ca5ecd-e136-4bc4-9db5-1ac6c9897999",
   "metadata": {},
   "source": [
    "### get cost value per country for calculating country-specific pipeline costs"
   ]
  },
  {
   "cell_type": "code",
   "execution_count": 39,
   "id": "2e8a91e5-651b-40e0-a484-137bf9ac2a32",
   "metadata": {},
   "outputs": [
    {
     "data": {
      "text/html": [
       "<div>\n",
       "<style scoped>\n",
       "    .dataframe tbody tr th:only-of-type {\n",
       "        vertical-align: middle;\n",
       "    }\n",
       "\n",
       "    .dataframe tbody tr th {\n",
       "        vertical-align: top;\n",
       "    }\n",
       "\n",
       "    .dataframe thead th {\n",
       "        text-align: right;\n",
       "    }\n",
       "</style>\n",
       "<table border=\"1\" class=\"dataframe\">\n",
       "  <thead>\n",
       "    <tr style=\"text-align: right;\">\n",
       "      <th></th>\n",
       "      <th>EstCostInEachCountry</th>\n",
       "      <th>NumValues</th>\n",
       "    </tr>\n",
       "  </thead>\n",
       "  <tbody>\n",
       "    <tr>\n",
       "      <th>Austria</th>\n",
       "      <td>5.974867</td>\n",
       "      <td>1.0</td>\n",
       "    </tr>\n",
       "    <tr>\n",
       "      <th>Belgium</th>\n",
       "      <td>NaN</td>\n",
       "      <td>NaN</td>\n",
       "    </tr>\n",
       "    <tr>\n",
       "      <th>Bulgaria</th>\n",
       "      <td>1.197424</td>\n",
       "      <td>14.0</td>\n",
       "    </tr>\n",
       "    <tr>\n",
       "      <th>Croatia</th>\n",
       "      <td>1.554600</td>\n",
       "      <td>9.0</td>\n",
       "    </tr>\n",
       "    <tr>\n",
       "      <th>Cyprus</th>\n",
       "      <td>3.114682</td>\n",
       "      <td>5.0</td>\n",
       "    </tr>\n",
       "    <tr>\n",
       "      <th>Czech Republic</th>\n",
       "      <td>3.300812</td>\n",
       "      <td>4.0</td>\n",
       "    </tr>\n",
       "    <tr>\n",
       "      <th>Denmark</th>\n",
       "      <td>6.274576</td>\n",
       "      <td>4.0</td>\n",
       "    </tr>\n",
       "    <tr>\n",
       "      <th>Estonia</th>\n",
       "      <td>NaN</td>\n",
       "      <td>NaN</td>\n",
       "    </tr>\n",
       "    <tr>\n",
       "      <th>Finland</th>\n",
       "      <td>9.917435</td>\n",
       "      <td>2.0</td>\n",
       "    </tr>\n",
       "    <tr>\n",
       "      <th>France</th>\n",
       "      <td>2.913084</td>\n",
       "      <td>5.0</td>\n",
       "    </tr>\n",
       "    <tr>\n",
       "      <th>Germany</th>\n",
       "      <td>5.681604</td>\n",
       "      <td>6.0</td>\n",
       "    </tr>\n",
       "    <tr>\n",
       "      <th>Greece</th>\n",
       "      <td>2.729786</td>\n",
       "      <td>9.0</td>\n",
       "    </tr>\n",
       "    <tr>\n",
       "      <th>Hungary</th>\n",
       "      <td>3.066828</td>\n",
       "      <td>3.0</td>\n",
       "    </tr>\n",
       "    <tr>\n",
       "      <th>Ireland</th>\n",
       "      <td>NaN</td>\n",
       "      <td>NaN</td>\n",
       "    </tr>\n",
       "    <tr>\n",
       "      <th>Italy</th>\n",
       "      <td>3.438270</td>\n",
       "      <td>16.0</td>\n",
       "    </tr>\n",
       "    <tr>\n",
       "      <th>Latvia</th>\n",
       "      <td>0.825397</td>\n",
       "      <td>1.0</td>\n",
       "    </tr>\n",
       "    <tr>\n",
       "      <th>Lithuania</th>\n",
       "      <td>1.114173</td>\n",
       "      <td>1.0</td>\n",
       "    </tr>\n",
       "    <tr>\n",
       "      <th>Luxembourg</th>\n",
       "      <td>NaN</td>\n",
       "      <td>NaN</td>\n",
       "    </tr>\n",
       "    <tr>\n",
       "      <th>Malta</th>\n",
       "      <td>7.110839</td>\n",
       "      <td>2.0</td>\n",
       "    </tr>\n",
       "    <tr>\n",
       "      <th>Netherlands</th>\n",
       "      <td>NaN</td>\n",
       "      <td>NaN</td>\n",
       "    </tr>\n",
       "    <tr>\n",
       "      <th>Poland</th>\n",
       "      <td>1.345503</td>\n",
       "      <td>18.0</td>\n",
       "    </tr>\n",
       "    <tr>\n",
       "      <th>Portugal</th>\n",
       "      <td>0.709877</td>\n",
       "      <td>1.0</td>\n",
       "    </tr>\n",
       "    <tr>\n",
       "      <th>Romania</th>\n",
       "      <td>1.364335</td>\n",
       "      <td>13.0</td>\n",
       "    </tr>\n",
       "    <tr>\n",
       "      <th>Slovakia</th>\n",
       "      <td>3.254516</td>\n",
       "      <td>3.0</td>\n",
       "    </tr>\n",
       "    <tr>\n",
       "      <th>Slovenia</th>\n",
       "      <td>2.149714</td>\n",
       "      <td>7.0</td>\n",
       "    </tr>\n",
       "    <tr>\n",
       "      <th>Spain</th>\n",
       "      <td>3.002254</td>\n",
       "      <td>4.0</td>\n",
       "    </tr>\n",
       "    <tr>\n",
       "      <th>Sweden</th>\n",
       "      <td>7.754481</td>\n",
       "      <td>3.0</td>\n",
       "    </tr>\n",
       "  </tbody>\n",
       "</table>\n",
       "</div>"
      ],
      "text/plain": [
       "                EstCostInEachCountry  NumValues\n",
       "Austria                     5.974867        1.0\n",
       "Belgium                          NaN        NaN\n",
       "Bulgaria                    1.197424       14.0\n",
       "Croatia                     1.554600        9.0\n",
       "Cyprus                      3.114682        5.0\n",
       "Czech Republic              3.300812        4.0\n",
       "Denmark                     6.274576        4.0\n",
       "Estonia                          NaN        NaN\n",
       "Finland                     9.917435        2.0\n",
       "France                      2.913084        5.0\n",
       "Germany                     5.681604        6.0\n",
       "Greece                      2.729786        9.0\n",
       "Hungary                     3.066828        3.0\n",
       "Ireland                          NaN        NaN\n",
       "Italy                       3.438270       16.0\n",
       "Latvia                      0.825397        1.0\n",
       "Lithuania                   1.114173        1.0\n",
       "Luxembourg                       NaN        NaN\n",
       "Malta                       7.110839        2.0\n",
       "Netherlands                      NaN        NaN\n",
       "Poland                      1.345503       18.0\n",
       "Portugal                    0.709877        1.0\n",
       "Romania                     1.364335       13.0\n",
       "Slovakia                    3.254516        3.0\n",
       "Slovenia                    2.149714        7.0\n",
       "Spain                       3.002254        4.0\n",
       "Sweden                      7.754481        3.0"
      ]
     },
     "execution_count": 39,
     "metadata": {},
     "output_type": "execute_result"
    }
   ],
   "source": [
    "country_level_pipeline_costs_df = pandas.DataFrame(numpy.nan, index=region_df_touse['Country'].tolist(), columns=['EstCostInEachCountry', 'NumValues'])\n",
    "\n",
    "country_level_pipeline_costs_df['EstCostInEachCountry'] = country_ratios_cost_calc.groupby('Country')['CostEuroPerKm'].mean()/1.e6\n",
    "country_level_pipeline_costs_df['NumValues'] = country_ratios_cost_calc.groupby('Country')['CostEuroPerKm'].count()\n",
    "country_level_pipeline_costs_df"
   ]
  },
  {
   "cell_type": "markdown",
   "id": "dd6dde86-be18-4e2d-b5fc-d9c82193b328",
   "metadata": {},
   "source": [
    "### exploring a mean weighted by km of the pipelines in question?\n",
    "\n",
    "* if a given pipeline is super long and costs more than a short one per km, then should it be weighed more heavily in calculating the EU-average pipeline cost? the idea is that longer pipelines probably cost a significantly larger amount to build... look at the plot of that first perhaps\n",
    "\n",
    "pipeline cost vs length?"
   ]
  },
  {
   "cell_type": "code",
   "execution_count": 40,
   "id": "e3540c75-b297-4010-bdfc-83136f109dd2",
   "metadata": {},
   "outputs": [
    {
     "data": {
      "image/png": "[encoded data removed]",
      "text/plain": [
       "<Figure size 640x480 with 1 Axes>"
      ]
     },
     "metadata": {},
     "output_type": "display_data"
    }
   ],
   "source": [
    "ax = pipes_df_orig.plot.scatter('LengthKnownKm','CostUSD')"
   ]
  },
  {
   "cell_type": "markdown",
   "id": "49afc92c-c9c9-4f3f-b0c2-2610af5bd39d",
   "metadata": {},
   "source": [
    "### regression estimate: given length, estimate cost"
   ]
  },
  {
   "cell_type": "code",
   "execution_count": 41,
   "id": "6b55ac81-222f-4b8b-ba0e-9e5146e8f3d7",
   "metadata": {},
   "outputs": [],
   "source": [
    "pipes_df_toregress = pipes_df_touse.loc[(~pipes_df_touse.LengthKnownKm.isnull())&\n",
    "                                       (~pipes_df_touse.CostEuro.isnull())&\n",
    "                                       (pipes_df_touse.LengthKnownKm!=0)]\n",
    "\n",
    "# # look at the full global dataset\n",
    "# pipes_df_toregress = pipes_df_orig.loc[(~pipes_df_orig.LengthKnownKm.isnull())&\n",
    "#                                         (~pipes_df_orig.CostEuro.isnull())&\n",
    "#                                         (pipes_df_orig.LengthKnownKm!=0)]#&\n",
    "#                                         #(pipes_df_orig.LengthKnownKm>100)&\n",
    "#                                         #(pipes_df_orig.LengthKnownKm<1000)]"
   ]
  },
  {
   "cell_type": "markdown",
   "id": "64f34a1a-32d8-46d0-a798-5ee3a45ed7df",
   "metadata": {},
   "source": [
    "### gentle cluster analysis"
   ]
  },
  {
   "cell_type": "code",
   "execution_count": 42,
   "id": "3080edd3-cedd-4e19-8ffa-1b4933fb708e",
   "metadata": {},
   "outputs": [],
   "source": [
    "num_clusters = 2\n",
    "kmeans_cluster = sklearn.cluster.KMeans(n_clusters=num_clusters, \n",
    "                                        init='random', \n",
    "                                        n_init=10, \n",
    "                                        max_iter=300, \n",
    "                                        tol=1e-4,\n",
    "                                       random_state=42)\n",
    "\n",
    "km_fit = kmeans_cluster.fit_predict(X=pipes_df_toregress.LengthKnownKm.to_numpy().reshape(-1,1),\n",
    "                   y=pipes_df_toregress.CostEuro.to_numpy().reshape(-1,1))"
   ]
  },
  {
   "cell_type": "code",
   "execution_count": 43,
   "id": "89b10c37-6bf0-487f-aafa-b2b312212042",
   "metadata": {},
   "outputs": [
    {
     "data": {
      "image/png": "[encoded data removed]",
      "text/plain": [
       "<Figure size 640x480 with 1 Axes>"
      ]
     },
     "metadata": {},
     "output_type": "display_data"
    }
   ],
   "source": [
    "colors=['darkred','orange','green','blue','purple']\n",
    "\n",
    "for i in range(num_clusters):\n",
    "    mp.scatter(pipes_df_toregress.LengthKnownKm.to_numpy().reshape(-1,1)[km_fit == i],\n",
    "               pipes_df_toregress.CostEuro.to_numpy().reshape(-1,1)[km_fit == i],\n",
    "               edgecolor=colors[i], color='None')\n",
    "\n",
    "#mp.xlim(0,1000)\n",
    "#mp.ylim(0,0.5e10)\n",
    "# mp.scatter(pipes_df_toregress.LengthKnownKm.to_numpy().reshape(-1,1)[km_fit == 2],\n",
    "#            pipes_df_toregress.CostEuro.to_numpy().reshape(-1,1)[km_fit == 2],\n",
    "#            color='slateblue', s=10)"
   ]
  },
  {
   "cell_type": "code",
   "execution_count": 56,
   "id": "279fd865-3cdd-4ae0-87c7-3d8f9611c868",
   "metadata": {},
   "outputs": [
    {
     "data": {
      "text/plain": [
       "1.9946533715525845"
      ]
     },
     "execution_count": 56,
     "metadata": {},
     "output_type": "execute_result"
    }
   ],
   "source": [
    "pipes_df_toregress_dropdupes = pipes_df_toregress.drop_duplicates('CostEuroPerKm', keep='first')\n",
    "pipes_df_toregress_dropdupes.CostEuroPerKm.mean()/1e6"
   ]
  },
  {
   "cell_type": "code",
   "execution_count": 57,
   "id": "93df749e-92b8-4479-9917-260d20ee5427",
   "metadata": {},
   "outputs": [
    {
     "name": "stderr",
     "output_type": "stream",
     "text": [
      "/Users/baird/mambaforge/envs/gem/lib/python3.11/site-packages/sklearn/utils/validation.py:1143: DataConversionWarning: A column-vector y was passed when a 1d array was expected. Please change the shape of y to (n_samples, ), for example using ravel().\n",
      "  y = column_or_1d(y, warn=True)\n"
     ]
    }
   ],
   "source": [
    "ts_estimator = sklearn.linear_model.TheilSenRegressor(random_state=42, fit_intercept=False)\n",
    "ts_estimator.fit(X=pipes_df_toregress.LengthKnownKm.to_numpy().reshape(-1,1),\n",
    "                 y=pipes_df_toregress.CostEuro.to_numpy().reshape(-1,1))\n",
    "\n",
    "r_estimator = sklearn.linear_model.RANSACRegressor(random_state=42,\n",
    "                                                   estimator=sklearn.linear_model.LinearRegression(fit_intercept=False))\n",
    "r_estimator.fit(X=pipes_df_toregress.LengthKnownKm.to_numpy().reshape(-1,1),\n",
    "                y=pipes_df_toregress.CostEuro.to_numpy().reshape(-1,1))\n",
    "\n",
    "ols_estimator = sklearn.linear_model.LinearRegression(fit_intercept=False)\n",
    "ols_estimator.fit(X=pipes_df_toregress.LengthKnownKm.to_numpy().reshape(-1,1),\n",
    "                  y=pipes_df_toregress.CostEuro.to_numpy().reshape(-1,1))\n",
    "\n",
    "ts_slope, ts_intercept, ts_low_slope, ts_high_slope = scipy.stats.mstats.theilslopes(y=pipes_df_toregress.CostEuro.tolist(), \n",
    "                                                                            x=pipes_df_toregress.LengthKnownKm.tolist(),\n",
    "                                                                            alpha=0.1, )\n",
    "\n",
    "s_slope, s_intercept = scipy.stats.mstats.siegelslopes(y=pipes_df_toregress.CostEuro.tolist(), \n",
    "                                                       x=pipes_df_toregress.LengthKnownKm.tolist())"
   ]
  },
  {
   "cell_type": "code",
   "execution_count": 58,
   "id": "f1af318a-46c5-4628-ad6c-bfced4629083",
   "metadata": {},
   "outputs": [
    {
     "data": {
      "text/plain": [
       "1.9946533715525845"
      ]
     },
     "execution_count": 58,
     "metadata": {},
     "output_type": "execute_result"
    }
   ],
   "source": [
    "pipes_df_toregress_dropdupes = pipes_df_toregress.drop_duplicates('CostEuroPerKm', keep='first')\n",
    "pipes_df_toregress_dropdupes.CostEuroPerKm.mean()/1e6"
   ]
  },
  {
   "cell_type": "code",
   "execution_count": 60,
   "id": "50f9c223-b007-46b5-8ede-308b61148c9b",
   "metadata": {},
   "outputs": [
    {
     "name": "stdout",
     "output_type": "stream",
     "text": [
      "[[4.38314333]] OLS\n",
      "[1.32432005] TS\n",
      "[[1.11347366]] R\n",
      "2.110610498155798 scipy TS slope\n"
     ]
    },
    {
     "data": {
      "image/png": "[encoded data removed]",
      "text/plain": [
       "<Figure size 640x480 with 1 Axes>"
      ]
     },
     "metadata": {},
     "output_type": "display_data"
    }
   ],
   "source": [
    "ax = pipes_df_toregress_dropdupes.plot.scatter('LengthKnownKm','CostEuro')\n",
    "\n",
    "xmin, xmax = ax.get_xlim()\n",
    "ymin, ymax = ax.get_ylim()\n",
    "\n",
    "#ax.set_xlim(0,200)\n",
    "#ax.set_ylim(0,0.4e9)\n",
    "xvals = numpy.linspace(xmin,xmax,1000)\n",
    "\n",
    "ts_pred = ts_estimator.predict(xvals.reshape(-1,1))\n",
    "r_pred = r_estimator.predict(xvals.reshape(-1,1))\n",
    "ols_pred = ols_estimator.predict(xvals.reshape(-1,1))\n",
    "\n",
    "ax.plot(xvals, ts_slope*xvals+ts_intercept, label = 'scipy Theil-Sen regression', c='red')\n",
    "ax.plot(xvals, ts_low_slope*xvals+ts_intercept, label='scipy conf. interval', c='red', ls=':')\n",
    "ax.plot(xvals, ts_high_slope*xvals+ts_intercept, c='red', ls=':')\n",
    "\n",
    "ax.plot(xvals, ts_pred, label='scikit-learn Theil-Sen', c='green')\n",
    "ax.plot(xvals, r_pred, label='scikit-learn RANSAC', c='lightgreen')\n",
    "ax.plot(xvals, ols_pred, label='scikit-learn OLS', c='gray')\n",
    "\n",
    "#ax.plot(\n",
    "\n",
    "#ax.plot(xvals, s_slope*xvals+s_intercept, label = 'scipy.stats', c='orange')\n",
    "\n",
    "ax.legend()\n",
    "\n",
    "print(ols_estimator.coef_/1e6*1.09, \"OLS\")\n",
    "print(ts_estimator.coef_/1e6*1.09, \"TS\")\n",
    "print(r_estimator.estimator_.coef_/1e6*1.09, \"R\")\n",
    "print(ts_slope/1e6*1.09, \"scipy TS slope\")"
   ]
  },
  {
   "cell_type": "raw",
   "id": "5619e896-7d14-49f0-b593-6480e383f608",
   "metadata": {},
   "source": [
    "print(country_ratios_cost_calc.CostEuroPerKm.size)\n",
    "print(country_ratios_cost_calc.CostEuroPerKm.mean()/1e6)"
   ]
  },
  {
   "cell_type": "markdown",
   "id": "547118e6-3843-4b65-9e24-8edfc91d6f4d",
   "metadata": {},
   "source": [
    "drop duplicates"
   ]
  },
  {
   "cell_type": "raw",
   "id": "c0668417-418d-4d31-b306-8c409fcae989",
   "metadata": {},
   "source": [
    "print(country_ratios_cost_calc.CostEuroPerKm.drop_duplicates(keep='first').size)\n",
    "print(country_ratios_cost_calc.CostEuroPerKm.drop_duplicates(keep='first').mean()/1e6)"
   ]
  },
  {
   "cell_type": "markdown",
   "id": "cb0d5b8d-52fb-4cbc-a849-f1d7b74d3220",
   "metadata": {},
   "source": [
    "drop duplicates first"
   ]
  },
  {
   "cell_type": "markdown",
   "id": "bd241ff4-9d5f-4199-93fb-bd65512669a9",
   "metadata": {},
   "source": [
    "## pick out high/low quantiles\n",
    "\n",
    "list the costs in order:"
   ]
  },
  {
   "cell_type": "raw",
   "id": "ecd7f60b-5157-4e21-94b5-e28baa6408bf",
   "metadata": {},
   "source": [
    "country_ratios_cost_calc.drop_duplicates('CostEuroPerKm', keep='first')[\n",
    "    ['CostEuroPerKm','ProjectID','Status','PipelineName','SegmentName']].sort_values('CostEuroPerKm')"
   ]
  },
  {
   "cell_type": "markdown",
   "id": "f4e6187b-8dca-4300-9b00-0d769b2b046e",
   "metadata": {},
   "source": [
    "remove duplicates from dataframe"
   ]
  },
  {
   "cell_type": "code",
   "execution_count": null,
   "id": "7f7005d8-52c2-4616-bbcb-a57ad9fddf1d",
   "metadata": {},
   "outputs": [],
   "source": [
    "country_ratios_cost_calc_dropdupes = country_ratios_cost_calc.drop_duplicates('CostEuroPerKm', keep='first')"
   ]
  },
  {
   "cell_type": "code",
   "execution_count": null,
   "id": "e7f6ef2d-dc09-4527-b92e-64f39db3d1a9",
   "metadata": {},
   "outputs": [],
   "source": [
    "temp_df = country_ratios_cost_calc.drop_duplicates('CostEuroPerKm', keep='first')\n",
    "qlo_val = 0.025\n",
    "qhi_val = 0.975\n",
    "\n",
    "q_lo=temp_df['CostEuroPerKm'].quantile(qlo_val)\n",
    "q_hi=temp_df['CostEuroPerKm'].quantile(qhi_val)\n",
    "print(temp_df['CostEuroPerKm'].quantile(qlo_val))\n",
    "print(temp_df['CostEuroPerKm'].quantile(qhi_val))\n",
    "\n",
    "temp_df_trimmed = temp_df.loc[temp_df['CostEuroPerKm'].between(q_lo, q_hi, inclusive='neither')]"
   ]
  },
  {
   "cell_type": "code",
   "execution_count": null,
   "id": "8bf2e912-3a58-4c6c-b01a-54caf171bd67",
   "metadata": {},
   "outputs": [],
   "source": [
    "scipy.stats.trim_mean(temp_df.CostEuroPerKm.tolist(), proportiontocut=0.05)/1e6"
   ]
  },
  {
   "cell_type": "code",
   "execution_count": null,
   "id": "b4541ef3-dae1-4ab0-985e-4cbc202266f9",
   "metadata": {},
   "outputs": [],
   "source": [
    "temp_df_trimmed.CostEuroPerKm.mean()/1e6"
   ]
  },
  {
   "cell_type": "code",
   "execution_count": null,
   "id": "09e4a638-467d-4186-a6b2-dc5c134f226d",
   "metadata": {},
   "outputs": [],
   "source": [
    "country_ratios_cost_calc_dropdupes['CostEuroPerKm'].mean()/1e6"
   ]
  },
  {
   "cell_type": "code",
   "execution_count": null,
   "id": "d0c3aa04-0aa1-4e1b-a56f-e8343d955240",
   "metadata": {},
   "outputs": [],
   "source": [
    "country_level_pipeline_costs_df = country_ratios_df_touse.groupby('Country')[['CostEuroPerKm']].mean()/1e6\n",
    "country_level_pipeline_costs_df.mean()"
   ]
  },
  {
   "cell_type": "markdown",
   "id": "93e4ea79-784a-48c3-b23b-ab8a8b4ddb19",
   "metadata": {},
   "source": [
    "### now use these country-specific costs as multipliers on within-country kilometers"
   ]
  },
  {
   "cell_type": "code",
   "execution_count": null,
   "id": "56510794-e558-4a8e-9242-d1b79ca1e606",
   "metadata": {
    "scrolled": true,
    "tags": []
   },
   "outputs": [],
   "source": [
    "mean_cost_per_km = country_ratios_cost_calc_\n",
    "#country_level_pipeline_costs_df['EstCostInEachCountry'].mean() # in millions of Euro\n",
    "\n",
    "#country_ratios_df_eu27 = country_ratios_df.copy()[(country_ratios_df['Country'].isin(region_df_touse['Country'].tolist())) &\n",
    "#                                                  (country_ratios_df['Fuel']=='Gas')]\n",
    "\n",
    "country_ratios_df_touse['TotalEstCostEuroMillions'] = numpy.nan\n",
    "\n",
    "for idx,row in country_ratios_df_eu27.iterrows():\n",
    "    country_ratios_df_eu27.loc[idx,'TotalEstCostEuroMillions'] = row['MergedKmByCountry'] * mean_cost_per_km\n",
    "\n",
    "# now replace the ones that we have exact numbers for...\n",
    "costs_exist_TF = ~country_ratios_df_eu27['CostEuroPerKm'].isna()\n",
    "country_ratios_df_eu27.loc[costs_exist_TF,'TotalEstCostEuroMillions'] = \\\n",
    "    country_ratios_df_eu27[costs_exist_TF]['CostEuroPerKm']/1e6 * \\\n",
    "    country_ratios_df_eu27[costs_exist_TF]['MergedKmByCountry']\n",
    "\n",
    "# add in Trans-Adriatic estimated cost:\n",
    "country_ratios_df_eu27.loc[(country_ratios_df_eu27['PipelineName']=='Trans-Adriatic Gas Pipeline')&\n",
    "                            (country_ratios_df_eu27['SegmentName']=='TAP Expansion')&\n",
    "                            (country_ratios_df_eu27['Country']=='Italy'),'Country'] = 'Italy, Greece'\n",
    "country_ratios_df_eu27.loc[(country_ratios_df_eu27['PipelineName']=='Trans-Adriatic Gas Pipeline')&\n",
    "                            (country_ratios_df_eu27['SegmentName']=='TAP Expansion')&\n",
    "                            (country_ratios_df_eu27['Country']=='Italy, Greece'), 'TotalEstCostEuroMillions'] = \\\n",
    "country_ratios_df.loc[(country_ratios_df.ProjectID=='P3203'),'CostEuro'].values[0]/1e6# * 2/3 * 0.5 # greece and italy, not albania\n",
    "\n",
    "greece_idx = country_ratios_df_eu27.index[(country_ratios_df_eu27['PipelineName']=='Trans-Adriatic Gas Pipeline')&\n",
    "                            (country_ratios_df_eu27['SegmentName']=='TAP Expansion')&\n",
    "                            (country_ratios_df_eu27['Country']=='Greece')]\n",
    "country_ratios_df_eu27.drop(index=greece_idx, inplace=True)\n",
    "\n",
    "# finally, get rid of any pipeline segments that are zero in a given country, except TAP\n",
    "country_ratios_df_eu27 = country_ratios_df_eu27[(country_ratios_df_eu27['PipelineName']=='Trans-Adriatic Gas Pipeline')|\n",
    "                                                (country_ratios_df_eu27['MergedKmByCountry']!=0)]\n"
   ]
  },
  {
   "cell_type": "code",
   "execution_count": null,
   "id": "beaa134e-cf37-4431-9570-fc989d040042",
   "metadata": {},
   "outputs": [],
   "source": [
    "mean_cost_per_km # in million Euro"
   ]
  },
  {
   "cell_type": "code",
   "execution_count": null,
   "id": "8548d942-9497-4df3-9b8f-30e84add13d7",
   "metadata": {},
   "outputs": [],
   "source": [
    "output_columns = ['Country',\n",
    "                  'PipelineName',\n",
    "                  'SegmentName',\n",
    "                  'Status',\n",
    "                  'CapacityBcm/y',\n",
    "                  'MergedKmByCountry',\n",
    "                  'TotalEstCostEuroMillions']\n",
    "country_ratios_df_eu27_excel = country_ratios_df_eu27[country_ratios_df_eu27['Status'].isin(['Proposed','Construction'])]\n",
    "country_ratios_df_eu27_excel = country_ratios_df_eu27_excel.sort_values(['Status','PipelineName','TotalEstCostEuroMillions'], ascending=[True,True,False])\n",
    "country_ratios_df_eu27_excel.replace(numpy.nan, '')\n",
    "country_ratios_df_eu27_excel = country_ratios_df_eu27_excel[output_columns]\n",
    "\n",
    "#country_ratios_cost_calc_excel = country_ratios_cost_calc_excel.groupby('Status')\n",
    "#print(country_ratios_cost_calc_excel)\n",
    "#country_ratios_df_eu27_excel.to_excel('EGT-km-and-cost-per-country'+str(datetime.date.today())+'.xlsx', index=False)"
   ]
  },
  {
   "cell_type": "markdown",
   "id": "5318848b-94aa-460b-80cc-a1705ba6d311",
   "metadata": {},
   "source": [
    "## print export, import, and within-EU pipelines\n",
    "\n",
    "planned pipelines to import gas into the EU"
   ]
  },
  {
   "cell_type": "code",
   "execution_count": null,
   "id": "67e84d9a-2178-4267-aee4-690616d4f8d3",
   "metadata": {},
   "outputs": [],
   "source": [
    "# get the pipelines that import into the EU, export out, and are completely within\n",
    "pipes_df_eu_imports = pipes_df_orig.copy()[(pipes_df_orig['Fuel']=='Gas')&\n",
    "              (~pipes_df_orig['StartCountry'].isin(region_df_touse.Country))&\n",
    "              (pipes_df_orig['EndCountry'].isin(region_df_touse.Country))]\n",
    "\n",
    "pipes_df_eu_exports = pipes_df_orig.copy()[(pipes_df_orig['Fuel']=='Gas')&\n",
    "              (pipes_df_orig['StartCountry'].isin(region_df_touse.Country))&\n",
    "              (~pipes_df_orig['EndCountry'].isin(region_df_touse.Country))]\n",
    "\n",
    "pipes_df_eu_within = pipes_df_orig.copy()[(pipes_df_orig['Fuel']=='Gas')&\n",
    "              (pipes_df_orig['StartCountry'].isin(region_df_touse.Country))&\n",
    "              (pipes_df_orig['EndCountry'].isin(region_df_touse.Country))]"
   ]
  },
  {
   "cell_type": "raw",
   "id": "3fb3285a-3c71-4561-bc86-508c7195738a",
   "metadata": {},
   "source": [
    "pipes_df_eu_exports.loc[pipes_df_eu_exports.Status.isin(['Proposed','Construction'])].ProjectID"
   ]
  },
  {
   "cell_type": "raw",
   "id": "16210d63-7627-4046-b9d2-ffd99aa64820",
   "metadata": {},
   "source": [
    "pipes_df_eu_imports[pipes_df_eu_imports['Status'].isin(['Proposed','Construction'])][['ProjectID','Status','PipelineName','Wiki','CapacityBcm/y','Countries','LengthMergedKm']].sort_values('Status').style.hide_index()"
   ]
  },
  {
   "cell_type": "raw",
   "id": "0a83f718-2539-49ad-b53d-824e0b2fd5ce",
   "metadata": {},
   "source": [
    "pipes_df_eu_exports[pipes_df_eu_exports['Status'].isin(['Proposed','Construction'])][['ProjectID','Status','PipelineName','Wiki','CapacityBcm/y','Countries','LengthMergedKm']].sort_values('Status').style.hide_index()"
   ]
  },
  {
   "cell_type": "raw",
   "id": "68a5be74-7155-4a5f-98a6-1f9d9bacf5a4",
   "metadata": {},
   "source": [
    "pipes_df_eu_within[pipes_df_eu_within['Status'].isin(['Proposed','Construction'])][['ProjectID','PipelineName','Wiki','CapacityBcm/y','Countries','LengthMergedKm']].style.hide_index()"
   ]
  },
  {
   "cell_type": "markdown",
   "id": "fb0ebebd-b542-4299-ad6d-0dc2f44c1f9f",
   "metadata": {},
   "source": [
    "## creating Table 5 (appendix)"
   ]
  },
  {
   "cell_type": "code",
   "execution_count": null,
   "id": "856c0855-5583-4bb6-bec3-712f38aa3802",
   "metadata": {},
   "outputs": [],
   "source": [
    "# pipes_df_eu_imports.loc[pipes_df_eu_imports.Status.isin(\n",
    "#['Proposed','Construction'])].ProjectID\n",
    "\n",
    "# only construction, proposed project IDs here, built on a list:\n",
    "import_projectids = [\n",
    "'P0463',\n",
    "'P0479',\n",
    "'P0684',\n",
    "'P0702',\n",
    "'P0732',\n",
    "'P0827',\n",
    "'P1321',\n",
    "'P1324',\n",
    "#'P1773', # this is the Siret-Khotyn Gas Pipeline, doesn't count\n",
    "'P2264',\n",
    "'P3335',\n",
    "'P2727', # Gheraesti-Siret Gas Pipeline (Ukraine to Romania, bidirectional), added manually\n",
    "#'P3522', # UK-Ireland interconnector\n",
    "'P3203' # Trans-Adriatic Gas Pipeline TAP Expansion\n",
    "]\n",
    "\n",
    "all_other_projectids = list(set(country_ratios_df_eu27.loc[\n",
    "    country_ratios_df_eu27.Status.isin(['Proposed','Construction'])].ProjectID) - set(import_projectids))\n",
    "\n",
    "output_columns = ['Country',\n",
    "                  'PipelineName',\n",
    "                  'CapacityBcm/y',\n",
    "                  'MergedKmByCountry',\n",
    "                  'TotalEstCostEuroMillions']\n",
    "\n",
    "country_ratios_df_eu27.loc[country_ratios_df_eu27.ProjectID.isin(import_projectids)].sort_values(['Status','PipelineName','TotalEstCostEuroMillions'], ascending=[True,True,False])[output_columns].replace(numpy.nan,'').style.hide_index()"
   ]
  },
  {
   "cell_type": "markdown",
   "id": "122d7373-813d-4f60-bf5d-2edb8763e06d",
   "metadata": {},
   "source": [
    "## creating Table 7 (appendix)"
   ]
  },
  {
   "cell_type": "markdown",
   "id": "b794875c-ba55-45ec-bb3c-6542e48e964a",
   "metadata": {},
   "source": [
    "### longer than 150 km"
   ]
  },
  {
   "cell_type": "code",
   "execution_count": null,
   "id": "def164e0-8862-4a3b-9ded-3c3defa9c0df",
   "metadata": {},
   "outputs": [],
   "source": [
    "#projectids_threshold = list(\n",
    "#    set(country_ratios_df_eu27.loc[country_ratios_df_eu27.MergedKmByCountry>75]['ProjectID'])\n",
    "#)\n",
    "#\n",
    "#projectids_threshold = list(\n",
    "#    set(country_ratios_df_eu27.loc[country_ratios_df_eu27.MergedKmByCountry>100]['ProjectID'])\n",
    "#)\n",
    "\n",
    "# must be longer than 150 total, and the segment must be located within the EU\n",
    "projectids_threshold = list(\n",
    "    set(country_ratios_df_eu27.loc[(country_ratios_df_eu27.MergedKmByPipeline>150)&\n",
    "                                   (country_ratios_df_eu27.ProjectID.isin(all_other_projectids))]['ProjectID'])\n",
    ")\n",
    "\n",
    "projectids_under_threshold = list(\n",
    "    set(all_other_projectids) - set(projectids_threshold)\n",
    ")\n",
    "\n",
    "projectids_threshold.__len__()"
   ]
  },
  {
   "cell_type": "code",
   "execution_count": null,
   "id": "9d9d4457-07e1-483e-9b1e-ea372fa49b18",
   "metadata": {},
   "outputs": [],
   "source": [
    "output_columns = ['Country',\n",
    "                  'PipelineName',\n",
    "                  #'SegmentName',\n",
    "                  #'Status',\n",
    "                  'CapacityBcm/y',\n",
    "                  'MergedKmByPipeline',\n",
    "                  'MergedKmByCountry',\n",
    "                  'TotalEstCostEuroMillions']\n",
    "\n",
    "#country_ratios_df_eu27.replace(numpy.nan, '', inplace=True)\n",
    "country_ratios_df_eu27.replace(numpy.nan,'').loc[(country_ratios_df_eu27.ProjectID.isin(projectids_threshold))].sort_values(['Status','PipelineName','TotalEstCostEuroMillions'], ascending=[True,True,False])[output_columns].style.hide_index()\n"
   ]
  },
  {
   "cell_type": "markdown",
   "id": "90a50c8d-1cb5-4d0d-8614-9c15390a5b3e",
   "metadata": {},
   "source": [
    "### shorter than 150 km"
   ]
  },
  {
   "cell_type": "raw",
   "id": "12e370fe-1277-4f7b-81c0-3da1278511c6",
   "metadata": {},
   "source": [
    "country_ratios_df_eu27.loc[(country_ratios_df_eu27.MergedKmByCountry<=150.)&\n",
    "                           (country_ratios_df_eu27.Status.isin(['Proposed','Construction']))].groupby('Status')[['MergedKmByCountry','TotalEstCostEuroMillions']].sum()\n",
    "\n"
   ]
  },
  {
   "cell_type": "code",
   "execution_count": null,
   "id": "37839ae1-18da-463a-ab98-43bf4834ec55",
   "metadata": {},
   "outputs": [],
   "source": [
    "below_threshold_df = country_ratios_df_eu27.loc[country_ratios_df_eu27.ProjectID.isin(projectids_under_threshold)]#.groupby('Status')\n",
    "\n",
    "below_threshold_df.groupby('Status')[['MergedKmByCountry','TotalEstCostEuroMillions']].sum()"
   ]
  },
  {
   "cell_type": "code",
   "execution_count": null,
   "id": "94b519b8-38a2-4bc0-9c84-c34d8e2383fd",
   "metadata": {},
   "outputs": [],
   "source": [
    "country_ratios_df_eu27.loc[country_ratios_df_eu27.Status.isin(\n",
    "    ['Proposed','Construction'])]['MergedKmByCountry'].sum()"
   ]
  },
  {
   "cell_type": "markdown",
   "id": "d667c2dd-93ee-467e-a92b-8e952ad018c0",
   "metadata": {},
   "source": [
    "# import terminals now"
   ]
  },
  {
   "cell_type": "code",
   "execution_count": null,
   "id": "831ed7ce-cd84-456c-bdbe-81266871d76c",
   "metadata": {},
   "outputs": [],
   "source": [
    "credentials_directory = '/Users/baird/Dropbox/_google-api/'\n",
    "gc = pygsheets.authorize(service_account_env_var='GDRIVE_API_CREDENTIALS')\n",
    "spreadsheet = gc.open_by_key('1tcS6Wd-Wp-LTDpLzFgJY_RSNDnbyubW3J_9HKIAys4A')\n",
    "#spreadsheet = gc.open_by_key('1BHiidrJnzh96Em3KrqBpCoWaJ3GB5OeCY9dHVaEDEFs') # mar 22 2022 version for EGT\n",
    "\n",
    "#spreadsheet[1] \"Gas Pipelines\" tab is the second index\n",
    "terms_df_orig = spreadsheet.worksheet('title', 'Terminals').get_as_df(start='A2')"
   ]
  },
  {
   "cell_type": "code",
   "execution_count": null,
   "id": "3d5cdc48-ff99-4d3c-a4eb-daa930c8e957",
   "metadata": {},
   "outputs": [],
   "source": [
    "# replace all -- with nans\n",
    "terms_df_orig.replace('--', numpy.nan, inplace=True)\n",
    "# only keep LNG terminals (remove oil)\n",
    "terms_df_orig = terms_df_orig.loc[terms_df_orig.Fuel=='LNG']\n",
    "# remove anything without a wiki page\n",
    "terms_df_orig = terms_df_orig.loc[terms_df_orig.Wiki!='']\n",
    "# remove N/A statuses\n",
    "terms_df_orig = terms_df_orig.loc[terms_df_orig.Status!='']"
   ]
  },
  {
   "cell_type": "code",
   "execution_count": null,
   "id": "bc58c8e8-1692-4156-b559-7fc1edef6ccd",
   "metadata": {},
   "outputs": [],
   "source": [
    "terms_df_orig.loc[terms_df_orig.PCI5=='yes','TerminalName'] += ' ' + double_dagger"
   ]
  },
  {
   "cell_type": "code",
   "execution_count": null,
   "id": "3524cf0f-d460-4d43-9cdc-7dc0798a42e0",
   "metadata": {},
   "outputs": [],
   "source": [
    "terms_df_orig.loc[terms_df_orig.PCI5=='yes','TerminalName']"
   ]
  },
  {
   "cell_type": "code",
   "execution_count": null,
   "id": "1cd062b3-7955-4162-9bce-b4fd7170bcd6",
   "metadata": {},
   "outputs": [],
   "source": [
    "terms_df_eu27 = terms_df_orig.loc[(terms_df_orig['Country'].isin(region_df_touse['Country']))]"
   ]
  },
  {
   "cell_type": "code",
   "execution_count": null,
   "id": "1ff0d11f-1965-4442-8980-9caea08cf6f0",
   "metadata": {},
   "outputs": [],
   "source": [
    "mtpa_multiplier = 1/0.7352941863 # multiply by this to convert to bcm\n",
    "euro_multiplier = 1/1.14 # multiply USD by this to get Euro, should be same as currency conversions in Sheet"
   ]
  },
  {
   "cell_type": "code",
   "execution_count": null,
   "id": "c44b0a79-a026-41d9-96c5-4db72fe1b6bb",
   "metadata": {},
   "outputs": [],
   "source": [
    "# pull out only import terminals within EU27\n",
    "terms_cost_calc_eu27 = terms_df_eu27.loc[(terms_df_eu27['Import/Export']=='Import')]"
   ]
  },
  {
   "cell_type": "code",
   "execution_count": null,
   "id": "fb8f99ca-c271-40f1-a0c7-4afd7f029a40",
   "metadata": {},
   "outputs": [],
   "source": [
    "terms_cost_calc_eu27.loc[terms_cost_calc_eu27.Status=='Operating']['CapacityInBcm/y'].sum()"
   ]
  },
  {
   "cell_type": "markdown",
   "id": "43002278-ab44-4e62-a9b9-12274d1fcd70",
   "metadata": {},
   "source": [
    "### outliers and special cases"
   ]
  },
  {
   "cell_type": "code",
   "execution_count": null,
   "id": "43aa0a8e-c416-41e8-80f6-1adc79039d57",
   "metadata": {},
   "outputs": [],
   "source": [
    "outliers_comboids = ['T068300'] # Ravenna=068300\n",
    "terms_cost_calc_eu27 = terms_cost_calc_eu27.loc[~terms_cost_calc_eu27.ComboID.isin(outliers_comboids)]"
   ]
  },
  {
   "cell_type": "markdown",
   "id": "94cea42f-9c2f-4774-a400-aefaf59204bd",
   "metadata": {},
   "source": [
    "### create onshore and floating dfs"
   ]
  },
  {
   "cell_type": "code",
   "execution_count": null,
   "id": "f2feaedb-ae14-4f9d-bf8d-68e030e5d1e0",
   "metadata": {},
   "outputs": [],
   "source": [
    "terms_cost_calc_eu27_onshore = terms_cost_calc_eu27.loc[terms_cost_calc_eu27['Floating']=='']\n",
    "terms_cost_calc_eu27_floating = terms_cost_calc_eu27.loc[terms_cost_calc_eu27['Floating']=='yes']"
   ]
  },
  {
   "cell_type": "markdown",
   "id": "0a1f588a-4482-459e-8fa9-50ee94465e1a",
   "metadata": {},
   "source": [
    "### how many go into calculation - floating"
   ]
  },
  {
   "cell_type": "code",
   "execution_count": null,
   "id": "46970be2-724d-4dc1-ae9e-2fac27ad2d2d",
   "metadata": {},
   "outputs": [],
   "source": [
    "print(terms_cost_calc_eu27_floating.shape)\n",
    "print(terms_cost_calc_eu27_floating[~terms_cost_calc_eu27_floating['CostUSDPerBcm/y'].isna()].shape)\n",
    "\n",
    "terms_cost_calc_eu27_floating['CostMillionEuroPerBcm/y'] = numpy.nan\n",
    "terms_cost_calc_eu27_floating['CostMillionEuroPerBcm/y'] = terms_cost_calc_eu27_floating.loc[:,'CostUSDPerBcm/y']*euro_multiplier / 1e6\n",
    "# for floating terminals, remove anything that's missing a cost per bcm/y value\n",
    "# none of these are expansions (probably very rare to have a FSRU/FLNG expansion?) so will not worry about that\n",
    "\n",
    "#terms_cost_calc_eu27_floating.loc[(~terms_cost_calc_eu27_floating['CostUSDPerBcm/y'].isna())][['TerminalName', 'UnitName', 'Country', 'Status', 'Wiki','CostMillionEuroPerBcm/y']].style.hide_index()\n",
    "terms_cost_calc_eu27_floating_noexpansions = terms_cost_calc_eu27_floating.loc[~terms_cost_calc_eu27_floating['UnitName'].str.contains('Expansion')]\n",
    "terms_cost_calc_eu27_floating_noexpansions.loc[~terms_cost_calc_eu27_floating_noexpansions.loc[:,'CostUSDPerBcm/y'].isna()][['TerminalName', 'UnitName', 'Country', 'Status', 'Wiki','CostMillionEuroPerBcm/y']].style.hide_index()\n"
   ]
  },
  {
   "cell_type": "code",
   "execution_count": null,
   "id": "3be4a43a-aafd-4ca8-b408-b1ee4fef1eca",
   "metadata": {},
   "outputs": [],
   "source": [
    "terms_cost_calc_eu27_floating_noexpansions[~terms_cost_calc_eu27_floating_noexpansions.loc[:,'CostUSDPerBcm/y'].isna()][['TerminalName', 'UnitName', 'Country', 'Status', 'CapacityInBcm/y', 'CostMillionEuroPerBcm/y']].style.hide_index()\n",
    "\n",
    "\n"
   ]
  },
  {
   "cell_type": "markdown",
   "id": "68648e95-438f-4893-98a9-ce95ee6af137",
   "metadata": {},
   "source": [
    "### how many go into calculation - onshore"
   ]
  },
  {
   "cell_type": "code",
   "execution_count": null,
   "id": "c9a06044-9571-4c95-9dbf-c4cd3bef0489",
   "metadata": {},
   "outputs": [],
   "source": [
    "print(terms_cost_calc_eu27_onshore.shape)\n",
    "print(terms_cost_calc_eu27_onshore.loc[(~terms_cost_calc_eu27_onshore['CostUSDPerBcm/y'].isna()) &\n",
    "                        (~terms_cost_calc_eu27_onshore['UnitName'].str.contains('Expansion'))].shape)\n",
    "\n",
    "terms_cost_calc_eu27_onshore.loc[:,'CostMillionEuroPerBcm/y'] = terms_cost_calc_eu27_onshore.loc[:,'CostUSDPerBcm/y']*euro_multiplier / 1e6\n",
    "# for floating terminals, remove anything missing cost per bcm/y AND anything that's an expansion project\n",
    "\n",
    "terms_cost_calc_eu27_onshore_noexpansions = terms_cost_calc_eu27_onshore.loc[~terms_cost_calc_eu27_onshore['UnitName'].str.contains('Expansion')]\n",
    "terms_cost_calc_eu27_onshore_noexpansions[~terms_cost_calc_eu27_onshore_noexpansions.loc[:,'CostUSDPerBcm/y'].isna()][['TerminalName', 'UnitName', 'Country', 'Status', 'Wiki','CostMillionEuroPerBcm/y']].style.hide_index()\n"
   ]
  },
  {
   "cell_type": "code",
   "execution_count": null,
   "id": "eddfefc8-49ed-412d-900f-3a97d0d5e521",
   "metadata": {},
   "outputs": [],
   "source": [
    "terms_cost_calc_eu27_onshore_noexpansions[~terms_cost_calc_eu27_onshore_noexpansions.loc[:,'CostUSDPerBcm/y'].isna()][['TerminalName', 'UnitName', 'Country', \n",
    "                                                                                                                       'Status', 'CapacityInBcm/y', \n",
    "                                                                                                                       'Wiki','CostMillionEuroPerBcm/y']].style.hide_index()\n",
    "\n"
   ]
  },
  {
   "cell_type": "markdown",
   "id": "4ff5bf85-f2b5-4f21-8d8a-7441993d4139",
   "metadata": {},
   "source": [
    "### t test to see if floating and onshore different\n",
    "\n",
    "p value is >0.0285, seems statistically significant??"
   ]
  },
  {
   "cell_type": "code",
   "execution_count": null,
   "id": "b1b8cdd4-899a-48ae-ad55-f2a9c03df70b",
   "metadata": {},
   "outputs": [],
   "source": [
    "scipy.stats.ttest_ind(terms_cost_calc_eu27_onshore[(~terms_cost_calc_eu27_onshore['CostMillionEuroPerBcm/y'].isna())]['CostMillionEuroPerBcm/y'].values,\n",
    "                      terms_cost_calc_eu27_floating[(~terms_cost_calc_eu27_floating['CostMillionEuroPerBcm/y'].isna())]['CostMillionEuroPerBcm/y'].values)"
   ]
  },
  {
   "cell_type": "markdown",
   "id": "1b562b45-8f53-40d9-9bcc-00139bae1b11",
   "metadata": {},
   "source": [
    "### mean floating and onshore costs"
   ]
  },
  {
   "cell_type": "code",
   "execution_count": null,
   "id": "aaae1e60-6989-44ff-ab3e-e00aaed594bb",
   "metadata": {},
   "outputs": [],
   "source": [
    "terms_cost_calc_eu27_floating_noexpansions['CostMillionEuroPerBcm/y'].mean() #* euro_multiplier"
   ]
  },
  {
   "cell_type": "code",
   "execution_count": null,
   "id": "d9b40cfc-8d31-4dee-9950-ee7e00fb9651",
   "metadata": {},
   "outputs": [],
   "source": [
    "terms_cost_calc_eu27_onshore_noexpansions['CostMillionEuroPerBcm/y'].mean() #* euro_multiplier"
   ]
  },
  {
   "cell_type": "markdown",
   "id": "a8e85a4d-ca7e-4b79-971c-50ed3d97fe20",
   "metadata": {},
   "source": [
    "### calculate import terminal costs"
   ]
  },
  {
   "cell_type": "code",
   "execution_count": null,
   "id": "f8867c3d-58e8-424d-bdfa-51597889a19f",
   "metadata": {},
   "outputs": [],
   "source": [
    "terms_df_eu27_import = terms_df_eu27.loc[terms_df_eu27['Import/Export']=='Import']"
   ]
  },
  {
   "cell_type": "code",
   "execution_count": null,
   "id": "4612fbb4-a75e-4e05-8bbb-ffa5941bee53",
   "metadata": {},
   "outputs": [],
   "source": [
    "terms_df_eu27_export = terms_df_eu27.loc[terms_df_eu27['Import/Export']=='Export']"
   ]
  },
  {
   "cell_type": "code",
   "execution_count": null,
   "id": "01c182ac-de4b-42c2-909c-80a626b27c2e",
   "metadata": {},
   "outputs": [],
   "source": [
    "terms_df_eu27_import_future = terms_df_eu27_import.loc[\n",
    "    terms_df_eu27_import['Status'].isin(['Proposed','Construction'])]\n",
    "\n",
    "# do for floating\n",
    "terms_df_eu27_import_future['CostMillionEuroTotal'] = numpy.nan\n",
    "terms_df_eu27_import_future.loc[\n",
    "    (terms_df_eu27_import_future['Floating']=='yes'), 'CostMillionEuroTotal'] = terms_df_eu27_import_future.loc[\n",
    "    (terms_df_eu27_import_future['Floating']=='yes'), 'CapacityInBcm/y'] * terms_cost_calc_eu27_floating_noexpansions['CostMillionEuroPerBcm/y'].mean()\n",
    "\n",
    "# now do for onshore\n",
    "terms_df_eu27_import_future.loc[:,'CostMillionEuroTotal'] = numpy.nan\n",
    "terms_df_eu27_import_future.loc[\n",
    "    (terms_df_eu27_import_future['Floating']!='yes'), 'CostMillionEuroTotal'] = terms_df_eu27_import_future.loc[\n",
    "    (terms_df_eu27_import_future['Floating']!='yes'), 'CapacityInBcm/y'] * terms_cost_calc_eu27_onshore_noexpansions['CostMillionEuroPerBcm/y'].mean()\n",
    "\n",
    "# then replace any that we have already\n",
    "terms_df_eu27_import_future['CostEstUSD'] = terms_df_eu27_import_future['CostEstUSD']*euro_multiplier/1.e6\n",
    "\n",
    "# now replace the ones that we have exact numbers for...\n",
    "costs_exist_TF = ~terms_df_eu27_import_future['CostEstUSD'].isna()\n",
    "terms_df_eu27_import_future.loc[costs_exist_TF,'CostMillionEuroTotal'] = \\\n",
    "    terms_df_eu27_import_future[costs_exist_TF]['CostEstUSD']*euro_multiplier/1e6\n"
   ]
  },
  {
   "cell_type": "markdown",
   "id": "a68f598b-7834-4ac5-800a-d03dedb938a8",
   "metadata": {},
   "source": [
    "### correct outliers/special cases"
   ]
  },
  {
   "cell_type": "code",
   "execution_count": null,
   "id": "dc1d376b-eb39-46be-9181-d51809b43101",
   "metadata": {},
   "outputs": [],
   "source": [
    "# Zeebrugge terminal is 116 million for BOTH expansion projects\n",
    "#T042601\thttps://www.gem.wiki/Fluxys_Zeebrugge_LNG_Terminal\tZeebrugge LNG Terminal, 2024 Expansion\n",
    "#T042602\thttps://www.gem.wiki/Fluxys_Zeebrugge_LNG_Terminal\tZeebrugge LNG Terminal, 2026 Expansion\n",
    "outliers_comboids = ['T042602']\n",
    "terms_df_eu27_import_future.loc[\n",
    "    terms_df_eu27_import_future.ComboID.isin(outliers_comboids),'CostMillionEuroTotal'] = 0.0\n"
   ]
  },
  {
   "cell_type": "markdown",
   "id": "545eac8a-3887-4efd-b069-aac077d135c2",
   "metadata": {},
   "source": [
    "# creating table 6 (appendix)"
   ]
  },
  {
   "cell_type": "code",
   "execution_count": null,
   "id": "a2db36e6-433b-4f45-aa06-2e3a1a434953",
   "metadata": {},
   "outputs": [],
   "source": [
    "terms_df_eu27_import_future.columns"
   ]
  },
  {
   "cell_type": "code",
   "execution_count": null,
   "id": "a8f14946-8653-4e45-b90f-4bb2b45101bb",
   "metadata": {},
   "outputs": [],
   "source": [
    "terms_df_eu27_import_future['CapacityInBcm/y'].sum()"
   ]
  },
  {
   "cell_type": "code",
   "execution_count": null,
   "id": "71440ec6-b08e-4db3-871b-64a8f1dac4ab",
   "metadata": {},
   "outputs": [],
   "source": [
    "output_columns = ['Country',\n",
    "                'TerminalName',\n",
    "                'UnitName',\n",
    "                'CapacityInBcm/y',\n",
    "                #'Status',\n",
    "                'CostMillionEuroTotal']\n",
    "terms_df_eu27_import_future.sort_values(['Status','TerminalName'], ascending=[True,True])[output_columns].replace(numpy.nan,'').style.hide_index()"
   ]
  },
  {
   "cell_type": "code",
   "execution_count": null,
   "id": "4aa304b1-589f-4ab2-abc5-c3def22e8eb2",
   "metadata": {},
   "outputs": [],
   "source": [
    "for i in sorted(terms_df_eu27_import_future.TerminalName): print(i)"
   ]
  },
  {
   "cell_type": "markdown",
   "id": "3b27519d-0e05-4431-811a-6cff2ca28f9c",
   "metadata": {},
   "source": [
    "# creating table 2 - future gas infra in EU countries"
   ]
  },
  {
   "cell_type": "code",
   "execution_count": null,
   "id": "48baf5c1-8acd-43c7-9dd3-b1c272716aa2",
   "metadata": {},
   "outputs": [],
   "source": [
    "terms_df_eu27_import_future.groupby(['Country'])['CapacityInBcm/y'].sum()\n",
    "#terms_df_eu27_import_future.groupby('Country')['CapacityInMtpa'].sum()"
   ]
  },
  {
   "cell_type": "code",
   "execution_count": null,
   "id": "bb75937f-4b4c-4299-b435-cb4523c27e3c",
   "metadata": {},
   "outputs": [],
   "source": [
    "country_ratios_df_eu27.loc[country_ratios_df_eu27.ProjectID.isin(\n",
    "    import_projectids+all_other_projectids)].groupby('Country')['TotalEstCostEuroMillions'].sum()"
   ]
  },
  {
   "cell_type": "code",
   "execution_count": null,
   "id": "51e6863d-062a-4aee-8b28-3a1c6c14d470",
   "metadata": {},
   "outputs": [],
   "source": [
    "# table 1 shows country totals of pipeline length, cost, LNG capacity, cost, total cost\n",
    "table2_columns = ['PipelineLengthKm','PipelineCostMillionEuro',\n",
    "                  'LNGImportCapacityBcm/y','LNGTerminalCostMillionEuro','TotalCostMillionEuro']\n",
    "table2_df = pandas.DataFrame(columns=table2_columns, index=region_df_touse.Country.tolist())\n",
    "\n",
    "table2_df['PipelineLengthKm'] = country_ratios_df_eu27.loc[country_ratios_df_eu27.ProjectID.isin(\n",
    "    import_projectids+all_other_projectids)].groupby('Country')['MergedKmByCountry'].sum()\n",
    "\n",
    "table2_df['PipelineCostMillionEuro'] = country_ratios_df_eu27.loc[country_ratios_df_eu27.ProjectID.isin(\n",
    "    import_projectids+all_other_projectids)].groupby('Country')['TotalEstCostEuroMillions'].sum()\n",
    "\n",
    "# add half of Trans-Adriatic expansion to Italy, half to Greece\n",
    "table2_df.loc['Greece','PipelineCostMillionEuro']+=1035/2\n",
    "table2_df.loc['Italy','PipelineCostMillionEuro']+=1035/2\n",
    "\n",
    "table2_df['LNGImportCapacityBcm/y'] = terms_df_eu27_import_future.groupby('Country')['CapacityInBcm/y'].sum()\n",
    "table2_df['LNGTerminalCostMillionEuro'] = terms_df_eu27_import_future.groupby('Country')['CostMillionEuroTotal'].sum()\n",
    "table2_df['TotalCostMillionEuro'] = table2_df.loc[:,('PipelineCostMillionEuro','LNGTerminalCostMillionEuro')].sum(axis=1)\n",
    "\n",
    "if 'Total' in table2_df.index:\n",
    "    table2_df.drop(index='Total', inplace=True)   \n",
    "    total = table2_df.sum(axis=0)\n",
    "    total.name='Total'\n",
    "    table2_df = table2_df.append(total)\n",
    "\n",
    "else:\n",
    "    total = table2_df.sum(axis=0)\n",
    "    total.name='Total'\n",
    "    table2_df = table2_df.append(total)\n",
    "\n",
    "# replace NaN with ''\n",
    "table2_df.replace(numpy.nan, '', inplace=True)\n",
    "table2_df.replace(0.0, '', inplace=True)\n"
   ]
  },
  {
   "cell_type": "code",
   "execution_count": null,
   "id": "3a18a622-2400-462f-91b9-986fd291e9ea",
   "metadata": {},
   "outputs": [],
   "source": [
    "table2_df#['LNGImportCapacityBcm/y'][:-1].replace('',numpy.nan).sum()"
   ]
  },
  {
   "cell_type": "markdown",
   "id": "97192f83-d5eb-4d0f-990e-7b8240b861d2",
   "metadata": {},
   "source": [
    "# creating table 4 (nsew_eu)"
   ]
  },
  {
   "cell_type": "code",
   "execution_count": null,
   "id": "dd973a21-d158-4bbb-9f77-193281868b13",
   "metadata": {},
   "outputs": [],
   "source": [
    "region_list = [western_eu,eastern_eu,southern_eu,northern_eu]\n",
    "index_list = ['Western EU','Eastern EU','Southern EU','Northern EU']\n",
    "\n",
    "table7_nsew = pandas.DataFrame(0, columns=['EstCostMillionEuroConstruction',\n",
    "                                        'CapacityInBcm/yConstruction',\n",
    "                                        'EstCostMillionEuroProposed',\n",
    "                                        'CapacityInBcm/yProposed'], index=range(4))\n",
    "\n",
    "terms_w_eu = pandas.DataFrame()\n",
    "terms_n_eu = pandas.DataFrame()\n",
    "terms_s_eu = pandas.DataFrame()\n",
    "terms_e_eu = pandas.DataFrame()\n",
    "\n",
    "pipes_w_eu = pandas.DataFrame()\n",
    "pipes_n_eu = pandas.DataFrame()\n",
    "pipes_s_eu = pandas.DataFrame()\n",
    "pipes_e_eu = pandas.DataFrame()\n",
    "\n",
    "for idx,row in table7_nsew.iterrows():\n",
    "    \n",
    "    # for proposed\n",
    "    pipeline_cost = country_ratios_df_eu27.loc[(country_ratios_df_eu27.Status.isin(['Proposed'])) &\n",
    "                           (country_ratios_df_eu27.Country.isin(region_list[idx]) &\n",
    "                           (country_ratios_df_eu27.ProjectID.isin(import_projectids)))]['TotalEstCostEuroMillions'].sum()\n",
    "    \n",
    "    pipeline_capacity = pipes_df_eu_imports.loc[(pipes_df_eu_imports.ProjectID.isin(import_projectids)) &\n",
    "                            (pipes_df_eu_imports.EndCountry.isin(region_list[idx])) &\n",
    "                            (pipes_df_eu_imports.Status.isin(['Proposed']))]['CapacityBcm/y'].sum()\n",
    "\n",
    "    terminal_cost = terms_df_eu27_import_future.loc[(terms_df_eu27_import_future.Status.isin(['Proposed'])) &\n",
    "                                (terms_df_eu27_import_future.Country.isin(region_list[idx]))]['CostMillionEuroTotal'].sum()\n",
    "    terminal_capacity = terms_df_eu27_import_future.loc[(terms_df_eu27_import_future.Status.isin(['Proposed'])) &\n",
    "                                (terms_df_eu27_import_future.Country.isin(region_list[idx]))]['CapacityInBcm/y'].sum()\n",
    "    \n",
    "    which_pipelines_df = country_ratios_df_eu27.loc[(country_ratios_df_eu27.Status.isin(['Proposed'])) &\n",
    "                           (country_ratios_df_eu27.Country.isin(region_list[idx]) &\n",
    "                           (country_ratios_df_eu27.ProjectID.isin(import_projectids)))]\n",
    "    which_terminals_df = terms_df_eu27_import_future.loc[(terms_df_eu27_import_future.Status.isin(['Proposed'])) &\n",
    "                                (terms_df_eu27_import_future.Country.isin(region_list[idx]))]\n",
    "    \n",
    "    if index_list[idx]=='Western EU':\n",
    "        terms_w_eu = pandas.concat([terms_w_eu,which_terminals_df])\n",
    "        pipes_w_eu = pandas.concat([pipes_w_eu,which_pipelines_df])\n",
    "    if index_list[idx]=='Northern EU':\n",
    "        terms_n_eu = pandas.concat([terms_n_eu,which_terminals_df])\n",
    "        pipes_n_eu = pandas.concat([pipes_n_eu,which_pipelines_df])\n",
    "    if index_list[idx]=='Eastern EU':\n",
    "        terms_e_eu = pandas.concat([terms_e_eu,which_terminals_df])\n",
    "        pipes_e_eu = pandas.concat([pipes_e_eu,which_pipelines_df])\n",
    "    if index_list[idx]=='Southern EU':\n",
    "        terms_s_eu = pandas.concat([terms_s_eu,which_terminals_df])\n",
    "        pipes_s_eu = pandas.concat([pipes_s_eu,which_pipelines_df])\n",
    "    \n",
    "    table7_nsew.loc[idx, 'EstCostMillionEuroProposed'] += terminal_cost+pipeline_cost\n",
    "    table7_nsew.loc[idx, 'CapacityInBcm/yProposed'] += terminal_capacity+pipeline_capacity\n",
    "\n",
    "    \n",
    "    # for construction\n",
    "    pipeline_cost = country_ratios_df_eu27.loc[(country_ratios_df_eu27.Status.isin(['Construction'])) &\n",
    "                           (country_ratios_df_eu27.Country.isin(region_list[idx]) &\n",
    "                           (country_ratios_df_eu27.ProjectID.isin(import_projectids)))]['TotalEstCostEuroMillions'].sum()\n",
    "    \n",
    "    pipeline_capacity = pipes_df_eu_imports.loc[(pipes_df_eu_imports.ProjectID.isin(import_projectids)) &\n",
    "                            (pipes_df_eu_imports.EndCountry.isin(region_list[idx])) &\n",
    "                            (pipes_df_eu_imports.Status.isin(['Construction']))]['CapacityBcm/y'].sum()\n",
    "\n",
    "    terminal_cost = terms_df_eu27_import_future.loc[(terms_df_eu27_import_future.Status.isin(['Construction'])) &\n",
    "                                (terms_df_eu27_import_future.Country.isin(region_list[idx]))]['CostMillionEuroTotal'].sum()\n",
    "    terminal_capacity = terms_df_eu27_import_future.loc[(terms_df_eu27_import_future.Status.isin(['Construction'])) &\n",
    "                                (terms_df_eu27_import_future.Country.isin(region_list[idx]))]['CapacityInBcm/y'].sum()\n",
    "    \n",
    "    which_pipelines_df = country_ratios_df_eu27.loc[(country_ratios_df_eu27.Status.isin(['Construction'])) &\n",
    "                           (country_ratios_df_eu27.Country.isin(region_list[idx]) &\n",
    "                           (country_ratios_df_eu27.ProjectID.isin(import_projectids)))]\n",
    "    which_terminals_df = terms_df_eu27_import_future.loc[(terms_df_eu27_import_future.Status.isin(['Construction'])) &\n",
    "                                (terms_df_eu27_import_future.Country.isin(region_list[idx]))]\n",
    "\n",
    "    if index_list[idx]=='Western EU':\n",
    "        terms_w_eu = pandas.concat([terms_w_eu,which_terminals_df])\n",
    "        pipes_w_eu = pandas.concat([pipes_w_eu,which_pipelines_df])\n",
    "    if index_list[idx]=='Northern EU':\n",
    "        terms_n_eu = pandas.concat([terms_n_eu,which_terminals_df])\n",
    "        pipes_n_eu = pandas.concat([pipes_n_eu,which_pipelines_df])\n",
    "    if index_list[idx]=='Eastern EU':\n",
    "        terms_e_eu = pandas.concat([terms_e_eu,which_terminals_df])\n",
    "        pipes_e_eu = pandas.concat([pipes_e_eu,which_pipelines_df])\n",
    "    if index_list[idx]=='Southern EU':\n",
    "        terms_s_eu = pandas.concat([terms_s_eu,which_terminals_df])\n",
    "        pipes_s_eu = pandas.concat([pipes_s_eu,which_pipelines_df])\n",
    "        \n",
    "    table7_nsew.loc[idx, 'EstCostMillionEuroConstruction'] += terminal_cost+pipeline_cost\n",
    "    table7_nsew.loc[idx, 'CapacityInBcm/yConstruction'] += terminal_capacity+pipeline_capacity  \n",
    "\n",
    "table7_nsew.index = index_list\n",
    "\n",
    "# add trans-adriatic\n",
    "table7_nsew.loc['Southern EU','EstCostMillionEuroProposed'] += 1035."
   ]
  },
  {
   "cell_type": "code",
   "execution_count": null,
   "id": "be94ad0b-572e-4f0c-b9a8-4f37df8a3cbc",
   "metadata": {},
   "outputs": [],
   "source": [
    "table7_nsew"
   ]
  },
  {
   "cell_type": "markdown",
   "id": "bccf3db6-f5ab-479c-bd4e-17f32aa30ee5",
   "metadata": {},
   "source": [
    "## which go into Table 7"
   ]
  },
  {
   "cell_type": "code",
   "execution_count": null,
   "id": "ae2d44ff-7eb6-4849-839f-dd0918369625",
   "metadata": {},
   "outputs": [],
   "source": [
    "terms_n_eu[['Country','Wiki','TerminalName','Import/Export',\n",
    "            'Status','CostMillionEuroTotal']].sort_values(['Status','Country','CostMillionEuroTotal'], ascending=[False,True,True]).replace(numpy.nan,'').style.hide_index()\n"
   ]
  },
  {
   "cell_type": "code",
   "execution_count": null,
   "id": "f0386074-7de8-4e19-a76e-9b0966f719d7",
   "metadata": {},
   "outputs": [],
   "source": [
    "pipes_w_eu[['Country', 'PipelineName', 'SegmentName', 'Status',\n",
    "            'MergedKmByCountry','TotalEstCostEuroMillions']].sort_values(['Status','Country',\n",
    "                                                                          'TotalEstCostEuroMillions']).replace(numpy.nan,'').style.hide_index()"
   ]
  },
  {
   "cell_type": "markdown",
   "id": "32ec398b-2c60-44c8-9d94-26f38965942f",
   "metadata": {},
   "source": [
    "# creating figure 1 data\n",
    "\n",
    "sum of Table 1 columns..."
   ]
  },
  {
   "cell_type": "code",
   "execution_count": null,
   "id": "6f651e27-f98d-4df7-9317-693d07f9ad96",
   "metadata": {},
   "outputs": [],
   "source": [
    "terms_df_eu27_import_future.loc[terms_df_eu27_import_future.Status.isin(['Proposed'])].groupby('Country')['CostMillionEuroTotal'].sum().fillna(0)\n"
   ]
  },
  {
   "cell_type": "code",
   "execution_count": null,
   "id": "63542f11-cc8e-4e42-bf70-266237e5fa1d",
   "metadata": {},
   "outputs": [],
   "source": [
    "figure1_table_columns = ['TotalConstructionCostMillionEuro','TotalProposedCostMillionEuro','Total']\n",
    "figure1_table_df = pandas.DataFrame(0, columns=figure1_table_columns, index=region_df_touse.Country,)\n",
    "\n",
    "\n",
    "# for proposed\n",
    "figure1_table_df['TotalProposedCostMillionEuro'] = \\\n",
    "country_ratios_df_eu27.loc[country_ratios_df_eu27.Status.isin(\n",
    "    ['Proposed'])].groupby(['Country'])['TotalEstCostEuroMillions'].sum()\n",
    "\n",
    "figure1_table_df['TotalProposedCostMillionEuro'] = \\\n",
    "figure1_table_df['TotalProposedCostMillionEuro'].add( \\\n",
    "terms_df_eu27_import_future.loc[terms_df_eu27_import_future.Status.isin(\n",
    "    ['Proposed'])].groupby(['Country'])['CostMillionEuroTotal'].sum(), \\\n",
    "                                                    fill_value=0)\n",
    "\n",
    "figure1_table_df.loc['Italy','TotalProposedCostMillionEuro'] += 1035/2.\n",
    "figure1_table_df.loc['Greece','TotalProposedCostMillionEuro'] += 1035/2.\n",
    "\n",
    "# for construction\n",
    "figure1_table_df['TotalConstructionCostMillionEuro'] = \\\n",
    "country_ratios_df_eu27.loc[country_ratios_df_eu27.Status.isin(\n",
    "    ['Construction'])].groupby(['Country'])['TotalEstCostEuroMillions'].sum()\n",
    "\n",
    "figure1_table_df['TotalConstructionCostMillionEuro'] = \\\n",
    "figure1_table_df['TotalConstructionCostMillionEuro'].add( \\\n",
    "terms_df_eu27_import_future.loc[terms_df_eu27_import_future.Status.isin(\n",
    "    ['Construction'])].groupby(['Country'])['CostMillionEuroTotal'].sum(), \\\n",
    "                                                         fill_value=0, axis=0)\n",
    "\n",
    "figure1_table_df['Total'] = \\\n",
    "figure1_table_df[['TotalConstructionCostMillionEuro','TotalProposedCostMillionEuro']].sum(axis=1)\n",
    "figure1_table_df.sort_values(['Total','Country'], ascending=[False, True], inplace=True)\n",
    "\n",
    "figure1_table_df.replace(numpy.nan, '', inplace=True)\n",
    "figure1_table_df.replace(0, '', inplace=True)"
   ]
  },
  {
   "cell_type": "code",
   "execution_count": null,
   "id": "8956df7f-9379-4a88-97d4-beef82d1c74d",
   "metadata": {},
   "outputs": [],
   "source": [
    "figure1_table_df"
   ]
  },
  {
   "cell_type": "markdown",
   "id": "679ab83a-7079-49ee-846e-9e9a63e513c9",
   "metadata": {},
   "source": [
    "# report numbers"
   ]
  },
  {
   "cell_type": "code",
   "execution_count": null,
   "id": "885316ea-93de-4fbe-8749-1694ec16d3dc",
   "metadata": {},
   "outputs": [],
   "source": [
    "# key points\n",
    "# num of gas pipelines under const in EU\n",
    "country_ratios_df_eu27.loc[country_ratios_df_eu27.Status.isin(['Construction'])]['MergedKmByCountry'].sum()"
   ]
  },
  {
   "cell_type": "code",
   "execution_count": null,
   "id": "85fdde21-9fac-475d-880c-ab8d4098d166",
   "metadata": {},
   "outputs": [],
   "source": [
    "# total cost\n",
    "country_ratios_df_eu27.loc[country_ratios_df_eu27.Status.isin(['Construction'])]['TotalEstCostEuroMillions'].sum()"
   ]
  },
  {
   "cell_type": "code",
   "execution_count": null,
   "id": "868e350b-5180-4238-8ed9-86c4f258e8d7",
   "metadata": {},
   "outputs": [],
   "source": [
    "# number of distinct projects\n",
    "unique_const = list(set(country_ratios_df_eu27.loc[country_ratios_df_eu27.Status.isin(['Construction'])]['ProjectID']))\n",
    "print(pipes_df_orig.loc[pipes_df_orig.ProjectID.isin(unique_const)]['LengthMergedKm'].mean())\n",
    "print(pipes_df_orig.loc[pipes_df_orig.ProjectID.isin(unique_const)]['LengthMergedKm'].size)"
   ]
  },
  {
   "cell_type": "code",
   "execution_count": null,
   "id": "0a8d5704-e8f5-4a26-acb9-fd077285271d",
   "metadata": {},
   "outputs": [],
   "source": [
    "country_ratios_df_eu27.loc[country_ratios_df_eu27.Status.isin(['Proposed'])]['MergedKmByCountry'].sum()"
   ]
  },
  {
   "cell_type": "code",
   "execution_count": null,
   "id": "d8722b0d-47ae-40f1-9b1b-0720827d19f5",
   "metadata": {},
   "outputs": [],
   "source": [
    "country_ratios_df_eu27.loc[country_ratios_df_eu27.Status.isin(['Proposed'])]['TotalEstCostEuroMillions'].sum()"
   ]
  },
  {
   "cell_type": "code",
   "execution_count": null,
   "id": "c427f720-929f-47e2-b136-c5ac1bcc9d89",
   "metadata": {},
   "outputs": [],
   "source": [
    "# number of distinct projects\n",
    "unique_prop = list(set(country_ratios_df_eu27.loc[country_ratios_df_eu27.Status.isin(['Proposed'])]['ProjectID']))\n",
    "print(pipes_df_orig.loc[pipes_df_orig.ProjectID.isin(unique_prop)]['LengthMergedKm'].mean())\n",
    "print(pipes_df_orig.loc[pipes_df_orig.ProjectID.isin(unique_prop)]['LengthMergedKm'].size)"
   ]
  },
  {
   "cell_type": "markdown",
   "id": "614864a3-d612-48a4-a39b-619a0b0001ea",
   "metadata": {},
   "source": [
    "# how many announced since war started?"
   ]
  },
  {
   "cell_type": "code",
   "execution_count": null,
   "id": "43a5d1a6-8529-40cc-ad14-d81b35f0b8ac",
   "metadata": {},
   "outputs": [],
   "source": [
    "pipes_df_orig.loc[(pipes_df_orig.Fuel=='Gas')&\n",
    "                  (pipes_df_orig.ProposalYear>=2022)&\n",
    "                  ((pipes_df_orig.StartRegion`=='Europe')|\n",
    "                  (pipes_df_orig.EndRegion=='Europe'))]#.to_excel('recent_pipelines.xlsx')"
   ]
  },
  {
   "cell_type": "code",
   "execution_count": null,
   "id": "3d0e0502-8ae5-4434-8bd1-0e8473b0d0c7",
   "metadata": {},
   "outputs": [],
   "source": []
  }
 ],
 "metadata": {
  "kernelspec": {
   "display_name": "Python 3 (ipykernel)",
   "language": "python",
   "name": "python3"
  },
  "language_info": {
   "codemirror_mode": {
    "name": "ipython",
    "version": 3
   },
   "file_extension": ".py",
   "mimetype": "text/x-python",
   "name": "python",
   "nbconvert_exporter": "python",
   "pygments_lexer": "ipython3",
   "version": "3.11.0"
  }
 },
 "nbformat": 4,
 "nbformat_minor": 5
}
