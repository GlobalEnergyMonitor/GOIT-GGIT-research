{
 "cells": [
  {
   "cell_type": "code",
   "execution_count": 1,
   "id": "3b38c4c2",
   "metadata": {},
   "outputs": [],
   "source": [
    "import pandas\n",
    "\n",
    "import pygsheets\n",
    "import numpy\n",
    "import scipy\n",
    "import re\n",
    "\n",
    "import matplotlib\n",
    "import matplotlib.pyplot as mp\n",
    "import matplotlib.cm\n",
    "\n",
    "import textwrap\n",
    "import seaborn"
   ]
  },
  {
   "cell_type": "markdown",
   "id": "c5e51996-e86d-4e84-81b9-adfed4434b8b",
   "metadata": {},
   "source": [
    "# import data directly from google sheets"
   ]
  },
  {
   "cell_type": "code",
   "execution_count": 2,
   "id": "029bc7eb-d141-4e01-a747-e0b5b03f1f53",
   "metadata": {},
   "outputs": [],
   "source": [
    "credentials_directory = '/Users/baird/Dropbox/_google-api/'\n",
    "gc = pygsheets.authorize(service_account_env_var='GDRIVE_API_CREDENTIALS')\n",
    "spreadsheet = gc.open_by_key('1foPLE6K-uqFlaYgLPAUxzeXfDO5wOOqE7tibNHeqTek') # original\n",
    "\n",
    "#spreadsheet[1] \"Gas Pipelines\" tab is the second index\n",
    "gas_pipes = spreadsheet.worksheet('title','Gas pipelines').get_as_df(start='A2')\n",
    "oil_pipes = spreadsheet.worksheet('title', 'Oil/NGL pipelines').get_as_df(start='A2')\n",
    "\n",
    "pipes_df_orig = pandas.concat([oil_pipes, gas_pipes], ignore_index=True)\n",
    "\n",
    "#get country ratios sheet\n",
    "country_ratios_df = spreadsheet.worksheet('title', 'Country ratios by pipeline').get_as_df()"
   ]
  },
  {
   "cell_type": "code",
   "execution_count": 3,
   "id": "2aed6720-4918-47bd-a9fd-c77d41d22b53",
   "metadata": {},
   "outputs": [],
   "source": [
    "owners_df_orig = spreadsheet.worksheet('title', 'Pipeline operators/owners (1/3)').get_as_df(start='A2')\n",
    "owners_df_orig = owners_df_orig.loc[owners_df_orig.ProjectID!='']\n",
    "owners_df_orig = owners_df_orig.loc[owners_df_orig.Wiki!='']\n",
    "owners_df = owners_df_orig.replace('',numpy.nan)\n",
    "\n",
    "owner_parent_links_df = spreadsheet.worksheet('title', 'Owner–parent relationships (2/3)').get_as_df(start='A2')\n",
    "# only keep the owners with a checked relationship\n",
    "owner_parent_links_df = owner_parent_links_df.loc[owner_parent_links_df['Parent–Owner Relationship Checked?']=='yes']\n",
    "owner_parent_links_df.replace('',numpy.nan,inplace=True)\n",
    "\n",
    "parents_df = spreadsheet.worksheet('title', 'Parent metadata (3/3)').get_as_df(start='A2')\n",
    "parents_df = parents_df.loc[parents_df.Parent!='']\n",
    "\n",
    "owners_df.set_index('ProjectID', inplace=True)\n",
    "owner_parent_links_df.set_index('Owner', inplace=True)\n",
    "parents_df.set_index('Parent', inplace=True)\n",
    "\n",
    "# ****************************************\n",
    "\n",
    "## create list of owner and parent column names\n",
    "owner_pct_col_names = []\n",
    "owner_col_names = []\n",
    "\n",
    "parent_pct_col_names = []\n",
    "parent_col_names = []\n",
    "\n",
    "for num in range(1,11+1):\n",
    "    owner_pct_col = f'Owner{num}%'\n",
    "    owner_pct_col_names.append(owner_pct_col)\n",
    "    \n",
    "    owner_col = f'Owner{num}'\n",
    "    owner_col_names.append(owner_col)\n",
    "    \n",
    "    parent_pct_col = f'Parent{num}%'\n",
    "    parent_pct_col_names.append(parent_pct_col)\n",
    "    \n",
    "    parent_col = f'Parent{num}'\n",
    "    parent_col_names.append(parent_col)\n",
    "\n",
    "# ****************************************\n",
    "## fill in missing parent info by borrowing owner info\n",
    "owners_FULL_set = owners_df[owner_col_names].stack().dropna().unique().tolist() # from owners_df\n",
    "owners_researched_set = list(set(owner_parent_links_df.index.to_list()))#+['Unknown'] # only existing owners, plus 'Unknown'\n",
    "owners_diff = list(set(owners_FULL_set)-set(owners_researched_set))\n",
    "owners_diff.append('Unknown')\n",
    "\n",
    "# update owner_parent_links_df with these extra owners\n",
    "owner_parent_links_df = pandas.concat([owner_parent_links_df, pandas.DataFrame(index=owners_diff, columns=owner_parent_links_df.columns)])\n",
    "owner_parent_links_df['Parent1'].loc[owners_diff] = owners_diff\n",
    "owner_parent_links_df['Parent1%'].loc[owners_diff] = '100.00%'\n",
    "\n",
    "# ****************************************\n",
    "# update parents_df with these as well\n",
    "# note countries will be unknkown...\n",
    "parents_set = list(set(parents_df.index.to_list()))\n",
    "parents_diff = list(set(owners_diff)-set(parents_set))\n",
    "parents_diff.append('Unknown')\n",
    "parents_df = pandas.concat([parents_df, pandas.DataFrame(numpy.nan, index=parents_diff, columns=parents_df.columns)])\n",
    "parents_df.loc[parents_diff,'ParentHQCountry'] = 'Unknown'"
   ]
  },
  {
   "cell_type": "code",
   "execution_count": 4,
   "id": "955ccc40-0fc9-49ab-88e7-58f83744a982",
   "metadata": {},
   "outputs": [],
   "source": [
    "region_df_orig = spreadsheet.worksheet('title', 'Region dictionary').get_as_df(start='A2')"
   ]
  },
  {
   "cell_type": "markdown",
   "id": "c03ad170",
   "metadata": {},
   "source": [
    "## replace \"--\" with NaN, removing empty rows\n",
    "\n",
    "the dataset is structured to have -- wherever there's a lookup value that doesn't exist; replacing it with NaN (numpy.nan) allows pandas to treat it as a null value, which makes calculations much easier"
   ]
  },
  {
   "cell_type": "code",
   "execution_count": 5,
   "id": "53a9af81",
   "metadata": {},
   "outputs": [],
   "source": [
    "# replace -- entries with NaN\n",
    "pipes_df_orig = pipes_df_orig.replace('--', numpy.nan)\n",
    "pipes_df_orig = pipes_df_orig[pipes_df_orig['PipelineName']!='']\n",
    "pipes_df_orig = pipes_df_orig[pipes_df_orig['Wiki']!='']\n",
    "country_ratios_df.replace('--', numpy.nan, inplace=True)"
   ]
  },
  {
   "cell_type": "markdown",
   "id": "a28ad2a3",
   "metadata": {},
   "source": [
    "# km by country, km by region calculations"
   ]
  },
  {
   "cell_type": "code",
   "execution_count": 6,
   "id": "b69bb35e",
   "metadata": {},
   "outputs": [],
   "source": [
    "status_list = ['Proposed', 'Construction', 'Shelved', 'Cancelled', 'Operating', 'Idle', 'Mothballed', 'Retired']\n",
    "country_list = sorted(list(set(country_ratios_df['Country'])))\n",
    "region_list = sorted(list(set(country_ratios_df['Region'])))"
   ]
  },
  {
   "cell_type": "code",
   "execution_count": 7,
   "id": "0f861f96",
   "metadata": {},
   "outputs": [
    {
     "name": "stdout",
     "output_type": "stream",
     "text": [
      "===country-level calculations===\n",
      "Proposed\n",
      "Construction\n",
      "Shelved\n",
      "Cancelled\n",
      "Operating\n",
      "Idle\n",
      "Mothballed\n",
      "Retired\n",
      "===regional calculations===\n",
      "Proposed\n",
      "Construction\n",
      "Shelved\n",
      "Cancelled\n",
      "Operating\n",
      "Idle\n",
      "Mothballed\n",
      "Retired\n"
     ]
    }
   ],
   "source": [
    "country_ratios_gas_df = country_ratios_df[country_ratios_df['Fuel']=='Gas']\n",
    "\n",
    "km_by_country_df = pandas.DataFrame(columns=status_list, index=country_list)\n",
    "km_by_region_df = pandas.DataFrame(columns=status_list, index=region_list)\n",
    "\n",
    "print('===country-level calculations===')\n",
    "for status in status_list:\n",
    "    print(status)\n",
    "    country_ratios_gas_df_status = country_ratios_gas_df[country_ratios_gas_df['Status']==status]\n",
    "    km_by_country_df[status] = country_ratios_gas_df_status.groupby('Country')['MergedKmByCountry'].sum()\n",
    "\n",
    "print('===regional calculations===')\n",
    "for status in status_list:\n",
    "    print(status)\n",
    "    country_ratios_gas_df_status = country_ratios_gas_df[country_ratios_gas_df['Status']==status]\n",
    "    km_by_region_df[status] = country_ratios_gas_df_status.groupby('Region')['MergedKmByCountry'].sum()\n",
    "\n",
    "# # fill NaN with 0.0\n",
    "km_by_region_df = km_by_region_df.fillna(0)\n",
    "km_by_country_df = km_by_country_df.fillna(0)"
   ]
  },
  {
   "cell_type": "raw",
   "id": "c295c370-8758-44a5-b8dd-393f10407363",
   "metadata": {},
   "source": [
    "km_by_country_df.index.to_list()"
   ]
  },
  {
   "cell_type": "markdown",
   "id": "e085a7a0-9904-4b96-a1f3-050d119a9e59",
   "metadata": {},
   "source": [
    "### add a \"Proposed+Construction\" column"
   ]
  },
  {
   "cell_type": "code",
   "execution_count": 13,
   "id": "f27e1492-6919-456b-8519-a35e89c76f34",
   "metadata": {},
   "outputs": [],
   "source": [
    "km_by_region_df['Proposed+Construction'] = km_by_region_df[['Proposed','Construction']].sum(axis=1)\n",
    "km_by_region_df.sort_values(by='Proposed+Construction', inplace=True)\n",
    "km_by_region_df = km_by_region_df[['Proposed', 'Construction', 'Proposed+Construction', 'Shelved', 'Cancelled', 'Operating', 'Idle', 'Mothballed', 'Retired']]\n",
    "km_by_region_df.sort_values('Proposed+Construction', ascending=False, inplace=True)"
   ]
  },
  {
   "cell_type": "code",
   "execution_count": 14,
   "id": "38ef2764-c801-46f8-a82d-4803101a1f3b",
   "metadata": {},
   "outputs": [],
   "source": [
    "km_by_country_df['Proposed+Construction'] = km_by_country_df[['Proposed','Construction']].sum(axis=1)\n",
    "km_by_country_df.sort_values(by='Proposed+Construction', inplace=True)\n",
    "km_by_country_df = km_by_country_df[['Proposed', 'Construction', 'Proposed+Construction', 'Shelved', 'Cancelled', 'Operating', 'Idle', 'Mothballed', 'Retired']]\n",
    "km_by_country_df.sort_values('Proposed+Construction', ascending=False, inplace=True)"
   ]
  },
  {
   "cell_type": "markdown",
   "id": "c277d8a8-4ca4-491d-a172-2576d3346773",
   "metadata": {},
   "source": [
    "# projects by country, by region"
   ]
  },
  {
   "cell_type": "code",
   "execution_count": 15,
   "id": "9ff9810a-e55c-4a5c-89e4-7dbb2e4c6a48",
   "metadata": {},
   "outputs": [
    {
     "name": "stdout",
     "output_type": "stream",
     "text": [
      "===country-level calculations===\n",
      "Proposed\n",
      "Construction\n",
      "Shelved\n",
      "Cancelled\n",
      "Operating\n",
      "Idle\n",
      "Mothballed\n",
      "Retired\n",
      "===regional calculations===\n",
      "Proposed\n",
      "Construction\n",
      "Shelved\n",
      "Cancelled\n",
      "Operating\n",
      "Idle\n",
      "Mothballed\n",
      "Retired\n"
     ]
    }
   ],
   "source": [
    "country_ratios_gas_df = country_ratios_df[country_ratios_df['Fuel']=='Gas']\n",
    "\n",
    "num_by_country_df = pandas.DataFrame(columns=status_list, index=country_list)\n",
    "num_by_region_df = pandas.DataFrame(columns=status_list, index=region_list)\n",
    "\n",
    "print('===country-level calculations===')\n",
    "for status in status_list:\n",
    "    print(status)\n",
    "    country_ratios_gas_df_status = country_ratios_gas_df[country_ratios_gas_df['Status']==status]\n",
    "    num_by_country_df[status] = country_ratios_gas_df_status.groupby('ProjectID')['MergedKmByCountry'].sum()\n",
    "\n",
    "print('===regional calculations===')\n",
    "for status in status_list:\n",
    "    print(status)\n",
    "    country_ratios_gas_df_status = country_ratios_gas_df[country_ratios_gas_df['Status']==status]\n",
    "    num_by_region_df[status] = country_ratios_gas_df_status.groupby('Region')['MergedKmByCountry'].sum()\n",
    "\n",
    "# # fill NaN with 0.0\n",
    "num_by_region_df = num_by_region_df.fillna(0)\n",
    "num_by_country_df = num_by_country_df.fillna(0)"
   ]
  },
  {
   "cell_type": "markdown",
   "id": "fb98d85a",
   "metadata": {},
   "source": [
    "# cost estimates (pipeline cost per km)\n",
    "\n",
    "throwing out any estimates larger than USD 10 million per km for taking regional estimates"
   ]
  },
  {
   "cell_type": "code",
   "execution_count": 16,
   "id": "3bcf26d0-8841-42c1-96c7-bd788afe67b8",
   "metadata": {},
   "outputs": [],
   "source": [
    "outliers_projectids = ['P2509','P0173','P1297', 'P4033', 'P0174','P3188','P2551', 'P4069', 'P0331', 'P1382','P0477']\n",
    "# for gas..."
   ]
  },
  {
   "cell_type": "code",
   "execution_count": 34,
   "id": "e83b508d-5fed-4b45-8cdf-d6ebb7850d58",
   "metadata": {},
   "outputs": [],
   "source": [
    "# pull out only pipelines that have a KNOWN length AND a cost\n",
    "country_ratios_with_length_and_cost_df = country_ratios_df.copy()[(country_ratios_df['Fuel']=='Gas') & \n",
    "                                    (country_ratios_df['CostUSDPerKm'].notna()) & \n",
    "                                    (country_ratios_df['LengthKnownKmByCountry'].notna()) &\n",
    "                                    (country_ratios_df['LengthKnownKm']!=0) &\n",
    "                                    (country_ratios_df['CostUSDPerKm']<10e6) &\n",
    "                                    ~(country_ratios_df['ProjectID'].isin(outliers_projectids))\n",
    "                                   ]\n",
    "#country_ratios_with_length_and_cost_df = country_ratios_with_length_and_cost_df[~country_ratios_with_length_and_cost_df.ProjectID.isin(outliers_projectids)]"
   ]
  },
  {
   "cell_type": "markdown",
   "id": "a60996ff-c763-46a6-8576-cffa78c2fcbb",
   "metadata": {},
   "source": [
    "### global mean value (million USD per km of pipeline)"
   ]
  },
  {
   "cell_type": "code",
   "execution_count": 35,
   "id": "cf567357-e85c-4afc-b618-e35a0feef254",
   "metadata": {},
   "outputs": [
    {
     "data": {
      "text/plain": [
       "2.411610589168704"
      ]
     },
     "execution_count": 35,
     "metadata": {},
     "output_type": "execute_result"
    }
   ],
   "source": [
    "country_ratios_with_length_and_cost_df['CostUSDPerKm'].drop_duplicates().mean()/1e6"
   ]
  },
  {
   "cell_type": "markdown",
   "id": "9754a8d9-5d70-448d-a6ae-75efcd2a6054",
   "metadata": {},
   "source": [
    "### calculate regional costs"
   ]
  },
  {
   "cell_type": "code",
   "execution_count": 36,
   "id": "187bd845-39f3-4c5a-8618-723262516a27",
   "metadata": {},
   "outputs": [
    {
     "name": "stdout",
     "output_type": "stream",
     "text": [
      "Australia and New Zealand\n",
      "East Asia\n",
      "Eurasia\n",
      "Europe\n",
      "Latin America and the Caribbean\n",
      "Middle East and North Africa\n",
      "North America\n",
      "SE Asia\n",
      "South Asia\n",
      "Sub-Saharan Africa\n"
     ]
    }
   ],
   "source": [
    "pipes_costs_region_df = pandas.DataFrame(0, index=region_list, columns=['CostUSDPerKm','NumberOfCosts','NumberOfLengths'])\n",
    "\n",
    "for region in region_list:\n",
    "    print(region)\n",
    "    country_ratios_region_df = country_ratios_with_length_and_cost_df[country_ratios_with_length_and_cost_df['Region']==region]\n",
    "    pipes_costs_region_df.loc[region,'CostUSDPerKm'] = country_ratios_region_df['CostUSDPerKm'].mean()\n",
    "    pipes_costs_region_df.loc[region,'NumberOfCosts'] = list(set(country_ratios_region_df['ProjectID'])).__len__()\n",
    "    pipes_costs_region_df.loc[region,'NumberOfLengths'] = list(set(country_ratios_region_df['ProjectID'])).__len__()\n",
    "    "
   ]
  },
  {
   "cell_type": "markdown",
   "id": "f9ee664c-930f-47ca-b605-c84012c6e2df",
   "metadata": {},
   "source": [
    "### table for methodology with regional cost info"
   ]
  },
  {
   "cell_type": "code",
   "execution_count": 37,
   "id": "d3dda312-986c-4ea7-b628-ff1b4d1c257a",
   "metadata": {},
   "outputs": [
    {
     "data": {
      "text/html": [
       "<div>\n",
       "<style scoped>\n",
       "    .dataframe tbody tr th:only-of-type {\n",
       "        vertical-align: middle;\n",
       "    }\n",
       "\n",
       "    .dataframe tbody tr th {\n",
       "        vertical-align: top;\n",
       "    }\n",
       "\n",
       "    .dataframe thead th {\n",
       "        text-align: right;\n",
       "    }\n",
       "</style>\n",
       "<table border=\"1\" class=\"dataframe\">\n",
       "  <thead>\n",
       "    <tr style=\"text-align: right;\">\n",
       "      <th></th>\n",
       "      <th>CostUSDPerKm</th>\n",
       "      <th>NumberOfCosts</th>\n",
       "      <th>NumberOfLengths</th>\n",
       "    </tr>\n",
       "  </thead>\n",
       "  <tbody>\n",
       "    <tr>\n",
       "      <th>Australia and New Zealand</th>\n",
       "      <td>1.306846e+06</td>\n",
       "      <td>10</td>\n",
       "      <td>10</td>\n",
       "    </tr>\n",
       "    <tr>\n",
       "      <th>East Asia</th>\n",
       "      <td>1.445627e+06</td>\n",
       "      <td>54</td>\n",
       "      <td>54</td>\n",
       "    </tr>\n",
       "    <tr>\n",
       "      <th>Eurasia</th>\n",
       "      <td>2.933395e+06</td>\n",
       "      <td>41</td>\n",
       "      <td>41</td>\n",
       "    </tr>\n",
       "    <tr>\n",
       "      <th>Europe</th>\n",
       "      <td>2.476551e+06</td>\n",
       "      <td>111</td>\n",
       "      <td>111</td>\n",
       "    </tr>\n",
       "    <tr>\n",
       "      <th>Latin America and the Caribbean</th>\n",
       "      <td>2.868906e+06</td>\n",
       "      <td>23</td>\n",
       "      <td>23</td>\n",
       "    </tr>\n",
       "    <tr>\n",
       "      <th>Middle East and North Africa</th>\n",
       "      <td>2.223702e+06</td>\n",
       "      <td>35</td>\n",
       "      <td>35</td>\n",
       "    </tr>\n",
       "    <tr>\n",
       "      <th>North America</th>\n",
       "      <td>3.469280e+06</td>\n",
       "      <td>133</td>\n",
       "      <td>133</td>\n",
       "    </tr>\n",
       "    <tr>\n",
       "      <th>SE Asia</th>\n",
       "      <td>2.366359e+06</td>\n",
       "      <td>8</td>\n",
       "      <td>8</td>\n",
       "    </tr>\n",
       "    <tr>\n",
       "      <th>South Asia</th>\n",
       "      <td>1.663440e+06</td>\n",
       "      <td>17</td>\n",
       "      <td>17</td>\n",
       "    </tr>\n",
       "    <tr>\n",
       "      <th>Sub-Saharan Africa</th>\n",
       "      <td>3.928709e+06</td>\n",
       "      <td>5</td>\n",
       "      <td>5</td>\n",
       "    </tr>\n",
       "  </tbody>\n",
       "</table>\n",
       "</div>"
      ],
      "text/plain": [
       "                                 CostUSDPerKm  NumberOfCosts  NumberOfLengths\n",
       "Australia and New Zealand        1.306846e+06             10               10\n",
       "East Asia                        1.445627e+06             54               54\n",
       "Eurasia                          2.933395e+06             41               41\n",
       "Europe                           2.476551e+06            111              111\n",
       "Latin America and the Caribbean  2.868906e+06             23               23\n",
       "Middle East and North Africa     2.223702e+06             35               35\n",
       "North America                    3.469280e+06            133              133\n",
       "SE Asia                          2.366359e+06              8                8\n",
       "South Asia                       1.663440e+06             17               17\n",
       "Sub-Saharan Africa               3.928709e+06              5                5"
      ]
     },
     "execution_count": 37,
     "metadata": {},
     "output_type": "execute_result"
    }
   ],
   "source": [
    "pipes_costs_region_df"
   ]
  },
  {
   "cell_type": "markdown",
   "id": "22cb04dc-3e08-43ec-8efd-51387768d17f",
   "metadata": {},
   "source": [
    "### calculate country-level costs using regional means"
   ]
  },
  {
   "cell_type": "code",
   "execution_count": 39,
   "id": "de2a5026-c06f-433a-bb29-423f1e2db904",
   "metadata": {},
   "outputs": [],
   "source": [
    "#country_list_for_costs = sorted(list(set(country_ratios_with_length_and_cost_df['Country'])))\n",
    "pipes_costs_country_df = pandas.DataFrame(0, index=country_list, columns=['CostUSDPerKm','NumberOfCosts','NumberOfLengths'])\n",
    "\n",
    "for country in country_list:#_for_costs:\n",
    "\n",
    "    country_ratios_specific_country_df = country_ratios_with_length_and_cost_df[country_ratios_with_length_and_cost_df['Country']==country]\n",
    "    pipes_costs_country_df.loc[country,'CostUSDPerKm'] = country_ratios_specific_country_df['CostUSDPerKm'].mean()\n",
    "    pipes_costs_country_df.loc[country,'NumberOfCosts'] = list(set(country_ratios_specific_country_df['ProjectID'])).__len__()\n",
    "    pipes_costs_country_df.loc[country,'NumberOfLengths'] = list(set(country_ratios_specific_country_df['ProjectID'])).__len__()\n",
    "    "
   ]
  },
  {
   "cell_type": "markdown",
   "id": "a99048f2-e80e-41a0-be0a-b40942963375",
   "metadata": {},
   "source": [
    "# tables etc."
   ]
  },
  {
   "cell_type": "markdown",
   "id": "f5242bbf-f1a7-4e90-9e91-90fbdb5bca2f",
   "metadata": {},
   "source": [
    "## table for regional totals"
   ]
  },
  {
   "cell_type": "code",
   "execution_count": 40,
   "id": "f804568d-5a95-490f-8245-d87042a15fee",
   "metadata": {},
   "outputs": [
    {
     "name": "stderr",
     "output_type": "stream",
     "text": [
      "/var/folders/h5/nfk59_vx7gg_58myc9jfk7_40000gn/T/ipykernel_69809/997741405.py:10: FutureWarning: The frame.append method is deprecated and will be removed from pandas in a future version. Use pandas.concat instead.\n",
      "  km_by_region_df = km_by_region_df.append(total)\n"
     ]
    },
    {
     "data": {
      "text/html": [
       "<div>\n",
       "<style scoped>\n",
       "    .dataframe tbody tr th:only-of-type {\n",
       "        vertical-align: middle;\n",
       "    }\n",
       "\n",
       "    .dataframe tbody tr th {\n",
       "        vertical-align: top;\n",
       "    }\n",
       "\n",
       "    .dataframe thead th {\n",
       "        text-align: right;\n",
       "    }\n",
       "</style>\n",
       "<table border=\"1\" class=\"dataframe\">\n",
       "  <thead>\n",
       "    <tr style=\"text-align: right;\">\n",
       "      <th></th>\n",
       "      <th>Proposed</th>\n",
       "      <th>Construction</th>\n",
       "      <th>Proposed+Construction</th>\n",
       "      <th>Shelved</th>\n",
       "      <th>Cancelled</th>\n",
       "      <th>Operating</th>\n",
       "      <th>Idle</th>\n",
       "      <th>Mothballed</th>\n",
       "      <th>Retired</th>\n",
       "    </tr>\n",
       "  </thead>\n",
       "  <tbody>\n",
       "    <tr>\n",
       "      <th>East Asia</th>\n",
       "      <td>31379.31</td>\n",
       "      <td>26378.73</td>\n",
       "      <td>57758.04</td>\n",
       "      <td>2067.66</td>\n",
       "      <td>1364.51</td>\n",
       "      <td>92288.71</td>\n",
       "      <td>0.0</td>\n",
       "      <td>0.00</td>\n",
       "      <td>41.00</td>\n",
       "    </tr>\n",
       "    <tr>\n",
       "      <th>Eurasia</th>\n",
       "      <td>18370.35</td>\n",
       "      <td>5153.09</td>\n",
       "      <td>23523.44</td>\n",
       "      <td>272.69</td>\n",
       "      <td>5756.89</td>\n",
       "      <td>129176.25</td>\n",
       "      <td>0.0</td>\n",
       "      <td>3298.31</td>\n",
       "      <td>1783.24</td>\n",
       "    </tr>\n",
       "    <tr>\n",
       "      <th>South Asia</th>\n",
       "      <td>4222.57</td>\n",
       "      <td>17113.79</td>\n",
       "      <td>21336.36</td>\n",
       "      <td>6344.41</td>\n",
       "      <td>6141.07</td>\n",
       "      <td>29701.06</td>\n",
       "      <td>0.0</td>\n",
       "      <td>0.00</td>\n",
       "      <td>35.00</td>\n",
       "    </tr>\n",
       "    <tr>\n",
       "      <th>Sub-Saharan Africa</th>\n",
       "      <td>18355.36</td>\n",
       "      <td>1582.00</td>\n",
       "      <td>19937.36</td>\n",
       "      <td>1626.16</td>\n",
       "      <td>228.96</td>\n",
       "      <td>7031.52</td>\n",
       "      <td>0.0</td>\n",
       "      <td>0.00</td>\n",
       "      <td>0.00</td>\n",
       "    </tr>\n",
       "    <tr>\n",
       "      <th>Europe</th>\n",
       "      <td>17145.97</td>\n",
       "      <td>2652.19</td>\n",
       "      <td>19798.16</td>\n",
       "      <td>4707.47</td>\n",
       "      <td>15267.44</td>\n",
       "      <td>121668.45</td>\n",
       "      <td>0.0</td>\n",
       "      <td>4735.18</td>\n",
       "      <td>823.06</td>\n",
       "    </tr>\n",
       "    <tr>\n",
       "      <th>Latin America and the Caribbean</th>\n",
       "      <td>12772.03</td>\n",
       "      <td>1304.00</td>\n",
       "      <td>14076.03</td>\n",
       "      <td>2187.28</td>\n",
       "      <td>1301.39</td>\n",
       "      <td>39254.35</td>\n",
       "      <td>0.0</td>\n",
       "      <td>224.00</td>\n",
       "      <td>0.00</td>\n",
       "    </tr>\n",
       "    <tr>\n",
       "      <th>Middle East and North Africa</th>\n",
       "      <td>6211.81</td>\n",
       "      <td>7773.20</td>\n",
       "      <td>13985.01</td>\n",
       "      <td>5964.34</td>\n",
       "      <td>4146.27</td>\n",
       "      <td>49700.91</td>\n",
       "      <td>0.0</td>\n",
       "      <td>1107.39</td>\n",
       "      <td>39.28</td>\n",
       "    </tr>\n",
       "    <tr>\n",
       "      <th>North America</th>\n",
       "      <td>10347.34</td>\n",
       "      <td>3087.20</td>\n",
       "      <td>13434.54</td>\n",
       "      <td>10919.39</td>\n",
       "      <td>13277.01</td>\n",
       "      <td>421015.95</td>\n",
       "      <td>331.0</td>\n",
       "      <td>0.00</td>\n",
       "      <td>0.00</td>\n",
       "    </tr>\n",
       "    <tr>\n",
       "      <th>Australia and New Zealand</th>\n",
       "      <td>12590.05</td>\n",
       "      <td>580.00</td>\n",
       "      <td>13170.05</td>\n",
       "      <td>334.28</td>\n",
       "      <td>6194.68</td>\n",
       "      <td>30991.82</td>\n",
       "      <td>0.0</td>\n",
       "      <td>0.00</td>\n",
       "      <td>0.00</td>\n",
       "    </tr>\n",
       "    <tr>\n",
       "      <th>SE Asia</th>\n",
       "      <td>9222.66</td>\n",
       "      <td>984.30</td>\n",
       "      <td>10206.96</td>\n",
       "      <td>2801.34</td>\n",
       "      <td>1423.82</td>\n",
       "      <td>16880.81</td>\n",
       "      <td>0.0</td>\n",
       "      <td>0.00</td>\n",
       "      <td>0.00</td>\n",
       "    </tr>\n",
       "    <tr>\n",
       "      <th>Total</th>\n",
       "      <td>140617.45</td>\n",
       "      <td>66608.50</td>\n",
       "      <td>207225.95</td>\n",
       "      <td>37225.02</td>\n",
       "      <td>55102.04</td>\n",
       "      <td>937709.83</td>\n",
       "      <td>331.0</td>\n",
       "      <td>9364.88</td>\n",
       "      <td>2721.58</td>\n",
       "    </tr>\n",
       "  </tbody>\n",
       "</table>\n",
       "</div>"
      ],
      "text/plain": [
       "                                  Proposed  Construction  \\\n",
       "East Asia                         31379.31      26378.73   \n",
       "Eurasia                           18370.35       5153.09   \n",
       "South Asia                         4222.57      17113.79   \n",
       "Sub-Saharan Africa                18355.36       1582.00   \n",
       "Europe                            17145.97       2652.19   \n",
       "Latin America and the Caribbean   12772.03       1304.00   \n",
       "Middle East and North Africa       6211.81       7773.20   \n",
       "North America                     10347.34       3087.20   \n",
       "Australia and New Zealand         12590.05        580.00   \n",
       "SE Asia                            9222.66        984.30   \n",
       "Total                            140617.45      66608.50   \n",
       "\n",
       "                                 Proposed+Construction   Shelved  Cancelled  \\\n",
       "East Asia                                     57758.04   2067.66    1364.51   \n",
       "Eurasia                                       23523.44    272.69    5756.89   \n",
       "South Asia                                    21336.36   6344.41    6141.07   \n",
       "Sub-Saharan Africa                            19937.36   1626.16     228.96   \n",
       "Europe                                        19798.16   4707.47   15267.44   \n",
       "Latin America and the Caribbean               14076.03   2187.28    1301.39   \n",
       "Middle East and North Africa                  13985.01   5964.34    4146.27   \n",
       "North America                                 13434.54  10919.39   13277.01   \n",
       "Australia and New Zealand                     13170.05    334.28    6194.68   \n",
       "SE Asia                                       10206.96   2801.34    1423.82   \n",
       "Total                                        207225.95  37225.02   55102.04   \n",
       "\n",
       "                                 Operating   Idle  Mothballed  Retired  \n",
       "East Asia                         92288.71    0.0        0.00    41.00  \n",
       "Eurasia                          129176.25    0.0     3298.31  1783.24  \n",
       "South Asia                        29701.06    0.0        0.00    35.00  \n",
       "Sub-Saharan Africa                 7031.52    0.0        0.00     0.00  \n",
       "Europe                           121668.45    0.0     4735.18   823.06  \n",
       "Latin America and the Caribbean   39254.35    0.0      224.00     0.00  \n",
       "Middle East and North Africa      49700.91    0.0     1107.39    39.28  \n",
       "North America                    421015.95  331.0        0.00     0.00  \n",
       "Australia and New Zealand         30991.82    0.0        0.00     0.00  \n",
       "SE Asia                           16880.81    0.0        0.00     0.00  \n",
       "Total                            937709.83  331.0     9364.88  2721.58  "
      ]
     },
     "execution_count": 40,
     "metadata": {},
     "output_type": "execute_result"
    }
   ],
   "source": [
    "if 'Total' in km_by_region_df.index:\n",
    "    km_by_region_df.drop(index='Total', inplace=True)   \n",
    "    total = km_by_region_df.sum(axis=0)\n",
    "    total.name='Total'\n",
    "    km_by_region_df = km_by_region_df.append(total)\n",
    "\n",
    "else:\n",
    "    total = km_by_region_df.sum(axis=0)\n",
    "    total.name='Total'\n",
    "    km_by_region_df = km_by_region_df.append(total)\n",
    "\n",
    "km_by_region_df"
   ]
  },
  {
   "cell_type": "markdown",
   "id": "79570a43-7f2f-44cb-8a79-6029e80d0c65",
   "metadata": {},
   "source": [
    "## table for km by country"
   ]
  },
  {
   "cell_type": "code",
   "execution_count": 41,
   "id": "b42d6a47-d1a5-4a4b-acf8-7ec5f0fcc36e",
   "metadata": {},
   "outputs": [
    {
     "name": "stderr",
     "output_type": "stream",
     "text": [
      "/var/folders/h5/nfk59_vx7gg_58myc9jfk7_40000gn/T/ipykernel_69809/3175616226.py:14: FutureWarning: The frame.append method is deprecated and will be removed from pandas in a future version. Use pandas.concat instead.\n",
      "  km_by_country_df = km_by_country_df.append(total)\n"
     ]
    }
   ],
   "source": [
    "# saves all countries to an Excel file for reference\n",
    "\n",
    "km_by_country_df.sort_values('Proposed+Construction', ascending=False, inplace=True)\n",
    "\n",
    "if 'Total' in km_by_country_df.index:\n",
    "    km_by_country_df.drop(index='Total', inplace=True)   \n",
    "    total = km_by_country_df.sum(axis=0)\n",
    "    total.name='Total'\n",
    "    km_by_country_df = km_by_country_df.append(total)\n",
    "\n",
    "else:\n",
    "    total = km_by_country_df.sum(axis=0)\n",
    "    total.name='Total'\n",
    "    km_by_country_df = km_by_country_df.append(total)\n",
    "\n",
    "#km_by_country_df.to_excel('GGIT-km-by-country.xlsx')"
   ]
  },
  {
   "cell_type": "markdown",
   "id": "44145d01-f597-498d-889a-73173abc7ef2",
   "metadata": {},
   "source": [
    "# table for stranded asset calculations"
   ]
  },
  {
   "cell_type": "markdown",
   "id": "c009d10e-36da-4eb8-8e46-3164731bdb7d",
   "metadata": {},
   "source": [
    "## country-level capex estimates"
   ]
  },
  {
   "cell_type": "code",
   "execution_count": 43,
   "id": "b0edb61c-12f3-4886-8131-586ad36e46dd",
   "metadata": {},
   "outputs": [],
   "source": [
    "country_ratios_gas_df = country_ratios_df.loc[country_ratios_df['Fuel']=='Gas']\n",
    "country_ratios_gas_df = country_ratios_gas_df.reset_index(drop=True)\n",
    "country_ratios_gas_df.loc[:,'CostUSDEstimate'] = numpy.nan\n",
    "\n",
    "for idx,row in country_ratios_gas_df.iterrows():\n",
    "    # only add the km that DON'T have cost data\n",
    "    #if numpy.isnan(row.CostUSDPerKm):\n",
    "    #    break\n",
    "    # calculate cost\n",
    "    cntry = row.Country\n",
    "    region = row.Region\n",
    "    km_by_cntry = row.MergedKmByCountry\n",
    "    #print(row.PipelineName)\n",
    "    country_ratios_gas_df.loc[idx,'CostUSDEstimate'] = pipes_costs_region_df.loc[region, 'CostUSDPerKm'] * km_by_cntry\n",
    "\n",
    "# replace any known costs now\n",
    "country_ratios_gas_df.loc[(~country_ratios_gas_df.LengthKnownKm.isna())&\n",
    "                      (~country_ratios_gas_df.CostUSD.isna()),'CostUSDEstimate'] = \\\n",
    "country_ratios_gas_df.loc[(~country_ratios_gas_df.LengthKnownKm.isna())&\n",
    "                      (~country_ratios_gas_df.CostUSD.isna()),'LengthKnownKmByCountry'] * \\\n",
    "country_ratios_gas_df.loc[(~country_ratios_gas_df.LengthKnownKm.isna())&\n",
    "                      (~country_ratios_gas_df.CostUSD.isna()),'CostUSDPerKm']\n",
    "\n",
    "country_sums_USDBillion_df = pandas.DataFrame(country_ratios_gas_df.loc[(country_ratios_gas_df.Status.isin(['Construction','Proposed']))].groupby('Country')['CostUSDEstimate'].sum(min_count=1)/1e9)"
   ]
  },
  {
   "cell_type": "code",
   "execution_count": 44,
   "id": "95829118-8241-44fa-941e-db867f4e7ad1",
   "metadata": {},
   "outputs": [
    {
     "name": "stdout",
     "output_type": "stream",
     "text": [
      "===country-level calculations===\n",
      "Proposed\n",
      "Construction\n",
      "Shelved\n",
      "Cancelled\n",
      "Operating\n",
      "Idle\n",
      "Mothballed\n",
      "Retired\n",
      "===regional calculations===\n",
      "Proposed\n",
      "Construction\n",
      "Shelved\n",
      "Cancelled\n",
      "Operating\n",
      "Idle\n",
      "Mothballed\n",
      "Retired\n"
     ]
    }
   ],
   "source": [
    "capex_by_country_df = pandas.DataFrame(columns=status_list, index=country_list)\n",
    "capex_by_region_df = pandas.DataFrame(columns=status_list, index=region_list)\n",
    "\n",
    "print('===country-level calculations===')\n",
    "for status in status_list:\n",
    "    print(status)\n",
    "    country_ratios_gas_df_status = country_ratios_gas_df.loc[country_ratios_gas_df.Status==status]\n",
    "    capex_by_country_df[status] = country_ratios_gas_df_status.groupby('Country')['CostUSDEstimate'].sum(min_count=1)/1e9\n",
    "\n",
    "print('===regional calculations===')\n",
    "for status in status_list:\n",
    "    print(status)\n",
    "    country_ratios_gas_df_status = country_ratios_gas_df.loc[country_ratios_gas_df.Status==status]\n",
    "    capex_by_region_df[status] = country_ratios_gas_df_status.groupby('Region')['CostUSDEstimate'].sum()/1e9\n",
    "\n",
    "# # fill NaN with 0.0\n",
    "capex_by_region_df = capex_by_region_df.fillna(0)\n",
    "capex_by_country_df = capex_by_country_df.fillna(0)"
   ]
  },
  {
   "cell_type": "code",
   "execution_count": 45,
   "id": "46a37257-f3c7-40f8-a2b7-51318878c296",
   "metadata": {},
   "outputs": [],
   "source": [
    "capex_by_region_df['Proposed+Construction'] = capex_by_region_df[['Proposed','Construction']].sum(axis=1)\n",
    "#capex_by_region_df.sort_values(by='Proposed+Construction', inplace=True)\n",
    "capex_by_region_df = capex_by_region_df[['Proposed', 'Construction', 'Proposed+Construction', 'Shelved', 'Cancelled', 'Operating', 'Idle', 'Mothballed', 'Retired']]\n",
    "capex_by_region_df.sort_values('Proposed+Construction', ascending=False, inplace=True)"
   ]
  },
  {
   "cell_type": "code",
   "execution_count": 46,
   "id": "cc733300-291f-497e-a686-e2499fa85713",
   "metadata": {},
   "outputs": [],
   "source": [
    "capex_by_country_df['Proposed+Construction'] = capex_by_country_df[['Proposed','Construction']].sum(axis=1)\n",
    "#capex_by_country_df.sort_values(by='Proposed+Construction', inplace=True)\n",
    "capex_by_country_df = capex_by_country_df[['Proposed', 'Construction', 'Proposed+Construction', 'Shelved', 'Cancelled', 'Operating', 'Idle', 'Mothballed', 'Retired']]\n",
    "capex_by_country_df.sort_values('Proposed+Construction', ascending=False, inplace=True)"
   ]
  },
  {
   "cell_type": "code",
   "execution_count": 47,
   "id": "3aa67877-cd6a-4867-afa2-aabc5eefabe3",
   "metadata": {},
   "outputs": [
    {
     "data": {
      "text/plain": [
       "Proposed                 140617.45\n",
       "Construction              66608.50\n",
       "Proposed+Construction    207225.95\n",
       "Shelved                   37225.02\n",
       "Cancelled                 55102.04\n",
       "Operating                937709.83\n",
       "Idle                        331.00\n",
       "Mothballed                 9364.88\n",
       "Retired                    2721.58\n",
       "Name: Total, dtype: float64"
      ]
     },
     "execution_count": 47,
     "metadata": {},
     "output_type": "execute_result"
    }
   ],
   "source": [
    "total"
   ]
  },
  {
   "cell_type": "code",
   "execution_count": 48,
   "id": "fe3d3070-5264-4535-9257-abbd7419c0ad",
   "metadata": {},
   "outputs": [],
   "source": [
    "if 'Total' in capex_by_region_df.index:\n",
    "    capex_by_region_df.drop(index='Total', inplace=True)   \n",
    "    total = capex_by_region_df.sum(axis=0)\n",
    "    #total.name='Total'\n",
    "    capex_by_region_df.loc['Total'] = total\n",
    "\n",
    "else:\n",
    "    total = capex_by_region_df.sum(axis=0)\n",
    "    #total.name='Total'\n",
    "    capex_by_region_df.loc['Total'] = total"
   ]
  },
  {
   "cell_type": "code",
   "execution_count": 49,
   "id": "1472a37f-8e4f-4e29-8a23-95bc1c4c3e36",
   "metadata": {},
   "outputs": [],
   "source": [
    "if 'Total' in capex_by_country_df.index:\n",
    "    capex_by_country_df.drop(index='Total', inplace=True)   \n",
    "    total = capex_by_country_df.sum(axis=0)\n",
    "    #total.name='Total'\n",
    "    capex_by_country_df.loc['Total'] = total\n",
    "\n",
    "else:\n",
    "    total = capex_by_country_df.sum(axis=0)\n",
    "    #total.name='Total'\n",
    "    capex_by_country_df.loc['Total'] = total"
   ]
  },
  {
   "cell_type": "markdown",
   "id": "7dc91d47-46f3-42cd-9c92-65783047eed3",
   "metadata": {},
   "source": [
    "### save capex and km by country to Excel files"
   ]
  },
  {
   "cell_type": "code",
   "execution_count": 51,
   "id": "d1e21998-e204-4b64-8ed4-89dfe334c47d",
   "metadata": {},
   "outputs": [],
   "source": [
    "capex_by_country_df.to_excel('cost-by-country-pipelines.xlsx')\n",
    "km_by_country_df.to_excel('km-by-country-pipelines.xlsx')"
   ]
  }
 ],
 "metadata": {
  "kernelspec": {
   "display_name": "gem",
   "language": "python",
   "name": "gem"
  },
  "language_info": {
   "codemirror_mode": {
    "name": "ipython",
    "version": 3
   },
   "file_extension": ".py",
   "mimetype": "text/x-python",
   "name": "python",
   "nbconvert_exporter": "python",
   "pygments_lexer": "ipython3",
   "version": "3.9.9"
  }
 },
 "nbformat": 4,
 "nbformat_minor": 5
}
