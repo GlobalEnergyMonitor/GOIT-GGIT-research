{
 "cells": [
  {
   "cell_type": "code",
   "execution_count": 609,
   "id": "3b38c4c2",
   "metadata": {
    "tags": []
   },
   "outputs": [],
   "source": [
    "import pandas\n",
    "\n",
    "import pygsheets\n",
    "import numpy\n",
    "import scipy\n",
    "import re\n",
    "\n",
    "import matplotlib\n",
    "import matplotlib.pyplot as mp\n",
    "import matplotlib.cm\n",
    "import matplotlib.patheffects # for adding borders around text\n",
    "\n",
    "import textwrap\n",
    "import seaborn\n",
    "import squarify\n",
    "\n",
    "#import ttf_opensans"
   ]
  },
  {
   "cell_type": "code",
   "execution_count": 28,
   "id": "cb6748fe-d1ce-4346-ae45-81ef20d9734a",
   "metadata": {},
   "outputs": [],
   "source": [
    "# set open sans as default font\n",
    "mp.rcParams['font.family'] = 'Open Sans'"
   ]
  },
  {
   "cell_type": "markdown",
   "id": "a5c07f02-7875-48f8-8cb8-1eaea196cbb0",
   "metadata": {},
   "source": [
    "# gemplot variables"
   ]
  },
  {
   "cell_type": "code",
   "execution_count": 29,
   "id": "f2ec67a3-2971-4fc2-bf58-d671d791c983",
   "metadata": {},
   "outputs": [],
   "source": [
    "footer_color = \"#222222\"\n",
    "footer_lineheight = 1.2\n",
    "footer_fontsize = 14\n",
    "\n",
    "# default height of a figure is 450 pixels\n",
    "\n",
    "# gemstyle does this:\n",
    "# specify a base_ratio, then set base_size = base_ratio*16\n",
    "# 1. add 6 line margin all the way around\n",
    "# 2. color of title is \"#222222\", margin 6666, size=base_size*1.5, lineheight=1.35, bold font\n",
    "# 3. color of subtitle is \"#333333\", margin 0666, padding top=12, bottom=12, size=base_size*1.15, lineheight=1.45\n",
    "# 4. set caption info as linehight=1.2, size=base_size*0.875, color=\"#222222\", margin=18,6,6,6\n",
    "\n",
    "base_ratio = 1.0\n",
    "base_size = base_ratio * 16\n",
    "color_title = \"#222222\"\n",
    "color_subtitle = \"#333333\"\n",
    "color_grid = \"#cbcbcb\"\n",
    "\n",
    "text_weight_normal = 400\n",
    "text_weight_bold = 700\n",
    "\n",
    "# save fig\n",
    "#' @keywords save_gem_plot\n",
    "#' @examples\n",
    "#' save_gem_plot(\n",
    "#' plot_grid = line_plot_with_gem_footer,\n",
    "#' save_filepath = \"filename_that_my_plot_should_be_saved_to-nc.png\",\n",
    "#' width_pixels = 770,\n",
    "#' height_pixels = 540,\n",
    "#' resolution = 4\n",
    "#' )\n",
    "#'\n",
    "#' @export\n",
    "# save plot function - now separated from finalise_plot function and setting the resolution as part of the arguments\n",
    "# save_gem_plot <- function (plot_grid, save_filepath, width_pixels = 640, height_pixels = 450, resolution = 3) {\n",
    "#   grid::grid.draw(plot_grid)\n",
    "\n",
    "#   #save it\n",
    "#   ggplot2::ggsave(plot=plot_grid,\n",
    "#                   width= (width_pixels/72),\n",
    "#                   height= (height_pixels/72),\n",
    "#                   dpi = resolution * 100,\n",
    "#                   filename = save_filepath,\n",
    "#                   bg=\"white\")\n",
    "# }\n",
    "\n",
    "#width_pixels = 640 # default\n",
    "#height_pixels = 450 # default"
   ]
  },
  {
   "cell_type": "markdown",
   "id": "28d79664-a683-49e9-a117-fed730f6b0b7",
   "metadata": {},
   "source": [
    "## define colors used in bars"
   ]
  },
  {
   "cell_type": "code",
   "execution_count": 30,
   "id": "c7a2b377-3968-4c9f-a5fa-6f1dcb621dea",
   "metadata": {
    "tags": []
   },
   "outputs": [
    {
     "name": "stderr",
     "output_type": "stream",
     "text": [
      "/var/folders/fl/t07mc8053p33mn6mdmvp45580000gn/T/ipykernel_35322/1445812906.py:1: MatplotlibDeprecationWarning: The get_cmap function was deprecated in Matplotlib 3.7 and will be removed two minor releases later. Use ``matplotlib.colormaps[name]`` or ``matplotlib.colormaps.get_cmap(obj)`` instead.\n",
      "  sel_cmap = matplotlib.cm.get_cmap('Reds')\n"
     ]
    }
   ],
   "source": [
    "sel_cmap = matplotlib.cm.get_cmap('Reds')\n",
    "tracker_operating = sel_cmap(0.999)\n",
    "tracker_construction = sel_cmap(0.8)\n",
    "tracker_proposed = sel_cmap(0.6)\n",
    "tracker_shelved = sel_cmap(0.4)\n",
    "tracker_cancelled = sel_cmap(0.2)"
   ]
  },
  {
   "cell_type": "markdown",
   "id": "c5e51996-e86d-4e84-81b9-adfed4434b8b",
   "metadata": {},
   "source": [
    "# import data directly from google sheets"
   ]
  },
  {
   "cell_type": "code",
   "execution_count": 31,
   "id": "029bc7eb-d141-4e01-a747-e0b5b03f1f53",
   "metadata": {
    "tags": []
   },
   "outputs": [],
   "source": [
    "gc = pygsheets.authorize(service_account_env_var='GDRIVE_API_CREDENTIALS')\n",
    "spreadsheet = gc.open_by_key('1foPLE6K-uqFlaYgLPAUxzeXfDO5wOOqE7tibNHeqTek')\n",
    "\n",
    "gas_pipes = spreadsheet.worksheet('title','Gas pipelines').get_as_df(start='A2')\n",
    "oil_pipes = spreadsheet.worksheet('title', 'Oil/NGL pipelines').get_as_df(start='A2')\n",
    "\n",
    "pipes_df_orig = pandas.concat([gas_pipes, oil_pipes], ignore_index=True)\n",
    "\n",
    "#get country ratios sheet\n",
    "country_ratios_df = spreadsheet.worksheet('title', 'Country ratios by pipeline').get_as_df()\n",
    "region_df_orig = spreadsheet.worksheet('title', 'Country dictionary').get_as_df(start='A2')"
   ]
  },
  {
   "cell_type": "code",
   "execution_count": 32,
   "id": "2aed6720-4918-47bd-a9fd-c77d41d22b53",
   "metadata": {
    "tags": []
   },
   "outputs": [],
   "source": [
    "owners_df_orig = spreadsheet.worksheet('title', 'Pipeline operators/owners (1/3)').get_as_df(start='A2')\n",
    "owners_df_orig = owners_df_orig.loc[owners_df_orig.ProjectID!='']\n",
    "owners_df_orig = owners_df_orig.loc[owners_df_orig.Wiki!='']\n",
    "owners_df = owners_df_orig.replace('',numpy.nan)\n",
    "\n",
    "owner_parent_links_df = spreadsheet.worksheet('title', 'Owner–parent relationships (2/3)').get_as_df(start='A2')\n",
    "# only keep the owners with a checked relationship\n",
    "owner_parent_links_df = owner_parent_links_df.loc[owner_parent_links_df['Parent–Owner Relationship Checked?']=='yes']\n",
    "owner_parent_links_df.replace('',numpy.nan,inplace=True)\n",
    "\n",
    "parents_df = spreadsheet.worksheet('title', 'Parent metadata (3/3)').get_as_df(start='A2')\n",
    "parents_df = parents_df.loc[parents_df.Parent!='']\n",
    "\n",
    "owners_df.set_index('ProjectID', inplace=True)\n",
    "owner_parent_links_df.set_index('Owner', inplace=True)\n",
    "parents_df.set_index('Parent', inplace=True)\n",
    "\n",
    "# ****************************************\n",
    "\n",
    "## create list of owner and parent column names\n",
    "owner_pct_col_names = []\n",
    "owner_col_names = []\n",
    "\n",
    "parent_pct_col_names = []\n",
    "parent_col_names = []\n",
    "\n",
    "for num in range(1,11+1):\n",
    "    owner_pct_col = f'Owner{num}%'\n",
    "    owner_pct_col_names.append(owner_pct_col)\n",
    "    \n",
    "    owner_col = f'Owner{num}'\n",
    "    owner_col_names.append(owner_col)\n",
    "    \n",
    "    parent_pct_col = f'Parent{num}%'\n",
    "    parent_pct_col_names.append(parent_pct_col)\n",
    "    \n",
    "    parent_col = f'Parent{num}'\n",
    "    parent_col_names.append(parent_col)\n",
    "\n",
    "# ****************************************\n",
    "## fill in missing parent info by borrowing owner info\n",
    "owners_FULL_set = owners_df[owner_col_names].stack().dropna().unique().tolist() # from owners_df\n",
    "owners_researched_set = list(set(owner_parent_links_df.index.to_list()))#+['Unknown'] # only existing owners, plus 'Unknown'\n",
    "owners_diff = list(set(owners_FULL_set)-set(owners_researched_set))\n",
    "owners_diff.append('Unknown')\n",
    "\n",
    "# update owner_parent_links_df with these extra owners\n",
    "owner_parent_links_df = pandas.concat([owner_parent_links_df, pandas.DataFrame(index=owners_diff, columns=owner_parent_links_df.columns)])\n",
    "owner_parent_links_df['Parent1'].loc[owners_diff] = owners_diff\n",
    "owner_parent_links_df['Parent1%'].loc[owners_diff] = '100.00%'\n",
    "\n",
    "# ****************************************\n",
    "# update parents_df with these as well\n",
    "# note countries will be unknkown...\n",
    "parents_set = list(set(parents_df.index.to_list()))\n",
    "parents_diff = list(set(owners_diff)-set(parents_set))\n",
    "parents_diff.append('Unknown')\n",
    "parents_df = pandas.concat([parents_df, pandas.DataFrame(numpy.nan, index=parents_diff, columns=parents_df.columns)])\n",
    "parents_df.loc[parents_diff,'ParentHQCountry'] = 'Unknown'"
   ]
  },
  {
   "cell_type": "code",
   "execution_count": 33,
   "id": "f44726dd-8c86-4134-89a0-146a9bef35ca",
   "metadata": {},
   "outputs": [],
   "source": [
    "status_list = ['Proposed', \n",
    "               'Construction', \n",
    "               'Shelved', \n",
    "               'Cancelled', \n",
    "               'Operating', \n",
    "               'Idle', \n",
    "               'Mothballed', \n",
    "               'Retired']\n",
    "country_list = sorted(set(region_df_orig['Country'].tolist()))\n",
    "region_list = sorted(set(region_df_orig['Region'].tolist()))\n",
    "if '--' in region_list:\n",
    "    region_list.remove('--')\n",
    "subregion_list = sorted(set(region_df_orig['SubRegion'].tolist()))\n",
    "if '--' in subregion_list:\n",
    "    subregion_list.remove('--')\n",
    "\n",
    "#country_list = sorted(list(set(terms_df_orig['Country'])))\n",
    "#region_list = sorted(list(set(terms_df_orig['Region'])))"
   ]
  },
  {
   "cell_type": "markdown",
   "id": "c03ad170",
   "metadata": {},
   "source": [
    "## replace \"--\" with NaN, removing empty rows\n",
    "\n",
    "the dataset is structured to have -- wherever there's a lookup value that doesn't exist; replacing it with NaN (numpy.nan) allows pandas to treat it as a null value, which makes calculations much easier"
   ]
  },
  {
   "cell_type": "code",
   "execution_count": 34,
   "id": "53a9af81",
   "metadata": {
    "tags": []
   },
   "outputs": [],
   "source": [
    "# replace -- entries with NaN\n",
    "pipes_df_orig = pipes_df_orig.replace('--', numpy.nan)\n",
    "pipes_df_orig = pipes_df_orig[pipes_df_orig['PipelineName']!='']\n",
    "\n",
    "missing_wiki_projectids = pipes_df_orig.loc[pipes_df_orig.Wiki==''].ProjectID.tolist()\n",
    "pipes_df_orig = pipes_df_orig[pipes_df_orig['Wiki']!='']\n",
    "\n",
    "country_ratios_df.replace('--', numpy.nan, inplace=True)\n",
    "country_ratios_df = country_ratios_df.loc[~country_ratios_df.ProjectID.isin(missing_wiki_projectids)]"
   ]
  },
  {
   "cell_type": "markdown",
   "id": "a28ad2a3",
   "metadata": {},
   "source": [
    "# km by country, km by region calculations"
   ]
  },
  {
   "cell_type": "code",
   "execution_count": 35,
   "id": "6fc4e3ca-fa64-4b7f-934c-1612663a07b2",
   "metadata": {},
   "outputs": [
    {
     "data": {
      "text/plain": [
       "['Africa', 'Americas', 'Asia', 'Europe', 'Oceania']"
      ]
     },
     "execution_count": 35,
     "metadata": {},
     "output_type": "execute_result"
    }
   ],
   "source": [
    "region_list"
   ]
  },
  {
   "cell_type": "code",
   "execution_count": 36,
   "id": "7b8c818b-c402-4efb-8843-9b2ccb7c3de9",
   "metadata": {},
   "outputs": [
    {
     "data": {
      "text/plain": [
       "['Australia and New Zealand',\n",
       " 'Central Asia',\n",
       " 'Eastern Asia',\n",
       " 'Eastern Europe',\n",
       " 'Latin America and the Caribbean',\n",
       " 'Melanesia',\n",
       " 'Micronesia',\n",
       " 'Northern Africa',\n",
       " 'Northern America',\n",
       " 'Northern Europe',\n",
       " 'Polynesia',\n",
       " 'South-eastern Asia',\n",
       " 'Southern Asia',\n",
       " 'Southern Europe',\n",
       " 'Sub-Saharan Africa',\n",
       " 'Western Asia',\n",
       " 'Western Europe']"
      ]
     },
     "execution_count": 36,
     "metadata": {},
     "output_type": "execute_result"
    }
   ],
   "source": [
    "subregion_list"
   ]
  },
  {
   "cell_type": "code",
   "execution_count": 37,
   "id": "c58c4ebc-21ef-4657-9531-084f6dbd66b2",
   "metadata": {},
   "outputs": [
    {
     "data": {
      "text/plain": [
       "{'Sub-Saharan Africa': 'Africa',\n",
       " 'Northern Africa': 'Africa',\n",
       " 'Latin America and the Caribbean': 'Americas',\n",
       " 'Northern America': 'Americas',\n",
       " 'Southern Asia': 'Asia',\n",
       " 'Western Asia': 'Asia',\n",
       " 'South-eastern Asia': 'Asia',\n",
       " 'Eastern Asia': 'Asia',\n",
       " 'Central Asia': 'Asia',\n",
       " 'Northern Europe': 'Europe',\n",
       " 'Southern Europe': 'Europe',\n",
       " 'Western Europe': 'Europe',\n",
       " 'Eastern Europe': 'Europe',\n",
       " 'Polynesia': 'Oceania',\n",
       " 'Australia and New Zealand': 'Oceania',\n",
       " 'Melanesia': 'Oceania',\n",
       " 'Micronesia': 'Oceania',\n",
       " '--': '--'}"
      ]
     },
     "execution_count": 37,
     "metadata": {},
     "output_type": "execute_result"
    }
   ],
   "source": [
    "dict_subregion_region = pandas.Series(region_df_orig.Region.values, index=region_df_orig.SubRegion).to_dict()\n",
    "dict_subregion_region"
   ]
  },
  {
   "cell_type": "code",
   "execution_count": 38,
   "id": "d36a7dd0-472f-4c9f-99f7-59ffec7a8a4a",
   "metadata": {},
   "outputs": [],
   "source": [
    "region_df_orig_cleaned = region_df_orig.loc[(region_df_orig.Region!='--')&\n",
    "                                            (region_df_orig.SubRegion!='--')]\n",
    "multiindex_region_subregion = region_df_orig_cleaned.groupby(['Region','SubRegion'])['Country'].count().index\n",
    "multiindex_region_subregion_country = region_df_orig_cleaned.groupby(['Region','SubRegion','Country'])['Country'].count().index"
   ]
  },
  {
   "cell_type": "code",
   "execution_count": 39,
   "id": "0f861f96",
   "metadata": {
    "tags": []
   },
   "outputs": [
    {
     "name": "stdout",
     "output_type": "stream",
     "text": [
      "===country-level calculations===\n",
      "Proposed\n",
      "Construction\n",
      "Shelved\n",
      "Cancelled\n",
      "Operating\n",
      "Idle\n",
      "Mothballed\n",
      "Retired\n"
     ]
    },
    {
     "data": {
      "text/html": [
       "<div>\n",
       "<style scoped>\n",
       "    .dataframe tbody tr th:only-of-type {\n",
       "        vertical-align: middle;\n",
       "    }\n",
       "\n",
       "    .dataframe tbody tr th {\n",
       "        vertical-align: top;\n",
       "    }\n",
       "\n",
       "    .dataframe thead th {\n",
       "        text-align: right;\n",
       "    }\n",
       "</style>\n",
       "<table border=\"1\" class=\"dataframe\">\n",
       "  <thead>\n",
       "    <tr style=\"text-align: right;\">\n",
       "      <th></th>\n",
       "      <th></th>\n",
       "      <th>Proposed</th>\n",
       "      <th>Construction</th>\n",
       "      <th>Proposed+Construction</th>\n",
       "      <th>Shelved</th>\n",
       "      <th>Cancelled</th>\n",
       "      <th>Operating</th>\n",
       "      <th>Idle</th>\n",
       "      <th>Mothballed</th>\n",
       "      <th>Retired</th>\n",
       "    </tr>\n",
       "    <tr>\n",
       "      <th>Region</th>\n",
       "      <th>Subregion</th>\n",
       "      <th></th>\n",
       "      <th></th>\n",
       "      <th></th>\n",
       "      <th></th>\n",
       "      <th></th>\n",
       "      <th></th>\n",
       "      <th></th>\n",
       "      <th></th>\n",
       "      <th></th>\n",
       "    </tr>\n",
       "  </thead>\n",
       "  <tbody>\n",
       "    <tr>\n",
       "      <th rowspan=\"2\" valign=\"top\">Africa</th>\n",
       "      <th>Northern Africa</th>\n",
       "      <td>4072.7</td>\n",
       "      <td>187.93</td>\n",
       "      <td>4260.63</td>\n",
       "      <td>172.21</td>\n",
       "      <td>589.0</td>\n",
       "      <td>24859.7</td>\n",
       "      <td></td>\n",
       "      <td>1107.39</td>\n",
       "      <td></td>\n",
       "    </tr>\n",
       "    <tr>\n",
       "      <th>Sub-Saharan Africa</th>\n",
       "      <td>18561.8</td>\n",
       "      <td>1582.0</td>\n",
       "      <td>20143.8</td>\n",
       "      <td>1319.72</td>\n",
       "      <td>228.96</td>\n",
       "      <td>7141.52</td>\n",
       "      <td></td>\n",
       "      <td></td>\n",
       "      <td></td>\n",
       "    </tr>\n",
       "    <tr>\n",
       "      <th rowspan=\"2\" valign=\"top\">Americas</th>\n",
       "      <th>Latin America and the Caribbean</th>\n",
       "      <td>17090.97</td>\n",
       "      <td>2170.0</td>\n",
       "      <td>19260.97</td>\n",
       "      <td>3097.05</td>\n",
       "      <td>2344.66</td>\n",
       "      <td>59836.28</td>\n",
       "      <td>331.0</td>\n",
       "      <td>224.0</td>\n",
       "      <td></td>\n",
       "    </tr>\n",
       "    <tr>\n",
       "      <th>Northern America</th>\n",
       "      <td>8571.63</td>\n",
       "      <td>2515.84</td>\n",
       "      <td>11087.47</td>\n",
       "      <td>3456.39</td>\n",
       "      <td>20654.81</td>\n",
       "      <td>401851.87</td>\n",
       "      <td>50.0</td>\n",
       "      <td></td>\n",
       "      <td></td>\n",
       "    </tr>\n",
       "    <tr>\n",
       "      <th rowspan=\"5\" valign=\"top\">Asia</th>\n",
       "      <th>Central Asia</th>\n",
       "      <td>3867.22</td>\n",
       "      <td>1604.33</td>\n",
       "      <td>5471.55</td>\n",
       "      <td></td>\n",
       "      <td>2590.59</td>\n",
       "      <td>29099.49</td>\n",
       "      <td></td>\n",
       "      <td>531.59</td>\n",
       "      <td></td>\n",
       "    </tr>\n",
       "    <tr>\n",
       "      <th>Eastern Asia</th>\n",
       "      <td>37446.81</td>\n",
       "      <td>30365.16</td>\n",
       "      <td>67811.97</td>\n",
       "      <td>1784.07</td>\n",
       "      <td>2827.38</td>\n",
       "      <td>127567.05</td>\n",
       "      <td></td>\n",
       "      <td></td>\n",
       "      <td>155.4</td>\n",
       "    </tr>\n",
       "    <tr>\n",
       "      <th>South-eastern Asia</th>\n",
       "      <td>8849.03</td>\n",
       "      <td>1087.3</td>\n",
       "      <td>9936.33</td>\n",
       "      <td>2712.41</td>\n",
       "      <td>1329.0</td>\n",
       "      <td>17665.11</td>\n",
       "      <td></td>\n",
       "      <td></td>\n",
       "      <td></td>\n",
       "    </tr>\n",
       "    <tr>\n",
       "      <th>Southern Asia</th>\n",
       "      <td>12731.61</td>\n",
       "      <td>22425.64</td>\n",
       "      <td>35157.25</td>\n",
       "      <td>1752.0</td>\n",
       "      <td>10509.97</td>\n",
       "      <td>39861.3</td>\n",
       "      <td></td>\n",
       "      <td></td>\n",
       "      <td>35.0</td>\n",
       "    </tr>\n",
       "    <tr>\n",
       "      <th>Western Asia</th>\n",
       "      <td>6015.84</td>\n",
       "      <td>2153.52</td>\n",
       "      <td>8169.36</td>\n",
       "      <td>1845.76</td>\n",
       "      <td>9827.63</td>\n",
       "      <td>36466.83</td>\n",
       "      <td></td>\n",
       "      <td>842.0</td>\n",
       "      <td>39.28</td>\n",
       "    </tr>\n",
       "    <tr>\n",
       "      <th rowspan=\"4\" valign=\"top\">Europe</th>\n",
       "      <th>Eastern Europe</th>\n",
       "      <td>21303.58</td>\n",
       "      <td>3830.21</td>\n",
       "      <td>25133.79</td>\n",
       "      <td>4553.92</td>\n",
       "      <td>8475.95</td>\n",
       "      <td>141231.72</td>\n",
       "      <td>1651.65</td>\n",
       "      <td>2777.23</td>\n",
       "      <td>2618.0</td>\n",
       "    </tr>\n",
       "    <tr>\n",
       "      <th>Northern Europe</th>\n",
       "      <td>1111.49</td>\n",
       "      <td>1.2</td>\n",
       "      <td>1112.69</td>\n",
       "      <td>1000.0</td>\n",
       "      <td>1003.77</td>\n",
       "      <td>25588.17</td>\n",
       "      <td></td>\n",
       "      <td>2033.45</td>\n",
       "      <td>564.27</td>\n",
       "    </tr>\n",
       "    <tr>\n",
       "      <th>Southern Europe</th>\n",
       "      <td>8526.75</td>\n",
       "      <td>1656.29</td>\n",
       "      <td>10183.04</td>\n",
       "      <td>764.54</td>\n",
       "      <td>4436.09</td>\n",
       "      <td>27759.83</td>\n",
       "      <td></td>\n",
       "      <td>242.61</td>\n",
       "      <td></td>\n",
       "    </tr>\n",
       "    <tr>\n",
       "      <th>Western Europe</th>\n",
       "      <td>708.3</td>\n",
       "      <td>82.0</td>\n",
       "      <td>790.3</td>\n",
       "      <td>69.25</td>\n",
       "      <td>2138.2</td>\n",
       "      <td>28610.48</td>\n",
       "      <td>8.35</td>\n",
       "      <td>171.81</td>\n",
       "      <td></td>\n",
       "    </tr>\n",
       "    <tr>\n",
       "      <th rowspan=\"4\" valign=\"top\">Oceania</th>\n",
       "      <th>Australia and New Zealand</th>\n",
       "      <td>9856.64</td>\n",
       "      <td>4.3</td>\n",
       "      <td>9860.94</td>\n",
       "      <td>3726.22</td>\n",
       "      <td>7214.68</td>\n",
       "      <td>32038.31</td>\n",
       "      <td></td>\n",
       "      <td></td>\n",
       "      <td></td>\n",
       "    </tr>\n",
       "    <tr>\n",
       "      <th>Melanesia</th>\n",
       "      <td>320.0</td>\n",
       "      <td></td>\n",
       "      <td>320.0</td>\n",
       "      <td>400.0</td>\n",
       "      <td>300.82</td>\n",
       "      <td>716.0</td>\n",
       "      <td></td>\n",
       "      <td></td>\n",
       "      <td></td>\n",
       "    </tr>\n",
       "    <tr>\n",
       "      <th>Micronesia</th>\n",
       "      <td></td>\n",
       "      <td></td>\n",
       "      <td></td>\n",
       "      <td></td>\n",
       "      <td></td>\n",
       "      <td></td>\n",
       "      <td></td>\n",
       "      <td></td>\n",
       "      <td></td>\n",
       "    </tr>\n",
       "    <tr>\n",
       "      <th>Polynesia</th>\n",
       "      <td></td>\n",
       "      <td></td>\n",
       "      <td></td>\n",
       "      <td></td>\n",
       "      <td></td>\n",
       "      <td></td>\n",
       "      <td></td>\n",
       "      <td></td>\n",
       "      <td></td>\n",
       "    </tr>\n",
       "    <tr>\n",
       "      <th>Total</th>\n",
       "      <th></th>\n",
       "      <td>159034.37</td>\n",
       "      <td>69665.72</td>\n",
       "      <td>228700.09</td>\n",
       "      <td>26653.54</td>\n",
       "      <td>74471.51</td>\n",
       "      <td>1000293.66</td>\n",
       "      <td>2041.0</td>\n",
       "      <td>7930.08</td>\n",
       "      <td>3411.95</td>\n",
       "    </tr>\n",
       "  </tbody>\n",
       "</table>\n",
       "</div>"
      ],
      "text/plain": [
       "                                           Proposed Construction  \\\n",
       "Region   Subregion                                                 \n",
       "Africa   Northern Africa                     4072.7       187.93   \n",
       "         Sub-Saharan Africa                 18561.8       1582.0   \n",
       "Americas Latin America and the Caribbean   17090.97       2170.0   \n",
       "         Northern America                   8571.63      2515.84   \n",
       "Asia     Central Asia                       3867.22      1604.33   \n",
       "         Eastern Asia                      37446.81     30365.16   \n",
       "         South-eastern Asia                 8849.03       1087.3   \n",
       "         Southern Asia                     12731.61     22425.64   \n",
       "         Western Asia                       6015.84      2153.52   \n",
       "Europe   Eastern Europe                    21303.58      3830.21   \n",
       "         Northern Europe                    1111.49          1.2   \n",
       "         Southern Europe                    8526.75      1656.29   \n",
       "         Western Europe                       708.3         82.0   \n",
       "Oceania  Australia and New Zealand          9856.64          4.3   \n",
       "         Melanesia                            320.0                \n",
       "         Micronesia                                                \n",
       "         Polynesia                                                 \n",
       "Total                                     159034.37     69665.72   \n",
       "\n",
       "                                         Proposed+Construction   Shelved  \\\n",
       "Region   Subregion                                                         \n",
       "Africa   Northern Africa                               4260.63    172.21   \n",
       "         Sub-Saharan Africa                            20143.8   1319.72   \n",
       "Americas Latin America and the Caribbean              19260.97   3097.05   \n",
       "         Northern America                             11087.47   3456.39   \n",
       "Asia     Central Asia                                  5471.55             \n",
       "         Eastern Asia                                 67811.97   1784.07   \n",
       "         South-eastern Asia                            9936.33   2712.41   \n",
       "         Southern Asia                                35157.25    1752.0   \n",
       "         Western Asia                                  8169.36   1845.76   \n",
       "Europe   Eastern Europe                               25133.79   4553.92   \n",
       "         Northern Europe                               1112.69    1000.0   \n",
       "         Southern Europe                              10183.04    764.54   \n",
       "         Western Europe                                  790.3     69.25   \n",
       "Oceania  Australia and New Zealand                     9860.94   3726.22   \n",
       "         Melanesia                                       320.0     400.0   \n",
       "         Micronesia                                                        \n",
       "         Polynesia                                                         \n",
       "Total                                                228700.09  26653.54   \n",
       "\n",
       "                                         Cancelled   Operating     Idle  \\\n",
       "Region   Subregion                                                        \n",
       "Africa   Northern Africa                     589.0     24859.7            \n",
       "         Sub-Saharan Africa                 228.96     7141.52            \n",
       "Americas Latin America and the Caribbean   2344.66    59836.28    331.0   \n",
       "         Northern America                 20654.81   401851.87     50.0   \n",
       "Asia     Central Asia                      2590.59    29099.49            \n",
       "         Eastern Asia                      2827.38   127567.05            \n",
       "         South-eastern Asia                 1329.0    17665.11            \n",
       "         Southern Asia                    10509.97     39861.3            \n",
       "         Western Asia                      9827.63    36466.83            \n",
       "Europe   Eastern Europe                    8475.95   141231.72  1651.65   \n",
       "         Northern Europe                   1003.77    25588.17            \n",
       "         Southern Europe                   4436.09    27759.83            \n",
       "         Western Europe                     2138.2    28610.48     8.35   \n",
       "Oceania  Australia and New Zealand         7214.68    32038.31            \n",
       "         Melanesia                          300.82       716.0            \n",
       "         Micronesia                                                       \n",
       "         Polynesia                                                        \n",
       "Total                                     74471.51  1000293.66   2041.0   \n",
       "\n",
       "                                         Mothballed  Retired  \n",
       "Region   Subregion                                            \n",
       "Africa   Northern Africa                    1107.39           \n",
       "         Sub-Saharan Africa                                   \n",
       "Americas Latin America and the Caribbean      224.0           \n",
       "         Northern America                                     \n",
       "Asia     Central Asia                        531.59           \n",
       "         Eastern Asia                                  155.4  \n",
       "         South-eastern Asia                                   \n",
       "         Southern Asia                                  35.0  \n",
       "         Western Asia                         842.0    39.28  \n",
       "Europe   Eastern Europe                     2777.23   2618.0  \n",
       "         Northern Europe                    2033.45   564.27  \n",
       "         Southern Europe                     242.61           \n",
       "         Western Europe                      171.81           \n",
       "Oceania  Australia and New Zealand                            \n",
       "         Melanesia                                            \n",
       "         Micronesia                                           \n",
       "         Polynesia                                            \n",
       "Total                                       7930.08  3411.95  "
      ]
     },
     "execution_count": 39,
     "metadata": {},
     "output_type": "execute_result"
    }
   ],
   "source": [
    "country_ratios_fuel_df = country_ratios_df[country_ratios_df['Fuel']=='Gas']\n",
    "\n",
    "km_by_country_df = pandas.DataFrame(columns=status_list, index=country_list)\n",
    "km_by_subregion_df = pandas.DataFrame(columns=status_list, index=multiindex_region_subregion)\n",
    "km_by_region_df = pandas.DataFrame(columns=status_list, index=region_list)\n",
    "\n",
    "print('===country-level calculations===')\n",
    "for status in status_list:\n",
    "    print(status)\n",
    "    country_ratios_fuel_df_status = country_ratios_fuel_df[country_ratios_fuel_df['Status']==status]\n",
    "    km_by_country_df[status] = country_ratios_fuel_df_status.groupby('Country')['MergedKmByCountry'].sum()\n",
    "    km_by_subregion_df[status] = country_ratios_fuel_df_status.groupby(['Region','SubRegion'])['MergedKmByCountry'].sum()\n",
    "    km_by_region_df[status] = country_ratios_fuel_df_status.groupby('Region')['MergedKmByCountry'].sum()\n",
    "\n",
    "# # fill NaN with 0.0\n",
    "km_by_subregion_df = km_by_subregion_df.fillna(0)\n",
    "km_by_country_df = km_by_country_df.fillna(0)\n",
    "km_by_region_df = km_by_region_df.fillna(0)\n",
    "\n",
    "#km_by_region_df.sort_index(level='Region', inplace=True)\n",
    "#km_by_region_df = km_by_region_df.loc[~(km_by_region_df==0).all(axis=1)]\n",
    "\n",
    "# total\n",
    "# km_by_region_df.loc['Total',:] = km_by_region_df.sum(axis=0).values\n",
    "# km_by_country_df.loc['Total',:] = km_by_country_df.sum(axis=0).values\n",
    "\n",
    "km_by_subregion_df['Proposed+Construction'] = km_by_subregion_df[['Proposed','Construction']].sum(axis=1)\n",
    "km_by_subregion_df = km_by_subregion_df[['Proposed', 'Construction', 'Proposed+Construction', 'Shelved', 'Cancelled', 'Operating', 'Idle', 'Mothballed', 'Retired']]\n",
    "\n",
    "km_by_country_df['Proposed+Construction'] = km_by_country_df[['Proposed','Construction']].sum(axis=1)\n",
    "km_by_country_df.sort_values('Proposed+Construction', ascending=False, inplace=True)\n",
    "km_by_country_df = km_by_country_df.loc[~(km_by_country_df==0).all(axis=1)]\n",
    "km_by_country_df.loc[:,'Region'] = region_df_orig.set_index('Country').loc[km_by_country_df.index.tolist()].Region\n",
    "km_by_country_df.loc[:,'Subregion'] = region_df_orig.set_index('Country').loc[km_by_country_df.index.tolist()].SubRegion\n",
    "km_by_country_df = km_by_country_df[['Region','Subregion','Proposed', 'Construction', 'Proposed+Construction', 'Shelved', 'Cancelled', 'Operating', 'Idle', 'Mothballed', 'Retired']]\n",
    "km_by_country_df = km_by_country_df.loc[(km_by_country_df.Region!='--')&\n",
    "                                        (km_by_country_df.Subregion!='--')]\n",
    "\n",
    "km_by_region_df['Proposed+Construction'] = km_by_region_df[['Proposed','Construction']].sum(axis=1)\n",
    "km_by_region_df = km_by_region_df[['Proposed', 'Construction', 'Proposed+Construction', 'Shelved', 'Cancelled', 'Operating', 'Idle', 'Mothballed', 'Retired']]\n",
    "\n",
    "km_by_subregion_df.index.set_names(['Region','Subregion'], inplace=True)\n",
    "km_by_subregion_df.loc['Total',:] = km_by_subregion_df.sum(axis=0).values\n",
    "km_by_subregion_df.replace(0,'', inplace=False)"
   ]
  },
  {
   "cell_type": "code",
   "execution_count": 40,
   "id": "27000554-0e5e-46ac-9bd0-765bf5dacdf2",
   "metadata": {},
   "outputs": [
    {
     "data": {
      "text/html": [
       "<div>\n",
       "<style scoped>\n",
       "    .dataframe tbody tr th:only-of-type {\n",
       "        vertical-align: middle;\n",
       "    }\n",
       "\n",
       "    .dataframe tbody tr th {\n",
       "        vertical-align: top;\n",
       "    }\n",
       "\n",
       "    .dataframe thead th {\n",
       "        text-align: right;\n",
       "    }\n",
       "</style>\n",
       "<table border=\"1\" class=\"dataframe\">\n",
       "  <thead>\n",
       "    <tr style=\"text-align: right;\">\n",
       "      <th></th>\n",
       "      <th>Region</th>\n",
       "      <th>Subregion</th>\n",
       "      <th>Proposed</th>\n",
       "      <th>Construction</th>\n",
       "      <th>Proposed+Construction</th>\n",
       "      <th>Shelved</th>\n",
       "      <th>Cancelled</th>\n",
       "      <th>Operating</th>\n",
       "      <th>Idle</th>\n",
       "      <th>Mothballed</th>\n",
       "      <th>Retired</th>\n",
       "    </tr>\n",
       "  </thead>\n",
       "  <tbody>\n",
       "    <tr>\n",
       "      <th>China</th>\n",
       "      <td>Asia</td>\n",
       "      <td>Eastern Asia</td>\n",
       "      <td>36090.21</td>\n",
       "      <td>30313.36</td>\n",
       "      <td>66403.57</td>\n",
       "      <td>731.11</td>\n",
       "      <td>1462.87</td>\n",
       "      <td>122333.77</td>\n",
       "      <td>0.00</td>\n",
       "      <td>0.0</td>\n",
       "      <td>114.40</td>\n",
       "    </tr>\n",
       "    <tr>\n",
       "      <th>Russia</th>\n",
       "      <td>Europe</td>\n",
       "      <td>Eastern Europe</td>\n",
       "      <td>18444.52</td>\n",
       "      <td>2901.93</td>\n",
       "      <td>21346.45</td>\n",
       "      <td>1246.65</td>\n",
       "      <td>4904.56</td>\n",
       "      <td>113072.59</td>\n",
       "      <td>414.27</td>\n",
       "      <td>1177.3</td>\n",
       "      <td>2000.58</td>\n",
       "    </tr>\n",
       "    <tr>\n",
       "      <th>India</th>\n",
       "      <td>Asia</td>\n",
       "      <td>Southern Asia</td>\n",
       "      <td>5573.68</td>\n",
       "      <td>15283.00</td>\n",
       "      <td>20856.68</td>\n",
       "      <td>1055.00</td>\n",
       "      <td>4671.05</td>\n",
       "      <td>19019.42</td>\n",
       "      <td>0.00</td>\n",
       "      <td>0.0</td>\n",
       "      <td>0.00</td>\n",
       "    </tr>\n",
       "    <tr>\n",
       "      <th>Australia</th>\n",
       "      <td>Oceania</td>\n",
       "      <td>Australia and New Zealand</td>\n",
       "      <td>9856.64</td>\n",
       "      <td>4.30</td>\n",
       "      <td>9860.94</td>\n",
       "      <td>3726.22</td>\n",
       "      <td>7214.68</td>\n",
       "      <td>29524.31</td>\n",
       "      <td>0.00</td>\n",
       "      <td>0.0</td>\n",
       "      <td>0.00</td>\n",
       "    </tr>\n",
       "    <tr>\n",
       "      <th>United States</th>\n",
       "      <td>Americas</td>\n",
       "      <td>Northern America</td>\n",
       "      <td>7237.22</td>\n",
       "      <td>1448.00</td>\n",
       "      <td>8685.22</td>\n",
       "      <td>3374.58</td>\n",
       "      <td>14090.54</td>\n",
       "      <td>340248.82</td>\n",
       "      <td>50.00</td>\n",
       "      <td>0.0</td>\n",
       "      <td>0.00</td>\n",
       "    </tr>\n",
       "    <tr>\n",
       "      <th>...</th>\n",
       "      <td>...</td>\n",
       "      <td>...</td>\n",
       "      <td>...</td>\n",
       "      <td>...</td>\n",
       "      <td>...</td>\n",
       "      <td>...</td>\n",
       "      <td>...</td>\n",
       "      <td>...</td>\n",
       "      <td>...</td>\n",
       "      <td>...</td>\n",
       "      <td>...</td>\n",
       "    </tr>\n",
       "    <tr>\n",
       "      <th>Libya</th>\n",
       "      <td>Africa</td>\n",
       "      <td>Northern Africa</td>\n",
       "      <td>0.00</td>\n",
       "      <td>0.00</td>\n",
       "      <td>0.00</td>\n",
       "      <td>0.00</td>\n",
       "      <td>115.56</td>\n",
       "      <td>6243.07</td>\n",
       "      <td>0.00</td>\n",
       "      <td>0.0</td>\n",
       "      <td>0.00</td>\n",
       "    </tr>\n",
       "    <tr>\n",
       "      <th>Liechtenstein</th>\n",
       "      <td>Europe</td>\n",
       "      <td>Western Europe</td>\n",
       "      <td>0.00</td>\n",
       "      <td>0.00</td>\n",
       "      <td>0.00</td>\n",
       "      <td>0.00</td>\n",
       "      <td>1.90</td>\n",
       "      <td>1.29</td>\n",
       "      <td>0.00</td>\n",
       "      <td>0.0</td>\n",
       "      <td>0.00</td>\n",
       "    </tr>\n",
       "    <tr>\n",
       "      <th>Luxembourg</th>\n",
       "      <td>Europe</td>\n",
       "      <td>Western Europe</td>\n",
       "      <td>0.00</td>\n",
       "      <td>0.00</td>\n",
       "      <td>0.00</td>\n",
       "      <td>0.00</td>\n",
       "      <td>0.00</td>\n",
       "      <td>150.95</td>\n",
       "      <td>0.00</td>\n",
       "      <td>0.0</td>\n",
       "      <td>0.00</td>\n",
       "    </tr>\n",
       "    <tr>\n",
       "      <th>Macao</th>\n",
       "      <td>Asia</td>\n",
       "      <td>Eastern Asia</td>\n",
       "      <td>0.00</td>\n",
       "      <td>0.00</td>\n",
       "      <td>0.00</td>\n",
       "      <td>0.00</td>\n",
       "      <td>0.00</td>\n",
       "      <td>12.80</td>\n",
       "      <td>0.00</td>\n",
       "      <td>0.0</td>\n",
       "      <td>0.00</td>\n",
       "    </tr>\n",
       "    <tr>\n",
       "      <th>Mali</th>\n",
       "      <td>Africa</td>\n",
       "      <td>Sub-Saharan Africa</td>\n",
       "      <td>0.00</td>\n",
       "      <td>0.00</td>\n",
       "      <td>0.00</td>\n",
       "      <td>0.00</td>\n",
       "      <td>0.00</td>\n",
       "      <td>3.52</td>\n",
       "      <td>0.00</td>\n",
       "      <td>0.0</td>\n",
       "      <td>0.00</td>\n",
       "    </tr>\n",
       "  </tbody>\n",
       "</table>\n",
       "<p>150 rows × 11 columns</p>\n",
       "</div>"
      ],
      "text/plain": [
       "                 Region                  Subregion  Proposed  Construction  \\\n",
       "China              Asia               Eastern Asia  36090.21      30313.36   \n",
       "Russia           Europe             Eastern Europe  18444.52       2901.93   \n",
       "India              Asia              Southern Asia   5573.68      15283.00   \n",
       "Australia       Oceania  Australia and New Zealand   9856.64          4.30   \n",
       "United States  Americas           Northern America   7237.22       1448.00   \n",
       "...                 ...                        ...       ...           ...   \n",
       "Libya            Africa            Northern Africa      0.00          0.00   \n",
       "Liechtenstein    Europe             Western Europe      0.00          0.00   \n",
       "Luxembourg       Europe             Western Europe      0.00          0.00   \n",
       "Macao              Asia               Eastern Asia      0.00          0.00   \n",
       "Mali             Africa         Sub-Saharan Africa      0.00          0.00   \n",
       "\n",
       "               Proposed+Construction  Shelved  Cancelled  Operating    Idle  \\\n",
       "China                       66403.57   731.11    1462.87  122333.77    0.00   \n",
       "Russia                      21346.45  1246.65    4904.56  113072.59  414.27   \n",
       "India                       20856.68  1055.00    4671.05   19019.42    0.00   \n",
       "Australia                    9860.94  3726.22    7214.68   29524.31    0.00   \n",
       "United States                8685.22  3374.58   14090.54  340248.82   50.00   \n",
       "...                              ...      ...        ...        ...     ...   \n",
       "Libya                           0.00     0.00     115.56    6243.07    0.00   \n",
       "Liechtenstein                   0.00     0.00       1.90       1.29    0.00   \n",
       "Luxembourg                      0.00     0.00       0.00     150.95    0.00   \n",
       "Macao                           0.00     0.00       0.00      12.80    0.00   \n",
       "Mali                            0.00     0.00       0.00       3.52    0.00   \n",
       "\n",
       "               Mothballed  Retired  \n",
       "China                 0.0   114.40  \n",
       "Russia             1177.3  2000.58  \n",
       "India                 0.0     0.00  \n",
       "Australia             0.0     0.00  \n",
       "United States         0.0     0.00  \n",
       "...                   ...      ...  \n",
       "Libya                 0.0     0.00  \n",
       "Liechtenstein         0.0     0.00  \n",
       "Luxembourg            0.0     0.00  \n",
       "Macao                 0.0     0.00  \n",
       "Mali                  0.0     0.00  \n",
       "\n",
       "[150 rows x 11 columns]"
      ]
     },
     "execution_count": 40,
     "metadata": {},
     "output_type": "execute_result"
    }
   ],
   "source": [
    "km_by_country_df.to_excel('km-by-country-region-subregion.xlsx')\n",
    "km_by_country_df"
   ]
  },
  {
   "cell_type": "code",
   "execution_count": 41,
   "id": "e0fa01a0-b30a-4473-8920-5e37dc3fbc84",
   "metadata": {},
   "outputs": [],
   "source": [
    "km_by_country_df.sort_values('Construction', ascending=False).to_excel('km-by-country-region-subregion-sorted-by-construction.xlsx')\n",
    "#km_by_country_df"
   ]
  },
  {
   "cell_type": "code",
   "execution_count": 42,
   "id": "64fe097f-28e9-455c-8293-9af0e1c456e0",
   "metadata": {},
   "outputs": [
    {
     "data": {
      "text/html": [
       "<div>\n",
       "<style scoped>\n",
       "    .dataframe tbody tr th:only-of-type {\n",
       "        vertical-align: middle;\n",
       "    }\n",
       "\n",
       "    .dataframe tbody tr th {\n",
       "        vertical-align: top;\n",
       "    }\n",
       "\n",
       "    .dataframe thead th {\n",
       "        text-align: right;\n",
       "    }\n",
       "</style>\n",
       "<table border=\"1\" class=\"dataframe\">\n",
       "  <thead>\n",
       "    <tr style=\"text-align: right;\">\n",
       "      <th></th>\n",
       "      <th>Proposed</th>\n",
       "      <th>Construction</th>\n",
       "      <th>Proposed+Construction</th>\n",
       "      <th>Shelved</th>\n",
       "      <th>Cancelled</th>\n",
       "      <th>Operating</th>\n",
       "      <th>Idle</th>\n",
       "      <th>Mothballed</th>\n",
       "      <th>Retired</th>\n",
       "    </tr>\n",
       "  </thead>\n",
       "  <tbody>\n",
       "    <tr>\n",
       "      <th>Africa</th>\n",
       "      <td>22634.50</td>\n",
       "      <td>1769.93</td>\n",
       "      <td>24404.43</td>\n",
       "      <td>1491.93</td>\n",
       "      <td>817.96</td>\n",
       "      <td>32001.22</td>\n",
       "      <td>0.0</td>\n",
       "      <td>1107.39</td>\n",
       "      <td>0.00</td>\n",
       "    </tr>\n",
       "    <tr>\n",
       "      <th>Americas</th>\n",
       "      <td>25662.60</td>\n",
       "      <td>4685.84</td>\n",
       "      <td>30348.44</td>\n",
       "      <td>6553.44</td>\n",
       "      <td>22999.47</td>\n",
       "      <td>461688.15</td>\n",
       "      <td>381.0</td>\n",
       "      <td>224.00</td>\n",
       "      <td>0.00</td>\n",
       "    </tr>\n",
       "    <tr>\n",
       "      <th>Asia</th>\n",
       "      <td>68910.51</td>\n",
       "      <td>57635.95</td>\n",
       "      <td>126546.46</td>\n",
       "      <td>8094.24</td>\n",
       "      <td>27084.57</td>\n",
       "      <td>250659.78</td>\n",
       "      <td>0.0</td>\n",
       "      <td>1373.59</td>\n",
       "      <td>229.68</td>\n",
       "    </tr>\n",
       "    <tr>\n",
       "      <th>Europe</th>\n",
       "      <td>31650.12</td>\n",
       "      <td>5569.70</td>\n",
       "      <td>37219.82</td>\n",
       "      <td>6387.71</td>\n",
       "      <td>16054.01</td>\n",
       "      <td>223190.20</td>\n",
       "      <td>1660.0</td>\n",
       "      <td>5225.10</td>\n",
       "      <td>3182.27</td>\n",
       "    </tr>\n",
       "    <tr>\n",
       "      <th>Oceania</th>\n",
       "      <td>10176.64</td>\n",
       "      <td>4.30</td>\n",
       "      <td>10180.94</td>\n",
       "      <td>4126.22</td>\n",
       "      <td>7515.50</td>\n",
       "      <td>32754.31</td>\n",
       "      <td>0.0</td>\n",
       "      <td>0.00</td>\n",
       "      <td>0.00</td>\n",
       "    </tr>\n",
       "  </tbody>\n",
       "</table>\n",
       "</div>"
      ],
      "text/plain": [
       "          Proposed  Construction  Proposed+Construction  Shelved  Cancelled  \\\n",
       "Africa    22634.50       1769.93               24404.43  1491.93     817.96   \n",
       "Americas  25662.60       4685.84               30348.44  6553.44   22999.47   \n",
       "Asia      68910.51      57635.95              126546.46  8094.24   27084.57   \n",
       "Europe    31650.12       5569.70               37219.82  6387.71   16054.01   \n",
       "Oceania   10176.64          4.30               10180.94  4126.22    7515.50   \n",
       "\n",
       "          Operating    Idle  Mothballed  Retired  \n",
       "Africa     32001.22     0.0     1107.39     0.00  \n",
       "Americas  461688.15   381.0      224.00     0.00  \n",
       "Asia      250659.78     0.0     1373.59   229.68  \n",
       "Europe    223190.20  1660.0     5225.10  3182.27  \n",
       "Oceania    32754.31     0.0        0.00     0.00  "
      ]
     },
     "execution_count": 42,
     "metadata": {},
     "output_type": "execute_result"
    }
   ],
   "source": [
    "km_by_region_df"
   ]
  },
  {
   "cell_type": "markdown",
   "id": "ea09b029-2057-448e-8d6b-0616e7076b5b",
   "metadata": {},
   "source": [
    "## figure for km by subregion (marimekko/mosaic type)"
   ]
  },
  {
   "cell_type": "code",
   "execution_count": 61,
   "id": "051fdbbf-2916-48e4-b88f-c0365e3cfe27",
   "metadata": {},
   "outputs": [],
   "source": [
    "treemap_colors = {'Americas':'#c75a00',\n",
    "                  'Asia':'#580000',\n",
    "                  'Europe':'#902c00',\n",
    "                  'Africa':'#f98c28',\n",
    "                  'Oceania':'#ffd370'}"
   ]
  },
  {
   "cell_type": "code",
   "execution_count": 64,
   "id": "516fb3cf-ed6b-4fa5-9789-349225068289",
   "metadata": {},
   "outputs": [
    {
     "data": {
      "text/html": [
       "<div>\n",
       "<style scoped>\n",
       "    .dataframe tbody tr th:only-of-type {\n",
       "        vertical-align: middle;\n",
       "    }\n",
       "\n",
       "    .dataframe tbody tr th {\n",
       "        vertical-align: top;\n",
       "    }\n",
       "\n",
       "    .dataframe thead th {\n",
       "        text-align: right;\n",
       "    }\n",
       "</style>\n",
       "<table border=\"1\" class=\"dataframe\">\n",
       "  <thead>\n",
       "    <tr style=\"text-align: right;\">\n",
       "      <th></th>\n",
       "      <th>Proposed</th>\n",
       "      <th>Construction</th>\n",
       "      <th>Proposed+Construction</th>\n",
       "      <th>Shelved</th>\n",
       "      <th>Cancelled</th>\n",
       "      <th>Operating</th>\n",
       "      <th>Idle</th>\n",
       "      <th>Mothballed</th>\n",
       "      <th>Retired</th>\n",
       "    </tr>\n",
       "    <tr>\n",
       "      <th>Region</th>\n",
       "      <th></th>\n",
       "      <th></th>\n",
       "      <th></th>\n",
       "      <th></th>\n",
       "      <th></th>\n",
       "      <th></th>\n",
       "      <th></th>\n",
       "      <th></th>\n",
       "      <th></th>\n",
       "    </tr>\n",
       "  </thead>\n",
       "  <tbody>\n",
       "    <tr>\n",
       "      <th>Asia</th>\n",
       "      <td>0.433306</td>\n",
       "      <td>0.827322</td>\n",
       "      <td>0.553329</td>\n",
       "      <td>0.303683</td>\n",
       "      <td>0.363690</td>\n",
       "      <td>0.250586</td>\n",
       "      <td>0.000000</td>\n",
       "      <td>0.173213</td>\n",
       "      <td>0.067316</td>\n",
       "    </tr>\n",
       "    <tr>\n",
       "      <th>Europe</th>\n",
       "      <td>0.199014</td>\n",
       "      <td>0.079949</td>\n",
       "      <td>0.162745</td>\n",
       "      <td>0.239657</td>\n",
       "      <td>0.215573</td>\n",
       "      <td>0.223125</td>\n",
       "      <td>0.813327</td>\n",
       "      <td>0.658896</td>\n",
       "      <td>0.932684</td>\n",
       "    </tr>\n",
       "    <tr>\n",
       "      <th>Americas</th>\n",
       "      <td>0.161365</td>\n",
       "      <td>0.067262</td>\n",
       "      <td>0.132700</td>\n",
       "      <td>0.245875</td>\n",
       "      <td>0.308836</td>\n",
       "      <td>0.461553</td>\n",
       "      <td>0.186673</td>\n",
       "      <td>0.028247</td>\n",
       "      <td>0.000000</td>\n",
       "    </tr>\n",
       "    <tr>\n",
       "      <th>Africa</th>\n",
       "      <td>0.142325</td>\n",
       "      <td>0.025406</td>\n",
       "      <td>0.106709</td>\n",
       "      <td>0.055975</td>\n",
       "      <td>0.010984</td>\n",
       "      <td>0.031992</td>\n",
       "      <td>0.000000</td>\n",
       "      <td>0.139644</td>\n",
       "      <td>0.000000</td>\n",
       "    </tr>\n",
       "    <tr>\n",
       "      <th>Oceania</th>\n",
       "      <td>0.063990</td>\n",
       "      <td>0.000062</td>\n",
       "      <td>0.044517</td>\n",
       "      <td>0.154809</td>\n",
       "      <td>0.100918</td>\n",
       "      <td>0.032745</td>\n",
       "      <td>0.000000</td>\n",
       "      <td>0.000000</td>\n",
       "      <td>0.000000</td>\n",
       "    </tr>\n",
       "  </tbody>\n",
       "</table>\n",
       "</div>"
      ],
      "text/plain": [
       "          Proposed  Construction  Proposed+Construction   Shelved  Cancelled  \\\n",
       "Region                                                                         \n",
       "Asia      0.433306      0.827322               0.553329  0.303683   0.363690   \n",
       "Europe    0.199014      0.079949               0.162745  0.239657   0.215573   \n",
       "Americas  0.161365      0.067262               0.132700  0.245875   0.308836   \n",
       "Africa    0.142325      0.025406               0.106709  0.055975   0.010984   \n",
       "Oceania   0.063990      0.000062               0.044517  0.154809   0.100918   \n",
       "\n",
       "          Operating      Idle  Mothballed   Retired  \n",
       "Region                                               \n",
       "Asia       0.250586  0.000000    0.173213  0.067316  \n",
       "Europe     0.223125  0.813327    0.658896  0.932684  \n",
       "Americas   0.461553  0.186673    0.028247  0.000000  \n",
       "Africa     0.031992  0.000000    0.139644  0.000000  \n",
       "Oceania    0.032745  0.000000    0.000000  0.000000  "
      ]
     },
     "execution_count": 64,
     "metadata": {},
     "output_type": "execute_result"
    }
   ],
   "source": [
    "regional_sum_df_normalized"
   ]
  },
  {
   "cell_type": "code",
   "execution_count": 466,
   "id": "bb435d90-385d-40d6-869f-eb13d7f432f7",
   "metadata": {},
   "outputs": [],
   "source": [
    "# build bar thicknesses, normalized by total and by regional subtotals\n",
    "km_by_subregion_df_toplot = km_by_subregion_df.drop('Total')\n",
    "\n",
    "regional_sum_df = km_by_subregion_df_toplot.groupby(level='Region').sum()\n",
    "region_order = regional_sum_df.sort_values(by='Proposed+Construction', ascending=False).index.values\n",
    "regional_sum_df = regional_sum_df.reindex(index=region_order)\n",
    "\n",
    "# sort first by proposed+construction values, THEN reorder based on region_order\n",
    "km_by_subregion_df_toplot = km_by_subregion_df_toplot.sort_values(\n",
    "    ['Region','Proposed+Construction'], ascending=False).reindex(\n",
    "    level=0, index=region_order)\n",
    "\n",
    "# before normalizing stuff, get km thickness\n",
    "bar_thickness_km_df = km_by_subregion_df_toplot[['Proposed+Construction']]\n",
    "regional_sum_df_normalized = regional_sum_df/regional_sum_df.sum(axis=0)\n",
    "\n",
    "# normalize km_by_subregion so that each region adds up to 1.0\n",
    "km_by_subregion_df_toplot_normalized = km_by_subregion_df_toplot/regional_sum_df\n",
    "# then multiply by region_sum_df_normalized so ALL regions add up to a total of 1.0\n",
    "# this will be what you need to plot for a normalized y-axis marimekko\n",
    "km_by_subregion_df_toplot_normalized = (km_by_subregion_df_toplot_normalized*regional_sum_df_normalized).replace(numpy.nan,0)\n",
    "\n",
    "bar_thickness_df = km_by_subregion_df_toplot_normalized[['Proposed+Construction']]\n",
    "# we only care about what's under construction or proposed, so normalize the first two columns by Proposed+Construction\n",
    "bar_fractional_width_df = km_by_subregion_df_toplot_normalized[['Proposed','Construction']].div(\n",
    "    km_by_subregion_df_toplot_normalized[['Proposed','Construction']].sum(axis=1), axis=0).replace(numpy.nan,0) \n",
    "\n",
    "# # remove all-zero rows\n",
    "bar_thickness_df = bar_thickness_df.loc[(bar_thickness_df!=0).any(axis=1)]\n",
    "bar_thickness_km_df = bar_thickness_km_df.loc[(bar_thickness_km_df!=0).any(axis=1)]\n",
    "bar_fractional_width_df = bar_fractional_width_df.loc[(bar_fractional_width_df!=0).any(axis=1)]\n",
    "bar_percentage_width_df = bar_fractional_width_df*100.\n",
    "\n",
    "# add a colors column to bar_thickness_df\n",
    "bar_thickness_df['Colors'] = ''\n",
    "bar_thickness_km_df['Colors'] = ''\n",
    "for idx,row in bar_thickness_df.iterrows():\n",
    "    bar_thickness_df.loc[idx,'Colors'] = treemap_colors[idx[0]]\n",
    "    bar_thickness_km_df.loc[idx,'Colors'] = treemap_colors[idx[0]]\n",
    "\n",
    "km_by_subregion_df_toplot['Colors'] = ''\n",
    "for idx,row in km_by_subregion_df_toplot.iterrows():\n",
    "    km_by_subregion_df_toplot.loc[idx,'Colors'] = treemap_colors[idx[0]]"
   ]
  },
  {
   "cell_type": "code",
   "execution_count": 467,
   "id": "99da61df-dded-4b44-bedc-659743ac871c",
   "metadata": {},
   "outputs": [
    {
     "data": {
      "text/html": [
       "<div>\n",
       "<style scoped>\n",
       "    .dataframe tbody tr th:only-of-type {\n",
       "        vertical-align: middle;\n",
       "    }\n",
       "\n",
       "    .dataframe tbody tr th {\n",
       "        vertical-align: top;\n",
       "    }\n",
       "\n",
       "    .dataframe thead th {\n",
       "        text-align: right;\n",
       "    }\n",
       "</style>\n",
       "<table border=\"1\" class=\"dataframe\">\n",
       "  <thead>\n",
       "    <tr style=\"text-align: right;\">\n",
       "      <th></th>\n",
       "      <th>Proposed</th>\n",
       "      <th>Construction</th>\n",
       "      <th>Proposed+Construction</th>\n",
       "      <th>Shelved</th>\n",
       "      <th>Cancelled</th>\n",
       "      <th>Operating</th>\n",
       "      <th>Idle</th>\n",
       "      <th>Mothballed</th>\n",
       "      <th>Retired</th>\n",
       "    </tr>\n",
       "  </thead>\n",
       "  <tbody>\n",
       "    <tr>\n",
       "      <th>Africa</th>\n",
       "      <td>22634.50</td>\n",
       "      <td>1769.93</td>\n",
       "      <td>24404.43</td>\n",
       "      <td>1491.93</td>\n",
       "      <td>817.96</td>\n",
       "      <td>32001.22</td>\n",
       "      <td>0.0</td>\n",
       "      <td>1107.39</td>\n",
       "      <td>0.00</td>\n",
       "    </tr>\n",
       "    <tr>\n",
       "      <th>Americas</th>\n",
       "      <td>25662.60</td>\n",
       "      <td>4685.84</td>\n",
       "      <td>30348.44</td>\n",
       "      <td>6553.44</td>\n",
       "      <td>22999.47</td>\n",
       "      <td>461688.15</td>\n",
       "      <td>381.0</td>\n",
       "      <td>224.00</td>\n",
       "      <td>0.00</td>\n",
       "    </tr>\n",
       "    <tr>\n",
       "      <th>Asia</th>\n",
       "      <td>68910.51</td>\n",
       "      <td>57635.95</td>\n",
       "      <td>126546.46</td>\n",
       "      <td>8094.24</td>\n",
       "      <td>27084.57</td>\n",
       "      <td>250659.78</td>\n",
       "      <td>0.0</td>\n",
       "      <td>1373.59</td>\n",
       "      <td>229.68</td>\n",
       "    </tr>\n",
       "    <tr>\n",
       "      <th>Europe</th>\n",
       "      <td>31650.12</td>\n",
       "      <td>5569.70</td>\n",
       "      <td>37219.82</td>\n",
       "      <td>6387.71</td>\n",
       "      <td>16054.01</td>\n",
       "      <td>223190.20</td>\n",
       "      <td>1660.0</td>\n",
       "      <td>5225.10</td>\n",
       "      <td>3182.27</td>\n",
       "    </tr>\n",
       "    <tr>\n",
       "      <th>Oceania</th>\n",
       "      <td>10176.64</td>\n",
       "      <td>4.30</td>\n",
       "      <td>10180.94</td>\n",
       "      <td>4126.22</td>\n",
       "      <td>7515.50</td>\n",
       "      <td>32754.31</td>\n",
       "      <td>0.0</td>\n",
       "      <td>0.00</td>\n",
       "      <td>0.00</td>\n",
       "    </tr>\n",
       "  </tbody>\n",
       "</table>\n",
       "</div>"
      ],
      "text/plain": [
       "          Proposed  Construction  Proposed+Construction  Shelved  Cancelled  \\\n",
       "Africa    22634.50       1769.93               24404.43  1491.93     817.96   \n",
       "Americas  25662.60       4685.84               30348.44  6553.44   22999.47   \n",
       "Asia      68910.51      57635.95              126546.46  8094.24   27084.57   \n",
       "Europe    31650.12       5569.70               37219.82  6387.71   16054.01   \n",
       "Oceania   10176.64          4.30               10180.94  4126.22    7515.50   \n",
       "\n",
       "          Operating    Idle  Mothballed  Retired  \n",
       "Africa     32001.22     0.0     1107.39     0.00  \n",
       "Americas  461688.15   381.0      224.00     0.00  \n",
       "Asia      250659.78     0.0     1373.59   229.68  \n",
       "Europe    223190.20  1660.0     5225.10  3182.27  \n",
       "Oceania    32754.31     0.0        0.00     0.00  "
      ]
     },
     "execution_count": 467,
     "metadata": {},
     "output_type": "execute_result"
    }
   ],
   "source": [
    "km_by_region_df"
   ]
  },
  {
   "cell_type": "markdown",
   "id": "9d9c8e80-4d8f-414e-b799-d1ad945bfa54",
   "metadata": {},
   "source": [
    "## figure 1 - marimekko"
   ]
  },
  {
   "cell_type": "code",
   "execution_count": 468,
   "id": "708e2db2-a062-4f51-8752-8e687c0e305d",
   "metadata": {},
   "outputs": [
    {
     "name": "stderr",
     "output_type": "stream",
     "text": [
      "No artists with labels found to put in legend.  Note that artists whose label start with an underscore are ignored when legend() is called with no argument.\n"
     ]
    },
    {
     "data": {
      "text/plain": [
       "Text(-0.17216589861751153, -0.1323529411764706, 'Source: Global Gas Infrastructure Tracker\\nDarker colors show pipelines under construction;\\nlighter colors show proposed pipelines')"
      ]
     },
     "execution_count": 468,
     "metadata": {},
     "output_type": "execute_result"
    },
    {
     "data": {
      "image/png": "[encoded data removed]",
      "text/plain": [
       "<Figure size 972.222x1180.56 with 1 Axes>"
      ]
     },
     "metadata": {},
     "output_type": "display_data"
    }
   ],
   "source": [
    "width_pixels = 700 # 640 default\n",
    "height_pixels = 850 # 450 default\n",
    "fig = mp.figure(figsize=(width_pixels/72, height_pixels/72))\n",
    "fig.canvas.draw()\n",
    "axis_text_color = '0.5'\n",
    "\n",
    "nbars = bar_thickness_df.shape[0]\n",
    "bar_km_cumsum = bar_thickness_km_df['Proposed+Construction'].cumsum().values\n",
    "bar_lower_edges = numpy.append(numpy.array(0), bar_km_cumsum[:-1])\n",
    "bar_center_points = (numpy.append(numpy.array(0), bar_km_cumsum)[1:] - numpy.append(numpy.array(0), bar_km_cumsum)[:-1])/2 +\\\n",
    "    numpy.append(numpy.array(0), bar_km_cumsum[:-1])\n",
    "\n",
    "region_km_cumsum = regional_sum_df['Proposed+Construction'].cumsum().values\n",
    "region_lower_edges = numpy.append(numpy.array(0), region_km_cumsum[:-1])\n",
    "region_center_points = (numpy.append(numpy.array(0), region_km_cumsum)[1:] - numpy.append(numpy.array(0), region_km_cumsum)[:-1])/2 +\\\n",
    "    numpy.append(numpy.array(0), region_km_cumsum[:-1])\n",
    "\n",
    "ax = fig.add_subplot(111)\n",
    "\n",
    "ax.barh(y=bar_lower_edges,\n",
    "        align='edge',\n",
    "        width=bar_percentage_width_df.Construction,\n",
    "        height=bar_thickness_km_df['Proposed+Construction'].values,\n",
    "        edgecolor='1',\n",
    "        linewidth=1.5,\n",
    "        color=bar_thickness_km_df['Colors'].tolist(),\n",
    "        left=0,\n",
    "        clip_on=False)\n",
    "\n",
    "ax.barh(y=bar_lower_edges,\n",
    "        align='edge',\n",
    "        width=bar_percentage_width_df.Proposed,\n",
    "        height=bar_thickness_km_df['Proposed+Construction'].values,\n",
    "        edgecolor='1',\n",
    "        linewidth=1.5,\n",
    "        color=bar_thickness_km_df['Colors'].tolist(),\n",
    "        alpha=0.55,\n",
    "        left=bar_percentage_width_df.Construction,\n",
    "        clip_on=False)\n",
    "\n",
    "for i in range(nbars):\n",
    "    ax.text(s=bar_thickness_km_df.index.get_level_values('Subregion').tolist()[i],\n",
    "            x=99.5,\n",
    "            y=bar_lower_edges[i]+0.01,\n",
    "            ha='right',\n",
    "            va='bottom',\n",
    "            color=bar_thickness_km_df['Colors'].tolist()[i],\n",
    "            size=base_size*0.875,\n",
    "            weight=text_weight_bold)\n",
    "\n",
    "for i in range(region_list.__len__()):\n",
    "    ax.text(s=region_order[i],\n",
    "            x=1,\n",
    "            y=region_lower_edges[i]+0.005,#region_center_points[i],\n",
    "            ha='left',\n",
    "            va='bottom',\n",
    "            size=base_size*1.5,\n",
    "            color='1',\n",
    "            weight=text_weight_bold)\n",
    "\n",
    "ax.spines['top'].set_visible(False)\n",
    "ax.spines['right'].set_visible(False)\n",
    "ax.spines['bottom'].set_visible(False)\n",
    "ax.spines['left'].set_visible(False)\n",
    "\n",
    "ax.tick_params(labelsize=base_size,\n",
    "               color=axis_text_color,\n",
    "               labelcolor=axis_text_color,)\n",
    "\n",
    "# format axis to have proper units and commas in thousands place\n",
    "ax.yaxis.set_ticks(numpy.arange(0,ax.get_ylim()[1],25000))\n",
    "ax.yaxis.set_major_formatter(matplotlib.ticker.StrMethodFormatter('{x:,.0f} km'))\n",
    "ax.set_ylim(0,bar_thickness_km_df.sum().values[0])\n",
    "ax.set_xlim(0,100.)\n",
    "#ax.yaxis.set_minor_locator(matplotlib.ticker.AutoMinorLocator(2)) # 2 for dividing major ticks into 2\n",
    "\n",
    "ax.set_axisbelow(True)\n",
    "\n",
    "# add titles, first get the location of the yaxis labels so they can line up exactly\n",
    "# call it \"x_location\"\n",
    "bbox = ax.get_tightbbox() #ax.get_yticklabels()[-1].get_window_extent()\n",
    "x_location,y_location = ax.transAxes.inverted().transform([bbox.x0, bbox.y1])\n",
    "ax.text(s='Gas pipelines in development grouped by region and subregion, ranked\\nby km under construction',\n",
    "        size=base_size*1.15,\n",
    "        color=color_subtitle,\n",
    "        x=x_location,\n",
    "        y=1.1,\n",
    "        ha='left',\n",
    "        va='center',\n",
    "        weight=text_weight_normal,\n",
    "        transform=ax.transAxes,\n",
    "        linespacing=1.45,\n",
    "        wrap=True)\n",
    "\n",
    "bbox_with_subtitle = ax.get_tightbbox()\n",
    "x_location_subtitle,y_location_subtitle = ax.transAxes.inverted().transform([bbox_with_subtitle.x0, bbox_with_subtitle.y1])\n",
    "ax.text(s='Asia leads development of gas pipelines globally',\n",
    "        size=base_size*1.5,\n",
    "        color=color_title,\n",
    "        x=x_location,\n",
    "        y=y_location_subtitle*1.05,#1.2,\n",
    "        ha='left',\n",
    "        va='center',\n",
    "        weight=text_weight_bold,\n",
    "        transform=ax.transAxes,\n",
    "        linespacing=1.35,\n",
    "        wrap=False)\n",
    "\n",
    "ax.set_xlabel('Percentage of km in development (%)',\n",
    "              size=base_size, color=axis_text_color)\n",
    "\n",
    "# LEGEND AND GEM LOGO\n",
    "ax.legend(fontsize=base_size,\n",
    "          frameon=False,\n",
    "          loc='lower left',\n",
    "          bbox_to_anchor=(x_location,1.025),\n",
    "          bbox_transform=ax.transAxes,\n",
    "          handlelength=1,\n",
    "          handleheight=1,\n",
    "          ncols=4,\n",
    "          borderpad=0,\n",
    "          borderaxespad=0,\n",
    "          columnspacing=0.75,\n",
    "          handletextpad=0.25)\n",
    "\n",
    "gem_logo = matplotlib.image.imread('/Users/baird/Dropbox/_git_ALL/_github-repos-gem/gemplot-python/data/gem_logo_padding.png')\n",
    "logo_image_box = matplotlib.offsetbox.OffsetImage(gem_logo, zoom=0.035)\n",
    "logo_annotation_box = matplotlib.offsetbox.AnnotationBbox(logo_image_box,\n",
    "                                                          (1,0), # sets box alignment to lower right corder\n",
    "                                                          xycoords='axes fraction',\n",
    "                                                          box_alignment=(1.,2.5), \n",
    "                                                          frameon=False)\n",
    "ax.add_artist(logo_annotation_box)\n",
    "\n",
    "# note at bottom\n",
    "ax.text(s='Source: Global Gas Infrastructure Tracker\\nDarker colors show pipelines under construction;\\nlighter colors show proposed pipelines',\n",
    "        size=base_size*0.875,\n",
    "        color=color_title,\n",
    "        x=x_location,\n",
    "        y=-0.25*450/height_pixels,\n",
    "        ha='left',\n",
    "        va='center',\n",
    "        weight=text_weight_normal,\n",
    "        transform=ax.transAxes,\n",
    "        linespacing=1.2,\n",
    "        wrap=False)\n",
    "\n",
    "# ax.tick_params(labelsize=font_size)\n",
    "# ax.set_ylabel('km of pipelines in development', size=font_size)\n",
    "# ax.set_xlabel('Fraction of pipelines under construction (left)\\nand proposed (right)', size=font_size)"
   ]
  },
  {
   "cell_type": "markdown",
   "id": "ecc98725-c079-4ec7-80d6-39ddd2271fb5",
   "metadata": {},
   "source": [
    "## figure 1 - tree map alternative"
   ]
  },
  {
   "cell_type": "code",
   "execution_count": 610,
   "id": "63f6f775-c9f5-4e2b-ab1d-b9bd55f607b8",
   "metadata": {},
   "outputs": [
    {
     "data": {
      "text/html": [
       "<div>\n",
       "<style scoped>\n",
       "    .dataframe tbody tr th:only-of-type {\n",
       "        vertical-align: middle;\n",
       "    }\n",
       "\n",
       "    .dataframe tbody tr th {\n",
       "        vertical-align: top;\n",
       "    }\n",
       "\n",
       "    .dataframe thead th {\n",
       "        text-align: right;\n",
       "    }\n",
       "</style>\n",
       "<table border=\"1\" class=\"dataframe\">\n",
       "  <thead>\n",
       "    <tr style=\"text-align: right;\">\n",
       "      <th></th>\n",
       "      <th>Subregion</th>\n",
       "      <th>Construction</th>\n",
       "    </tr>\n",
       "    <tr>\n",
       "      <th>Region</th>\n",
       "      <th></th>\n",
       "      <th></th>\n",
       "    </tr>\n",
       "  </thead>\n",
       "  <tbody>\n",
       "    <tr>\n",
       "      <th>Asia</th>\n",
       "      <td>Eastern Asia</td>\n",
       "      <td>30365.16</td>\n",
       "    </tr>\n",
       "    <tr>\n",
       "      <th>Asia</th>\n",
       "      <td>Southern Asia</td>\n",
       "      <td>22425.64</td>\n",
       "    </tr>\n",
       "    <tr>\n",
       "      <th>Asia</th>\n",
       "      <td>South-eastern Asia</td>\n",
       "      <td>1087.30</td>\n",
       "    </tr>\n",
       "    <tr>\n",
       "      <th>Asia</th>\n",
       "      <td>Western Asia</td>\n",
       "      <td>2153.52</td>\n",
       "    </tr>\n",
       "    <tr>\n",
       "      <th>Asia</th>\n",
       "      <td>Central Asia</td>\n",
       "      <td>1604.33</td>\n",
       "    </tr>\n",
       "  </tbody>\n",
       "</table>\n",
       "</div>"
      ],
      "text/plain": [
       "                 Subregion  Construction\n",
       "Region                                  \n",
       "Asia          Eastern Asia      30365.16\n",
       "Asia         Southern Asia      22425.64\n",
       "Asia    South-eastern Asia       1087.30\n",
       "Asia          Western Asia       2153.52\n",
       "Asia          Central Asia       1604.33"
      ]
     },
     "execution_count": 610,
     "metadata": {},
     "output_type": "execute_result"
    }
   ],
   "source": [
    "subregion_values_df"
   ]
  },
  {
   "cell_type": "code",
   "execution_count": 647,
   "id": "b087aeed-4c19-4d85-8b03-3d5936177e2d",
   "metadata": {},
   "outputs": [
    {
     "data": {
      "text/html": [
       "<div>\n",
       "<style scoped>\n",
       "    .dataframe tbody tr th:only-of-type {\n",
       "        vertical-align: middle;\n",
       "    }\n",
       "\n",
       "    .dataframe tbody tr th {\n",
       "        vertical-align: top;\n",
       "    }\n",
       "\n",
       "    .dataframe thead th {\n",
       "        text-align: right;\n",
       "    }\n",
       "</style>\n",
       "<table border=\"1\" class=\"dataframe\">\n",
       "  <thead>\n",
       "    <tr style=\"text-align: right;\">\n",
       "      <th></th>\n",
       "      <th>Proposed</th>\n",
       "      <th>Construction</th>\n",
       "      <th>Proposed+Construction</th>\n",
       "      <th>Shelved</th>\n",
       "      <th>Cancelled</th>\n",
       "      <th>Operating</th>\n",
       "      <th>Idle</th>\n",
       "      <th>Mothballed</th>\n",
       "      <th>Retired</th>\n",
       "    </tr>\n",
       "  </thead>\n",
       "  <tbody>\n",
       "    <tr>\n",
       "      <th>Africa</th>\n",
       "      <td>22634.50</td>\n",
       "      <td>1769.93</td>\n",
       "      <td>24404.43</td>\n",
       "      <td>1491.93</td>\n",
       "      <td>817.96</td>\n",
       "      <td>32001.22</td>\n",
       "      <td>0.0</td>\n",
       "      <td>1107.39</td>\n",
       "      <td>0.00</td>\n",
       "    </tr>\n",
       "    <tr>\n",
       "      <th>Americas</th>\n",
       "      <td>25662.60</td>\n",
       "      <td>4685.84</td>\n",
       "      <td>30348.44</td>\n",
       "      <td>6553.44</td>\n",
       "      <td>22999.47</td>\n",
       "      <td>461688.15</td>\n",
       "      <td>381.0</td>\n",
       "      <td>224.00</td>\n",
       "      <td>0.00</td>\n",
       "    </tr>\n",
       "    <tr>\n",
       "      <th>Asia</th>\n",
       "      <td>68910.51</td>\n",
       "      <td>57635.95</td>\n",
       "      <td>126546.46</td>\n",
       "      <td>8094.24</td>\n",
       "      <td>27084.57</td>\n",
       "      <td>250659.78</td>\n",
       "      <td>0.0</td>\n",
       "      <td>1373.59</td>\n",
       "      <td>229.68</td>\n",
       "    </tr>\n",
       "    <tr>\n",
       "      <th>Europe</th>\n",
       "      <td>31650.12</td>\n",
       "      <td>5569.70</td>\n",
       "      <td>37219.82</td>\n",
       "      <td>6387.71</td>\n",
       "      <td>16054.01</td>\n",
       "      <td>223190.20</td>\n",
       "      <td>1660.0</td>\n",
       "      <td>5225.10</td>\n",
       "      <td>3182.27</td>\n",
       "    </tr>\n",
       "    <tr>\n",
       "      <th>Oceania</th>\n",
       "      <td>10176.64</td>\n",
       "      <td>4.30</td>\n",
       "      <td>10180.94</td>\n",
       "      <td>4126.22</td>\n",
       "      <td>7515.50</td>\n",
       "      <td>32754.31</td>\n",
       "      <td>0.0</td>\n",
       "      <td>0.00</td>\n",
       "      <td>0.00</td>\n",
       "    </tr>\n",
       "  </tbody>\n",
       "</table>\n",
       "</div>"
      ],
      "text/plain": [
       "          Proposed  Construction  Proposed+Construction  Shelved  Cancelled  \\\n",
       "Africa    22634.50       1769.93               24404.43  1491.93     817.96   \n",
       "Americas  25662.60       4685.84               30348.44  6553.44   22999.47   \n",
       "Asia      68910.51      57635.95              126546.46  8094.24   27084.57   \n",
       "Europe    31650.12       5569.70               37219.82  6387.71   16054.01   \n",
       "Oceania   10176.64          4.30               10180.94  4126.22    7515.50   \n",
       "\n",
       "          Operating    Idle  Mothballed  Retired  \n",
       "Africa     32001.22     0.0     1107.39     0.00  \n",
       "Americas  461688.15   381.0      224.00     0.00  \n",
       "Asia      250659.78     0.0     1373.59   229.68  \n",
       "Europe    223190.20  1660.0     5225.10  3182.27  \n",
       "Oceania    32754.31     0.0        0.00     0.00  "
      ]
     },
     "execution_count": 647,
     "metadata": {},
     "output_type": "execute_result"
    }
   ],
   "source": [
    "km_by_region_df"
   ]
  },
  {
   "cell_type": "code",
   "execution_count": 654,
   "id": "49e11133-89ab-465c-a96e-71667f70f2de",
   "metadata": {},
   "outputs": [
    {
     "data": {
      "text/plain": [
       "'57,600 km'"
      ]
     },
     "execution_count": 654,
     "metadata": {},
     "output_type": "execute_result"
    }
   ],
   "source": [
    "'{x:,.0f} km'.format(x=round(km_by_region_df.loc['Asia',which_status],-2))"
   ]
  },
  {
   "cell_type": "code",
   "execution_count": 660,
   "id": "00704899-8eea-4431-807a-8cd6b28956b2",
   "metadata": {},
   "outputs": [
    {
     "data": {
      "text/plain": [
       "[8273.215291537934,\n",
       " 799.4893327737086,\n",
       " 672.6177523177828,\n",
       " 254.06039010290863,\n",
       " 0.6172332676673694]"
      ]
     },
     "execution_count": 660,
     "metadata": {},
     "output_type": "execute_result"
    }
   ],
   "source": [
    "normalized_region_values"
   ]
  },
  {
   "cell_type": "code",
   "execution_count": 678,
   "id": "c5091f08-43fe-490b-a8b5-4f69a6407d2e",
   "metadata": {},
   "outputs": [
    {
     "data": {
      "text/plain": [
       "array([ 9.0207785 ,  6.68397319,  6.51117719,  5.537572  , -0.48250826])"
      ]
     },
     "execution_count": 678,
     "metadata": {},
     "output_type": "execute_result"
    }
   ],
   "source": [
    "numpy.log(normalized_region_values)"
   ]
  },
  {
   "cell_type": "code",
   "execution_count": 710,
   "id": "bd58abe1-4a49-46f9-9569-799bdf44195b",
   "metadata": {},
   "outputs": [
    {
     "name": "stdout",
     "output_type": "stream",
     "text": [
      "Asia\n",
      "Europe\n",
      "Americas\n",
      "Africa\n",
      "Oceania\n"
     ]
    },
    {
     "data": {
      "text/plain": [
       "Text(0.0, -0.125, 'Source: Global Gas Infrastructure Tracker')"
      ]
     },
     "execution_count": 710,
     "metadata": {},
     "output_type": "execute_result"
    },
    {
     "data": {
      "image/png": "[encoded data removed]",
      "text/plain": [
       "<Figure size 888.889x625 with 6 Axes>"
      ]
     },
     "metadata": {},
     "output_type": "display_data"
    }
   ],
   "source": [
    "width_pixels = 640 # 640 default\n",
    "height_pixels = 450 # 450 default\n",
    "fig = mp.figure(figsize=(width_pixels/72, height_pixels/72))\n",
    "fig.canvas.draw()\n",
    "axis_text_color = '0.5'\n",
    "\n",
    "ax=fig.add_subplot(111)\n",
    "ax.axis('off')\n",
    "\n",
    "which_status = 'Construction'\n",
    "subregion_divider_lw = 2\n",
    "region_divider_lw = 3\n",
    "divider_lc = '1'\n",
    "\n",
    "# first normalize region sizes (computes the areas for the treemap)\n",
    "normalized_region_values = squarify.normalize_sizes(regional_sum_df[which_status].values,\n",
    "                                                    dx=100,\n",
    "                                                    dy=100)\n",
    "# squarify them now (computes where they are arranged)\n",
    "squarified_region_values = squarify.squarify(normalized_region_values,\n",
    "                                             x=0,\n",
    "                                             y=0,\n",
    "                                             dx=100,\n",
    "                                             dy=100)\n",
    "\n",
    "km_by_subregion_df_treemap = km_by_subregion_df_toplot[[which_status]].reset_index(level=1)\n",
    "# remove all zero rows\n",
    "#km_by_subregion_df_treemap = km_by_subregion_df_treemap.loc[km_by_subregion_df_treemap[which_status]!=0]\n",
    "\n",
    "ax_bbox = ax.get_position() # gives x0, y0, xwidth, yheight\n",
    "x_scale = ax_bbox.bounds[2]\n",
    "y_scale = ax_bbox.bounds[3]\n",
    "\n",
    "#for i in [0]:#range(len(squarified_region_values)):\n",
    "for i in range(len(squarified_region_values)):\n",
    "    \n",
    "    region_name = regional_sum_df.index.tolist()[i]\n",
    "    print(region_name)\n",
    "\n",
    "    # create region dividers\n",
    "    ax_new = fig.add_axes([squarified_region_values[i]['x']/100*y_scale+ax_bbox.bounds[0],\n",
    "                           squarified_region_values[i]['y']/100*y_scale+ax_bbox.bounds[1],\n",
    "                           squarified_region_values[i]['dx']/100*x_scale,\n",
    "                           squarified_region_values[i]['dy']/100*y_scale],\n",
    "                          frameon=True,\n",
    "                          transform=ax.transAxes)\n",
    "\n",
    "    # pull out subregion values\n",
    "    subregion_values_df = km_by_subregion_df_treemap.loc[region_name]\n",
    "    # drop anything equal to zero\n",
    "    subregion_values_df = subregion_values_df.loc[subregion_values_df[which_status]!=0]\n",
    "    subregion_values = subregion_values_df.sort_values(which_status, ascending=False)[which_status].values\n",
    "    \n",
    "    normalized_subregion_values = squarify.normalize_sizes(subregion_values,\n",
    "                                                           dx=squarified_region_values[i]['dx'],\n",
    "                                                           dy=squarified_region_values[i]['dy'])\n",
    "\n",
    "    # squarified_subregion_values = squarify.squarify(normalized_subregion_values,\n",
    "    #                                                 x=0,\n",
    "    #                                                 y=0,\n",
    "    #                                                 #x=squarified_region_values[i]['x']/100*y_scale+ax_bbox.bounds[0],\n",
    "    #                                                 #y=squarified_region_values[i]['y']/100*y_scale+ax_bbox.bounds[1],\n",
    "    #                                                 dx=100,\n",
    "    #                                                 dy=100)\n",
    "    #                                                 #dx=,\n",
    "    #                                                 #dy=)\n",
    "\n",
    "    ax_new.axis('off')\n",
    "    \n",
    "    #subregion squarify plot\n",
    "    squarify.plot(normalized_subregion_values,\n",
    "                  norm_x=100,\n",
    "                  norm_y=100,\n",
    "                  ax=ax_new,\n",
    "                  pad=False,\n",
    "                  color=[treemap_colors[region_name]]*normalized_subregion_values.__len__(),\n",
    "                  linewidth=subregion_divider_lw,\n",
    "                  clip_on=False,\n",
    "                  edgecolor=divider_lc)\n",
    "    \n",
    "    # first do left right top bottom (outline the region)\n",
    "    # ax_new.axhline(y=0, xmin=0, xmax=1, \n",
    "    #                color=divider_lc,\n",
    "    #                #clip_on=False,\n",
    "    #                lw=region_divider_lw)\n",
    "    # ax_new.axhline(y=100, xmin=0, xmax=1, \n",
    "    #                color=divider_lc, \n",
    "    #                #clip_on=False,\n",
    "    #                lw=region_divider_lw)    \n",
    "    # ax_new.axvline(x=0, ymin=0, ymax=1, \n",
    "    #                color=divider_lc,\n",
    "    #                #clip_on=False,\n",
    "    #                lw=region_divider_lw)\n",
    "    # ax_new.axvline(x=100, ymin=0, ymax=1, \n",
    "    #                color=divider_lc,\n",
    "    #                #clip_on=False,\n",
    "    #                lw=region_divider_lw)\n",
    "\n",
    "    # add labels for regions\n",
    "\n",
    "    region_text = ax_new.text(s=region_name+'\\n'+'{x:,.0f} km'.format(x=round(km_by_region_df.loc[region_name,which_status],-2)),\n",
    "                x=0.03,\n",
    "                y=0.01,\n",
    "                transform=ax_new.transAxes,\n",
    "                ha='left',\n",
    "                va='bottom',\n",
    "                #wrap=True,\n",
    "                #size=base_size*squarified_region_values[i]['dx']/100*x_scale*6.5, # scaling text size by the dx value with a multiplier around 4.4\n",
    "                size=base_size*numpy.log(normalized_region_values[i])/6.5,\n",
    "                color='1',\n",
    "                weight=text_weight_bold)\n",
    "\n",
    "    # for each region plot with subregions, get the rectangles (bars) of the subregions\n",
    "    # final entry of bars is the full box of the plot, I think, so use N-1 of them...\n",
    "    bars = [rect for rect in ax_new.get_children() if isinstance(rect, matplotlib.patches.Rectangle)][:-1]\n",
    "    for j in range(bars.__len__()):\n",
    "        # get lower left, top right corner of boxes\n",
    "        x0,y0,x1,y1 = bars[j].get_bbox().x0, bars[j].get_bbox().y0, bars[j].get_bbox().x1, bars[j].get_bbox().y1\n",
    "        ax_new.text(x=x1-0.5,y=y1-1.5,\n",
    "                    s='\\n'.join(\n",
    "                        textwrap.wrap(\n",
    "                        subregion_values_df.Subregion.tolist()[j],\n",
    "                        10,\n",
    "                        break_long_words=False)\n",
    "                    ),\n",
    "                    size=base_size*0.675,\n",
    "                    color='1',\n",
    "                    rotation=90,\n",
    "                    ha='right',\n",
    "                    va='top',\n",
    "                    weight=600,#text_weight_bold,\n",
    "                    linespacing=0.9)\n",
    "\n",
    "\n",
    "# add titles, first get the location of the yaxis labels so they can line up exactly\n",
    "# call it \"x_location\"\n",
    "bbox = ax.get_tightbbox() #ax.get_yticklabels()[-1].get_window_extent()\n",
    "x_location,y_location = ax.transAxes.inverted().transform([bbox.x0, bbox.y1])\n",
    "ax.text(s='Total gas pipeline km under construction, grouped by\\nregion and subregion',\n",
    "        size=base_size*1.15,\n",
    "        color=color_subtitle,\n",
    "        x=x_location,\n",
    "        y=1.1,\n",
    "        ha='left',\n",
    "        va='center',\n",
    "        weight=text_weight_normal,\n",
    "        transform=ax.transAxes,\n",
    "        linespacing=1.45,\n",
    "        wrap=True)\n",
    "\n",
    "bbox_with_subtitle = ax.get_tightbbox()\n",
    "x_location_subtitle,y_location_subtitle = ax.transAxes.inverted().transform([bbox_with_subtitle.x0, bbox_with_subtitle.y1])\n",
    "ax.text(s='Asia is building over 80% of gas pipelines',\n",
    "        size=base_size*1.5,\n",
    "        color=color_title,\n",
    "        x=x_location,\n",
    "        y=y_location_subtitle*1.05,#1.2,\n",
    "        ha='left',\n",
    "        va='center',\n",
    "        weight=text_weight_bold,\n",
    "        transform=ax.transAxes,\n",
    "        linespacing=1.35,\n",
    "        wrap=False)\n",
    "\n",
    "ax.set_xlabel('Percentage of km in development (%)',\n",
    "              size=base_size, color=axis_text_color)\n",
    "\n",
    "# LEGEND AND GEM LOGO\n",
    "gem_logo = matplotlib.image.imread('/Users/baird/Dropbox/_git_ALL/_github-repos-gem/gemplot-python/data/gem_logo_padding.png')\n",
    "logo_image_box = matplotlib.offsetbox.OffsetImage(gem_logo, zoom=0.035)\n",
    "logo_annotation_box = matplotlib.offsetbox.AnnotationBbox(logo_image_box,\n",
    "                                                          (1,0), # sets box alignment to lower right corder\n",
    "                                                          xycoords='axes fraction',\n",
    "                                                          box_alignment=(1.,1.5), \n",
    "                                                          frameon=False)\n",
    "ax.add_artist(logo_annotation_box)\n",
    "\n",
    "# note at bottom\n",
    "ax.text(s='Source: Global Gas Infrastructure Tracker',\n",
    "        size=base_size*0.875,\n",
    "        color=color_title,\n",
    "        x=x_location,\n",
    "        y=-0.125*450/height_pixels,\n",
    "        ha='left',\n",
    "        va='center',\n",
    "        weight=text_weight_normal,\n",
    "        transform=ax.transAxes,\n",
    "        linespacing=1.2,\n",
    "        wrap=False)"
   ]
  },
  {
   "cell_type": "markdown",
   "id": "c277d8a8-4ca4-491d-a172-2576d3346773",
   "metadata": {},
   "source": [
    "# projects by country, by region"
   ]
  },
  {
   "cell_type": "code",
   "execution_count": null,
   "id": "9ff9810a-e55c-4a5c-89e4-7dbb2e4c6a48",
   "metadata": {
    "tags": []
   },
   "outputs": [],
   "source": [
    "country_ratios_fuel_df = country_ratios_df[country_ratios_df['Fuel']=='Gas']\n",
    "\n",
    "num_by_country_df = pandas.DataFrame(columns=status_list, index=country_list)\n",
    "num_by_region_df = pandas.DataFrame(columns=status_list, index=region_list)\n",
    "\n",
    "print('===country-level calculations===')\n",
    "for status in status_list:\n",
    "    print(status)\n",
    "    country_ratios_fuel_df_status = country_ratios_fuel_df[country_ratios_fuel_df['Status']==status]\n",
    "    num_by_country_df[status] = country_ratios_fuel_df_status.groupby('ProjectID')['MergedKmByCountry'].count()\n",
    "\n",
    "print('===regional calculations===')\n",
    "for status in status_list:\n",
    "    print(status)\n",
    "    country_ratios_fuel_df_status = country_ratios_fuel_df[country_ratios_fuel_df['Status']==status]\n",
    "    num_by_region_df[status] = country_ratios_fuel_df_status.groupby('Region')['MergedKmByCountry'].count()\n",
    "\n",
    "# # fill NaN with 0.0\n",
    "num_by_region_df = num_by_region_df.fillna(0)\n",
    "num_by_country_df = num_by_country_df.fillna(0)"
   ]
  },
  {
   "cell_type": "code",
   "execution_count": null,
   "id": "b5a9837a-b047-4b7e-b9d6-34d6abc2a38a",
   "metadata": {},
   "outputs": [],
   "source": [
    "num_by_region_df"
   ]
  },
  {
   "cell_type": "markdown",
   "id": "99fe358c",
   "metadata": {},
   "source": [
    "# numbers of pipes finished in a given year"
   ]
  },
  {
   "cell_type": "code",
   "execution_count": null,
   "id": "198c9165",
   "metadata": {
    "tags": []
   },
   "outputs": [],
   "source": [
    "# count pipelines that are already operating\n",
    "pipes_started = pipes_df_orig.copy()\n",
    "pipes_started['StartYearEarliest'].replace(numpy.nan,'',inplace=True)\n",
    "pipes_started = pipes_started[(pipes_started['Status'].isin(['Operating'])) &\n",
    "                              (pipes_started['Fuel']=='Gas')]\n",
    "pipes_started_sum = pipes_started.groupby('StartYearEarliest')['LengthMergedKm'].sum()"
   ]
  },
  {
   "cell_type": "code",
   "execution_count": null,
   "id": "8d9559e8-1fc7-49c1-833f-6e19e425e498",
   "metadata": {
    "tags": []
   },
   "outputs": [],
   "source": [
    "# count km of pipeline for each start year\n",
    "pipes_started_startyear = pipes_df_orig.copy()\n",
    "pipes_started_startyear['StartYearEarliest'].replace(numpy.nan,'',inplace=True)\n",
    "pipes_started_startyear = pipes_started_startyear[(pipes_started_startyear['Status'].isin(['Operating'])) &\n",
    "                              (pipes_started_startyear['Fuel']=='Gas')]\n",
    "#pipes_started_startyear_sum = pipes_started_startyear.groupby('StartYearLatest')['LengthMergedKm'].sum()"
   ]
  },
  {
   "cell_type": "code",
   "execution_count": null,
   "id": "b944ca0c-f362-4d07-a142-78b1523e988d",
   "metadata": {
    "tags": []
   },
   "outputs": [],
   "source": [
    "# indev pipelines = Proposed or Construction or Shelved\n",
    "pipes_indev = pipes_df_orig.copy()\n",
    "pipes_indev = pipes_indev.loc[(pipes_indev.Fuel=='Gas')&\n",
    "                              (pipes_indev.Status.isin(['Proposed','Construction','Shelved']))].groupby('Status')['LengthMergedKm'].sum()\n",
    "#pipes_indev = pipes_indev.loc[(pipes_indev.StartYearEarliest>2022)|\n",
    "#                              (pipes_indev.StartYearEarliest.isna())].groupby('Status')['LengthMergedKm'].sum()"
   ]
  },
  {
   "cell_type": "code",
   "execution_count": null,
   "id": "d15a4dbf-af9f-4c41-bb90-bc045c099402",
   "metadata": {
    "tags": []
   },
   "outputs": [],
   "source": [
    "pipes_indev_to2030 = pipes_df_orig.copy()\n",
    "pipes_indev_to2030 = pipes_indev_to2030.loc[(pipes_indev_to2030['Fuel']=='Gas') &\n",
    "                                        (pipes_indev_to2030['Status'].isin(['Proposed','Construction','Shelved'])) &\n",
    "                                        (pipes_indev_to2030['StartYearEarliest'].isin(list(range(2023,2031))))]\n",
    "pipes_indev_to2030 = pipes_indev_to2030.groupby('Status')['LengthMergedKm'].sum()\n"
   ]
  },
  {
   "cell_type": "code",
   "execution_count": null,
   "id": "5bd752fe-875a-4bc2-8429-0910473d52c6",
   "metadata": {
    "tags": []
   },
   "outputs": [],
   "source": [
    "pipes_indev_startyear = pipes_df_orig.copy()\n",
    "pipes_indev_startyear = pipes_indev_startyear[(pipes_indev_startyear['Status'].isin(['Proposed','Construction','Shelved'])) &\n",
    "                                              (pipes_indev_startyear['Fuel']=='Gas')]\n",
    "pipes_indev_startyear = pipes_indev_startyear.groupby(['Status','StartYearEarliest'], dropna=False)['LengthMergedKm'].sum(min_count=1)"
   ]
  },
  {
   "cell_type": "code",
   "execution_count": null,
   "id": "47cc5cd7-5c49-4195-b71d-fff190221140",
   "metadata": {
    "tags": []
   },
   "outputs": [],
   "source": [
    "pipes_indev_startyear.unstack()"
   ]
  },
  {
   "cell_type": "code",
   "execution_count": null,
   "id": "536976f4-7a05-49dd-b898-62d4813ffc51",
   "metadata": {
    "tags": []
   },
   "outputs": [],
   "source": [
    "pipes_indev_startyear['Construction',2023]"
   ]
  },
  {
   "cell_type": "markdown",
   "id": "5a075334-5559-443b-a8bf-c2cc32c2ece7",
   "metadata": {},
   "source": [
    "## 2023–2030 figure, go back to 2008"
   ]
  },
  {
   "cell_type": "raw",
   "id": "10a875c4-6a07-44b9-859a-bbb2f4b9f38f",
   "metadata": {
    "tags": []
   },
   "source": [
    "pandas.DataFrame(pipes_started_sum).to_excel('saved-tables/pipelines-operating-km-by-start-year.xlsx')\n",
    "\n",
    "pandas.DataFrame(pipes_indev_startyear).unstack().replace(numpy.nan,0).to_excel('saved-tables/pipelines-indev-km-by-start-year.xlsx')"
   ]
  },
  {
   "cell_type": "markdown",
   "id": "83c69fd8-e7a7-41bb-b816-b175a0b8909b",
   "metadata": {},
   "source": [
    "## future/past plot"
   ]
  },
  {
   "cell_type": "code",
   "execution_count": null,
   "id": "5e6210eb-0ae8-47f3-81af-2b10d7833e6f",
   "metadata": {
    "tags": []
   },
   "outputs": [],
   "source": [
    "font_size = 7\n",
    "\n",
    "ytop = 30000\n",
    "ytop2 = 250000\n",
    "xlo = 2008\n",
    "xhi = 2023\n",
    "\n",
    "fig = mp.figure(figsize=(3.25,4))\n",
    "\n",
    "widths=[15,2.25]\n",
    "spec = fig.add_gridspec(ncols=2, nrows=1, width_ratios=widths)\n",
    "\n",
    "ax = fig.add_subplot(spec[0,0])\n",
    "\n",
    "ax.bar(pipes_started_sum.loc[range(xlo,xhi+1)].index.values, pipes_started_sum.loc[range(xlo,xhi+1)].values,\n",
    "       color=tracker_operating, label='Operating') # color=solar_base03\n",
    "\n",
    "ax.bar(2023,pipes_indev_startyear['Construction',2023],\n",
    "       label='Construction\\n(scheduled\\nfor 2023)', bottom=pipes_started_sum.loc[2023], \n",
    "       facecolor=tracker_operating, alpha=0.25)\n",
    "\n",
    "ax.tick_params(labelsize=font_size)\n",
    "ax.tick_params('x', rotation=45)\n",
    "ax.set_ylabel('km', size=font_size)\n",
    "\n",
    "ax.set_xlim(xlo-0.75, xhi+0.75)\n",
    "ax.set_ylim(0, ytop)\n",
    "\n",
    "ax.xaxis.set_major_locator(matplotlib.ticker.MaxNLocator(integer=True))\n",
    "\n",
    "ax2 = fig.add_subplot(spec[0,1])\n",
    "ax2.set_ylim(0, ytop2)\n",
    "ax2.set_xlim(0.25,2.75)\n",
    "xvals = [1.5]\n",
    "\n",
    "colors = [tracker_construction, tracker_proposed]#, tracker_shelved]\n",
    "status = ['Construction', 'Proposed']#, 'Shelved']\n",
    "ax2_list = []\n",
    "\n",
    "\n",
    "ax2_list.append(ax2.bar(xvals[0], pipes_indev['Construction'],\n",
    "                 color=tracker_construction, label='Construction'))\n",
    "\n",
    "ax2_list.append(ax2.bar(xvals[0], pipes_indev['Proposed']-pipes_indev_startyear['Construction',2023],\n",
    "                        bottom=pipes_indev['Construction'],\n",
    "                 color=tracker_shelved, label='Proposed'))\n",
    "\n",
    "ax_h, ax_l = ax.get_legend_handles_labels()\n",
    "ax2_h, ax2_l = ax2.get_legend_handles_labels()\n",
    "\n",
    "ax2.set_xticklabels([])\n",
    "ax2.tick_params(labelsize=font_size)\n",
    "ax2.set_xticks([])\n",
    "\n",
    "ax2.set_yticks([250000])\n",
    "ax2.set_yticklabels(['250000'])\n",
    "ax2.yaxis.tick_right()\n",
    "\n",
    "ax.legend(handles=ax_h+ax2_h, fontsize=font_size, frameon=False, \n",
    "          loc='upper left', bbox_to_anchor=[0.05,1])\n",
    "\n",
    "axpos = ax.get_position()\n",
    "ax2pos = ax2.get_position()\n",
    "\n",
    "ax.spines['right'].set_visible(False)\n",
    "ax.spines['top'].set_visible(False)\n",
    "#ax.spines['bottom'].set_visible(False)\n",
    "\n",
    "ax2.spines['left'].set_visible(False)\n",
    "ax2.spines['top'].set_visible(False)\n",
    "ax2.spines['right'].set_visible(False)\n",
    "ax2.spines['right'].set_visible(True)\n",
    "\n",
    "ax.set_title('commissioned by year', fontsize=font_size)\n",
    "ax2.set_title('future', fontsize=font_size)\n",
    "\n",
    "fig.tight_layout(w_pad=0.5)\n",
    "\n",
    "ax.yaxis.set_minor_locator(matplotlib.ticker.AutoMinorLocator(2))\n",
    "#ax2.yaxis.set_minor_locator(matplotlib.ticker.AutoMinorLocator(2))\n",
    "\n",
    "mp.savefig('../figures/gas-pipelines_km-by-start-year.png', bbox_inches='tight', transparent=True, dpi=600)\n",
    "mp.savefig('../figures/gas-pipelines_km-by-start-year.pdf', bbox_inches='tight', transparent=True)"
   ]
  },
  {
   "cell_type": "code",
   "execution_count": null,
   "id": "09a92802-974a-42de-bc19-e12f40226b70",
   "metadata": {
    "tags": []
   },
   "outputs": [],
   "source": [
    "pipes_indev"
   ]
  },
  {
   "cell_type": "markdown",
   "id": "8298e2a6-3199-460c-8109-9f2ce4e9f680",
   "metadata": {},
   "source": [
    "## percent pipelines with start date (sanity check)"
   ]
  },
  {
   "cell_type": "code",
   "execution_count": null,
   "id": "9b19f13c-1f8e-47eb-abff-f8ee5545ba20",
   "metadata": {
    "tags": []
   },
   "outputs": [],
   "source": [
    "pipes_scratch = pipes_df_orig.copy()\n",
    "pipes_scratch = pipes_scratch[(pipes_scratch['Fuel']=='Gas') &\n",
    "                              (pipes_scratch['Status'].isin(['Proposed','Construction','Shelved']))]"
   ]
  },
  {
   "cell_type": "code",
   "execution_count": null,
   "id": "4b88a57c-41dd-4d0a-a3ca-3c08d90892ac",
   "metadata": {
    "tags": []
   },
   "outputs": [],
   "source": [
    "pipes_scratch[~pipes_scratch['StartYearEarliest'].isnull()]['StartYearEarliest'].count()/pipes_scratch.shape[0]\n"
   ]
  },
  {
   "cell_type": "markdown",
   "id": "358e0310",
   "metadata": {},
   "source": [
    "## regional pipelines started in given year"
   ]
  },
  {
   "cell_type": "code",
   "execution_count": null,
   "id": "89a9a24b-3357-4080-be84-0e0965d31514",
   "metadata": {
    "tags": []
   },
   "outputs": [],
   "source": [
    "pipes_df_orig['StartYearEarliest'].min()"
   ]
  },
  {
   "cell_type": "code",
   "execution_count": null,
   "id": "bc05d721",
   "metadata": {
    "tags": []
   },
   "outputs": [],
   "source": [
    "years_array = numpy.arange(float(pipes_df_orig['StartYearEarliest'].min()), \n",
    "                           float(pipes_df_orig['StartYearEarliest'].max())+1)\n",
    "regions_startyear_sums_df = pandas.DataFrame(numpy.nan, index=years_array, columns=region_list)"
   ]
  },
  {
   "cell_type": "code",
   "execution_count": null,
   "id": "b1fca66b",
   "metadata": {
    "tags": []
   },
   "outputs": [],
   "source": [
    "#pipes_started = pipes_df.copy()[(pipes_df['Status'].isin(['Operating'])) & pipes_df['Fuel']=='oil']\n",
    "#pipes_started_sum = pipes_started.groupby('StartYearLatest')['LengthMergedKm'].sum()\n",
    "\n",
    "for region in region_list:\n",
    "    pipes_started = pipes_df_orig.copy()[(pipes_df_orig['Status'].isin(['Operating','Retired','Idle'])) & \n",
    "                                    (pipes_df_orig['Fuel']=='Gas')]\n",
    "    pipes_started = pipes_started[pipes_started['StartRegion']==region]\n",
    "    pipes_started_sum_up = pipes_started.groupby('StartYearEarliest')['LengthMergedKm'].sum()\n",
    "    \n",
    "    regions_startyear_sums_df[region] = pipes_started_sum_up"
   ]
  },
  {
   "cell_type": "markdown",
   "id": "0299445b-00c6-448c-9db4-1ee541d487ed",
   "metadata": {},
   "source": [
    "## plot pie chart of regional values"
   ]
  },
  {
   "cell_type": "code",
   "execution_count": null,
   "id": "226216bb-58ee-4c37-af1f-637b84aa56ea",
   "metadata": {
    "tags": []
   },
   "outputs": [],
   "source": [
    "# mess with some color pallettes\n",
    "#seaborn.color_palette('husl', 10)\n",
    "seaborn.palplot(seaborn.husl_palette(10, s=0.9, l=0.75, h=0.15))\n",
    "seaborn.palplot(seaborn.husl_palette(10, h=0.15))\n",
    "\n",
    "cmap_dark = seaborn.husl_palette(10, h=0.15, l=0.4, s=0.8, as_cmap=True)\n",
    "cmap_light = seaborn.husl_palette(10, h=0.15, s=1, as_cmap=True)"
   ]
  },
  {
   "cell_type": "markdown",
   "id": "712acc4e",
   "metadata": {},
   "source": [
    "## figure 2 - top 20 countries proposed+construction"
   ]
  },
  {
   "cell_type": "code",
   "execution_count": null,
   "id": "e4961c91-d30b-4e76-9e26-94a0ae21ba70",
   "metadata": {
    "tags": []
   },
   "outputs": [],
   "source": [
    "def adjust_spines(ax, spines):\n",
    "    for loc, spine in ax.spines.items():\n",
    "        if loc in spines:\n",
    "            spine.set_position(('outward', 10))  # outward by 10 points\n",
    "        else:\n",
    "            spine.set_color('none')  # don't draw spine\n",
    "\n",
    "    # turn off ticks where there is no spine\n",
    "    if 'left' in spines:\n",
    "        ax.yaxis.set_ticks_position('left')\n",
    "    else:\n",
    "        # no yaxis ticks\n",
    "        ax.yaxis.set_ticks([])\n",
    "\n",
    "    if 'bottom' in spines:\n",
    "        ax.xaxis.set_ticks_position('bottom')\n",
    "    else:\n",
    "        # no xaxis ticks\n",
    "        ax.xaxis.set_ticks([])"
   ]
  },
  {
   "cell_type": "code",
   "execution_count": null,
   "id": "1aef18a3-285a-4743-9756-f34852e57375",
   "metadata": {},
   "outputs": [],
   "source": [
    "font_size = 7\n",
    "\n",
    "width_pixels = 640\n",
    "height_pixels = 500\n",
    "fig = mp.figure(figsize=(width_pixels/72, height_pixels/72))\n",
    "fig.canvas.draw()\n",
    "nbars=15\n",
    "\n",
    "country_order = km_by_country_df.sort_values('Construction', ascending=False).index[:nbars][::-1]\n",
    "\n",
    "ax = fig.add_subplot(111)\n",
    "\n",
    "bar_height = 0.8\n",
    "\n",
    "ax.barh(numpy.arange(nbars), \n",
    "        km_by_country_df.loc[country_order]['Construction'].values, \n",
    "        facecolor=tracker_construction,#solar_orange, \n",
    "        label='Construction',\n",
    "        height=bar_height)\n",
    "\n",
    "ax.barh(numpy.arange(nbars), \n",
    "        km_by_country_df.loc[country_order]['Proposed'].values, \n",
    "        left=km_by_country_df.loc[country_order]['Construction'].values, \n",
    "        facecolor=tracker_proposed,\n",
    "        label='Proposed',\n",
    "        height=bar_height)\n",
    "\n",
    "ax.barh(numpy.arange(nbars), \n",
    "        km_by_country_df.loc[country_order]['Shelved'].values, \n",
    "        left=km_by_country_df.loc[country_order][['Proposed','Construction']].sum(axis=1).values, \n",
    "        facecolor=tracker_shelved,\n",
    "        label='Shelved',\n",
    "        height=bar_height)\n",
    "\n",
    "ax.barh(numpy.arange(nbars), \n",
    "        km_by_country_df.loc[country_order]['Cancelled'].values, \n",
    "        left=km_by_country_df.loc[country_order][['Proposed','Construction','Shelved']].sum(axis=1).values, \n",
    "        facecolor=tracker_cancelled,\n",
    "        label='Cancelled',\n",
    "        height=bar_height)\n",
    "\n",
    "# FORMATTING\n",
    "ax.tick_params(labelsize=base_size)\n",
    "ax.tick_params(which='both',size=0)\n",
    "ax.tick_params('x', pad=10)\n",
    "\n",
    "ax.spines['right'].set_visible(False)\n",
    "ax.spines['top'].set_visible(False)\n",
    "ax.spines['bottom'].set_visible(False)\n",
    "ax.spines['left'].set_linewidth(2)\n",
    "\n",
    "# format axis to have proper units and commas in thousands place\n",
    "ax.xaxis.set_major_formatter(matplotlib.ticker.StrMethodFormatter('{x:,.0f} km'))\n",
    "ax.set_xlim(0,70100)\n",
    "ax.set_ylim(-.5,nbars-.5)\n",
    "ax.set_xticks([0,20000,40000,60000])\n",
    "\n",
    "ax.xaxis.set_minor_locator(matplotlib.ticker.AutoMinorLocator(2)) # 2 for dividing major ticks into 2\n",
    "ax.xaxis.grid(which='both',\n",
    "              color=color_grid)\n",
    "\n",
    "ax.set_axisbelow(True)\n",
    "ax.set_yticks(numpy.arange(nbars))\n",
    "ax.set_yticklabels(country_order)\n",
    "\n",
    "# add titles, first get the location of the yaxis labels so they can line up exactly\n",
    "# call it \"x_locatio\"\n",
    "bbox = ax.get_tightbbox() #ax.get_yticklabels()[-1].get_window_extent()\n",
    "x_location,_ = ax.transAxes.inverted().transform([bbox.x0, bbox.y0])\n",
    "\n",
    "ax.text(s='Top 15 countries constructing gas pipelines',\n",
    "        size=base_size*1.5,\n",
    "        color=color_title,\n",
    "        x=x_location,\n",
    "        y=1.25,#1.2,\n",
    "        ha='left',\n",
    "        va='center',\n",
    "        weight=text_weight_bold,\n",
    "        transform=ax.transAxes,\n",
    "        linespacing=1.35,\n",
    "        wrap=False)\n",
    "\n",
    "ax.text(s='China, India, Iran, Russia, and Pakistan lead the buildout',\n",
    "        size=base_size*1.15,\n",
    "        color=color_subtitle,\n",
    "        x=x_location,\n",
    "        y=1.15,\n",
    "        ha='left',\n",
    "        va='center',\n",
    "        weight=text_weight_normal,\n",
    "        transform=ax.transAxes,\n",
    "        linespacing=1.45,\n",
    "        wrap=False)\n",
    "\n",
    "ax.text(s='Source: Global Gas Infrastructure Tracker\\nRanked by km under construction (darkest red bar)',\n",
    "        size=base_size*0.875,\n",
    "        color=color_title,\n",
    "        x=x_location,\n",
    "        y=-0.22*450/height_pixels, # make sure the caption adjust appropriately relative to default height of 450\n",
    "        ha='left',\n",
    "        va='center',\n",
    "        weight=text_weight_normal,\n",
    "        transform=ax.transAxes,\n",
    "        linespacing=1.2,\n",
    "        wrap=False)\n",
    "\n",
    "ax.legend(fontsize=base_size,\n",
    "          frameon=False,\n",
    "          loc='lower left',\n",
    "          bbox_to_anchor=(x_location,1.025),\n",
    "          bbox_transform=ax.transAxes,\n",
    "          handlelength=1,\n",
    "          handleheight=1,\n",
    "          ncols=4,\n",
    "          borderpad=0,\n",
    "          borderaxespad=0,\n",
    "          columnspacing=0.75,\n",
    "          handletextpad=0.25)\n",
    "\n",
    "gem_logo = matplotlib.image.imread('/Users/baird/Dropbox/_git_ALL/_github-repos-gem/gemplot-python/data/gem_logo_padding.png')\n",
    "logo_image_box = matplotlib.offsetbox.OffsetImage(gem_logo, zoom=0.035)\n",
    "logo_annotation_box = matplotlib.offsetbox.AnnotationBbox(logo_image_box,\n",
    "                                                          (1,0), # sets box alignment to lower right corder\n",
    "                                                          xycoords='axes fraction',\n",
    "                                                          box_alignment=(1.,2.15), \n",
    "                                                          frameon=False)\n",
    "ax.add_artist(logo_annotation_box)\n",
    "\n",
    "mp.savefig('../figures/Figure01-gas-pipelines_top-20-countries-sorted-by-construction.png',\n",
    "          bbox_inches='tight',\n",
    "          transparent=False,\n",
    "          dpi=600)\n",
    "\n",
    "mp.savefig('../figures/Figure01-gas-pipelines_top-20-countries-sorted-by-construction.pdf',\n",
    "          bbox_inches='tight', \n",
    "          transparent=False)"
   ]
  },
  {
   "cell_type": "raw",
   "id": "090f7c80-a0f6-403c-86da-d36500735426",
   "metadata": {
    "tags": []
   },
   "source": [
    "sel_cmap = matplotlib.cm.get_cmap('Reds')\n",
    "#tracker_operating = sel_cmap(0.999)\n",
    "#tracker_construction = sel_cmap(0.8)\n",
    "#tracker_proposed = sel_cmap(0.6)\n",
    "#tracker_shelved = sel_cmap(0.4)\n",
    "#tracker_cancelled = sel_cmap(0.2)\n",
    "\n",
    "font_size = 7\n",
    "fig = mp.figure(figsize=(6.75,4))\n",
    "nbars=20\n",
    "\n",
    "country_order = km_by_country_df.index[:nbars][::-1]\n",
    "\n",
    "ax = fig.add_subplot(111)\n",
    "\n",
    "ax.barh(numpy.arange(nbars), \n",
    "        km_by_country_df.loc[country_order]['Construction'].values, \n",
    "        facecolor=sel_cmap(0.8),\n",
    "        label='Construction', height=0.6)\n",
    "\n",
    "ax.barh(numpy.arange(nbars), \n",
    "        km_by_country_df.loc[country_order]['Proposed'].values, \n",
    "        left=km_by_country_df.loc[country_order]['Construction'].values, \n",
    "        facecolor=sel_cmap(0.4),\n",
    "        label='Proposed', height=0.6)\n",
    "\n",
    "ax.set_yticks(numpy.arange(nbars))\n",
    "ax.set_yticklabels(km_by_country_df.index[:nbars][::-1])\n",
    "ax.tick_params(labelsize=font_size)\n",
    "ax.tick_params('x', pad=0)\n",
    "ax.set_xlim(0,70000)\n",
    "#ax.set_ylim(-.75,19.75)\n",
    "ax.set_ylim(-.25,20)\n",
    "ax.set_xlabel('km', size=font_size)#, labelpad=10)\n",
    "ax.xaxis.set_ticks_position('top')\n",
    "ax.xaxis.set_label_position('top')\n",
    "\n",
    "ax.legend(fontsize=font_size, frameon=False, loc='lower right')\n",
    "\n",
    "ax.spines['right'].set_visible(False)\n",
    "ax.spines['left'].set_visible(False)\n",
    "ax.spines['bottom'].set_visible(False)\n",
    "\n",
    "#ax.xaxis.grid(True, which='minor')\n",
    "ax.xaxis.set_minor_locator(matplotlib.ticker.AutoMinorLocator(2))\n",
    "\n",
    "\n",
    "#mp.savefig('saved-figures/oil-pipelines_top-20-countries.pdf', bbox_inches='tight', transparent=True)\n",
    "\n",
    "#adjust_spines(ax, ['top'])\n",
    "    \n",
    "mp.savefig('../figures/gas-pipelines_top-20-countries-no-cancelled-shelved.png',\n",
    "          bbox_inches='tight', \n",
    "          transparent=True,\n",
    "          dpi=600)\n",
    "\n",
    "mp.savefig('../figures/gas-pipelines_top-20-countries-no-cancelled-shelved.pdf',\n",
    "          bbox_inches='tight', \n",
    "          transparent=True)"
   ]
  },
  {
   "cell_type": "code",
   "execution_count": null,
   "id": "3906d28f",
   "metadata": {
    "tags": []
   },
   "outputs": [],
   "source": [
    "# ratio of China to India (how many times larger is km of Chinese pipelines than India?)\n",
    "km_by_country_df.loc['China']['Proposed+Construction']/km_by_country_df.loc['India']['Proposed+Construction']"
   ]
  },
  {
   "cell_type": "markdown",
   "id": "ef4ea45f-4fac-4b6f-a619-dd3ecd24b143",
   "metadata": {},
   "source": [
    "# parent analysis"
   ]
  },
  {
   "cell_type": "raw",
   "id": "1645f34e-1266-4b50-9129-0a83cc175992",
   "metadata": {},
   "source": [
    "# this cell takes the terminals data set (call it \"terms_df_all\", here we're using the indev terminals subset)\n",
    "# and loops throw every row, breaks up the parent and % ownership strings,\n",
    "# and outputs a dataframe owner_parent_calculations_df that has a bunch of different useful info related\n",
    "# to parent shares, capacity, etc.\n",
    "\n",
    "terms_df_all = terminals_df_indev.copy()\n",
    "owner_parent_calculations_df = pandas.DataFrame() # empty df for storing owner/parent stuff\n",
    "\n",
    "for idx,row in terminals_df_indev.iterrows():\n",
    "    parent_string = row.Parent #.values[0]\n",
    "\n",
    "    # the two lines below go through the parent entries in the sheet and split them,\n",
    "    # recording the percents and parents in separate lists, to be dealt with later\n",
    "    parent_list = re.sub(' \\[.*?\\]', '', parent_string).split('; ') # all entries must have an \"Owner [%]\" syntax, so [unknown %] is included\n",
    "    percent_list = [float(i.rstrip('%'))/100. for i in re.findall('\\\\d+(?:\\\\.\\\\d+)?%', parent_string)]\n",
    "\n",
    "    # if there are fewer recorded percents than number of parents\n",
    "    if parent_list.__len__()!=percent_list.__len__():\n",
    "        # if there are no percents, make them all equal\n",
    "        if percent_list==[]:\n",
    "            percent_list = [1/parent_list.__len__() for i in parent_list]\n",
    "        # otherwise, get the difference and distribute the remainder equally among remaining parents\n",
    "        else:\n",
    "            nmissing = parent_list.__len__()-percent_list.__len__()\n",
    "            # distribute nans evenly\n",
    "            total = numpy.nansum(percent_list)\n",
    "            leftover = 1-total\n",
    "            percent_list += [leftover/nmissing]*nmissing\n",
    "\n",
    "    # now go through each parent and associated percent ownership\n",
    "    # and store it alongside the project's name along with capacity, status, region, etc.\n",
    "    # this is stored inside the big dataframe owner_parent_calculations_df\n",
    "    for p_idx,parent in enumerate(parent_list):\n",
    "        if parent not in parent_metadata_df.index.to_list():\n",
    "            parent_metadata_df.loc[parent,'ParentHQCountry']='Unknown'\n",
    "        owner_parent_calculations_df = pandas.concat([owner_parent_calculations_df, \n",
    "                                                      pandas.DataFrame([{'Parent':parent, 'ComboID':row.ComboID,\n",
    "                                                                         'FractionOwnership':percent_list[p_idx],\n",
    "                                                                         'PercentString':'{:.2f}%'.format(percent_list[p_idx]*100),\n",
    "                                                                         'ParentHQCountry':parent_metadata_df.loc[parent_metadata_df.index==parent]['ParentHQCountry'].values[0],\n",
    "                                                                         'ParentHQRegion':parent_metadata_df.loc[parent_metadata_df.index==parent]['ParentHQRegion'].values[0],\n",
    "                                                                         'TerminalCountry':row.Country,\n",
    "                                                                         'TerminalRegion':row.Region,\n",
    "                                                                         'Status':row.Status,\n",
    "                                                                         # BL: you can specify a column either by df['ColumnName'] or df.ColumnName\n",
    "                                                                         #   you can use the first one for spaces and other punctuation, see below\n",
    "                                                                         #   and don't forget the comma at the end of the row, they all need to be separated by commas\n",
    "                                                                         'Import/Export':row['Import/Export'],\n",
    "                                                                         'CapacityInMtpa':row.CapacityInMtpa,\n",
    "                                                                         'ProjectWiki':row.Wiki,\n",
    "                                                                         'ProjectName':row.TerminalName+' '+str(row.UnitName)}])])\n",
    "\n",
    "owner_parent_calculations_df.reset_index(drop=True, inplace=True)\n",
    "owner_parent_calculations_df['CapacityOwnedInMtpa'] = owner_parent_calculations_df.FractionOwnership*owner_parent_calculations_df.CapacityInMtpa\n",
    "owner_parent_calculations_df['ParentCapacityString'] = owner_parent_calculations_df.Parent + ' (' + owner_parent_calculations_df.CapacityOwnedInMtpa.round(1).astype(str).replace('nan','unknown') + ' mtpa)'"
   ]
  },
  {
   "cell_type": "code",
   "execution_count": null,
   "id": "82e8683f-e37b-4aac-9039-9afe967a404b",
   "metadata": {
    "tags": []
   },
   "outputs": [],
   "source": [
    "owner_parent_calculations_df = pandas.DataFrame()\n",
    "# needs country, km in each country columns as well\n",
    "\n",
    "for idx,row in country_ratios_df.loc[(country_ratios_df.Fuel=='Gas')&(country_ratios_df.Status.isin(['Proposed','Construction']))].iterrows():\n",
    "    parent_string = pipes_df_orig.loc[pipes_df_orig.ProjectID==row.ProjectID].Parent.values[0]\n",
    "    #print(parent_string)\n",
    "    if parent_string == '--':\n",
    "        parent_string = 'Unknown [unknown %]'\n",
    "    parent_list = re.sub(' \\[.*?\\]', '', parent_string).split('; ') # all entries must have an \"Owner [%]\" syntax, so [unknown %] is included\n",
    "    percent_list = [float(i.rstrip('%'))/100. for i in re.findall('\\\\d+(?:\\\\.\\\\d+)?%', parent_string)]\n",
    "    #print(percent_list)\n",
    "\n",
    "    if parent_list.__len__()!=percent_list.__len__():\n",
    "        if percent_list==[]:\n",
    "            percent_list = [1/parent_list.__len__() for i in parent_list]\n",
    "        else:\n",
    "            nmissing = parent_list.__len__()-percent_list.__len__()\n",
    "            # distribute nans evenly\n",
    "            total = numpy.nansum(percent_list)\n",
    "            leftover = 1-total\n",
    "            percent_list += [leftover/nmissing]*nmissing\n",
    "\n",
    "    # for when database isn't completely filled in for owners:\n",
    "    for p_idx,parent in enumerate(parent_list):\n",
    "        if parent not in parents_df.index.to_list():\n",
    "            parents_df.loc[parent,'ParentHQCountry']='Unknown'\n",
    "        owner_parent_calculations_df = pandas.concat([owner_parent_calculations_df, \n",
    "                                                      pandas.DataFrame([{'Parent':parent, 'ProjectID':row.ProjectID, \n",
    "                                                                         'FractionOwnership':percent_list[p_idx],\n",
    "                                                                         'ParentHQCountry':parents_df.loc[parents_df.index==parent]['ParentHQCountry'].values[0],\n",
    "                                                                         'PipelineCountry':row.Country,\n",
    "                                                                         'Status':row.Status,\n",
    "                                                                         'MergedKmByCountry':row.MergedKmByCountry,\n",
    "                                                                         'MergedKmByPipeline':row.MergedKmByPipeline,\n",
    "                                                                         'CapacityBOEd':row.CapacityBOEd}])])\n",
    "\n",
    "owner_parent_calculations_df['KmOwnershipByCountry'] = owner_parent_calculations_df.FractionOwnership*owner_parent_calculations_df.MergedKmByCountry"
   ]
  },
  {
   "cell_type": "markdown",
   "id": "bad66811-2856-4055-81c8-5cf098dab5a7",
   "metadata": {},
   "source": [
    "## print out leading parent companies"
   ]
  },
  {
   "cell_type": "code",
   "execution_count": null,
   "id": "7b99444c-4290-4bc7-b475-89e3256ecb49",
   "metadata": {
    "tags": []
   },
   "outputs": [],
   "source": [
    "parent_country_km_df = \\\n",
    "owner_parent_calculations_df.loc[#(owner_parent_calculations_df.PipelineCountry.isin(region_df_touse.Country.tolist()))&\n",
    "                                 (owner_parent_calculations_df.Status.isin(['Proposed','Construction']))]\n",
    "\n",
    "parent_country_km_df_table = pandas.DataFrame(index=parent_country_km_df.Parent.unique().tolist(),\n",
    "                                             columns=['Pipeline Country Locations','Owner Headquarters Country',\n",
    "                                                      'Proposed','Construction','In Development (Proposed + Construction)','ProjectIDs'])\n",
    "\n",
    "parent_country_km_df_table['Proposed'] = parent_country_km_df.loc[parent_country_km_df.Status=='Proposed'].groupby('Parent').sum('KmOwnershipByCountry')[['KmOwnershipByCountry']]\n",
    "parent_country_km_df_table['Construction'] = parent_country_km_df.loc[parent_country_km_df.Status=='Construction'].groupby('Parent').sum('KmOwnershipByCountry')[['KmOwnershipByCountry']]\n",
    "\n",
    "parent_country_km_df_table = parent_country_km_df_table.loc[parent_country_km_df_table.index!='']"
   ]
  },
  {
   "cell_type": "code",
   "execution_count": null,
   "id": "e3d72449-e2aa-455e-b68f-152c91a7a916",
   "metadata": {
    "tags": []
   },
   "outputs": [],
   "source": [
    "pandas.options.display.max_colwidth = 500\n",
    "\n",
    "country_agg_df = pandas.DataFrame(owner_parent_calculations_df.groupby(['Parent']).PipelineCountry.agg(lambda x: ', '.join(x.unique())))\n",
    "projectid_agg_df = pandas.DataFrame(owner_parent_calculations_df.groupby(['Parent']).ProjectID.agg(lambda x: ', '.join(x.unique())))\n",
    "parent_country_km_df_table['Pipeline Country Locations'] = country_agg_df.PipelineCountry\n",
    "parent_country_km_df_table['Number of Projects'] = owner_parent_calculations_df.groupby(['Parent']).ProjectID.count()\n",
    "parent_country_km_df_table['ProjectIDs'] = projectid_agg_df.ProjectID\n",
    "parent_country_km_df_table['Owner Headquarters Country'] = parent_country_km_df.drop_duplicates('Parent').set_index('Parent').ParentHQCountry\n",
    "parent_country_km_df_table['In Development (Proposed + Construction)'] = parent_country_km_df_table[['Proposed','Construction']].sum(axis=1, min_count=0)\n",
    "parent_country_km_df_table.loc[~parent_country_km_df_table.index.isin(['Not in database','Unknown'])].replace(numpy.nan, '').sort_values('In Development (Proposed + Construction)', ascending=False)[:20]"
   ]
  },
  {
   "cell_type": "markdown",
   "id": "8ce8efa2-8a00-4d90-8156-c9d40d316290",
   "metadata": {},
   "source": [
    "### how many of the projects for each owner do we have capacity data for? (add fraction)\n",
    "\n",
    "## emissions estimates"
   ]
  },
  {
   "cell_type": "code",
   "execution_count": null,
   "id": "444f2dd9-336a-41aa-b288-15b8ea096f2a",
   "metadata": {
    "tags": []
   },
   "outputs": [],
   "source": [
    "# kuhne paper, for oil\n",
    "co2_rate = 152.789 # number is 152,789 tCO2/year emissions per kilobarrel per day, divide by 1000 to get per bpd (bpd=BOEd)"
   ]
  },
  {
   "cell_type": "raw",
   "id": "22c011c3-422b-4d41-8b7a-cf64d3402207",
   "metadata": {},
   "source": [
    "# calculate the number of CapacityBOEd entries, and which of those are NaNs\n",
    "# https://stackoverflow.com/questions/14529838/apply-multiple-functions-to-multiple-groupby-columns\n",
    "pandas.set_option('display.max_colwidth', None)\n",
    "result = owner_parent_calculations_df.loc[\n",
    "    owner_parent_calculations_df.Status.isin(['Proposed','Construction'])].groupby(\n",
    "    ['Parent','Country'])[['KmOwnership','CapacityBOEd','ProjectID']].agg({'KmOwnership':lambda x: x.sum(min_count=1),\n",
    "                                                                           'CapacityBOEd':[lambda x: x.sum(min_count=1),\n",
    "                                                                                           lambda x: x.dropna().count()],\n",
    "                                                                           'ProjectID':[lambda x: list(x.unique()).__len__(),\n",
    "                                                                                        lambda x: list(x.unique()),\n",
    "                                                                                        lambda x: [pipes_df_orig.loc[pipes_df_orig.ProjectID==i]['PipelineName'] for i in x]\n",
    "                                                                                                  ]})\n",
    "\n",
    "result['HowManyProjectsHaveCapacityData'] = result[('CapacityBOEd','<lambda_1>')].astype(str) + ' of ' + result[('ProjectID','<lambda_0>')].astype(str)\n",
    "result[['KmOwnership','CapacityBOEd','HowManyProjectsHaveCapacityData']].sort_values(('KmOwnership','<lambda>'), ascending=False)[:20]\n",
    "result['EmissionsMtCO2PerYear'] = result[('CapacityBOEd','<lambda_0>')]*co2_rate/1e6"
   ]
  },
  {
   "cell_type": "raw",
   "id": "70a2debd-8aeb-4d0e-b2ff-d34fb648567f",
   "metadata": {},
   "source": [
    "result[[('KmOwnership','<lambda>'),\n",
    "        ('CapacityBOEd','<lambda_0>'),\n",
    "        ('EmissionsMtCO2PerYear',''),\n",
    "        ('HowManyProjectsHaveCapacityData',''),\n",
    "        ('ProjectID','<lambda_1>'),\n",
    "        ('ProjectID','<lambda_2>')]].sort_values(('KmOwnership','<lambda>'), ascending=False)[:20]"
   ]
  },
  {
   "cell_type": "markdown",
   "id": "a340a615-35b1-4a74-b9b6-67d6802de572",
   "metadata": {},
   "source": [
    "### total emissions globally (known capacity is at about 67%)"
   ]
  },
  {
   "cell_type": "raw",
   "id": "9e022ac6-6a1c-4e10-9f5a-85c7c8af87f1",
   "metadata": {},
   "source": [
    "pipes_df_subset = pipes_df_orig.loc[(pipes_df_orig.Status.isin(['Construction','Proposed']))&\n",
    "                                     (pipes_df_orig.Fuel=='oil')]\n",
    "print(pipes_df_subset['CapacityBcm/y'].dropna().size / pipes_df_subset['CapacityBcm/y'].size)\n",
    "pipes_df_subset['CapacityBOEd'].sum() * co2_rate / 1e6"
   ]
  },
  {
   "cell_type": "raw",
   "id": "ee994d09-b16f-4101-9d08-5110e0268c9f",
   "metadata": {},
   "source": [
    "pipes_df_subset = pipes_df_orig.loc[(pipes_df_orig.Status.isin(['Proposed']))&\n",
    "                                     (pipes_df_orig.Fuel=='oil')]\n",
    "print(pipes_df_subset['CapacityBcm/y'].dropna().size / pipes_df_subset['CapacityBcm/y'].size)\n",
    "pipes_df_subset['CapacityBOEd'].sum() * co2_rate / 1e6"
   ]
  },
  {
   "cell_type": "raw",
   "id": "9df6347b-ec51-4a28-930b-9924bc916417",
   "metadata": {},
   "source": [
    "pipes_df_subset = pipes_df_orig.loc[(pipes_df_orig.Status.isin(['Construction']))&\n",
    "                                     (pipes_df_orig.Fuel=='oil')]\n",
    "print(pipes_df_subset['CapacityBcm/y'].dropna().size / pipes_df_subset['CapacityBcm/y'].size)\n",
    "pipes_df_subset['CapacityBOEd'].sum() * co2_rate / 1e6"
   ]
  },
  {
   "cell_type": "markdown",
   "id": "41f4171b-3170-4bbf-b3d8-19a53722d1b0",
   "metadata": {},
   "source": [
    "### count fraction of available capacity information\n",
    "\n",
    "count"
   ]
  },
  {
   "cell_type": "code",
   "execution_count": null,
   "id": "a3406975-838c-4af0-80fa-bce2ab42718e",
   "metadata": {
    "tags": []
   },
   "outputs": [],
   "source": [
    "pipes_df_subset = pipes_df_orig.loc[(pipes_df_orig.Status.isin(['Construction','Proposed']))&\n",
    "                                     (pipes_df_orig.Fuel=='Gas')]\n",
    "pipes_df_subset.loc[~pipes_df_subset['CapacityBcm/y'].isna()].groupby('StartRegion')['CapacityBOEd'].size()\n",
    "#pipes_df_subset.groupby('StartRegion')['CapacityBcm/y'].size()"
   ]
  },
  {
   "cell_type": "markdown",
   "id": "a09616ff-3225-4c93-9ce9-b38cb04a5612",
   "metadata": {},
   "source": [
    "fraction"
   ]
  },
  {
   "cell_type": "code",
   "execution_count": null,
   "id": "2b464411-7db6-4575-ae23-a6d2c49f635d",
   "metadata": {
    "tags": []
   },
   "outputs": [],
   "source": [
    "pandas.options.display.float_format = '{:,.3f}'.format\n",
    "pandas.DataFrame(pipes_df_subset.loc[\n",
    "    ~pipes_df_subset['CapacityBcm/y'].isna()].groupby(\n",
    "    'StartRegion')['CapacityBcm/y'].size()/pipes_df_subset.groupby(\n",
    "    'StartRegion')['CapacityBOEd'].size()).sort_values(by=0, ascending=False)"
   ]
  },
  {
   "cell_type": "code",
   "execution_count": null,
   "id": "9f9ba63d-9317-40dd-b820-c7505a4b7150",
   "metadata": {
    "tags": []
   },
   "outputs": [],
   "source": [
    "median_capacity = pipes_df_orig.loc[pipes_df_orig.Fuel=='Gas']['CapacityBcm/y'].median()"
   ]
  },
  {
   "cell_type": "code",
   "execution_count": null,
   "id": "0e61fd80-1863-4ba9-ac45-a761cc99a55c",
   "metadata": {
    "tags": []
   },
   "outputs": [],
   "source": [
    "abs_dist_from_med_capacity = abs(pipes_df_orig.loc[pipes_df_orig.Fuel=='Gas']['CapacityBcm/y']-\n",
    "                                 pipes_df_orig.loc[pipes_df_orig.Fuel=='Gas']['CapacityBcm/y'].median()).median()"
   ]
  },
  {
   "cell_type": "code",
   "execution_count": null,
   "id": "14cce16f-8d3e-4e63-ae7a-edf55d21b921",
   "metadata": {
    "tags": []
   },
   "outputs": [],
   "source": [
    "pipes_df_orig['CapacityBcm/y'].mean()"
   ]
  },
  {
   "cell_type": "code",
   "execution_count": null,
   "id": "61dc2bcc-bf3f-414c-bc06-bb824d49d1e5",
   "metadata": {
    "tags": []
   },
   "outputs": [],
   "source": [
    "pipes_df_orig['CapacityBcm/y'].std()"
   ]
  },
  {
   "cell_type": "code",
   "execution_count": null,
   "id": "c054d9ed-986a-432f-a234-826e2438144b",
   "metadata": {
    "tags": []
   },
   "outputs": [],
   "source": [
    "print(median_capacity)\n",
    "print(abs_dist_from_med_capacity)"
   ]
  },
  {
   "cell_type": "markdown",
   "id": "8481ce32-c7f6-47fd-893e-4db28fbda279",
   "metadata": {},
   "source": [
    "median capacity for a pipeline is about 4.14 bcm/y\n",
    "\n",
    "median abs dist from the median is about 3.5."
   ]
  },
  {
   "cell_type": "markdown",
   "id": "fb98d85a",
   "metadata": {},
   "source": [
    "# cost estimates (pipeline cost per km)"
   ]
  },
  {
   "cell_type": "markdown",
   "id": "8ad09bea-d8c7-4cbc-a846-6931ac1a70bd",
   "metadata": {},
   "source": [
    "## pick out high and low quantiles"
   ]
  },
  {
   "cell_type": "code",
   "execution_count": null,
   "id": "4195775c-c0b6-4916-ba98-0eec3b173bfd",
   "metadata": {
    "tags": []
   },
   "outputs": [],
   "source": [
    "temp_df = pipes_df_orig.loc[(~pipes_df_orig.CostUSDPerKm.isnull())&\n",
    "                            (pipes_df_orig.Fuel=='Gas')]\n",
    "qlo_val = 0.025\n",
    "qhi_val = 0.975\n",
    "\n",
    "q_lo=temp_df['CostUSDPerKm'].quantile(qlo_val)\n",
    "q_hi=temp_df['CostUSDPerKm'].quantile(qhi_val)\n",
    "print(temp_df['CostUSDPerKm'].quantile(qlo_val))\n",
    "print(temp_df['CostUSDPerKm'].quantile(qhi_val))\n",
    "\n",
    "temp_df = temp_df.loc[temp_df['CostUSDPerKm'].between(q_lo, q_hi, inclusive='neither')]"
   ]
  },
  {
   "cell_type": "code",
   "execution_count": null,
   "id": "e83b508d-5fed-4b45-8cdf-d6ebb7850d58",
   "metadata": {
    "tags": []
   },
   "outputs": [],
   "source": [
    "# pull out only pipelines that have a KNOWN length AND a cost\n",
    "country_ratios_with_length_and_cost_df = country_ratios_df.loc[(country_ratios_df['Fuel']=='Gas') & \n",
    "                                                               (country_ratios_df['CostUSDPerKm'].notna()) & \n",
    "                                                               (country_ratios_df['LengthKnownKmByCountry'].notna()) #&\n",
    "                                                               #(country_ratios_df['LengthKnownKm']!=0) &\n",
    "                                                               #(country_ratios_df['CostUSDPerKm']<10e6)\n",
    "                                                              ]\n",
    "\n",
    "country_ratios_with_length_and_cost_df = country_ratios_with_length_and_cost_df.loc[\n",
    "    country_ratios_with_length_and_cost_df['CostUSDPerKm'].between(q_lo, q_hi, inclusive='neither')]\n",
    "#country_ratios_with_length_and_cost_df = country_ratios_with_length_and_cost_df[~country_ratios_with_length_and_cost_df.ProjectID.isin(outliers_projectids)]"
   ]
  },
  {
   "cell_type": "markdown",
   "id": "a60996ff-c763-46a6-8576-cffa78c2fcbb",
   "metadata": {},
   "source": [
    "### global mean value"
   ]
  },
  {
   "cell_type": "code",
   "execution_count": null,
   "id": "cf567357-e85c-4afc-b618-e35a0feef254",
   "metadata": {
    "tags": []
   },
   "outputs": [],
   "source": [
    "country_ratios_with_length_and_cost_df['CostUSDPerKm'].drop_duplicates().mean()"
   ]
  },
  {
   "cell_type": "markdown",
   "id": "9754a8d9-5d70-448d-a6ae-75efcd2a6054",
   "metadata": {},
   "source": [
    "### calculate regional costs"
   ]
  },
  {
   "cell_type": "code",
   "execution_count": null,
   "id": "19b109bc-a5dc-43f3-b84d-04908dfecccc",
   "metadata": {},
   "outputs": [],
   "source": [
    "region_list"
   ]
  },
  {
   "cell_type": "code",
   "execution_count": null,
   "id": "187bd845-39f3-4c5a-8618-723262516a27",
   "metadata": {
    "tags": []
   },
   "outputs": [],
   "source": [
    "pipes_costs_region_df = pandas.DataFrame(0, index=region_list, columns=['CostUSDPerKm','DataPoints'])#,'NumberOfLengths'])\n",
    "\n",
    "for region in region_list:\n",
    "    country_ratios_region_df = country_ratios_with_length_and_cost_df.loc[country_ratios_with_length_and_cost_df['Region']==region,:]\n",
    "    pipes_costs_region_df.loc[region,'CostUSDPerKm'] = country_ratios_region_df['CostUSDPerKm'].mean()\n",
    "    pipes_costs_region_df.loc[region,'DataPoints'] = list(set(country_ratios_region_df['ProjectID'])).__len__()"
   ]
  },
  {
   "cell_type": "code",
   "execution_count": null,
   "id": "9e646e80-2097-4736-bca5-46cd68c533c7",
   "metadata": {},
   "outputs": [],
   "source": [
    "pipes_costs_subregion_df = pandas.DataFrame(0, index=subregion_list, columns=['CostUSDPerKm','DataPoints'])#,'NumberOfLengths'])\n",
    "\n",
    "for subregion in subregion_list:\n",
    "    country_ratios_subregion_df = country_ratios_with_length_and_cost_df.loc[country_ratios_with_length_and_cost_df['SubRegion']==subregion,:]\n",
    "    pipes_costs_subregion_df.loc[subregion,'CostUSDPerKm'] = country_ratios_subregion_df['CostUSDPerKm'].mean()\n",
    "    pipes_costs_subregion_df.loc[subregion,'DataPoints'] = list(set(country_ratios_subregion_df['ProjectID'])).__len__()\n",
    "\n",
    "# for subregions with no data, inherit from the REGIONAL cost\n",
    "for idx,row in pipes_costs_subregion_df.loc[pipes_costs_subregion_df.CostUSDPerKm.isnull()].iterrows():\n",
    "    #print(pipes_costs_subregion_df.loc[idx,'CostUSDPerKm'])\n",
    "    which_region = idx\n",
    "    pipes_costs_subregion_df.loc[idx,'CostUSDPerKm'] = pipes_costs_region_df.loc[dict_subregion_region[which_region],'CostUSDPerKm']\n",
    "pipes_costs_subregion_df"
   ]
  },
  {
   "cell_type": "code",
   "execution_count": null,
   "id": "8f569977-8814-43da-bc18-3b665f94ad33",
   "metadata": {
    "tags": []
   },
   "outputs": [],
   "source": [
    "country_ratios_region_df['CostUSDPerKm'].mean()"
   ]
  },
  {
   "cell_type": "code",
   "execution_count": null,
   "id": "e0b2972c-da89-4cf6-b832-5dace38cf651",
   "metadata": {
    "tags": []
   },
   "outputs": [],
   "source": [
    "pandas.options.display.float_format = '{:,.3f}'.format\n",
    "temp_df = pipes_costs_region_df.copy()\n",
    "temp_df['CostUSDPerKm'] = temp_df['CostUSDPerKm']/1e6\n",
    "temp_df.sort_values('CostUSDPerKm', ascending=False)#.loc[region]['CostUSDPerKm']"
   ]
  },
  {
   "cell_type": "code",
   "execution_count": null,
   "id": "ef78692b-8637-461d-a1ad-1cc904b5d5b3",
   "metadata": {},
   "outputs": [],
   "source": [
    "pandas.options.display.float_format = '{:,.3f}'.format\n",
    "temp_df = pipes_costs_subregion_df.copy()\n",
    "temp_df['CostUSDPerKm'] = temp_df['CostUSDPerKm']/1e6\n",
    "temp_df.sort_values('CostUSDPerKm', ascending=False)#.loc[region]['CostUSDPerKm']"
   ]
  },
  {
   "cell_type": "markdown",
   "id": "a99048f2-e80e-41a0-be0a-b40942963375",
   "metadata": {},
   "source": [
    "# tables etc."
   ]
  },
  {
   "cell_type": "markdown",
   "id": "44145d01-f597-498d-889a-73173abc7ef2",
   "metadata": {},
   "source": [
    "## table for stranded asset calculations"
   ]
  },
  {
   "cell_type": "markdown",
   "id": "c009d10e-36da-4eb8-8e46-3164731bdb7d",
   "metadata": {},
   "source": [
    "## country-level capex estimates"
   ]
  },
  {
   "cell_type": "code",
   "execution_count": null,
   "id": "0d925d5a-19f9-4551-98f2-649175f43f0b",
   "metadata": {
    "tags": []
   },
   "outputs": [],
   "source": [
    "pipes_costs_region_df.sort_values('CostUSDPerKm', ascending=False)"
   ]
  },
  {
   "cell_type": "markdown",
   "id": "b3d7a0f9-b8cd-4cc4-be2c-a4f1297c527d",
   "metadata": {},
   "source": [
    "add a cost USD estimate column and estimate costs based on region and km by country"
   ]
  },
  {
   "cell_type": "code",
   "execution_count": null,
   "id": "984cc4ab-d6f2-424a-85a5-6521d77c9b8d",
   "metadata": {},
   "outputs": [],
   "source": [
    "pipes_costs_subregion_df"
   ]
  },
  {
   "cell_type": "code",
   "execution_count": null,
   "id": "b0edb61c-12f3-4886-8131-586ad36e46dd",
   "metadata": {
    "tags": []
   },
   "outputs": [],
   "source": [
    "country_ratios_df.reset_index(drop=True, inplace=True)\n",
    "country_ratios_df.loc[:,'CostUSDEstimate'] = numpy.nan\n",
    "\n",
    "for idx,row in country_ratios_df.iterrows():\n",
    "    # calculate cost\n",
    "    cntry = row.Country\n",
    "    #region = row.Region\n",
    "    subregion = row.SubRegion\n",
    "    km_by_cntry = row.LengthKnownKmByCountry\n",
    "    #country_ratios_df.loc[idx,'CostUSDEstimate'] = pipes_costs_region_df.loc[region, 'CostUSDPerKm'] * km_by_cntry\n",
    "    country_ratios_df.loc[idx,'CostUSDEstimate'] = pipes_costs_subregion_df.loc[subregion, 'CostUSDPerKm'] * km_by_cntry\n",
    "\n",
    "# replace any known costs now\n",
    "country_ratios_df.loc[(~country_ratios_df.LengthKnownKmByCountry.isna())&\n",
    "                      (~country_ratios_df.CostUSDPerKm.isna()),'CostUSDEstimate'] = \\\n",
    "country_ratios_df.loc[(~country_ratios_df.LengthKnownKmByCountry.isna())&\n",
    "                      (~country_ratios_df.CostUSDPerKm.isna()), 'LengthKnownKmByCountry'] * \\\n",
    "country_ratios_df.loc[(~country_ratios_df.LengthKnownKmByCountry.isna())&\n",
    "                      (~country_ratios_df.CostUSDPerKm.isna()), 'CostUSDPerKm']"
   ]
  },
  {
   "cell_type": "code",
   "execution_count": null,
   "id": "433be68c-c4ce-41b8-a324-948594fe0962",
   "metadata": {},
   "outputs": [],
   "source": [
    "country_ratios_df.SubRegion.unique()"
   ]
  },
  {
   "cell_type": "code",
   "execution_count": null,
   "id": "95829118-8241-44fa-941e-db867f4e7ad1",
   "metadata": {
    "tags": []
   },
   "outputs": [],
   "source": [
    "capex_by_country_df = pandas.DataFrame(columns=status_list, index=country_list)\n",
    "capex_by_region_df = pandas.DataFrame(columns=status_list, index=region_list)\n",
    "capex_by_subregion_df = pandas.DataFrame(columns=status_list, index=multiindex_region_subregion)\n",
    "\n",
    "print('===country-level calculations===')\n",
    "for status in status_list:\n",
    "    print(status)\n",
    "    country_ratios_df_status = country_ratios_df.loc[country_ratios_df.Status==status]\n",
    "    country_ratios_df_status = country_ratios_df_status.loc[~country_ratios_df_status.SubRegion.isnull()]\n",
    "    capex_by_country_df[status] = country_ratios_df_status.groupby('Country')['CostUSDEstimate'].sum()/1e9\n",
    "    capex_by_region_df[status] = country_ratios_df_status.groupby('Region')['CostUSDEstimate'].sum()/1e9\n",
    "    capex_by_subregion_df[status] = country_ratios_df_status.groupby(['Region','SubRegion'])['CostUSDEstimate'].sum()/1e9\n",
    "\n",
    "# # fill NaN with 0.0\n",
    "capex_by_region_df = capex_by_region_df.fillna(0)\n",
    "capex_by_country_df = capex_by_country_df.fillna(0)\n",
    "capex_by_subregion_df = capex_by_subregion_df.fillna(0)\n",
    "\n",
    "capex_by_region_df['Proposed+Construction'] = capex_by_region_df[['Proposed','Construction']].sum(axis=1)\n",
    "#capex_by_region_df.sort_values(by='Proposed+Construction', inplace=True)\n",
    "capex_by_region_df = capex_by_region_df[['Proposed', 'Construction', 'Proposed+Construction', 'Shelved', 'Cancelled', 'Operating', 'Idle', 'Mothballed', 'Retired']]\n",
    "#capex_by_region_df.sort_values('Construction', ascending=False, inplace=True)\n",
    "capex_by_region_df.loc['Total',:] = capex_by_region_df.sum(axis=0).values\n",
    "\n",
    "capex_by_country_df['Proposed+Construction'] = capex_by_country_df[['Proposed','Construction']].sum(axis=1)\n",
    "#capex_by_country_df.sort_values(by='Proposed+Construction', inplace=True)\n",
    "capex_by_country_df = capex_by_country_df[['Proposed', 'Construction', 'Proposed+Construction', 'Shelved', 'Cancelled', 'Operating', 'Idle', 'Mothballed', 'Retired']]\n",
    "capex_by_country_df.sort_values('Construction', ascending=False, inplace=True)\n",
    "capex_by_country_df.loc['Total',:] = capex_by_country_df.sum(axis=0).values\n",
    "\n",
    "capex_by_subregion_df['Proposed+Construction'] = capex_by_subregion_df[['Proposed','Construction']].sum(axis=1)\n",
    "#capex_by_country_df.sort_values(by='Proposed+Construction', inplace=True)\n",
    "capex_by_subregion_df = capex_by_subregion_df[['Proposed', 'Construction', 'Proposed+Construction', 'Shelved', 'Cancelled', 'Operating', 'Idle', 'Mothballed', 'Retired']]\n",
    "#capex_by_subregion_df.sort_values('Construction', ascending=False, inplace=True)\n",
    "capex_by_subregion_df.loc['Total',:] = capex_by_subregion_df.sum(axis=0).values"
   ]
  },
  {
   "cell_type": "code",
   "execution_count": null,
   "id": "504c1db1-908e-4781-b76e-93146e57ec98",
   "metadata": {},
   "outputs": [],
   "source": [
    "capex_by_region_df.replace(0,'')"
   ]
  },
  {
   "cell_type": "code",
   "execution_count": null,
   "id": "40b6bece-058e-4f19-ac1a-d5816ab3a05a",
   "metadata": {},
   "outputs": [],
   "source": [
    "capex_by_subregion_df.index = capex_by_subregion_df.index.set_names(['Region','Subregion'])\n",
    "capex_by_subregion_df.replace(0,'')"
   ]
  },
  {
   "cell_type": "raw",
   "id": "a4d64ccc-a048-4a87-a7e6-8e7f6ae43676",
   "metadata": {
    "tags": []
   },
   "source": [
    "pandas.options.display.float_format = '{:,.1f}'.format\n",
    "capex_by_region_df"
   ]
  },
  {
   "cell_type": "code",
   "execution_count": null,
   "id": "bbbfe4ac-7bfa-4c24-92bf-a112e61bfc2b",
   "metadata": {},
   "outputs": [],
   "source": [
    "capex_by_country_df = capex_by_country_df.loc[~(capex_by_country_df==0).all(axis=1)]\n",
    "capex_by_country_df.to_excel('capex-by-country.xlsx')\n",
    "capex_by_country_df.tail()"
   ]
  },
  {
   "cell_type": "markdown",
   "id": "9d528dd5-5a57-49ac-84c6-ac7cc22b9ac2",
   "metadata": {},
   "source": [
    "## capex data - 15 leading countries by construction"
   ]
  },
  {
   "cell_type": "code",
   "execution_count": null,
   "id": "030d3e6e-661f-4aa8-a3d2-e100ca485b0b",
   "metadata": {},
   "outputs": [],
   "source": [
    "country_order"
   ]
  },
  {
   "cell_type": "code",
   "execution_count": null,
   "id": "24282d66-028c-420d-a346-e692e2199437",
   "metadata": {},
   "outputs": [],
   "source": [
    "km_by_country_df"
   ]
  },
  {
   "cell_type": "code",
   "execution_count": null,
   "id": "3a9e2ca2-12b1-4690-bf06-5e1243549dd6",
   "metadata": {},
   "outputs": [],
   "source": [
    "nbars = 15\n",
    "country_order = km_by_country_df.sort_values('Construction', ascending=False).index.tolist()[:nbars]\n",
    "capex_by_country_df.loc[country_order]"
   ]
  },
  {
   "cell_type": "markdown",
   "id": "a67ada29-6ccc-49b9-8ab1-6fdf3d6a116f",
   "metadata": {},
   "source": [
    "## print out country-level stranded assets for report discussion"
   ]
  },
  {
   "cell_type": "markdown",
   "id": "b734740c-6a22-4d1f-9c1b-1817d3b85166",
   "metadata": {},
   "source": [
    "## in-dev for each country in list"
   ]
  },
  {
   "cell_type": "raw",
   "id": "5f9189d7-e34a-4963-bafa-6273703c9104",
   "metadata": {
    "tags": []
   },
   "source": [
    "#pandas.options.display.float_format = '{:,.1f}'.format\n",
    "these_countries = ['China', 'Russia', 'India', 'United States', 'Brazil', 'Iran']\n",
    "\n",
    "for cntry in these_countries:\n",
    "    print(cntry)\n",
    "    cntry_region = country_ratios_df.loc[country_ratios_df.Country==cntry]['Region'].to_list()[0]\n",
    "    print(km_by_country_df.loc[cntry]['Proposed'], ' km proposed')\n",
    "    print(km_by_country_df.loc[cntry]['Construction'], ' km in construction')\n",
    "    print(km_by_country_df.loc[cntry]['Proposed+Construction'], ' total km in development')\n",
    "    #print(country_sums_USDBillion_df.loc[cntry], 'USD')\n",
    "    print(country_ratios__df.loc[(country_ratios_oil_df.Country==cntry)&\n",
    "                          (country_ratios_oil_df.Status=='Construction')]['CostUSDEstimate'].sum()/1e9, 'construction capex')\n",
    "    print(country_ratios_oil_df.loc[(country_ratios_oil_df.Country==cntry)&\n",
    "                          (country_ratios_oil_df.Status=='Proposed')]['CostUSDEstimate'].sum()/1e9, 'proposed capex')\n",
    "    print()"
   ]
  },
  {
   "cell_type": "markdown",
   "id": "060ee22f-6ecf-4c68-883e-bf3b59e16004",
   "metadata": {},
   "source": [
    "# us infrastructure km and cost for Gulf Coast export buildout specifically"
   ]
  },
  {
   "cell_type": "code",
   "execution_count": null,
   "id": "033637d9-768a-48e5-8e4c-c847114784d4",
   "metadata": {},
   "outputs": [],
   "source": [
    "which_projectids = pipes_df_orig.loc[(pipes_df_orig.Fuel=='Gas')&\n",
    "                                    (pipes_df_orig.Status.isin(['Proposed','Construction','Shelved']))&\n",
    "                                    (pipes_df_orig.Countries=='United States')&\n",
    "                                    (pipes_df_orig.AssociatedWithLNGExports=='yes')].ProjectID.tolist()"
   ]
  },
  {
   "cell_type": "code",
   "execution_count": null,
   "id": "63475d77-04ed-46e6-9815-c5e4609dfead",
   "metadata": {},
   "outputs": [],
   "source": [
    "country_ratios_df.loc[(country_ratios_df.ProjectID.isin(which_projectids))].MergedKmByPipeline.sum()"
   ]
  },
  {
   "cell_type": "code",
   "execution_count": null,
   "id": "c5172817-0442-4cd4-bf79-5d3c771707c4",
   "metadata": {},
   "outputs": [],
   "source": [
    "country_ratios_df.loc[(country_ratios_df.ProjectID.isin(which_projectids))].CostUSDEstimate.sum()/1e9"
   ]
  },
  {
   "cell_type": "markdown",
   "id": "b2f4f54d-258b-418b-a43f-2a2bcec82c0d",
   "metadata": {},
   "source": [
    "# numbers for report"
   ]
  },
  {
   "cell_type": "markdown",
   "id": "f5661b98-75a1-42ca-819d-ee2fa8ea2b76",
   "metadata": {},
   "source": [
    "## amount already being constructed"
   ]
  },
  {
   "cell_type": "code",
   "execution_count": null,
   "id": "741c91e9-dcdb-4332-beac-27f1cb8ca014",
   "metadata": {
    "tags": []
   },
   "outputs": [],
   "source": [
    "# fraction of pipelines under construction compared to all in development\n",
    "# this number is different from below because it's skipping some pipelines\n",
    "km_by_country_total = km_by_country_df.sum(axis=0)\n",
    "km_by_country_total['Construction']/km_by_country_total['Proposed+Construction']"
   ]
  },
  {
   "cell_type": "markdown",
   "id": "999b3a60-b8fe-40f4-a54d-db52c1dd8fc3",
   "metadata": {},
   "source": [
    "## capacity/potential emissions in development globally"
   ]
  },
  {
   "cell_type": "code",
   "execution_count": null,
   "id": "44bd4180-d78f-4b27-bca3-ba91b4e133fc",
   "metadata": {
    "tags": []
   },
   "outputs": [],
   "source": [
    "pipes_df_subset.CapacityBOEd"
   ]
  },
  {
   "cell_type": "code",
   "execution_count": null,
   "id": "be033ca7-9c4f-419b-a4ac-95796751bb0c",
   "metadata": {
    "tags": []
   },
   "outputs": [],
   "source": [
    "pipes_df_subset = pipes_df_orig.loc[(pipes_df_orig.Status.isin(['Construction']))&\n",
    "                                     (pipes_df_orig.Fuel=='Oil')]\n",
    "cap_sum = pipes_df_subset['CapacityBOEd'].sum()\n",
    "print(cap_sum / 1e6, 'million bpd')\n",
    "print(cap_sum * co2_rate / 1e9, 'billion tonnes CO2')"
   ]
  },
  {
   "cell_type": "code",
   "execution_count": null,
   "id": "0bbe19c0-8aeb-4c7f-bbf2-46daff1a75c3",
   "metadata": {
    "tags": []
   },
   "outputs": [],
   "source": [
    "pipes_df_subset = pipes_df_orig.loc[(pipes_df_orig.Status.isin(['Proposed']))&\n",
    "                                     (pipes_df_orig.Fuel=='Oil')]\n",
    "cap_sum = pipes_df_subset['CapacityBOEd'].sum()\n",
    "print(cap_sum / 1e6, 'million bpd')\n",
    "print(cap_sum * co2_rate / 1e9, 'billion tonnes CO2')"
   ]
  },
  {
   "cell_type": "code",
   "execution_count": null,
   "id": "9e16aa51-6397-43f4-8093-ce9e4dea03ba",
   "metadata": {
    "tags": []
   },
   "outputs": [],
   "source": [
    "pipes_df_subset = pipes_df_orig.loc[(pipes_df_orig.Status.isin(['Construction','Proposed']))&\n",
    "                                     (pipes_df_orig.Fuel=='Oil')]\n",
    "cap_sum = pipes_df_subset['CapacityBOEd'].sum()\n",
    "print(cap_sum / 1e6, 'million bpd')\n",
    "print(cap_sum * co2_rate / 1e9, 'billion tonnes CO2')"
   ]
  },
  {
   "cell_type": "markdown",
   "id": "3cbfcb52-da08-4330-b006-6a63b6144c85",
   "metadata": {},
   "source": [
    "## total number of pipelines in dev"
   ]
  },
  {
   "cell_type": "code",
   "execution_count": null,
   "id": "3c1ece32-0f36-4514-9402-e7b6b15c1275",
   "metadata": {
    "tags": []
   },
   "outputs": [],
   "source": [
    "pipes_df_orig.loc[(pipes_df_orig.Fuel=='Oil')&\n",
    "                  (pipes_df_orig.Status.isin(['Proposed','Construction']))]['LengthMergedKm'].sum()"
   ]
  },
  {
   "cell_type": "markdown",
   "id": "dadc820e-41b6-4522-8da9-6a4b65f465b5",
   "metadata": {},
   "source": [
    "## top 10 pipelines"
   ]
  },
  {
   "cell_type": "raw",
   "id": "b0d9ffc9-585c-4e88-ad22-12c3a4039701",
   "metadata": {
    "tags": []
   },
   "source": [
    "country_ratios_oil_df.loc[country_ratios_oil_df.Status.isin(['Proposed','Construction'])].groupby(\n",
    "    'ProjectID')['CostUSDEstimate'].sum(min_count=0).sum()/1e9"
   ]
  },
  {
   "cell_type": "raw",
   "id": "4b04ed3f-43af-457f-9360-f31b1043dfd5",
   "metadata": {
    "tags": []
   },
   "source": [
    "costs_temp_df = country_ratios_oil_df.loc[country_ratios_oil_df.Status.isin(['Proposed','Construction'])].groupby('ProjectID')[['CostUSDEstimate']].sum(min_count=0)\n",
    "#country_ratios_oil_df.loc[country_ratios_oil_df.ProjectID.isin(table_for_top10['ProjectID'].values)]['CostUSDEstimate']"
   ]
  },
  {
   "cell_type": "raw",
   "id": "20ca1e0c-a2ae-44fe-b635-8ef08a727f29",
   "metadata": {
    "tags": []
   },
   "source": [
    "table_for_top10 = pipes_df_orig.loc[(pipes_df_orig.Fuel=='Gas')&\n",
    "                  (pipes_df_orig.Status.isin(['Proposed','Construction']))].sort_values(\n",
    "    'LengthKnownKm', ascending=False)[['PipelineName','LengthKnownKm','CapacityBcm/y','Countries','Status','StartYearEarliest','Wiki','ProjectID']].set_index('PipelineName')[:15]\n",
    "\n",
    "table_for_top10 = table_for_top10.reset_index()\n",
    "table_for_top10.set_index('ProjectID', inplace=True)\n",
    "table_for_top10['CostUSDTotalEstimate'] = costs_temp_df[:]/1e9\n",
    "table_for_top10 = table_for_top10.reset_index()\n",
    "table_for_top10.set_index('PipelineName', inplace=True)\n",
    "table_for_top10.replace(numpy.nan,'')[['LengthKnownKm','CapacityBcm/y','Countries','Status','StartYearEarliest','CostUSDTotalEstimate','Wiki']]"
   ]
  },
  {
   "cell_type": "raw",
   "id": "9ed463e5-4e16-4eaf-a68e-bb352e201ef5",
   "metadata": {},
   "source": [
    "table_for_top10 = pipes_df_orig.loc[(pipes_df_orig.Fuel=='Gas')&\n",
    "                  (pipes_df_orig.Status.isin(['Construction']))].sort_values(\n",
    "    'LengthKnownKm', ascending=False)[['PipelineName','LengthKnownKm','CapacityBcm/y','Countries','Status','StartYearEarliest','Wiki','ProjectID']].set_index('PipelineName')[:15]\n",
    "\n",
    "table_for_top10 = table_for_top10.reset_index()\n",
    "table_for_top10.set_index('ProjectID', inplace=True)\n",
    "table_for_top10['CostUSDTotalEstimate'] = costs_temp_df[:]/1e9\n",
    "table_for_top10 = table_for_top10.reset_index()\n",
    "table_for_top10.set_index('PipelineName', inplace=True)\n",
    "table_for_top10.replace(numpy.nan,'')[['LengthKnownKm','CapacityBcm/y','Countries','Status','StartYearEarliest','CostUSDTotalEstimate','Wiki']]"
   ]
  },
  {
   "cell_type": "raw",
   "id": "a444ce27-e3ef-4565-bffb-ff288db4601b",
   "metadata": {},
   "source": [
    "table_for_top10 = pipes_df_orig.loc[(pipes_df_orig.Fuel=='Gas')&\n",
    "                  (pipes_df_orig.Status.isin(['Proposed']))].sort_values(\n",
    "    'LengthKnownKm', ascending=False)[['PipelineName','LengthKnownKm','CapacityBcm/y','Countries','Status','StartYearEarliest','Wiki','ProjectID']].set_index('PipelineName')[:15]\n",
    "\n",
    "table_for_top10 = table_for_top10.reset_index()\n",
    "table_for_top10.set_index('ProjectID', inplace=True)\n",
    "table_for_top10['CostUSDTotalEstimate'] = costs_temp_df[:]/1e9\n",
    "table_for_top10 = table_for_top10.reset_index()\n",
    "table_for_top10.set_index('PipelineName', inplace=True)\n",
    "table_for_top10.replace(numpy.nan,'')[['LengthKnownKm','CapacityBcm/y','Countries','Status','StartYearEarliest','CostUSDTotalEstimate','Wiki']]"
   ]
  },
  {
   "cell_type": "raw",
   "id": "28cebf17-3ccf-45e5-af99-fab021720d22",
   "metadata": {},
   "source": [
    "biggest pipeline projects by name globally?"
   ]
  },
  {
   "cell_type": "raw",
   "id": "0b6951e1-f5ad-4902-98c8-709339a8b12f",
   "metadata": {},
   "source": [
    "biggest_pipeline_names_table = pandas.DataFrame(pipes_df_orig.loc[(pipes_df_orig.Fuel=='Gas')&\n",
    "                                                                  (pipes_df_orig.Status.isin(['Proposed','Construction']))].groupby(['PipelineName','Status','Wiki'])['LengthMergedKm'].sum(min_count=1).sort_values(ascending=False)[:19])\n",
    "\n",
    "biggest_pipeline_names_table"
   ]
  },
  {
   "cell_type": "markdown",
   "id": "7b1af5f3-bf78-4206-9b14-a04be8fbfb6f",
   "metadata": {},
   "source": [
    "## biggest pipelines that went into construction in 2022/2023"
   ]
  },
  {
   "cell_type": "code",
   "execution_count": null,
   "id": "da56bc78-697d-40e1-8e66-b822d3500d0a",
   "metadata": {},
   "outputs": [],
   "source": [
    "biggest_pipeline_names_table = pandas.DataFrame(pipes_df_orig.loc[(pipes_df_orig.Fuel=='Gas')&\n",
    "                                                                  (pipes_df_orig.Status.isin(['Construction','Operating']))&\n",
    "                                                                  (pipes_df_orig.ConstructionYear.isin([2022,2023]))].groupby(['PipelineName','Status','Wiki'])['LengthMergedKm'].sum(min_count=1).sort_values(ascending=False)[:19])\n",
    "\n",
    "biggest_pipeline_names_table"
   ]
  },
  {
   "cell_type": "markdown",
   "id": "4034bc9f-3041-4dad-b694-ca8e83faa4d0",
   "metadata": {},
   "source": [
    "## biggest pipeline projects by name in China, rather than individual ProjectID"
   ]
  },
  {
   "cell_type": "code",
   "execution_count": null,
   "id": "f91993c0-dda7-4493-9a8b-6ccf7a1b0186",
   "metadata": {
    "tags": []
   },
   "outputs": [],
   "source": [
    "biggest_pipeline_names_table = pandas.DataFrame(pipes_df_orig.loc[(pipes_df_orig.Fuel=='Gas')&\n",
    "                                                                  (pipes_df_orig.Status.isin(['Proposed','Construction']))&\n",
    "                                                                  (pipes_df_orig.Countries.str.contains('China'))].groupby(['PipelineName','Status','Wiki'])['LengthMergedKm'].sum(min_count=1).sort_values(ascending=False)[:19])\n",
    "\n",
    "biggest_pipeline_names_table"
   ]
  },
  {
   "cell_type": "code",
   "execution_count": null,
   "id": "6494c64f-33a1-4e98-998e-a926766e68d3",
   "metadata": {},
   "outputs": [],
   "source": [
    "pipes_df_orig.loc[(pipes_df_orig.Fuel=='Gas')&\n",
    "                (pipes_df_orig.Status.isin(['Construction']))&\n",
    "                (pipes_df_orig.Countries.str.contains('China'))].shape"
   ]
  },
  {
   "cell_type": "code",
   "execution_count": null,
   "id": "05ec8120-177a-4227-a6cd-c4d63bdc527d",
   "metadata": {},
   "outputs": [],
   "source": [
    "pipes_df_orig.loc[(pipes_df_orig.Fuel=='Gas')&\n",
    "                (pipes_df_orig.Status.isin(['Construction']))&\n",
    "                (pipes_df_orig.Countries.str.contains('China'))].LengthMergedKm.mean()"
   ]
  },
  {
   "cell_type": "markdown",
   "id": "0ca10b06-27b4-49d0-aea2-4d3aa2801104",
   "metadata": {},
   "source": [
    "## km of pipeline with 2023, 2024 start years"
   ]
  },
  {
   "cell_type": "code",
   "execution_count": null,
   "id": "41b7f22a-4a20-4a9f-a581-8cbabbe35d5b",
   "metadata": {
    "tags": []
   },
   "outputs": [],
   "source": [
    "# for the key points\n",
    "print(pipes_indev_startyear.loc['Construction',2023],\n",
    "      pipes_indev_startyear.loc['Construction',2024])\n",
    "\n",
    "print(pipes_indev_startyear.loc['Proposed',2023],\n",
    "      pipes_indev_startyear.loc['Proposed',2024])"
   ]
  },
  {
   "cell_type": "markdown",
   "id": "7e63a1db-0270-4177-ab3e-938d02509c20",
   "metadata": {},
   "source": [
    "## km of gas pipelines globally in development\n",
    "\n",
    "note this doesn't match up exactly with regional length calculations"
   ]
  },
  {
   "cell_type": "code",
   "execution_count": null,
   "id": "75452ad0-615e-4b4d-89d5-4891d71902d2",
   "metadata": {
    "tags": []
   },
   "outputs": [],
   "source": [
    "pipes_df_calc = pipes_df_orig.copy()\n",
    "pipes_df_calc.replace('--',numpy.nan,inplace=True)\n",
    "pipes_df_calc[(pipes_df_calc['Status'].isin(['Proposed','Construction'])) &\n",
    "        (pipes_df_calc['Fuel']=='Gas')]['LengthMergedKm'].sum()"
   ]
  },
  {
   "cell_type": "code",
   "execution_count": null,
   "id": "06e0be20-2354-41c1-9838-53e0fa458e9b",
   "metadata": {
    "tags": []
   },
   "outputs": [],
   "source": [
    "regional_km_sums_df = pandas.DataFrame(index=region_list, columns=status_list)\n",
    "\n",
    "for status in status_list:\n",
    "    regional_km_sums_df[status] = pipes_df_calc[(pipes_df_calc['Fuel']=='Gas') &\n",
    "                                                (pipes_df_calc['Status']==status)].groupby('StartRegion')['LengthMergedKm'].sum()\n",
    "\n",
    "regional_km_sums_df['P+C'] = regional_km_sums_df[['Proposed','Construction']].sum(axis=1)\n",
    "total_row = regional_km_sums_df.sum(axis=0)\n",
    "total_row.name = 'Total'\n",
    "#regional_km_sums_df.append(total_row)"
   ]
  },
  {
   "cell_type": "markdown",
   "id": "db6f746e",
   "metadata": {},
   "source": [
    "## country shares analysis"
   ]
  },
  {
   "cell_type": "code",
   "execution_count": null,
   "id": "636ea038",
   "metadata": {
    "tags": []
   },
   "outputs": [],
   "source": [
    "country_ratios_df[(country_ratios_df['Status'].isin(['Proposed','Construction'])) &\n",
    "               (country_ratios_df['Fuel']=='Oil')]['MergedKmByCountry'].sum()"
   ]
  },
  {
   "cell_type": "markdown",
   "id": "4d2b5f76-95a2-4233-b862-d6a0fad3bb0f",
   "metadata": {},
   "source": [
    "## num in dev globally, whether capacity expansions or not"
   ]
  },
  {
   "cell_type": "code",
   "execution_count": null,
   "id": "fc4d8622-e562-4ccc-b0c8-7b0f78ae6d77",
   "metadata": {
    "tags": []
   },
   "outputs": [],
   "source": [
    "print(\"capacity expansion projects:\",\n",
    "    pipes_df_orig.loc[(pipes_df_orig.Fuel=='Gas')&\n",
    "                  (pipes_df_orig.Status.isin(['Proposed','Construction']))&\n",
    "                  (pipes_df_orig.RouteType.isin(['Capacity expansion only','Bidirectionality upgrade only']))].shape)\n",
    "\n",
    "print(\"non-zero length projects:\",\n",
    "      pipes_df_orig.loc[(pipes_df_orig.Fuel=='Gas')&\n",
    "                  (pipes_df_orig.Status.isin(['Proposed','Construction']))&\n",
    "                  (~pipes_df_orig.RouteType.isin(['Capacity expansion only','Bidirectionality upgrade only']))].shape)"
   ]
  },
  {
   "cell_type": "code",
   "execution_count": null,
   "id": "21a96bd8-e464-4591-aba3-79d35a185654",
   "metadata": {
    "tags": []
   },
   "outputs": [],
   "source": [
    "print(pipes_df_orig.loc[(pipes_df_orig.Fuel=='Gas')&\n",
    "                  (pipes_df_orig.Status.isin(['Proposed','Construction']))&\n",
    "                  (pipes_df_orig.RouteType.isin(['Capacity expansion only','Bidirectionality upgrade only']))]['CapacityBOEd'])\n",
    "\n",
    "print(pipes_df_orig.loc[(pipes_df_orig.Fuel=='Gas')&\n",
    "                  (pipes_df_orig.Status.isin(['Proposed','Construction']))&\n",
    "                  (pipes_df_orig.RouteType.isin(['Capacity expansion only','Bidirectionality upgrade only']))][['Countries','CapacityBOEd']])"
   ]
  },
  {
   "cell_type": "markdown",
   "id": "6263102e-46cd-43c0-a086-a37e0358a532",
   "metadata": {},
   "source": [
    "# delay/difficulty to build analysis"
   ]
  },
  {
   "cell_type": "markdown",
   "id": "84ef4407-5b44-46d0-8930-9206b8754ea4",
   "metadata": {},
   "source": [
    "### delays in 2023"
   ]
  },
  {
   "cell_type": "code",
   "execution_count": null,
   "id": "087991b6-52bb-4c33-88e6-2287584beb40",
   "metadata": {},
   "outputs": [],
   "source": [
    "# how many have a start year of 2023 but haven't begun?\n",
    "pipes_df_orig.loc[(pipes_df_orig.Fuel=='Gas')&\n",
    "                    (pipes_df_orig.StartYearEarliest==2023)].groupby(['Status'])['LengthMergedKm'].sum()"
   ]
  },
  {
   "cell_type": "code",
   "execution_count": null,
   "id": "f901545c-81ef-481e-8e59-b15f459327a6",
   "metadata": {},
   "outputs": [],
   "source": [
    "# how many have a start year of 2023 but haven't begun?\n",
    "pipes_df_orig.loc[(pipes_df_orig.Fuel=='Gas')&\n",
    "                    (pipes_df_orig.StartYearEarliest==2023)].groupby(['Status','StartRegion'])['LengthMergedKm'].sum()"
   ]
  },
  {
   "cell_type": "markdown",
   "id": "61dde47a-353b-4848-94ac-9cf6f0445be7",
   "metadata": {},
   "source": [
    "### timeline of pipeline completion"
   ]
  },
  {
   "cell_type": "code",
   "execution_count": null,
   "id": "c7904480-4e05-439c-b764-b134a0d5bfb6",
   "metadata": {},
   "outputs": [],
   "source": [
    "# timeline of pipeline completion?\n",
    "# need both proposal year and needs to be operational and have a start year\n",
    "pipes_df_orig.loc[(pipes_df_orig.Fuel=='Gas')&\n",
    "    (pipes_df_orig.Status=='Operating')&\n",
    "    (~pipes_df_orig.StartYearEarliest.isnull())&\n",
    "    (pipes_df_orig.ProposalYear!='')]"
   ]
  },
  {
   "cell_type": "code",
   "execution_count": null,
   "id": "02bb1dc7-1145-4b2f-b321-4becd3cce70a",
   "metadata": {},
   "outputs": [],
   "source": [
    "pipes_df_gas_with_completion_data = pipes_df_orig.loc[(pipes_df_orig.Fuel=='Gas')&\n",
    "    (pipes_df_orig.Status=='Operating')&\n",
    "    (~pipes_df_orig.StartYearEarliest.isnull())&\n",
    "    (pipes_df_orig.ProposalYear!='')&\n",
    "    (pipes_df_orig.ProposalYear!=pipes_df_orig.StartYearEarliest)]"
   ]
  },
  {
   "cell_type": "code",
   "execution_count": null,
   "id": "b171af46-7670-4ad2-92c1-0e374a35aad8",
   "metadata": {},
   "outputs": [],
   "source": [
    "pipes_df_gas_with_completion_data.shape"
   ]
  },
  {
   "cell_type": "code",
   "execution_count": null,
   "id": "359b25f3-64f6-4023-b646-feca758877c5",
   "metadata": {},
   "outputs": [],
   "source": [
    "numpy.array(pipes_df_gas_with_completion_data.StartYearEarliest-pipes_df_gas_with_completion_data.ProposalYear).mean()"
   ]
  },
  {
   "cell_type": "code",
   "execution_count": null,
   "id": "7bfbd8b1-3120-4c41-b438-03e1c57af5e7",
   "metadata": {},
   "outputs": [],
   "source": [
    "# mean rate of construction (km of pipeline per year)\n",
    "numpy.array(pipes_df_gas_with_completion_data.LengthMergedKm/(pipes_df_gas_with_completion_data.StartYearEarliest-pipes_df_gas_with_completion_data.ProposalYear)).mean()"
   ]
  },
  {
   "cell_type": "code",
   "execution_count": null,
   "id": "764c024c-f96f-400e-95cb-f457c562e452",
   "metadata": {},
   "outputs": [],
   "source": [
    "numpy.array(pipes_df_gas_with_completion_data.StartYearEarliest-pipes_df_gas_with_completion_data.ProposalYear)"
   ]
  },
  {
   "cell_type": "code",
   "execution_count": null,
   "id": "621906c8-ccff-4b68-9f62-49194d2ed469",
   "metadata": {},
   "outputs": [],
   "source": [
    "mp.hist(x=numpy.array(pipes_df_gas_with_completion_data.LengthMergedKm/(pipes_df_gas_with_completion_data.StartYearEarliest-pipes_df_gas_with_completion_data.ProposalYear)),\n",
    "       bins=50)"
   ]
  },
  {
   "cell_type": "markdown",
   "id": "84f0cf0d-9fc5-4e63-a925-214832372626",
   "metadata": {},
   "source": [
    "### how long are shelved pipelines hanging around?"
   ]
  },
  {
   "cell_type": "code",
   "execution_count": null,
   "id": "5ce47f7e-00a5-4987-b186-e0fc103ecea2",
   "metadata": {},
   "outputs": [],
   "source": [
    "# we care about whether it's shelved, and when it was proposed\n",
    "pipes_df_gas_with_shelved_data = pipes_df_orig.loc[(pipes_df_orig.Fuel=='Gas')&\n",
    "    (pipes_df_orig.Status=='Shelved')&\n",
    "    #(pipes_df_orig.ShelvedYear!='')&\n",
    "    #(~pipes_df_orig.StartYearEarliest.isnull())&\n",
    "    (pipes_df_orig.ProposalYear!='')]"
   ]
  },
  {
   "cell_type": "code",
   "execution_count": null,
   "id": "2e74d5f1-5371-4c8f-a2fe-80f2e02bdd20",
   "metadata": {},
   "outputs": [],
   "source": [
    "numpy.array(2023-pipes_df_gas_with_shelved_data.ProposalYear).mean()"
   ]
  },
  {
   "cell_type": "code",
   "execution_count": null,
   "id": "4f42ae71-fc48-48bd-8452-4375fbc7e179",
   "metadata": {},
   "outputs": [],
   "source": [
    "# we care about whether it's shelved, and when it was proposed\n",
    "pipes_df_gas_with_shelved_data = pipes_df_orig.loc[(pipes_df_orig.Fuel=='Gas')&\n",
    "    (pipes_df_orig.Status=='Shelved')&\n",
    "    (pipes_df_orig.ShelvedYear!='')&\n",
    "    #(~pipes_df_orig.StartYearEarliest.isnull())&\n",
    "    (pipes_df_orig.ProposalYear!='')]"
   ]
  },
  {
   "cell_type": "code",
   "execution_count": null,
   "id": "71a8a912-7a31-406a-8eb4-6118a7e4ed36",
   "metadata": {},
   "outputs": [],
   "source": [
    "# about 22 projects right now that are marked shelved AND have a proposal year\n",
    "pipes_df_gas_with_shelved_data.ShelvedYear-pipes_df_gas_with_shelved_data.ProposalYear"
   ]
  },
  {
   "cell_type": "code",
   "execution_count": null,
   "id": "4277e8df-457c-4cf5-a484-24c6578616ff",
   "metadata": {},
   "outputs": [],
   "source": [
    "# about 22 projects right now that are marked shelved AND have a proposal year\n",
    "numpy.array(pipes_df_gas_with_shelved_data.ShelvedYear-pipes_df_gas_with_shelved_data.ProposalYear).mean()"
   ]
  }
 ],
 "metadata": {
  "kernelspec": {
   "display_name": "Python 3 (ipykernel)",
   "language": "python",
   "name": "python3"
  },
  "language_info": {
   "codemirror_mode": {
    "name": "ipython",
    "version": 3
   },
   "file_extension": ".py",
   "mimetype": "text/x-python",
   "name": "python",
   "nbconvert_exporter": "python",
   "pygments_lexer": "ipython3",
   "version": "3.11.6"
  }
 },
 "nbformat": 4,
 "nbformat_minor": 5
}
