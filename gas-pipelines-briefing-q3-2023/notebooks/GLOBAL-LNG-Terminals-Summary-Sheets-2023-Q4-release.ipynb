{
 "cells": [
  {
   "cell_type": "code",
   "execution_count": 220,
   "id": "24befb0b",
   "metadata": {
    "tags": []
   },
   "outputs": [],
   "source": [
    "import pandas\n",
    "import numpy\n",
    "import pygsheets\n",
    "import datetime\n",
    "import pytz\n",
    "import re"
   ]
  },
  {
   "cell_type": "code",
   "execution_count": 221,
   "id": "ae44956f-e552-4988-91af-3d8b313dbe6b",
   "metadata": {
    "tags": []
   },
   "outputs": [],
   "source": [
    "# define the excel file to save tables in\n",
    "current_time = datetime.datetime.now(pytz.timezone('US/Eastern')).strftime(\"%Y-%m-%d_T%H%M%S\")\n",
    "excel_writer = pandas.ExcelWriter('Global-LNG-Terminals-SummarySheets-'+current_time+'.xlsx')"
   ]
  },
  {
   "cell_type": "code",
   "execution_count": 222,
   "id": "a4185877",
   "metadata": {
    "tags": []
   },
   "outputs": [],
   "source": [
    "gc = pygsheets.authorize(service_account_env_var='GDRIVE_API_CREDENTIALS')\n",
    "spreadsheet = gc.open_by_key('1tcS6Wd-Wp-LTDpLzFgJY_RSNDnbyubW3J_9HKIAys4A')\n",
    "#spreadsheet = gc.open_by_key('1MrghwBeCz8Tzgua7CWGg_KoXKVZsV7r0kHMYHYqnNTg') # July 2022 terminals version\n",
    "#spreadsheet = gc.open_by_key('1FVuw76YU-jmAzfSWJ2ixwBQB_wXEK9aGCa4Q6OCOUzY') # July 2022 with May 2023 updates for Asia gas tracker\n",
    "\n",
    "terms_df_orig = spreadsheet.worksheet('title', 'Terminals').get_as_df(start='A3')\n",
    "\n",
    "# drop any empty/imcomplete rows (those without a wiki page)\n",
    "terms_df_orig = terms_df_orig.loc[terms_df_orig.Wiki != '']\n",
    "\n",
    "#get other relevant sheets\n",
    "owners_df_orig = spreadsheet.worksheet('title', 'Terminal operators/owners (1/3)').get_as_df(start='A2')\n",
    "owners_df_orig.set_index('ComboID', inplace=True)\n",
    "\n",
    "parent_metadata_df = spreadsheet.worksheet('title', 'Parent metadata (3/3)').get_as_df(start='A2')\n",
    "parent_metadata_df.set_index('Parent', inplace=True)"
   ]
  },
  {
   "cell_type": "code",
   "execution_count": 223,
   "id": "4b8ccd2f",
   "metadata": {
    "tags": []
   },
   "outputs": [],
   "source": [
    "terms_df_orig.replace('--', numpy.nan, inplace=True)"
   ]
  },
  {
   "cell_type": "code",
   "execution_count": 224,
   "id": "4527dc75",
   "metadata": {
    "tags": []
   },
   "outputs": [],
   "source": [
    "region_df_orig = spreadsheet.worksheet('title', 'Country dictionary').get_as_df(start='A2')\n",
    "#region_df_agt = region_df_orig.loc[region_df_orig['AsiaGasTracker']=='Yes']\n",
    "\n",
    "region_df_touse = region_df_orig.copy()\n",
    "#region_df_agt.copy()"
   ]
  },
  {
   "cell_type": "markdown",
   "id": "bef25f8e",
   "metadata": {},
   "source": [
    "### create specific dataframes for region, country_ratios, owners_df"
   ]
  },
  {
   "cell_type": "code",
   "execution_count": 225,
   "id": "86f5a6e3-ce32-433f-9cf3-3f4091d4bef9",
   "metadata": {
    "tags": []
   },
   "outputs": [],
   "source": [
    "owners_df_touse = owners_df_orig.loc[owners_df_orig['Country'].isin(region_df_touse['Country'].tolist())]\n",
    "terms_df_touse = terms_df_orig.loc[terms_df_orig['Country'].isin(region_df_touse['Country'].tolist())]"
   ]
  },
  {
   "cell_type": "code",
   "execution_count": 226,
   "id": "3a6a5a10",
   "metadata": {
    "tags": []
   },
   "outputs": [],
   "source": [
    "status_list = ['Proposed', \n",
    "               'Construction', \n",
    "               'Shelved', \n",
    "               'Cancelled', \n",
    "               'Operating', \n",
    "               'Idle', \n",
    "               'Mothballed', \n",
    "               'Retired']\n",
    "country_list = sorted(set(region_df_touse['Country'].tolist()))\n",
    "region_list = sorted(set(region_df_touse['Region'].tolist()))\n",
    "subregion_list = sorted(set(region_df_touse['SubRegion'].tolist()))"
   ]
  },
  {
   "cell_type": "code",
   "execution_count": 227,
   "id": "00d19702",
   "metadata": {
    "tags": []
   },
   "outputs": [],
   "source": [
    "excel_status_list = ['Proposed', \n",
    "                     'Construction', \n",
    "                     'In Development (Proposed + Construction)', \n",
    "                     'Shelved', \n",
    "                     'Cancelled', \n",
    "                     'Operating', \n",
    "                     'Idle', \n",
    "                     'Mothballed', \n",
    "                     'Retired']\n",
    "excel_status_list_with_countries = ['Country']+excel_status_list"
   ]
  },
  {
   "cell_type": "code",
   "execution_count": 228,
   "id": "c90904c9-efc6-4142-9de7-ee21ade3f50d",
   "metadata": {},
   "outputs": [],
   "source": [
    "# regions - subregions\n",
    "#############################\n",
    "# Africa - Sub-Saharan Africa\n",
    "# Africa - Northern Africa\n",
    "# Americas - Latin America and the Caribbean\n",
    "# Americas - North America\n",
    "# Asia - Southern Asia\n",
    "# Asia - Western Asia\n",
    "# Asia - South-eastern Asia\n",
    "# Asia - East Asia\n",
    "# Asia - Central Asia\n",
    "# Europe - Southern Europe\n",
    "# Europe - Eastern Europe\n",
    "# Europe - Western Europe\n",
    "# Europe - Northern Europe\n",
    "# Oceania\t- Polynesia\n",
    "# Oceania\t- Australia and New Zealand\n",
    "# Oceania\t- Melanesia\n",
    "# Oceania\t- Micronesia"
   ]
  },
  {
   "cell_type": "markdown",
   "id": "84b0b032",
   "metadata": {},
   "source": [
    "### no. export trains by country/region, project status"
   ]
  },
  {
   "cell_type": "code",
   "execution_count": 206,
   "id": "cd7a0a24",
   "metadata": {
    "tags": []
   },
   "outputs": [
    {
     "name": "stdout",
     "output_type": "stream",
     "text": [
      "===country-level calculations===\n",
      "Proposed\n",
      "Construction\n",
      "Shelved\n",
      "Cancelled\n",
      "Operating\n",
      "Idle\n",
      "Mothballed\n",
      "Retired\n",
      "===country-level calculations===\n",
      "Proposed\n",
      "Construction\n",
      "Shelved\n",
      "Cancelled\n",
      "Operating\n",
      "Idle\n",
      "Mothballed\n",
      "Retired\n"
     ]
    }
   ],
   "source": [
    "terms_df_subset = terms_df_touse.copy()[(terms_df_touse['Import/Export']=='Export') & (terms_df_touse['Fuel']=='LNG')]\n",
    "\n",
    "multiindex_region_subregion = pandas.MultiIndex.from_product([region_list,subregion_list], names=['Region','SubRegion'])\n",
    "\n",
    "ntrains_by_country = pandas.DataFrame(0, columns=status_list, index=country_list)\n",
    "ntrains_by_region = pandas.DataFrame(0, columns=status_list, index=multiindex_region_subregion)\n",
    "\n",
    "print('===country-level calculations===')\n",
    "for status in status_list:\n",
    "    print(status)\n",
    "    terms_df_subset_status = terms_df_subset.copy()[terms_df_subset['Status']==status]\n",
    "    ntrains_by_country[status] = terms_df_subset_status.groupby('Country').size()\n",
    "\n",
    "print('===country-level calculations===')\n",
    "for status in status_list:\n",
    "    print(status)\n",
    "    terms_df_subset_status = terms_df_subset.copy()[terms_df_subset['Status']==status]\n",
    "    ntrains_by_region[status] = terms_df_subset_status.groupby(['Region','SubRegion']).size()\n",
    "\n",
    "# fille NaN with 0.0\n",
    "ntrains_by_region = ntrains_by_region.fillna(0)\n",
    "ntrains_by_country = ntrains_by_country.fillna(0)\n",
    "\n",
    "ntrains_by_region['In Development (Proposed + Construction)'] = ntrains_by_region[['Proposed','Construction']].sum(axis=1)\n",
    "ntrains_by_country['In Development (Proposed + Construction)'] = ntrains_by_country[['Proposed','Construction']].sum(axis=1)\n",
    "\n",
    "ntrains_by_country = ntrains_by_country[excel_status_list]\n",
    "ntrains_by_region = ntrains_by_region[excel_status_list]\n",
    "\n",
    "ntrains_by_region.index.names = ['Region','Subregion']\n",
    "ntrains_by_country.index.name = 'Country'\n",
    "\n",
    "ntrains_by_region.loc['Total',:] = ntrains_by_region.sum(axis=0).values\n",
    "ntrains_by_country.loc['Total',:] = ntrains_by_country.sum(axis=0).values\n",
    "\n",
    "ntrains_by_region = ntrains_by_region.loc[~(ntrains_by_region==0).all(axis=1)]\n",
    "\n",
    "ntrains_by_region.replace(0,'',inplace=True)\n",
    "ntrains_by_country.replace(0,'',inplace=True)\n",
    "\n",
    "ntrains_by_region.to_excel(excel_writer, sheet_name='LNG export trains by region')#, index=False)\n",
    "ntrains_by_country.to_excel(excel_writer, sheet_name='LNG export trains by country')#, index=False)"
   ]
  },
  {
   "cell_type": "markdown",
   "id": "d64b3a05",
   "metadata": {},
   "source": [
    "### no. import trains by country/region, project status"
   ]
  },
  {
   "cell_type": "code",
   "execution_count": 207,
   "id": "10192904",
   "metadata": {
    "tags": []
   },
   "outputs": [
    {
     "name": "stdout",
     "output_type": "stream",
     "text": [
      "===country-level calculations===\n",
      "Proposed\n",
      "Construction\n",
      "Shelved\n",
      "Cancelled\n",
      "Operating\n",
      "Idle\n",
      "Mothballed\n",
      "Retired\n",
      "===country-level calculations===\n",
      "Proposed\n",
      "Construction\n",
      "Shelved\n",
      "Cancelled\n",
      "Operating\n",
      "Idle\n",
      "Mothballed\n",
      "Retired\n"
     ]
    }
   ],
   "source": [
    "terms_df_subset = terms_df_touse.copy()[(terms_df_touse['Import/Export']=='Import') & (terms_df_touse['Fuel']=='LNG')]\n",
    "\n",
    "multiindex_region_subregion = pandas.MultiIndex.from_product([region_list,subregion_list], names=['Region','SubRegion'])\n",
    "\n",
    "ntrains_by_country = pandas.DataFrame(0, columns=status_list, index=country_list)\n",
    "ntrains_by_region = pandas.DataFrame(0, columns=status_list, index=multiindex_region_subregion)\n",
    "\n",
    "print('===country-level calculations===')\n",
    "for status in status_list:\n",
    "    print(status)\n",
    "    terms_df_subset_status = terms_df_subset.copy()[terms_df_subset['Status']==status]\n",
    "    ntrains_by_country[status] = terms_df_subset_status.groupby('Country').size()\n",
    "\n",
    "print('===country-level calculations===')\n",
    "for status in status_list:\n",
    "    print(status)\n",
    "    terms_df_subset_status = terms_df_subset.copy()[terms_df_subset['Status']==status]\n",
    "    ntrains_by_region[status] = terms_df_subset_status.groupby(['Region','SubRegion']).size()\n",
    "\n",
    "# fille NaN with 0.0\n",
    "ntrains_by_region = ntrains_by_region.fillna(0)\n",
    "ntrains_by_country = ntrains_by_country.fillna(0)\n",
    "\n",
    "ntrains_by_region['In Development (Proposed + Construction)'] = ntrains_by_region[['Proposed','Construction']].sum(axis=1)\n",
    "ntrains_by_country['In Development (Proposed + Construction)'] = ntrains_by_country[['Proposed','Construction']].sum(axis=1)\n",
    "\n",
    "ntrains_by_country = ntrains_by_country[excel_status_list]\n",
    "ntrains_by_region = ntrains_by_region[excel_status_list]\n",
    "\n",
    "ntrains_by_region.index.names = ['Region','Subregion']\n",
    "ntrains_by_country.index.name = 'Country'\n",
    "\n",
    "ntrains_by_region.loc['Total',:] = ntrains_by_region.sum(axis=0).values\n",
    "ntrains_by_country.loc['Total',:] = ntrains_by_country.sum(axis=0).values\n",
    "\n",
    "ntrains_by_region = ntrains_by_region.loc[~(ntrains_by_region==0).all(axis=1)]\n",
    "\n",
    "ntrains_by_region.replace(0,'',inplace=True)\n",
    "ntrains_by_country.replace(0,'',inplace=True)\n",
    "\n",
    "ntrains_by_region.to_excel(excel_writer, sheet_name='LNG import trains by region')#, index=False)\n",
    "ntrains_by_country.to_excel(excel_writer, sheet_name='LNG import trains by country')#, index=False)"
   ]
  },
  {
   "cell_type": "markdown",
   "id": "4991b0f7",
   "metadata": {},
   "source": [
    "### capacity (mtpa) of import trains by country/region, project status"
   ]
  },
  {
   "cell_type": "code",
   "execution_count": 208,
   "id": "b9c86827",
   "metadata": {
    "tags": []
   },
   "outputs": [
    {
     "name": "stdout",
     "output_type": "stream",
     "text": [
      "===country-level calculations===\n",
      "Proposed\n",
      "Construction\n",
      "Shelved\n",
      "Cancelled\n",
      "Operating\n",
      "Idle\n",
      "Mothballed\n",
      "Retired\n",
      "===country-level calculations===\n",
      "Proposed\n",
      "Construction\n",
      "Shelved\n",
      "Cancelled\n",
      "Operating\n",
      "Idle\n",
      "Mothballed\n",
      "Retired\n"
     ]
    }
   ],
   "source": [
    "terms_df_subset = terms_df_touse.copy()[(terms_df_touse['Import/Export']=='Import') & (terms_df_touse['Fuel']=='LNG')]\n",
    "\n",
    "multiindex_region_subregion = pandas.MultiIndex.from_product([region_list,subregion_list], names=['Region','SubRegion'])\n",
    "\n",
    "cap_by_country = pandas.DataFrame(0, columns=status_list, index=country_list)\n",
    "cap_by_region = pandas.DataFrame(0, columns=status_list, index=multiindex_region_subregion)\n",
    "\n",
    "print('===country-level calculations===')\n",
    "for status in status_list:\n",
    "    print(status)\n",
    "    terms_df_subset_status = terms_df_subset.copy()[terms_df_subset['Status']==status]\n",
    "    cap_by_country[status] = terms_df_subset_status.groupby('Country')['CapacityInMtpa'].sum()\n",
    "\n",
    "print('===country-level calculations===')\n",
    "for status in status_list:\n",
    "    print(status)\n",
    "    terms_df_subset_status = terms_df_subset.copy()[terms_df_subset['Status']==status]\n",
    "    cap_by_region[status] = terms_df_subset_status.groupby(['Region','SubRegion'])['CapacityInMtpa'].sum()\n",
    "\n",
    "#fille NaN with 0.0\n",
    "cap_by_region = cap_by_region.fillna(0)\n",
    "cap_by_country = cap_by_country.fillna(0)\n",
    "\n",
    "cap_by_region['In Development (Proposed + Construction)'] = cap_by_region[['Proposed','Construction']].sum(axis=1)\n",
    "cap_by_country['In Development (Proposed + Construction)'] = cap_by_country[['Proposed','Construction']].sum(axis=1)\n",
    "\n",
    "cap_by_country = cap_by_country[excel_status_list]\n",
    "cap_by_region = cap_by_region[excel_status_list]\n",
    "\n",
    "cap_by_region.index.names = ['Region','Subregion']\n",
    "cap_by_country.index.name = 'Country'\n",
    "\n",
    "cap_by_region.loc['Total',:] = cap_by_region.sum(axis=0).values\n",
    "cap_by_country.loc['Total',:] = cap_by_country.sum(axis=0).values\n",
    "\n",
    "cap_by_region = cap_by_region.loc[~(cap_by_region==0).all(axis=1)]\n",
    "\n",
    "cap_by_region.replace(0,'',inplace=True)\n",
    "cap_by_country.replace(0,'',inplace=True)\n",
    "\n",
    "cap_by_region.to_excel(excel_writer, 'LNG import capacity by region')\n",
    "cap_by_country.to_excel(excel_writer, 'LNG import capacity by country')"
   ]
  },
  {
   "cell_type": "markdown",
   "id": "1f468ea6",
   "metadata": {},
   "source": [
    "### capacity (mtpa) of export trains by country/region, project status"
   ]
  },
  {
   "cell_type": "code",
   "execution_count": 209,
   "id": "68176611",
   "metadata": {
    "tags": []
   },
   "outputs": [
    {
     "name": "stdout",
     "output_type": "stream",
     "text": [
      "===country-level calculations===\n",
      "Proposed\n",
      "Construction\n",
      "Shelved\n",
      "Cancelled\n",
      "Operating\n",
      "Idle\n",
      "Mothballed\n",
      "Retired\n",
      "===country-level calculations===\n",
      "Proposed\n",
      "Construction\n",
      "Shelved\n",
      "Cancelled\n",
      "Operating\n",
      "Idle\n",
      "Mothballed\n",
      "Retired\n"
     ]
    }
   ],
   "source": [
    "terms_df_subset = terms_df_touse.copy()[(terms_df_touse['Import/Export']=='Export') & (terms_df_touse['Fuel']=='LNG')]\n",
    "\n",
    "multiindex_region_subregion = pandas.MultiIndex.from_product([region_list,subregion_list], names=['Region','SubRegion'])\n",
    "\n",
    "cap_by_country = pandas.DataFrame(0, columns=status_list, index=country_list)\n",
    "cap_by_region = pandas.DataFrame(0, columns=status_list, index=multiindex_region_subregion)\n",
    "\n",
    "print('===country-level calculations===')\n",
    "for status in status_list:\n",
    "    print(status)\n",
    "    terms_df_subset_status = terms_df_subset.copy()[terms_df_subset['Status']==status]\n",
    "    cap_by_country[status] = terms_df_subset_status.groupby('Country')['CapacityInMtpa'].sum()\n",
    "\n",
    "print('===country-level calculations===')\n",
    "for status in status_list:\n",
    "    print(status)\n",
    "    terms_df_subset_status = terms_df_subset.copy()[terms_df_subset['Status']==status]\n",
    "    cap_by_region[status] = terms_df_subset_status.groupby(['Region','SubRegion'])['CapacityInMtpa'].sum()\n",
    "\n",
    "#fille NaN with 0.0\n",
    "cap_by_region = cap_by_region.fillna(0)\n",
    "cap_by_country = cap_by_country.fillna(0)\n",
    "\n",
    "cap_by_region['In Development (Proposed + Construction)'] = cap_by_region[['Proposed','Construction']].sum(axis=1)\n",
    "cap_by_country['In Development (Proposed + Construction)'] = cap_by_country[['Proposed','Construction']].sum(axis=1)\n",
    "\n",
    "cap_by_country = cap_by_country[excel_status_list]\n",
    "cap_by_region = cap_by_region[excel_status_list]\n",
    "\n",
    "cap_by_region.index.names = ['Region','Subregion']\n",
    "cap_by_country.index.name = 'Country'\n",
    "\n",
    "cap_by_region.loc['Total',:] = cap_by_region.sum(axis=0).values\n",
    "cap_by_country.loc['Total',:] = cap_by_country.sum(axis=0).values\n",
    "\n",
    "cap_by_region = cap_by_region.loc[~(cap_by_region==0).all(axis=1)]\n",
    "\n",
    "cap_by_region.replace(0,'',inplace=True)\n",
    "cap_by_country.replace(0,'',inplace=True)\n",
    "\n",
    "cap_by_region.to_excel(excel_writer, 'LNG export capacity by region')\n",
    "cap_by_country.to_excel(excel_writer, 'LNG export capacity by country')"
   ]
  },
  {
   "cell_type": "markdown",
   "id": "523e6211",
   "metadata": {},
   "source": [
    "## owner analysis"
   ]
  },
  {
   "cell_type": "code",
   "execution_count": 210,
   "id": "e0c74401-6348-4d07-8e2d-2d3205126925",
   "metadata": {
    "tags": []
   },
   "outputs": [],
   "source": [
    "# this cell takes the terminals data set (call it \"terms_df_all\", here we're using the indev terminals subset)\n",
    "# and loops throw every row, breaks up the parent and % ownership strings,\n",
    "# and outputs a dataframe owner_parent_calculations_df that has a bunch of different useful info related\n",
    "# to parent shares, capacity, etc.\n",
    "owner_parent_calculations_df = pandas.DataFrame() # empty df for storing owner/parent stuff\n",
    "\n",
    "for idx,row in terms_df_touse.iterrows():\n",
    "    parent_string = row.Parent #.values[0]\n",
    "\n",
    "    # the two lines below go through the parent entries in the sheet and split them,\n",
    "    # recording the percents and parents in separate lists, to be dealt with later\n",
    "    parent_list = re.sub(' \\[.*?\\]', '', parent_string).split('; ') # all entries must have an \"Owner [%]\" syntax, so [unknown %] is included\n",
    "    percent_list = [float(i.rstrip('%'))/100. for i in re.findall('\\\\d+(?:\\\\.\\\\d+)?%', parent_string)]\n",
    "\n",
    "    # if there are fewer recorded percents than number of parents\n",
    "    if parent_list.__len__()!=percent_list.__len__():\n",
    "        # if there are no percents, make them all equal\n",
    "        if percent_list==[]:\n",
    "            percent_list = [1/parent_list.__len__() for i in parent_list]\n",
    "        # otherwise, get the difference and distribute the remainder equally among remaining parents\n",
    "        else:\n",
    "            nmissing = parent_list.__len__()-percent_list.__len__()\n",
    "            # distribute nans evenly\n",
    "            total = numpy.nansum(percent_list)\n",
    "            leftover = 1-total\n",
    "            percent_list += [leftover/nmissing]*nmissing\n",
    "\n",
    "    # now go through each parent and associated percent ownership\n",
    "    # and store it alongside the project's name along with capacity, status, region, etc.\n",
    "    # this is stored inside the big dataframe owner_parent_calculations_df\n",
    "    for p_idx,parent in enumerate(parent_list):\n",
    "        if parent not in parent_metadata_df.index.to_list():\n",
    "            parent_metadata_df.loc[parent,'ParentHQCountry']='Unknown'\n",
    "        owner_parent_calculations_df = pandas.concat([owner_parent_calculations_df, \n",
    "                                                      pandas.DataFrame([{'Parent':parent, 'ComboID':row.ComboID,\n",
    "                                                                         'FractionOwnership':percent_list[p_idx],\n",
    "                                                                         'PercentString':'{:.2f}%'.format(percent_list[p_idx]*100),\n",
    "                                                                         'ParentHQCountry':parent_metadata_df.loc[parent_metadata_df.index==parent]['ParentHQCountry'].values[0],\n",
    "                                                                         'ParentHQRegion':parent_metadata_df.loc[parent_metadata_df.index==parent]['ParentHQRegion'].values[0],\n",
    "                                                                         'TerminalCountry':row.Country,\n",
    "                                                                         'TerminalRegion':row.Region,\n",
    "                                                                         'Status':row.Status,\n",
    "                                                                         'Import/Export':row['Import/Export'],\n",
    "                                                                         'CapacityInMtpa':row.CapacityInMtpa,\n",
    "                                                                         'ProjectWiki':row.Wiki,\n",
    "                                                                         'ProjectName':row.TerminalName+' '+str(row.UnitName)}])])\n",
    "\n",
    "owner_parent_calculations_df.reset_index(drop=True, inplace=True)\n",
    "owner_parent_calculations_df['CapacityOwnedInMtpa'] = owner_parent_calculations_df.FractionOwnership*owner_parent_calculations_df.CapacityInMtpa\n",
    "owner_parent_calculations_df['ParentCapacityString'] = owner_parent_calculations_df.Parent + ' (' + owner_parent_calculations_df.CapacityOwnedInMtpa.round(1).astype(str).replace('nan','unknown') + ' mtpa)'"
   ]
  },
  {
   "cell_type": "markdown",
   "id": "2e486d57-86e8-499a-a483-847bf29fec83",
   "metadata": {},
   "source": [
    "### ntrains export by parent company, project status"
   ]
  },
  {
   "cell_type": "code",
   "execution_count": 211,
   "id": "185fe852-9b27-4231-b430-22a02f44afb5",
   "metadata": {
    "tags": []
   },
   "outputs": [],
   "source": [
    "owners_ntrains_by_status_df = \\\n",
    "    owner_parent_calculations_df.loc[owner_parent_calculations_df['Import/Export']=='Export'].groupby(\n",
    "    ['Parent','ParentHQCountry','Status']).agg({'Status':['count']}).unstack().droplevel(axis=1, level=[0,1])\n",
    "\n",
    "owners_ntrains_by_status_df = owners_ntrains_by_status_df.reindex(columns=status_list)\n",
    "owners_ntrains_by_status_df = owners_ntrains_by_status_df.reset_index().set_index('Parent')\n",
    "owners_ntrains_by_status_df.columns.name = None\n",
    "\n",
    "owners_ntrains_by_status_df['In Development (Proposed + Construction)'] = owners_ntrains_by_status_df[['Proposed','Construction']].sum(axis=1)\n",
    "\n",
    "owners_ntrains_by_status_df = owners_ntrains_by_status_df.rename(columns={'Parent':'Parent Company',\n",
    "                                                                          'ParentHQCountry':'Country'})\n",
    "# rearrange the order of the columns for output\n",
    "owners_ntrains_by_status_df = owners_ntrains_by_status_df[excel_status_list_with_countries]\n",
    "\n",
    "# totals_row = owners_ntrains_by_status_df.sum(axis=0, min_count=0)\n",
    "# totals_row.name = 'Total'\n",
    "# owners_ntrains_by_status_df = owners_ntrains_by_status_df.append(totals_row)\n",
    "owners_ntrains_by_status_df.loc['Total',:] = owners_ntrains_by_status_df.sum(axis=0, min_count=0).values\n",
    "owners_ntrains_by_status_df.loc['Total','Country'] = ''\n",
    "\n",
    "owners_ntrains_by_status_df = owners_ntrains_by_status_df.replace(numpy.nan, '')\n",
    "owners_ntrains_by_status_df = owners_ntrains_by_status_df.replace(0, '')\n",
    "\n",
    "owners_ntrains_by_status_df.to_excel(excel_writer, 'LNG export trains by owner')"
   ]
  },
  {
   "cell_type": "markdown",
   "id": "9d062da1",
   "metadata": {},
   "source": [
    "### ntrains import by parent company, project status"
   ]
  },
  {
   "cell_type": "code",
   "execution_count": 212,
   "id": "a5152e27-89d0-4536-82d2-51e8accc925c",
   "metadata": {
    "tags": []
   },
   "outputs": [],
   "source": [
    "owners_ntrains_by_status_df = \\\n",
    "    owner_parent_calculations_df.loc[owner_parent_calculations_df['Import/Export']=='Import'].groupby(\n",
    "    ['Parent','ParentHQCountry','Status']).agg({'Status':['count']}).unstack().droplevel(axis=1, level=[0,1])\n",
    "\n",
    "owners_ntrains_by_status_df = owners_ntrains_by_status_df.reindex(columns=status_list)\n",
    "owners_ntrains_by_status_df = owners_ntrains_by_status_df.reset_index().set_index('Parent')\n",
    "owners_ntrains_by_status_df.columns.name = None\n",
    "\n",
    "owners_ntrains_by_status_df['In Development (Proposed + Construction)'] = owners_ntrains_by_status_df[['Proposed','Construction']].sum(axis=1)\n",
    "\n",
    "owners_ntrains_by_status_df = owners_ntrains_by_status_df.rename(columns={'Parent':'Parent Company',\n",
    "                                                                          'ParentHQCountry':'Country'})\n",
    "# rearrange the order of the columns for output\n",
    "owners_ntrains_by_status_df = owners_ntrains_by_status_df[excel_status_list_with_countries]\n",
    "\n",
    "# totals_row = owners_ntrains_by_status_df.sum(axis=0, min_count=0)\n",
    "# totals_row.name = 'Total'\n",
    "# owners_ntrains_by_status_df = owners_ntrains_by_status_df.append(totals_row)\n",
    "owners_ntrains_by_status_df.loc['Total',:] = owners_ntrains_by_status_df.sum(axis=0, min_count=0).values\n",
    "owners_ntrains_by_status_df.loc['Total','Country'] = ''\n",
    "\n",
    "owners_ntrains_by_status_df = owners_ntrains_by_status_df.replace(numpy.nan, '')\n",
    "owners_ntrains_by_status_df = owners_ntrains_by_status_df.replace(0, '')\n",
    "\n",
    "owners_ntrains_by_status_df.to_excel(excel_writer, 'LNG import trains by owner')"
   ]
  },
  {
   "cell_type": "markdown",
   "id": "eaf257f5",
   "metadata": {},
   "source": [
    "### capacity export by parent company, project status"
   ]
  },
  {
   "cell_type": "code",
   "execution_count": 213,
   "id": "190e14a6-980a-4ef6-ae1b-145c44c74a62",
   "metadata": {
    "tags": []
   },
   "outputs": [],
   "source": [
    "owners_capacity_by_status_df = \\\n",
    "    owner_parent_calculations_df.loc[owner_parent_calculations_df['Import/Export']=='Export'].groupby(\n",
    "    ['Parent','ParentHQCountry','Status']).agg({'CapacityInMtpa':['sum']}).unstack().droplevel(axis=1, level=[0,1])\n",
    "\n",
    "owners_capacity_by_status_df = owners_capacity_by_status_df.reindex(columns=status_list)\n",
    "owners_capacity_by_status_df = owners_capacity_by_status_df.reset_index().set_index('Parent')\n",
    "owners_capacity_by_status_df.columns.name = None\n",
    "\n",
    "owners_capacity_by_status_df['In Development (Proposed + Construction)'] = owners_capacity_by_status_df[['Proposed','Construction']].sum(axis=1)\n",
    "\n",
    "owners_capacity_by_status_df = owners_capacity_by_status_df.rename(columns={'Parent':'Parent Company',\n",
    "                                                                          'ParentHQCountry':'Country'})\n",
    "# rearrange the order of the columns for output\n",
    "owners_capacity_by_status_df = owners_capacity_by_status_df[excel_status_list_with_countries]\n",
    "\n",
    "# totals_row = owners_capacity_by_status_df.sum(axis=0, min_count=0)\n",
    "# totals_row.name = 'Total'\n",
    "# owners_capacity_by_status_df = owners_capacity_by_status_df.append(totals_row)\n",
    "owners_capacity_by_status_df.loc['Total',:] = owners_capacity_by_status_df.sum(axis=0, min_count=0).values\n",
    "owners_capacity_by_status_df.loc['Total','Country'] = ''\n",
    "\n",
    "owners_capacity_by_status_df = owners_capacity_by_status_df.replace(numpy.nan, '')\n",
    "owners_capacity_by_status_df = owners_capacity_by_status_df.replace(0, '')\n",
    "\n",
    "owners_capacity_by_status_df.to_excel(excel_writer, 'LNG export capacity by owner')"
   ]
  },
  {
   "cell_type": "markdown",
   "id": "ac6ec1d8",
   "metadata": {},
   "source": [
    "### capacity import by parent company, project status"
   ]
  },
  {
   "cell_type": "code",
   "execution_count": 214,
   "id": "5b8cfe75",
   "metadata": {},
   "outputs": [],
   "source": [
    "owners_capacity_by_status_df = \\\n",
    "    owner_parent_calculations_df.loc[owner_parent_calculations_df['Import/Export']=='Import'].groupby(\n",
    "    ['Parent','ParentHQCountry','Status']).agg({'CapacityInMtpa':['sum']}).unstack().droplevel(axis=1, level=[0,1])\n",
    "\n",
    "owners_capacity_by_status_df = owners_capacity_by_status_df.reindex(columns=status_list)\n",
    "owners_capacity_by_status_df = owners_capacity_by_status_df.reset_index().set_index('Parent')\n",
    "owners_capacity_by_status_df.columns.name = None\n",
    "\n",
    "owners_capacity_by_status_df['In Development (Proposed + Construction)'] = owners_capacity_by_status_df[['Proposed','Construction']].sum(axis=1)\n",
    "\n",
    "owners_capacity_by_status_df = owners_capacity_by_status_df.rename(columns={'Parent':'Parent Company',\n",
    "                                                                          'ParentHQCountry':'Country'})\n",
    "# rearrange the order of the columns for output\n",
    "owners_capacity_by_status_df = owners_capacity_by_status_df[excel_status_list_with_countries]\n",
    "\n",
    "# totals_row = owners_capacity_by_status_df.sum(axis=0, min_count=0)\n",
    "# totals_row.name = 'Total'\n",
    "# owners_capacity_by_status_df = owners_capacity_by_status_df.append(totals_row)\n",
    "owners_capacity_by_status_df.loc['Total',:] = owners_capacity_by_status_df.sum(axis=0, min_count=0).values\n",
    "owners_capacity_by_status_df.loc['Total','Country'] = ''\n",
    "\n",
    "owners_capacity_by_status_df = owners_capacity_by_status_df.replace(numpy.nan, '')\n",
    "owners_capacity_by_status_df = owners_capacity_by_status_df.replace(0, '')\n",
    "\n",
    "owners_capacity_by_status_df.to_excel(excel_writer, 'LNG import capacity by owner')"
   ]
  },
  {
   "cell_type": "markdown",
   "id": "041572d7",
   "metadata": {},
   "source": [
    "### no. of operating terminals by start year, facility type (1980–2021)"
   ]
  },
  {
   "cell_type": "code",
   "execution_count": 215,
   "id": "22d0fc86",
   "metadata": {},
   "outputs": [],
   "source": [
    "year_indices = list(range(1980,2023))\n",
    "\n",
    "terms_by_start_year_df = pandas.DataFrame(0.0, index=year_indices, columns=['Import terminals', 'Export terminals'])\n",
    "\n",
    "terms_started_df = terms_df_touse[(terms_df_touse['Status'].isin(['Operating'])) &\n",
    "                              (terms_df_touse['Fuel']=='LNG') & (terms_df_touse['Import/Export']=='Import')]\n",
    "terms_by_start_year_df['Import terminals'] = terms_started_df.groupby('StartYearEarliest').size()\n",
    "\n",
    "terms_started_df = terms_df_touse[(terms_df_touse['Status'].isin(['Operating'])) &\n",
    "                              (terms_df_touse['Fuel']=='LNG') & (terms_df_touse['Import/Export']=='Export')]\n",
    "terms_by_start_year_df['Export terminals'] = terms_started_df.groupby('StartYearEarliest').size()\n",
    "\n",
    "terms_by_start_year_df.index.name = 'Start year'\n",
    "\n",
    "terms_by_start_year_df.loc['Total',:] = terms_by_start_year_df.sum(axis=0).values\n",
    "\n",
    "terms_by_start_year_df.replace(numpy.nan,'',inplace=True)\n",
    "\n",
    "terms_by_start_year_df.to_excel(excel_writer, 'LNG terminals by start year')"
   ]
  },
  {
   "cell_type": "markdown",
   "id": "cfbb8b08",
   "metadata": {},
   "source": [
    "### capacity of operating terminals by start year, facility type (1980–2021)"
   ]
  },
  {
   "cell_type": "code",
   "execution_count": 216,
   "id": "99aef37b",
   "metadata": {},
   "outputs": [],
   "source": [
    "year_indices = list(range(1980,2023))\n",
    "\n",
    "capacity_by_start_year_df = pandas.DataFrame(0.0, index=year_indices, columns=['Import terminals', 'Export terminals'])\n",
    "\n",
    "terms_started_df = terms_df_touse.loc[(terms_df_touse['Status'].isin(['Operating'])) &\n",
    "                                      (terms_df_touse['Fuel']=='LNG') & \n",
    "                                      (terms_df_touse['Import/Export']=='Import')]\n",
    "capacity_by_start_year_df['Import terminals'] = terms_started_df.groupby('StartYearEarliest')['CapacityInMtpa'].sum()\n",
    "\n",
    "terms_started_df = terms_df_touse.loc[(terms_df_touse['Status'].isin(['Operating'])) &\n",
    "                                      (terms_df_touse['Fuel']=='LNG') & \n",
    "                                      (terms_df_touse['Import/Export']=='Export')]\n",
    "capacity_by_start_year_df['Export terminals'] = terms_started_df.groupby('StartYearEarliest')['CapacityInMtpa'].sum(min_count=0)\n",
    "\n",
    "capacity_by_start_year_df.loc['Total',:] = capacity_by_start_year_df.sum(axis=0).values\n",
    "\n",
    "capacity_by_start_year_df.index.name = 'Start year'\n",
    "capacity_by_start_year_df.replace(numpy.nan,'',inplace=True)\n",
    "\n",
    "# totals_row = capacity_by_start_year_df.sum(axis=0)\n",
    "# totals_row.name = 'Total'\n",
    "# capacity_by_start_year_df = capacity_by_start_year_df.append(totals_row)\n",
    "\n",
    "capacity_by_start_year_df.to_excel(excel_writer, 'LNG capacity by start year')"
   ]
  },
  {
   "cell_type": "markdown",
   "id": "f0f7040c-9f5f-47ae-b9d9-f764ac12fb00",
   "metadata": {},
   "source": [
    "# save excel file"
   ]
  },
  {
   "cell_type": "code",
   "execution_count": 217,
   "id": "d1d4070d-1166-476f-b769-bfd6b5845d49",
   "metadata": {},
   "outputs": [],
   "source": [
    "excel_writer.close()"
   ]
  },
  {
   "cell_type": "code",
   "execution_count": 219,
   "id": "7d25b18d-c7d9-45f2-8360-d54a9ddb2802",
   "metadata": {},
   "outputs": [
    {
     "name": "stdout",
     "output_type": "stream",
     "text": [
      "2023-10-11_T131048\n"
     ]
    }
   ],
   "source": [
    "print(current_time)"
   ]
  },
  {
   "cell_type": "code",
   "execution_count": null,
   "id": "613895ea-ce53-4758-99c0-c2bfe177a600",
   "metadata": {},
   "outputs": [],
   "source": []
  }
 ],
 "metadata": {
  "kernelspec": {
   "display_name": "Python 3 (ipykernel)",
   "language": "python",
   "name": "python3"
  },
  "language_info": {
   "codemirror_mode": {
    "name": "ipython",
    "version": 3
   },
   "file_extension": ".py",
   "mimetype": "text/x-python",
   "name": "python",
   "nbconvert_exporter": "python",
   "pygments_lexer": "ipython3",
   "version": "3.11.6"
  }
 },
 "nbformat": 4,
 "nbformat_minor": 5
}
