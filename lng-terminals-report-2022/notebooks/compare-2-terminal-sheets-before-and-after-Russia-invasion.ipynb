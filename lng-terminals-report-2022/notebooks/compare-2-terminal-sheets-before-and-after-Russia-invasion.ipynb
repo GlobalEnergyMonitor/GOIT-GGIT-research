{
 "cells": [
  {
   "cell_type": "code",
   "execution_count": 1,
   "id": "c23a9dba-a08e-474b-8152-f5241b5595d8",
   "metadata": {},
   "outputs": [],
   "source": [
    "import pandas\n",
    "import numpy\n",
    "import pygsheets"
   ]
  },
  {
   "cell_type": "code",
   "execution_count": 2,
   "id": "c114f4e6-5d8e-4f4b-bd74-bbdf9ce4c635",
   "metadata": {},
   "outputs": [
    {
     "data": {
      "text/plain": [
       "'1.5.0'"
      ]
     },
     "execution_count": 2,
     "metadata": {},
     "output_type": "execute_result"
    }
   ],
   "source": [
    "pandas.__version__"
   ]
  },
  {
   "cell_type": "markdown",
   "id": "aa9c4411-da75-4889-bfde-2c8cde1f9104",
   "metadata": {},
   "source": [
    "# credentials info"
   ]
  },
  {
   "cell_type": "code",
   "execution_count": 197,
   "id": "06bad55f-cc22-401c-b8f0-5450875aa562",
   "metadata": {},
   "outputs": [],
   "source": [
    "credentials_directory = '/Users/baird/Dropbox/_google-api/'\n",
    "gc = pygsheets.authorize(client_secret=credentials_directory+'client_secret.json')\n",
    "#spreadsheet = gc.open_by_key('1v38EY_kFFsT17cPqz39j21zRYWeQSSxuDmz565MD2GU') # copy for 2022 report"
   ]
  },
  {
   "cell_type": "markdown",
   "id": "34ec36d8-f8b4-485e-9474-7e6290b5d735",
   "metadata": {},
   "source": [
    "# sheet 1 (old)"
   ]
  },
  {
   "cell_type": "code",
   "execution_count": 220,
   "id": "45895e87-778e-4357-9c65-45e6e7c1ff09",
   "metadata": {},
   "outputs": [],
   "source": [
    "#spreadsheet1 = gc.open_by_key('1MrghwBeCz8Tzgua7CWGg_KoXKVZsV7r0kHMYHYqnNTg') # Aug 18 version\n",
    "spreadsheet1 = gc.open_by_key('1-dJ_vK3G9pbfTuriMphfRD65ybC99qv3VpjWzMicCzQ') # Aug 19 version, official database\n",
    "\n",
    "#spreadsheet[1] \"Gas Pipelines\" tab is the second index\n",
    "terms_df_orig1 = spreadsheet1.worksheet('title', 'Terminals').get_as_df()"
   ]
  },
  {
   "cell_type": "raw",
   "id": "96c49945-dfa3-4ea6-8c59-5789080c62a2",
   "metadata": {},
   "source": [
    "# rename some columns\n",
    "new_names = {'Type1':'Fuel',\n",
    "             'Facility':'Import/Export',\n",
    "             'Name':'TerminalName'}\n",
    "terms_df_orig1.rename(columns=new_names, inplace=True)"
   ]
  },
  {
   "cell_type": "code",
   "execution_count": 222,
   "id": "3e99f051-64c1-4c32-8e6c-5895f1c83bfd",
   "metadata": {},
   "outputs": [],
   "source": [
    "# replace all -- with nans\n",
    "terms_df_orig1.replace('--', numpy.nan, inplace=True)\n",
    "# remove oil export terminals\n",
    "terms_df_orig1 = terms_df_orig1.loc[terms_df_orig1['Fuel']=='LNG']\n",
    "# remove anything without a wiki page\n",
    "terms_df_orig1 = terms_df_orig1.loc[terms_df_orig1['Wiki']!='']\n",
    "# remove N/A statuses\n",
    "terms_df_orig1 = terms_df_orig1.loc[terms_df_orig1['Status']!='']\n",
    "\n",
    "terms_df_orig1.set_index('ComboID', inplace=True)"
   ]
  },
  {
   "cell_type": "markdown",
   "id": "73d16f19-b12e-48ca-a422-170cef934189",
   "metadata": {},
   "source": [
    "# sheet 2 (new)"
   ]
  },
  {
   "cell_type": "code",
   "execution_count": 223,
   "id": "7a4ae149-35d6-4d17-8c42-86254eb4f7a9",
   "metadata": {},
   "outputs": [],
   "source": [
    "spreadsheet2 = gc.open_by_key('1tcS6Wd-Wp-LTDpLzFgJY_RSNDnbyubW3J_9HKIAys4A') # present-day data set\n",
    "terms_df_orig2 = spreadsheet2.worksheet('title', 'Terminals').get_as_df(start='A2')"
   ]
  },
  {
   "cell_type": "code",
   "execution_count": 224,
   "id": "53f46efe-a011-40b3-ad67-7ff19da2d11a",
   "metadata": {},
   "outputs": [],
   "source": [
    "# replace all -- with nans\n",
    "terms_df_orig2.replace('--', numpy.nan, inplace=True)\n",
    "# remove oil export terminals\n",
    "terms_df_orig2 = terms_df_orig2.loc[terms_df_orig2['Fuel']=='LNG']\n",
    "# remove anything without a wiki page\n",
    "terms_df_orig2 = terms_df_orig2.loc[terms_df_orig2['Wiki']!='']\n",
    "# remove N/A statuses\n",
    "terms_df_orig2 = terms_df_orig2.loc[terms_df_orig2['Status']!='']"
   ]
  },
  {
   "cell_type": "code",
   "execution_count": 225,
   "id": "08502144-3922-4785-84e2-9e6fc936f21f",
   "metadata": {},
   "outputs": [],
   "source": [
    "terms_df_orig2['TerminalName'] = terms_df_orig2.TerminalName.astype(str)+' '+terms_df_orig2.UnitName.astype(str)\n",
    "terms_df_orig2.set_index('ComboID', inplace=True)"
   ]
  },
  {
   "cell_type": "markdown",
   "id": "84c42d69-afbf-4694-b982-1e08fc51799a",
   "metadata": {},
   "source": [
    "## get shared columns"
   ]
  },
  {
   "cell_type": "code",
   "execution_count": 226,
   "id": "23963bd0-0233-44e6-a929-7f43dbb78f7e",
   "metadata": {},
   "outputs": [
    {
     "data": {
      "text/plain": [
       "{'CostUSDPerBcm/y',\n",
       " 'OtherLanguageTerminalName',\n",
       " 'OtherNames',\n",
       " 'ResearcherNotes1',\n",
       " 'ResearcherNotes2',\n",
       " 'ResearcherNotes3',\n",
       " 'ResearcherNotes4',\n",
       " 'Type2',\n",
       " 'WriteDown'}"
      ]
     },
     "execution_count": 226,
     "metadata": {},
     "output_type": "execute_result"
    }
   ],
   "source": [
    "set(terms_df_orig1.columns)-set(terms_df_orig2.columns)"
   ]
  },
  {
   "cell_type": "code",
   "execution_count": 227,
   "id": "8386f355-27ae-4f85-b346-451f5f1dcb45",
   "metadata": {},
   "outputs": [
    {
     "data": {
      "text/plain": [
       "{'CCS',\n",
       " 'CCSNotes',\n",
       " 'ConstructionYearMonth',\n",
       " 'Construction_Sanctioned_July_2022',\n",
       " 'DelayedStartYear',\n",
       " 'EuroCrisisTracker',\n",
       " 'FIDYearMonth',\n",
       " 'FloatingVesselName',\n",
       " 'H2',\n",
       " 'H2Notes',\n",
       " 'ImpactedByRussiaUkraineInvasion',\n",
       " 'Offshore',\n",
       " 'OtherEnglishNames',\n",
       " 'OtherLanguageName',\n",
       " 'Owner',\n",
       " 'PCINumber',\n",
       " 'ProposalYearMonth',\n",
       " 'ResearcherNotes',\n",
       " 'StartYear1YearMonth',\n",
       " 'Type',\n",
       " 'UnitName'}"
      ]
     },
     "execution_count": 227,
     "metadata": {},
     "output_type": "execute_result"
    }
   ],
   "source": [
    "set(terms_df_orig2.columns)-set(terms_df_orig1.columns)"
   ]
  },
  {
   "cell_type": "code",
   "execution_count": 228,
   "id": "265ca592-ef55-48a3-bf43-e6dd4157d97f",
   "metadata": {},
   "outputs": [],
   "source": [
    "keep_these_columns = list(set(terms_df_orig2.columns).intersection(set(terms_df_orig1.columns)))"
   ]
  },
  {
   "cell_type": "raw",
   "id": "19145655-8286-483d-9509-e6b81aae59a9",
   "metadata": {},
   "source": [
    "terms_df_orig2 = terms_df_orig2[shared_columns]\n",
    "terms_df_orig1 = terms_df_orig1[shared_columns]"
   ]
  },
  {
   "cell_type": "markdown",
   "id": "3cc93827-4a89-41d6-9f0d-c1bdb7fc63a1",
   "metadata": {},
   "source": [
    "## now get shared rows"
   ]
  },
  {
   "cell_type": "code",
   "execution_count": 229,
   "id": "70d3cc31-232b-4a7e-9412-2179a7b16ff9",
   "metadata": {},
   "outputs": [],
   "source": [
    "if 'ComboID' in terms_df_orig2.columns:\n",
    "    terms_df_orig2.set_index('ComboID', inplace=True)\n",
    "if 'ComboID' in terms_df_orig1.columns:\n",
    "    terms_df_orig1.set_index('ComboID', inplace=True)"
   ]
  },
  {
   "cell_type": "code",
   "execution_count": 230,
   "id": "8b89dd7c-1a51-4eea-804c-4ebfd7e9e917",
   "metadata": {},
   "outputs": [],
   "source": [
    "remove_these_indices = set(terms_df_orig2.index).symmetric_difference(set(terms_df_orig1.index))"
   ]
  },
  {
   "cell_type": "code",
   "execution_count": 231,
   "id": "4718ed75-6915-477a-8ca8-ca4db550cedd",
   "metadata": {},
   "outputs": [],
   "source": [
    "new_additions = list(set(terms_df_orig2.index)-set(terms_df_orig1.index))\n",
    "deleted_since_feb = list(set(terms_df_orig1.index)-set(terms_df_orig2.index))"
   ]
  },
  {
   "cell_type": "code",
   "execution_count": 232,
   "id": "94117636-1fff-4db8-b6bc-63ac22766658",
   "metadata": {},
   "outputs": [],
   "source": [
    "keep_these_indices = set(terms_df_orig2.index).intersection(set(terms_df_orig1.index))"
   ]
  },
  {
   "cell_type": "markdown",
   "id": "424ffe1d-7338-423a-9e3a-33c26df90911",
   "metadata": {},
   "source": [
    "## if there are diff ComboIDs, pull out only the common ones, THEN compare rest"
   ]
  },
  {
   "cell_type": "code",
   "execution_count": 233,
   "id": "06b53da4-db7a-4bc0-ba27-4dec5ffa9744",
   "metadata": {},
   "outputs": [
    {
     "data": {
      "text/plain": [
       "array([False,  True, False, ..., False, False, False])"
      ]
     },
     "execution_count": 233,
     "metadata": {},
     "output_type": "execute_result"
    }
   ],
   "source": [
    "terms_df_orig1.index.isin(['T020502'])"
   ]
  },
  {
   "cell_type": "code",
   "execution_count": 234,
   "id": "02b2e78d-4694-47f7-9045-70bb19b3d2a4",
   "metadata": {},
   "outputs": [],
   "source": [
    "common_df1 = terms_df_orig1.loc[terms_df_orig1.index.isin(keep_these_indices),keep_these_columns].sort_index()\n",
    "common_df2 = terms_df_orig2.loc[terms_df_orig2.index.isin(keep_these_indices),keep_these_columns].sort_index()\n",
    "\n",
    "common_df1 = common_df1.loc[common_df1.Region=='Europe']\n",
    "common_df2 = common_df2.loc[common_df2.Region=='Europe']"
   ]
  },
  {
   "cell_type": "code",
   "execution_count": 235,
   "id": "b2c81996-8794-44e4-801e-152f756266ed",
   "metadata": {},
   "outputs": [
    {
     "data": {
      "text/html": [
       "<div>\n",
       "<style scoped>\n",
       "    .dataframe tbody tr th:only-of-type {\n",
       "        vertical-align: middle;\n",
       "    }\n",
       "\n",
       "    .dataframe tbody tr th {\n",
       "        vertical-align: top;\n",
       "    }\n",
       "\n",
       "    .dataframe thead tr th {\n",
       "        text-align: left;\n",
       "    }\n",
       "\n",
       "    .dataframe thead tr:last-of-type th {\n",
       "        text-align: right;\n",
       "    }\n",
       "</style>\n",
       "<table border=\"1\" class=\"dataframe\">\n",
       "  <thead>\n",
       "    <tr>\n",
       "      <th></th>\n",
       "      <th colspan=\"2\" halign=\"left\">PCI3</th>\n",
       "      <th colspan=\"2\" halign=\"left\">StartYearEarliest</th>\n",
       "      <th colspan=\"2\" halign=\"left\">CostEst</th>\n",
       "      <th colspan=\"2\" halign=\"left\">PCI5</th>\n",
       "      <th colspan=\"2\" halign=\"left\">StartYear1</th>\n",
       "      <th>...</th>\n",
       "      <th colspan=\"2\" halign=\"left\">Latitude</th>\n",
       "      <th colspan=\"2\" halign=\"left\">StopYear</th>\n",
       "      <th colspan=\"2\" halign=\"left\">CostEstUnits</th>\n",
       "      <th colspan=\"2\" halign=\"left\">PCI4</th>\n",
       "      <th colspan=\"2\" halign=\"left\">ConstructionYear</th>\n",
       "    </tr>\n",
       "    <tr>\n",
       "      <th></th>\n",
       "      <th>after</th>\n",
       "      <th>before</th>\n",
       "      <th>after</th>\n",
       "      <th>before</th>\n",
       "      <th>after</th>\n",
       "      <th>before</th>\n",
       "      <th>after</th>\n",
       "      <th>before</th>\n",
       "      <th>after</th>\n",
       "      <th>before</th>\n",
       "      <th>...</th>\n",
       "      <th>after</th>\n",
       "      <th>before</th>\n",
       "      <th>after</th>\n",
       "      <th>before</th>\n",
       "      <th>after</th>\n",
       "      <th>before</th>\n",
       "      <th>after</th>\n",
       "      <th>before</th>\n",
       "      <th>after</th>\n",
       "      <th>before</th>\n",
       "    </tr>\n",
       "    <tr>\n",
       "      <th>ComboID</th>\n",
       "      <th></th>\n",
       "      <th></th>\n",
       "      <th></th>\n",
       "      <th></th>\n",
       "      <th></th>\n",
       "      <th></th>\n",
       "      <th></th>\n",
       "      <th></th>\n",
       "      <th></th>\n",
       "      <th></th>\n",
       "      <th></th>\n",
       "      <th></th>\n",
       "      <th></th>\n",
       "      <th></th>\n",
       "      <th></th>\n",
       "      <th></th>\n",
       "      <th></th>\n",
       "      <th></th>\n",
       "      <th></th>\n",
       "      <th></th>\n",
       "      <th></th>\n",
       "    </tr>\n",
       "  </thead>\n",
       "  <tbody>\n",
       "    <tr>\n",
       "      <th>T042400</th>\n",
       "      <td></td>\n",
       "      <td></td>\n",
       "      <td></td>\n",
       "      <td></td>\n",
       "      <td></td>\n",
       "      <td></td>\n",
       "      <td></td>\n",
       "      <td></td>\n",
       "      <td></td>\n",
       "      <td></td>\n",
       "      <td>...</td>\n",
       "      <td></td>\n",
       "      <td></td>\n",
       "      <td></td>\n",
       "      <td></td>\n",
       "      <td></td>\n",
       "      <td></td>\n",
       "      <td></td>\n",
       "      <td></td>\n",
       "      <td></td>\n",
       "      <td></td>\n",
       "    </tr>\n",
       "    <tr>\n",
       "      <th>T042600</th>\n",
       "      <td></td>\n",
       "      <td></td>\n",
       "      <td></td>\n",
       "      <td></td>\n",
       "      <td></td>\n",
       "      <td></td>\n",
       "      <td></td>\n",
       "      <td></td>\n",
       "      <td></td>\n",
       "      <td></td>\n",
       "      <td>...</td>\n",
       "      <td></td>\n",
       "      <td></td>\n",
       "      <td></td>\n",
       "      <td></td>\n",
       "      <td></td>\n",
       "      <td></td>\n",
       "      <td></td>\n",
       "      <td></td>\n",
       "      <td>1982</td>\n",
       "      <td></td>\n",
       "    </tr>\n",
       "    <tr>\n",
       "      <th>T042601</th>\n",
       "      <td></td>\n",
       "      <td></td>\n",
       "      <td></td>\n",
       "      <td></td>\n",
       "      <td></td>\n",
       "      <td></td>\n",
       "      <td></td>\n",
       "      <td></td>\n",
       "      <td></td>\n",
       "      <td></td>\n",
       "      <td>...</td>\n",
       "      <td></td>\n",
       "      <td></td>\n",
       "      <td></td>\n",
       "      <td></td>\n",
       "      <td></td>\n",
       "      <td></td>\n",
       "      <td></td>\n",
       "      <td></td>\n",
       "      <td></td>\n",
       "      <td></td>\n",
       "    </tr>\n",
       "    <tr>\n",
       "      <th>T042602</th>\n",
       "      <td></td>\n",
       "      <td></td>\n",
       "      <td></td>\n",
       "      <td></td>\n",
       "      <td></td>\n",
       "      <td></td>\n",
       "      <td></td>\n",
       "      <td></td>\n",
       "      <td></td>\n",
       "      <td></td>\n",
       "      <td>...</td>\n",
       "      <td></td>\n",
       "      <td></td>\n",
       "      <td></td>\n",
       "      <td></td>\n",
       "      <td></td>\n",
       "      <td></td>\n",
       "      <td></td>\n",
       "      <td></td>\n",
       "      <td></td>\n",
       "      <td></td>\n",
       "    </tr>\n",
       "    <tr>\n",
       "      <th>T042800</th>\n",
       "      <td></td>\n",
       "      <td></td>\n",
       "      <td></td>\n",
       "      <td></td>\n",
       "      <td></td>\n",
       "      <td></td>\n",
       "      <td></td>\n",
       "      <td></td>\n",
       "      <td></td>\n",
       "      <td></td>\n",
       "      <td>...</td>\n",
       "      <td></td>\n",
       "      <td></td>\n",
       "      <td></td>\n",
       "      <td></td>\n",
       "      <td></td>\n",
       "      <td></td>\n",
       "      <td></td>\n",
       "      <td></td>\n",
       "      <td></td>\n",
       "      <td></td>\n",
       "    </tr>\n",
       "    <tr>\n",
       "      <th>...</th>\n",
       "      <td>...</td>\n",
       "      <td>...</td>\n",
       "      <td>...</td>\n",
       "      <td>...</td>\n",
       "      <td>...</td>\n",
       "      <td>...</td>\n",
       "      <td>...</td>\n",
       "      <td>...</td>\n",
       "      <td>...</td>\n",
       "      <td>...</td>\n",
       "      <td>...</td>\n",
       "      <td>...</td>\n",
       "      <td>...</td>\n",
       "      <td>...</td>\n",
       "      <td>...</td>\n",
       "      <td>...</td>\n",
       "      <td>...</td>\n",
       "      <td>...</td>\n",
       "      <td>...</td>\n",
       "      <td>...</td>\n",
       "      <td>...</td>\n",
       "    </tr>\n",
       "    <tr>\n",
       "      <th>T083100</th>\n",
       "      <td></td>\n",
       "      <td></td>\n",
       "      <td></td>\n",
       "      <td></td>\n",
       "      <td></td>\n",
       "      <td></td>\n",
       "      <td></td>\n",
       "      <td></td>\n",
       "      <td></td>\n",
       "      <td></td>\n",
       "      <td>...</td>\n",
       "      <td></td>\n",
       "      <td></td>\n",
       "      <td></td>\n",
       "      <td></td>\n",
       "      <td></td>\n",
       "      <td></td>\n",
       "      <td></td>\n",
       "      <td></td>\n",
       "      <td></td>\n",
       "      <td></td>\n",
       "    </tr>\n",
       "    <tr>\n",
       "      <th>T085500</th>\n",
       "      <td></td>\n",
       "      <td></td>\n",
       "      <td></td>\n",
       "      <td></td>\n",
       "      <td></td>\n",
       "      <td></td>\n",
       "      <td></td>\n",
       "      <td></td>\n",
       "      <td></td>\n",
       "      <td></td>\n",
       "      <td>...</td>\n",
       "      <td>51.264274</td>\n",
       "      <td>51.088313</td>\n",
       "      <td></td>\n",
       "      <td></td>\n",
       "      <td></td>\n",
       "      <td></td>\n",
       "      <td></td>\n",
       "      <td></td>\n",
       "      <td></td>\n",
       "      <td></td>\n",
       "    </tr>\n",
       "    <tr>\n",
       "      <th>T085600</th>\n",
       "      <td></td>\n",
       "      <td></td>\n",
       "      <td></td>\n",
       "      <td></td>\n",
       "      <td></td>\n",
       "      <td></td>\n",
       "      <td></td>\n",
       "      <td></td>\n",
       "      <td></td>\n",
       "      <td></td>\n",
       "      <td>...</td>\n",
       "      <td></td>\n",
       "      <td></td>\n",
       "      <td></td>\n",
       "      <td></td>\n",
       "      <td></td>\n",
       "      <td></td>\n",
       "      <td></td>\n",
       "      <td></td>\n",
       "      <td></td>\n",
       "      <td></td>\n",
       "    </tr>\n",
       "    <tr>\n",
       "      <th>T092400</th>\n",
       "      <td></td>\n",
       "      <td>no</td>\n",
       "      <td></td>\n",
       "      <td></td>\n",
       "      <td></td>\n",
       "      <td></td>\n",
       "      <td></td>\n",
       "      <td></td>\n",
       "      <td></td>\n",
       "      <td></td>\n",
       "      <td>...</td>\n",
       "      <td></td>\n",
       "      <td></td>\n",
       "      <td></td>\n",
       "      <td></td>\n",
       "      <td></td>\n",
       "      <td></td>\n",
       "      <td></td>\n",
       "      <td></td>\n",
       "      <td></td>\n",
       "      <td></td>\n",
       "    </tr>\n",
       "    <tr>\n",
       "      <th>T099200</th>\n",
       "      <td></td>\n",
       "      <td></td>\n",
       "      <td></td>\n",
       "      <td></td>\n",
       "      <td></td>\n",
       "      <td></td>\n",
       "      <td></td>\n",
       "      <td></td>\n",
       "      <td></td>\n",
       "      <td></td>\n",
       "      <td>...</td>\n",
       "      <td></td>\n",
       "      <td></td>\n",
       "      <td></td>\n",
       "      <td></td>\n",
       "      <td></td>\n",
       "      <td></td>\n",
       "      <td></td>\n",
       "      <td></td>\n",
       "      <td></td>\n",
       "      <td></td>\n",
       "    </tr>\n",
       "  </tbody>\n",
       "</table>\n",
       "<p>112 rows × 74 columns</p>\n",
       "</div>"
      ],
      "text/plain": [
       "         PCI3        StartYearEarliest        CostEst         PCI5         \\\n",
       "        after before             after before   after before after before   \n",
       "ComboID                                                                     \n",
       "T042400                                                                     \n",
       "T042600                                                                     \n",
       "T042601                                                                     \n",
       "T042602                                                                     \n",
       "T042800                                                                     \n",
       "...       ...    ...               ...    ...     ...    ...   ...    ...   \n",
       "T083100                                                                     \n",
       "T085500                                                                     \n",
       "T085600                                                                     \n",
       "T092400           no                                                        \n",
       "T099200                                                                     \n",
       "\n",
       "        StartYear1         ...   Latitude            StopYear         \\\n",
       "             after before  ...      after     before    after before   \n",
       "ComboID                    ...                                         \n",
       "T042400                    ...                                         \n",
       "T042600                    ...                                         \n",
       "T042601                    ...                                         \n",
       "T042602                    ...                                         \n",
       "T042800                    ...                                         \n",
       "...            ...    ...  ...        ...        ...      ...    ...   \n",
       "T083100                    ...                                         \n",
       "T085500                    ...  51.264274  51.088313                   \n",
       "T085600                    ...                                         \n",
       "T092400                    ...                                         \n",
       "T099200                    ...                                         \n",
       "\n",
       "        CostEstUnits         PCI4        ConstructionYear         \n",
       "               after before after before            after before  \n",
       "ComboID                                                           \n",
       "T042400                                                           \n",
       "T042600                                              1982         \n",
       "T042601                                                           \n",
       "T042602                                                           \n",
       "T042800                                                           \n",
       "...              ...    ...   ...    ...              ...    ...  \n",
       "T083100                                                           \n",
       "T085500                                                           \n",
       "T085600                                                           \n",
       "T092400                                                           \n",
       "T099200                                                           \n",
       "\n",
       "[112 rows x 74 columns]"
      ]
     },
     "execution_count": 235,
     "metadata": {},
     "output_type": "execute_result"
    }
   ],
   "source": [
    "#index_list = common_df2.compare(common_df1, result_names=('after','before')).index\n",
    "common_df2.compare(common_df1, result_names=('after','before')).replace(numpy.nan,'')"
   ]
  },
  {
   "cell_type": "code",
   "execution_count": 236,
   "id": "a472f7d5-7510-4ad3-a163-9858d68ee57b",
   "metadata": {},
   "outputs": [],
   "source": [
    "diff_df = common_df2.compare(common_df1, result_names=('after','before')).replace(numpy.nan,'')"
   ]
  },
  {
   "cell_type": "code",
   "execution_count": 240,
   "id": "b0b80151-7450-4e51-b482-6f1085e11eb8",
   "metadata": {},
   "outputs": [],
   "source": [
    "diff_df[('Region','')] = terms_df_orig2.loc[diff_df.index,'Region']\n",
    "diff_df[('TerminalName','')] = terms_df_orig2.loc[diff_df.index, 'TerminalName']\n",
    "diff_df[('Wiki','')] = terms_df_orig2.loc[diff_df.index, 'Wiki']"
   ]
  },
  {
   "cell_type": "code",
   "execution_count": 241,
   "id": "1f01835b-4f2f-43c0-903b-4ea82ce9a9c8",
   "metadata": {},
   "outputs": [],
   "source": [
    "diff_df.to_excel('differences_before_after_russian_invasion.xlsx')#, index=False)"
   ]
  },
  {
   "cell_type": "code",
   "execution_count": 242,
   "id": "1ef722aa-74f3-49d4-8a4b-2ad2f39dc3b3",
   "metadata": {},
   "outputs": [],
   "source": [
    "added_df = terms_df_orig2.loc[new_additions]"
   ]
  },
  {
   "cell_type": "code",
   "execution_count": 243,
   "id": "3fac8afb-ec9b-47be-97ff-5d2206484cfc",
   "metadata": {},
   "outputs": [
    {
     "data": {
      "text/plain": [
       "Index(['T094301', 'T101200', 'T106801', 'T100600', 'T107100', 'T109001',\n",
       "       'T107204', 'T108200', 'T060201', 'T022608',\n",
       "       ...\n",
       "       'T100301', 'T080904', 'T032001', 'T022610', 'T029801', 'T022000',\n",
       "       'T060202', 'T080905', 'T108300', 'T108600'],\n",
       "      dtype='object', name='ComboID', length=128)"
      ]
     },
     "execution_count": 243,
     "metadata": {},
     "output_type": "execute_result"
    }
   ],
   "source": [
    "added_df.index"
   ]
  },
  {
   "cell_type": "code",
   "execution_count": 244,
   "id": "3ce568ae-495a-42a2-941c-4a603314570d",
   "metadata": {},
   "outputs": [
    {
     "data": {
      "text/plain": [
       "Index(['TerminalID', 'ProjectID', 'Wiki', 'TerminalName', 'UnitName', 'Status',\n",
       "       'Fuel', 'Import/Export', 'Type', 'Country', 'Researcher', 'LastUpdated',\n",
       "       'OtherEnglishNames', 'Owner', 'Parent', 'ProposalYear',\n",
       "       'ConstructionYear', 'StartYear1', 'StartYear2', 'StartYear3',\n",
       "       'DelayedStartYear', 'Delayed', 'DelayType', 'StartYearEarliest',\n",
       "       'ShelvedYear', 'CancelledYear', 'StopYear',\n",
       "       'ShelvedCancelledStatusType', 'Capacity', 'CapacityUnits',\n",
       "       'CapacityInMtpa', 'CapacityInBcm/y', 'Region', 'Location',\n",
       "       'Prefecture/District', 'State/Province', 'Latitude', 'Longitude',\n",
       "       'Accuracy', 'Source', 'PowerPlantsSupplied', 'CostEst', 'CostEstUnits',\n",
       "       'CostEstYear', 'CostEstUSD', 'FID', 'FIDYear', 'ReExport',\n",
       "       'EuropeTracker', 'PCINumber', 'PCI3', 'PCI4', 'PCI5', 'Offshore',\n",
       "       'Floating', 'FloatingVesselName', 'Opposition', 'ESJNotes', 'Defeated',\n",
       "       'OtherLanguageName', 'OtherLanguageWikiPage', 'H2', 'H2Notes', 'CCS',\n",
       "       'CCSNotes', 'EuroCrisisTracker', 'ResearcherNotes',\n",
       "       'Construction_Sanctioned_July_2022', 'ImpactedByRussiaUkraineInvasion',\n",
       "       'ProposalYearMonth', 'FIDYearMonth', 'ConstructionYearMonth',\n",
       "       'StartYear1YearMonth'],\n",
       "      dtype='object')"
      ]
     },
     "execution_count": 244,
     "metadata": {},
     "output_type": "execute_result"
    }
   ],
   "source": [
    "terms_df_orig2.columns"
   ]
  },
  {
   "cell_type": "code",
   "execution_count": 246,
   "id": "49d1408f-768d-4e13-82c7-d487b118d862",
   "metadata": {},
   "outputs": [
    {
     "data": {
      "text/plain": [
       "ComboID\n",
       "T094301     Phase 2 Expansion\n",
       "T101200                      \n",
       "T106801                      \n",
       "T100600                      \n",
       "T107100                      \n",
       "                  ...        \n",
       "T022000                      \n",
       "T060202    Revived Project T2\n",
       "T080905               Phase 5\n",
       "T108300                      \n",
       "T108600                      \n",
       "Name: UnitName, Length: 128, dtype: object"
      ]
     },
     "execution_count": 246,
     "metadata": {},
     "output_type": "execute_result"
    }
   ],
   "source": [
    "terms_df_orig2.loc[added_df.index,'UnitName']"
   ]
  },
  {
   "cell_type": "code",
   "execution_count": 247,
   "id": "387f94ed-b250-4dee-8a6d-8c5c235e3220",
   "metadata": {},
   "outputs": [],
   "source": [
    "added_df['UnitName'] = terms_df_orig2.loc[added_df.index,'UnitName']"
   ]
  },
  {
   "cell_type": "code",
   "execution_count": 248,
   "id": "ca339d83-cee4-4ff0-aaa3-2beeca041685",
   "metadata": {},
   "outputs": [],
   "source": [
    "removed_df = terms_df_orig1.loc[deleted_since_feb]"
   ]
  },
  {
   "cell_type": "code",
   "execution_count": 249,
   "id": "ef7f873e-c24c-40a2-84d3-b3b8e27e08e9",
   "metadata": {},
   "outputs": [],
   "source": [
    "added_df.to_excel('added_after_russian_invasion.xlsx')\n",
    "removed_df.to_excel('removed_after_russian_invasion.xlsx')"
   ]
  },
  {
   "cell_type": "markdown",
   "id": "f8962fc4-19b0-487f-bcfb-3e0408ccc9bd",
   "metadata": {},
   "source": [
    "## how did change globally, Europe, Germany?    "
   ]
  },
  {
   "cell_type": "markdown",
   "id": "3a4711fa-d097-4cf0-9397-310cfcb14245",
   "metadata": {},
   "source": [
    "### globally"
   ]
  },
  {
   "cell_type": "code",
   "execution_count": 256,
   "id": "f3dea761-2990-409f-be83-87b89692649c",
   "metadata": {},
   "outputs": [
    {
     "name": "stdout",
     "output_type": "stream",
     "text": [
      "128\n",
      "5\n"
     ]
    }
   ],
   "source": [
    "# num of distinct projects\n",
    "new_comboids = list(set(terms_df_orig2.index)-set(terms_df_orig1.index))\n",
    "new_projectids = list(set(terms_df_orig2.ProjectID)-set(terms_df_orig1.ProjectID))\n",
    "\n",
    "print(new_comboids.__len__())\n",
    "print(new_projectids.__len__())"
   ]
  },
  {
   "cell_type": "markdown",
   "id": "8c9c0493-9d9c-4b3f-8090-4e02a3ed0ed9",
   "metadata": {},
   "source": [
    "# orig1"
   ]
  },
  {
   "cell_type": "code",
   "execution_count": 274,
   "id": "b79d20cf-0ed3-421d-bcb5-55967f9e3ba7",
   "metadata": {},
   "outputs": [
    {
     "name": "stdout",
     "output_type": "stream",
     "text": [
      "(1092, 61)\n",
      "696\n",
      "1092\n"
     ]
    }
   ],
   "source": [
    "print(terms_df_orig1.shape)\n",
    "print(terms_df_orig1.TerminalID.unique().size)\n",
    "print(terms_df_orig1.index.unique().size)"
   ]
  },
  {
   "cell_type": "code",
   "execution_count": 278,
   "id": "e8b1a45c-2a94-4ffd-ab22-3e1afc3d7e66",
   "metadata": {},
   "outputs": [
    {
     "name": "stdout",
     "output_type": "stream",
     "text": [
      "(113, 61)\n",
      "90\n",
      "113\n"
     ]
    }
   ],
   "source": [
    "print(terms_df_orig1.loc[terms_df_orig1.Region=='Europe'].shape)\n",
    "print(terms_df_orig1.loc[terms_df_orig1.Region=='Europe'].TerminalID.unique().size)\n",
    "print(terms_df_orig1.loc[terms_df_orig1.Region=='Europe'].index.unique().size)"
   ]
  },
  {
   "cell_type": "code",
   "execution_count": 287,
   "id": "12f711ce-6ade-4423-8c70-48991c5266af",
   "metadata": {},
   "outputs": [
    {
     "name": "stdout",
     "output_type": "stream",
     "text": [
      "(33, 61)\n",
      "28\n",
      "33\n"
     ]
    }
   ],
   "source": [
    "print(terms_df_orig1.loc[(terms_df_orig1.Region=='Europe')&\n",
    "                         (terms_df_orig1.Status.isin(['Construction','Proposed']))].shape)\n",
    "print(terms_df_orig1.loc[(terms_df_orig1.Region=='Europe')&\n",
    "                         (terms_df_orig1.Status.isin(['Construction','Proposed']))].TerminalID.unique().size)\n",
    "print(terms_df_orig1.loc[(terms_df_orig1.Region=='Europe')&\n",
    "                         (terms_df_orig1.Status.isin(['Construction','Proposed']))].index.unique().size)"
   ]
  },
  {
   "cell_type": "code",
   "execution_count": 283,
   "id": "7c4b7030-fc31-438d-839c-bb9cea9d05fd",
   "metadata": {},
   "outputs": [
    {
     "name": "stdout",
     "output_type": "stream",
     "text": [
      "(4, 61)\n",
      "4\n",
      "4\n"
     ]
    }
   ],
   "source": [
    "print(terms_df_orig1.loc[terms_df_orig1.Country=='Germany'].shape)\n",
    "print(terms_df_orig1.loc[terms_df_orig1.Country=='Germany'].TerminalID.unique().size)\n",
    "print(terms_df_orig1.loc[terms_df_orig1.Country=='Germany'].index.unique().size)"
   ]
  },
  {
   "cell_type": "code",
   "execution_count": 288,
   "id": "4271e0ea-9c6f-4dfb-888c-37e681941e5e",
   "metadata": {},
   "outputs": [
    {
     "name": "stdout",
     "output_type": "stream",
     "text": [
      "(2, 61)\n",
      "2\n",
      "2\n"
     ]
    }
   ],
   "source": [
    "print(terms_df_orig1.loc[(terms_df_orig1.Country=='Germany')&\n",
    "                         (terms_df_orig1.Status.isin(['Construction','Proposed']))].shape)\n",
    "print(terms_df_orig1.loc[(terms_df_orig1.Country=='Germany')&\n",
    "                         (terms_df_orig1.Status.isin(['Construction','Proposed']))].TerminalID.unique().size)\n",
    "print(terms_df_orig1.loc[(terms_df_orig1.Country=='Germany')&\n",
    "                         (terms_df_orig1.Status.isin(['Construction','Proposed']))].index.unique().size)"
   ]
  },
  {
   "cell_type": "markdown",
   "id": "b8690394-9b08-472e-a4de-ec95df20c7d6",
   "metadata": {},
   "source": [
    "# orig2"
   ]
  },
  {
   "cell_type": "code",
   "execution_count": 279,
   "id": "d2c7840d-455b-44d1-9ad4-6ca68d7de52a",
   "metadata": {},
   "outputs": [
    {
     "name": "stdout",
     "output_type": "stream",
     "text": [
      "(1182, 73)\n",
      "735\n",
      "1182\n"
     ]
    }
   ],
   "source": [
    "print(terms_df_orig2.shape)\n",
    "print(terms_df_orig2.TerminalID.unique().size)\n",
    "print(terms_df_orig2.index.unique().size)"
   ]
  },
  {
   "cell_type": "code",
   "execution_count": 280,
   "id": "db92d1fe-0e63-4c53-83cc-1ff8da96f05c",
   "metadata": {},
   "outputs": [
    {
     "name": "stdout",
     "output_type": "stream",
     "text": [
      "(131, 73)\n",
      "105\n",
      "131\n"
     ]
    }
   ],
   "source": [
    "print(terms_df_orig2.loc[terms_df_orig2.Region=='Europe'].shape)\n",
    "print(terms_df_orig2.loc[terms_df_orig2.Region=='Europe'].TerminalID.unique().size)\n",
    "print(terms_df_orig2.loc[terms_df_orig2.Region=='Europe'].index.unique().size)"
   ]
  },
  {
   "cell_type": "code",
   "execution_count": 285,
   "id": "ed3f93e8-4577-42fe-be9d-73cfdd46399f",
   "metadata": {},
   "outputs": [
    {
     "name": "stdout",
     "output_type": "stream",
     "text": [
      "(46, 73)\n",
      "41\n",
      "46\n"
     ]
    }
   ],
   "source": [
    "print(terms_df_orig2.loc[(terms_df_orig2.Region=='Europe')&\n",
    "                         (terms_df_orig2.Status.isin(['Construction','Proposed']))].shape)\n",
    "print(terms_df_orig2.loc[(terms_df_orig2.Region=='Europe')&\n",
    "                         (terms_df_orig2.Status.isin(['Construction','Proposed']))].TerminalID.unique().size)\n",
    "print(terms_df_orig2.loc[(terms_df_orig2.Region=='Europe')&\n",
    "                         (terms_df_orig2.Status.isin(['Construction','Proposed']))].index.unique().size)"
   ]
  },
  {
   "cell_type": "code",
   "execution_count": 282,
   "id": "0f00fe70-9864-4956-a73a-6709821a7d79",
   "metadata": {},
   "outputs": [
    {
     "name": "stdout",
     "output_type": "stream",
     "text": [
      "(9, 73)\n",
      "9\n",
      "9\n"
     ]
    }
   ],
   "source": [
    "print(terms_df_orig2.loc[terms_df_orig2.Country=='Germany'].shape)\n",
    "print(terms_df_orig2.loc[terms_df_orig2.Country=='Germany'].TerminalID.unique().size)\n",
    "print(terms_df_orig2.loc[terms_df_orig2.Country=='Germany'].index.unique().size)"
   ]
  },
  {
   "cell_type": "code",
   "execution_count": 286,
   "id": "812569fd-fbd9-4f5b-9424-146769e947e5",
   "metadata": {},
   "outputs": [
    {
     "name": "stdout",
     "output_type": "stream",
     "text": [
      "(8, 73)\n",
      "8\n",
      "8\n"
     ]
    }
   ],
   "source": [
    "print(terms_df_orig2.loc[(terms_df_orig2.Country=='Germany')&\n",
    "                         (terms_df_orig2.Status.isin(['Construction','Proposed']))].shape)\n",
    "print(terms_df_orig2.loc[(terms_df_orig2.Country=='Germany')&\n",
    "                         (terms_df_orig2.Status.isin(['Construction','Proposed']))].TerminalID.unique().size)\n",
    "print(terms_df_orig2.loc[(terms_df_orig2.Country=='Germany')&\n",
    "                         (terms_df_orig2.Status.isin(['Construction','Proposed']))].index.unique().size)"
   ]
  },
  {
   "cell_type": "markdown",
   "id": "477b03c8-d987-448d-96b6-4aba1f116062",
   "metadata": {},
   "source": [
    "# cost differences"
   ]
  },
  {
   "cell_type": "code",
   "execution_count": null,
   "id": "b62f471f-91fb-4ecf-9f22-b4801274a01a",
   "metadata": {},
   "outputs": [],
   "source": []
  }
 ],
 "metadata": {
  "kernelspec": {
   "display_name": "gem",
   "language": "python",
   "name": "gem"
  },
  "language_info": {
   "codemirror_mode": {
    "name": "ipython",
    "version": 3
   },
   "file_extension": ".py",
   "mimetype": "text/x-python",
   "name": "python",
   "nbconvert_exporter": "python",
   "pygments_lexer": "ipython3",
   "version": "3.9.9"
  }
 },
 "nbformat": 4,
 "nbformat_minor": 5
}
