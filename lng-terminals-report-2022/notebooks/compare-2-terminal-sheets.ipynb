{
 "cells": [
  {
   "cell_type": "code",
   "execution_count": 1,
   "id": "c23a9dba-a08e-474b-8152-f5241b5595d8",
   "metadata": {},
   "outputs": [],
   "source": [
    "import pandas\n",
    "import numpy\n",
    "import pygsheets"
   ]
  },
  {
   "cell_type": "code",
   "execution_count": 2,
   "id": "c114f4e6-5d8e-4f4b-bd74-bbdf9ce4c635",
   "metadata": {},
   "outputs": [
    {
     "data": {
      "text/plain": [
       "'1.5.0'"
      ]
     },
     "execution_count": 2,
     "metadata": {},
     "output_type": "execute_result"
    }
   ],
   "source": [
    "pandas.__version__"
   ]
  },
  {
   "cell_type": "markdown",
   "id": "aa9c4411-da75-4889-bfde-2c8cde1f9104",
   "metadata": {},
   "source": [
    "# credentials info"
   ]
  },
  {
   "cell_type": "code",
   "execution_count": 3,
   "id": "06bad55f-cc22-401c-b8f0-5450875aa562",
   "metadata": {},
   "outputs": [],
   "source": [
    "credentials_directory = '/Users/baird/Dropbox/_google-api/'\n",
    "gc = pygsheets.authorize(client_secret=credentials_directory+'client_secret.json')\n",
    "#spreadsheet = gc.open_by_key('1v38EY_kFFsT17cPqz39j21zRYWeQSSxuDmz565MD2GU') # copy for 2022 report"
   ]
  },
  {
   "cell_type": "markdown",
   "id": "34ec36d8-f8b4-485e-9474-7e6290b5d735",
   "metadata": {},
   "source": [
    "# sheet 1 (old)"
   ]
  },
  {
   "cell_type": "code",
   "execution_count": 20,
   "id": "45895e87-778e-4357-9c65-45e6e7c1ff09",
   "metadata": {},
   "outputs": [],
   "source": [
    "#spreadsheet1 = gc.open_by_key('1MrghwBeCz8Tzgua7CWGg_KoXKVZsV7r0kHMYHYqnNTg') # Aug 18 version\n",
    "spreadsheet1 = gc.open_by_key('129b9YeQn7uAIsMgyB5uleT2QZXYxjD_UetnqwVyoRaI') # Aug 19 version, official database\n",
    "\n",
    "#spreadsheet[1] \"Gas Pipelines\" tab is the second index\n",
    "terms_df_orig1 = spreadsheet1.worksheet('title', 'Terminals').get_as_df(start='A2')"
   ]
  },
  {
   "cell_type": "code",
   "execution_count": 21,
   "id": "3e99f051-64c1-4c32-8e6c-5895f1c83bfd",
   "metadata": {},
   "outputs": [],
   "source": [
    "# replace all -- with nans\n",
    "terms_df_orig1.replace('--', numpy.nan, inplace=True)\n",
    "# remove oil export terminals\n",
    "terms_df_orig1 = terms_df_orig1.loc[terms_df_orig1['Fuel']=='LNG']\n",
    "# remove anything without a wiki page\n",
    "terms_df_orig1 = terms_df_orig1.loc[terms_df_orig1['Wiki']!='']\n",
    "# remove N/A statuses\n",
    "terms_df_orig1 = terms_df_orig1.loc[terms_df_orig1['Status']!='']"
   ]
  },
  {
   "cell_type": "markdown",
   "id": "73d16f19-b12e-48ca-a422-170cef934189",
   "metadata": {},
   "source": [
    "# sheet 2 (new)"
   ]
  },
  {
   "cell_type": "code",
   "execution_count": 23,
   "id": "7a4ae149-35d6-4d17-8c42-86254eb4f7a9",
   "metadata": {},
   "outputs": [],
   "source": [
    "spreadsheet2 = gc.open_by_key('1fNf3eK_nqgzXX6ijGlg9A4MPXAF4fh9ZmH3XnsrvS9A') # copy for mid-Sep 2022 terminals briefing\n",
    "terms_df_orig2 = spreadsheet2.worksheet('title', 'Terminals').get_as_df(start='A2')"
   ]
  },
  {
   "cell_type": "code",
   "execution_count": 24,
   "id": "53f46efe-a011-40b3-ad67-7ff19da2d11a",
   "metadata": {},
   "outputs": [],
   "source": [
    "# replace all -- with nans\n",
    "terms_df_orig2.replace('--', numpy.nan, inplace=True)\n",
    "# remove oil export terminals\n",
    "terms_df_orig2 = terms_df_orig2.loc[terms_df_orig2['Fuel']=='LNG']\n",
    "# remove anything without a wiki page\n",
    "terms_df_orig2 = terms_df_orig2.loc[terms_df_orig2['Wiki']!='']\n",
    "# remove N/A statuses\n",
    "terms_df_orig2 = terms_df_orig2.loc[terms_df_orig2['Status']!='']"
   ]
  },
  {
   "cell_type": "markdown",
   "id": "84c42d69-afbf-4694-b982-1e08fc51799a",
   "metadata": {},
   "source": [
    "# compare"
   ]
  },
  {
   "cell_type": "code",
   "execution_count": 25,
   "id": "8d1c288f-2547-4168-b0b2-824b930e44ff",
   "metadata": {},
   "outputs": [
    {
     "data": {
      "text/plain": [
       "array([ True,  True,  True,  True,  True,  True,  True,  True,  True,\n",
       "        True,  True,  True,  True,  True,  True,  True,  True,  True,\n",
       "        True,  True,  True,  True,  True,  True,  True,  True,  True,\n",
       "        True,  True,  True,  True,  True,  True,  True,  True,  True,\n",
       "        True,  True,  True,  True,  True,  True,  True,  True,  True,\n",
       "        True,  True,  True,  True,  True,  True,  True,  True,  True,\n",
       "        True,  True,  True,  True,  True,  True,  True,  True,  True,\n",
       "        True,  True,  True,  True,  True,  True, False,  True,  True,\n",
       "        True,  True,  True,  True])"
      ]
     },
     "execution_count": 25,
     "metadata": {},
     "output_type": "execute_result"
    }
   ],
   "source": [
    "terms_df_orig2.columns==terms_df_orig1.columns"
   ]
  },
  {
   "cell_type": "code",
   "execution_count": 26,
   "id": "3ee20e91-a408-4e08-b106-12580ec4f5b4",
   "metadata": {},
   "outputs": [
    {
     "data": {
      "text/plain": [
       "{'Rob'}"
      ]
     },
     "execution_count": 26,
     "metadata": {},
     "output_type": "execute_result"
    }
   ],
   "source": [
    "set(terms_df_orig1.columns.tolist())-set(terms_df_orig2.columns.tolist())"
   ]
  },
  {
   "cell_type": "markdown",
   "id": "eeac5e66-f1db-4fa3-8c34-5566b41383d4",
   "metadata": {},
   "source": [
    "## get common columns"
   ]
  },
  {
   "cell_type": "code",
   "execution_count": 47,
   "id": "0a90cab4-daff-4093-9acb-98b193b27f66",
   "metadata": {},
   "outputs": [],
   "source": [
    "common_columns = list(set(terms_df_orig1.columns.tolist()).intersection(set(terms_df_orig2.columns.tolist())))"
   ]
  },
  {
   "cell_type": "code",
   "execution_count": 48,
   "id": "3eca911d-9838-4537-b603-879b6641fc20",
   "metadata": {},
   "outputs": [
    {
     "data": {
      "text/plain": [
       "(1173, 76)"
      ]
     },
     "execution_count": 48,
     "metadata": {},
     "output_type": "execute_result"
    }
   ],
   "source": [
    "terms_df_orig1.shape"
   ]
  },
  {
   "cell_type": "code",
   "execution_count": 49,
   "id": "69086c49-6ed2-4b31-a911-e16a75d0e3ee",
   "metadata": {},
   "outputs": [
    {
     "data": {
      "text/plain": [
       "(1175, 76)"
      ]
     },
     "execution_count": 49,
     "metadata": {},
     "output_type": "execute_result"
    }
   ],
   "source": [
    "terms_df_orig2.shape"
   ]
  },
  {
   "cell_type": "markdown",
   "id": "a300e758-f68c-459c-be88-eaee448773ee",
   "metadata": {},
   "source": [
    "## get different ComboIDs"
   ]
  },
  {
   "cell_type": "code",
   "execution_count": 29,
   "id": "bc0b5fa2-6f4b-460c-a617-1ab55e2dad86",
   "metadata": {},
   "outputs": [],
   "source": [
    "diff_comboids = list(set(terms_df_orig2.ComboID)-set(terms_df_orig1.ComboID))"
   ]
  },
  {
   "cell_type": "code",
   "execution_count": 30,
   "id": "baa94c3d-96fc-4867-9f9d-5f34bc4fd1b3",
   "metadata": {},
   "outputs": [
    {
     "data": {
      "text/html": [
       "<div>\n",
       "<style scoped>\n",
       "    .dataframe tbody tr th:only-of-type {\n",
       "        vertical-align: middle;\n",
       "    }\n",
       "\n",
       "    .dataframe tbody tr th {\n",
       "        vertical-align: top;\n",
       "    }\n",
       "\n",
       "    .dataframe thead th {\n",
       "        text-align: right;\n",
       "    }\n",
       "</style>\n",
       "<table border=\"1\" class=\"dataframe\">\n",
       "  <thead>\n",
       "    <tr style=\"text-align: right;\">\n",
       "      <th></th>\n",
       "      <th>TerminalID</th>\n",
       "      <th>ProjectID</th>\n",
       "      <th>ComboID</th>\n",
       "      <th>Wiki</th>\n",
       "      <th>TerminalName</th>\n",
       "      <th>UnitName</th>\n",
       "      <th>Status</th>\n",
       "      <th>Fuel</th>\n",
       "      <th>Import/Export</th>\n",
       "      <th>Country</th>\n",
       "      <th>...</th>\n",
       "      <th>ResearcherNotes3</th>\n",
       "      <th>ExportFigureClarkWilliamsDerry</th>\n",
       "      <th>IGUWorldLNGReportAppendix2</th>\n",
       "      <th>Rob</th>\n",
       "      <th>CostUSDPerBcm/y</th>\n",
       "      <th>CostUSDPerMtpa</th>\n",
       "      <th>ProposalYearMonth</th>\n",
       "      <th>FIDYearMonth</th>\n",
       "      <th>ConstructionYearMonth</th>\n",
       "      <th>StartYear1YearMonth</th>\n",
       "    </tr>\n",
       "  </thead>\n",
       "  <tbody>\n",
       "  </tbody>\n",
       "</table>\n",
       "<p>0 rows × 76 columns</p>\n",
       "</div>"
      ],
      "text/plain": [
       "Empty DataFrame\n",
       "Columns: [TerminalID, ProjectID, ComboID, Wiki, TerminalName, UnitName, Status, Fuel, Import/Export, Country, Researcher, LastUpdated, OtherEnglishNames, Owner, Parent, ProposalYear, ConstructionYear, StartYear1, StartYear2, StartYear3, Delayed, DelayType, StartYearEarliest, ShelvedYear, CancelledYear, StopYear, ShelvedCancelledStatusType, Capacity, CapacityUnits, CapacityInMtpa, CapacityInBcm/y, Region, Location, Prefecture/District, State/Province, Latitude, Longitude, Accuracy, Source, PowerPlantsSupplied, CostEst, CostEstUnits, CostEstYear, CostEstUSD, FID, FIDYear, ReExport, EuropeTracker, PCINumber, PCI3, PCI4, PCI5, Floating, FloatingVesselName, Opposition, ESJNotes, Defeated, OtherLanguageName, OtherLanguageWikiPage, H2, H2Notes, CCS, CCSNotes, EuroCrisisTracker, ResearcherNotes1, ResearcherNotes2, ResearcherNotes3, ExportFigureClarkWilliamsDerry, IGUWorldLNGReportAppendix2, Rob, CostUSDPerBcm/y, CostUSDPerMtpa, ProposalYearMonth, FIDYearMonth, ConstructionYearMonth, StartYear1YearMonth]\n",
       "Index: []\n",
       "\n",
       "[0 rows x 76 columns]"
      ]
     },
     "execution_count": 30,
     "metadata": {},
     "output_type": "execute_result"
    }
   ],
   "source": [
    "terms_df_orig1.loc[terms_df_orig1.ComboID.isin(diff_comboids)]"
   ]
  },
  {
   "cell_type": "code",
   "execution_count": 32,
   "id": "1e703112-50d2-4a19-be26-eab9fa3bee17",
   "metadata": {},
   "outputs": [
    {
     "data": {
      "text/html": [
       "<div>\n",
       "<style scoped>\n",
       "    .dataframe tbody tr th:only-of-type {\n",
       "        vertical-align: middle;\n",
       "    }\n",
       "\n",
       "    .dataframe tbody tr th {\n",
       "        vertical-align: top;\n",
       "    }\n",
       "\n",
       "    .dataframe thead th {\n",
       "        text-align: right;\n",
       "    }\n",
       "</style>\n",
       "<table border=\"1\" class=\"dataframe\">\n",
       "  <thead>\n",
       "    <tr style=\"text-align: right;\">\n",
       "      <th></th>\n",
       "      <th>TerminalID</th>\n",
       "      <th>ProjectID</th>\n",
       "      <th>ComboID</th>\n",
       "      <th>Wiki</th>\n",
       "      <th>TerminalName</th>\n",
       "      <th>UnitName</th>\n",
       "      <th>Status</th>\n",
       "      <th>Fuel</th>\n",
       "      <th>Import/Export</th>\n",
       "      <th>Country</th>\n",
       "      <th>...</th>\n",
       "      <th>ResearcherNotes3</th>\n",
       "      <th>ExportFigureClarkWilliamsDerry</th>\n",
       "      <th>IGUWorldLNGReportAppendix2</th>\n",
       "      <th>Construction_Sanctioned_July_2022</th>\n",
       "      <th>CostUSDPerBcm/y</th>\n",
       "      <th>CostUSDPerMtpa</th>\n",
       "      <th>ProposalYearMonth</th>\n",
       "      <th>FIDYearMonth</th>\n",
       "      <th>ConstructionYearMonth</th>\n",
       "      <th>StartYear1YearMonth</th>\n",
       "    </tr>\n",
       "  </thead>\n",
       "  <tbody>\n",
       "    <tr>\n",
       "      <th>1216</th>\n",
       "      <td>T1088</td>\n",
       "      <td>3</td>\n",
       "      <td>T108803</td>\n",
       "      <td>https://www.gem.wiki/Fos_Cavaou_LNG_Terminal</td>\n",
       "      <td>Fos Cavaou LNG Terminal</td>\n",
       "      <td>2022 Expansion</td>\n",
       "      <td>Proposed</td>\n",
       "      <td>LNG</td>\n",
       "      <td>Import</td>\n",
       "      <td>France</td>\n",
       "      <td>...</td>\n",
       "      <td></td>\n",
       "      <td></td>\n",
       "      <td></td>\n",
       "      <td></td>\n",
       "      <td>NaN</td>\n",
       "      <td>NaN</td>\n",
       "      <td></td>\n",
       "      <td></td>\n",
       "      <td></td>\n",
       "      <td></td>\n",
       "    </tr>\n",
       "    <tr>\n",
       "      <th>1217</th>\n",
       "      <td>T1089</td>\n",
       "      <td>4</td>\n",
       "      <td>T108904</td>\n",
       "      <td>https://www.gem.wiki/Fos_Cavaou_LNG_Terminal</td>\n",
       "      <td>Fos Cavaou LNG Terminal</td>\n",
       "      <td>2023 Expansion</td>\n",
       "      <td>Proposed</td>\n",
       "      <td>LNG</td>\n",
       "      <td>Import</td>\n",
       "      <td>France</td>\n",
       "      <td>...</td>\n",
       "      <td></td>\n",
       "      <td></td>\n",
       "      <td></td>\n",
       "      <td></td>\n",
       "      <td>NaN</td>\n",
       "      <td>NaN</td>\n",
       "      <td></td>\n",
       "      <td></td>\n",
       "      <td></td>\n",
       "      <td></td>\n",
       "    </tr>\n",
       "  </tbody>\n",
       "</table>\n",
       "<p>2 rows × 76 columns</p>\n",
       "</div>"
      ],
      "text/plain": [
       "     TerminalID ProjectID  ComboID  \\\n",
       "1216      T1088         3  T108803   \n",
       "1217      T1089         4  T108904   \n",
       "\n",
       "                                              Wiki             TerminalName  \\\n",
       "1216  https://www.gem.wiki/Fos_Cavaou_LNG_Terminal  Fos Cavaou LNG Terminal   \n",
       "1217  https://www.gem.wiki/Fos_Cavaou_LNG_Terminal  Fos Cavaou LNG Terminal   \n",
       "\n",
       "            UnitName    Status Fuel Import/Export Country  ...  \\\n",
       "1216  2022 Expansion  Proposed  LNG        Import  France  ...   \n",
       "1217  2023 Expansion  Proposed  LNG        Import  France  ...   \n",
       "\n",
       "     ResearcherNotes3 ExportFigureClarkWilliamsDerry  \\\n",
       "1216                                                   \n",
       "1217                                                   \n",
       "\n",
       "     IGUWorldLNGReportAppendix2 Construction_Sanctioned_July_2022  \\\n",
       "1216                                                                \n",
       "1217                                                                \n",
       "\n",
       "     CostUSDPerBcm/y CostUSDPerMtpa ProposalYearMonth FIDYearMonth  \\\n",
       "1216             NaN            NaN                                  \n",
       "1217             NaN            NaN                                  \n",
       "\n",
       "     ConstructionYearMonth StartYear1YearMonth  \n",
       "1216                                            \n",
       "1217                                            \n",
       "\n",
       "[2 rows x 76 columns]"
      ]
     },
     "execution_count": 32,
     "metadata": {},
     "output_type": "execute_result"
    }
   ],
   "source": [
    "terms_df_orig2.loc[terms_df_orig2.ComboID.isin(diff_comboids)]"
   ]
  },
  {
   "cell_type": "markdown",
   "id": "424ffe1d-7338-423a-9e3a-33c26df90911",
   "metadata": {},
   "source": [
    "## if there are diff ComboIDs, pull out only the common ones, THEN compare rest"
   ]
  },
  {
   "cell_type": "code",
   "execution_count": 38,
   "id": "82056ce3-fb07-4f16-91c1-148b1dcdff4c",
   "metadata": {},
   "outputs": [],
   "source": [
    "common_comboids = list(set(terms_df_orig2.ComboID).intersection(set(terms_df_orig1.ComboID)))"
   ]
  },
  {
   "cell_type": "code",
   "execution_count": 50,
   "id": "02b2e78d-4694-47f7-9045-70bb19b3d2a4",
   "metadata": {},
   "outputs": [],
   "source": [
    "common_df1 = terms_df_orig1.loc[terms_df_orig1.ComboID.isin(common_comboids),common_columns]\n",
    "common_df2 = terms_df_orig2.loc[terms_df_orig2.ComboID.isin(common_comboids),common_columns]"
   ]
  },
  {
   "cell_type": "code",
   "execution_count": 57,
   "id": "b2c81996-8794-44e4-801e-152f756266ed",
   "metadata": {},
   "outputs": [
    {
     "data": {
      "text/html": [
       "<div>\n",
       "<style scoped>\n",
       "    .dataframe tbody tr th:only-of-type {\n",
       "        vertical-align: middle;\n",
       "    }\n",
       "\n",
       "    .dataframe tbody tr th {\n",
       "        vertical-align: top;\n",
       "    }\n",
       "\n",
       "    .dataframe thead tr th {\n",
       "        text-align: left;\n",
       "    }\n",
       "</style>\n",
       "<table border=\"1\" class=\"dataframe\">\n",
       "  <thead>\n",
       "    <tr>\n",
       "      <th></th>\n",
       "      <th colspan=\"2\" halign=\"left\">Capacity</th>\n",
       "      <th colspan=\"2\" halign=\"left\">LastUpdated</th>\n",
       "      <th colspan=\"2\" halign=\"left\">StartYearEarliest</th>\n",
       "      <th colspan=\"2\" halign=\"left\">FID</th>\n",
       "      <th colspan=\"2\" halign=\"left\">CapacityInMtpa</th>\n",
       "      <th>...</th>\n",
       "      <th colspan=\"2\" halign=\"left\">FIDYear</th>\n",
       "      <th colspan=\"2\" halign=\"left\">CapacityInBcm/y</th>\n",
       "      <th colspan=\"2\" halign=\"left\">StartYear1</th>\n",
       "      <th colspan=\"2\" halign=\"left\">CostUSDPerBcm/y</th>\n",
       "      <th colspan=\"2\" halign=\"left\">StartYear2</th>\n",
       "    </tr>\n",
       "    <tr>\n",
       "      <th></th>\n",
       "      <th>2</th>\n",
       "      <th>1</th>\n",
       "      <th>2</th>\n",
       "      <th>1</th>\n",
       "      <th>2</th>\n",
       "      <th>1</th>\n",
       "      <th>2</th>\n",
       "      <th>1</th>\n",
       "      <th>2</th>\n",
       "      <th>1</th>\n",
       "      <th>...</th>\n",
       "      <th>2</th>\n",
       "      <th>1</th>\n",
       "      <th>2</th>\n",
       "      <th>1</th>\n",
       "      <th>2</th>\n",
       "      <th>1</th>\n",
       "      <th>2</th>\n",
       "      <th>1</th>\n",
       "      <th>2</th>\n",
       "      <th>1</th>\n",
       "    </tr>\n",
       "  </thead>\n",
       "  <tbody>\n",
       "    <tr>\n",
       "      <th>152</th>\n",
       "      <td>13.33</td>\n",
       "      <td>10.0</td>\n",
       "      <td>NaN</td>\n",
       "      <td>NaN</td>\n",
       "      <td>NaN</td>\n",
       "      <td>NaN</td>\n",
       "      <td>NaN</td>\n",
       "      <td>NaN</td>\n",
       "      <td>13.33</td>\n",
       "      <td>10.0</td>\n",
       "      <td>...</td>\n",
       "      <td>NaN</td>\n",
       "      <td>NaN</td>\n",
       "      <td>18.13</td>\n",
       "      <td>13.6</td>\n",
       "      <td>NaN</td>\n",
       "      <td>NaN</td>\n",
       "      <td>728123275.3</td>\n",
       "      <td>970588325.9</td>\n",
       "      <td>NaN</td>\n",
       "      <td>NaN</td>\n",
       "    </tr>\n",
       "    <tr>\n",
       "      <th>216</th>\n",
       "      <td>NaN</td>\n",
       "      <td>NaN</td>\n",
       "      <td>NaN</td>\n",
       "      <td>NaN</td>\n",
       "      <td>NaN</td>\n",
       "      <td>NaN</td>\n",
       "      <td>FID</td>\n",
       "      <td></td>\n",
       "      <td>NaN</td>\n",
       "      <td>NaN</td>\n",
       "      <td>...</td>\n",
       "      <td>2020</td>\n",
       "      <td></td>\n",
       "      <td>NaN</td>\n",
       "      <td>NaN</td>\n",
       "      <td>NaN</td>\n",
       "      <td>NaN</td>\n",
       "      <td>NaN</td>\n",
       "      <td>NaN</td>\n",
       "      <td>NaN</td>\n",
       "      <td>NaN</td>\n",
       "    </tr>\n",
       "    <tr>\n",
       "      <th>225</th>\n",
       "      <td>NaN</td>\n",
       "      <td>NaN</td>\n",
       "      <td>2022/08/23</td>\n",
       "      <td>2022/06/06</td>\n",
       "      <td>2029</td>\n",
       "      <td>2027</td>\n",
       "      <td>NaN</td>\n",
       "      <td>NaN</td>\n",
       "      <td>NaN</td>\n",
       "      <td>NaN</td>\n",
       "      <td>...</td>\n",
       "      <td>2025</td>\n",
       "      <td>2021/2022</td>\n",
       "      <td>NaN</td>\n",
       "      <td>NaN</td>\n",
       "      <td>2029</td>\n",
       "      <td>2027</td>\n",
       "      <td>NaN</td>\n",
       "      <td>NaN</td>\n",
       "      <td>2030</td>\n",
       "      <td></td>\n",
       "    </tr>\n",
       "    <tr>\n",
       "      <th>226</th>\n",
       "      <td>NaN</td>\n",
       "      <td>NaN</td>\n",
       "      <td>2022/08/23</td>\n",
       "      <td>2022/06/06</td>\n",
       "      <td>NaN</td>\n",
       "      <td>NaN</td>\n",
       "      <td>NaN</td>\n",
       "      <td>NaN</td>\n",
       "      <td>NaN</td>\n",
       "      <td>NaN</td>\n",
       "      <td>...</td>\n",
       "      <td>2025</td>\n",
       "      <td>2021/2022</td>\n",
       "      <td>NaN</td>\n",
       "      <td>NaN</td>\n",
       "      <td>NaN</td>\n",
       "      <td>NaN</td>\n",
       "      <td>NaN</td>\n",
       "      <td>NaN</td>\n",
       "      <td>NaN</td>\n",
       "      <td>NaN</td>\n",
       "    </tr>\n",
       "    <tr>\n",
       "      <th>372</th>\n",
       "      <td>NaN</td>\n",
       "      <td>NaN</td>\n",
       "      <td>2022/09/05</td>\n",
       "      <td>2022/05/20</td>\n",
       "      <td>2029</td>\n",
       "      <td>2027</td>\n",
       "      <td>NaN</td>\n",
       "      <td>NaN</td>\n",
       "      <td>NaN</td>\n",
       "      <td>NaN</td>\n",
       "      <td>...</td>\n",
       "      <td>NaN</td>\n",
       "      <td>NaN</td>\n",
       "      <td>NaN</td>\n",
       "      <td>NaN</td>\n",
       "      <td>2029</td>\n",
       "      <td>2027</td>\n",
       "      <td>NaN</td>\n",
       "      <td>NaN</td>\n",
       "      <td>NaN</td>\n",
       "      <td>NaN</td>\n",
       "    </tr>\n",
       "    <tr>\n",
       "      <th>514</th>\n",
       "      <td>NaN</td>\n",
       "      <td>NaN</td>\n",
       "      <td>2022/09/06</td>\n",
       "      <td>2022/06/23</td>\n",
       "      <td>2024</td>\n",
       "      <td>2029</td>\n",
       "      <td>NaN</td>\n",
       "      <td>NaN</td>\n",
       "      <td>NaN</td>\n",
       "      <td>NaN</td>\n",
       "      <td>...</td>\n",
       "      <td>NaN</td>\n",
       "      <td>NaN</td>\n",
       "      <td>NaN</td>\n",
       "      <td>NaN</td>\n",
       "      <td>2024</td>\n",
       "      <td>2029</td>\n",
       "      <td>NaN</td>\n",
       "      <td>NaN</td>\n",
       "      <td>2025</td>\n",
       "      <td></td>\n",
       "    </tr>\n",
       "    <tr>\n",
       "      <th>873</th>\n",
       "      <td>NaN</td>\n",
       "      <td>NaN</td>\n",
       "      <td>2022/09/06</td>\n",
       "      <td>2022/06/24</td>\n",
       "      <td>NaN</td>\n",
       "      <td>NaN</td>\n",
       "      <td>NaN</td>\n",
       "      <td>NaN</td>\n",
       "      <td>NaN</td>\n",
       "      <td>NaN</td>\n",
       "      <td>...</td>\n",
       "      <td>NaN</td>\n",
       "      <td>NaN</td>\n",
       "      <td>NaN</td>\n",
       "      <td>NaN</td>\n",
       "      <td>NaN</td>\n",
       "      <td>NaN</td>\n",
       "      <td>NaN</td>\n",
       "      <td>NaN</td>\n",
       "      <td>NaN</td>\n",
       "      <td>NaN</td>\n",
       "    </tr>\n",
       "    <tr>\n",
       "      <th>1116</th>\n",
       "      <td>NaN</td>\n",
       "      <td>NaN</td>\n",
       "      <td>2022/09/13</td>\n",
       "      <td>2022/07/21</td>\n",
       "      <td>NaN</td>\n",
       "      <td>NaN</td>\n",
       "      <td>NaN</td>\n",
       "      <td>NaN</td>\n",
       "      <td>NaN</td>\n",
       "      <td>NaN</td>\n",
       "      <td>...</td>\n",
       "      <td>NaN</td>\n",
       "      <td>NaN</td>\n",
       "      <td>NaN</td>\n",
       "      <td>NaN</td>\n",
       "      <td>NaN</td>\n",
       "      <td>NaN</td>\n",
       "      <td>NaN</td>\n",
       "      <td>NaN</td>\n",
       "      <td>NaN</td>\n",
       "      <td>NaN</td>\n",
       "    </tr>\n",
       "  </tbody>\n",
       "</table>\n",
       "<p>8 rows × 26 columns</p>\n",
       "</div>"
      ],
      "text/plain": [
       "     Capacity       LastUpdated             StartYearEarliest        FID       \\\n",
       "            2     1           2           1                 2     1    2    1   \n",
       "152     13.33  10.0         NaN         NaN               NaN   NaN  NaN  NaN   \n",
       "216       NaN   NaN         NaN         NaN               NaN   NaN  FID        \n",
       "225       NaN   NaN  2022/08/23  2022/06/06              2029  2027  NaN  NaN   \n",
       "226       NaN   NaN  2022/08/23  2022/06/06               NaN   NaN  NaN  NaN   \n",
       "372       NaN   NaN  2022/09/05  2022/05/20              2029  2027  NaN  NaN   \n",
       "514       NaN   NaN  2022/09/06  2022/06/23              2024  2029  NaN  NaN   \n",
       "873       NaN   NaN  2022/09/06  2022/06/24               NaN   NaN  NaN  NaN   \n",
       "1116      NaN   NaN  2022/09/13  2022/07/21               NaN   NaN  NaN  NaN   \n",
       "\n",
       "     CapacityInMtpa        ... FIDYear            CapacityInBcm/y        \\\n",
       "                  2     1  ...       2          1               2     1   \n",
       "152           13.33  10.0  ...     NaN        NaN           18.13  13.6   \n",
       "216             NaN   NaN  ...    2020                        NaN   NaN   \n",
       "225             NaN   NaN  ...    2025  2021/2022             NaN   NaN   \n",
       "226             NaN   NaN  ...    2025  2021/2022             NaN   NaN   \n",
       "372             NaN   NaN  ...     NaN        NaN             NaN   NaN   \n",
       "514             NaN   NaN  ...     NaN        NaN             NaN   NaN   \n",
       "873             NaN   NaN  ...     NaN        NaN             NaN   NaN   \n",
       "1116            NaN   NaN  ...     NaN        NaN             NaN   NaN   \n",
       "\n",
       "     StartYear1       CostUSDPerBcm/y              StartYear2       \n",
       "              2     1               2            1          2    1  \n",
       "152         NaN   NaN     728123275.3  970588325.9        NaN  NaN  \n",
       "216         NaN   NaN             NaN          NaN        NaN  NaN  \n",
       "225        2029  2027             NaN          NaN       2030       \n",
       "226         NaN   NaN             NaN          NaN        NaN  NaN  \n",
       "372        2029  2027             NaN          NaN        NaN  NaN  \n",
       "514        2024  2029             NaN          NaN       2025       \n",
       "873         NaN   NaN             NaN          NaN        NaN  NaN  \n",
       "1116        NaN   NaN             NaN          NaN        NaN  NaN  \n",
       "\n",
       "[8 rows x 26 columns]"
      ]
     },
     "execution_count": 57,
     "metadata": {},
     "output_type": "execute_result"
    }
   ],
   "source": [
    "index_list = common_df2.compare(common_df1, result_names=('2','1')).index\n",
    "common_df2.compare(common_df1, result_names=('2','1'))"
   ]
  },
  {
   "cell_type": "code",
   "execution_count": 75,
   "id": "a472f7d5-7510-4ad3-a163-9858d68ee57b",
   "metadata": {},
   "outputs": [],
   "source": [
    "diff_df = common_df2.compare(common_df1, result_names=('new','old'))"
   ]
  },
  {
   "cell_type": "code",
   "execution_count": 76,
   "id": "2be7f3e5-abf3-4dc9-85a6-0c62caa5f555",
   "metadata": {},
   "outputs": [],
   "source": [
    "diff_df['ComboID'] = numpy.nan"
   ]
  },
  {
   "cell_type": "code",
   "execution_count": 77,
   "id": "d52b8320-5a95-45af-a927-adb968d2b542",
   "metadata": {},
   "outputs": [],
   "source": [
    "diff_df.loc[:,'ComboID'] = common_df1.loc[diff_df.index,'ComboID']\n",
    "diff_df.loc[:,'TerminalName'] = common_df1.loc[diff_df.index,'TerminalName']"
   ]
  },
  {
   "cell_type": "code",
   "execution_count": 78,
   "id": "1f01835b-4f2f-43c0-903b-4ea82ce9a9c8",
   "metadata": {},
   "outputs": [],
   "source": [
    "diff_df.to_excel('differences.xlsx')#, index=False)"
   ]
  },
  {
   "cell_type": "code",
   "execution_count": 79,
   "id": "2bdbc135-1812-4622-a4e9-a5cea4d569b4",
   "metadata": {},
   "outputs": [
    {
     "data": {
      "text/html": [
       "<div>\n",
       "<style scoped>\n",
       "    .dataframe tbody tr th:only-of-type {\n",
       "        vertical-align: middle;\n",
       "    }\n",
       "\n",
       "    .dataframe tbody tr th {\n",
       "        vertical-align: top;\n",
       "    }\n",
       "\n",
       "    .dataframe thead th {\n",
       "        text-align: right;\n",
       "    }\n",
       "</style>\n",
       "<table border=\"1\" class=\"dataframe\">\n",
       "  <thead>\n",
       "    <tr style=\"text-align: right;\">\n",
       "      <th></th>\n",
       "      <th>ComboID</th>\n",
       "      <th>TerminalName</th>\n",
       "    </tr>\n",
       "  </thead>\n",
       "  <tbody>\n",
       "    <tr>\n",
       "      <th>152</th>\n",
       "      <td>T024201</td>\n",
       "      <td>Plaquemines LNG Terminal</td>\n",
       "    </tr>\n",
       "    <tr>\n",
       "      <th>216</th>\n",
       "      <td>T025913</td>\n",
       "      <td>Nigeria LNG Terminal</td>\n",
       "    </tr>\n",
       "    <tr>\n",
       "      <th>225</th>\n",
       "      <td>T026301</td>\n",
       "      <td>Tanzania LNG Terminal</td>\n",
       "    </tr>\n",
       "    <tr>\n",
       "      <th>226</th>\n",
       "      <td>T026302</td>\n",
       "      <td>Tanzania LNG Terminal</td>\n",
       "    </tr>\n",
       "    <tr>\n",
       "      <th>372</th>\n",
       "      <td>T035001</td>\n",
       "      <td>Cedar FLNG Terminal</td>\n",
       "    </tr>\n",
       "    <tr>\n",
       "      <th>514</th>\n",
       "      <td>T043001</td>\n",
       "      <td>Krk FSRU</td>\n",
       "    </tr>\n",
       "    <tr>\n",
       "      <th>873</th>\n",
       "      <td>T070701</td>\n",
       "      <td>Portovaya LNG Terminal</td>\n",
       "    </tr>\n",
       "    <tr>\n",
       "      <th>1116</th>\n",
       "      <td>T099700</td>\n",
       "      <td>Eemshaven FSRU</td>\n",
       "    </tr>\n",
       "  </tbody>\n",
       "</table>\n",
       "</div>"
      ],
      "text/plain": [
       "      ComboID              TerminalName\n",
       "152   T024201  Plaquemines LNG Terminal\n",
       "216   T025913      Nigeria LNG Terminal\n",
       "225   T026301     Tanzania LNG Terminal\n",
       "226   T026302     Tanzania LNG Terminal\n",
       "372   T035001       Cedar FLNG Terminal\n",
       "514   T043001                  Krk FSRU\n",
       "873   T070701    Portovaya LNG Terminal\n",
       "1116  T099700            Eemshaven FSRU"
      ]
     },
     "execution_count": 79,
     "metadata": {},
     "output_type": "execute_result"
    }
   ],
   "source": [
    "common_df1.loc[diff_df.index,['ComboID','TerminalName']]"
   ]
  }
 ],
 "metadata": {
  "kernelspec": {
   "display_name": "gem",
   "language": "python",
   "name": "gem"
  },
  "language_info": {
   "codemirror_mode": {
    "name": "ipython",
    "version": 3
   },
   "file_extension": ".py",
   "mimetype": "text/x-python",
   "name": "python",
   "nbconvert_exporter": "python",
   "pygments_lexer": "ipython3",
   "version": "3.9.9"
  }
 },
 "nbformat": 4,
 "nbformat_minor": 5
}
