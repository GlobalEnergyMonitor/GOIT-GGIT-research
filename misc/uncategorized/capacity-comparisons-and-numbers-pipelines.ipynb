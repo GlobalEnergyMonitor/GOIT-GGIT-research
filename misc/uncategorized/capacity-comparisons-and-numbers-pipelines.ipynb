{
 "cells": [
  {
   "cell_type": "code",
   "execution_count": 50,
   "id": "3b38c4c2",
   "metadata": {
    "tags": []
   },
   "outputs": [],
   "source": [
    "import pandas\n",
    "\n",
    "import pygsheets\n",
    "import numpy\n",
    "import scipy"
   ]
  },
  {
   "cell_type": "markdown",
   "id": "c5e51996-e86d-4e84-81b9-adfed4434b8b",
   "metadata": {},
   "source": [
    "# import data directly from google sheets"
   ]
  },
  {
   "cell_type": "code",
   "execution_count": 156,
   "id": "029bc7eb-d141-4e01-a747-e0b5b03f1f53",
   "metadata": {
    "tags": []
   },
   "outputs": [],
   "source": [
    "gc = pygsheets.authorize(service_account_env_var='GDRIVE_API_CREDENTIALS')\n",
    "spreadsheet = gc.open_by_key('1foPLE6K-uqFlaYgLPAUxzeXfDO5wOOqE7tibNHeqTek') # present-day version\n",
    "\n",
    "#spreadsheet[1] \"Gas Pipelines\" tab is the second index\n",
    "gas_pipes = spreadsheet.worksheet('title','Gas pipelines').get_as_df(start='A2')\n",
    "oil_pipes = spreadsheet.worksheet('title', 'Oil/NGL pipelines').get_as_df(start='A2')\n",
    "\n",
    "gas_pipes.replace('--',numpy.nan,inplace=True)\n",
    "oil_pipes.replace('--',numpy.nan,inplace=True)\n",
    "\n",
    "#get country ratios sheet\n",
    "country_ratios_df = spreadsheet.worksheet('title', 'Country ratios by pipeline').get_as_df()"
   ]
  },
  {
   "cell_type": "code",
   "execution_count": 157,
   "id": "75892202-3590-4e48-ba5e-72cd79100070",
   "metadata": {
    "tags": []
   },
   "outputs": [
    {
     "data": {
      "text/plain": [
       "1311044.2"
      ]
     },
     "execution_count": 157,
     "metadata": {},
     "output_type": "execute_result"
    }
   ],
   "source": [
    "gas_pipes.replace('--',numpy.nan)['LengthMergedKm'].sum()"
   ]
  },
  {
   "cell_type": "code",
   "execution_count": 158,
   "id": "5906e456-0614-410f-b8ea-b0547e1ce803",
   "metadata": {
    "tags": []
   },
   "outputs": [],
   "source": [
    "region_dict_df = spreadsheet.worksheet('title', 'Country dictionary').get_as_df(start='A2')"
   ]
  },
  {
   "cell_type": "markdown",
   "id": "d9b15fbb-6d8c-4add-8410-abd2576a0b14",
   "metadata": {},
   "source": [
    "## import terminals"
   ]
  },
  {
   "cell_type": "code",
   "execution_count": 159,
   "id": "6d69cb22-9696-4ffd-a781-1011a92e39bb",
   "metadata": {
    "tags": []
   },
   "outputs": [],
   "source": [
    "#spreadsheet[1] \"Gas Pipelines\" tab is thesecond index\n",
    "spreadsheet = gc.open_by_key('1tcS6Wd-Wp-LTDpLzFgJY_RSNDnbyubW3J_9HKIAys4A')\n",
    "terms_df = spreadsheet.worksheet('title','Terminals').get_as_df(start='A3')\n",
    "terms_df.replace('--',numpy.nan,inplace=True)"
   ]
  },
  {
   "cell_type": "markdown",
   "id": "66fa8a0e-3bc5-46f8-bb5b-d02a880467cd",
   "metadata": {},
   "source": [
    "## calculate capacity of pipelines?"
   ]
  },
  {
   "cell_type": "code",
   "execution_count": 160,
   "id": "50b7d79d-e717-44ee-88bd-0395ba350d92",
   "metadata": {
    "tags": []
   },
   "outputs": [],
   "source": [
    "gas_pipes_df = gas_pipes.loc[gas_pipes.Fuel=='Gas']\n",
    "oil_pipes_df = oil_pipes.loc[oil_pipes.Fuel=='Oil']\n",
    "ngl_pipes_df = oil_pipes.loc[oil_pipes.Fuel=='NGL']"
   ]
  },
  {
   "cell_type": "code",
   "execution_count": 161,
   "id": "11ab79eb-622e-483a-893e-e18292c9047a",
   "metadata": {
    "tags": []
   },
   "outputs": [
    {
     "data": {
      "text/plain": [
       "24185.969999999998"
      ]
     },
     "execution_count": 161,
     "metadata": {},
     "output_type": "execute_result"
    }
   ],
   "source": [
    "gas_pipes_df['CapacityBcm/y'].sum()"
   ]
  },
  {
   "cell_type": "code",
   "execution_count": 162,
   "id": "59f10533-79c4-42b5-a6f9-bc181641a8e0",
   "metadata": {
    "tags": []
   },
   "outputs": [
    {
     "data": {
      "text/plain": [
       "8919840.16"
      ]
     },
     "execution_count": 162,
     "metadata": {},
     "output_type": "execute_result"
    }
   ],
   "source": [
    "gas_pipes_df.loc[gas_pipes_df.Status=='Operating']['CapacityBOEd'].sum()"
   ]
  },
  {
   "cell_type": "markdown",
   "id": "af804554-291c-4858-bfe0-f65c6535df07",
   "metadata": {},
   "source": [
    "## calculate length of operating"
   ]
  },
  {
   "cell_type": "code",
   "execution_count": 163,
   "id": "61451d5b-06aa-4478-a7f0-fa11bd59fb95",
   "metadata": {
    "tags": []
   },
   "outputs": [
    {
     "data": {
      "text/plain": [
       "981161.96"
      ]
     },
     "execution_count": 163,
     "metadata": {},
     "output_type": "execute_result"
    }
   ],
   "source": [
    "gas_pipes_df.loc[gas_pipes_df.Status=='Operating']['LengthMergedKm'].sum()"
   ]
  },
  {
   "cell_type": "code",
   "execution_count": 164,
   "id": "f5e4ee19-8259-4700-b203-245106791235",
   "metadata": {
    "tags": []
   },
   "outputs": [
    {
     "data": {
      "text/plain": [
       "981161.96"
      ]
     },
     "execution_count": 164,
     "metadata": {},
     "output_type": "execute_result"
    }
   ],
   "source": [
    "gas_pipes_df.loc[(gas_pipes_df.Status=='Operating')]['LengthMergedKm'].sum()"
   ]
  },
  {
   "cell_type": "code",
   "execution_count": 165,
   "id": "322d06d6-f50c-425a-918a-bdef0c7e196d",
   "metadata": {
    "tags": []
   },
   "outputs": [
    {
     "data": {
      "text/plain": [
       "312862.82"
      ]
     },
     "execution_count": 165,
     "metadata": {},
     "output_type": "execute_result"
    }
   ],
   "source": [
    "oil_pipes_df.loc[(oil_pipes_df.Status=='Operating')]['LengthMergedKm'].sum()"
   ]
  },
  {
   "cell_type": "markdown",
   "id": "c09eab7b-3ff7-4c84-ab34-03263b586cb4",
   "metadata": {},
   "source": [
    "## calculate length of operating or starting within year 2023"
   ]
  },
  {
   "cell_type": "code",
   "execution_count": 166,
   "id": "ba8a83bb-16d9-4cf1-8d7f-89d7398f9312",
   "metadata": {
    "tags": []
   },
   "outputs": [
    {
     "data": {
      "text/plain": [
       "1007515.52"
      ]
     },
     "execution_count": 166,
     "metadata": {},
     "output_type": "execute_result"
    }
   ],
   "source": [
    "gas_pipes_df.loc[(gas_pipes_df.Status=='Operating')|\n",
    "                 (gas_pipes_df.Status.isin(['Proposed','Construction'])&(gas_pipes_df.StartYearEarliest==2023))\n",
    "                ]['LengthMergedKm'].sum()"
   ]
  },
  {
   "cell_type": "code",
   "execution_count": 167,
   "id": "26c07538-d997-485c-9c6d-61a1b9eaa0dc",
   "metadata": {
    "tags": []
   },
   "outputs": [
    {
     "data": {
      "text/plain": [
       "316699.48"
      ]
     },
     "execution_count": 167,
     "metadata": {},
     "output_type": "execute_result"
    }
   ],
   "source": [
    "oil_pipes_df.loc[(oil_pipes_df.Status=='Operating')|\n",
    "                 (oil_pipes_df.Status.isin(['Proposed','Construction'])&(oil_pipes_df.StartYearEarliest==2023))\n",
    "                ]['LengthMergedKm'].sum()"
   ]
  },
  {
   "cell_type": "code",
   "execution_count": 168,
   "id": "f421d16a-3eb9-4761-96ad-2f75172afeae",
   "metadata": {
    "tags": []
   },
   "outputs": [
    {
     "data": {
      "text/plain": [
       "27612.829999999998"
      ]
     },
     "execution_count": 168,
     "metadata": {},
     "output_type": "execute_result"
    }
   ],
   "source": [
    "ngl_pipes_df.loc[(ngl_pipes_df.Status=='Operating')|\n",
    "                 (ngl_pipes_df.Status.isin(['Proposed','Construction'])&(ngl_pipes_df.StartYearEarliest==2023))\n",
    "                ]['LengthMergedKm'].sum()"
   ]
  },
  {
   "cell_type": "markdown",
   "id": "c06a488b-8a0f-4eb1-898c-115aed9b7914",
   "metadata": {},
   "source": [
    "## calculate length of in-dev"
   ]
  },
  {
   "cell_type": "code",
   "execution_count": 186,
   "id": "bcc91470-2ec8-45b1-bf7d-c3daae2de755",
   "metadata": {
    "tags": []
   },
   "outputs": [
    {
     "data": {
      "text/plain": [
       "248059.51"
      ]
     },
     "execution_count": 186,
     "metadata": {},
     "output_type": "execute_result"
    }
   ],
   "source": [
    "gas_pipes_df.loc[gas_pipes_df.Status.isin(['Proposed','Construction','Shelved'])]['LengthMergedKm'].sum()"
   ]
  },
  {
   "cell_type": "code",
   "execution_count": 187,
   "id": "88606a46-9907-4b1f-be02-3f30ccc64231",
   "metadata": {
    "tags": []
   },
   "outputs": [
    {
     "data": {
      "text/plain": [
       "42350.759999999995"
      ]
     },
     "execution_count": 187,
     "metadata": {},
     "output_type": "execute_result"
    }
   ],
   "source": [
    "oil_pipes_df.loc[oil_pipes_df.Status.isin(['Proposed','Construction','Shelved'])]['LengthMergedKm'].sum()"
   ]
  },
  {
   "cell_type": "code",
   "execution_count": 188,
   "id": "14fa9472-30c5-40bd-be45-669366639907",
   "metadata": {
    "tags": []
   },
   "outputs": [
    {
     "data": {
      "text/plain": [
       "920.02"
      ]
     },
     "execution_count": 188,
     "metadata": {},
     "output_type": "execute_result"
    }
   ],
   "source": [
    "ngl_pipes_df.loc[ngl_pipes_df.Status.isin(['Proposed','Construction','Shelved'])]['LengthMergedKm'].sum()"
   ]
  },
  {
   "cell_type": "markdown",
   "id": "40b47638-8298-4ccf-abd6-d8d085549aca",
   "metadata": {},
   "source": [
    "## calculate number of projects operating or operating by 2023"
   ]
  },
  {
   "cell_type": "code",
   "execution_count": 172,
   "id": "daa239e3-4a34-4f30-87b0-12e114296ed0",
   "metadata": {
    "tags": []
   },
   "outputs": [
    {
     "data": {
      "text/plain": [
       "2196"
      ]
     },
     "execution_count": 172,
     "metadata": {},
     "output_type": "execute_result"
    }
   ],
   "source": [
    "gas_pipes_df.loc[(gas_pipes_df.Status=='Operating')|\n",
    "                 (gas_pipes_df.Status.isin(['Proposed','Construction'])&(gas_pipes_df.StartYearEarliest==2023))\n",
    "                ]['LengthMergedKm'].count()"
   ]
  },
  {
   "cell_type": "code",
   "execution_count": 173,
   "id": "18e70f9d-5f91-4baf-80e7-8200b5b0c038",
   "metadata": {
    "tags": []
   },
   "outputs": [
    {
     "data": {
      "text/plain": [
       "941"
      ]
     },
     "execution_count": 173,
     "metadata": {},
     "output_type": "execute_result"
    }
   ],
   "source": [
    "oil_pipes_df.loc[(oil_pipes_df.Status=='Operating')|\n",
    "                 (oil_pipes_df.Status.isin(['Proposed','Construction'])&(oil_pipes_df.StartYearEarliest==2023))\n",
    "                ]['LengthMergedKm'].count()"
   ]
  },
  {
   "cell_type": "code",
   "execution_count": 174,
   "id": "940f8610-dcc7-4f6a-9e62-4018a15cd182",
   "metadata": {
    "tags": []
   },
   "outputs": [
    {
     "data": {
      "text/plain": [
       "56"
      ]
     },
     "execution_count": 174,
     "metadata": {},
     "output_type": "execute_result"
    }
   ],
   "source": [
    "ngl_pipes_df.loc[(ngl_pipes_df.Status=='Operating')|\n",
    "                 (ngl_pipes_df.Status.isin(['Proposed','Construction'])&(ngl_pipes_df.StartYearEarliest==2023))\n",
    "                ]['LengthMergedKm'].count()"
   ]
  },
  {
   "cell_type": "markdown",
   "id": "83c990b6-ecbe-4cf9-a48d-604f81e09385",
   "metadata": {},
   "source": [
    "## calculate number of projects in dev"
   ]
  },
  {
   "cell_type": "code",
   "execution_count": 175,
   "id": "00c63f46-ff04-4972-8493-9767e0dbd938",
   "metadata": {
    "tags": []
   },
   "outputs": [
    {
     "data": {
      "text/plain": [
       "852"
      ]
     },
     "execution_count": 175,
     "metadata": {},
     "output_type": "execute_result"
    }
   ],
   "source": [
    "gas_pipes_df.loc[gas_pipes_df.Status.isin(['Proposed','Construction','Shelved'])]['LengthMergedKm'].count()"
   ]
  },
  {
   "cell_type": "code",
   "execution_count": 176,
   "id": "124237e1-f64d-4fc1-b1de-60cde651734a",
   "metadata": {
    "tags": []
   },
   "outputs": [
    {
     "data": {
      "text/plain": [
       "130"
      ]
     },
     "execution_count": 176,
     "metadata": {},
     "output_type": "execute_result"
    }
   ],
   "source": [
    "oil_pipes_df.loc[oil_pipes_df.Status.isin(['Proposed','Construction','Shelved'])]['LengthMergedKm'].count()"
   ]
  },
  {
   "cell_type": "code",
   "execution_count": 177,
   "id": "2152d852-8c2d-4797-9ce4-6077f7193fdb",
   "metadata": {
    "tags": []
   },
   "outputs": [
    {
     "data": {
      "text/plain": [
       "8"
      ]
     },
     "execution_count": 177,
     "metadata": {},
     "output_type": "execute_result"
    }
   ],
   "source": [
    "ngl_pipes_df.loc[ngl_pipes_df.Status.isin(['Proposed','Construction','Shelved'])]['LengthMergedKm'].count()"
   ]
  },
  {
   "cell_type": "markdown",
   "id": "36f185b9-2dea-4cda-a580-98232b88ed8f",
   "metadata": {},
   "source": [
    "## number of terminal projects"
   ]
  },
  {
   "cell_type": "markdown",
   "id": "39ff26fd-bb84-43c5-a16a-63428849a018",
   "metadata": {},
   "source": [
    "### export"
   ]
  },
  {
   "cell_type": "code",
   "execution_count": 178,
   "id": "34041121-3c23-4e83-95f9-ee55611d4588",
   "metadata": {
    "tags": []
   },
   "outputs": [
    {
     "data": {
      "text/plain": [
       "158"
      ]
     },
     "execution_count": 178,
     "metadata": {},
     "output_type": "execute_result"
    }
   ],
   "source": [
    "terms_df.loc[(terms_df['Import/Export']=='Export')&\n",
    "             (terms_df.Status.isin(['Operating']))&\n",
    "             (terms_df.Fuel=='LNG')&\n",
    "             (terms_df.ComboID!='')]['ComboID'].count()"
   ]
  },
  {
   "cell_type": "code",
   "execution_count": 179,
   "id": "1375c02e-199c-415d-8ac6-9c502741bfba",
   "metadata": {
    "tags": []
   },
   "outputs": [
    {
     "data": {
      "text/plain": [
       "193"
      ]
     },
     "execution_count": 179,
     "metadata": {},
     "output_type": "execute_result"
    }
   ],
   "source": [
    "terms_df.loc[(terms_df['Import/Export']=='Export')&\n",
    "             (terms_df.Status.isin(['Proposed','Construction']))&\n",
    "             (terms_df.Fuel=='LNG')&\n",
    "             (terms_df.ComboID!='')]['ComboID'].count()"
   ]
  },
  {
   "cell_type": "code",
   "execution_count": 180,
   "id": "4881deb8-1a32-46f6-b632-335d7809ba38",
   "metadata": {
    "tags": []
   },
   "outputs": [
    {
     "data": {
      "text/plain": [
       "454.5400000000001"
      ]
     },
     "execution_count": 180,
     "metadata": {},
     "output_type": "execute_result"
    }
   ],
   "source": [
    "terms_df.loc[(terms_df['Import/Export']=='Export')&\n",
    "             (terms_df.Status.isin(['Operating']))&\n",
    "             (terms_df.Fuel=='LNG')&\n",
    "             (terms_df.ComboID!='')]['CapacityInMtpa'].sum()"
   ]
  },
  {
   "cell_type": "markdown",
   "id": "4b4e25ca-47a7-413f-a0b8-b1a53622a96b",
   "metadata": {},
   "source": [
    "### import"
   ]
  },
  {
   "cell_type": "code",
   "execution_count": 181,
   "id": "d5df0576-d8fa-43f8-ac05-81fb8d7b0574",
   "metadata": {
    "tags": []
   },
   "outputs": [
    {
     "data": {
      "text/plain": [
       "196"
      ]
     },
     "execution_count": 181,
     "metadata": {},
     "output_type": "execute_result"
    }
   ],
   "source": [
    "terms_df.loc[(terms_df['Import/Export']=='Import')&\n",
    "             (terms_df.Status.isin(['Operating']))&\n",
    "             (terms_df.Fuel=='LNG')&\n",
    "             (terms_df.ComboID!='')]['CapacityInMtpa'].count()"
   ]
  },
  {
   "cell_type": "code",
   "execution_count": 182,
   "id": "4dd1fac1-0a35-414e-b739-f44470a36bae",
   "metadata": {
    "tags": []
   },
   "outputs": [
    {
     "data": {
      "text/plain": [
       "189"
      ]
     },
     "execution_count": 182,
     "metadata": {},
     "output_type": "execute_result"
    }
   ],
   "source": [
    "terms_df.loc[(terms_df['Import/Export']=='Import')&\n",
    "             (terms_df.Status.isin(['Proposed','Construction']))&\n",
    "             (terms_df.Fuel=='LNG')&\n",
    "             (terms_df.ComboID!='')]['CapacityInMtpa'].count()"
   ]
  },
  {
   "cell_type": "code",
   "execution_count": 183,
   "id": "e1b892c3-449f-4e5c-a301-ac54a2397631",
   "metadata": {
    "tags": []
   },
   "outputs": [
    {
     "data": {
      "text/plain": [
       "957.05"
      ]
     },
     "execution_count": 183,
     "metadata": {},
     "output_type": "execute_result"
    }
   ],
   "source": [
    "terms_df.loc[(terms_df['Import/Export']=='Import')&\n",
    "             (terms_df.Status.isin(['Operating']))&\n",
    "             (terms_df.Fuel=='LNG')&\n",
    "             (terms_df.ComboID!='')]['CapacityInMtpa'].sum()"
   ]
  },
  {
   "cell_type": "code",
   "execution_count": 185,
   "id": "d9ed9aeb-f8c7-4426-aff0-024a32ff5505",
   "metadata": {
    "tags": []
   },
   "outputs": [
    {
     "data": {
      "text/plain": [
       "704.99"
      ]
     },
     "execution_count": 185,
     "metadata": {},
     "output_type": "execute_result"
    }
   ],
   "source": [
    "terms_df.loc[(terms_df['Import/Export']=='Import')&\n",
    "             (terms_df.Status.isin(['Proposed','Construction']))&\n",
    "             (terms_df.Fuel=='LNG')&\n",
    "             (terms_df.ComboID!='')]['CapacityInMtpa'].sum()"
   ]
  },
  {
   "cell_type": "code",
   "execution_count": null,
   "id": "792f733c-16aa-4b45-a734-6a034001d78f",
   "metadata": {},
   "outputs": [],
   "source": []
  },
  {
   "cell_type": "markdown",
   "id": "c03ad170",
   "metadata": {},
   "source": [
    "## replace \"--\" with NaN, removing empty rows\n",
    "\n",
    "the dataset is structured to have -- wherever there's a lookup value that doesn't exist; replacing it with NaN (numpy.nan) allows pandas to treat it as a null value, which makes calculations much easier"
   ]
  },
  {
   "cell_type": "code",
   "execution_count": 13,
   "id": "53a9af81",
   "metadata": {
    "tags": []
   },
   "outputs": [],
   "source": [
    "# replace -- entries with NaN\n",
    "pipes_df_orig = pipes_df_orig.replace('--', numpy.nan)\n",
    "pipes_df_orig = pipes_df_orig[pipes_df_orig['PipelineName']!='']\n",
    "pipes_df_orig = pipes_df_orig[pipes_df_orig['Wiki']!='']\n",
    "country_ratios_df.replace('--', numpy.nan, inplace=True)"
   ]
  },
  {
   "cell_type": "code",
   "execution_count": 21,
   "id": "276f17cd-82b6-4c12-bbb7-401c4f6b9c8a",
   "metadata": {
    "tags": []
   },
   "outputs": [],
   "source": [
    "agt_countries = region_dict_df.loc[region_dict_df.AfricaGasTracker=='Yes']['Country'].tolist()"
   ]
  },
  {
   "cell_type": "code",
   "execution_count": 24,
   "id": "23d08827-bc01-4766-a40e-34071a8f5cfc",
   "metadata": {
    "tags": []
   },
   "outputs": [],
   "source": [
    "pipes_df_orig.loc[(pipes_df_orig.Fuel=='Oil')&\n",
    "                  ~(pipes_df_orig.Countries.apply(\n",
    "                      lambda x: set(x.split(', ')).isdisjoint(set(agt_countries))\n",
    "                  ))].to_excel('Africa-Gas-Tracker-oil-pipelines.xlsx')"
   ]
  }
 ],
 "metadata": {
  "kernelspec": {
   "display_name": "Python 3 (ipykernel)",
   "language": "python",
   "name": "python3"
  },
  "language_info": {
   "codemirror_mode": {
    "name": "ipython",
    "version": 3
   },
   "file_extension": ".py",
   "mimetype": "text/x-python",
   "name": "python",
   "nbconvert_exporter": "python",
   "pygments_lexer": "ipython3",
   "version": "3.11.6"
  }
 },
 "nbformat": 4,
 "nbformat_minor": 5
}
