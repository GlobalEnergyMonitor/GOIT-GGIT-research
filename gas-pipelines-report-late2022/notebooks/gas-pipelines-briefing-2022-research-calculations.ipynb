{
 "cells": [
  {
   "cell_type": "code",
   "execution_count": 1,
   "id": "3b38c4c2",
   "metadata": {},
   "outputs": [],
   "source": [
    "import pandas\n",
    "\n",
    "import pygsheets\n",
    "import numpy\n",
    "import scipy\n",
    "import re\n",
    "\n",
    "import matplotlib\n",
    "import matplotlib.pyplot as mp\n",
    "import matplotlib.cm\n",
    "\n",
    "import textwrap\n",
    "import seaborn"
   ]
  },
  {
   "cell_type": "markdown",
   "id": "28d79664-a683-49e9-a117-fed730f6b0b7",
   "metadata": {},
   "source": [
    "## define colors used in bars"
   ]
  },
  {
   "cell_type": "code",
   "execution_count": 2,
   "id": "c7a2b377-3968-4c9f-a5fa-6f1dcb621dea",
   "metadata": {},
   "outputs": [],
   "source": [
    "sel_cmap = matplotlib.cm.get_cmap('Reds')\n",
    "tracker_operating = sel_cmap(0.999)\n",
    "tracker_construction = sel_cmap(0.8)\n",
    "tracker_proposed = sel_cmap(0.6)\n",
    "tracker_shelved = sel_cmap(0.4)\n",
    "tracker_cancelled = sel_cmap(0.2)"
   ]
  },
  {
   "cell_type": "markdown",
   "id": "c5e51996-e86d-4e84-81b9-adfed4434b8b",
   "metadata": {},
   "source": [
    "# import data directly from google sheets"
   ]
  },
  {
   "cell_type": "code",
   "execution_count": 3,
   "id": "029bc7eb-d141-4e01-a747-e0b5b03f1f53",
   "metadata": {},
   "outputs": [],
   "source": [
    "credentials_directory = '/Users/baird/Dropbox/_google-api/'\n",
    "gc = pygsheets.authorize(client_secret=credentials_directory+'client_secret.json')\n",
    "spreadsheet = gc.open_by_key('1foPLE6K-uqFlaYgLPAUxzeXfDO5wOOqE7tibNHeqTek')\n",
    "\n",
    "#spreadsheet[1] \"Gas Pipelines\" tab is the second index\n",
    "gas_pipes = spreadsheet.worksheet('title','Gas pipelines').get_as_df(start='A2')\n",
    "oil_pipes = spreadsheet.worksheet('title', 'Oil/NGL pipelines').get_as_df(start='A2')\n",
    "\n",
    "pipes_df_orig = pandas.concat([oil_pipes, gas_pipes], ignore_index=True)\n",
    "\n",
    "#get country ratios sheet\n",
    "country_ratios_df = spreadsheet.worksheet('title', 'Country ratios by pipeline').get_as_df()"
   ]
  },
  {
   "cell_type": "code",
   "execution_count": 4,
   "id": "2aed6720-4918-47bd-a9fd-c77d41d22b53",
   "metadata": {},
   "outputs": [],
   "source": [
    "owners_df_orig = spreadsheet.worksheet('title', 'Pipeline operators/owners (1/3)').get_as_df(start='A2')\n",
    "owners_df_orig = owners_df_orig.loc[owners_df_orig.ProjectID!='']\n",
    "owners_df_orig = owners_df_orig.loc[owners_df_orig.Wiki!='']\n",
    "owners_df = owners_df_orig.replace('',numpy.nan)\n",
    "\n",
    "owner_parent_links_df = spreadsheet.worksheet('title', 'Owner–parent relationships (2/3)').get_as_df(start='A2')\n",
    "# only keep the owners with a checked relationship\n",
    "owner_parent_links_df = owner_parent_links_df.loc[owner_parent_links_df['Parent–Owner Relationship Checked?']=='yes']\n",
    "owner_parent_links_df.replace('',numpy.nan,inplace=True)\n",
    "\n",
    "parents_df = spreadsheet.worksheet('title', 'Parent metadata (3/3)').get_as_df(start='A2')\n",
    "parents_df = parents_df.loc[parents_df.Parent!='']\n",
    "\n",
    "owners_df.set_index('ProjectID', inplace=True)\n",
    "owner_parent_links_df.set_index('Owner', inplace=True)\n",
    "parents_df.set_index('Parent', inplace=True)\n",
    "\n",
    "# ****************************************\n",
    "\n",
    "## create list of owner and parent column names\n",
    "owner_pct_col_names = []\n",
    "owner_col_names = []\n",
    "\n",
    "parent_pct_col_names = []\n",
    "parent_col_names = []\n",
    "\n",
    "for num in range(1,11+1):\n",
    "    owner_pct_col = f'Owner{num}%'\n",
    "    owner_pct_col_names.append(owner_pct_col)\n",
    "    \n",
    "    owner_col = f'Owner{num}'\n",
    "    owner_col_names.append(owner_col)\n",
    "    \n",
    "    parent_pct_col = f'Parent{num}%'\n",
    "    parent_pct_col_names.append(parent_pct_col)\n",
    "    \n",
    "    parent_col = f'Parent{num}'\n",
    "    parent_col_names.append(parent_col)\n",
    "\n",
    "# ****************************************\n",
    "## fill in missing parent info by borrowing owner info\n",
    "owners_FULL_set = owners_df[owner_col_names].stack().dropna().unique().tolist() # from owners_df\n",
    "owners_researched_set = list(set(owner_parent_links_df.index.to_list()))#+['Unknown'] # only existing owners, plus 'Unknown'\n",
    "owners_diff = list(set(owners_FULL_set)-set(owners_researched_set))\n",
    "owners_diff.append('Unknown')\n",
    "\n",
    "# update owner_parent_links_df with these extra owners\n",
    "owner_parent_links_df = pandas.concat([owner_parent_links_df, pandas.DataFrame(index=owners_diff, columns=owner_parent_links_df.columns)])\n",
    "owner_parent_links_df['Parent1'].loc[owners_diff] = owners_diff\n",
    "owner_parent_links_df['Parent1%'].loc[owners_diff] = '100.00%'\n",
    "\n",
    "# ****************************************\n",
    "# update parents_df with these as well\n",
    "# note countries will be unknkown...\n",
    "parents_set = list(set(parents_df.index.to_list()))\n",
    "parents_diff = list(set(owners_diff)-set(parents_set))\n",
    "parents_diff.append('Unknown')\n",
    "parents_df = pandas.concat([parents_df, pandas.DataFrame(numpy.nan, index=parents_diff, columns=parents_df.columns)])\n",
    "parents_df.loc[parents_diff,'ParentHQCountry'] = 'Unknown'"
   ]
  },
  {
   "cell_type": "markdown",
   "id": "c03ad170",
   "metadata": {},
   "source": [
    "## replace \"--\" with NaN, removing empty rows\n",
    "\n",
    "the dataset is structured to have -- wherever there's a lookup value that doesn't exist; replacing it with NaN (numpy.nan) allows pandas to treat it as a null value, which makes calculations much easier"
   ]
  },
  {
   "cell_type": "code",
   "execution_count": 5,
   "id": "53a9af81",
   "metadata": {},
   "outputs": [],
   "source": [
    "# replace -- entries with NaN\n",
    "pipes_df_orig = pipes_df_orig.replace('--', numpy.nan)\n",
    "pipes_df_orig = pipes_df_orig[pipes_df_orig['PipelineName']!='']\n",
    "pipes_df_orig = pipes_df_orig[pipes_df_orig['Wiki']!='']\n",
    "country_ratios_df.replace('--', numpy.nan, inplace=True)"
   ]
  },
  {
   "cell_type": "markdown",
   "id": "a28ad2a3",
   "metadata": {},
   "source": [
    "# km by country, km by region calculations"
   ]
  },
  {
   "cell_type": "code",
   "execution_count": 64,
   "id": "b69bb35e",
   "metadata": {},
   "outputs": [],
   "source": [
    "status_list = ['Proposed', 'Construction', 'Shelved', 'Cancelled', 'Operating', 'Idle', 'Mothballed', 'Retired']\n",
    "country_list = sorted(list(set(country_ratios_df['Country'])))\n",
    "region_list = sorted(list(set(country_ratios_df['Region'])))"
   ]
  },
  {
   "cell_type": "code",
   "execution_count": 65,
   "id": "0f861f96",
   "metadata": {},
   "outputs": [
    {
     "name": "stdout",
     "output_type": "stream",
     "text": [
      "===country-level calculations===\n",
      "Proposed\n",
      "Construction\n",
      "Shelved\n",
      "Cancelled\n",
      "Operating\n",
      "Idle\n",
      "Mothballed\n",
      "Retired\n",
      "===regional calculations===\n",
      "Proposed\n",
      "Construction\n",
      "Shelved\n",
      "Cancelled\n",
      "Operating\n",
      "Idle\n",
      "Mothballed\n",
      "Retired\n"
     ]
    }
   ],
   "source": [
    "country_ratios_oil_df = country_ratios_df[country_ratios_df['Fuel']=='Gas']\n",
    "\n",
    "km_by_country_df = pandas.DataFrame(columns=status_list, index=country_list)\n",
    "km_by_region_df = pandas.DataFrame(columns=status_list, index=region_list)\n",
    "\n",
    "print('===country-level calculations===')\n",
    "for status in status_list:\n",
    "    print(status)\n",
    "    country_ratios_oil_df_status = country_ratios_oil_df[country_ratios_oil_df['Status']==status]\n",
    "    km_by_country_df[status] = country_ratios_oil_df_status.groupby('Country')['MergedKmByCountry'].sum()\n",
    "\n",
    "print('===regional calculations===')\n",
    "for status in status_list:\n",
    "    print(status)\n",
    "    country_ratios_oil_df_status = country_ratios_oil_df[country_ratios_oil_df['Status']==status]\n",
    "    km_by_region_df[status] = country_ratios_oil_df_status.groupby('Region')['MergedKmByCountry'].sum()\n",
    "\n",
    "# # fill NaN with 0.0\n",
    "km_by_region_df = km_by_region_df.fillna(0)\n",
    "km_by_country_df = km_by_country_df.fillna(0)"
   ]
  },
  {
   "cell_type": "code",
   "execution_count": 66,
   "id": "f27e1492-6919-456b-8519-a35e89c76f34",
   "metadata": {},
   "outputs": [],
   "source": [
    "km_by_region_df['Proposed+Construction'] = km_by_region_df[['Proposed','Construction']].sum(axis=1)\n",
    "km_by_region_df.sort_values(by='Proposed+Construction', inplace=True)\n",
    "km_by_region_df = km_by_region_df[['Proposed', 'Construction', 'Proposed+Construction', 'Shelved', 'Cancelled', 'Operating', 'Idle', 'Mothballed', 'Retired']]\n",
    "km_by_region_df.sort_values('Proposed+Construction', ascending=False, inplace=True)"
   ]
  },
  {
   "cell_type": "code",
   "execution_count": 67,
   "id": "38ef2764-c801-46f8-a82d-4803101a1f3b",
   "metadata": {},
   "outputs": [],
   "source": [
    "km_by_country_df['Proposed+Construction'] = km_by_country_df[['Proposed','Construction']].sum(axis=1)\n",
    "km_by_country_df.sort_values(by='Proposed+Construction', inplace=True)\n",
    "km_by_country_df = km_by_country_df[['Proposed', 'Construction', 'Proposed+Construction', 'Shelved', 'Cancelled', 'Operating', 'Idle', 'Mothballed', 'Retired']]\n",
    "km_by_country_df.sort_values('Proposed+Construction', ascending=False, inplace=True)"
   ]
  },
  {
   "cell_type": "markdown",
   "id": "c277d8a8-4ca4-491d-a172-2576d3346773",
   "metadata": {},
   "source": [
    "# projects by country, by region"
   ]
  },
  {
   "cell_type": "code",
   "execution_count": 10,
   "id": "9ff9810a-e55c-4a5c-89e4-7dbb2e4c6a48",
   "metadata": {},
   "outputs": [
    {
     "name": "stdout",
     "output_type": "stream",
     "text": [
      "===country-level calculations===\n",
      "Proposed\n",
      "Construction\n",
      "Shelved\n",
      "Cancelled\n",
      "Operating\n",
      "Idle\n",
      "Mothballed\n",
      "Retired\n",
      "===regional calculations===\n",
      "Proposed\n",
      "Construction\n",
      "Shelved\n",
      "Cancelled\n",
      "Operating\n",
      "Idle\n",
      "Mothballed\n",
      "Retired\n"
     ]
    }
   ],
   "source": [
    "country_ratios_oil_df = country_ratios_df[country_ratios_df['Fuel']=='Gas']\n",
    "\n",
    "num_by_country_df = pandas.DataFrame(columns=status_list, index=country_list)\n",
    "num_by_region_df = pandas.DataFrame(columns=status_list, index=region_list)\n",
    "\n",
    "print('===country-level calculations===')\n",
    "for status in status_list:\n",
    "    print(status)\n",
    "    country_ratios_oil_df_status = country_ratios_oil_df[country_ratios_oil_df['Status']==status]\n",
    "    num_by_country_df[status] = country_ratios_oil_df_status.groupby('ProjectID')['MergedKmByCountry'].sum()\n",
    "\n",
    "print('===regional calculations===')\n",
    "for status in status_list:\n",
    "    print(status)\n",
    "    country_ratios_oil_df_status = country_ratios_oil_df[country_ratios_oil_df['Status']==status]\n",
    "    num_by_region_df[status] = country_ratios_oil_df_status.groupby('Region')['MergedKmByCountry'].sum()\n",
    "\n",
    "# # fill NaN with 0.0\n",
    "num_by_region_df = num_by_region_df.fillna(0)\n",
    "num_by_country_df = num_by_country_df.fillna(0)"
   ]
  },
  {
   "cell_type": "code",
   "execution_count": 11,
   "id": "bab95430-9977-4741-aa38-5b5421845c7b",
   "metadata": {},
   "outputs": [
    {
     "data": {
      "text/html": [
       "<div>\n",
       "<style scoped>\n",
       "    .dataframe tbody tr th:only-of-type {\n",
       "        vertical-align: middle;\n",
       "    }\n",
       "\n",
       "    .dataframe tbody tr th {\n",
       "        vertical-align: top;\n",
       "    }\n",
       "\n",
       "    .dataframe thead th {\n",
       "        text-align: right;\n",
       "    }\n",
       "</style>\n",
       "<table border=\"1\" class=\"dataframe\">\n",
       "  <thead>\n",
       "    <tr style=\"text-align: right;\">\n",
       "      <th></th>\n",
       "      <th>Proposed</th>\n",
       "      <th>Construction</th>\n",
       "      <th>Shelved</th>\n",
       "      <th>Cancelled</th>\n",
       "      <th>Operating</th>\n",
       "      <th>Idle</th>\n",
       "      <th>Mothballed</th>\n",
       "      <th>Retired</th>\n",
       "    </tr>\n",
       "  </thead>\n",
       "  <tbody>\n",
       "    <tr>\n",
       "      <th>Australia and New Zealand</th>\n",
       "      <td>12590.05</td>\n",
       "      <td>580.00</td>\n",
       "      <td>334.28</td>\n",
       "      <td>6194.68</td>\n",
       "      <td>30991.82</td>\n",
       "      <td>0.0</td>\n",
       "      <td>0.00</td>\n",
       "      <td>0.00</td>\n",
       "    </tr>\n",
       "    <tr>\n",
       "      <th>East Asia</th>\n",
       "      <td>31379.31</td>\n",
       "      <td>26378.73</td>\n",
       "      <td>2067.66</td>\n",
       "      <td>1364.51</td>\n",
       "      <td>92288.71</td>\n",
       "      <td>0.0</td>\n",
       "      <td>0.00</td>\n",
       "      <td>41.00</td>\n",
       "    </tr>\n",
       "    <tr>\n",
       "      <th>Eurasia</th>\n",
       "      <td>18323.85</td>\n",
       "      <td>5153.09</td>\n",
       "      <td>272.69</td>\n",
       "      <td>5756.89</td>\n",
       "      <td>129176.25</td>\n",
       "      <td>0.0</td>\n",
       "      <td>3298.31</td>\n",
       "      <td>1783.24</td>\n",
       "    </tr>\n",
       "    <tr>\n",
       "      <th>Europe</th>\n",
       "      <td>17638.78</td>\n",
       "      <td>2836.19</td>\n",
       "      <td>5539.47</td>\n",
       "      <td>14017.44</td>\n",
       "      <td>121121.21</td>\n",
       "      <td>0.0</td>\n",
       "      <td>4735.18</td>\n",
       "      <td>823.06</td>\n",
       "    </tr>\n",
       "    <tr>\n",
       "      <th>Latin America and the Caribbean</th>\n",
       "      <td>12772.03</td>\n",
       "      <td>1304.00</td>\n",
       "      <td>2187.28</td>\n",
       "      <td>1301.39</td>\n",
       "      <td>39254.35</td>\n",
       "      <td>0.0</td>\n",
       "      <td>224.00</td>\n",
       "      <td>0.00</td>\n",
       "    </tr>\n",
       "    <tr>\n",
       "      <th>Middle East and North Africa</th>\n",
       "      <td>5333.55</td>\n",
       "      <td>7773.20</td>\n",
       "      <td>5964.34</td>\n",
       "      <td>4146.27</td>\n",
       "      <td>49700.91</td>\n",
       "      <td>0.0</td>\n",
       "      <td>1107.39</td>\n",
       "      <td>39.28</td>\n",
       "    </tr>\n",
       "    <tr>\n",
       "      <th>North America</th>\n",
       "      <td>10347.34</td>\n",
       "      <td>3087.20</td>\n",
       "      <td>10919.39</td>\n",
       "      <td>13277.01</td>\n",
       "      <td>420892.03</td>\n",
       "      <td>331.0</td>\n",
       "      <td>0.00</td>\n",
       "      <td>0.00</td>\n",
       "    </tr>\n",
       "    <tr>\n",
       "      <th>SE Asia</th>\n",
       "      <td>9222.66</td>\n",
       "      <td>984.30</td>\n",
       "      <td>2801.34</td>\n",
       "      <td>1423.82</td>\n",
       "      <td>16912.55</td>\n",
       "      <td>0.0</td>\n",
       "      <td>0.00</td>\n",
       "      <td>0.00</td>\n",
       "    </tr>\n",
       "    <tr>\n",
       "      <th>South Asia</th>\n",
       "      <td>4222.57</td>\n",
       "      <td>17113.79</td>\n",
       "      <td>6344.41</td>\n",
       "      <td>6141.07</td>\n",
       "      <td>29669.32</td>\n",
       "      <td>0.0</td>\n",
       "      <td>0.00</td>\n",
       "      <td>35.00</td>\n",
       "    </tr>\n",
       "    <tr>\n",
       "      <th>Sub-Saharan Africa</th>\n",
       "      <td>18833.16</td>\n",
       "      <td>1582.00</td>\n",
       "      <td>1678.16</td>\n",
       "      <td>176.96</td>\n",
       "      <td>7031.52</td>\n",
       "      <td>0.0</td>\n",
       "      <td>0.00</td>\n",
       "      <td>0.00</td>\n",
       "    </tr>\n",
       "  </tbody>\n",
       "</table>\n",
       "</div>"
      ],
      "text/plain": [
       "                                 Proposed  Construction   Shelved  Cancelled  \\\n",
       "Australia and New Zealand        12590.05        580.00    334.28    6194.68   \n",
       "East Asia                        31379.31      26378.73   2067.66    1364.51   \n",
       "Eurasia                          18323.85       5153.09    272.69    5756.89   \n",
       "Europe                           17638.78       2836.19   5539.47   14017.44   \n",
       "Latin America and the Caribbean  12772.03       1304.00   2187.28    1301.39   \n",
       "Middle East and North Africa      5333.55       7773.20   5964.34    4146.27   \n",
       "North America                    10347.34       3087.20  10919.39   13277.01   \n",
       "SE Asia                           9222.66        984.30   2801.34    1423.82   \n",
       "South Asia                        4222.57      17113.79   6344.41    6141.07   \n",
       "Sub-Saharan Africa               18833.16       1582.00   1678.16     176.96   \n",
       "\n",
       "                                 Operating   Idle  Mothballed  Retired  \n",
       "Australia and New Zealand         30991.82    0.0        0.00     0.00  \n",
       "East Asia                         92288.71    0.0        0.00    41.00  \n",
       "Eurasia                          129176.25    0.0     3298.31  1783.24  \n",
       "Europe                           121121.21    0.0     4735.18   823.06  \n",
       "Latin America and the Caribbean   39254.35    0.0      224.00     0.00  \n",
       "Middle East and North Africa      49700.91    0.0     1107.39    39.28  \n",
       "North America                    420892.03  331.0        0.00     0.00  \n",
       "SE Asia                           16912.55    0.0        0.00     0.00  \n",
       "South Asia                        29669.32    0.0        0.00    35.00  \n",
       "Sub-Saharan Africa                 7031.52    0.0        0.00     0.00  "
      ]
     },
     "execution_count": 11,
     "metadata": {},
     "output_type": "execute_result"
    }
   ],
   "source": [
    "num_by_region_df"
   ]
  },
  {
   "cell_type": "markdown",
   "id": "99fe358c",
   "metadata": {},
   "source": [
    "# numbers of pipes finished in a given year"
   ]
  },
  {
   "cell_type": "code",
   "execution_count": 12,
   "id": "198c9165",
   "metadata": {},
   "outputs": [],
   "source": [
    "# count pipelines that are already operating\n",
    "pipes_started = pipes_df_orig.copy()\n",
    "pipes_started['StartYearEarliest'].replace(numpy.nan,'',inplace=True)\n",
    "pipes_started = pipes_started[(pipes_started['Status'].isin(['Operating'])) &\n",
    "                              (pipes_started['Fuel']=='Gas')]\n",
    "pipes_started_sum = pipes_started.groupby('StartYearEarliest')['LengthMergedKm'].sum()"
   ]
  },
  {
   "cell_type": "code",
   "execution_count": 13,
   "id": "8d9559e8-1fc7-49c1-833f-6e19e425e498",
   "metadata": {},
   "outputs": [],
   "source": [
    "# count km of pipeline for each start year\n",
    "pipes_started_startyear = pipes_df_orig.copy()\n",
    "pipes_started_startyear['StartYearEarliest'].replace(numpy.nan,'',inplace=True)\n",
    "pipes_started_startyear = pipes_started_startyear[(pipes_started_startyear['Status'].isin(['Operating'])) &\n",
    "                              (pipes_started_startyear['Fuel']=='Gas')]\n",
    "#pipes_started_startyear_sum = pipes_started_startyear.groupby('StartYearLatest')['LengthMergedKm'].sum()"
   ]
  },
  {
   "cell_type": "code",
   "execution_count": 14,
   "id": "b944ca0c-f362-4d07-a142-78b1523e988d",
   "metadata": {},
   "outputs": [],
   "source": [
    "# indev pipelines = Proposed or Construction or Shelved\n",
    "pipes_indev = pipes_df_orig.copy()\n",
    "pipes_indev = pipes_indev.loc[(pipes_indev.Fuel=='Gas')&\n",
    "                              (pipes_indev.Status.isin(['Proposed','Construction','Shelved']))].groupby('Status')['LengthMergedKm'].sum()\n",
    "#pipes_indev = pipes_indev.loc[(pipes_indev.StartYearEarliest>2022)|\n",
    "#                              (pipes_indev.StartYearEarliest.isna())].groupby('Status')['LengthMergedKm'].sum()"
   ]
  },
  {
   "cell_type": "code",
   "execution_count": 15,
   "id": "d15a4dbf-af9f-4c41-bb90-bc045c099402",
   "metadata": {},
   "outputs": [],
   "source": [
    "pipes_indev_to2030 = pipes_df_orig.copy()\n",
    "pipes_indev_to2030 = pipes_indev_to2030.loc[(pipes_indev_to2030['Fuel']=='Gas') &\n",
    "                                        (pipes_indev_to2030['Status'].isin(['Proposed','Construction','Shelved'])) &\n",
    "                                        (pipes_indev_to2030['StartYearEarliest'].isin(list(range(2023,2031))))]\n",
    "pipes_indev_to2030 = pipes_indev_to2030.groupby('Status')['LengthMergedKm'].sum()\n"
   ]
  },
  {
   "cell_type": "code",
   "execution_count": 16,
   "id": "5bd752fe-875a-4bc2-8429-0910473d52c6",
   "metadata": {},
   "outputs": [],
   "source": [
    "pipes_indev_startyear = pipes_df_orig.copy()\n",
    "pipes_indev_startyear = pipes_indev_startyear[(pipes_indev_startyear['Status'].isin(['Proposed','Construction','Shelved'])) &\n",
    "                                              (pipes_indev_startyear['Fuel']=='Gas')]\n",
    "pipes_indev_startyear = pipes_indev_startyear.groupby(['Status','StartYearEarliest'], dropna=False)['LengthMergedKm'].sum(min_count=1)"
   ]
  },
  {
   "cell_type": "code",
   "execution_count": 17,
   "id": "47cc5cd7-5c49-4195-b71d-fff190221140",
   "metadata": {},
   "outputs": [
    {
     "data": {
      "text/html": [
       "<div>\n",
       "<style scoped>\n",
       "    .dataframe tbody tr th:only-of-type {\n",
       "        vertical-align: middle;\n",
       "    }\n",
       "\n",
       "    .dataframe tbody tr th {\n",
       "        vertical-align: top;\n",
       "    }\n",
       "\n",
       "    .dataframe thead th {\n",
       "        text-align: right;\n",
       "    }\n",
       "</style>\n",
       "<table border=\"1\" class=\"dataframe\">\n",
       "  <thead>\n",
       "    <tr style=\"text-align: right;\">\n",
       "      <th>StartYearEarliest</th>\n",
       "      <th>2018.0</th>\n",
       "      <th>2019.0</th>\n",
       "      <th>2020.0</th>\n",
       "      <th>2021.0</th>\n",
       "      <th>2022.0</th>\n",
       "      <th>2023.0</th>\n",
       "      <th>2024.0</th>\n",
       "      <th>2025.0</th>\n",
       "      <th>2026.0</th>\n",
       "      <th>2027.0</th>\n",
       "      <th>2028.0</th>\n",
       "      <th>2029.0</th>\n",
       "      <th>2030.0</th>\n",
       "      <th>2034.0</th>\n",
       "      <th>2035.0</th>\n",
       "      <th>2046.0</th>\n",
       "      <th>NaN</th>\n",
       "    </tr>\n",
       "    <tr>\n",
       "      <th>Status</th>\n",
       "      <th></th>\n",
       "      <th></th>\n",
       "      <th></th>\n",
       "      <th></th>\n",
       "      <th></th>\n",
       "      <th></th>\n",
       "      <th></th>\n",
       "      <th></th>\n",
       "      <th></th>\n",
       "      <th></th>\n",
       "      <th></th>\n",
       "      <th></th>\n",
       "      <th></th>\n",
       "      <th></th>\n",
       "      <th></th>\n",
       "      <th></th>\n",
       "      <th></th>\n",
       "    </tr>\n",
       "  </thead>\n",
       "  <tbody>\n",
       "    <tr>\n",
       "      <th>Construction</th>\n",
       "      <td>873.0</td>\n",
       "      <td>NaN</td>\n",
       "      <td>NaN</td>\n",
       "      <td>34.76</td>\n",
       "      <td>28031.12</td>\n",
       "      <td>13428.02</td>\n",
       "      <td>5100.24</td>\n",
       "      <td>1957.00</td>\n",
       "      <td>NaN</td>\n",
       "      <td>NaN</td>\n",
       "      <td>NaN</td>\n",
       "      <td>NaN</td>\n",
       "      <td>NaN</td>\n",
       "      <td>NaN</td>\n",
       "      <td>NaN</td>\n",
       "      <td>NaN</td>\n",
       "      <td>17579.25</td>\n",
       "    </tr>\n",
       "    <tr>\n",
       "      <th>Proposed</th>\n",
       "      <td>NaN</td>\n",
       "      <td>450.0</td>\n",
       "      <td>38.0</td>\n",
       "      <td>0.00</td>\n",
       "      <td>6153.72</td>\n",
       "      <td>8824.17</td>\n",
       "      <td>10180.17</td>\n",
       "      <td>9670.77</td>\n",
       "      <td>3499.17</td>\n",
       "      <td>3576.66</td>\n",
       "      <td>5323.74</td>\n",
       "      <td>942.0</td>\n",
       "      <td>5952.63</td>\n",
       "      <td>315.0</td>\n",
       "      <td>110.0</td>\n",
       "      <td>5660.0</td>\n",
       "      <td>79896.58</td>\n",
       "    </tr>\n",
       "    <tr>\n",
       "      <th>Shelved</th>\n",
       "      <td>NaN</td>\n",
       "      <td>221.7</td>\n",
       "      <td>1100.7</td>\n",
       "      <td>5159.62</td>\n",
       "      <td>3795.37</td>\n",
       "      <td>3353.45</td>\n",
       "      <td>1308.38</td>\n",
       "      <td>1169.99</td>\n",
       "      <td>NaN</td>\n",
       "      <td>150.00</td>\n",
       "      <td>636.00</td>\n",
       "      <td>135.0</td>\n",
       "      <td>NaN</td>\n",
       "      <td>NaN</td>\n",
       "      <td>NaN</td>\n",
       "      <td>NaN</td>\n",
       "      <td>21078.02</td>\n",
       "    </tr>\n",
       "  </tbody>\n",
       "</table>\n",
       "</div>"
      ],
      "text/plain": [
       "StartYearEarliest  2018.0  2019.0  2020.0   2021.0    2022.0    2023.0  \\\n",
       "Status                                                                   \n",
       "Construction        873.0     NaN     NaN    34.76  28031.12  13428.02   \n",
       "Proposed              NaN   450.0    38.0     0.00   6153.72   8824.17   \n",
       "Shelved               NaN   221.7  1100.7  5159.62   3795.37   3353.45   \n",
       "\n",
       "StartYearEarliest    2024.0   2025.0   2026.0   2027.0   2028.0  2029.0  \\\n",
       "Status                                                                    \n",
       "Construction        5100.24  1957.00      NaN      NaN      NaN     NaN   \n",
       "Proposed           10180.17  9670.77  3499.17  3576.66  5323.74   942.0   \n",
       "Shelved             1308.38  1169.99      NaN   150.00   636.00   135.0   \n",
       "\n",
       "StartYearEarliest   2030.0  2034.0  2035.0  2046.0    NaN     \n",
       "Status                                                        \n",
       "Construction           NaN     NaN     NaN     NaN  17579.25  \n",
       "Proposed           5952.63   315.0   110.0  5660.0  79896.58  \n",
       "Shelved                NaN     NaN     NaN     NaN  21078.02  "
      ]
     },
     "execution_count": 17,
     "metadata": {},
     "output_type": "execute_result"
    }
   ],
   "source": [
    "pipes_indev_startyear.unstack()"
   ]
  },
  {
   "cell_type": "markdown",
   "id": "5a075334-5559-443b-a8bf-c2cc32c2ece7",
   "metadata": {},
   "source": [
    "## Fig 2 - 2023–2030, go back to 2008"
   ]
  },
  {
   "cell_type": "code",
   "execution_count": 18,
   "id": "30602be5-da26-4642-b985-ef9771157a7f",
   "metadata": {},
   "outputs": [],
   "source": [
    "pandas.DataFrame(pipes_started_sum).to_excel('saved-tables/pipelines-operating-km-by-start-year.xlsx')\n",
    "\n",
    "pandas.DataFrame(pipes_indev_startyear).unstack().replace(numpy.nan,0).to_excel('saved-tables/pipelines-indev-km-by-start-year.xlsx')"
   ]
  },
  {
   "cell_type": "code",
   "execution_count": 19,
   "id": "d22815fd-0093-470a-b77b-3e00f46c3a64",
   "metadata": {},
   "outputs": [
    {
     "data": {
      "image/png": "[encoded data removed]",
      "text/plain": [
       "<Figure size 234x288 with 2 Axes>"
      ]
     },
     "metadata": {
      "needs_background": "light"
     },
     "output_type": "display_data"
    }
   ],
   "source": [
    "font_size = 7\n",
    "\n",
    "ytop = 150000\n",
    "ytop2 = 150000\n",
    "\n",
    "fig = mp.figure(figsize=(3.25,4))\n",
    "\n",
    "widths=[15,3]\n",
    "spec = fig.add_gridspec(ncols=2, nrows=1, width_ratios=widths)\n",
    "\n",
    "ax = fig.add_subplot(spec[0,0])\n",
    "\n",
    "ax.bar(pipes_started_sum.index.values[-15:-1], pipes_started_sum.values[-15:-1],\n",
    "       color=tracker_operating, label='Operating') # color=solar_base03\n",
    "ax.bar(2022,pipes_indev_startyear['Construction',2022],\n",
    "       label='Construction\\n(scheduled\\nfor 2022)', bottom=pipes_started_sum.loc[2022], \n",
    "       facecolor=tracker_operating, alpha=0.25)\n",
    "ax.tick_params(labelsize=font_size)\n",
    "ax.tick_params('x', rotation=45)\n",
    "ax.set_ylabel('km', size=font_size)\n",
    "\n",
    "ax.set_xlim(2007.25, 2022.75)\n",
    "ax.set_ylim(0, ytop)\n",
    "\n",
    "ax.xaxis.set_major_locator(matplotlib.ticker.MaxNLocator(integer=True))\n",
    "\n",
    "ax2 = fig.add_subplot(spec[0,1])\n",
    "ax2.set_ylim(0, ytop2)\n",
    "ax2.set_xlim(0.25,3.75)\n",
    "xvals = [1,2,3]\n",
    "\n",
    "colors = [tracker_construction, tracker_proposed, tracker_shelved]\n",
    "status = ['Construction', 'Proposed', 'Shelved']\n",
    "ax2_list = []\n",
    "for x,c,s in zip(xvals,colors,status):\n",
    "    if s in ['Proposed','Shelved']:\n",
    "        ax2_list.append(ax2.bar(x, pipes_indev[s]+pipes_indev_startyear[s,2022],\n",
    "                 color=c, label=s))\n",
    "    else:\n",
    "        ax2_list.append(ax2.bar(x, pipes_indev[s],\n",
    "                 color=c, label=s))\n",
    "\n",
    "ax_h, ax_l = ax.get_legend_handles_labels()\n",
    "ax2_h, ax2_l = ax2.get_legend_handles_labels()\n",
    "\n",
    "ax2.set_xticklabels([])\n",
    "ax2.tick_params(labelsize=font_size)\n",
    "ax2.set_xticks([])\n",
    "\n",
    "\n",
    "ax2.yaxis.tick_right()\n",
    "ax2.set_ylabel('km', fontsize=font_size, rotation=-90, labelpad=10)\n",
    "ax2.yaxis.set_label_position('right')\n",
    "\n",
    "ax.legend(handles=ax_h+ax2_h, fontsize=font_size, frameon=False)\n",
    "\n",
    "axpos = ax.get_position()\n",
    "ax2pos = ax2.get_position()\n",
    "\n",
    "ax.spines['right'].set_visible(False)\n",
    "ax.spines['top'].set_visible(False)\n",
    "\n",
    "ax2.spines['left'].set_visible(False)\n",
    "ax2.spines['top'].set_visible(False)\n",
    "#ax2.spines['right'].set_visible(False)\n",
    "\n",
    "ax.set_title('commissioned by year', fontsize=font_size)\n",
    "ax2.set_title('future', fontsize=font_size)\n",
    "\n",
    "fig.tight_layout()#w_pad=0.05)\n",
    "\n",
    "ax.yaxis.set_minor_locator(matplotlib.ticker.AutoMinorLocator(2))\n",
    "ax2.yaxis.set_minor_locator(matplotlib.ticker.AutoMinorLocator(2))\n",
    "\n",
    "mp.savefig('saved-figures/gas-pipelines_km-by-start-year-backto2008-with-2022.png', bbox_inches='tight', transparent=True, dpi=600)\n",
    "mp.savefig('saved-figures/gas-pipelines_km-by-start-year-backto2008-with-2022.pdf', bbox_inches='tight', transparent=True)"
   ]
  },
  {
   "cell_type": "markdown",
   "id": "83c69fd8-e7a7-41bb-b816-b175a0b8909b",
   "metadata": {},
   "source": [
    "## alt for David"
   ]
  },
  {
   "cell_type": "code",
   "execution_count": 20,
   "id": "711d97d4-16d9-4d77-8577-5cb5997216a2",
   "metadata": {},
   "outputs": [
    {
     "data": {
      "text/plain": [
       "Status\n",
       "Construction     67003.39\n",
       "Proposed        140592.61\n",
       "Shelved          38108.23\n",
       "Name: LengthMergedKm, dtype: float64"
      ]
     },
     "execution_count": 20,
     "metadata": {},
     "output_type": "execute_result"
    }
   ],
   "source": [
    "pipes_indev"
   ]
  },
  {
   "cell_type": "code",
   "execution_count": 21,
   "id": "5e6210eb-0ae8-47f3-81af-2b10d7833e6f",
   "metadata": {},
   "outputs": [
    {
     "data": {
      "image/png": "[encoded data removed]",
      "text/plain": [
       "<Figure size 234x288 with 2 Axes>"
      ]
     },
     "metadata": {
      "needs_background": "light"
     },
     "output_type": "display_data"
    }
   ],
   "source": [
    "font_size = 7\n",
    "\n",
    "ytop = 200000\n",
    "ytop2 = 200000\n",
    "\n",
    "fig = mp.figure(figsize=(3.25,4))\n",
    "\n",
    "widths=[15,2.25]\n",
    "spec = fig.add_gridspec(ncols=2, nrows=1, width_ratios=widths)\n",
    "\n",
    "ax = fig.add_subplot(spec[0,0])\n",
    "\n",
    "ax.bar(pipes_started_sum.index.values[-15:-1], pipes_started_sum.values[-15:-1],\n",
    "       color=tracker_operating, label='Operating') # color=solar_base03\n",
    "\n",
    "ax.bar(2022,pipes_indev_startyear['Construction',2022],\n",
    "       label='Construction\\n(scheduled\\nfor 2022)', bottom=pipes_started_sum.loc[2022], \n",
    "       facecolor=tracker_operating, alpha=0.25)\n",
    "\n",
    "ax.tick_params(labelsize=font_size)\n",
    "ax.tick_params('x', rotation=45)\n",
    "ax.set_ylabel('km', size=font_size)\n",
    "\n",
    "ax.set_xlim(2007.25, 2022.75)\n",
    "ax.set_ylim(0, ytop)\n",
    "\n",
    "ax.xaxis.set_major_locator(matplotlib.ticker.MaxNLocator(integer=True))\n",
    "\n",
    "ax2 = fig.add_subplot(spec[0,1])\n",
    "ax2.set_ylim(0, ytop2)\n",
    "ax2.set_xlim(0.25,2.75)\n",
    "xvals = [1.5]\n",
    "\n",
    "colors = [tracker_construction, tracker_proposed]#, tracker_shelved]\n",
    "status = ['Construction', 'Proposed']#, 'Shelved']\n",
    "ax2_list = []\n",
    "# for x,c,s in zip(xvals,colors,status):\n",
    "#     if s in ['Proposed','Shelved']:\n",
    "#         ax2_list.append(ax2.bar(x, pipes_indev[s]+pipes_indev_startyear[s,2022],\n",
    "#                  color=c, label=s))\n",
    "#     else:\n",
    "#         ax2_list.append(ax2.bar(x, pipes_indev[s],\n",
    "#                  color=c, label=s))\n",
    "ax2_list.append(ax2.bar(xvals[0], pipes_indev['Construction'],\n",
    "                 color=tracker_construction, label='Construction'))\n",
    "\n",
    "ax2_list.append(ax2.bar(xvals[0], pipes_indev['Proposed']-pipes_indev_startyear['Construction',2022],\n",
    "                        bottom=pipes_indev['Construction'],\n",
    "                 color=tracker_shelved, label='Proposed'))\n",
    "\n",
    "ax_h, ax_l = ax.get_legend_handles_labels()\n",
    "ax2_h, ax2_l = ax2.get_legend_handles_labels()\n",
    "\n",
    "ax2.set_xticklabels([])\n",
    "ax2.tick_params(labelsize=font_size)\n",
    "ax2.set_xticks([])\n",
    "\n",
    "#ax2.yaxis.tick_right()\n",
    "#ax2.set_ylabel('km', fontsize=font_size, rotation=-90, labelpad=10)\n",
    "#ax2.yaxis.set_label_position('right')\n",
    "ax2.set_yticks([])\n",
    "\n",
    "ax.legend(handles=ax_h+ax2_h, fontsize=font_size, frameon=False, \n",
    "          loc='upper left', bbox_to_anchor=[0.05,1])\n",
    "\n",
    "axpos = ax.get_position()\n",
    "ax2pos = ax2.get_position()\n",
    "\n",
    "ax.spines['right'].set_visible(False)\n",
    "ax.spines['top'].set_visible(False)\n",
    "\n",
    "ax2.spines['left'].set_visible(False)\n",
    "ax2.spines['top'].set_visible(False)\n",
    "ax2.spines['right'].set_visible(False)\n",
    "#ax2.spines['right'].set_visible(False)\n",
    "\n",
    "ax.set_title('commissioned by year', fontsize=font_size)\n",
    "ax2.set_title('future', fontsize=font_size)\n",
    "\n",
    "fig.tight_layout(w_pad=0)\n",
    "\n",
    "ax.yaxis.set_minor_locator(matplotlib.ticker.AutoMinorLocator(2))\n",
    "#ax2.yaxis.set_minor_locator(matplotlib.ticker.AutoMinorLocator(2))\n",
    "\n",
    "mp.savefig('saved-figures/gas-pipelines_km-by-start-year-backto2008-with-2022-alt.png', bbox_inches='tight', transparent=True, dpi=600)\n",
    "mp.savefig('saved-figures/gas-pipelines_km-by-start-year-backto2008-with-2022-alt.pdf', bbox_inches='tight', transparent=True)"
   ]
  },
  {
   "cell_type": "code",
   "execution_count": 22,
   "id": "09a92802-974a-42de-bc19-e12f40226b70",
   "metadata": {},
   "outputs": [
    {
     "data": {
      "text/plain": [
       "Status\n",
       "Construction     67003.39\n",
       "Proposed        140592.61\n",
       "Shelved          38108.23\n",
       "Name: LengthMergedKm, dtype: float64"
      ]
     },
     "execution_count": 22,
     "metadata": {},
     "output_type": "execute_result"
    }
   ],
   "source": [
    "pipes_indev"
   ]
  },
  {
   "cell_type": "markdown",
   "id": "8298e2a6-3199-460c-8109-9f2ce4e9f680",
   "metadata": {},
   "source": [
    "## percent pipelines with start date (sanity check)"
   ]
  },
  {
   "cell_type": "code",
   "execution_count": 23,
   "id": "9b19f13c-1f8e-47eb-abff-f8ee5545ba20",
   "metadata": {},
   "outputs": [],
   "source": [
    "pipes_scratch = pipes_df_orig.copy()\n",
    "pipes_scratch = pipes_scratch[(pipes_scratch['Fuel']=='Gas') &\n",
    "                              (pipes_scratch['Status'].isin(['Proposed','Construction','Shelved']))]"
   ]
  },
  {
   "cell_type": "code",
   "execution_count": 24,
   "id": "4b88a57c-41dd-4d0a-a3ca-3c08d90892ac",
   "metadata": {},
   "outputs": [
    {
     "data": {
      "text/plain": [
       "0.578544061302682"
      ]
     },
     "execution_count": 24,
     "metadata": {},
     "output_type": "execute_result"
    }
   ],
   "source": [
    "pipes_scratch[~pipes_scratch['StartYearEarliest'].isnull()]['StartYearEarliest'].count()/pipes_scratch.shape[0]\n"
   ]
  },
  {
   "cell_type": "markdown",
   "id": "358e0310",
   "metadata": {},
   "source": [
    "## regional pipelines started in given year"
   ]
  },
  {
   "cell_type": "code",
   "execution_count": 25,
   "id": "bc05d721",
   "metadata": {},
   "outputs": [],
   "source": [
    "years_array = numpy.arange( float(pipes_df_orig['StartYearEarliest'].min()), float(pipes_df_orig['StartYearEarliest'].max())+1)\n",
    "regions_startyear_sums_df = pandas.DataFrame(numpy.nan, index=years_array, columns=region_list)"
   ]
  },
  {
   "cell_type": "code",
   "execution_count": 26,
   "id": "b1fca66b",
   "metadata": {},
   "outputs": [],
   "source": [
    "#pipes_started = pipes_df.copy()[(pipes_df['Status'].isin(['Operating'])) & pipes_df['Fuel']=='Gas']\n",
    "#pipes_started_sum = pipes_started.groupby('StartYearLatest')['LengthMergedKm'].sum()\n",
    "\n",
    "for region in region_list:\n",
    "    pipes_started = pipes_df_orig.copy()[(pipes_df_orig['Status'].isin(['Operating','Retired','Idle'])) & \n",
    "                                    (pipes_df_orig['Fuel']=='Gas')]\n",
    "    pipes_started = pipes_started[pipes_started['StartRegion']==region]\n",
    "    pipes_started_sum_up = pipes_started.groupby('StartYearEarliest')['LengthMergedKm'].sum()\n",
    "    \n",
    "    regions_startyear_sums_df[region] = pipes_started_sum_up"
   ]
  },
  {
   "cell_type": "code",
   "execution_count": 27,
   "id": "37727617-097d-400e-82f7-bc396ec094aa",
   "metadata": {},
   "outputs": [],
   "source": [
    "if len(region_list)!=10:\n",
    "    region_list = region_list[2:]"
   ]
  },
  {
   "cell_type": "markdown",
   "id": "0299445b-00c6-448c-9db4-1ee541d487ed",
   "metadata": {},
   "source": [
    "## plot pie chart of regional values"
   ]
  },
  {
   "cell_type": "code",
   "execution_count": 28,
   "id": "226216bb-58ee-4c37-af1f-637b84aa56ea",
   "metadata": {},
   "outputs": [
    {
     "data": {
      "image/png": "[encoded data removed]",
      "text/plain": [
       "<Figure size 720x72 with 1 Axes>"
      ]
     },
     "metadata": {
      "needs_background": "light"
     },
     "output_type": "display_data"
    },
    {
     "data": {
      "image/png": "[encoded data removed]",
      "text/plain": [
       "<Figure size 720x72 with 1 Axes>"
      ]
     },
     "metadata": {
      "needs_background": "light"
     },
     "output_type": "display_data"
    }
   ],
   "source": [
    "# mess with some color pallettes\n",
    "#seaborn.color_palette('husl', 10)\n",
    "seaborn.palplot(seaborn.husl_palette(10, s=0.9, l=0.75, h=0.15))\n",
    "seaborn.palplot(seaborn.husl_palette(10, h=0.15))\n",
    "\n",
    "cmap_dark = seaborn.husl_palette(10, h=0.15, l=0.4, s=0.8, as_cmap=True)\n",
    "cmap_light = seaborn.husl_palette(10, h=0.15, s=1, as_cmap=True)"
   ]
  },
  {
   "cell_type": "code",
   "execution_count": 63,
   "id": "2efd35e5-b020-45a3-8686-1c1cf1e65bcb",
   "metadata": {},
   "outputs": [
    {
     "data": {
      "image/png": "[encoded data removed]",
      "text/plain": [
       "<Figure size 360x360 with 1 Axes>"
      ]
     },
     "metadata": {},
     "output_type": "display_data"
    }
   ],
   "source": [
    "font_size=7\n",
    "\n",
    "fig = mp.figure(figsize=(5,5))\n",
    "ax = fig.add_subplot(111)\n",
    "\n",
    "nwedges = region_list.__len__()\n",
    "region_order = km_by_region_df.index[:nwedges]\n",
    "\n",
    "pie_vals = km_by_region_df.loc[region_order]['Proposed+Construction'].values\n",
    "pie_labels = km_by_region_df.index\n",
    "pie_labels_km = km_by_region_df.loc[region_order]['Proposed+Construction'].apply(lambda x: f'\\n{int(round(x,-2)):,} km')\n",
    "pie_labels_perc = (km_by_region_df.loc[region_order]['Proposed+Construction'] / \n",
    "                   km_by_region_df.loc[region_order]['Proposed+Construction'].sum() * 100.).apply(lambda x: f'\\n{x:.1f}%')\n",
    "\n",
    "# ****************************************\n",
    "pie_vals_separated = km_by_region_df.loc[region_order][['Construction','Proposed']].values.flatten()\n",
    "#pie_labels_separated = numpy.array(list(zip(km_by_region_df.index[:-1],km_by_region_df.index[:-1]))).flatten()\n",
    "#pie_labels_km = km_by_region_df.loc[region_order]['Proposed+Construction'].apply(lambda x: f'\\n{int(round(x,-3)):,} km')\n",
    "\n",
    "nwedges_separated = 20\n",
    "cmap_light_10 = cmap_light(numpy.linspace(0,1,nwedges))\n",
    "cmap_dark_10 = cmap_dark(numpy.linspace(0,1,nwedges))\n",
    "\n",
    "pie_labels = [i+j+k for i,j,k in zip(pie_labels, pie_labels_km, pie_labels_perc)]\n",
    "pie_width = 0.666\n",
    "\n",
    "# ****************************************\n",
    "# size=0.3\n",
    "ax.pie(pie_vals_separated, \n",
    "       #labels=pie_labels,\n",
    "       #radius=1-size,\n",
    "       colors=numpy.hstack((cmap_light_10, cmap_dark_10)).reshape(20,-1),\n",
    "       wedgeprops=dict(width=pie_width),\n",
    "       textprops={'fontsize': font_size})\n",
    "ax.pie(pie_vals, \n",
    "       labels=pie_labels,\n",
    "       #radius=1,\n",
    "       #bottom=0.25,\n",
    "       colors=None,#cmap(numpy.linspace(0,1,pie_vals.size))[::-1],\n",
    "       wedgeprops=dict(edgecolor='1', facecolor='None', linewidth=2, width=pie_width),\n",
    "       textprops={'fontsize': font_size})\n",
    "\n",
    "\n",
    "ax.tick_params(labelsize=font_size)\n",
    "\n",
    "fig.tight_layout()\n",
    "\n",
    "mp.savefig('saved-figures/gas-pipelines_pie-graph-country-pipelines-km.pdf', bbox_inches='tight', transparent=True)\n",
    "\n",
    "mp.savefig('saved-figures/gas-pipelines_pie-graph-country-pipelines-km.png', \n",
    "          bbox_inches='tight', \n",
    "          transparent=True,\n",
    "          dpi=600)"
   ]
  },
  {
   "cell_type": "markdown",
   "id": "712acc4e",
   "metadata": {},
   "source": [
    "# top 20 countries proposed+construction"
   ]
  },
  {
   "cell_type": "code",
   "execution_count": 30,
   "id": "e4961c91-d30b-4e76-9e26-94a0ae21ba70",
   "metadata": {},
   "outputs": [],
   "source": [
    "def adjust_spines(ax, spines):\n",
    "    for loc, spine in ax.spines.items():\n",
    "        if loc in spines:\n",
    "            spine.set_position(('outward', 10))  # outward by 10 points\n",
    "        else:\n",
    "            spine.set_color('none')  # don't draw spine\n",
    "\n",
    "    # turn off ticks where there is no spine\n",
    "    if 'left' in spines:\n",
    "        ax.yaxis.set_ticks_position('left')\n",
    "    else:\n",
    "        # no yaxis ticks\n",
    "        ax.yaxis.set_ticks([])\n",
    "\n",
    "    if 'bottom' in spines:\n",
    "        ax.xaxis.set_ticks_position('bottom')\n",
    "    else:\n",
    "        # no xaxis ticks\n",
    "        ax.xaxis.set_ticks([])"
   ]
  },
  {
   "cell_type": "code",
   "execution_count": 31,
   "id": "3cdebc59",
   "metadata": {
    "tags": []
   },
   "outputs": [
    {
     "data": {
      "image/png": "[encoded data removed]",
      "text/plain": [
       "<Figure size 486x288 with 1 Axes>"
      ]
     },
     "metadata": {
      "needs_background": "light"
     },
     "output_type": "display_data"
    }
   ],
   "source": [
    "font_size = 7\n",
    "fig = mp.figure(figsize=(6.75,4))\n",
    "nbars=20\n",
    "\n",
    "country_order = km_by_country_df.index[:nbars][::-1]\n",
    "\n",
    "ax = fig.add_subplot(111)\n",
    "\n",
    "ax.barh(numpy.arange(nbars), \n",
    "        km_by_country_df.loc[country_order]['Construction'].values, \n",
    "        facecolor=tracker_construction,#solar_orange, \n",
    "        label='Construction')\n",
    "\n",
    "ax.barh(numpy.arange(nbars), \n",
    "        km_by_country_df.loc[country_order]['Proposed'].values, \n",
    "        left=km_by_country_df.loc[country_order]['Construction'].values, \n",
    "        facecolor=tracker_proposed,#solar_yellow, \n",
    "        label='Proposed')\n",
    "\n",
    "ax.barh(numpy.arange(nbars), \n",
    "        km_by_country_df.loc[country_order]['Shelved'].values, \n",
    "        left=km_by_country_df.loc[country_order][['Proposed','Construction']].sum(axis=1).values, \n",
    "        facecolor=tracker_shelved,#'0.75', \n",
    "        label='Shelved')\n",
    "\n",
    "ax.barh(numpy.arange(nbars), \n",
    "        km_by_country_df.loc[country_order]['Cancelled'].values, \n",
    "        left=km_by_country_df.loc[country_order][['Proposed','Construction','Shelved']].sum(axis=1).values, \n",
    "        facecolor=tracker_cancelled,#'0.9', \n",
    "        label='Cancelled')\n",
    "\n",
    "ax.set_yticks(numpy.arange(nbars))\n",
    "ax.set_yticklabels(km_by_country_df.index[:nbars][::-1])\n",
    "ax.tick_params(labelsize=font_size)\n",
    "ax.tick_params('x', pad=0)\n",
    "ax.set_xlim(0,60000)\n",
    "#ax.set_ylim(-.75,19.75)\n",
    "ax.set_ylim(-.25,20)\n",
    "ax.set_xlabel('km', size=font_size)#, labelpad=10)\n",
    "ax.xaxis.set_ticks_position('top')\n",
    "ax.xaxis.set_label_position('top')\n",
    "\n",
    "ax.legend(fontsize=font_size, frameon=False, loc='lower right')\n",
    "\n",
    "ax.spines['right'].set_visible(False)\n",
    "ax.spines['left'].set_visible(False)\n",
    "ax.spines['bottom'].set_visible(False)\n",
    "\n",
    "#mp.savefig('saved-figures/oil-pipelines_top-20-countries.pdf', bbox_inches='tight', transparent=True)\n",
    "\n",
    "#adjust_spines(ax, ['top'])\n",
    "    \n",
    "mp.savefig('saved-figures/gas-pipelines_top-20-countries.png',\n",
    "          bbox_inches='tight', \n",
    "          transparent=True,\n",
    "          dpi=600)\n",
    "\n",
    "mp.savefig('saved-figures/gas-pipelines_top-20-countries.pdf',\n",
    "          bbox_inches='tight', \n",
    "          transparent=True)"
   ]
  },
  {
   "cell_type": "markdown",
   "id": "3b0980c1-af1a-4b83-a13e-ec9f8942a6ff",
   "metadata": {},
   "source": [
    "# top 20 without cancelled and shelved bars"
   ]
  },
  {
   "cell_type": "code",
   "execution_count": 32,
   "id": "f96b605e-5079-43e8-b117-5f5ebd2f708b",
   "metadata": {},
   "outputs": [
    {
     "data": {
      "image/png": "[encoded data removed]",
      "text/plain": [
       "<Figure size 486x288 with 1 Axes>"
      ]
     },
     "metadata": {
      "needs_background": "light"
     },
     "output_type": "display_data"
    }
   ],
   "source": [
    "sel_cmap = matplotlib.cm.get_cmap('Reds')\n",
    "#tracker_operating = sel_cmap(0.999)\n",
    "#tracker_construction = sel_cmap(0.8)\n",
    "#tracker_proposed = sel_cmap(0.6)\n",
    "#tracker_shelved = sel_cmap(0.4)\n",
    "#tracker_cancelled = sel_cmap(0.2)\n",
    "\n",
    "font_size = 7\n",
    "fig = mp.figure(figsize=(6.75,4))\n",
    "nbars=20\n",
    "\n",
    "country_order = km_by_country_df.index[:nbars][::-1]\n",
    "\n",
    "ax = fig.add_subplot(111)\n",
    "\n",
    "ax.barh(numpy.arange(nbars), \n",
    "        km_by_country_df.loc[country_order]['Construction'].values, \n",
    "        facecolor=sel_cmap(0.8),\n",
    "        label='Construction', height=0.6)\n",
    "\n",
    "ax.barh(numpy.arange(nbars), \n",
    "        km_by_country_df.loc[country_order]['Proposed'].values, \n",
    "        left=km_by_country_df.loc[country_order]['Construction'].values, \n",
    "        facecolor=sel_cmap(0.4),\n",
    "        label='Proposed', height=0.6)\n",
    "\n",
    "ax.set_yticks(numpy.arange(nbars))\n",
    "ax.set_yticklabels(km_by_country_df.index[:nbars][::-1])\n",
    "ax.tick_params(labelsize=font_size)\n",
    "ax.tick_params('x', pad=0)\n",
    "ax.set_xlim(0,60000)\n",
    "#ax.set_ylim(-.75,19.75)\n",
    "ax.set_ylim(-.25,20)\n",
    "ax.set_xlabel('km', size=font_size)#, labelpad=10)\n",
    "ax.xaxis.set_ticks_position('top')\n",
    "ax.xaxis.set_label_position('top')\n",
    "\n",
    "ax.legend(fontsize=font_size, frameon=False, loc='lower right')\n",
    "\n",
    "ax.spines['right'].set_visible(False)\n",
    "ax.spines['left'].set_visible(False)\n",
    "ax.spines['bottom'].set_visible(False)\n",
    "\n",
    "#ax.xaxis.grid(True, which='minor')\n",
    "ax.xaxis.set_minor_locator(matplotlib.ticker.AutoMinorLocator(2))\n",
    "\n",
    "\n",
    "#mp.savefig('saved-figures/oil-pipelines_top-20-countries.pdf', bbox_inches='tight', transparent=True)\n",
    "\n",
    "#adjust_spines(ax, ['top'])\n",
    "    \n",
    "mp.savefig('saved-figures/gas-pipelines_top-20-countries-no-cancelled-shelved.png',\n",
    "          bbox_inches='tight', \n",
    "          transparent=True,\n",
    "          dpi=600)\n",
    "\n",
    "mp.savefig('saved-figures/gas-pipelines_top-20-countries-no-cancelled-shelved.pdf',\n",
    "          bbox_inches='tight', \n",
    "          transparent=True)"
   ]
  },
  {
   "cell_type": "code",
   "execution_count": 33,
   "id": "3906d28f",
   "metadata": {},
   "outputs": [
    {
     "data": {
      "text/plain": [
       "3.4025712154059584"
      ]
     },
     "execution_count": 33,
     "metadata": {},
     "output_type": "execute_result"
    }
   ],
   "source": [
    "# ratio of China to India (how many times larger is km of Chinese pipelines than India?)\n",
    "km_by_country_df.loc['China']['Proposed+Construction']/km_by_country_df.loc['India']['Proposed+Construction']"
   ]
  },
  {
   "cell_type": "markdown",
   "id": "ef4ea45f-4fac-4b6f-a619-dd3ecd24b143",
   "metadata": {},
   "source": [
    "# parent analysis"
   ]
  },
  {
   "cell_type": "code",
   "execution_count": 35,
   "id": "f95329ed-9812-4d28-be52-35386c81df7f",
   "metadata": {},
   "outputs": [
    {
     "name": "stdout",
     "output_type": "stream",
     "text": [
      "Summit Group [70.00%]; ExxonMobil [30.00%]\n",
      "Enterprise Products Partners [100.00%]\n",
      "Enbridge [100.00%]\n",
      "Enbridge [100.00%]\n",
      "ExxonMobil [unknown %]; TC Energy [unknown %]\n",
      "Alaska Gasline Development Corporation [100.00%]\n",
      "Enbridge [100.00%]\n",
      "Enbridge [100.00%]\n",
      "Enbridge [50.00%]; Other [50.00%]\n",
      "TC Energy [100.00%]\n",
      "Williams Companies [100.00%]\n",
      "Enbridge [100.00%]\n",
      "Dominion Energy [45.00%]; Duke Energy [40.00%]; Piedmont Natural Gas [10.00%]; Southern Company Gas [5.00%]\n",
      "Williams Companies [100.00%]\n",
      "Enbridge [100.00%]\n",
      "TC Energy [100.00%]\n",
      "EnLink Midstream [unknown %]; Targa Resources [unknown %]\n",
      "TC Energy [100.00%]\n",
      "Enable Midstream Partners, LP [100.00%]\n",
      "Enable Midstream Partners, LP [100.00%]\n",
      "Enable Midstream Partners, LP [100.00%]\n",
      "Enable Midstream Partners, LP [50.00%]; Enbridge [50.00%]\n",
      "EnLink Midstream [100.00%]\n",
      "El Paso Corporation [100.00%]\n",
      "TC Energy [35.00%]; Alberta Investment Management Company [32.50%]; KKR Global Infrastructure Investors III [32.50%]\n",
      "Kinder Morgan [100.00%]\n",
      "TC Energy [100.00%]\n",
      "Capitol Energy Group [unknown %]; Inergy Holdings [unknown %]; UGI Corporation [unknown %]\n",
      "Williams Companies [51.00%]; Cabot Oil and Gas [25.00%]; Duke Energy [24.00%]\n",
      "TC Energy [100.00%]\n",
      "Fairwood Peninsula Energy Corporation [unknown %]; Golar LNG Limited [unknown %]\n",
      "BP [unknown %]; ConocoPhillips [unknown %]\n",
      "Third Coast Midstream, LLC [67.00%]; Enbridge [33.00%]\n",
      "Dominion Energy [100.00%]\n",
      "Tellurian Inc. [100.00%]\n",
      "FortisEnergy B.C. [100.00%]\n",
      "Enbridge [100.00%]\n",
      "Energy Transfer [100.00%]\n",
      "Chesapeake Utilities [100.00%]\n",
      "Kinder Morgan [100.00%]\n",
      "Third Coast Midstream, LLC [100.00%]\n",
      "KPC Pipeline [100.00%]\n",
      "Third Coast Midstream, LLC [100.00%]\n",
      "Delfin LNG LLC [100.00%]\n",
      "Energy Transfer [unknown %]; Kinder Morgan [unknown %]\n",
      "Energy Transfer [50.00%]; Kinder Morgan [50.00%]\n",
      "TC Energy [100.00%]\n",
      "Enbridge [100.00%]\n",
      "Venture Global LNG [100.00%]\n",
      "TC Energy [100.00%]\n",
      "ONEOK Partners [100.00%]\n",
      "Boardwalk Pipeline Partners [100.00%]\n",
      "Boardwalk Pipeline Partners [100.00%]\n",
      "Boardwalk Pipeline Partners [100.00%]\n",
      "Enbridge [50.00%]; Williams Companies [50.00%]\n",
      "Genesis Energy [100.00%]\n",
      "Kinder Morgan [unknown %]; Southern Company [unknown %]\n",
      "TC Energy [100.00%]\n",
      "Energy Transfer [100.00%]\n",
      "Enterprise Products Partners [100.00%]\n",
      "Dominion Energy [50.00%]; TC PipeLines, LP [49.30%]; TC Energy [0.70%]\n",
      "Berkshire Hathaway [100.00%]\n",
      "Tallgrass Energy [100.00%]\n",
      "TC Energy [100.00%]\n",
      "EnLink Midstream [100.00%]\n",
      "ExxonMobil [39.60%]; The Aboriginal Pipeline Group [33.30%]; ConocoPhillips [15.70%]; Shell [11.40%]\n",
      "Emera [unknown %]; Enbridge [unknown %]; ExxonMobil [unknown %]\n",
      "Energy Transfer [50.00%]; Kinder Morgan [50.00%]\n",
      "OneOK Inc. [unknown %]\n",
      "Kinder Morgan [100.00%]\n",
      "Millennium Pipeline [100.00%]\n",
      "Enbridge [100.00%]\n",
      "El Paso Corporation [100.00%]\n",
      "EQT Corporation [45.50%]; NextEra Energy, Inc. [31.00%]; Con Edison [12.50%]; AltaGas [10.00%]; RGC Resources [1.00%]\n"
     ]
    },
    {
     "ename": "IndexError",
     "evalue": "index 0 is out of bounds for axis 0 with size 0",
     "output_type": "error",
     "traceback": [
      "\u001b[0;31m---------------------------------------------------------------------------\u001b[0m",
      "\u001b[0;31mIndexError\u001b[0m                                Traceback (most recent call last)",
      "Input \u001b[0;32mIn [35]\u001b[0m, in \u001b[0;36m<module>\u001b[0;34m\u001b[0m\n\u001b[1;32m     18\u001b[0m             percent_list \u001b[38;5;241m+\u001b[39m\u001b[38;5;241m=\u001b[39m [leftover\u001b[38;5;241m/\u001b[39mnmissing]\u001b[38;5;241m*\u001b[39mnmissing\n\u001b[1;32m     20\u001b[0m     \u001b[38;5;28;01mfor\u001b[39;00m p_idx,parent \u001b[38;5;129;01min\u001b[39;00m \u001b[38;5;28menumerate\u001b[39m(parent_list):\n\u001b[1;32m     21\u001b[0m         owner_parent_calculations_df \u001b[38;5;241m=\u001b[39m pandas\u001b[38;5;241m.\u001b[39mconcat([owner_parent_calculations_df, \n\u001b[1;32m     22\u001b[0m                                                       pandas\u001b[38;5;241m.\u001b[39mDataFrame([{\u001b[38;5;124m'\u001b[39m\u001b[38;5;124mParent\u001b[39m\u001b[38;5;124m'\u001b[39m:parent, \u001b[38;5;124m'\u001b[39m\u001b[38;5;124mProjectID\u001b[39m\u001b[38;5;124m'\u001b[39m:row\u001b[38;5;241m.\u001b[39mProjectID, \n\u001b[1;32m     23\u001b[0m                                                                          \u001b[38;5;124m'\u001b[39m\u001b[38;5;124mFractionOwnership\u001b[39m\u001b[38;5;124m'\u001b[39m:percent_list[p_idx],\n\u001b[0;32m---> 24\u001b[0m                                                                          \u001b[38;5;124m'\u001b[39m\u001b[38;5;124mCountry\u001b[39m\u001b[38;5;124m'\u001b[39m:\u001b[43mparents_df\u001b[49m\u001b[38;5;241;43m.\u001b[39;49m\u001b[43mloc\u001b[49m\u001b[43m[\u001b[49m\u001b[43mparents_df\u001b[49m\u001b[38;5;241;43m.\u001b[39;49m\u001b[43mindex\u001b[49m\u001b[38;5;241;43m==\u001b[39;49m\u001b[43mparent\u001b[49m\u001b[43m]\u001b[49m\u001b[43m[\u001b[49m\u001b[38;5;124;43m'\u001b[39;49m\u001b[38;5;124;43mParentHQCountry\u001b[39;49m\u001b[38;5;124;43m'\u001b[39;49m\u001b[43m]\u001b[49m\u001b[38;5;241;43m.\u001b[39;49m\u001b[43mvalues\u001b[49m\u001b[43m[\u001b[49m\u001b[38;5;241;43m0\u001b[39;49m\u001b[43m]\u001b[49m,\n\u001b[1;32m     25\u001b[0m                                                                          \u001b[38;5;124m'\u001b[39m\u001b[38;5;124mStatus\u001b[39m\u001b[38;5;124m'\u001b[39m:row\u001b[38;5;241m.\u001b[39mStatus,\n\u001b[1;32m     26\u001b[0m                                                                          \u001b[38;5;124m'\u001b[39m\u001b[38;5;124mLengthMergedKm\u001b[39m\u001b[38;5;124m'\u001b[39m:row\u001b[38;5;241m.\u001b[39mLengthMergedKm,\n\u001b[1;32m     27\u001b[0m                                                                          \u001b[38;5;124m'\u001b[39m\u001b[38;5;124mCapacityBOEd\u001b[39m\u001b[38;5;124m'\u001b[39m:row\u001b[38;5;241m.\u001b[39mCapacityBOEd}])])\n\u001b[1;32m     29\u001b[0m owner_parent_calculations_df[\u001b[38;5;124m'\u001b[39m\u001b[38;5;124mKmOwnership\u001b[39m\u001b[38;5;124m'\u001b[39m] \u001b[38;5;241m=\u001b[39m owner_parent_calculations_df\u001b[38;5;241m.\u001b[39mFractionOwnership\u001b[38;5;241m*\u001b[39mowner_parent_calculations_df\u001b[38;5;241m.\u001b[39mLengthMergedKm\n\u001b[1;32m     30\u001b[0m owner_parent_calculations_df[\u001b[38;5;124m'\u001b[39m\u001b[38;5;124mCapacityOwnership\u001b[39m\u001b[38;5;124m'\u001b[39m] \u001b[38;5;241m=\u001b[39m owner_parent_calculations_df\u001b[38;5;241m.\u001b[39mFractionOwnership\u001b[38;5;241m*\u001b[39mowner_parent_calculations_df\u001b[38;5;241m.\u001b[39mCapacityBOEd\n",
      "\u001b[0;31mIndexError\u001b[0m: index 0 is out of bounds for axis 0 with size 0"
     ]
    }
   ],
   "source": [
    "owner_parent_calculations_df = pandas.DataFrame()\n",
    "# needs country, km in each country columns as well\n",
    "\n",
    "for idx,row in pipes_df_orig.loc[pipes_df_orig.Fuel=='Gas'].iterrows():\n",
    "    parent_string = row.Parent\n",
    "    print(parent_string)\n",
    "    parent_list = re.sub(' \\[.*?\\]', '', parent_string).split('; ') # all entries must have a Owner [%] syntax\n",
    "    percent_list = [float(i.rstrip('%'))/100. for i in re.findall('\\\\d+(?:\\\\.\\\\d+)?%', parent_string)]\n",
    "\n",
    "    if parent_list.__len__()!=percent_list.__len__():\n",
    "        if percent_list==[]:\n",
    "            percent_list = [1/parent_list.__len__() for i in parent_list]\n",
    "        else:\n",
    "            nmissing = parent_list.__len__()-percent_list.__len__()\n",
    "            # distribute nans evenly\n",
    "            total = numpy.nansum(percent_list)\n",
    "            leftover = 1-total\n",
    "            percent_list += [leftover/nmissing]*nmissing\n",
    "\n",
    "    for p_idx,parent in enumerate(parent_list):\n",
    "        owner_parent_calculations_df = pandas.concat([owner_parent_calculations_df, \n",
    "                                                      pandas.DataFrame([{'Parent':parent, 'ProjectID':row.ProjectID, \n",
    "                                                                         'FractionOwnership':percent_list[p_idx],\n",
    "                                                                         'Country':parents_df.loc[parents_df.index==parent]['ParentHQCountry'].values[0],\n",
    "                                                                         'Status':row.Status,\n",
    "                                                                         'LengthMergedKm':row.LengthMergedKm,\n",
    "                                                                         'CapacityBOEd':row.CapacityBOEd}])])\n",
    "\n",
    "owner_parent_calculations_df['KmOwnership'] = owner_parent_calculations_df.FractionOwnership*owner_parent_calculations_df.LengthMergedKm\n",
    "owner_parent_calculations_df['CapacityOwnership'] = owner_parent_calculations_df.FractionOwnership*owner_parent_calculations_df.CapacityBOEd"
   ]
  },
  {
   "cell_type": "markdown",
   "id": "d8b0603d-b6ea-47a4-a027-f7d933665b55",
   "metadata": {},
   "source": [
    "### companies invested in Russian infrastructure?\n",
    "\n",
    "it's really just ProjectIDs 2044 (Caspian Oil Pipeline), 3675 (Vostok Oil Pipeline), and 3679 (Sabo-Dagi Oil Pipeline)"
   ]
  },
  {
   "cell_type": "code",
   "execution_count": null,
   "id": "41e42270-fbb6-4dc1-9788-8b43bcacbd2b",
   "metadata": {},
   "outputs": [],
   "source": [
    "# project IDs of pipelines that pass through Russia and are construction/proposed\n",
    "russian_indev_projectids = country_ratios_oil_df.loc[(country_ratios_oil_df.Status.isin(['Proposed','Construction']))&\n",
    "                                                     (country_ratios_oil_df.Country=='Russia')]['ProjectID'].unique()\n",
    "#russian_indev_projectids\n",
    "russian_indev_op_df = owner_parent_calculations_df.loc[owner_parent_calculations_df.ProjectID.isin(russian_indev_projectids)]\n",
    "russian_indev_op_df.loc[russian_indev_op_df.Country!='Russia']\n",
    "\n"
   ]
  },
  {
   "cell_type": "markdown",
   "id": "2d82fc92-c9f5-4024-83f0-f0ec1a3bd69d",
   "metadata": {},
   "source": [
    "## biggest parent companies for in-dev stuff?"
   ]
  },
  {
   "cell_type": "code",
   "execution_count": 85,
   "id": "7181e89d-3596-49e5-81cb-cce3d38839dd",
   "metadata": {},
   "outputs": [
    {
     "ename": "KeyError",
     "evalue": "'Column not found: KmOwnership'",
     "output_type": "error",
     "traceback": [
      "\u001b[0;31m---------------------------------------------------------------------------\u001b[0m",
      "\u001b[0;31mKeyError\u001b[0m                                  Traceback (most recent call last)",
      "Input \u001b[0;32mIn [85]\u001b[0m, in \u001b[0;36m<module>\u001b[0;34m\u001b[0m\n\u001b[1;32m      1\u001b[0m pandas\u001b[38;5;241m.\u001b[39mDataFrame(\n\u001b[0;32m----> 2\u001b[0m     \u001b[43mowner_parent_calculations_df\u001b[49m\u001b[38;5;241;43m.\u001b[39;49m\u001b[43mloc\u001b[49m\u001b[43m[\u001b[49m\n\u001b[1;32m      3\u001b[0m \u001b[43m        \u001b[49m\u001b[43mowner_parent_calculations_df\u001b[49m\u001b[38;5;241;43m.\u001b[39;49m\u001b[43mStatus\u001b[49m\u001b[38;5;241;43m.\u001b[39;49m\u001b[43misin\u001b[49m\u001b[43m(\u001b[49m\u001b[43m[\u001b[49m\u001b[38;5;124;43m'\u001b[39;49m\u001b[38;5;124;43mProposed\u001b[39;49m\u001b[38;5;124;43m'\u001b[39;49m\u001b[43m,\u001b[49m\u001b[38;5;124;43m'\u001b[39;49m\u001b[38;5;124;43mConstruction\u001b[39;49m\u001b[38;5;124;43m'\u001b[39;49m\u001b[43m,\u001b[49m\u001b[38;5;124;43m'\u001b[39;49m\u001b[38;5;124;43mCountry\u001b[39;49m\u001b[38;5;124;43m'\u001b[39;49m\u001b[43m]\u001b[49m\u001b[43m)\u001b[49m\u001b[43m]\u001b[49m\u001b[38;5;241;43m.\u001b[39;49m\u001b[43mgroupby\u001b[49m\u001b[43m(\u001b[49m\n\u001b[1;32m      4\u001b[0m \u001b[43m        \u001b[49m\u001b[38;5;124;43m'\u001b[39;49m\u001b[38;5;124;43mParent\u001b[39;49m\u001b[38;5;124;43m'\u001b[39;49m\u001b[43m)\u001b[49m\u001b[43m[\u001b[49m\u001b[38;5;124;43m'\u001b[39;49m\u001b[38;5;124;43mKmOwnership\u001b[39;49m\u001b[38;5;124;43m'\u001b[39;49m\u001b[43m]\u001b[49m\u001b[38;5;241m.\u001b[39msum())\u001b[38;5;241m.\u001b[39msort_values(\u001b[38;5;124m'\u001b[39m\u001b[38;5;124mKmOwnership\u001b[39m\u001b[38;5;124m'\u001b[39m, ascending\u001b[38;5;241m=\u001b[39m\u001b[38;5;28;01mFalse\u001b[39;00m)[:\u001b[38;5;241m20\u001b[39m]\n",
      "File \u001b[0;32m~/miniconda3/envs/gem/lib/python3.9/site-packages/pandas/core/groupby/generic.py:1411\u001b[0m, in \u001b[0;36mDataFrameGroupBy.__getitem__\u001b[0;34m(self, key)\u001b[0m\n\u001b[1;32m   1402\u001b[0m \u001b[38;5;28;01mif\u001b[39;00m \u001b[38;5;28misinstance\u001b[39m(key, \u001b[38;5;28mtuple\u001b[39m) \u001b[38;5;129;01mand\u001b[39;00m \u001b[38;5;28mlen\u001b[39m(key) \u001b[38;5;241m>\u001b[39m \u001b[38;5;241m1\u001b[39m:\n\u001b[1;32m   1403\u001b[0m     \u001b[38;5;66;03m# if len == 1, then it becomes a SeriesGroupBy and this is actually\u001b[39;00m\n\u001b[1;32m   1404\u001b[0m     \u001b[38;5;66;03m# valid syntax, so don't raise warning\u001b[39;00m\n\u001b[1;32m   1405\u001b[0m     warnings\u001b[38;5;241m.\u001b[39mwarn(\n\u001b[1;32m   1406\u001b[0m         \u001b[38;5;124m\"\u001b[39m\u001b[38;5;124mIndexing with multiple keys (implicitly converted to a tuple \u001b[39m\u001b[38;5;124m\"\u001b[39m\n\u001b[1;32m   1407\u001b[0m         \u001b[38;5;124m\"\u001b[39m\u001b[38;5;124mof keys) will be deprecated, use a list instead.\u001b[39m\u001b[38;5;124m\"\u001b[39m,\n\u001b[1;32m   1408\u001b[0m         \u001b[38;5;167;01mFutureWarning\u001b[39;00m,\n\u001b[1;32m   1409\u001b[0m         stacklevel\u001b[38;5;241m=\u001b[39mfind_stack_level(inspect\u001b[38;5;241m.\u001b[39mcurrentframe()),\n\u001b[1;32m   1410\u001b[0m     )\n\u001b[0;32m-> 1411\u001b[0m \u001b[38;5;28;01mreturn\u001b[39;00m \u001b[38;5;28;43msuper\u001b[39;49m\u001b[43m(\u001b[49m\u001b[43m)\u001b[49m\u001b[38;5;241;43m.\u001b[39;49m\u001b[38;5;21;43m__getitem__\u001b[39;49m\u001b[43m(\u001b[49m\u001b[43mkey\u001b[49m\u001b[43m)\u001b[49m\n",
      "File \u001b[0;32m~/miniconda3/envs/gem/lib/python3.9/site-packages/pandas/core/base.py:248\u001b[0m, in \u001b[0;36mSelectionMixin.__getitem__\u001b[0;34m(self, key)\u001b[0m\n\u001b[1;32m    246\u001b[0m \u001b[38;5;28;01melse\u001b[39;00m:\n\u001b[1;32m    247\u001b[0m     \u001b[38;5;28;01mif\u001b[39;00m key \u001b[38;5;129;01mnot\u001b[39;00m \u001b[38;5;129;01min\u001b[39;00m \u001b[38;5;28mself\u001b[39m\u001b[38;5;241m.\u001b[39mobj:\n\u001b[0;32m--> 248\u001b[0m         \u001b[38;5;28;01mraise\u001b[39;00m \u001b[38;5;167;01mKeyError\u001b[39;00m(\u001b[38;5;124mf\u001b[39m\u001b[38;5;124m\"\u001b[39m\u001b[38;5;124mColumn not found: \u001b[39m\u001b[38;5;132;01m{\u001b[39;00mkey\u001b[38;5;132;01m}\u001b[39;00m\u001b[38;5;124m\"\u001b[39m)\n\u001b[1;32m    249\u001b[0m     subset \u001b[38;5;241m=\u001b[39m \u001b[38;5;28mself\u001b[39m\u001b[38;5;241m.\u001b[39mobj[key]\n\u001b[1;32m    250\u001b[0m     ndim \u001b[38;5;241m=\u001b[39m subset\u001b[38;5;241m.\u001b[39mndim\n",
      "\u001b[0;31mKeyError\u001b[0m: 'Column not found: KmOwnership'"
     ]
    }
   ],
   "source": [
    "pandas.DataFrame(\n",
    "    owner_parent_calculations_df.loc[\n",
    "        owner_parent_calculations_df.Status.isin(['Proposed','Construction','Country'])].groupby(\n",
    "        'Parent')['KmOwnership'].sum()).sort_values('KmOwnership', ascending=False)[:20]"
   ]
  },
  {
   "cell_type": "code",
   "execution_count": 86,
   "id": "694d3d2d-4df0-4713-b147-eef1d701b704",
   "metadata": {},
   "outputs": [
    {
     "ename": "KeyError",
     "evalue": "\"Columns not found: 'KmOwnership', 'CapacityOwnership'\"",
     "output_type": "error",
     "traceback": [
      "\u001b[0;31m---------------------------------------------------------------------------\u001b[0m",
      "\u001b[0;31mKeyError\u001b[0m                                  Traceback (most recent call last)",
      "Input \u001b[0;32mIn [86]\u001b[0m, in \u001b[0;36m<module>\u001b[0;34m\u001b[0m\n\u001b[1;32m      1\u001b[0m pandas\u001b[38;5;241m.\u001b[39mDataFrame(\n\u001b[0;32m----> 2\u001b[0m     \u001b[43mowner_parent_calculations_df\u001b[49m\u001b[38;5;241;43m.\u001b[39;49m\u001b[43mloc\u001b[49m\u001b[43m[\u001b[49m\n\u001b[1;32m      3\u001b[0m \u001b[43m        \u001b[49m\u001b[43mowner_parent_calculations_df\u001b[49m\u001b[38;5;241;43m.\u001b[39;49m\u001b[43mStatus\u001b[49m\u001b[38;5;241;43m.\u001b[39;49m\u001b[43misin\u001b[49m\u001b[43m(\u001b[49m\u001b[43m[\u001b[49m\u001b[38;5;124;43m'\u001b[39;49m\u001b[38;5;124;43mProposed\u001b[39;49m\u001b[38;5;124;43m'\u001b[39;49m\u001b[43m,\u001b[49m\u001b[38;5;124;43m'\u001b[39;49m\u001b[38;5;124;43mConstruction\u001b[39;49m\u001b[38;5;124;43m'\u001b[39;49m\u001b[43m]\u001b[49m\u001b[43m)\u001b[49m\u001b[43m]\u001b[49m\u001b[38;5;241;43m.\u001b[39;49m\u001b[43mgroupby\u001b[49m\u001b[43m(\u001b[49m\n\u001b[1;32m      4\u001b[0m \u001b[43m        \u001b[49m\u001b[43m[\u001b[49m\u001b[38;5;124;43m'\u001b[39;49m\u001b[38;5;124;43mParent\u001b[39;49m\u001b[38;5;124;43m'\u001b[39;49m\u001b[43m,\u001b[49m\u001b[38;5;124;43m'\u001b[39;49m\u001b[38;5;124;43mCountry\u001b[39;49m\u001b[38;5;124;43m'\u001b[39;49m\u001b[43m]\u001b[49m\u001b[43m)\u001b[49m\u001b[43m[\u001b[49m\u001b[43m[\u001b[49m\u001b[38;5;124;43m'\u001b[39;49m\u001b[38;5;124;43mKmOwnership\u001b[39;49m\u001b[38;5;124;43m'\u001b[39;49m\u001b[43m,\u001b[49m\u001b[38;5;124;43m'\u001b[39;49m\u001b[38;5;124;43mCapacityOwnership\u001b[39;49m\u001b[38;5;124;43m'\u001b[39;49m\u001b[43m]\u001b[49m\u001b[43m]\u001b[49m\u001b[38;5;241m.\u001b[39msum(min_count\u001b[38;5;241m=\u001b[39m\u001b[38;5;241m1\u001b[39m))\u001b[38;5;241m.\u001b[39msort_values(\u001b[38;5;124m'\u001b[39m\u001b[38;5;124mKmOwnership\u001b[39m\u001b[38;5;124m'\u001b[39m, ascending\u001b[38;5;241m=\u001b[39m\u001b[38;5;28;01mFalse\u001b[39;00m)[:\u001b[38;5;241m20\u001b[39m]\n",
      "File \u001b[0;32m~/miniconda3/envs/gem/lib/python3.9/site-packages/pandas/core/groupby/generic.py:1411\u001b[0m, in \u001b[0;36mDataFrameGroupBy.__getitem__\u001b[0;34m(self, key)\u001b[0m\n\u001b[1;32m   1402\u001b[0m \u001b[38;5;28;01mif\u001b[39;00m \u001b[38;5;28misinstance\u001b[39m(key, \u001b[38;5;28mtuple\u001b[39m) \u001b[38;5;129;01mand\u001b[39;00m \u001b[38;5;28mlen\u001b[39m(key) \u001b[38;5;241m>\u001b[39m \u001b[38;5;241m1\u001b[39m:\n\u001b[1;32m   1403\u001b[0m     \u001b[38;5;66;03m# if len == 1, then it becomes a SeriesGroupBy and this is actually\u001b[39;00m\n\u001b[1;32m   1404\u001b[0m     \u001b[38;5;66;03m# valid syntax, so don't raise warning\u001b[39;00m\n\u001b[1;32m   1405\u001b[0m     warnings\u001b[38;5;241m.\u001b[39mwarn(\n\u001b[1;32m   1406\u001b[0m         \u001b[38;5;124m\"\u001b[39m\u001b[38;5;124mIndexing with multiple keys (implicitly converted to a tuple \u001b[39m\u001b[38;5;124m\"\u001b[39m\n\u001b[1;32m   1407\u001b[0m         \u001b[38;5;124m\"\u001b[39m\u001b[38;5;124mof keys) will be deprecated, use a list instead.\u001b[39m\u001b[38;5;124m\"\u001b[39m,\n\u001b[1;32m   1408\u001b[0m         \u001b[38;5;167;01mFutureWarning\u001b[39;00m,\n\u001b[1;32m   1409\u001b[0m         stacklevel\u001b[38;5;241m=\u001b[39mfind_stack_level(inspect\u001b[38;5;241m.\u001b[39mcurrentframe()),\n\u001b[1;32m   1410\u001b[0m     )\n\u001b[0;32m-> 1411\u001b[0m \u001b[38;5;28;01mreturn\u001b[39;00m \u001b[38;5;28;43msuper\u001b[39;49m\u001b[43m(\u001b[49m\u001b[43m)\u001b[49m\u001b[38;5;241;43m.\u001b[39;49m\u001b[38;5;21;43m__getitem__\u001b[39;49m\u001b[43m(\u001b[49m\u001b[43mkey\u001b[49m\u001b[43m)\u001b[49m\n",
      "File \u001b[0;32m~/miniconda3/envs/gem/lib/python3.9/site-packages/pandas/core/base.py:238\u001b[0m, in \u001b[0;36mSelectionMixin.__getitem__\u001b[0;34m(self, key)\u001b[0m\n\u001b[1;32m    236\u001b[0m     \u001b[38;5;28;01mif\u001b[39;00m \u001b[38;5;28mlen\u001b[39m(\u001b[38;5;28mself\u001b[39m\u001b[38;5;241m.\u001b[39mobj\u001b[38;5;241m.\u001b[39mcolumns\u001b[38;5;241m.\u001b[39mintersection(key)) \u001b[38;5;241m!=\u001b[39m \u001b[38;5;28mlen\u001b[39m(\u001b[38;5;28mset\u001b[39m(key)):\n\u001b[1;32m    237\u001b[0m         bad_keys \u001b[38;5;241m=\u001b[39m \u001b[38;5;28mlist\u001b[39m(\u001b[38;5;28mset\u001b[39m(key)\u001b[38;5;241m.\u001b[39mdifference(\u001b[38;5;28mself\u001b[39m\u001b[38;5;241m.\u001b[39mobj\u001b[38;5;241m.\u001b[39mcolumns))\n\u001b[0;32m--> 238\u001b[0m         \u001b[38;5;28;01mraise\u001b[39;00m \u001b[38;5;167;01mKeyError\u001b[39;00m(\u001b[38;5;124mf\u001b[39m\u001b[38;5;124m\"\u001b[39m\u001b[38;5;124mColumns not found: \u001b[39m\u001b[38;5;132;01m{\u001b[39;00m\u001b[38;5;28mstr\u001b[39m(bad_keys)[\u001b[38;5;241m1\u001b[39m:\u001b[38;5;241m-\u001b[39m\u001b[38;5;241m1\u001b[39m]\u001b[38;5;132;01m}\u001b[39;00m\u001b[38;5;124m\"\u001b[39m)\n\u001b[1;32m    239\u001b[0m     \u001b[38;5;28;01mreturn\u001b[39;00m \u001b[38;5;28mself\u001b[39m\u001b[38;5;241m.\u001b[39m_gotitem(\u001b[38;5;28mlist\u001b[39m(key), ndim\u001b[38;5;241m=\u001b[39m\u001b[38;5;241m2\u001b[39m)\n\u001b[1;32m    241\u001b[0m \u001b[38;5;28;01melif\u001b[39;00m \u001b[38;5;129;01mnot\u001b[39;00m \u001b[38;5;28mgetattr\u001b[39m(\u001b[38;5;28mself\u001b[39m, \u001b[38;5;124m\"\u001b[39m\u001b[38;5;124mas_index\u001b[39m\u001b[38;5;124m\"\u001b[39m, \u001b[38;5;28;01mFalse\u001b[39;00m):\n",
      "\u001b[0;31mKeyError\u001b[0m: \"Columns not found: 'KmOwnership', 'CapacityOwnership'\""
     ]
    }
   ],
   "source": [
    "pandas.DataFrame(\n",
    "    owner_parent_calculations_df.loc[\n",
    "        owner_parent_calculations_df.Status.isin(['Proposed','Construction'])].groupby(\n",
    "        ['Parent','Country'])[['KmOwnership','CapacityOwnership']].sum(min_count=1)).sort_values('KmOwnership', ascending=False)[:20]"
   ]
  },
  {
   "cell_type": "markdown",
   "id": "8ce8efa2-8a00-4d90-8156-c9d40d316290",
   "metadata": {},
   "source": [
    "### how many of the projects for each owner do we have capacity data for? (add fraction)\n",
    "\n",
    "## emissions estimates"
   ]
  },
  {
   "cell_type": "code",
   "execution_count": 112,
   "id": "444f2dd9-336a-41aa-b288-15b8ea096f2a",
   "metadata": {},
   "outputs": [],
   "source": [
    "# kuhne paper\n",
    "co2_rate = 152.789 # number is 152,789 tCO2/year emissions per kilobarrel per day, divide by 1000 to get per bpd (bpd=BOEd)"
   ]
  },
  {
   "cell_type": "code",
   "execution_count": 113,
   "id": "97f3fd5d-3410-45aa-bc2a-67b048e1ce85",
   "metadata": {},
   "outputs": [],
   "source": [
    "# calculate the number of CapacityBOEd entries, and which of those are NaNs\n",
    "# https://stackoverflow.com/questions/14529838/apply-multiple-functions-to-multiple-groupby-columns\n",
    "pandas.set_option('display.max_colwidth', None)\n",
    "result = owner_parent_calculations_df.loc[\n",
    "    owner_parent_calculations_df.Status.isin(['Proposed','Construction'])].groupby(\n",
    "    ['Parent','Country'])[['KmOwnership','CapacityBOEd','ProjectID']].agg({'KmOwnership':lambda x: x.sum(min_count=1),\n",
    "                                                                           'CapacityBOEd':[lambda x: x.sum(min_count=1),\n",
    "                                                                                           lambda x: x.dropna().count()],\n",
    "                                                                           'ProjectID':[lambda x: list(x.unique()).__len__(),\n",
    "                                                                                        lambda x: list(x.unique()),\n",
    "                                                                                        lambda x: [pipes_df_orig.loc[pipes_df_orig.ProjectID==i]['PipelineName'] for i in x]\n",
    "                                                                                                  ]})\n",
    "\n",
    "result['HowManyProjectsHaveCapacityData'] = result[('CapacityBOEd','<lambda_1>')].astype(str) + ' of ' + result[('ProjectID','<lambda_0>')].astype(str)\n",
    "result[['KmOwnership','CapacityBOEd','HowManyProjectsHaveCapacityData']].sort_values(('KmOwnership','<lambda>'), ascending=False)[:20]\n",
    "result['EmissionsMtCO2PerYear'] = result[('CapacityBOEd','<lambda_0>')]*co2_rate/1e6"
   ]
  },
  {
   "cell_type": "raw",
   "id": "70a2debd-8aeb-4d0e-b2ff-d34fb648567f",
   "metadata": {},
   "source": [
    "result[[('KmOwnership','<lambda>'),\n",
    "        ('CapacityBOEd','<lambda_0>'),\n",
    "        ('EmissionsMtCO2PerYear',''),\n",
    "        ('HowManyProjectsHaveCapacityData',''),\n",
    "        ('ProjectID','<lambda_1>'),\n",
    "        ('ProjectID','<lambda_2>')]].sort_values(('KmOwnership','<lambda>'), ascending=False)[:20]"
   ]
  },
  {
   "cell_type": "markdown",
   "id": "a340a615-35b1-4a74-b9b6-67d6802de572",
   "metadata": {},
   "source": [
    "### total emissions globally (known capacity is at about 67%)"
   ]
  },
  {
   "cell_type": "code",
   "execution_count": 114,
   "id": "6033b566-6170-4c74-aa4e-510c323da40c",
   "metadata": {},
   "outputs": [
    {
     "name": "stdout",
     "output_type": "stream",
     "text": [
      "0.6551724137931034\n"
     ]
    },
    {
     "data": {
      "text/plain": [
       "4610.084677218931"
      ]
     },
     "execution_count": 114,
     "metadata": {},
     "output_type": "execute_result"
    }
   ],
   "source": [
    "pipes_df_subset = pipes_df_orig.loc[(pipes_df_orig.Status.isin(['Construction','Proposed']))&\n",
    "                                     (pipes_df_orig.Fuel=='Gas')]\n",
    "print(pipes_df_subset['CapacityBcm/y'].dropna().size / pipes_df_subset['CapacityBcm/y'].size)\n",
    "pipes_df_subset['CapacityBOEd'].sum() * co2_rate / 1e6"
   ]
  },
  {
   "cell_type": "code",
   "execution_count": 115,
   "id": "ae80b7e3-0361-4302-a4f8-aa92449e0121",
   "metadata": {},
   "outputs": [
    {
     "name": "stdout",
     "output_type": "stream",
     "text": [
      "0.6730769230769231\n"
     ]
    },
    {
     "data": {
      "text/plain": [
       "3336.5867548786496"
      ]
     },
     "execution_count": 115,
     "metadata": {},
     "output_type": "execute_result"
    }
   ],
   "source": [
    "pipes_df_subset = pipes_df_orig.loc[(pipes_df_orig.Status.isin(['Proposed']))&\n",
    "                                     (pipes_df_orig.Fuel=='Gas')]\n",
    "print(pipes_df_subset['CapacityBcm/y'].dropna().size / pipes_df_subset['CapacityBcm/y'].size)\n",
    "pipes_df_subset['CapacityBOEd'].sum() * co2_rate / 1e6"
   ]
  },
  {
   "cell_type": "code",
   "execution_count": 116,
   "id": "231d5617-cfc7-4c2d-a869-7d1e7fc4e399",
   "metadata": {},
   "outputs": [
    {
     "name": "stdout",
     "output_type": "stream",
     "text": [
      "0.6285714285714286\n"
     ]
    },
    {
     "data": {
      "text/plain": [
       "1273.4979223402795"
      ]
     },
     "execution_count": 116,
     "metadata": {},
     "output_type": "execute_result"
    }
   ],
   "source": [
    "pipes_df_subset = pipes_df_orig.loc[(pipes_df_orig.Status.isin(['Construction']))&\n",
    "                                     (pipes_df_orig.Fuel=='Gas')]\n",
    "print(pipes_df_subset['CapacityBcm/y'].dropna().size / pipes_df_subset['CapacityBcm/y'].size)\n",
    "pipes_df_subset['CapacityBOEd'].sum() * co2_rate / 1e6"
   ]
  },
  {
   "cell_type": "markdown",
   "id": "41f4171b-3170-4bbf-b3d8-19a53722d1b0",
   "metadata": {},
   "source": [
    "### count fraction of available capacity information\n",
    "\n",
    "count"
   ]
  },
  {
   "cell_type": "code",
   "execution_count": 36,
   "id": "a3406975-838c-4af0-80fa-bce2ab42718e",
   "metadata": {},
   "outputs": [
    {
     "data": {
      "text/plain": [
       "StartRegion\n",
       "Australia and New Zealand          23\n",
       "East Asia                          91\n",
       "Eurasia                            11\n",
       "Europe                             43\n",
       "Latin America and the Caribbean    29\n",
       "Middle East and North Africa        8\n",
       "North America                      15\n",
       "SE Asia                             2\n",
       "South Asia                         26\n",
       "Sub-Saharan Africa                  6\n",
       "Name: CapacityBOEd, dtype: int64"
      ]
     },
     "execution_count": 36,
     "metadata": {},
     "output_type": "execute_result"
    }
   ],
   "source": [
    "pipes_df_subset = pipes_df_orig.loc[(pipes_df_orig.Status.isin(['Construction','Proposed']))&\n",
    "                                     (pipes_df_orig.Fuel=='Gas')]\n",
    "pipes_df_subset.loc[~pipes_df_subset['CapacityBcm/y'].isna()].groupby('StartRegion')['CapacityBOEd'].size()\n",
    "#pipes_df_subset.groupby('StartRegion')['CapacityBcm/y'].size()"
   ]
  },
  {
   "cell_type": "markdown",
   "id": "a09616ff-3225-4c93-9ce9-b38cb04a5612",
   "metadata": {},
   "source": [
    "fraction"
   ]
  },
  {
   "cell_type": "code",
   "execution_count": 37,
   "id": "2b464411-7db6-4575-ae23-a6d2c49f635d",
   "metadata": {},
   "outputs": [
    {
     "data": {
      "text/html": [
       "<div>\n",
       "<style scoped>\n",
       "    .dataframe tbody tr th:only-of-type {\n",
       "        vertical-align: middle;\n",
       "    }\n",
       "\n",
       "    .dataframe tbody tr th {\n",
       "        vertical-align: top;\n",
       "    }\n",
       "\n",
       "    .dataframe thead th {\n",
       "        text-align: right;\n",
       "    }\n",
       "</style>\n",
       "<table border=\"1\" class=\"dataframe\">\n",
       "  <thead>\n",
       "    <tr style=\"text-align: right;\">\n",
       "      <th></th>\n",
       "      <th>0</th>\n",
       "    </tr>\n",
       "    <tr>\n",
       "      <th>StartRegion</th>\n",
       "      <th></th>\n",
       "    </tr>\n",
       "  </thead>\n",
       "  <tbody>\n",
       "    <tr>\n",
       "      <th>Latin America and the Caribbean</th>\n",
       "      <td>0.935</td>\n",
       "    </tr>\n",
       "    <tr>\n",
       "      <th>Australia and New Zealand</th>\n",
       "      <td>0.821</td>\n",
       "    </tr>\n",
       "    <tr>\n",
       "      <th>Eurasia</th>\n",
       "      <td>0.786</td>\n",
       "    </tr>\n",
       "    <tr>\n",
       "      <th>South Asia</th>\n",
       "      <td>0.703</td>\n",
       "    </tr>\n",
       "    <tr>\n",
       "      <th>East Asia</th>\n",
       "      <td>0.583</td>\n",
       "    </tr>\n",
       "    <tr>\n",
       "      <th>Middle East and North Africa</th>\n",
       "      <td>0.533</td>\n",
       "    </tr>\n",
       "    <tr>\n",
       "      <th>Europe</th>\n",
       "      <td>0.494</td>\n",
       "    </tr>\n",
       "    <tr>\n",
       "      <th>North America</th>\n",
       "      <td>0.469</td>\n",
       "    </tr>\n",
       "    <tr>\n",
       "      <th>Sub-Saharan Africa</th>\n",
       "      <td>0.273</td>\n",
       "    </tr>\n",
       "    <tr>\n",
       "      <th>SE Asia</th>\n",
       "      <td>0.182</td>\n",
       "    </tr>\n",
       "  </tbody>\n",
       "</table>\n",
       "</div>"
      ],
      "text/plain": [
       "                                    0\n",
       "StartRegion                          \n",
       "Latin America and the Caribbean 0.935\n",
       "Australia and New Zealand       0.821\n",
       "Eurasia                         0.786\n",
       "South Asia                      0.703\n",
       "East Asia                       0.583\n",
       "Middle East and North Africa    0.533\n",
       "Europe                          0.494\n",
       "North America                   0.469\n",
       "Sub-Saharan Africa              0.273\n",
       "SE Asia                         0.182"
      ]
     },
     "execution_count": 37,
     "metadata": {},
     "output_type": "execute_result"
    }
   ],
   "source": [
    "pandas.options.display.float_format = '{:,.3f}'.format\n",
    "pandas.DataFrame(pipes_df_subset.loc[\n",
    "    ~pipes_df_subset['CapacityBcm/y'].isna()].groupby(\n",
    "    'StartRegion')['CapacityBcm/y'].size()/pipes_df_subset.groupby(\n",
    "    'StartRegion')['CapacityBOEd'].size()).sort_values(by=0, ascending=False)"
   ]
  },
  {
   "cell_type": "code",
   "execution_count": 38,
   "id": "9f9ba63d-9317-40dd-b820-c7505a4b7150",
   "metadata": {},
   "outputs": [],
   "source": [
    "median_capacity = pipes_df_orig['CapacityBcm/y'].median()"
   ]
  },
  {
   "cell_type": "code",
   "execution_count": 39,
   "id": "0e61fd80-1863-4ba9-ac45-a761cc99a55c",
   "metadata": {},
   "outputs": [],
   "source": [
    "abs_dist_from_med_capacity = abs(pipes_df_orig['CapacityBcm/y']-pipes_df_orig['CapacityBcm/y'].median()).median()"
   ]
  },
  {
   "cell_type": "code",
   "execution_count": 40,
   "id": "14cce16f-8d3e-4e63-ae7a-edf55d21b921",
   "metadata": {},
   "outputs": [
    {
     "data": {
      "text/plain": [
       "246.5564427860697"
      ]
     },
     "execution_count": 40,
     "metadata": {},
     "output_type": "execute_result"
    }
   ],
   "source": [
    "pipes_df_orig['CapacityBcm/y'].mean()"
   ]
  },
  {
   "cell_type": "code",
   "execution_count": 41,
   "id": "61dc2bcc-bf3f-414c-bc06-bb824d49d1e5",
   "metadata": {},
   "outputs": [
    {
     "data": {
      "text/plain": [
       "628.1353143829608"
      ]
     },
     "execution_count": 41,
     "metadata": {},
     "output_type": "execute_result"
    }
   ],
   "source": [
    "pipes_df_orig['CapacityBcm/y'].std()"
   ]
  },
  {
   "cell_type": "code",
   "execution_count": 42,
   "id": "c054d9ed-986a-432f-a234-826e2438144b",
   "metadata": {},
   "outputs": [
    {
     "name": "stdout",
     "output_type": "stream",
     "text": [
      "10.34\n",
      "9.745000000000001\n"
     ]
    }
   ],
   "source": [
    "print(median_capacity)\n",
    "print(abs_dist_from_med_capacity)"
   ]
  },
  {
   "cell_type": "markdown",
   "id": "8481ce32-c7f6-47fd-893e-4db28fbda279",
   "metadata": {},
   "source": [
    "median capacity for a pipeline is about 10.34 bcm/y\n",
    "\n",
    "median abs dist from the median is about 9.75."
   ]
  },
  {
   "cell_type": "markdown",
   "id": "fb98d85a",
   "metadata": {},
   "source": [
    "# cost estimates (pipeline cost per km)\n",
    "\n",
    "throwing out any estimates larger than USD 10 million per km for taking regional estimates"
   ]
  },
  {
   "cell_type": "code",
   "execution_count": 54,
   "id": "e83b508d-5fed-4b45-8cdf-d6ebb7850d58",
   "metadata": {},
   "outputs": [],
   "source": [
    "# pull out only pipelines that have a KNOWN length AND a cost\n",
    "country_ratios_with_length_and_cost_df = country_ratios_df.copy()[(country_ratios_df['Fuel']=='Gas') & \n",
    "                                    (country_ratios_df['CostUSDPerKm'].notna()) & \n",
    "                                    (country_ratios_df['LengthKnownKmByCountry'].notna()) &\n",
    "                                    (country_ratios_df['LengthKnownKm']!=0) &\n",
    "                                    (country_ratios_df['CostUSDPerKm']<10e6)\n",
    "                                   ]\n",
    "#country_ratios_with_length_and_cost_df = country_ratios_with_length_and_cost_df[~country_ratios_with_length_and_cost_df.ProjectID.isin(outliers_projectids)]"
   ]
  },
  {
   "cell_type": "markdown",
   "id": "a60996ff-c763-46a6-8576-cffa78c2fcbb",
   "metadata": {},
   "source": [
    "### global mean value"
   ]
  },
  {
   "cell_type": "code",
   "execution_count": 55,
   "id": "cf567357-e85c-4afc-b618-e35a0feef254",
   "metadata": {},
   "outputs": [
    {
     "data": {
      "text/plain": [
       "2411610.589168704"
      ]
     },
     "execution_count": 55,
     "metadata": {},
     "output_type": "execute_result"
    }
   ],
   "source": [
    "country_ratios_with_length_and_cost_df['CostUSDPerKm'].drop_duplicates().mean()"
   ]
  },
  {
   "cell_type": "markdown",
   "id": "9754a8d9-5d70-448d-a6ae-75efcd2a6054",
   "metadata": {},
   "source": [
    "### calculate regional costs"
   ]
  },
  {
   "cell_type": "code",
   "execution_count": 56,
   "id": "187bd845-39f3-4c5a-8618-723262516a27",
   "metadata": {},
   "outputs": [
    {
     "name": "stdout",
     "output_type": "stream",
     "text": [
      "Australia and New Zealand\n",
      "East Asia\n",
      "Eurasia\n",
      "Europe\n",
      "Latin America and the Caribbean\n",
      "Middle East and North Africa\n",
      "North America\n",
      "SE Asia\n",
      "South Asia\n",
      "Sub-Saharan Africa\n"
     ]
    }
   ],
   "source": [
    "pipes_oil_costs_region_df = pandas.DataFrame(0, index=region_list, columns=['CostUSDPerKm','DataPoints'])#,'NumberOfLengths'])\n",
    "\n",
    "for region in region_list:\n",
    "    print(region)\n",
    "    country_ratios_region_df = country_ratios_with_length_and_cost_df.loc[country_ratios_with_length_and_cost_df['Region']==region,:]\n",
    "    pipes_oil_costs_region_df.loc[region,'CostUSDPerKm'] = country_ratios_region_df['CostUSDPerKm'].mean()\n",
    "    pipes_oil_costs_region_df.loc[region,'DataPoints'] = list(set(country_ratios_region_df['ProjectID'])).__len__()\n",
    "    #pipes_oil_costs_region_df.loc[region,'NumberOfLengths'] = list(set(country_ratios_region_df['ProjectID'])).__len__()\n"
   ]
  },
  {
   "cell_type": "code",
   "execution_count": 57,
   "id": "8f569977-8814-43da-bc18-3b665f94ad33",
   "metadata": {},
   "outputs": [
    {
     "data": {
      "text/plain": [
       "4001946.7805"
      ]
     },
     "execution_count": 57,
     "metadata": {},
     "output_type": "execute_result"
    }
   ],
   "source": [
    "country_ratios_region_df['CostUSDPerKm'].mean()"
   ]
  },
  {
   "cell_type": "code",
   "execution_count": 58,
   "id": "ab782465-c43a-40f9-9def-14b4fb37dcca",
   "metadata": {},
   "outputs": [
    {
     "data": {
      "text/html": [
       "<div>\n",
       "<style scoped>\n",
       "    .dataframe tbody tr th:only-of-type {\n",
       "        vertical-align: middle;\n",
       "    }\n",
       "\n",
       "    .dataframe tbody tr th {\n",
       "        vertical-align: top;\n",
       "    }\n",
       "\n",
       "    .dataframe thead th {\n",
       "        text-align: right;\n",
       "    }\n",
       "</style>\n",
       "<table border=\"1\" class=\"dataframe\">\n",
       "  <thead>\n",
       "    <tr style=\"text-align: right;\">\n",
       "      <th></th>\n",
       "      <th>CostUSDPerKm</th>\n",
       "      <th>DataPoints</th>\n",
       "    </tr>\n",
       "  </thead>\n",
       "  <tbody>\n",
       "    <tr>\n",
       "      <th>Sub-Saharan Africa</th>\n",
       "      <td>4.00</td>\n",
       "      <td>5</td>\n",
       "    </tr>\n",
       "    <tr>\n",
       "      <th>North America</th>\n",
       "      <td>3.47</td>\n",
       "      <td>133</td>\n",
       "    </tr>\n",
       "    <tr>\n",
       "      <th>Eurasia</th>\n",
       "      <td>2.93</td>\n",
       "      <td>41</td>\n",
       "    </tr>\n",
       "    <tr>\n",
       "      <th>Latin America and the Caribbean</th>\n",
       "      <td>2.87</td>\n",
       "      <td>23</td>\n",
       "    </tr>\n",
       "    <tr>\n",
       "      <th>Europe</th>\n",
       "      <td>2.49</td>\n",
       "      <td>111</td>\n",
       "    </tr>\n",
       "    <tr>\n",
       "      <th>SE Asia</th>\n",
       "      <td>2.37</td>\n",
       "      <td>8</td>\n",
       "    </tr>\n",
       "    <tr>\n",
       "      <th>Middle East and North Africa</th>\n",
       "      <td>2.22</td>\n",
       "      <td>35</td>\n",
       "    </tr>\n",
       "    <tr>\n",
       "      <th>South Asia</th>\n",
       "      <td>1.66</td>\n",
       "      <td>17</td>\n",
       "    </tr>\n",
       "    <tr>\n",
       "      <th>East Asia</th>\n",
       "      <td>1.45</td>\n",
       "      <td>54</td>\n",
       "    </tr>\n",
       "    <tr>\n",
       "      <th>Australia and New Zealand</th>\n",
       "      <td>1.31</td>\n",
       "      <td>10</td>\n",
       "    </tr>\n",
       "  </tbody>\n",
       "</table>\n",
       "</div>"
      ],
      "text/plain": [
       "                                 CostUSDPerKm  DataPoints\n",
       "Sub-Saharan Africa                       4.00           5\n",
       "North America                            3.47         133\n",
       "Eurasia                                  2.93          41\n",
       "Latin America and the Caribbean          2.87          23\n",
       "Europe                                   2.49         111\n",
       "SE Asia                                  2.37           8\n",
       "Middle East and North Africa             2.22          35\n",
       "South Asia                               1.66          17\n",
       "East Asia                                1.45          54\n",
       "Australia and New Zealand                1.31          10"
      ]
     },
     "execution_count": 58,
     "metadata": {},
     "output_type": "execute_result"
    }
   ],
   "source": [
    "pandas.options.display.float_format = '{:,.2f}'.format\n",
    "temp_df = pipes_oil_costs_region_df\n",
    "temp_df['CostUSDPerKm'] /= 1e6\n",
    "temp_df.sort_values('CostUSDPerKm', ascending=False)#.loc[region]['CostUSDPerKm']"
   ]
  },
  {
   "cell_type": "code",
   "execution_count": 59,
   "id": "e0b2972c-da89-4cf6-b832-5dace38cf651",
   "metadata": {},
   "outputs": [
    {
     "data": {
      "text/html": [
       "<div>\n",
       "<style scoped>\n",
       "    .dataframe tbody tr th:only-of-type {\n",
       "        vertical-align: middle;\n",
       "    }\n",
       "\n",
       "    .dataframe tbody tr th {\n",
       "        vertical-align: top;\n",
       "    }\n",
       "\n",
       "    .dataframe thead th {\n",
       "        text-align: right;\n",
       "    }\n",
       "</style>\n",
       "<table border=\"1\" class=\"dataframe\">\n",
       "  <thead>\n",
       "    <tr style=\"text-align: right;\">\n",
       "      <th></th>\n",
       "      <th>CostUSDPerKm</th>\n",
       "      <th>DataPoints</th>\n",
       "    </tr>\n",
       "  </thead>\n",
       "  <tbody>\n",
       "    <tr>\n",
       "      <th>Australia and New Zealand</th>\n",
       "      <td>1.307</td>\n",
       "      <td>10</td>\n",
       "    </tr>\n",
       "    <tr>\n",
       "      <th>East Asia</th>\n",
       "      <td>1.446</td>\n",
       "      <td>54</td>\n",
       "    </tr>\n",
       "    <tr>\n",
       "      <th>Eurasia</th>\n",
       "      <td>2.933</td>\n",
       "      <td>41</td>\n",
       "    </tr>\n",
       "    <tr>\n",
       "      <th>Europe</th>\n",
       "      <td>2.488</td>\n",
       "      <td>111</td>\n",
       "    </tr>\n",
       "    <tr>\n",
       "      <th>Latin America and the Caribbean</th>\n",
       "      <td>2.869</td>\n",
       "      <td>23</td>\n",
       "    </tr>\n",
       "    <tr>\n",
       "      <th>Middle East and North Africa</th>\n",
       "      <td>2.224</td>\n",
       "      <td>35</td>\n",
       "    </tr>\n",
       "    <tr>\n",
       "      <th>North America</th>\n",
       "      <td>3.469</td>\n",
       "      <td>133</td>\n",
       "    </tr>\n",
       "    <tr>\n",
       "      <th>SE Asia</th>\n",
       "      <td>2.366</td>\n",
       "      <td>8</td>\n",
       "    </tr>\n",
       "    <tr>\n",
       "      <th>South Asia</th>\n",
       "      <td>1.663</td>\n",
       "      <td>17</td>\n",
       "    </tr>\n",
       "    <tr>\n",
       "      <th>Sub-Saharan Africa</th>\n",
       "      <td>4.002</td>\n",
       "      <td>5</td>\n",
       "    </tr>\n",
       "  </tbody>\n",
       "</table>\n",
       "</div>"
      ],
      "text/plain": [
       "                                 CostUSDPerKm  DataPoints\n",
       "Australia and New Zealand               1.307          10\n",
       "East Asia                               1.446          54\n",
       "Eurasia                                 2.933          41\n",
       "Europe                                  2.488         111\n",
       "Latin America and the Caribbean         2.869          23\n",
       "Middle East and North Africa            2.224          35\n",
       "North America                           3.469         133\n",
       "SE Asia                                 2.366           8\n",
       "South Asia                              1.663          17\n",
       "Sub-Saharan Africa                      4.002           5"
      ]
     },
     "execution_count": 59,
     "metadata": {},
     "output_type": "execute_result"
    }
   ],
   "source": [
    "pandas.options.display.float_format = '{:,.3f}'.format\n",
    "pipes_oil_costs_region_df#.loc[region]['CostUSDPerKm']"
   ]
  },
  {
   "cell_type": "raw",
   "id": "f538f058-cba2-43cf-8858-d9e4f0fdf85a",
   "metadata": {},
   "source": [
    "country_ratios_region_df"
   ]
  },
  {
   "cell_type": "raw",
   "id": "fe81636e-ed10-488c-979b-3138698fdecb",
   "metadata": {},
   "source": [
    "country_ratios_with_length_and_cost_df"
   ]
  },
  {
   "cell_type": "markdown",
   "id": "f9ee664c-930f-47ca-b605-c84012c6e2df",
   "metadata": {},
   "source": [
    "### table for methodology with regional cost info"
   ]
  },
  {
   "cell_type": "code",
   "execution_count": 60,
   "id": "d3dda312-986c-4ea7-b628-ff1b4d1c257a",
   "metadata": {},
   "outputs": [
    {
     "data": {
      "text/html": [
       "<div>\n",
       "<style scoped>\n",
       "    .dataframe tbody tr th:only-of-type {\n",
       "        vertical-align: middle;\n",
       "    }\n",
       "\n",
       "    .dataframe tbody tr th {\n",
       "        vertical-align: top;\n",
       "    }\n",
       "\n",
       "    .dataframe thead th {\n",
       "        text-align: right;\n",
       "    }\n",
       "</style>\n",
       "<table border=\"1\" class=\"dataframe\">\n",
       "  <thead>\n",
       "    <tr style=\"text-align: right;\">\n",
       "      <th></th>\n",
       "      <th>CostUSDPerKm</th>\n",
       "      <th>DataPoints</th>\n",
       "    </tr>\n",
       "  </thead>\n",
       "  <tbody>\n",
       "    <tr>\n",
       "      <th>Australia and New Zealand</th>\n",
       "      <td>1.307</td>\n",
       "      <td>10</td>\n",
       "    </tr>\n",
       "    <tr>\n",
       "      <th>East Asia</th>\n",
       "      <td>1.446</td>\n",
       "      <td>54</td>\n",
       "    </tr>\n",
       "    <tr>\n",
       "      <th>Eurasia</th>\n",
       "      <td>2.933</td>\n",
       "      <td>41</td>\n",
       "    </tr>\n",
       "    <tr>\n",
       "      <th>Europe</th>\n",
       "      <td>2.488</td>\n",
       "      <td>111</td>\n",
       "    </tr>\n",
       "    <tr>\n",
       "      <th>Latin America and the Caribbean</th>\n",
       "      <td>2.869</td>\n",
       "      <td>23</td>\n",
       "    </tr>\n",
       "    <tr>\n",
       "      <th>Middle East and North Africa</th>\n",
       "      <td>2.224</td>\n",
       "      <td>35</td>\n",
       "    </tr>\n",
       "    <tr>\n",
       "      <th>North America</th>\n",
       "      <td>3.469</td>\n",
       "      <td>133</td>\n",
       "    </tr>\n",
       "    <tr>\n",
       "      <th>SE Asia</th>\n",
       "      <td>2.366</td>\n",
       "      <td>8</td>\n",
       "    </tr>\n",
       "    <tr>\n",
       "      <th>South Asia</th>\n",
       "      <td>1.663</td>\n",
       "      <td>17</td>\n",
       "    </tr>\n",
       "    <tr>\n",
       "      <th>Sub-Saharan Africa</th>\n",
       "      <td>4.002</td>\n",
       "      <td>5</td>\n",
       "    </tr>\n",
       "  </tbody>\n",
       "</table>\n",
       "</div>"
      ],
      "text/plain": [
       "                                 CostUSDPerKm  DataPoints\n",
       "Australia and New Zealand               1.307          10\n",
       "East Asia                               1.446          54\n",
       "Eurasia                                 2.933          41\n",
       "Europe                                  2.488         111\n",
       "Latin America and the Caribbean         2.869          23\n",
       "Middle East and North Africa            2.224          35\n",
       "North America                           3.469         133\n",
       "SE Asia                                 2.366           8\n",
       "South Asia                              1.663          17\n",
       "Sub-Saharan Africa                      4.002           5"
      ]
     },
     "execution_count": 60,
     "metadata": {},
     "output_type": "execute_result"
    }
   ],
   "source": [
    "pipes_oil_costs_region_df"
   ]
  },
  {
   "cell_type": "markdown",
   "id": "22cb04dc-3e08-43ec-8efd-51387768d17f",
   "metadata": {},
   "source": [
    "### calculate country-level costs"
   ]
  },
  {
   "cell_type": "raw",
   "id": "f6d4b936-1617-4196-b270-4754f4f75147",
   "metadata": {},
   "source": [
    "#country_list_for_costs = sorted(list(set(country_ratios_with_length_and_cost_df['Country'])))\n",
    "pipes_oil_costs_country_df = pandas.DataFrame(0, index=country_list, columns=['CostUSDPerKm','NumberOfCosts','NumberOfLengths'])\n",
    "\n",
    "for country in country_list:#_for_costs:\n",
    "    #print(country)\n",
    "    country_ratios_country_df = country_ratios_with_length_and_cost_df[country_ratios_with_length_and_cost_df['Country']==country]\n",
    "    pipes_oil_costs_country_df.loc[country,'CostUSDPerKm'] = country_ratios_country_df['CostUSDPerKm'].mean()\n",
    "    pipes_oil_costs_country_df.loc[country,'NumberOfCosts'] = list(set(country_ratios_country_df['ProjectID'])).__len__()\n",
    "    pipes_oil_costs_country_df.loc[country,'NumberOfLengths'] = list(set(country_ratios_country_df['ProjectID'])).__len__()"
   ]
  },
  {
   "cell_type": "raw",
   "id": "f3ef70dd-626f-4bd8-8d61-feb899599542",
   "metadata": {},
   "source": [
    "pipes_df_orig.loc[(pipes_df_orig.Fuel=='Gas')&\n",
    "                  (pipes_df_orig.Status.isin(['Construction','Proposed']))&\n",
    "                  (pipes_df_orig.Route!='Capacity expansion only')].count()"
   ]
  },
  {
   "cell_type": "raw",
   "id": "3c5df307-f226-4ba5-b2a3-be847f857787",
   "metadata": {},
   "source": [
    "pipes_df_orig.loc[(pipes_df_orig.Fuel=='Gas')&\n",
    "                  (pipes_df_orig.Status.isin(['Construction','Proposed']))&\n",
    "                  (pipes_df_orig.Route=='Capacity expansion only')]['CapacityBOEd'].sum()"
   ]
  },
  {
   "cell_type": "markdown",
   "id": "a99048f2-e80e-41a0-be0a-b40942963375",
   "metadata": {},
   "source": [
    "# tables etc."
   ]
  },
  {
   "cell_type": "markdown",
   "id": "f5242bbf-f1a7-4e90-9e91-90fbdb5bca2f",
   "metadata": {},
   "source": [
    "## table for regional totals"
   ]
  },
  {
   "cell_type": "code",
   "execution_count": 62,
   "id": "f804568d-5a95-490f-8245-d87042a15fee",
   "metadata": {},
   "outputs": [
    {
     "name": "stderr",
     "output_type": "stream",
     "text": [
      "/var/folders/h5/nfk59_vx7gg_58myc9jfk7_40000gn/T/ipykernel_36788/997741405.py:5: FutureWarning: The frame.append method is deprecated and will be removed from pandas in a future version. Use pandas.concat instead.\n",
      "  km_by_region_df = km_by_region_df.append(total)\n"
     ]
    },
    {
     "data": {
      "text/html": [
       "<div>\n",
       "<style scoped>\n",
       "    .dataframe tbody tr th:only-of-type {\n",
       "        vertical-align: middle;\n",
       "    }\n",
       "\n",
       "    .dataframe tbody tr th {\n",
       "        vertical-align: top;\n",
       "    }\n",
       "\n",
       "    .dataframe thead th {\n",
       "        text-align: right;\n",
       "    }\n",
       "</style>\n",
       "<table border=\"1\" class=\"dataframe\">\n",
       "  <thead>\n",
       "    <tr style=\"text-align: right;\">\n",
       "      <th></th>\n",
       "      <th>Proposed</th>\n",
       "      <th>Construction</th>\n",
       "      <th>Proposed+Construction</th>\n",
       "      <th>Shelved</th>\n",
       "      <th>Cancelled</th>\n",
       "      <th>Operating</th>\n",
       "      <th>Idle</th>\n",
       "      <th>Mothballed</th>\n",
       "      <th>Retired</th>\n",
       "    </tr>\n",
       "  </thead>\n",
       "  <tbody>\n",
       "    <tr>\n",
       "      <th>East Asia</th>\n",
       "      <td>31,379.310</td>\n",
       "      <td>26,378.730</td>\n",
       "      <td>57,758.040</td>\n",
       "      <td>2,067.660</td>\n",
       "      <td>1,364.510</td>\n",
       "      <td>92,288.710</td>\n",
       "      <td>0.000</td>\n",
       "      <td>0.000</td>\n",
       "      <td>41.000</td>\n",
       "    </tr>\n",
       "    <tr>\n",
       "      <th>Eurasia</th>\n",
       "      <td>18,323.850</td>\n",
       "      <td>5,153.090</td>\n",
       "      <td>23,476.940</td>\n",
       "      <td>272.690</td>\n",
       "      <td>5,756.890</td>\n",
       "      <td>129,176.250</td>\n",
       "      <td>0.000</td>\n",
       "      <td>3,298.310</td>\n",
       "      <td>1,783.240</td>\n",
       "    </tr>\n",
       "    <tr>\n",
       "      <th>South Asia</th>\n",
       "      <td>4,222.570</td>\n",
       "      <td>17,113.790</td>\n",
       "      <td>21,336.360</td>\n",
       "      <td>6,344.410</td>\n",
       "      <td>6,141.070</td>\n",
       "      <td>29,669.320</td>\n",
       "      <td>0.000</td>\n",
       "      <td>0.000</td>\n",
       "      <td>35.000</td>\n",
       "    </tr>\n",
       "    <tr>\n",
       "      <th>Europe</th>\n",
       "      <td>17,638.780</td>\n",
       "      <td>2,836.190</td>\n",
       "      <td>20,474.970</td>\n",
       "      <td>5,539.470</td>\n",
       "      <td>14,017.440</td>\n",
       "      <td>121,121.210</td>\n",
       "      <td>0.000</td>\n",
       "      <td>4,735.180</td>\n",
       "      <td>823.060</td>\n",
       "    </tr>\n",
       "    <tr>\n",
       "      <th>Sub-Saharan Africa</th>\n",
       "      <td>18,833.160</td>\n",
       "      <td>1,582.000</td>\n",
       "      <td>20,415.160</td>\n",
       "      <td>1,678.160</td>\n",
       "      <td>176.960</td>\n",
       "      <td>7,031.520</td>\n",
       "      <td>0.000</td>\n",
       "      <td>0.000</td>\n",
       "      <td>0.000</td>\n",
       "    </tr>\n",
       "    <tr>\n",
       "      <th>Latin America and the Caribbean</th>\n",
       "      <td>12,772.030</td>\n",
       "      <td>1,304.000</td>\n",
       "      <td>14,076.030</td>\n",
       "      <td>2,187.280</td>\n",
       "      <td>1,301.390</td>\n",
       "      <td>39,254.350</td>\n",
       "      <td>0.000</td>\n",
       "      <td>224.000</td>\n",
       "      <td>0.000</td>\n",
       "    </tr>\n",
       "    <tr>\n",
       "      <th>North America</th>\n",
       "      <td>10,347.340</td>\n",
       "      <td>3,087.200</td>\n",
       "      <td>13,434.540</td>\n",
       "      <td>10,919.390</td>\n",
       "      <td>13,277.010</td>\n",
       "      <td>420,892.030</td>\n",
       "      <td>331.000</td>\n",
       "      <td>0.000</td>\n",
       "      <td>0.000</td>\n",
       "    </tr>\n",
       "    <tr>\n",
       "      <th>Australia and New Zealand</th>\n",
       "      <td>12,590.050</td>\n",
       "      <td>580.000</td>\n",
       "      <td>13,170.050</td>\n",
       "      <td>334.280</td>\n",
       "      <td>6,194.680</td>\n",
       "      <td>30,991.820</td>\n",
       "      <td>0.000</td>\n",
       "      <td>0.000</td>\n",
       "      <td>0.000</td>\n",
       "    </tr>\n",
       "    <tr>\n",
       "      <th>Middle East and North Africa</th>\n",
       "      <td>5,333.550</td>\n",
       "      <td>7,773.200</td>\n",
       "      <td>13,106.750</td>\n",
       "      <td>5,964.340</td>\n",
       "      <td>4,146.270</td>\n",
       "      <td>49,700.910</td>\n",
       "      <td>0.000</td>\n",
       "      <td>1,107.390</td>\n",
       "      <td>39.280</td>\n",
       "    </tr>\n",
       "    <tr>\n",
       "      <th>SE Asia</th>\n",
       "      <td>9,222.660</td>\n",
       "      <td>984.300</td>\n",
       "      <td>10,206.960</td>\n",
       "      <td>2,801.340</td>\n",
       "      <td>1,423.820</td>\n",
       "      <td>16,912.550</td>\n",
       "      <td>0.000</td>\n",
       "      <td>0.000</td>\n",
       "      <td>0.000</td>\n",
       "    </tr>\n",
       "    <tr>\n",
       "      <th>Total</th>\n",
       "      <td>140,663.300</td>\n",
       "      <td>66,792.500</td>\n",
       "      <td>207,455.800</td>\n",
       "      <td>38,109.020</td>\n",
       "      <td>53,800.040</td>\n",
       "      <td>937,038.670</td>\n",
       "      <td>331.000</td>\n",
       "      <td>9,364.880</td>\n",
       "      <td>2,721.580</td>\n",
       "    </tr>\n",
       "  </tbody>\n",
       "</table>\n",
       "</div>"
      ],
      "text/plain": [
       "                                   Proposed  Construction  \\\n",
       "East Asia                        31,379.310    26,378.730   \n",
       "Eurasia                          18,323.850     5,153.090   \n",
       "South Asia                        4,222.570    17,113.790   \n",
       "Europe                           17,638.780     2,836.190   \n",
       "Sub-Saharan Africa               18,833.160     1,582.000   \n",
       "Latin America and the Caribbean  12,772.030     1,304.000   \n",
       "North America                    10,347.340     3,087.200   \n",
       "Australia and New Zealand        12,590.050       580.000   \n",
       "Middle East and North Africa      5,333.550     7,773.200   \n",
       "SE Asia                           9,222.660       984.300   \n",
       "Total                           140,663.300    66,792.500   \n",
       "\n",
       "                                 Proposed+Construction    Shelved  Cancelled  \\\n",
       "East Asia                                   57,758.040  2,067.660  1,364.510   \n",
       "Eurasia                                     23,476.940    272.690  5,756.890   \n",
       "South Asia                                  21,336.360  6,344.410  6,141.070   \n",
       "Europe                                      20,474.970  5,539.470 14,017.440   \n",
       "Sub-Saharan Africa                          20,415.160  1,678.160    176.960   \n",
       "Latin America and the Caribbean             14,076.030  2,187.280  1,301.390   \n",
       "North America                               13,434.540 10,919.390 13,277.010   \n",
       "Australia and New Zealand                   13,170.050    334.280  6,194.680   \n",
       "Middle East and North Africa                13,106.750  5,964.340  4,146.270   \n",
       "SE Asia                                     10,206.960  2,801.340  1,423.820   \n",
       "Total                                      207,455.800 38,109.020 53,800.040   \n",
       "\n",
       "                                  Operating    Idle  Mothballed   Retired  \n",
       "East Asia                        92,288.710   0.000       0.000    41.000  \n",
       "Eurasia                         129,176.250   0.000   3,298.310 1,783.240  \n",
       "South Asia                       29,669.320   0.000       0.000    35.000  \n",
       "Europe                          121,121.210   0.000   4,735.180   823.060  \n",
       "Sub-Saharan Africa                7,031.520   0.000       0.000     0.000  \n",
       "Latin America and the Caribbean  39,254.350   0.000     224.000     0.000  \n",
       "North America                   420,892.030 331.000       0.000     0.000  \n",
       "Australia and New Zealand        30,991.820   0.000       0.000     0.000  \n",
       "Middle East and North Africa     49,700.910   0.000   1,107.390    39.280  \n",
       "SE Asia                          16,912.550   0.000       0.000     0.000  \n",
       "Total                           937,038.670 331.000   9,364.880 2,721.580  "
      ]
     },
     "execution_count": 62,
     "metadata": {},
     "output_type": "execute_result"
    }
   ],
   "source": [
    "if 'Total' in km_by_region_df.index:\n",
    "    km_by_region_df.drop(index='Total', inplace=True)   \n",
    "    total = km_by_region_df.sum(axis=0)\n",
    "    total.name='Total'\n",
    "    km_by_region_df = km_by_region_df.append(total)\n",
    "\n",
    "else:\n",
    "    total = km_by_region_df.sum(axis=0)\n",
    "    total.name='Total'\n",
    "    km_by_region_df = km_by_region_df.append(total)\n",
    "\n",
    "km_by_region_df"
   ]
  },
  {
   "cell_type": "markdown",
   "id": "79570a43-7f2f-44cb-8a79-6029e80d0c65",
   "metadata": {},
   "source": [
    "## table for km by country"
   ]
  },
  {
   "cell_type": "code",
   "execution_count": 68,
   "id": "b42d6a47-d1a5-4a4b-acf8-7ec5f0fcc36e",
   "metadata": {},
   "outputs": [
    {
     "name": "stderr",
     "output_type": "stream",
     "text": [
      "/var/folders/h5/nfk59_vx7gg_58myc9jfk7_40000gn/T/ipykernel_36788/3713560636.py:14: FutureWarning: The frame.append method is deprecated and will be removed from pandas in a future version. Use pandas.concat instead.\n",
      "  km_by_country_df = km_by_country_df.append(total)\n"
     ]
    }
   ],
   "source": [
    "# saves all countries to an Excel file for reference\n",
    "\n",
    "km_by_country_df.sort_values('Proposed+Construction', ascending=False)\n",
    "\n",
    "if 'Total' in km_by_country_df.index:\n",
    "    km_by_country_df.drop(index='Total', inplace=True)   \n",
    "    total = km_by_country_df.sum(axis=0)\n",
    "    total.name='Total'\n",
    "    km_by_country_df = km_by_country_df.append(total)\n",
    "\n",
    "else:\n",
    "    total = km_by_country_df.sum(axis=0)\n",
    "    total.name='Total'\n",
    "    km_by_country_df = km_by_country_df.append(total)\n",
    "\n",
    "km_by_country_df.to_excel('saved-tables/gas-pipelines-km-by-country.xlsx')"
   ]
  },
  {
   "cell_type": "markdown",
   "id": "44145d01-f597-498d-889a-73173abc7ef2",
   "metadata": {},
   "source": [
    "# table for stranded asset calculations"
   ]
  },
  {
   "cell_type": "markdown",
   "id": "c009d10e-36da-4eb8-8e46-3164731bdb7d",
   "metadata": {},
   "source": [
    "## country-level capex estimates"
   ]
  },
  {
   "cell_type": "code",
   "execution_count": 100,
   "id": "b0edb61c-12f3-4886-8131-586ad36e46dd",
   "metadata": {},
   "outputs": [
    {
     "name": "stderr",
     "output_type": "stream",
     "text": [
      "/var/folders/h5/nfk59_vx7gg_58myc9jfk7_40000gn/T/ipykernel_16870/2359184464.py:2: SettingWithCopyWarning: \n",
      "A value is trying to be set on a copy of a slice from a DataFrame.\n",
      "Try using .loc[row_indexer,col_indexer] = value instead\n",
      "\n",
      "See the caveats in the documentation: https://pandas.pydata.org/pandas-docs/stable/user_guide/indexing.html#returning-a-view-versus-a-copy\n",
      "  country_ratios_oil_df.loc[:,'CostUSDEstimate'] = numpy.nan\n"
     ]
    }
   ],
   "source": [
    "country_ratios_oil_df.reset_index(drop=True, inplace=True)\n",
    "country_ratios_oil_df.loc[:,'CostUSDEstimate'] = numpy.nan\n",
    "\n",
    "for idx,row in country_ratios_oil_df.iterrows():\n",
    "    # calculate cost\n",
    "    cntry = row.Country\n",
    "    region = row.Region\n",
    "    km_by_cntry = row.LengthKnownKmByCountry\n",
    "    #print(row.PipelineName)\n",
    "    country_ratios_oil_df.loc[idx,'CostUSDEstimate'] = pipes_oil_costs_region_df.loc[region, 'CostUSDPerKm'] * km_by_cntry\n",
    "\n",
    "# replace any known costs now\n",
    "country_ratios_oil_df.loc[(~country_ratios_oil_df.LengthKnownKmByCountry.isna())&\n",
    "                      (~country_ratios_oil_df.CostUSDPerKm.isna()),'CostUSDEstimate'] = \\\n",
    "country_ratios_oil_df.loc[(~country_ratios_oil_df.LengthKnownKmByCountry.isna())&\n",
    "                      (~country_ratios_oil_df.CostUSDPerKm.isna())]['LengthKnownKmByCountry'] * \\\n",
    "country_ratios_oil_df.loc[(~country_ratios_oil_df.LengthKnownKmByCountry.isna())&\n",
    "                      (~country_ratios_oil_df.CostUSDPerKm.isna())]['CostUSDPerKm']\n",
    "\n",
    "country_sums_USDBillion_df = pandas.DataFrame(country_ratios_oil_df.loc[(country_ratios_oil_df.Status.isin(['Construction','Proposed']))].groupby('Country')['CostUSDEstimate'].sum(min_count=1)/1e9)"
   ]
  },
  {
   "cell_type": "code",
   "execution_count": 101,
   "id": "95829118-8241-44fa-941e-db867f4e7ad1",
   "metadata": {},
   "outputs": [
    {
     "name": "stdout",
     "output_type": "stream",
     "text": [
      "===country-level calculations===\n",
      "Proposed\n",
      "Construction\n",
      "Shelved\n",
      "Cancelled\n",
      "Operating\n",
      "Idle\n",
      "Mothballed\n",
      "Retired\n",
      "===regional calculations===\n",
      "Proposed\n",
      "Construction\n",
      "Shelved\n",
      "Cancelled\n",
      "Operating\n",
      "Idle\n",
      "Mothballed\n",
      "Retired\n"
     ]
    }
   ],
   "source": [
    "capex_by_country_df = pandas.DataFrame(columns=status_list, index=country_list)\n",
    "capex_by_region_df = pandas.DataFrame(columns=status_list, index=region_list)\n",
    "\n",
    "print('===country-level calculations===')\n",
    "for status in status_list:\n",
    "    print(status)\n",
    "    country_ratios_oil_df_status = country_ratios_oil_df[country_ratios_oil_df.Status==status]\n",
    "    capex_by_country_df[status] = country_ratios_oil_df_status.groupby('Country')['CostUSDEstimate'].sum()/1e9\n",
    "\n",
    "print('===regional calculations===')\n",
    "for status in status_list:\n",
    "    print(status)\n",
    "    country_ratios_oil_df_status = country_ratios_oil_df[country_ratios_oil_df.Status==status]\n",
    "    capex_by_region_df[status] = country_ratios_oil_df_status.groupby('Region')['CostUSDEstimate'].sum()/1e9\n",
    "\n",
    "# # fill NaN with 0.0\n",
    "capex_by_region_df = capex_by_region_df.fillna(0)\n",
    "capex_by_country_df = capex_by_country_df.fillna(0)"
   ]
  },
  {
   "cell_type": "code",
   "execution_count": 102,
   "id": "46a37257-f3c7-40f8-a2b7-51318878c296",
   "metadata": {},
   "outputs": [],
   "source": [
    "capex_by_region_df['Proposed+Construction'] = capex_by_region_df[['Proposed','Construction']].sum(axis=1)\n",
    "#capex_by_region_df.sort_values(by='Proposed+Construction', inplace=True)\n",
    "capex_by_region_df = capex_by_region_df[['Proposed', 'Construction', 'Proposed+Construction', 'Shelved', 'Cancelled', 'Operating', 'Idle', 'Mothballed', 'Retired']]\n",
    "capex_by_region_df.sort_values('Proposed+Construction', ascending=False, inplace=True)"
   ]
  },
  {
   "cell_type": "code",
   "execution_count": 103,
   "id": "cc733300-291f-497e-a686-e2499fa85713",
   "metadata": {},
   "outputs": [],
   "source": [
    "capex_by_country_df['Proposed+Construction'] = capex_by_country_df[['Proposed','Construction']].sum(axis=1)\n",
    "#capex_by_country_df.sort_values(by='Proposed+Construction', inplace=True)\n",
    "capex_by_country_df = capex_by_country_df[['Proposed', 'Construction', 'Proposed+Construction', 'Shelved', 'Cancelled', 'Operating', 'Idle', 'Mothballed', 'Retired']]\n",
    "capex_by_country_df.sort_values('Proposed+Construction', ascending=False, inplace=True)"
   ]
  },
  {
   "cell_type": "code",
   "execution_count": 104,
   "id": "fe3d3070-5264-4535-9257-abbd7419c0ad",
   "metadata": {},
   "outputs": [
    {
     "name": "stderr",
     "output_type": "stream",
     "text": [
      "/var/folders/h5/nfk59_vx7gg_58myc9jfk7_40000gn/T/ipykernel_16870/2444263024.py:10: FutureWarning: The frame.append method is deprecated and will be removed from pandas in a future version. Use pandas.concat instead.\n",
      "  capex_by_region_df = capex_by_region_df.append(total)\n"
     ]
    }
   ],
   "source": [
    "if 'Total' in capex_by_region_df.index:\n",
    "    capex_by_region_df.drop(index='Total', inplace=True)   \n",
    "    total = capex_by_region_df.sum(axis=0)\n",
    "    total.name='Total'\n",
    "    capex_by_region_df = capex_by_region_df.append(total)\n",
    "\n",
    "else:\n",
    "    total = capex_by_region_df.sum(axis=0)\n",
    "    total.name='Total'\n",
    "    capex_by_region_df = capex_by_region_df.append(total)"
   ]
  },
  {
   "cell_type": "code",
   "execution_count": 105,
   "id": "1472a37f-8e4f-4e29-8a23-95bc1c4c3e36",
   "metadata": {},
   "outputs": [
    {
     "name": "stderr",
     "output_type": "stream",
     "text": [
      "/var/folders/h5/nfk59_vx7gg_58myc9jfk7_40000gn/T/ipykernel_16870/3950818690.py:10: FutureWarning: The frame.append method is deprecated and will be removed from pandas in a future version. Use pandas.concat instead.\n",
      "  capex_by_country_df = capex_by_country_df.append(total)\n"
     ]
    }
   ],
   "source": [
    "if 'Total' in capex_by_country_df.index:\n",
    "    capex_by_country_df.drop(index='Total', inplace=True)   \n",
    "    total = capex_by_country_df.sum(axis=0)\n",
    "    total.name='Total'\n",
    "    capex_by_country_df = capex_by_country_df.append(total)\n",
    "\n",
    "else:\n",
    "    total = capex_by_country_df.sum(axis=0)\n",
    "    total.name='Total'\n",
    "    capex_by_country_df = capex_by_country_df.append(total)"
   ]
  },
  {
   "cell_type": "code",
   "execution_count": 106,
   "id": "22636b17-8c9a-4d61-bd7e-42e14da91c56",
   "metadata": {},
   "outputs": [
    {
     "data": {
      "text/html": [
       "<div>\n",
       "<style scoped>\n",
       "    .dataframe tbody tr th:only-of-type {\n",
       "        vertical-align: middle;\n",
       "    }\n",
       "\n",
       "    .dataframe tbody tr th {\n",
       "        vertical-align: top;\n",
       "    }\n",
       "\n",
       "    .dataframe thead th {\n",
       "        text-align: right;\n",
       "    }\n",
       "</style>\n",
       "<table border=\"1\" class=\"dataframe\">\n",
       "  <thead>\n",
       "    <tr style=\"text-align: right;\">\n",
       "      <th></th>\n",
       "      <th>Proposed</th>\n",
       "      <th>Construction</th>\n",
       "      <th>Proposed+Construction</th>\n",
       "      <th>Shelved</th>\n",
       "      <th>Cancelled</th>\n",
       "      <th>Operating</th>\n",
       "      <th>Idle</th>\n",
       "      <th>Mothballed</th>\n",
       "      <th>Retired</th>\n",
       "    </tr>\n",
       "  </thead>\n",
       "  <tbody>\n",
       "    <tr>\n",
       "      <th>North America</th>\n",
       "      <td>71.1</td>\n",
       "      <td>7.7</td>\n",
       "      <td>78.7</td>\n",
       "      <td>30.3</td>\n",
       "      <td>65.3</td>\n",
       "      <td>51.0</td>\n",
       "      <td>0.0</td>\n",
       "      <td>0.0</td>\n",
       "      <td>0.0</td>\n",
       "    </tr>\n",
       "    <tr>\n",
       "      <th>Sub-Saharan Africa</th>\n",
       "      <td>32.1</td>\n",
       "      <td>2.9</td>\n",
       "      <td>35.0</td>\n",
       "      <td>0.0</td>\n",
       "      <td>0.0</td>\n",
       "      <td>0.0</td>\n",
       "      <td>0.0</td>\n",
       "      <td>0.0</td>\n",
       "      <td>0.0</td>\n",
       "    </tr>\n",
       "    <tr>\n",
       "      <th>Europe</th>\n",
       "      <td>30.3</td>\n",
       "      <td>4.3</td>\n",
       "      <td>34.7</td>\n",
       "      <td>14.4</td>\n",
       "      <td>13.4</td>\n",
       "      <td>58.0</td>\n",
       "      <td>0.0</td>\n",
       "      <td>0.0</td>\n",
       "      <td>0.0</td>\n",
       "    </tr>\n",
       "    <tr>\n",
       "      <th>Middle East and North Africa</th>\n",
       "      <td>18.1</td>\n",
       "      <td>13.7</td>\n",
       "      <td>31.7</td>\n",
       "      <td>0.6</td>\n",
       "      <td>2.7</td>\n",
       "      <td>25.2</td>\n",
       "      <td>0.0</td>\n",
       "      <td>0.0</td>\n",
       "      <td>0.0</td>\n",
       "    </tr>\n",
       "    <tr>\n",
       "      <th>Latin America and the Caribbean</th>\n",
       "      <td>18.1</td>\n",
       "      <td>0.1</td>\n",
       "      <td>18.1</td>\n",
       "      <td>6.7</td>\n",
       "      <td>0.0</td>\n",
       "      <td>0.0</td>\n",
       "      <td>0.0</td>\n",
       "      <td>0.0</td>\n",
       "      <td>0.0</td>\n",
       "    </tr>\n",
       "    <tr>\n",
       "      <th>Eurasia</th>\n",
       "      <td>13.2</td>\n",
       "      <td>1.1</td>\n",
       "      <td>14.4</td>\n",
       "      <td>1.1</td>\n",
       "      <td>6.7</td>\n",
       "      <td>87.7</td>\n",
       "      <td>0.0</td>\n",
       "      <td>0.0</td>\n",
       "      <td>0.0</td>\n",
       "    </tr>\n",
       "    <tr>\n",
       "      <th>South Asia</th>\n",
       "      <td>0.8</td>\n",
       "      <td>11.4</td>\n",
       "      <td>12.2</td>\n",
       "      <td>0.8</td>\n",
       "      <td>5.4</td>\n",
       "      <td>1.3</td>\n",
       "      <td>0.0</td>\n",
       "      <td>0.0</td>\n",
       "      <td>0.0</td>\n",
       "    </tr>\n",
       "    <tr>\n",
       "      <th>East Asia</th>\n",
       "      <td>5.3</td>\n",
       "      <td>2.7</td>\n",
       "      <td>8.0</td>\n",
       "      <td>0.0</td>\n",
       "      <td>2.1</td>\n",
       "      <td>6.0</td>\n",
       "      <td>0.0</td>\n",
       "      <td>0.0</td>\n",
       "      <td>0.0</td>\n",
       "    </tr>\n",
       "    <tr>\n",
       "      <th>Australia and New Zealand</th>\n",
       "      <td>7.2</td>\n",
       "      <td>0.0</td>\n",
       "      <td>7.2</td>\n",
       "      <td>0.0</td>\n",
       "      <td>0.1</td>\n",
       "      <td>0.7</td>\n",
       "      <td>0.0</td>\n",
       "      <td>0.0</td>\n",
       "      <td>0.0</td>\n",
       "    </tr>\n",
       "    <tr>\n",
       "      <th>SE Asia</th>\n",
       "      <td>3.2</td>\n",
       "      <td>1.3</td>\n",
       "      <td>4.5</td>\n",
       "      <td>0.3</td>\n",
       "      <td>0.0</td>\n",
       "      <td>0.0</td>\n",
       "      <td>0.0</td>\n",
       "      <td>0.0</td>\n",
       "      <td>0.0</td>\n",
       "    </tr>\n",
       "    <tr>\n",
       "      <th>Total</th>\n",
       "      <td>199.4</td>\n",
       "      <td>45.1</td>\n",
       "      <td>244.5</td>\n",
       "      <td>54.2</td>\n",
       "      <td>95.7</td>\n",
       "      <td>229.9</td>\n",
       "      <td>0.0</td>\n",
       "      <td>0.0</td>\n",
       "      <td>0.0</td>\n",
       "    </tr>\n",
       "  </tbody>\n",
       "</table>\n",
       "</div>"
      ],
      "text/plain": [
       "                                 Proposed  Construction  \\\n",
       "North America                        71.1           7.7   \n",
       "Sub-Saharan Africa                   32.1           2.9   \n",
       "Europe                               30.3           4.3   \n",
       "Middle East and North Africa         18.1          13.7   \n",
       "Latin America and the Caribbean      18.1           0.1   \n",
       "Eurasia                              13.2           1.1   \n",
       "South Asia                            0.8          11.4   \n",
       "East Asia                             5.3           2.7   \n",
       "Australia and New Zealand             7.2           0.0   \n",
       "SE Asia                               3.2           1.3   \n",
       "Total                               199.4          45.1   \n",
       "\n",
       "                                 Proposed+Construction  Shelved  Cancelled  \\\n",
       "North America                                     78.7     30.3       65.3   \n",
       "Sub-Saharan Africa                                35.0      0.0        0.0   \n",
       "Europe                                            34.7     14.4       13.4   \n",
       "Middle East and North Africa                      31.7      0.6        2.7   \n",
       "Latin America and the Caribbean                   18.1      6.7        0.0   \n",
       "Eurasia                                           14.4      1.1        6.7   \n",
       "South Asia                                        12.2      0.8        5.4   \n",
       "East Asia                                          8.0      0.0        2.1   \n",
       "Australia and New Zealand                          7.2      0.0        0.1   \n",
       "SE Asia                                            4.5      0.3        0.0   \n",
       "Total                                            244.5     54.2       95.7   \n",
       "\n",
       "                                 Operating  Idle  Mothballed  Retired  \n",
       "North America                         51.0   0.0         0.0      0.0  \n",
       "Sub-Saharan Africa                     0.0   0.0         0.0      0.0  \n",
       "Europe                                58.0   0.0         0.0      0.0  \n",
       "Middle East and North Africa          25.2   0.0         0.0      0.0  \n",
       "Latin America and the Caribbean        0.0   0.0         0.0      0.0  \n",
       "Eurasia                               87.7   0.0         0.0      0.0  \n",
       "South Asia                             1.3   0.0         0.0      0.0  \n",
       "East Asia                              6.0   0.0         0.0      0.0  \n",
       "Australia and New Zealand              0.7   0.0         0.0      0.0  \n",
       "SE Asia                                0.0   0.0         0.0      0.0  \n",
       "Total                                229.9   0.0         0.0      0.0  "
      ]
     },
     "execution_count": 106,
     "metadata": {},
     "output_type": "execute_result"
    }
   ],
   "source": [
    "pandas.options.display.float_format = '{:,.1f}'.format\n",
    "capex_by_region_df"
   ]
  },
  {
   "cell_type": "markdown",
   "id": "a67ada29-6ccc-49b9-8ab1-6fdf3d6a116f",
   "metadata": {},
   "source": [
    "## print out country-level stranded assets for report discussion"
   ]
  },
  {
   "cell_type": "markdown",
   "id": "b734740c-6a22-4d1f-9c1b-1817d3b85166",
   "metadata": {},
   "source": [
    "## in-dev for each country in list"
   ]
  },
  {
   "cell_type": "code",
   "execution_count": 107,
   "id": "70436bc4-4148-4bed-afed-3a0929619316",
   "metadata": {},
   "outputs": [
    {
     "name": "stdout",
     "output_type": "stream",
     "text": [
      "China\n",
      "29806.420000000002  km proposed\n",
      "26325.9  km in construction\n",
      "56132.32000000001  total km in development\n",
      "CostUSDEstimate   7.7\n",
      "Name: China, dtype: float64 USD\n",
      "\n",
      "India\n",
      "2229.2799999999997  km proposed\n",
      "14276.21  km in construction\n",
      "16505.489999999998  total km in development\n",
      "CostUSDEstimate   3.8\n",
      "Name: India, dtype: float64 USD\n",
      "\n",
      "United States\n",
      "7131.12  km proposed\n",
      "1153.81  km in construction\n",
      "8284.93  total km in development\n",
      "CostUSDEstimate   66.0\n",
      "Name: United States, dtype: float64 USD\n",
      "\n",
      "Russia\n",
      "15782.2  km proposed\n",
      "3763.19  km in construction\n",
      "19545.39  total km in development\n",
      "CostUSDEstimate   10.7\n",
      "Name: Russia, dtype: float64 USD\n",
      "\n"
     ]
    }
   ],
   "source": [
    "#pandas.options.display.float_format = '{:,.1f}'.format\n",
    "these_countries = ['China','India', 'United States','Russia']\n",
    "\n",
    "for cntry in these_countries:\n",
    "    print(cntry)\n",
    "    cntry_region = country_ratios_df.loc[country_ratios_df.Country==cntry]['Region'].to_list()[0]\n",
    "    print(km_by_country_df.loc[cntry]['Proposed'], ' km proposed')\n",
    "    print(km_by_country_df.loc[cntry]['Construction'], ' km in construction')\n",
    "    print(km_by_country_df.loc[cntry]['Proposed+Construction'], ' total km in development')\n",
    "    print(country_sums_USDBillion_df.loc[cntry], 'USD')  \n",
    "    print()\n",
    "#    country_ratios_df.loc[(country_ratios_df.Status.isin(['Construction','Proposed'])&\n",
    "#                           (country_ratios_df.\n",
    "    \n",
    "#    print(pipes_oil_costs_country_df.loc[cntry]['CostUSDPerKm']*km_by_country_df.loc[cntry]/1e9)\n",
    "#    print()"
   ]
  },
  {
   "cell_type": "markdown",
   "id": "b2f4f54d-258b-418b-a43f-2a2bcec82c0d",
   "metadata": {},
   "source": [
    "# numbers for report"
   ]
  },
  {
   "cell_type": "markdown",
   "id": "f5661b98-75a1-42ca-819d-ee2fa8ea2b76",
   "metadata": {},
   "source": [
    "## amount already being constructed"
   ]
  },
  {
   "cell_type": "code",
   "execution_count": 108,
   "id": "741c91e9-dcdb-4332-beac-27f1cb8ca014",
   "metadata": {},
   "outputs": [
    {
     "data": {
      "text/plain": [
       "0.3233380414695396"
      ]
     },
     "execution_count": 108,
     "metadata": {},
     "output_type": "execute_result"
    }
   ],
   "source": [
    "# fraction of pipelines under construction compared to all in development\n",
    "# this number is different from below because it's skipping some pipelines\n",
    "km_by_country_total = km_by_country_df.sum(axis=0)\n",
    "km_by_country_total['Construction']/km_by_country_total['Proposed+Construction']"
   ]
  },
  {
   "cell_type": "code",
   "execution_count": 109,
   "id": "f358b56a-22ef-4323-824b-ecf9ef20202c",
   "metadata": {},
   "outputs": [
    {
     "data": {
      "text/plain": [
       "0.18444014766582742"
      ]
     },
     "execution_count": 109,
     "metadata": {},
     "output_type": "execute_result"
    }
   ],
   "source": [
    "# this fraction is on the full database, rather than only the pipelines that we estimate length for\n",
    "total['Construction']/total['Proposed+Construction']"
   ]
  },
  {
   "cell_type": "markdown",
   "id": "999b3a60-b8fe-40f4-a54d-db52c1dd8fc3",
   "metadata": {},
   "source": [
    "## capacity/potential emissions in development globally"
   ]
  },
  {
   "cell_type": "code",
   "execution_count": 110,
   "id": "be033ca7-9c4f-419b-a4ac-95796751bb0c",
   "metadata": {},
   "outputs": [
    {
     "name": "stdout",
     "output_type": "stream",
     "text": [
      "0.5417938299999999 million bpd\n"
     ]
    },
    {
     "ename": "NameError",
     "evalue": "name 'co2_rate' is not defined",
     "output_type": "error",
     "traceback": [
      "\u001b[0;31m---------------------------------------------------------------------------\u001b[0m",
      "\u001b[0;31mNameError\u001b[0m                                 Traceback (most recent call last)",
      "Input \u001b[0;32mIn [110]\u001b[0m, in \u001b[0;36m<module>\u001b[0;34m\u001b[0m\n\u001b[1;32m      3\u001b[0m cap_sum \u001b[38;5;241m=\u001b[39m pipes_df_subset[\u001b[38;5;124m'\u001b[39m\u001b[38;5;124mCapacityBOEd\u001b[39m\u001b[38;5;124m'\u001b[39m]\u001b[38;5;241m.\u001b[39msum()\n\u001b[1;32m      4\u001b[0m \u001b[38;5;28mprint\u001b[39m(cap_sum \u001b[38;5;241m/\u001b[39m \u001b[38;5;241m1e6\u001b[39m, \u001b[38;5;124m'\u001b[39m\u001b[38;5;124mmillion bpd\u001b[39m\u001b[38;5;124m'\u001b[39m)\n\u001b[0;32m----> 5\u001b[0m \u001b[38;5;28mprint\u001b[39m(cap_sum \u001b[38;5;241m*\u001b[39m \u001b[43mco2_rate\u001b[49m \u001b[38;5;241m/\u001b[39m \u001b[38;5;241m1e9\u001b[39m, \u001b[38;5;124m'\u001b[39m\u001b[38;5;124mbillion tonnes CO2\u001b[39m\u001b[38;5;124m'\u001b[39m)\n",
      "\u001b[0;31mNameError\u001b[0m: name 'co2_rate' is not defined"
     ]
    }
   ],
   "source": [
    "pipes_df_subset = pipes_df_orig.loc[(pipes_df_orig.Status.isin(['Construction']))&\n",
    "                                     (pipes_df_orig.Fuel=='Gas')]\n",
    "cap_sum = pipes_df_subset['CapacityBOEd'].sum()\n",
    "print(cap_sum / 1e6, 'million bpd')\n",
    "print(cap_sum * co2_rate / 1e9, 'billion tonnes CO2')"
   ]
  },
  {
   "cell_type": "code",
   "execution_count": 111,
   "id": "0bbe19c0-8aeb-4c7f-bbf2-46daff1a75c3",
   "metadata": {},
   "outputs": [
    {
     "name": "stdout",
     "output_type": "stream",
     "text": [
      "0.9385389000000002 million bpd\n"
     ]
    },
    {
     "ename": "NameError",
     "evalue": "name 'co2_rate' is not defined",
     "output_type": "error",
     "traceback": [
      "\u001b[0;31m---------------------------------------------------------------------------\u001b[0m",
      "\u001b[0;31mNameError\u001b[0m                                 Traceback (most recent call last)",
      "Input \u001b[0;32mIn [111]\u001b[0m, in \u001b[0;36m<module>\u001b[0;34m\u001b[0m\n\u001b[1;32m      3\u001b[0m cap_sum \u001b[38;5;241m=\u001b[39m pipes_df_subset[\u001b[38;5;124m'\u001b[39m\u001b[38;5;124mCapacityBOEd\u001b[39m\u001b[38;5;124m'\u001b[39m]\u001b[38;5;241m.\u001b[39msum()\n\u001b[1;32m      4\u001b[0m \u001b[38;5;28mprint\u001b[39m(cap_sum \u001b[38;5;241m/\u001b[39m \u001b[38;5;241m1e6\u001b[39m, \u001b[38;5;124m'\u001b[39m\u001b[38;5;124mmillion bpd\u001b[39m\u001b[38;5;124m'\u001b[39m)\n\u001b[0;32m----> 5\u001b[0m \u001b[38;5;28mprint\u001b[39m(cap_sum \u001b[38;5;241m*\u001b[39m \u001b[43mco2_rate\u001b[49m \u001b[38;5;241m/\u001b[39m \u001b[38;5;241m1e9\u001b[39m, \u001b[38;5;124m'\u001b[39m\u001b[38;5;124mbillion tonnes CO2\u001b[39m\u001b[38;5;124m'\u001b[39m)\n",
      "\u001b[0;31mNameError\u001b[0m: name 'co2_rate' is not defined"
     ]
    }
   ],
   "source": [
    "pipes_df_subset = pipes_df_orig.loc[(pipes_df_orig.Status.isin(['Proposed']))&\n",
    "                                     (pipes_df_orig.Fuel=='Gas')]\n",
    "cap_sum = pipes_df_subset['CapacityBOEd'].sum()\n",
    "print(cap_sum / 1e6, 'million bpd')\n",
    "print(cap_sum * co2_rate / 1e9, 'billion tonnes CO2')"
   ]
  },
  {
   "cell_type": "code",
   "execution_count": 304,
   "id": "9e16aa51-6397-43f4-8093-ce9e4dea03ba",
   "metadata": {},
   "outputs": [
    {
     "name": "stdout",
     "output_type": "stream",
     "text": [
      "30.172883370000005 million bpd\n",
      "4.61008467721893 billion tonnes CO2\n"
     ]
    }
   ],
   "source": [
    "pipes_df_subset = pipes_df_orig.loc[(pipes_df_orig.Status.isin(['Construction','Proposed']))&\n",
    "                                     (pipes_df_orig.Fuel=='Gas')]\n",
    "cap_sum = pipes_df_subset['CapacityBOEd'].sum()\n",
    "print(cap_sum / 1e6, 'million bpd')\n",
    "print(cap_sum * co2_rate / 1e9, 'billion tonnes CO2')"
   ]
  },
  {
   "cell_type": "markdown",
   "id": "3cbfcb52-da08-4330-b006-6a63b6144c85",
   "metadata": {},
   "source": [
    "## total number of pipelines in dev"
   ]
  },
  {
   "cell_type": "code",
   "execution_count": 305,
   "id": "3c1ece32-0f36-4514-9402-e7b6b15c1275",
   "metadata": {},
   "outputs": [
    {
     "data": {
      "text/plain": [
       "24166.07"
      ]
     },
     "execution_count": 305,
     "metadata": {},
     "output_type": "execute_result"
    }
   ],
   "source": [
    "pipes_df_orig.loc[(pipes_df_orig.Fuel=='Gas')&\n",
    "                  (pipes_df_orig.Status.isin(['Proposed','Construction']))]['LengthMergedKm'].sum()"
   ]
  },
  {
   "cell_type": "markdown",
   "id": "dadc820e-41b6-4522-8da9-6a4b65f465b5",
   "metadata": {},
   "source": [
    "## top 10 pipelines"
   ]
  },
  {
   "cell_type": "code",
   "execution_count": 306,
   "id": "1cf5b965-f261-481f-aace-30b080e7d3b2",
   "metadata": {},
   "outputs": [
    {
     "data": {
      "text/html": [
       "<div>\n",
       "<style scoped>\n",
       "    .dataframe tbody tr th:only-of-type {\n",
       "        vertical-align: middle;\n",
       "    }\n",
       "\n",
       "    .dataframe tbody tr th {\n",
       "        vertical-align: top;\n",
       "    }\n",
       "\n",
       "    .dataframe thead th {\n",
       "        text-align: right;\n",
       "    }\n",
       "</style>\n",
       "<table border=\"1\" class=\"dataframe\">\n",
       "  <thead>\n",
       "    <tr style=\"text-align: right;\">\n",
       "      <th></th>\n",
       "      <th>PipelineName</th>\n",
       "      <th>LengthKnownKm</th>\n",
       "      <th>CapacityBOEd</th>\n",
       "      <th>Countries</th>\n",
       "      <th>Status</th>\n",
       "      <th>StartYearEarliest</th>\n",
       "      <th>Wiki</th>\n",
       "    </tr>\n",
       "  </thead>\n",
       "  <tbody>\n",
       "    <tr>\n",
       "      <th>387</th>\n",
       "      <td>Niger–Benin Oil Pipeline</td>\n",
       "      <td>1,950.0</td>\n",
       "      <td>90,000.0</td>\n",
       "      <td>Niger, Benin</td>\n",
       "      <td>Construction</td>\n",
       "      <td>2024</td>\n",
       "      <td>https://www.gem.wiki/Niger%E2%80%93Benin_Oil_Pipeline</td>\n",
       "    </tr>\n",
       "    <tr>\n",
       "      <th>625</th>\n",
       "      <td>Tazama Oil Pipeline</td>\n",
       "      <td>1,710.0</td>\n",
       "      <td>22,000.0</td>\n",
       "      <td>Tanzania, Zambia</td>\n",
       "      <td>Proposed</td>\n",
       "      <td>NaN</td>\n",
       "      <td>https://www.gem.wiki/Tazama_Oil_Pipeline</td>\n",
       "    </tr>\n",
       "    <tr>\n",
       "      <th>175</th>\n",
       "      <td>Basra-Aqaba Oil Pipeline</td>\n",
       "      <td>1,665.0</td>\n",
       "      <td>1,000,000.0</td>\n",
       "      <td>Iraq, Jordan</td>\n",
       "      <td>Proposed</td>\n",
       "      <td>NaN</td>\n",
       "      <td>https://www.gem.wiki/Basra-Aqaba_Oil_Pipeline</td>\n",
       "    </tr>\n",
       "    <tr>\n",
       "      <th>939</th>\n",
       "      <td>Paradip Numaligarh Crude Pipeline (PNCPL)</td>\n",
       "      <td>1,630.0</td>\n",
       "      <td>NaN</td>\n",
       "      <td>India</td>\n",
       "      <td>Construction</td>\n",
       "      <td>2024</td>\n",
       "      <td>https://www.gem.wiki/Paradip_Numaligarh_Crude_Pipeline_(PNCPL)</td>\n",
       "    </tr>\n",
       "    <tr>\n",
       "      <th>172</th>\n",
       "      <td>East African Crude Oil Pipeline (EACOP)</td>\n",
       "      <td>1,444.0</td>\n",
       "      <td>216,000.0</td>\n",
       "      <td>Uganda, Tanzania</td>\n",
       "      <td>Proposed</td>\n",
       "      <td>2025</td>\n",
       "      <td>https://www.gem.wiki/East_African_Crude_Oil_Pipeline_(EACOP)</td>\n",
       "    </tr>\n",
       "    <tr>\n",
       "      <th>976</th>\n",
       "      <td>New Mundra–Panipat Oil Pipeline</td>\n",
       "      <td>1,194.0</td>\n",
       "      <td>430,067.8</td>\n",
       "      <td>India</td>\n",
       "      <td>Proposed</td>\n",
       "      <td>2024</td>\n",
       "      <td>https://www.gem.wiki/New_Mundra%E2%80%93Panipat_Oil_Pipeline</td>\n",
       "    </tr>\n",
       "    <tr>\n",
       "      <th>144</th>\n",
       "      <td>Seahorse Pipeline</td>\n",
       "      <td>1,126.5</td>\n",
       "      <td>800,000.0</td>\n",
       "      <td>United States</td>\n",
       "      <td>Proposed</td>\n",
       "      <td>2022</td>\n",
       "      <td>https://www.gem.wiki/Seahorse_Pipeline</td>\n",
       "    </tr>\n",
       "    <tr>\n",
       "      <th>30</th>\n",
       "      <td>Trans Mountain Oil Pipeline</td>\n",
       "      <td>980.0</td>\n",
       "      <td>290,000.0</td>\n",
       "      <td>Canada</td>\n",
       "      <td>Construction</td>\n",
       "      <td>2023</td>\n",
       "      <td>https://www.gem.wiki/Trans_Mountain_Oil_Pipeline</td>\n",
       "    </tr>\n",
       "    <tr>\n",
       "      <th>780</th>\n",
       "      <td>Vostok Oil Pipeline</td>\n",
       "      <td>800.0</td>\n",
       "      <td>NaN</td>\n",
       "      <td>Russia</td>\n",
       "      <td>Proposed</td>\n",
       "      <td>2022</td>\n",
       "      <td>https://www.gem.wiki/Vostok_Oil_Pipeline</td>\n",
       "    </tr>\n",
       "    <tr>\n",
       "      <th>777</th>\n",
       "      <td>Willow Oil Pipeline</td>\n",
       "      <td>620.4</td>\n",
       "      <td>200,000.0</td>\n",
       "      <td>United States</td>\n",
       "      <td>Proposed</td>\n",
       "      <td>2025</td>\n",
       "      <td>https://www.gem.wiki/Willow_Oil_Pipeline</td>\n",
       "    </tr>\n",
       "    <tr>\n",
       "      <th>532</th>\n",
       "      <td>Sabz Ab-Tang Fanni-Shazand-Rey crude oil pipeline project</td>\n",
       "      <td>620.0</td>\n",
       "      <td>450,000.0</td>\n",
       "      <td>Iran</td>\n",
       "      <td>Construction</td>\n",
       "      <td>NaN</td>\n",
       "      <td>https://www.gem.wiki/Sabz_Ab-Tang_Fanni-Shazand-Rey_crude_oil_pipeline_project</td>\n",
       "    </tr>\n",
       "    <tr>\n",
       "      <th>548</th>\n",
       "      <td>Baku-Novorossiysk Oil Pipeline</td>\n",
       "      <td>548.0</td>\n",
       "      <td>150,616.4</td>\n",
       "      <td>Russia, Azerbaijan</td>\n",
       "      <td>Construction</td>\n",
       "      <td>2022</td>\n",
       "      <td>https://www.gem.wiki/Baku-Novorossiysk_Oil_Pipeline</td>\n",
       "    </tr>\n",
       "    <tr>\n",
       "      <th>254</th>\n",
       "      <td>Oman Main Line–Ras Markaz Oil Pipeline</td>\n",
       "      <td>440.0</td>\n",
       "      <td>700,000.0</td>\n",
       "      <td>Oman</td>\n",
       "      <td>Construction</td>\n",
       "      <td>NaN</td>\n",
       "      <td>https://www.gem.wiki/Oman_Main_Line%E2%80%93Ras_Markaz_Oil_Pipeline</td>\n",
       "    </tr>\n",
       "    <tr>\n",
       "      <th>492</th>\n",
       "      <td>Rizhao–Yizheng Parallel Oil Pipeline</td>\n",
       "      <td>400.0</td>\n",
       "      <td>491,506.0</td>\n",
       "      <td>China</td>\n",
       "      <td>Proposed</td>\n",
       "      <td>NaN</td>\n",
       "      <td>https://www.gem.wiki/Rizhao%E2%80%93Yizheng_Parallel_Oil_Pipeline</td>\n",
       "    </tr>\n",
       "    <tr>\n",
       "      <th>539</th>\n",
       "      <td>Brody-Adamowo Oil pipeline</td>\n",
       "      <td>397.9</td>\n",
       "      <td>245,753.0</td>\n",
       "      <td>Ukraine, Poland</td>\n",
       "      <td>Proposed</td>\n",
       "      <td>2025</td>\n",
       "      <td>https://www.gem.wiki/Adamowo-Brody_Oil_pipeline</td>\n",
       "    </tr>\n",
       "  </tbody>\n",
       "</table>\n",
       "</div>"
      ],
      "text/plain": [
       "                                                  PipelineName LengthKnownKm  \\\n",
       "387                                   Niger–Benin Oil Pipeline       1,950.0   \n",
       "625                                        Tazama Oil Pipeline       1,710.0   \n",
       "175                                   Basra-Aqaba Oil Pipeline       1,665.0   \n",
       "939                  Paradip Numaligarh Crude Pipeline (PNCPL)       1,630.0   \n",
       "172                    East African Crude Oil Pipeline (EACOP)       1,444.0   \n",
       "976                            New Mundra–Panipat Oil Pipeline       1,194.0   \n",
       "144                                          Seahorse Pipeline       1,126.5   \n",
       "30                                 Trans Mountain Oil Pipeline         980.0   \n",
       "780                                        Vostok Oil Pipeline         800.0   \n",
       "777                                        Willow Oil Pipeline         620.4   \n",
       "532  Sabz Ab-Tang Fanni-Shazand-Rey crude oil pipeline project         620.0   \n",
       "548                             Baku-Novorossiysk Oil Pipeline         548.0   \n",
       "254                     Oman Main Line–Ras Markaz Oil Pipeline         440.0   \n",
       "492                       Rizhao–Yizheng Parallel Oil Pipeline         400.0   \n",
       "539                                 Brody-Adamowo Oil pipeline         397.9   \n",
       "\n",
       "    CapacityBOEd           Countries        Status StartYearEarliest  \\\n",
       "387     90,000.0        Niger, Benin  Construction              2024   \n",
       "625     22,000.0    Tanzania, Zambia      Proposed               NaN   \n",
       "175  1,000,000.0        Iraq, Jordan      Proposed               NaN   \n",
       "939          NaN               India  Construction              2024   \n",
       "172    216,000.0    Uganda, Tanzania      Proposed              2025   \n",
       "976    430,067.8               India      Proposed              2024   \n",
       "144    800,000.0       United States      Proposed              2022   \n",
       "30     290,000.0              Canada  Construction              2023   \n",
       "780          NaN              Russia      Proposed              2022   \n",
       "777    200,000.0       United States      Proposed              2025   \n",
       "532    450,000.0                Iran  Construction               NaN   \n",
       "548    150,616.4  Russia, Azerbaijan  Construction              2022   \n",
       "254    700,000.0                Oman  Construction               NaN   \n",
       "492    491,506.0               China      Proposed               NaN   \n",
       "539    245,753.0     Ukraine, Poland      Proposed              2025   \n",
       "\n",
       "                                                                               Wiki  \n",
       "387                           https://www.gem.wiki/Niger%E2%80%93Benin_Oil_Pipeline  \n",
       "625                                        https://www.gem.wiki/Tazama_Oil_Pipeline  \n",
       "175                                   https://www.gem.wiki/Basra-Aqaba_Oil_Pipeline  \n",
       "939                  https://www.gem.wiki/Paradip_Numaligarh_Crude_Pipeline_(PNCPL)  \n",
       "172                    https://www.gem.wiki/East_African_Crude_Oil_Pipeline_(EACOP)  \n",
       "976                    https://www.gem.wiki/New_Mundra%E2%80%93Panipat_Oil_Pipeline  \n",
       "144                                          https://www.gem.wiki/Seahorse_Pipeline  \n",
       "30                                 https://www.gem.wiki/Trans_Mountain_Oil_Pipeline  \n",
       "780                                        https://www.gem.wiki/Vostok_Oil_Pipeline  \n",
       "777                                        https://www.gem.wiki/Willow_Oil_Pipeline  \n",
       "532  https://www.gem.wiki/Sabz_Ab-Tang_Fanni-Shazand-Rey_crude_oil_pipeline_project  \n",
       "548                             https://www.gem.wiki/Baku-Novorossiysk_Oil_Pipeline  \n",
       "254             https://www.gem.wiki/Oman_Main_Line%E2%80%93Ras_Markaz_Oil_Pipeline  \n",
       "492               https://www.gem.wiki/Rizhao%E2%80%93Yizheng_Parallel_Oil_Pipeline  \n",
       "539                                 https://www.gem.wiki/Adamowo-Brody_Oil_pipeline  "
      ]
     },
     "execution_count": 306,
     "metadata": {},
     "output_type": "execute_result"
    }
   ],
   "source": [
    "pipes_df_orig.loc[(pipes_df_orig.Fuel=='Gas')&\n",
    "                  (pipes_df_orig.Status.isin(['Proposed','Construction']))].sort_values(\n",
    "    'LengthKnownKm', ascending=False)[['PipelineName','LengthKnownKm','CapacityBOEd','Countries','Status','StartYearEarliest','Wiki']][:15]\n",
    "\n"
   ]
  },
  {
   "cell_type": "code",
   "execution_count": 307,
   "id": "f91993c0-dda7-4493-9a8b-6ccf7a1b0186",
   "metadata": {},
   "outputs": [
    {
     "data": {
      "text/html": [
       "<div>\n",
       "<style scoped>\n",
       "    .dataframe tbody tr th:only-of-type {\n",
       "        vertical-align: middle;\n",
       "    }\n",
       "\n",
       "    .dataframe tbody tr th {\n",
       "        vertical-align: top;\n",
       "    }\n",
       "\n",
       "    .dataframe thead th {\n",
       "        text-align: right;\n",
       "    }\n",
       "</style>\n",
       "<table border=\"1\" class=\"dataframe\">\n",
       "  <thead>\n",
       "    <tr style=\"text-align: right;\">\n",
       "      <th></th>\n",
       "      <th></th>\n",
       "      <th></th>\n",
       "      <th>LengthKnownKm</th>\n",
       "    </tr>\n",
       "    <tr>\n",
       "      <th>PipelineName</th>\n",
       "      <th>Status</th>\n",
       "      <th>Wiki</th>\n",
       "      <th></th>\n",
       "    </tr>\n",
       "  </thead>\n",
       "  <tbody>\n",
       "    <tr>\n",
       "      <th>Niger–Benin Oil Pipeline</th>\n",
       "      <th>Construction</th>\n",
       "      <th>https://www.gem.wiki/Niger%E2%80%93Benin_Oil_Pipeline</th>\n",
       "      <td>1,950.0</td>\n",
       "    </tr>\n",
       "    <tr>\n",
       "      <th>Tazama Oil Pipeline</th>\n",
       "      <th>Proposed</th>\n",
       "      <th>https://www.gem.wiki/Tazama_Oil_Pipeline</th>\n",
       "      <td>1,710.0</td>\n",
       "    </tr>\n",
       "    <tr>\n",
       "      <th>Basra-Aqaba Oil Pipeline</th>\n",
       "      <th>Proposed</th>\n",
       "      <th>https://www.gem.wiki/Basra-Aqaba_Oil_Pipeline</th>\n",
       "      <td>1,665.0</td>\n",
       "    </tr>\n",
       "    <tr>\n",
       "      <th>Paradip Numaligarh Crude Pipeline (PNCPL)</th>\n",
       "      <th>Construction</th>\n",
       "      <th>https://www.gem.wiki/Paradip_Numaligarh_Crude_Pipeline_(PNCPL)</th>\n",
       "      <td>1,630.0</td>\n",
       "    </tr>\n",
       "    <tr>\n",
       "      <th>East African Crude Oil Pipeline (EACOP)</th>\n",
       "      <th>Proposed</th>\n",
       "      <th>https://www.gem.wiki/East_African_Crude_Oil_Pipeline_(EACOP)</th>\n",
       "      <td>1,444.0</td>\n",
       "    </tr>\n",
       "    <tr>\n",
       "      <th>Vostok Oil Pipeline</th>\n",
       "      <th>Proposed</th>\n",
       "      <th>https://www.gem.wiki/Vostok_Oil_Pipeline</th>\n",
       "      <td>1,400.0</td>\n",
       "    </tr>\n",
       "    <tr>\n",
       "      <th>New Mundra–Panipat Oil Pipeline</th>\n",
       "      <th>Proposed</th>\n",
       "      <th>https://www.gem.wiki/New_Mundra%E2%80%93Panipat_Oil_Pipeline</th>\n",
       "      <td>1,194.0</td>\n",
       "    </tr>\n",
       "    <tr>\n",
       "      <th>Seahorse Pipeline</th>\n",
       "      <th>Proposed</th>\n",
       "      <th>https://www.gem.wiki/Seahorse_Pipeline</th>\n",
       "      <td>1,126.5</td>\n",
       "    </tr>\n",
       "    <tr>\n",
       "      <th>Trans Mountain Oil Pipeline</th>\n",
       "      <th>Construction</th>\n",
       "      <th>https://www.gem.wiki/Trans_Mountain_Oil_Pipeline</th>\n",
       "      <td>980.0</td>\n",
       "    </tr>\n",
       "    <tr>\n",
       "      <th>Willow Oil Pipeline</th>\n",
       "      <th>Proposed</th>\n",
       "      <th>https://www.gem.wiki/Willow_Oil_Pipeline</th>\n",
       "      <td>620.4</td>\n",
       "    </tr>\n",
       "  </tbody>\n",
       "</table>\n",
       "</div>"
      ],
      "text/plain": [
       "                                                                                                                      LengthKnownKm\n",
       "PipelineName                              Status       Wiki                                                                        \n",
       "Niger–Benin Oil Pipeline                  Construction https://www.gem.wiki/Niger%E2%80%93Benin_Oil_Pipeline                1,950.0\n",
       "Tazama Oil Pipeline                       Proposed     https://www.gem.wiki/Tazama_Oil_Pipeline                             1,710.0\n",
       "Basra-Aqaba Oil Pipeline                  Proposed     https://www.gem.wiki/Basra-Aqaba_Oil_Pipeline                        1,665.0\n",
       "Paradip Numaligarh Crude Pipeline (PNCPL) Construction https://www.gem.wiki/Paradip_Numaligarh_Crude_Pipeline_(PNCPL)       1,630.0\n",
       "East African Crude Oil Pipeline (EACOP)   Proposed     https://www.gem.wiki/East_African_Crude_Oil_Pipeline_(EACOP)         1,444.0\n",
       "Vostok Oil Pipeline                       Proposed     https://www.gem.wiki/Vostok_Oil_Pipeline                             1,400.0\n",
       "New Mundra–Panipat Oil Pipeline           Proposed     https://www.gem.wiki/New_Mundra%E2%80%93Panipat_Oil_Pipeline         1,194.0\n",
       "Seahorse Pipeline                         Proposed     https://www.gem.wiki/Seahorse_Pipeline                               1,126.5\n",
       "Trans Mountain Oil Pipeline               Construction https://www.gem.wiki/Trans_Mountain_Oil_Pipeline                       980.0\n",
       "Willow Oil Pipeline                       Proposed     https://www.gem.wiki/Willow_Oil_Pipeline                               620.4"
      ]
     },
     "execution_count": 307,
     "metadata": {},
     "output_type": "execute_result"
    }
   ],
   "source": [
    "pandas.DataFrame(pipes_df_orig.loc[(pipes_df_orig.Fuel=='Gas')&\n",
    "                  (pipes_df_orig.Status.isin(['Proposed','Construction']))].groupby(['PipelineName','Status','Wiki'])['LengthKnownKm'].sum(min_count=1).sort_values(ascending=False)[:10])"
   ]
  },
  {
   "cell_type": "code",
   "execution_count": 308,
   "id": "2ebff4ff-e78b-408a-ab39-3cbdaab45244",
   "metadata": {},
   "outputs": [
    {
     "data": {
      "text/html": [
       "<div>\n",
       "<style scoped>\n",
       "    .dataframe tbody tr th:only-of-type {\n",
       "        vertical-align: middle;\n",
       "    }\n",
       "\n",
       "    .dataframe tbody tr th {\n",
       "        vertical-align: top;\n",
       "    }\n",
       "\n",
       "    .dataframe thead th {\n",
       "        text-align: right;\n",
       "    }\n",
       "</style>\n",
       "<table border=\"1\" class=\"dataframe\">\n",
       "  <thead>\n",
       "    <tr style=\"text-align: right;\">\n",
       "      <th></th>\n",
       "      <th>PipelineName</th>\n",
       "      <th>SegmentName</th>\n",
       "      <th>LengthKnownKm</th>\n",
       "      <th>LengthEstimateKm</th>\n",
       "      <th>CapacityBOEd</th>\n",
       "      <th>Countries</th>\n",
       "      <th>Status</th>\n",
       "      <th>StartYearEarliest</th>\n",
       "      <th>Wiki</th>\n",
       "    </tr>\n",
       "  </thead>\n",
       "  <tbody>\n",
       "    <tr>\n",
       "      <th>387</th>\n",
       "      <td>Niger–Benin Oil Pipeline</td>\n",
       "      <td></td>\n",
       "      <td>1,950.0</td>\n",
       "      <td>1,886.6</td>\n",
       "      <td>90,000.0</td>\n",
       "      <td>Niger, Benin</td>\n",
       "      <td>Construction</td>\n",
       "      <td>2024</td>\n",
       "      <td>https://www.gem.wiki/Niger%E2%80%93Benin_Oil_Pipeline</td>\n",
       "    </tr>\n",
       "    <tr>\n",
       "      <th>625</th>\n",
       "      <td>Tazama Oil Pipeline</td>\n",
       "      <td>Expansion</td>\n",
       "      <td>1,710.0</td>\n",
       "      <td>1,734.8</td>\n",
       "      <td>22,000.0</td>\n",
       "      <td>Tanzania, Zambia</td>\n",
       "      <td>Proposed</td>\n",
       "      <td>NaN</td>\n",
       "      <td>https://www.gem.wiki/Tazama_Oil_Pipeline</td>\n",
       "    </tr>\n",
       "    <tr>\n",
       "      <th>175</th>\n",
       "      <td>Basra-Aqaba Oil Pipeline</td>\n",
       "      <td></td>\n",
       "      <td>1,665.0</td>\n",
       "      <td>1,663.8</td>\n",
       "      <td>1,000,000.0</td>\n",
       "      <td>Iraq, Jordan</td>\n",
       "      <td>Proposed</td>\n",
       "      <td>NaN</td>\n",
       "      <td>https://www.gem.wiki/Basra-Aqaba_Oil_Pipeline</td>\n",
       "    </tr>\n",
       "    <tr>\n",
       "      <th>939</th>\n",
       "      <td>Paradip Numaligarh Crude Pipeline (PNCPL)</td>\n",
       "      <td></td>\n",
       "      <td>1,630.0</td>\n",
       "      <td>1,459.7</td>\n",
       "      <td>NaN</td>\n",
       "      <td>India</td>\n",
       "      <td>Construction</td>\n",
       "      <td>2024</td>\n",
       "      <td>https://www.gem.wiki/Paradip_Numaligarh_Crude_Pipeline_(PNCPL)</td>\n",
       "    </tr>\n",
       "    <tr>\n",
       "      <th>172</th>\n",
       "      <td>East African Crude Oil Pipeline (EACOP)</td>\n",
       "      <td></td>\n",
       "      <td>1,444.0</td>\n",
       "      <td>1,560.9</td>\n",
       "      <td>216,000.0</td>\n",
       "      <td>Uganda, Tanzania</td>\n",
       "      <td>Proposed</td>\n",
       "      <td>2025</td>\n",
       "      <td>https://www.gem.wiki/East_African_Crude_Oil_Pipeline_(EACOP)</td>\n",
       "    </tr>\n",
       "    <tr>\n",
       "      <th>976</th>\n",
       "      <td>New Mundra–Panipat Oil Pipeline</td>\n",
       "      <td></td>\n",
       "      <td>1,194.0</td>\n",
       "      <td>1,081.2</td>\n",
       "      <td>430,067.8</td>\n",
       "      <td>India</td>\n",
       "      <td>Proposed</td>\n",
       "      <td>2024</td>\n",
       "      <td>https://www.gem.wiki/New_Mundra%E2%80%93Panipat_Oil_Pipeline</td>\n",
       "    </tr>\n",
       "    <tr>\n",
       "      <th>144</th>\n",
       "      <td>Seahorse Pipeline</td>\n",
       "      <td></td>\n",
       "      <td>1,126.5</td>\n",
       "      <td>1,127.6</td>\n",
       "      <td>800,000.0</td>\n",
       "      <td>United States</td>\n",
       "      <td>Proposed</td>\n",
       "      <td>2022</td>\n",
       "      <td>https://www.gem.wiki/Seahorse_Pipeline</td>\n",
       "    </tr>\n",
       "    <tr>\n",
       "      <th>30</th>\n",
       "      <td>Trans Mountain Oil Pipeline</td>\n",
       "      <td>Trans Mountain Expansion (TMX)</td>\n",
       "      <td>980.0</td>\n",
       "      <td>1,097.4</td>\n",
       "      <td>290,000.0</td>\n",
       "      <td>Canada</td>\n",
       "      <td>Construction</td>\n",
       "      <td>2023</td>\n",
       "      <td>https://www.gem.wiki/Trans_Mountain_Oil_Pipeline</td>\n",
       "    </tr>\n",
       "    <tr>\n",
       "      <th>165</th>\n",
       "      <td>Lamu Port-South Sudan (LAPSSET) Pipeline</td>\n",
       "      <td>Lokichar–Lamu Oil Pipeline Segment</td>\n",
       "      <td>NaN</td>\n",
       "      <td>835.3</td>\n",
       "      <td>65,000.0</td>\n",
       "      <td>Kenya</td>\n",
       "      <td>Proposed</td>\n",
       "      <td>2023</td>\n",
       "      <td>https://www.gem.wiki/Lamu_Port-South_Sudan_(LAPSSET)_Pipeline</td>\n",
       "    </tr>\n",
       "    <tr>\n",
       "      <th>780</th>\n",
       "      <td>Vostok Oil Pipeline</td>\n",
       "      <td>Phase I</td>\n",
       "      <td>800.0</td>\n",
       "      <td>623.6</td>\n",
       "      <td>NaN</td>\n",
       "      <td>Russia</td>\n",
       "      <td>Proposed</td>\n",
       "      <td>2022</td>\n",
       "      <td>https://www.gem.wiki/Vostok_Oil_Pipeline</td>\n",
       "    </tr>\n",
       "    <tr>\n",
       "      <th>777</th>\n",
       "      <td>Willow Oil Pipeline</td>\n",
       "      <td></td>\n",
       "      <td>620.4</td>\n",
       "      <td>NaN</td>\n",
       "      <td>200,000.0</td>\n",
       "      <td>United States</td>\n",
       "      <td>Proposed</td>\n",
       "      <td>2025</td>\n",
       "      <td>https://www.gem.wiki/Willow_Oil_Pipeline</td>\n",
       "    </tr>\n",
       "    <tr>\n",
       "      <th>532</th>\n",
       "      <td>Sabz Ab-Tang Fanni-Shazand-Rey crude oil pipeline project</td>\n",
       "      <td></td>\n",
       "      <td>620.0</td>\n",
       "      <td>443.2</td>\n",
       "      <td>450,000.0</td>\n",
       "      <td>Iran</td>\n",
       "      <td>Construction</td>\n",
       "      <td>NaN</td>\n",
       "      <td>https://www.gem.wiki/Sabz_Ab-Tang_Fanni-Shazand-Rey_crude_oil_pipeline_project</td>\n",
       "    </tr>\n",
       "    <tr>\n",
       "      <th>169</th>\n",
       "      <td>Lamu Port-South Sudan (LAPSSET) Pipeline</td>\n",
       "      <td>South Sudan–Lokichar Oil Pipeline Segment</td>\n",
       "      <td>NaN</td>\n",
       "      <td>550.8</td>\n",
       "      <td>160,000.0</td>\n",
       "      <td>South Sudan, Kenya</td>\n",
       "      <td>Proposed</td>\n",
       "      <td>2022</td>\n",
       "      <td>https://www.gem.wiki/Lamu_Port-South_Sudan_(LAPSSET)_Pipeline</td>\n",
       "    </tr>\n",
       "    <tr>\n",
       "      <th>548</th>\n",
       "      <td>Baku-Novorossiysk Oil Pipeline</td>\n",
       "      <td>Grozny-Baku Oil Pipeline Replacement Project</td>\n",
       "      <td>548.0</td>\n",
       "      <td>466.3</td>\n",
       "      <td>150,616.4</td>\n",
       "      <td>Russia, Azerbaijan</td>\n",
       "      <td>Construction</td>\n",
       "      <td>2022</td>\n",
       "      <td>https://www.gem.wiki/Baku-Novorossiysk_Oil_Pipeline</td>\n",
       "    </tr>\n",
       "    <tr>\n",
       "      <th>254</th>\n",
       "      <td>Oman Main Line–Ras Markaz Oil Pipeline</td>\n",
       "      <td></td>\n",
       "      <td>440.0</td>\n",
       "      <td>389.5</td>\n",
       "      <td>700,000.0</td>\n",
       "      <td>Oman</td>\n",
       "      <td>Construction</td>\n",
       "      <td>NaN</td>\n",
       "      <td>https://www.gem.wiki/Oman_Main_Line%E2%80%93Ras_Markaz_Oil_Pipeline</td>\n",
       "    </tr>\n",
       "  </tbody>\n",
       "</table>\n",
       "</div>"
      ],
      "text/plain": [
       "                                                  PipelineName  \\\n",
       "387                                   Niger–Benin Oil Pipeline   \n",
       "625                                        Tazama Oil Pipeline   \n",
       "175                                   Basra-Aqaba Oil Pipeline   \n",
       "939                  Paradip Numaligarh Crude Pipeline (PNCPL)   \n",
       "172                    East African Crude Oil Pipeline (EACOP)   \n",
       "976                            New Mundra–Panipat Oil Pipeline   \n",
       "144                                          Seahorse Pipeline   \n",
       "30                                 Trans Mountain Oil Pipeline   \n",
       "165                   Lamu Port-South Sudan (LAPSSET) Pipeline   \n",
       "780                                        Vostok Oil Pipeline   \n",
       "777                                        Willow Oil Pipeline   \n",
       "532  Sabz Ab-Tang Fanni-Shazand-Rey crude oil pipeline project   \n",
       "169                   Lamu Port-South Sudan (LAPSSET) Pipeline   \n",
       "548                             Baku-Novorossiysk Oil Pipeline   \n",
       "254                     Oman Main Line–Ras Markaz Oil Pipeline   \n",
       "\n",
       "                                      SegmentName LengthKnownKm  \\\n",
       "387                                                     1,950.0   \n",
       "625                                     Expansion       1,710.0   \n",
       "175                                                     1,665.0   \n",
       "939                                                     1,630.0   \n",
       "172                                                     1,444.0   \n",
       "976                                                     1,194.0   \n",
       "144                                                     1,126.5   \n",
       "30                 Trans Mountain Expansion (TMX)         980.0   \n",
       "165            Lokichar–Lamu Oil Pipeline Segment           NaN   \n",
       "780                                       Phase I         800.0   \n",
       "777                                                       620.4   \n",
       "532                                                       620.0   \n",
       "169     South Sudan–Lokichar Oil Pipeline Segment           NaN   \n",
       "548  Grozny-Baku Oil Pipeline Replacement Project         548.0   \n",
       "254                                                       440.0   \n",
       "\n",
       "    LengthEstimateKm CapacityBOEd           Countries        Status  \\\n",
       "387          1,886.6     90,000.0        Niger, Benin  Construction   \n",
       "625          1,734.8     22,000.0    Tanzania, Zambia      Proposed   \n",
       "175          1,663.8  1,000,000.0        Iraq, Jordan      Proposed   \n",
       "939          1,459.7          NaN               India  Construction   \n",
       "172          1,560.9    216,000.0    Uganda, Tanzania      Proposed   \n",
       "976          1,081.2    430,067.8               India      Proposed   \n",
       "144          1,127.6    800,000.0       United States      Proposed   \n",
       "30           1,097.4    290,000.0              Canada  Construction   \n",
       "165            835.3     65,000.0               Kenya      Proposed   \n",
       "780            623.6          NaN              Russia      Proposed   \n",
       "777              NaN    200,000.0       United States      Proposed   \n",
       "532            443.2    450,000.0                Iran  Construction   \n",
       "169            550.8    160,000.0  South Sudan, Kenya      Proposed   \n",
       "548            466.3    150,616.4  Russia, Azerbaijan  Construction   \n",
       "254            389.5    700,000.0                Oman  Construction   \n",
       "\n",
       "    StartYearEarliest  \\\n",
       "387              2024   \n",
       "625               NaN   \n",
       "175               NaN   \n",
       "939              2024   \n",
       "172              2025   \n",
       "976              2024   \n",
       "144              2022   \n",
       "30               2023   \n",
       "165              2023   \n",
       "780              2022   \n",
       "777              2025   \n",
       "532               NaN   \n",
       "169              2022   \n",
       "548              2022   \n",
       "254               NaN   \n",
       "\n",
       "                                                                               Wiki  \n",
       "387                           https://www.gem.wiki/Niger%E2%80%93Benin_Oil_Pipeline  \n",
       "625                                        https://www.gem.wiki/Tazama_Oil_Pipeline  \n",
       "175                                   https://www.gem.wiki/Basra-Aqaba_Oil_Pipeline  \n",
       "939                  https://www.gem.wiki/Paradip_Numaligarh_Crude_Pipeline_(PNCPL)  \n",
       "172                    https://www.gem.wiki/East_African_Crude_Oil_Pipeline_(EACOP)  \n",
       "976                    https://www.gem.wiki/New_Mundra%E2%80%93Panipat_Oil_Pipeline  \n",
       "144                                          https://www.gem.wiki/Seahorse_Pipeline  \n",
       "30                                 https://www.gem.wiki/Trans_Mountain_Oil_Pipeline  \n",
       "165                   https://www.gem.wiki/Lamu_Port-South_Sudan_(LAPSSET)_Pipeline  \n",
       "780                                        https://www.gem.wiki/Vostok_Oil_Pipeline  \n",
       "777                                        https://www.gem.wiki/Willow_Oil_Pipeline  \n",
       "532  https://www.gem.wiki/Sabz_Ab-Tang_Fanni-Shazand-Rey_crude_oil_pipeline_project  \n",
       "169                   https://www.gem.wiki/Lamu_Port-South_Sudan_(LAPSSET)_Pipeline  \n",
       "548                             https://www.gem.wiki/Baku-Novorossiysk_Oil_Pipeline  \n",
       "254             https://www.gem.wiki/Oman_Main_Line%E2%80%93Ras_Markaz_Oil_Pipeline  "
      ]
     },
     "execution_count": 308,
     "metadata": {},
     "output_type": "execute_result"
    }
   ],
   "source": [
    "pipes_df_orig.loc[(pipes_df_orig.Fuel=='Gas')&\n",
    "                  (pipes_df_orig.Status.isin(['Proposed','Construction']))].sort_values(\n",
    "    'LengthMergedKm', ascending=False)[['PipelineName','SegmentName','LengthKnownKm','LengthEstimateKm','CapacityBOEd','Countries','Status','StartYearEarliest','Wiki']][:15]\n"
   ]
  },
  {
   "cell_type": "markdown",
   "id": "0ca10b06-27b4-49d0-aea2-4d3aa2801104",
   "metadata": {},
   "source": [
    "## km of pipeline with 2022, 2023 start years"
   ]
  },
  {
   "cell_type": "code",
   "execution_count": 309,
   "id": "41b7f22a-4a20-4a9f-a581-8cbabbe35d5b",
   "metadata": {},
   "outputs": [
    {
     "name": "stdout",
     "output_type": "stream",
     "text": [
      "2179.75 1193.4\n",
      "2867.86 1347.2800000000004\n"
     ]
    }
   ],
   "source": [
    "# for the key points\n",
    "print(pipes_indev_startyear.loc['Construction',2022],\n",
    "      pipes_indev_startyear.loc['Construction',2023])\n",
    "\n",
    "print(pipes_indev_startyear.loc['Proposed',2022],\n",
    "      pipes_indev_startyear.loc['Proposed',2023])"
   ]
  },
  {
   "cell_type": "markdown",
   "id": "7e63a1db-0270-4177-ab3e-938d02509c20",
   "metadata": {},
   "source": [
    "## km of gas pipelines globally in development\n",
    "\n",
    "note this doesn't match up exactly with regional length calculations, so we've used the regional calculation totals instead (193,365.9)"
   ]
  },
  {
   "cell_type": "code",
   "execution_count": 310,
   "id": "75452ad0-615e-4b4d-89d5-4891d71902d2",
   "metadata": {},
   "outputs": [
    {
     "data": {
      "text/plain": [
       "24166.07"
      ]
     },
     "execution_count": 310,
     "metadata": {},
     "output_type": "execute_result"
    }
   ],
   "source": [
    "pipes_df_calc = pipes_df_orig.copy()\n",
    "pipes_df_calc.replace('--',numpy.nan,inplace=True)\n",
    "pipes_df_calc[(pipes_df_calc['Status'].isin(['Proposed','Construction'])) &\n",
    "        (pipes_df_calc['Fuel']=='Gas')]['LengthMergedKm'].sum()"
   ]
  },
  {
   "cell_type": "code",
   "execution_count": 311,
   "id": "06e0be20-2354-41c1-9838-53e0fa458e9b",
   "metadata": {},
   "outputs": [],
   "source": [
    "regional_km_sums_df = pandas.DataFrame(index=region_list, columns=status_list)\n",
    "\n",
    "for status in status_list:\n",
    "    regional_km_sums_df[status] = pipes_df_calc[(pipes_df_calc['Fuel']=='Gas') &\n",
    "                                                (pipes_df_calc['Status']==status)].groupby('StartRegion')['LengthMergedKm'].sum()\n",
    "\n",
    "regional_km_sums_df['P+C'] = regional_km_sums_df[['Proposed','Construction']].sum(axis=1)\n",
    "total_row = regional_km_sums_df.sum(axis=0)\n",
    "total_row.name = 'Total'\n",
    "#regional_km_sums_df.append(total_row)"
   ]
  },
  {
   "cell_type": "markdown",
   "id": "db6f746e",
   "metadata": {},
   "source": [
    "## country shares analysis"
   ]
  },
  {
   "cell_type": "code",
   "execution_count": 312,
   "id": "636ea038",
   "metadata": {},
   "outputs": [
    {
     "data": {
      "text/plain": [
       "24166.12"
      ]
     },
     "execution_count": 312,
     "metadata": {},
     "output_type": "execute_result"
    }
   ],
   "source": [
    "country_ratios_df[(country_ratios_df['Status'].isin(['Proposed','Construction'])) &\n",
    "               (country_ratios_df['Fuel']=='Gas')]['MergedKmByCountry'].sum()"
   ]
  },
  {
   "cell_type": "markdown",
   "id": "4d2b5f76-95a2-4233-b862-d6a0fad3bb0f",
   "metadata": {},
   "source": [
    "## num in dev globally, whether capacity expansions or not"
   ]
  },
  {
   "cell_type": "code",
   "execution_count": 313,
   "id": "fc4d8622-e562-4ccc-b0c8-7b0f78ae6d77",
   "metadata": {},
   "outputs": [
    {
     "name": "stdout",
     "output_type": "stream",
     "text": [
      "capacity expansion projects: (9, 88)\n",
      "non-zero length projects: (78, 88)\n"
     ]
    }
   ],
   "source": [
    "print(\"capacity expansion projects:\",\n",
    "    pipes_df_orig.loc[(pipes_df_orig.Fuel=='Gas')&\n",
    "                  (pipes_df_orig.Status.isin(['Proposed','Construction']))&\n",
    "                  (pipes_df_orig.Route.isin(['Capacity expansion only','Bidirectionality upgrade only']))].shape)\n",
    "\n",
    "print(\"non-zero length projects:\",\n",
    "      pipes_df_orig.loc[(pipes_df_orig.Fuel=='Gas')&\n",
    "                  (pipes_df_orig.Status.isin(['Proposed','Construction']))&\n",
    "                  (~pipes_df_orig.Route.isin(['Capacity expansion only','Bidirectionality upgrade only']))].shape)"
   ]
  },
  {
   "cell_type": "code",
   "execution_count": 314,
   "id": "3ff38068-b04e-4a03-9cb7-b4dfd85049d6",
   "metadata": {},
   "outputs": [],
   "source": [
    "cr = country_ratios_df.loc[(country_ratios_df.Status.isin(['Construction','Proposed']))&\n",
    "                      (country_ratios_df.Fuel=='Gas')]"
   ]
  },
  {
   "cell_type": "code",
   "execution_count": 315,
   "id": "49124e66-1a88-4281-bafb-d72fdd5c7c1a",
   "metadata": {},
   "outputs": [
    {
     "data": {
      "text/plain": [
       "ProjectID\n",
       "P0033    1\n",
       "P0358    1\n",
       "P0531    1\n",
       "P0538    3\n",
       "P0541    2\n",
       "        ..\n",
       "P3863    1\n",
       "P3864    1\n",
       "P3865    1\n",
       "P3888    1\n",
       "P3889    1\n",
       "Name: MergedKmByPipeline, Length: 78, dtype: int64"
      ]
     },
     "execution_count": 315,
     "metadata": {},
     "output_type": "execute_result"
    }
   ],
   "source": [
    "cr.loc[cr.MergedKmByPipeline!=0].groupby('ProjectID')['MergedKmByPipeline'].count()"
   ]
  },
  {
   "cell_type": "code",
   "execution_count": 316,
   "id": "21a96bd8-e464-4591-aba3-79d35a185654",
   "metadata": {},
   "outputs": [
    {
     "name": "stdout",
     "output_type": "stream",
     "text": [
      "481   2,000,000.0\n",
      "490      62,000.0\n",
      "491      89,000.0\n",
      "495     319,478.9\n",
      "517     150,000.0\n",
      "635     220,000.0\n",
      "695      70,000.0\n",
      "764     250,000.0\n",
      "890           NaN\n",
      "Name: CapacityBOEd, dtype: object\n",
      "                 Countries CapacityBOEd\n",
      "481           Saudi Arabia  2,000,000.0\n",
      "490              Argentina     62,000.0\n",
      "491              Argentina     89,000.0\n",
      "495     Kazakhstan, Russia    319,478.9\n",
      "517  Canada, United States    150,000.0\n",
      "635          United States    220,000.0\n",
      "695          United States     70,000.0\n",
      "764          United States    250,000.0\n",
      "890                  China          NaN\n"
     ]
    }
   ],
   "source": [
    "print(pipes_df_orig.loc[(pipes_df_orig.Fuel=='Gas')&\n",
    "                  (pipes_df_orig.Status.isin(['Proposed','Construction']))&\n",
    "                  (pipes_df_orig.Route.isin(['Capacity expansion only','Bidirectionality upgrade only']))]['CapacityBOEd'])\n",
    "\n",
    "\n",
    "print(pipes_df_orig.loc[(pipes_df_orig.Fuel=='Gas')&\n",
    "                  (pipes_df_orig.Status.isin(['Proposed','Construction']))&\n",
    "                  (pipes_df_orig.Route.isin(['Capacity expansion only','Bidirectionality upgrade only']))][['Countries','CapacityBOEd']])"
   ]
  },
  {
   "cell_type": "code",
   "execution_count": null,
   "id": "82bb0830-0950-42ac-af86-18559005c4b1",
   "metadata": {},
   "outputs": [],
   "source": []
  }
 ],
 "metadata": {
  "kernelspec": {
   "display_name": "gem",
   "language": "python",
   "name": "gem"
  },
  "language_info": {
   "codemirror_mode": {
    "name": "ipython",
    "version": 3
   },
   "file_extension": ".py",
   "mimetype": "text/x-python",
   "name": "python",
   "nbconvert_exporter": "python",
   "pygments_lexer": "ipython3",
   "version": "3.9.9"
  }
 },
 "nbformat": 4,
 "nbformat_minor": 5
}
