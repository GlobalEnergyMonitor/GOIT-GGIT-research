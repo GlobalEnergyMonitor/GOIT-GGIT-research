{
 "cells": [
  {
   "cell_type": "code",
   "execution_count": 373,
   "id": "3b38c4c2",
   "metadata": {},
   "outputs": [],
   "source": [
    "import pandas\n",
    "\n",
    "import pygsheets\n",
    "import numpy\n",
    "import scipy\n",
    "import re\n",
    "\n",
    "import matplotlib\n",
    "import matplotlib.pyplot as mp\n",
    "import matplotlib.cm\n",
    "\n",
    "import textwrap\n",
    "import seaborn"
   ]
  },
  {
   "cell_type": "markdown",
   "id": "28d79664-a683-49e9-a117-fed730f6b0b7",
   "metadata": {},
   "source": [
    "## define colors used in bars"
   ]
  },
  {
   "cell_type": "code",
   "execution_count": 374,
   "id": "c7a2b377-3968-4c9f-a5fa-6f1dcb621dea",
   "metadata": {},
   "outputs": [],
   "source": [
    "sel_cmap = matplotlib.cm.get_cmap('Reds')\n",
    "tracker_operating = sel_cmap(0.999)\n",
    "tracker_construction = sel_cmap(0.8)\n",
    "tracker_proposed = sel_cmap(0.6)\n",
    "tracker_shelved = sel_cmap(0.4)\n",
    "tracker_cancelled = sel_cmap(0.2)"
   ]
  },
  {
   "cell_type": "markdown",
   "id": "c5e51996-e86d-4e84-81b9-adfed4434b8b",
   "metadata": {},
   "source": [
    "# import data directly from google sheets"
   ]
  },
  {
   "cell_type": "code",
   "execution_count": 375,
   "id": "029bc7eb-d141-4e01-a747-e0b5b03f1f53",
   "metadata": {},
   "outputs": [],
   "source": [
    "credentials_directory = '/Users/baird/Dropbox/_google-api/'\n",
    "gc = pygsheets.authorize(service_account_env_var='GDRIVE_API_CREDENTIALS')\n",
    "#spreadsheet = gc.open_by_key('1foPLE6K-uqFlaYgLPAUxzeXfDO5wOOqE7tibNHeqTek')\n",
    "spreadsheet = gc.open_by_key('1bfPrp0w8Ruorq08Qe4hD8M3xVJ5e00phZ6ApFivO98k') # dec 2022 version\n",
    "\n",
    "#spreadsheet[1] \"Gas Pipelines\" tab is the second index\n",
    "gas_pipes = spreadsheet.worksheet('title','Gas pipelines').get_as_df(start='A2')\n",
    "oil_pipes = spreadsheet.worksheet('title', 'Oil/NGL pipelines').get_as_df(start='A2')\n",
    "\n",
    "pipes_df_orig = pandas.concat([oil_pipes, gas_pipes], ignore_index=True)\n",
    "\n",
    "#get country ratios sheet\n",
    "country_ratios_df = spreadsheet.worksheet('title', 'Country ratios by pipeline').get_as_df()"
   ]
  },
  {
   "cell_type": "code",
   "execution_count": 376,
   "id": "2aed6720-4918-47bd-a9fd-c77d41d22b53",
   "metadata": {},
   "outputs": [],
   "source": [
    "owners_df_orig = spreadsheet.worksheet('title', 'Pipeline operators/owners (1/3)').get_as_df(start='A2')\n",
    "owners_df_orig = owners_df_orig.loc[owners_df_orig.ProjectID!='']\n",
    "owners_df_orig = owners_df_orig.loc[owners_df_orig.Wiki!='']\n",
    "owners_df = owners_df_orig.replace('',numpy.nan)\n",
    "\n",
    "owner_parent_links_df = spreadsheet.worksheet('title', 'Owner–parent relationships (2/3)').get_as_df(start='A2')\n",
    "# only keep the owners with a checked relationship\n",
    "owner_parent_links_df = owner_parent_links_df.loc[owner_parent_links_df['Parent–Owner Relationship Checked?']=='yes']\n",
    "owner_parent_links_df.replace('',numpy.nan,inplace=True)\n",
    "\n",
    "parents_df = spreadsheet.worksheet('title', 'Parent metadata (3/3)').get_as_df(start='A2')\n",
    "parents_df = parents_df.loc[parents_df.Parent!='']\n",
    "\n",
    "owners_df.set_index('ProjectID', inplace=True)\n",
    "owner_parent_links_df.set_index('Owner', inplace=True)\n",
    "parents_df.set_index('Parent', inplace=True)\n",
    "\n",
    "# ****************************************\n",
    "\n",
    "## create list of owner and parent column names\n",
    "owner_pct_col_names = []\n",
    "owner_col_names = []\n",
    "\n",
    "parent_pct_col_names = []\n",
    "parent_col_names = []\n",
    "\n",
    "for num in range(1,11+1):\n",
    "    owner_pct_col = f'Owner{num}%'\n",
    "    owner_pct_col_names.append(owner_pct_col)\n",
    "    \n",
    "    owner_col = f'Owner{num}'\n",
    "    owner_col_names.append(owner_col)\n",
    "    \n",
    "    parent_pct_col = f'Parent{num}%'\n",
    "    parent_pct_col_names.append(parent_pct_col)\n",
    "    \n",
    "    parent_col = f'Parent{num}'\n",
    "    parent_col_names.append(parent_col)\n",
    "\n",
    "# ****************************************\n",
    "## fill in missing parent info by borrowing owner info\n",
    "owners_FULL_set = owners_df[owner_col_names].stack().dropna().unique().tolist() # from owners_df\n",
    "owners_researched_set = list(set(owner_parent_links_df.index.to_list()))#+['Unknown'] # only existing owners, plus 'Unknown'\n",
    "owners_diff = list(set(owners_FULL_set)-set(owners_researched_set))\n",
    "owners_diff.append('Unknown')\n",
    "\n",
    "# update owner_parent_links_df with these extra owners\n",
    "owner_parent_links_df = pandas.concat([owner_parent_links_df, pandas.DataFrame(index=owners_diff, columns=owner_parent_links_df.columns)])\n",
    "owner_parent_links_df['Parent1'].loc[owners_diff] = owners_diff\n",
    "owner_parent_links_df['Parent1%'].loc[owners_diff] = '100.00%'\n",
    "\n",
    "# ****************************************\n",
    "# update parents_df with these as well\n",
    "# note countries will be unknkown...\n",
    "parents_set = list(set(parents_df.index.to_list()))\n",
    "parents_diff = list(set(owners_diff)-set(parents_set))\n",
    "parents_diff.append('Unknown')\n",
    "parents_df = pandas.concat([parents_df, pandas.DataFrame(numpy.nan, index=parents_diff, columns=parents_df.columns)])\n",
    "parents_df.loc[parents_diff,'ParentHQCountry'] = 'Unknown'"
   ]
  },
  {
   "cell_type": "markdown",
   "id": "c03ad170",
   "metadata": {},
   "source": [
    "## replace \"--\" with NaN, removing empty rows\n",
    "\n",
    "the dataset is structured to have -- wherever there's a lookup value that doesn't exist; replacing it with NaN (numpy.nan) allows pandas to treat it as a null value, which makes calculations much easier"
   ]
  },
  {
   "cell_type": "code",
   "execution_count": 377,
   "id": "53a9af81",
   "metadata": {},
   "outputs": [],
   "source": [
    "# replace -- entries with NaN\n",
    "pipes_df_orig = pipes_df_orig.replace('--', numpy.nan)\n",
    "pipes_df_orig = pipes_df_orig[pipes_df_orig['PipelineName']!='']\n",
    "pipes_df_orig = pipes_df_orig[pipes_df_orig['Wiki']!='']\n",
    "country_ratios_df.replace('--', numpy.nan, inplace=True)"
   ]
  },
  {
   "cell_type": "markdown",
   "id": "a28ad2a3",
   "metadata": {},
   "source": [
    "# km by country, km by region calculations"
   ]
  },
  {
   "cell_type": "code",
   "execution_count": 378,
   "id": "b69bb35e",
   "metadata": {},
   "outputs": [],
   "source": [
    "status_list = ['Proposed', 'Construction', 'Shelved', 'Cancelled', 'Operating', 'Idle', 'Mothballed', 'Retired']\n",
    "country_list = sorted(list(set(country_ratios_df['Country'])))\n",
    "region_list = sorted(list(set(country_ratios_df['Region'])))"
   ]
  },
  {
   "cell_type": "code",
   "execution_count": 379,
   "id": "0f861f96",
   "metadata": {},
   "outputs": [
    {
     "name": "stdout",
     "output_type": "stream",
     "text": [
      "===country-level calculations===\n",
      "Proposed\n",
      "Construction\n",
      "Shelved\n",
      "Cancelled\n",
      "Operating\n",
      "Idle\n",
      "Mothballed\n",
      "Retired\n",
      "===regional calculations===\n",
      "Proposed\n",
      "Construction\n",
      "Shelved\n",
      "Cancelled\n",
      "Operating\n",
      "Idle\n",
      "Mothballed\n",
      "Retired\n"
     ]
    }
   ],
   "source": [
    "country_ratios_gas_df = country_ratios_df[country_ratios_df['Fuel']=='Gas']\n",
    "\n",
    "km_by_country_df = pandas.DataFrame(columns=status_list, index=country_list)\n",
    "km_by_region_df = pandas.DataFrame(columns=status_list, index=region_list)\n",
    "\n",
    "print('===country-level calculations===')\n",
    "for status in status_list:\n",
    "    print(status)\n",
    "    country_ratios_gas_df_status = country_ratios_gas_df[country_ratios_gas_df['Status']==status]\n",
    "    km_by_country_df[status] = country_ratios_gas_df_status.groupby('Country')['MergedKmByCountry'].sum()\n",
    "\n",
    "print('===regional calculations===')\n",
    "for status in status_list:\n",
    "    print(status)\n",
    "    country_ratios_gas_df_status = country_ratios_gas_df[country_ratios_gas_df['Status']==status]\n",
    "    km_by_region_df[status] = country_ratios_gas_df_status.groupby('Region')['MergedKmByCountry'].sum()\n",
    "\n",
    "# # fill NaN with 0.0\n",
    "km_by_region_df = km_by_region_df.fillna(0)\n",
    "km_by_country_df = km_by_country_df.fillna(0)"
   ]
  },
  {
   "cell_type": "code",
   "execution_count": 380,
   "id": "f27e1492-6919-456b-8519-a35e89c76f34",
   "metadata": {},
   "outputs": [],
   "source": [
    "km_by_region_df['Proposed+Construction'] = km_by_region_df[['Proposed','Construction']].sum(axis=1)\n",
    "km_by_region_df.sort_values(by='Proposed+Construction', inplace=True)\n",
    "km_by_region_df = km_by_region_df[['Proposed', 'Construction', 'Proposed+Construction', 'Shelved', 'Cancelled', 'Operating', 'Idle', 'Mothballed', 'Retired']]\n",
    "km_by_region_df.sort_values('Proposed+Construction', ascending=False, inplace=True)"
   ]
  },
  {
   "cell_type": "code",
   "execution_count": 381,
   "id": "38ef2764-c801-46f8-a82d-4803101a1f3b",
   "metadata": {},
   "outputs": [],
   "source": [
    "km_by_country_df['Proposed+Construction'] = km_by_country_df[['Proposed','Construction']].sum(axis=1)\n",
    "km_by_country_df.sort_values(by='Proposed+Construction', inplace=True)\n",
    "km_by_country_df = km_by_country_df[['Proposed', 'Construction', 'Proposed+Construction', 'Shelved', 'Cancelled', 'Operating', 'Idle', 'Mothballed', 'Retired']]\n",
    "km_by_country_df.sort_values('Proposed+Construction', ascending=False, inplace=True)"
   ]
  },
  {
   "cell_type": "markdown",
   "id": "c277d8a8-4ca4-491d-a172-2576d3346773",
   "metadata": {},
   "source": [
    "# projects by country, by region"
   ]
  },
  {
   "cell_type": "code",
   "execution_count": 382,
   "id": "9ff9810a-e55c-4a5c-89e4-7dbb2e4c6a48",
   "metadata": {},
   "outputs": [
    {
     "name": "stdout",
     "output_type": "stream",
     "text": [
      "===country-level calculations===\n",
      "Proposed\n",
      "Construction\n",
      "Shelved\n",
      "Cancelled\n",
      "Operating\n",
      "Idle\n",
      "Mothballed\n",
      "Retired\n",
      "===regional calculations===\n",
      "Proposed\n",
      "Construction\n",
      "Shelved\n",
      "Cancelled\n",
      "Operating\n",
      "Idle\n",
      "Mothballed\n",
      "Retired\n"
     ]
    }
   ],
   "source": [
    "country_ratios_gas_df = country_ratios_df[country_ratios_df['Fuel']=='Gas']\n",
    "\n",
    "num_by_country_df = pandas.DataFrame(columns=status_list, index=country_list)\n",
    "num_by_region_df = pandas.DataFrame(columns=status_list, index=region_list)\n",
    "\n",
    "print('===country-level calculations===')\n",
    "for status in status_list:\n",
    "    print(status)\n",
    "    country_ratios_gas_df_status = country_ratios_gas_df[country_ratios_gas_df['Status']==status]\n",
    "    num_by_country_df[status] = country_ratios_gas_df_status.groupby('ProjectID')['MergedKmByCountry'].sum()\n",
    "\n",
    "print('===regional calculations===')\n",
    "for status in status_list:\n",
    "    print(status)\n",
    "    country_ratios_gas_df_status = country_ratios_gas_df[country_ratios_gas_df['Status']==status]\n",
    "    num_by_region_df[status] = country_ratios_gas_df_status.groupby('Region')['MergedKmByCountry'].sum()\n",
    "\n",
    "# # fill NaN with 0.0\n",
    "num_by_region_df = num_by_region_df.fillna(0)\n",
    "num_by_country_df = num_by_country_df.fillna(0)"
   ]
  },
  {
   "cell_type": "markdown",
   "id": "99fe358c",
   "metadata": {},
   "source": [
    "# numbers of pipes finished in a given year"
   ]
  },
  {
   "cell_type": "code",
   "execution_count": 383,
   "id": "198c9165",
   "metadata": {},
   "outputs": [],
   "source": [
    "# count pipelines that are already operating\n",
    "pipes_started = pipes_df_orig.copy()\n",
    "pipes_started['StartYearEarliest'].replace(numpy.nan,'',inplace=True)\n",
    "pipes_started = pipes_started[(pipes_started['Status'].isin(['Operating'])) &\n",
    "                              (pipes_started['Fuel']=='Gas')]\n",
    "pipes_started_sum = pipes_started.groupby('StartYearEarliest')['LengthMergedKm'].sum()"
   ]
  },
  {
   "cell_type": "code",
   "execution_count": 384,
   "id": "8d9559e8-1fc7-49c1-833f-6e19e425e498",
   "metadata": {},
   "outputs": [],
   "source": [
    "# count km of pipeline for each start year\n",
    "pipes_started_startyear = pipes_df_orig.copy()\n",
    "pipes_started_startyear['StartYearEarliest'].replace(numpy.nan,'',inplace=True)\n",
    "pipes_started_startyear = pipes_started_startyear[(pipes_started_startyear['Status'].isin(['Operating'])) &\n",
    "                              (pipes_started_startyear['Fuel']=='Gas')]\n",
    "#pipes_started_startyear_sum = pipes_started_startyear.groupby('StartYearLatest')['LengthMergedKm'].sum()"
   ]
  },
  {
   "cell_type": "code",
   "execution_count": 385,
   "id": "b944ca0c-f362-4d07-a142-78b1523e988d",
   "metadata": {},
   "outputs": [],
   "source": [
    "# indev pipelines = Proposed or Construction or Shelved\n",
    "pipes_indev = pipes_df_orig.copy()\n",
    "pipes_indev = pipes_indev.loc[(pipes_indev.Fuel=='Gas')&\n",
    "                              (pipes_indev.Status.isin(['Proposed','Construction','Shelved']))].groupby('Status')['LengthMergedKm'].sum()\n",
    "#pipes_indev = pipes_indev.loc[(pipes_indev.StartYearEarliest>2022)|\n",
    "#                              (pipes_indev.StartYearEarliest.isna())].groupby('Status')['LengthMergedKm'].sum()"
   ]
  },
  {
   "cell_type": "code",
   "execution_count": 386,
   "id": "d15a4dbf-af9f-4c41-bb90-bc045c099402",
   "metadata": {},
   "outputs": [],
   "source": [
    "pipes_indev_to2030 = pipes_df_orig.copy()\n",
    "pipes_indev_to2030 = pipes_indev_to2030.loc[(pipes_indev_to2030['Fuel']=='Gas') &\n",
    "                                        (pipes_indev_to2030['Status'].isin(['Proposed','Construction','Shelved'])) &\n",
    "                                        (pipes_indev_to2030['StartYearEarliest'].isin(list(range(2023,2031))))]\n",
    "pipes_indev_to2030 = pipes_indev_to2030.groupby('Status')['LengthMergedKm'].sum()\n"
   ]
  },
  {
   "cell_type": "code",
   "execution_count": 387,
   "id": "5bd752fe-875a-4bc2-8429-0910473d52c6",
   "metadata": {},
   "outputs": [],
   "source": [
    "pipes_indev_startyear = pipes_df_orig.copy()\n",
    "pipes_indev_startyear = pipes_indev_startyear[(pipes_indev_startyear['Status'].isin(['Proposed','Construction','Shelved'])) &\n",
    "                                              (pipes_indev_startyear['Fuel']=='Gas')]\n",
    "pipes_indev_startyear = pipes_indev_startyear.groupby(['Status','StartYearEarliest'], dropna=False)['LengthMergedKm'].sum(min_count=1)"
   ]
  },
  {
   "cell_type": "code",
   "execution_count": 388,
   "id": "47cc5cd7-5c49-4195-b71d-fff190221140",
   "metadata": {},
   "outputs": [
    {
     "data": {
      "text/html": [
       "<div>\n",
       "<style scoped>\n",
       "    .dataframe tbody tr th:only-of-type {\n",
       "        vertical-align: middle;\n",
       "    }\n",
       "\n",
       "    .dataframe tbody tr th {\n",
       "        vertical-align: top;\n",
       "    }\n",
       "\n",
       "    .dataframe thead th {\n",
       "        text-align: right;\n",
       "    }\n",
       "</style>\n",
       "<table border=\"1\" class=\"dataframe\">\n",
       "  <thead>\n",
       "    <tr style=\"text-align: right;\">\n",
       "      <th>StartYearEarliest</th>\n",
       "      <th>2,018.0</th>\n",
       "      <th>2,019.0</th>\n",
       "      <th>2,020.0</th>\n",
       "      <th>2,021.0</th>\n",
       "      <th>2,022.0</th>\n",
       "      <th>2,023.0</th>\n",
       "      <th>2,024.0</th>\n",
       "      <th>2,025.0</th>\n",
       "      <th>2,026.0</th>\n",
       "      <th>2,027.0</th>\n",
       "      <th>2,028.0</th>\n",
       "      <th>2,029.0</th>\n",
       "      <th>2,030.0</th>\n",
       "      <th>2,034.0</th>\n",
       "      <th>2,035.0</th>\n",
       "      <th>2,046.0</th>\n",
       "      <th>NaN</th>\n",
       "    </tr>\n",
       "    <tr>\n",
       "      <th>Status</th>\n",
       "      <th></th>\n",
       "      <th></th>\n",
       "      <th></th>\n",
       "      <th></th>\n",
       "      <th></th>\n",
       "      <th></th>\n",
       "      <th></th>\n",
       "      <th></th>\n",
       "      <th></th>\n",
       "      <th></th>\n",
       "      <th></th>\n",
       "      <th></th>\n",
       "      <th></th>\n",
       "      <th></th>\n",
       "      <th></th>\n",
       "      <th></th>\n",
       "      <th></th>\n",
       "    </tr>\n",
       "  </thead>\n",
       "  <tbody>\n",
       "    <tr>\n",
       "      <th>Construction</th>\n",
       "      <td>873.0</td>\n",
       "      <td>NaN</td>\n",
       "      <td>NaN</td>\n",
       "      <td>50.0</td>\n",
       "      <td>22,060.0</td>\n",
       "      <td>12,793.6</td>\n",
       "      <td>5,394.2</td>\n",
       "      <td>1,982.1</td>\n",
       "      <td>NaN</td>\n",
       "      <td>NaN</td>\n",
       "      <td>NaN</td>\n",
       "      <td>NaN</td>\n",
       "      <td>NaN</td>\n",
       "      <td>NaN</td>\n",
       "      <td>NaN</td>\n",
       "      <td>NaN</td>\n",
       "      <td>16,146.8</td>\n",
       "    </tr>\n",
       "    <tr>\n",
       "      <th>Proposed</th>\n",
       "      <td>NaN</td>\n",
       "      <td>450.0</td>\n",
       "      <td>670.3</td>\n",
       "      <td>209.0</td>\n",
       "      <td>8,827.6</td>\n",
       "      <td>10,458.6</td>\n",
       "      <td>11,206.2</td>\n",
       "      <td>10,185.3</td>\n",
       "      <td>3,609.2</td>\n",
       "      <td>3,576.7</td>\n",
       "      <td>5,323.7</td>\n",
       "      <td>942.0</td>\n",
       "      <td>5,855.6</td>\n",
       "      <td>315.0</td>\n",
       "      <td>110.0</td>\n",
       "      <td>5,660.0</td>\n",
       "      <td>83,933.5</td>\n",
       "    </tr>\n",
       "    <tr>\n",
       "      <th>Shelved</th>\n",
       "      <td>NaN</td>\n",
       "      <td>221.7</td>\n",
       "      <td>1,100.7</td>\n",
       "      <td>5,448.6</td>\n",
       "      <td>3,588.4</td>\n",
       "      <td>3,353.4</td>\n",
       "      <td>1,308.4</td>\n",
       "      <td>1,170.0</td>\n",
       "      <td>NaN</td>\n",
       "      <td>150.0</td>\n",
       "      <td>11.0</td>\n",
       "      <td>135.0</td>\n",
       "      <td>NaN</td>\n",
       "      <td>NaN</td>\n",
       "      <td>NaN</td>\n",
       "      <td>NaN</td>\n",
       "      <td>21,242.0</td>\n",
       "    </tr>\n",
       "  </tbody>\n",
       "</table>\n",
       "</div>"
      ],
      "text/plain": [
       "StartYearEarliest 2,018.0 2,019.0 2,020.0 2,021.0  2,022.0  2,023.0  2,024.0  \\\n",
       "Status                                                                         \n",
       "Construction        873.0     NaN     NaN    50.0 22,060.0 12,793.6  5,394.2   \n",
       "Proposed              NaN   450.0   670.3   209.0  8,827.6 10,458.6 11,206.2   \n",
       "Shelved               NaN   221.7 1,100.7 5,448.6  3,588.4  3,353.4  1,308.4   \n",
       "\n",
       "StartYearEarliest  2,025.0 2,026.0 2,027.0 2,028.0 2,029.0 2,030.0 2,034.0  \\\n",
       "Status                                                                       \n",
       "Construction       1,982.1     NaN     NaN     NaN     NaN     NaN     NaN   \n",
       "Proposed          10,185.3 3,609.2 3,576.7 5,323.7   942.0 5,855.6   315.0   \n",
       "Shelved            1,170.0     NaN   150.0    11.0   135.0     NaN     NaN   \n",
       "\n",
       "StartYearEarliest 2,035.0 2,046.0  NaN      \n",
       "Status                                      \n",
       "Construction          NaN     NaN 16,146.8  \n",
       "Proposed            110.0 5,660.0 83,933.5  \n",
       "Shelved               NaN     NaN 21,242.0  "
      ]
     },
     "execution_count": 388,
     "metadata": {},
     "output_type": "execute_result"
    }
   ],
   "source": [
    "pipes_indev_startyear.unstack()"
   ]
  },
  {
   "cell_type": "markdown",
   "id": "5a075334-5559-443b-a8bf-c2cc32c2ece7",
   "metadata": {},
   "source": [
    "## Fig 2 - 2023–2030, go back to 2008"
   ]
  },
  {
   "cell_type": "code",
   "execution_count": 389,
   "id": "30602be5-da26-4642-b985-ef9771157a7f",
   "metadata": {},
   "outputs": [],
   "source": [
    "pandas.DataFrame(pipes_started_sum).to_excel('saved-tables/pipelines-operating-km-by-start-year.xlsx')\n",
    "\n",
    "pandas.DataFrame(pipes_indev_startyear).unstack().replace(numpy.nan,0).to_excel('saved-tables/pipelines-indev-km-by-start-year.xlsx')"
   ]
  },
  {
   "cell_type": "markdown",
   "id": "83c69fd8-e7a7-41bb-b816-b175a0b8909b",
   "metadata": {},
   "source": [
    "## future/past plot"
   ]
  },
  {
   "cell_type": "code",
   "execution_count": 390,
   "id": "5e6210eb-0ae8-47f3-81af-2b10d7833e6f",
   "metadata": {},
   "outputs": [
    {
     "data": {
      "image/png": "[encoded data removed]",
      "text/plain": [
       "<Figure size 325x400 with 2 Axes>"
      ]
     },
     "metadata": {},
     "output_type": "display_data"
    }
   ],
   "source": [
    "font_size = 7\n",
    "\n",
    "ytop = 200000\n",
    "ytop2 = 200000\n",
    "xlo=2008\n",
    "xhi=2022\n",
    "\n",
    "fig = mp.figure(figsize=(3.25,4))\n",
    "\n",
    "widths=[15,2.25]\n",
    "spec = fig.add_gridspec(ncols=2, nrows=1, width_ratios=widths)\n",
    "\n",
    "ax = fig.add_subplot(spec[0,0])\n",
    "\n",
    "ax.bar(pipes_started_sum.loc[range(xlo,xhi+1)].index.values, pipes_started_sum.loc[range(xlo,xhi+1)].values,\n",
    "       color=tracker_operating, label='Operating') # color=solar_base03\n",
    "\n",
    "ax.bar(2022,pipes_indev_startyear['Construction',2022],\n",
    "       label='Construction\\n(scheduled\\nfor 2022)', bottom=pipes_started_sum.loc[2022], \n",
    "       facecolor=tracker_operating, alpha=0.25)\n",
    "\n",
    "ax.tick_params(labelsize=font_size)\n",
    "ax.tick_params('x', rotation=45)\n",
    "ax.set_ylabel('km', size=font_size)\n",
    "\n",
    "ax.set_xlim(xlo-0.75, xhi+0.75)\n",
    "ax.set_ylim(0, ytop)\n",
    "\n",
    "ax.xaxis.set_major_locator(matplotlib.ticker.MaxNLocator(integer=True))\n",
    "\n",
    "ax2 = fig.add_subplot(spec[0,1])\n",
    "ax2.set_ylim(0, ytop2)\n",
    "ax2.set_xlim(0.25,2.75)\n",
    "xvals = [1.5]\n",
    "\n",
    "colors = [tracker_construction, tracker_proposed]#, tracker_shelved]\n",
    "status = ['Construction', 'Proposed']#, 'Shelved']\n",
    "ax2_list = []\n",
    "# for x,c,s in zip(xvals,colors,status):\n",
    "#     if s in ['Proposed','Shelved']:\n",
    "#         ax2_list.append(ax2.bar(x, pipes_indev[s]+pipes_indev_startyear[s,2022],\n",
    "#                  color=c, label=s))\n",
    "#     else:\n",
    "#         ax2_list.append(ax2.bar(x, pipes_indev[s],\n",
    "#                  color=c, label=s))\n",
    "ax2_list.append(ax2.bar(xvals[0], pipes_indev['Construction'],\n",
    "                 color=tracker_construction, label='Construction'))\n",
    "\n",
    "ax2_list.append(ax2.bar(xvals[0], pipes_indev['Proposed']-pipes_indev_startyear['Construction',2022],\n",
    "                        bottom=pipes_indev['Construction'],\n",
    "                 color=tracker_shelved, label='Proposed'))\n",
    "\n",
    "ax_h, ax_l = ax.get_legend_handles_labels()\n",
    "ax2_h, ax2_l = ax2.get_legend_handles_labels()\n",
    "\n",
    "ax2.set_xticklabels([])\n",
    "ax2.tick_params(labelsize=font_size)\n",
    "ax2.set_xticks([])\n",
    "\n",
    "ax2.set_yticks([])\n",
    "\n",
    "ax.legend(handles=ax_h+ax2_h, fontsize=font_size, frameon=False, \n",
    "          loc='upper left', bbox_to_anchor=[0.05,1])\n",
    "\n",
    "axpos = ax.get_position()\n",
    "ax2pos = ax2.get_position()\n",
    "\n",
    "ax.spines['right'].set_visible(False)\n",
    "ax.spines['top'].set_visible(False)\n",
    "\n",
    "ax2.spines['left'].set_visible(False)\n",
    "ax2.spines['top'].set_visible(False)\n",
    "ax2.spines['right'].set_visible(False)\n",
    "#ax2.spines['right'].set_visible(False)\n",
    "\n",
    "ax.set_title('commissioned by year', fontsize=font_size)\n",
    "ax2.set_title('future', fontsize=font_size)\n",
    "\n",
    "fig.tight_layout(w_pad=0.5)\n",
    "\n",
    "ax.yaxis.set_minor_locator(matplotlib.ticker.AutoMinorLocator(2))\n",
    "#ax2.yaxis.set_minor_locator(matplotlib.ticker.AutoMinorLocator(2))\n",
    "\n",
    "mp.savefig('saved-figures/gas-pipelines_km-by-start-year-backto2008-with-2022-alt.png', bbox_inches='tight', transparent=True, dpi=600)\n",
    "mp.savefig('saved-figures/gas-pipelines_km-by-start-year-backto2008-with-2022-alt.pdf', bbox_inches='tight', transparent=True)"
   ]
  },
  {
   "cell_type": "code",
   "execution_count": 391,
   "id": "09a92802-974a-42de-bc19-e12f40226b70",
   "metadata": {},
   "outputs": [
    {
     "data": {
      "text/plain": [
       "Status\n",
       "Construction    59,299.7\n",
       "Proposed       151,332.6\n",
       "Shelved         37,729.3\n",
       "Name: LengthMergedKm, dtype: object"
      ]
     },
     "execution_count": 391,
     "metadata": {},
     "output_type": "execute_result"
    }
   ],
   "source": [
    "pipes_indev"
   ]
  },
  {
   "cell_type": "markdown",
   "id": "8298e2a6-3199-460c-8109-9f2ce4e9f680",
   "metadata": {},
   "source": [
    "## percent pipelines with start date (sanity check)"
   ]
  },
  {
   "cell_type": "code",
   "execution_count": 392,
   "id": "9b19f13c-1f8e-47eb-abff-f8ee5545ba20",
   "metadata": {},
   "outputs": [],
   "source": [
    "pipes_scratch = pipes_df_orig.copy()\n",
    "pipes_scratch = pipes_scratch[(pipes_scratch['Fuel']=='Gas') &\n",
    "                              (pipes_scratch['Status'].isin(['Proposed','Construction','Shelved']))]"
   ]
  },
  {
   "cell_type": "code",
   "execution_count": 393,
   "id": "4b88a57c-41dd-4d0a-a3ca-3c08d90892ac",
   "metadata": {},
   "outputs": [
    {
     "data": {
      "text/plain": [
       "0.543646408839779"
      ]
     },
     "execution_count": 393,
     "metadata": {},
     "output_type": "execute_result"
    }
   ],
   "source": [
    "pipes_scratch[~pipes_scratch['StartYearEarliest'].isnull()]['StartYearEarliest'].count()/pipes_scratch.shape[0]\n"
   ]
  },
  {
   "cell_type": "markdown",
   "id": "358e0310",
   "metadata": {},
   "source": [
    "## regional pipelines started in given year"
   ]
  },
  {
   "cell_type": "code",
   "execution_count": 394,
   "id": "bc05d721",
   "metadata": {},
   "outputs": [],
   "source": [
    "years_array = numpy.arange( float(pipes_df_orig['StartYearEarliest'].min()), float(pipes_df_orig['StartYearEarliest'].max())+1)\n",
    "regions_startyear_sums_df = pandas.DataFrame(numpy.nan, index=years_array, columns=region_list)"
   ]
  },
  {
   "cell_type": "code",
   "execution_count": 395,
   "id": "b1fca66b",
   "metadata": {},
   "outputs": [],
   "source": [
    "#pipes_started = pipes_df.copy()[(pipes_df['Status'].isin(['Operating'])) & pipes_df['Fuel']=='Gas']\n",
    "#pipes_started_sum = pipes_started.groupby('StartYearLatest')['LengthMergedKm'].sum()\n",
    "\n",
    "for region in region_list:\n",
    "    pipes_started = pipes_df_orig.copy()[(pipes_df_orig['Status'].isin(['Operating','Retired','Idle'])) & \n",
    "                                    (pipes_df_orig['Fuel']=='Gas')]\n",
    "    pipes_started = pipes_started[pipes_started['StartRegion']==region]\n",
    "    pipes_started_sum_up = pipes_started.groupby('StartYearEarliest')['LengthMergedKm'].sum()\n",
    "    \n",
    "    regions_startyear_sums_df[region] = pipes_started_sum_up"
   ]
  },
  {
   "cell_type": "code",
   "execution_count": 396,
   "id": "37727617-097d-400e-82f7-bc396ec094aa",
   "metadata": {},
   "outputs": [],
   "source": [
    "if len(region_list)!=10:\n",
    "    region_list = region_list[2:]"
   ]
  },
  {
   "cell_type": "markdown",
   "id": "0299445b-00c6-448c-9db4-1ee541d487ed",
   "metadata": {},
   "source": [
    "## plot pie chart of regional values"
   ]
  },
  {
   "cell_type": "code",
   "execution_count": 397,
   "id": "226216bb-58ee-4c37-af1f-637b84aa56ea",
   "metadata": {},
   "outputs": [
    {
     "data": {
      "image/png": "[encoded data removed]",
      "text/plain": [
       "<Figure size 1000x100 with 1 Axes>"
      ]
     },
     "metadata": {},
     "output_type": "display_data"
    },
    {
     "data": {
      "image/png": "[encoded data removed]",
      "text/plain": [
       "<Figure size 1000x100 with 1 Axes>"
      ]
     },
     "metadata": {},
     "output_type": "display_data"
    }
   ],
   "source": [
    "# mess with some color pallettes\n",
    "#seaborn.color_palette('husl', 10)\n",
    "seaborn.palplot(seaborn.husl_palette(10, s=0.9, l=0.75, h=0.15))\n",
    "seaborn.palplot(seaborn.husl_palette(10, h=0.15))\n",
    "\n",
    "cmap_dark = seaborn.husl_palette(10, h=0.15, l=0.4, s=0.8, as_cmap=True)\n",
    "cmap_light = seaborn.husl_palette(10, h=0.15, s=1, as_cmap=True)"
   ]
  },
  {
   "cell_type": "code",
   "execution_count": 398,
   "id": "2efd35e5-b020-45a3-8686-1c1cf1e65bcb",
   "metadata": {},
   "outputs": [
    {
     "data": {
      "image/png": "[encoded data removed]",
      "text/plain": [
       "<Figure size 500x500 with 1 Axes>"
      ]
     },
     "metadata": {},
     "output_type": "display_data"
    }
   ],
   "source": [
    "font_size=7\n",
    "\n",
    "fig = mp.figure(figsize=(5,5))\n",
    "ax = fig.add_subplot(111)\n",
    "\n",
    "nwedges = region_list.__len__()\n",
    "region_order = km_by_region_df.index[:nwedges]\n",
    "\n",
    "pie_vals = km_by_region_df.loc[region_order]['Proposed+Construction'].values\n",
    "pie_labels = km_by_region_df.index\n",
    "pie_labels_km = km_by_region_df.loc[region_order]['Proposed+Construction'].apply(lambda x: f'\\n{int(round(x,-2)):,} km')\n",
    "pie_labels_perc = (km_by_region_df.loc[region_order]['Proposed+Construction'] / \n",
    "                   km_by_region_df.loc[region_order]['Proposed+Construction'].sum() * 100.).apply(lambda x: f'\\n{x:.1f}%')\n",
    "\n",
    "# ****************************************\n",
    "pie_vals_separated = km_by_region_df.loc[region_order][['Construction','Proposed']].values.flatten()\n",
    "#pie_labels_separated = numpy.array(list(zip(km_by_region_df.index[:-1],km_by_region_df.index[:-1]))).flatten()\n",
    "#pie_labels_km = km_by_region_df.loc[region_order]['Proposed+Construction'].apply(lambda x: f'\\n{int(round(x,-3)):,} km')\n",
    "\n",
    "nwedges_separated = 20\n",
    "cmap_light_10 = cmap_light(numpy.linspace(0,1,nwedges))\n",
    "cmap_dark_10 = cmap_dark(numpy.linspace(0,1,nwedges))\n",
    "\n",
    "pie_labels = [i+j+k for i,j,k in zip(pie_labels, pie_labels_km, pie_labels_perc)]\n",
    "pie_width = 0.666\n",
    "\n",
    "# ****************************************\n",
    "# size=0.3\n",
    "ax.pie(pie_vals_separated, \n",
    "       #labels=pie_labels,\n",
    "       #radius=1-size,\n",
    "       colors=numpy.hstack((cmap_light_10, cmap_dark_10)).reshape(20,-1),\n",
    "       wedgeprops=dict(width=pie_width),\n",
    "       textprops={'fontsize': font_size})\n",
    "ax.pie(pie_vals, \n",
    "       labels=pie_labels,\n",
    "       #radius=1,\n",
    "       #bottom=0.25,\n",
    "       colors=None,#cmap(numpy.linspace(0,1,pie_vals.size))[::-1],\n",
    "       wedgeprops=dict(edgecolor='1', facecolor='None', linewidth=2, width=pie_width),\n",
    "       textprops={'fontsize': font_size})\n",
    "\n",
    "\n",
    "ax.tick_params(labelsize=font_size)\n",
    "\n",
    "fig.tight_layout()\n",
    "\n",
    "mp.savefig('saved-figures/gas-pipelines_pie-graph-country-pipelines-km.pdf', bbox_inches='tight', transparent=True)\n",
    "\n",
    "mp.savefig('saved-figures/gas-pipelines_pie-graph-country-pipelines-km.png', \n",
    "          bbox_inches='tight', \n",
    "          transparent=True,\n",
    "          dpi=600)"
   ]
  },
  {
   "cell_type": "markdown",
   "id": "712acc4e",
   "metadata": {},
   "source": [
    "# top 20 countries proposed+construction"
   ]
  },
  {
   "cell_type": "code",
   "execution_count": 399,
   "id": "e4961c91-d30b-4e76-9e26-94a0ae21ba70",
   "metadata": {},
   "outputs": [],
   "source": [
    "def adjust_spines(ax, spines):\n",
    "    for loc, spine in ax.spines.items():\n",
    "        if loc in spines:\n",
    "            spine.set_position(('outward', 10))  # outward by 10 points\n",
    "        else:\n",
    "            spine.set_color('none')  # don't draw spine\n",
    "\n",
    "    # turn off ticks where there is no spine\n",
    "    if 'left' in spines:\n",
    "        ax.yaxis.set_ticks_position('left')\n",
    "    else:\n",
    "        # no yaxis ticks\n",
    "        ax.yaxis.set_ticks([])\n",
    "\n",
    "    if 'bottom' in spines:\n",
    "        ax.xaxis.set_ticks_position('bottom')\n",
    "    else:\n",
    "        # no xaxis ticks\n",
    "        ax.xaxis.set_ticks([])"
   ]
  },
  {
   "cell_type": "code",
   "execution_count": 400,
   "id": "3cdebc59",
   "metadata": {
    "tags": []
   },
   "outputs": [
    {
     "data": {
      "image/png": "[encoded data removed]",
      "text/plain": [
       "<Figure size 675x400 with 1 Axes>"
      ]
     },
     "metadata": {},
     "output_type": "display_data"
    }
   ],
   "source": [
    "font_size = 7\n",
    "fig = mp.figure(figsize=(6.75,4))\n",
    "nbars=20\n",
    "\n",
    "country_order = km_by_country_df.index[:nbars][::-1]\n",
    "\n",
    "ax = fig.add_subplot(111)\n",
    "\n",
    "ax.barh(numpy.arange(nbars), \n",
    "        km_by_country_df.loc[country_order]['Construction'].values, \n",
    "        facecolor=tracker_construction,#solar_orange, \n",
    "        label='Construction')\n",
    "\n",
    "ax.barh(numpy.arange(nbars), \n",
    "        km_by_country_df.loc[country_order]['Proposed'].values, \n",
    "        left=km_by_country_df.loc[country_order]['Construction'].values, \n",
    "        facecolor=tracker_proposed,#solar_yellow, \n",
    "        label='Proposed')\n",
    "\n",
    "ax.barh(numpy.arange(nbars), \n",
    "        km_by_country_df.loc[country_order]['Shelved'].values, \n",
    "        left=km_by_country_df.loc[country_order][['Proposed','Construction']].sum(axis=1).values, \n",
    "        facecolor=tracker_shelved,#'0.75', \n",
    "        label='Shelved')\n",
    "\n",
    "ax.barh(numpy.arange(nbars), \n",
    "        km_by_country_df.loc[country_order]['Cancelled'].values, \n",
    "        left=km_by_country_df.loc[country_order][['Proposed','Construction','Shelved']].sum(axis=1).values, \n",
    "        facecolor=tracker_cancelled,#'0.9', \n",
    "        label='Cancelled')\n",
    "\n",
    "ax.set_yticks(numpy.arange(nbars))\n",
    "ax.set_yticklabels(km_by_country_df.index[:nbars][::-1])\n",
    "ax.tick_params(labelsize=font_size)\n",
    "ax.tick_params('x', pad=0)\n",
    "ax.set_xlim(0,61000)\n",
    "#ax.set_ylim(-.75,19.75)\n",
    "ax.set_ylim(-.25,20)\n",
    "ax.set_xlabel('km', size=font_size)#, labelpad=10)\n",
    "ax.xaxis.set_ticks_position('top')\n",
    "ax.xaxis.set_label_position('top')\n",
    "\n",
    "ax.legend(fontsize=font_size, frameon=False, loc='lower right')\n",
    "\n",
    "ax.spines['right'].set_visible(False)\n",
    "ax.spines['left'].set_visible(False)\n",
    "ax.spines['bottom'].set_visible(False)\n",
    "\n",
    "#mp.savefig('saved-figures/oil-pipelines_top-20-countries.pdf', bbox_inches='tight', transparent=True)\n",
    "\n",
    "#adjust_spines(ax, ['top'])\n",
    "    \n",
    "mp.savefig('saved-figures/gas-pipelines_top-20-countries.png',\n",
    "          bbox_inches='tight', \n",
    "          transparent=True,\n",
    "          dpi=600)\n",
    "\n",
    "mp.savefig('saved-figures/gas-pipelines_top-20-countries.pdf',\n",
    "          bbox_inches='tight', \n",
    "          transparent=True)"
   ]
  },
  {
   "cell_type": "markdown",
   "id": "3b0980c1-af1a-4b83-a13e-ec9f8942a6ff",
   "metadata": {},
   "source": [
    "# top 20 without cancelled and shelved bars"
   ]
  },
  {
   "cell_type": "code",
   "execution_count": 401,
   "id": "f96b605e-5079-43e8-b117-5f5ebd2f708b",
   "metadata": {},
   "outputs": [
    {
     "data": {
      "image/png": "[encoded data removed]",
      "text/plain": [
       "<Figure size 675x400 with 1 Axes>"
      ]
     },
     "metadata": {},
     "output_type": "display_data"
    }
   ],
   "source": [
    "sel_cmap = matplotlib.cm.get_cmap('Reds')\n",
    "#tracker_operating = sel_cmap(0.999)\n",
    "#tracker_construction = sel_cmap(0.8)\n",
    "#tracker_proposed = sel_cmap(0.6)\n",
    "#tracker_shelved = sel_cmap(0.4)\n",
    "#tracker_cancelled = sel_cmap(0.2)\n",
    "\n",
    "font_size = 7\n",
    "fig = mp.figure(figsize=(6.75,4))\n",
    "nbars=20\n",
    "\n",
    "country_order = km_by_country_df.index[:nbars][::-1]\n",
    "\n",
    "ax = fig.add_subplot(111)\n",
    "\n",
    "ax.barh(numpy.arange(nbars), \n",
    "        km_by_country_df.loc[country_order]['Construction'].values, \n",
    "        facecolor=sel_cmap(0.8),\n",
    "        label='Construction', height=0.6)\n",
    "\n",
    "ax.barh(numpy.arange(nbars), \n",
    "        km_by_country_df.loc[country_order]['Proposed'].values, \n",
    "        left=km_by_country_df.loc[country_order]['Construction'].values, \n",
    "        facecolor=sel_cmap(0.4),\n",
    "        label='Proposed', height=0.6)\n",
    "\n",
    "ax.set_yticks(numpy.arange(nbars))\n",
    "ax.set_yticklabels(km_by_country_df.index[:nbars][::-1])\n",
    "ax.tick_params(labelsize=font_size)\n",
    "ax.tick_params('x', pad=0)\n",
    "ax.set_xlim(0,60000)\n",
    "#ax.set_ylim(-.75,19.75)\n",
    "ax.set_ylim(-.25,20)\n",
    "ax.set_xlabel('km', size=font_size)#, labelpad=10)\n",
    "ax.xaxis.set_ticks_position('top')\n",
    "ax.xaxis.set_label_position('top')\n",
    "\n",
    "ax.legend(fontsize=font_size, frameon=False, loc='lower right')\n",
    "\n",
    "ax.spines['right'].set_visible(False)\n",
    "ax.spines['left'].set_visible(False)\n",
    "ax.spines['bottom'].set_visible(False)\n",
    "\n",
    "#ax.xaxis.grid(True, which='minor')\n",
    "ax.xaxis.set_minor_locator(matplotlib.ticker.AutoMinorLocator(2))\n",
    "\n",
    "\n",
    "#mp.savefig('saved-figures/oil-pipelines_top-20-countries.pdf', bbox_inches='tight', transparent=True)\n",
    "\n",
    "#adjust_spines(ax, ['top'])\n",
    "    \n",
    "mp.savefig('saved-figures/gas-pipelines_top-20-countries-no-cancelled-shelved.png',\n",
    "          bbox_inches='tight', \n",
    "          transparent=True,\n",
    "          dpi=600)\n",
    "\n",
    "mp.savefig('saved-figures/gas-pipelines_top-20-countries-no-cancelled-shelved.pdf',\n",
    "          bbox_inches='tight', \n",
    "          transparent=True)"
   ]
  },
  {
   "cell_type": "code",
   "execution_count": 402,
   "id": "3906d28f",
   "metadata": {},
   "outputs": [
    {
     "data": {
      "text/plain": [
       "3.5336787156529343"
      ]
     },
     "execution_count": 402,
     "metadata": {},
     "output_type": "execute_result"
    }
   ],
   "source": [
    "# ratio of China to India (how many times larger is km of Chinese pipelines than India?)\n",
    "km_by_country_df.loc['China']['Proposed+Construction']/km_by_country_df.loc['India']['Proposed+Construction']"
   ]
  },
  {
   "cell_type": "markdown",
   "id": "ef4ea45f-4fac-4b6f-a619-dd3ecd24b143",
   "metadata": {},
   "source": [
    "# parent analysis"
   ]
  },
  {
   "cell_type": "code",
   "execution_count": 403,
   "id": "f95329ed-9812-4d28-be52-35386c81df7f",
   "metadata": {},
   "outputs": [],
   "source": [
    "owner_parent_calculations_df = pandas.DataFrame()\n",
    "# needs country, km in each country columns as well\n",
    "\n",
    "for idx,row in country_ratios_df.loc[(country_ratios_df.Fuel=='Gas')&(country_ratios_df.Status.isin(['Proposed','Construction']))].iterrows():\n",
    "    parent_string = pipes_df_orig.loc[pipes_df_orig.ProjectID==row.ProjectID].Parent.values[0]\n",
    "    #print(parent_string)\n",
    "    parent_list = re.sub(' \\[.*?\\]', '', parent_string).split('; ') # all entries must have a Owner [%] syntax\n",
    "    percent_list = [float(i.rstrip('%'))/100. for i in re.findall('\\\\d+(?:\\\\.\\\\d+)?%', parent_string)]\n",
    "\n",
    "    if parent_list.__len__()!=percent_list.__len__():\n",
    "        if percent_list==[]:\n",
    "            percent_list = [1/parent_list.__len__() for i in parent_list]\n",
    "        else:\n",
    "            nmissing = parent_list.__len__()-percent_list.__len__()\n",
    "            # distribute nans evenly\n",
    "            total = numpy.nansum(percent_list)\n",
    "            leftover = 1-total\n",
    "            percent_list += [leftover/nmissing]*nmissing\n",
    "\n",
    "    # for when database isn't completely filled in for owners:\n",
    "    for p_idx,parent in enumerate(parent_list):\n",
    "        if parent not in parents_df.index.to_list():\n",
    "            parents_df.loc[parent,'ParentHQCountry']='Unknown'\n",
    "        owner_parent_calculations_df = pandas.concat([owner_parent_calculations_df, \n",
    "                                                      pandas.DataFrame([{'Parent':parent, 'ProjectID':row.ProjectID, \n",
    "                                                                         'FractionOwnership':percent_list[p_idx],\n",
    "                                                                         'ParentHQCountry':parents_df.loc[parents_df.index==parent]['ParentHQCountry'].values[0],\n",
    "                                                                         'PipelineCountry':row.Country,\n",
    "                                                                         'Status':row.Status,\n",
    "                                                                         'MergedKmByCountry':row.MergedKmByCountry,\n",
    "                                                                         'MergedKmByPipeline':row.MergedKmByPipeline,\n",
    "                                                                         'CapacityBOEd':row.CapacityBOEd}])])\n",
    "\n",
    "owner_parent_calculations_df['KmOwnershipByCountry'] = owner_parent_calculations_df.FractionOwnership*owner_parent_calculations_df.MergedKmByCountry"
   ]
  },
  {
   "cell_type": "markdown",
   "id": "bad66811-2856-4055-81c8-5cf098dab5a7",
   "metadata": {},
   "source": [
    "## print out leading parent companies"
   ]
  },
  {
   "cell_type": "code",
   "execution_count": 404,
   "id": "745c76a6-c149-464b-86b9-3d0c46113e62",
   "metadata": {},
   "outputs": [],
   "source": [
    "parent_country_km_df = \\\n",
    "owner_parent_calculations_df.loc[#(owner_parent_calculations_df.PipelineCountry.isin(region_df_touse.Country.tolist()))&\n",
    "                                 (owner_parent_calculations_df.Status.isin(['Proposed','Construction']))]\n",
    "\n",
    "parent_country_km_df_table = pandas.DataFrame(index=parent_country_km_df.Parent.unique().tolist(),\n",
    "                                             columns=['Pipeline Country Locations','Owner Headquarters Country',\n",
    "                                                      'Proposed','Construction','In Development (Proposed + Construction)','ProjectIDs'])\n",
    "\n",
    "parent_country_km_df_table['Proposed'] = parent_country_km_df.loc[parent_country_km_df.Status=='Proposed'].groupby('Parent').sum('KmOwnershipByCountry')[['KmOwnershipByCountry']]\n",
    "parent_country_km_df_table['Construction'] = parent_country_km_df.loc[parent_country_km_df.Status=='Construction'].groupby('Parent').sum('KmOwnershipByCountry')[['KmOwnershipByCountry']]\n",
    "\n",
    "parent_country_km_df_table = parent_country_km_df_table.loc[parent_country_km_df_table.index!='']"
   ]
  },
  {
   "cell_type": "code",
   "execution_count": 405,
   "id": "54ec06e0-774c-4aa7-84a9-62dd2286ff3b",
   "metadata": {},
   "outputs": [
    {
     "data": {
      "text/html": [
       "<div>\n",
       "<style scoped>\n",
       "    .dataframe tbody tr th:only-of-type {\n",
       "        vertical-align: middle;\n",
       "    }\n",
       "\n",
       "    .dataframe tbody tr th {\n",
       "        vertical-align: top;\n",
       "    }\n",
       "\n",
       "    .dataframe thead th {\n",
       "        text-align: right;\n",
       "    }\n",
       "</style>\n",
       "<table border=\"1\" class=\"dataframe\">\n",
       "  <thead>\n",
       "    <tr style=\"text-align: right;\">\n",
       "      <th></th>\n",
       "      <th>Pipeline Country Locations</th>\n",
       "      <th>Owner Headquarters Country</th>\n",
       "      <th>Proposed</th>\n",
       "      <th>Construction</th>\n",
       "      <th>In Development (Proposed + Construction)</th>\n",
       "      <th>ProjectIDs</th>\n",
       "      <th>Number of Projects</th>\n",
       "    </tr>\n",
       "  </thead>\n",
       "  <tbody>\n",
       "    <tr>\n",
       "      <th>Gazprom</th>\n",
       "      <td>Russia, Mongolia, China, Bulgaria, Serbia, Iran, Pakistan, Kazakhstan, Kyrgyzstan</td>\n",
       "      <td>Russia</td>\n",
       "      <td>16,497.8</td>\n",
       "      <td>3,728.9</td>\n",
       "      <td>20,226.6</td>\n",
       "      <td>P0734, P1336, P2287, P2313, P2327, P2346, P2353, P2425, P2437, P2707, P3174, P3176, P3208, P3369, P3370, P3604, P3607, P3725, P3894, P3895, P3971, P3972, P3973, P3974, P3976, P3977, P3978, P3979, P3980, P3981, P3982, P3990, P3991, P3992, P3996, P3997, P3998, P3999, P4012, P4013, P4044, P4056, P4063, P4076, P4077, P4078, P4080, P4081, P4083, P4085, P4092, P4093, P4094, P4095, P4096, P4109, P4110, P4111, P4112, P4130, P4131, P4132, P4142, P4143, P4144, P4149, P4150, P4156, P4166, P4167, P4171,...</td>\n",
       "      <td>82</td>\n",
       "    </tr>\n",
       "    <tr>\n",
       "      <th>National Petroleum and Natural Gas Pipeline Network Group Co., Ltd.</th>\n",
       "      <td>China, North Korea</td>\n",
       "      <td>China</td>\n",
       "      <td>12,677.7</td>\n",
       "      <td>5,791.8</td>\n",
       "      <td>18,469.5</td>\n",
       "      <td>P4495, P4513, P4526, P4556, P4557, P4558, P4561, P4579, P4605, P4622, P4644, P4651, P4659, P4660, P4661, P4662, P4663, P4664, P4665, P4666, P4687, P4688, P4689, P4690, P4697, P4698, P4700, P4701, P4702, P4703, P4704, P4705, P4707, P4708, P4709, P4711, P4716, P4722, P4723, P4747, P4749, P4750, P4751, P4752, P4753, P4775, P4784, P4785, P4786, P4787, P4790, P4791, P4792, P4835, P4836, P4840, P4842, P4843, P4844, P4852, P4854, P4855, P4868, P4871, P4875, P4881, P4882, P4884, P4885, P4890, P4895,...</td>\n",
       "      <td>101</td>\n",
       "    </tr>\n",
       "    <tr>\n",
       "      <th>GAIL (India) Limited</th>\n",
       "      <td>India</td>\n",
       "      <td>India</td>\n",
       "      <td>890.0</td>\n",
       "      <td>6,821.5</td>\n",
       "      <td>7,711.5</td>\n",
       "      <td>P0929, P0932, P0954, P1309, P2215, P2216, P2746, P2752, P3906, P3912</td>\n",
       "      <td>10</td>\n",
       "    </tr>\n",
       "    <tr>\n",
       "      <th>Nigerian National Petroleum Corporation</th>\n",
       "      <td>Nigeria, Algeria, Niger, Senegal, Joint regime area (Senegal/Guinea Bissau), Spain, Ghana, The Gambia, Liberia, Morocco, Sierra Leone, Western Sahara, Côte d'Ivoire, Mauritania, Guinea-Bissau, Guinea</td>\n",
       "      <td>Nigeria</td>\n",
       "      <td>4,927.6</td>\n",
       "      <td>1,427.0</td>\n",
       "      <td>6,354.6</td>\n",
       "      <td>P0460, P0463, P0488, P1313, P4185</td>\n",
       "      <td>20</td>\n",
       "    </tr>\n",
       "    <tr>\n",
       "      <th>Iran Ministry of Petroleum</th>\n",
       "      <td>Iran, Pakistan, Oman</td>\n",
       "      <td>Iran</td>\n",
       "      <td>400.0</td>\n",
       "      <td>5,875.0</td>\n",
       "      <td>6,275.0</td>\n",
       "      <td>P0441, P0448, P0452, P2225</td>\n",
       "      <td>6</td>\n",
       "    </tr>\n",
       "    <tr>\n",
       "      <th>Transnet</th>\n",
       "      <td>Namibia, South Africa</td>\n",
       "      <td>South Africa</td>\n",
       "      <td>3,949.2</td>\n",
       "      <td></td>\n",
       "      <td>3,949.2</td>\n",
       "      <td>P2254, P2469, P2470, P2471, P2472, P2473, P2474, P3337, P3338, P3339</td>\n",
       "      <td>11</td>\n",
       "    </tr>\n",
       "    <tr>\n",
       "      <th>Anhui Province Natural Gas Development Co., Ltd.</th>\n",
       "      <td>China</td>\n",
       "      <td></td>\n",
       "      <td>1,653.6</td>\n",
       "      <td>1,594.0</td>\n",
       "      <td>3,247.6</td>\n",
       "      <td>P4580, P4581, P4582, P4583, P4584, P4585, P4586, P4587, P4589, P4591, P4592, P4593, P4594, P4596, P4597, P4598, P4600, P4603</td>\n",
       "      <td>18</td>\n",
       "    </tr>\n",
       "    <tr>\n",
       "      <th>TC Energy</th>\n",
       "      <td>Canada, Mexico, United States</td>\n",
       "      <td>Canada</td>\n",
       "      <td>1,364.6</td>\n",
       "      <td>1,512.8</td>\n",
       "      <td>2,877.4</td>\n",
       "      <td>P0167, P0331, P0434, P1268, P2004, P2005, P2501, P2530, P2556, P2569, P2743, P3186, P3187, P3188, P3189, P3276, P3277, P3279, P3608, P3609, P3610, P3611, P3612, P3613, P3615, P3618, P3639, P3640, P3641, P3921, P4446, P4447</td>\n",
       "      <td>32</td>\n",
       "    </tr>\n",
       "    <tr>\n",
       "      <th>Moroccan National Board of Hydrocarbons and Mines</th>\n",
       "      <td>Senegal, Joint regime area (Senegal/Guinea Bissau), Spain, Ghana, The Gambia, Liberia, Morocco, Sierra Leone, Western Sahara, Côte d'Ivoire, Mauritania, Guinea-Bissau, Guinea</td>\n",
       "      <td>Morocco</td>\n",
       "      <td>2,865.6</td>\n",
       "      <td></td>\n",
       "      <td>2,865.6</td>\n",
       "      <td>P0463</td>\n",
       "      <td>14</td>\n",
       "    </tr>\n",
       "    <tr>\n",
       "      <th>Turkmengaz</th>\n",
       "      <td>Turkmenistan, Azerbaijan, Pakistan, India, Afghanistan, Uzbekistan, Kyrgyzstan, Tajikistan, China</td>\n",
       "      <td>Turkmenistan</td>\n",
       "      <td>270.0</td>\n",
       "      <td>2,136.1</td>\n",
       "      <td>2,406.1</td>\n",
       "      <td>P0764, P0766, P2030, P3915</td>\n",
       "      <td>13</td>\n",
       "    </tr>\n",
       "    <tr>\n",
       "      <th>Gujarat State Petronet</th>\n",
       "      <td>India</td>\n",
       "      <td>India</td>\n",
       "      <td>181.2</td>\n",
       "      <td>2,221.0</td>\n",
       "      <td>2,402.2</td>\n",
       "      <td>P0908, P3602, P3909, P3910, P3911, P3913</td>\n",
       "      <td>6</td>\n",
       "    </tr>\n",
       "    <tr>\n",
       "      <th>Enarsa (Energía Argentina SA)</th>\n",
       "      <td>Argentina</td>\n",
       "      <td>Argentina</td>\n",
       "      <td>1,025.0</td>\n",
       "      <td>949.0</td>\n",
       "      <td>1,974.0</td>\n",
       "      <td>P1244, P1247, P2066, P3940</td>\n",
       "      <td>4</td>\n",
       "    </tr>\n",
       "    <tr>\n",
       "      <th>Indian Oil Corporation</th>\n",
       "      <td>India, Nepal</td>\n",
       "      <td>India</td>\n",
       "      <td>237.8</td>\n",
       "      <td>1,731.0</td>\n",
       "      <td>1,968.7</td>\n",
       "      <td>P0908, P0922, P1309, P2213</td>\n",
       "      <td>5</td>\n",
       "    </tr>\n",
       "    <tr>\n",
       "      <th>Empresa Nacional de Hidrocarbonetos de Mozambique</th>\n",
       "      <td>South Africa, Mozambique</td>\n",
       "      <td>Unknown</td>\n",
       "      <td>1,950.0</td>\n",
       "      <td></td>\n",
       "      <td>1,950.0</td>\n",
       "      <td>P2249, P2250</td>\n",
       "      <td>3</td>\n",
       "    </tr>\n",
       "    <tr>\n",
       "      <th>Transgaz</th>\n",
       "      <td>Georgia, Russia, Türkiye, Romania, Bulgaria, Hungary, Slovakia, Serbia</td>\n",
       "      <td>Romania</td>\n",
       "      <td>1,941.5</td>\n",
       "      <td></td>\n",
       "      <td>1,941.5</td>\n",
       "      <td>P0732, P0803, P1702, P1706, P1714, P2727</td>\n",
       "      <td>15</td>\n",
       "    </tr>\n",
       "    <tr>\n",
       "      <th>Gaz-System</th>\n",
       "      <td>Sweden, Denmark, Poland, Ukraine, Czech Republic</td>\n",
       "      <td>Poland</td>\n",
       "      <td>816.8</td>\n",
       "      <td>1,015.2</td>\n",
       "      <td>1,832.0</td>\n",
       "      <td>P0684, P1347, P1348, P1349, P1352, P1354, P1487, P1699, P2265, P2266, P2270, P2271, P2272, P2721, P3243, P3244, P3941, P4462</td>\n",
       "      <td>22</td>\n",
       "    </tr>\n",
       "    <tr>\n",
       "      <th>Petrobras</th>\n",
       "      <td>Brazil</td>\n",
       "      <td>Brazil</td>\n",
       "      <td>1,445.0</td>\n",
       "      <td>355.0</td>\n",
       "      <td>1,800.0</td>\n",
       "      <td>P1372, P1373, P1375, P3525, P3528, P3531, P3532, P3533, P3534</td>\n",
       "      <td>9</td>\n",
       "    </tr>\n",
       "    <tr>\n",
       "      <th>China Petroleum &amp; Chemical Corporation</th>\n",
       "      <td>China</td>\n",
       "      <td>China</td>\n",
       "      <td>777.0</td>\n",
       "      <td>979.7</td>\n",
       "      <td>1,756.7</td>\n",
       "      <td>P4611, P4614, P4615, P4616, P4617, P4671, P4673, P4674, P4675, P4676, P4677, P4678, P4728, P4881, P4882, P4884, P5025, P5026, P5027, P5028</td>\n",
       "      <td>20</td>\n",
       "    </tr>\n",
       "    <tr>\n",
       "      <th>China National Petroleum Corporation</th>\n",
       "      <td>Malaysia, South Africa, Mozambique, China</td>\n",
       "      <td>China</td>\n",
       "      <td>1,662.4</td>\n",
       "      <td>32.8</td>\n",
       "      <td>1,695.2</td>\n",
       "      <td>P1067, P2249, P4528, P4550, P4566, P5025, P5026, P5027, P5028</td>\n",
       "      <td>10</td>\n",
       "    </tr>\n",
       "    <tr>\n",
       "      <th>China Life Insurance Company Limited</th>\n",
       "      <td>China</td>\n",
       "      <td></td>\n",
       "      <td>1,257.2</td>\n",
       "      <td>409.9</td>\n",
       "      <td>1,667.1</td>\n",
       "      <td>P4659, P4660, P4661, P4662, P4663, P4664, P4665, P4666</td>\n",
       "      <td>8</td>\n",
       "    </tr>\n",
       "  </tbody>\n",
       "</table>\n",
       "</div>"
      ],
      "text/plain": [
       "                                                                                                                                                                                                                                                  Pipeline Country Locations  \\\n",
       "Gazprom                                                                                                                                                                                    Russia, Mongolia, China, Bulgaria, Serbia, Iran, Pakistan, Kazakhstan, Kyrgyzstan   \n",
       "National Petroleum and Natural Gas Pipeline Network Group Co., Ltd.                                                                                                                                                                                       China, North Korea   \n",
       "GAIL (India) Limited                                                                                                                                                                                                                                                   India   \n",
       "Nigerian National Petroleum Corporation                              Nigeria, Algeria, Niger, Senegal, Joint regime area (Senegal/Guinea Bissau), Spain, Ghana, The Gambia, Liberia, Morocco, Sierra Leone, Western Sahara, Côte d'Ivoire, Mauritania, Guinea-Bissau, Guinea   \n",
       "Iran Ministry of Petroleum                                                                                                                                                                                                                              Iran, Pakistan, Oman   \n",
       "Transnet                                                                                                                                                                                                                                               Namibia, South Africa   \n",
       "Anhui Province Natural Gas Development Co., Ltd.                                                                                                                                                                                                                       China   \n",
       "TC Energy                                                                                                                                                                                                                                      Canada, Mexico, United States   \n",
       "Moroccan National Board of Hydrocarbons and Mines                                             Senegal, Joint regime area (Senegal/Guinea Bissau), Spain, Ghana, The Gambia, Liberia, Morocco, Sierra Leone, Western Sahara, Côte d'Ivoire, Mauritania, Guinea-Bissau, Guinea   \n",
       "Turkmengaz                                                                                                                                                                 Turkmenistan, Azerbaijan, Pakistan, India, Afghanistan, Uzbekistan, Kyrgyzstan, Tajikistan, China   \n",
       "Gujarat State Petronet                                                                                                                                                                                                                                                 India   \n",
       "Enarsa (Energía Argentina SA)                                                                                                                                                                                                                                      Argentina   \n",
       "Indian Oil Corporation                                                                                                                                                                                                                                          India, Nepal   \n",
       "Empresa Nacional de Hidrocarbonetos de Mozambique                                                                                                                                                                                                   South Africa, Mozambique   \n",
       "Transgaz                                                                                                                                                                                              Georgia, Russia, Türkiye, Romania, Bulgaria, Hungary, Slovakia, Serbia   \n",
       "Gaz-System                                                                                                                                                                                                                  Sweden, Denmark, Poland, Ukraine, Czech Republic   \n",
       "Petrobras                                                                                                                                                                                                                                                             Brazil   \n",
       "China Petroleum & Chemical Corporation                                                                                                                                                                                                                                 China   \n",
       "China National Petroleum Corporation                                                                                                                                                                                               Malaysia, South Africa, Mozambique, China   \n",
       "China Life Insurance Company Limited                                                                                                                                                                                                                                   China   \n",
       "\n",
       "                                                                    Owner Headquarters Country  \\\n",
       "Gazprom                                                                                 Russia   \n",
       "National Petroleum and Natural Gas Pipeline Network Group Co., Ltd.                      China   \n",
       "GAIL (India) Limited                                                                     India   \n",
       "Nigerian National Petroleum Corporation                                                Nigeria   \n",
       "Iran Ministry of Petroleum                                                                Iran   \n",
       "Transnet                                                                          South Africa   \n",
       "Anhui Province Natural Gas Development Co., Ltd.                                                 \n",
       "TC Energy                                                                               Canada   \n",
       "Moroccan National Board of Hydrocarbons and Mines                                      Morocco   \n",
       "Turkmengaz                                                                        Turkmenistan   \n",
       "Gujarat State Petronet                                                                   India   \n",
       "Enarsa (Energía Argentina SA)                                                        Argentina   \n",
       "Indian Oil Corporation                                                                   India   \n",
       "Empresa Nacional de Hidrocarbonetos de Mozambique                                      Unknown   \n",
       "Transgaz                                                                               Romania   \n",
       "Gaz-System                                                                              Poland   \n",
       "Petrobras                                                                               Brazil   \n",
       "China Petroleum & Chemical Corporation                                                   China   \n",
       "China National Petroleum Corporation                                                     China   \n",
       "China Life Insurance Company Limited                                                             \n",
       "\n",
       "                                                                    Proposed  \\\n",
       "Gazprom                                                             16,497.8   \n",
       "National Petroleum and Natural Gas Pipeline Network Group Co., Ltd. 12,677.7   \n",
       "GAIL (India) Limited                                                   890.0   \n",
       "Nigerian National Petroleum Corporation                              4,927.6   \n",
       "Iran Ministry of Petroleum                                             400.0   \n",
       "Transnet                                                             3,949.2   \n",
       "Anhui Province Natural Gas Development Co., Ltd.                     1,653.6   \n",
       "TC Energy                                                            1,364.6   \n",
       "Moroccan National Board of Hydrocarbons and Mines                    2,865.6   \n",
       "Turkmengaz                                                             270.0   \n",
       "Gujarat State Petronet                                                 181.2   \n",
       "Enarsa (Energía Argentina SA)                                        1,025.0   \n",
       "Indian Oil Corporation                                                 237.8   \n",
       "Empresa Nacional de Hidrocarbonetos de Mozambique                    1,950.0   \n",
       "Transgaz                                                             1,941.5   \n",
       "Gaz-System                                                             816.8   \n",
       "Petrobras                                                            1,445.0   \n",
       "China Petroleum & Chemical Corporation                                 777.0   \n",
       "China National Petroleum Corporation                                 1,662.4   \n",
       "China Life Insurance Company Limited                                 1,257.2   \n",
       "\n",
       "                                                                    Construction  \\\n",
       "Gazprom                                                                  3,728.9   \n",
       "National Petroleum and Natural Gas Pipeline Network Group Co., Ltd.      5,791.8   \n",
       "GAIL (India) Limited                                                     6,821.5   \n",
       "Nigerian National Petroleum Corporation                                  1,427.0   \n",
       "Iran Ministry of Petroleum                                               5,875.0   \n",
       "Transnet                                                                           \n",
       "Anhui Province Natural Gas Development Co., Ltd.                         1,594.0   \n",
       "TC Energy                                                                1,512.8   \n",
       "Moroccan National Board of Hydrocarbons and Mines                                  \n",
       "Turkmengaz                                                               2,136.1   \n",
       "Gujarat State Petronet                                                   2,221.0   \n",
       "Enarsa (Energía Argentina SA)                                              949.0   \n",
       "Indian Oil Corporation                                                   1,731.0   \n",
       "Empresa Nacional de Hidrocarbonetos de Mozambique                                  \n",
       "Transgaz                                                                           \n",
       "Gaz-System                                                               1,015.2   \n",
       "Petrobras                                                                  355.0   \n",
       "China Petroleum & Chemical Corporation                                     979.7   \n",
       "China National Petroleum Corporation                                        32.8   \n",
       "China Life Insurance Company Limited                                       409.9   \n",
       "\n",
       "                                                                     In Development (Proposed + Construction)  \\\n",
       "Gazprom                                                                                              20,226.6   \n",
       "National Petroleum and Natural Gas Pipeline Network Group Co., Ltd.                                  18,469.5   \n",
       "GAIL (India) Limited                                                                                  7,711.5   \n",
       "Nigerian National Petroleum Corporation                                                               6,354.6   \n",
       "Iran Ministry of Petroleum                                                                            6,275.0   \n",
       "Transnet                                                                                              3,949.2   \n",
       "Anhui Province Natural Gas Development Co., Ltd.                                                      3,247.6   \n",
       "TC Energy                                                                                             2,877.4   \n",
       "Moroccan National Board of Hydrocarbons and Mines                                                     2,865.6   \n",
       "Turkmengaz                                                                                            2,406.1   \n",
       "Gujarat State Petronet                                                                                2,402.2   \n",
       "Enarsa (Energía Argentina SA)                                                                         1,974.0   \n",
       "Indian Oil Corporation                                                                                1,968.7   \n",
       "Empresa Nacional de Hidrocarbonetos de Mozambique                                                     1,950.0   \n",
       "Transgaz                                                                                              1,941.5   \n",
       "Gaz-System                                                                                            1,832.0   \n",
       "Petrobras                                                                                             1,800.0   \n",
       "China Petroleum & Chemical Corporation                                                                1,756.7   \n",
       "China National Petroleum Corporation                                                                  1,695.2   \n",
       "China Life Insurance Company Limited                                                                  1,667.1   \n",
       "\n",
       "                                                                                                                                                                                                                                                                                                                                                                                                                                                                                                                                                                              ProjectIDs  \\\n",
       "Gazprom                                                              P0734, P1336, P2287, P2313, P2327, P2346, P2353, P2425, P2437, P2707, P3174, P3176, P3208, P3369, P3370, P3604, P3607, P3725, P3894, P3895, P3971, P3972, P3973, P3974, P3976, P3977, P3978, P3979, P3980, P3981, P3982, P3990, P3991, P3992, P3996, P3997, P3998, P3999, P4012, P4013, P4044, P4056, P4063, P4076, P4077, P4078, P4080, P4081, P4083, P4085, P4092, P4093, P4094, P4095, P4096, P4109, P4110, P4111, P4112, P4130, P4131, P4132, P4142, P4143, P4144, P4149, P4150, P4156, P4166, P4167, P4171,...   \n",
       "National Petroleum and Natural Gas Pipeline Network Group Co., Ltd.  P4495, P4513, P4526, P4556, P4557, P4558, P4561, P4579, P4605, P4622, P4644, P4651, P4659, P4660, P4661, P4662, P4663, P4664, P4665, P4666, P4687, P4688, P4689, P4690, P4697, P4698, P4700, P4701, P4702, P4703, P4704, P4705, P4707, P4708, P4709, P4711, P4716, P4722, P4723, P4747, P4749, P4750, P4751, P4752, P4753, P4775, P4784, P4785, P4786, P4787, P4790, P4791, P4792, P4835, P4836, P4840, P4842, P4843, P4844, P4852, P4854, P4855, P4868, P4871, P4875, P4881, P4882, P4884, P4885, P4890, P4895,...   \n",
       "GAIL (India) Limited                                                                                                                                                                                                                                                                                                                                                                                                                                                                                                P0929, P0932, P0954, P1309, P2215, P2216, P2746, P2752, P3906, P3912   \n",
       "Nigerian National Petroleum Corporation                                                                                                                                                                                                                                                                                                                                                                                                                                                                                                                P0460, P0463, P0488, P1313, P4185   \n",
       "Iran Ministry of Petroleum                                                                                                                                                                                                                                                                                                                                                                                                                                                                                                                                    P0441, P0448, P0452, P2225   \n",
       "Transnet                                                                                                                                                                                                                                                                                                                                                                                                                                                                                                            P2254, P2469, P2470, P2471, P2472, P2473, P2474, P3337, P3338, P3339   \n",
       "Anhui Province Natural Gas Development Co., Ltd.                                                                                                                                                                                                                                                                                                                                                                                                            P4580, P4581, P4582, P4583, P4584, P4585, P4586, P4587, P4589, P4591, P4592, P4593, P4594, P4596, P4597, P4598, P4600, P4603   \n",
       "TC Energy                                                                                                                                                                                                                                                                                                                                                 P0167, P0331, P0434, P1268, P2004, P2005, P2501, P2530, P2556, P2569, P2743, P3186, P3187, P3188, P3189, P3276, P3277, P3279, P3608, P3609, P3610, P3611, P3612, P3613, P3615, P3618, P3639, P3640, P3641, P3921, P4446, P4447   \n",
       "Moroccan National Board of Hydrocarbons and Mines                                                                                                                                                                                                                                                                                                                                                                                                                                                                                                                                  P0463   \n",
       "Turkmengaz                                                                                                                                                                                                                                                                                                                                                                                                                                                                                                                                                    P0764, P0766, P2030, P3915   \n",
       "Gujarat State Petronet                                                                                                                                                                                                                                                                                                                                                                                                                                                                                                                          P0908, P3602, P3909, P3910, P3911, P3913   \n",
       "Enarsa (Energía Argentina SA)                                                                                                                                                                                                                                                                                                                                                                                                                                                                                                                                 P1244, P1247, P2066, P3940   \n",
       "Indian Oil Corporation                                                                                                                                                                                                                                                                                                                                                                                                                                                                                                                                        P0908, P0922, P1309, P2213   \n",
       "Empresa Nacional de Hidrocarbonetos de Mozambique                                                                                                                                                                                                                                                                                                                                                                                                                                                                                                                           P2249, P2250   \n",
       "Transgaz                                                                                                                                                                                                                                                                                                                                                                                                                                                                                                                                        P0732, P0803, P1702, P1706, P1714, P2727   \n",
       "Gaz-System                                                                                                                                                                                                                                                                                                                                                                                                                                                  P0684, P1347, P1348, P1349, P1352, P1354, P1487, P1699, P2265, P2266, P2270, P2271, P2272, P2721, P3243, P3244, P3941, P4462   \n",
       "Petrobras                                                                                                                                                                                                                                                                                                                                                                                                                                                                                                                  P1372, P1373, P1375, P3525, P3528, P3531, P3532, P3533, P3534   \n",
       "China Petroleum & Chemical Corporation                                                                                                                                                                                                                                                                                                                                                                                                        P4611, P4614, P4615, P4616, P4617, P4671, P4673, P4674, P4675, P4676, P4677, P4678, P4728, P4881, P4882, P4884, P5025, P5026, P5027, P5028   \n",
       "China National Petroleum Corporation                                                                                                                                                                                                                                                                                                                                                                                                                                                                                       P1067, P2249, P4528, P4550, P4566, P5025, P5026, P5027, P5028   \n",
       "China Life Insurance Company Limited                                                                                                                                                                                                                                                                                                                                                                                                                                                                                              P4659, P4660, P4661, P4662, P4663, P4664, P4665, P4666   \n",
       "\n",
       "                                                                     Number of Projects  \n",
       "Gazprom                                                                              82  \n",
       "National Petroleum and Natural Gas Pipeline Network Group Co., Ltd.                 101  \n",
       "GAIL (India) Limited                                                                 10  \n",
       "Nigerian National Petroleum Corporation                                              20  \n",
       "Iran Ministry of Petroleum                                                            6  \n",
       "Transnet                                                                             11  \n",
       "Anhui Province Natural Gas Development Co., Ltd.                                     18  \n",
       "TC Energy                                                                            32  \n",
       "Moroccan National Board of Hydrocarbons and Mines                                    14  \n",
       "Turkmengaz                                                                           13  \n",
       "Gujarat State Petronet                                                                6  \n",
       "Enarsa (Energía Argentina SA)                                                         4  \n",
       "Indian Oil Corporation                                                                5  \n",
       "Empresa Nacional de Hidrocarbonetos de Mozambique                                     3  \n",
       "Transgaz                                                                             15  \n",
       "Gaz-System                                                                           22  \n",
       "Petrobras                                                                             9  \n",
       "China Petroleum & Chemical Corporation                                               20  \n",
       "China National Petroleum Corporation                                                 10  \n",
       "China Life Insurance Company Limited                                                  8  "
      ]
     },
     "execution_count": 405,
     "metadata": {},
     "output_type": "execute_result"
    }
   ],
   "source": [
    "pandas.options.display.max_colwidth = 500\n",
    "\n",
    "country_agg_df = pandas.DataFrame(owner_parent_calculations_df.groupby(['Parent']).PipelineCountry.agg(lambda x: ', '.join(x.unique())))\n",
    "projectid_agg_df = pandas.DataFrame(owner_parent_calculations_df.groupby(['Parent']).ProjectID.agg(lambda x: ', '.join(x.unique())))\n",
    "parent_country_km_df_table['Pipeline Country Locations'] = country_agg_df.PipelineCountry\n",
    "parent_country_km_df_table['Number of Projects'] = owner_parent_calculations_df.groupby(['Parent']).ProjectID.count()\n",
    "parent_country_km_df_table['ProjectIDs'] = projectid_agg_df.ProjectID\n",
    "parent_country_km_df_table['Owner Headquarters Country'] = parent_country_km_df.drop_duplicates('Parent').set_index('Parent').ParentHQCountry\n",
    "parent_country_km_df_table['In Development (Proposed + Construction)'] = parent_country_km_df_table[['Proposed','Construction']].sum(axis=1, min_count=0)\n",
    "parent_country_km_df_table.loc[~parent_country_km_df_table.index.isin(['Not in database','Unknown'])].replace(numpy.nan, '').sort_values('In Development (Proposed + Construction)', ascending=False)[:20]"
   ]
  },
  {
   "cell_type": "markdown",
   "id": "8ce8efa2-8a00-4d90-8156-c9d40d316290",
   "metadata": {},
   "source": [
    "### how many of the projects for each owner do we have capacity data for? (add fraction)\n",
    "\n",
    "## emissions estimates"
   ]
  },
  {
   "cell_type": "code",
   "execution_count": 406,
   "id": "444f2dd9-336a-41aa-b288-15b8ea096f2a",
   "metadata": {},
   "outputs": [],
   "source": [
    "# kuhne paper\n",
    "co2_rate = 152.789 # number is 152,789 tCO2/year emissions per kilobarrel per day, divide by 1000 to get per bpd (bpd=BOEd)"
   ]
  },
  {
   "cell_type": "raw",
   "id": "22c011c3-422b-4d41-8b7a-cf64d3402207",
   "metadata": {},
   "source": [
    "# calculate the number of CapacityBOEd entries, and which of those are NaNs\n",
    "# https://stackoverflow.com/questions/14529838/apply-multiple-functions-to-multiple-groupby-columns\n",
    "pandas.set_option('display.max_colwidth', None)\n",
    "result = owner_parent_calculations_df.loc[\n",
    "    owner_parent_calculations_df.Status.isin(['Proposed','Construction'])].groupby(\n",
    "    ['Parent','Country'])[['KmOwnership','CapacityBOEd','ProjectID']].agg({'KmOwnership':lambda x: x.sum(min_count=1),\n",
    "                                                                           'CapacityBOEd':[lambda x: x.sum(min_count=1),\n",
    "                                                                                           lambda x: x.dropna().count()],\n",
    "                                                                           'ProjectID':[lambda x: list(x.unique()).__len__(),\n",
    "                                                                                        lambda x: list(x.unique()),\n",
    "                                                                                        lambda x: [pipes_df_orig.loc[pipes_df_orig.ProjectID==i]['PipelineName'] for i in x]\n",
    "                                                                                                  ]})\n",
    "\n",
    "result['HowManyProjectsHaveCapacityData'] = result[('CapacityBOEd','<lambda_1>')].astype(str) + ' of ' + result[('ProjectID','<lambda_0>')].astype(str)\n",
    "result[['KmOwnership','CapacityBOEd','HowManyProjectsHaveCapacityData']].sort_values(('KmOwnership','<lambda>'), ascending=False)[:20]\n",
    "result['EmissionsMtCO2PerYear'] = result[('CapacityBOEd','<lambda_0>')]*co2_rate/1e6"
   ]
  },
  {
   "cell_type": "raw",
   "id": "70a2debd-8aeb-4d0e-b2ff-d34fb648567f",
   "metadata": {},
   "source": [
    "result[[('KmOwnership','<lambda>'),\n",
    "        ('CapacityBOEd','<lambda_0>'),\n",
    "        ('EmissionsMtCO2PerYear',''),\n",
    "        ('HowManyProjectsHaveCapacityData',''),\n",
    "        ('ProjectID','<lambda_1>'),\n",
    "        ('ProjectID','<lambda_2>')]].sort_values(('KmOwnership','<lambda>'), ascending=False)[:20]"
   ]
  },
  {
   "cell_type": "markdown",
   "id": "a340a615-35b1-4a74-b9b6-67d6802de572",
   "metadata": {},
   "source": [
    "### total emissions globally (known capacity is at about 67%)"
   ]
  },
  {
   "cell_type": "raw",
   "id": "9e022ac6-6a1c-4e10-9f5a-85c7c8af87f1",
   "metadata": {},
   "source": [
    "pipes_df_subset = pipes_df_orig.loc[(pipes_df_orig.Status.isin(['Construction','Proposed']))&\n",
    "                                     (pipes_df_orig.Fuel=='Gas')]\n",
    "print(pipes_df_subset['CapacityBcm/y'].dropna().size / pipes_df_subset['CapacityBcm/y'].size)\n",
    "pipes_df_subset['CapacityBOEd'].sum() * co2_rate / 1e6"
   ]
  },
  {
   "cell_type": "raw",
   "id": "ee994d09-b16f-4101-9d08-5110e0268c9f",
   "metadata": {},
   "source": [
    "pipes_df_subset = pipes_df_orig.loc[(pipes_df_orig.Status.isin(['Proposed']))&\n",
    "                                     (pipes_df_orig.Fuel=='Gas')]\n",
    "print(pipes_df_subset['CapacityBcm/y'].dropna().size / pipes_df_subset['CapacityBcm/y'].size)\n",
    "pipes_df_subset['CapacityBOEd'].sum() * co2_rate / 1e6"
   ]
  },
  {
   "cell_type": "raw",
   "id": "9df6347b-ec51-4a28-930b-9924bc916417",
   "metadata": {},
   "source": [
    "pipes_df_subset = pipes_df_orig.loc[(pipes_df_orig.Status.isin(['Construction']))&\n",
    "                                     (pipes_df_orig.Fuel=='Gas')]\n",
    "print(pipes_df_subset['CapacityBcm/y'].dropna().size / pipes_df_subset['CapacityBcm/y'].size)\n",
    "pipes_df_subset['CapacityBOEd'].sum() * co2_rate / 1e6"
   ]
  },
  {
   "cell_type": "markdown",
   "id": "41f4171b-3170-4bbf-b3d8-19a53722d1b0",
   "metadata": {},
   "source": [
    "### count fraction of available capacity information\n",
    "\n",
    "count"
   ]
  },
  {
   "cell_type": "code",
   "execution_count": 407,
   "id": "a3406975-838c-4af0-80fa-bce2ab42718e",
   "metadata": {},
   "outputs": [
    {
     "data": {
      "text/plain": [
       "StartRegion\n",
       "Australia and New Zealand           23\n",
       "East Asia                          166\n",
       "Eurasia                             62\n",
       "Europe                              58\n",
       "Latin America and the Caribbean     30\n",
       "Middle East and North Africa        10\n",
       "North America                      103\n",
       "SE Asia                             11\n",
       "South Asia                          29\n",
       "Sub-Saharan Africa                   6\n",
       "Name: CapacityBOEd, dtype: int64"
      ]
     },
     "execution_count": 407,
     "metadata": {},
     "output_type": "execute_result"
    }
   ],
   "source": [
    "pipes_df_subset = pipes_df_orig.loc[(pipes_df_orig.Status.isin(['Construction','Proposed']))&\n",
    "                                     (pipes_df_orig.Fuel=='Gas')]\n",
    "pipes_df_subset.loc[~pipes_df_subset['CapacityBcm/y'].isna()].groupby('StartRegion')['CapacityBOEd'].size()\n",
    "#pipes_df_subset.groupby('StartRegion')['CapacityBcm/y'].size()"
   ]
  },
  {
   "cell_type": "markdown",
   "id": "a09616ff-3225-4c93-9ce9-b38cb04a5612",
   "metadata": {},
   "source": [
    "fraction"
   ]
  },
  {
   "cell_type": "code",
   "execution_count": 408,
   "id": "2b464411-7db6-4575-ae23-a6d2c49f635d",
   "metadata": {},
   "outputs": [
    {
     "data": {
      "text/html": [
       "<div>\n",
       "<style scoped>\n",
       "    .dataframe tbody tr th:only-of-type {\n",
       "        vertical-align: middle;\n",
       "    }\n",
       "\n",
       "    .dataframe tbody tr th {\n",
       "        vertical-align: top;\n",
       "    }\n",
       "\n",
       "    .dataframe thead th {\n",
       "        text-align: right;\n",
       "    }\n",
       "</style>\n",
       "<table border=\"1\" class=\"dataframe\">\n",
       "  <thead>\n",
       "    <tr style=\"text-align: right;\">\n",
       "      <th></th>\n",
       "      <th>0</th>\n",
       "    </tr>\n",
       "    <tr>\n",
       "      <th>StartRegion</th>\n",
       "      <th></th>\n",
       "    </tr>\n",
       "  </thead>\n",
       "  <tbody>\n",
       "    <tr>\n",
       "      <th>Latin America and the Caribbean</th>\n",
       "      <td>0.938</td>\n",
       "    </tr>\n",
       "    <tr>\n",
       "      <th>Australia and New Zealand</th>\n",
       "      <td>0.821</td>\n",
       "    </tr>\n",
       "    <tr>\n",
       "      <th>North America</th>\n",
       "      <td>0.730</td>\n",
       "    </tr>\n",
       "    <tr>\n",
       "      <th>South Asia</th>\n",
       "      <td>0.725</td>\n",
       "    </tr>\n",
       "    <tr>\n",
       "      <th>Eurasia</th>\n",
       "      <td>0.667</td>\n",
       "    </tr>\n",
       "    <tr>\n",
       "      <th>East Asia</th>\n",
       "      <td>0.582</td>\n",
       "    </tr>\n",
       "    <tr>\n",
       "      <th>Middle East and North Africa</th>\n",
       "      <td>0.476</td>\n",
       "    </tr>\n",
       "    <tr>\n",
       "      <th>Europe</th>\n",
       "      <td>0.408</td>\n",
       "    </tr>\n",
       "    <tr>\n",
       "      <th>SE Asia</th>\n",
       "      <td>0.407</td>\n",
       "    </tr>\n",
       "    <tr>\n",
       "      <th>Sub-Saharan Africa</th>\n",
       "      <td>0.261</td>\n",
       "    </tr>\n",
       "  </tbody>\n",
       "</table>\n",
       "</div>"
      ],
      "text/plain": [
       "                                    0\n",
       "StartRegion                          \n",
       "Latin America and the Caribbean 0.938\n",
       "Australia and New Zealand       0.821\n",
       "North America                   0.730\n",
       "South Asia                      0.725\n",
       "Eurasia                         0.667\n",
       "East Asia                       0.582\n",
       "Middle East and North Africa    0.476\n",
       "Europe                          0.408\n",
       "SE Asia                         0.407\n",
       "Sub-Saharan Africa              0.261"
      ]
     },
     "execution_count": 408,
     "metadata": {},
     "output_type": "execute_result"
    }
   ],
   "source": [
    "pandas.options.display.float_format = '{:,.3f}'.format\n",
    "pandas.DataFrame(pipes_df_subset.loc[\n",
    "    ~pipes_df_subset['CapacityBcm/y'].isna()].groupby(\n",
    "    'StartRegion')['CapacityBcm/y'].size()/pipes_df_subset.groupby(\n",
    "    'StartRegion')['CapacityBOEd'].size()).sort_values(by=0, ascending=False)"
   ]
  },
  {
   "cell_type": "code",
   "execution_count": 409,
   "id": "9f9ba63d-9317-40dd-b820-c7505a4b7150",
   "metadata": {},
   "outputs": [],
   "source": [
    "median_capacity = pipes_df_orig.loc[pipes_df_orig.Fuel=='Gas']['CapacityBcm/y'].median()"
   ]
  },
  {
   "cell_type": "code",
   "execution_count": 410,
   "id": "0e61fd80-1863-4ba9-ac45-a761cc99a55c",
   "metadata": {},
   "outputs": [],
   "source": [
    "abs_dist_from_med_capacity = abs(pipes_df_orig.loc[pipes_df_orig.Fuel=='Gas']['CapacityBcm/y']-\n",
    "                                 pipes_df_orig.loc[pipes_df_orig.Fuel=='Gas']['CapacityBcm/y'].median()).median()"
   ]
  },
  {
   "cell_type": "code",
   "execution_count": 411,
   "id": "14cce16f-8d3e-4e63-ae7a-edf55d21b921",
   "metadata": {},
   "outputs": [
    {
     "data": {
      "text/plain": [
       "233.5703213317847"
      ]
     },
     "execution_count": 411,
     "metadata": {},
     "output_type": "execute_result"
    }
   ],
   "source": [
    "pipes_df_orig['CapacityBcm/y'].mean()"
   ]
  },
  {
   "cell_type": "code",
   "execution_count": 412,
   "id": "61dc2bcc-bf3f-414c-bc06-bb824d49d1e5",
   "metadata": {},
   "outputs": [
    {
     "data": {
      "text/plain": [
       "618.7168037143194"
      ]
     },
     "execution_count": 412,
     "metadata": {},
     "output_type": "execute_result"
    }
   ],
   "source": [
    "pipes_df_orig['CapacityBcm/y'].std()"
   ]
  },
  {
   "cell_type": "code",
   "execution_count": 413,
   "id": "c054d9ed-986a-432f-a234-826e2438144b",
   "metadata": {},
   "outputs": [
    {
     "name": "stdout",
     "output_type": "stream",
     "text": [
      "3.79\n",
      "3.27\n"
     ]
    }
   ],
   "source": [
    "print(median_capacity)\n",
    "print(abs_dist_from_med_capacity)"
   ]
  },
  {
   "cell_type": "markdown",
   "id": "8481ce32-c7f6-47fd-893e-4db28fbda279",
   "metadata": {},
   "source": [
    "median capacity for a pipeline is about 4.14 bcm/y\n",
    "\n",
    "median abs dist from the median is about 3.5."
   ]
  },
  {
   "cell_type": "markdown",
   "id": "fb98d85a",
   "metadata": {},
   "source": [
    "# cost estimates (pipeline cost per km)\n",
    "\n",
    "throwing out any estimates larger than USD 10 million per km for taking regional estimates"
   ]
  },
  {
   "cell_type": "markdown",
   "id": "8ad09bea-d8c7-4cbc-a846-6931ac1a70bd",
   "metadata": {},
   "source": [
    "## pick out high and low quantiles"
   ]
  },
  {
   "cell_type": "code",
   "execution_count": 414,
   "id": "4195775c-c0b6-4916-ba98-0eec3b173bfd",
   "metadata": {},
   "outputs": [
    {
     "name": "stdout",
     "output_type": "stream",
     "text": [
      "175781.616\n",
      "17872801.85399996\n"
     ]
    }
   ],
   "source": [
    "temp_df = pipes_df_orig.loc[(~pipes_df_orig.CostUSDPerKm.isnull())&\n",
    "                            (pipes_df_orig.Fuel=='Gas')]\n",
    "qlo_val = 0.025\n",
    "qhi_val = 0.975\n",
    "\n",
    "q_lo=temp_df['CostUSDPerKm'].quantile(qlo_val)\n",
    "q_hi=temp_df['CostUSDPerKm'].quantile(qhi_val)\n",
    "print(temp_df['CostUSDPerKm'].quantile(qlo_val))\n",
    "print(temp_df['CostUSDPerKm'].quantile(qhi_val))\n",
    "\n",
    "temp_df = temp_df.loc[temp_df['CostUSDPerKm'].between(q_lo, q_hi, inclusive='neither')]"
   ]
  },
  {
   "cell_type": "code",
   "execution_count": 415,
   "id": "e83b508d-5fed-4b45-8cdf-d6ebb7850d58",
   "metadata": {},
   "outputs": [],
   "source": [
    "# pull out only pipelines that have a KNOWN length AND a cost\n",
    "country_ratios_with_length_and_cost_df = country_ratios_df.copy()[(country_ratios_df['Fuel']=='Gas') & \n",
    "                                    (country_ratios_df['CostUSDPerKm'].notna()) & \n",
    "                                    (country_ratios_df['LengthKnownKmByCountry'].notna()) #&\n",
    "                                    #(country_ratios_df['LengthKnownKm']!=0) &\n",
    "                                    #(country_ratios_df['CostUSDPerKm']<10e6)\n",
    "                                   ]\n",
    "\n",
    "country_ratios_with_length_and_cost_df = country_ratios_with_length_and_cost_df.loc[\n",
    "    country_ratios_with_length_and_cost_df['CostUSDPerKm'].between(q_lo, q_hi, inclusive='neither')]\n",
    "#country_ratios_with_length_and_cost_df = country_ratios_with_length_and_cost_df[~country_ratios_with_length_and_cost_df.ProjectID.isin(outliers_projectids)]"
   ]
  },
  {
   "cell_type": "markdown",
   "id": "a60996ff-c763-46a6-8576-cffa78c2fcbb",
   "metadata": {},
   "source": [
    "### global mean value"
   ]
  },
  {
   "cell_type": "code",
   "execution_count": 416,
   "id": "cf567357-e85c-4afc-b618-e35a0feef254",
   "metadata": {},
   "outputs": [
    {
     "data": {
      "text/plain": [
       "2904756.052615063"
      ]
     },
     "execution_count": 416,
     "metadata": {},
     "output_type": "execute_result"
    }
   ],
   "source": [
    "country_ratios_with_length_and_cost_df['CostUSDPerKm'].drop_duplicates().mean()"
   ]
  },
  {
   "cell_type": "markdown",
   "id": "9754a8d9-5d70-448d-a6ae-75efcd2a6054",
   "metadata": {},
   "source": [
    "### calculate regional costs"
   ]
  },
  {
   "cell_type": "code",
   "execution_count": 417,
   "id": "187bd845-39f3-4c5a-8618-723262516a27",
   "metadata": {},
   "outputs": [
    {
     "name": "stdout",
     "output_type": "stream",
     "text": [
      "Australia and New Zealand\n",
      "East Asia\n",
      "Eurasia\n",
      "Europe\n",
      "Latin America and the Caribbean\n",
      "Middle East and North Africa\n",
      "North America\n",
      "SE Asia\n",
      "South Asia\n",
      "Sub-Saharan Africa\n"
     ]
    }
   ],
   "source": [
    "pipes_gas_costs_region_df = pandas.DataFrame(0, index=region_list, columns=['CostUSDPerKm','DataPoints'])#,'NumberOfLengths'])\n",
    "\n",
    "for region in region_list:\n",
    "    print(region)\n",
    "    country_ratios_region_df = country_ratios_with_length_and_cost_df.loc[country_ratios_with_length_and_cost_df['Region']==region,:]\n",
    "    pipes_gas_costs_region_df.loc[region,'CostUSDPerKm'] = country_ratios_region_df['CostUSDPerKm'].mean()\n",
    "    pipes_gas_costs_region_df.loc[region,'DataPoints'] = list(set(country_ratios_region_df['ProjectID'])).__len__()\n"
   ]
  },
  {
   "cell_type": "code",
   "execution_count": 418,
   "id": "8f569977-8814-43da-bc18-3b665f94ad33",
   "metadata": {},
   "outputs": [
    {
     "data": {
      "text/plain": [
       "3928708.954117647"
      ]
     },
     "execution_count": 418,
     "metadata": {},
     "output_type": "execute_result"
    }
   ],
   "source": [
    "country_ratios_region_df['CostUSDPerKm'].mean()"
   ]
  },
  {
   "cell_type": "code",
   "execution_count": 419,
   "id": "e0b2972c-da89-4cf6-b832-5dace38cf651",
   "metadata": {},
   "outputs": [
    {
     "data": {
      "text/html": [
       "<div>\n",
       "<style scoped>\n",
       "    .dataframe tbody tr th:only-of-type {\n",
       "        vertical-align: middle;\n",
       "    }\n",
       "\n",
       "    .dataframe tbody tr th {\n",
       "        vertical-align: top;\n",
       "    }\n",
       "\n",
       "    .dataframe thead th {\n",
       "        text-align: right;\n",
       "    }\n",
       "</style>\n",
       "<table border=\"1\" class=\"dataframe\">\n",
       "  <thead>\n",
       "    <tr style=\"text-align: right;\">\n",
       "      <th></th>\n",
       "      <th>CostUSDPerKm</th>\n",
       "      <th>DataPoints</th>\n",
       "    </tr>\n",
       "  </thead>\n",
       "  <tbody>\n",
       "    <tr>\n",
       "      <th>North America</th>\n",
       "      <td>4.875</td>\n",
       "      <td>147</td>\n",
       "    </tr>\n",
       "    <tr>\n",
       "      <th>Eurasia</th>\n",
       "      <td>4.043</td>\n",
       "      <td>41</td>\n",
       "    </tr>\n",
       "    <tr>\n",
       "      <th>Sub-Saharan Africa</th>\n",
       "      <td>3.929</td>\n",
       "      <td>5</td>\n",
       "    </tr>\n",
       "    <tr>\n",
       "      <th>Latin America and the Caribbean</th>\n",
       "      <td>3.637</td>\n",
       "      <td>23</td>\n",
       "    </tr>\n",
       "    <tr>\n",
       "      <th>Europe</th>\n",
       "      <td>2.922</td>\n",
       "      <td>111</td>\n",
       "    </tr>\n",
       "    <tr>\n",
       "      <th>Middle East and North Africa</th>\n",
       "      <td>2.891</td>\n",
       "      <td>37</td>\n",
       "    </tr>\n",
       "    <tr>\n",
       "      <th>SE Asia</th>\n",
       "      <td>2.703</td>\n",
       "      <td>7</td>\n",
       "    </tr>\n",
       "    <tr>\n",
       "      <th>South Asia</th>\n",
       "      <td>1.956</td>\n",
       "      <td>15</td>\n",
       "    </tr>\n",
       "    <tr>\n",
       "      <th>East Asia</th>\n",
       "      <td>1.442</td>\n",
       "      <td>120</td>\n",
       "    </tr>\n",
       "    <tr>\n",
       "      <th>Australia and New Zealand</th>\n",
       "      <td>1.441</td>\n",
       "      <td>9</td>\n",
       "    </tr>\n",
       "  </tbody>\n",
       "</table>\n",
       "</div>"
      ],
      "text/plain": [
       "                                 CostUSDPerKm  DataPoints\n",
       "North America                           4.875         147\n",
       "Eurasia                                 4.043          41\n",
       "Sub-Saharan Africa                      3.929           5\n",
       "Latin America and the Caribbean         3.637          23\n",
       "Europe                                  2.922         111\n",
       "Middle East and North Africa            2.891          37\n",
       "SE Asia                                 2.703           7\n",
       "South Asia                              1.956          15\n",
       "East Asia                               1.442         120\n",
       "Australia and New Zealand               1.441           9"
      ]
     },
     "execution_count": 419,
     "metadata": {},
     "output_type": "execute_result"
    }
   ],
   "source": [
    "pandas.options.display.float_format = '{:,.3f}'.format\n",
    "temp_df = pipes_gas_costs_region_df.copy()\n",
    "temp_df['CostUSDPerKm'] = temp_df['CostUSDPerKm']/1e6\n",
    "temp_df.sort_values('CostUSDPerKm', ascending=False)#.loc[region]['CostUSDPerKm']"
   ]
  },
  {
   "cell_type": "markdown",
   "id": "22cb04dc-3e08-43ec-8efd-51387768d17f",
   "metadata": {},
   "source": [
    "### calculate country-level costs"
   ]
  },
  {
   "cell_type": "raw",
   "id": "f6d4b936-1617-4196-b270-4754f4f75147",
   "metadata": {},
   "source": [
    "#country_list_for_costs = sorted(list(set(country_ratios_with_length_and_cost_df['Country'])))\n",
    "pipes_oil_costs_country_df = pandas.DataFrame(0, index=country_list, columns=['CostUSDPerKm','NumberOfCosts','NumberOfLengths'])\n",
    "\n",
    "for country in country_list:#_for_costs:\n",
    "    #print(country)\n",
    "    country_ratios_country_df = country_ratios_with_length_and_cost_df[country_ratios_with_length_and_cost_df['Country']==country]\n",
    "    pipes_oil_costs_country_df.loc[country,'CostUSDPerKm'] = country_ratios_country_df['CostUSDPerKm'].mean()\n",
    "    pipes_oil_costs_country_df.loc[country,'NumberOfCosts'] = list(set(country_ratios_country_df['ProjectID'])).__len__()\n",
    "    pipes_oil_costs_country_df.loc[country,'NumberOfLengths'] = list(set(country_ratios_country_df['ProjectID'])).__len__()"
   ]
  },
  {
   "cell_type": "raw",
   "id": "f3ef70dd-626f-4bd8-8d61-feb899599542",
   "metadata": {},
   "source": [
    "pipes_df_orig.loc[(pipes_df_orig.Fuel=='Gas')&\n",
    "                  (pipes_df_orig.Status.isin(['Construction','Proposed']))&\n",
    "                  (pipes_df_orig.Route!='Capacity expansion only')].count()"
   ]
  },
  {
   "cell_type": "raw",
   "id": "3c5df307-f226-4ba5-b2a3-be847f857787",
   "metadata": {},
   "source": [
    "pipes_df_orig.loc[(pipes_df_orig.Fuel=='Gas')&\n",
    "                  (pipes_df_orig.Status.isin(['Construction','Proposed']))&\n",
    "                  (pipes_df_orig.Route=='Capacity expansion only')]['CapacityBOEd'].sum()"
   ]
  },
  {
   "cell_type": "markdown",
   "id": "a99048f2-e80e-41a0-be0a-b40942963375",
   "metadata": {},
   "source": [
    "# tables etc."
   ]
  },
  {
   "cell_type": "markdown",
   "id": "f5242bbf-f1a7-4e90-9e91-90fbdb5bca2f",
   "metadata": {},
   "source": [
    "## table for regional totals"
   ]
  },
  {
   "cell_type": "code",
   "execution_count": 420,
   "id": "f804568d-5a95-490f-8245-d87042a15fee",
   "metadata": {},
   "outputs": [
    {
     "name": "stderr",
     "output_type": "stream",
     "text": [
      "/var/folders/h5/nfk59_vx7gg_58myc9jfk7_40000gn/T/ipykernel_96472/997741405.py:10: FutureWarning: The frame.append method is deprecated and will be removed from pandas in a future version. Use pandas.concat instead.\n",
      "  km_by_region_df = km_by_region_df.append(total)\n"
     ]
    },
    {
     "data": {
      "text/html": [
       "<div>\n",
       "<style scoped>\n",
       "    .dataframe tbody tr th:only-of-type {\n",
       "        vertical-align: middle;\n",
       "    }\n",
       "\n",
       "    .dataframe tbody tr th {\n",
       "        vertical-align: top;\n",
       "    }\n",
       "\n",
       "    .dataframe thead th {\n",
       "        text-align: right;\n",
       "    }\n",
       "</style>\n",
       "<table border=\"1\" class=\"dataframe\">\n",
       "  <thead>\n",
       "    <tr style=\"text-align: right;\">\n",
       "      <th></th>\n",
       "      <th>Proposed</th>\n",
       "      <th>Construction</th>\n",
       "      <th>Proposed+Construction</th>\n",
       "      <th>Shelved</th>\n",
       "      <th>Cancelled</th>\n",
       "      <th>Operating</th>\n",
       "      <th>Idle</th>\n",
       "      <th>Mothballed</th>\n",
       "      <th>Retired</th>\n",
       "    </tr>\n",
       "  </thead>\n",
       "  <tbody>\n",
       "    <tr>\n",
       "      <th>East Asia</th>\n",
       "      <td>42,022.300</td>\n",
       "      <td>17,898.960</td>\n",
       "      <td>59,921.260</td>\n",
       "      <td>2,489.420</td>\n",
       "      <td>2,566.320</td>\n",
       "      <td>122,237.400</td>\n",
       "      <td>0.000</td>\n",
       "      <td>0.000</td>\n",
       "      <td>41.000</td>\n",
       "    </tr>\n",
       "    <tr>\n",
       "      <th>Eurasia</th>\n",
       "      <td>18,370.350</td>\n",
       "      <td>6,113.630</td>\n",
       "      <td>24,483.980</td>\n",
       "      <td>272.690</td>\n",
       "      <td>6,275.210</td>\n",
       "      <td>134,758.880</td>\n",
       "      <td>0.000</td>\n",
       "      <td>3,298.310</td>\n",
       "      <td>1,783.240</td>\n",
       "    </tr>\n",
       "    <tr>\n",
       "      <th>South Asia</th>\n",
       "      <td>4,222.570</td>\n",
       "      <td>17,113.790</td>\n",
       "      <td>21,336.360</td>\n",
       "      <td>6,344.410</td>\n",
       "      <td>6,141.070</td>\n",
       "      <td>29,701.060</td>\n",
       "      <td>0.000</td>\n",
       "      <td>0.000</td>\n",
       "      <td>35.000</td>\n",
       "    </tr>\n",
       "    <tr>\n",
       "      <th>Sub-Saharan Africa</th>\n",
       "      <td>18,355.360</td>\n",
       "      <td>1,582.000</td>\n",
       "      <td>19,937.360</td>\n",
       "      <td>1,626.160</td>\n",
       "      <td>228.960</td>\n",
       "      <td>7,031.520</td>\n",
       "      <td>0.000</td>\n",
       "      <td>0.000</td>\n",
       "      <td>0.000</td>\n",
       "    </tr>\n",
       "    <tr>\n",
       "      <th>Europe</th>\n",
       "      <td>17,145.970</td>\n",
       "      <td>2,652.190</td>\n",
       "      <td>19,798.160</td>\n",
       "      <td>4,707.470</td>\n",
       "      <td>15,267.440</td>\n",
       "      <td>121,790.130</td>\n",
       "      <td>0.000</td>\n",
       "      <td>4,735.180</td>\n",
       "      <td>823.060</td>\n",
       "    </tr>\n",
       "    <tr>\n",
       "      <th>Latin America and the Caribbean</th>\n",
       "      <td>12,772.030</td>\n",
       "      <td>1,304.000</td>\n",
       "      <td>14,076.030</td>\n",
       "      <td>2,187.280</td>\n",
       "      <td>1,301.390</td>\n",
       "      <td>39,254.350</td>\n",
       "      <td>0.000</td>\n",
       "      <td>224.000</td>\n",
       "      <td>0.000</td>\n",
       "    </tr>\n",
       "    <tr>\n",
       "      <th>Middle East and North Africa</th>\n",
       "      <td>6,211.810</td>\n",
       "      <td>7,773.200</td>\n",
       "      <td>13,985.010</td>\n",
       "      <td>5,964.340</td>\n",
       "      <td>4,146.270</td>\n",
       "      <td>49,700.910</td>\n",
       "      <td>0.000</td>\n",
       "      <td>1,107.390</td>\n",
       "      <td>39.280</td>\n",
       "    </tr>\n",
       "    <tr>\n",
       "      <th>North America</th>\n",
       "      <td>10,347.340</td>\n",
       "      <td>3,087.200</td>\n",
       "      <td>13,434.540</td>\n",
       "      <td>10,919.390</td>\n",
       "      <td>13,281.840</td>\n",
       "      <td>421,043.370</td>\n",
       "      <td>331.000</td>\n",
       "      <td>0.000</td>\n",
       "      <td>0.000</td>\n",
       "    </tr>\n",
       "    <tr>\n",
       "      <th>Australia and New Zealand</th>\n",
       "      <td>12,590.050</td>\n",
       "      <td>580.000</td>\n",
       "      <td>13,170.050</td>\n",
       "      <td>334.280</td>\n",
       "      <td>6,194.680</td>\n",
       "      <td>30,991.820</td>\n",
       "      <td>0.000</td>\n",
       "      <td>0.000</td>\n",
       "      <td>0.000</td>\n",
       "    </tr>\n",
       "    <tr>\n",
       "      <th>SE Asia</th>\n",
       "      <td>9,222.660</td>\n",
       "      <td>984.300</td>\n",
       "      <td>10,206.960</td>\n",
       "      <td>2,801.340</td>\n",
       "      <td>1,423.820</td>\n",
       "      <td>17,452.280</td>\n",
       "      <td>0.000</td>\n",
       "      <td>0.000</td>\n",
       "      <td>0.000</td>\n",
       "    </tr>\n",
       "    <tr>\n",
       "      <th>Total</th>\n",
       "      <td>151,260.440</td>\n",
       "      <td>59,089.270</td>\n",
       "      <td>210,349.710</td>\n",
       "      <td>37,646.780</td>\n",
       "      <td>56,827.000</td>\n",
       "      <td>973,961.720</td>\n",
       "      <td>331.000</td>\n",
       "      <td>9,364.880</td>\n",
       "      <td>2,721.580</td>\n",
       "    </tr>\n",
       "  </tbody>\n",
       "</table>\n",
       "</div>"
      ],
      "text/plain": [
       "                                   Proposed  Construction  \\\n",
       "East Asia                        42,022.300    17,898.960   \n",
       "Eurasia                          18,370.350     6,113.630   \n",
       "South Asia                        4,222.570    17,113.790   \n",
       "Sub-Saharan Africa               18,355.360     1,582.000   \n",
       "Europe                           17,145.970     2,652.190   \n",
       "Latin America and the Caribbean  12,772.030     1,304.000   \n",
       "Middle East and North Africa      6,211.810     7,773.200   \n",
       "North America                    10,347.340     3,087.200   \n",
       "Australia and New Zealand        12,590.050       580.000   \n",
       "SE Asia                           9,222.660       984.300   \n",
       "Total                           151,260.440    59,089.270   \n",
       "\n",
       "                                 Proposed+Construction    Shelved  Cancelled  \\\n",
       "East Asia                                   59,921.260  2,489.420  2,566.320   \n",
       "Eurasia                                     24,483.980    272.690  6,275.210   \n",
       "South Asia                                  21,336.360  6,344.410  6,141.070   \n",
       "Sub-Saharan Africa                          19,937.360  1,626.160    228.960   \n",
       "Europe                                      19,798.160  4,707.470 15,267.440   \n",
       "Latin America and the Caribbean             14,076.030  2,187.280  1,301.390   \n",
       "Middle East and North Africa                13,985.010  5,964.340  4,146.270   \n",
       "North America                               13,434.540 10,919.390 13,281.840   \n",
       "Australia and New Zealand                   13,170.050    334.280  6,194.680   \n",
       "SE Asia                                     10,206.960  2,801.340  1,423.820   \n",
       "Total                                      210,349.710 37,646.780 56,827.000   \n",
       "\n",
       "                                  Operating    Idle  Mothballed   Retired  \n",
       "East Asia                       122,237.400   0.000       0.000    41.000  \n",
       "Eurasia                         134,758.880   0.000   3,298.310 1,783.240  \n",
       "South Asia                       29,701.060   0.000       0.000    35.000  \n",
       "Sub-Saharan Africa                7,031.520   0.000       0.000     0.000  \n",
       "Europe                          121,790.130   0.000   4,735.180   823.060  \n",
       "Latin America and the Caribbean  39,254.350   0.000     224.000     0.000  \n",
       "Middle East and North Africa     49,700.910   0.000   1,107.390    39.280  \n",
       "North America                   421,043.370 331.000       0.000     0.000  \n",
       "Australia and New Zealand        30,991.820   0.000       0.000     0.000  \n",
       "SE Asia                          17,452.280   0.000       0.000     0.000  \n",
       "Total                           973,961.720 331.000   9,364.880 2,721.580  "
      ]
     },
     "execution_count": 420,
     "metadata": {},
     "output_type": "execute_result"
    }
   ],
   "source": [
    "if 'Total' in km_by_region_df.index:\n",
    "    km_by_region_df.drop(index='Total', inplace=True)   \n",
    "    total = km_by_region_df.sum(axis=0)\n",
    "    total.name='Total'\n",
    "    km_by_region_df = km_by_region_df.append(total)\n",
    "\n",
    "else:\n",
    "    total = km_by_region_df.sum(axis=0)\n",
    "    total.name='Total'\n",
    "    km_by_region_df = km_by_region_df.append(total)\n",
    "\n",
    "km_by_region_df"
   ]
  },
  {
   "cell_type": "markdown",
   "id": "79570a43-7f2f-44cb-8a79-6029e80d0c65",
   "metadata": {},
   "source": [
    "## table for km by country"
   ]
  },
  {
   "cell_type": "code",
   "execution_count": 421,
   "id": "b42d6a47-d1a5-4a4b-acf8-7ec5f0fcc36e",
   "metadata": {},
   "outputs": [
    {
     "name": "stderr",
     "output_type": "stream",
     "text": [
      "/var/folders/h5/nfk59_vx7gg_58myc9jfk7_40000gn/T/ipykernel_96472/3713560636.py:14: FutureWarning: The frame.append method is deprecated and will be removed from pandas in a future version. Use pandas.concat instead.\n",
      "  km_by_country_df = km_by_country_df.append(total)\n"
     ]
    }
   ],
   "source": [
    "# saves all countries to an Excel file for reference\n",
    "\n",
    "km_by_country_df.sort_values('Proposed+Construction', ascending=False)\n",
    "\n",
    "if 'Total' in km_by_country_df.index:\n",
    "    km_by_country_df.drop(index='Total', inplace=True)   \n",
    "    total = km_by_country_df.sum(axis=0)\n",
    "    total.name='Total'\n",
    "    km_by_country_df = km_by_country_df.append(total)\n",
    "\n",
    "else:\n",
    "    total = km_by_country_df.sum(axis=0)\n",
    "    total.name='Total'\n",
    "    km_by_country_df = km_by_country_df.append(total)\n",
    "\n",
    "km_by_country_df.to_excel('saved-tables/gas-pipelines-km-by-country.xlsx')"
   ]
  },
  {
   "cell_type": "markdown",
   "id": "44145d01-f597-498d-889a-73173abc7ef2",
   "metadata": {},
   "source": [
    "# table for stranded asset calculations"
   ]
  },
  {
   "cell_type": "markdown",
   "id": "c009d10e-36da-4eb8-8e46-3164731bdb7d",
   "metadata": {},
   "source": [
    "## country-level capex estimates"
   ]
  },
  {
   "cell_type": "code",
   "execution_count": 422,
   "id": "b0edb61c-12f3-4886-8131-586ad36e46dd",
   "metadata": {},
   "outputs": [
    {
     "name": "stderr",
     "output_type": "stream",
     "text": [
      "/var/folders/h5/nfk59_vx7gg_58myc9jfk7_40000gn/T/ipykernel_96472/2612676912.py:2: SettingWithCopyWarning: \n",
      "A value is trying to be set on a copy of a slice from a DataFrame.\n",
      "Try using .loc[row_indexer,col_indexer] = value instead\n",
      "\n",
      "See the caveats in the documentation: https://pandas.pydata.org/pandas-docs/stable/user_guide/indexing.html#returning-a-view-versus-a-copy\n",
      "  country_ratios_gas_df.loc[:,'CostUSDEstimate'] = numpy.nan\n"
     ]
    }
   ],
   "source": [
    "country_ratios_gas_df.reset_index(drop=True, inplace=True)\n",
    "country_ratios_gas_df.loc[:,'CostUSDEstimate'] = numpy.nan\n",
    "\n",
    "for idx,row in country_ratios_gas_df.iterrows():\n",
    "    # calculate cost\n",
    "    cntry = row.Country\n",
    "    region = row.Region\n",
    "    km_by_cntry = row.LengthKnownKmByCountry\n",
    "    #print(row.PipelineName)\n",
    "    country_ratios_gas_df.loc[idx,'CostUSDEstimate'] = pipes_gas_costs_region_df.loc[region, 'CostUSDPerKm'] * km_by_cntry\n",
    "\n",
    "# replace any known costs now\n",
    "country_ratios_gas_df.loc[(~country_ratios_gas_df.LengthKnownKmByCountry.isna())&\n",
    "                      (~country_ratios_gas_df.CostUSDPerKm.isna()),'CostUSDEstimate'] = \\\n",
    "country_ratios_gas_df.loc[(~country_ratios_gas_df.LengthKnownKmByCountry.isna())&\n",
    "                      (~country_ratios_gas_df.CostUSDPerKm.isna()), 'LengthKnownKmByCountry'] * \\\n",
    "country_ratios_gas_df.loc[(~country_ratios_gas_df.LengthKnownKmByCountry.isna())&\n",
    "                      (~country_ratios_gas_df.CostUSDPerKm.isna()), 'CostUSDPerKm']\n",
    "\n",
    "country_sums_USDBillion_df = pandas.DataFrame(country_ratios_gas_df.loc[(country_ratios_gas_df.Status.isin(['Construction','Proposed']))].groupby('Country')['CostUSDEstimate'].sum(min_count=1)/1e9)"
   ]
  },
  {
   "cell_type": "code",
   "execution_count": 423,
   "id": "95829118-8241-44fa-941e-db867f4e7ad1",
   "metadata": {},
   "outputs": [
    {
     "name": "stdout",
     "output_type": "stream",
     "text": [
      "===country-level calculations===\n",
      "Proposed\n",
      "Construction\n",
      "Shelved\n",
      "Cancelled\n",
      "Operating\n",
      "Idle\n",
      "Mothballed\n",
      "Retired\n",
      "===regional calculations===\n",
      "Proposed\n",
      "Construction\n",
      "Shelved\n",
      "Cancelled\n",
      "Operating\n",
      "Idle\n",
      "Mothballed\n",
      "Retired\n"
     ]
    }
   ],
   "source": [
    "capex_by_country_df = pandas.DataFrame(columns=status_list, index=country_list)\n",
    "capex_by_region_df = pandas.DataFrame(columns=status_list, index=region_list)\n",
    "\n",
    "print('===country-level calculations===')\n",
    "for status in status_list:\n",
    "    print(status)\n",
    "    country_ratios_gas_df_status = country_ratios_gas_df[country_ratios_gas_df.Status==status]\n",
    "    capex_by_country_df[status] = country_ratios_gas_df_status.groupby('Country')['CostUSDEstimate'].sum()/1e9\n",
    "\n",
    "print('===regional calculations===')\n",
    "for status in status_list:\n",
    "    print(status)\n",
    "    country_ratios_gas_df_status = country_ratios_gas_df[country_ratios_gas_df.Status==status]\n",
    "    capex_by_region_df[status] = country_ratios_gas_df_status.groupby('Region')['CostUSDEstimate'].sum()/1e9\n",
    "\n",
    "# # fill NaN with 0.0\n",
    "capex_by_region_df = capex_by_region_df.fillna(0)\n",
    "capex_by_country_df = capex_by_country_df.fillna(0)"
   ]
  },
  {
   "cell_type": "code",
   "execution_count": 424,
   "id": "46a37257-f3c7-40f8-a2b7-51318878c296",
   "metadata": {},
   "outputs": [],
   "source": [
    "capex_by_region_df['Proposed+Construction'] = capex_by_region_df[['Proposed','Construction']].sum(axis=1)\n",
    "#capex_by_region_df.sort_values(by='Proposed+Construction', inplace=True)\n",
    "capex_by_region_df = capex_by_region_df[['Proposed', 'Construction', 'Proposed+Construction', 'Shelved', 'Cancelled', 'Operating', 'Idle', 'Mothballed', 'Retired']]\n",
    "capex_by_region_df.sort_values('Proposed+Construction', ascending=False, inplace=True)"
   ]
  },
  {
   "cell_type": "code",
   "execution_count": 425,
   "id": "cc733300-291f-497e-a686-e2499fa85713",
   "metadata": {},
   "outputs": [],
   "source": [
    "capex_by_country_df['Proposed+Construction'] = capex_by_country_df[['Proposed','Construction']].sum(axis=1)\n",
    "#capex_by_country_df.sort_values(by='Proposed+Construction', inplace=True)\n",
    "capex_by_country_df = capex_by_country_df[['Proposed', 'Construction', 'Proposed+Construction', 'Shelved', 'Cancelled', 'Operating', 'Idle', 'Mothballed', 'Retired']]\n",
    "capex_by_country_df.sort_values('Proposed+Construction', ascending=False, inplace=True)"
   ]
  },
  {
   "cell_type": "code",
   "execution_count": 426,
   "id": "fe3d3070-5264-4535-9257-abbd7419c0ad",
   "metadata": {},
   "outputs": [
    {
     "name": "stderr",
     "output_type": "stream",
     "text": [
      "/var/folders/h5/nfk59_vx7gg_58myc9jfk7_40000gn/T/ipykernel_96472/2444263024.py:10: FutureWarning: The frame.append method is deprecated and will be removed from pandas in a future version. Use pandas.concat instead.\n",
      "  capex_by_region_df = capex_by_region_df.append(total)\n"
     ]
    }
   ],
   "source": [
    "if 'Total' in capex_by_region_df.index:\n",
    "    capex_by_region_df.drop(index='Total', inplace=True)   \n",
    "    total = capex_by_region_df.sum(axis=0)\n",
    "    total.name='Total'\n",
    "    capex_by_region_df = capex_by_region_df.append(total)\n",
    "\n",
    "else:\n",
    "    total = capex_by_region_df.sum(axis=0)\n",
    "    total.name='Total'\n",
    "    capex_by_region_df = capex_by_region_df.append(total)"
   ]
  },
  {
   "cell_type": "code",
   "execution_count": 427,
   "id": "1472a37f-8e4f-4e29-8a23-95bc1c4c3e36",
   "metadata": {},
   "outputs": [
    {
     "name": "stderr",
     "output_type": "stream",
     "text": [
      "/var/folders/h5/nfk59_vx7gg_58myc9jfk7_40000gn/T/ipykernel_96472/3950818690.py:10: FutureWarning: The frame.append method is deprecated and will be removed from pandas in a future version. Use pandas.concat instead.\n",
      "  capex_by_country_df = capex_by_country_df.append(total)\n"
     ]
    }
   ],
   "source": [
    "if 'Total' in capex_by_country_df.index:\n",
    "    capex_by_country_df.drop(index='Total', inplace=True)   \n",
    "    total = capex_by_country_df.sum(axis=0)\n",
    "    total.name='Total'\n",
    "    capex_by_country_df = capex_by_country_df.append(total)\n",
    "\n",
    "else:\n",
    "    total = capex_by_country_df.sum(axis=0)\n",
    "    total.name='Total'\n",
    "    capex_by_country_df = capex_by_country_df.append(total)"
   ]
  },
  {
   "cell_type": "code",
   "execution_count": 428,
   "id": "22636b17-8c9a-4d61-bd7e-42e14da91c56",
   "metadata": {},
   "outputs": [
    {
     "data": {
      "text/html": [
       "<div>\n",
       "<style scoped>\n",
       "    .dataframe tbody tr th:only-of-type {\n",
       "        vertical-align: middle;\n",
       "    }\n",
       "\n",
       "    .dataframe tbody tr th {\n",
       "        vertical-align: top;\n",
       "    }\n",
       "\n",
       "    .dataframe thead th {\n",
       "        text-align: right;\n",
       "    }\n",
       "</style>\n",
       "<table border=\"1\" class=\"dataframe\">\n",
       "  <thead>\n",
       "    <tr style=\"text-align: right;\">\n",
       "      <th></th>\n",
       "      <th>Proposed</th>\n",
       "      <th>Construction</th>\n",
       "      <th>Proposed+Construction</th>\n",
       "      <th>Shelved</th>\n",
       "      <th>Cancelled</th>\n",
       "      <th>Operating</th>\n",
       "      <th>Idle</th>\n",
       "      <th>Mothballed</th>\n",
       "      <th>Retired</th>\n",
       "    </tr>\n",
       "  </thead>\n",
       "  <tbody>\n",
       "    <tr>\n",
       "      <th>North America</th>\n",
       "      <td>97.9</td>\n",
       "      <td>15.0</td>\n",
       "      <td>112.9</td>\n",
       "      <td>61.9</td>\n",
       "      <td>89.6</td>\n",
       "      <td>1,972.7</td>\n",
       "      <td>1.6</td>\n",
       "      <td>0.0</td>\n",
       "      <td>0.0</td>\n",
       "    </tr>\n",
       "    <tr>\n",
       "      <th>Eurasia</th>\n",
       "      <td>53.4</td>\n",
       "      <td>24.5</td>\n",
       "      <td>77.9</td>\n",
       "      <td>1.7</td>\n",
       "      <td>15.4</td>\n",
       "      <td>556.8</td>\n",
       "      <td>0.0</td>\n",
       "      <td>13.3</td>\n",
       "      <td>4.1</td>\n",
       "    </tr>\n",
       "    <tr>\n",
       "      <th>East Asia</th>\n",
       "      <td>54.0</td>\n",
       "      <td>22.1</td>\n",
       "      <td>76.1</td>\n",
       "      <td>3.4</td>\n",
       "      <td>6.2</td>\n",
       "      <td>170.1</td>\n",
       "      <td>0.0</td>\n",
       "      <td>0.0</td>\n",
       "      <td>0.1</td>\n",
       "    </tr>\n",
       "    <tr>\n",
       "      <th>Sub-Saharan Africa</th>\n",
       "      <td>55.9</td>\n",
       "      <td>4.0</td>\n",
       "      <td>59.9</td>\n",
       "      <td>0.2</td>\n",
       "      <td>0.2</td>\n",
       "      <td>27.6</td>\n",
       "      <td>0.0</td>\n",
       "      <td>0.0</td>\n",
       "      <td>0.0</td>\n",
       "    </tr>\n",
       "    <tr>\n",
       "      <th>Middle East and North Africa</th>\n",
       "      <td>23.5</td>\n",
       "      <td>23.6</td>\n",
       "      <td>47.1</td>\n",
       "      <td>17.1</td>\n",
       "      <td>5.6</td>\n",
       "      <td>138.0</td>\n",
       "      <td>0.0</td>\n",
       "      <td>3.2</td>\n",
       "      <td>0.0</td>\n",
       "    </tr>\n",
       "    <tr>\n",
       "      <th>Europe</th>\n",
       "      <td>39.9</td>\n",
       "      <td>5.5</td>\n",
       "      <td>45.5</td>\n",
       "      <td>14.3</td>\n",
       "      <td>47.6</td>\n",
       "      <td>274.9</td>\n",
       "      <td>0.0</td>\n",
       "      <td>13.3</td>\n",
       "      <td>2.4</td>\n",
       "    </tr>\n",
       "    <tr>\n",
       "      <th>Latin America and the Caribbean</th>\n",
       "      <td>33.8</td>\n",
       "      <td>3.5</td>\n",
       "      <td>37.3</td>\n",
       "      <td>10.1</td>\n",
       "      <td>4.6</td>\n",
       "      <td>142.8</td>\n",
       "      <td>0.0</td>\n",
       "      <td>0.8</td>\n",
       "      <td>0.0</td>\n",
       "    </tr>\n",
       "    <tr>\n",
       "      <th>South Asia</th>\n",
       "      <td>8.6</td>\n",
       "      <td>28.6</td>\n",
       "      <td>37.2</td>\n",
       "      <td>12.3</td>\n",
       "      <td>10.7</td>\n",
       "      <td>54.4</td>\n",
       "      <td>0.0</td>\n",
       "      <td>0.0</td>\n",
       "      <td>0.1</td>\n",
       "    </tr>\n",
       "    <tr>\n",
       "      <th>SE Asia</th>\n",
       "      <td>21.5</td>\n",
       "      <td>2.9</td>\n",
       "      <td>24.4</td>\n",
       "      <td>7.3</td>\n",
       "      <td>3.8</td>\n",
       "      <td>44.5</td>\n",
       "      <td>0.0</td>\n",
       "      <td>0.0</td>\n",
       "      <td>0.0</td>\n",
       "    </tr>\n",
       "    <tr>\n",
       "      <th>Australia and New Zealand</th>\n",
       "      <td>14.5</td>\n",
       "      <td>0.8</td>\n",
       "      <td>15.3</td>\n",
       "      <td>0.3</td>\n",
       "      <td>7.7</td>\n",
       "      <td>43.7</td>\n",
       "      <td>0.0</td>\n",
       "      <td>0.0</td>\n",
       "      <td>0.0</td>\n",
       "    </tr>\n",
       "    <tr>\n",
       "      <th>Total</th>\n",
       "      <td>402.9</td>\n",
       "      <td>130.6</td>\n",
       "      <td>533.6</td>\n",
       "      <td>128.6</td>\n",
       "      <td>191.2</td>\n",
       "      <td>3,425.5</td>\n",
       "      <td>1.6</td>\n",
       "      <td>30.6</td>\n",
       "      <td>6.6</td>\n",
       "    </tr>\n",
       "  </tbody>\n",
       "</table>\n",
       "</div>"
      ],
      "text/plain": [
       "                                 Proposed  Construction  \\\n",
       "North America                        97.9          15.0   \n",
       "Eurasia                              53.4          24.5   \n",
       "East Asia                            54.0          22.1   \n",
       "Sub-Saharan Africa                   55.9           4.0   \n",
       "Middle East and North Africa         23.5          23.6   \n",
       "Europe                               39.9           5.5   \n",
       "Latin America and the Caribbean      33.8           3.5   \n",
       "South Asia                            8.6          28.6   \n",
       "SE Asia                              21.5           2.9   \n",
       "Australia and New Zealand            14.5           0.8   \n",
       "Total                               402.9         130.6   \n",
       "\n",
       "                                 Proposed+Construction  Shelved  Cancelled  \\\n",
       "North America                                    112.9     61.9       89.6   \n",
       "Eurasia                                           77.9      1.7       15.4   \n",
       "East Asia                                         76.1      3.4        6.2   \n",
       "Sub-Saharan Africa                                59.9      0.2        0.2   \n",
       "Middle East and North Africa                      47.1     17.1        5.6   \n",
       "Europe                                            45.5     14.3       47.6   \n",
       "Latin America and the Caribbean                   37.3     10.1        4.6   \n",
       "South Asia                                        37.2     12.3       10.7   \n",
       "SE Asia                                           24.4      7.3        3.8   \n",
       "Australia and New Zealand                         15.3      0.3        7.7   \n",
       "Total                                            533.6    128.6      191.2   \n",
       "\n",
       "                                 Operating  Idle  Mothballed  Retired  \n",
       "North America                      1,972.7   1.6         0.0      0.0  \n",
       "Eurasia                              556.8   0.0        13.3      4.1  \n",
       "East Asia                            170.1   0.0         0.0      0.1  \n",
       "Sub-Saharan Africa                    27.6   0.0         0.0      0.0  \n",
       "Middle East and North Africa         138.0   0.0         3.2      0.0  \n",
       "Europe                               274.9   0.0        13.3      2.4  \n",
       "Latin America and the Caribbean      142.8   0.0         0.8      0.0  \n",
       "South Asia                            54.4   0.0         0.0      0.1  \n",
       "SE Asia                               44.5   0.0         0.0      0.0  \n",
       "Australia and New Zealand             43.7   0.0         0.0      0.0  \n",
       "Total                              3,425.5   1.6        30.6      6.6  "
      ]
     },
     "execution_count": 428,
     "metadata": {},
     "output_type": "execute_result"
    }
   ],
   "source": [
    "pandas.options.display.float_format = '{:,.1f}'.format\n",
    "capex_by_region_df"
   ]
  },
  {
   "cell_type": "markdown",
   "id": "a67ada29-6ccc-49b9-8ab1-6fdf3d6a116f",
   "metadata": {},
   "source": [
    "## print out country-level stranded assets for report discussion"
   ]
  },
  {
   "cell_type": "markdown",
   "id": "b734740c-6a22-4d1f-9c1b-1817d3b85166",
   "metadata": {},
   "source": [
    "## in-dev for each country in list"
   ]
  },
  {
   "cell_type": "code",
   "execution_count": 429,
   "id": "02799ef1-9b6f-4122-9fac-61a9bdaf1e42",
   "metadata": {},
   "outputs": [
    {
     "data": {
      "text/html": [
       "<div>\n",
       "<style scoped>\n",
       "    .dataframe tbody tr th:only-of-type {\n",
       "        vertical-align: middle;\n",
       "    }\n",
       "\n",
       "    .dataframe tbody tr th {\n",
       "        vertical-align: top;\n",
       "    }\n",
       "\n",
       "    .dataframe thead th {\n",
       "        text-align: right;\n",
       "    }\n",
       "</style>\n",
       "<table border=\"1\" class=\"dataframe\">\n",
       "  <thead>\n",
       "    <tr style=\"text-align: right;\">\n",
       "      <th></th>\n",
       "      <th>CostUSDEstimate</th>\n",
       "    </tr>\n",
       "    <tr>\n",
       "      <th>Country</th>\n",
       "      <th></th>\n",
       "    </tr>\n",
       "  </thead>\n",
       "  <tbody>\n",
       "    <tr>\n",
       "      <th>Afghanistan</th>\n",
       "      <td>5.0</td>\n",
       "    </tr>\n",
       "    <tr>\n",
       "      <th>Albania</th>\n",
       "      <td>0.4</td>\n",
       "    </tr>\n",
       "    <tr>\n",
       "      <th>Algeria</th>\n",
       "      <td>4.1</td>\n",
       "    </tr>\n",
       "    <tr>\n",
       "      <th>Argentina</th>\n",
       "      <td>7.4</td>\n",
       "    </tr>\n",
       "    <tr>\n",
       "      <th>Australia</th>\n",
       "      <td>15.3</td>\n",
       "    </tr>\n",
       "    <tr>\n",
       "      <th>...</th>\n",
       "      <td>...</td>\n",
       "    </tr>\n",
       "    <tr>\n",
       "      <th>United Kingdom</th>\n",
       "      <td>0.8</td>\n",
       "    </tr>\n",
       "    <tr>\n",
       "      <th>United States</th>\n",
       "      <td>89.7</td>\n",
       "    </tr>\n",
       "    <tr>\n",
       "      <th>Uzbekistan</th>\n",
       "      <td>2.2</td>\n",
       "    </tr>\n",
       "    <tr>\n",
       "      <th>Vietnam</th>\n",
       "      <td>3.0</td>\n",
       "    </tr>\n",
       "    <tr>\n",
       "      <th>Western Sahara</th>\n",
       "      <td>3.5</td>\n",
       "    </tr>\n",
       "  </tbody>\n",
       "</table>\n",
       "<p>107 rows × 1 columns</p>\n",
       "</div>"
      ],
      "text/plain": [
       "                CostUSDEstimate\n",
       "Country                        \n",
       "Afghanistan                 5.0\n",
       "Albania                     0.4\n",
       "Algeria                     4.1\n",
       "Argentina                   7.4\n",
       "Australia                  15.3\n",
       "...                         ...\n",
       "United Kingdom              0.8\n",
       "United States              89.7\n",
       "Uzbekistan                  2.2\n",
       "Vietnam                     3.0\n",
       "Western Sahara              3.5\n",
       "\n",
       "[107 rows x 1 columns]"
      ]
     },
     "execution_count": 429,
     "metadata": {},
     "output_type": "execute_result"
    }
   ],
   "source": [
    "country_sums_USDBillion_df"
   ]
  },
  {
   "cell_type": "code",
   "execution_count": 430,
   "id": "b7b817ed-c644-4be9-9737-a93affd5e126",
   "metadata": {},
   "outputs": [
    {
     "data": {
      "text/plain": [
       "21.874424524804766"
      ]
     },
     "execution_count": 430,
     "metadata": {},
     "output_type": "execute_result"
    }
   ],
   "source": [
    "country_ratios_gas_df.loc[(country_ratios_gas_df.Country=='China')&\n",
    "                          (country_ratios_gas_df.Status=='Construction')]['CostUSDEstimate'].sum()/1e9"
   ]
  },
  {
   "cell_type": "code",
   "execution_count": 431,
   "id": "70436bc4-4148-4bed-afed-3a0929619316",
   "metadata": {},
   "outputs": [
    {
     "name": "stdout",
     "output_type": "stream",
     "text": [
      "China\n",
      "40457.090000000004  km proposed\n",
      "17847.16  km in construction\n",
      "58304.25  total km in development\n",
      "CostUSDEstimate   73.7\n",
      "Name: China, dtype: float64 USD\n",
      "21.874424524804766 construction capex\n",
      "51.81251986390712 proposed capex\n",
      "\n",
      "India\n",
      "2227.92  km proposed\n",
      "14271.67  km in construction\n",
      "16499.59  total km in development\n",
      "CostUSDEstimate   24.9\n",
      "Name: India, dtype: float64 USD\n",
      "20.721924095285544 construction capex\n",
      "4.140691532394964 proposed capex\n",
      "\n",
      "Iran\n",
      "1571.41  km proposed\n",
      "4768.5  km in construction\n",
      "6339.91  total km in development\n",
      "CostUSDEstimate   23.8\n",
      "Name: Iran, dtype: float64 USD\n",
      "14.0029764077051 construction capex\n",
      "9.7648066712581 proposed capex\n",
      "\n",
      "Russia\n",
      "15784.09  km proposed\n",
      "3756.2  km in construction\n",
      "19540.29  total km in development\n",
      "CostUSDEstimate   60.6\n",
      "Name: Russia, dtype: float64 USD\n",
      "14.923281140537002 construction capex\n",
      "45.6968118240042 proposed capex\n",
      "\n",
      "Pakistan\n",
      "1222.57  km proposed\n",
      "2692.12  km in construction\n",
      "3914.6899999999996  total km in development\n",
      "CostUSDEstimate   10.6\n",
      "Name: Pakistan, dtype: float64 USD\n",
      "7.5909859603992 construction capex\n",
      "2.9687751868007233 proposed capex\n",
      "\n"
     ]
    }
   ],
   "source": [
    "#pandas.options.display.float_format = '{:,.1f}'.format\n",
    "these_countries = ['China','India','Iran','Russia','Pakistan']\n",
    "\n",
    "for cntry in these_countries:\n",
    "    print(cntry)\n",
    "    cntry_region = country_ratios_df.loc[country_ratios_df.Country==cntry]['Region'].to_list()[0]\n",
    "    print(km_by_country_df.loc[cntry]['Proposed'], ' km proposed')\n",
    "    print(km_by_country_df.loc[cntry]['Construction'], ' km in construction')\n",
    "    print(km_by_country_df.loc[cntry]['Proposed+Construction'], ' total km in development')\n",
    "    print(country_sums_USDBillion_df.loc[cntry], 'USD')\n",
    "    print(country_ratios_gas_df.loc[(country_ratios_gas_df.Country==cntry)&\n",
    "                          (country_ratios_gas_df.Status=='Construction')]['CostUSDEstimate'].sum()/1e9, 'construction capex')\n",
    "    print(country_ratios_gas_df.loc[(country_ratios_gas_df.Country==cntry)&\n",
    "                          (country_ratios_gas_df.Status=='Proposed')]['CostUSDEstimate'].sum()/1e9, 'proposed capex')\n",
    "    print()"
   ]
  },
  {
   "cell_type": "markdown",
   "id": "b2f4f54d-258b-418b-a43f-2a2bcec82c0d",
   "metadata": {},
   "source": [
    "# numbers for report"
   ]
  },
  {
   "cell_type": "markdown",
   "id": "f5661b98-75a1-42ca-819d-ee2fa8ea2b76",
   "metadata": {},
   "source": [
    "## amount already being constructed"
   ]
  },
  {
   "cell_type": "code",
   "execution_count": 432,
   "id": "741c91e9-dcdb-4332-beac-27f1cb8ca014",
   "metadata": {},
   "outputs": [
    {
     "data": {
      "text/plain": [
       "0.2809096813111841"
      ]
     },
     "execution_count": 432,
     "metadata": {},
     "output_type": "execute_result"
    }
   ],
   "source": [
    "# fraction of pipelines under construction compared to all in development\n",
    "# this number is different from below because it's skipping some pipelines\n",
    "km_by_country_total = km_by_country_df.sum(axis=0)\n",
    "km_by_country_total['Construction']/km_by_country_total['Proposed+Construction']"
   ]
  },
  {
   "cell_type": "code",
   "execution_count": 433,
   "id": "f358b56a-22ef-4323-824b-ecf9ef20202c",
   "metadata": {},
   "outputs": [
    {
     "data": {
      "text/plain": [
       "0.24480833296683768"
      ]
     },
     "execution_count": 433,
     "metadata": {},
     "output_type": "execute_result"
    }
   ],
   "source": [
    "# this fraction is on the full database, rather than only the pipelines that we estimate length for\n",
    "total['Construction']/total['Proposed+Construction']"
   ]
  },
  {
   "cell_type": "markdown",
   "id": "999b3a60-b8fe-40f4-a54d-db52c1dd8fc3",
   "metadata": {},
   "source": [
    "## capacity/potential emissions in development globally"
   ]
  },
  {
   "cell_type": "code",
   "execution_count": 434,
   "id": "be033ca7-9c4f-419b-a4ac-95796751bb0c",
   "metadata": {},
   "outputs": [
    {
     "name": "stdout",
     "output_type": "stream",
     "text": [
      "0.57305885 million bpd\n",
      "0.08755708863265 billion tonnes CO2\n"
     ]
    }
   ],
   "source": [
    "pipes_df_subset = pipes_df_orig.loc[(pipes_df_orig.Status.isin(['Construction']))&\n",
    "                                     (pipes_df_orig.Fuel=='Gas')]\n",
    "cap_sum = pipes_df_subset['CapacityBOEd'].sum()\n",
    "print(cap_sum / 1e6, 'million bpd')\n",
    "print(cap_sum * co2_rate / 1e9, 'billion tonnes CO2')"
   ]
  },
  {
   "cell_type": "code",
   "execution_count": 435,
   "id": "0bbe19c0-8aeb-4c7f-bbf2-46daff1a75c3",
   "metadata": {},
   "outputs": [
    {
     "name": "stdout",
     "output_type": "stream",
     "text": [
      "1.00943059 million bpd\n",
      "0.15422989041550997 billion tonnes CO2\n"
     ]
    }
   ],
   "source": [
    "pipes_df_subset = pipes_df_orig.loc[(pipes_df_orig.Status.isin(['Proposed']))&\n",
    "                                     (pipes_df_orig.Fuel=='Gas')]\n",
    "cap_sum = pipes_df_subset['CapacityBOEd'].sum()\n",
    "print(cap_sum / 1e6, 'million bpd')\n",
    "print(cap_sum * co2_rate / 1e9, 'billion tonnes CO2')"
   ]
  },
  {
   "cell_type": "code",
   "execution_count": 436,
   "id": "9e16aa51-6397-43f4-8093-ce9e4dea03ba",
   "metadata": {},
   "outputs": [
    {
     "name": "stdout",
     "output_type": "stream",
     "text": [
      "1.5824894400000002 million bpd\n",
      "0.24178697904816002 billion tonnes CO2\n"
     ]
    }
   ],
   "source": [
    "pipes_df_subset = pipes_df_orig.loc[(pipes_df_orig.Status.isin(['Construction','Proposed']))&\n",
    "                                     (pipes_df_orig.Fuel=='Gas')]\n",
    "cap_sum = pipes_df_subset['CapacityBOEd'].sum()\n",
    "print(cap_sum / 1e6, 'million bpd')\n",
    "print(cap_sum * co2_rate / 1e9, 'billion tonnes CO2')"
   ]
  },
  {
   "cell_type": "markdown",
   "id": "3cbfcb52-da08-4330-b006-6a63b6144c85",
   "metadata": {},
   "source": [
    "## total number of pipelines in dev"
   ]
  },
  {
   "cell_type": "code",
   "execution_count": 437,
   "id": "3c1ece32-0f36-4514-9402-e7b6b15c1275",
   "metadata": {},
   "outputs": [
    {
     "data": {
      "text/plain": [
       "210632.34999999995"
      ]
     },
     "execution_count": 437,
     "metadata": {},
     "output_type": "execute_result"
    }
   ],
   "source": [
    "pipes_df_orig.loc[(pipes_df_orig.Fuel=='Gas')&\n",
    "                  (pipes_df_orig.Status.isin(['Proposed','Construction']))]['LengthMergedKm'].sum()"
   ]
  },
  {
   "cell_type": "markdown",
   "id": "dadc820e-41b6-4522-8da9-6a4b65f465b5",
   "metadata": {},
   "source": [
    "## top 10 pipelines"
   ]
  },
  {
   "cell_type": "code",
   "execution_count": 438,
   "id": "5cb68f19-9348-4633-acee-73e6e2b43b37",
   "metadata": {},
   "outputs": [
    {
     "data": {
      "text/plain": [
       "533.5718147987533"
      ]
     },
     "execution_count": 438,
     "metadata": {},
     "output_type": "execute_result"
    }
   ],
   "source": [
    "country_ratios_gas_df.loc[country_ratios_gas_df.Status.isin(['Proposed','Construction'])].groupby('ProjectID')['CostUSDEstimate'].sum(min_count=0).sum()/1e9\n",
    "\n",
    "\n"
   ]
  },
  {
   "cell_type": "code",
   "execution_count": 439,
   "id": "12292556-d166-4010-8213-8667ef2372d7",
   "metadata": {},
   "outputs": [],
   "source": [
    "costs_temp_df = country_ratios_gas_df.loc[country_ratios_gas_df.Status.isin(['Proposed','Construction'])].groupby('ProjectID')[['CostUSDEstimate']].sum(min_count=0)\n",
    "#country_ratios_gas_df.loc[country_ratios_gas_df.ProjectID.isin(table_for_top10['ProjectID'].values)]['CostUSDEstimate']"
   ]
  },
  {
   "cell_type": "code",
   "execution_count": 440,
   "id": "1cf5b965-f261-481f-aace-30b080e7d3b2",
   "metadata": {},
   "outputs": [
    {
     "data": {
      "text/html": [
       "<div>\n",
       "<style scoped>\n",
       "    .dataframe tbody tr th:only-of-type {\n",
       "        vertical-align: middle;\n",
       "    }\n",
       "\n",
       "    .dataframe tbody tr th {\n",
       "        vertical-align: top;\n",
       "    }\n",
       "\n",
       "    .dataframe thead th {\n",
       "        text-align: right;\n",
       "    }\n",
       "</style>\n",
       "<table border=\"1\" class=\"dataframe\">\n",
       "  <thead>\n",
       "    <tr style=\"text-align: right;\">\n",
       "      <th></th>\n",
       "      <th>LengthKnownKm</th>\n",
       "      <th>CapacityBOEd</th>\n",
       "      <th>Countries</th>\n",
       "      <th>Status</th>\n",
       "      <th>StartYearEarliest</th>\n",
       "      <th>Wiki</th>\n",
       "      <th>CostUSDTotalEstimate</th>\n",
       "    </tr>\n",
       "    <tr>\n",
       "      <th>PipelineName</th>\n",
       "      <th></th>\n",
       "      <th></th>\n",
       "      <th></th>\n",
       "      <th></th>\n",
       "      <th></th>\n",
       "      <th></th>\n",
       "      <th></th>\n",
       "    </tr>\n",
       "  </thead>\n",
       "  <tbody>\n",
       "    <tr>\n",
       "      <th>Nigeria-Morocco Gas Pipeline</th>\n",
       "      <td>5,660.0</td>\n",
       "      <td>13,961.5</td>\n",
       "      <td>Nigeria, Benin, Togo, Ghana, Côte d'Ivoire, Liberia, Sierra Leone, Guinea, Guinea-Bissau, The Gambia, Senegal, Mauritania, Morocco, Spain</td>\n",
       "      <td>Proposed</td>\n",
       "      <td>2,046.0</td>\n",
       "      <td>https://www.gem.wiki/Nigeria-Morocco_Gas_Pipeline</td>\n",
       "      <td>25.3</td>\n",
       "    </tr>\n",
       "    <tr>\n",
       "      <th>Xinjiang Coal-to-Gas Pipeline</th>\n",
       "      <td>4,159.0</td>\n",
       "      <td>13,961.5</td>\n",
       "      <td>China</td>\n",
       "      <td>Proposed</td>\n",
       "      <td>2,022.0</td>\n",
       "      <td>https://www.gem.wiki/Xinjiang_Coal-to-Gas_Pipeline_Project</td>\n",
       "      <td>6.0</td>\n",
       "    </tr>\n",
       "    <tr>\n",
       "      <th>Trans-Sahara Gas Pipeline</th>\n",
       "      <td>4,128.0</td>\n",
       "      <td>13,961.5</td>\n",
       "      <td>Nigeria, Niger, Algeria</td>\n",
       "      <td>Proposed</td>\n",
       "      <td></td>\n",
       "      <td>https://www.gem.wiki/Trans-Sahara_Gas_Pipeline</td>\n",
       "      <td>13.0</td>\n",
       "    </tr>\n",
       "    <tr>\n",
       "      <th>West-East Gas Pipeline 5</th>\n",
       "      <td>3,200.0</td>\n",
       "      <td>20,942.2</td>\n",
       "      <td>China</td>\n",
       "      <td>Proposed</td>\n",
       "      <td></td>\n",
       "      <td>https://www.gem.wiki/West-East_Gas_Pipeline_5</td>\n",
       "      <td>4.6</td>\n",
       "    </tr>\n",
       "    <tr>\n",
       "      <th>West-East Gas Pipeline</th>\n",
       "      <td>2,900.0</td>\n",
       "      <td>2,670.5</td>\n",
       "      <td>Australia</td>\n",
       "      <td>Proposed</td>\n",
       "      <td></td>\n",
       "      <td>https://www.gem.wiki/West-East_Gas_Pipeline</td>\n",
       "      <td>5.0</td>\n",
       "    </tr>\n",
       "    <tr>\n",
       "      <th>CNGC's Inter-Provincial Gas Pipeline Network</th>\n",
       "      <td>2,825.0</td>\n",
       "      <td></td>\n",
       "      <td>Cambodia</td>\n",
       "      <td>Proposed</td>\n",
       "      <td></td>\n",
       "      <td>https://www.gem.wiki/CNGC%27s_Inter-Provincial_Gas_Pipeline_Network</td>\n",
       "      <td>7.6</td>\n",
       "    </tr>\n",
       "    <tr>\n",
       "      <th>Iran-Pakistan Pipeline</th>\n",
       "      <td>2,775.0</td>\n",
       "      <td>3,610.0</td>\n",
       "      <td>Iran, Pakistan</td>\n",
       "      <td>Construction</td>\n",
       "      <td>2,024.0</td>\n",
       "      <td>https://www.gem.wiki/Iran-Pakistan_Pipeline</td>\n",
       "      <td>7.5</td>\n",
       "    </tr>\n",
       "    <tr>\n",
       "      <th>Jagdishpur-Haldia-Bokaro-Dhamra Natural Gas Pipeline (JHBDPL)</th>\n",
       "      <td>2,655.0</td>\n",
       "      <td>2,719.7</td>\n",
       "      <td>India</td>\n",
       "      <td>Construction</td>\n",
       "      <td>2,022.0</td>\n",
       "      <td>https://www.gem.wiki/Jagdishpur-Haldia-Bokaro-Dhamra_Natural_Gas_Pipeline_(JHBDPL)</td>\n",
       "      <td>1.7</td>\n",
       "    </tr>\n",
       "    <tr>\n",
       "      <th>African Renaissance Gas Pipeline</th>\n",
       "      <td>2,600.0</td>\n",
       "      <td></td>\n",
       "      <td>Mozambique, South Africa</td>\n",
       "      <td>Proposed</td>\n",
       "      <td></td>\n",
       "      <td>https://www.gem.wiki/African_Renaissance_Gas_Pipeline</td>\n",
       "      <td>10.2</td>\n",
       "    </tr>\n",
       "    <tr>\n",
       "      <th>GasNosu North–South Gas Pipeline</th>\n",
       "      <td>2,600.0</td>\n",
       "      <td></td>\n",
       "      <td>Mozambique, South Africa</td>\n",
       "      <td>Proposed</td>\n",
       "      <td></td>\n",
       "      <td>https://www.gem.wiki/GasNosu_North%E2%80%93South_Gas_Pipeline</td>\n",
       "      <td>10.2</td>\n",
       "    </tr>\n",
       "    <tr>\n",
       "      <th>Power of Siberia 2 Gas Pipeline</th>\n",
       "      <td>2,594.3</td>\n",
       "      <td>37,230.7</td>\n",
       "      <td>Russia, Mongolia, China</td>\n",
       "      <td>Proposed</td>\n",
       "      <td>2,030.0</td>\n",
       "      <td>https://www.gem.wiki/Power_of_Siberia_2_Gas_Pipeline</td>\n",
       "      <td>8.7</td>\n",
       "    </tr>\n",
       "    <tr>\n",
       "      <th>IGAT 9 Gas Pipeline</th>\n",
       "      <td>1,900.0</td>\n",
       "      <td>18,697.9</td>\n",
       "      <td>Iran</td>\n",
       "      <td>Construction</td>\n",
       "      <td>2,022.0</td>\n",
       "      <td>https://www.gem.wiki/IGAT_9_Gas_Pipeline</td>\n",
       "      <td>5.5</td>\n",
       "    </tr>\n",
       "    <tr>\n",
       "      <th>East Med Gas Pipeline</th>\n",
       "      <td>1,870.0</td>\n",
       "      <td>4,653.8</td>\n",
       "      <td>Israel, Cyprus, Greece</td>\n",
       "      <td>Proposed</td>\n",
       "      <td>2,025.0</td>\n",
       "      <td>https://www.gem.wiki/East_Med_Gas_Pipeline</td>\n",
       "      <td>6.8</td>\n",
       "    </tr>\n",
       "    <tr>\n",
       "      <th>Turkmenistan-Afghanistan-Pakistan-India Gas Pipeline</th>\n",
       "      <td>1,814.0</td>\n",
       "      <td>15,357.6</td>\n",
       "      <td>Turkmenistan, Afghanistan, Pakistan, India</td>\n",
       "      <td>Construction</td>\n",
       "      <td></td>\n",
       "      <td>https://www.gem.wiki/Turkmenistan-Afghanistan-Pakistan-India_Gas_Pipeline</td>\n",
       "      <td>10.0</td>\n",
       "    </tr>\n",
       "    <tr>\n",
       "      <th>Mumbai-Nagpur-Jharsuguda Gas Pipeline</th>\n",
       "      <td>1,755.0</td>\n",
       "      <td>2,804.7</td>\n",
       "      <td>India</td>\n",
       "      <td>Construction</td>\n",
       "      <td>2,023.0</td>\n",
       "      <td>https://www.gem.wiki/Mumbai-Nagpur-Jharsuguda_Gas_Pipeline</td>\n",
       "      <td>3.4</td>\n",
       "    </tr>\n",
       "  </tbody>\n",
       "</table>\n",
       "</div>"
      ],
      "text/plain": [
       "                                                              LengthKnownKm  \\\n",
       "PipelineName                                                                  \n",
       "Nigeria-Morocco Gas Pipeline                                        5,660.0   \n",
       "Xinjiang Coal-to-Gas Pipeline                                       4,159.0   \n",
       "Trans-Sahara Gas Pipeline                                           4,128.0   \n",
       "West-East Gas Pipeline 5                                            3,200.0   \n",
       "West-East Gas Pipeline                                              2,900.0   \n",
       "CNGC's Inter-Provincial Gas Pipeline Network                        2,825.0   \n",
       "Iran-Pakistan Pipeline                                              2,775.0   \n",
       "Jagdishpur-Haldia-Bokaro-Dhamra Natural Gas Pipeline (JHBDPL)       2,655.0   \n",
       "African Renaissance Gas Pipeline                                    2,600.0   \n",
       "GasNosu North–South Gas Pipeline                                    2,600.0   \n",
       "Power of Siberia 2 Gas Pipeline                                     2,594.3   \n",
       "IGAT 9 Gas Pipeline                                                 1,900.0   \n",
       "East Med Gas Pipeline                                               1,870.0   \n",
       "Turkmenistan-Afghanistan-Pakistan-India Gas Pipeline                1,814.0   \n",
       "Mumbai-Nagpur-Jharsuguda Gas Pipeline                               1,755.0   \n",
       "\n",
       "                                                              CapacityBOEd  \\\n",
       "PipelineName                                                                 \n",
       "Nigeria-Morocco Gas Pipeline                                      13,961.5   \n",
       "Xinjiang Coal-to-Gas Pipeline                                     13,961.5   \n",
       "Trans-Sahara Gas Pipeline                                         13,961.5   \n",
       "West-East Gas Pipeline 5                                          20,942.2   \n",
       "West-East Gas Pipeline                                             2,670.5   \n",
       "CNGC's Inter-Provincial Gas Pipeline Network                                 \n",
       "Iran-Pakistan Pipeline                                             3,610.0   \n",
       "Jagdishpur-Haldia-Bokaro-Dhamra Natural Gas Pipeline (JHBDPL)      2,719.7   \n",
       "African Renaissance Gas Pipeline                                             \n",
       "GasNosu North–South Gas Pipeline                                             \n",
       "Power of Siberia 2 Gas Pipeline                                   37,230.7   \n",
       "IGAT 9 Gas Pipeline                                               18,697.9   \n",
       "East Med Gas Pipeline                                              4,653.8   \n",
       "Turkmenistan-Afghanistan-Pakistan-India Gas Pipeline              15,357.6   \n",
       "Mumbai-Nagpur-Jharsuguda Gas Pipeline                              2,804.7   \n",
       "\n",
       "                                                                                                                                                                                               Countries  \\\n",
       "PipelineName                                                                                                                                                                                               \n",
       "Nigeria-Morocco Gas Pipeline                                   Nigeria, Benin, Togo, Ghana, Côte d'Ivoire, Liberia, Sierra Leone, Guinea, Guinea-Bissau, The Gambia, Senegal, Mauritania, Morocco, Spain   \n",
       "Xinjiang Coal-to-Gas Pipeline                                                                                                                                                                      China   \n",
       "Trans-Sahara Gas Pipeline                                                                                                                                                        Nigeria, Niger, Algeria   \n",
       "West-East Gas Pipeline 5                                                                                                                                                                           China   \n",
       "West-East Gas Pipeline                                                                                                                                                                         Australia   \n",
       "CNGC's Inter-Provincial Gas Pipeline Network                                                                                                                                                    Cambodia   \n",
       "Iran-Pakistan Pipeline                                                                                                                                                                    Iran, Pakistan   \n",
       "Jagdishpur-Haldia-Bokaro-Dhamra Natural Gas Pipeline (JHBDPL)                                                                                                                                      India   \n",
       "African Renaissance Gas Pipeline                                                                                                                                                Mozambique, South Africa   \n",
       "GasNosu North–South Gas Pipeline                                                                                                                                                Mozambique, South Africa   \n",
       "Power of Siberia 2 Gas Pipeline                                                                                                                                                  Russia, Mongolia, China   \n",
       "IGAT 9 Gas Pipeline                                                                                                                                                                                 Iran   \n",
       "East Med Gas Pipeline                                                                                                                                                             Israel, Cyprus, Greece   \n",
       "Turkmenistan-Afghanistan-Pakistan-India Gas Pipeline                                                                                                          Turkmenistan, Afghanistan, Pakistan, India   \n",
       "Mumbai-Nagpur-Jharsuguda Gas Pipeline                                                                                                                                                              India   \n",
       "\n",
       "                                                                     Status  \\\n",
       "PipelineName                                                                  \n",
       "Nigeria-Morocco Gas Pipeline                                       Proposed   \n",
       "Xinjiang Coal-to-Gas Pipeline                                      Proposed   \n",
       "Trans-Sahara Gas Pipeline                                          Proposed   \n",
       "West-East Gas Pipeline 5                                           Proposed   \n",
       "West-East Gas Pipeline                                             Proposed   \n",
       "CNGC's Inter-Provincial Gas Pipeline Network                       Proposed   \n",
       "Iran-Pakistan Pipeline                                         Construction   \n",
       "Jagdishpur-Haldia-Bokaro-Dhamra Natural Gas Pipeline (JHBDPL)  Construction   \n",
       "African Renaissance Gas Pipeline                                   Proposed   \n",
       "GasNosu North–South Gas Pipeline                                   Proposed   \n",
       "Power of Siberia 2 Gas Pipeline                                    Proposed   \n",
       "IGAT 9 Gas Pipeline                                            Construction   \n",
       "East Med Gas Pipeline                                              Proposed   \n",
       "Turkmenistan-Afghanistan-Pakistan-India Gas Pipeline           Construction   \n",
       "Mumbai-Nagpur-Jharsuguda Gas Pipeline                          Construction   \n",
       "\n",
       "                                                              StartYearEarliest  \\\n",
       "PipelineName                                                                      \n",
       "Nigeria-Morocco Gas Pipeline                                            2,046.0   \n",
       "Xinjiang Coal-to-Gas Pipeline                                           2,022.0   \n",
       "Trans-Sahara Gas Pipeline                                                         \n",
       "West-East Gas Pipeline 5                                                          \n",
       "West-East Gas Pipeline                                                            \n",
       "CNGC's Inter-Provincial Gas Pipeline Network                                      \n",
       "Iran-Pakistan Pipeline                                                  2,024.0   \n",
       "Jagdishpur-Haldia-Bokaro-Dhamra Natural Gas Pipeline (JHBDPL)           2,022.0   \n",
       "African Renaissance Gas Pipeline                                                  \n",
       "GasNosu North–South Gas Pipeline                                                  \n",
       "Power of Siberia 2 Gas Pipeline                                         2,030.0   \n",
       "IGAT 9 Gas Pipeline                                                     2,022.0   \n",
       "East Med Gas Pipeline                                                   2,025.0   \n",
       "Turkmenistan-Afghanistan-Pakistan-India Gas Pipeline                              \n",
       "Mumbai-Nagpur-Jharsuguda Gas Pipeline                                   2,023.0   \n",
       "\n",
       "                                                                                                                                             Wiki  \\\n",
       "PipelineName                                                                                                                                        \n",
       "Nigeria-Morocco Gas Pipeline                                                                    https://www.gem.wiki/Nigeria-Morocco_Gas_Pipeline   \n",
       "Xinjiang Coal-to-Gas Pipeline                                                          https://www.gem.wiki/Xinjiang_Coal-to-Gas_Pipeline_Project   \n",
       "Trans-Sahara Gas Pipeline                                                                          https://www.gem.wiki/Trans-Sahara_Gas_Pipeline   \n",
       "West-East Gas Pipeline 5                                                                            https://www.gem.wiki/West-East_Gas_Pipeline_5   \n",
       "West-East Gas Pipeline                                                                                https://www.gem.wiki/West-East_Gas_Pipeline   \n",
       "CNGC's Inter-Provincial Gas Pipeline Network                                  https://www.gem.wiki/CNGC%27s_Inter-Provincial_Gas_Pipeline_Network   \n",
       "Iran-Pakistan Pipeline                                                                                https://www.gem.wiki/Iran-Pakistan_Pipeline   \n",
       "Jagdishpur-Haldia-Bokaro-Dhamra Natural Gas Pipeline (JHBDPL)  https://www.gem.wiki/Jagdishpur-Haldia-Bokaro-Dhamra_Natural_Gas_Pipeline_(JHBDPL)   \n",
       "African Renaissance Gas Pipeline                                                            https://www.gem.wiki/African_Renaissance_Gas_Pipeline   \n",
       "GasNosu North–South Gas Pipeline                                                    https://www.gem.wiki/GasNosu_North%E2%80%93South_Gas_Pipeline   \n",
       "Power of Siberia 2 Gas Pipeline                                                              https://www.gem.wiki/Power_of_Siberia_2_Gas_Pipeline   \n",
       "IGAT 9 Gas Pipeline                                                                                      https://www.gem.wiki/IGAT_9_Gas_Pipeline   \n",
       "East Med Gas Pipeline                                                                                  https://www.gem.wiki/East_Med_Gas_Pipeline   \n",
       "Turkmenistan-Afghanistan-Pakistan-India Gas Pipeline                    https://www.gem.wiki/Turkmenistan-Afghanistan-Pakistan-India_Gas_Pipeline   \n",
       "Mumbai-Nagpur-Jharsuguda Gas Pipeline                                                  https://www.gem.wiki/Mumbai-Nagpur-Jharsuguda_Gas_Pipeline   \n",
       "\n",
       "                                                               CostUSDTotalEstimate  \n",
       "PipelineName                                                                         \n",
       "Nigeria-Morocco Gas Pipeline                                                   25.3  \n",
       "Xinjiang Coal-to-Gas Pipeline                                                   6.0  \n",
       "Trans-Sahara Gas Pipeline                                                      13.0  \n",
       "West-East Gas Pipeline 5                                                        4.6  \n",
       "West-East Gas Pipeline                                                          5.0  \n",
       "CNGC's Inter-Provincial Gas Pipeline Network                                    7.6  \n",
       "Iran-Pakistan Pipeline                                                          7.5  \n",
       "Jagdishpur-Haldia-Bokaro-Dhamra Natural Gas Pipeline (JHBDPL)                   1.7  \n",
       "African Renaissance Gas Pipeline                                               10.2  \n",
       "GasNosu North–South Gas Pipeline                                               10.2  \n",
       "Power of Siberia 2 Gas Pipeline                                                 8.7  \n",
       "IGAT 9 Gas Pipeline                                                             5.5  \n",
       "East Med Gas Pipeline                                                           6.8  \n",
       "Turkmenistan-Afghanistan-Pakistan-India Gas Pipeline                           10.0  \n",
       "Mumbai-Nagpur-Jharsuguda Gas Pipeline                                           3.4  "
      ]
     },
     "execution_count": 440,
     "metadata": {},
     "output_type": "execute_result"
    }
   ],
   "source": [
    "table_for_top10 = pipes_df_orig.loc[(pipes_df_orig.Fuel=='Gas')&\n",
    "                  (pipes_df_orig.Status.isin(['Proposed','Construction']))].sort_values(\n",
    "    'LengthKnownKm', ascending=False)[['PipelineName','LengthKnownKm','CapacityBOEd','Countries','Status','StartYearEarliest','Wiki','ProjectID']].set_index('PipelineName')[:15]\n",
    "\n",
    "table_for_top10 = table_for_top10.reset_index()\n",
    "table_for_top10.set_index('ProjectID', inplace=True)\n",
    "table_for_top10['CostUSDTotalEstimate'] = costs_temp_df[:]/1e9\n",
    "table_for_top10 = table_for_top10.reset_index()\n",
    "table_for_top10.set_index('PipelineName', inplace=True)\n",
    "table_for_top10.replace(numpy.nan,'')[['LengthKnownKm','CapacityBOEd','Countries','Status','StartYearEarliest','Wiki','CostUSDTotalEstimate']]"
   ]
  },
  {
   "cell_type": "markdown",
   "id": "4034bc9f-3041-4dad-b694-ca8e83faa4d0",
   "metadata": {},
   "source": [
    "## biggest pipeline projects by name in China, rather than individual ProjectID"
   ]
  },
  {
   "cell_type": "code",
   "execution_count": 441,
   "id": "f91993c0-dda7-4493-9a8b-6ccf7a1b0186",
   "metadata": {},
   "outputs": [
    {
     "data": {
      "text/html": [
       "<div>\n",
       "<style scoped>\n",
       "    .dataframe tbody tr th:only-of-type {\n",
       "        vertical-align: middle;\n",
       "    }\n",
       "\n",
       "    .dataframe tbody tr th {\n",
       "        vertical-align: top;\n",
       "    }\n",
       "\n",
       "    .dataframe thead th {\n",
       "        text-align: right;\n",
       "    }\n",
       "</style>\n",
       "<table border=\"1\" class=\"dataframe\">\n",
       "  <thead>\n",
       "    <tr style=\"text-align: right;\">\n",
       "      <th></th>\n",
       "      <th></th>\n",
       "      <th></th>\n",
       "      <th>LengthMergedKm</th>\n",
       "    </tr>\n",
       "    <tr>\n",
       "      <th>PipelineName</th>\n",
       "      <th>Status</th>\n",
       "      <th>Wiki</th>\n",
       "      <th></th>\n",
       "    </tr>\n",
       "  </thead>\n",
       "  <tbody>\n",
       "    <tr>\n",
       "      <th>Xinjiang Coal-to-Gas Pipeline</th>\n",
       "      <th>Proposed</th>\n",
       "      <th>https://www.gem.wiki/Xinjiang_Coal-to-Gas_Pipeline_Project</th>\n",
       "      <td>7,143.0</td>\n",
       "    </tr>\n",
       "    <tr>\n",
       "      <th>West-East Gas Pipeline 5</th>\n",
       "      <th>Proposed</th>\n",
       "      <th>https://www.gem.wiki/West-East_Gas_Pipeline_5</th>\n",
       "      <td>3,200.0</td>\n",
       "    </tr>\n",
       "    <tr>\n",
       "      <th>Sichuan–Shanghai Parallel Gas Pipeline</th>\n",
       "      <th>Proposed</th>\n",
       "      <th>https://www.gem.wiki/Sichuan%E2%80%93Shanghai_Parallel_Gas_Pipeline</th>\n",
       "      <td>2,934.3</td>\n",
       "    </tr>\n",
       "    <tr>\n",
       "      <th>Guizhou Gas Pipeline Network</th>\n",
       "      <th>Proposed</th>\n",
       "      <th>https://www.gem.wiki/Guizhou_Gas_Pipeline_Network</th>\n",
       "      <td>2,666.2</td>\n",
       "    </tr>\n",
       "    <tr>\n",
       "      <th>Power of Siberia 2 Gas Pipeline</th>\n",
       "      <th>Proposed</th>\n",
       "      <th>https://www.gem.wiki/Power_of_Siberia_2_Gas_Pipeline</th>\n",
       "      <td>2,594.3</td>\n",
       "    </tr>\n",
       "    <tr>\n",
       "      <th>Jiangsu Coastal Gas Pipeline</th>\n",
       "      <th>Proposed</th>\n",
       "      <th>https://www.gem.wiki/Jiangsu_Coastal_Gas_Pipeline</th>\n",
       "      <td>2,415.0</td>\n",
       "    </tr>\n",
       "    <tr>\n",
       "      <th>West-East Gas Pipeline 3</th>\n",
       "      <th>Construction</th>\n",
       "      <th>https://www.gem.wiki/West-East_Gas_Pipeline_3</th>\n",
       "      <td>2,212.3</td>\n",
       "    </tr>\n",
       "    <tr>\n",
       "      <th>Inner Mongolia Gas Pipeline Network</th>\n",
       "      <th>Proposed</th>\n",
       "      <th>https://www.gem.wiki/Inner_Mongolia_Gas_Pipeline_Network</th>\n",
       "      <td>2,059.5</td>\n",
       "    </tr>\n",
       "    <tr>\n",
       "      <th>Central Asia–China Gas Pipeline</th>\n",
       "      <th>Construction</th>\n",
       "      <th>https://www.gem.wiki/Central_Asia%E2%80%93China_Gas_Pipeline</th>\n",
       "      <td>1,932.0</td>\n",
       "    </tr>\n",
       "    <tr>\n",
       "      <th rowspan=\"2\" valign=\"top\">Anhui Gas Pipeline Network</th>\n",
       "      <th>Proposed</th>\n",
       "      <th>https://www.gem.wiki/Anhui_Gas_Pipeline_Network</th>\n",
       "      <td>1,880.6</td>\n",
       "    </tr>\n",
       "    <tr>\n",
       "      <th>Construction</th>\n",
       "      <th>https://www.gem.wiki/Anhui_Gas_Pipeline_Network</th>\n",
       "      <td>1,594.0</td>\n",
       "    </tr>\n",
       "    <tr>\n",
       "      <th>Yunnan Gas Pipeline Network</th>\n",
       "      <th>Proposed</th>\n",
       "      <th>https://www.gem.wiki/Yunnan_Gas_Pipeline_Network</th>\n",
       "      <td>1,466.1</td>\n",
       "    </tr>\n",
       "    <tr>\n",
       "      <th>Chongqing-Guizhou-Guangxi Gas Pipeline</th>\n",
       "      <th>Proposed</th>\n",
       "      <th>https://www.gem.wiki/Chongqing-Guizhou-Guangxi_Gas_Pipeline</th>\n",
       "      <td>1,323.0</td>\n",
       "    </tr>\n",
       "    <tr>\n",
       "      <th>China–Russia East Pipeline</th>\n",
       "      <th>Construction</th>\n",
       "      <th>https://www.gem.wiki/China%E2%80%93Russia_East_Pipeline</th>\n",
       "      <td>1,294.0</td>\n",
       "    </tr>\n",
       "    <tr>\n",
       "      <th>Sichuan–Shanghai Parallel Gas Pipeline</th>\n",
       "      <th>Construction</th>\n",
       "      <th>https://www.gem.wiki/Sichuan%E2%80%93Shanghai_Parallel_Gas_Pipeline</th>\n",
       "      <td>1,206.5</td>\n",
       "    </tr>\n",
       "    <tr>\n",
       "      <th>CNOOC Coal Gasification Transmission Pipeline</th>\n",
       "      <th>Construction</th>\n",
       "      <th>https://www.gem.wiki/CNOOC_Coal_Gasification_Transmission_Pipeline</th>\n",
       "      <td>1,194.0</td>\n",
       "    </tr>\n",
       "    <tr>\n",
       "      <th>Tibet Natural Gas Pipeline</th>\n",
       "      <th>Construction</th>\n",
       "      <th>https://www.gem.wiki/Tibet_Natural_Gas_Pipeline</th>\n",
       "      <td>1,153.0</td>\n",
       "    </tr>\n",
       "    <tr>\n",
       "      <th>Jilin Gas Pipeline Network</th>\n",
       "      <th>Proposed</th>\n",
       "      <th>https://www.gem.wiki/Jilin_Gas_Pipeline_Network</th>\n",
       "      <td>1,093.0</td>\n",
       "    </tr>\n",
       "    <tr>\n",
       "      <th>Henan Gas Pipeline Network</th>\n",
       "      <th>Proposed</th>\n",
       "      <th>https://www.gem.wiki/Henan_Gas_Pipeline_Network</th>\n",
       "      <td>1,045.7</td>\n",
       "    </tr>\n",
       "  </tbody>\n",
       "</table>\n",
       "</div>"
      ],
      "text/plain": [
       "                                                                                                                               LengthMergedKm\n",
       "PipelineName                                  Status       Wiki                                                                              \n",
       "Xinjiang Coal-to-Gas Pipeline                 Proposed     https://www.gem.wiki/Xinjiang_Coal-to-Gas_Pipeline_Project                 7,143.0\n",
       "West-East Gas Pipeline 5                      Proposed     https://www.gem.wiki/West-East_Gas_Pipeline_5                              3,200.0\n",
       "Sichuan–Shanghai Parallel Gas Pipeline        Proposed     https://www.gem.wiki/Sichuan%E2%80%93Shanghai_Parallel_Gas_Pipeline        2,934.3\n",
       "Guizhou Gas Pipeline Network                  Proposed     https://www.gem.wiki/Guizhou_Gas_Pipeline_Network                          2,666.2\n",
       "Power of Siberia 2 Gas Pipeline               Proposed     https://www.gem.wiki/Power_of_Siberia_2_Gas_Pipeline                       2,594.3\n",
       "Jiangsu Coastal Gas Pipeline                  Proposed     https://www.gem.wiki/Jiangsu_Coastal_Gas_Pipeline                          2,415.0\n",
       "West-East Gas Pipeline 3                      Construction https://www.gem.wiki/West-East_Gas_Pipeline_3                              2,212.3\n",
       "Inner Mongolia Gas Pipeline Network           Proposed     https://www.gem.wiki/Inner_Mongolia_Gas_Pipeline_Network                   2,059.5\n",
       "Central Asia–China Gas Pipeline               Construction https://www.gem.wiki/Central_Asia%E2%80%93China_Gas_Pipeline               1,932.0\n",
       "Anhui Gas Pipeline Network                    Proposed     https://www.gem.wiki/Anhui_Gas_Pipeline_Network                            1,880.6\n",
       "                                              Construction https://www.gem.wiki/Anhui_Gas_Pipeline_Network                            1,594.0\n",
       "Yunnan Gas Pipeline Network                   Proposed     https://www.gem.wiki/Yunnan_Gas_Pipeline_Network                           1,466.1\n",
       "Chongqing-Guizhou-Guangxi Gas Pipeline        Proposed     https://www.gem.wiki/Chongqing-Guizhou-Guangxi_Gas_Pipeline                1,323.0\n",
       "China–Russia East Pipeline                    Construction https://www.gem.wiki/China%E2%80%93Russia_East_Pipeline                    1,294.0\n",
       "Sichuan–Shanghai Parallel Gas Pipeline        Construction https://www.gem.wiki/Sichuan%E2%80%93Shanghai_Parallel_Gas_Pipeline        1,206.5\n",
       "CNOOC Coal Gasification Transmission Pipeline Construction https://www.gem.wiki/CNOOC_Coal_Gasification_Transmission_Pipeline         1,194.0\n",
       "Tibet Natural Gas Pipeline                    Construction https://www.gem.wiki/Tibet_Natural_Gas_Pipeline                            1,153.0\n",
       "Jilin Gas Pipeline Network                    Proposed     https://www.gem.wiki/Jilin_Gas_Pipeline_Network                            1,093.0\n",
       "Henan Gas Pipeline Network                    Proposed     https://www.gem.wiki/Henan_Gas_Pipeline_Network                            1,045.7"
      ]
     },
     "execution_count": 441,
     "metadata": {},
     "output_type": "execute_result"
    }
   ],
   "source": [
    "biggest_pipeline_names_table = pandas.DataFrame(pipes_df_orig.loc[(pipes_df_orig.Fuel=='Gas')&\n",
    "                                                                  (pipes_df_orig.Status.isin(['Proposed','Construction']))&\n",
    "                                                                  (pipes_df_orig.Countries.str.contains('China'))].groupby(['PipelineName','Status','Wiki'])['LengthMergedKm'].sum(min_count=1).sort_values(ascending=False)[:19])\n",
    "\n",
    "biggest_pipeline_names_table"
   ]
  },
  {
   "cell_type": "markdown",
   "id": "0ca10b06-27b4-49d0-aea2-4d3aa2801104",
   "metadata": {},
   "source": [
    "## km of pipeline with 2022, 2023 start years"
   ]
  },
  {
   "cell_type": "code",
   "execution_count": 442,
   "id": "41b7f22a-4a20-4a9f-a581-8cbabbe35d5b",
   "metadata": {},
   "outputs": [
    {
     "name": "stdout",
     "output_type": "stream",
     "text": [
      "22060.039999999997 12793.58\n",
      "8827.58 10458.580000000002\n"
     ]
    }
   ],
   "source": [
    "# for the key points\n",
    "print(pipes_indev_startyear.loc['Construction',2022],\n",
    "      pipes_indev_startyear.loc['Construction',2023])\n",
    "\n",
    "print(pipes_indev_startyear.loc['Proposed',2022],\n",
    "      pipes_indev_startyear.loc['Proposed',2023])"
   ]
  },
  {
   "cell_type": "markdown",
   "id": "7e63a1db-0270-4177-ab3e-938d02509c20",
   "metadata": {},
   "source": [
    "## km of gas pipelines globally in development\n",
    "\n",
    "note this doesn't match up exactly with regional length calculations"
   ]
  },
  {
   "cell_type": "code",
   "execution_count": 443,
   "id": "75452ad0-615e-4b4d-89d5-4891d71902d2",
   "metadata": {},
   "outputs": [
    {
     "data": {
      "text/plain": [
       "210632.34999999995"
      ]
     },
     "execution_count": 443,
     "metadata": {},
     "output_type": "execute_result"
    }
   ],
   "source": [
    "pipes_df_calc = pipes_df_orig.copy()\n",
    "pipes_df_calc.replace('--',numpy.nan,inplace=True)\n",
    "pipes_df_calc[(pipes_df_calc['Status'].isin(['Proposed','Construction'])) &\n",
    "        (pipes_df_calc['Fuel']=='Gas')]['LengthMergedKm'].sum()"
   ]
  },
  {
   "cell_type": "code",
   "execution_count": 444,
   "id": "06e0be20-2354-41c1-9838-53e0fa458e9b",
   "metadata": {},
   "outputs": [],
   "source": [
    "regional_km_sums_df = pandas.DataFrame(index=region_list, columns=status_list)\n",
    "\n",
    "for status in status_list:\n",
    "    regional_km_sums_df[status] = pipes_df_calc[(pipes_df_calc['Fuel']=='Gas') &\n",
    "                                                (pipes_df_calc['Status']==status)].groupby('StartRegion')['LengthMergedKm'].sum()\n",
    "\n",
    "regional_km_sums_df['P+C'] = regional_km_sums_df[['Proposed','Construction']].sum(axis=1)\n",
    "total_row = regional_km_sums_df.sum(axis=0)\n",
    "total_row.name = 'Total'\n",
    "#regional_km_sums_df.append(total_row)"
   ]
  },
  {
   "cell_type": "markdown",
   "id": "db6f746e",
   "metadata": {},
   "source": [
    "## country shares analysis"
   ]
  },
  {
   "cell_type": "code",
   "execution_count": 445,
   "id": "636ea038",
   "metadata": {},
   "outputs": [
    {
     "data": {
      "text/plain": [
       "210349.71000000002"
      ]
     },
     "execution_count": 445,
     "metadata": {},
     "output_type": "execute_result"
    }
   ],
   "source": [
    "country_ratios_df[(country_ratios_df['Status'].isin(['Proposed','Construction'])) &\n",
    "               (country_ratios_df['Fuel']=='Gas')]['MergedKmByCountry'].sum()"
   ]
  },
  {
   "cell_type": "markdown",
   "id": "4d2b5f76-95a2-4233-b862-d6a0fad3bb0f",
   "metadata": {},
   "source": [
    "## num in dev globally, whether capacity expansions or not"
   ]
  },
  {
   "cell_type": "code",
   "execution_count": 446,
   "id": "fc4d8622-e562-4ccc-b0c8-7b0f78ae6d77",
   "metadata": {},
   "outputs": [
    {
     "name": "stdout",
     "output_type": "stream",
     "text": [
      "capacity expansion projects: (84, 87)\n",
      "non-zero length projects: (748, 87)\n"
     ]
    }
   ],
   "source": [
    "print(\"capacity expansion projects:\",\n",
    "    pipes_df_orig.loc[(pipes_df_orig.Fuel=='Gas')&\n",
    "                  (pipes_df_orig.Status.isin(['Proposed','Construction']))&\n",
    "                  (pipes_df_orig.Route.isin(['Capacity expansion only','Bidirectionality upgrade only']))].shape)\n",
    "\n",
    "print(\"non-zero length projects:\",\n",
    "      pipes_df_orig.loc[(pipes_df_orig.Fuel=='Gas')&\n",
    "                  (pipes_df_orig.Status.isin(['Proposed','Construction']))&\n",
    "                  (~pipes_df_orig.Route.isin(['Capacity expansion only','Bidirectionality upgrade only']))].shape)"
   ]
  },
  {
   "cell_type": "code",
   "execution_count": 447,
   "id": "21a96bd8-e464-4591-aba3-79d35a185654",
   "metadata": {},
   "outputs": [
    {
     "name": "stdout",
     "output_type": "stream",
     "text": [
      "1138   1,251.5\n",
      "1661     651.5\n",
      "1773     256.0\n",
      "1792     267.6\n",
      "1797       NaN\n",
      "         ...  \n",
      "3527       NaN\n",
      "3547   1,684.7\n",
      "3554     288.8\n",
      "3564       NaN\n",
      "3567   2,326.9\n",
      "Name: CapacityBOEd, Length: 84, dtype: float64\n",
      "              Countries  CapacityBOEd\n",
      "1138      United States       1,251.5\n",
      "1661           Bulgaria         651.5\n",
      "1773      United States         256.0\n",
      "1792  Lithuania, Latvia         267.6\n",
      "1797           Bulgaria           NaN\n",
      "...                 ...           ...\n",
      "3527    Estonia, Latvia           NaN\n",
      "3547      United States       1,684.7\n",
      "3554      United States         288.8\n",
      "3564            Germany           NaN\n",
      "3567   Türkiye, Georgia       2,326.9\n",
      "\n",
      "[84 rows x 2 columns]\n"
     ]
    }
   ],
   "source": [
    "print(pipes_df_orig.loc[(pipes_df_orig.Fuel=='Gas')&\n",
    "                  (pipes_df_orig.Status.isin(['Proposed','Construction']))&\n",
    "                  (pipes_df_orig.Route.isin(['Capacity expansion only','Bidirectionality upgrade only']))]['CapacityBOEd'])\n",
    "\n",
    "\n",
    "print(pipes_df_orig.loc[(pipes_df_orig.Fuel=='Gas')&\n",
    "                  (pipes_df_orig.Status.isin(['Proposed','Construction']))&\n",
    "                  (pipes_df_orig.Route.isin(['Capacity expansion only','Bidirectionality upgrade only']))][['Countries','CapacityBOEd']])"
   ]
  },
  {
   "cell_type": "code",
   "execution_count": null,
   "id": "0c3b0f0d-f0bd-4e6a-be60-3bb77c860219",
   "metadata": {},
   "outputs": [],
   "source": []
  },
  {
   "cell_type": "code",
   "execution_count": null,
   "id": "4c22c99e-61cf-4fb2-9e64-fab7c95c320d",
   "metadata": {},
   "outputs": [],
   "source": []
  },
  {
   "cell_type": "code",
   "execution_count": null,
   "id": "10ecef91-87d6-4ad8-9dcb-db7e0f214840",
   "metadata": {},
   "outputs": [],
   "source": []
  }
 ],
 "metadata": {
  "kernelspec": {
   "display_name": "gem",
   "language": "python",
   "name": "gem"
  },
  "language_info": {
   "codemirror_mode": {
    "name": "ipython",
    "version": 3
   },
   "file_extension": ".py",
   "mimetype": "text/x-python",
   "name": "python",
   "nbconvert_exporter": "python",
   "pygments_lexer": "ipython3",
   "version": "3.9.13"
  }
 },
 "nbformat": 4,
 "nbformat_minor": 5
}
