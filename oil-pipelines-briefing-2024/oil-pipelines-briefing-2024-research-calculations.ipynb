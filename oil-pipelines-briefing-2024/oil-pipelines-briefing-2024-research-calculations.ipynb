{
 "cells": [
  {
   "cell_type": "code",
   "execution_count": 1,
   "id": "3b38c4c2",
   "metadata": {
    "tags": []
   },
   "outputs": [],
   "source": [
    "import pandas\n",
    "\n",
    "import pygsheets\n",
    "import numpy\n",
    "import scipy\n",
    "import re\n",
    "\n",
    "import matplotlib\n",
    "import matplotlib.pyplot as mp\n",
    "import matplotlib.cm\n",
    "\n",
    "import textwrap\n",
    "import seaborn"
   ]
  },
  {
   "cell_type": "markdown",
   "id": "28d79664-a683-49e9-a117-fed730f6b0b7",
   "metadata": {},
   "source": [
    "## define colors used in bars"
   ]
  },
  {
   "cell_type": "code",
   "execution_count": 2,
   "id": "c7a2b377-3968-4c9f-a5fa-6f1dcb621dea",
   "metadata": {
    "tags": []
   },
   "outputs": [
    {
     "name": "stderr",
     "output_type": "stream",
     "text": [
      "/var/folders/fl/t07mc8053p33mn6mdmvp45580000gn/T/ipykernel_76998/1445812906.py:1: MatplotlibDeprecationWarning: The get_cmap function was deprecated in Matplotlib 3.7 and will be removed two minor releases later. Use ``matplotlib.colormaps[name]`` or ``matplotlib.colormaps.get_cmap(obj)`` instead.\n",
      "  sel_cmap = matplotlib.cm.get_cmap('Reds')\n"
     ]
    }
   ],
   "source": [
    "sel_cmap = matplotlib.cm.get_cmap('Reds')\n",
    "tracker_operating = sel_cmap(0.999)\n",
    "tracker_construction = sel_cmap(0.8)\n",
    "tracker_proposed = sel_cmap(0.6)\n",
    "tracker_shelved = sel_cmap(0.4)\n",
    "tracker_cancelled = sel_cmap(0.2)"
   ]
  },
  {
   "cell_type": "markdown",
   "id": "c5e51996-e86d-4e84-81b9-adfed4434b8b",
   "metadata": {},
   "source": [
    "# import data directly from google sheets"
   ]
  },
  {
   "cell_type": "code",
   "execution_count": 3,
   "id": "029bc7eb-d141-4e01-a747-e0b5b03f1f53",
   "metadata": {
    "tags": []
   },
   "outputs": [],
   "source": [
    "gc = pygsheets.authorize(service_account_env_var='GDRIVE_API_CREDENTIALS')\n",
    "#spreadsheet = gc.open_by_key('1foPLE6K-uqFlaYgLPAUxzeXfDO5wOOqE7tibNHeqTek')\n",
    "spreadsheet = gc.open_by_key('1EFL6doEFF_jAjOuRO7OeGRqG2z-EI1B2_q2cEgvmSro') # Apr 2023 version for oil pipelines release\n",
    "\n",
    "#spreadsheet[1] \"oil Pipelines\" tab is the second index\n",
    "gas_pipes = spreadsheet.worksheet('title','Gas pipelines').get_as_df(start='A2')\n",
    "oil_pipes = spreadsheet.worksheet('title', 'Oil/NGL pipelines').get_as_df(start='A2')\n",
    "\n",
    "pipes_df_orig = pandas.concat([gas_pipes, oil_pipes], ignore_index=True)\n",
    "\n",
    "#get country ratios sheet\n",
    "country_ratios_df = spreadsheet.worksheet('title', 'Country ratios by pipeline').get_as_df()"
   ]
  },
  {
   "cell_type": "code",
   "execution_count": 4,
   "id": "2aed6720-4918-47bd-a9fd-c77d41d22b53",
   "metadata": {
    "tags": []
   },
   "outputs": [],
   "source": [
    "owners_df_orig = spreadsheet.worksheet('title', 'Pipeline operators/owners (1/3)').get_as_df(start='A2')\n",
    "owners_df_orig = owners_df_orig.loc[owners_df_orig.ProjectID!='']\n",
    "owners_df_orig = owners_df_orig.loc[owners_df_orig.Wiki!='']\n",
    "owners_df = owners_df_orig.replace('',numpy.nan)\n",
    "\n",
    "owner_parent_links_df = spreadsheet.worksheet('title', 'Owner–parent relationships (2/3)').get_as_df(start='A2')\n",
    "# only keep the owners with a checked relationship\n",
    "owner_parent_links_df = owner_parent_links_df.loc[owner_parent_links_df['Parent–Owner Relationship Checked?']=='yes']\n",
    "owner_parent_links_df.replace('',numpy.nan,inplace=True)\n",
    "\n",
    "parents_df = spreadsheet.worksheet('title', 'Parent metadata (3/3)').get_as_df(start='A2')\n",
    "parents_df = parents_df.loc[parents_df.Parent!='']\n",
    "\n",
    "owners_df.set_index('ProjectID', inplace=True)\n",
    "owner_parent_links_df.set_index('Owner', inplace=True)\n",
    "parents_df.set_index('Parent', inplace=True)\n",
    "\n",
    "# ****************************************\n",
    "\n",
    "## create list of owner and parent column names\n",
    "owner_pct_col_names = []\n",
    "owner_col_names = []\n",
    "\n",
    "parent_pct_col_names = []\n",
    "parent_col_names = []\n",
    "\n",
    "for num in range(1,11+1):\n",
    "    owner_pct_col = f'Owner{num}%'\n",
    "    owner_pct_col_names.append(owner_pct_col)\n",
    "    \n",
    "    owner_col = f'Owner{num}'\n",
    "    owner_col_names.append(owner_col)\n",
    "    \n",
    "    parent_pct_col = f'Parent{num}%'\n",
    "    parent_pct_col_names.append(parent_pct_col)\n",
    "    \n",
    "    parent_col = f'Parent{num}'\n",
    "    parent_col_names.append(parent_col)\n",
    "\n",
    "# ****************************************\n",
    "## fill in missing parent info by borrowing owner info\n",
    "owners_FULL_set = owners_df[owner_col_names].stack().dropna().unique().tolist() # from owners_df\n",
    "owners_researched_set = list(set(owner_parent_links_df.index.to_list()))#+['Unknown'] # only existing owners, plus 'Unknown'\n",
    "owners_diff = list(set(owners_FULL_set)-set(owners_researched_set))\n",
    "owners_diff.append('Unknown')\n",
    "\n",
    "# update owner_parent_links_df with these extra owners\n",
    "owner_parent_links_df = pandas.concat([owner_parent_links_df, pandas.DataFrame(index=owners_diff, columns=owner_parent_links_df.columns)])\n",
    "owner_parent_links_df['Parent1'].loc[owners_diff] = owners_diff\n",
    "owner_parent_links_df['Parent1%'].loc[owners_diff] = '100.00%'\n",
    "\n",
    "# ****************************************\n",
    "# update parents_df with these as well\n",
    "# note countries will be unknkown...\n",
    "parents_set = list(set(parents_df.index.to_list()))\n",
    "parents_diff = list(set(owners_diff)-set(parents_set))\n",
    "parents_diff.append('Unknown')\n",
    "parents_df = pandas.concat([parents_df, pandas.DataFrame(numpy.nan, index=parents_diff, columns=parents_df.columns)])\n",
    "parents_df.loc[parents_diff,'ParentHQCountry'] = 'Unknown'"
   ]
  },
  {
   "cell_type": "markdown",
   "id": "c03ad170",
   "metadata": {},
   "source": [
    "## replace \"--\" with NaN, removing empty rows\n",
    "\n",
    "the dataset is structured to have -- wherever there's a lookup value that doesn't exist; replacing it with NaN (numpy.nan) allows pandas to treat it as a null value, which makes calculations much easier"
   ]
  },
  {
   "cell_type": "code",
   "execution_count": 5,
   "id": "53a9af81",
   "metadata": {
    "tags": []
   },
   "outputs": [],
   "source": [
    "# replace -- entries with NaN\n",
    "pipes_df_orig = pipes_df_orig.replace('--', numpy.nan)\n",
    "pipes_df_orig = pipes_df_orig[pipes_df_orig['PipelineName']!='']\n",
    "pipes_df_orig = pipes_df_orig[pipes_df_orig['Wiki']!='']\n",
    "country_ratios_df.replace('--', numpy.nan, inplace=True)"
   ]
  },
  {
   "cell_type": "markdown",
   "id": "a28ad2a3",
   "metadata": {},
   "source": [
    "# km by country, km by region calculations"
   ]
  },
  {
   "cell_type": "code",
   "execution_count": 6,
   "id": "b69bb35e",
   "metadata": {
    "tags": []
   },
   "outputs": [],
   "source": [
    "status_list = ['Proposed', 'Construction', 'Shelved', 'Cancelled', 'Operating', 'Idle', 'Mothballed', 'Retired']\n",
    "country_list = sorted(list(set(country_ratios_df['Country'])))\n",
    "region_list = sorted(list(set(country_ratios_df['Region'])))"
   ]
  },
  {
   "cell_type": "code",
   "execution_count": 7,
   "id": "0f861f96",
   "metadata": {
    "tags": []
   },
   "outputs": [
    {
     "name": "stdout",
     "output_type": "stream",
     "text": [
      "===country-level calculations===\n",
      "Proposed\n",
      "Construction\n",
      "Shelved\n",
      "Cancelled\n",
      "Operating\n",
      "Idle\n",
      "Mothballed\n",
      "Retired\n",
      "===regional calculations===\n",
      "Proposed\n",
      "Construction\n",
      "Shelved\n",
      "Cancelled\n",
      "Operating\n",
      "Idle\n",
      "Mothballed\n",
      "Retired\n"
     ]
    }
   ],
   "source": [
    "country_ratios_oil_df = country_ratios_df[country_ratios_df['Fuel']=='Oil']\n",
    "\n",
    "km_by_country_df = pandas.DataFrame(columns=status_list, index=country_list)\n",
    "km_by_region_df = pandas.DataFrame(columns=status_list, index=region_list)\n",
    "\n",
    "print('===country-level calculations===')\n",
    "for status in status_list:\n",
    "    print(status)\n",
    "    country_ratios_oil_df_status = country_ratios_oil_df[country_ratios_oil_df['Status']==status]\n",
    "    km_by_country_df[status] = country_ratios_oil_df_status.groupby('Country')['MergedKmByCountry'].sum()\n",
    "\n",
    "print('===regional calculations===')\n",
    "for status in status_list:\n",
    "    print(status)\n",
    "    country_ratios_oil_df_status = country_ratios_oil_df[country_ratios_oil_df['Status']==status]\n",
    "    km_by_region_df[status] = country_ratios_oil_df_status.groupby('Region')['MergedKmByCountry'].sum()\n",
    "\n",
    "# # fill NaN with 0.0\n",
    "km_by_region_df = km_by_region_df.fillna(0)\n",
    "km_by_country_df = km_by_country_df.fillna(0)"
   ]
  },
  {
   "cell_type": "code",
   "execution_count": 8,
   "id": "f27e1492-6919-456b-8519-a35e89c76f34",
   "metadata": {
    "tags": []
   },
   "outputs": [],
   "source": [
    "km_by_region_df['Proposed+Construction'] = km_by_region_df[['Proposed','Construction']].sum(axis=1)\n",
    "km_by_region_df.sort_values(by='Proposed+Construction', inplace=True)\n",
    "km_by_region_df = km_by_region_df[['Proposed', 'Construction', 'Proposed+Construction', 'Shelved', 'Cancelled', 'Operating', 'Idle', 'Mothballed', 'Retired']]\n",
    "km_by_region_df.sort_values('Proposed+Construction', ascending=False, inplace=True)"
   ]
  },
  {
   "cell_type": "code",
   "execution_count": 9,
   "id": "38ef2764-c801-46f8-a82d-4803101a1f3b",
   "metadata": {
    "tags": []
   },
   "outputs": [],
   "source": [
    "km_by_country_df['Proposed+Construction'] = km_by_country_df[['Proposed','Construction']].sum(axis=1)\n",
    "km_by_country_df.sort_values(by='Proposed+Construction', inplace=True)\n",
    "km_by_country_df = km_by_country_df[['Proposed', 'Construction', 'Proposed+Construction', 'Shelved', 'Cancelled', 'Operating', 'Idle', 'Mothballed', 'Retired']]\n",
    "km_by_country_df.sort_values('Proposed+Construction', ascending=False, inplace=True)"
   ]
  },
  {
   "cell_type": "markdown",
   "id": "c277d8a8-4ca4-491d-a172-2576d3346773",
   "metadata": {},
   "source": [
    "# projects by country, by region"
   ]
  },
  {
   "cell_type": "code",
   "execution_count": 10,
   "id": "9ff9810a-e55c-4a5c-89e4-7dbb2e4c6a48",
   "metadata": {
    "tags": []
   },
   "outputs": [
    {
     "name": "stdout",
     "output_type": "stream",
     "text": [
      "===country-level calculations===\n",
      "Proposed\n",
      "Construction\n",
      "Shelved\n",
      "Cancelled\n",
      "Operating\n",
      "Idle\n",
      "Mothballed\n",
      "Retired\n",
      "===regional calculations===\n",
      "Proposed\n",
      "Construction\n",
      "Shelved\n",
      "Cancelled\n",
      "Operating\n",
      "Idle\n",
      "Mothballed\n",
      "Retired\n"
     ]
    }
   ],
   "source": [
    "country_ratios_oil_df = country_ratios_df[country_ratios_df['Fuel']=='Oil']\n",
    "\n",
    "num_by_country_df = pandas.DataFrame(columns=status_list, index=country_list)\n",
    "num_by_region_df = pandas.DataFrame(columns=status_list, index=region_list)\n",
    "\n",
    "print('===country-level calculations===')\n",
    "for status in status_list:\n",
    "    print(status)\n",
    "    country_ratios_oil_df_status = country_ratios_oil_df[country_ratios_oil_df['Status']==status]\n",
    "    num_by_country_df[status] = country_ratios_oil_df_status.groupby('ProjectID')['MergedKmByCountry'].sum()\n",
    "\n",
    "print('===regional calculations===')\n",
    "for status in status_list:\n",
    "    print(status)\n",
    "    country_ratios_oil_df_status = country_ratios_oil_df[country_ratios_oil_df['Status']==status]\n",
    "    num_by_region_df[status] = country_ratios_oil_df_status.groupby('Region')['MergedKmByCountry'].sum()\n",
    "\n",
    "# # fill NaN with 0.0\n",
    "num_by_region_df = num_by_region_df.fillna(0)\n",
    "num_by_country_df = num_by_country_df.fillna(0)"
   ]
  },
  {
   "cell_type": "markdown",
   "id": "99fe358c",
   "metadata": {},
   "source": [
    "# numbers of pipes finished in a given year"
   ]
  },
  {
   "cell_type": "code",
   "execution_count": 11,
   "id": "198c9165",
   "metadata": {
    "tags": []
   },
   "outputs": [],
   "source": [
    "# count pipelines that are already operating\n",
    "pipes_started = pipes_df_orig.copy()\n",
    "pipes_started['StartYearEarliest'].replace(numpy.nan,'',inplace=True)\n",
    "pipes_started = pipes_started[(pipes_started['Status'].isin(['Operating'])) &\n",
    "                              (pipes_started['Fuel']=='Oil')]\n",
    "pipes_started_sum = pipes_started.groupby('StartYearEarliest')['LengthMergedKm'].sum()"
   ]
  },
  {
   "cell_type": "code",
   "execution_count": 12,
   "id": "8d9559e8-1fc7-49c1-833f-6e19e425e498",
   "metadata": {
    "tags": []
   },
   "outputs": [],
   "source": [
    "# count km of pipeline for each start year\n",
    "pipes_started_startyear = pipes_df_orig.copy()\n",
    "pipes_started_startyear['StartYearEarliest'].replace(numpy.nan,'',inplace=True)\n",
    "pipes_started_startyear = pipes_started_startyear[(pipes_started_startyear['Status'].isin(['Operating'])) &\n",
    "                              (pipes_started_startyear['Fuel']=='Oil')]\n",
    "#pipes_started_startyear_sum = pipes_started_startyear.groupby('StartYearLatest')['LengthMergedKm'].sum()"
   ]
  },
  {
   "cell_type": "code",
   "execution_count": 13,
   "id": "b944ca0c-f362-4d07-a142-78b1523e988d",
   "metadata": {
    "tags": []
   },
   "outputs": [],
   "source": [
    "# indev pipelines = Proposed or Construction or Shelved\n",
    "pipes_indev = pipes_df_orig.copy()\n",
    "pipes_indev = pipes_indev.loc[(pipes_indev.Fuel=='Oil')&\n",
    "                              (pipes_indev.Status.isin(['Proposed','Construction','Shelved']))].groupby('Status')['LengthMergedKm'].sum()\n",
    "#pipes_indev = pipes_indev.loc[(pipes_indev.StartYearEarliest>2022)|\n",
    "#                              (pipes_indev.StartYearEarliest.isna())].groupby('Status')['LengthMergedKm'].sum()"
   ]
  },
  {
   "cell_type": "code",
   "execution_count": 14,
   "id": "d15a4dbf-af9f-4c41-bb90-bc045c099402",
   "metadata": {
    "tags": []
   },
   "outputs": [],
   "source": [
    "pipes_indev_to2030 = pipes_df_orig.copy()\n",
    "pipes_indev_to2030 = pipes_indev_to2030.loc[(pipes_indev_to2030['Fuel']=='Oil') &\n",
    "                                        (pipes_indev_to2030['Status'].isin(['Proposed','Construction','Shelved'])) &\n",
    "                                        (pipes_indev_to2030['StartYearEarliest'].isin(list(range(2023,2031))))]\n",
    "pipes_indev_to2030 = pipes_indev_to2030.groupby('Status')['LengthMergedKm'].sum()\n"
   ]
  },
  {
   "cell_type": "code",
   "execution_count": 15,
   "id": "5bd752fe-875a-4bc2-8429-0910473d52c6",
   "metadata": {
    "tags": []
   },
   "outputs": [],
   "source": [
    "pipes_indev_startyear = pipes_df_orig.copy()\n",
    "pipes_indev_startyear = pipes_indev_startyear[(pipes_indev_startyear['Status'].isin(['Proposed','Construction','Shelved'])) &\n",
    "                                              (pipes_indev_startyear['Fuel']=='Oil')]\n",
    "pipes_indev_startyear = pipes_indev_startyear.groupby(['Status','StartYearEarliest'], dropna=False)['LengthMergedKm'].sum(min_count=1)"
   ]
  },
  {
   "cell_type": "code",
   "execution_count": 16,
   "id": "47cc5cd7-5c49-4195-b71d-fff190221140",
   "metadata": {
    "tags": []
   },
   "outputs": [
    {
     "data": {
      "text/html": [
       "<div>\n",
       "<style scoped>\n",
       "    .dataframe tbody tr th:only-of-type {\n",
       "        vertical-align: middle;\n",
       "    }\n",
       "\n",
       "    .dataframe tbody tr th {\n",
       "        vertical-align: top;\n",
       "    }\n",
       "\n",
       "    .dataframe thead th {\n",
       "        text-align: right;\n",
       "    }\n",
       "</style>\n",
       "<table border=\"1\" class=\"dataframe\">\n",
       "  <thead>\n",
       "    <tr style=\"text-align: right;\">\n",
       "      <th>StartYearEarliest</th>\n",
       "      <th>2021.0</th>\n",
       "      <th>2022.0</th>\n",
       "      <th>2023.0</th>\n",
       "      <th>2024.0</th>\n",
       "      <th>2025.0</th>\n",
       "      <th>2026.0</th>\n",
       "      <th>2027.0</th>\n",
       "      <th>2028.0</th>\n",
       "      <th>2030.0</th>\n",
       "      <th>NaN</th>\n",
       "    </tr>\n",
       "    <tr>\n",
       "      <th>Status</th>\n",
       "      <th></th>\n",
       "      <th></th>\n",
       "      <th></th>\n",
       "      <th></th>\n",
       "      <th></th>\n",
       "      <th></th>\n",
       "      <th></th>\n",
       "      <th></th>\n",
       "      <th></th>\n",
       "      <th></th>\n",
       "    </tr>\n",
       "  </thead>\n",
       "  <tbody>\n",
       "    <tr>\n",
       "      <th>Construction</th>\n",
       "      <td>NaN</td>\n",
       "      <td>NaN</td>\n",
       "      <td>2601.10</td>\n",
       "      <td>3730.0</td>\n",
       "      <td>216.78</td>\n",
       "      <td>NaN</td>\n",
       "      <td>NaN</td>\n",
       "      <td>NaN</td>\n",
       "      <td>NaN</td>\n",
       "      <td>2583.00</td>\n",
       "    </tr>\n",
       "    <tr>\n",
       "      <th>Proposed</th>\n",
       "      <td>NaN</td>\n",
       "      <td>3414.07</td>\n",
       "      <td>1235.56</td>\n",
       "      <td>2403.5</td>\n",
       "      <td>2717.13</td>\n",
       "      <td>1400.0</td>\n",
       "      <td>728.0</td>\n",
       "      <td>NaN</td>\n",
       "      <td>20.0</td>\n",
       "      <td>10010.66</td>\n",
       "    </tr>\n",
       "    <tr>\n",
       "      <th>Shelved</th>\n",
       "      <td>1234.36</td>\n",
       "      <td>NaN</td>\n",
       "      <td>536.00</td>\n",
       "      <td>NaN</td>\n",
       "      <td>NaN</td>\n",
       "      <td>NaN</td>\n",
       "      <td>NaN</td>\n",
       "      <td>1562.0</td>\n",
       "      <td>4800.0</td>\n",
       "      <td>2812.60</td>\n",
       "    </tr>\n",
       "  </tbody>\n",
       "</table>\n",
       "</div>"
      ],
      "text/plain": [
       "StartYearEarliest   2021.0   2022.0   2023.0  2024.0   2025.0  2026.0  2027.0  \\\n",
       "Status                                                                          \n",
       "Construction           NaN      NaN  2601.10  3730.0   216.78     NaN     NaN   \n",
       "Proposed               NaN  3414.07  1235.56  2403.5  2717.13  1400.0   728.0   \n",
       "Shelved            1234.36      NaN   536.00     NaN      NaN     NaN     NaN   \n",
       "\n",
       "StartYearEarliest  2028.0  2030.0    NaN     \n",
       "Status                                       \n",
       "Construction          NaN     NaN   2583.00  \n",
       "Proposed              NaN    20.0  10010.66  \n",
       "Shelved            1562.0  4800.0   2812.60  "
      ]
     },
     "execution_count": 16,
     "metadata": {},
     "output_type": "execute_result"
    }
   ],
   "source": [
    "pipes_indev_startyear.unstack()"
   ]
  },
  {
   "cell_type": "code",
   "execution_count": 17,
   "id": "536976f4-7a05-49dd-b898-62d4813ffc51",
   "metadata": {
    "tags": []
   },
   "outputs": [
    {
     "data": {
      "text/plain": [
       "2601.1"
      ]
     },
     "execution_count": 17,
     "metadata": {},
     "output_type": "execute_result"
    }
   ],
   "source": [
    "pipes_indev_startyear['Construction',2023]"
   ]
  },
  {
   "cell_type": "markdown",
   "id": "5a075334-5559-443b-a8bf-c2cc32c2ece7",
   "metadata": {},
   "source": [
    "## Fig 2 - 2023–2030, go back to 2008"
   ]
  },
  {
   "cell_type": "raw",
   "id": "10a875c4-6a07-44b9-859a-bbb2f4b9f38f",
   "metadata": {
    "tags": []
   },
   "source": [
    "pandas.DataFrame(pipes_started_sum).to_excel('saved-tables/pipelines-operating-km-by-start-year.xlsx')\n",
    "\n",
    "pandas.DataFrame(pipes_indev_startyear).unstack().replace(numpy.nan,0).to_excel('saved-tables/pipelines-indev-km-by-start-year.xlsx')"
   ]
  },
  {
   "cell_type": "markdown",
   "id": "83c69fd8-e7a7-41bb-b816-b175a0b8909b",
   "metadata": {},
   "source": [
    "## future/past plot"
   ]
  },
  {
   "cell_type": "code",
   "execution_count": 74,
   "id": "5e6210eb-0ae8-47f3-81af-2b10d7833e6f",
   "metadata": {
    "tags": []
   },
   "outputs": [
    {
     "data": {
      "image/png": "[encoded data removed]",
      "text/plain": [
       "<Figure size 325x400 with 2 Axes>"
      ]
     },
     "metadata": {},
     "output_type": "display_data"
    }
   ],
   "source": [
    "font_size = 7\n",
    "\n",
    "ytop = 30000\n",
    "ytop2 = 30000\n",
    "xlo = 2008\n",
    "xhi = 2023\n",
    "\n",
    "fig = mp.figure(figsize=(3.25,4))\n",
    "\n",
    "widths=[15,2.25]\n",
    "spec = fig.add_gridspec(ncols=2, nrows=1, width_ratios=widths)\n",
    "\n",
    "ax = fig.add_subplot(spec[0,0])\n",
    "\n",
    "ax.bar(pipes_started_sum.loc[range(xlo,xhi+1)].index.values, pipes_started_sum.loc[range(xlo,xhi+1)].values,\n",
    "       color=tracker_operating, label='Operating') # color=solar_base03\n",
    "\n",
    "ax.bar(2023,pipes_indev_startyear['Construction',2023],\n",
    "       label='Construction\\n(scheduled\\nfor 2023)', bottom=pipes_started_sum.loc[2023], \n",
    "       facecolor=tracker_operating, alpha=0.25)\n",
    "\n",
    "ax.tick_params(labelsize=font_size)\n",
    "ax.tick_params('x', rotation=45)\n",
    "ax.set_ylabel('km', size=font_size)\n",
    "\n",
    "ax.set_xlim(xlo-0.75, xhi+0.75)\n",
    "ax.set_ylim(0, ytop)\n",
    "\n",
    "ax.xaxis.set_major_locator(matplotlib.ticker.MaxNLocator(integer=True))\n",
    "\n",
    "ax2 = fig.add_subplot(spec[0,1])\n",
    "ax2.set_ylim(0, ytop2)\n",
    "ax2.set_xlim(0.25,2.75)\n",
    "xvals = [1.5]\n",
    "\n",
    "colors = [tracker_construction, tracker_proposed]#, tracker_shelved]\n",
    "status = ['Construction', 'Proposed']#, 'Shelved']\n",
    "ax2_list = []\n",
    "\n",
    "\n",
    "ax2_list.append(ax2.bar(xvals[0], pipes_indev['Construction'],\n",
    "                 color=tracker_construction, label='Construction'))\n",
    "\n",
    "ax2_list.append(ax2.bar(xvals[0], pipes_indev['Proposed']-pipes_indev_startyear['Construction',2023],\n",
    "                        bottom=pipes_indev['Construction'],\n",
    "                 color=tracker_shelved, label='Proposed'))\n",
    "\n",
    "ax_h, ax_l = ax.get_legend_handles_labels()\n",
    "ax2_h, ax2_l = ax2.get_legend_handles_labels()\n",
    "\n",
    "ax2.set_xticklabels([])\n",
    "ax2.tick_params(labelsize=font_size)\n",
    "ax2.set_xticks([])\n",
    "\n",
    "ax2.set_yticks([])\n",
    "\n",
    "ax.legend(handles=ax_h+ax2_h, fontsize=font_size, frameon=False, \n",
    "          loc='upper left', bbox_to_anchor=[0.05,1])\n",
    "\n",
    "axpos = ax.get_position()\n",
    "ax2pos = ax2.get_position()\n",
    "\n",
    "ax.spines['right'].set_visible(False)\n",
    "ax.spines['top'].set_visible(False)\n",
    "#ax.spines['bottom'].set_visible(False)\n",
    "\n",
    "ax2.spines['left'].set_visible(False)\n",
    "ax2.spines['top'].set_visible(False)\n",
    "ax2.spines['right'].set_visible(False)\n",
    "#ax2.spines['right'].set_visible(False)\n",
    "\n",
    "ax.set_title('commissioned by year', fontsize=font_size)\n",
    "ax2.set_title('future', fontsize=font_size)\n",
    "\n",
    "fig.tight_layout(w_pad=0.5)\n",
    "\n",
    "ax.yaxis.set_minor_locator(matplotlib.ticker.AutoMinorLocator(2))\n",
    "#ax2.yaxis.set_minor_locator(matplotlib.ticker.AutoMinorLocator(2))\n",
    "\n",
    "mp.savefig('saved-figures/oil-pipelines_km-by-start-year.png', bbox_inches='tight', transparent=True, dpi=600)\n",
    "mp.savefig('saved-figures/oil-pipelines_km-by-start-year.pdf', bbox_inches='tight', transparent=True)"
   ]
  },
  {
   "cell_type": "code",
   "execution_count": 19,
   "id": "09a92802-974a-42de-bc19-e12f40226b70",
   "metadata": {
    "tags": []
   },
   "outputs": [
    {
     "data": {
      "text/plain": [
       "Status\n",
       "Construction     9130.88\n",
       "Proposed        21928.92\n",
       "Shelved         10944.96\n",
       "Name: LengthMergedKm, dtype: float64"
      ]
     },
     "execution_count": 19,
     "metadata": {},
     "output_type": "execute_result"
    }
   ],
   "source": [
    "pipes_indev"
   ]
  },
  {
   "cell_type": "markdown",
   "id": "8298e2a6-3199-460c-8109-9f2ce4e9f680",
   "metadata": {},
   "source": [
    "## percent pipelines with start date (sanity check)"
   ]
  },
  {
   "cell_type": "code",
   "execution_count": 20,
   "id": "9b19f13c-1f8e-47eb-abff-f8ee5545ba20",
   "metadata": {
    "tags": []
   },
   "outputs": [],
   "source": [
    "pipes_scratch = pipes_df_orig.copy()\n",
    "pipes_scratch = pipes_scratch[(pipes_scratch['Fuel']=='Oil') &\n",
    "                              (pipes_scratch['Status'].isin(['Proposed','Construction','Shelved']))]"
   ]
  },
  {
   "cell_type": "code",
   "execution_count": 21,
   "id": "4b88a57c-41dd-4d0a-a3ca-3c08d90892ac",
   "metadata": {
    "tags": []
   },
   "outputs": [
    {
     "data": {
      "text/plain": [
       "0.5185185185185185"
      ]
     },
     "execution_count": 21,
     "metadata": {},
     "output_type": "execute_result"
    }
   ],
   "source": [
    "pipes_scratch[~pipes_scratch['StartYearEarliest'].isnull()]['StartYearEarliest'].count()/pipes_scratch.shape[0]\n"
   ]
  },
  {
   "cell_type": "markdown",
   "id": "358e0310",
   "metadata": {},
   "source": [
    "## regional pipelines started in given year"
   ]
  },
  {
   "cell_type": "code",
   "execution_count": 22,
   "id": "89a9a24b-3357-4080-be84-0e0965d31514",
   "metadata": {
    "tags": []
   },
   "outputs": [
    {
     "data": {
      "text/plain": [
       "1904.0"
      ]
     },
     "execution_count": 22,
     "metadata": {},
     "output_type": "execute_result"
    }
   ],
   "source": [
    "pipes_df_orig['StartYearEarliest'].min()"
   ]
  },
  {
   "cell_type": "code",
   "execution_count": 23,
   "id": "bc05d721",
   "metadata": {
    "tags": []
   },
   "outputs": [],
   "source": [
    "years_array = numpy.arange(float(pipes_df_orig['StartYearEarliest'].min()), \n",
    "                           float(pipes_df_orig['StartYearEarliest'].max())+1)\n",
    "regions_startyear_sums_df = pandas.DataFrame(numpy.nan, index=years_array, columns=region_list)"
   ]
  },
  {
   "cell_type": "code",
   "execution_count": 24,
   "id": "b1fca66b",
   "metadata": {
    "tags": []
   },
   "outputs": [],
   "source": [
    "#pipes_started = pipes_df.copy()[(pipes_df['Status'].isin(['Operating'])) & pipes_df['Fuel']=='oil']\n",
    "#pipes_started_sum = pipes_started.groupby('StartYearLatest')['LengthMergedKm'].sum()\n",
    "\n",
    "for region in region_list:\n",
    "    pipes_started = pipes_df_orig.copy()[(pipes_df_orig['Status'].isin(['Operating','Retired','Idle'])) & \n",
    "                                    (pipes_df_orig['Fuel']=='oil')]\n",
    "    pipes_started = pipes_started[pipes_started['StartRegion']==region]\n",
    "    pipes_started_sum_up = pipes_started.groupby('StartYearEarliest')['LengthMergedKm'].sum()\n",
    "    \n",
    "    regions_startyear_sums_df[region] = pipes_started_sum_up"
   ]
  },
  {
   "cell_type": "code",
   "execution_count": 25,
   "id": "37727617-097d-400e-82f7-bc396ec094aa",
   "metadata": {
    "tags": []
   },
   "outputs": [],
   "source": [
    "if len(region_list)!=10:\n",
    "    region_list = region_list[2:]"
   ]
  },
  {
   "cell_type": "markdown",
   "id": "0299445b-00c6-448c-9db4-1ee541d487ed",
   "metadata": {},
   "source": [
    "## plot pie chart of regional values"
   ]
  },
  {
   "cell_type": "code",
   "execution_count": 26,
   "id": "226216bb-58ee-4c37-af1f-637b84aa56ea",
   "metadata": {
    "tags": []
   },
   "outputs": [
    {
     "data": {
      "image/png": "[encoded data removed]",
      "text/plain": [
       "<Figure size 1000x100 with 1 Axes>"
      ]
     },
     "metadata": {},
     "output_type": "display_data"
    },
    {
     "data": {
      "image/png": "[encoded data removed]",
      "text/plain": [
       "<Figure size 1000x100 with 1 Axes>"
      ]
     },
     "metadata": {},
     "output_type": "display_data"
    }
   ],
   "source": [
    "# mess with some color pallettes\n",
    "#seaborn.color_palette('husl', 10)\n",
    "seaborn.palplot(seaborn.husl_palette(10, s=0.9, l=0.75, h=0.15))\n",
    "seaborn.palplot(seaborn.husl_palette(10, h=0.15))\n",
    "\n",
    "cmap_dark = seaborn.husl_palette(10, h=0.15, l=0.4, s=0.8, as_cmap=True)\n",
    "cmap_light = seaborn.husl_palette(10, h=0.15, s=1, as_cmap=True)"
   ]
  },
  {
   "cell_type": "raw",
   "id": "5f3b676c-be35-4d32-8172-78ab287c6572",
   "metadata": {
    "tags": []
   },
   "source": [
    "font_size=7\n",
    "\n",
    "fig = mp.figure(figsize=(5,5))\n",
    "ax = fig.add_subplot(111)\n",
    "\n",
    "nwedges = region_list.__len__()\n",
    "region_order = km_by_region_df.index[:nwedges]\n",
    "\n",
    "pie_vals = km_by_region_df.loc[region_order]['Proposed+Construction'].values\n",
    "pie_labels = km_by_region_df.index\n",
    "pie_labels_km = km_by_region_df.loc[region_order]['Proposed+Construction'].apply(lambda x: f'\\n{int(round(x,-2)):,} km')\n",
    "pie_labels_perc = (km_by_region_df.loc[region_order]['Proposed+Construction'] / \n",
    "                   km_by_region_df.loc[region_order]['Proposed+Construction'].sum() * 100.).apply(lambda x: f'\\n{x:.1f}%')\n",
    "\n",
    "# ****************************************\n",
    "pie_vals_separated = km_by_region_df.loc[region_order][['Construction','Proposed']].values.flatten()\n",
    "#pie_labels_separated = numpy.array(list(zip(km_by_region_df.index[:-1],km_by_region_df.index[:-1]))).flatten()\n",
    "#pie_labels_km = km_by_region_df.loc[region_order]['Proposed+Construction'].apply(lambda x: f'\\n{int(round(x,-3)):,} km')\n",
    "\n",
    "nwedges_separated = 20\n",
    "cmap_light_10 = cmap_light(numpy.linspace(0,1,nwedges))\n",
    "cmap_dark_10 = cmap_dark(numpy.linspace(0,1,nwedges))\n",
    "\n",
    "pie_labels = [i+j+k for i,j,k in zip(pie_labels, pie_labels_km, pie_labels_perc)]\n",
    "pie_width = 0.666\n",
    "\n",
    "# ****************************************\n",
    "# size=0.3\n",
    "ax.pie(pie_vals_separated, \n",
    "       #labels=pie_labels,\n",
    "       #radius=1-size,\n",
    "       colors=numpy.hstack((cmap_light_10, cmap_dark_10)).reshape(20,-1),\n",
    "       wedgeprops=dict(width=pie_width),\n",
    "       textprops={'fontsize': font_size})\n",
    "ax.pie(pie_vals, \n",
    "       labels=pie_labels,\n",
    "       #radius=1,\n",
    "       #bottom=0.25,\n",
    "       colors=None,#cmap(numpy.linspace(0,1,pie_vals.size))[::-1],\n",
    "       wedgeprops=dict(edgecolor='1', facecolor='None', linewidth=2, width=pie_width),\n",
    "       textprops={'fontsize': font_size})\n",
    "\n",
    "\n",
    "ax.tick_params(labelsize=font_size)\n",
    "\n",
    "fig.tight_layout()\n",
    "\n",
    "# mp.savefig('saved-figures/oil-pipelines_pie-graph-country-pipelines-km.pdf', bbox_inches='tight', transparent=True)\n",
    "\n",
    "# mp.savefig('saved-figures/oil-pipelines_pie-graph-country-pipelines-km.png', \n",
    "#           bbox_inches='tight', \n",
    "#           transparent=True,\n",
    "#           dpi=600)"
   ]
  },
  {
   "cell_type": "markdown",
   "id": "712acc4e",
   "metadata": {},
   "source": [
    "# top 20 countries proposed+construction"
   ]
  },
  {
   "cell_type": "code",
   "execution_count": 27,
   "id": "e4961c91-d30b-4e76-9e26-94a0ae21ba70",
   "metadata": {
    "tags": []
   },
   "outputs": [],
   "source": [
    "def adjust_spines(ax, spines):\n",
    "    for loc, spine in ax.spines.items():\n",
    "        if loc in spines:\n",
    "            spine.set_position(('outward', 10))  # outward by 10 points\n",
    "        else:\n",
    "            spine.set_color('none')  # don't draw spine\n",
    "\n",
    "    # turn off ticks where there is no spine\n",
    "    if 'left' in spines:\n",
    "        ax.yaxis.set_ticks_position('left')\n",
    "    else:\n",
    "        # no yaxis ticks\n",
    "        ax.yaxis.set_ticks([])\n",
    "\n",
    "    if 'bottom' in spines:\n",
    "        ax.xaxis.set_ticks_position('bottom')\n",
    "    else:\n",
    "        # no xaxis ticks\n",
    "        ax.xaxis.set_ticks([])"
   ]
  },
  {
   "cell_type": "code",
   "execution_count": 28,
   "id": "3cdebc59",
   "metadata": {
    "tags": []
   },
   "outputs": [
    {
     "data": {
      "image/png": "[encoded data removed]",
      "text/plain": [
       "<Figure size 675x400 with 1 Axes>"
      ]
     },
     "metadata": {},
     "output_type": "display_data"
    }
   ],
   "source": [
    "font_size = 7\n",
    "fig = mp.figure(figsize=(6.75,4))\n",
    "nbars=20\n",
    "\n",
    "country_order = km_by_country_df.index[:nbars][::-1]\n",
    "\n",
    "ax = fig.add_subplot(111)\n",
    "\n",
    "ax.barh(numpy.arange(nbars), \n",
    "        km_by_country_df.loc[country_order]['Construction'].values, \n",
    "        facecolor=tracker_construction,#solar_orange, \n",
    "        label='Construction')\n",
    "\n",
    "ax.barh(numpy.arange(nbars), \n",
    "        km_by_country_df.loc[country_order]['Proposed'].values, \n",
    "        left=km_by_country_df.loc[country_order]['Construction'].values, \n",
    "        facecolor=tracker_proposed,#solar_yellow, \n",
    "        label='Proposed')\n",
    "\n",
    "ax.barh(numpy.arange(nbars), \n",
    "        km_by_country_df.loc[country_order]['Shelved'].values, \n",
    "        left=km_by_country_df.loc[country_order][['Proposed','Construction']].sum(axis=1).values, \n",
    "        facecolor=tracker_shelved,#'0.75', \n",
    "        label='Shelved')\n",
    "\n",
    "ax.barh(numpy.arange(nbars), \n",
    "        km_by_country_df.loc[country_order]['Cancelled'].values, \n",
    "        left=km_by_country_df.loc[country_order][['Proposed','Construction','Shelved']].sum(axis=1).values, \n",
    "        facecolor=tracker_cancelled,#'0.9', \n",
    "        label='Cancelled')\n",
    "\n",
    "ax.set_yticks(numpy.arange(nbars))\n",
    "ax.set_yticklabels(km_by_country_df.index[:nbars][::-1])\n",
    "ax.tick_params(labelsize=font_size)\n",
    "ax.tick_params('x', pad=0)\n",
    "ax.set_xlim(0,30000)\n",
    "#ax.set_ylim(-.75,19.75)\n",
    "ax.set_ylim(-.25,20)\n",
    "ax.set_xlabel('km', size=font_size)#, labelpad=10)\n",
    "ax.xaxis.set_ticks_position('top')\n",
    "ax.xaxis.set_label_position('top')\n",
    "\n",
    "ax.legend(fontsize=font_size, frameon=False, loc='lower right')\n",
    "\n",
    "ax.spines['right'].set_visible(False)\n",
    "ax.spines['left'].set_visible(False)\n",
    "ax.spines['bottom'].set_visible(False)\n",
    "\n",
    "#mp.savefig('saved-figures/oil-pipelines_top-20-countries.pdf', bbox_inches='tight', transparent=True)\n",
    "\n",
    "#adjust_spines(ax, ['top'])\n",
    "    \n",
    "mp.savefig('saved-figures/oil-pipelines_top-20-countries.png',\n",
    "          bbox_inches='tight', \n",
    "          transparent=True,\n",
    "          dpi=600)\n",
    "\n",
    "mp.savefig('saved-figures/oil-pipelines_top-20-countries.pdf',\n",
    "          bbox_inches='tight', \n",
    "          transparent=True)"
   ]
  },
  {
   "cell_type": "markdown",
   "id": "3b0980c1-af1a-4b83-a13e-ec9f8942a6ff",
   "metadata": {},
   "source": [
    "# top 20 without cancelled and shelved bars"
   ]
  },
  {
   "cell_type": "code",
   "execution_count": 29,
   "id": "f96b605e-5079-43e8-b117-5f5ebd2f708b",
   "metadata": {
    "tags": []
   },
   "outputs": [
    {
     "name": "stderr",
     "output_type": "stream",
     "text": [
      "/var/folders/fl/t07mc8053p33mn6mdmvp45580000gn/T/ipykernel_76998/2799680308.py:1: MatplotlibDeprecationWarning: The get_cmap function was deprecated in Matplotlib 3.7 and will be removed two minor releases later. Use ``matplotlib.colormaps[name]`` or ``matplotlib.colormaps.get_cmap(obj)`` instead.\n",
      "  sel_cmap = matplotlib.cm.get_cmap('Reds')\n"
     ]
    },
    {
     "data": {
      "image/png": "[encoded data removed]",
      "text/plain": [
       "<Figure size 675x400 with 1 Axes>"
      ]
     },
     "metadata": {},
     "output_type": "display_data"
    }
   ],
   "source": [
    "sel_cmap = matplotlib.cm.get_cmap('Reds')\n",
    "#tracker_operating = sel_cmap(0.999)\n",
    "#tracker_construction = sel_cmap(0.8)\n",
    "#tracker_proposed = sel_cmap(0.6)\n",
    "#tracker_shelved = sel_cmap(0.4)\n",
    "#tracker_cancelled = sel_cmap(0.2)\n",
    "\n",
    "font_size = 7\n",
    "fig = mp.figure(figsize=(6.75,4))\n",
    "nbars=20\n",
    "\n",
    "country_order = km_by_country_df.index[:nbars][::-1]\n",
    "\n",
    "ax = fig.add_subplot(111)\n",
    "\n",
    "ax.barh(numpy.arange(nbars), \n",
    "        km_by_country_df.loc[country_order]['Construction'].values, \n",
    "        facecolor=sel_cmap(0.8),\n",
    "        label='Construction', height=0.6)\n",
    "\n",
    "ax.barh(numpy.arange(nbars), \n",
    "        km_by_country_df.loc[country_order]['Proposed'].values, \n",
    "        left=km_by_country_df.loc[country_order]['Construction'].values, \n",
    "        facecolor=sel_cmap(0.4),\n",
    "        label='Proposed', height=0.6)\n",
    "\n",
    "ax.set_yticks(numpy.arange(nbars))\n",
    "ax.set_yticklabels(km_by_country_df.index[:nbars][::-1])\n",
    "ax.tick_params(labelsize=font_size)\n",
    "ax.tick_params('x', pad=0)\n",
    "ax.set_xlim(0,3000)\n",
    "#ax.set_ylim(-.75,19.75)\n",
    "ax.set_ylim(-.25,20)\n",
    "ax.set_xlabel('km', size=font_size)#, labelpad=10)\n",
    "ax.xaxis.set_ticks_position('top')\n",
    "ax.xaxis.set_label_position('top')\n",
    "\n",
    "ax.legend(fontsize=font_size, frameon=False, loc='lower right')\n",
    "\n",
    "ax.spines['right'].set_visible(False)\n",
    "ax.spines['left'].set_visible(False)\n",
    "ax.spines['bottom'].set_visible(False)\n",
    "\n",
    "#ax.xaxis.grid(True, which='minor')\n",
    "ax.xaxis.set_minor_locator(matplotlib.ticker.AutoMinorLocator(2))\n",
    "\n",
    "\n",
    "#mp.savefig('saved-figures/oil-pipelines_top-20-countries.pdf', bbox_inches='tight', transparent=True)\n",
    "\n",
    "#adjust_spines(ax, ['top'])\n",
    "    \n",
    "mp.savefig('saved-figures/oil-pipelines_top-20-countries-no-cancelled-shelved.png',\n",
    "          bbox_inches='tight', \n",
    "          transparent=True,\n",
    "          dpi=600)\n",
    "\n",
    "mp.savefig('saved-figures/oil-pipelines_top-20-countries-no-cancelled-shelved.pdf',\n",
    "          bbox_inches='tight', \n",
    "          transparent=True)"
   ]
  },
  {
   "cell_type": "code",
   "execution_count": 30,
   "id": "3906d28f",
   "metadata": {
    "tags": []
   },
   "outputs": [
    {
     "data": {
      "text/plain": [
       "0.700672804532578"
      ]
     },
     "execution_count": 30,
     "metadata": {},
     "output_type": "execute_result"
    }
   ],
   "source": [
    "# ratio of China to India (how many times larger is km of Chinese pipelines than India?)\n",
    "km_by_country_df.loc['China']['Proposed+Construction']/km_by_country_df.loc['India']['Proposed+Construction']"
   ]
  },
  {
   "cell_type": "markdown",
   "id": "ef4ea45f-4fac-4b6f-a619-dd3ecd24b143",
   "metadata": {},
   "source": [
    "# parent analysis"
   ]
  },
  {
   "cell_type": "raw",
   "id": "1645f34e-1266-4b50-9129-0a83cc175992",
   "metadata": {},
   "source": [
    "# this cell takes the terminals data set (call it \"terms_df_all\", here we're using the indev terminals subset)\n",
    "# and loops throw every row, breaks up the parent and % ownership strings,\n",
    "# and outputs a dataframe owner_parent_calculations_df that has a bunch of different useful info related\n",
    "# to parent shares, capacity, etc.\n",
    "\n",
    "terms_df_all = terminals_df_indev.copy()\n",
    "owner_parent_calculations_df = pandas.DataFrame() # empty df for storing owner/parent stuff\n",
    "\n",
    "for idx,row in terminals_df_indev.iterrows():\n",
    "    parent_string = row.Parent #.values[0]\n",
    "\n",
    "    # the two lines below go through the parent entries in the sheet and split them,\n",
    "    # recording the percents and parents in separate lists, to be dealt with later\n",
    "    parent_list = re.sub(' \\[.*?\\]', '', parent_string).split('; ') # all entries must have an \"Owner [%]\" syntax, so [unknown %] is included\n",
    "    percent_list = [float(i.rstrip('%'))/100. for i in re.findall('\\\\d+(?:\\\\.\\\\d+)?%', parent_string)]\n",
    "\n",
    "    # if there are fewer recorded percents than number of parents\n",
    "    if parent_list.__len__()!=percent_list.__len__():\n",
    "        # if there are no percents, make them all equal\n",
    "        if percent_list==[]:\n",
    "            percent_list = [1/parent_list.__len__() for i in parent_list]\n",
    "        # otherwise, get the difference and distribute the remainder equally among remaining parents\n",
    "        else:\n",
    "            nmissing = parent_list.__len__()-percent_list.__len__()\n",
    "            # distribute nans evenly\n",
    "            total = numpy.nansum(percent_list)\n",
    "            leftover = 1-total\n",
    "            percent_list += [leftover/nmissing]*nmissing\n",
    "\n",
    "    # now go through each parent and associated percent ownership\n",
    "    # and store it alongside the project's name along with capacity, status, region, etc.\n",
    "    # this is stored inside the big dataframe owner_parent_calculations_df\n",
    "    for p_idx,parent in enumerate(parent_list):\n",
    "        if parent not in parent_metadata_df.index.to_list():\n",
    "            parent_metadata_df.loc[parent,'ParentHQCountry']='Unknown'\n",
    "        owner_parent_calculations_df = pandas.concat([owner_parent_calculations_df, \n",
    "                                                      pandas.DataFrame([{'Parent':parent, 'ComboID':row.ComboID,\n",
    "                                                                         'FractionOwnership':percent_list[p_idx],\n",
    "                                                                         'PercentString':'{:.2f}%'.format(percent_list[p_idx]*100),\n",
    "                                                                         'ParentHQCountry':parent_metadata_df.loc[parent_metadata_df.index==parent]['ParentHQCountry'].values[0],\n",
    "                                                                         'ParentHQRegion':parent_metadata_df.loc[parent_metadata_df.index==parent]['ParentHQRegion'].values[0],\n",
    "                                                                         'TerminalCountry':row.Country,\n",
    "                                                                         'TerminalRegion':row.Region,\n",
    "                                                                         'Status':row.Status,\n",
    "                                                                         # BL: you can specify a column either by df['ColumnName'] or df.ColumnName\n",
    "                                                                         #   you can use the first one for spaces and other punctuation, see below\n",
    "                                                                         #   and don't forget the comma at the end of the row, they all need to be separated by commas\n",
    "                                                                         'Import/Export':row['Import/Export'],\n",
    "                                                                         'CapacityInMtpa':row.CapacityInMtpa,\n",
    "                                                                         'ProjectWiki':row.Wiki,\n",
    "                                                                         'ProjectName':row.TerminalName+' '+str(row.UnitName)}])])\n",
    "\n",
    "owner_parent_calculations_df.reset_index(drop=True, inplace=True)\n",
    "owner_parent_calculations_df['CapacityOwnedInMtpa'] = owner_parent_calculations_df.FractionOwnership*owner_parent_calculations_df.CapacityInMtpa\n",
    "owner_parent_calculations_df['ParentCapacityString'] = owner_parent_calculations_df.Parent + ' (' + owner_parent_calculations_df.CapacityOwnedInMtpa.round(1).astype(str).replace('nan','unknown') + ' mtpa)'"
   ]
  },
  {
   "cell_type": "code",
   "execution_count": 81,
   "id": "82e8683f-e37b-4aac-9039-9afe967a404b",
   "metadata": {
    "tags": []
   },
   "outputs": [],
   "source": [
    "owner_parent_calculations_df = pandas.DataFrame()\n",
    "# needs country, km in each country columns as well\n",
    "\n",
    "for idx,row in country_ratios_df.loc[(country_ratios_df.Fuel=='Oil')&(country_ratios_df.Status.isin(['Proposed','Construction']))].iterrows():\n",
    "    parent_string = pipes_df_orig.loc[pipes_df_orig.ProjectID==row.ProjectID].Parent.values[0]\n",
    "    #print(parent_string)\n",
    "    parent_list = re.sub(' \\[.*?\\]', '', parent_string).split('; ') # all entries must have an \"Owner [%]\" syntax, so [unknown %] is included\n",
    "    percent_list = [float(i.rstrip('%'))/100. for i in re.findall('\\\\d+(?:\\\\.\\\\d+)?%', parent_string)]\n",
    "    #print(percent_list)\n",
    "\n",
    "    if parent_list.__len__()!=percent_list.__len__():\n",
    "        if percent_list==[]:\n",
    "            percent_list = [1/parent_list.__len__() for i in parent_list]\n",
    "        else:\n",
    "            nmissing = parent_list.__len__()-percent_list.__len__()\n",
    "            # distribute nans evenly\n",
    "            total = numpy.nansum(percent_list)\n",
    "            leftover = 1-total\n",
    "            percent_list += [leftover/nmissing]*nmissing\n",
    "\n",
    "    # for when database isn't completely filled in for owners:\n",
    "    for p_idx,parent in enumerate(parent_list):\n",
    "        if parent not in parents_df.index.to_list():\n",
    "            parents_df.loc[parent,'ParentHQCountry']='Unknown'\n",
    "        owner_parent_calculations_df = pandas.concat([owner_parent_calculations_df, \n",
    "                                                      pandas.DataFrame([{'Parent':parent, 'ProjectID':row.ProjectID, \n",
    "                                                                         'FractionOwnership':percent_list[p_idx],\n",
    "                                                                         'ParentHQCountry':parents_df.loc[parents_df.index==parent]['ParentHQCountry'].values[0],\n",
    "                                                                         'PipelineCountry':row.Country,\n",
    "                                                                         'Status':row.Status,\n",
    "                                                                         'MergedKmByCountry':row.MergedKmByCountry,\n",
    "                                                                         'MergedKmByPipeline':row.MergedKmByPipeline,\n",
    "                                                                         'CapacityBOEd':row.CapacityBOEd}])])\n",
    "\n",
    "owner_parent_calculations_df['KmOwnershipByCountry'] = owner_parent_calculations_df.FractionOwnership*owner_parent_calculations_df.MergedKmByCountry"
   ]
  },
  {
   "cell_type": "markdown",
   "id": "bad66811-2856-4055-81c8-5cf098dab5a7",
   "metadata": {},
   "source": [
    "## print out leading parent companies"
   ]
  },
  {
   "cell_type": "code",
   "execution_count": 83,
   "id": "7b99444c-4290-4bc7-b475-89e3256ecb49",
   "metadata": {
    "tags": []
   },
   "outputs": [],
   "source": [
    "parent_country_km_df = \\\n",
    "owner_parent_calculations_df.loc[#(owner_parent_calculations_df.PipelineCountry.isin(region_df_touse.Country.tolist()))&\n",
    "                                 (owner_parent_calculations_df.Status.isin(['Proposed','Construction']))]\n",
    "\n",
    "parent_country_km_df_table = pandas.DataFrame(index=parent_country_km_df.Parent.unique().tolist(),\n",
    "                                             columns=['Pipeline Country Locations','Owner Headquarters Country',\n",
    "                                                      'Proposed','Construction','In Development (Proposed + Construction)','ProjectIDs'])\n",
    "\n",
    "parent_country_km_df_table['Proposed'] = parent_country_km_df.loc[parent_country_km_df.Status=='Proposed'].groupby('Parent').sum('KmOwnershipByCountry')[['KmOwnershipByCountry']]\n",
    "parent_country_km_df_table['Construction'] = parent_country_km_df.loc[parent_country_km_df.Status=='Construction'].groupby('Parent').sum('KmOwnershipByCountry')[['KmOwnershipByCountry']]\n",
    "\n",
    "parent_country_km_df_table = parent_country_km_df_table.loc[parent_country_km_df_table.index!='']"
   ]
  },
  {
   "cell_type": "code",
   "execution_count": 84,
   "id": "e3d72449-e2aa-455e-b68f-152c91a7a916",
   "metadata": {
    "tags": []
   },
   "outputs": [
    {
     "data": {
      "text/html": [
       "<div>\n",
       "<style scoped>\n",
       "    .dataframe tbody tr th:only-of-type {\n",
       "        vertical-align: middle;\n",
       "    }\n",
       "\n",
       "    .dataframe tbody tr th {\n",
       "        vertical-align: top;\n",
       "    }\n",
       "\n",
       "    .dataframe thead th {\n",
       "        text-align: right;\n",
       "    }\n",
       "</style>\n",
       "<table border=\"1\" class=\"dataframe\">\n",
       "  <thead>\n",
       "    <tr style=\"text-align: right;\">\n",
       "      <th></th>\n",
       "      <th>Pipeline Country Locations</th>\n",
       "      <th>Owner Headquarters Country</th>\n",
       "      <th>Proposed</th>\n",
       "      <th>Construction</th>\n",
       "      <th>In Development (Proposed + Construction)</th>\n",
       "      <th>ProjectIDs</th>\n",
       "      <th>Number of Projects</th>\n",
       "    </tr>\n",
       "  </thead>\n",
       "  <tbody>\n",
       "    <tr>\n",
       "      <th>Iran Ministry of Petroleum</th>\n",
       "      <td>Iran</td>\n",
       "      <td>Iran</td>\n",
       "      <td>57.0</td>\n",
       "      <td>1,978.0</td>\n",
       "      <td>2,035.0</td>\n",
       "      <td>P2221, P2222, P2226, P2229, P3848, P5287, P5335, P5357, P5358, P5370, P5372, P5373</td>\n",
       "      <td>12</td>\n",
       "    </tr>\n",
       "    <tr>\n",
       "      <th>China National Petroleum Corporation</th>\n",
       "      <td>Niger, Benin, Nigeria</td>\n",
       "      <td>China</td>\n",
       "      <td></td>\n",
       "      <td>1,950.0</td>\n",
       "      <td>1,950.0</td>\n",
       "      <td>P1328</td>\n",
       "      <td>3</td>\n",
       "    </tr>\n",
       "    <tr>\n",
       "      <th>Iraq Ministry of Oil</th>\n",
       "      <td>Jordan, Iraq</td>\n",
       "      <td>Iraq</td>\n",
       "      <td>1,558.0</td>\n",
       "      <td>195.0</td>\n",
       "      <td>1,753.0</td>\n",
       "      <td>P0544, P3879, P5240, P5245, P5259, P5260, P5261, P5284, P5285, P5291</td>\n",
       "      <td>12</td>\n",
       "    </tr>\n",
       "    <tr>\n",
       "      <th>Numaligarh Refinery Limited</th>\n",
       "      <td>India</td>\n",
       "      <td>India</td>\n",
       "      <td></td>\n",
       "      <td>1,630.0</td>\n",
       "      <td>1,630.0</td>\n",
       "      <td>P3843</td>\n",
       "      <td>1</td>\n",
       "    </tr>\n",
       "    <tr>\n",
       "      <th>TotalEnergies SE</th>\n",
       "      <td>Kenya, South Sudan, Tanzania, Uganda</td>\n",
       "      <td>France</td>\n",
       "      <td>1,329.0</td>\n",
       "      <td></td>\n",
       "      <td>1,329.0</td>\n",
       "      <td>P0531, P0538, P0541</td>\n",
       "      <td>5</td>\n",
       "    </tr>\n",
       "    <tr>\n",
       "      <th>Indian Oil Corporation</th>\n",
       "      <td>India</td>\n",
       "      <td>India</td>\n",
       "      <td>1,194.0</td>\n",
       "      <td></td>\n",
       "      <td>1,194.0</td>\n",
       "      <td>P3889</td>\n",
       "      <td>1</td>\n",
       "    </tr>\n",
       "    <tr>\n",
       "      <th>Rosneft</th>\n",
       "      <td>Greece, Türkiye, Bulgaria, Russia</td>\n",
       "      <td>Russia</td>\n",
       "      <td>1,190.0</td>\n",
       "      <td></td>\n",
       "      <td>1,190.0</td>\n",
       "      <td>P0667, P3675, P3676, P3677</td>\n",
       "      <td>6</td>\n",
       "    </tr>\n",
       "    <tr>\n",
       "      <th>Government of Zambia</th>\n",
       "      <td>Tanzania, Zambia</td>\n",
       "      <td>Zambia</td>\n",
       "      <td>1,140.6</td>\n",
       "      <td></td>\n",
       "      <td>1,140.6</td>\n",
       "      <td>P2481</td>\n",
       "      <td>2</td>\n",
       "    </tr>\n",
       "    <tr>\n",
       "      <th>YPF</th>\n",
       "      <td>Argentina</td>\n",
       "      <td>Argentina</td>\n",
       "      <td>894.2</td>\n",
       "      <td>150.0</td>\n",
       "      <td>1,044.2</td>\n",
       "      <td>P2034, P5446, P5447</td>\n",
       "      <td>3</td>\n",
       "    </tr>\n",
       "    <tr>\n",
       "      <th>Canada Development Investment Corporation</th>\n",
       "      <td>Canada</td>\n",
       "      <td>Canada</td>\n",
       "      <td></td>\n",
       "      <td>980.0</td>\n",
       "      <td>980.0</td>\n",
       "      <td>P0033</td>\n",
       "      <td>1</td>\n",
       "    </tr>\n",
       "    <tr>\n",
       "      <th>AMBO Pipeline Limited</th>\n",
       "      <td>Bulgaria, Albania, North Macedonia</td>\n",
       "      <td>United States</td>\n",
       "      <td>912.1</td>\n",
       "      <td></td>\n",
       "      <td>912.1</td>\n",
       "      <td>P0665</td>\n",
       "      <td>3</td>\n",
       "    </tr>\n",
       "    <tr>\n",
       "      <th>Tullow Oil</th>\n",
       "      <td>Kenya, South Sudan</td>\n",
       "      <td>United Kingdom</td>\n",
       "      <td>867.4</td>\n",
       "      <td></td>\n",
       "      <td>867.4</td>\n",
       "      <td>P0531, P0538</td>\n",
       "      <td>3</td>\n",
       "    </tr>\n",
       "    <tr>\n",
       "      <th>--</th>\n",
       "      <td>Syria, Iraq</td>\n",
       "      <td>Unknown</td>\n",
       "      <td>800.1</td>\n",
       "      <td></td>\n",
       "      <td>800.1</td>\n",
       "      <td>P5277</td>\n",
       "      <td>2</td>\n",
       "    </tr>\n",
       "    <tr>\n",
       "      <th>ConocoPhillips</th>\n",
       "      <td>United States</td>\n",
       "      <td>United States</td>\n",
       "      <td>700.9</td>\n",
       "      <td></td>\n",
       "      <td>700.9</td>\n",
       "      <td>P1293, P3668</td>\n",
       "      <td>2</td>\n",
       "    </tr>\n",
       "    <tr>\n",
       "      <th>Power Solution Technologies Plc</th>\n",
       "      <td>Thailand, Laos</td>\n",
       "      <td>Thailand</td>\n",
       "      <td>228.0</td>\n",
       "      <td>342.0</td>\n",
       "      <td>570.0</td>\n",
       "      <td>P1444, P2483</td>\n",
       "      <td>3</td>\n",
       "    </tr>\n",
       "    <tr>\n",
       "      <th>Government of Tanzania</th>\n",
       "      <td>Tanzania, Zambia</td>\n",
       "      <td>Tanzania</td>\n",
       "      <td>569.4</td>\n",
       "      <td></td>\n",
       "      <td>569.4</td>\n",
       "      <td>P2481</td>\n",
       "      <td>2</td>\n",
       "    </tr>\n",
       "    <tr>\n",
       "      <th>Blackstone Group</th>\n",
       "      <td>United States</td>\n",
       "      <td>United States</td>\n",
       "      <td>563.3</td>\n",
       "      <td></td>\n",
       "      <td>563.3</td>\n",
       "      <td>P0358</td>\n",
       "      <td>1</td>\n",
       "    </tr>\n",
       "    <tr>\n",
       "      <th>True Companies</th>\n",
       "      <td>United States</td>\n",
       "      <td>United States</td>\n",
       "      <td>563.3</td>\n",
       "      <td></td>\n",
       "      <td>563.3</td>\n",
       "      <td>P0358</td>\n",
       "      <td>1</td>\n",
       "    </tr>\n",
       "    <tr>\n",
       "      <th>Transneft</th>\n",
       "      <td>Greece, Türkiye, Bulgaria, Belarus, Russia</td>\n",
       "      <td>Russia</td>\n",
       "      <td>279.0</td>\n",
       "      <td>207.0</td>\n",
       "      <td>486.0</td>\n",
       "      <td>P0667, P3715, P5213</td>\n",
       "      <td>5</td>\n",
       "    </tr>\n",
       "    <tr>\n",
       "      <th>Bangladesh Petroleum Corporation</th>\n",
       "      <td>Bangladesh</td>\n",
       "      <td>Bangladesh</td>\n",
       "      <td></td>\n",
       "      <td>440.0</td>\n",
       "      <td>440.0</td>\n",
       "      <td>P0840, P0841</td>\n",
       "      <td>2</td>\n",
       "    </tr>\n",
       "  </tbody>\n",
       "</table>\n",
       "</div>"
      ],
      "text/plain": [
       "                                                           Pipeline Country Locations  \\\n",
       "Iran Ministry of Petroleum                                                       Iran   \n",
       "China National Petroleum Corporation                            Niger, Benin, Nigeria   \n",
       "Iraq Ministry of Oil                                                     Jordan, Iraq   \n",
       "Numaligarh Refinery Limited                                                     India   \n",
       "TotalEnergies SE                                 Kenya, South Sudan, Tanzania, Uganda   \n",
       "Indian Oil Corporation                                                          India   \n",
       "Rosneft                                             Greece, Türkiye, Bulgaria, Russia   \n",
       "Government of Zambia                                                 Tanzania, Zambia   \n",
       "YPF                                                                         Argentina   \n",
       "Canada Development Investment Corporation                                      Canada   \n",
       "AMBO Pipeline Limited                              Bulgaria, Albania, North Macedonia   \n",
       "Tullow Oil                                                         Kenya, South Sudan   \n",
       "    --                                                                    Syria, Iraq   \n",
       "ConocoPhillips                                                          United States   \n",
       "Power Solution Technologies Plc                                        Thailand, Laos   \n",
       "Government of Tanzania                                               Tanzania, Zambia   \n",
       "Blackstone Group                                                        United States   \n",
       "True Companies                                                          United States   \n",
       "Transneft                                  Greece, Türkiye, Bulgaria, Belarus, Russia   \n",
       "Bangladesh Petroleum Corporation                                           Bangladesh   \n",
       "\n",
       "                                          Owner Headquarters Country Proposed  \\\n",
       "Iran Ministry of Petroleum                                      Iran     57.0   \n",
       "China National Petroleum Corporation                           China            \n",
       "Iraq Ministry of Oil                                            Iraq  1,558.0   \n",
       "Numaligarh Refinery Limited                                    India            \n",
       "TotalEnergies SE                                              France  1,329.0   \n",
       "Indian Oil Corporation                                         India  1,194.0   \n",
       "Rosneft                                                       Russia  1,190.0   \n",
       "Government of Zambia                                          Zambia  1,140.6   \n",
       "YPF                                                        Argentina    894.2   \n",
       "Canada Development Investment Corporation                     Canada            \n",
       "AMBO Pipeline Limited                                  United States    912.1   \n",
       "Tullow Oil                                            United Kingdom    867.4   \n",
       "    --                                                       Unknown    800.1   \n",
       "ConocoPhillips                                         United States    700.9   \n",
       "Power Solution Technologies Plc                             Thailand    228.0   \n",
       "Government of Tanzania                                      Tanzania    569.4   \n",
       "Blackstone Group                                       United States    563.3   \n",
       "True Companies                                         United States    563.3   \n",
       "Transneft                                                     Russia    279.0   \n",
       "Bangladesh Petroleum Corporation                          Bangladesh            \n",
       "\n",
       "                                          Construction  \\\n",
       "Iran Ministry of Petroleum                     1,978.0   \n",
       "China National Petroleum Corporation           1,950.0   \n",
       "Iraq Ministry of Oil                             195.0   \n",
       "Numaligarh Refinery Limited                    1,630.0   \n",
       "TotalEnergies SE                                         \n",
       "Indian Oil Corporation                                   \n",
       "Rosneft                                                  \n",
       "Government of Zambia                                     \n",
       "YPF                                              150.0   \n",
       "Canada Development Investment Corporation        980.0   \n",
       "AMBO Pipeline Limited                                    \n",
       "Tullow Oil                                               \n",
       "    --                                                   \n",
       "ConocoPhillips                                           \n",
       "Power Solution Technologies Plc                  342.0   \n",
       "Government of Tanzania                                   \n",
       "Blackstone Group                                         \n",
       "True Companies                                           \n",
       "Transneft                                        207.0   \n",
       "Bangladesh Petroleum Corporation                 440.0   \n",
       "\n",
       "                                           In Development (Proposed + Construction)  \\\n",
       "Iran Ministry of Petroleum                                                  2,035.0   \n",
       "China National Petroleum Corporation                                        1,950.0   \n",
       "Iraq Ministry of Oil                                                        1,753.0   \n",
       "Numaligarh Refinery Limited                                                 1,630.0   \n",
       "TotalEnergies SE                                                            1,329.0   \n",
       "Indian Oil Corporation                                                      1,194.0   \n",
       "Rosneft                                                                     1,190.0   \n",
       "Government of Zambia                                                        1,140.6   \n",
       "YPF                                                                         1,044.2   \n",
       "Canada Development Investment Corporation                                     980.0   \n",
       "AMBO Pipeline Limited                                                         912.1   \n",
       "Tullow Oil                                                                    867.4   \n",
       "    --                                                                        800.1   \n",
       "ConocoPhillips                                                                700.9   \n",
       "Power Solution Technologies Plc                                               570.0   \n",
       "Government of Tanzania                                                        569.4   \n",
       "Blackstone Group                                                              563.3   \n",
       "True Companies                                                                563.3   \n",
       "Transneft                                                                     486.0   \n",
       "Bangladesh Petroleum Corporation                                              440.0   \n",
       "\n",
       "                                                                                                                   ProjectIDs  \\\n",
       "Iran Ministry of Petroleum                 P2221, P2222, P2226, P2229, P3848, P5287, P5335, P5357, P5358, P5370, P5372, P5373   \n",
       "China National Petroleum Corporation                                                                                    P1328   \n",
       "Iraq Ministry of Oil                                     P0544, P3879, P5240, P5245, P5259, P5260, P5261, P5284, P5285, P5291   \n",
       "Numaligarh Refinery Limited                                                                                             P3843   \n",
       "TotalEnergies SE                                                                                          P0531, P0538, P0541   \n",
       "Indian Oil Corporation                                                                                                  P3889   \n",
       "Rosneft                                                                                            P0667, P3675, P3676, P3677   \n",
       "Government of Zambia                                                                                                    P2481   \n",
       "YPF                                                                                                       P2034, P5446, P5447   \n",
       "Canada Development Investment Corporation                                                                               P0033   \n",
       "AMBO Pipeline Limited                                                                                                   P0665   \n",
       "Tullow Oil                                                                                                       P0531, P0538   \n",
       "    --                                                                                                                  P5277   \n",
       "ConocoPhillips                                                                                                   P1293, P3668   \n",
       "Power Solution Technologies Plc                                                                                  P1444, P2483   \n",
       "Government of Tanzania                                                                                                  P2481   \n",
       "Blackstone Group                                                                                                        P0358   \n",
       "True Companies                                                                                                          P0358   \n",
       "Transneft                                                                                                 P0667, P3715, P5213   \n",
       "Bangladesh Petroleum Corporation                                                                                 P0840, P0841   \n",
       "\n",
       "                                           Number of Projects  \n",
       "Iran Ministry of Petroleum                                 12  \n",
       "China National Petroleum Corporation                        3  \n",
       "Iraq Ministry of Oil                                       12  \n",
       "Numaligarh Refinery Limited                                 1  \n",
       "TotalEnergies SE                                            5  \n",
       "Indian Oil Corporation                                      1  \n",
       "Rosneft                                                     6  \n",
       "Government of Zambia                                        2  \n",
       "YPF                                                         3  \n",
       "Canada Development Investment Corporation                   1  \n",
       "AMBO Pipeline Limited                                       3  \n",
       "Tullow Oil                                                  3  \n",
       "    --                                                      2  \n",
       "ConocoPhillips                                              2  \n",
       "Power Solution Technologies Plc                             3  \n",
       "Government of Tanzania                                      2  \n",
       "Blackstone Group                                            1  \n",
       "True Companies                                              1  \n",
       "Transneft                                                   5  \n",
       "Bangladesh Petroleum Corporation                            2  "
      ]
     },
     "execution_count": 84,
     "metadata": {},
     "output_type": "execute_result"
    }
   ],
   "source": [
    "pandas.options.display.max_colwidth = 500\n",
    "\n",
    "country_agg_df = pandas.DataFrame(owner_parent_calculations_df.groupby(['Parent']).PipelineCountry.agg(lambda x: ', '.join(x.unique())))\n",
    "projectid_agg_df = pandas.DataFrame(owner_parent_calculations_df.groupby(['Parent']).ProjectID.agg(lambda x: ', '.join(x.unique())))\n",
    "parent_country_km_df_table['Pipeline Country Locations'] = country_agg_df.PipelineCountry\n",
    "parent_country_km_df_table['Number of Projects'] = owner_parent_calculations_df.groupby(['Parent']).ProjectID.count()\n",
    "parent_country_km_df_table['ProjectIDs'] = projectid_agg_df.ProjectID\n",
    "parent_country_km_df_table['Owner Headquarters Country'] = parent_country_km_df.drop_duplicates('Parent').set_index('Parent').ParentHQCountry\n",
    "parent_country_km_df_table['In Development (Proposed + Construction)'] = parent_country_km_df_table[['Proposed','Construction']].sum(axis=1, min_count=0)\n",
    "parent_country_km_df_table.loc[~parent_country_km_df_table.index.isin(['Not in database','Unknown'])].replace(numpy.nan, '').sort_values('In Development (Proposed + Construction)', ascending=False)[:20]"
   ]
  },
  {
   "cell_type": "markdown",
   "id": "8ce8efa2-8a00-4d90-8156-c9d40d316290",
   "metadata": {},
   "source": [
    "### how many of the projects for each owner do we have capacity data for? (add fraction)\n",
    "\n",
    "## emissions estimates"
   ]
  },
  {
   "cell_type": "code",
   "execution_count": 31,
   "id": "444f2dd9-336a-41aa-b288-15b8ea096f2a",
   "metadata": {
    "tags": []
   },
   "outputs": [],
   "source": [
    "# kuhne paper, for oil\n",
    "co2_rate = 152.789 # number is 152,789 tCO2/year emissions per kilobarrel per day, divide by 1000 to get per bpd (bpd=BOEd)"
   ]
  },
  {
   "cell_type": "raw",
   "id": "22c011c3-422b-4d41-8b7a-cf64d3402207",
   "metadata": {},
   "source": [
    "# calculate the number of CapacityBOEd entries, and which of those are NaNs\n",
    "# https://stackoverflow.com/questions/14529838/apply-multiple-functions-to-multiple-groupby-columns\n",
    "pandas.set_option('display.max_colwidth', None)\n",
    "result = owner_parent_calculations_df.loc[\n",
    "    owner_parent_calculations_df.Status.isin(['Proposed','Construction'])].groupby(\n",
    "    ['Parent','Country'])[['KmOwnership','CapacityBOEd','ProjectID']].agg({'KmOwnership':lambda x: x.sum(min_count=1),\n",
    "                                                                           'CapacityBOEd':[lambda x: x.sum(min_count=1),\n",
    "                                                                                           lambda x: x.dropna().count()],\n",
    "                                                                           'ProjectID':[lambda x: list(x.unique()).__len__(),\n",
    "                                                                                        lambda x: list(x.unique()),\n",
    "                                                                                        lambda x: [pipes_df_orig.loc[pipes_df_orig.ProjectID==i]['PipelineName'] for i in x]\n",
    "                                                                                                  ]})\n",
    "\n",
    "result['HowManyProjectsHaveCapacityData'] = result[('CapacityBOEd','<lambda_1>')].astype(str) + ' of ' + result[('ProjectID','<lambda_0>')].astype(str)\n",
    "result[['KmOwnership','CapacityBOEd','HowManyProjectsHaveCapacityData']].sort_values(('KmOwnership','<lambda>'), ascending=False)[:20]\n",
    "result['EmissionsMtCO2PerYear'] = result[('CapacityBOEd','<lambda_0>')]*co2_rate/1e6"
   ]
  },
  {
   "cell_type": "raw",
   "id": "70a2debd-8aeb-4d0e-b2ff-d34fb648567f",
   "metadata": {},
   "source": [
    "result[[('KmOwnership','<lambda>'),\n",
    "        ('CapacityBOEd','<lambda_0>'),\n",
    "        ('EmissionsMtCO2PerYear',''),\n",
    "        ('HowManyProjectsHaveCapacityData',''),\n",
    "        ('ProjectID','<lambda_1>'),\n",
    "        ('ProjectID','<lambda_2>')]].sort_values(('KmOwnership','<lambda>'), ascending=False)[:20]"
   ]
  },
  {
   "cell_type": "markdown",
   "id": "a340a615-35b1-4a74-b9b6-67d6802de572",
   "metadata": {},
   "source": [
    "### total emissions globally (known capacity is at about 67%)"
   ]
  },
  {
   "cell_type": "raw",
   "id": "9e022ac6-6a1c-4e10-9f5a-85c7c8af87f1",
   "metadata": {},
   "source": [
    "pipes_df_subset = pipes_df_orig.loc[(pipes_df_orig.Status.isin(['Construction','Proposed']))&\n",
    "                                     (pipes_df_orig.Fuel=='oil')]\n",
    "print(pipes_df_subset['CapacityBcm/y'].dropna().size / pipes_df_subset['CapacityBcm/y'].size)\n",
    "pipes_df_subset['CapacityBOEd'].sum() * co2_rate / 1e6"
   ]
  },
  {
   "cell_type": "raw",
   "id": "ee994d09-b16f-4101-9d08-5110e0268c9f",
   "metadata": {},
   "source": [
    "pipes_df_subset = pipes_df_orig.loc[(pipes_df_orig.Status.isin(['Proposed']))&\n",
    "                                     (pipes_df_orig.Fuel=='oil')]\n",
    "print(pipes_df_subset['CapacityBcm/y'].dropna().size / pipes_df_subset['CapacityBcm/y'].size)\n",
    "pipes_df_subset['CapacityBOEd'].sum() * co2_rate / 1e6"
   ]
  },
  {
   "cell_type": "raw",
   "id": "9df6347b-ec51-4a28-930b-9924bc916417",
   "metadata": {},
   "source": [
    "pipes_df_subset = pipes_df_orig.loc[(pipes_df_orig.Status.isin(['Construction']))&\n",
    "                                     (pipes_df_orig.Fuel=='oil')]\n",
    "print(pipes_df_subset['CapacityBcm/y'].dropna().size / pipes_df_subset['CapacityBcm/y'].size)\n",
    "pipes_df_subset['CapacityBOEd'].sum() * co2_rate / 1e6"
   ]
  },
  {
   "cell_type": "markdown",
   "id": "41f4171b-3170-4bbf-b3d8-19a53722d1b0",
   "metadata": {},
   "source": [
    "### count fraction of available capacity information\n",
    "\n",
    "count"
   ]
  },
  {
   "cell_type": "code",
   "execution_count": 32,
   "id": "a3406975-838c-4af0-80fa-bce2ab42718e",
   "metadata": {
    "tags": []
   },
   "outputs": [
    {
     "data": {
      "text/plain": [
       "StartRegion\n",
       "East Asia                          18\n",
       "Eurasia                             2\n",
       "Europe                              8\n",
       "Latin America and the Caribbean     2\n",
       "Middle East and North Africa       18\n",
       "North America                      21\n",
       "SE Asia                             2\n",
       "South Asia                          2\n",
       "Sub-Saharan Africa                  6\n",
       "Name: CapacityBOEd, dtype: int64"
      ]
     },
     "execution_count": 32,
     "metadata": {},
     "output_type": "execute_result"
    }
   ],
   "source": [
    "pipes_df_subset = pipes_df_orig.loc[(pipes_df_orig.Status.isin(['Construction','Proposed']))&\n",
    "                                     (pipes_df_orig.Fuel=='Oil')]\n",
    "pipes_df_subset.loc[~pipes_df_subset['CapacityBcm/y'].isna()].groupby('StartRegion')['CapacityBOEd'].size()\n",
    "#pipes_df_subset.groupby('StartRegion')['CapacityBcm/y'].size()"
   ]
  },
  {
   "cell_type": "markdown",
   "id": "a09616ff-3225-4c93-9ce9-b38cb04a5612",
   "metadata": {},
   "source": [
    "fraction"
   ]
  },
  {
   "cell_type": "code",
   "execution_count": 33,
   "id": "2b464411-7db6-4575-ae23-a6d2c49f635d",
   "metadata": {
    "tags": []
   },
   "outputs": [
    {
     "data": {
      "text/html": [
       "<div>\n",
       "<style scoped>\n",
       "    .dataframe tbody tr th:only-of-type {\n",
       "        vertical-align: middle;\n",
       "    }\n",
       "\n",
       "    .dataframe tbody tr th {\n",
       "        vertical-align: top;\n",
       "    }\n",
       "\n",
       "    .dataframe thead th {\n",
       "        text-align: right;\n",
       "    }\n",
       "</style>\n",
       "<table border=\"1\" class=\"dataframe\">\n",
       "  <thead>\n",
       "    <tr style=\"text-align: right;\">\n",
       "      <th></th>\n",
       "      <th>0</th>\n",
       "    </tr>\n",
       "    <tr>\n",
       "      <th>StartRegion</th>\n",
       "      <th></th>\n",
       "    </tr>\n",
       "  </thead>\n",
       "  <tbody>\n",
       "    <tr>\n",
       "      <th>SE Asia</th>\n",
       "      <td>1.000</td>\n",
       "    </tr>\n",
       "    <tr>\n",
       "      <th>Sub-Saharan Africa</th>\n",
       "      <td>1.000</td>\n",
       "    </tr>\n",
       "    <tr>\n",
       "      <th>North America</th>\n",
       "      <td>0.808</td>\n",
       "    </tr>\n",
       "    <tr>\n",
       "      <th>Europe</th>\n",
       "      <td>0.800</td>\n",
       "    </tr>\n",
       "    <tr>\n",
       "      <th>Latin America and the Caribbean</th>\n",
       "      <td>0.667</td>\n",
       "    </tr>\n",
       "    <tr>\n",
       "      <th>East Asia</th>\n",
       "      <td>0.643</td>\n",
       "    </tr>\n",
       "    <tr>\n",
       "      <th>Middle East and North Africa</th>\n",
       "      <td>0.600</td>\n",
       "    </tr>\n",
       "    <tr>\n",
       "      <th>South Asia</th>\n",
       "      <td>0.400</td>\n",
       "    </tr>\n",
       "    <tr>\n",
       "      <th>Eurasia</th>\n",
       "      <td>0.222</td>\n",
       "    </tr>\n",
       "  </tbody>\n",
       "</table>\n",
       "</div>"
      ],
      "text/plain": [
       "                                    0\n",
       "StartRegion                          \n",
       "SE Asia                         1.000\n",
       "Sub-Saharan Africa              1.000\n",
       "North America                   0.808\n",
       "Europe                          0.800\n",
       "Latin America and the Caribbean 0.667\n",
       "East Asia                       0.643\n",
       "Middle East and North Africa    0.600\n",
       "South Asia                      0.400\n",
       "Eurasia                         0.222"
      ]
     },
     "execution_count": 33,
     "metadata": {},
     "output_type": "execute_result"
    }
   ],
   "source": [
    "pandas.options.display.float_format = '{:,.3f}'.format\n",
    "pandas.DataFrame(pipes_df_subset.loc[\n",
    "    ~pipes_df_subset['CapacityBcm/y'].isna()].groupby(\n",
    "    'StartRegion')['CapacityBcm/y'].size()/pipes_df_subset.groupby(\n",
    "    'StartRegion')['CapacityBOEd'].size()).sort_values(by=0, ascending=False)"
   ]
  },
  {
   "cell_type": "code",
   "execution_count": 34,
   "id": "9f9ba63d-9317-40dd-b820-c7505a4b7150",
   "metadata": {
    "tags": []
   },
   "outputs": [],
   "source": [
    "median_capacity = pipes_df_orig.loc[pipes_df_orig.Fuel=='Oil']['CapacityBcm/y'].median()"
   ]
  },
  {
   "cell_type": "code",
   "execution_count": 35,
   "id": "0e61fd80-1863-4ba9-ac45-a761cc99a55c",
   "metadata": {
    "tags": []
   },
   "outputs": [],
   "source": [
    "abs_dist_from_med_capacity = abs(pipes_df_orig.loc[pipes_df_orig.Fuel=='Oil']['CapacityBcm/y']-\n",
    "                                 pipes_df_orig.loc[pipes_df_orig.Fuel=='Oil']['CapacityBcm/y'].median()).median()"
   ]
  },
  {
   "cell_type": "code",
   "execution_count": 36,
   "id": "14cce16f-8d3e-4e63-ae7a-edf55d21b921",
   "metadata": {
    "tags": []
   },
   "outputs": [
    {
     "data": {
      "text/plain": [
       "275.13983333333334"
      ]
     },
     "execution_count": 36,
     "metadata": {},
     "output_type": "execute_result"
    }
   ],
   "source": [
    "pipes_df_orig['CapacityBcm/y'].mean()"
   ]
  },
  {
   "cell_type": "code",
   "execution_count": 37,
   "id": "61dc2bcc-bf3f-414c-bc06-bb824d49d1e5",
   "metadata": {
    "tags": []
   },
   "outputs": [
    {
     "data": {
      "text/plain": [
       "661.9561514922354"
      ]
     },
     "execution_count": 37,
     "metadata": {},
     "output_type": "execute_result"
    }
   ],
   "source": [
    "pipes_df_orig['CapacityBcm/y'].std()"
   ]
  },
  {
   "cell_type": "code",
   "execution_count": 38,
   "id": "c054d9ed-986a-432f-a234-826e2438144b",
   "metadata": {
    "tags": []
   },
   "outputs": [
    {
     "name": "stdout",
     "output_type": "stream",
     "text": [
      "475.26\n",
      "316.84000000000003\n"
     ]
    }
   ],
   "source": [
    "print(median_capacity)\n",
    "print(abs_dist_from_med_capacity)"
   ]
  },
  {
   "cell_type": "markdown",
   "id": "8481ce32-c7f6-47fd-893e-4db28fbda279",
   "metadata": {},
   "source": [
    "median capacity for a pipeline is about 4.14 bcm/y\n",
    "\n",
    "median abs dist from the median is about 3.5."
   ]
  },
  {
   "cell_type": "markdown",
   "id": "fb98d85a",
   "metadata": {},
   "source": [
    "# cost estimates (pipeline cost per km)\n",
    "\n",
    "throwing out any estimates larger than USD 10 million per km for taking regional estimates"
   ]
  },
  {
   "cell_type": "markdown",
   "id": "8ad09bea-d8c7-4cbc-a846-6931ac1a70bd",
   "metadata": {},
   "source": [
    "## pick out high and low quantiles"
   ]
  },
  {
   "cell_type": "code",
   "execution_count": 39,
   "id": "4195775c-c0b6-4916-ba98-0eec3b173bfd",
   "metadata": {
    "tags": []
   },
   "outputs": [
    {
     "name": "stdout",
     "output_type": "stream",
     "text": [
      "67935.41416150001\n",
      "16097583.484999996\n"
     ]
    }
   ],
   "source": [
    "temp_df = pipes_df_orig.loc[(~pipes_df_orig.CostUSDPerKm.isnull())&\n",
    "                            (pipes_df_orig.Fuel=='Oil')]\n",
    "qlo_val = 0.025\n",
    "qhi_val = 0.975\n",
    "\n",
    "q_lo=temp_df['CostUSDPerKm'].quantile(qlo_val)\n",
    "q_hi=temp_df['CostUSDPerKm'].quantile(qhi_val)\n",
    "print(temp_df['CostUSDPerKm'].quantile(qlo_val))\n",
    "print(temp_df['CostUSDPerKm'].quantile(qhi_val))\n",
    "\n",
    "temp_df = temp_df.loc[temp_df['CostUSDPerKm'].between(q_lo, q_hi, inclusive='neither')]"
   ]
  },
  {
   "cell_type": "code",
   "execution_count": 40,
   "id": "e83b508d-5fed-4b45-8cdf-d6ebb7850d58",
   "metadata": {
    "tags": []
   },
   "outputs": [],
   "source": [
    "# pull out only pipelines that have a KNOWN length AND a cost\n",
    "country_ratios_with_length_and_cost_df = country_ratios_df.loc[(country_ratios_df['Fuel']=='Oil') & \n",
    "                                                               (country_ratios_df['CostUSDPerKm'].notna()) & \n",
    "                                                               (country_ratios_df['LengthKnownKmByCountry'].notna()) #&\n",
    "                                                               #(country_ratios_df['LengthKnownKm']!=0) &\n",
    "                                                               #(country_ratios_df['CostUSDPerKm']<10e6)\n",
    "                                                              ]\n",
    "\n",
    "country_ratios_with_length_and_cost_df = country_ratios_with_length_and_cost_df.loc[\n",
    "    country_ratios_with_length_and_cost_df['CostUSDPerKm'].between(q_lo, q_hi, inclusive='neither')]\n",
    "#country_ratios_with_length_and_cost_df = country_ratios_with_length_and_cost_df[~country_ratios_with_length_and_cost_df.ProjectID.isin(outliers_projectids)]"
   ]
  },
  {
   "cell_type": "markdown",
   "id": "a60996ff-c763-46a6-8576-cffa78c2fcbb",
   "metadata": {},
   "source": [
    "### global mean value"
   ]
  },
  {
   "cell_type": "code",
   "execution_count": 41,
   "id": "cf567357-e85c-4afc-b618-e35a0feef254",
   "metadata": {
    "tags": []
   },
   "outputs": [
    {
     "data": {
      "text/plain": [
       "2742488.285809524"
      ]
     },
     "execution_count": 41,
     "metadata": {},
     "output_type": "execute_result"
    }
   ],
   "source": [
    "country_ratios_with_length_and_cost_df['CostUSDPerKm'].drop_duplicates().mean()"
   ]
  },
  {
   "cell_type": "markdown",
   "id": "9754a8d9-5d70-448d-a6ae-75efcd2a6054",
   "metadata": {},
   "source": [
    "### calculate regional costs"
   ]
  },
  {
   "cell_type": "code",
   "execution_count": 42,
   "id": "187bd845-39f3-4c5a-8618-723262516a27",
   "metadata": {
    "tags": []
   },
   "outputs": [
    {
     "name": "stdout",
     "output_type": "stream",
     "text": [
      "Australia and New Zealand\n",
      "East Asia\n",
      "Eurasia\n",
      "Europe\n",
      "Latin America and the Caribbean\n",
      "Middle East and North Africa\n",
      "North America\n",
      "SE Asia\n",
      "South Asia\n",
      "Sub-Saharan Africa\n"
     ]
    }
   ],
   "source": [
    "pipes_oil_costs_region_df = pandas.DataFrame(0, index=region_list, columns=['CostUSDPerKm','DataPoints'])#,'NumberOfLengths'])\n",
    "\n",
    "for region in region_list:\n",
    "    print(region)\n",
    "    country_ratios_region_df = country_ratios_with_length_and_cost_df.loc[country_ratios_with_length_and_cost_df['Region']==region,:]\n",
    "    pipes_oil_costs_region_df.loc[region,'CostUSDPerKm'] = country_ratios_region_df['CostUSDPerKm'].mean()\n",
    "    pipes_oil_costs_region_df.loc[region,'DataPoints'] = list(set(country_ratios_region_df['ProjectID'])).__len__()\n"
   ]
  },
  {
   "cell_type": "code",
   "execution_count": 43,
   "id": "8f569977-8814-43da-bc18-3b665f94ad33",
   "metadata": {
    "tags": []
   },
   "outputs": [
    {
     "data": {
      "text/plain": [
       "4534482.848888889"
      ]
     },
     "execution_count": 43,
     "metadata": {},
     "output_type": "execute_result"
    }
   ],
   "source": [
    "country_ratios_region_df['CostUSDPerKm'].mean()"
   ]
  },
  {
   "cell_type": "code",
   "execution_count": 44,
   "id": "e0b2972c-da89-4cf6-b832-5dace38cf651",
   "metadata": {
    "tags": []
   },
   "outputs": [
    {
     "data": {
      "text/html": [
       "<div>\n",
       "<style scoped>\n",
       "    .dataframe tbody tr th:only-of-type {\n",
       "        vertical-align: middle;\n",
       "    }\n",
       "\n",
       "    .dataframe tbody tr th {\n",
       "        vertical-align: top;\n",
       "    }\n",
       "\n",
       "    .dataframe thead th {\n",
       "        text-align: right;\n",
       "    }\n",
       "</style>\n",
       "<table border=\"1\" class=\"dataframe\">\n",
       "  <thead>\n",
       "    <tr style=\"text-align: right;\">\n",
       "      <th></th>\n",
       "      <th>CostUSDPerKm</th>\n",
       "      <th>DataPoints</th>\n",
       "    </tr>\n",
       "  </thead>\n",
       "  <tbody>\n",
       "    <tr>\n",
       "      <th>Sub-Saharan Africa</th>\n",
       "      <td>4.534</td>\n",
       "      <td>4</td>\n",
       "    </tr>\n",
       "    <tr>\n",
       "      <th>East Asia</th>\n",
       "      <td>3.570</td>\n",
       "      <td>19</td>\n",
       "    </tr>\n",
       "    <tr>\n",
       "      <th>North America</th>\n",
       "      <td>3.204</td>\n",
       "      <td>31</td>\n",
       "    </tr>\n",
       "    <tr>\n",
       "      <th>Middle East and North Africa</th>\n",
       "      <td>3.098</td>\n",
       "      <td>22</td>\n",
       "    </tr>\n",
       "    <tr>\n",
       "      <th>South Asia</th>\n",
       "      <td>2.431</td>\n",
       "      <td>3</td>\n",
       "    </tr>\n",
       "    <tr>\n",
       "      <th>Europe</th>\n",
       "      <td>2.353</td>\n",
       "      <td>9</td>\n",
       "    </tr>\n",
       "    <tr>\n",
       "      <th>Eurasia</th>\n",
       "      <td>2.071</td>\n",
       "      <td>8</td>\n",
       "    </tr>\n",
       "    <tr>\n",
       "      <th>Latin America and the Caribbean</th>\n",
       "      <td>1.597</td>\n",
       "      <td>8</td>\n",
       "    </tr>\n",
       "    <tr>\n",
       "      <th>Australia and New Zealand</th>\n",
       "      <td>1.214</td>\n",
       "      <td>6</td>\n",
       "    </tr>\n",
       "    <tr>\n",
       "      <th>SE Asia</th>\n",
       "      <td>0.939</td>\n",
       "      <td>6</td>\n",
       "    </tr>\n",
       "  </tbody>\n",
       "</table>\n",
       "</div>"
      ],
      "text/plain": [
       "                                 CostUSDPerKm  DataPoints\n",
       "Sub-Saharan Africa                      4.534           4\n",
       "East Asia                               3.570          19\n",
       "North America                           3.204          31\n",
       "Middle East and North Africa            3.098          22\n",
       "South Asia                              2.431           3\n",
       "Europe                                  2.353           9\n",
       "Eurasia                                 2.071           8\n",
       "Latin America and the Caribbean         1.597           8\n",
       "Australia and New Zealand               1.214           6\n",
       "SE Asia                                 0.939           6"
      ]
     },
     "execution_count": 44,
     "metadata": {},
     "output_type": "execute_result"
    }
   ],
   "source": [
    "pandas.options.display.float_format = '{:,.3f}'.format\n",
    "temp_df = pipes_oil_costs_region_df.copy()\n",
    "temp_df['CostUSDPerKm'] = temp_df['CostUSDPerKm']/1e6\n",
    "temp_df.sort_values('CostUSDPerKm', ascending=False)#.loc[region]['CostUSDPerKm']"
   ]
  },
  {
   "cell_type": "markdown",
   "id": "22cb04dc-3e08-43ec-8efd-51387768d17f",
   "metadata": {},
   "source": [
    "### calculate country-level costs"
   ]
  },
  {
   "cell_type": "raw",
   "id": "f6d4b936-1617-4196-b270-4754f4f75147",
   "metadata": {},
   "source": [
    "#country_list_for_costs = sorted(list(set(country_ratios_with_length_and_cost_df['Country'])))\n",
    "pipes_oil_costs_country_df = pandas.DataFrame(0, index=country_list, columns=['CostUSDPerKm','NumberOfCosts','NumberOfLengths'])\n",
    "\n",
    "for country in country_list:#_for_costs:\n",
    "    #print(country)\n",
    "    country_ratios_country_df = country_ratios_with_length_and_cost_df[country_ratios_with_length_and_cost_df['Country']==country]\n",
    "    pipes_oil_costs_country_df.loc[country,'CostUSDPerKm'] = country_ratios_country_df['CostUSDPerKm'].mean()\n",
    "    pipes_oil_costs_country_df.loc[country,'NumberOfCosts'] = list(set(country_ratios_country_df['ProjectID'])).__len__()\n",
    "    pipes_oil_costs_country_df.loc[country,'NumberOfLengths'] = list(set(country_ratios_country_df['ProjectID'])).__len__()"
   ]
  },
  {
   "cell_type": "raw",
   "id": "f3ef70dd-626f-4bd8-8d61-feb899599542",
   "metadata": {},
   "source": [
    "pipes_df_orig.loc[(pipes_df_orig.Fuel=='oil')&\n",
    "                  (pipes_df_orig.Status.isin(['Construction','Proposed']))&\n",
    "                  (pipes_df_orig.Route!='Capacity expansion only')].count()"
   ]
  },
  {
   "cell_type": "raw",
   "id": "3c5df307-f226-4ba5-b2a3-be847f857787",
   "metadata": {},
   "source": [
    "pipes_df_orig.loc[(pipes_df_orig.Fuel=='oil')&\n",
    "                  (pipes_df_orig.Status.isin(['Construction','Proposed']))&\n",
    "                  (pipes_df_orig.Route=='Capacity expansion only')]['CapacityBOEd'].sum()"
   ]
  },
  {
   "cell_type": "markdown",
   "id": "a99048f2-e80e-41a0-be0a-b40942963375",
   "metadata": {},
   "source": [
    "# tables etc."
   ]
  },
  {
   "cell_type": "markdown",
   "id": "f5242bbf-f1a7-4e90-9e91-90fbdb5bca2f",
   "metadata": {},
   "source": [
    "## table for regional totals"
   ]
  },
  {
   "cell_type": "code",
   "execution_count": 45,
   "id": "f804568d-5a95-490f-8245-d87042a15fee",
   "metadata": {
    "tags": []
   },
   "outputs": [
    {
     "name": "stderr",
     "output_type": "stream",
     "text": [
      "/var/folders/fl/t07mc8053p33mn6mdmvp45580000gn/T/ipykernel_76998/997741405.py:10: FutureWarning: The frame.append method is deprecated and will be removed from pandas in a future version. Use pandas.concat instead.\n",
      "  km_by_region_df = km_by_region_df.append(total)\n"
     ]
    },
    {
     "data": {
      "text/html": [
       "<div>\n",
       "<style scoped>\n",
       "    .dataframe tbody tr th:only-of-type {\n",
       "        vertical-align: middle;\n",
       "    }\n",
       "\n",
       "    .dataframe tbody tr th {\n",
       "        vertical-align: top;\n",
       "    }\n",
       "\n",
       "    .dataframe thead th {\n",
       "        text-align: right;\n",
       "    }\n",
       "</style>\n",
       "<table border=\"1\" class=\"dataframe\">\n",
       "  <thead>\n",
       "    <tr style=\"text-align: right;\">\n",
       "      <th></th>\n",
       "      <th>Proposed</th>\n",
       "      <th>Construction</th>\n",
       "      <th>Proposed+Construction</th>\n",
       "      <th>Shelved</th>\n",
       "      <th>Cancelled</th>\n",
       "      <th>Operating</th>\n",
       "      <th>Idle</th>\n",
       "      <th>Mothballed</th>\n",
       "      <th>Retired</th>\n",
       "    </tr>\n",
       "  </thead>\n",
       "  <tbody>\n",
       "    <tr>\n",
       "      <th>Sub-Saharan Africa</th>\n",
       "      <td>6,288.750</td>\n",
       "      <td>1,950.000</td>\n",
       "      <td>8,238.750</td>\n",
       "      <td>986.170</td>\n",
       "      <td>2,100.000</td>\n",
       "      <td>8,932.050</td>\n",
       "      <td>0.000</td>\n",
       "      <td>0.000</td>\n",
       "      <td>0.000</td>\n",
       "    </tr>\n",
       "    <tr>\n",
       "      <th>Middle East and North Africa</th>\n",
       "      <td>4,523.740</td>\n",
       "      <td>2,493.000</td>\n",
       "      <td>7,016.740</td>\n",
       "      <td>1,544.660</td>\n",
       "      <td>6,082.170</td>\n",
       "      <td>33,979.620</td>\n",
       "      <td>0.000</td>\n",
       "      <td>3,208.330</td>\n",
       "      <td>1,785.540</td>\n",
       "    </tr>\n",
       "    <tr>\n",
       "      <th>North America</th>\n",
       "      <td>2,705.360</td>\n",
       "      <td>1,258.700</td>\n",
       "      <td>3,964.060</td>\n",
       "      <td>8,264.230</td>\n",
       "      <td>31,342.880</td>\n",
       "      <td>113,461.790</td>\n",
       "      <td>0.000</td>\n",
       "      <td>0.000</td>\n",
       "      <td>6,453.810</td>\n",
       "    </tr>\n",
       "    <tr>\n",
       "      <th>South Asia</th>\n",
       "      <td>1,206.470</td>\n",
       "      <td>2,070.000</td>\n",
       "      <td>3,276.470</td>\n",
       "      <td>0.000</td>\n",
       "      <td>1,691.000</td>\n",
       "      <td>10,186.960</td>\n",
       "      <td>0.000</td>\n",
       "      <td>0.000</td>\n",
       "      <td>0.000</td>\n",
       "    </tr>\n",
       "    <tr>\n",
       "      <th>Europe</th>\n",
       "      <td>2,719.040</td>\n",
       "      <td>207.000</td>\n",
       "      <td>2,926.040</td>\n",
       "      <td>0.000</td>\n",
       "      <td>7,042.340</td>\n",
       "      <td>30,364.100</td>\n",
       "      <td>1,474.690</td>\n",
       "      <td>815.700</td>\n",
       "      <td>0.000</td>\n",
       "    </tr>\n",
       "    <tr>\n",
       "      <th>East Asia</th>\n",
       "      <td>1,538.700</td>\n",
       "      <td>440.000</td>\n",
       "      <td>1,978.700</td>\n",
       "      <td>0.000</td>\n",
       "      <td>8,480.640</td>\n",
       "      <td>28,661.020</td>\n",
       "      <td>46.350</td>\n",
       "      <td>0.000</td>\n",
       "      <td>7,365.150</td>\n",
       "    </tr>\n",
       "    <tr>\n",
       "      <th>Eurasia</th>\n",
       "      <td>1,494.200</td>\n",
       "      <td>220.180</td>\n",
       "      <td>1,714.380</td>\n",
       "      <td>95.000</td>\n",
       "      <td>2,692.120</td>\n",
       "      <td>56,159.080</td>\n",
       "      <td>837.000</td>\n",
       "      <td>1,625.490</td>\n",
       "      <td>1,401.900</td>\n",
       "    </tr>\n",
       "    <tr>\n",
       "      <th>Latin America and the Caribbean</th>\n",
       "      <td>1,225.000</td>\n",
       "      <td>150.000</td>\n",
       "      <td>1,375.000</td>\n",
       "      <td>55.000</td>\n",
       "      <td>3,937.830</td>\n",
       "      <td>20,460.130</td>\n",
       "      <td>0.000</td>\n",
       "      <td>425.000</td>\n",
       "      <td>0.000</td>\n",
       "    </tr>\n",
       "    <tr>\n",
       "      <th>SE Asia</th>\n",
       "      <td>228.020</td>\n",
       "      <td>342.000</td>\n",
       "      <td>570.020</td>\n",
       "      <td>0.000</td>\n",
       "      <td>306.000</td>\n",
       "      <td>2,526.270</td>\n",
       "      <td>0.000</td>\n",
       "      <td>0.000</td>\n",
       "      <td>0.000</td>\n",
       "    </tr>\n",
       "    <tr>\n",
       "      <th>Australia and New Zealand</th>\n",
       "      <td>0.000</td>\n",
       "      <td>0.000</td>\n",
       "      <td>0.000</td>\n",
       "      <td>0.000</td>\n",
       "      <td>0.000</td>\n",
       "      <td>1,848.870</td>\n",
       "      <td>0.000</td>\n",
       "      <td>0.000</td>\n",
       "      <td>187.000</td>\n",
       "    </tr>\n",
       "    <tr>\n",
       "      <th>Total</th>\n",
       "      <td>21,929.280</td>\n",
       "      <td>9,130.880</td>\n",
       "      <td>31,060.160</td>\n",
       "      <td>10,945.060</td>\n",
       "      <td>63,674.980</td>\n",
       "      <td>306,579.890</td>\n",
       "      <td>2,358.040</td>\n",
       "      <td>6,074.520</td>\n",
       "      <td>17,193.400</td>\n",
       "    </tr>\n",
       "  </tbody>\n",
       "</table>\n",
       "</div>"
      ],
      "text/plain": [
       "                                  Proposed  Construction  \\\n",
       "Sub-Saharan Africa               6,288.750     1,950.000   \n",
       "Middle East and North Africa     4,523.740     2,493.000   \n",
       "North America                    2,705.360     1,258.700   \n",
       "South Asia                       1,206.470     2,070.000   \n",
       "Europe                           2,719.040       207.000   \n",
       "East Asia                        1,538.700       440.000   \n",
       "Eurasia                          1,494.200       220.180   \n",
       "Latin America and the Caribbean  1,225.000       150.000   \n",
       "SE Asia                            228.020       342.000   \n",
       "Australia and New Zealand            0.000         0.000   \n",
       "Total                           21,929.280     9,130.880   \n",
       "\n",
       "                                 Proposed+Construction    Shelved  Cancelled  \\\n",
       "Sub-Saharan Africa                           8,238.750    986.170  2,100.000   \n",
       "Middle East and North Africa                 7,016.740  1,544.660  6,082.170   \n",
       "North America                                3,964.060  8,264.230 31,342.880   \n",
       "South Asia                                   3,276.470      0.000  1,691.000   \n",
       "Europe                                       2,926.040      0.000  7,042.340   \n",
       "East Asia                                    1,978.700      0.000  8,480.640   \n",
       "Eurasia                                      1,714.380     95.000  2,692.120   \n",
       "Latin America and the Caribbean              1,375.000     55.000  3,937.830   \n",
       "SE Asia                                        570.020      0.000    306.000   \n",
       "Australia and New Zealand                        0.000      0.000      0.000   \n",
       "Total                                       31,060.160 10,945.060 63,674.980   \n",
       "\n",
       "                                  Operating      Idle  Mothballed    Retired  \n",
       "Sub-Saharan Africa                8,932.050     0.000       0.000      0.000  \n",
       "Middle East and North Africa     33,979.620     0.000   3,208.330  1,785.540  \n",
       "North America                   113,461.790     0.000       0.000  6,453.810  \n",
       "South Asia                       10,186.960     0.000       0.000      0.000  \n",
       "Europe                           30,364.100 1,474.690     815.700      0.000  \n",
       "East Asia                        28,661.020    46.350       0.000  7,365.150  \n",
       "Eurasia                          56,159.080   837.000   1,625.490  1,401.900  \n",
       "Latin America and the Caribbean  20,460.130     0.000     425.000      0.000  \n",
       "SE Asia                           2,526.270     0.000       0.000      0.000  \n",
       "Australia and New Zealand         1,848.870     0.000       0.000    187.000  \n",
       "Total                           306,579.890 2,358.040   6,074.520 17,193.400  "
      ]
     },
     "execution_count": 45,
     "metadata": {},
     "output_type": "execute_result"
    }
   ],
   "source": [
    "if 'Total' in km_by_region_df.index:\n",
    "    km_by_region_df.drop(index='Total', inplace=True)   \n",
    "    total = km_by_region_df.sum(axis=0)\n",
    "    total.name='Total'\n",
    "    km_by_region_df = km_by_region_df.append(total)\n",
    "\n",
    "else:\n",
    "    total = km_by_region_df.sum(axis=0)\n",
    "    total.name='Total'\n",
    "    km_by_region_df = km_by_region_df.append(total)\n",
    "\n",
    "km_by_region_df"
   ]
  },
  {
   "cell_type": "markdown",
   "id": "79570a43-7f2f-44cb-8a79-6029e80d0c65",
   "metadata": {},
   "source": [
    "## table for km by country"
   ]
  },
  {
   "cell_type": "code",
   "execution_count": 46,
   "id": "b42d6a47-d1a5-4a4b-acf8-7ec5f0fcc36e",
   "metadata": {
    "tags": []
   },
   "outputs": [
    {
     "name": "stderr",
     "output_type": "stream",
     "text": [
      "/var/folders/fl/t07mc8053p33mn6mdmvp45580000gn/T/ipykernel_76998/1092591467.py:14: FutureWarning: The frame.append method is deprecated and will be removed from pandas in a future version. Use pandas.concat instead.\n",
      "  km_by_country_df = km_by_country_df.append(total)\n"
     ]
    }
   ],
   "source": [
    "# saves all countries to an Excel file for reference\n",
    "\n",
    "km_by_country_df.sort_values('Proposed+Construction', ascending=False)\n",
    "\n",
    "if 'Total' in km_by_country_df.index:\n",
    "    km_by_country_df.drop(index='Total', inplace=True)   \n",
    "    total = km_by_country_df.sum(axis=0)\n",
    "    total.name='Total'\n",
    "    km_by_country_df = km_by_country_df.append(total)\n",
    "\n",
    "else:\n",
    "    total = km_by_country_df.sum(axis=0)\n",
    "    total.name='Total'\n",
    "    km_by_country_df = km_by_country_df.append(total)\n",
    "\n",
    "km_by_country_df.to_excel('saved-tables/oil-pipelines-km-by-country.xlsx')"
   ]
  },
  {
   "cell_type": "markdown",
   "id": "44145d01-f597-498d-889a-73173abc7ef2",
   "metadata": {},
   "source": [
    "# table for stranded asset calculations"
   ]
  },
  {
   "cell_type": "markdown",
   "id": "c009d10e-36da-4eb8-8e46-3164731bdb7d",
   "metadata": {},
   "source": [
    "## country-level capex estimates"
   ]
  },
  {
   "cell_type": "code",
   "execution_count": 47,
   "id": "0d925d5a-19f9-4551-98f2-649175f43f0b",
   "metadata": {
    "tags": []
   },
   "outputs": [
    {
     "data": {
      "text/html": [
       "<div>\n",
       "<style scoped>\n",
       "    .dataframe tbody tr th:only-of-type {\n",
       "        vertical-align: middle;\n",
       "    }\n",
       "\n",
       "    .dataframe tbody tr th {\n",
       "        vertical-align: top;\n",
       "    }\n",
       "\n",
       "    .dataframe thead th {\n",
       "        text-align: right;\n",
       "    }\n",
       "</style>\n",
       "<table border=\"1\" class=\"dataframe\">\n",
       "  <thead>\n",
       "    <tr style=\"text-align: right;\">\n",
       "      <th></th>\n",
       "      <th>CostUSDPerKm</th>\n",
       "      <th>DataPoints</th>\n",
       "    </tr>\n",
       "  </thead>\n",
       "  <tbody>\n",
       "    <tr>\n",
       "      <th>Sub-Saharan Africa</th>\n",
       "      <td>4,534,482.849</td>\n",
       "      <td>4</td>\n",
       "    </tr>\n",
       "    <tr>\n",
       "      <th>East Asia</th>\n",
       "      <td>3,570,410.214</td>\n",
       "      <td>19</td>\n",
       "    </tr>\n",
       "    <tr>\n",
       "      <th>North America</th>\n",
       "      <td>3,204,357.122</td>\n",
       "      <td>31</td>\n",
       "    </tr>\n",
       "    <tr>\n",
       "      <th>Middle East and North Africa</th>\n",
       "      <td>3,097,873.705</td>\n",
       "      <td>22</td>\n",
       "    </tr>\n",
       "    <tr>\n",
       "      <th>South Asia</th>\n",
       "      <td>2,430,679.657</td>\n",
       "      <td>3</td>\n",
       "    </tr>\n",
       "    <tr>\n",
       "      <th>Europe</th>\n",
       "      <td>2,352,507.729</td>\n",
       "      <td>9</td>\n",
       "    </tr>\n",
       "    <tr>\n",
       "      <th>Eurasia</th>\n",
       "      <td>2,070,740.973</td>\n",
       "      <td>8</td>\n",
       "    </tr>\n",
       "    <tr>\n",
       "      <th>Latin America and the Caribbean</th>\n",
       "      <td>1,596,749.204</td>\n",
       "      <td>8</td>\n",
       "    </tr>\n",
       "    <tr>\n",
       "      <th>Australia and New Zealand</th>\n",
       "      <td>1,213,941.655</td>\n",
       "      <td>6</td>\n",
       "    </tr>\n",
       "    <tr>\n",
       "      <th>SE Asia</th>\n",
       "      <td>938,922.139</td>\n",
       "      <td>6</td>\n",
       "    </tr>\n",
       "  </tbody>\n",
       "</table>\n",
       "</div>"
      ],
      "text/plain": [
       "                                 CostUSDPerKm  DataPoints\n",
       "Sub-Saharan Africa              4,534,482.849           4\n",
       "East Asia                       3,570,410.214          19\n",
       "North America                   3,204,357.122          31\n",
       "Middle East and North Africa    3,097,873.705          22\n",
       "South Asia                      2,430,679.657           3\n",
       "Europe                          2,352,507.729           9\n",
       "Eurasia                         2,070,740.973           8\n",
       "Latin America and the Caribbean 1,596,749.204           8\n",
       "Australia and New Zealand       1,213,941.655           6\n",
       "SE Asia                           938,922.139           6"
      ]
     },
     "execution_count": 47,
     "metadata": {},
     "output_type": "execute_result"
    }
   ],
   "source": [
    "pipes_oil_costs_region_df.sort_values('CostUSDPerKm', ascending=False)"
   ]
  },
  {
   "cell_type": "code",
   "execution_count": 48,
   "id": "b0edb61c-12f3-4886-8131-586ad36e46dd",
   "metadata": {
    "tags": []
   },
   "outputs": [
    {
     "name": "stderr",
     "output_type": "stream",
     "text": [
      "/var/folders/fl/t07mc8053p33mn6mdmvp45580000gn/T/ipykernel_76998/1135204043.py:2: SettingWithCopyWarning: \n",
      "A value is trying to be set on a copy of a slice from a DataFrame.\n",
      "Try using .loc[row_indexer,col_indexer] = value instead\n",
      "\n",
      "See the caveats in the documentation: https://pandas.pydata.org/pandas-docs/stable/user_guide/indexing.html#returning-a-view-versus-a-copy\n",
      "  country_ratios_oil_df.loc[:,'CostUSDEstimate'] = numpy.nan\n"
     ]
    }
   ],
   "source": [
    "country_ratios_oil_df.reset_index(drop=True, inplace=True)\n",
    "country_ratios_oil_df.loc[:,'CostUSDEstimate'] = numpy.nan\n",
    "\n",
    "for idx,row in country_ratios_oil_df.iterrows():\n",
    "    # calculate cost\n",
    "    cntry = row.Country\n",
    "    region = row.Region\n",
    "    km_by_cntry = row.LengthKnownKmByCountry\n",
    "    #print(row.PipelineName)\n",
    "    country_ratios_oil_df.loc[idx,'CostUSDEstimate'] = pipes_oil_costs_region_df.loc[region, 'CostUSDPerKm'] * km_by_cntry\n",
    "\n",
    "# replace any known costs now\n",
    "country_ratios_oil_df.loc[(~country_ratios_oil_df.LengthKnownKmByCountry.isna())&\n",
    "                      (~country_ratios_oil_df.CostUSDPerKm.isna()),'CostUSDEstimate'] = \\\n",
    "country_ratios_oil_df.loc[(~country_ratios_oil_df.LengthKnownKmByCountry.isna())&\n",
    "                      (~country_ratios_oil_df.CostUSDPerKm.isna()), 'LengthKnownKmByCountry'] * \\\n",
    "country_ratios_oil_df.loc[(~country_ratios_oil_df.LengthKnownKmByCountry.isna())&\n",
    "                      (~country_ratios_oil_df.CostUSDPerKm.isna()), 'CostUSDPerKm']\n",
    "\n",
    "country_sums_USDBillion_df = pandas.DataFrame(country_ratios_oil_df.loc[(country_ratios_oil_df.Status.isin(['Construction','Proposed']))].groupby('Country')['CostUSDEstimate'].sum(min_count=1)/1e9)"
   ]
  },
  {
   "cell_type": "code",
   "execution_count": 49,
   "id": "95829118-8241-44fa-941e-db867f4e7ad1",
   "metadata": {
    "tags": []
   },
   "outputs": [
    {
     "name": "stdout",
     "output_type": "stream",
     "text": [
      "===country-level calculations===\n",
      "Proposed\n",
      "Construction\n",
      "Shelved\n",
      "Cancelled\n",
      "Operating\n",
      "Idle\n",
      "Mothballed\n",
      "Retired\n",
      "===regional calculations===\n",
      "Proposed\n",
      "Construction\n",
      "Shelved\n",
      "Cancelled\n",
      "Operating\n",
      "Idle\n",
      "Mothballed\n",
      "Retired\n"
     ]
    }
   ],
   "source": [
    "capex_by_country_df = pandas.DataFrame(columns=status_list, index=country_list)\n",
    "capex_by_region_df = pandas.DataFrame(columns=status_list, index=region_list)\n",
    "\n",
    "print('===country-level calculations===')\n",
    "for status in status_list:\n",
    "    print(status)\n",
    "    country_ratios_oil_df_status = country_ratios_oil_df[country_ratios_oil_df.Status==status]\n",
    "    capex_by_country_df[status] = country_ratios_oil_df_status.groupby('Country')['CostUSDEstimate'].sum()/1e9\n",
    "\n",
    "print('===regional calculations===')\n",
    "for status in status_list:\n",
    "    print(status)\n",
    "    country_ratios_oil_df_status = country_ratios_oil_df[country_ratios_oil_df.Status==status]\n",
    "    capex_by_region_df[status] = country_ratios_oil_df_status.groupby('Region')['CostUSDEstimate'].sum()/1e9\n",
    "\n",
    "# # fill NaN with 0.0\n",
    "capex_by_region_df = capex_by_region_df.fillna(0)\n",
    "capex_by_country_df = capex_by_country_df.fillna(0)"
   ]
  },
  {
   "cell_type": "code",
   "execution_count": 50,
   "id": "46a37257-f3c7-40f8-a2b7-51318878c296",
   "metadata": {
    "tags": []
   },
   "outputs": [],
   "source": [
    "capex_by_region_df['Proposed+Construction'] = capex_by_region_df[['Proposed','Construction']].sum(axis=1)\n",
    "#capex_by_region_df.sort_values(by='Proposed+Construction', inplace=True)\n",
    "capex_by_region_df = capex_by_region_df[['Proposed', 'Construction', 'Proposed+Construction', 'Shelved', 'Cancelled', 'Operating', 'Idle', 'Mothballed', 'Retired']]\n",
    "capex_by_region_df.sort_values('Proposed+Construction', ascending=False, inplace=True)"
   ]
  },
  {
   "cell_type": "code",
   "execution_count": 51,
   "id": "cc733300-291f-497e-a686-e2499fa85713",
   "metadata": {
    "tags": []
   },
   "outputs": [],
   "source": [
    "capex_by_country_df['Proposed+Construction'] = capex_by_country_df[['Proposed','Construction']].sum(axis=1)\n",
    "#capex_by_country_df.sort_values(by='Proposed+Construction', inplace=True)\n",
    "capex_by_country_df = capex_by_country_df[['Proposed', 'Construction', 'Proposed+Construction', 'Shelved', 'Cancelled', 'Operating', 'Idle', 'Mothballed', 'Retired']]\n",
    "capex_by_country_df.sort_values('Proposed+Construction', ascending=False, inplace=True)"
   ]
  },
  {
   "cell_type": "code",
   "execution_count": 52,
   "id": "fe3d3070-5264-4535-9257-abbd7419c0ad",
   "metadata": {
    "tags": []
   },
   "outputs": [
    {
     "name": "stderr",
     "output_type": "stream",
     "text": [
      "/var/folders/fl/t07mc8053p33mn6mdmvp45580000gn/T/ipykernel_76998/2444263024.py:10: FutureWarning: The frame.append method is deprecated and will be removed from pandas in a future version. Use pandas.concat instead.\n",
      "  capex_by_region_df = capex_by_region_df.append(total)\n"
     ]
    }
   ],
   "source": [
    "if 'Total' in capex_by_region_df.index:\n",
    "    capex_by_region_df.drop(index='Total', inplace=True)   \n",
    "    total = capex_by_region_df.sum(axis=0)\n",
    "    total.name='Total'\n",
    "    capex_by_region_df = capex_by_region_df.append(total)\n",
    "\n",
    "else:\n",
    "    total = capex_by_region_df.sum(axis=0)\n",
    "    total.name='Total'\n",
    "    capex_by_region_df = capex_by_region_df.append(total)"
   ]
  },
  {
   "cell_type": "code",
   "execution_count": 53,
   "id": "1472a37f-8e4f-4e29-8a23-95bc1c4c3e36",
   "metadata": {
    "tags": []
   },
   "outputs": [
    {
     "name": "stderr",
     "output_type": "stream",
     "text": [
      "/var/folders/fl/t07mc8053p33mn6mdmvp45580000gn/T/ipykernel_76998/3950818690.py:10: FutureWarning: The frame.append method is deprecated and will be removed from pandas in a future version. Use pandas.concat instead.\n",
      "  capex_by_country_df = capex_by_country_df.append(total)\n"
     ]
    }
   ],
   "source": [
    "if 'Total' in capex_by_country_df.index:\n",
    "    capex_by_country_df.drop(index='Total', inplace=True)   \n",
    "    total = capex_by_country_df.sum(axis=0)\n",
    "    total.name='Total'\n",
    "    capex_by_country_df = capex_by_country_df.append(total)\n",
    "\n",
    "else:\n",
    "    total = capex_by_country_df.sum(axis=0)\n",
    "    total.name='Total'\n",
    "    capex_by_country_df = capex_by_country_df.append(total)"
   ]
  },
  {
   "cell_type": "code",
   "execution_count": 54,
   "id": "22636b17-8c9a-4d61-bd7e-42e14da91c56",
   "metadata": {
    "tags": []
   },
   "outputs": [
    {
     "data": {
      "text/html": [
       "<div>\n",
       "<style scoped>\n",
       "    .dataframe tbody tr th:only-of-type {\n",
       "        vertical-align: middle;\n",
       "    }\n",
       "\n",
       "    .dataframe tbody tr th {\n",
       "        vertical-align: top;\n",
       "    }\n",
       "\n",
       "    .dataframe thead th {\n",
       "        text-align: right;\n",
       "    }\n",
       "</style>\n",
       "<table border=\"1\" class=\"dataframe\">\n",
       "  <thead>\n",
       "    <tr style=\"text-align: right;\">\n",
       "      <th></th>\n",
       "      <th>Proposed</th>\n",
       "      <th>Construction</th>\n",
       "      <th>Proposed+Construction</th>\n",
       "      <th>Shelved</th>\n",
       "      <th>Cancelled</th>\n",
       "      <th>Operating</th>\n",
       "      <th>Idle</th>\n",
       "      <th>Mothballed</th>\n",
       "      <th>Retired</th>\n",
       "    </tr>\n",
       "  </thead>\n",
       "  <tbody>\n",
       "    <tr>\n",
       "      <th>Middle East and North Africa</th>\n",
       "      <td>40.7</td>\n",
       "      <td>7.4</td>\n",
       "      <td>48.1</td>\n",
       "      <td>1.7</td>\n",
       "      <td>6.0</td>\n",
       "      <td>94.2</td>\n",
       "      <td>0.0</td>\n",
       "      <td>4.9</td>\n",
       "      <td>5.5</td>\n",
       "    </tr>\n",
       "    <tr>\n",
       "      <th>North America</th>\n",
       "      <td>8.9</td>\n",
       "      <td>17.9</td>\n",
       "      <td>26.8</td>\n",
       "      <td>34.3</td>\n",
       "      <td>87.2</td>\n",
       "      <td>352.2</td>\n",
       "      <td>0.0</td>\n",
       "      <td>0.0</td>\n",
       "      <td>20.7</td>\n",
       "    </tr>\n",
       "    <tr>\n",
       "      <th>Sub-Saharan Africa</th>\n",
       "      <td>19.1</td>\n",
       "      <td>7.0</td>\n",
       "      <td>26.1</td>\n",
       "      <td>0.0</td>\n",
       "      <td>9.5</td>\n",
       "      <td>31.3</td>\n",
       "      <td>0.0</td>\n",
       "      <td>0.0</td>\n",
       "      <td>0.0</td>\n",
       "    </tr>\n",
       "    <tr>\n",
       "      <th>Europe</th>\n",
       "      <td>11.6</td>\n",
       "      <td>0.1</td>\n",
       "      <td>11.8</td>\n",
       "      <td>0.0</td>\n",
       "      <td>9.4</td>\n",
       "      <td>70.5</td>\n",
       "      <td>2.8</td>\n",
       "      <td>1.9</td>\n",
       "      <td>0.0</td>\n",
       "    </tr>\n",
       "    <tr>\n",
       "      <th>South Asia</th>\n",
       "      <td>1.2</td>\n",
       "      <td>5.4</td>\n",
       "      <td>6.5</td>\n",
       "      <td>0.0</td>\n",
       "      <td>4.1</td>\n",
       "      <td>21.9</td>\n",
       "      <td>0.0</td>\n",
       "      <td>0.0</td>\n",
       "      <td>0.0</td>\n",
       "    </tr>\n",
       "    <tr>\n",
       "      <th>East Asia</th>\n",
       "      <td>4.8</td>\n",
       "      <td>1.2</td>\n",
       "      <td>6.0</td>\n",
       "      <td>0.0</td>\n",
       "      <td>23.0</td>\n",
       "      <td>91.7</td>\n",
       "      <td>0.2</td>\n",
       "      <td>0.0</td>\n",
       "      <td>19.8</td>\n",
       "    </tr>\n",
       "    <tr>\n",
       "      <th>Eurasia</th>\n",
       "      <td>3.1</td>\n",
       "      <td>0.3</td>\n",
       "      <td>3.4</td>\n",
       "      <td>0.2</td>\n",
       "      <td>5.4</td>\n",
       "      <td>112.7</td>\n",
       "      <td>1.7</td>\n",
       "      <td>3.4</td>\n",
       "      <td>2.9</td>\n",
       "    </tr>\n",
       "    <tr>\n",
       "      <th>Latin America and the Caribbean</th>\n",
       "      <td>2.6</td>\n",
       "      <td>0.3</td>\n",
       "      <td>2.8</td>\n",
       "      <td>0.1</td>\n",
       "      <td>8.2</td>\n",
       "      <td>32.4</td>\n",
       "      <td>0.0</td>\n",
       "      <td>0.2</td>\n",
       "      <td>0.0</td>\n",
       "    </tr>\n",
       "    <tr>\n",
       "      <th>SE Asia</th>\n",
       "      <td>0.0</td>\n",
       "      <td>0.3</td>\n",
       "      <td>0.3</td>\n",
       "      <td>0.0</td>\n",
       "      <td>0.4</td>\n",
       "      <td>2.4</td>\n",
       "      <td>0.0</td>\n",
       "      <td>0.0</td>\n",
       "      <td>0.0</td>\n",
       "    </tr>\n",
       "    <tr>\n",
       "      <th>Australia and New Zealand</th>\n",
       "      <td>0.0</td>\n",
       "      <td>0.0</td>\n",
       "      <td>0.0</td>\n",
       "      <td>0.0</td>\n",
       "      <td>0.0</td>\n",
       "      <td>2.0</td>\n",
       "      <td>0.0</td>\n",
       "      <td>0.0</td>\n",
       "      <td>0.2</td>\n",
       "    </tr>\n",
       "    <tr>\n",
       "      <th>Total</th>\n",
       "      <td>92.0</td>\n",
       "      <td>39.9</td>\n",
       "      <td>131.9</td>\n",
       "      <td>36.2</td>\n",
       "      <td>153.2</td>\n",
       "      <td>811.2</td>\n",
       "      <td>4.7</td>\n",
       "      <td>10.4</td>\n",
       "      <td>49.2</td>\n",
       "    </tr>\n",
       "  </tbody>\n",
       "</table>\n",
       "</div>"
      ],
      "text/plain": [
       "                                 Proposed  Construction  \\\n",
       "Middle East and North Africa         40.7           7.4   \n",
       "North America                         8.9          17.9   \n",
       "Sub-Saharan Africa                   19.1           7.0   \n",
       "Europe                               11.6           0.1   \n",
       "South Asia                            1.2           5.4   \n",
       "East Asia                             4.8           1.2   \n",
       "Eurasia                               3.1           0.3   \n",
       "Latin America and the Caribbean       2.6           0.3   \n",
       "SE Asia                               0.0           0.3   \n",
       "Australia and New Zealand             0.0           0.0   \n",
       "Total                                92.0          39.9   \n",
       "\n",
       "                                 Proposed+Construction  Shelved  Cancelled  \\\n",
       "Middle East and North Africa                      48.1      1.7        6.0   \n",
       "North America                                     26.8     34.3       87.2   \n",
       "Sub-Saharan Africa                                26.1      0.0        9.5   \n",
       "Europe                                            11.8      0.0        9.4   \n",
       "South Asia                                         6.5      0.0        4.1   \n",
       "East Asia                                          6.0      0.0       23.0   \n",
       "Eurasia                                            3.4      0.2        5.4   \n",
       "Latin America and the Caribbean                    2.8      0.1        8.2   \n",
       "SE Asia                                            0.3      0.0        0.4   \n",
       "Australia and New Zealand                          0.0      0.0        0.0   \n",
       "Total                                            131.9     36.2      153.2   \n",
       "\n",
       "                                 Operating  Idle  Mothballed  Retired  \n",
       "Middle East and North Africa          94.2   0.0         4.9      5.5  \n",
       "North America                        352.2   0.0         0.0     20.7  \n",
       "Sub-Saharan Africa                    31.3   0.0         0.0      0.0  \n",
       "Europe                                70.5   2.8         1.9      0.0  \n",
       "South Asia                            21.9   0.0         0.0      0.0  \n",
       "East Asia                             91.7   0.2         0.0     19.8  \n",
       "Eurasia                              112.7   1.7         3.4      2.9  \n",
       "Latin America and the Caribbean       32.4   0.0         0.2      0.0  \n",
       "SE Asia                                2.4   0.0         0.0      0.0  \n",
       "Australia and New Zealand              2.0   0.0         0.0      0.2  \n",
       "Total                                811.2   4.7        10.4     49.2  "
      ]
     },
     "execution_count": 54,
     "metadata": {},
     "output_type": "execute_result"
    }
   ],
   "source": [
    "pandas.options.display.float_format = '{:,.1f}'.format\n",
    "capex_by_region_df"
   ]
  },
  {
   "cell_type": "markdown",
   "id": "a67ada29-6ccc-49b9-8ab1-6fdf3d6a116f",
   "metadata": {},
   "source": [
    "## print out country-level stranded assets for report discussion"
   ]
  },
  {
   "cell_type": "markdown",
   "id": "b734740c-6a22-4d1f-9c1b-1817d3b85166",
   "metadata": {},
   "source": [
    "## in-dev for each country in list"
   ]
  },
  {
   "cell_type": "code",
   "execution_count": 55,
   "id": "02799ef1-9b6f-4122-9fac-61a9bdaf1e42",
   "metadata": {
    "tags": []
   },
   "outputs": [
    {
     "data": {
      "text/html": [
       "<div>\n",
       "<style scoped>\n",
       "    .dataframe tbody tr th:only-of-type {\n",
       "        vertical-align: middle;\n",
       "    }\n",
       "\n",
       "    .dataframe tbody tr th {\n",
       "        vertical-align: top;\n",
       "    }\n",
       "\n",
       "    .dataframe thead th {\n",
       "        text-align: right;\n",
       "    }\n",
       "</style>\n",
       "<table border=\"1\" class=\"dataframe\">\n",
       "  <thead>\n",
       "    <tr style=\"text-align: right;\">\n",
       "      <th></th>\n",
       "      <th>CostUSDEstimate</th>\n",
       "    </tr>\n",
       "    <tr>\n",
       "      <th>Country</th>\n",
       "      <th></th>\n",
       "    </tr>\n",
       "  </thead>\n",
       "  <tbody>\n",
       "    <tr>\n",
       "      <th>Iraq</th>\n",
       "      <td>23.6</td>\n",
       "    </tr>\n",
       "    <tr>\n",
       "      <th>Canada</th>\n",
       "      <td>17.5</td>\n",
       "    </tr>\n",
       "    <tr>\n",
       "      <th>Jordan</th>\n",
       "      <td>9.6</td>\n",
       "    </tr>\n",
       "    <tr>\n",
       "      <th>United States</th>\n",
       "      <td>9.3</td>\n",
       "    </tr>\n",
       "    <tr>\n",
       "      <th>Tanzania</th>\n",
       "      <td>8.0</td>\n",
       "    </tr>\n",
       "    <tr>\n",
       "      <th>Zambia</th>\n",
       "      <td>7.0</td>\n",
       "    </tr>\n",
       "    <tr>\n",
       "      <th>Syria</th>\n",
       "      <td>6.8</td>\n",
       "    </tr>\n",
       "    <tr>\n",
       "      <th>China</th>\n",
       "      <td>6.0</td>\n",
       "    </tr>\n",
       "    <tr>\n",
       "      <th>Iran</th>\n",
       "      <td>6.0</td>\n",
       "    </tr>\n",
       "    <tr>\n",
       "      <th>Poland</th>\n",
       "      <td>5.2</td>\n",
       "    </tr>\n",
       "    <tr>\n",
       "      <th>India</th>\n",
       "      <td>5.1</td>\n",
       "    </tr>\n",
       "    <tr>\n",
       "      <th>Niger</th>\n",
       "      <td>4.2</td>\n",
       "    </tr>\n",
       "    <tr>\n",
       "      <th>Russia</th>\n",
       "      <td>3.4</td>\n",
       "    </tr>\n",
       "    <tr>\n",
       "      <th>Angola</th>\n",
       "      <td>3.2</td>\n",
       "    </tr>\n",
       "    <tr>\n",
       "      <th>Argentina</th>\n",
       "      <td>2.8</td>\n",
       "    </tr>\n",
       "    <tr>\n",
       "      <th>Benin</th>\n",
       "      <td>2.3</td>\n",
       "    </tr>\n",
       "    <tr>\n",
       "      <th>Ukraine</th>\n",
       "      <td>1.8</td>\n",
       "    </tr>\n",
       "    <tr>\n",
       "      <th>Bulgaria</th>\n",
       "      <td>1.5</td>\n",
       "    </tr>\n",
       "    <tr>\n",
       "      <th>Bangladesh</th>\n",
       "      <td>1.4</td>\n",
       "    </tr>\n",
       "    <tr>\n",
       "      <th>Oman</th>\n",
       "      <td>1.4</td>\n",
       "    </tr>\n",
       "    <tr>\n",
       "      <th>North Macedonia</th>\n",
       "      <td>1.1</td>\n",
       "    </tr>\n",
       "    <tr>\n",
       "      <th>Uganda</th>\n",
       "      <td>1.0</td>\n",
       "    </tr>\n",
       "    <tr>\n",
       "      <th>Albania</th>\n",
       "      <td>0.8</td>\n",
       "    </tr>\n",
       "    <tr>\n",
       "      <th>Serbia</th>\n",
       "      <td>0.6</td>\n",
       "    </tr>\n",
       "    <tr>\n",
       "      <th>Libya</th>\n",
       "      <td>0.5</td>\n",
       "    </tr>\n",
       "    <tr>\n",
       "      <th>Nigeria</th>\n",
       "      <td>0.5</td>\n",
       "    </tr>\n",
       "    <tr>\n",
       "      <th>Germany</th>\n",
       "      <td>0.4</td>\n",
       "    </tr>\n",
       "    <tr>\n",
       "      <th>Thailand</th>\n",
       "      <td>0.3</td>\n",
       "    </tr>\n",
       "    <tr>\n",
       "      <th>Greece</th>\n",
       "      <td>0.3</td>\n",
       "    </tr>\n",
       "    <tr>\n",
       "      <th>Saudi Arabia</th>\n",
       "      <td>0.2</td>\n",
       "    </tr>\n",
       "    <tr>\n",
       "      <th>Belarus</th>\n",
       "      <td>0.1</td>\n",
       "    </tr>\n",
       "    <tr>\n",
       "      <th>Bahrain</th>\n",
       "      <td>0.0</td>\n",
       "    </tr>\n",
       "    <tr>\n",
       "      <th>Czech Republic</th>\n",
       "      <td>0.0</td>\n",
       "    </tr>\n",
       "    <tr>\n",
       "      <th>Hungary</th>\n",
       "      <td>0.0</td>\n",
       "    </tr>\n",
       "    <tr>\n",
       "      <th>Türkiye</th>\n",
       "      <td>0.0</td>\n",
       "    </tr>\n",
       "    <tr>\n",
       "      <th>Laos</th>\n",
       "      <td>0.0</td>\n",
       "    </tr>\n",
       "    <tr>\n",
       "      <th>Austria</th>\n",
       "      <td>0.0</td>\n",
       "    </tr>\n",
       "    <tr>\n",
       "      <th>Slovenia</th>\n",
       "      <td>0.0</td>\n",
       "    </tr>\n",
       "    <tr>\n",
       "      <th>Bosnia and Herzegovina</th>\n",
       "      <td>0.0</td>\n",
       "    </tr>\n",
       "    <tr>\n",
       "      <th>Croatia</th>\n",
       "      <td>0.0</td>\n",
       "    </tr>\n",
       "    <tr>\n",
       "      <th>Sri Lanka</th>\n",
       "      <td>0.0</td>\n",
       "    </tr>\n",
       "    <tr>\n",
       "      <th>South Sudan</th>\n",
       "      <td>0.0</td>\n",
       "    </tr>\n",
       "    <tr>\n",
       "      <th>Italy</th>\n",
       "      <td>0.0</td>\n",
       "    </tr>\n",
       "    <tr>\n",
       "      <th>Kenya</th>\n",
       "      <td>0.0</td>\n",
       "    </tr>\n",
       "  </tbody>\n",
       "</table>\n",
       "</div>"
      ],
      "text/plain": [
       "                        CostUSDEstimate\n",
       "Country                                \n",
       "Iraq                               23.6\n",
       "Canada                             17.5\n",
       "Jordan                              9.6\n",
       "United States                       9.3\n",
       "Tanzania                            8.0\n",
       "Zambia                              7.0\n",
       "Syria                               6.8\n",
       "China                               6.0\n",
       "Iran                                6.0\n",
       "Poland                              5.2\n",
       "India                               5.1\n",
       "Niger                               4.2\n",
       "Russia                              3.4\n",
       "Angola                              3.2\n",
       "Argentina                           2.8\n",
       "Benin                               2.3\n",
       "Ukraine                             1.8\n",
       "Bulgaria                            1.5\n",
       "Bangladesh                          1.4\n",
       "Oman                                1.4\n",
       "North Macedonia                     1.1\n",
       "Uganda                              1.0\n",
       "Albania                             0.8\n",
       "Serbia                              0.6\n",
       "Libya                               0.5\n",
       "Nigeria                             0.5\n",
       "Germany                             0.4\n",
       "Thailand                            0.3\n",
       "Greece                              0.3\n",
       "Saudi Arabia                        0.2\n",
       "Belarus                             0.1\n",
       "Bahrain                             0.0\n",
       "Czech Republic                      0.0\n",
       "Hungary                             0.0\n",
       "Türkiye                             0.0\n",
       "Laos                                0.0\n",
       "Austria                             0.0\n",
       "Slovenia                            0.0\n",
       "Bosnia and Herzegovina              0.0\n",
       "Croatia                             0.0\n",
       "Sri Lanka                           0.0\n",
       "South Sudan                         0.0\n",
       "Italy                               0.0\n",
       "Kenya                               0.0"
      ]
     },
     "execution_count": 55,
     "metadata": {},
     "output_type": "execute_result"
    }
   ],
   "source": [
    "country_sums_USDBillion_df.replace(numpy.nan, 0).sort_values('CostUSDEstimate', ascending=False)"
   ]
  },
  {
   "cell_type": "code",
   "execution_count": 56,
   "id": "70436bc4-4148-4bed-afed-3a0929619316",
   "metadata": {
    "tags": []
   },
   "outputs": [
    {
     "name": "stdout",
     "output_type": "stream",
     "text": [
      "Canada\n",
      "0.0  km proposed\n",
      "1130.0  km in construction\n",
      "1130.0  total km in development\n",
      "CostUSDEstimate   17.5\n",
      "Name: Canada, dtype: float64 USD\n",
      "17.520000005300002 construction capex\n",
      "0.0 proposed capex\n",
      "\n",
      "United States\n",
      "2705.36  km proposed\n",
      "128.7  km in construction\n",
      "2834.06  total km in development\n",
      "CostUSDEstimate   9.3\n",
      "Name: United States, dtype: float64 USD\n",
      "0.4124007615389999 construction capex\n",
      "8.906975927556017 proposed capex\n",
      "\n",
      "Tanzania\n",
      "2025.37  km proposed\n",
      "0.0  km in construction\n",
      "2025.37  total km in development\n",
      "CostUSDEstimate   8.0\n",
      "Name: Tanzania, dtype: float64 USD\n",
      "0.0 construction capex\n",
      "7.9501763653557775 proposed capex\n",
      "\n",
      "Poland\n",
      "529.53  km proposed\n",
      "0.0  km in construction\n",
      "529.53  total km in development\n",
      "CostUSDEstimate   5.2\n",
      "Name: Poland, dtype: float64 USD\n",
      "0.0 construction capex\n",
      "5.1770853191878 proposed capex\n",
      "\n",
      "India\n",
      "1194.0  km proposed\n",
      "1630.0  km in construction\n",
      "2824.0  total km in development\n",
      "CostUSDEstimate   5.1\n",
      "Name: India, dtype: float64 USD\n",
      "3.9620078403666668 construction capex\n",
      "1.1736399955799999 proposed capex\n",
      "\n"
     ]
    }
   ],
   "source": [
    "#pandas.options.display.float_format = '{:,.1f}'.format\n",
    "these_countries = ['Canada','United States','Tanzania','Poland','India']\n",
    "\n",
    "for cntry in these_countries:\n",
    "    print(cntry)\n",
    "    cntry_region = country_ratios_df.loc[country_ratios_df.Country==cntry]['Region'].to_list()[0]\n",
    "    print(km_by_country_df.loc[cntry]['Proposed'], ' km proposed')\n",
    "    print(km_by_country_df.loc[cntry]['Construction'], ' km in construction')\n",
    "    print(km_by_country_df.loc[cntry]['Proposed+Construction'], ' total km in development')\n",
    "    print(country_sums_USDBillion_df.loc[cntry], 'USD')\n",
    "    print(country_ratios_oil_df.loc[(country_ratios_oil_df.Country==cntry)&\n",
    "                          (country_ratios_oil_df.Status=='Construction')]['CostUSDEstimate'].sum()/1e9, 'construction capex')\n",
    "    print(country_ratios_oil_df.loc[(country_ratios_oil_df.Country==cntry)&\n",
    "                          (country_ratios_oil_df.Status=='Proposed')]['CostUSDEstimate'].sum()/1e9, 'proposed capex')\n",
    "    print()"
   ]
  },
  {
   "cell_type": "markdown",
   "id": "b2f4f54d-258b-418b-a43f-2a2bcec82c0d",
   "metadata": {},
   "source": [
    "# numbers for report"
   ]
  },
  {
   "cell_type": "markdown",
   "id": "f5661b98-75a1-42ca-819d-ee2fa8ea2b76",
   "metadata": {},
   "source": [
    "## amount already being constructed"
   ]
  },
  {
   "cell_type": "code",
   "execution_count": 57,
   "id": "741c91e9-dcdb-4332-beac-27f1cb8ca014",
   "metadata": {
    "tags": []
   },
   "outputs": [
    {
     "data": {
      "text/plain": [
       "0.2939740168756375"
      ]
     },
     "execution_count": 57,
     "metadata": {},
     "output_type": "execute_result"
    }
   ],
   "source": [
    "# fraction of pipelines under construction compared to all in development\n",
    "# this number is different from below because it's skipping some pipelines\n",
    "km_by_country_total = km_by_country_df.sum(axis=0)\n",
    "km_by_country_total['Construction']/km_by_country_total['Proposed+Construction']"
   ]
  },
  {
   "cell_type": "code",
   "execution_count": 58,
   "id": "f358b56a-22ef-4323-824b-ecf9ef20202c",
   "metadata": {
    "tags": []
   },
   "outputs": [
    {
     "data": {
      "text/plain": [
       "0.3021316807645021"
      ]
     },
     "execution_count": 58,
     "metadata": {},
     "output_type": "execute_result"
    }
   ],
   "source": [
    "# this fraction is on the full database, rather than only the pipelines that we estimate length for\n",
    "total['Construction']/total['Proposed+Construction']"
   ]
  },
  {
   "cell_type": "markdown",
   "id": "999b3a60-b8fe-40f4-a54d-db52c1dd8fc3",
   "metadata": {},
   "source": [
    "## capacity/potential emissions in development globally"
   ]
  },
  {
   "cell_type": "code",
   "execution_count": 59,
   "id": "44bd4180-d78f-4b27-bca3-ba91b4e133fc",
   "metadata": {
    "tags": []
   },
   "outputs": [
    {
     "data": {
      "text/plain": [
       "3285   290,000.0\n",
       "3398   800,000.0\n",
       "3418    65,000.0\n",
       "3422   160,000.0\n",
       "3425   246,000.0\n",
       "          ...   \n",
       "4446   286,000.0\n",
       "4447         NaN\n",
       "4469    95,000.0\n",
       "4500   160,000.0\n",
       "4501         NaN\n",
       "Name: CapacityBOEd, Length: 120, dtype: object"
      ]
     },
     "execution_count": 59,
     "metadata": {},
     "output_type": "execute_result"
    }
   ],
   "source": [
    "pipes_df_subset.CapacityBOEd"
   ]
  },
  {
   "cell_type": "code",
   "execution_count": 60,
   "id": "be033ca7-9c4f-419b-a4ac-95796751bb0c",
   "metadata": {
    "tags": []
   },
   "outputs": [
    {
     "name": "stdout",
     "output_type": "stream",
     "text": [
      "9.66068329 million bpd\n",
      "1.4760461391958097 billion tonnes CO2\n"
     ]
    }
   ],
   "source": [
    "pipes_df_subset = pipes_df_orig.loc[(pipes_df_orig.Status.isin(['Construction']))&\n",
    "                                     (pipes_df_orig.Fuel=='Oil')]\n",
    "cap_sum = pipes_df_subset['CapacityBOEd'].sum()\n",
    "print(cap_sum / 1e6, 'million bpd')\n",
    "print(cap_sum * co2_rate / 1e9, 'billion tonnes CO2')"
   ]
  },
  {
   "cell_type": "code",
   "execution_count": 61,
   "id": "0bbe19c0-8aeb-4c7f-bbf2-46daff1a75c3",
   "metadata": {
    "tags": []
   },
   "outputs": [
    {
     "name": "stdout",
     "output_type": "stream",
     "text": [
      "36.886836450000004 million bpd\n",
      "5.63590285435905 billion tonnes CO2\n"
     ]
    }
   ],
   "source": [
    "pipes_df_subset = pipes_df_orig.loc[(pipes_df_orig.Status.isin(['Proposed']))&\n",
    "                                     (pipes_df_orig.Fuel=='Oil')]\n",
    "cap_sum = pipes_df_subset['CapacityBOEd'].sum()\n",
    "print(cap_sum / 1e6, 'million bpd')\n",
    "print(cap_sum * co2_rate / 1e9, 'billion tonnes CO2')"
   ]
  },
  {
   "cell_type": "code",
   "execution_count": 62,
   "id": "9e16aa51-6397-43f4-8093-ce9e4dea03ba",
   "metadata": {
    "tags": []
   },
   "outputs": [
    {
     "name": "stdout",
     "output_type": "stream",
     "text": [
      "46.54751974000001 million bpd\n",
      "7.111948993554861 billion tonnes CO2\n"
     ]
    }
   ],
   "source": [
    "pipes_df_subset = pipes_df_orig.loc[(pipes_df_orig.Status.isin(['Construction','Proposed']))&\n",
    "                                     (pipes_df_orig.Fuel=='Oil')]\n",
    "cap_sum = pipes_df_subset['CapacityBOEd'].sum()\n",
    "print(cap_sum / 1e6, 'million bpd')\n",
    "print(cap_sum * co2_rate / 1e9, 'billion tonnes CO2')"
   ]
  },
  {
   "cell_type": "markdown",
   "id": "3cbfcb52-da08-4330-b006-6a63b6144c85",
   "metadata": {},
   "source": [
    "## total number of pipelines in dev"
   ]
  },
  {
   "cell_type": "code",
   "execution_count": 63,
   "id": "3c1ece32-0f36-4514-9402-e7b6b15c1275",
   "metadata": {
    "tags": []
   },
   "outputs": [
    {
     "data": {
      "text/plain": [
       "31059.8"
      ]
     },
     "execution_count": 63,
     "metadata": {},
     "output_type": "execute_result"
    }
   ],
   "source": [
    "pipes_df_orig.loc[(pipes_df_orig.Fuel=='Oil')&\n",
    "                  (pipes_df_orig.Status.isin(['Proposed','Construction']))]['LengthMergedKm'].sum()"
   ]
  },
  {
   "cell_type": "markdown",
   "id": "dadc820e-41b6-4522-8da9-6a4b65f465b5",
   "metadata": {},
   "source": [
    "## top 10 pipelines"
   ]
  },
  {
   "cell_type": "code",
   "execution_count": 64,
   "id": "5cb68f19-9348-4633-acee-73e6e2b43b37",
   "metadata": {
    "tags": []
   },
   "outputs": [
    {
     "data": {
      "text/plain": [
       "131.8974248083588"
      ]
     },
     "execution_count": 64,
     "metadata": {},
     "output_type": "execute_result"
    }
   ],
   "source": [
    "country_ratios_oil_df.loc[country_ratios_oil_df.Status.isin(['Proposed','Construction'])].groupby(\n",
    "    'ProjectID')['CostUSDEstimate'].sum(min_count=0).sum()/1e9"
   ]
  },
  {
   "cell_type": "code",
   "execution_count": 65,
   "id": "12292556-d166-4010-8213-8667ef2372d7",
   "metadata": {
    "tags": []
   },
   "outputs": [],
   "source": [
    "costs_temp_df = country_ratios_oil_df.loc[country_ratios_oil_df.Status.isin(['Proposed','Construction'])].groupby('ProjectID')[['CostUSDEstimate']].sum(min_count=0)\n",
    "#country_ratios_oil_df.loc[country_ratios_oil_df.ProjectID.isin(table_for_top10['ProjectID'].values)]['CostUSDEstimate']"
   ]
  },
  {
   "cell_type": "code",
   "execution_count": 66,
   "id": "1cf5b965-f261-481f-aace-30b080e7d3b2",
   "metadata": {
    "tags": []
   },
   "outputs": [
    {
     "data": {
      "text/html": [
       "<div>\n",
       "<style scoped>\n",
       "    .dataframe tbody tr th:only-of-type {\n",
       "        vertical-align: middle;\n",
       "    }\n",
       "\n",
       "    .dataframe tbody tr th {\n",
       "        vertical-align: top;\n",
       "    }\n",
       "\n",
       "    .dataframe thead th {\n",
       "        text-align: right;\n",
       "    }\n",
       "</style>\n",
       "<table border=\"1\" class=\"dataframe\">\n",
       "  <thead>\n",
       "    <tr style=\"text-align: right;\">\n",
       "      <th></th>\n",
       "      <th>LengthKnownKm</th>\n",
       "      <th>CapacityBOEd</th>\n",
       "      <th>Countries</th>\n",
       "      <th>Status</th>\n",
       "      <th>StartYearEarliest</th>\n",
       "      <th>Wiki</th>\n",
       "      <th>CostUSDTotalEstimate</th>\n",
       "    </tr>\n",
       "    <tr>\n",
       "      <th>PipelineName</th>\n",
       "      <th></th>\n",
       "      <th></th>\n",
       "      <th></th>\n",
       "      <th></th>\n",
       "      <th></th>\n",
       "      <th></th>\n",
       "      <th></th>\n",
       "    </tr>\n",
       "  </thead>\n",
       "  <tbody>\n",
       "    <tr>\n",
       "      <th>Niger–Benin Oil Pipeline</th>\n",
       "      <td>1,950.0</td>\n",
       "      <td>90,000.0</td>\n",
       "      <td>Niger, Benin</td>\n",
       "      <td>Construction</td>\n",
       "      <td>2,024.0</td>\n",
       "      <td>https://www.gem.wiki/Niger%E2%80%93Benin_Oil_P...</td>\n",
       "      <td>7.0</td>\n",
       "    </tr>\n",
       "    <tr>\n",
       "      <th>Tazama Oil Pipeline</th>\n",
       "      <td>1,710.0</td>\n",
       "      <td>22,000.0</td>\n",
       "      <td>Tanzania, Zambia</td>\n",
       "      <td>Proposed</td>\n",
       "      <td></td>\n",
       "      <td>https://www.gem.wiki/Tazama_Oil_Pipeline</td>\n",
       "      <td>7.8</td>\n",
       "    </tr>\n",
       "    <tr>\n",
       "      <th>Paradip Numaligarh Crude Pipeline (PNCPL)</th>\n",
       "      <td>1,630.0</td>\n",
       "      <td></td>\n",
       "      <td>India</td>\n",
       "      <td>Construction</td>\n",
       "      <td>2,024.0</td>\n",
       "      <td>https://www.gem.wiki/Paradip_Numaligarh_Crude_...</td>\n",
       "      <td>4.0</td>\n",
       "    </tr>\n",
       "    <tr>\n",
       "      <th>East African Crude Oil Pipeline (EACOP)</th>\n",
       "      <td>1,444.0</td>\n",
       "      <td>246,000.0</td>\n",
       "      <td>Uganda, Tanzania</td>\n",
       "      <td>Proposed</td>\n",
       "      <td>2,025.0</td>\n",
       "      <td>https://www.gem.wiki/East_African_Crude_Oil_Pi...</td>\n",
       "      <td>5.0</td>\n",
       "    </tr>\n",
       "    <tr>\n",
       "      <th>Angola-Zambia Oil Pipeline</th>\n",
       "      <td>1,400.0</td>\n",
       "      <td>1,000,000.0</td>\n",
       "      <td>Angola, Zambia</td>\n",
       "      <td>Proposed</td>\n",
       "      <td>2,026.0</td>\n",
       "      <td>https://www.gem.wiki/Angola-Zambia_Oil_Pipeline</td>\n",
       "      <td>6.3</td>\n",
       "    </tr>\n",
       "    <tr>\n",
       "      <th>New Mundra–Panipat Oil Pipeline</th>\n",
       "      <td>1,194.0</td>\n",
       "      <td>430,067.8</td>\n",
       "      <td>India</td>\n",
       "      <td>Proposed</td>\n",
       "      <td>2,024.0</td>\n",
       "      <td>https://www.gem.wiki/New_Mundra%E2%80%93Panipa...</td>\n",
       "      <td>1.2</td>\n",
       "    </tr>\n",
       "    <tr>\n",
       "      <th>Basra-Aqaba Oil Pipeline</th>\n",
       "      <td>1,154.0</td>\n",
       "      <td>1,000,000.0</td>\n",
       "      <td>Iraq, Jordan</td>\n",
       "      <td>Proposed</td>\n",
       "      <td></td>\n",
       "      <td>https://www.gem.wiki/Basra-Aqaba_Oil_Pipeline</td>\n",
       "      <td>22.0</td>\n",
       "    </tr>\n",
       "    <tr>\n",
       "      <th>Seahorse Pipeline</th>\n",
       "      <td>1,126.5</td>\n",
       "      <td>800,000.0</td>\n",
       "      <td>United States</td>\n",
       "      <td>Proposed</td>\n",
       "      <td>2,022.0</td>\n",
       "      <td>https://www.gem.wiki/Seahorse_Pipeline</td>\n",
       "      <td>3.6</td>\n",
       "    </tr>\n",
       "    <tr>\n",
       "      <th>Trans Mountain Oil Pipeline</th>\n",
       "      <td>980.0</td>\n",
       "      <td>290,000.0</td>\n",
       "      <td>Canada</td>\n",
       "      <td>Construction</td>\n",
       "      <td>2,023.0</td>\n",
       "      <td>https://www.gem.wiki/Trans_Mountain_Oil_Pipeline</td>\n",
       "      <td>17.1</td>\n",
       "    </tr>\n",
       "    <tr>\n",
       "      <th>AMBO Oil Pipeline</th>\n",
       "      <td>912.0</td>\n",
       "      <td>750,000.0</td>\n",
       "      <td>Bulgaria, North Macedonia, Albania</td>\n",
       "      <td>Proposed</td>\n",
       "      <td></td>\n",
       "      <td>https://www.gem.wiki/AMBO_Oil_Pipeline</td>\n",
       "      <td>2.1</td>\n",
       "    </tr>\n",
       "    <tr>\n",
       "      <th>Kirkuk-Baniyas Oil Pipelines</th>\n",
       "      <td>800.0</td>\n",
       "      <td>1,250,000.0</td>\n",
       "      <td>Iraq, Syria</td>\n",
       "      <td>Proposed</td>\n",
       "      <td></td>\n",
       "      <td>https://www.gem.wiki/Kirkuk-Baniyas_Oil_Pipelines</td>\n",
       "      <td>2.5</td>\n",
       "    </tr>\n",
       "    <tr>\n",
       "      <th>Kirkuk-Baniyas Oil Pipelines</th>\n",
       "      <td>800.0</td>\n",
       "      <td>1,500,000.0</td>\n",
       "      <td>Iraq, Syria</td>\n",
       "      <td>Proposed</td>\n",
       "      <td></td>\n",
       "      <td>https://www.gem.wiki/Kirkuk-Baniyas_Oil_Pipelines</td>\n",
       "      <td>2.5</td>\n",
       "    </tr>\n",
       "    <tr>\n",
       "      <th>Kirkuk-Baniyas Oil Pipelines</th>\n",
       "      <td>800.0</td>\n",
       "      <td>300,000.0</td>\n",
       "      <td>Iraq, Syria</td>\n",
       "      <td>Proposed</td>\n",
       "      <td></td>\n",
       "      <td>https://www.gem.wiki/Kirkuk-Baniyas_Oil_Pipelines</td>\n",
       "      <td>8.0</td>\n",
       "    </tr>\n",
       "    <tr>\n",
       "      <th>Vostok Oil Pipeline</th>\n",
       "      <td>800.0</td>\n",
       "      <td></td>\n",
       "      <td>Russia</td>\n",
       "      <td>Proposed</td>\n",
       "      <td>2,022.0</td>\n",
       "      <td>https://www.gem.wiki/Vostok_Oil_Pipeline</td>\n",
       "      <td>1.7</td>\n",
       "    </tr>\n",
       "    <tr>\n",
       "      <th>Vaca Muerta Sur Oil Pipeline</th>\n",
       "      <td>700.0</td>\n",
       "      <td></td>\n",
       "      <td>Argentina</td>\n",
       "      <td>Proposed</td>\n",
       "      <td></td>\n",
       "      <td>https://www.gem.wiki/Vaca_Muerta_Sur_Oil_Pipeline</td>\n",
       "      <td>2.5</td>\n",
       "    </tr>\n",
       "  </tbody>\n",
       "</table>\n",
       "</div>"
      ],
      "text/plain": [
       "                                           LengthKnownKm CapacityBOEd  \\\n",
       "PipelineName                                                            \n",
       "Niger–Benin Oil Pipeline                         1,950.0     90,000.0   \n",
       "Tazama Oil Pipeline                              1,710.0     22,000.0   \n",
       "Paradip Numaligarh Crude Pipeline (PNCPL)        1,630.0                \n",
       "East African Crude Oil Pipeline (EACOP)          1,444.0    246,000.0   \n",
       "Angola-Zambia Oil Pipeline                       1,400.0  1,000,000.0   \n",
       "New Mundra–Panipat Oil Pipeline                  1,194.0    430,067.8   \n",
       "Basra-Aqaba Oil Pipeline                         1,154.0  1,000,000.0   \n",
       "Seahorse Pipeline                                1,126.5    800,000.0   \n",
       "Trans Mountain Oil Pipeline                        980.0    290,000.0   \n",
       "AMBO Oil Pipeline                                  912.0    750,000.0   \n",
       "Kirkuk-Baniyas Oil Pipelines                       800.0  1,250,000.0   \n",
       "Kirkuk-Baniyas Oil Pipelines                       800.0  1,500,000.0   \n",
       "Kirkuk-Baniyas Oil Pipelines                       800.0    300,000.0   \n",
       "Vostok Oil Pipeline                                800.0                \n",
       "Vaca Muerta Sur Oil Pipeline                       700.0                \n",
       "\n",
       "                                                                    Countries  \\\n",
       "PipelineName                                                                    \n",
       "Niger–Benin Oil Pipeline                                         Niger, Benin   \n",
       "Tazama Oil Pipeline                                          Tanzania, Zambia   \n",
       "Paradip Numaligarh Crude Pipeline (PNCPL)                               India   \n",
       "East African Crude Oil Pipeline (EACOP)                      Uganda, Tanzania   \n",
       "Angola-Zambia Oil Pipeline                                     Angola, Zambia   \n",
       "New Mundra–Panipat Oil Pipeline                                         India   \n",
       "Basra-Aqaba Oil Pipeline                                         Iraq, Jordan   \n",
       "Seahorse Pipeline                                               United States   \n",
       "Trans Mountain Oil Pipeline                                            Canada   \n",
       "AMBO Oil Pipeline                          Bulgaria, North Macedonia, Albania   \n",
       "Kirkuk-Baniyas Oil Pipelines                                      Iraq, Syria   \n",
       "Kirkuk-Baniyas Oil Pipelines                                      Iraq, Syria   \n",
       "Kirkuk-Baniyas Oil Pipelines                                      Iraq, Syria   \n",
       "Vostok Oil Pipeline                                                    Russia   \n",
       "Vaca Muerta Sur Oil Pipeline                                        Argentina   \n",
       "\n",
       "                                                 Status StartYearEarliest  \\\n",
       "PipelineName                                                                \n",
       "Niger–Benin Oil Pipeline                   Construction           2,024.0   \n",
       "Tazama Oil Pipeline                            Proposed                     \n",
       "Paradip Numaligarh Crude Pipeline (PNCPL)  Construction           2,024.0   \n",
       "East African Crude Oil Pipeline (EACOP)        Proposed           2,025.0   \n",
       "Angola-Zambia Oil Pipeline                     Proposed           2,026.0   \n",
       "New Mundra–Panipat Oil Pipeline                Proposed           2,024.0   \n",
       "Basra-Aqaba Oil Pipeline                       Proposed                     \n",
       "Seahorse Pipeline                              Proposed           2,022.0   \n",
       "Trans Mountain Oil Pipeline                Construction           2,023.0   \n",
       "AMBO Oil Pipeline                              Proposed                     \n",
       "Kirkuk-Baniyas Oil Pipelines                   Proposed                     \n",
       "Kirkuk-Baniyas Oil Pipelines                   Proposed                     \n",
       "Kirkuk-Baniyas Oil Pipelines                   Proposed                     \n",
       "Vostok Oil Pipeline                            Proposed           2,022.0   \n",
       "Vaca Muerta Sur Oil Pipeline                   Proposed                     \n",
       "\n",
       "                                                                                        Wiki  \\\n",
       "PipelineName                                                                                   \n",
       "Niger–Benin Oil Pipeline                   https://www.gem.wiki/Niger%E2%80%93Benin_Oil_P...   \n",
       "Tazama Oil Pipeline                                 https://www.gem.wiki/Tazama_Oil_Pipeline   \n",
       "Paradip Numaligarh Crude Pipeline (PNCPL)  https://www.gem.wiki/Paradip_Numaligarh_Crude_...   \n",
       "East African Crude Oil Pipeline (EACOP)    https://www.gem.wiki/East_African_Crude_Oil_Pi...   \n",
       "Angola-Zambia Oil Pipeline                   https://www.gem.wiki/Angola-Zambia_Oil_Pipeline   \n",
       "New Mundra–Panipat Oil Pipeline            https://www.gem.wiki/New_Mundra%E2%80%93Panipa...   \n",
       "Basra-Aqaba Oil Pipeline                       https://www.gem.wiki/Basra-Aqaba_Oil_Pipeline   \n",
       "Seahorse Pipeline                                     https://www.gem.wiki/Seahorse_Pipeline   \n",
       "Trans Mountain Oil Pipeline                 https://www.gem.wiki/Trans_Mountain_Oil_Pipeline   \n",
       "AMBO Oil Pipeline                                     https://www.gem.wiki/AMBO_Oil_Pipeline   \n",
       "Kirkuk-Baniyas Oil Pipelines               https://www.gem.wiki/Kirkuk-Baniyas_Oil_Pipelines   \n",
       "Kirkuk-Baniyas Oil Pipelines               https://www.gem.wiki/Kirkuk-Baniyas_Oil_Pipelines   \n",
       "Kirkuk-Baniyas Oil Pipelines               https://www.gem.wiki/Kirkuk-Baniyas_Oil_Pipelines   \n",
       "Vostok Oil Pipeline                                 https://www.gem.wiki/Vostok_Oil_Pipeline   \n",
       "Vaca Muerta Sur Oil Pipeline               https://www.gem.wiki/Vaca_Muerta_Sur_Oil_Pipeline   \n",
       "\n",
       "                                           CostUSDTotalEstimate  \n",
       "PipelineName                                                     \n",
       "Niger–Benin Oil Pipeline                                    7.0  \n",
       "Tazama Oil Pipeline                                         7.8  \n",
       "Paradip Numaligarh Crude Pipeline (PNCPL)                   4.0  \n",
       "East African Crude Oil Pipeline (EACOP)                     5.0  \n",
       "Angola-Zambia Oil Pipeline                                  6.3  \n",
       "New Mundra–Panipat Oil Pipeline                             1.2  \n",
       "Basra-Aqaba Oil Pipeline                                   22.0  \n",
       "Seahorse Pipeline                                           3.6  \n",
       "Trans Mountain Oil Pipeline                                17.1  \n",
       "AMBO Oil Pipeline                                           2.1  \n",
       "Kirkuk-Baniyas Oil Pipelines                                2.5  \n",
       "Kirkuk-Baniyas Oil Pipelines                                2.5  \n",
       "Kirkuk-Baniyas Oil Pipelines                                8.0  \n",
       "Vostok Oil Pipeline                                         1.7  \n",
       "Vaca Muerta Sur Oil Pipeline                                2.5  "
      ]
     },
     "execution_count": 66,
     "metadata": {},
     "output_type": "execute_result"
    }
   ],
   "source": [
    "table_for_top10 = pipes_df_orig.loc[(pipes_df_orig.Fuel=='Oil')&\n",
    "                  (pipes_df_orig.Status.isin(['Proposed','Construction']))].sort_values(\n",
    "    'LengthKnownKm', ascending=False)[['PipelineName','LengthKnownKm','CapacityBOEd','Countries','Status','StartYearEarliest','Wiki','ProjectID']].set_index('PipelineName')[:15]\n",
    "\n",
    "table_for_top10 = table_for_top10.reset_index()\n",
    "table_for_top10.set_index('ProjectID', inplace=True)\n",
    "table_for_top10['CostUSDTotalEstimate'] = costs_temp_df[:]/1e9\n",
    "table_for_top10 = table_for_top10.reset_index()\n",
    "table_for_top10.set_index('PipelineName', inplace=True)\n",
    "table_for_top10.replace(numpy.nan,'')[['LengthKnownKm','CapacityBOEd','Countries','Status','StartYearEarliest','Wiki','CostUSDTotalEstimate']]"
   ]
  },
  {
   "cell_type": "markdown",
   "id": "4034bc9f-3041-4dad-b694-ca8e83faa4d0",
   "metadata": {},
   "source": [
    "## biggest pipeline projects by name in China, rather than individual ProjectID"
   ]
  },
  {
   "cell_type": "code",
   "execution_count": 67,
   "id": "f91993c0-dda7-4493-9a8b-6ccf7a1b0186",
   "metadata": {
    "tags": []
   },
   "outputs": [
    {
     "data": {
      "text/html": [
       "<div>\n",
       "<style scoped>\n",
       "    .dataframe tbody tr th:only-of-type {\n",
       "        vertical-align: middle;\n",
       "    }\n",
       "\n",
       "    .dataframe tbody tr th {\n",
       "        vertical-align: top;\n",
       "    }\n",
       "\n",
       "    .dataframe thead th {\n",
       "        text-align: right;\n",
       "    }\n",
       "</style>\n",
       "<table border=\"1\" class=\"dataframe\">\n",
       "  <thead>\n",
       "    <tr style=\"text-align: right;\">\n",
       "      <th></th>\n",
       "      <th></th>\n",
       "      <th></th>\n",
       "      <th>LengthMergedKm</th>\n",
       "    </tr>\n",
       "    <tr>\n",
       "      <th>PipelineName</th>\n",
       "      <th>Status</th>\n",
       "      <th>Wiki</th>\n",
       "      <th></th>\n",
       "    </tr>\n",
       "  </thead>\n",
       "  <tbody>\n",
       "    <tr>\n",
       "      <th>Rizhao–Yizheng Parallel Oil Pipeline</th>\n",
       "      <th>Proposed</th>\n",
       "      <th>https://www.gem.wiki/Rizhao%E2%80%93Yizheng_Parallel_Oil_Pipeline</th>\n",
       "      <td>400.0</td>\n",
       "    </tr>\n",
       "    <tr>\n",
       "      <th>Dongjiakou–Yishui–Zibo Oil Pipeline</th>\n",
       "      <th>Proposed</th>\n",
       "      <th>https://www.gem.wiki/Dongjiakou%E2%80%93Yishui%E2%80%93Zibo_Oil_Pipeline</th>\n",
       "      <td>217.0</td>\n",
       "    </tr>\n",
       "    <tr>\n",
       "      <th>Rizhao–Zhanhua Oil Pipeline</th>\n",
       "      <th>Proposed</th>\n",
       "      <th>https://www.gem.wiki/Rizhao%E2%80%93Zhanhua_Oil_Pipeline</th>\n",
       "      <td>180.0</td>\n",
       "    </tr>\n",
       "    <tr>\n",
       "      <th>Huangdao-Lanshan Oil Pipeline</th>\n",
       "      <th>Proposed</th>\n",
       "      <th>https://www.gem.wiki/Huangdao-Lanshan_Oil_Pipeline</th>\n",
       "      <td>154.0</td>\n",
       "    </tr>\n",
       "    <tr>\n",
       "      <th>Dongying–Guangrao Oil Pipeline</th>\n",
       "      <th>Construction</th>\n",
       "      <th>https://www.gem.wiki/Dongying%E2%80%93Guangrao_Oil_Pipeline</th>\n",
       "      <td>150.0</td>\n",
       "    </tr>\n",
       "    <tr>\n",
       "      <th>Panjin–Jinzhou Oil Pipeline</th>\n",
       "      <th>Construction</th>\n",
       "      <th>https://www.gem.wiki/Panjin%E2%80%93Jinzhou_Oil_Pipeline</th>\n",
       "      <td>140.0</td>\n",
       "    </tr>\n",
       "    <tr>\n",
       "      <th>Jianli–Qianjiang Oil Pipeline</th>\n",
       "      <th>Construction</th>\n",
       "      <th>https://www.gem.wiki/Jianli%E2%80%93Qianjiang_Oil_Pipeline</th>\n",
       "      <td>128.0</td>\n",
       "    </tr>\n",
       "    <tr>\n",
       "      <th>Yantai Port Xigang District–Longkou Yulong Island Oil Pipeline</th>\n",
       "      <th>Proposed</th>\n",
       "      <th>https://www.gem.wiki/Yantai_Port_Xigang_District%E2%80%93Longkou_Yulong_Island_Oil_Pipeline</th>\n",
       "      <td>101.0</td>\n",
       "    </tr>\n",
       "    <tr>\n",
       "      <th>Huangze Operation Area-Caojing Crude Oil Submarine Pipeline</th>\n",
       "      <th>Proposed</th>\n",
       "      <th>https://www.gem.wiki/Huangze_Operation_Area-Caojing_Crude_Oil_Submarine_Pipeline</th>\n",
       "      <td>90.0</td>\n",
       "    </tr>\n",
       "    <tr>\n",
       "      <th>Jinzhou-Dayou-Panjin Oil Pipeline</th>\n",
       "      <th>Proposed</th>\n",
       "      <th>https://www.gem.wiki/Jinzhou-Dayou-Panjin_Oil_Pipeline</th>\n",
       "      <td>81.3</td>\n",
       "    </tr>\n",
       "    <tr>\n",
       "      <th>Ningbo-Shanghai-Nanjing Oil Pipeline</th>\n",
       "      <th>Proposed</th>\n",
       "      <th>https://www.gem.wiki/Ningbo-Shanghai-Nanjing_Oil_Pipeline</th>\n",
       "      <td>62.0</td>\n",
       "    </tr>\n",
       "    <tr>\n",
       "      <th>Xianren Island-Panjin Liaodongwan New District Oil Pipeline</th>\n",
       "      <th>Proposed</th>\n",
       "      <th>https://www.gem.wiki/Xianren_Island-Panjin_Liaodongwan_New_District_Oil_Pipeline</th>\n",
       "      <td>59.8</td>\n",
       "    </tr>\n",
       "    <tr>\n",
       "      <th>Yantai-Zibo Oil Pipeline 2</th>\n",
       "      <th>Proposed</th>\n",
       "      <th>https://www.gem.wiki/Yantai-Zibo_Oil_Pipeline_2</th>\n",
       "      <td>59.0</td>\n",
       "    </tr>\n",
       "    <tr>\n",
       "      <th>Binzhou Port-Xingyue Oil Pipeline</th>\n",
       "      <th>Proposed</th>\n",
       "      <th>https://www.gem.wiki/Binzhou_Port-Xingyue_Oil_Pipeline</th>\n",
       "      <td>47.0</td>\n",
       "    </tr>\n",
       "    <tr>\n",
       "      <th>Jintang-Cezi Oil Pipeline</th>\n",
       "      <th>Proposed</th>\n",
       "      <th>https://www.gem.wiki/Jintang-Cezi_Oil_Pipeline</th>\n",
       "      <td>31.5</td>\n",
       "    </tr>\n",
       "    <tr>\n",
       "      <th>Lianjiang–Maoming Oil Pipeline</th>\n",
       "      <th>Construction</th>\n",
       "      <th>https://www.gem.wiki/Lianjiang%E2%80%93Maoming_Oil_Pipeline</th>\n",
       "      <td>22.0</td>\n",
       "    </tr>\n",
       "    <tr>\n",
       "      <th>Xiazhi Island-East/West Bailian-Liuheng Crude Oil Pipeline</th>\n",
       "      <th>Proposed</th>\n",
       "      <th>https://www.gem.wiki/Xiazhi_Island-East/West_Bailian-Liuheng_Crude_Oil_Pipeline</th>\n",
       "      <td>20.0</td>\n",
       "    </tr>\n",
       "    <tr>\n",
       "      <th>Cezi-Mamu Oil Pipeline</th>\n",
       "      <th>Proposed</th>\n",
       "      <th>https://www.gem.wiki/Cezi-Mamu_Oil_Pipeline</th>\n",
       "      <td>19.7</td>\n",
       "    </tr>\n",
       "    <tr>\n",
       "      <th>Changxing Island–Xizhong Island Oil Pipeline</th>\n",
       "      <th>Proposed</th>\n",
       "      <th>https://www.gem.wiki/Changxing_Island%E2%80%93Xizhong_Island_Oil_Pipeline</th>\n",
       "      <td>9.4</td>\n",
       "    </tr>\n",
       "  </tbody>\n",
       "</table>\n",
       "</div>"
      ],
      "text/plain": [
       "                                                                                                                    LengthMergedKm\n",
       "PipelineName                                       Status       Wiki                                                              \n",
       "Rizhao–Yizheng Parallel Oil Pipeline               Proposed     https://www.gem.wiki/Rizhao%E2%80%93Yizheng_Par...           400.0\n",
       "Dongjiakou–Yishui–Zibo Oil Pipeline                Proposed     https://www.gem.wiki/Dongjiakou%E2%80%93Yishui%...           217.0\n",
       "Rizhao–Zhanhua Oil Pipeline                        Proposed     https://www.gem.wiki/Rizhao%E2%80%93Zhanhua_Oil...           180.0\n",
       "Huangdao-Lanshan Oil Pipeline                      Proposed     https://www.gem.wiki/Huangdao-Lanshan_Oil_Pipeline           154.0\n",
       "Dongying–Guangrao Oil Pipeline                     Construction https://www.gem.wiki/Dongying%E2%80%93Guangrao_...           150.0\n",
       "Panjin–Jinzhou Oil Pipeline                        Construction https://www.gem.wiki/Panjin%E2%80%93Jinzhou_Oil...           140.0\n",
       "Jianli–Qianjiang Oil Pipeline                      Construction https://www.gem.wiki/Jianli%E2%80%93Qianjiang_O...           128.0\n",
       "Yantai Port Xigang District–Longkou Yulong Isla... Proposed     https://www.gem.wiki/Yantai_Port_Xigang_Distric...           101.0\n",
       "Huangze Operation Area-Caojing Crude Oil Submar... Proposed     https://www.gem.wiki/Huangze_Operation_Area-Cao...            90.0\n",
       "Jinzhou-Dayou-Panjin Oil Pipeline                  Proposed     https://www.gem.wiki/Jinzhou-Dayou-Panjin_Oil_P...            81.3\n",
       "Ningbo-Shanghai-Nanjing Oil Pipeline               Proposed     https://www.gem.wiki/Ningbo-Shanghai-Nanjing_Oi...            62.0\n",
       "Xianren Island-Panjin Liaodongwan New District ... Proposed     https://www.gem.wiki/Xianren_Island-Panjin_Liao...            59.8\n",
       "Yantai-Zibo Oil Pipeline 2                         Proposed     https://www.gem.wiki/Yantai-Zibo_Oil_Pipeline_2               59.0\n",
       "Binzhou Port-Xingyue Oil Pipeline                  Proposed     https://www.gem.wiki/Binzhou_Port-Xingyue_Oil_P...            47.0\n",
       "Jintang-Cezi Oil Pipeline                          Proposed     https://www.gem.wiki/Jintang-Cezi_Oil_Pipeline                31.5\n",
       "Lianjiang–Maoming Oil Pipeline                     Construction https://www.gem.wiki/Lianjiang%E2%80%93Maoming_...            22.0\n",
       "Xiazhi Island-East/West Bailian-Liuheng Crude O... Proposed     https://www.gem.wiki/Xiazhi_Island-East/West_Ba...            20.0\n",
       "Cezi-Mamu Oil Pipeline                             Proposed     https://www.gem.wiki/Cezi-Mamu_Oil_Pipeline                   19.7\n",
       "Changxing Island–Xizhong Island Oil Pipeline       Proposed     https://www.gem.wiki/Changxing_Island%E2%80%93X...             9.4"
      ]
     },
     "execution_count": 67,
     "metadata": {},
     "output_type": "execute_result"
    }
   ],
   "source": [
    "biggest_pipeline_names_table = pandas.DataFrame(pipes_df_orig.loc[(pipes_df_orig.Fuel=='Oil')&\n",
    "                                                                  (pipes_df_orig.Status.isin(['Proposed','Construction']))&\n",
    "                                                                  (pipes_df_orig.Countries.str.contains('China'))].groupby(['PipelineName','Status','Wiki'])['LengthMergedKm'].sum(min_count=1).sort_values(ascending=False)[:19])\n",
    "\n",
    "biggest_pipeline_names_table"
   ]
  },
  {
   "cell_type": "markdown",
   "id": "0ca10b06-27b4-49d0-aea2-4d3aa2801104",
   "metadata": {},
   "source": [
    "## km of pipeline with 2023, 2024 start years"
   ]
  },
  {
   "cell_type": "code",
   "execution_count": 68,
   "id": "41b7f22a-4a20-4a9f-a581-8cbabbe35d5b",
   "metadata": {
    "tags": []
   },
   "outputs": [
    {
     "name": "stdout",
     "output_type": "stream",
     "text": [
      "2601.1 3730.0\n",
      "1235.56 2403.5\n"
     ]
    }
   ],
   "source": [
    "# for the key points\n",
    "print(pipes_indev_startyear.loc['Construction',2023],\n",
    "      pipes_indev_startyear.loc['Construction',2024])\n",
    "\n",
    "print(pipes_indev_startyear.loc['Proposed',2023],\n",
    "      pipes_indev_startyear.loc['Proposed',2024])"
   ]
  },
  {
   "cell_type": "markdown",
   "id": "7e63a1db-0270-4177-ab3e-938d02509c20",
   "metadata": {},
   "source": [
    "## km of oil pipelines globally in development\n",
    "\n",
    "note this doesn't match up exactly with regional length calculations"
   ]
  },
  {
   "cell_type": "code",
   "execution_count": 69,
   "id": "75452ad0-615e-4b4d-89d5-4891d71902d2",
   "metadata": {
    "tags": []
   },
   "outputs": [
    {
     "data": {
      "text/plain": [
       "31059.8"
      ]
     },
     "execution_count": 69,
     "metadata": {},
     "output_type": "execute_result"
    }
   ],
   "source": [
    "pipes_df_calc = pipes_df_orig.copy()\n",
    "pipes_df_calc.replace('--',numpy.nan,inplace=True)\n",
    "pipes_df_calc[(pipes_df_calc['Status'].isin(['Proposed','Construction'])) &\n",
    "        (pipes_df_calc['Fuel']=='Oil')]['LengthMergedKm'].sum()"
   ]
  },
  {
   "cell_type": "code",
   "execution_count": 70,
   "id": "06e0be20-2354-41c1-9838-53e0fa458e9b",
   "metadata": {
    "tags": []
   },
   "outputs": [],
   "source": [
    "regional_km_sums_df = pandas.DataFrame(index=region_list, columns=status_list)\n",
    "\n",
    "for status in status_list:\n",
    "    regional_km_sums_df[status] = pipes_df_calc[(pipes_df_calc['Fuel']=='Oil') &\n",
    "                                                (pipes_df_calc['Status']==status)].groupby('StartRegion')['LengthMergedKm'].sum()\n",
    "\n",
    "regional_km_sums_df['P+C'] = regional_km_sums_df[['Proposed','Construction']].sum(axis=1)\n",
    "total_row = regional_km_sums_df.sum(axis=0)\n",
    "total_row.name = 'Total'\n",
    "#regional_km_sums_df.append(total_row)"
   ]
  },
  {
   "cell_type": "markdown",
   "id": "db6f746e",
   "metadata": {},
   "source": [
    "## country shares analysis"
   ]
  },
  {
   "cell_type": "code",
   "execution_count": 71,
   "id": "636ea038",
   "metadata": {
    "tags": []
   },
   "outputs": [
    {
     "data": {
      "text/plain": [
       "31060.159999999996"
      ]
     },
     "execution_count": 71,
     "metadata": {},
     "output_type": "execute_result"
    }
   ],
   "source": [
    "country_ratios_df[(country_ratios_df['Status'].isin(['Proposed','Construction'])) &\n",
    "               (country_ratios_df['Fuel']=='Oil')]['MergedKmByCountry'].sum()"
   ]
  },
  {
   "cell_type": "markdown",
   "id": "4d2b5f76-95a2-4233-b862-d6a0fad3bb0f",
   "metadata": {},
   "source": [
    "## num in dev globally, whether capacity expansions or not"
   ]
  },
  {
   "cell_type": "code",
   "execution_count": 72,
   "id": "fc4d8622-e562-4ccc-b0c8-7b0f78ae6d77",
   "metadata": {
    "tags": []
   },
   "outputs": [
    {
     "name": "stdout",
     "output_type": "stream",
     "text": [
      "capacity expansion projects: (6, 93)\n",
      "non-zero length projects: (114, 93)\n"
     ]
    }
   ],
   "source": [
    "print(\"capacity expansion projects:\",\n",
    "    pipes_df_orig.loc[(pipes_df_orig.Fuel=='Oil')&\n",
    "                  (pipes_df_orig.Status.isin(['Proposed','Construction']))&\n",
    "                  (pipes_df_orig.Route.isin(['Capacity expansion only','Bidirectionality upgrade only']))].shape)\n",
    "\n",
    "print(\"non-zero length projects:\",\n",
    "      pipes_df_orig.loc[(pipes_df_orig.Fuel=='Oil')&\n",
    "                  (pipes_df_orig.Status.isin(['Proposed','Construction']))&\n",
    "                  (~pipes_df_orig.Route.isin(['Capacity expansion only','Bidirectionality upgrade only']))].shape)"
   ]
  },
  {
   "cell_type": "code",
   "execution_count": 73,
   "id": "21a96bd8-e464-4591-aba3-79d35a185654",
   "metadata": {
    "tags": []
   },
   "outputs": [
    {
     "name": "stdout",
     "output_type": "stream",
     "text": [
      "3878   220,000.0\n",
      "3938    70,000.0\n",
      "4004   250,000.0\n",
      "4129         NaN\n",
      "4265    98,301.2\n",
      "4310   294,903.6\n",
      "Name: CapacityBOEd, dtype: object\n",
      "                    Countries CapacityBOEd\n",
      "3878            United States    220,000.0\n",
      "3938            United States     70,000.0\n",
      "4004            United States    250,000.0\n",
      "4129                    China          NaN\n",
      "4265  Austria, Germany, Italy     98,301.2\n",
      "4310                   Russia    294,903.6\n"
     ]
    }
   ],
   "source": [
    "print(pipes_df_orig.loc[(pipes_df_orig.Fuel=='Oil')&\n",
    "                  (pipes_df_orig.Status.isin(['Proposed','Construction']))&\n",
    "                  (pipes_df_orig.Route.isin(['Capacity expansion only','Bidirectionality upgrade only']))]['CapacityBOEd'])\n",
    "\n",
    "print(pipes_df_orig.loc[(pipes_df_orig.Fuel=='Oil')&\n",
    "                  (pipes_df_orig.Status.isin(['Proposed','Construction']))&\n",
    "                  (pipes_df_orig.Route.isin(['Capacity expansion only','Bidirectionality upgrade only']))][['Countries','CapacityBOEd']])"
   ]
  }
 ],
 "metadata": {
  "kernelspec": {
   "display_name": "Python 3 (ipykernel)",
   "language": "python",
   "name": "python3"
  },
  "language_info": {
   "codemirror_mode": {
    "name": "ipython",
    "version": 3
   },
   "file_extension": ".py",
   "mimetype": "text/x-python",
   "name": "python",
   "nbconvert_exporter": "python",
   "pygments_lexer": "ipython3",
   "version": "3.9.16"
  }
 },
 "nbformat": 4,
 "nbformat_minor": 5
}
