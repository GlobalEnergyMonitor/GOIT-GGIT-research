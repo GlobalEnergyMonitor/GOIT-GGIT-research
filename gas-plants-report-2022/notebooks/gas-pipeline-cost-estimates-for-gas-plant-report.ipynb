{
 "cells": [
  {
   "cell_type": "code",
   "execution_count": 63,
   "id": "3b38c4c2",
   "metadata": {},
   "outputs": [],
   "source": [
    "import pandas\n",
    "\n",
    "import pygsheets\n",
    "import numpy\n",
    "import scipy\n",
    "import re\n",
    "\n",
    "import matplotlib\n",
    "import matplotlib.pyplot as mp\n",
    "import matplotlib.cm\n",
    "\n",
    "import textwrap\n",
    "import seaborn"
   ]
  },
  {
   "cell_type": "markdown",
   "id": "28d79664-a683-49e9-a117-fed730f6b0b7",
   "metadata": {},
   "source": [
    "## define colors used in bars"
   ]
  },
  {
   "cell_type": "code",
   "execution_count": 64,
   "id": "c7a2b377-3968-4c9f-a5fa-6f1dcb621dea",
   "metadata": {},
   "outputs": [],
   "source": [
    "sel_cmap = matplotlib.cm.get_cmap('Reds')\n",
    "tracker_operating = sel_cmap(0.999)\n",
    "tracker_construction = sel_cmap(0.8)\n",
    "tracker_proposed = sel_cmap(0.6)\n",
    "tracker_shelved = sel_cmap(0.4)\n",
    "tracker_cancelled = sel_cmap(0.2)"
   ]
  },
  {
   "cell_type": "markdown",
   "id": "c5e51996-e86d-4e84-81b9-adfed4434b8b",
   "metadata": {},
   "source": [
    "# import data directly from google sheets"
   ]
  },
  {
   "cell_type": "code",
   "execution_count": 226,
   "id": "029bc7eb-d141-4e01-a747-e0b5b03f1f53",
   "metadata": {},
   "outputs": [],
   "source": [
    "credentials_directory = '/Users/baird/Dropbox/_google-api/'\n",
    "gc = pygsheets.authorize(client_secret=credentials_directory+'client_secret.json')\n",
    "spreadsheet = gc.open_by_key('1BshhQvcBOhqW4OPkMHXkZBdz9zYvS9q4ockW9yKufGQ') # specific doc for report\n",
    "\n",
    "#spreadsheet[1] \"Gas Pipelines\" tab is the second index\n",
    "gas_pipes = spreadsheet.worksheet('title','Gas pipelines').get_as_df(start='A2')\n",
    "oil_pipes = spreadsheet.worksheet('title', 'Oil/NGL pipelines').get_as_df(start='A2')\n",
    "\n",
    "pipes_df_orig = pandas.concat([oil_pipes, gas_pipes], ignore_index=True)\n",
    "\n",
    "#get country ratios sheet\n",
    "country_ratios_df = spreadsheet.worksheet('title', 'Country ratios by pipeline').get_as_df()"
   ]
  },
  {
   "cell_type": "code",
   "execution_count": 179,
   "id": "2aed6720-4918-47bd-a9fd-c77d41d22b53",
   "metadata": {},
   "outputs": [],
   "source": [
    "owners_df_orig = spreadsheet.worksheet('title', 'Pipeline operators/owners (1/3)').get_as_df(start='A2')\n",
    "owners_df_orig = owners_df_orig.loc[owners_df_orig.ProjectID!='']\n",
    "owners_df_orig = owners_df_orig.loc[owners_df_orig.Wiki!='']\n",
    "owners_df = owners_df_orig.replace('',numpy.nan)\n",
    "\n",
    "owner_parent_links_df = spreadsheet.worksheet('title', 'Owner–parent relationships (2/3)').get_as_df(start='A2')\n",
    "# only keep the owners with a checked relationship\n",
    "owner_parent_links_df = owner_parent_links_df.loc[owner_parent_links_df['Parent–Owner Relationship Checked?']=='yes']\n",
    "owner_parent_links_df.replace('',numpy.nan,inplace=True)\n",
    "\n",
    "parents_df = spreadsheet.worksheet('title', 'Parent metadata (3/3)').get_as_df(start='A2')\n",
    "parents_df = parents_df.loc[parents_df.Parent!='']\n",
    "\n",
    "owners_df.set_index('ProjectID', inplace=True)\n",
    "owner_parent_links_df.set_index('Owner', inplace=True)\n",
    "parents_df.set_index('Parent', inplace=True)\n",
    "\n",
    "# ****************************************\n",
    "\n",
    "## create list of owner and parent column names\n",
    "owner_pct_col_names = []\n",
    "owner_col_names = []\n",
    "\n",
    "parent_pct_col_names = []\n",
    "parent_col_names = []\n",
    "\n",
    "for num in range(1,11+1):\n",
    "    owner_pct_col = f'Owner{num}%'\n",
    "    owner_pct_col_names.append(owner_pct_col)\n",
    "    \n",
    "    owner_col = f'Owner{num}'\n",
    "    owner_col_names.append(owner_col)\n",
    "    \n",
    "    parent_pct_col = f'Parent{num}%'\n",
    "    parent_pct_col_names.append(parent_pct_col)\n",
    "    \n",
    "    parent_col = f'Parent{num}'\n",
    "    parent_col_names.append(parent_col)\n",
    "\n",
    "# ****************************************\n",
    "## fill in missing parent info by borrowing owner info\n",
    "owners_FULL_set = owners_df[owner_col_names].stack().dropna().unique().tolist() # from owners_df\n",
    "owners_researched_set = list(set(owner_parent_links_df.index.to_list()))#+['Unknown'] # only existing owners, plus 'Unknown'\n",
    "owners_diff = list(set(owners_FULL_set)-set(owners_researched_set))\n",
    "owners_diff.append('Unknown')\n",
    "\n",
    "# update owner_parent_links_df with these extra owners\n",
    "owner_parent_links_df = pandas.concat([owner_parent_links_df, pandas.DataFrame(index=owners_diff, columns=owner_parent_links_df.columns)])\n",
    "owner_parent_links_df['Parent1'].loc[owners_diff] = owners_diff\n",
    "owner_parent_links_df['Parent1%'].loc[owners_diff] = '100.00%'\n",
    "\n",
    "# ****************************************\n",
    "# update parents_df with these as well\n",
    "# note countries will be unknkown...\n",
    "parents_set = list(set(parents_df.index.to_list()))\n",
    "parents_diff = list(set(owners_diff)-set(parents_set))\n",
    "parents_diff.append('Unknown')\n",
    "parents_df = pandas.concat([parents_df, pandas.DataFrame(numpy.nan, index=parents_diff, columns=parents_df.columns)])\n",
    "parents_df.loc[parents_diff,'ParentHQCountry'] = 'Unknown'"
   ]
  },
  {
   "cell_type": "markdown",
   "id": "e6e9c406-eada-4fde-8471-dbbb5aeb2e75",
   "metadata": {},
   "source": [
    "## for offline excel file (when you gotta do work without internet)"
   ]
  },
  {
   "cell_type": "raw",
   "id": "eafd8cb7-e090-4624-8f20-4a510faaa6f1",
   "metadata": {},
   "source": [
    "pipes_df_orig.to_excel('pipes_df_orig.xlsx', index=False)\n",
    "owners_df.to_excel('owners_df.xlsx', index=False)\n",
    "country_ratios_df.to_excel('country_ratios_df.xlsx', index=False)"
   ]
  },
  {
   "cell_type": "raw",
   "id": "8ae2c53a-c04e-49c7-8e19-d6af2c90a429",
   "metadata": {},
   "source": [
    "#spreadsheet = pandas.read_excel()\n",
    "\n",
    "file_name = '/Users/baird/Dropbox/_gem-docs/reports-gem-writing/briefing-oil-pipelies-2022/Pipelines (Gas_Oil_NGL) - main - for offline edits.xlsx'\n",
    "gas_pipes = pandas.read_excel(file_name, sheet_name='Gas pipelines')#.get_as_df()\n",
    "oil_pipes = pandas.read_excel(file_name, sheet_name='OilNGL pipelines')\n",
    "\n",
    "columns_not_in_oil = list(set(gas_pipes.columns)-set(oil_pipes.columns))\n",
    "columns_not_in_gas = list(set(oil_pipes.columns)-set(gas_pipes.columns))\n",
    "gas_pipes.drop(columns=columns_not_in_oil, axis=1, inplace=True)\n",
    "oil_pipes.drop(columns=columns_not_in_gas, axis=1, inplace=True)\n",
    "\n",
    "pipes_df_orig = pandas.concat([oil_pipes, gas_pipes], ignore_index=True)\n",
    "\n",
    "country_ratios_df = pandas.read_excel(file_name, sheet_name='Country ratios by pipeline')\n",
    "owners_df = pandas.read_excel(file_name, sheet_name='Pipeline operatorsowners (13)')\n",
    "owners_df.set_index('ProjectID', inplace=True)"
   ]
  },
  {
   "cell_type": "raw",
   "id": "5bcff50f-0510-499b-ae74-ddc8ecb6e508",
   "metadata": {},
   "source": [
    "# corrections\n",
    "\n",
    "# P2584 has a \"no route\" instead of \"capacity expansion only\"\n",
    "pipes_df_orig.loc[pipes_df_orig.ProjectID=='P2584','Route'] = ''\n",
    "pipes_df_orig.loc[pipes_df_orig.ProjectID=='P2584','RouteAccuracy'] = 'no route'"
   ]
  },
  {
   "cell_type": "markdown",
   "id": "c03ad170",
   "metadata": {},
   "source": [
    "## replace \"--\" with NaN, removing empty rows\n",
    "\n",
    "the dataset is structured to have -- wherever there's a lookup value that doesn't exist; replacing it with NaN (numpy.nan) allows pandas to treat it as a null value, which makes calculations much easier"
   ]
  },
  {
   "cell_type": "code",
   "execution_count": 180,
   "id": "53a9af81",
   "metadata": {},
   "outputs": [],
   "source": [
    "# replace -- entries with NaN\n",
    "pipes_df_orig = pipes_df_orig.replace('--', numpy.nan)\n",
    "pipes_df_orig = pipes_df_orig[pipes_df_orig['PipelineName']!='']\n",
    "pipes_df_orig = pipes_df_orig[pipes_df_orig['Wiki']!='']\n",
    "country_ratios_df.replace('--', numpy.nan, inplace=True)"
   ]
  },
  {
   "cell_type": "markdown",
   "id": "a28ad2a3",
   "metadata": {},
   "source": [
    "# km by country, km by region calculations"
   ]
  },
  {
   "cell_type": "code",
   "execution_count": 181,
   "id": "b69bb35e",
   "metadata": {},
   "outputs": [],
   "source": [
    "status_list = ['Proposed', 'Construction', 'Shelved', 'Cancelled', 'Operating', 'Idle', 'Mothballed', 'Retired']\n",
    "country_list = sorted(list(set(country_ratios_df['Country'])))\n",
    "region_list = sorted(list(set(country_ratios_df['Region'])))"
   ]
  },
  {
   "cell_type": "code",
   "execution_count": 182,
   "id": "0f861f96",
   "metadata": {},
   "outputs": [
    {
     "name": "stdout",
     "output_type": "stream",
     "text": [
      "===country-level calculations===\n",
      "Proposed\n",
      "Construction\n",
      "Shelved\n",
      "Cancelled\n",
      "Operating\n",
      "Idle\n",
      "Mothballed\n",
      "Retired\n",
      "===regional calculations===\n",
      "Proposed\n",
      "Construction\n",
      "Shelved\n",
      "Cancelled\n",
      "Operating\n",
      "Idle\n",
      "Mothballed\n",
      "Retired\n"
     ]
    }
   ],
   "source": [
    "country_ratios_gas_df = country_ratios_df[country_ratios_df['Fuel']=='Gas']\n",
    "\n",
    "km_by_country_df = pandas.DataFrame(columns=status_list, index=country_list)\n",
    "km_by_region_df = pandas.DataFrame(columns=status_list, index=region_list)\n",
    "\n",
    "print('===country-level calculations===')\n",
    "for status in status_list:\n",
    "    print(status)\n",
    "    country_ratios_gas_df_status = country_ratios_gas_df[country_ratios_gas_df['Status']==status]\n",
    "    km_by_country_df[status] = country_ratios_gas_df_status.groupby('Country')['MergedKmByCountry'].sum()\n",
    "\n",
    "print('===regional calculations===')\n",
    "for status in status_list:\n",
    "    print(status)\n",
    "    country_ratios_gas_df_status = country_ratios_gas_df[country_ratios_gas_df['Status']==status]\n",
    "    km_by_region_df[status] = country_ratios_gas_df_status.groupby('Region')['MergedKmByCountry'].sum()\n",
    "\n",
    "# # fill NaN with 0.0\n",
    "km_by_region_df = km_by_region_df.fillna(0)\n",
    "km_by_country_df = km_by_country_df.fillna(0)"
   ]
  },
  {
   "cell_type": "code",
   "execution_count": 183,
   "id": "f27e1492-6919-456b-8519-a35e89c76f34",
   "metadata": {},
   "outputs": [],
   "source": [
    "km_by_region_df['Proposed+Construction'] = km_by_region_df[['Proposed','Construction']].sum(axis=1)\n",
    "km_by_region_df.sort_values(by='Proposed+Construction', inplace=True)\n",
    "km_by_region_df = km_by_region_df[['Proposed', 'Construction', 'Proposed+Construction', 'Shelved', 'Cancelled', 'Operating', 'Idle', 'Mothballed', 'Retired']]\n",
    "km_by_region_df.sort_values('Proposed+Construction', ascending=False, inplace=True)"
   ]
  },
  {
   "cell_type": "code",
   "execution_count": 184,
   "id": "38ef2764-c801-46f8-a82d-4803101a1f3b",
   "metadata": {},
   "outputs": [],
   "source": [
    "km_by_country_df['Proposed+Construction'] = km_by_country_df[['Proposed','Construction']].sum(axis=1)\n",
    "km_by_country_df.sort_values(by='Proposed+Construction', inplace=True)\n",
    "km_by_country_df = km_by_country_df[['Proposed', 'Construction', 'Proposed+Construction', 'Shelved', 'Cancelled', 'Operating', 'Idle', 'Mothballed', 'Retired']]\n",
    "km_by_country_df.sort_values('Proposed+Construction', ascending=False, inplace=True)"
   ]
  },
  {
   "cell_type": "markdown",
   "id": "15cab3a4-a85f-4813-8e3f-944747729946",
   "metadata": {},
   "source": [
    "## add Total row to km by country/region"
   ]
  },
  {
   "cell_type": "raw",
   "id": "7e73b537-02b9-4206-b45f-541ea2e9863f",
   "metadata": {},
   "source": [
    "if 'Total' not in km_by_country_df.index:\n",
    "    total_country = km_by_country_df.sum(axis=0)\n",
    "    total_country.name='Total'\n",
    "    km_by_country_df = km_by_country_df.append(total_country)\n",
    "\n",
    "if 'Total' not in km_by_region_df.index:\n",
    "    total_region = km_by_region_df.sum(axis=0)\n",
    "    total_region.name='Total'\n",
    "    km_by_region_df = km_by_region_df.append(total_region)\n",
    "\n",
    "#km_by_region_df.to_excel('GasKmByRegion.xlsx')\n",
    "#km_by_country_df.to_excel('GasKmByCountry.xlsx')"
   ]
  },
  {
   "cell_type": "markdown",
   "id": "c277d8a8-4ca4-491d-a172-2576d3346773",
   "metadata": {},
   "source": [
    "# projects by country, by region"
   ]
  },
  {
   "cell_type": "code",
   "execution_count": 185,
   "id": "9ff9810a-e55c-4a5c-89e4-7dbb2e4c6a48",
   "metadata": {},
   "outputs": [
    {
     "name": "stdout",
     "output_type": "stream",
     "text": [
      "===country-level calculations===\n",
      "Proposed\n",
      "Construction\n",
      "Shelved\n",
      "Cancelled\n",
      "Operating\n",
      "Idle\n",
      "Mothballed\n",
      "Retired\n",
      "===regional calculations===\n",
      "Proposed\n",
      "Construction\n",
      "Shelved\n",
      "Cancelled\n",
      "Operating\n",
      "Idle\n",
      "Mothballed\n",
      "Retired\n"
     ]
    }
   ],
   "source": [
    "country_ratios_gas_df = country_ratios_df[country_ratios_df['Fuel']=='Gas']\n",
    "\n",
    "num_by_country_df = pandas.DataFrame(columns=status_list, index=country_list)\n",
    "num_by_region_df = pandas.DataFrame(columns=status_list, index=region_list)\n",
    "\n",
    "print('===country-level calculations===')\n",
    "for status in status_list:\n",
    "    print(status)\n",
    "    country_ratios_gas_df_status = country_ratios_gas_df[country_ratios_gas_df['Status']==status]\n",
    "    num_by_country_df[status] = country_ratios_gas_df_status.groupby('ProjectID')['MergedKmByCountry'].sum()\n",
    "\n",
    "print('===regional calculations===')\n",
    "for status in status_list:\n",
    "    print(status)\n",
    "    country_ratios_gas_df_status = country_ratios_gas_df[country_ratios_gas_df['Status']==status]\n",
    "    num_by_region_df[status] = country_ratios_gas_df_status.groupby('Region')['MergedKmByCountry'].sum()\n",
    "\n",
    "# # fill NaN with 0.0\n",
    "num_by_region_df = num_by_region_df.fillna(0)\n",
    "num_by_country_df = num_by_country_df.fillna(0)"
   ]
  },
  {
   "cell_type": "markdown",
   "id": "99fe358c",
   "metadata": {},
   "source": [
    "# numbers of pipes finished in a given year"
   ]
  },
  {
   "cell_type": "code",
   "execution_count": 186,
   "id": "198c9165",
   "metadata": {},
   "outputs": [],
   "source": [
    "# count pipelines that are already operating\n",
    "pipes_started = pipes_df_orig.copy()\n",
    "pipes_started['StartYearEarliest'].replace(numpy.nan,'',inplace=True)\n",
    "pipes_started = pipes_started[(pipes_started['Status'].isin(['Operating'])) &\n",
    "                              (pipes_started['Fuel']=='Oil')]\n",
    "pipes_started_sum = pipes_started.groupby('StartYearEarliest')['LengthMergedKm'].sum()"
   ]
  },
  {
   "cell_type": "code",
   "execution_count": 187,
   "id": "8d9559e8-1fc7-49c1-833f-6e19e425e498",
   "metadata": {},
   "outputs": [],
   "source": [
    "# count km of pipeline for each start year\n",
    "pipes_started_startyear = pipes_df_orig.copy()\n",
    "pipes_started_startyear['StartYearEarliest'].replace(numpy.nan,'',inplace=True)\n",
    "pipes_started_startyear = pipes_started_startyear[(pipes_started_startyear['Status'].isin(['Operating'])) &\n",
    "                              (pipes_started_startyear['Fuel']=='Oil')]\n",
    "#pipes_started_startyear_sum = pipes_started_startyear.groupby('StartYearLatest')['LengthMergedKm'].sum()"
   ]
  },
  {
   "cell_type": "code",
   "execution_count": 188,
   "id": "b944ca0c-f362-4d07-a142-78b1523e988d",
   "metadata": {},
   "outputs": [],
   "source": [
    "# indev pipelines = Proposed or Construction or Shelved\n",
    "pipes_indev = pipes_df_orig.copy()\n",
    "pipes_indev = pipes_indev.loc[(pipes_indev.Fuel=='Gas')&\n",
    "                              (pipes_indev.Status.isin(['Proposed','Construction','Shelved']))].groupby('Status')['LengthMergedKm'].sum()\n",
    "#pipes_indev = pipes_indev.loc[(pipes_indev.StartYearEarliest>2022)|\n",
    "#                              (pipes_indev.StartYearEarliest.isna())].groupby('Status')['LengthMergedKm'].sum()"
   ]
  },
  {
   "cell_type": "code",
   "execution_count": 189,
   "id": "d15a4dbf-af9f-4c41-bb90-bc045c099402",
   "metadata": {},
   "outputs": [],
   "source": [
    "pipes_indev_to2030 = pipes_df_orig.copy()\n",
    "pipes_indev_to2030 = pipes_indev_to2030.loc[(pipes_indev_to2030['Fuel']=='Gas') &\n",
    "                                        (pipes_indev_to2030['Status'].isin(['Proposed','Construction','Shelved'])) &\n",
    "                                        (pipes_indev_to2030['StartYearEarliest'].isin(list(range(2023,2031))))]\n",
    "pipes_indev_to2030 = pipes_indev_to2030.groupby('Status')['LengthMergedKm'].sum()\n"
   ]
  },
  {
   "cell_type": "code",
   "execution_count": 190,
   "id": "5bd752fe-875a-4bc2-8429-0910473d52c6",
   "metadata": {},
   "outputs": [],
   "source": [
    "pipes_indev_startyear = pipes_df_orig.copy()\n",
    "pipes_indev_startyear = pipes_indev_startyear[(pipes_indev_startyear['Status'].isin(['Proposed','Construction','Shelved'])) &\n",
    "                                              (pipes_indev_startyear['Fuel']=='Gas')]\n",
    "pipes_indev_startyear = pipes_indev_startyear.groupby(['Status','StartYearEarliest'], dropna=False)['LengthMergedKm'].sum(min_count=1)"
   ]
  },
  {
   "cell_type": "code",
   "execution_count": 191,
   "id": "47cc5cd7-5c49-4195-b71d-fff190221140",
   "metadata": {},
   "outputs": [
    {
     "data": {
      "text/html": [
       "<div>\n",
       "<style scoped>\n",
       "    .dataframe tbody tr th:only-of-type {\n",
       "        vertical-align: middle;\n",
       "    }\n",
       "\n",
       "    .dataframe tbody tr th {\n",
       "        vertical-align: top;\n",
       "    }\n",
       "\n",
       "    .dataframe thead th {\n",
       "        text-align: right;\n",
       "    }\n",
       "</style>\n",
       "<table border=\"1\" class=\"dataframe\">\n",
       "  <thead>\n",
       "    <tr style=\"text-align: right;\">\n",
       "      <th>StartYearEarliest</th>\n",
       "      <th>2,018.00000</th>\n",
       "      <th>2,019.00000</th>\n",
       "      <th>2,020.00000</th>\n",
       "      <th>2,021.00000</th>\n",
       "      <th>2,022.00000</th>\n",
       "      <th>2,023.00000</th>\n",
       "      <th>2,024.00000</th>\n",
       "      <th>2,025.00000</th>\n",
       "      <th>2,026.00000</th>\n",
       "      <th>2,027.00000</th>\n",
       "      <th>2,028.00000</th>\n",
       "      <th>2,029.00000</th>\n",
       "      <th>2,030.00000</th>\n",
       "      <th>2,034.00000</th>\n",
       "      <th>2,035.00000</th>\n",
       "      <th>2,046.00000</th>\n",
       "      <th>NaN</th>\n",
       "    </tr>\n",
       "    <tr>\n",
       "      <th>Status</th>\n",
       "      <th></th>\n",
       "      <th></th>\n",
       "      <th></th>\n",
       "      <th></th>\n",
       "      <th></th>\n",
       "      <th></th>\n",
       "      <th></th>\n",
       "      <th></th>\n",
       "      <th></th>\n",
       "      <th></th>\n",
       "      <th></th>\n",
       "      <th></th>\n",
       "      <th></th>\n",
       "      <th></th>\n",
       "      <th></th>\n",
       "      <th></th>\n",
       "      <th></th>\n",
       "    </tr>\n",
       "  </thead>\n",
       "  <tbody>\n",
       "    <tr>\n",
       "      <th>Construction</th>\n",
       "      <td>873.00000</td>\n",
       "      <td>NaN</td>\n",
       "      <td>NaN</td>\n",
       "      <td>34.76000</td>\n",
       "      <td>30,628.74000</td>\n",
       "      <td>13,131.90000</td>\n",
       "      <td>5,100.24000</td>\n",
       "      <td>1,957.00000</td>\n",
       "      <td>NaN</td>\n",
       "      <td>NaN</td>\n",
       "      <td>NaN</td>\n",
       "      <td>NaN</td>\n",
       "      <td>NaN</td>\n",
       "      <td>NaN</td>\n",
       "      <td>NaN</td>\n",
       "      <td>NaN</td>\n",
       "      <td>17,579.25000</td>\n",
       "    </tr>\n",
       "    <tr>\n",
       "      <th>Proposed</th>\n",
       "      <td>NaN</td>\n",
       "      <td>450.00000</td>\n",
       "      <td>38.00000</td>\n",
       "      <td>NaN</td>\n",
       "      <td>6,149.63000</td>\n",
       "      <td>8,934.45000</td>\n",
       "      <td>9,917.30000</td>\n",
       "      <td>10,938.25000</td>\n",
       "      <td>3,432.67000</td>\n",
       "      <td>3,530.00000</td>\n",
       "      <td>5,296.97000</td>\n",
       "      <td>942.00000</td>\n",
       "      <td>3,810.26000</td>\n",
       "      <td>315.00000</td>\n",
       "      <td>110.00000</td>\n",
       "      <td>5,660.00000</td>\n",
       "      <td>80,087.96000</td>\n",
       "    </tr>\n",
       "    <tr>\n",
       "      <th>Shelved</th>\n",
       "      <td>NaN</td>\n",
       "      <td>221.70000</td>\n",
       "      <td>1,100.70000</td>\n",
       "      <td>5,159.62000</td>\n",
       "      <td>3,795.37000</td>\n",
       "      <td>3,353.45000</td>\n",
       "      <td>1,308.40000</td>\n",
       "      <td>1,329.00000</td>\n",
       "      <td>NaN</td>\n",
       "      <td>150.00000</td>\n",
       "      <td>636.00000</td>\n",
       "      <td>135.00000</td>\n",
       "      <td>NaN</td>\n",
       "      <td>NaN</td>\n",
       "      <td>NaN</td>\n",
       "      <td>NaN</td>\n",
       "      <td>21,078.02000</td>\n",
       "    </tr>\n",
       "  </tbody>\n",
       "</table>\n",
       "</div>"
      ],
      "text/plain": [
       "StartYearEarliest  2,018.00000  2,019.00000  2,020.00000  2,021.00000  \\\n",
       "Status                                                                  \n",
       "Construction         873.00000          NaN          NaN     34.76000   \n",
       "Proposed                   NaN    450.00000     38.00000          NaN   \n",
       "Shelved                    NaN    221.70000  1,100.70000  5,159.62000   \n",
       "\n",
       "StartYearEarliest  2,022.00000  2,023.00000  2,024.00000  2,025.00000  \\\n",
       "Status                                                                  \n",
       "Construction      30,628.74000 13,131.90000  5,100.24000  1,957.00000   \n",
       "Proposed           6,149.63000  8,934.45000  9,917.30000 10,938.25000   \n",
       "Shelved            3,795.37000  3,353.45000  1,308.40000  1,329.00000   \n",
       "\n",
       "StartYearEarliest  2,026.00000  2,027.00000  2,028.00000  2,029.00000  \\\n",
       "Status                                                                  \n",
       "Construction               NaN          NaN          NaN          NaN   \n",
       "Proposed           3,432.67000  3,530.00000  5,296.97000    942.00000   \n",
       "Shelved                    NaN    150.00000    636.00000    135.00000   \n",
       "\n",
       "StartYearEarliest  2,030.00000  2,034.00000  2,035.00000  2,046.00000  \\\n",
       "Status                                                                  \n",
       "Construction               NaN          NaN          NaN          NaN   \n",
       "Proposed           3,810.26000    315.00000    110.00000  5,660.00000   \n",
       "Shelved                    NaN          NaN          NaN          NaN   \n",
       "\n",
       "StartYearEarliest  NaN          \n",
       "Status                          \n",
       "Construction      17,579.25000  \n",
       "Proposed          80,087.96000  \n",
       "Shelved           21,078.02000  "
      ]
     },
     "execution_count": 191,
     "metadata": {},
     "output_type": "execute_result"
    }
   ],
   "source": [
    "pipes_indev_startyear.unstack()"
   ]
  },
  {
   "cell_type": "markdown",
   "id": "5a075334-5559-443b-a8bf-c2cc32c2ece7",
   "metadata": {},
   "source": [
    "## Fig 2 - 2023–2030, go back to 2008"
   ]
  },
  {
   "cell_type": "code",
   "execution_count": 192,
   "id": "30602be5-da26-4642-b985-ef9771157a7f",
   "metadata": {},
   "outputs": [],
   "source": [
    "#pandas.DataFrame(pipes_started_sum).to_excel('saved-tables/pipelines-operating-km-by-start-year.xlsx')\n",
    "\n",
    "#pandas.DataFrame(pipes_indev_startyear).unstack().replace(numpy.nan,0).to_excel('saved-tables/pipelines-indev-km-by-start-year.xlsx')"
   ]
  },
  {
   "cell_type": "code",
   "execution_count": 193,
   "id": "d22815fd-0093-470a-b77b-3e00f46c3a64",
   "metadata": {},
   "outputs": [
    {
     "data": {
      "image/png": "[encoded data removed]",
      "text/plain": [
       "<Figure size 234x288 with 2 Axes>"
      ]
     },
     "metadata": {
      "needs_background": "light"
     },
     "output_type": "display_data"
    }
   ],
   "source": [
    "font_size = 7\n",
    "\n",
    "ytop = 15000\n",
    "ytop2 = 15000\n",
    "\n",
    "fig = mp.figure(figsize=(3.25,4))\n",
    "\n",
    "widths=[15,3]\n",
    "spec = fig.add_gridspec(ncols=2, nrows=1, width_ratios=widths)\n",
    "\n",
    "ax = fig.add_subplot(spec[0,0])\n",
    "\n",
    "ax.bar(pipes_started_sum.index.values[-15:-1], pipes_started_sum.values[-15:-1],\n",
    "       color=tracker_operating, label='Operating') # color=solar_base03\n",
    "ax.bar(2022,pipes_indev_startyear['Construction',2022],\n",
    "       label='Construction\\n(scheduled\\nfor 2022)', bottom=pipes_started_sum.loc[2022], \n",
    "       facecolor=tracker_operating, alpha=0.25)\n",
    "ax.tick_params(labelsize=font_size)\n",
    "ax.tick_params('x', rotation=45)\n",
    "ax.set_ylabel('km', size=font_size)\n",
    "\n",
    "ax.set_xlim(2007.25, 2022.75)\n",
    "ax.set_ylim(0, ytop)\n",
    "\n",
    "ax.xaxis.set_major_locator(matplotlib.ticker.MaxNLocator(integer=True))\n",
    "\n",
    "ax2 = fig.add_subplot(spec[0,1])\n",
    "ax2.set_ylim(0, ytop2)\n",
    "ax2.set_xlim(0.25,3.75)\n",
    "xvals = [1,2,3]\n",
    "\n",
    "colors = [tracker_construction, tracker_proposed, tracker_shelved]\n",
    "status = ['Construction', 'Proposed', 'Shelved']\n",
    "ax2_list = []\n",
    "for x,c,s in zip(xvals,colors,status):\n",
    "    if s in ['Proposed','Shelved']:\n",
    "        ax2_list.append(ax2.bar(x, pipes_indev[s]+pipes_indev_startyear[s,2022],\n",
    "                 color=c, label=s))\n",
    "    else:\n",
    "        ax2_list.append(ax2.bar(x, pipes_indev[s],\n",
    "                 color=c, label=s))\n",
    "\n",
    "ax_h, ax_l = ax.get_legend_handles_labels()\n",
    "ax2_h, ax2_l = ax2.get_legend_handles_labels()\n",
    "\n",
    "ax2.set_xticklabels([])\n",
    "ax2.tick_params(labelsize=font_size)\n",
    "ax2.set_xticks([])\n",
    "\n",
    "\n",
    "ax2.yaxis.tick_right()\n",
    "ax2.set_ylabel('km', fontsize=font_size, rotation=-90, labelpad=10)\n",
    "ax2.yaxis.set_label_position('right')\n",
    "\n",
    "ax.legend(handles=ax_h+ax2_h, fontsize=font_size, frameon=False)\n",
    "\n",
    "axpos = ax.get_position()\n",
    "ax2pos = ax2.get_position()\n",
    "\n",
    "ax.spines['right'].set_visible(False)\n",
    "ax.spines['top'].set_visible(False)\n",
    "\n",
    "ax2.spines['left'].set_visible(False)\n",
    "ax2.spines['top'].set_visible(False)\n",
    "#ax2.spines['right'].set_visible(False)\n",
    "\n",
    "ax.set_title('commissioned by year', fontsize=font_size)\n",
    "ax2.set_title('future', fontsize=font_size)\n",
    "\n",
    "fig.tight_layout()#w_pad=0.05)\n",
    "\n",
    "ax.yaxis.set_minor_locator(matplotlib.ticker.AutoMinorLocator(2))\n",
    "ax2.yaxis.set_minor_locator(matplotlib.ticker.AutoMinorLocator(2))\n",
    "\n",
    "#mp.savefig('saved-figures/oil-pipelines_km-by-start-year-backto2008-with-2022.png', bbox_inches='tight', transparent=True, dpi=600)\n",
    "#mp.savefig('saved-figures/oil-pipelines_km-by-start-year-backto2008-with-2022.pdf', bbox_inches='tight', transparent=True)"
   ]
  },
  {
   "cell_type": "markdown",
   "id": "83c69fd8-e7a7-41bb-b816-b175a0b8909b",
   "metadata": {},
   "source": [
    "## alt for David"
   ]
  },
  {
   "cell_type": "code",
   "execution_count": 194,
   "id": "711d97d4-16d9-4d77-8577-5cb5997216a2",
   "metadata": {},
   "outputs": [
    {
     "data": {
      "text/plain": [
       "Status\n",
       "Construction    69,304.89000\n",
       "Proposed       139,612.49000\n",
       "Shelved         38,267.26000\n",
       "Name: LengthMergedKm, dtype: float64"
      ]
     },
     "execution_count": 194,
     "metadata": {},
     "output_type": "execute_result"
    }
   ],
   "source": [
    "pipes_indev"
   ]
  },
  {
   "cell_type": "code",
   "execution_count": 195,
   "id": "5e6210eb-0ae8-47f3-81af-2b10d7833e6f",
   "metadata": {},
   "outputs": [
    {
     "data": {
      "image/png": "[encoded data removed]",
      "text/plain": [
       "<Figure size 234x288 with 2 Axes>"
      ]
     },
     "metadata": {
      "needs_background": "light"
     },
     "output_type": "display_data"
    }
   ],
   "source": [
    "font_size = 7\n",
    "\n",
    "ytop = 22500\n",
    "ytop2 = 22500\n",
    "\n",
    "fig = mp.figure(figsize=(3.25,4))\n",
    "\n",
    "widths=[15,2.25]\n",
    "spec = fig.add_gridspec(ncols=2, nrows=1, width_ratios=widths)\n",
    "\n",
    "ax = fig.add_subplot(spec[0,0])\n",
    "\n",
    "ax.bar(pipes_started_sum.index.values[-15:-1], pipes_started_sum.values[-15:-1],\n",
    "       color=tracker_operating, label='Operating') # color=solar_base03\n",
    "\n",
    "ax.bar(2022,pipes_indev_startyear['Construction',2022],\n",
    "       label='Construction\\n(scheduled\\nfor 2022)', bottom=pipes_started_sum.loc[2022], \n",
    "       facecolor=tracker_operating, alpha=0.25)\n",
    "\n",
    "ax.tick_params(labelsize=font_size)\n",
    "ax.tick_params('x', rotation=45)\n",
    "ax.set_ylabel('km', size=font_size)\n",
    "\n",
    "ax.set_xlim(2007.25, 2022.75)\n",
    "ax.set_ylim(0, ytop)\n",
    "\n",
    "ax.xaxis.set_major_locator(matplotlib.ticker.MaxNLocator(integer=True))\n",
    "\n",
    "ax2 = fig.add_subplot(spec[0,1])\n",
    "ax2.set_ylim(0, ytop2)\n",
    "ax2.set_xlim(0.25,2.75)\n",
    "xvals = [1.5]\n",
    "\n",
    "colors = [tracker_construction, tracker_proposed]#, tracker_shelved]\n",
    "status = ['Construction', 'Proposed']#, 'Shelved']\n",
    "ax2_list = []\n",
    "# for x,c,s in zip(xvals,colors,status):\n",
    "#     if s in ['Proposed','Shelved']:\n",
    "#         ax2_list.append(ax2.bar(x, pipes_indev[s]+pipes_indev_startyear[s,2022],\n",
    "#                  color=c, label=s))\n",
    "#     else:\n",
    "#         ax2_list.append(ax2.bar(x, pipes_indev[s],\n",
    "#                  color=c, label=s))\n",
    "ax2_list.append(ax2.bar(xvals[0], pipes_indev['Construction'],\n",
    "                 color=tracker_construction, label='Construction'))\n",
    "\n",
    "ax2_list.append(ax2.bar(xvals[0], pipes_indev['Proposed']-pipes_indev_startyear['Construction',2022],\n",
    "                        bottom=pipes_indev['Construction'],\n",
    "                 color=tracker_shelved, label='Proposed'))\n",
    "\n",
    "ax_h, ax_l = ax.get_legend_handles_labels()\n",
    "ax2_h, ax2_l = ax2.get_legend_handles_labels()\n",
    "\n",
    "ax2.set_xticklabels([])\n",
    "ax2.tick_params(labelsize=font_size)\n",
    "ax2.set_xticks([])\n",
    "\n",
    "#ax2.yaxis.tick_right()\n",
    "#ax2.set_ylabel('km', fontsize=font_size, rotation=-90, labelpad=10)\n",
    "#ax2.yaxis.set_label_position('right')\n",
    "ax2.set_yticks([])\n",
    "\n",
    "ax.legend(handles=ax_h+ax2_h, fontsize=font_size, frameon=False, \n",
    "          loc='upper left', bbox_to_anchor=[0.05,1])\n",
    "\n",
    "axpos = ax.get_position()\n",
    "ax2pos = ax2.get_position()\n",
    "\n",
    "ax.spines['right'].set_visible(False)\n",
    "ax.spines['top'].set_visible(False)\n",
    "\n",
    "ax2.spines['left'].set_visible(False)\n",
    "ax2.spines['top'].set_visible(False)\n",
    "ax2.spines['right'].set_visible(False)\n",
    "#ax2.spines['right'].set_visible(False)\n",
    "\n",
    "ax.set_title('commissioned by year', fontsize=font_size)\n",
    "ax2.set_title('future', fontsize=font_size)\n",
    "\n",
    "fig.tight_layout(w_pad=0)\n",
    "\n",
    "ax.yaxis.set_minor_locator(matplotlib.ticker.AutoMinorLocator(2))\n",
    "#ax2.yaxis.set_minor_locator(matplotlib.ticker.AutoMinorLocator(2))\n",
    "\n",
    "#mp.savefig('saved-figures/oil-pipelines_km-by-start-year-backto2008-with-2022-alt.png', bbox_inches='tight', transparent=True, dpi=600)\n",
    "#mp.savefig('saved-figures/oil-pipelines_km-by-start-year-backto2008-with-2022-alt.pdf', bbox_inches='tight', transparent=True)"
   ]
  },
  {
   "cell_type": "code",
   "execution_count": 196,
   "id": "09a92802-974a-42de-bc19-e12f40226b70",
   "metadata": {},
   "outputs": [
    {
     "data": {
      "text/plain": [
       "Status\n",
       "Construction    69,304.89000\n",
       "Proposed       139,612.49000\n",
       "Shelved         38,267.26000\n",
       "Name: LengthMergedKm, dtype: float64"
      ]
     },
     "execution_count": 196,
     "metadata": {},
     "output_type": "execute_result"
    }
   ],
   "source": [
    "pipes_indev"
   ]
  },
  {
   "cell_type": "markdown",
   "id": "278b1549-5bbe-4760-91b1-f2061af98c42",
   "metadata": {},
   "source": [
    "## plus/minus 8 years"
   ]
  },
  {
   "cell_type": "code",
   "execution_count": 197,
   "id": "022cf8e1-137e-41ae-a1b5-9715078d82d9",
   "metadata": {},
   "outputs": [
    {
     "data": {
      "image/png": "[encoded data removed]",
      "text/plain": [
       "<Figure size 234x288 with 2 Axes>"
      ]
     },
     "metadata": {
      "needs_background": "light"
     },
     "output_type": "display_data"
    }
   ],
   "source": [
    "font_size = 7\n",
    "\n",
    "ytop = 14500\n",
    "ytop2 = 14500\n",
    "\n",
    "fig = mp.figure(figsize=(3.25,4))\n",
    "\n",
    "widths=[15,3]\n",
    "spec = fig.add_gridspec(ncols=2, nrows=1, width_ratios=widths)\n",
    "\n",
    "ax = fig.add_subplot(spec[0,0])\n",
    "\n",
    "#axpos = ax.get_position()\n",
    "ax.bar(pipes_started_sum.index.values[-15:-1], pipes_started_sum.values[-15:-1],\n",
    "       color=tracker_operating, label='Operating') # color=solar_base03\n",
    "ax.bar(2022,pipes_indev_startyear['Construction',2022],\n",
    "       label='Construction\\n(scheduled\\nfor 2022)', bottom=pipes_started_sum.loc[2022], \n",
    "       facecolor=tracker_operating, alpha=0.25)\n",
    "ax.tick_params(labelsize=font_size)\n",
    "ax.tick_params('x', rotation=45)\n",
    "#ax.set_xlabel('start year', size=font_size)\n",
    "ax.set_ylabel('km', size=font_size)\n",
    "\n",
    "ax.set_xlim(2007.25, 2022.75)\n",
    "ax.set_ylim(0, ytop)\n",
    "\n",
    "ax.xaxis.set_major_locator(matplotlib.ticker.MaxNLocator(integer=True))\n",
    "\n",
    "ax2 = fig.add_subplot(spec[0,1])\n",
    "ax2.set_ylim(0, ytop2)\n",
    "ax2.set_xlim(0.25,3.75)\n",
    "#ax2pos = ax2.get_position()\n",
    "xvals = [1,2,3]\n",
    "\n",
    "#colors = [solar_orange, solar_yellow, '0.75']\n",
    "colors = [tracker_construction, tracker_proposed, tracker_shelved]\n",
    "status = ['Construction', 'Proposed', 'Shelved']\n",
    "status_alt = ['Construction\\n(beyond 2030)', 'Proposed\\n(beyond 2030)', 'Shelved\\n(beyond 2030)']\n",
    "ax2_list = []\n",
    "\n",
    "for x,c,s in zip(xvals,colors,status):\n",
    "    ax2_list.append(ax2.bar(x, pipes_indev_to2030[s],\n",
    "             color=c, label=s))\n",
    "\n",
    "for x,c,s,s_alt in zip(xvals,colors,status,status_alt):\n",
    "    ax2_list.append(ax2.bar(x, pipes_indev[s], bottom=pipes_indev_to2030[s],\n",
    "             color=c, label=s_alt, alpha=0.333))\n",
    "\n",
    "ax_h, ax_l = ax.get_legend_handles_labels()\n",
    "ax2_h, ax2_l = ax2.get_legend_handles_labels()\n",
    "\n",
    "#ax2.set_xlabel('possible\\nfuture', size=font_size)\n",
    "#ax2.set_yticklabels([])\n",
    "ax2.set_xticklabels([])\n",
    "ax2.tick_params(labelsize=font_size)\n",
    "ax2.set_xticks([])\n",
    "\n",
    "ax2.yaxis.tick_right()\n",
    "ax2.set_ylabel('km', fontsize=font_size, rotation=-90, labelpad=10)\n",
    "ax2.yaxis.set_label_position('right')\n",
    "#ax2.set_yticklabels([])\n",
    "#ax2.set_yticks([])\n",
    "\n",
    "ax.legend(handles=ax_h+ax2_h, fontsize=font_size, frameon=False)\n",
    "\n",
    "axpos = ax.get_position()\n",
    "ax2pos = ax2.get_position()\n",
    "\n",
    "ax.spines['right'].set_visible(False)\n",
    "ax.spines['top'].set_visible(False)\n",
    "\n",
    "ax2.spines['left'].set_visible(False)\n",
    "ax2.spines['top'].set_visible(False)\n",
    "#ax2.spines['right'].set_visible(False)\n",
    "\n",
    "ax.set_title('commissioned by year', fontsize=font_size)\n",
    "ax2.set_title('future', fontsize=font_size)\n",
    "\n",
    "fig.tight_layout()#w_pad=0.05)\n",
    "#fig.subplots_adjust(wspace=0.05, hspace=None)\n",
    "\n",
    "#mp.savefig('saved-figures/oil-pipelines_km-by-start-year-plusminus-8yrs.png', bbox_inches='tight', transparent=True, dpi=600)\n",
    "#mp.savefig('saved-figures/oil-pipelines_km-by-start-year-plusminus-8yrs.pdf', bbox_inches='tight', transparent=True)"
   ]
  },
  {
   "cell_type": "markdown",
   "id": "8298e2a6-3199-460c-8109-9f2ce4e9f680",
   "metadata": {},
   "source": [
    "## percent pipelines with start date (sanity check)"
   ]
  },
  {
   "cell_type": "code",
   "execution_count": 198,
   "id": "9b19f13c-1f8e-47eb-abff-f8ee5545ba20",
   "metadata": {},
   "outputs": [],
   "source": [
    "pipes_scratch = pipes_df_orig.copy()\n",
    "pipes_scratch = pipes_scratch[(pipes_scratch['Fuel']=='Gas') &\n",
    "                              (pipes_scratch['Status'].isin(['Proposed','Construction','Shelved']))]"
   ]
  },
  {
   "cell_type": "code",
   "execution_count": 199,
   "id": "4b88a57c-41dd-4d0a-a3ca-3c08d90892ac",
   "metadata": {},
   "outputs": [
    {
     "data": {
      "text/plain": [
       "0.5509641873278237"
      ]
     },
     "execution_count": 199,
     "metadata": {},
     "output_type": "execute_result"
    }
   ],
   "source": [
    "pipes_scratch[~pipes_scratch['StartYearEarliest'].isnull()]['StartYearEarliest'].count()/pipes_scratch.shape[0]\n"
   ]
  },
  {
   "cell_type": "markdown",
   "id": "358e0310",
   "metadata": {},
   "source": [
    "## regional pipelines started in given year"
   ]
  },
  {
   "cell_type": "code",
   "execution_count": 200,
   "id": "bc05d721",
   "metadata": {},
   "outputs": [],
   "source": [
    "years_array = numpy.arange( float(pipes_df_orig['StartYearEarliest'].min()), float(pipes_df_orig['StartYearEarliest'].max())+1)\n",
    "regions_startyear_sums_df = pandas.DataFrame(numpy.nan, index=years_array, columns=region_list)"
   ]
  },
  {
   "cell_type": "code",
   "execution_count": 201,
   "id": "b1fca66b",
   "metadata": {},
   "outputs": [],
   "source": [
    "#pipes_started = pipes_df.copy()[(pipes_df['Status'].isin(['Operating'])) & pipes_df['Fuel']=='Gas']\n",
    "#pipes_started_sum = pipes_started.groupby('StartYearLatest')['LengthMergedKm'].sum()\n",
    "\n",
    "for region in region_list:\n",
    "    pipes_started = pipes_df_orig.copy()[(pipes_df_orig['Status'].isin(['Operating','Retired','Idle'])) & \n",
    "                                    (pipes_df_orig['Fuel']=='Gas')]\n",
    "    pipes_started = pipes_started[pipes_started['StartRegion']==region]\n",
    "    pipes_started_sum_up = pipes_started.groupby('StartYearEarliest')['LengthMergedKm'].sum()\n",
    "    \n",
    "    regions_startyear_sums_df[region] = pipes_started_sum_up"
   ]
  },
  {
   "cell_type": "code",
   "execution_count": 202,
   "id": "37727617-097d-400e-82f7-bc396ec094aa",
   "metadata": {},
   "outputs": [],
   "source": [
    "if len(region_list)!=10:\n",
    "    region_list = region_list[2:]"
   ]
  },
  {
   "cell_type": "markdown",
   "id": "0299445b-00c6-448c-9db4-1ee541d487ed",
   "metadata": {},
   "source": [
    "## plot pie chart of regional values"
   ]
  },
  {
   "cell_type": "code",
   "execution_count": 203,
   "id": "226216bb-58ee-4c37-af1f-637b84aa56ea",
   "metadata": {},
   "outputs": [
    {
     "data": {
      "image/png": "[encoded data removed]",
      "text/plain": [
       "<Figure size 720x72 with 1 Axes>"
      ]
     },
     "metadata": {
      "needs_background": "light"
     },
     "output_type": "display_data"
    },
    {
     "data": {
      "image/png": "[encoded data removed]",
      "text/plain": [
       "<Figure size 720x72 with 1 Axes>"
      ]
     },
     "metadata": {
      "needs_background": "light"
     },
     "output_type": "display_data"
    }
   ],
   "source": [
    "# mess with some color pallettes\n",
    "#seaborn.color_palette('husl', 10)\n",
    "seaborn.palplot(seaborn.husl_palette(10, s=0.9, l=0.75, h=0.15))\n",
    "seaborn.palplot(seaborn.husl_palette(10, h=0.15))\n",
    "\n",
    "cmap_dark = seaborn.husl_palette(10, h=0.15, l=0.4, s=0.8, as_cmap=True)\n",
    "cmap_light = seaborn.husl_palette(10, h=0.15, s=1, as_cmap=True)"
   ]
  },
  {
   "cell_type": "code",
   "execution_count": 204,
   "id": "2efd35e5-b020-45a3-8686-1c1cf1e65bcb",
   "metadata": {},
   "outputs": [
    {
     "data": {
      "image/png": "[encoded data removed]",
      "text/plain": [
       "<Figure size 360x360 with 1 Axes>"
      ]
     },
     "metadata": {},
     "output_type": "display_data"
    }
   ],
   "source": [
    "font_size=7\n",
    "\n",
    "fig = mp.figure(figsize=(5,5))\n",
    "ax = fig.add_subplot(111)\n",
    "\n",
    "nwedges = region_list.__len__()\n",
    "region_order = km_by_region_df.index[:nwedges]\n",
    "\n",
    "pie_vals = km_by_region_df.loc[region_order]['Proposed+Construction'].values\n",
    "pie_labels = km_by_region_df.index\n",
    "pie_labels_km = km_by_region_df.loc[region_order]['Proposed+Construction'].apply(lambda x: f'\\n{int(round(x,-2)):,} km')\n",
    "pie_labels_perc = (km_by_region_df.loc[region_order]['Proposed+Construction'] / \n",
    "                   km_by_region_df.loc[region_order]['Proposed+Construction'].sum() * 100.).apply(lambda x: f'\\n{x:.1f}%')\n",
    "\n",
    "# ****************************************\n",
    "pie_vals_separated = km_by_region_df.loc[region_order][['Construction','Proposed']].values.flatten()\n",
    "#pie_labels_separated = numpy.array(list(zip(km_by_region_df.index[:-1],km_by_region_df.index[:-1]))).flatten()\n",
    "#pie_labels_km = km_by_region_df.loc[region_order]['Proposed+Construction'].apply(lambda x: f'\\n{int(round(x,-3)):,} km')\n",
    "\n",
    "nwedges_separated = 20\n",
    "cmap_light_10 = cmap_light(numpy.linspace(0,1,nwedges))\n",
    "cmap_dark_10 = cmap_dark(numpy.linspace(0,1,nwedges))\n",
    "\n",
    "pie_labels = [i+j+k for i,j,k in zip(pie_labels, pie_labels_km, pie_labels_perc)]\n",
    "pie_width = 0.666\n",
    "\n",
    "# ****************************************\n",
    "# size=0.3\n",
    "ax.pie(pie_vals_separated, \n",
    "       #labels=pie_labels,\n",
    "       #radius=1-size,\n",
    "       colors=numpy.hstack((cmap_light_10, cmap_dark_10)).reshape(20,-1),\n",
    "       wedgeprops=dict(width=pie_width),\n",
    "       textprops={'fontsize': font_size})\n",
    "ax.pie(pie_vals, \n",
    "       labels=pie_labels,\n",
    "       #radius=1,\n",
    "       #bottom=0.25,\n",
    "       colors=None,#cmap(numpy.linspace(0,1,pie_vals.size))[::-1],\n",
    "       wedgeprops=dict(edgecolor='1', facecolor='None', linewidth=2, width=pie_width),\n",
    "       textprops={'fontsize': font_size})\n",
    "\n",
    "\n",
    "ax.tick_params(labelsize=font_size)\n",
    "\n",
    "fig.tight_layout()\n",
    "\n",
    "#mp.savefig('saved-figures/oil-pipelines_pie-graph-country-pipelines-km.pdf', bbox_inches='tight', transparent=True)\n",
    "\n",
    "#mp.savefig('saved-figures/oil-pipelines_pie-graph-country-pipelines-km.png', \n",
    "#           bbox_inches='tight', \n",
    "#           transparent=True,\n",
    "#           dpi=600)"
   ]
  },
  {
   "cell_type": "markdown",
   "id": "712acc4e",
   "metadata": {},
   "source": [
    "# top 20 countries proposed+construction"
   ]
  },
  {
   "cell_type": "code",
   "execution_count": 205,
   "id": "e4961c91-d30b-4e76-9e26-94a0ae21ba70",
   "metadata": {},
   "outputs": [],
   "source": [
    "def adjust_spines(ax, spines):\n",
    "    for loc, spine in ax.spines.items():\n",
    "        if loc in spines:\n",
    "            spine.set_position(('outward', 10))  # outward by 10 points\n",
    "        else:\n",
    "            spine.set_color('none')  # don't draw spine\n",
    "\n",
    "    # turn off ticks where there is no spine\n",
    "    if 'left' in spines:\n",
    "        ax.yaxis.set_ticks_position('left')\n",
    "    else:\n",
    "        # no yaxis ticks\n",
    "        ax.yaxis.set_ticks([])\n",
    "\n",
    "    if 'bottom' in spines:\n",
    "        ax.xaxis.set_ticks_position('bottom')\n",
    "    else:\n",
    "        # no xaxis ticks\n",
    "        ax.xaxis.set_ticks([])"
   ]
  },
  {
   "cell_type": "code",
   "execution_count": 206,
   "id": "3cdebc59",
   "metadata": {
    "tags": []
   },
   "outputs": [
    {
     "data": {
      "image/png": "[encoded data removed]",
      "text/plain": [
       "<Figure size 486x288 with 1 Axes>"
      ]
     },
     "metadata": {
      "needs_background": "light"
     },
     "output_type": "display_data"
    }
   ],
   "source": [
    "font_size = 7\n",
    "fig = mp.figure(figsize=(6.75,4))\n",
    "nbars=20\n",
    "\n",
    "country_order = km_by_country_df.index[:nbars][::-1]\n",
    "\n",
    "ax = fig.add_subplot(111)\n",
    "\n",
    "ax.barh(numpy.arange(nbars), \n",
    "        km_by_country_df.loc[country_order]['Construction'].values, \n",
    "        facecolor=tracker_construction,#solar_orange, \n",
    "        label='Construction')\n",
    "\n",
    "ax.barh(numpy.arange(nbars), \n",
    "        km_by_country_df.loc[country_order]['Proposed'].values, \n",
    "        left=km_by_country_df.loc[country_order]['Construction'].values, \n",
    "        facecolor=tracker_proposed,#solar_yellow, \n",
    "        label='Proposed')\n",
    "\n",
    "ax.barh(numpy.arange(nbars), \n",
    "        km_by_country_df.loc[country_order]['Shelved'].values, \n",
    "        left=km_by_country_df.loc[country_order][['Proposed','Construction']].sum(axis=1).values, \n",
    "        facecolor=tracker_shelved,#'0.75', \n",
    "        label='Shelved')\n",
    "\n",
    "ax.barh(numpy.arange(nbars), \n",
    "        km_by_country_df.loc[country_order]['Cancelled'].values, \n",
    "        left=km_by_country_df.loc[country_order][['Proposed','Construction','Shelved']].sum(axis=1).values, \n",
    "        facecolor=tracker_cancelled,#'0.9', \n",
    "        label='Cancelled')\n",
    "\n",
    "ax.set_yticks(numpy.arange(nbars))\n",
    "ax.set_yticklabels(km_by_country_df.index[:nbars][::-1])\n",
    "ax.tick_params(labelsize=font_size)\n",
    "ax.tick_params('x', pad=0)\n",
    "ax.set_xlim(0,30000)\n",
    "#ax.set_ylim(-.75,19.75)\n",
    "ax.set_ylim(-.25,20)\n",
    "ax.set_xlabel('km', size=font_size)#, labelpad=10)\n",
    "ax.xaxis.set_ticks_position('top')\n",
    "ax.xaxis.set_label_position('top')\n",
    "\n",
    "ax.legend(fontsize=font_size, frameon=False, loc='lower right')\n",
    "\n",
    "ax.spines['right'].set_visible(False)\n",
    "ax.spines['left'].set_visible(False)\n",
    "ax.spines['bottom'].set_visible(False)\n",
    "\n",
    "#mp.savefig('saved-figures/oil-pipelines_top-20-countries.pdf', bbox_inches='tight', transparent=True)\n",
    "\n",
    "#adjust_spines(ax, ['top'])\n",
    "    \n",
    "#mp.savefig('saved-figures/oil-pipelines_top-20-countries.png',\n",
    "#          bbox_inches='tight', \n",
    "#          transparent=True,\n",
    "#          dpi=600)\n",
    "\n",
    "#mp.savefig('saved-figures/oil-pipelines_top-20-countries.pdf',\n",
    "#          bbox_inches='tight', \n",
    "#          transparent=True)"
   ]
  },
  {
   "cell_type": "markdown",
   "id": "3b0980c1-af1a-4b83-a13e-ec9f8942a6ff",
   "metadata": {},
   "source": [
    "# top 20 without cancelled and shelved bars"
   ]
  },
  {
   "cell_type": "code",
   "execution_count": 207,
   "id": "f96b605e-5079-43e8-b117-5f5ebd2f708b",
   "metadata": {},
   "outputs": [
    {
     "data": {
      "image/png": "[encoded data removed]",
      "text/plain": [
       "<Figure size 486x288 with 1 Axes>"
      ]
     },
     "metadata": {
      "needs_background": "light"
     },
     "output_type": "display_data"
    }
   ],
   "source": [
    "sel_cmap = matplotlib.cm.get_cmap('Reds')\n",
    "#tracker_operating = sel_cmap(0.999)\n",
    "#tracker_construction = sel_cmap(0.8)\n",
    "#tracker_proposed = sel_cmap(0.6)\n",
    "#tracker_shelved = sel_cmap(0.4)\n",
    "#tracker_cancelled = sel_cmap(0.2)\n",
    "\n",
    "font_size = 7\n",
    "fig = mp.figure(figsize=(6.75,4))\n",
    "nbars=20\n",
    "\n",
    "country_order = km_by_country_df.index[:nbars][::-1]\n",
    "\n",
    "ax = fig.add_subplot(111)\n",
    "\n",
    "ax.barh(numpy.arange(nbars), \n",
    "        km_by_country_df.loc[country_order]['Construction'].values, \n",
    "        facecolor=sel_cmap(0.8),\n",
    "        label='Construction', height=0.6)\n",
    "\n",
    "ax.barh(numpy.arange(nbars), \n",
    "        km_by_country_df.loc[country_order]['Proposed'].values, \n",
    "        left=km_by_country_df.loc[country_order]['Construction'].values, \n",
    "        facecolor=sel_cmap(0.4),\n",
    "        label='Proposed', height=0.6)\n",
    "\n",
    "ax.set_yticks(numpy.arange(nbars))\n",
    "ax.set_yticklabels(km_by_country_df.index[:nbars][::-1])\n",
    "ax.tick_params(labelsize=font_size)\n",
    "ax.tick_params('x', pad=0)\n",
    "ax.set_xlim(0,3250)\n",
    "#ax.set_ylim(-.75,19.75)\n",
    "ax.set_ylim(-.25,20)\n",
    "ax.set_xlabel('km', size=font_size)#, labelpad=10)\n",
    "ax.xaxis.set_ticks_position('top')\n",
    "ax.xaxis.set_label_position('top')\n",
    "\n",
    "ax.legend(fontsize=font_size, frameon=False, loc='lower right')\n",
    "\n",
    "ax.spines['right'].set_visible(False)\n",
    "ax.spines['left'].set_visible(False)\n",
    "ax.spines['bottom'].set_visible(False)\n",
    "\n",
    "#ax.xaxis.grid(True, which='minor')\n",
    "ax.xaxis.set_minor_locator(matplotlib.ticker.AutoMinorLocator(2))\n",
    "\n",
    "\n",
    "#mp.savefig('saved-figures/oil-pipelines_top-20-countries.pdf', bbox_inches='tight', transparent=True)\n",
    "\n",
    "#adjust_spines(ax, ['top'])\n",
    "    \n",
    "#mp.savefig('saved-figures/oil-pipelines_top-20-countries-no-cancelled-shelved.png',\n",
    "#          bbox_inches='tight', \n",
    "#          transparent=True,\n",
    "#          dpi=600)\n",
    "#\n",
    "#mp.savefig('saved-figures/oil-pipelines_top-20-countries-no-cancelled-shelved.pdf',\n",
    "#          bbox_inches='tight', \n",
    "#          transparent=True)"
   ]
  },
  {
   "cell_type": "code",
   "execution_count": 208,
   "id": "3906d28f",
   "metadata": {},
   "outputs": [
    {
     "data": {
      "text/plain": [
       "3.400827239906238"
      ]
     },
     "execution_count": 208,
     "metadata": {},
     "output_type": "execute_result"
    }
   ],
   "source": [
    "# ratio of China to India (how many times larger is km of Chinese pipelines than India?)\n",
    "km_by_country_df.loc['China']['Proposed+Construction']/km_by_country_df.loc['India']['Proposed+Construction']"
   ]
  },
  {
   "cell_type": "markdown",
   "id": "ef4ea45f-4fac-4b6f-a619-dd3ecd24b143",
   "metadata": {},
   "source": [
    "# parent analysis"
   ]
  },
  {
   "cell_type": "raw",
   "id": "31907da0-1cf9-4d83-93ae-8a6f76c4f33b",
   "metadata": {},
   "source": [
    "owner_parent_calculations_df = pandas.DataFrame()\n",
    "# needs country, km in each country columns as well\n",
    "\n",
    "for idx,row in pipes_df_orig.loc[pipes_df_orig.Fuel=='Gas'].iterrows():\n",
    "    parent_string = row.Parent\n",
    "    parent_list = re.sub(' \\[.*?\\]', '', parent_string).split('; ') # all entries must have a Owner [%] syntax\n",
    "    percent_list = [float(i.rstrip('%'))/100. for i in re.findall('\\\\d+(?:\\\\.\\\\d+)?%', parent_string)]\n",
    "\n",
    "    if parent_list.__len__()!=percent_list.__len__():\n",
    "        if percent_list==[]:\n",
    "            percent_list = [1/parent_list.__len__() for i in parent_list]\n",
    "        else:\n",
    "            nmissing = parent_list.__len__()-percent_list.__len__()\n",
    "            # distribute nans evenly\n",
    "            total = numpy.nansum(percent_list)\n",
    "            leftover = 1-total\n",
    "            percent_list += [leftover/nmissing]*nmissing\n",
    "\n",
    "    for p_idx,parent in enumerate(parent_list):\n",
    "        owner_parent_calculations_df = pandas.concat([owner_parent_calculations_df, \n",
    "                                                      pandas.DataFrame([{'Parent':parent, 'ProjectID':row.ProjectID, \n",
    "                                                                         'FractionOwnership':percent_list[p_idx],\n",
    "                                                                         'Country':parents_df.loc[parents_df.index==parent]['ParentHQCountry'].values[0],\n",
    "                                                                         'Status':row.Status,\n",
    "                                                                         'LengthMergedKm':row.LengthMergedKm,\n",
    "                                                                         'CapacityBOEd':row.CapacityBOEd}])])\n",
    "\n",
    "owner_parent_calculations_df['KmOwnership'] = owner_parent_calculations_df.FractionOwnership*owner_parent_calculations_df.LengthMergedKm\n",
    "owner_parent_calculations_df['CapacityOwnership'] = owner_parent_calculations_df.FractionOwnership*owner_parent_calculations_df.CapacityBOEd"
   ]
  },
  {
   "cell_type": "markdown",
   "id": "d8b0603d-b6ea-47a4-a027-f7d933665b55",
   "metadata": {},
   "source": [
    "### companies invested in Russian infrastructure?\n",
    "\n",
    "it's really just ProjectIDs 2044 (Caspian Oil Pipeline), 3675 (Vostok Oil Pipeline), and 3679 (Sabo-Dagi Oil Pipeline)"
   ]
  },
  {
   "cell_type": "raw",
   "id": "a022d469-04ce-48a7-b587-ede2e2b4fb78",
   "metadata": {},
   "source": [
    "# project IDs of pipelines that pass through Russia and are construction/proposed\n",
    "russian_indev_projectids = country_ratios_gas_df.loc[(country_ratios_gas_df.Status.isin(['Proposed','Construction']))&\n",
    "                                                     (country_ratios_gas_df.Country=='Russia')]['ProjectID'].unique()\n",
    "#russian_indev_projectids\n",
    "russian_indev_op_df = owner_parent_calculations_df.loc[owner_parent_calculations_df.ProjectID.isin(russian_indev_projectids)]\n",
    "russian_indev_op_df.loc[russian_indev_op_df.Country!='Russia']\n",
    "\n"
   ]
  },
  {
   "cell_type": "markdown",
   "id": "2d82fc92-c9f5-4024-83f0-f0ec1a3bd69d",
   "metadata": {},
   "source": [
    "## biggest parent companies for in-dev stuff?"
   ]
  },
  {
   "cell_type": "raw",
   "id": "a9641aa8-da60-4679-bd5c-effe190df0b4",
   "metadata": {},
   "source": [
    "pandas.DataFrame(\n",
    "    owner_parent_calculations_df.loc[\n",
    "        owner_parent_calculations_df.Status.isin(['Proposed','Construction','Country'])].groupby(\n",
    "        'Parent')['KmOwnership'].sum()).sort_values('KmOwnership', ascending=False)[:20]"
   ]
  },
  {
   "cell_type": "raw",
   "id": "be167919-77ab-456b-946a-541664325f7d",
   "metadata": {},
   "source": [
    "pandas.DataFrame(\n",
    "    owner_parent_calculations_df.loc[\n",
    "        owner_parent_calculations_df.Status.isin(['Proposed','Construction'])].groupby(\n",
    "        ['Parent','Country'])[['KmOwnership','CapacityOwnership']].sum(min_count=1)).sort_values('KmOwnership', ascending=False)[:20]"
   ]
  },
  {
   "cell_type": "markdown",
   "id": "8ce8efa2-8a00-4d90-8156-c9d40d316290",
   "metadata": {},
   "source": [
    "### how many of the projects for each owner do we have capacity data for? (add fraction)\n",
    "\n",
    "## emissions estimates"
   ]
  },
  {
   "cell_type": "raw",
   "id": "8c6a5d0b-54e9-4d6d-bee6-7711060596a5",
   "metadata": {},
   "source": [
    "# kuhne paper\n",
    "co2_rate = 152.789 # number is 152,789 tCO2/year emissions per kilobarrel per day, divide by 1000 to get per bpd (bpd=BOEd)"
   ]
  },
  {
   "cell_type": "raw",
   "id": "04a043dd-4bbc-4e62-9f7c-09c1eae49d4a",
   "metadata": {},
   "source": [
    "# calculate the number of CapacityBOEd entries, and which of those are NaNs\n",
    "# https://stackoverflow.com/questions/14529838/apply-multiple-functions-to-multiple-groupby-columns\n",
    "pandas.set_option('display.max_colwidth', None)\n",
    "result = owner_parent_calculations_df.loc[\n",
    "    owner_parent_calculations_df.Status.isin(['Proposed','Construction'])].groupby(\n",
    "    ['Parent','Country'])[['KmOwnership','CapacityBOEd','ProjectID']].agg({'KmOwnership':lambda x: x.sum(min_count=1),\n",
    "                                                                           'CapacityBOEd':[lambda x: x.sum(min_count=1),\n",
    "                                                                                           lambda x: x.dropna().count()],\n",
    "                                                                           'ProjectID':[lambda x: list(x.unique()).__len__(),\n",
    "                                                                                        lambda x: list(x.unique()),\n",
    "                                                                                        lambda x: [pipes_df_orig.loc[pipes_df_orig.ProjectID==i]['PipelineName'] for i in x]\n",
    "                                                                                                  ]})\n",
    "\n",
    "result['HowManyProjectsHaveCapacityData'] = result[('CapacityBOEd','<lambda_1>')].astype(str) + ' of ' + result[('ProjectID','<lambda_0>')].astype(str)\n",
    "result[['KmOwnership','CapacityBOEd','HowManyProjectsHaveCapacityData']].sort_values(('KmOwnership','<lambda>'), ascending=False)[:20]\n",
    "result['EmissionsMtCO2PerYear'] = result[('CapacityBOEd','<lambda_0>')]*co2_rate/1e6"
   ]
  },
  {
   "cell_type": "markdown",
   "id": "a340a615-35b1-4a74-b9b6-67d6802de572",
   "metadata": {},
   "source": [
    "### total emissions globally (known capacity is at about 67%)"
   ]
  },
  {
   "cell_type": "raw",
   "id": "f34225a7-e749-4602-b274-798cae387f6e",
   "metadata": {},
   "source": [
    "pipes_df_subset = pipes_df_orig.loc[(pipes_df_orig.Status.isin(['Construction','Proposed']))&\n",
    "                                     (pipes_df_orig.Fuel=='Oil')]\n",
    "print(pipes_df_subset['CapacityBcm/y'].dropna().size / pipes_df_subset['CapacityBcm/y'].size)\n",
    "pipes_df_subset['CapacityBOEd'].sum() * co2_rate / 1e6"
   ]
  },
  {
   "cell_type": "raw",
   "id": "ab789f80-3339-43cb-ae16-9e54058c07ba",
   "metadata": {},
   "source": [
    "pipes_df_subset = pipes_df_orig.loc[(pipes_df_orig.Status.isin(['Proposed']))&\n",
    "                                     (pipes_df_orig.Fuel=='Oil')]\n",
    "print(pipes_df_subset['CapacityBcm/y'].dropna().size / pipes_df_subset['CapacityBcm/y'].size)\n",
    "pipes_df_subset['CapacityBOEd'].sum() * co2_rate / 1e6"
   ]
  },
  {
   "cell_type": "raw",
   "id": "c4268f31-061b-48fe-8eee-ecd00e83ae28",
   "metadata": {},
   "source": [
    "pipes_df_subset = pipes_df_orig.loc[(pipes_df_orig.Status.isin(['Construction']))&\n",
    "                                     (pipes_df_orig.Fuel=='Oil')]\n",
    "print(pipes_df_subset['CapacityBcm/y'].dropna().size / pipes_df_subset['CapacityBcm/y'].size)\n",
    "pipes_df_subset['CapacityBOEd'].sum() * co2_rate / 1e6"
   ]
  },
  {
   "cell_type": "markdown",
   "id": "5b859717-1d0b-471c-b4e6-9cb8547ab109",
   "metadata": {},
   "source": [
    "### diameter analysis\n",
    "\n",
    "to see if it's useful to estimate missing capacities from diameter\n",
    "\n",
    "looks like this could be possible using a log-linear plot (below), though this would only buy us an additional 15 data points, which isn't worth it to me"
   ]
  },
  {
   "cell_type": "raw",
   "id": "4c01135f-eb6f-4436-8874-e597b8ece7c7",
   "metadata": {},
   "source": [
    "pipes_df_fix_diam = pipes_df_orig.copy()\n",
    "for idx,row in pipes_df_fix_diam.iterrows():\n",
    "    diameter_vals = row.Diameter\n",
    "    if type(diameter_vals)==str and ',' in diameter_vals:\n",
    "        #print(row.PipelineName)\n",
    "        diameter_list = [i.strip() for i in diameter_vals.split(',')]\n",
    "        diameter_list = [float(i) for i in diameter_list]\n",
    "        max_diam = max(diameter_list)\n",
    "        pipes_df_fix_diam.loc[idx,'Diameter'] = max_diam\n",
    "        #print(max_diam)\n",
    "        if row.DiameterUnits=='in':\n",
    "            pipes_df_fix_diam.loc[idx,'DiameterInMm'] = max_diam*25.4\n",
    "pipes_df_fix_diam['DiameterInMm'].replace('--',numpy.nan,inplace=True)"
   ]
  },
  {
   "cell_type": "raw",
   "id": "275b8a6f-488a-4d35-b4fe-2ffd28ca5dd1",
   "metadata": {},
   "source": [
    "mp.scatter(pipes_df_fix_diam.DiameterInMm, pipes_df_fix_diam.CapacityBOEd)\n",
    "mp.yscale('log')\n",
    "#mp.xlim(0,0.1)"
   ]
  },
  {
   "cell_type": "markdown",
   "id": "4a9b53f6-1326-48c6-a389-3d5263c9eff8",
   "metadata": {},
   "source": [
    "### how many could you add by extrapolating capacity?\n",
    "\n",
    "it's about 15, not really enough to do that, I think"
   ]
  },
  {
   "cell_type": "raw",
   "id": "a17cd773-3cec-4547-b0bc-88feede97b54",
   "metadata": {},
   "source": [
    "pipes_df_subset = pipes_df_fix_diam.loc[(pipes_df_orig.Status.isin(['Construction','Proposed','Shelved']))&\n",
    "                                     (pipes_df_orig.Fuel=='Oil')]\n",
    "pipes_df_subset.loc[(pipes_df_subset['CapacityBOEd'].isna())&\n",
    "                    (~pipes_df_subset['DiameterInMm'].isna())]['DiameterInMm'].count()"
   ]
  },
  {
   "cell_type": "markdown",
   "id": "69662690-a933-4a57-91c3-f14af768a126",
   "metadata": {},
   "source": [
    "that would take it up to about 84% capacity info"
   ]
  },
  {
   "cell_type": "raw",
   "id": "6760b12c-0e86-4bad-a87a-2290603d662b",
   "metadata": {},
   "source": [
    "pipes_df_subset = pipes_df_orig.loc[(pipes_df_orig.Status.isin(['Construction','Proposed','Shelved']))&\n",
    "                                     (pipes_df_orig.Fuel=='Oil')]\n",
    "(pipes_df_subset['CapacityBcm/y'].dropna().size + 15) / pipes_df_subset['CapacityBcm/y'].size"
   ]
  },
  {
   "cell_type": "markdown",
   "id": "41f4171b-3170-4bbf-b3d8-19a53722d1b0",
   "metadata": {},
   "source": [
    "### count fraction of available capacity information\n",
    "\n",
    "count"
   ]
  },
  {
   "cell_type": "raw",
   "id": "89125d73-01ca-424a-b97e-e8532e89b848",
   "metadata": {},
   "source": [
    "pipes_df_subset = pipes_df_orig.loc[(pipes_df_orig.Status.isin(['Construction','Proposed']))&\n",
    "                                     (pipes_df_orig.Fuel=='Gas')]\n",
    "pipes_df_subset.loc[~pipes_df_subset['CapacityBcm/y'].isna()].groupby('StartRegion')['CapacityBOEd'].size()\n",
    "#pipes_df_subset.groupby('StartRegion')['CapacityBcm/y'].size()"
   ]
  },
  {
   "cell_type": "markdown",
   "id": "a09616ff-3225-4c93-9ce9-b38cb04a5612",
   "metadata": {},
   "source": [
    "fraction"
   ]
  },
  {
   "cell_type": "raw",
   "id": "cccb6f2d-ffe4-4791-9646-ed26a0fb00f4",
   "metadata": {},
   "source": [
    "pandas.options.display.float_format = '{:,.3f}'.format\n",
    "pandas.DataFrame(pipes_df_subset.loc[\n",
    "    ~pipes_df_subset['CapacityBcm/y'].isna()].groupby(\n",
    "    'StartRegion')['CapacityBcm/y'].size()/pipes_df_subset.groupby(\n",
    "    'StartRegion')['CapacityBOEd'].size()).sort_values(by=0, ascending=False)"
   ]
  },
  {
   "cell_type": "raw",
   "id": "9974f445-e739-4e85-953e-9fe09cf58949",
   "metadata": {},
   "source": [
    "median_capacity = pipes_df_orig['CapacityBcm/y'].median()"
   ]
  },
  {
   "cell_type": "raw",
   "id": "38795807-265a-4c89-aff4-33d73faf80df",
   "metadata": {},
   "source": [
    "abs_dist_from_med_capacity = abs(pipes_df_orig['CapacityBcm/y']-pipes_df_orig['CapacityBcm/y'].median()).median()"
   ]
  },
  {
   "cell_type": "raw",
   "id": "14022e78-a963-4ec1-a823-b0c51a20a0c4",
   "metadata": {},
   "source": [
    "pipes_df_orig['CapacityBcm/y'].mean()"
   ]
  },
  {
   "cell_type": "raw",
   "id": "fd22b252-5e4e-4815-9ce5-85fc0946c351",
   "metadata": {},
   "source": [
    "pipes_df_orig['CapacityBcm/y'].std()"
   ]
  },
  {
   "cell_type": "raw",
   "id": "4dbe0f1e-b56b-439b-8a37-d58fc3ebdf5d",
   "metadata": {},
   "source": [
    "print(median_capacity)\n",
    "print(abs_dist_from_med_capacity)"
   ]
  },
  {
   "cell_type": "markdown",
   "id": "8481ce32-c7f6-47fd-893e-4db28fbda279",
   "metadata": {},
   "source": [
    "median capacity for a pipeline is about 10.74 bcm/y\n",
    "\n",
    "median abs dist from the median is about 10."
   ]
  },
  {
   "cell_type": "markdown",
   "id": "fb98d85a",
   "metadata": {},
   "source": [
    "# cost estimates (pipeline cost per km)\n",
    "\n",
    "throwing out any estimates larger than USD 10 million per km for taking regional estimates"
   ]
  },
  {
   "cell_type": "code",
   "execution_count": 209,
   "id": "3bcf26d0-8841-42c1-96c7-bd788afe67b8",
   "metadata": {},
   "outputs": [],
   "source": [
    "outliers_projectids = ['P2509','P0173','P1297', 'P4033', 'P0174','P3188','P2551', 'P4069', 'P0331', 'P1382','P0477']\n",
    "# for gas..."
   ]
  },
  {
   "cell_type": "code",
   "execution_count": 210,
   "id": "e83b508d-5fed-4b45-8cdf-d6ebb7850d58",
   "metadata": {},
   "outputs": [],
   "source": [
    "# pull out only pipelines that have a KNOWN length AND a cost\n",
    "country_ratios_with_length_and_cost_df = country_ratios_df.copy()[(country_ratios_df['Fuel']=='Gas') & \n",
    "                                    (country_ratios_df['CostUSDPerKm'].notna()) & \n",
    "                                    (country_ratios_df['LengthKnownKmByCountry'].notna()) &\n",
    "                                    (country_ratios_df['LengthKnownKm']!=0) &\n",
    "                                    #(country_ratios_df['CostUSDPerKm']<10e6) &\n",
    "                                    ~(country_ratios_df['ProjectID'].isin(outliers_projectids))\n",
    "                                   ]\n",
    "#country_ratios_with_length_and_cost_df = country_ratios_with_length_and_cost_df[~country_ratios_with_length_and_cost_df.ProjectID.isin(outliers_projectids)]"
   ]
  },
  {
   "cell_type": "markdown",
   "id": "a60996ff-c763-46a6-8576-cffa78c2fcbb",
   "metadata": {},
   "source": [
    "### global mean value"
   ]
  },
  {
   "cell_type": "code",
   "execution_count": 211,
   "id": "cf567357-e85c-4afc-b618-e35a0feef254",
   "metadata": {},
   "outputs": [
    {
     "data": {
      "text/plain": [
       "3099032.317801933"
      ]
     },
     "execution_count": 211,
     "metadata": {},
     "output_type": "execute_result"
    }
   ],
   "source": [
    "country_ratios_with_length_and_cost_df['CostUSDPerKm'].drop_duplicates().mean()"
   ]
  },
  {
   "cell_type": "markdown",
   "id": "9754a8d9-5d70-448d-a6ae-75efcd2a6054",
   "metadata": {},
   "source": [
    "### calculate regional costs"
   ]
  },
  {
   "cell_type": "code",
   "execution_count": 212,
   "id": "187bd845-39f3-4c5a-8618-723262516a27",
   "metadata": {},
   "outputs": [
    {
     "name": "stdout",
     "output_type": "stream",
     "text": [
      "Australia and New Zealand\n",
      "East Asia\n",
      "Eurasia\n",
      "Europe\n",
      "Latin America and the Caribbean\n",
      "Middle East and North Africa\n",
      "North America\n",
      "SE Asia\n",
      "South Asia\n",
      "Sub-Saharan Africa\n"
     ]
    }
   ],
   "source": [
    "pipes_costs_region_df = pandas.DataFrame(0, index=region_list, columns=['CostUSDPerKm','NumberOfCosts','NumberOfLengths'])\n",
    "\n",
    "for region in region_list:\n",
    "    print(region)\n",
    "    country_ratios_region_df = country_ratios_with_length_and_cost_df[country_ratios_with_length_and_cost_df['Region']==region]\n",
    "    pipes_costs_region_df.loc[region]['CostUSDPerKm'] = country_ratios_region_df['CostUSDPerKm'].mean()\n",
    "    pipes_costs_region_df.loc[region]['NumberOfCosts'] = list(set(country_ratios_region_df['ProjectID'])).__len__()\n",
    "    pipes_costs_region_df.loc[region]['NumberOfLengths'] = list(set(country_ratios_region_df['ProjectID'])).__len__()\n",
    "    "
   ]
  },
  {
   "cell_type": "markdown",
   "id": "f9ee664c-930f-47ca-b605-c84012c6e2df",
   "metadata": {},
   "source": [
    "### table for methodology with regional cost info"
   ]
  },
  {
   "cell_type": "code",
   "execution_count": 213,
   "id": "d3dda312-986c-4ea7-b628-ff1b4d1c257a",
   "metadata": {},
   "outputs": [
    {
     "data": {
      "text/html": [
       "<div>\n",
       "<style scoped>\n",
       "    .dataframe tbody tr th:only-of-type {\n",
       "        vertical-align: middle;\n",
       "    }\n",
       "\n",
       "    .dataframe tbody tr th {\n",
       "        vertical-align: top;\n",
       "    }\n",
       "\n",
       "    .dataframe thead th {\n",
       "        text-align: right;\n",
       "    }\n",
       "</style>\n",
       "<table border=\"1\" class=\"dataframe\">\n",
       "  <thead>\n",
       "    <tr style=\"text-align: right;\">\n",
       "      <th></th>\n",
       "      <th>CostUSDPerKm</th>\n",
       "      <th>NumberOfCosts</th>\n",
       "      <th>NumberOfLengths</th>\n",
       "    </tr>\n",
       "  </thead>\n",
       "  <tbody>\n",
       "    <tr>\n",
       "      <th>Australia and New Zealand</th>\n",
       "      <td>1306846</td>\n",
       "      <td>10</td>\n",
       "      <td>10</td>\n",
       "    </tr>\n",
       "    <tr>\n",
       "      <th>East Asia</th>\n",
       "      <td>1701998</td>\n",
       "      <td>55</td>\n",
       "      <td>55</td>\n",
       "    </tr>\n",
       "    <tr>\n",
       "      <th>Eurasia</th>\n",
       "      <td>4115383</td>\n",
       "      <td>46</td>\n",
       "      <td>46</td>\n",
       "    </tr>\n",
       "    <tr>\n",
       "      <th>Europe</th>\n",
       "      <td>3129315</td>\n",
       "      <td>111</td>\n",
       "      <td>111</td>\n",
       "    </tr>\n",
       "    <tr>\n",
       "      <th>Latin America and the Caribbean</th>\n",
       "      <td>3502921</td>\n",
       "      <td>24</td>\n",
       "      <td>24</td>\n",
       "    </tr>\n",
       "    <tr>\n",
       "      <th>Middle East and North Africa</th>\n",
       "      <td>2809259</td>\n",
       "      <td>31</td>\n",
       "      <td>31</td>\n",
       "    </tr>\n",
       "    <tr>\n",
       "      <th>North America</th>\n",
       "      <td>4723158</td>\n",
       "      <td>140</td>\n",
       "      <td>140</td>\n",
       "    </tr>\n",
       "    <tr>\n",
       "      <th>SE Asia</th>\n",
       "      <td>2366359</td>\n",
       "      <td>8</td>\n",
       "      <td>8</td>\n",
       "    </tr>\n",
       "    <tr>\n",
       "      <th>South Asia</th>\n",
       "      <td>1663439</td>\n",
       "      <td>17</td>\n",
       "      <td>17</td>\n",
       "    </tr>\n",
       "    <tr>\n",
       "      <th>Sub-Saharan Africa</th>\n",
       "      <td>4001946</td>\n",
       "      <td>5</td>\n",
       "      <td>5</td>\n",
       "    </tr>\n",
       "  </tbody>\n",
       "</table>\n",
       "</div>"
      ],
      "text/plain": [
       "                                 CostUSDPerKm  NumberOfCosts  NumberOfLengths\n",
       "Australia and New Zealand             1306846             10               10\n",
       "East Asia                             1701998             55               55\n",
       "Eurasia                               4115383             46               46\n",
       "Europe                                3129315            111              111\n",
       "Latin America and the Caribbean       3502921             24               24\n",
       "Middle East and North Africa          2809259             31               31\n",
       "North America                         4723158            140              140\n",
       "SE Asia                               2366359              8                8\n",
       "South Asia                            1663439             17               17\n",
       "Sub-Saharan Africa                    4001946              5                5"
      ]
     },
     "execution_count": 213,
     "metadata": {},
     "output_type": "execute_result"
    }
   ],
   "source": [
    "pipes_costs_region_df"
   ]
  },
  {
   "cell_type": "markdown",
   "id": "22cb04dc-3e08-43ec-8efd-51387768d17f",
   "metadata": {},
   "source": [
    "### calculate country-level costs"
   ]
  },
  {
   "cell_type": "code",
   "execution_count": 215,
   "id": "de2a5026-c06f-433a-bb29-423f1e2db904",
   "metadata": {},
   "outputs": [],
   "source": [
    "#country_list_for_costs = sorted(list(set(country_ratios_with_length_and_cost_df['Country'])))\n",
    "pipes_costs_country_df = pandas.DataFrame(0, index=country_list, columns=['CostUSDPerKm','NumberOfCosts','NumberOfLengths'])\n",
    "\n",
    "for country in country_list:#_for_costs:\n",
    "    #print(country)\n",
    "    country_ratios_country_df = country_ratios_with_length_and_cost_df[country_ratios_with_length_and_cost_df['Country']==country]\n",
    "    pipes_costs_country_df.loc[country,'CostUSDPerKm'] = country_ratios_country_df['CostUSDPerKm'].mean()\n",
    "    pipes_costs_country_df.loc[country,'NumberOfCosts'] = list(set(country_ratios_country_df['ProjectID'])).__len__()\n",
    "    pipes_costs_country_df.loc[country,'NumberOfLengths'] = list(set(country_ratios_country_df['ProjectID'])).__len__()"
   ]
  },
  {
   "cell_type": "raw",
   "id": "f3ef70dd-626f-4bd8-8d61-feb899599542",
   "metadata": {},
   "source": [
    "pipes_df_orig.loc[(pipes_df_orig.Fuel=='Oil')&\n",
    "                  (pipes_df_orig.Status.isin(['Construction','Proposed']))&\n",
    "                  (pipes_df_orig.Route!='Capacity expansion only')].count()"
   ]
  },
  {
   "cell_type": "raw",
   "id": "3c5df307-f226-4ba5-b2a3-be847f857787",
   "metadata": {},
   "source": [
    "pipes_df_orig.loc[(pipes_df_orig.Fuel=='Oil')&\n",
    "                  (pipes_df_orig.Status.isin(['Construction','Proposed']))&\n",
    "                  (pipes_df_orig.Route=='Capacity expansion only')]['CapacityBOEd'].sum()"
   ]
  },
  {
   "cell_type": "markdown",
   "id": "a99048f2-e80e-41a0-be0a-b40942963375",
   "metadata": {},
   "source": [
    "# tables etc."
   ]
  },
  {
   "cell_type": "markdown",
   "id": "f5242bbf-f1a7-4e90-9e91-90fbdb5bca2f",
   "metadata": {},
   "source": [
    "## table for regional totals"
   ]
  },
  {
   "cell_type": "code",
   "execution_count": 216,
   "id": "f804568d-5a95-490f-8245-d87042a15fee",
   "metadata": {},
   "outputs": [
    {
     "data": {
      "text/html": [
       "<div>\n",
       "<style scoped>\n",
       "    .dataframe tbody tr th:only-of-type {\n",
       "        vertical-align: middle;\n",
       "    }\n",
       "\n",
       "    .dataframe tbody tr th {\n",
       "        vertical-align: top;\n",
       "    }\n",
       "\n",
       "    .dataframe thead th {\n",
       "        text-align: right;\n",
       "    }\n",
       "</style>\n",
       "<table border=\"1\" class=\"dataframe\">\n",
       "  <thead>\n",
       "    <tr style=\"text-align: right;\">\n",
       "      <th></th>\n",
       "      <th>Proposed</th>\n",
       "      <th>Construction</th>\n",
       "      <th>Proposed+Construction</th>\n",
       "      <th>Shelved</th>\n",
       "      <th>Cancelled</th>\n",
       "      <th>Operating</th>\n",
       "      <th>Idle</th>\n",
       "      <th>Mothballed</th>\n",
       "      <th>Retired</th>\n",
       "    </tr>\n",
       "  </thead>\n",
       "  <tbody>\n",
       "    <tr>\n",
       "      <th>East Asia</th>\n",
       "      <td>31,380.90000</td>\n",
       "      <td>26,377.70000</td>\n",
       "      <td>57,758.60000</td>\n",
       "      <td>2,065.71000</td>\n",
       "      <td>475.27000</td>\n",
       "      <td>92,288.09000</td>\n",
       "      <td>0.00000</td>\n",
       "      <td>0.00000</td>\n",
       "      <td>41.00000</td>\n",
       "    </tr>\n",
       "    <tr>\n",
       "      <th>Eurasia</th>\n",
       "      <td>18,321.40000</td>\n",
       "      <td>5,153.38000</td>\n",
       "      <td>23,474.78000</td>\n",
       "      <td>272.16000</td>\n",
       "      <td>6,647.69000</td>\n",
       "      <td>128,934.76000</td>\n",
       "      <td>0.00000</td>\n",
       "      <td>3,300.05000</td>\n",
       "      <td>1,784.94000</td>\n",
       "    </tr>\n",
       "    <tr>\n",
       "      <th>South Asia</th>\n",
       "      <td>4,221.03000</td>\n",
       "      <td>17,140.20000</td>\n",
       "      <td>21,361.23000</td>\n",
       "      <td>6,357.71000</td>\n",
       "      <td>6,143.81000</td>\n",
       "      <td>29,669.32000</td>\n",
       "      <td>0.00000</td>\n",
       "      <td>0.00000</td>\n",
       "      <td>35.00000</td>\n",
       "    </tr>\n",
       "    <tr>\n",
       "      <th>Sub-Saharan Africa</th>\n",
       "      <td>18,823.08000</td>\n",
       "      <td>1,582.00000</td>\n",
       "      <td>20,405.08000</td>\n",
       "      <td>1,678.15000</td>\n",
       "      <td>176.96000</td>\n",
       "      <td>7,031.52000</td>\n",
       "      <td>0.00000</td>\n",
       "      <td>0.00000</td>\n",
       "      <td>0.00000</td>\n",
       "    </tr>\n",
       "    <tr>\n",
       "      <th>Europe</th>\n",
       "      <td>14,399.21000</td>\n",
       "      <td>2,836.20000</td>\n",
       "      <td>17,235.41000</td>\n",
       "      <td>5,705.03000</td>\n",
       "      <td>14,014.71000</td>\n",
       "      <td>110,152.27000</td>\n",
       "      <td>0.00000</td>\n",
       "      <td>4,734.21000</td>\n",
       "      <td>821.36000</td>\n",
       "    </tr>\n",
       "    <tr>\n",
       "      <th>North America</th>\n",
       "      <td>11,837.51000</td>\n",
       "      <td>2,768.33000</td>\n",
       "      <td>14,605.84000</td>\n",
       "      <td>10,916.42000</td>\n",
       "      <td>13,243.21000</td>\n",
       "      <td>420,872.56000</td>\n",
       "      <td>331.00000</td>\n",
       "      <td>0.00000</td>\n",
       "      <td>0.00000</td>\n",
       "    </tr>\n",
       "    <tr>\n",
       "      <th>Latin America and the Caribbean</th>\n",
       "      <td>12,772.26000</td>\n",
       "      <td>1,304.00000</td>\n",
       "      <td>14,076.26000</td>\n",
       "      <td>2,187.28000</td>\n",
       "      <td>1,301.38000</td>\n",
       "      <td>39,241.07000</td>\n",
       "      <td>0.00000</td>\n",
       "      <td>224.00000</td>\n",
       "      <td>0.00000</td>\n",
       "    </tr>\n",
       "    <tr>\n",
       "      <th>Australia and New Zealand</th>\n",
       "      <td>12,563.28000</td>\n",
       "      <td>580.00000</td>\n",
       "      <td>13,143.28000</td>\n",
       "      <td>488.23000</td>\n",
       "      <td>6,194.69000</td>\n",
       "      <td>31,025.88000</td>\n",
       "      <td>0.00000</td>\n",
       "      <td>0.00000</td>\n",
       "      <td>0.00000</td>\n",
       "    </tr>\n",
       "    <tr>\n",
       "      <th>Middle East and North Africa</th>\n",
       "      <td>5,269.15000</td>\n",
       "      <td>6,726.91000</td>\n",
       "      <td>11,996.06000</td>\n",
       "      <td>5,963.24000</td>\n",
       "      <td>4,144.74000</td>\n",
       "      <td>44,502.38000</td>\n",
       "      <td>0.00000</td>\n",
       "      <td>1,106.60000</td>\n",
       "      <td>39.28000</td>\n",
       "    </tr>\n",
       "    <tr>\n",
       "      <th>SE Asia</th>\n",
       "      <td>9,222.66000</td>\n",
       "      <td>984.30000</td>\n",
       "      <td>10,206.96000</td>\n",
       "      <td>2,634.21000</td>\n",
       "      <td>1,423.81000</td>\n",
       "      <td>16,879.66000</td>\n",
       "      <td>0.00000</td>\n",
       "      <td>0.00000</td>\n",
       "      <td>0.00000</td>\n",
       "    </tr>\n",
       "    <tr>\n",
       "      <th>Total</th>\n",
       "      <td>138,810.48000</td>\n",
       "      <td>65,453.02000</td>\n",
       "      <td>204,263.50000</td>\n",
       "      <td>38,268.14000</td>\n",
       "      <td>53,766.27000</td>\n",
       "      <td>920,597.51000</td>\n",
       "      <td>331.00000</td>\n",
       "      <td>9,364.86000</td>\n",
       "      <td>2,721.58000</td>\n",
       "    </tr>\n",
       "  </tbody>\n",
       "</table>\n",
       "</div>"
      ],
      "text/plain": [
       "                                     Proposed  Construction  \\\n",
       "East Asia                        31,380.90000  26,377.70000   \n",
       "Eurasia                          18,321.40000   5,153.38000   \n",
       "South Asia                        4,221.03000  17,140.20000   \n",
       "Sub-Saharan Africa               18,823.08000   1,582.00000   \n",
       "Europe                           14,399.21000   2,836.20000   \n",
       "North America                    11,837.51000   2,768.33000   \n",
       "Latin America and the Caribbean  12,772.26000   1,304.00000   \n",
       "Australia and New Zealand        12,563.28000     580.00000   \n",
       "Middle East and North Africa      5,269.15000   6,726.91000   \n",
       "SE Asia                           9,222.66000     984.30000   \n",
       "Total                           138,810.48000  65,453.02000   \n",
       "\n",
       "                                 Proposed+Construction      Shelved  \\\n",
       "East Asia                                 57,758.60000  2,065.71000   \n",
       "Eurasia                                   23,474.78000    272.16000   \n",
       "South Asia                                21,361.23000  6,357.71000   \n",
       "Sub-Saharan Africa                        20,405.08000  1,678.15000   \n",
       "Europe                                    17,235.41000  5,705.03000   \n",
       "North America                             14,605.84000 10,916.42000   \n",
       "Latin America and the Caribbean           14,076.26000  2,187.28000   \n",
       "Australia and New Zealand                 13,143.28000    488.23000   \n",
       "Middle East and North Africa              11,996.06000  5,963.24000   \n",
       "SE Asia                                   10,206.96000  2,634.21000   \n",
       "Total                                    204,263.50000 38,268.14000   \n",
       "\n",
       "                                   Cancelled     Operating      Idle  \\\n",
       "East Asia                          475.27000  92,288.09000   0.00000   \n",
       "Eurasia                          6,647.69000 128,934.76000   0.00000   \n",
       "South Asia                       6,143.81000  29,669.32000   0.00000   \n",
       "Sub-Saharan Africa                 176.96000   7,031.52000   0.00000   \n",
       "Europe                          14,014.71000 110,152.27000   0.00000   \n",
       "North America                   13,243.21000 420,872.56000 331.00000   \n",
       "Latin America and the Caribbean  1,301.38000  39,241.07000   0.00000   \n",
       "Australia and New Zealand        6,194.69000  31,025.88000   0.00000   \n",
       "Middle East and North Africa     4,144.74000  44,502.38000   0.00000   \n",
       "SE Asia                          1,423.81000  16,879.66000   0.00000   \n",
       "Total                           53,766.27000 920,597.51000 331.00000   \n",
       "\n",
       "                                 Mothballed     Retired  \n",
       "East Asia                           0.00000    41.00000  \n",
       "Eurasia                         3,300.05000 1,784.94000  \n",
       "South Asia                          0.00000    35.00000  \n",
       "Sub-Saharan Africa                  0.00000     0.00000  \n",
       "Europe                          4,734.21000   821.36000  \n",
       "North America                       0.00000     0.00000  \n",
       "Latin America and the Caribbean   224.00000     0.00000  \n",
       "Australia and New Zealand           0.00000     0.00000  \n",
       "Middle East and North Africa    1,106.60000    39.28000  \n",
       "SE Asia                             0.00000     0.00000  \n",
       "Total                           9,364.86000 2,721.58000  "
      ]
     },
     "execution_count": 216,
     "metadata": {},
     "output_type": "execute_result"
    }
   ],
   "source": [
    "if 'Total' in km_by_region_df.index:\n",
    "    km_by_region_df.drop(index='Total', inplace=True)   \n",
    "    total = km_by_region_df.sum(axis=0)\n",
    "    total.name='Total'\n",
    "    km_by_region_df = km_by_region_df.append(total)\n",
    "\n",
    "else:\n",
    "    total = km_by_region_df.sum(axis=0)\n",
    "    total.name='Total'\n",
    "    km_by_region_df = km_by_region_df.append(total)\n",
    "\n",
    "km_by_region_df"
   ]
  },
  {
   "cell_type": "markdown",
   "id": "79570a43-7f2f-44cb-8a79-6029e80d0c65",
   "metadata": {},
   "source": [
    "## table for km by country"
   ]
  },
  {
   "cell_type": "code",
   "execution_count": 217,
   "id": "b42d6a47-d1a5-4a4b-acf8-7ec5f0fcc36e",
   "metadata": {},
   "outputs": [],
   "source": [
    "# saves all countries to an Excel file for reference\n",
    "\n",
    "km_by_country_df.sort_values('Proposed+Construction', ascending=False)\n",
    "\n",
    "if 'Total' in km_by_country_df.index:\n",
    "    km_by_country_df.drop(index='Total', inplace=True)   \n",
    "    total = km_by_country_df.sum(axis=0)\n",
    "    total.name='Total'\n",
    "    km_by_country_df = km_by_country_df.append(total)\n",
    "\n",
    "else:\n",
    "    total = km_by_country_df.sum(axis=0)\n",
    "    total.name='Total'\n",
    "    km_by_country_df = km_by_country_df.append(total)\n",
    "\n",
    "#km_by_country_df.to_excel('GGIT-km-by-country.xlsx')"
   ]
  },
  {
   "cell_type": "markdown",
   "id": "44145d01-f597-498d-889a-73173abc7ef2",
   "metadata": {},
   "source": [
    "# table for stranded asset calculations"
   ]
  },
  {
   "cell_type": "markdown",
   "id": "c009d10e-36da-4eb8-8e46-3164731bdb7d",
   "metadata": {},
   "source": [
    "## country-level capex estimates"
   ]
  },
  {
   "cell_type": "code",
   "execution_count": 218,
   "id": "b0edb61c-12f3-4886-8131-586ad36e46dd",
   "metadata": {},
   "outputs": [
    {
     "name": "stderr",
     "output_type": "stream",
     "text": [
      "/var/folders/h5/nfk59_vx7gg_58myc9jfk7_40000gn/T/ipykernel_30975/3191961253.py:1: SettingWithCopyWarning: \n",
      "A value is trying to be set on a copy of a slice from a DataFrame.\n",
      "Try using .loc[row_indexer,col_indexer] = value instead\n",
      "\n",
      "See the caveats in the documentation: https://pandas.pydata.org/pandas-docs/stable/user_guide/indexing.html#returning-a-view-versus-a-copy\n",
      "  country_ratios_gas_df['CostUSDEstimate'] = numpy.nan\n",
      "/Users/baird/miniconda3/envs/gem/lib/python3.9/site-packages/pandas/core/indexing.py:1817: SettingWithCopyWarning: \n",
      "A value is trying to be set on a copy of a slice from a DataFrame.\n",
      "Try using .loc[row_indexer,col_indexer] = value instead\n",
      "\n",
      "See the caveats in the documentation: https://pandas.pydata.org/pandas-docs/stable/user_guide/indexing.html#returning-a-view-versus-a-copy\n",
      "  self._setitem_single_column(loc, value, pi)\n",
      "/Users/baird/miniconda3/envs/gem/lib/python3.9/site-packages/pandas/core/indexing.py:1773: SettingWithCopyWarning: \n",
      "A value is trying to be set on a copy of a slice from a DataFrame.\n",
      "Try using .loc[row_indexer,col_indexer] = value instead\n",
      "\n",
      "See the caveats in the documentation: https://pandas.pydata.org/pandas-docs/stable/user_guide/indexing.html#returning-a-view-versus-a-copy\n",
      "  self._setitem_single_column(ilocs[0], value, pi)\n"
     ]
    }
   ],
   "source": [
    "country_ratios_gas_df['CostUSDEstimate'] = numpy.nan\n",
    "\n",
    "for idx,row in country_ratios_gas_df.iterrows():\n",
    "    # calculate cost\n",
    "    cntry = row.Country\n",
    "    region = row.Region\n",
    "    km_by_cntry = row.LengthKnownKmByCountry\n",
    "    #print(row.PipelineName)\n",
    "    country_ratios_gas_df.loc[idx,'CostUSDEstimate'] = pipes_costs_region_df.loc[region, 'CostUSDPerKm'] * km_by_cntry\n",
    "\n",
    "# replace any known costs now\n",
    "country_ratios_gas_df.loc[(~country_ratios_gas_df.LengthKnownKmByCountry.isna())&\n",
    "                      (~country_ratios_gas_df.CostUSDPerKm.isna()),'CostUSDEstimate'] = \\\n",
    "country_ratios_gas_df.loc[(~country_ratios_gas_df.LengthKnownKmByCountry.isna())&\n",
    "                      (~country_ratios_gas_df.CostUSDPerKm.isna())]['LengthKnownKmByCountry'] * \\\n",
    "country_ratios_gas_df.loc[(~country_ratios_gas_df.LengthKnownKmByCountry.isna())&\n",
    "                      (~country_ratios_gas_df.CostUSDPerKm.isna())]['CostUSDPerKm']\n",
    "\n",
    "country_sums_USDBillion_df = pandas.DataFrame(country_ratios_gas_df.loc[(country_ratios_gas_df.Status.isin(['Construction','Proposed']))].groupby('Country')['CostUSDEstimate'].sum(min_count=1)/1e9)"
   ]
  },
  {
   "cell_type": "code",
   "execution_count": 219,
   "id": "95829118-8241-44fa-941e-db867f4e7ad1",
   "metadata": {},
   "outputs": [
    {
     "name": "stdout",
     "output_type": "stream",
     "text": [
      "===country-level calculations===\n",
      "Proposed\n",
      "Construction\n",
      "Shelved\n",
      "Cancelled\n",
      "Operating\n",
      "Idle\n",
      "Mothballed\n",
      "Retired\n",
      "===regional calculations===\n",
      "Proposed\n",
      "Construction\n",
      "Shelved\n",
      "Cancelled\n",
      "Operating\n",
      "Idle\n",
      "Mothballed\n",
      "Retired\n"
     ]
    }
   ],
   "source": [
    "capex_by_country_df = pandas.DataFrame(columns=status_list, index=country_list)\n",
    "capex_by_region_df = pandas.DataFrame(columns=status_list, index=region_list)\n",
    "\n",
    "print('===country-level calculations===')\n",
    "for status in status_list:\n",
    "    print(status)\n",
    "    country_ratios_gas_df_status = country_ratios_gas_df[country_ratios_gas_df.Status==status]\n",
    "    capex_by_country_df[status] = country_ratios_gas_df_status.groupby('Country')['CostUSDEstimate'].sum()/1e9\n",
    "\n",
    "print('===regional calculations===')\n",
    "for status in status_list:\n",
    "    print(status)\n",
    "    country_ratios_gas_df_status = country_ratios_gas_df[country_ratios_gas_df.Status==status]\n",
    "    capex_by_region_df[status] = country_ratios_gas_df_status.groupby('Region')['CostUSDEstimate'].sum()/1e9\n",
    "\n",
    "# # fill NaN with 0.0\n",
    "capex_by_region_df = capex_by_region_df.fillna(0)\n",
    "capex_by_country_df = capex_by_country_df.fillna(0)"
   ]
  },
  {
   "cell_type": "code",
   "execution_count": 220,
   "id": "46a37257-f3c7-40f8-a2b7-51318878c296",
   "metadata": {},
   "outputs": [],
   "source": [
    "capex_by_region_df['Proposed+Construction'] = capex_by_region_df[['Proposed','Construction']].sum(axis=1)\n",
    "#capex_by_region_df.sort_values(by='Proposed+Construction', inplace=True)\n",
    "capex_by_region_df = capex_by_region_df[['Proposed', 'Construction', 'Proposed+Construction', 'Shelved', 'Cancelled', 'Operating', 'Idle', 'Mothballed', 'Retired']]\n",
    "capex_by_region_df.sort_values('Proposed+Construction', ascending=False, inplace=True)"
   ]
  },
  {
   "cell_type": "code",
   "execution_count": 221,
   "id": "cc733300-291f-497e-a686-e2499fa85713",
   "metadata": {},
   "outputs": [],
   "source": [
    "capex_by_country_df['Proposed+Construction'] = capex_by_country_df[['Proposed','Construction']].sum(axis=1)\n",
    "#capex_by_country_df.sort_values(by='Proposed+Construction', inplace=True)\n",
    "capex_by_country_df = capex_by_country_df[['Proposed', 'Construction', 'Proposed+Construction', 'Shelved', 'Cancelled', 'Operating', 'Idle', 'Mothballed', 'Retired']]\n",
    "capex_by_country_df.sort_values('Proposed+Construction', ascending=False, inplace=True)"
   ]
  },
  {
   "cell_type": "code",
   "execution_count": 222,
   "id": "fe3d3070-5264-4535-9257-abbd7419c0ad",
   "metadata": {},
   "outputs": [],
   "source": [
    "if 'Total' in capex_by_region_df.index:\n",
    "    capex_by_region_df.drop(index='Total', inplace=True)   \n",
    "    total = capex_by_region_df.sum(axis=0)\n",
    "    total.name='Total'\n",
    "    capex_by_region_df = capex_by_region_df.append(total)\n",
    "\n",
    "else:\n",
    "    total = capex_by_region_df.sum(axis=0)\n",
    "    total.name='Total'\n",
    "    capex_by_region_df = capex_by_region_df.append(total)"
   ]
  },
  {
   "cell_type": "code",
   "execution_count": 223,
   "id": "1472a37f-8e4f-4e29-8a23-95bc1c4c3e36",
   "metadata": {},
   "outputs": [],
   "source": [
    "if 'Total' in capex_by_country_df.index:\n",
    "    capex_by_country_df.drop(index='Total', inplace=True)   \n",
    "    total = capex_by_country_df.sum(axis=0)\n",
    "    total.name='Total'\n",
    "    capex_by_country_df = capex_by_country_df.append(total)\n",
    "\n",
    "else:\n",
    "    total = capex_by_country_df.sum(axis=0)\n",
    "    total.name='Total'\n",
    "    capex_by_country_df = capex_by_country_df.append(total)"
   ]
  },
  {
   "cell_type": "code",
   "execution_count": 224,
   "id": "22636b17-8c9a-4d61-bd7e-42e14da91c56",
   "metadata": {},
   "outputs": [
    {
     "data": {
      "text/html": [
       "<div>\n",
       "<style scoped>\n",
       "    .dataframe tbody tr th:only-of-type {\n",
       "        vertical-align: middle;\n",
       "    }\n",
       "\n",
       "    .dataframe tbody tr th {\n",
       "        vertical-align: top;\n",
       "    }\n",
       "\n",
       "    .dataframe thead th {\n",
       "        text-align: right;\n",
       "    }\n",
       "</style>\n",
       "<table border=\"1\" class=\"dataframe\">\n",
       "  <thead>\n",
       "    <tr style=\"text-align: right;\">\n",
       "      <th></th>\n",
       "      <th>Proposed</th>\n",
       "      <th>Construction</th>\n",
       "      <th>Proposed+Construction</th>\n",
       "      <th>Shelved</th>\n",
       "      <th>Cancelled</th>\n",
       "      <th>Operating</th>\n",
       "      <th>Idle</th>\n",
       "      <th>Mothballed</th>\n",
       "      <th>Retired</th>\n",
       "    </tr>\n",
       "  </thead>\n",
       "  <tbody>\n",
       "    <tr>\n",
       "      <th>East Asia</th>\n",
       "      <td>46.6</td>\n",
       "      <td>38.7</td>\n",
       "      <td>85.4</td>\n",
       "      <td>2.3</td>\n",
       "      <td>2.1</td>\n",
       "      <td>154.6</td>\n",
       "      <td>0.0</td>\n",
       "      <td>0.0</td>\n",
       "      <td>0.1</td>\n",
       "    </tr>\n",
       "    <tr>\n",
       "      <th>North America</th>\n",
       "      <td>64.7</td>\n",
       "      <td>13.9</td>\n",
       "      <td>78.6</td>\n",
       "      <td>56.4</td>\n",
       "      <td>87.6</td>\n",
       "      <td>1,869.6</td>\n",
       "      <td>1.6</td>\n",
       "      <td>0.0</td>\n",
       "      <td>0.0</td>\n",
       "    </tr>\n",
       "    <tr>\n",
       "      <th>Eurasia</th>\n",
       "      <td>53.9</td>\n",
       "      <td>20.9</td>\n",
       "      <td>74.9</td>\n",
       "      <td>1.7</td>\n",
       "      <td>19.6</td>\n",
       "      <td>541.2</td>\n",
       "      <td>0.0</td>\n",
       "      <td>13.6</td>\n",
       "      <td>4.1</td>\n",
       "    </tr>\n",
       "    <tr>\n",
       "      <th>Sub-Saharan Africa</th>\n",
       "      <td>58.4</td>\n",
       "      <td>4.0</td>\n",
       "      <td>62.5</td>\n",
       "      <td>0.4</td>\n",
       "      <td>0.0</td>\n",
       "      <td>28.1</td>\n",
       "      <td>0.0</td>\n",
       "      <td>0.0</td>\n",
       "      <td>0.0</td>\n",
       "    </tr>\n",
       "    <tr>\n",
       "      <th>Europe</th>\n",
       "      <td>36.3</td>\n",
       "      <td>5.9</td>\n",
       "      <td>42.2</td>\n",
       "      <td>16.7</td>\n",
       "      <td>46.0</td>\n",
       "      <td>277.6</td>\n",
       "      <td>0.0</td>\n",
       "      <td>14.2</td>\n",
       "      <td>2.6</td>\n",
       "    </tr>\n",
       "    <tr>\n",
       "      <th>Middle East and North Africa</th>\n",
       "      <td>19.3</td>\n",
       "      <td>20.8</td>\n",
       "      <td>40.1</td>\n",
       "      <td>16.6</td>\n",
       "      <td>5.5</td>\n",
       "      <td>120.4</td>\n",
       "      <td>0.0</td>\n",
       "      <td>3.1</td>\n",
       "      <td>0.0</td>\n",
       "    </tr>\n",
       "    <tr>\n",
       "      <th>Latin America and the Caribbean</th>\n",
       "      <td>33.2</td>\n",
       "      <td>3.4</td>\n",
       "      <td>36.6</td>\n",
       "      <td>9.9</td>\n",
       "      <td>4.4</td>\n",
       "      <td>137.5</td>\n",
       "      <td>0.0</td>\n",
       "      <td>0.8</td>\n",
       "      <td>0.0</td>\n",
       "    </tr>\n",
       "    <tr>\n",
       "      <th>South Asia</th>\n",
       "      <td>7.4</td>\n",
       "      <td>26.1</td>\n",
       "      <td>33.5</td>\n",
       "      <td>2.0</td>\n",
       "      <td>9.9</td>\n",
       "      <td>46.4</td>\n",
       "      <td>0.0</td>\n",
       "      <td>0.0</td>\n",
       "      <td>0.1</td>\n",
       "    </tr>\n",
       "    <tr>\n",
       "      <th>SE Asia</th>\n",
       "      <td>19.2</td>\n",
       "      <td>2.7</td>\n",
       "      <td>21.9</td>\n",
       "      <td>2.3</td>\n",
       "      <td>3.4</td>\n",
       "      <td>39.6</td>\n",
       "      <td>0.0</td>\n",
       "      <td>0.0</td>\n",
       "      <td>0.0</td>\n",
       "    </tr>\n",
       "    <tr>\n",
       "      <th>Australia and New Zealand</th>\n",
       "      <td>13.8</td>\n",
       "      <td>0.8</td>\n",
       "      <td>14.5</td>\n",
       "      <td>0.4</td>\n",
       "      <td>7.0</td>\n",
       "      <td>39.7</td>\n",
       "      <td>0.0</td>\n",
       "      <td>0.0</td>\n",
       "      <td>0.0</td>\n",
       "    </tr>\n",
       "    <tr>\n",
       "      <th>Total</th>\n",
       "      <td>352.9</td>\n",
       "      <td>137.3</td>\n",
       "      <td>490.2</td>\n",
       "      <td>108.8</td>\n",
       "      <td>185.5</td>\n",
       "      <td>3,254.7</td>\n",
       "      <td>1.6</td>\n",
       "      <td>31.7</td>\n",
       "      <td>6.8</td>\n",
       "    </tr>\n",
       "  </tbody>\n",
       "</table>\n",
       "</div>"
      ],
      "text/plain": [
       "                                 Proposed  Construction  \\\n",
       "East Asia                            46.6          38.7   \n",
       "North America                        64.7          13.9   \n",
       "Eurasia                              53.9          20.9   \n",
       "Sub-Saharan Africa                   58.4           4.0   \n",
       "Europe                               36.3           5.9   \n",
       "Middle East and North Africa         19.3          20.8   \n",
       "Latin America and the Caribbean      33.2           3.4   \n",
       "South Asia                            7.4          26.1   \n",
       "SE Asia                              19.2           2.7   \n",
       "Australia and New Zealand            13.8           0.8   \n",
       "Total                               352.9         137.3   \n",
       "\n",
       "                                 Proposed+Construction  Shelved  Cancelled  \\\n",
       "East Asia                                         85.4      2.3        2.1   \n",
       "North America                                     78.6     56.4       87.6   \n",
       "Eurasia                                           74.9      1.7       19.6   \n",
       "Sub-Saharan Africa                                62.5      0.4        0.0   \n",
       "Europe                                            42.2     16.7       46.0   \n",
       "Middle East and North Africa                      40.1     16.6        5.5   \n",
       "Latin America and the Caribbean                   36.6      9.9        4.4   \n",
       "South Asia                                        33.5      2.0        9.9   \n",
       "SE Asia                                           21.9      2.3        3.4   \n",
       "Australia and New Zealand                         14.5      0.4        7.0   \n",
       "Total                                            490.2    108.8      185.5   \n",
       "\n",
       "                                 Operating  Idle  Mothballed  Retired  \n",
       "East Asia                            154.6   0.0         0.0      0.1  \n",
       "North America                      1,869.6   1.6         0.0      0.0  \n",
       "Eurasia                              541.2   0.0        13.6      4.1  \n",
       "Sub-Saharan Africa                    28.1   0.0         0.0      0.0  \n",
       "Europe                               277.6   0.0        14.2      2.6  \n",
       "Middle East and North Africa         120.4   0.0         3.1      0.0  \n",
       "Latin America and the Caribbean      137.5   0.0         0.8      0.0  \n",
       "South Asia                            46.4   0.0         0.0      0.1  \n",
       "SE Asia                               39.6   0.0         0.0      0.0  \n",
       "Australia and New Zealand             39.7   0.0         0.0      0.0  \n",
       "Total                              3,254.7   1.6        31.7      6.8  "
      ]
     },
     "execution_count": 224,
     "metadata": {},
     "output_type": "execute_result"
    }
   ],
   "source": [
    "pandas.options.display.float_format = '{:,.1f}'.format\n",
    "capex_by_region_df"
   ]
  },
  {
   "cell_type": "markdown",
   "id": "a67ada29-6ccc-49b9-8ab1-6fdf3d6a116f",
   "metadata": {},
   "source": [
    "## print out country-level stranded assets for Jenny's report"
   ]
  },
  {
   "cell_type": "code",
   "execution_count": 225,
   "id": "dc2646d0-d87b-4efe-8e29-82dbc9b949f5",
   "metadata": {},
   "outputs": [
    {
     "data": {
      "text/html": [
       "<div>\n",
       "<style scoped>\n",
       "    .dataframe tbody tr th:only-of-type {\n",
       "        vertical-align: middle;\n",
       "    }\n",
       "\n",
       "    .dataframe tbody tr th {\n",
       "        vertical-align: top;\n",
       "    }\n",
       "\n",
       "    .dataframe thead th {\n",
       "        text-align: right;\n",
       "    }\n",
       "</style>\n",
       "<table border=\"1\" class=\"dataframe\">\n",
       "  <thead>\n",
       "    <tr style=\"text-align: right;\">\n",
       "      <th></th>\n",
       "      <th>Proposed</th>\n",
       "      <th>Construction</th>\n",
       "    </tr>\n",
       "  </thead>\n",
       "  <tbody>\n",
       "    <tr>\n",
       "      <th>China</th>\n",
       "      <td>44.09012</td>\n",
       "      <td>38.52779</td>\n",
       "    </tr>\n",
       "    <tr>\n",
       "      <th>Vietnam</th>\n",
       "      <td>1.77714</td>\n",
       "      <td>0.92840</td>\n",
       "    </tr>\n",
       "    <tr>\n",
       "      <th>Indonesia</th>\n",
       "      <td>5.71627</td>\n",
       "      <td>1.05075</td>\n",
       "    </tr>\n",
       "    <tr>\n",
       "      <th>India</th>\n",
       "      <td>3.52764</td>\n",
       "      <td>18.20719</td>\n",
       "    </tr>\n",
       "    <tr>\n",
       "      <th>Bangladesh</th>\n",
       "      <td>1.23427</td>\n",
       "      <td>0.24952</td>\n",
       "    </tr>\n",
       "    <tr>\n",
       "      <th>South Korea</th>\n",
       "      <td>0.00000</td>\n",
       "      <td>0.00000</td>\n",
       "    </tr>\n",
       "    <tr>\n",
       "      <th>Philippines</th>\n",
       "      <td>0.00000</td>\n",
       "      <td>0.00308</td>\n",
       "    </tr>\n",
       "    <tr>\n",
       "      <th>Japan</th>\n",
       "      <td>0.08067</td>\n",
       "      <td>0.17600</td>\n",
       "    </tr>\n",
       "  </tbody>\n",
       "</table>\n",
       "</div>"
      ],
      "text/plain": [
       "             Proposed  Construction\n",
       "China        44.09012      38.52779\n",
       "Vietnam       1.77714       0.92840\n",
       "Indonesia     5.71627       1.05075\n",
       "India         3.52764      18.20719\n",
       "Bangladesh    1.23427       0.24952\n",
       "South Korea   0.00000       0.00000\n",
       "Philippines   0.00000       0.00308\n",
       "Japan         0.08067       0.17600"
      ]
     },
     "execution_count": 225,
     "metadata": {},
     "output_type": "execute_result"
    }
   ],
   "source": [
    "country_list_gas_plants_report = ['China',\n",
    "                                  'Vietnam',\n",
    "                                  'Indonesia',\n",
    "                                  'India',\n",
    "                                  'Bangladesh',\n",
    "                                  'South Korea',\n",
    "                                  'Philippines',\n",
    "                                  'Japan']\n",
    "\n",
    "pandas.options.display.float_format = '{:,.5f}'.format\n",
    "capex_by_country_df.loc[country_list_gas_plants_report,['Proposed','Construction']].reindex(country_list_gas_plants_report)"
   ]
  },
  {
   "cell_type": "code",
   "execution_count": null,
   "id": "3a8b0781-945b-41e2-9f8d-5bb71c1b1086",
   "metadata": {},
   "outputs": [],
   "source": []
  }
 ],
 "metadata": {
  "kernelspec": {
   "display_name": "gem",
   "language": "python",
   "name": "gem"
  },
  "language_info": {
   "codemirror_mode": {
    "name": "ipython",
    "version": 3
   },
   "file_extension": ".py",
   "mimetype": "text/x-python",
   "name": "python",
   "nbconvert_exporter": "python",
   "pygments_lexer": "ipython3",
   "version": "3.9.9"
  }
 },
 "nbformat": 4,
 "nbformat_minor": 5
}
