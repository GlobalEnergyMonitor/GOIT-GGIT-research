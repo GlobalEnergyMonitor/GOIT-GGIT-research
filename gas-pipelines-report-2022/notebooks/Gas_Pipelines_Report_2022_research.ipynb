{
 "cells": [
  {
   "cell_type": "code",
   "execution_count": 55,
   "id": "3b38c4c2",
   "metadata": {},
   "outputs": [],
   "source": [
    "import pandas\n",
    "pandas.set_option(\"display.max_rows\", 50, \"display.max_columns\", 50)\n",
    "\n",
    "import pygsheets\n",
    "import numpy\n",
    "import scipy\n",
    "\n",
    "import matplotlib\n",
    "import matplotlib.pyplot as mp\n",
    "import matplotlib.cm\n",
    "\n",
    "#matplotlib.rcParams['font.family'] = 'Roboto'#'sans-serif'\n",
    "#matplotlib.rcParams['font.sans-serif'] = ['Roboto']#,'Helvetica']\n",
    "#matplotlib.rc('pdf', fonttype=42)\n",
    "#matplotlib.rcParams['pdf.fonttype'] = 42\n",
    "#matplotlib.rcParams['backend'] = 'Agg'\n",
    "#matplotlib.use('cairo')\n",
    "\n",
    "import textwrap\n",
    "import seaborn"
   ]
  },
  {
   "cell_type": "code",
   "execution_count": 56,
   "id": "7c4470f8",
   "metadata": {},
   "outputs": [],
   "source": [
    "# solarized colors\n",
    "solar_base03    = '#002b36' # darkest gray\n",
    "solar_base02    = '#073642'\n",
    "solar_base01    = '#586e75'\n",
    "solar_base00    = '#657b83'\n",
    "solar_base0     = '#839496' # light gray\n",
    "solar_base1     = '#93a1a1' # lightest gray\n",
    "solar_base2     = '#eee8d5' # dark white\n",
    "solar_base3     = '#fdf6e3' # light white\n",
    "solar_yellow    = '#b58900'\n",
    "solar_orange    = '#cb4b16'\n",
    "solar_red       = '#dc322f'\n",
    "solar_magenta   = '#d33682'\n",
    "solar_violet    = '#6c71c4'\n",
    "solar_blue      = '#268bd2'\n",
    "solar_cyan      = '#2aa198'\n",
    "solar_green     = '#859900'"
   ]
  },
  {
   "cell_type": "code",
   "execution_count": 57,
   "id": "e6865013-30c5-4b2d-ac08-3e3262eb80ab",
   "metadata": {},
   "outputs": [],
   "source": [
    "# GEM tracker colors\n",
    "# done using this: https://imagecolorpicker.com/\n",
    "tracker_construction = tracker_red     = '#cb4b16'\n",
    "tracker_proposed = tracker_yellow  = '#ffb342'\n",
    "tracker_shelved = tracker_blue    = '#609ed0'\n",
    "tracker_operating = tracker_brown   = '#976f5d'\n",
    "tracker_cancelled = tracker_green   = '#93db92'\n",
    "tracker_mothballed = tracker_gray = '#515151'\n",
    "\n",
    "#tracker_proposed = tracker_yellow\n",
    "#tracker_construction = tracker_red\n",
    "#tracker_shelved = tracker_blue\n",
    "#tracker_operating = tracker_brown"
   ]
  },
  {
   "cell_type": "markdown",
   "id": "24f769c3",
   "metadata": {},
   "source": [
    "import Pipelines_Current dataset"
   ]
  },
  {
   "cell_type": "raw",
   "id": "398b390b",
   "metadata": {},
   "source": [
    "GasKmByCountry.xlsx\n",
    "GasKmByOwner.xlsx\n",
    "GasKmByRegion.xlsx\n",
    "NGLKmByCountry.xlsx\n",
    "NGLKmByOwner.xlsx\n",
    "NGLKmByRegion.xlsx\n",
    "OilKmByCountry.xlsx\n",
    "OilKmByOwner.xlsx\n",
    "OilKmByRegion.xlsx\n",
    "Estimated_Length-Results_By_Pipeline_Gas.xlsx\n",
    "Estimated_Length-Results_By_Pipeline_Oil_and_Gas.xlsx\n",
    "Estimated_Length-Results_By_Pipeline_Oil.xlsx\n",
    "Estimated_Length-Results_By_Country_Oil.xlsx\n",
    "Estimated_Length-Results_By_Country_Oil_and_Gas.xlsx\n",
    "Estimated_Length-Results_By_Country_Gas.xlsx"
   ]
  },
  {
   "cell_type": "markdown",
   "id": "cc821fdf-1db6-493d-bb96-16585cd8f53e",
   "metadata": {},
   "source": [
    "# import data"
   ]
  },
  {
   "cell_type": "code",
   "execution_count": 58,
   "id": "8910a9d3",
   "metadata": {},
   "outputs": [],
   "source": [
    "credentials_directory = '/Users/baird/Dropbox/_google-api/'\n",
    "gc = pygsheets.authorize(client_secret=credentials_directory+'client_secret.json')\n",
    "#spreadsheet = gc.open_by_key('1foPLE6K-uqFlaYgLPAUxzeXfDO5wOOqE7tibNHeqTek')\n",
    "spreadsheet = gc.open_by_key('178YQvZ8EC17LYA8sIgsOEi5veROivWi_uUnPb6tOuzE')\n",
    "\n",
    "#spreadsheet[1] \"Gas Pipelines\" tab is the second index\n",
    "gas_pipes = spreadsheet[1].get_as_df(encoding='latin1')\n",
    "oil_pipes = spreadsheet[2].get_as_df(encoding='latin1')\n",
    "#owners = spreadsheet[2].get_as_df()\n",
    "\n",
    "gas_pipes = gas_pipes.drop('WKTFormat', axis=1) # delete WKTFormat column\n",
    "oil_pipes = oil_pipes.drop('WKTFormat', axis=1)\n",
    "\n",
    "# delete columns that aren't the same in the sheets, to concatenate them...\n",
    "columns_not_in_oil = list(set(gas_pipes.columns)-set(oil_pipes.columns))\n",
    "columns_not_in_gas = list(set(oil_pipes.columns)-set(gas_pipes.columns))\n",
    "gas_pipes.drop(columns=columns_not_in_oil, axis=1, inplace=True)\n",
    "oil_pipes.drop(columns=columns_not_in_gas, axis=1, inplace=True)\n",
    "\n",
    "pipes_df_orig = pandas.concat([oil_pipes, gas_pipes], ignore_index=True)\n",
    "#pipes_df_orig = pipes_df_orig[pipes_df_orig['Status']!='N/A'] # for container rows\n",
    "#pipes_df_orig = pipes_df_orig[pipes_df_orig['ProjectID']!=''] # for empty rows at bottom\n",
    "\n",
    "#get other relevant sheets\n",
    "country_ratios_df = spreadsheet[5].get_as_df(encoding='latin1')\n",
    "owners_df = spreadsheet[3].get_as_df(encoding='latin1')\n",
    "owners_df.set_index('ProjectID', inplace=True)"
   ]
  },
  {
   "cell_type": "code",
   "execution_count": 59,
   "id": "0b7d5e02-4779-4929-921c-d35d2c8f9fd9",
   "metadata": {},
   "outputs": [
    {
     "data": {
      "text/html": [
       "<div>\n",
       "<style scoped>\n",
       "    .dataframe tbody tr th:only-of-type {\n",
       "        vertical-align: middle;\n",
       "    }\n",
       "\n",
       "    .dataframe tbody tr th {\n",
       "        vertical-align: top;\n",
       "    }\n",
       "\n",
       "    .dataframe thead th {\n",
       "        text-align: right;\n",
       "    }\n",
       "</style>\n",
       "<table border=\"1\" class=\"dataframe\">\n",
       "  <thead>\n",
       "    <tr style=\"text-align: right;\">\n",
       "      <th></th>\n",
       "      <th>PipelineName</th>\n",
       "      <th>SegmentName</th>\n",
       "      <th>ProjectID</th>\n",
       "      <th>Country</th>\n",
       "      <th>LengthEstimateKmByCountry</th>\n",
       "      <th>Status</th>\n",
       "      <th>Fuel</th>\n",
       "      <th>LengthEstimateKm</th>\n",
       "      <th>LengthPerCountryFraction</th>\n",
       "      <th>Owner</th>\n",
       "      <th>StartYearLatest</th>\n",
       "      <th>Region</th>\n",
       "      <th>PipelineBubbleRegion</th>\n",
       "      <th>BOEd</th>\n",
       "      <th>BOEdPerCountry</th>\n",
       "      <th>CostMergedUSD</th>\n",
       "      <th>CostMergedEuro</th>\n",
       "      <th>LengthKnownKm</th>\n",
       "      <th>LengthKnownKmByCountry</th>\n",
       "      <th>MergedKmByPipeline</th>\n",
       "      <th>CostMergedUSDPerKm</th>\n",
       "      <th>CostMergedEuroPerKm</th>\n",
       "      <th>MergedKmByCountry</th>\n",
       "    </tr>\n",
       "  </thead>\n",
       "  <tbody>\n",
       "    <tr>\n",
       "      <th>0</th>\n",
       "      <td>Alberta Clipper Oil Pipeline</td>\n",
       "      <td></td>\n",
       "      <td>P0001</td>\n",
       "      <td>Canada</td>\n",
       "      <td>1,099.5</td>\n",
       "      <td>Operating</td>\n",
       "      <td>Oil</td>\n",
       "      <td>1,790.0</td>\n",
       "      <td>0.7</td>\n",
       "      <td>Enbridge (100%)</td>\n",
       "      <td>2010</td>\n",
       "      <td>North America</td>\n",
       "      <td>North America</td>\n",
       "      <td>440,000.0</td>\n",
       "      <td>309,493.0</td>\n",
       "      <td>--</td>\n",
       "      <td>--</td>\n",
       "      <td>1,790.0</td>\n",
       "      <td>1,259.1</td>\n",
       "      <td>1,790.0</td>\n",
       "      <td>--</td>\n",
       "      <td>--</td>\n",
       "      <td>1,259.1</td>\n",
       "    </tr>\n",
       "    <tr>\n",
       "      <th>1</th>\n",
       "      <td>Alberta Clipper Oil Pipeline</td>\n",
       "      <td></td>\n",
       "      <td>P0001</td>\n",
       "      <td>USA</td>\n",
       "      <td>463.6</td>\n",
       "      <td>Operating</td>\n",
       "      <td>Oil</td>\n",
       "      <td>1,790.0</td>\n",
       "      <td>0.3</td>\n",
       "      <td>Enbridge (100%)</td>\n",
       "      <td>2010</td>\n",
       "      <td>North America</td>\n",
       "      <td>North America</td>\n",
       "      <td>440,000.0</td>\n",
       "      <td>130,507.4</td>\n",
       "      <td>--</td>\n",
       "      <td>--</td>\n",
       "      <td>1,790.0</td>\n",
       "      <td>530.9</td>\n",
       "      <td>1,790.0</td>\n",
       "      <td>--</td>\n",
       "      <td>--</td>\n",
       "      <td>530.9</td>\n",
       "    </tr>\n",
       "    <tr>\n",
       "      <th>2</th>\n",
       "      <td>Athabasca Oil Pipeline</td>\n",
       "      <td></td>\n",
       "      <td>P0002</td>\n",
       "      <td>Canada</td>\n",
       "      <td>418.1</td>\n",
       "      <td>Operating</td>\n",
       "      <td>Oil</td>\n",
       "      <td>542.0</td>\n",
       "      <td>1.0</td>\n",
       "      <td>Enbridge (100%)</td>\n",
       "      <td>1999</td>\n",
       "      <td>North America</td>\n",
       "      <td>North America</td>\n",
       "      <td>570,000.0</td>\n",
       "      <td>570,000.0</td>\n",
       "      <td>--</td>\n",
       "      <td>--</td>\n",
       "      <td>542.0</td>\n",
       "      <td>542.0</td>\n",
       "      <td>542.0</td>\n",
       "      <td>--</td>\n",
       "      <td>--</td>\n",
       "      <td>542.0</td>\n",
       "    </tr>\n",
       "    <tr>\n",
       "      <th>3</th>\n",
       "      <td>Bakken Oil Pipeline</td>\n",
       "      <td></td>\n",
       "      <td>P0004</td>\n",
       "      <td>Canada</td>\n",
       "      <td>155.3</td>\n",
       "      <td>Operating</td>\n",
       "      <td>Oil</td>\n",
       "      <td>261.0</td>\n",
       "      <td>0.6</td>\n",
       "      <td>Enbridge (100%)</td>\n",
       "      <td>2013</td>\n",
       "      <td>North America</td>\n",
       "      <td>North America</td>\n",
       "      <td>145,000.0</td>\n",
       "      <td>85,901.4</td>\n",
       "      <td>--</td>\n",
       "      <td>--</td>\n",
       "      <td>261.0</td>\n",
       "      <td>154.6</td>\n",
       "      <td>261.0</td>\n",
       "      <td>--</td>\n",
       "      <td>--</td>\n",
       "      <td>154.6</td>\n",
       "    </tr>\n",
       "    <tr>\n",
       "      <th>4</th>\n",
       "      <td>Bakken Oil Pipeline</td>\n",
       "      <td></td>\n",
       "      <td>P0004</td>\n",
       "      <td>USA</td>\n",
       "      <td>106.9</td>\n",
       "      <td>Operating</td>\n",
       "      <td>Oil</td>\n",
       "      <td>261.0</td>\n",
       "      <td>0.4</td>\n",
       "      <td>Enbridge (100%)</td>\n",
       "      <td>2013</td>\n",
       "      <td>North America</td>\n",
       "      <td>North America</td>\n",
       "      <td>145,000.0</td>\n",
       "      <td>59,098.7</td>\n",
       "      <td>--</td>\n",
       "      <td>--</td>\n",
       "      <td>261.0</td>\n",
       "      <td>106.4</td>\n",
       "      <td>261.0</td>\n",
       "      <td>--</td>\n",
       "      <td>--</td>\n",
       "      <td>106.4</td>\n",
       "    </tr>\n",
       "    <tr>\n",
       "      <th>...</th>\n",
       "      <td>...</td>\n",
       "      <td>...</td>\n",
       "      <td>...</td>\n",
       "      <td>...</td>\n",
       "      <td>...</td>\n",
       "      <td>...</td>\n",
       "      <td>...</td>\n",
       "      <td>...</td>\n",
       "      <td>...</td>\n",
       "      <td>...</td>\n",
       "      <td>...</td>\n",
       "      <td>...</td>\n",
       "      <td>...</td>\n",
       "      <td>...</td>\n",
       "      <td>...</td>\n",
       "      <td>...</td>\n",
       "      <td>...</td>\n",
       "      <td>...</td>\n",
       "      <td>...</td>\n",
       "      <td>...</td>\n",
       "      <td>...</td>\n",
       "      <td>...</td>\n",
       "      <td>...</td>\n",
       "    </tr>\n",
       "    <tr>\n",
       "      <th>3881</th>\n",
       "      <td>Israel Natural Gas Transmission System</td>\n",
       "      <td></td>\n",
       "      <td>P3658</td>\n",
       "      <td>Jordan</td>\n",
       "      <td>27.2</td>\n",
       "      <td>Operating</td>\n",
       "      <td>Gas</td>\n",
       "      <td>618.6</td>\n",
       "      <td>0.0</td>\n",
       "      <td>Israel Natural Gas Lines (INGL) (100%)</td>\n",
       "      <td>2011</td>\n",
       "      <td>Middle East and North Africa</td>\n",
       "      <td>Middle East</td>\n",
       "      <td>--</td>\n",
       "      <td>--</td>\n",
       "      <td>--</td>\n",
       "      <td>--</td>\n",
       "      <td>--</td>\n",
       "      <td>--</td>\n",
       "      <td>618.6</td>\n",
       "      <td>--</td>\n",
       "      <td>--</td>\n",
       "      <td>27.2</td>\n",
       "    </tr>\n",
       "    <tr>\n",
       "      <th>3882</th>\n",
       "      <td>Arish–Port Said Gas Pipeline</td>\n",
       "      <td></td>\n",
       "      <td>P3659</td>\n",
       "      <td>Egypt</td>\n",
       "      <td>243.4</td>\n",
       "      <td>Operating</td>\n",
       "      <td>Gas</td>\n",
       "      <td>243.4</td>\n",
       "      <td>1.0</td>\n",
       "      <td>Egyptian Natural Gas Holding Company</td>\n",
       "      <td>--</td>\n",
       "      <td>Middle East and North Africa</td>\n",
       "      <td>Middle East</td>\n",
       "      <td>--</td>\n",
       "      <td>--</td>\n",
       "      <td>--</td>\n",
       "      <td>--</td>\n",
       "      <td>--</td>\n",
       "      <td>--</td>\n",
       "      <td>243.4</td>\n",
       "      <td>--</td>\n",
       "      <td>--</td>\n",
       "      <td>243.4</td>\n",
       "    </tr>\n",
       "    <tr>\n",
       "      <th>3883</th>\n",
       "      <td>Roma to Brisbane Pipeline</td>\n",
       "      <td>Peat Lateral</td>\n",
       "      <td>P3660</td>\n",
       "      <td>Australia</td>\n",
       "      <td>118.5</td>\n",
       "      <td>Operating</td>\n",
       "      <td>Gas</td>\n",
       "      <td>121</td>\n",
       "      <td>1.0</td>\n",
       "      <td>--</td>\n",
       "      <td>--</td>\n",
       "      <td>Australia and New Zealand</td>\n",
       "      <td>Asia Pacific</td>\n",
       "      <td>--</td>\n",
       "      <td>--</td>\n",
       "      <td>--</td>\n",
       "      <td>--</td>\n",
       "      <td>121.0</td>\n",
       "      <td>121.0</td>\n",
       "      <td>121.0</td>\n",
       "      <td>--</td>\n",
       "      <td>--</td>\n",
       "      <td>121.0</td>\n",
       "    </tr>\n",
       "    <tr>\n",
       "      <th>3884</th>\n",
       "      <td>Telfer Pipeline</td>\n",
       "      <td>Nifty Gas Lateral</td>\n",
       "      <td>P3661</td>\n",
       "      <td>Australia</td>\n",
       "      <td>44.9</td>\n",
       "      <td>Operating</td>\n",
       "      <td>Gas</td>\n",
       "      <td>45</td>\n",
       "      <td>1.0</td>\n",
       "      <td>--</td>\n",
       "      <td>--</td>\n",
       "      <td>Australia and New Zealand</td>\n",
       "      <td>Asia Pacific</td>\n",
       "      <td>--</td>\n",
       "      <td>--</td>\n",
       "      <td>--</td>\n",
       "      <td>--</td>\n",
       "      <td>45.0</td>\n",
       "      <td>45.0</td>\n",
       "      <td>45.0</td>\n",
       "      <td>--</td>\n",
       "      <td>--</td>\n",
       "      <td>45.0</td>\n",
       "    </tr>\n",
       "    <tr>\n",
       "      <th>3885</th>\n",
       "      <td>Neerabup Pipeline</td>\n",
       "      <td></td>\n",
       "      <td>P3662</td>\n",
       "      <td>Australia</td>\n",
       "      <td>30.3</td>\n",
       "      <td>Operating</td>\n",
       "      <td>Gas</td>\n",
       "      <td></td>\n",
       "      <td>1.0</td>\n",
       "      <td>--</td>\n",
       "      <td>--</td>\n",
       "      <td>Australia and New Zealand</td>\n",
       "      <td>Asia Pacific</td>\n",
       "      <td>--</td>\n",
       "      <td>--</td>\n",
       "      <td>--</td>\n",
       "      <td>--</td>\n",
       "      <td>--</td>\n",
       "      <td>--</td>\n",
       "      <td>30.3</td>\n",
       "      <td>--</td>\n",
       "      <td>--</td>\n",
       "      <td>30.3</td>\n",
       "    </tr>\n",
       "  </tbody>\n",
       "</table>\n",
       "<p>3886 rows × 23 columns</p>\n",
       "</div>"
      ],
      "text/plain": [
       "                                PipelineName        SegmentName ProjectID  \\\n",
       "0               Alberta Clipper Oil Pipeline                        P0001   \n",
       "1               Alberta Clipper Oil Pipeline                        P0001   \n",
       "2                     Athabasca Oil Pipeline                        P0002   \n",
       "3                        Bakken Oil Pipeline                        P0004   \n",
       "4                        Bakken Oil Pipeline                        P0004   \n",
       "...                                      ...                ...       ...   \n",
       "3881  Israel Natural Gas Transmission System                        P3658   \n",
       "3882            Arish–Port Said Gas Pipeline                        P3659   \n",
       "3883               Roma to Brisbane Pipeline       Peat Lateral     P3660   \n",
       "3884                         Telfer Pipeline  Nifty Gas Lateral     P3661   \n",
       "3885                       Neerabup Pipeline                        P3662   \n",
       "\n",
       "        Country LengthEstimateKmByCountry     Status Fuel LengthEstimateKm  \\\n",
       "0        Canada                   1,099.5  Operating  Oil          1,790.0   \n",
       "1           USA                     463.6  Operating  Oil          1,790.0   \n",
       "2        Canada                     418.1  Operating  Oil            542.0   \n",
       "3        Canada                     155.3  Operating  Oil            261.0   \n",
       "4           USA                     106.9  Operating  Oil            261.0   \n",
       "...         ...                       ...        ...  ...              ...   \n",
       "3881     Jordan                      27.2  Operating  Gas            618.6   \n",
       "3882      Egypt                     243.4  Operating  Gas            243.4   \n",
       "3883  Australia                     118.5  Operating  Gas              121   \n",
       "3884  Australia                      44.9  Operating  Gas               45   \n",
       "3885  Australia                      30.3  Operating  Gas                    \n",
       "\n",
       "      LengthPerCountryFraction                                   Owner  \\\n",
       "0                          0.7                         Enbridge (100%)   \n",
       "1                          0.3                         Enbridge (100%)   \n",
       "2                          1.0                         Enbridge (100%)   \n",
       "3                          0.6                         Enbridge (100%)   \n",
       "4                          0.4                         Enbridge (100%)   \n",
       "...                        ...                                     ...   \n",
       "3881                       0.0  Israel Natural Gas Lines (INGL) (100%)   \n",
       "3882                       1.0    Egyptian Natural Gas Holding Company   \n",
       "3883                       1.0                                      --   \n",
       "3884                       1.0                                      --   \n",
       "3885                       1.0                                      --   \n",
       "\n",
       "     StartYearLatest                        Region PipelineBubbleRegion  \\\n",
       "0               2010                 North America        North America   \n",
       "1               2010                 North America        North America   \n",
       "2               1999                 North America        North America   \n",
       "3               2013                 North America        North America   \n",
       "4               2013                 North America        North America   \n",
       "...              ...                           ...                  ...   \n",
       "3881            2011  Middle East and North Africa          Middle East   \n",
       "3882              --  Middle East and North Africa          Middle East   \n",
       "3883              --     Australia and New Zealand         Asia Pacific   \n",
       "3884              --     Australia and New Zealand         Asia Pacific   \n",
       "3885              --     Australia and New Zealand         Asia Pacific   \n",
       "\n",
       "          BOEd BOEdPerCountry CostMergedUSD CostMergedEuro LengthKnownKm  \\\n",
       "0    440,000.0      309,493.0            --             --       1,790.0   \n",
       "1    440,000.0      130,507.4            --             --       1,790.0   \n",
       "2    570,000.0      570,000.0            --             --         542.0   \n",
       "3    145,000.0       85,901.4            --             --         261.0   \n",
       "4    145,000.0       59,098.7            --             --         261.0   \n",
       "...        ...            ...           ...            ...           ...   \n",
       "3881        --             --            --             --            --   \n",
       "3882        --             --            --             --            --   \n",
       "3883        --             --            --             --         121.0   \n",
       "3884        --             --            --             --          45.0   \n",
       "3885        --             --            --             --            --   \n",
       "\n",
       "     LengthKnownKmByCountry  MergedKmByPipeline CostMergedUSDPerKm  \\\n",
       "0                   1,259.1             1,790.0                 --   \n",
       "1                     530.9             1,790.0                 --   \n",
       "2                     542.0               542.0                 --   \n",
       "3                     154.6               261.0                 --   \n",
       "4                     106.4               261.0                 --   \n",
       "...                     ...                 ...                ...   \n",
       "3881                     --               618.6                 --   \n",
       "3882                     --               243.4                 --   \n",
       "3883                  121.0               121.0                 --   \n",
       "3884                   45.0                45.0                 --   \n",
       "3885                     --                30.3                 --   \n",
       "\n",
       "     CostMergedEuroPerKm  MergedKmByCountry  \n",
       "0                     --            1,259.1  \n",
       "1                     --              530.9  \n",
       "2                     --              542.0  \n",
       "3                     --              154.6  \n",
       "4                     --              106.4  \n",
       "...                  ...                ...  \n",
       "3881                  --               27.2  \n",
       "3882                  --              243.4  \n",
       "3883                  --              121.0  \n",
       "3884                  --               45.0  \n",
       "3885                  --               30.3  \n",
       "\n",
       "[3886 rows x 23 columns]"
      ]
     },
     "execution_count": 59,
     "metadata": {},
     "output_type": "execute_result"
    }
   ],
   "source": [
    "# set Brazil b/c pipelines equal to zero per Gregor's advice\n",
    "pipes_df_orig\n",
    "country_ratios_df"
   ]
  },
  {
   "cell_type": "code",
   "execution_count": 60,
   "id": "39042d18-e87b-408d-9b78-35cdac5a94fe",
   "metadata": {},
   "outputs": [
    {
     "data": {
      "text/plain": [
       "Index(['PipelineNetworkContainer', 'PipelineName', 'SegmentName', 'Wiki',\n",
       "       'ProjectID', 'Fuel', 'Countries', 'Researcher', 'LastUpdated', 'Status',\n",
       "       'Parent', 'ProposalYear', 'ConstructionYear', 'StartYear1',\n",
       "       'StartYear2', 'StartYear3', 'Delayed', 'DelayType', 'StartYearEarliest',\n",
       "       'ShelvedYear', 'CancelledYear', 'StopYear', 'ShelvedCancelledType',\n",
       "       'Capacity', 'CapacityUnits', 'CapacityBcm/y', 'CapacityBOEd',\n",
       "       'LengthKnown', 'LengthKnownUnits', 'LengthKnownKm', 'LengthEstimateKm',\n",
       "       'LengthMergedKm', 'Diameter', 'DiameterUnits', 'Source',\n",
       "       'StartLocation', 'StartPrefecture/District', 'StartState/Province',\n",
       "       'StartCountry', 'StartRegion', 'EndLocation', 'EndPrefecture/District',\n",
       "       'EndState/Province', 'EndCountry', 'EndRegion', 'NumberOfCountries',\n",
       "       'CostOld', 'CostOldUnits', 'CostOldUSD', 'CostEst', 'CostEstUnits',\n",
       "       'CostEstYear', 'CostEstUSD', 'CostActual', 'CostActualUnits',\n",
       "       'CostActualYear', 'CostActualUSD', 'CostMergedUSD', 'FID', 'FIDYear',\n",
       "       'WriteDown', 'Opposition', 'ESJNotes', 'EuropeTracker', 'PCI', 'Route',\n",
       "       'RouteAccuracy', 'RouteMapNotes', 'OtherNames',\n",
       "       'OtherLanguagePipelineName', 'OtherLanguageSegmentName',\n",
       "       'OtherLanguageWikiPage', 'ResearcherNotes', 'H2Proposed',\n",
       "       'CostUSDPerKm'],\n",
       "      dtype='object')"
      ]
     },
     "execution_count": 60,
     "metadata": {},
     "output_type": "execute_result"
    }
   ],
   "source": [
    "pipes_df_orig.columns"
   ]
  },
  {
   "cell_type": "code",
   "execution_count": 61,
   "id": "6dc63d0b-d5f6-474d-881c-24825472fb65",
   "metadata": {},
   "outputs": [],
   "source": [
    "routes_to_zero_out = [\n",
    "    'Route 4b Gas Pipeline',\n",
    "    'Route 5b Gas Pipeline',\n",
    "    'Route 5c Gas Pipeline',\n",
    "    'Route 6b Gas Pipeline' ]\n",
    "\n",
    "#routes_to_zero_out = []\n",
    "\n",
    "cols_to_zero_out = ['LengthMergedKm']\n",
    "pipes_df_orig.loc[pipes_df_orig['PipelineName'].isin(routes_to_zero_out), cols_to_zero_out] = numpy.nan\n",
    "\n",
    "cols_to_zero_out = ['MergedKmByCountry']\n",
    "country_ratios_df.loc[country_ratios_df['PipelineName'].isin(routes_to_zero_out), cols_to_zero_out] = numpy.nan"
   ]
  },
  {
   "cell_type": "markdown",
   "id": "c03ad170",
   "metadata": {},
   "source": [
    "## replace \"--\" with NaN, removing empty rows"
   ]
  },
  {
   "cell_type": "code",
   "execution_count": 62,
   "id": "53a9af81",
   "metadata": {},
   "outputs": [],
   "source": [
    "# replace -- entries with NaN\n",
    "pipes_df_orig = pipes_df_orig.replace('--', numpy.nan)\n",
    "pipes_df_orig = pipes_df_orig[pipes_df_orig['PipelineName']!='']"
   ]
  },
  {
   "cell_type": "code",
   "execution_count": 63,
   "id": "6b1f9786-722e-4812-8580-449356520048",
   "metadata": {},
   "outputs": [
    {
     "data": {
      "text/plain": [
       "1253487.5799999998"
      ]
     },
     "execution_count": 63,
     "metadata": {},
     "output_type": "execute_result"
    }
   ],
   "source": [
    "pipes_df_orig[pipes_df_orig['Fuel']=='Gas']['LengthMergedKm'].sum()"
   ]
  },
  {
   "cell_type": "code",
   "execution_count": 64,
   "id": "96a2ab51",
   "metadata": {},
   "outputs": [],
   "source": [
    "country_ratios_df['StartYearLatest'].replace('--', numpy.nan, inplace=True)\n",
    "country_ratios_df['LengthKnownKm'].replace('--', numpy.nan, inplace=True)\n",
    "country_ratios_df['CostMergedUSD'].replace('--', numpy.nan, inplace=True)\n",
    "country_ratios_df['CostMergedUSDPerKm'].replace('--', numpy.nan, inplace=True)\n",
    "country_ratios_df['LengthKnownKmByCountry'].replace('--', numpy.nan, inplace=True)"
   ]
  },
  {
   "cell_type": "markdown",
   "id": "a28ad2a3",
   "metadata": {},
   "source": [
    "# km by country, km by region calculations"
   ]
  },
  {
   "cell_type": "code",
   "execution_count": 65,
   "id": "b69bb35e",
   "metadata": {},
   "outputs": [],
   "source": [
    "status_list = ['Proposed', 'Construction', 'Shelved', 'Cancelled', 'Operating', 'Idle', 'Mothballed', 'Retired']\n",
    "country_list = sorted(list(set(country_ratios_df['Country'])))\n",
    "region_list = sorted(list(set(country_ratios_df['Region'])))"
   ]
  },
  {
   "cell_type": "code",
   "execution_count": 66,
   "id": "0f861f96",
   "metadata": {},
   "outputs": [
    {
     "name": "stdout",
     "output_type": "stream",
     "text": [
      "===country-level calculations===\n",
      "Proposed\n",
      "Construction\n",
      "Shelved\n",
      "Cancelled\n",
      "Operating\n",
      "Idle\n",
      "Mothballed\n",
      "Retired\n",
      "===regional calculations===\n",
      "Proposed\n",
      "Construction\n",
      "Shelved\n",
      "Cancelled\n",
      "Operating\n",
      "Idle\n",
      "Mothballed\n",
      "Retired\n"
     ]
    }
   ],
   "source": [
    "country_ratios_gas_df = country_ratios_df[country_ratios_df['Fuel']=='Gas']\n",
    "\n",
    "km_by_country_df = pandas.DataFrame(columns=status_list, index=country_list)\n",
    "km_by_region_df = pandas.DataFrame(columns=status_list, index=region_list)\n",
    "\n",
    "print('===country-level calculations===')\n",
    "for status in status_list:\n",
    "    print(status)\n",
    "    country_ratios_gas_df_status = country_ratios_gas_df[country_ratios_gas_df['Status']==status]\n",
    "    km_by_country_df[status] = country_ratios_gas_df_status.groupby('Country')['MergedKmByCountry'].sum()\n",
    "\n",
    "print('===regional calculations===')\n",
    "for status in status_list:\n",
    "    print(status)\n",
    "    country_ratios_gas_df_status = country_ratios_gas_df[country_ratios_gas_df['Status']==status]\n",
    "    km_by_region_df[status] = country_ratios_gas_df_status.groupby('Region')['MergedKmByCountry'].sum()\n",
    "\n",
    "# # fill NaN with 0.0\n",
    "km_by_region_df = km_by_region_df.fillna(0)\n",
    "km_by_country_df = km_by_country_df.fillna(0)"
   ]
  },
  {
   "cell_type": "code",
   "execution_count": 67,
   "id": "f27e1492-6919-456b-8519-a35e89c76f34",
   "metadata": {},
   "outputs": [],
   "source": [
    "km_by_region_df['Proposed+Construction'] = km_by_region_df[['Proposed','Construction']].sum(axis=1)\n",
    "km_by_region_df.sort_values(by='Proposed+Construction', inplace=True)\n",
    "km_by_region_df = km_by_region_df[['Proposed', 'Construction', 'Proposed+Construction', 'Shelved', 'Cancelled', 'Operating', 'Idle', 'Mothballed', 'Retired']]\n",
    "km_by_region_df.sort_values('Proposed+Construction', ascending=False, inplace=True)"
   ]
  },
  {
   "cell_type": "code",
   "execution_count": 68,
   "id": "38ef2764-c801-46f8-a82d-4803101a1f3b",
   "metadata": {},
   "outputs": [],
   "source": [
    "km_by_country_df['Proposed+Construction'] = km_by_country_df[['Proposed','Construction']].sum(axis=1)\n",
    "km_by_country_df.sort_values(by='Proposed+Construction', inplace=True)\n",
    "km_by_country_df = km_by_country_df[['Proposed', 'Construction', 'Proposed+Construction', 'Shelved', 'Cancelled', 'Operating', 'Idle', 'Mothballed', 'Retired']]\n",
    "km_by_country_df.sort_values('Proposed+Construction', ascending=False, inplace=True)"
   ]
  },
  {
   "cell_type": "markdown",
   "id": "15cab3a4-a85f-4813-8e3f-944747729946",
   "metadata": {},
   "source": [
    "## add Total row to km by country/region"
   ]
  },
  {
   "cell_type": "raw",
   "id": "7e73b537-02b9-4206-b45f-541ea2e9863f",
   "metadata": {},
   "source": [
    "if 'Total' not in km_by_country_df.index:\n",
    "    total_country = km_by_country_df.sum(axis=0)\n",
    "    total_country.name='Total'\n",
    "    km_by_country_df = km_by_country_df.append(total_country)\n",
    "\n",
    "if 'Total' not in km_by_region_df.index:\n",
    "    total_region = km_by_region_df.sum(axis=0)\n",
    "    total_region.name='Total'\n",
    "    km_by_region_df = km_by_region_df.append(total_region)\n",
    "\n",
    "#km_by_region_df.to_excel('GasKmByRegion.xlsx')\n",
    "#km_by_country_df.to_excel('GasKmByCountry.xlsx')"
   ]
  },
  {
   "cell_type": "markdown",
   "id": "99fe358c",
   "metadata": {},
   "source": [
    "# numbers of pipes finished in a given year"
   ]
  },
  {
   "cell_type": "code",
   "execution_count": 69,
   "id": "198c9165",
   "metadata": {},
   "outputs": [],
   "source": [
    "pipes_started = pipes_df_orig.copy()\n",
    "pipes_started['StartYearEarliest'].replace(numpy.nan,'',inplace=True)\n",
    "pipes_started = pipes_started[(pipes_started['Status'].isin(['Operating'])) &\n",
    "                              (pipes_started['Fuel']=='Gas')]\n",
    "pipes_started_sum = pipes_started.groupby('StartYearEarliest')['LengthMergedKm'].sum()"
   ]
  },
  {
   "cell_type": "code",
   "execution_count": 70,
   "id": "8d9559e8-1fc7-49c1-833f-6e19e425e498",
   "metadata": {},
   "outputs": [],
   "source": [
    "pipes_started_startyear = pipes_df_orig.copy()\n",
    "pipes_started_startyear['StartYearEarliest'].replace(numpy.nan,'',inplace=True)\n",
    "pipes_started_startyear = pipes_started_startyear[(pipes_started_startyear['Status'].isin(['Operating'])) &\n",
    "                              (pipes_started_startyear['Fuel']=='Gas')]\n",
    "#pipes_started_startyear_sum = pipes_started_startyear.groupby('StartYearLatest')['LengthMergedKm'].sum()"
   ]
  },
  {
   "cell_type": "code",
   "execution_count": 71,
   "id": "b944ca0c-f362-4d07-a142-78b1523e988d",
   "metadata": {},
   "outputs": [],
   "source": [
    "pipes_indev = pipes_df_orig.copy()\n",
    "pipes_indev = pipes_indev[pipes_indev['Fuel']=='Gas']\n",
    "pipes_indev = pipes_indev.groupby('Status')['LengthMergedKm'].sum()"
   ]
  },
  {
   "cell_type": "code",
   "execution_count": 72,
   "id": "d15a4dbf-af9f-4c41-bb90-bc045c099402",
   "metadata": {},
   "outputs": [],
   "source": [
    "pipes_indev_to2030 = pipes_df_orig.copy()\n",
    "pipes_indev_to2030 = pipes_indev_to2030[(pipes_indev_to2030['Fuel']=='Gas') &\n",
    "                                        (pipes_indev_to2030['Status'].isin(['Proposed','Construction','Shelved'])) &\n",
    "                                        (pipes_indev_to2030['StartYearEarliest'].isin(list(range(2023,2031))))]\n",
    "pipes_indev_to2030 = pipes_indev_to2030.groupby('Status')['LengthMergedKm'].sum()"
   ]
  },
  {
   "cell_type": "code",
   "execution_count": 73,
   "id": "5bd752fe-875a-4bc2-8429-0910473d52c6",
   "metadata": {},
   "outputs": [],
   "source": [
    "pipes_indev_startyear = pipes_df_orig.copy()\n",
    "pipes_indev_startyear = pipes_indev_startyear[(pipes_indev_startyear['Status'].isin(['Proposed','Construction','Shelved'])) &\n",
    "                                              (pipes_indev_startyear['Fuel']=='Gas')]\n",
    "pipes_indev_startyear = pipes_indev_startyear.groupby(['Status','StartYearEarliest'])['LengthMergedKm'].sum()"
   ]
  },
  {
   "cell_type": "raw",
   "id": "f9c665d4-9828-4d5b-b1d0-1e7ce7af3c8c",
   "metadata": {},
   "source": [
    "font_size = 14\n",
    "\n",
    "fig = mp.figure(figsize=(10,5))\n",
    "ax = fig.add_subplot(111)\n",
    "\n",
    "ax.bar(pipes_started_sum.index.values[:-1], pipes_started_sum.values[:-1],\n",
    "       color=solar_base03, edgecolor=solar_base03)\n",
    "ax.tick_params(labelsize=font_size)\n",
    "ax.set_xlabel('start year', size=font_size)\n",
    "ax.set_ylabel('km', size=font_size)\n",
    "\n",
    "ax.set_xlim(1999.5, 2021.5)\n",
    "ax.set_ylim(0, 30000)\n",
    "\n",
    "ax.xaxis.set_major_locator(matplotlib.ticker.MaxNLocator(integer=True))\n",
    "\n",
    "ax.set_title('gas pipelines (km) by start year', size=font_size)"
   ]
  },
  {
   "cell_type": "raw",
   "id": "d129e93d-a9ea-40b8-87cc-9b7466b6d252",
   "metadata": {},
   "source": [
    "font_size = 14\n",
    "\n",
    "fig = mp.figure(figsize=(10,5))\n",
    "ax = fig.add_subplot(111)\n",
    "\n",
    "ax.bar(pipes_started_sum.index.values[:-1], pipes_started_sum.values[:-1],\n",
    "       color=solar_base03, edgecolor=solar_base03)\n",
    "ax.tick_params(labelsize=font_size)\n",
    "ax.set_xlabel('start year', size=font_size)\n",
    "ax.set_ylabel('km', size=font_size)\n",
    "\n",
    "ax.set_xlim(1899.5, 2021.5)\n",
    "ax.set_ylim(0, 35000)\n",
    "\n",
    "ax.plot(pipes_started_sum.index.values[:-6], \n",
    "        pipes_started_sum.rolling(10, center=True).mean().values[:-6],\n",
    "       c=solar_orange, lw=5)\n",
    "\n",
    "#ax.plot(pipes_started_sum.index.values[-7:-1], \n",
    "#        pipes_started_sum.rolling(10, center=True, win_type='exponential').mean().values[-7:-1],\n",
    "#       c=solar_orange, lw=5)\n",
    "\n",
    "# ax.plot(pipes_started_sum.index.values[-7:-3], pipes_started_sum.values[-7:-3],\n",
    "#        c=solar_orange, lw=5)\n",
    "\n",
    "ax.set_title('gas pipelines (km) by start year', size=font_size)"
   ]
  },
  {
   "cell_type": "raw",
   "id": "940ad9f8-dd92-44ce-b096-a693659337bf",
   "metadata": {},
   "source": [
    "font_size = 14\n",
    "\n",
    "fig = mp.figure(figsize=(10,5))\n",
    "ax = fig.add_subplot(111)\n",
    "\n",
    "ax.bar(pipes_started_sum.index.values[:-1], pipes_started_sum.values[:-1],\n",
    "       color=solar_base03, edgecolor=solar_base03)\n",
    "ax.tick_params(labelsize=font_size)\n",
    "ax.set_xlabel('start year', size=font_size)\n",
    "ax.set_ylabel('km', size=font_size)\n",
    "\n",
    "ax.set_xlim(1995.5, 2021.5)\n",
    "ax.set_ylim(0, 40000)\n",
    "ax.xaxis.set_major_locator(matplotlib.ticker.MaxNLocator(integer=True))\n",
    "ax.set_xticks([1996]+list(range(2000,2022,3)))\n",
    "\n",
    "fig.tight_layout()\n",
    "ax_pos = ax.get_position()\n",
    "ax2 = fig.add_axes([0.666,0.66,0.3,0.27])\n",
    "\n",
    "ax2.bar(pipes_started_sum.index.values[:-1], pipes_started_sum.values[:-1],\n",
    "       color=solar_base03, edgecolor=solar_base03)\n",
    "ax2.tick_params(labelsize=font_size)\n",
    "#ax2.set_xlabel('start year', size=font_size)\n",
    "#ax2.set_ylabel('km', size=font_size)\n",
    "\n",
    "ax2.axvspan(2000,2021.5, alpha=0.5, color=solar_orange, zorder=0)\n",
    "\n",
    "ax2.set_xlim(1899.5, 2021.5)\n",
    "ax2.set_ylim(0, 35000)\n",
    "ax2.set_yticks([10000,20000,30000])\n",
    "\n",
    "ax.set_title('gas pipelines (km) by start year', size=font_size)"
   ]
  },
  {
   "cell_type": "markdown",
   "id": "0cd704f6-8d6b-4876-b1c2-f65f512a998d",
   "metadata": {},
   "source": [
    "## 2016 onward plots"
   ]
  },
  {
   "cell_type": "raw",
   "id": "1c315b50-ff70-4596-8873-5e33995599db",
   "metadata": {},
   "source": [
    "font_size = 7\n",
    "\n",
    "ytop = 125000\n",
    "\n",
    "fig = mp.figure(figsize=(3.25,3.25))\n",
    "\n",
    "spec = fig.add_gridspec(nrows=1, ncols=2, width_ratios=[6,3])\n",
    "\n",
    "ax = fig.add_subplot(spec[0,0])\n",
    "\n",
    "ax.bar(pipes_started_sum.index.values[-8:-2], pipes_started_sum.values[-8:-2],\n",
    "       color=solar_base03, edgecolor=solar_base03, label='Operating')\n",
    "ax.tick_params(labelsize=font_size)\n",
    "#ax.set_xlabel('start year', size=font_size)\n",
    "ax.set_ylabel('km', size=font_size)\n",
    "\n",
    "ax.set_xlim(2015.25, 2021.75)\n",
    "ax.set_ylim(0, ytop)\n",
    "\n",
    "ax.xaxis.set_major_locator(matplotlib.ticker.MaxNLocator(integer=True))\n",
    "\n",
    "\n",
    "#ax2 = fig.add_axes([axpos.x1+0.03, axpos.y0, 0.25*(axpos.x1-axpos.x0), axpos.y1-axpos.y0])\n",
    "\n",
    "ax2 = fig.add_subplot(spec[0,1])\n",
    "ax2.set_ylim(0, ytop)\n",
    "ax2.set_xlim(0.25,3.75)\n",
    "\n",
    "ax2.set_xlabel('possible\\nfuture', fontsize=font_size)\n",
    "\n",
    "xvals = [1,2,3]\n",
    "colors = [solar_yellow, solar_orange, '0.75']\n",
    "status = ['Proposed','Construction', 'Shelved']\n",
    "ax2_list = []\n",
    "for x,c,s in zip(xvals,colors,status):\n",
    "    ax2_list.append(ax2.bar(x, pipes_indev[s],\n",
    "             color=c, label=s))\n",
    "\n",
    "ax_h, ax_l = ax.get_legend_handles_labels()\n",
    "ax2_h, ax2_l = ax2.get_legend_handles_labels()\n",
    "\n",
    "ax2.set_yticklabels([])\n",
    "ax2.set_xticklabels([])\n",
    "ax2.set_xticks([])\n",
    "\n",
    "ax.legend(handles=ax_h+ax2_h, fontsize=font_size, frameon=False)\n",
    "\n",
    "fig.tight_layout()\n",
    "\n",
    "ax.spines['right'].set_visible(False)\n",
    "ax.spines['top'].set_visible(False)\n",
    "ax2.spines['right'].set_visible(False)\n",
    "ax2.spines['top'].set_visible(False)\n",
    "\n",
    "axpos = ax.get_position()\n",
    "ax2pos = ax2.get_position()\n",
    "\n",
    "fig.text(axpos.x0+(ax2pos.x1-axpos.x0)/2, ax2pos.y1*1.025,\n",
    "         'past and possible future\\ngas pipelines commissionings (km)',\n",
    "         size=font_size, ha='center')\n",
    "\n",
    "#fig.title('past and possible future\\ngas pipelines commissionings (km)')\n",
    "\n",
    "fig.subplots_adjust(wspace=0.1)#, hspace=None)\n",
    "mp.savefig('saved-figures/Gas-Pipelines-Report-2022_km-by-start-year.png', bbox_inches='tight', transparent=True, dpi=600)"
   ]
  },
  {
   "cell_type": "markdown",
   "id": "cb41d1b2-a28b-4ab7-9ad3-0f2fe5282e7e",
   "metadata": {},
   "source": [
    "## 2016 onwards with 2022, 2023 labeled"
   ]
  },
  {
   "cell_type": "raw",
   "id": "3bc0bf09-d21e-40e5-aa82-5bfcb0426910",
   "metadata": {},
   "source": [
    "font_size = 7\n",
    "\n",
    "ytop = 50000\n",
    "ytop2 = 120000\n",
    "\n",
    "fig = mp.figure(figsize=(3.25,3.25))\n",
    "\n",
    "widths=[7,3.75]\n",
    "spec = fig.add_gridspec(ncols=2, nrows=1, width_ratios=widths)\n",
    "\n",
    "ax = fig.add_subplot(spec[0,0])\n",
    "\n",
    "#axpos = ax.get_position()\n",
    "ax.bar(pipes_started_sum.index.values[-8:-1], pipes_started_sum.values[-8:-1],\n",
    "       color=solar_base03, edgecolor=solar_base03, label='Operating')\n",
    "ax.tick_params(labelsize=font_size)\n",
    "ax.tick_params('x', rotation=45)\n",
    "#ax.set_xlabel('start year', size=font_size)\n",
    "ax.set_ylabel('km', size=font_size)\n",
    "\n",
    "ax.bar(2022, pipes_indev_startyear['Construction',2022],\n",
    "       color=solar_orange, edgecolor=solar_orange)\n",
    "ax.bar(2022, pipes_indev_startyear['Proposed',2022],\n",
    "       bottom=pipes_indev_startyear['Construction',2022],\n",
    "       color=solar_yellow, edgecolor=solar_yellow)\n",
    "\n",
    "ax.set_xlim(2015.25, 2022.75)\n",
    "ax.set_ylim(0, ytop)\n",
    "\n",
    "ax.xaxis.set_major_locator(matplotlib.ticker.MaxNLocator(integer=True))\n",
    "\n",
    "ax2 = fig.add_subplot(spec[0,1])\n",
    "ax2.set_ylim(0, ytop2)\n",
    "ax2.set_xlim(0.25,3.75)\n",
    "#ax2pos = ax2.get_position()\n",
    "xvals = [1,2,3]\n",
    "\n",
    "colors = [solar_orange, solar_yellow, '0.75']\n",
    "status = ['Construction', 'Proposed', 'Shelved']\n",
    "ax2_list = []\n",
    "for x,c,s in zip(xvals,colors,status):\n",
    "    ax2_list.append(ax2.bar(x, pipes_indev[s]-pipes_indev_startyear[s,2022],\n",
    "             color=c, label=s))\n",
    "\n",
    "ax_h, ax_l = ax.get_legend_handles_labels()\n",
    "ax2_h, ax2_l = ax2.get_legend_handles_labels()\n",
    "\n",
    "ax2.set_xlabel('possible\\nfuture', size=font_size)\n",
    "#ax2.set_yticklabels([])\n",
    "ax2.set_xticklabels([])\n",
    "ax2.tick_params(labelsize=font_size)\n",
    "ax2.set_xticks([])\n",
    "\n",
    "ax2.yaxis.tick_right()\n",
    "ax2.set_ylabel('km', fontsize=font_size, rotation=-90)\n",
    "ax2.yaxis.set_label_position('right')\n",
    "\n",
    "ax.legend(handles=ax_h+ax2_h, fontsize=font_size, frameon=False)\n",
    "\n",
    "axpos = ax.get_position()\n",
    "ax2pos = ax2.get_position()\n",
    "\n",
    "ax.spines['right'].set_visible(False)\n",
    "ax.spines['top'].set_visible(False)\n",
    "\n",
    "ax2.spines['left'].set_visible(False)\n",
    "ax2.spines['top'].set_visible(False)\n",
    "\n",
    "ax.set_title('commissioned by year', fontsize=font_size)\n",
    "ax2.set_title('remainder', fontsize=font_size)\n",
    "\n",
    "fig.tight_layout()\n",
    "\n",
    "#fig.text(axpos.x0+(ax2pos.x1-axpos.x0)/2, ax2pos.y1*1.025, 'gas pipelines (km) by start year', size=font_size, ha='center')\n",
    "\n",
    "fig.subplots_adjust(wspace=0.05, hspace=None)\n",
    "mp.savefig('saved-figures/Gas-Pipelines-Report-2022_km-by-start-year-with-future.png', bbox_inches='tight', transparent=True, dpi=600)"
   ]
  },
  {
   "cell_type": "markdown",
   "id": "b017160d-214d-4e3e-8510-dbcc2c610ec4",
   "metadata": {},
   "source": [
    "## Ted's preference for 2016 onwards (lump 2022 into other stuff?)"
   ]
  },
  {
   "cell_type": "raw",
   "id": "7394ca63-79be-4fa1-bce3-2803e3e35230",
   "metadata": {},
   "source": [
    "font_size = 7\n",
    "\n",
    "ytop = 50000\n",
    "ytop2 = 125000\n",
    "\n",
    "fig = mp.figure(figsize=(3.25,3.25))\n",
    "\n",
    "widths=[6,3]\n",
    "spec = fig.add_gridspec(ncols=2, nrows=1, width_ratios=widths)\n",
    "\n",
    "ax = fig.add_subplot(spec[0,0])\n",
    "\n",
    "#axpos = ax.get_position()\n",
    "ax.bar(pipes_started_sum.index.values[-7:-1], pipes_started_sum.values[-7:-1],\n",
    "       color=tracker_operating, label='Operating') # color=solar_base03\n",
    "ax.tick_params(labelsize=font_size)\n",
    "ax.tick_params('x', rotation=45)\n",
    "#ax.set_xlabel('start year', size=font_size)\n",
    "ax.set_ylabel('km', size=font_size)\n",
    "\n",
    "#ax.bar(2022, pipes_indev_startyear['Construction',2022],\n",
    "#       color=solar_orange, edgecolor=solar_orange)\n",
    "#ax.bar(2022, pipes_indev_startyear['Proposed',2022],\n",
    "#       bottom=pipes_indev_startyear['Construction',2022],\n",
    "#       color=solar_yellow, edgecolor=solar_yellow)\n",
    "\n",
    "ax.set_xlim(2015.25, 2021.75)\n",
    "ax.set_ylim(0, ytop)\n",
    "\n",
    "ax.xaxis.set_major_locator(matplotlib.ticker.MaxNLocator(integer=True))\n",
    "\n",
    "ax2 = fig.add_subplot(spec[0,1])\n",
    "ax2.set_ylim(0, ytop2)\n",
    "ax2.set_xlim(0.25,3.75)\n",
    "#ax2pos = ax2.get_position()\n",
    "xvals = [1,2,3]\n",
    "\n",
    "#colors = [solar_orange, solar_yellow, '0.75']\n",
    "colors = [tracker_construction, tracker_proposed, tracker_shelved]\n",
    "status = ['Construction', 'Proposed', 'Shelved']\n",
    "ax2_list = []\n",
    "for x,c,s in zip(xvals,colors,status):\n",
    "    ax2_list.append(ax2.bar(x, pipes_indev[s],\n",
    "             color=c, label=s))\n",
    "\n",
    "ax_h, ax_l = ax.get_legend_handles_labels()\n",
    "ax2_h, ax2_l = ax2.get_legend_handles_labels()\n",
    "\n",
    "#ax2.set_xlabel('possible\\nfuture', size=font_size)\n",
    "#ax2.set_yticklabels([])\n",
    "ax2.set_xticklabels([])\n",
    "ax2.tick_params(labelsize=font_size)\n",
    "ax2.set_xticks([])\n",
    "\n",
    "ax2.yaxis.tick_right()\n",
    "ax2.set_ylabel('km', fontsize=font_size, rotation=-90)\n",
    "ax2.yaxis.set_label_position('right')\n",
    "\n",
    "ax.legend(handles=ax_h+ax2_h, fontsize=font_size, frameon=False)\n",
    "\n",
    "axpos = ax.get_position()\n",
    "ax2pos = ax2.get_position()\n",
    "\n",
    "ax.spines['right'].set_visible(False)\n",
    "ax.spines['top'].set_visible(False)\n",
    "\n",
    "ax2.spines['left'].set_visible(False)\n",
    "ax2.spines['top'].set_visible(False)\n",
    "\n",
    "ax.set_title('commissioned by year', fontsize=font_size)\n",
    "ax2.set_title('future', fontsize=font_size)\n",
    "\n",
    "fig.tight_layout()#w_pad=0.05)\n",
    "#fig.subplots_adjust(wspace=0.05, hspace=None)\n",
    "\n",
    "mp.savefig('saved-figures/Gas-Pipelines-Report-2022_km-by-start-year-with-future-without-2022.png', bbox_inches='tight', transparent=True, dpi=600)\n",
    "mp.savefig('saved-figures/Gas-Pipelines-Report-2022_km-by-start-year-with-future-without-2022.pdf', bbox_inches='tight', transparent=True)"
   ]
  },
  {
   "cell_type": "markdown",
   "id": "7ffc24f0-c6ed-4202-a579-5982fb2b9bc8",
   "metadata": {},
   "source": [
    "## james' preference (same y-axis)"
   ]
  },
  {
   "cell_type": "code",
   "execution_count": 74,
   "id": "e9baac75-c84c-4a31-8868-0941e4e3883d",
   "metadata": {},
   "outputs": [
    {
     "data": {
      "image/png": "[encoded data removed]",
      "text/plain": [
       "<Figure size 234x648 with 2 Axes>"
      ]
     },
     "metadata": {
      "needs_background": "light"
     },
     "output_type": "display_data"
    }
   ],
   "source": [
    "font_size = 7\n",
    "\n",
    "ytop = 125000\n",
    "ytop2 = 125000\n",
    "\n",
    "fig = mp.figure(figsize=(3.25,9))\n",
    "\n",
    "widths=[6,3]\n",
    "spec = fig.add_gridspec(ncols=2, nrows=1, width_ratios=widths)\n",
    "\n",
    "ax = fig.add_subplot(spec[0,0])\n",
    "\n",
    "#axpos = ax.get_position()\n",
    "ax.bar(pipes_started_sum.index.values[-7:-1], pipes_started_sum.values[-7:-1],\n",
    "       color=tracker_operating, label='Operating') # color=solar_base03\n",
    "ax.tick_params(labelsize=font_size)\n",
    "ax.tick_params('x', rotation=45)\n",
    "#ax.set_xlabel('start year', size=font_size)\n",
    "ax.set_ylabel('km', size=font_size)\n",
    "\n",
    "ax.set_xlim(2015.25, 2021.75)\n",
    "ax.set_ylim(0, ytop)\n",
    "\n",
    "ax.xaxis.set_major_locator(matplotlib.ticker.MaxNLocator(integer=True))\n",
    "\n",
    "ax2 = fig.add_subplot(spec[0,1])\n",
    "ax2.set_ylim(0, ytop2)\n",
    "ax2.set_xlim(0.25,3.75)\n",
    "#ax2pos = ax2.get_position()\n",
    "xvals = [1,2,3]\n",
    "\n",
    "#colors = [solar_orange, solar_yellow, '0.75']\n",
    "colors = [tracker_construction, tracker_proposed, tracker_shelved]\n",
    "status = ['Construction', 'Proposed', 'Shelved']\n",
    "ax2_list = []\n",
    "for x,c,s in zip(xvals,colors,status):\n",
    "    ax2_list.append(ax2.bar(x, pipes_indev[s],\n",
    "             color=c, label=s))\n",
    "\n",
    "ax_h, ax_l = ax.get_legend_handles_labels()\n",
    "ax2_h, ax2_l = ax2.get_legend_handles_labels()\n",
    "\n",
    "#ax2.set_xlabel('possible\\nfuture', size=font_size)\n",
    "#ax2.set_yticklabels([])\n",
    "ax2.set_xticklabels([])\n",
    "ax2.tick_params(labelsize=font_size)\n",
    "ax2.set_xticks([])\n",
    "\n",
    "ax2.yaxis.tick_right()\n",
    "ax2.set_ylabel('km', fontsize=font_size, rotation=-90)\n",
    "ax2.yaxis.set_label_position('right')\n",
    "#ax2.set_yticklabels([])\n",
    "#ax2.set_yticks([])\n",
    "\n",
    "ax.legend(handles=ax_h+ax2_h, fontsize=font_size, frameon=False)\n",
    "\n",
    "axpos = ax.get_position()\n",
    "ax2pos = ax2.get_position()\n",
    "\n",
    "ax.spines['right'].set_visible(False)\n",
    "ax.spines['top'].set_visible(False)\n",
    "\n",
    "ax2.spines['left'].set_visible(False)\n",
    "ax2.spines['top'].set_visible(False)\n",
    "#ax2.spines['right'].set_visible(False)\n",
    "\n",
    "ax.set_title('commissioned by year', fontsize=font_size)\n",
    "ax2.set_title('future', fontsize=font_size)\n",
    "\n",
    "fig.tight_layout()#w_pad=0.05)\n",
    "#fig.subplots_adjust(wspace=0.05, hspace=None)\n",
    "\n",
    "mp.savefig('saved-figures/Gas-Pipelines-Report-2022_km-by-start-year-with-future-without-2022.png', bbox_inches='tight', transparent=True, dpi=600)\n",
    "mp.savefig('saved-figures/Gas-Pipelines-Report-2022_km-by-start-year-with-future-without-2022.pdf', bbox_inches='tight', transparent=True)"
   ]
  },
  {
   "cell_type": "markdown",
   "id": "5a075334-5559-443b-a8bf-c2cc32c2ece7",
   "metadata": {},
   "source": [
    "## Fig 2 again - 2023–2030, go back to 2008"
   ]
  },
  {
   "cell_type": "code",
   "execution_count": 75,
   "id": "4bb554ce-432a-4f7f-b397-12aefd7cdead",
   "metadata": {},
   "outputs": [
    {
     "data": {
      "image/png": "[encoded data removed]",
      "text/plain": [
       "<Figure size 234x288 with 2 Axes>"
      ]
     },
     "metadata": {
      "needs_background": "light"
     },
     "output_type": "display_data"
    }
   ],
   "source": [
    "font_size = 7\n",
    "\n",
    "ytop = 125000\n",
    "ytop2 = 125000\n",
    "\n",
    "fig = mp.figure(figsize=(3.25,4))\n",
    "\n",
    "widths=[15,3]\n",
    "spec = fig.add_gridspec(ncols=2, nrows=1, width_ratios=widths)\n",
    "\n",
    "ax = fig.add_subplot(spec[0,0])\n",
    "\n",
    "#axpos = ax.get_position()\n",
    "ax.bar(pipes_started_sum.index.values[-15:-1], pipes_started_sum.values[-15:-1],\n",
    "       color=tracker_operating, label='Operating') # color=solar_base03\n",
    "ax.tick_params(labelsize=font_size)\n",
    "ax.tick_params('x', rotation=45)\n",
    "#ax.set_xlabel('start year', size=font_size)\n",
    "ax.set_ylabel('km', size=font_size)\n",
    "\n",
    "ax.set_xlim(2007.25, 2021.75)\n",
    "ax.set_ylim(0, ytop)\n",
    "\n",
    "ax.xaxis.set_major_locator(matplotlib.ticker.MaxNLocator(integer=True))\n",
    "\n",
    "ax2 = fig.add_subplot(spec[0,1])\n",
    "ax2.set_ylim(0, ytop2)\n",
    "ax2.set_xlim(0.25,3.75)\n",
    "#ax2pos = ax2.get_position()\n",
    "xvals = [1,2,3]\n",
    "\n",
    "#colors = [solar_orange, solar_yellow, '0.75']\n",
    "colors = [tracker_construction, tracker_proposed, tracker_shelved]\n",
    "status = ['Construction', 'Proposed', 'Shelved']\n",
    "ax2_list = []\n",
    "for x,c,s in zip(xvals,colors,status):\n",
    "    ax2_list.append(ax2.bar(x, pipes_indev[s],\n",
    "             color=c, label=s))\n",
    "\n",
    "ax_h, ax_l = ax.get_legend_handles_labels()\n",
    "ax2_h, ax2_l = ax2.get_legend_handles_labels()\n",
    "\n",
    "#ax2.set_xlabel('possible\\nfuture', size=font_size)\n",
    "#ax2.set_yticklabels([])\n",
    "ax2.set_xticklabels([])\n",
    "ax2.tick_params(labelsize=font_size)\n",
    "ax2.set_xticks([])\n",
    "\n",
    "ax2.yaxis.tick_right()\n",
    "ax2.set_ylabel('km', fontsize=font_size, rotation=-90)\n",
    "ax2.yaxis.set_label_position('right')\n",
    "#ax2.set_yticklabels([])\n",
    "#ax2.set_yticks([])\n",
    "\n",
    "ax.legend(handles=ax_h+ax2_h, fontsize=font_size, frameon=False)\n",
    "\n",
    "axpos = ax.get_position()\n",
    "ax2pos = ax2.get_position()\n",
    "\n",
    "ax.spines['right'].set_visible(False)\n",
    "ax.spines['top'].set_visible(False)\n",
    "\n",
    "ax2.spines['left'].set_visible(False)\n",
    "ax2.spines['top'].set_visible(False)\n",
    "#ax2.spines['right'].set_visible(False)\n",
    "\n",
    "ax.set_title('commissioned by year', fontsize=font_size)\n",
    "ax2.set_title('future', fontsize=font_size)\n",
    "\n",
    "fig.tight_layout()#w_pad=0.05)\n",
    "#fig.subplots_adjust(wspace=0.05, hspace=None)\n",
    "\n",
    "mp.savefig('saved-figures/Gas-Pipelines-Report-2022_km-by-start-year-backto2008.png', bbox_inches='tight', transparent=True, dpi=600)\n",
    "mp.savefig('saved-figures/Gas-Pipelines-Report-2022_km-by-start-year-backto2008.pdf', bbox_inches='tight', transparent=True)"
   ]
  },
  {
   "cell_type": "markdown",
   "id": "278b1549-5bbe-4760-91b1-f2061af98c42",
   "metadata": {},
   "source": [
    "## plus/minus 8 years"
   ]
  },
  {
   "cell_type": "code",
   "execution_count": 76,
   "id": "022cf8e1-137e-41ae-a1b5-9715078d82d9",
   "metadata": {},
   "outputs": [
    {
     "data": {
      "image/png": "[encoded data removed]",
      "text/plain": [
       "<Figure size 234x288 with 2 Axes>"
      ]
     },
     "metadata": {
      "needs_background": "light"
     },
     "output_type": "display_data"
    }
   ],
   "source": [
    "font_size = 7\n",
    "\n",
    "ytop = 125000\n",
    "ytop2 = 125000\n",
    "\n",
    "fig = mp.figure(figsize=(3.25,4))\n",
    "\n",
    "widths=[15,3]\n",
    "spec = fig.add_gridspec(ncols=2, nrows=1, width_ratios=widths)\n",
    "\n",
    "ax = fig.add_subplot(spec[0,0])\n",
    "\n",
    "#axpos = ax.get_position()\n",
    "ax.bar(pipes_started_sum.index.values[-15:-1], pipes_started_sum.values[-15:-1],\n",
    "       color=tracker_operating, label='Operating') # color=solar_base03\n",
    "ax.tick_params(labelsize=font_size)\n",
    "ax.tick_params('x', rotation=45)\n",
    "#ax.set_xlabel('start year', size=font_size)\n",
    "ax.set_ylabel('km', size=font_size)\n",
    "\n",
    "ax.set_xlim(2007.25, 2021.75)\n",
    "ax.set_ylim(0, ytop)\n",
    "\n",
    "ax.xaxis.set_major_locator(matplotlib.ticker.MaxNLocator(integer=True))\n",
    "\n",
    "ax2 = fig.add_subplot(spec[0,1])\n",
    "ax2.set_ylim(0, ytop2)\n",
    "ax2.set_xlim(0.25,3.75)\n",
    "#ax2pos = ax2.get_position()\n",
    "xvals = [1,2,3]\n",
    "\n",
    "#colors = [solar_orange, solar_yellow, '0.75']\n",
    "colors = [tracker_construction, tracker_proposed, tracker_shelved]\n",
    "status = ['Construction', 'Proposed', 'Shelved']\n",
    "status_alt = ['Construction\\n(beyond 2030)', 'Proposed\\n(beyond 2030)', 'Shelved\\n(beyond 2030)']\n",
    "ax2_list = []\n",
    "for x,c,s in zip(xvals,colors,status):\n",
    "    ax2_list.append(ax2.bar(x, pipes_indev_to2030[s],\n",
    "             color=c, label=s))\n",
    "\n",
    "for x,c,s,s_alt in zip(xvals,colors,status,status_alt):\n",
    "    ax2_list.append(ax2.bar(x, pipes_indev[s], bottom=pipes_indev_to2030[s],\n",
    "             color=c, label=s_alt, alpha=0.333))\n",
    "\n",
    "ax_h, ax_l = ax.get_legend_handles_labels()\n",
    "ax2_h, ax2_l = ax2.get_legend_handles_labels()\n",
    "\n",
    "#ax2.set_xlabel('possible\\nfuture', size=font_size)\n",
    "#ax2.set_yticklabels([])\n",
    "ax2.set_xticklabels([])\n",
    "ax2.tick_params(labelsize=font_size)\n",
    "ax2.set_xticks([])\n",
    "\n",
    "ax2.yaxis.tick_right()\n",
    "ax2.set_ylabel('km', fontsize=font_size, rotation=-90)\n",
    "ax2.yaxis.set_label_position('right')\n",
    "#ax2.set_yticklabels([])\n",
    "#ax2.set_yticks([])\n",
    "\n",
    "ax.legend(handles=ax_h+ax2_h, fontsize=font_size, frameon=False)\n",
    "\n",
    "axpos = ax.get_position()\n",
    "ax2pos = ax2.get_position()\n",
    "\n",
    "ax.spines['right'].set_visible(False)\n",
    "ax.spines['top'].set_visible(False)\n",
    "\n",
    "ax2.spines['left'].set_visible(False)\n",
    "ax2.spines['top'].set_visible(False)\n",
    "#ax2.spines['right'].set_visible(False)\n",
    "\n",
    "ax.set_title('commissioned by year', fontsize=font_size)\n",
    "ax2.set_title('future', fontsize=font_size)\n",
    "\n",
    "fig.tight_layout()#w_pad=0.05)\n",
    "#fig.subplots_adjust(wspace=0.05, hspace=None)\n",
    "\n",
    "mp.savefig('saved-figures/Gas-Pipelines-Report-2022_km-by-start-year-plusminus-8yrs.png', bbox_inches='tight', transparent=True, dpi=600)\n",
    "mp.savefig('saved-figures/Gas-Pipelines-Report-2022_km-by-start-year-plusminus-8yrs.pdf', bbox_inches='tight', transparent=True)"
   ]
  },
  {
   "cell_type": "markdown",
   "id": "8298e2a6-3199-460c-8109-9f2ce4e9f680",
   "metadata": {},
   "source": [
    "## percent pipelines with start date"
   ]
  },
  {
   "cell_type": "code",
   "execution_count": 77,
   "id": "9b19f13c-1f8e-47eb-abff-f8ee5545ba20",
   "metadata": {},
   "outputs": [],
   "source": [
    "pipes_scratch = pipes_df_orig.copy()\n",
    "pipes_scratch = pipes_scratch[(pipes_scratch['Fuel']=='Gas') &\n",
    "                              (pipes_scratch['Status'].isin(['Proposed','Construction','Shelved']))]"
   ]
  },
  {
   "cell_type": "code",
   "execution_count": 78,
   "id": "29648ca1-6343-4e66-be8c-ba0f208326f8",
   "metadata": {},
   "outputs": [
    {
     "data": {
      "text/plain": [
       "(633, 75)"
      ]
     },
     "execution_count": 78,
     "metadata": {},
     "output_type": "execute_result"
    }
   ],
   "source": [
    "pipes_scratch.shape"
   ]
  },
  {
   "cell_type": "code",
   "execution_count": 79,
   "id": "4b88a57c-41dd-4d0a-a3ca-3c08d90892ac",
   "metadata": {},
   "outputs": [
    {
     "data": {
      "text/plain": [
       "0.5671406003159558"
      ]
     },
     "execution_count": 79,
     "metadata": {},
     "output_type": "execute_result"
    }
   ],
   "source": [
    "pipes_scratch[~pipes_scratch['StartYearEarliest'].isnull()]['StartYearEarliest'].count()/pipes_scratch.shape[0]\n",
    "\n",
    "\n",
    "\n"
   ]
  },
  {
   "cell_type": "markdown",
   "id": "a46da95b-9132-451f-9a8c-449e90f8a41b",
   "metadata": {},
   "source": [
    "## Fig 2 again, horizontal lines instead of bars"
   ]
  },
  {
   "cell_type": "code",
   "execution_count": 80,
   "id": "111abcb7-07c1-4ca2-9847-73b4dbea6df9",
   "metadata": {},
   "outputs": [
    {
     "data": {
      "image/png": "[encoded data removed]",
      "text/plain": [
       "<Figure size 234x288 with 1 Axes>"
      ]
     },
     "metadata": {
      "needs_background": "light"
     },
     "output_type": "display_data"
    }
   ],
   "source": [
    "font_size = 7\n",
    "\n",
    "ytop = 125000\n",
    "ytop2 = 125000\n",
    "\n",
    "fig = mp.figure(figsize=(3.25,4))\n",
    "\n",
    "widths=[1]\n",
    "spec = fig.add_gridspec(ncols=1, nrows=1, width_ratios=widths)\n",
    "\n",
    "ax = fig.add_subplot(spec[0,0])\n",
    "\n",
    "ax.bar(pipes_started_sum.index.values[-15:-1], pipes_started_sum.values[-15:-1],\n",
    "       color=tracker_operating, label='Operating') # color=solar_base03\n",
    "ax.tick_params(labelsize=font_size)\n",
    "ax.tick_params('x', rotation=45)\n",
    "ax.set_ylabel('km', size=font_size)\n",
    "\n",
    "ax.set_xlim(2007.25, 2021.75)\n",
    "ax.set_ylim(0, ytop)\n",
    "\n",
    "ax.xaxis.set_major_locator(matplotlib.ticker.MaxNLocator(integer=True))\n",
    "\n",
    "ax_hline_list = []\n",
    "colors = [solar_orange, solar_yellow, '0.75']\n",
    "colors = [tracker_construction, tracker_proposed, tracker_shelved]\n",
    "status = ['Construction', 'Proposed', 'Shelved']\n",
    "for x,c,s in zip(xvals,colors,status):\n",
    "    ax_hline_list.append(ax.axhline(y=pipes_indev[s],\n",
    "             color=c, label=s, linewidth=1, linestyle='--'))\n",
    "\n",
    "\n",
    "ax_h, ax_l = ax.get_legend_handles_labels()\n",
    "#ax2_h, ax2_l = ax2.get_legend_handles_labels()\n",
    "ax.legend(handles=ax_h, fontsize=font_size, frameon=False)\n",
    "\n",
    "axpos = ax.get_position()\n",
    "\n",
    "ax.spines['right'].set_visible(False)\n",
    "ax.spines['top'].set_visible(False)\n",
    "\n",
    "ax.set_title('commissioned by year', fontsize=font_size)\n",
    "\n",
    "fig.tight_layout()#w_pad=0.05)\n",
    "\n",
    "mp.savefig('saved-figures/Gas-Pipelines-Report-2022_km-by-start-year-backto2008-hlines.png', bbox_inches='tight', transparent=True, dpi=600)\n",
    "mp.savefig('saved-figures/Gas-Pipelines-Report-2022_km-by-start-year-backto2008-hlines.pdf', bbox_inches='tight', transparent=True)"
   ]
  },
  {
   "cell_type": "markdown",
   "id": "358e0310",
   "metadata": {},
   "source": [
    "## regional pipelines started in given year"
   ]
  },
  {
   "cell_type": "code",
   "execution_count": 81,
   "id": "bc05d721",
   "metadata": {},
   "outputs": [],
   "source": [
    "years_array = numpy.arange( float(pipes_df_orig['StartYearEarliest'].min()), float(pipes_df_orig['StartYearEarliest'].max())+1)\n",
    "regions_startyear_sums_df = pandas.DataFrame(numpy.nan, index=years_array, columns=region_list)"
   ]
  },
  {
   "cell_type": "code",
   "execution_count": 82,
   "id": "b1fca66b",
   "metadata": {},
   "outputs": [],
   "source": [
    "#pipes_started = pipes_df.copy()[(pipes_df['Status'].isin(['Operating'])) & pipes_df['Fuel']=='Gas']\n",
    "#pipes_started_sum = pipes_started.groupby('StartYearLatest')['LengthMergedKm'].sum()\n",
    "\n",
    "for region in region_list:\n",
    "    pipes_started = pipes_df_orig.copy()[(pipes_df_orig['Status'].isin(['Operating','Retired','Idle'])) & \n",
    "                                    (pipes_df_orig['Fuel']=='Gas')]\n",
    "    pipes_started = pipes_started[pipes_started['StartRegion']==region]\n",
    "    pipes_started_sum = pipes_started.groupby('StartYearEarliest')['LengthMergedKm'].sum()\n",
    "    \n",
    "    regions_startyear_sums_df[region] = pipes_started_sum"
   ]
  },
  {
   "cell_type": "code",
   "execution_count": 83,
   "id": "e4a6cdd8",
   "metadata": {},
   "outputs": [
    {
     "data": {
      "image/png": "[encoded data removed]",
      "text/plain": [
       "<Figure size 486x198 with 10 Axes>"
      ]
     },
     "metadata": {
      "needs_background": "light"
     },
     "output_type": "display_data"
    }
   ],
   "source": [
    "font_size = 7\n",
    "\n",
    "fig = mp.figure(figsize=(6.75,2.75))#, constrained_layout=True)\n",
    "\n",
    "start_year = 2016\n",
    "end_year = 2021\n",
    "ax_list = []\n",
    "\n",
    "# plot the regional trends\n",
    "for idx,region in enumerate(region_list):\n",
    "    ax = fig.add_subplot(2,5,idx+1)\n",
    "    \n",
    "    ax_list.append(ax)\n",
    "    ax.bar(numpy.arange(start_year,end_year+1), \n",
    "           regions_startyear_sums_df.loc[list(numpy.arange(start_year,end_year+1))][region].values,\n",
    "           color=solar_base03, edgecolor=solar_base03)\n",
    "\n",
    "    ax.set_xlim(2015.25, 2021.75)\n",
    "    ax.set_ylim(0, 7500)#numpy.nanmean(regions_startyear_sums_df[region].values[:-1])*3)\n",
    "\n",
    "    ax.text(x=0.98, y=0.95, s=('\\n').join(textwrap.wrap(region, 10)), transform=ax.transAxes, c=solar_base03, \n",
    "            size=font_size, ha='right', va='top')\n",
    "    \n",
    "    ax.tick_params(labelsize=font_size)\n",
    "    ax.tick_params('x', rotation=45)\n",
    "    ax.set_xticks([2016,2017,2018,2019,2020,2021])\n",
    "    \n",
    "    if idx not in [0,5]:\n",
    "        ax.set_yticklabels([])\n",
    "    if idx<5:\n",
    "        ax.set_xticklabels([])\n",
    "\n",
    "#ax.set_title('gas pipelines (km) by start year', size=font_size)\n",
    "fig.tight_layout(h_pad=0.25, w_pad=0.25)\n",
    "\n",
    "ax1 = ax_list[0]\n",
    "ax6 = ax_list[5]\n",
    "ax1pos = ax2.get_position()\n",
    "ax6pos = ax6.get_position()\n",
    "fig.text(-0.005, ax6pos.y0+(ax1pos.y1-ax6pos.y0)/2,\n",
    "         'km',\n",
    "         size=font_size, ha='center', rotation=90)\n",
    "\n",
    "mp.savefig('saved-figures/Gas-Pipelines-Report-2022_regional-km-by-start-year.png', \n",
    "           bbox_inches='tight', \n",
    "           transparent=True, \n",
    "           dpi=600)"
   ]
  },
  {
   "cell_type": "markdown",
   "id": "51439e0e",
   "metadata": {},
   "source": [
    "## plot regional Proposed and Construction bar plots"
   ]
  },
  {
   "cell_type": "raw",
   "id": "29e04b6e-500c-4c6c-b7e0-de250e25beb8",
   "metadata": {},
   "source": [
    "font_size = 7\n",
    "fig = mp.figure(figsize=(6.75,3))\n",
    "\n",
    "nbars = region_list.__len__()\n",
    "region_order = km_by_region_df.index[:nbars][::-1]\n",
    "ax = fig.add_subplot(111)\n",
    "ax.barh(numpy.arange(nbars), \n",
    "        km_by_region_df.loc[region_order]['Construction'].values, facecolor=solar_orange, label='Construction')\n",
    "        \n",
    "ax.barh(numpy.arange(nbars), \n",
    "        km_by_region_df.loc[region_order]['Proposed'].values, \n",
    "        left=km_by_region_df.loc[region_order]['Construction'].values, facecolor=solar_yellow, label='Proposed')\n",
    "        \n",
    "ax.barh(numpy.arange(nbars), \n",
    "        km_by_region_df.loc[region_order]['Shelved'].values, \n",
    "        left=km_by_region_df.loc[region_order]['Proposed+Construction'].values, facecolor='0.75', label='Shelved')\n",
    "        \n",
    "ax.barh(numpy.arange(nbars), \n",
    "        km_by_region_df['Cancelled'].values, \n",
    "        left=km_by_region_df.loc[region_order][['Proposed','Construction','Shelved']].sum(axis=1).values, facecolor='0.9', label='Cancelled')\n",
    "\n",
    "ax.set_yticks(numpy.arange(nbars))\n",
    "ax.set_yticklabels(km_by_region_df.loc[region_order].index)\n",
    "ax.tick_params(labelsize=font_size)\n",
    "\n",
    "ax.set_xlabel('km of gas pipeline', size=font_size)\n",
    "\n",
    "fig.tight_layout()\n",
    "ax.spines['right'].set_visible(False)\n",
    "ax.spines['top'].set_visible(False)\n",
    "\n",
    "ax.legend(fontsize=font_size, frameon=False)\n",
    "\n",
    "mp.savefig('saved-figures/Gas-Pipelines-Report-2022_regional-km-in-dev-descending.png', \n",
    "           bbox_inches='tight', \n",
    "           transparent=True, \n",
    "           dpi=600)\n"
   ]
  },
  {
   "cell_type": "markdown",
   "id": "0299445b-00c6-448c-9db4-1ee541d487ed",
   "metadata": {},
   "source": [
    "## plot pie chart of regional values"
   ]
  },
  {
   "cell_type": "code",
   "execution_count": 84,
   "id": "226216bb-58ee-4c37-af1f-637b84aa56ea",
   "metadata": {},
   "outputs": [
    {
     "data": {
      "image/png": "[encoded data removed]",
      "text/plain": [
       "<Figure size 720x72 with 1 Axes>"
      ]
     },
     "metadata": {
      "needs_background": "light"
     },
     "output_type": "display_data"
    },
    {
     "data": {
      "image/png": "[encoded data removed]",
      "text/plain": [
       "<Figure size 720x72 with 1 Axes>"
      ]
     },
     "metadata": {
      "needs_background": "light"
     },
     "output_type": "display_data"
    }
   ],
   "source": [
    "#seaborn.color_palette('husl', 10)\n",
    "seaborn.palplot(seaborn.husl_palette(10, s=0.9, l=0.75, h=0.15))\n",
    "seaborn.palplot(seaborn.husl_palette(10, h=0.15))\n",
    "\n",
    "cmap_dark = seaborn.husl_palette(10, h=0.15, l=0.4, s=0.8, as_cmap=True)\n",
    "cmap_light = seaborn.husl_palette(10, h=0.15, s=1, as_cmap=True)"
   ]
  },
  {
   "cell_type": "raw",
   "id": "7f51e706-b9b2-4c6b-84b6-2ffa7b167e60",
   "metadata": {},
   "source": [
    "km_by_region_df.loc[region_order]['Proposed+Construction'] / km_by_region_df.loc[region_order]['Proposed+Construction'].sum() * 100."
   ]
  },
  {
   "cell_type": "raw",
   "id": "821b9d5b-2e25-471f-bca3-93b193190f0e",
   "metadata": {},
   "source": [
    "km_by_region_df.loc[region_order]['Proposed+Construction'].apply(lambda x: f'\\n{int(round(x,-2)):,} km')"
   ]
  },
  {
   "cell_type": "raw",
   "id": "06a417d0-bc6c-4ac5-9dca-35363a5dba9d",
   "metadata": {},
   "source": [
    "km_by_region_df.loc[region_order]['Proposed+Construction'] / km_by_region_df.loc[region_order]['Proposed+Construction'].sum() * 100."
   ]
  },
  {
   "cell_type": "raw",
   "id": "1bba57ff-917a-4654-b243-46e818cd18ec",
   "metadata": {},
   "source": [
    "(km_by_region_df.loc[region_order]['Proposed+Construction'] / km_by_region_df.loc[region_order]['Proposed+Construction'].sum() * 100.).apply"
   ]
  },
  {
   "cell_type": "raw",
   "id": "a689f641-32fe-4028-a5fc-2bac8894b51a",
   "metadata": {},
   "source": [
    "(km_by_region_df.loc[region_order]['Proposed+Construction'] / \n",
    "                   km_by_region_df.loc[region_order]['Proposed+Construction'].sum() * 100.).apply(lambda x: f'\\n{x:.1f}%')"
   ]
  },
  {
   "cell_type": "code",
   "execution_count": 85,
   "id": "2efd35e5-b020-45a3-8686-1c1cf1e65bcb",
   "metadata": {},
   "outputs": [
    {
     "data": {
      "image/png": "[encoded data removed]",
      "text/plain": [
       "<Figure size 360x360 with 1 Axes>"
      ]
     },
     "metadata": {},
     "output_type": "display_data"
    }
   ],
   "source": [
    "font_size=7\n",
    "\n",
    "fig = mp.figure(figsize=(5,5))\n",
    "ax = fig.add_subplot(111)\n",
    "\n",
    "nwedges = region_list.__len__()\n",
    "region_order = km_by_region_df.index[:nwedges]\n",
    "\n",
    "pie_vals = km_by_region_df.loc[region_order]['Proposed+Construction'].values\n",
    "pie_labels = km_by_region_df.index\n",
    "pie_labels_km = km_by_region_df.loc[region_order]['Proposed+Construction'].apply(lambda x: f'\\n{int(round(x,-2)):,} km')\n",
    "pie_labels_perc = (km_by_region_df.loc[region_order]['Proposed+Construction'] / \n",
    "                   km_by_region_df.loc[region_order]['Proposed+Construction'].sum() * 100.).apply(lambda x: f'\\n{x:.1f}%')\n",
    "\n",
    "# ****************************************\n",
    "pie_vals_separated = km_by_region_df.loc[region_order][['Construction','Proposed']].values.flatten()\n",
    "#pie_labels_separated = numpy.array(list(zip(km_by_region_df.index[:-1],km_by_region_df.index[:-1]))).flatten()\n",
    "#pie_labels_km = km_by_region_df.loc[region_order]['Proposed+Construction'].apply(lambda x: f'\\n{int(round(x,-3)):,} km')\n",
    "\n",
    "nwedges_separated = 20\n",
    "cmap_light_10 = cmap_light(numpy.linspace(0,1,nwedges))\n",
    "cmap_dark_10 = cmap_dark(numpy.linspace(0,1,nwedges))\n",
    "\n",
    "pie_labels = [i+j+k for i,j,k in zip(pie_labels, pie_labels_km, pie_labels_perc)]\n",
    "pie_width = 0.666\n",
    "\n",
    "# ****************************************\n",
    "# size=0.3\n",
    "ax.pie(pie_vals_separated, \n",
    "       #labels=pie_labels,\n",
    "       #radius=1-size,\n",
    "       colors=numpy.hstack((cmap_light_10, cmap_dark_10)).reshape(20,-1),\n",
    "       wedgeprops=dict(width=pie_width),\n",
    "       textprops={'fontsize': font_size})\n",
    "ax.pie(pie_vals, \n",
    "       labels=pie_labels,\n",
    "       #radius=1,\n",
    "       #bottom=0.25,\n",
    "       colors=None,#cmap(numpy.linspace(0,1,pie_vals.size))[::-1],\n",
    "       wedgeprops=dict(edgecolor='1', facecolor='None', linewidth=2, width=pie_width),\n",
    "       textprops={'fontsize': font_size})\n",
    "\n",
    "\n",
    "ax.tick_params(labelsize=font_size)\n",
    "\n",
    "fig.tight_layout()\n",
    "\n",
    "mp.savefig('saved-figures/Gas-Pipelines-Report-2022_pie-graph-country-pipelines-km.pdf', bbox_inches='tight', transparent=True)\n",
    "\n",
    "mp.savefig('saved-figures/Gas-Pipelines-Report-2022_pie-graph-country-pipelines-km.png', \n",
    "           bbox_inches='tight', \n",
    "           transparent=True,\n",
    "           dpi=600)\n"
   ]
  },
  {
   "cell_type": "markdown",
   "id": "637c06af-978a-4a6e-af6a-a271f89d0517",
   "metadata": {},
   "source": [
    "### calculating percents for James"
   ]
  },
  {
   "cell_type": "code",
   "execution_count": 109,
   "id": "278b3d78-1201-4165-9cad-c4bb3eddf136",
   "metadata": {},
   "outputs": [
    {
     "name": "stdout",
     "output_type": "stream",
     "text": [
      "East Asia\n",
      "\tproposed 55.2% / construction 44.8%\n",
      "South Asia\n",
      "\tproposed 18.6% / construction 81.4%\n",
      "Europe\n",
      "\tproposed 73.7% / construction 26.3%\n",
      "Sub-Saharan Africa\n",
      "\tproposed 71.8% / construction 28.2%\n",
      "Eurasia\n",
      "\tproposed 71.2% / construction 28.8%\n",
      "North America\n",
      "\tproposed 71.0% / construction 29.0%\n",
      "Australia and New Zealand\n",
      "\tproposed 95.5% / construction 4.5%\n",
      "Latin America and the Caribbean\n",
      "\tproposed 95.5% / construction 4.5%\n",
      "Middle East and North Africa\n",
      "\tproposed 50.1% / construction 49.9%\n",
      "SE Asia\n",
      "\tproposed 86.4% / construction 13.6%\n"
     ]
    }
   ],
   "source": [
    "pie_vals = km_by_region_df.loc[region_order]['Proposed+Construction'].values\n",
    "pie_labels = km_by_region_df.index\n",
    "pie_labels_km = km_by_region_df.loc[region_order]['Proposed+Construction'].apply(lambda x: f'\\n{int(round(x,-2)):,} km')\n",
    "\n",
    "for region in region_order:\n",
    "    print(region)\n",
    "    prop_perc = km_by_region_df.loc[region]['Proposed']/km_by_region_df.loc[region]['Proposed+Construction'] *100.\n",
    "    prop_perc = '{:.1f}%'.format(prop_perc)\n",
    "    const_perc = km_by_region_df.loc[region]['Construction']/km_by_region_df.loc[region]['Proposed+Construction'] * 100.\n",
    "    const_perc = '{:.1f}%'.format(const_perc)\n",
    "    print(\"\\tproposed\", prop_perc, \"/\",\n",
    "         \"construction\", const_perc)"
   ]
  },
  {
   "cell_type": "markdown",
   "id": "51b0d74c",
   "metadata": {
    "tags": []
   },
   "source": [
    "# Russia, India, China plots"
   ]
  },
  {
   "cell_type": "code",
   "execution_count": 110,
   "id": "032aed89",
   "metadata": {},
   "outputs": [],
   "source": [
    "pipes_started = pipes_df_orig.copy()[(pipes_df_orig['Status'].isin(['Operating'])) & (pipes_df_orig['Fuel']=='Gas')]\n",
    "pipes_started_sum_rus = pipes_started[pipes_started['Countries'].str.contains('Russia')].groupby('StartYear1')['LengthMergedKm'].sum()\n",
    "pipes_started_sum_chi = pipes_started[pipes_started['Countries'].str.contains('China')].groupby('StartYear1')['LengthMergedKm'].sum()\n",
    "pipes_started_sum_ind = pipes_started[pipes_started['Countries'].str.contains('India')].groupby('StartYear1')['LengthMergedKm'].sum()\n",
    "pipes_started_sum_usa = pipes_started[pipes_started['Countries'].str.contains('USA')].groupby('StartYear1')['LengthMergedKm'].sum()\n",
    "pipes_started_sum_aus = pipes_started[pipes_started['Countries'].str.contains('Australia')].groupby('StartYear1')['LengthMergedKm'].sum()\n",
    "pipes_started_sum_bra = pipes_started[pipes_started['Countries'].str.contains('Brazil')].groupby('StartYear1')['LengthMergedKm'].sum()\n"
   ]
  },
  {
   "cell_type": "code",
   "execution_count": 111,
   "id": "f34537b8",
   "metadata": {},
   "outputs": [],
   "source": [
    "start_year = 1950\n",
    "end_year = 2021\n",
    "window_length = end_year-start_year+1"
   ]
  },
  {
   "cell_type": "markdown",
   "id": "bae51489-7712-4074-a1d2-75eacb9f1265",
   "metadata": {},
   "source": [
    "### China"
   ]
  },
  {
   "cell_type": "code",
   "execution_count": 112,
   "id": "200e7b33",
   "metadata": {},
   "outputs": [
    {
     "data": {
      "image/png": "[encoded data removed]",
      "text/plain": [
       "<Figure size 234x234 with 2 Axes>"
      ]
     },
     "metadata": {
      "needs_background": "light"
     },
     "output_type": "display_data"
    }
   ],
   "source": [
    "country = 'China'\n",
    "\n",
    "font_size = 7\n",
    "ytop = 30000\n",
    "ytop2 = ytop\n",
    "\n",
    "fig = mp.figure(figsize=(3.25,3.25))\n",
    "\n",
    "widths=[6,3]\n",
    "spec = fig.add_gridspec(ncols=2, nrows=1, width_ratios=widths)\n",
    "ax = fig.add_subplot(spec[0,0])\n",
    "\n",
    "ax.bar(pipes_started_sum_chi.index[-7:-1], pipes_started_sum_chi.values[-7:-1],\n",
    "       color=tracker_operating, label='Operating')\n",
    "ax_h, ax_l = ax.get_legend_handles_labels()\n",
    "\n",
    "ax.tick_params(labelsize=font_size)\n",
    "ax.tick_params('x', rotation=45)\n",
    "ax.set_xticks(range(2016,2022))\n",
    "#ax.set_xlabel('start year', size=font_size)\n",
    "ax.set_ylabel('km', size=font_size)\n",
    "\n",
    "ax.set_xlim(2015.25, 2021.75)\n",
    "ax.set_ylim(0, ytop)\n",
    "#ax.text(s=\"{:,}\".format(int(round(pipes_started_sum_chi.sum(), -2)))+\" km total\\noperating\", x=0.1, y=0.5, \n",
    "#        ha='left', va='top', transform=ax.transAxes, fontsize=font_size, alpha=0.75)\n",
    "\n",
    "ax.set_title('commissioned by year in '+country, size=font_size)\n",
    "\n",
    "# ********************************************************************************\n",
    "\n",
    "ax2 = fig.add_subplot(spec[0,1])\n",
    "ax2.set_ylim(0, ytop2)\n",
    "ax2.set_xlim(0.25,3.75)\n",
    "xvals = [1,2,3]\n",
    "\n",
    "#colors = [solar_orange, solar_yellow, '0.75']\n",
    "colors = [tracker_construction, tracker_proposed, tracker_shelved]\n",
    "status = ['Construction', 'Proposed', 'Shelved']\n",
    "ax2_list = []\n",
    "for x,c,s in zip(xvals,colors,status):\n",
    "    ax2_list.append(ax2.bar(x, km_by_country_df.loc[country][s],\n",
    "             width=0.9, color=c, label=s))\n",
    "\n",
    "ax_h, ax_l = ax.get_legend_handles_labels()\n",
    "ax2_h, ax2_l = ax2.get_legend_handles_labels()\n",
    "\n",
    "ax2.set_xticklabels([])\n",
    "ax2.tick_params(labelsize=font_size)\n",
    "ax2.set_xticks([])\n",
    "\n",
    "ax2.yaxis.tick_right()\n",
    "ax2.set_ylabel('km', fontsize=font_size, rotation=-90, labelpad=10)\n",
    "ax2.yaxis.set_label_position('right')\n",
    "\n",
    "ax.legend(handles=ax_h+ax2_h, fontsize=font_size, frameon=False)\n",
    "\n",
    "axpos = ax.get_position()\n",
    "ax2pos = ax2.get_position()\n",
    "\n",
    "ax.spines['right'].set_visible(False)\n",
    "ax.spines['top'].set_visible(False)\n",
    "\n",
    "ax2.spines['left'].set_visible(False)\n",
    "ax2.spines['top'].set_visible(False)\n",
    "\n",
    "ax.set_title('commissioned by year', fontsize=font_size)\n",
    "ax2.set_title('future', fontsize=font_size)\n",
    "\n",
    "ax.legend(handles=ax_h+ax2_h, fontsize=font_size, frameon=False)\n",
    "\n",
    "fig.tight_layout()#w_pad=0.05)#, hspace=None)\n",
    "mp.savefig('saved-figures/Gas-Pipelines-Report-2022_km-by-start-year-with-future-'+country+'.png', bbox_inches='tight', transparent=True, dpi=600)\n",
    "mp.savefig('saved-figures/Gas-Pipelines-Report-2022_km-by-start-year-with-future-'+country+'.pdf', bbox_inches='tight', transparent=True)"
   ]
  },
  {
   "cell_type": "markdown",
   "id": "f6a01e45-a954-4833-8884-b537018debcb",
   "metadata": {},
   "source": [
    "### India"
   ]
  },
  {
   "cell_type": "code",
   "execution_count": 113,
   "id": "dd3f3bb1",
   "metadata": {},
   "outputs": [
    {
     "data": {
      "image/png": "[encoded data removed]",
      "text/plain": [
       "<Figure size 234x234 with 2 Axes>"
      ]
     },
     "metadata": {
      "needs_background": "light"
     },
     "output_type": "display_data"
    }
   ],
   "source": [
    "country = 'India'\n",
    "\n",
    "font_size = 7\n",
    "ytop = 16500\n",
    "ytop2 = ytop\n",
    "\n",
    "fig = mp.figure(figsize=(3.25,3.25))\n",
    "\n",
    "widths=[6,3]\n",
    "spec = fig.add_gridspec(ncols=2, nrows=1, width_ratios=widths)\n",
    "ax = fig.add_subplot(spec[0,0])\n",
    "\n",
    "ax.bar(pipes_started_sum_chi.index[-7:-1], pipes_started_sum_ind.values[-7:-1],\n",
    "       color=tracker_operating, label='Operating')\n",
    "ax_h, ax_l = ax.get_legend_handles_labels()\n",
    "\n",
    "ax.tick_params(labelsize=font_size)\n",
    "ax.tick_params('x', rotation=45)\n",
    "ax.set_xticks(range(2016,2022))\n",
    "#ax.set_xlabel('start year', size=font_size)\n",
    "ax.set_ylabel('km', size=font_size)\n",
    "\n",
    "ax.set_xlim(2015.25, 2021.75)\n",
    "ax.set_ylim(0, ytop)\n",
    "#ax.text(s=\"{:,}\".format(int(round(pipes_started_sum_ind.sum(), -2)))+\" km total\\noperating\", x=0.1, y=0.5, \n",
    "#        ha='left', va='top', transform=ax.transAxes, fontsize=font_size, alpha=0.75)\n",
    "\n",
    "ax.set_title('commissioned by year in '+country, size=font_size)\n",
    "\n",
    "# ********************************************************************************\n",
    "\n",
    "ax2 = fig.add_subplot(spec[0,1])\n",
    "ax2.set_ylim(0, ytop2)\n",
    "ax2.set_xlim(0.25,3.75)\n",
    "xvals = [1,2,3]\n",
    "\n",
    "#colors = [solar_orange, solar_yellow, '0.75']\n",
    "colors = [tracker_construction, tracker_proposed, tracker_shelved]\n",
    "status = ['Construction', 'Proposed', 'Shelved']\n",
    "ax2_list = []\n",
    "for x,c,s in zip(xvals,colors,status):\n",
    "    ax2_list.append(ax2.bar(x, km_by_country_df.loc[country][s],\n",
    "             width=0.9, color=c, label=s))\n",
    "\n",
    "ax_h, ax_l = ax.get_legend_handles_labels()\n",
    "ax2_h, ax2_l = ax2.get_legend_handles_labels()\n",
    "\n",
    "ax2.set_xticklabels([])\n",
    "ax2.tick_params(labelsize=font_size)\n",
    "ax2.set_xticks([])\n",
    "\n",
    "ax2.yaxis.tick_right()\n",
    "ax2.set_ylabel('km', fontsize=font_size, rotation=-90, labelpad=10)\n",
    "ax2.yaxis.set_label_position('right')\n",
    "\n",
    "ax.legend(handles=ax_h+ax2_h, fontsize=font_size, frameon=False)\n",
    "\n",
    "axpos = ax.get_position()\n",
    "ax2pos = ax2.get_position()\n",
    "\n",
    "ax.spines['right'].set_visible(False)\n",
    "ax.spines['top'].set_visible(False)\n",
    "\n",
    "ax2.spines['left'].set_visible(False)\n",
    "ax2.spines['top'].set_visible(False)\n",
    "\n",
    "ax.set_title('commissioned by year', fontsize=font_size)\n",
    "ax2.set_title('future', fontsize=font_size)\n",
    "\n",
    "ax.legend(handles=ax_h+ax2_h, fontsize=font_size, frameon=False)\n",
    "\n",
    "fig.tight_layout()#w_pad=0.05)#, hspace=None)\n",
    "mp.savefig('saved-figures/Gas-Pipelines-Report-2022_km-by-start-year-with-future-'+country+'.png', bbox_inches='tight', transparent=True, dpi=600)\n",
    "mp.savefig('saved-figures/Gas-Pipelines-Report-2022_km-by-start-year-with-future-'+country+'.pdf', bbox_inches='tight', transparent=True)"
   ]
  },
  {
   "cell_type": "markdown",
   "id": "e42575d8-5c5f-4c50-9d33-c9040a16c4c6",
   "metadata": {},
   "source": [
    "### USA"
   ]
  },
  {
   "cell_type": "code",
   "execution_count": 114,
   "id": "dca4f42f",
   "metadata": {},
   "outputs": [
    {
     "data": {
      "image/png": "[encoded data removed]",
      "text/plain": [
       "<Figure size 234x234 with 2 Axes>"
      ]
     },
     "metadata": {
      "needs_background": "light"
     },
     "output_type": "display_data"
    }
   ],
   "source": [
    "country = 'USA'\n",
    "\n",
    "font_size = 7\n",
    "ytop = 8000\n",
    "ytop2 = ytop\n",
    "\n",
    "fig = mp.figure(figsize=(3.25,3.25))\n",
    "\n",
    "widths=[6,3]\n",
    "spec = fig.add_gridspec(ncols=2, nrows=1, width_ratios=widths)\n",
    "ax = fig.add_subplot(spec[0,0])\n",
    "\n",
    "ax.bar(pipes_started_sum_chi.index[-7:-1], pipes_started_sum_usa.values[-7:-1],\n",
    "       color=tracker_operating, label='Operating')\n",
    "ax_h, ax_l = ax.get_legend_handles_labels()\n",
    "\n",
    "ax.tick_params(labelsize=font_size)\n",
    "ax.tick_params('x', rotation=45)\n",
    "ax.set_xticks(range(2016,2022))\n",
    "#ax.set_xlabel('start year', size=font_size)\n",
    "ax.set_ylabel('km', size=font_size)\n",
    "\n",
    "ax.set_xlim(2015.25, 2021.75)\n",
    "ax.set_ylim(0, ytop)\n",
    "#ax.text(s=\"{:,}\".format(int(round(pipes_started_sum_usa.sum(), -2)))+\" km total\\noperating\", x=0.4, y=0.5, \n",
    "#        ha='left', va='top', transform=ax.transAxes, fontsize=font_size, alpha=0.75)\n",
    "\n",
    "ax.set_title('commissioned by year in '+country, size=font_size)\n",
    "\n",
    "# ********************************************************************************\n",
    "\n",
    "ax2 = fig.add_subplot(spec[0,1])\n",
    "ax2.set_ylim(0, ytop2)\n",
    "ax2.set_xlim(0.25,3.75)\n",
    "xvals = [1,2,3]\n",
    "\n",
    "#colors = [solar_orange, solar_yellow, '0.75']\n",
    "colors = [tracker_construction, tracker_proposed, tracker_shelved]\n",
    "status = ['Construction', 'Proposed', 'Shelved']\n",
    "ax2_list = []\n",
    "for x,c,s in zip(xvals,colors,status):\n",
    "    ax2_list.append(ax2.bar(x, km_by_country_df.loc[country][s],\n",
    "             width=0.9, color=c, label=s))\n",
    "\n",
    "ax_h, ax_l = ax.get_legend_handles_labels()\n",
    "ax2_h, ax2_l = ax2.get_legend_handles_labels()\n",
    "\n",
    "ax2.set_xticklabels([])\n",
    "ax2.tick_params(labelsize=font_size)\n",
    "ax2.set_xticks([])\n",
    "\n",
    "ax2.yaxis.tick_right()\n",
    "ax2.set_ylabel('km', fontsize=font_size, rotation=-90, labelpad=10)\n",
    "ax2.yaxis.set_label_position('right')\n",
    "\n",
    "ax.legend(handles=ax_h+ax2_h, fontsize=font_size, frameon=False)\n",
    "\n",
    "axpos = ax.get_position()\n",
    "ax2pos = ax2.get_position()\n",
    "\n",
    "ax.spines['right'].set_visible(False)\n",
    "ax.spines['top'].set_visible(False)\n",
    "\n",
    "ax2.spines['left'].set_visible(False)\n",
    "ax2.spines['top'].set_visible(False)\n",
    "\n",
    "ax.set_title('commissioned by year', fontsize=font_size)\n",
    "ax2.set_title('future', fontsize=font_size)\n",
    "\n",
    "ax.legend(handles=ax_h+ax2_h, fontsize=font_size, frameon=False, loc=[0.5,0.6])#, bbox=ax.transAxes)\n",
    "\n",
    "fig.tight_layout()#w_pad=0.05)#, hspace=None)\n",
    "mp.savefig('saved-figures/Gas-Pipelines-Report-2022_km-by-start-year-with-future-'+country+'.png', bbox_inches='tight', transparent=True, dpi=600)\n",
    "mp.savefig('saved-figures/Gas-Pipelines-Report-2022_km-by-start-year-with-future-'+country+'.pdf', bbox_inches='tight', transparent=True)"
   ]
  },
  {
   "cell_type": "markdown",
   "id": "0e1dd6ba",
   "metadata": {},
   "source": [
    "### Russia"
   ]
  },
  {
   "cell_type": "code",
   "execution_count": 115,
   "id": "30fb2047",
   "metadata": {},
   "outputs": [
    {
     "data": {
      "image/png": "[encoded data removed]",
      "text/plain": [
       "<Figure size 234x234 with 2 Axes>"
      ]
     },
     "metadata": {
      "needs_background": "light"
     },
     "output_type": "display_data"
    }
   ],
   "source": [
    "country = 'Russia'\n",
    "\n",
    "font_size = 7\n",
    "ytop = 10000\n",
    "ytop2 = ytop\n",
    "\n",
    "fig = mp.figure(figsize=(3.25,3.25))\n",
    "\n",
    "widths=[6,3]\n",
    "spec = fig.add_gridspec(ncols=2, nrows=1, width_ratios=widths)\n",
    "ax = fig.add_subplot(spec[0,0])\n",
    "\n",
    "ax.bar(pipes_started_sum_chi.index[-7:-1], pipes_started_sum_rus.values[-7:-1],\n",
    "       color=tracker_operating, label='Operating')\n",
    "ax_h, ax_l = ax.get_legend_handles_labels()\n",
    "\n",
    "ax.tick_params(labelsize=font_size)\n",
    "ax.tick_params('x', rotation=45)\n",
    "ax.set_xticks(range(2016,2022))\n",
    "#ax.set_xlabel('start year', size=font_size)\n",
    "ax.set_ylabel('km', size=font_size)\n",
    "\n",
    "ax.set_xlim(2015.25, 2021.75)\n",
    "ax.set_ylim(0, ytop)\n",
    "#ax.text(s=\"{:,}\".format(int(round(pipes_started_sum_rus.sum(), -2)))+\" km total\\noperating\", x=0.1, y=0.5, \n",
    "#        ha='left', va='top', transform=ax.transAxes, fontsize=font_size, alpha=0.75)\n",
    "\n",
    "ax.set_title('commissioned by year in '+country, size=font_size)\n",
    "\n",
    "# ********************************************************************************\n",
    "\n",
    "ax2 = fig.add_subplot(spec[0,1])\n",
    "ax2.set_ylim(0, ytop2)\n",
    "ax2.set_xlim(0.25,3.75)\n",
    "xvals = [1,2,3]\n",
    "\n",
    "#colors = [solar_orange, solar_yellow, '0.75']\n",
    "colors = [tracker_construction, tracker_proposed, tracker_shelved]\n",
    "status = ['Construction', 'Proposed', 'Shelved']\n",
    "ax2_list = []\n",
    "for x,c,s in zip(xvals,colors,status):\n",
    "    ax2_list.append(ax2.bar(x, km_by_country_df.loc[country][s],\n",
    "             width=0.9, color=c, label=s))\n",
    "\n",
    "ax_h, ax_l = ax.get_legend_handles_labels()\n",
    "ax2_h, ax2_l = ax2.get_legend_handles_labels()\n",
    "\n",
    "ax2.set_xticklabels([])\n",
    "ax2.tick_params(labelsize=font_size)\n",
    "ax2.set_xticks([])\n",
    "\n",
    "ax2.yaxis.tick_right()\n",
    "ax2.set_ylabel('km', fontsize=font_size, rotation=-90, labelpad=10)\n",
    "ax2.yaxis.set_label_position('right')\n",
    "\n",
    "ax.legend(handles=ax_h+ax2_h, fontsize=font_size, frameon=False)\n",
    "\n",
    "axpos = ax.get_position()\n",
    "ax2pos = ax2.get_position()\n",
    "\n",
    "ax.spines['right'].set_visible(False)\n",
    "ax.spines['top'].set_visible(False)\n",
    "\n",
    "ax2.spines['left'].set_visible(False)\n",
    "ax2.spines['top'].set_visible(False)\n",
    "\n",
    "ax.set_title('commissioned by year', fontsize=font_size)\n",
    "ax2.set_title('future', fontsize=font_size)\n",
    "\n",
    "ax.legend(handles=ax_h+ax2_h, fontsize=font_size, frameon=False)\n",
    "\n",
    "fig.tight_layout()#w_pad=0.05)#, hspace=None)\n",
    "mp.savefig('saved-figures/Gas-Pipelines-Report-2022_km-by-start-year-with-future-'+country+'.png', bbox_inches='tight', transparent=True, dpi=600)\n",
    "mp.savefig('saved-figures/Gas-Pipelines-Report-2022_km-by-start-year-with-future-'+country+'.pdf', bbox_inches='tight', transparent=True)"
   ]
  },
  {
   "cell_type": "markdown",
   "id": "f334c2aa",
   "metadata": {},
   "source": [
    "### Australia"
   ]
  },
  {
   "cell_type": "code",
   "execution_count": 116,
   "id": "12b37e40",
   "metadata": {},
   "outputs": [
    {
     "data": {
      "image/png": "[encoded data removed]",
      "text/plain": [
       "<Figure size 234x234 with 2 Axes>"
      ]
     },
     "metadata": {
      "needs_background": "light"
     },
     "output_type": "display_data"
    }
   ],
   "source": [
    "country = 'Australia'\n",
    "\n",
    "font_size = 7\n",
    "ytop = 12500\n",
    "ytop2 = ytop\n",
    "\n",
    "fig = mp.figure(figsize=(3.25,3.25))\n",
    "\n",
    "widths=[6,3]\n",
    "spec = fig.add_gridspec(ncols=2, nrows=1, width_ratios=widths)\n",
    "ax = fig.add_subplot(spec[0,0])\n",
    "\n",
    "ax.bar(pipes_started_sum_chi.index[-7:-1], pipes_started_sum_aus.values[-7:-1],\n",
    "       color=tracker_operating, label='Operating')\n",
    "ax_h, ax_l = ax.get_legend_handles_labels()\n",
    "\n",
    "ax.tick_params(labelsize=font_size)\n",
    "ax.tick_params('x', rotation=45)\n",
    "ax.set_xticks(range(2016,2022))\n",
    "#ax.set_xlabel('start year', size=font_size)\n",
    "ax.set_ylabel('km', size=font_size)\n",
    "\n",
    "ax.set_xlim(2015.25, 2021.75)\n",
    "ax.set_ylim(0, ytop)\n",
    "#ax.text(s=\"{:,}\".format(int(round(pipes_started_sum_aus.sum(), -2)))+\" km total\\noperating\", x=0.1, y=0.5, \n",
    "#        ha='left', va='top', transform=ax.transAxes, fontsize=font_size, alpha=0.75)\n",
    "\n",
    "ax.set_title('commissioned by year in '+country, size=font_size)\n",
    "\n",
    "# ********************************************************************************\n",
    "\n",
    "ax2 = fig.add_subplot(spec[0,1])\n",
    "ax2.set_ylim(0, ytop2)\n",
    "ax2.set_xlim(0.25,3.75)\n",
    "xvals = [1,2,3]\n",
    "\n",
    "#colors = [solar_orange, solar_yellow, '0.75']\n",
    "colors = [tracker_construction, tracker_proposed, tracker_shelved]\n",
    "status = ['Construction', 'Proposed', 'Shelved']\n",
    "ax2_list = []\n",
    "for x,c,s in zip(xvals,colors,status):\n",
    "    ax2_list.append(ax2.bar(x, km_by_country_df.loc[country][s],\n",
    "             width=0.9, color=c, label=s))\n",
    "\n",
    "ax_h, ax_l = ax.get_legend_handles_labels()\n",
    "ax2_h, ax2_l = ax2.get_legend_handles_labels()\n",
    "\n",
    "ax2.set_xticklabels([])\n",
    "ax2.tick_params(labelsize=font_size)\n",
    "ax2.set_xticks([])\n",
    "\n",
    "ax2.yaxis.tick_right()\n",
    "ax2.set_ylabel('km', fontsize=font_size, rotation=-90, labelpad=10)\n",
    "ax2.yaxis.set_label_position('right')\n",
    "\n",
    "ax.legend(handles=ax_h+ax2_h, fontsize=font_size, frameon=False)\n",
    "\n",
    "axpos = ax.get_position()\n",
    "ax2pos = ax2.get_position()\n",
    "\n",
    "ax.spines['right'].set_visible(False)\n",
    "ax.spines['top'].set_visible(False)\n",
    "\n",
    "ax2.spines['left'].set_visible(False)\n",
    "ax2.spines['top'].set_visible(False)\n",
    "\n",
    "ax.set_title('commissioned by year', fontsize=font_size)\n",
    "ax2.set_title('future', fontsize=font_size)\n",
    "\n",
    "ax.legend(handles=ax_h+ax2_h, fontsize=font_size, frameon=False)\n",
    "\n",
    "fig.tight_layout()#w_pad=0.05)#, hspace=None)\n",
    "mp.savefig('saved-figures/Gas-Pipelines-Report-2022_km-by-start-year-with-future-'+country+'.png', bbox_inches='tight', transparent=True, dpi=600)\n",
    "mp.savefig('saved-figures/Gas-Pipelines-Report-2022_km-by-start-year-with-future-'+country+'.pdf', bbox_inches='tight', transparent=True)"
   ]
  },
  {
   "cell_type": "markdown",
   "id": "50aa57be",
   "metadata": {},
   "source": [
    "### Brazil"
   ]
  },
  {
   "cell_type": "code",
   "execution_count": 117,
   "id": "d462574d",
   "metadata": {},
   "outputs": [
    {
     "data": {
      "image/png": "[encoded data removed]",
      "text/plain": [
       "<Figure size 234x234 with 2 Axes>"
      ]
     },
     "metadata": {
      "needs_background": "light"
     },
     "output_type": "display_data"
    }
   ],
   "source": [
    "country = 'Brazil'\n",
    "\n",
    "font_size = 7\n",
    "ytop = 8000\n",
    "ytop2 = ytop\n",
    "\n",
    "fig = mp.figure(figsize=(3.25,3.25))\n",
    "\n",
    "widths=[6,3]\n",
    "spec = fig.add_gridspec(ncols=2, nrows=1, width_ratios=widths)\n",
    "ax = fig.add_subplot(spec[0,0])\n",
    "\n",
    "ax.bar(pipes_started_sum_chi.index[-7:-1], pipes_started_sum_chi.values[-7:-1],\n",
    "       color=tracker_operating, label='Operating')\n",
    "ax_h, ax_l = ax.get_legend_handles_labels()\n",
    "\n",
    "ax.tick_params(labelsize=font_size)\n",
    "ax.tick_params('x', rotation=45)\n",
    "ax.set_xticks(range(2016,2022))\n",
    "#ax.set_xlabel('start year', size=font_size)\n",
    "ax.set_ylabel('km', size=font_size)\n",
    "\n",
    "ax.set_xlim(2015.25, 2021.75)\n",
    "ax.set_ylim(0, ytop)\n",
    "#ax.text(s=\"{:,}\".format(int(round(pipes_started_sum_bra.sum(), -3)))+\" km total\\noperating\", x=0.6, y=0.7, \n",
    "#        ha='left', va='top', transform=ax.transAxes, fontsize=font_size, alpha=0.75)\n",
    "\n",
    "ax.set_title('commissioned by year in '+country, size=font_size)\n",
    "\n",
    "# ********************************************************************************\n",
    "\n",
    "ax2 = fig.add_subplot(spec[0,1])\n",
    "ax2.set_ylim(0, ytop2)\n",
    "ax2.set_xlim(0.25,3.75)\n",
    "xvals = [1,2,3]\n",
    "\n",
    "#colors = [solar_orange, solar_yellow, '0.75']\n",
    "colors = [tracker_construction, tracker_proposed, tracker_shelved]\n",
    "status = ['Construction', 'Proposed', 'Shelved']\n",
    "ax2_list = []\n",
    "for x,c,s in zip(xvals,colors,status):\n",
    "    ax2_list.append(ax2.bar(x, km_by_country_df.loc[country][s],\n",
    "             width=0.9, color=c, label=s))\n",
    "\n",
    "ax_h, ax_l = ax.get_legend_handles_labels()\n",
    "ax2_h, ax2_l = ax2.get_legend_handles_labels()\n",
    "\n",
    "ax2.set_xticklabels([])\n",
    "ax2.tick_params(labelsize=font_size)\n",
    "ax2.set_xticks([])\n",
    "\n",
    "ax2.yaxis.tick_right()\n",
    "ax2.set_ylabel('km', fontsize=font_size, rotation=-90, labelpad=10)\n",
    "ax2.yaxis.set_label_position('right')\n",
    "\n",
    "ax.legend(handles=ax_h+ax2_h, fontsize=font_size, frameon=False)\n",
    "\n",
    "axpos = ax.get_position()\n",
    "ax2pos = ax2.get_position()\n",
    "\n",
    "ax.spines['right'].set_visible(False)\n",
    "ax.spines['top'].set_visible(False)\n",
    "\n",
    "ax2.spines['left'].set_visible(False)\n",
    "ax2.spines['top'].set_visible(False)\n",
    "\n",
    "ax.set_title('commissioned by year', fontsize=font_size)\n",
    "ax2.set_title('future', fontsize=font_size)\n",
    "\n",
    "ax.legend(handles=ax_h+ax2_h, fontsize=font_size, frameon=False, loc=[0.6,0.7])\n",
    "\n",
    "fig.tight_layout()#w_pad=0.05)#, hspace=None)\n",
    "mp.savefig('saved-figures/Gas-Pipelines-Report-2022_km-by-start-year-with-future-'+country+'.png', bbox_inches='tight', transparent=True, dpi=600)\n",
    "mp.savefig('saved-figures/Gas-Pipelines-Report-2022_km-by-start-year-with-future-'+country+'.pdf', bbox_inches='tight', transparent=True)"
   ]
  },
  {
   "cell_type": "markdown",
   "id": "712acc4e",
   "metadata": {},
   "source": [
    "# top 20 countries proposed+construction"
   ]
  },
  {
   "cell_type": "code",
   "execution_count": 118,
   "id": "e4961c91-d30b-4e76-9e26-94a0ae21ba70",
   "metadata": {},
   "outputs": [],
   "source": [
    "def adjust_spines(ax, spines):\n",
    "    for loc, spine in ax.spines.items():\n",
    "        if loc in spines:\n",
    "            spine.set_position(('outward', 10))  # outward by 10 points\n",
    "        else:\n",
    "            spine.set_color('none')  # don't draw spine\n",
    "\n",
    "    # turn off ticks where there is no spine\n",
    "    if 'left' in spines:\n",
    "        ax.yaxis.set_ticks_position('left')\n",
    "    else:\n",
    "        # no yaxis ticks\n",
    "        ax.yaxis.set_ticks([])\n",
    "\n",
    "    if 'bottom' in spines:\n",
    "        ax.xaxis.set_ticks_position('bottom')\n",
    "    else:\n",
    "        # no xaxis ticks\n",
    "        ax.xaxis.set_ticks([])"
   ]
  },
  {
   "cell_type": "code",
   "execution_count": 119,
   "id": "3cdebc59",
   "metadata": {},
   "outputs": [
    {
     "data": {
      "image/png": "[encoded data removed]",
      "text/plain": [
       "<Figure size 486x288 with 1 Axes>"
      ]
     },
     "metadata": {
      "needs_background": "light"
     },
     "output_type": "display_data"
    }
   ],
   "source": [
    "font_size = 7\n",
    "fig = mp.figure(figsize=(6.75,4))\n",
    "nbars=20\n",
    "\n",
    "country_order = km_by_country_df.index[:nbars][::-1]\n",
    "\n",
    "ax = fig.add_subplot(111)\n",
    "\n",
    "ax.barh(numpy.arange(nbars), \n",
    "        km_by_country_df.loc[country_order]['Construction'].values, \n",
    "        facecolor=tracker_construction,#solar_orange, \n",
    "        label='Construction')\n",
    "\n",
    "ax.barh(numpy.arange(nbars), \n",
    "        km_by_country_df.loc[country_order]['Proposed'].values, \n",
    "        left=km_by_country_df.loc[country_order]['Construction'].values, \n",
    "        facecolor=tracker_proposed,#solar_yellow, \n",
    "        label='Proposed')\n",
    "\n",
    "ax.barh(numpy.arange(nbars), \n",
    "        km_by_country_df.loc[country_order]['Shelved'].values, \n",
    "        left=km_by_country_df.loc[country_order][['Proposed','Construction']].sum(axis=1).values, \n",
    "        facecolor=tracker_shelved,#'0.75', \n",
    "        label='Shelved')\n",
    "\n",
    "ax.barh(numpy.arange(nbars), \n",
    "        km_by_country_df.loc[country_order]['Cancelled'].values, \n",
    "        left=km_by_country_df.loc[country_order][['Proposed','Construction','Shelved']].sum(axis=1).values, \n",
    "        facecolor=tracker_cancelled,#'0.9', \n",
    "        label='Cancelled')\n",
    "\n",
    "ax.set_yticks(numpy.arange(nbars))\n",
    "ax.set_yticklabels(km_by_country_df.index[:nbars][::-1])\n",
    "ax.tick_params(labelsize=font_size)\n",
    "ax.tick_params('x', pad=0)\n",
    "ax.set_xlim(0,60000)\n",
    "#ax.set_ylim(-.75,19.75)\n",
    "ax.set_ylim(-.25,20)\n",
    "ax.set_xlabel('km', size=font_size)#, labelpad=10)\n",
    "ax.xaxis.set_ticks_position('top')\n",
    "ax.xaxis.set_label_position('top')\n",
    "\n",
    "ax.legend(fontsize=font_size, frameon=False, loc='lower right')\n",
    "\n",
    "ax.spines['right'].set_visible(False)\n",
    "ax.spines['left'].set_visible(False)\n",
    "ax.spines['bottom'].set_visible(False)\n",
    "\n",
    "#mp.savefig('saved-figures/Gas-Pipelines-Report-2022_top-20-countries.pdf', bbox_inches='tight', transparent=True)\n",
    "\n",
    "#adjust_spines(ax, ['top'])\n",
    "    \n",
    "mp.savefig('saved-figures/Gas-Pipelines-Report-2022_top-20-countries.png',\n",
    "           bbox_inches='tight', \n",
    "           transparent=True,\n",
    "           dpi=600)\n",
    "\n",
    "mp.savefig('saved-figures/Gas-Pipelines-Report-2022_top-20-countries.pdf',\n",
    "           bbox_inches='tight', \n",
    "           transparent=True)"
   ]
  },
  {
   "cell_type": "code",
   "execution_count": 120,
   "id": "3906d28f",
   "metadata": {},
   "outputs": [
    {
     "data": {
      "text/plain": [
       "3.051746405147723"
      ]
     },
     "execution_count": 120,
     "metadata": {},
     "output_type": "execute_result"
    }
   ],
   "source": [
    "# ratio of China to India\n",
    "km_by_country_df.loc['China']['Proposed+Construction']/km_by_country_df.loc['India']['Proposed+Construction']"
   ]
  },
  {
   "cell_type": "markdown",
   "id": "fb98d85a",
   "metadata": {},
   "source": [
    "# cost estimates (pipeline cost per km)"
   ]
  },
  {
   "cell_type": "markdown",
   "id": "ff21443c",
   "metadata": {},
   "source": [
    "## looking for cost outliers"
   ]
  },
  {
   "cell_type": "code",
   "execution_count": 121,
   "id": "21afc38f",
   "metadata": {},
   "outputs": [],
   "source": [
    "outliers_projectids = ['P2509','P0173','P1297','P0174','P3188','P2551','P1382','P0477']\n",
    "\n",
    "#P1382 - grenada to trinidad an tobago - underwater, not really a formalized route yet, skipping\n",
    "#P0477 - South Valley Pipeline (egypt) - just seems too high to make sense\n",
    "#P3174 - Off-shore Gas Pipeline (all underwater, not quite representative?)"
   ]
  },
  {
   "cell_type": "code",
   "execution_count": 122,
   "id": "2dcd457f",
   "metadata": {},
   "outputs": [],
   "source": [
    "#pipes_cost_outliers_df = pipes_df[(pipes_df['Fuel']=='Gas') & (pipes_df['Countries'].str.contains('India'))]\n",
    "pipes_cost_outliers_df = pipes_df_orig.copy()[(pipes_df_orig['Fuel']=='Gas')]\n",
    "pipes_cost_outliers_df = pipes_cost_outliers_df[~pipes_cost_outliers_df.ProjectID.isin(outliers_projectids)]"
   ]
  },
  {
   "cell_type": "markdown",
   "id": "5a53b0f7",
   "metadata": {},
   "source": [
    "## costs - remove outliers"
   ]
  },
  {
   "cell_type": "raw",
   "id": "cf645ac7-59da-4a16-bdef-340f0d30a9ac",
   "metadata": {},
   "source": [
    "# pull out only pipelines that have a KNOWN length AND a cost\n",
    "pipes_with_length_and_cost_df = pipes_df_orig.copy()[(pipes_df_orig['Fuel']=='Gas') & \n",
    "                                    (pipes_df_orig['LengthKnownKm'].notna()) & \n",
    "                                    (pipes_df_orig['CostMergedUSD'].notna()) \n",
    "                                   ]\n",
    "pipes_with_length_and_cost_df = pipes_with_length_and_cost_df[~pipes_with_length_and_cost_df.ProjectID.isin(outliers_projectids)]"
   ]
  },
  {
   "cell_type": "code",
   "execution_count": 123,
   "id": "db9cff21-89db-4a17-83b8-358d095fb530",
   "metadata": {},
   "outputs": [],
   "source": [
    "# pull out only pipelines that have a KNOWN length AND a cost\n",
    "country_ratios_with_length_and_cost_df = country_ratios_df.copy()[(country_ratios_df['Fuel']=='Gas') & \n",
    "                                    (country_ratios_df['CostMergedUSDPerKm'].notna()) & \n",
    "                                    (country_ratios_df['LengthKnownKmByCountry'].notna()) &\n",
    "                                    (country_ratios_df['LengthKnownKm']!=0)\n",
    "                                   ]\n",
    "country_ratios_with_length_and_cost_df = country_ratios_with_length_and_cost_df[~country_ratios_with_length_and_cost_df.ProjectID.isin(outliers_projectids)]"
   ]
  },
  {
   "cell_type": "markdown",
   "id": "a60996ff-c763-46a6-8576-cffa78c2fcbb",
   "metadata": {},
   "source": [
    "### global mean value"
   ]
  },
  {
   "cell_type": "code",
   "execution_count": 124,
   "id": "a36c8c61",
   "metadata": {},
   "outputs": [
    {
     "data": {
      "text/plain": [
       "3161566.478623595"
      ]
     },
     "execution_count": 124,
     "metadata": {},
     "output_type": "execute_result"
    }
   ],
   "source": [
    "country_ratios_with_length_and_cost_df['CostMergedUSDPerKm'].drop_duplicates().mean()"
   ]
  },
  {
   "cell_type": "markdown",
   "id": "9754a8d9-5d70-448d-a6ae-75efcd2a6054",
   "metadata": {},
   "source": [
    "### calculate regional costs"
   ]
  },
  {
   "cell_type": "raw",
   "id": "7a16f5f1-77c9-4709-b39c-3d7b657d5dab",
   "metadata": {},
   "source": [
    "pipes_gas_costs_region_df = pandas.DataFrame(0, index=region_list, columns=['CostUSDPerKm','NumberOfCosts','NumberOfLengths'])\n",
    "\n",
    "for region in region_list:\n",
    "    print(region)\n",
    "    region_subset = pipes_gas_length_cost_df[pipes_gas_length_cost_df['StartRegion']==region]\n",
    "    pipes_gas_costs_region_df.loc[region]['CostUSDPerKm'] = region_subset['CostMergedUSD'].mean()/region_subset['LengthKnownKm'].mean()\n",
    "    pipes_gas_costs_region_df.loc[region]['NumberOfCosts'] = region_subset[~region_subset['CostMergedUSD'].isnull()]['CostMergedUSD'].count()\n",
    "    pipes_gas_costs_region_df.loc[region]['NumberOfLengths'] = region_subset[~region_subset['LengthKnownKm'].isnull()]['LengthKnownKm'].count()\n",
    "    "
   ]
  },
  {
   "cell_type": "code",
   "execution_count": 102,
   "id": "47a82b04-9795-40a5-b329-43a3f0f86d41",
   "metadata": {},
   "outputs": [
    {
     "name": "stdout",
     "output_type": "stream",
     "text": [
      "Australia and New Zealand\n",
      "East Asia\n",
      "Eurasia\n",
      "Europe\n",
      "Latin America and the Caribbean\n",
      "Middle East and North Africa\n",
      "North America\n",
      "SE Asia\n",
      "South Asia\n",
      "Sub-Saharan Africa\n"
     ]
    }
   ],
   "source": [
    "pipes_gas_costs_region_df = pandas.DataFrame(0, index=region_list, columns=['CostUSDPerKm','NumberOfCosts','NumberOfLengths'])\n",
    "\n",
    "for region in region_list:\n",
    "    print(region)\n",
    "    country_ratios_region_df = country_ratios_with_length_and_cost_df[country_ratios_with_length_and_cost_df['Region']==region]\n",
    "    pipes_gas_costs_region_df.loc[region]['CostUSDPerKm'] = country_ratios_region_df['CostMergedUSDPerKm'].mean()\n",
    "    pipes_gas_costs_region_df.loc[region]['NumberOfCosts'] = list(set(country_ratios_region_df['ProjectID'])).__len__()\n",
    "    pipes_gas_costs_region_df.loc[region]['NumberOfLengths'] = list(set(country_ratios_region_df['ProjectID'])).__len__()\n",
    "    "
   ]
  },
  {
   "cell_type": "markdown",
   "id": "f9ee664c-930f-47ca-b605-c84012c6e2df",
   "metadata": {},
   "source": [
    "### table for methodology with regional cost info"
   ]
  },
  {
   "cell_type": "code",
   "execution_count": 103,
   "id": "d3dda312-986c-4ea7-b628-ff1b4d1c257a",
   "metadata": {},
   "outputs": [
    {
     "data": {
      "text/html": [
       "<div>\n",
       "<style scoped>\n",
       "    .dataframe tbody tr th:only-of-type {\n",
       "        vertical-align: middle;\n",
       "    }\n",
       "\n",
       "    .dataframe tbody tr th {\n",
       "        vertical-align: top;\n",
       "    }\n",
       "\n",
       "    .dataframe thead th {\n",
       "        text-align: right;\n",
       "    }\n",
       "</style>\n",
       "<table border=\"1\" class=\"dataframe\">\n",
       "  <thead>\n",
       "    <tr style=\"text-align: right;\">\n",
       "      <th></th>\n",
       "      <th>CostUSDPerKm</th>\n",
       "      <th>NumberOfCosts</th>\n",
       "      <th>NumberOfLengths</th>\n",
       "    </tr>\n",
       "  </thead>\n",
       "  <tbody>\n",
       "    <tr>\n",
       "      <th>Australia and New Zealand</th>\n",
       "      <td>1271295</td>\n",
       "      <td>11</td>\n",
       "      <td>11</td>\n",
       "    </tr>\n",
       "    <tr>\n",
       "      <th>East Asia</th>\n",
       "      <td>1693736</td>\n",
       "      <td>60</td>\n",
       "      <td>60</td>\n",
       "    </tr>\n",
       "    <tr>\n",
       "      <th>Eurasia</th>\n",
       "      <td>3878476</td>\n",
       "      <td>18</td>\n",
       "      <td>18</td>\n",
       "    </tr>\n",
       "    <tr>\n",
       "      <th>Europe</th>\n",
       "      <td>2980665</td>\n",
       "      <td>83</td>\n",
       "      <td>83</td>\n",
       "    </tr>\n",
       "    <tr>\n",
       "      <th>Latin America and the Caribbean</th>\n",
       "      <td>2798030</td>\n",
       "      <td>24</td>\n",
       "      <td>24</td>\n",
       "    </tr>\n",
       "    <tr>\n",
       "      <th>Middle East and North Africa</th>\n",
       "      <td>2558775</td>\n",
       "      <td>15</td>\n",
       "      <td>15</td>\n",
       "    </tr>\n",
       "    <tr>\n",
       "      <th>North America</th>\n",
       "      <td>5130381</td>\n",
       "      <td>133</td>\n",
       "      <td>133</td>\n",
       "    </tr>\n",
       "    <tr>\n",
       "      <th>SE Asia</th>\n",
       "      <td>2134476</td>\n",
       "      <td>9</td>\n",
       "      <td>9</td>\n",
       "    </tr>\n",
       "    <tr>\n",
       "      <th>South Asia</th>\n",
       "      <td>1147718</td>\n",
       "      <td>19</td>\n",
       "      <td>19</td>\n",
       "    </tr>\n",
       "    <tr>\n",
       "      <th>Sub-Saharan Africa</th>\n",
       "      <td>3860864</td>\n",
       "      <td>6</td>\n",
       "      <td>6</td>\n",
       "    </tr>\n",
       "  </tbody>\n",
       "</table>\n",
       "</div>"
      ],
      "text/plain": [
       "                                 CostUSDPerKm  NumberOfCosts  NumberOfLengths\n",
       "Australia and New Zealand             1271295             11               11\n",
       "East Asia                             1693736             60               60\n",
       "Eurasia                               3878476             18               18\n",
       "Europe                                2980665             83               83\n",
       "Latin America and the Caribbean       2798030             24               24\n",
       "Middle East and North Africa          2558775             15               15\n",
       "North America                         5130381            133              133\n",
       "SE Asia                               2134476              9                9\n",
       "South Asia                            1147718             19               19\n",
       "Sub-Saharan Africa                    3860864              6                6"
      ]
     },
     "execution_count": 103,
     "metadata": {},
     "output_type": "execute_result"
    }
   ],
   "source": [
    "pipes_gas_costs_region_df"
   ]
  },
  {
   "cell_type": "markdown",
   "id": "22cb04dc-3e08-43ec-8efd-51387768d17f",
   "metadata": {},
   "source": [
    "### calculate country-level costs"
   ]
  },
  {
   "cell_type": "code",
   "execution_count": 104,
   "id": "a6370f0e-430d-45f3-9cf6-f063719dfe7b",
   "metadata": {},
   "outputs": [],
   "source": [
    "#country_list_for_costs = sorted(list(set(country_ratios_with_length_and_cost_df['Country'])))\n",
    "pipes_gas_costs_country_df = pandas.DataFrame(0, index=country_list, columns=['CostUSDPerKm','NumberOfCosts','NumberOfLengths'])\n",
    "\n",
    "for country in country_list:#_for_costs:\n",
    "    #print(country)\n",
    "    country_ratios_country_df = country_ratios_with_length_and_cost_df[country_ratios_with_length_and_cost_df['Country']==country]\n",
    "    pipes_gas_costs_country_df.loc[country,'CostUSDPerKm'] = country_ratios_country_df['CostMergedUSDPerKm'].mean()\n",
    "    pipes_gas_costs_country_df.loc[country,'NumberOfCosts'] = list(set(country_ratios_country_df['ProjectID'])).__len__()\n",
    "    pipes_gas_costs_country_df.loc[country,'NumberOfLengths'] = list(set(country_ratios_country_df['ProjectID'])).__len__()"
   ]
  },
  {
   "cell_type": "markdown",
   "id": "4a9152b3",
   "metadata": {},
   "source": [
    "## for India, USA, China, Indonesia"
   ]
  },
  {
   "cell_type": "raw",
   "id": "8f24a415-96ef-409d-8160-5f5716006d49",
   "metadata": {},
   "source": [
    "print(\"India\")\n",
    "country_subset = pipes_gas_length_cost_df[pipes_gas_length_cost_df['Countries'].str.contains('India')]\n",
    "print(country_subset['CostMergedUSD'].mean()/country_subset['LengthKnownKm'].mean())\n",
    "print(\"Indonesia\")\n",
    "country_subset = pipes_gas_length_cost_df[pipes_gas_length_cost_df['Countries'].str.contains('Indonesia')]\n",
    "print(country_subset['CostMergedUSD'].mean()/country_subset['LengthKnownKm'].mean())\n",
    "print(\"China\")\n",
    "country_subset = pipes_gas_length_cost_df[pipes_gas_length_cost_df['Countries'].str.contains('China')]\n",
    "print(country_subset['CostMergedUSD'].mean()/country_subset['LengthKnownKm'].mean())\n",
    "print(\"USA\")\n",
    "country_subset = pipes_gas_length_cost_df[pipes_gas_length_cost_df['Countries'].str.contains('USA')]\n",
    "print(country_subset['CostMergedUSD'].mean()/country_subset['LengthKnownKm'].mean())"
   ]
  },
  {
   "cell_type": "markdown",
   "id": "f5242bbf-f1a7-4e90-9e91-90fbdb5bca2f",
   "metadata": {},
   "source": [
    "## table for regional totals"
   ]
  },
  {
   "cell_type": "code",
   "execution_count": 105,
   "id": "f804568d-5a95-490f-8245-d87042a15fee",
   "metadata": {},
   "outputs": [
    {
     "data": {
      "text/html": [
       "<div>\n",
       "<style scoped>\n",
       "    .dataframe tbody tr th:only-of-type {\n",
       "        vertical-align: middle;\n",
       "    }\n",
       "\n",
       "    .dataframe tbody tr th {\n",
       "        vertical-align: top;\n",
       "    }\n",
       "\n",
       "    .dataframe thead th {\n",
       "        text-align: right;\n",
       "    }\n",
       "</style>\n",
       "<table border=\"1\" class=\"dataframe\">\n",
       "  <thead>\n",
       "    <tr style=\"text-align: right;\">\n",
       "      <th></th>\n",
       "      <th>Proposed</th>\n",
       "      <th>Construction</th>\n",
       "      <th>Proposed+Construction</th>\n",
       "      <th>Shelved</th>\n",
       "      <th>Cancelled</th>\n",
       "      <th>Operating</th>\n",
       "      <th>Idle</th>\n",
       "      <th>Mothballed</th>\n",
       "      <th>Retired</th>\n",
       "    </tr>\n",
       "  </thead>\n",
       "  <tbody>\n",
       "    <tr>\n",
       "      <th>East Asia</th>\n",
       "      <td>32,420.1</td>\n",
       "      <td>26,347.7</td>\n",
       "      <td>58,767.8</td>\n",
       "      <td>1,044.0</td>\n",
       "      <td>1,044.1</td>\n",
       "      <td>92,429.1</td>\n",
       "      <td>0.0</td>\n",
       "      <td>0.0</td>\n",
       "      <td>41.0</td>\n",
       "    </tr>\n",
       "    <tr>\n",
       "      <th>South Asia</th>\n",
       "      <td>4,091.0</td>\n",
       "      <td>17,859.7</td>\n",
       "      <td>21,950.7</td>\n",
       "      <td>6,017.7</td>\n",
       "      <td>6,143.8</td>\n",
       "      <td>20,585.8</td>\n",
       "      <td>0.0</td>\n",
       "      <td>0.0</td>\n",
       "      <td>35.0</td>\n",
       "    </tr>\n",
       "    <tr>\n",
       "      <th>Europe</th>\n",
       "      <td>14,832.9</td>\n",
       "      <td>5,290.6</td>\n",
       "      <td>20,123.5</td>\n",
       "      <td>1,247.9</td>\n",
       "      <td>15,805.3</td>\n",
       "      <td>116,899.3</td>\n",
       "      <td>0.0</td>\n",
       "      <td>0.0</td>\n",
       "      <td>1,080.0</td>\n",
       "    </tr>\n",
       "    <tr>\n",
       "      <th>Sub-Saharan Africa</th>\n",
       "      <td>14,048.0</td>\n",
       "      <td>5,517.9</td>\n",
       "      <td>19,565.9</td>\n",
       "      <td>1,633.2</td>\n",
       "      <td>288.2</td>\n",
       "      <td>13,550.9</td>\n",
       "      <td>0.0</td>\n",
       "      <td>0.0</td>\n",
       "      <td>0.0</td>\n",
       "    </tr>\n",
       "    <tr>\n",
       "      <th>Eurasia</th>\n",
       "      <td>11,689.3</td>\n",
       "      <td>4,719.0</td>\n",
       "      <td>16,408.3</td>\n",
       "      <td>2,556.8</td>\n",
       "      <td>6,644.1</td>\n",
       "      <td>140,257.5</td>\n",
       "      <td>0.0</td>\n",
       "      <td>193.0</td>\n",
       "      <td>2,551.9</td>\n",
       "    </tr>\n",
       "    <tr>\n",
       "      <th>North America</th>\n",
       "      <td>9,526.9</td>\n",
       "      <td>3,897.7</td>\n",
       "      <td>13,424.6</td>\n",
       "      <td>10,445.8</td>\n",
       "      <td>12,432.1</td>\n",
       "      <td>418,631.0</td>\n",
       "      <td>516.0</td>\n",
       "      <td>0.0</td>\n",
       "      <td>0.0</td>\n",
       "    </tr>\n",
       "    <tr>\n",
       "      <th>Australia and New Zealand</th>\n",
       "      <td>12,369.5</td>\n",
       "      <td>580.0</td>\n",
       "      <td>12,949.5</td>\n",
       "      <td>682.0</td>\n",
       "      <td>6,208.5</td>\n",
       "      <td>30,993.0</td>\n",
       "      <td>0.0</td>\n",
       "      <td>0.0</td>\n",
       "      <td>0.0</td>\n",
       "    </tr>\n",
       "    <tr>\n",
       "      <th>Latin America and the Caribbean</th>\n",
       "      <td>11,364.0</td>\n",
       "      <td>541.0</td>\n",
       "      <td>11,905.0</td>\n",
       "      <td>3,453.0</td>\n",
       "      <td>22,161.3</td>\n",
       "      <td>43,412.5</td>\n",
       "      <td>0.0</td>\n",
       "      <td>224.0</td>\n",
       "      <td>0.0</td>\n",
       "    </tr>\n",
       "    <tr>\n",
       "      <th>Middle East and North Africa</th>\n",
       "      <td>5,028.8</td>\n",
       "      <td>5,014.2</td>\n",
       "      <td>10,043.1</td>\n",
       "      <td>7,178.7</td>\n",
       "      <td>3,704.5</td>\n",
       "      <td>33,369.8</td>\n",
       "      <td>1,200.0</td>\n",
       "      <td>0.0</td>\n",
       "      <td>39.3</td>\n",
       "    </tr>\n",
       "    <tr>\n",
       "      <th>SE Asia</th>\n",
       "      <td>7,106.4</td>\n",
       "      <td>1,121.0</td>\n",
       "      <td>8,227.4</td>\n",
       "      <td>2,630.4</td>\n",
       "      <td>3,180.8</td>\n",
       "      <td>15,839.9</td>\n",
       "      <td>0.0</td>\n",
       "      <td>0.0</td>\n",
       "      <td>0.0</td>\n",
       "    </tr>\n",
       "    <tr>\n",
       "      <th>Total</th>\n",
       "      <td>122,477.1</td>\n",
       "      <td>70,888.8</td>\n",
       "      <td>193,365.9</td>\n",
       "      <td>36,889.5</td>\n",
       "      <td>77,612.8</td>\n",
       "      <td>925,968.8</td>\n",
       "      <td>1,716.0</td>\n",
       "      <td>417.0</td>\n",
       "      <td>3,747.1</td>\n",
       "    </tr>\n",
       "  </tbody>\n",
       "</table>\n",
       "</div>"
      ],
      "text/plain": [
       "                                 Proposed  Construction  \\\n",
       "East Asia                        32,420.1      26,347.7   \n",
       "South Asia                        4,091.0      17,859.7   \n",
       "Europe                           14,832.9       5,290.6   \n",
       "Sub-Saharan Africa               14,048.0       5,517.9   \n",
       "Eurasia                          11,689.3       4,719.0   \n",
       "North America                     9,526.9       3,897.7   \n",
       "Australia and New Zealand        12,369.5         580.0   \n",
       "Latin America and the Caribbean  11,364.0         541.0   \n",
       "Middle East and North Africa      5,028.8       5,014.2   \n",
       "SE Asia                           7,106.4       1,121.0   \n",
       "Total                           122,477.1      70,888.8   \n",
       "\n",
       "                                 Proposed+Construction  Shelved  Cancelled  \\\n",
       "East Asia                                     58,767.8  1,044.0    1,044.1   \n",
       "South Asia                                    21,950.7  6,017.7    6,143.8   \n",
       "Europe                                        20,123.5  1,247.9   15,805.3   \n",
       "Sub-Saharan Africa                            19,565.9  1,633.2      288.2   \n",
       "Eurasia                                       16,408.3  2,556.8    6,644.1   \n",
       "North America                                 13,424.6 10,445.8   12,432.1   \n",
       "Australia and New Zealand                     12,949.5    682.0    6,208.5   \n",
       "Latin America and the Caribbean               11,905.0  3,453.0   22,161.3   \n",
       "Middle East and North Africa                  10,043.1  7,178.7    3,704.5   \n",
       "SE Asia                                        8,227.4  2,630.4    3,180.8   \n",
       "Total                                        193,365.9 36,889.5   77,612.8   \n",
       "\n",
       "                                 Operating    Idle  Mothballed  Retired  \n",
       "East Asia                         92,429.1     0.0         0.0     41.0  \n",
       "South Asia                        20,585.8     0.0         0.0     35.0  \n",
       "Europe                           116,899.3     0.0         0.0  1,080.0  \n",
       "Sub-Saharan Africa                13,550.9     0.0         0.0      0.0  \n",
       "Eurasia                          140,257.5     0.0       193.0  2,551.9  \n",
       "North America                    418,631.0   516.0         0.0      0.0  \n",
       "Australia and New Zealand         30,993.0     0.0         0.0      0.0  \n",
       "Latin America and the Caribbean   43,412.5     0.0       224.0      0.0  \n",
       "Middle East and North Africa      33,369.8 1,200.0         0.0     39.3  \n",
       "SE Asia                           15,839.9     0.0         0.0      0.0  \n",
       "Total                            925,968.8 1,716.0       417.0  3,747.1  "
      ]
     },
     "execution_count": 105,
     "metadata": {},
     "output_type": "execute_result"
    }
   ],
   "source": [
    "if 'Total' in km_by_region_df.index:\n",
    "    km_by_region_df.drop(index='Total', inplace=True)   \n",
    "    total = km_by_region_df.sum(axis=0)\n",
    "    total.name='Total'\n",
    "    km_by_region_df = km_by_region_df.append(total)\n",
    "\n",
    "else:\n",
    "    total = km_by_region_df.sum(axis=0)\n",
    "    total.name='Total'\n",
    "    km_by_region_df = km_by_region_df.append(total)\n",
    "\n",
    "km_by_region_df"
   ]
  },
  {
   "cell_type": "markdown",
   "id": "79570a43-7f2f-44cb-8a79-6029e80d0c65",
   "metadata": {},
   "source": [
    "## table for km by country"
   ]
  },
  {
   "cell_type": "code",
   "execution_count": 53,
   "id": "b42d6a47-d1a5-4a4b-acf8-7ec5f0fcc36e",
   "metadata": {},
   "outputs": [],
   "source": [
    "if 'Total' in km_by_country_df.index:\n",
    "    km_by_country_df.drop(index='Total', inplace=True)   \n",
    "    total = km_by_country_df.sum(axis=0)\n",
    "    total.name='Total'\n",
    "    km_by_country_df = km_by_country_df.append(total)\n",
    "\n",
    "else:\n",
    "    total = km_by_country_df.sum(axis=0)\n",
    "    total.name='Total'\n",
    "    km_by_country_df = km_by_country_df.append(total)\n",
    "\n",
    "km_by_country_df.to_excel('saved-tables/GGIT-km-by-country.xlsx')"
   ]
  },
  {
   "cell_type": "markdown",
   "id": "c41fda91",
   "metadata": {},
   "source": [
    "## table for stranded asset calculations"
   ]
  },
  {
   "cell_type": "code",
   "execution_count": 106,
   "id": "df30b04e",
   "metadata": {},
   "outputs": [
    {
     "data": {
      "text/html": [
       "<div>\n",
       "<style scoped>\n",
       "    .dataframe tbody tr th:only-of-type {\n",
       "        vertical-align: middle;\n",
       "    }\n",
       "\n",
       "    .dataframe tbody tr th {\n",
       "        vertical-align: top;\n",
       "    }\n",
       "\n",
       "    .dataframe thead th {\n",
       "        text-align: right;\n",
       "    }\n",
       "</style>\n",
       "<table border=\"1\" class=\"dataframe\">\n",
       "  <thead>\n",
       "    <tr style=\"text-align: right;\">\n",
       "      <th></th>\n",
       "      <th>Proposed</th>\n",
       "      <th>Construction</th>\n",
       "      <th>Proposed+Construction</th>\n",
       "      <th>Shelved</th>\n",
       "      <th>Cancelled</th>\n",
       "      <th>Operating</th>\n",
       "      <th>Idle</th>\n",
       "      <th>Mothballed</th>\n",
       "      <th>Retired</th>\n",
       "    </tr>\n",
       "  </thead>\n",
       "  <tbody>\n",
       "    <tr>\n",
       "      <th>East Asia</th>\n",
       "      <td>54.9</td>\n",
       "      <td>44.6</td>\n",
       "      <td>99.5</td>\n",
       "      <td>1.8</td>\n",
       "      <td>1.8</td>\n",
       "      <td>156.6</td>\n",
       "      <td>0.0</td>\n",
       "      <td>0.0</td>\n",
       "      <td>0.1</td>\n",
       "    </tr>\n",
       "    <tr>\n",
       "      <th>Sub-Saharan Africa</th>\n",
       "      <td>54.2</td>\n",
       "      <td>21.3</td>\n",
       "      <td>75.5</td>\n",
       "      <td>6.3</td>\n",
       "      <td>1.1</td>\n",
       "      <td>52.3</td>\n",
       "      <td>0.0</td>\n",
       "      <td>0.0</td>\n",
       "      <td>0.0</td>\n",
       "    </tr>\n",
       "    <tr>\n",
       "      <th>North America</th>\n",
       "      <td>48.9</td>\n",
       "      <td>20.0</td>\n",
       "      <td>68.9</td>\n",
       "      <td>53.6</td>\n",
       "      <td>63.8</td>\n",
       "      <td>2,147.7</td>\n",
       "      <td>2.6</td>\n",
       "      <td>0.0</td>\n",
       "      <td>0.0</td>\n",
       "    </tr>\n",
       "    <tr>\n",
       "      <th>Eurasia</th>\n",
       "      <td>45.3</td>\n",
       "      <td>18.3</td>\n",
       "      <td>63.6</td>\n",
       "      <td>9.9</td>\n",
       "      <td>25.8</td>\n",
       "      <td>544.0</td>\n",
       "      <td>0.0</td>\n",
       "      <td>0.7</td>\n",
       "      <td>9.9</td>\n",
       "    </tr>\n",
       "    <tr>\n",
       "      <th>Europe</th>\n",
       "      <td>44.2</td>\n",
       "      <td>15.8</td>\n",
       "      <td>60.0</td>\n",
       "      <td>3.7</td>\n",
       "      <td>47.1</td>\n",
       "      <td>348.4</td>\n",
       "      <td>0.0</td>\n",
       "      <td>0.0</td>\n",
       "      <td>3.2</td>\n",
       "    </tr>\n",
       "    <tr>\n",
       "      <th>Latin America and the Caribbean</th>\n",
       "      <td>31.8</td>\n",
       "      <td>1.5</td>\n",
       "      <td>33.3</td>\n",
       "      <td>9.7</td>\n",
       "      <td>62.0</td>\n",
       "      <td>121.5</td>\n",
       "      <td>0.0</td>\n",
       "      <td>0.6</td>\n",
       "      <td>0.0</td>\n",
       "    </tr>\n",
       "    <tr>\n",
       "      <th>Middle East and North Africa</th>\n",
       "      <td>12.9</td>\n",
       "      <td>12.8</td>\n",
       "      <td>25.7</td>\n",
       "      <td>18.4</td>\n",
       "      <td>9.5</td>\n",
       "      <td>85.4</td>\n",
       "      <td>3.1</td>\n",
       "      <td>0.0</td>\n",
       "      <td>0.1</td>\n",
       "    </tr>\n",
       "    <tr>\n",
       "      <th>South Asia</th>\n",
       "      <td>4.7</td>\n",
       "      <td>20.5</td>\n",
       "      <td>25.2</td>\n",
       "      <td>6.9</td>\n",
       "      <td>7.1</td>\n",
       "      <td>23.6</td>\n",
       "      <td>0.0</td>\n",
       "      <td>0.0</td>\n",
       "      <td>0.0</td>\n",
       "    </tr>\n",
       "    <tr>\n",
       "      <th>SE Asia</th>\n",
       "      <td>15.2</td>\n",
       "      <td>2.4</td>\n",
       "      <td>17.6</td>\n",
       "      <td>5.6</td>\n",
       "      <td>6.8</td>\n",
       "      <td>33.8</td>\n",
       "      <td>0.0</td>\n",
       "      <td>0.0</td>\n",
       "      <td>0.0</td>\n",
       "    </tr>\n",
       "    <tr>\n",
       "      <th>Australia and New Zealand</th>\n",
       "      <td>15.7</td>\n",
       "      <td>0.7</td>\n",
       "      <td>16.5</td>\n",
       "      <td>0.9</td>\n",
       "      <td>7.9</td>\n",
       "      <td>39.4</td>\n",
       "      <td>0.0</td>\n",
       "      <td>0.0</td>\n",
       "      <td>0.0</td>\n",
       "    </tr>\n",
       "    <tr>\n",
       "      <th>Total</th>\n",
       "      <td>327.8</td>\n",
       "      <td>158.0</td>\n",
       "      <td>485.8</td>\n",
       "      <td>116.7</td>\n",
       "      <td>232.8</td>\n",
       "      <td>3,552.7</td>\n",
       "      <td>5.7</td>\n",
       "      <td>1.4</td>\n",
       "      <td>13.3</td>\n",
       "    </tr>\n",
       "  </tbody>\n",
       "</table>\n",
       "</div>"
      ],
      "text/plain": [
       "                                 Proposed  Construction  \\\n",
       "East Asia                            54.9          44.6   \n",
       "Sub-Saharan Africa                   54.2          21.3   \n",
       "North America                        48.9          20.0   \n",
       "Eurasia                              45.3          18.3   \n",
       "Europe                               44.2          15.8   \n",
       "Latin America and the Caribbean      31.8           1.5   \n",
       "Middle East and North Africa         12.9          12.8   \n",
       "South Asia                            4.7          20.5   \n",
       "SE Asia                              15.2           2.4   \n",
       "Australia and New Zealand            15.7           0.7   \n",
       "Total                               327.8         158.0   \n",
       "\n",
       "                                 Proposed+Construction  Shelved  Cancelled  \\\n",
       "East Asia                                         99.5      1.8        1.8   \n",
       "Sub-Saharan Africa                                75.5      6.3        1.1   \n",
       "North America                                     68.9     53.6       63.8   \n",
       "Eurasia                                           63.6      9.9       25.8   \n",
       "Europe                                            60.0      3.7       47.1   \n",
       "Latin America and the Caribbean                   33.3      9.7       62.0   \n",
       "Middle East and North Africa                      25.7     18.4        9.5   \n",
       "South Asia                                        25.2      6.9        7.1   \n",
       "SE Asia                                           17.6      5.6        6.8   \n",
       "Australia and New Zealand                         16.5      0.9        7.9   \n",
       "Total                                            485.8    116.7      232.8   \n",
       "\n",
       "                                 Operating  Idle  Mothballed  Retired  \n",
       "East Asia                            156.6   0.0         0.0      0.1  \n",
       "Sub-Saharan Africa                    52.3   0.0         0.0      0.0  \n",
       "North America                      2,147.7   2.6         0.0      0.0  \n",
       "Eurasia                              544.0   0.0         0.7      9.9  \n",
       "Europe                               348.4   0.0         0.0      3.2  \n",
       "Latin America and the Caribbean      121.5   0.0         0.6      0.0  \n",
       "Middle East and North Africa          85.4   3.1         0.0      0.1  \n",
       "South Asia                            23.6   0.0         0.0      0.0  \n",
       "SE Asia                               33.8   0.0         0.0      0.0  \n",
       "Australia and New Zealand             39.4   0.0         0.0      0.0  \n",
       "Total                              3,552.7   5.7         1.4     13.3  "
      ]
     },
     "execution_count": 106,
     "metadata": {},
     "output_type": "execute_result"
    }
   ],
   "source": [
    "pandas.options.display.float_format = '{:,.1f}'.format\n",
    "#km_by_region_df.sort_index(inplace=True)\n",
    "#indices_without_total = list(km_by_region_df.index)\n",
    "#if 'Total' in indices_without_total:\n",
    "#    indices_without_total.remove('Total')\n",
    "\n",
    "capex_estimates_df = km_by_region_df.loc[region_list].multiply(pipes_gas_costs_region_df['CostUSDPerKm'].values, axis=0) / 1e9\n",
    "\n",
    "capex_estimates_df.sort_values('Proposed+Construction', ascending=False, inplace=True)\n",
    "\n",
    "total = capex_estimates_df.sum(axis=0)\n",
    "total.name='Total'\n",
    "capex_estimates_df = capex_estimates_df.append(total)\n",
    "\n",
    "capex_estimates_df"
   ]
  },
  {
   "cell_type": "markdown",
   "id": "a67ada29-6ccc-49b9-8ab1-6fdf3d6a116f",
   "metadata": {},
   "source": [
    "## print out country-level stranded assets"
   ]
  },
  {
   "cell_type": "code",
   "execution_count": 107,
   "id": "a479fde0-43ec-4cde-8bed-16754cc6466b",
   "metadata": {},
   "outputs": [
    {
     "name": "stdout",
     "output_type": "stream",
     "text": [
      "China\n",
      "56120.06  km in development\n",
      "CostUSDPerKm      1,588,286.4\n",
      "NumberOfCosts            58.0\n",
      "NumberOfLengths          58.0\n",
      "Name: China, dtype: float64\n",
      "Proposed                 47.3\n",
      "Construction             41.8\n",
      "Proposed+Construction    89.1\n",
      "Shelved                   1.6\n",
      "Cancelled                 0.9\n",
      "Operating               138.8\n",
      "Idle                      0.0\n",
      "Mothballed                0.0\n",
      "Retired                   0.0\n",
      "Name: China, dtype: float64\n",
      "\n",
      "India\n",
      "18389.489999999998  km in development\n",
      "CostUSDPerKm      799,179.6\n",
      "NumberOfCosts          11.0\n",
      "NumberOfLengths        11.0\n",
      "Name: India, dtype: float64\n",
      "Proposed                 1.8\n",
      "Construction            12.9\n",
      "Proposed+Construction   14.7\n",
      "Shelved                  2.9\n",
      "Cancelled                3.7\n",
      "Operating               13.3\n",
      "Idle                     0.0\n",
      "Mothballed               0.0\n",
      "Retired                  0.0\n",
      "Name: India, dtype: float64\n",
      "\n",
      "USA\n",
      "9294.6  km in development\n",
      "CostUSDPerKm      5,165,922.1\n",
      "NumberOfCosts           110.0\n",
      "NumberOfLengths         110.0\n",
      "Name: USA, dtype: float64\n",
      "Proposed                   37.2\n",
      "Construction               10.8\n",
      "Proposed+Construction      48.0\n",
      "Shelved                    36.7\n",
      "Cancelled                  31.7\n",
      "Operating               1,756.9\n",
      "Idle                        0.0\n",
      "Mothballed                  0.0\n",
      "Retired                     0.0\n",
      "Name: USA, dtype: float64\n",
      "\n",
      "Russia\n",
      "13266.76  km in development\n",
      "CostUSDPerKm      4,205,622.1\n",
      "NumberOfCosts            12.0\n",
      "NumberOfLengths          12.0\n",
      "Name: Russia, dtype: float64\n",
      "Proposed                 40.8\n",
      "Construction             15.0\n",
      "Proposed+Construction    55.8\n",
      "Shelved                  10.8\n",
      "Cancelled                19.6\n",
      "Operating               474.6\n",
      "Idle                      0.0\n",
      "Mothballed                0.0\n",
      "Retired                  10.7\n",
      "Name: Russia, dtype: float64\n",
      "\n",
      "Australia\n",
      "12798.11  km in development\n",
      "CostUSDPerKm      1,271,295.5\n",
      "NumberOfCosts            11.0\n",
      "NumberOfLengths          11.0\n",
      "Name: Australia, dtype: float64\n",
      "Proposed                15.5\n",
      "Construction             0.7\n",
      "Proposed+Construction   16.3\n",
      "Shelved                  0.9\n",
      "Cancelled                7.9\n",
      "Operating               36.2\n",
      "Idle                     0.0\n",
      "Mothballed               0.0\n",
      "Retired                  0.0\n",
      "Name: Australia, dtype: float64\n",
      "\n",
      "Brazil\n",
      "8021.0  km in development\n",
      "CostUSDPerKm      2,451,456.2\n",
      "NumberOfCosts            22.0\n",
      "NumberOfLengths          22.0\n",
      "Name: Brazil, dtype: float64\n",
      "Proposed                18.8\n",
      "Construction             0.9\n",
      "Proposed+Construction   19.7\n",
      "Shelved                  0.4\n",
      "Cancelled               43.8\n",
      "Operating               23.0\n",
      "Idle                     0.0\n",
      "Mothballed               0.0\n",
      "Retired                  0.0\n",
      "Name: Brazil, dtype: float64\n",
      "\n"
     ]
    }
   ],
   "source": [
    "pandas.options.display.float_format = '{:,.1f}'.format\n",
    "\n",
    "these_countries = ['China','India','USA','Russia','Australia','Brazil']\n",
    "\n",
    "for cty in these_countries:\n",
    "    print(cty)\n",
    "    print(km_by_country_df.loc[cty]['Proposed+Construction'], ' km in development')\n",
    "    print(pipes_gas_costs_country_df.loc[cty])\n",
    "    print(pipes_gas_costs_country_df.loc[cty]['CostUSDPerKm']*km_by_country_df.loc[cty]/1e9)\n",
    "    print()"
   ]
  },
  {
   "cell_type": "markdown",
   "id": "63436c0a-add3-409e-968f-5686b16f1cee",
   "metadata": {},
   "source": [
    "## country-level table for stranded asset calculations"
   ]
  },
  {
   "cell_type": "code",
   "execution_count": 108,
   "id": "50022356-a2f0-4391-981a-88cb55e37f92",
   "metadata": {},
   "outputs": [
    {
     "data": {
      "text/html": [
       "<div>\n",
       "<style scoped>\n",
       "    .dataframe tbody tr th:only-of-type {\n",
       "        vertical-align: middle;\n",
       "    }\n",
       "\n",
       "    .dataframe tbody tr th {\n",
       "        vertical-align: top;\n",
       "    }\n",
       "\n",
       "    .dataframe thead th {\n",
       "        text-align: right;\n",
       "    }\n",
       "</style>\n",
       "<table border=\"1\" class=\"dataframe\">\n",
       "  <thead>\n",
       "    <tr style=\"text-align: right;\">\n",
       "      <th></th>\n",
       "      <th>Proposed</th>\n",
       "      <th>Construction</th>\n",
       "      <th>Proposed+Construction</th>\n",
       "      <th>Shelved</th>\n",
       "      <th>Cancelled</th>\n",
       "      <th>Operating</th>\n",
       "      <th>Idle</th>\n",
       "      <th>Mothballed</th>\n",
       "      <th>Retired</th>\n",
       "    </tr>\n",
       "  </thead>\n",
       "  <tbody>\n",
       "    <tr>\n",
       "      <th>East Asia</th>\n",
       "      <td>54.9</td>\n",
       "      <td>44.6</td>\n",
       "      <td>99.5</td>\n",
       "      <td>1.8</td>\n",
       "      <td>1.8</td>\n",
       "      <td>156.6</td>\n",
       "      <td>0.0</td>\n",
       "      <td>0.0</td>\n",
       "      <td>0.1</td>\n",
       "    </tr>\n",
       "    <tr>\n",
       "      <th>Sub-Saharan Africa</th>\n",
       "      <td>54.2</td>\n",
       "      <td>21.3</td>\n",
       "      <td>75.5</td>\n",
       "      <td>6.3</td>\n",
       "      <td>1.1</td>\n",
       "      <td>52.3</td>\n",
       "      <td>0.0</td>\n",
       "      <td>0.0</td>\n",
       "      <td>0.0</td>\n",
       "    </tr>\n",
       "    <tr>\n",
       "      <th>North America</th>\n",
       "      <td>48.9</td>\n",
       "      <td>20.0</td>\n",
       "      <td>68.9</td>\n",
       "      <td>53.6</td>\n",
       "      <td>63.8</td>\n",
       "      <td>2,147.7</td>\n",
       "      <td>2.6</td>\n",
       "      <td>0.0</td>\n",
       "      <td>0.0</td>\n",
       "    </tr>\n",
       "    <tr>\n",
       "      <th>Eurasia</th>\n",
       "      <td>45.3</td>\n",
       "      <td>18.3</td>\n",
       "      <td>63.6</td>\n",
       "      <td>9.9</td>\n",
       "      <td>25.8</td>\n",
       "      <td>544.0</td>\n",
       "      <td>0.0</td>\n",
       "      <td>0.7</td>\n",
       "      <td>9.9</td>\n",
       "    </tr>\n",
       "    <tr>\n",
       "      <th>Europe</th>\n",
       "      <td>44.2</td>\n",
       "      <td>15.8</td>\n",
       "      <td>60.0</td>\n",
       "      <td>3.7</td>\n",
       "      <td>47.1</td>\n",
       "      <td>348.4</td>\n",
       "      <td>0.0</td>\n",
       "      <td>0.0</td>\n",
       "      <td>3.2</td>\n",
       "    </tr>\n",
       "    <tr>\n",
       "      <th>Latin America and the Caribbean</th>\n",
       "      <td>31.8</td>\n",
       "      <td>1.5</td>\n",
       "      <td>33.3</td>\n",
       "      <td>9.7</td>\n",
       "      <td>62.0</td>\n",
       "      <td>121.5</td>\n",
       "      <td>0.0</td>\n",
       "      <td>0.6</td>\n",
       "      <td>0.0</td>\n",
       "    </tr>\n",
       "    <tr>\n",
       "      <th>Middle East and North Africa</th>\n",
       "      <td>12.9</td>\n",
       "      <td>12.8</td>\n",
       "      <td>25.7</td>\n",
       "      <td>18.4</td>\n",
       "      <td>9.5</td>\n",
       "      <td>85.4</td>\n",
       "      <td>3.1</td>\n",
       "      <td>0.0</td>\n",
       "      <td>0.1</td>\n",
       "    </tr>\n",
       "    <tr>\n",
       "      <th>South Asia</th>\n",
       "      <td>4.7</td>\n",
       "      <td>20.5</td>\n",
       "      <td>25.2</td>\n",
       "      <td>6.9</td>\n",
       "      <td>7.1</td>\n",
       "      <td>23.6</td>\n",
       "      <td>0.0</td>\n",
       "      <td>0.0</td>\n",
       "      <td>0.0</td>\n",
       "    </tr>\n",
       "    <tr>\n",
       "      <th>SE Asia</th>\n",
       "      <td>15.2</td>\n",
       "      <td>2.4</td>\n",
       "      <td>17.6</td>\n",
       "      <td>5.6</td>\n",
       "      <td>6.8</td>\n",
       "      <td>33.8</td>\n",
       "      <td>0.0</td>\n",
       "      <td>0.0</td>\n",
       "      <td>0.0</td>\n",
       "    </tr>\n",
       "    <tr>\n",
       "      <th>Australia and New Zealand</th>\n",
       "      <td>15.7</td>\n",
       "      <td>0.7</td>\n",
       "      <td>16.5</td>\n",
       "      <td>0.9</td>\n",
       "      <td>7.9</td>\n",
       "      <td>39.4</td>\n",
       "      <td>0.0</td>\n",
       "      <td>0.0</td>\n",
       "      <td>0.0</td>\n",
       "    </tr>\n",
       "    <tr>\n",
       "      <th>Total</th>\n",
       "      <td>327.8</td>\n",
       "      <td>158.0</td>\n",
       "      <td>485.8</td>\n",
       "      <td>116.7</td>\n",
       "      <td>232.8</td>\n",
       "      <td>3,552.7</td>\n",
       "      <td>5.7</td>\n",
       "      <td>1.4</td>\n",
       "      <td>13.3</td>\n",
       "    </tr>\n",
       "  </tbody>\n",
       "</table>\n",
       "</div>"
      ],
      "text/plain": [
       "                                 Proposed  Construction  \\\n",
       "East Asia                            54.9          44.6   \n",
       "Sub-Saharan Africa                   54.2          21.3   \n",
       "North America                        48.9          20.0   \n",
       "Eurasia                              45.3          18.3   \n",
       "Europe                               44.2          15.8   \n",
       "Latin America and the Caribbean      31.8           1.5   \n",
       "Middle East and North Africa         12.9          12.8   \n",
       "South Asia                            4.7          20.5   \n",
       "SE Asia                              15.2           2.4   \n",
       "Australia and New Zealand            15.7           0.7   \n",
       "Total                               327.8         158.0   \n",
       "\n",
       "                                 Proposed+Construction  Shelved  Cancelled  \\\n",
       "East Asia                                         99.5      1.8        1.8   \n",
       "Sub-Saharan Africa                                75.5      6.3        1.1   \n",
       "North America                                     68.9     53.6       63.8   \n",
       "Eurasia                                           63.6      9.9       25.8   \n",
       "Europe                                            60.0      3.7       47.1   \n",
       "Latin America and the Caribbean                   33.3      9.7       62.0   \n",
       "Middle East and North Africa                      25.7     18.4        9.5   \n",
       "South Asia                                        25.2      6.9        7.1   \n",
       "SE Asia                                           17.6      5.6        6.8   \n",
       "Australia and New Zealand                         16.5      0.9        7.9   \n",
       "Total                                            485.8    116.7      232.8   \n",
       "\n",
       "                                 Operating  Idle  Mothballed  Retired  \n",
       "East Asia                            156.6   0.0         0.0      0.1  \n",
       "Sub-Saharan Africa                    52.3   0.0         0.0      0.0  \n",
       "North America                      2,147.7   2.6         0.0      0.0  \n",
       "Eurasia                              544.0   0.0         0.7      9.9  \n",
       "Europe                               348.4   0.0         0.0      3.2  \n",
       "Latin America and the Caribbean      121.5   0.0         0.6      0.0  \n",
       "Middle East and North Africa          85.4   3.1         0.0      0.1  \n",
       "South Asia                            23.6   0.0         0.0      0.0  \n",
       "SE Asia                               33.8   0.0         0.0      0.0  \n",
       "Australia and New Zealand             39.4   0.0         0.0      0.0  \n",
       "Total                              3,552.7   5.7         1.4     13.3  "
      ]
     },
     "execution_count": 108,
     "metadata": {},
     "output_type": "execute_result"
    }
   ],
   "source": [
    "pandas.options.display.float_format = '{:,.1f}'.format\n",
    "#km_by_region_df.sort_index(inplace=True)\n",
    "#indices_without_total = list(km_by_region_df.index)\n",
    "#if 'Total' in indices_without_total:\n",
    "#    indices_without_total.remove('Total')\n",
    "\n",
    "capex_estimates_country_df = km_by_region_df.loc[region_list].multiply(pipes_gas_costs_region_df['CostUSDPerKm'].values, axis=0) / 1e9\n",
    "\n",
    "if 'Total' in capex_estimates_df.index:\n",
    "    capex_estimates_df.drop(index='Total', inplace=True)   \n",
    "    total = capex_estimates_df.sum(axis=0)\n",
    "    total.name='Total'\n",
    "    capex_estimates_df = capex_estimates_df.append(total)\n",
    "\n",
    "else:\n",
    "    total = capex_estimates_df.sum(axis=0)\n",
    "    total.name='Total'\n",
    "    capex_estimates_df = capex_estimates_df.append(total)\n",
    "\n",
    "capex_estimates_df"
   ]
  },
  {
   "cell_type": "markdown",
   "id": "a2bac5e7-471e-48a2-8985-0225d1e26b3f",
   "metadata": {},
   "source": [
    "## pie chart for stranded assets"
   ]
  },
  {
   "cell_type": "code",
   "execution_count": 159,
   "id": "d3e8f742-a160-40e3-ac76-7fa768c72606",
   "metadata": {},
   "outputs": [
    {
     "data": {
      "text/html": [
       "<div>\n",
       "<style scoped>\n",
       "    .dataframe tbody tr th:only-of-type {\n",
       "        vertical-align: middle;\n",
       "    }\n",
       "\n",
       "    .dataframe tbody tr th {\n",
       "        vertical-align: top;\n",
       "    }\n",
       "\n",
       "    .dataframe thead th {\n",
       "        text-align: right;\n",
       "    }\n",
       "</style>\n",
       "<table border=\"1\" class=\"dataframe\">\n",
       "  <thead>\n",
       "    <tr style=\"text-align: right;\">\n",
       "      <th></th>\n",
       "      <th>Proposed</th>\n",
       "      <th>Construction</th>\n",
       "      <th>Proposed+Construction</th>\n",
       "      <th>Shelved</th>\n",
       "      <th>Cancelled</th>\n",
       "      <th>Operating</th>\n",
       "      <th>Idle</th>\n",
       "      <th>Mothballed</th>\n",
       "      <th>Retired</th>\n",
       "    </tr>\n",
       "  </thead>\n",
       "  <tbody>\n",
       "    <tr>\n",
       "      <th>East Asia</th>\n",
       "      <td>54.9</td>\n",
       "      <td>44.6</td>\n",
       "      <td>99.5</td>\n",
       "      <td>1.8</td>\n",
       "      <td>1.8</td>\n",
       "      <td>156.6</td>\n",
       "      <td>0.0</td>\n",
       "      <td>0.0</td>\n",
       "      <td>0.1</td>\n",
       "    </tr>\n",
       "    <tr>\n",
       "      <th>Sub-Saharan Africa</th>\n",
       "      <td>54.2</td>\n",
       "      <td>21.3</td>\n",
       "      <td>75.5</td>\n",
       "      <td>6.3</td>\n",
       "      <td>1.1</td>\n",
       "      <td>52.3</td>\n",
       "      <td>0.0</td>\n",
       "      <td>0.0</td>\n",
       "      <td>0.0</td>\n",
       "    </tr>\n",
       "    <tr>\n",
       "      <th>North America</th>\n",
       "      <td>48.9</td>\n",
       "      <td>20.0</td>\n",
       "      <td>68.9</td>\n",
       "      <td>53.6</td>\n",
       "      <td>63.8</td>\n",
       "      <td>2,147.7</td>\n",
       "      <td>2.6</td>\n",
       "      <td>0.0</td>\n",
       "      <td>0.0</td>\n",
       "    </tr>\n",
       "    <tr>\n",
       "      <th>Eurasia</th>\n",
       "      <td>45.3</td>\n",
       "      <td>18.3</td>\n",
       "      <td>63.6</td>\n",
       "      <td>9.9</td>\n",
       "      <td>25.8</td>\n",
       "      <td>544.0</td>\n",
       "      <td>0.0</td>\n",
       "      <td>0.7</td>\n",
       "      <td>9.9</td>\n",
       "    </tr>\n",
       "    <tr>\n",
       "      <th>Europe</th>\n",
       "      <td>44.2</td>\n",
       "      <td>15.8</td>\n",
       "      <td>60.0</td>\n",
       "      <td>3.7</td>\n",
       "      <td>47.1</td>\n",
       "      <td>348.4</td>\n",
       "      <td>0.0</td>\n",
       "      <td>0.0</td>\n",
       "      <td>3.2</td>\n",
       "    </tr>\n",
       "    <tr>\n",
       "      <th>Latin America and the Caribbean</th>\n",
       "      <td>31.8</td>\n",
       "      <td>1.5</td>\n",
       "      <td>33.3</td>\n",
       "      <td>9.7</td>\n",
       "      <td>62.0</td>\n",
       "      <td>121.5</td>\n",
       "      <td>0.0</td>\n",
       "      <td>0.6</td>\n",
       "      <td>0.0</td>\n",
       "    </tr>\n",
       "    <tr>\n",
       "      <th>Middle East and North Africa</th>\n",
       "      <td>12.9</td>\n",
       "      <td>12.8</td>\n",
       "      <td>25.7</td>\n",
       "      <td>18.4</td>\n",
       "      <td>9.5</td>\n",
       "      <td>85.4</td>\n",
       "      <td>3.1</td>\n",
       "      <td>0.0</td>\n",
       "      <td>0.1</td>\n",
       "    </tr>\n",
       "    <tr>\n",
       "      <th>South Asia</th>\n",
       "      <td>4.7</td>\n",
       "      <td>20.5</td>\n",
       "      <td>25.2</td>\n",
       "      <td>6.9</td>\n",
       "      <td>7.1</td>\n",
       "      <td>23.6</td>\n",
       "      <td>0.0</td>\n",
       "      <td>0.0</td>\n",
       "      <td>0.0</td>\n",
       "    </tr>\n",
       "    <tr>\n",
       "      <th>SE Asia</th>\n",
       "      <td>15.2</td>\n",
       "      <td>2.4</td>\n",
       "      <td>17.6</td>\n",
       "      <td>5.6</td>\n",
       "      <td>6.8</td>\n",
       "      <td>33.8</td>\n",
       "      <td>0.0</td>\n",
       "      <td>0.0</td>\n",
       "      <td>0.0</td>\n",
       "    </tr>\n",
       "    <tr>\n",
       "      <th>Australia and New Zealand</th>\n",
       "      <td>15.7</td>\n",
       "      <td>0.7</td>\n",
       "      <td>16.5</td>\n",
       "      <td>0.9</td>\n",
       "      <td>7.9</td>\n",
       "      <td>39.4</td>\n",
       "      <td>0.0</td>\n",
       "      <td>0.0</td>\n",
       "      <td>0.0</td>\n",
       "    </tr>\n",
       "  </tbody>\n",
       "</table>\n",
       "</div>"
      ],
      "text/plain": [
       "                                 Proposed  Construction  \\\n",
       "East Asia                            54.9          44.6   \n",
       "Sub-Saharan Africa                   54.2          21.3   \n",
       "North America                        48.9          20.0   \n",
       "Eurasia                              45.3          18.3   \n",
       "Europe                               44.2          15.8   \n",
       "Latin America and the Caribbean      31.8           1.5   \n",
       "Middle East and North Africa         12.9          12.8   \n",
       "South Asia                            4.7          20.5   \n",
       "SE Asia                              15.2           2.4   \n",
       "Australia and New Zealand            15.7           0.7   \n",
       "\n",
       "                                 Proposed+Construction  Shelved  Cancelled  \\\n",
       "East Asia                                         99.5      1.8        1.8   \n",
       "Sub-Saharan Africa                                75.5      6.3        1.1   \n",
       "North America                                     68.9     53.6       63.8   \n",
       "Eurasia                                           63.6      9.9       25.8   \n",
       "Europe                                            60.0      3.7       47.1   \n",
       "Latin America and the Caribbean                   33.3      9.7       62.0   \n",
       "Middle East and North Africa                      25.7     18.4        9.5   \n",
       "South Asia                                        25.2      6.9        7.1   \n",
       "SE Asia                                           17.6      5.6        6.8   \n",
       "Australia and New Zealand                         16.5      0.9        7.9   \n",
       "\n",
       "                                 Operating  Idle  Mothballed  Retired  \n",
       "East Asia                            156.6   0.0         0.0      0.1  \n",
       "Sub-Saharan Africa                    52.3   0.0         0.0      0.0  \n",
       "North America                      2,147.7   2.6         0.0      0.0  \n",
       "Eurasia                              544.0   0.0         0.7      9.9  \n",
       "Europe                               348.4   0.0         0.0      3.2  \n",
       "Latin America and the Caribbean      121.5   0.0         0.6      0.0  \n",
       "Middle East and North Africa          85.4   3.1         0.0      0.1  \n",
       "South Asia                            23.6   0.0         0.0      0.0  \n",
       "SE Asia                               33.8   0.0         0.0      0.0  \n",
       "Australia and New Zealand             39.4   0.0         0.0      0.0  "
      ]
     },
     "execution_count": 159,
     "metadata": {},
     "output_type": "execute_result"
    }
   ],
   "source": [
    "capex_estimates_df.sort_values('Proposed+Construction', ascending=False)[1:]"
   ]
  },
  {
   "cell_type": "code",
   "execution_count": 125,
   "id": "158cc00b-f49a-4436-8190-ca743d67a9df",
   "metadata": {},
   "outputs": [
    {
     "data": {
      "image/png": "[encoded data removed]",
      "text/plain": [
       "<Figure size 360x360 with 1 Axes>"
      ]
     },
     "metadata": {},
     "output_type": "display_data"
    }
   ],
   "source": [
    "font_size=7\n",
    "\n",
    "fig = mp.figure(figsize=(5,5))\n",
    "ax = fig.add_subplot(111)\n",
    "cmap = mp.get_cmap('Reds')\n",
    "\n",
    "pie_vals = capex_estimates_df.sort_values('Proposed+Construction', ascending=False)['Proposed+Construction'][1:]\n",
    "pie_labels = capex_estimates_df.sort_values('Proposed+Construction', ascending=False).index[1:]\n",
    "pie_labels_dollars = capex_estimates_df.sort_values('Proposed+Construction', ascending=False)['Proposed+Construction'].apply(lambda x: f'\\nUS${x:.1f} billion')[1:]\n",
    "\n",
    "pie_labels = [i+j for i,j in zip(pie_labels, pie_labels_dollars)]\n",
    "\n",
    "ax.pie(pie_vals, \n",
    "       labels=pie_labels,\n",
    "       colors=cmap(numpy.linspace(0,1,pie_vals.size))[::-1],\n",
    "       wedgeprops=dict(edgecolor='1'),\n",
    "       textprops={'fontsize':font_size})\n",
    "\n",
    "ax.tick_params(labelsize=font_size)\n",
    "\n",
    "fig.tight_layout()\n",
    "\n",
    "#mp.savefig('saved-figures/Gas-Pipelines-Report-2022_pie-graph.pdf', bbox_inches='tight', transparent=True)\n",
    "\n",
    "mp.savefig('saved-figures/Gas-Pipelines-Report-2022_pie-graph.png', \n",
    "           bbox_inches='tight', \n",
    "           transparent=True,\n",
    "           dpi=600)\n",
    "\n",
    "mp.savefig('saved-figures/Gas-Pipelines-Report-2022_pie-graph.pdf', \n",
    "           bbox_inches='tight', \n",
    "           transparent=True)\n"
   ]
  },
  {
   "cell_type": "code",
   "execution_count": 161,
   "id": "5c295ea4-3ff5-42f3-bf40-4ed4ab2c50fd",
   "metadata": {},
   "outputs": [
    {
     "data": {
      "text/plain": [
       "East Asia                          US$99.54 billion\n",
       "Sub-Saharan Africa                 US$75.54 billion\n",
       "North America                      US$68.87 billion\n",
       "Eurasia                            US$63.64 billion\n",
       "Europe                             US$59.98 billion\n",
       "Latin America and the Caribbean    US$33.31 billion\n",
       "Middle East and North Africa       US$25.70 billion\n",
       "South Asia                         US$25.19 billion\n",
       "SE Asia                            US$17.56 billion\n",
       "Australia and New Zealand          US$16.46 billion\n",
       "Name: Proposed+Construction, dtype: object"
      ]
     },
     "execution_count": 161,
     "metadata": {},
     "output_type": "execute_result"
    }
   ],
   "source": [
    "capex_estimates_df.sort_values('Proposed+Construction', ascending=False)['Proposed+Construction'].apply(lambda x: f'US${x:.2f} billion')[1:]"
   ]
  },
  {
   "cell_type": "code",
   "execution_count": 162,
   "id": "793a8251-7565-4002-ab4d-3a28d9cca21c",
   "metadata": {},
   "outputs": [
    {
     "data": {
      "text/plain": [
       "East Asia                         99.5\n",
       "Sub-Saharan Africa                75.5\n",
       "North America                     68.9\n",
       "Eurasia                           63.6\n",
       "Europe                            60.0\n",
       "Latin America and the Caribbean   33.3\n",
       "Middle East and North Africa      25.7\n",
       "South Asia                        25.2\n",
       "SE Asia                           17.6\n",
       "Australia and New Zealand         16.5\n",
       "Name: Proposed+Construction, dtype: float64"
      ]
     },
     "execution_count": 162,
     "metadata": {},
     "output_type": "execute_result"
    }
   ],
   "source": [
    "capex_estimates_df.sort_values('Proposed+Construction', ascending=False)['Proposed+Construction'][1:]"
   ]
  },
  {
   "cell_type": "code",
   "execution_count": 163,
   "id": "569b655e-34ee-4c76-b605-08f536bdf1d2",
   "metadata": {},
   "outputs": [
    {
     "data": {
      "text/plain": [
       "Index(['East Asia', 'Sub-Saharan Africa', 'North America', 'Eurasia', 'Europe',\n",
       "       'Latin America and the Caribbean', 'Middle East and North Africa',\n",
       "       'South Asia', 'SE Asia', 'Australia and New Zealand'],\n",
       "      dtype='object')"
      ]
     },
     "execution_count": 163,
     "metadata": {},
     "output_type": "execute_result"
    }
   ],
   "source": [
    "capex_estimates_df.sort_values('Proposed+Construction', ascending=False).index[1:]"
   ]
  },
  {
   "cell_type": "markdown",
   "id": "f5661b98-75a1-42ca-819d-ee2fa8ea2b76",
   "metadata": {},
   "source": [
    "### amount already being constructed"
   ]
  },
  {
   "cell_type": "code",
   "execution_count": 164,
   "id": "741c91e9-dcdb-4332-beac-27f1cb8ca014",
   "metadata": {},
   "outputs": [
    {
     "data": {
      "text/plain": [
       "0.3666044857648383"
      ]
     },
     "execution_count": 164,
     "metadata": {},
     "output_type": "execute_result"
    }
   ],
   "source": [
    "#km\n",
    "km_by_country_total = km_by_country_df.sum(axis=0)\n",
    "km_by_country_total['Construction']/km_by_country_total['Proposed+Construction']"
   ]
  },
  {
   "cell_type": "code",
   "execution_count": 165,
   "id": "f358b56a-22ef-4323-824b-ecf9ef20202c",
   "metadata": {},
   "outputs": [
    {
     "data": {
      "text/plain": [
       "0.32517736715780604"
      ]
     },
     "execution_count": 165,
     "metadata": {},
     "output_type": "execute_result"
    }
   ],
   "source": [
    "total['Construction']/total['Proposed+Construction']"
   ]
  },
  {
   "cell_type": "markdown",
   "id": "1980f5ce",
   "metadata": {},
   "source": [
    "# numbers for report"
   ]
  },
  {
   "cell_type": "markdown",
   "id": "0ca10b06-27b4-49d0-aea2-4d3aa2801104",
   "metadata": {},
   "source": [
    "## km of pipeline with 2022, 2023 start years"
   ]
  },
  {
   "cell_type": "code",
   "execution_count": 166,
   "id": "41b7f22a-4a20-4a9f-a581-8cbabbe35d5b",
   "metadata": {},
   "outputs": [
    {
     "name": "stdout",
     "output_type": "stream",
     "text": [
      "36824.76000000001 10453.9\n",
      "7785.45 12241.850000000002\n"
     ]
    }
   ],
   "source": [
    "print(pipes_indev_startyear.loc['Construction',2022],\n",
    "      pipes_indev_startyear.loc['Construction',2023])\n",
    "\n",
    "print(pipes_indev_startyear.loc['Proposed',2022],\n",
    "      pipes_indev_startyear.loc['Proposed',2023])"
   ]
  },
  {
   "cell_type": "markdown",
   "id": "7e63a1db-0270-4177-ab3e-938d02509c20",
   "metadata": {},
   "source": [
    "## km of gas pipelines globally in development\n",
    "\n",
    "note this doesn't match up exactly with regional length calculations"
   ]
  },
  {
   "cell_type": "code",
   "execution_count": 167,
   "id": "75452ad0-615e-4b4d-89d5-4891d71902d2",
   "metadata": {},
   "outputs": [
    {
     "data": {
      "text/plain": [
       "194025.74000000005"
      ]
     },
     "execution_count": 167,
     "metadata": {},
     "output_type": "execute_result"
    }
   ],
   "source": [
    "pipes_df_calc = pipes_df_orig.copy()\n",
    "pipes_df_calc.replace('--',numpy.nan,inplace=True)\n",
    "pipes_df_calc[(pipes_df_calc['Status'].isin(['Proposed','Construction'])) &\n",
    "        (pipes_df_calc['Fuel']=='Gas')]['LengthMergedKm'].sum()"
   ]
  },
  {
   "cell_type": "code",
   "execution_count": 168,
   "id": "06e0be20-2354-41c1-9838-53e0fa458e9b",
   "metadata": {},
   "outputs": [],
   "source": [
    "regional_km_sums_df = pandas.DataFrame(index=region_list, columns=status_list)\n",
    "\n",
    "for status in status_list:\n",
    "    regional_km_sums_df[status] = pipes_df_calc[(pipes_df_calc['Fuel']=='Gas') &\n",
    "                                                (pipes_df_calc['Status']==status)].groupby('StartRegion')['LengthMergedKm'].sum()\n",
    "\n",
    "regional_km_sums_df['P+C'] = regional_km_sums_df[['Proposed','Construction']].sum(axis=1)\n",
    "total_row = regional_km_sums_df.sum(axis=0)\n",
    "total_row.name = 'Total'\n",
    "#regional_km_sums_df.append(total_row)"
   ]
  },
  {
   "cell_type": "markdown",
   "id": "db6f746e",
   "metadata": {},
   "source": [
    "## country shares analysis"
   ]
  },
  {
   "cell_type": "code",
   "execution_count": 169,
   "id": "636ea038",
   "metadata": {},
   "outputs": [
    {
     "data": {
      "text/plain": [
       "193365.90999999997"
      ]
     },
     "execution_count": 169,
     "metadata": {},
     "output_type": "execute_result"
    }
   ],
   "source": [
    "country_ratios_df[(country_ratios_df['Status'].isin(['Proposed','Construction'])) &\n",
    "               (country_ratios_df['Fuel']=='Gas')]['MergedKmByCountry'].sum()"
   ]
  },
  {
   "cell_type": "markdown",
   "id": "6280f21d-4f6c-43aa-923b-f50dc67babc2",
   "metadata": {},
   "source": [
    "### China's percent of total"
   ]
  },
  {
   "cell_type": "code",
   "execution_count": 170,
   "id": "2f0f6b5d",
   "metadata": {},
   "outputs": [
    {
     "data": {
      "text/plain": [
       "0.14511363455947326"
      ]
     },
     "execution_count": 170,
     "metadata": {},
     "output_type": "execute_result"
    }
   ],
   "source": [
    "km_by_country_df.loc['China']['Proposed+Construction']/km_by_country_df['Proposed+Construction'].sum(axis=0)"
   ]
  },
  {
   "cell_type": "code",
   "execution_count": 171,
   "id": "06253a3e-d11b-45fd-bfaa-2b21e681f4c3",
   "metadata": {},
   "outputs": [
    {
     "data": {
      "text/plain": [
       "0.3048366177885233"
      ]
     },
     "execution_count": 171,
     "metadata": {},
     "output_type": "execute_result"
    }
   ],
   "source": [
    "km_by_country_df[:6]['Proposed+Construction'].sum(axis=0)/km_by_country_df['Proposed+Construction'].sum(axis=0)"
   ]
  },
  {
   "cell_type": "code",
   "execution_count": 172,
   "id": "4814a993",
   "metadata": {},
   "outputs": [
    {
     "data": {
      "text/plain": [
       "0.41082409510549195"
      ]
     },
     "execution_count": 172,
     "metadata": {},
     "output_type": "execute_result"
    }
   ],
   "source": [
    "km_by_country_df[:20]['Proposed+Construction'].sum(axis=0)/km_by_country_df['Proposed+Construction'].sum(axis=0)"
   ]
  },
  {
   "cell_type": "markdown",
   "id": "c49e1d1f-3d0c-460a-a858-c2077a4d1a18",
   "metadata": {},
   "source": [
    "## number of delayed km from 2021 to 2022"
   ]
  },
  {
   "cell_type": "code",
   "execution_count": 173,
   "id": "10e50b4f-6186-450e-88ae-b019c6db7677",
   "metadata": {},
   "outputs": [
    {
     "data": {
      "text/plain": [
       "Status\n",
       "Construction   24,989.9\n",
       "Proposed        3,904.8\n",
       "Name: LengthMergedKm, dtype: object"
      ]
     },
     "execution_count": 173,
     "metadata": {},
     "output_type": "execute_result"
    }
   ],
   "source": [
    "pipes_delays_df = pipes_df_orig.copy()\n",
    "pipes_delays_df = pipes_delays_df[(pipes_delays_df['Fuel']=='Gas') &\n",
    "                                  (pipes_delays_df['Delayed']=='Yes') &\n",
    "                                   (pipes_delays_df['StartYearEarliest']==2022)]\n",
    "\n",
    "pipes_delays_df.groupby('Status')['LengthMergedKm'].sum()"
   ]
  },
  {
   "cell_type": "code",
   "execution_count": 174,
   "id": "255a1e69-e087-490d-9b42-5743a57be092",
   "metadata": {},
   "outputs": [
    {
     "data": {
      "text/plain": [
       "Status\n",
       "Construction   22,206.9\n",
       "Proposed        3,817.8\n",
       "Name: LengthMergedKm, dtype: object"
      ]
     },
     "execution_count": 174,
     "metadata": {},
     "output_type": "execute_result"
    }
   ],
   "source": [
    "pipes_delays_df = pipes_df_orig.copy()\n",
    "pipes_delays_df = pipes_delays_df[(pipes_delays_df['Fuel']=='Gas') &\n",
    "                                  (pipes_delays_df['Delayed']=='Yes') &\n",
    "                                   (pipes_delays_df['StartYearEarliest']==2022) &\n",
    "                                   (pipes_delays_df['DelayType']=='Presumed')]\n",
    "\n",
    "pipes_delays_df.groupby('Status')['LengthMergedKm'].sum()"
   ]
  },
  {
   "cell_type": "markdown",
   "id": "ae422012-5f50-4531-a553-151441874040",
   "metadata": {},
   "source": [
    "## num of projects in database with nonzero length"
   ]
  },
  {
   "cell_type": "code",
   "execution_count": 265,
   "id": "bf2fb3fe-9270-4804-818d-3536c8148227",
   "metadata": {},
   "outputs": [],
   "source": [
    "no_route_types = [#'Unavailable',\n",
    "                  'Capacity expansion only',\n",
    "                  'Bidirectionality upgrade only']#,\n",
    "                  #'Short route (< 100 km)',\n",
    "                  #'N/A']"
   ]
  },
  {
   "cell_type": "markdown",
   "id": "34bf6db3-f74c-410d-aeb1-d0e1cfc8405f",
   "metadata": {},
   "source": [
    "### isolate anything with a nonzero length in database"
   ]
  },
  {
   "cell_type": "code",
   "execution_count": 272,
   "id": "a2b18037-7481-42af-811b-cba39c706a33",
   "metadata": {},
   "outputs": [],
   "source": [
    "numprojects = pipes_df_orig.copy()\n",
    "numprojects = numprojects[~numprojects['Route'].isin(no_route_types)]\n",
    "numprojects = numprojects[(numprojects['Fuel']=='Gas') &\n",
    "                          (numprojects['Status'].isin(['Proposed','Construction']))]"
   ]
  },
  {
   "cell_type": "code",
   "execution_count": 273,
   "id": "9dec9b7b-d45d-4803-8853-4533db17803e",
   "metadata": {},
   "outputs": [
    {
     "name": "stdout",
     "output_type": "stream",
     "text": [
      "(511, 75)\n",
      "160.0\n"
     ]
    }
   ],
   "source": [
    "print(numprojects.shape)\n",
    "print(numprojects['LengthMergedKm'].median())"
   ]
  },
  {
   "cell_type": "code",
   "execution_count": 268,
   "id": "ecaab4ba-6b87-4197-85aa-c0372e83c005",
   "metadata": {},
   "outputs": [
    {
     "data": {
      "text/plain": [
       "StartYearEarliest  Status      \n",
       "2019               Proposed          450.0\n",
       "2022               Construction   36,824.8\n",
       "                   Proposed        7,785.4\n",
       "2023               Construction   10,453.9\n",
       "                   Proposed       12,241.9\n",
       "2024               Construction    3,326.0\n",
       "                   Proposed        3,698.2\n",
       "2025               Construction      759.0\n",
       "                   Proposed       11,781.9\n",
       "2026               Proposed          949.0\n",
       "2027               Proposed        2,270.0\n",
       "2028               Proposed        5,006.0\n",
       "2029               Proposed          962.0\n",
       "2030               Proposed            8.0\n",
       "2034               Proposed          255.0\n",
       "2035               Proposed          110.0\n",
       "2046               Proposed        5,660.0\n",
       "Name: LengthMergedKm, dtype: object"
      ]
     },
     "execution_count": 268,
     "metadata": {},
     "output_type": "execute_result"
    }
   ],
   "source": [
    "numprojects.groupby(['StartYearEarliest','Status'])['LengthMergedKm'].sum()"
   ]
  },
  {
   "cell_type": "markdown",
   "id": "53490752-66be-470e-b6d8-56116e7af40f",
   "metadata": {},
   "source": [
    "#### check that it's the right thing"
   ]
  },
  {
   "cell_type": "code",
   "execution_count": 269,
   "id": "19b4a93a-3379-4838-95c8-f54c57c28b86",
   "metadata": {},
   "outputs": [
    {
     "data": {
      "text/plain": [
       "194025.74000000005"
      ]
     },
     "execution_count": 269,
     "metadata": {},
     "output_type": "execute_result"
    }
   ],
   "source": [
    "numprojects['LengthMergedKm'].sum()"
   ]
  },
  {
   "cell_type": "markdown",
   "id": "99763e11-52c7-49c1-8d07-998f5b3df2ce",
   "metadata": {},
   "source": [
    "### calc capacity expansion only"
   ]
  },
  {
   "cell_type": "code",
   "execution_count": 270,
   "id": "11178549-4975-4c16-a4df-93b2cfa440da",
   "metadata": {},
   "outputs": [],
   "source": [
    "numprojects_capexp = pipes_df_orig.copy()\n",
    "numprojects_capexp = numprojects_capexp[numprojects_capexp['Route'].isin(no_route_types)]\n",
    "numprojects_capexp = numprojects_capexp[(numprojects_capexp['Fuel']=='Gas') &\n",
    "                          (numprojects_capexp['Status'].isin(['Proposed','Construction']))]"
   ]
  },
  {
   "cell_type": "code",
   "execution_count": 271,
   "id": "a1d2248e-9240-414e-a063-f038209786fc",
   "metadata": {},
   "outputs": [
    {
     "data": {
      "text/plain": [
       "(50, 75)"
      ]
     },
     "execution_count": 271,
     "metadata": {},
     "output_type": "execute_result"
    }
   ],
   "source": [
    "numprojects_capexp.shape"
   ]
  },
  {
   "cell_type": "code",
   "execution_count": 241,
   "id": "a739d72a-f5c6-43e8-a2b1-d6964fb09229",
   "metadata": {},
   "outputs": [
    {
     "data": {
      "text/plain": [
       "(-100.0, 2000.0)"
      ]
     },
     "execution_count": 241,
     "metadata": {},
     "output_type": "execute_result"
    },
    {
     "data": {
      "image/png": "[encoded data removed]",
      "text/plain": [
       "<Figure size 432x288 with 1 Axes>"
      ]
     },
     "metadata": {
      "needs_background": "light"
     },
     "output_type": "display_data"
    }
   ],
   "source": [
    "ax = numprojects['LengthMergedKm'].hist(bins=200)#mean()\n",
    "ax.set_xlim(-100,2000)"
   ]
  },
  {
   "cell_type": "markdown",
   "id": "4865afe0-89cf-40f4-b12f-637102bb50d1",
   "metadata": {},
   "source": [
    "## global km of pipeline by start year"
   ]
  },
  {
   "cell_type": "code",
   "execution_count": 242,
   "id": "00c9aaa5-b1d3-44ce-947e-f6b292fe08cf",
   "metadata": {},
   "outputs": [
    {
     "data": {
      "text/plain": [
       "StartYearEarliest\n",
       "1983   1,117.0\n",
       "1989     340.0\n",
       "1995     600.0\n",
       "1999      80.0\n",
       "2004   2,455.0\n",
       "2006     677.0\n",
       "2011     196.0\n",
       "2014     100.0\n",
       "2015     533.0\n",
       "2016     500.0\n",
       "2017     128.0\n",
       "2019     245.0\n",
       "2021     412.0\n",
       "Name: LengthMergedKm, dtype: object"
      ]
     },
     "execution_count": 242,
     "metadata": {},
     "output_type": "execute_result"
    }
   ],
   "source": [
    "pipes_started_sum"
   ]
  },
  {
   "cell_type": "code",
   "execution_count": 243,
   "id": "147e642e-036c-4c24-9beb-168b0e69147f",
   "metadata": {},
   "outputs": [],
   "source": [
    "#pipes_indev_startyear = pipes_df_orig.copy()\n",
    "#pipes_indev_startyear = pipes_indev_startyear[(pipes_indev_startyear['Status'].isin(['Proposed','Construction','Shelved'])) &\n",
    "#                                              (pipes_indev_startyear['Fuel']=='Gas')]\n",
    "#pipes_indev_startyear = pipes_indev_startyear.groupby(['Status','StartYearEarliest'])['LengthMergedKm'].sum()\n",
    "pipes_indev_startyear_df = pipes_indev_startyear.to_frame()"
   ]
  },
  {
   "cell_type": "code",
   "execution_count": 244,
   "id": "9caa1da6-f2a8-4dd8-be42-83089a72be97",
   "metadata": {},
   "outputs": [
    {
     "data": {
      "text/plain": [
       "LengthMergedKm   51,455.9\n",
       "dtype: float64"
      ]
     },
     "execution_count": 244,
     "metadata": {},
     "output_type": "execute_result"
    }
   ],
   "source": [
    "pipes_2023_2030_subset_df = pipes_indev_startyear_df.query('StartYearEarliest<2031 and StartYearEarliest>2022')\n",
    "#pipes_2023_2030_subset_df.query('Status==Construction or Status==Proposed')\n",
    "pipes_2023_2030_subset_df.groupby('Status').sum().loc[['Construction','Proposed']].sum()\n"
   ]
  },
  {
   "cell_type": "markdown",
   "id": "e4a7d280-2e8c-45f5-a60e-f8e3e71b55ed",
   "metadata": {},
   "source": [
    "### sum of anything 2023 onward that is in construction or proposed"
   ]
  },
  {
   "cell_type": "code",
   "execution_count": 245,
   "id": "2e91503f-d249-4517-bfd9-04c0d76181f7",
   "metadata": {},
   "outputs": [
    {
     "data": {
      "text/plain": [
       "LengthMergedKm   57,480.9\n",
       "dtype: object"
      ]
     },
     "execution_count": 245,
     "metadata": {},
     "output_type": "execute_result"
    }
   ],
   "source": [
    "#pipes_indev_startyear_df.query(\"Status=='Construction' or Status=='Proposed'\")\n",
    "pipes_indev_startyear_df.query(\"(Status=='Construction' or Status=='Proposed') and StartYearEarliest>2022\").sum()"
   ]
  },
  {
   "cell_type": "code",
   "execution_count": 246,
   "id": "46ae5a76-f761-46dd-bfa7-5df9c9d2218b",
   "metadata": {},
   "outputs": [
    {
     "data": {
      "text/plain": [
       "0.8957249839477051"
      ]
     },
     "execution_count": 246,
     "metadata": {},
     "output_type": "execute_result"
    }
   ],
   "source": [
    "51754.9/57779.9"
   ]
  },
  {
   "cell_type": "markdown",
   "id": "313b772e-b4fd-468f-933e-0f0985cb69fa",
   "metadata": {},
   "source": [
    "# methodology stats"
   ]
  },
  {
   "cell_type": "code",
   "execution_count": 247,
   "id": "37339edb-8f1e-4662-9e99-d3e810752af3",
   "metadata": {},
   "outputs": [],
   "source": [
    "missing_route_types = ['Unavailable',\n",
    "                       #'Capacity expansion only',\n",
    "                       #'Bidirectionality upgrade only',\n",
    "                       'Short route (< 100 km)']#,\n",
    "                       #'N/A']"
   ]
  },
  {
   "cell_type": "code",
   "execution_count": 259,
   "id": "b5567a5f-14fa-443c-8cfd-713840ee9857",
   "metadata": {},
   "outputs": [
    {
     "data": {
      "text/plain": [
       "(3255, 75)"
      ]
     },
     "execution_count": 259,
     "metadata": {},
     "output_type": "execute_result"
    }
   ],
   "source": [
    "pipes_df_orig.shape"
   ]
  },
  {
   "cell_type": "code",
   "execution_count": 249,
   "id": "f523712e-9999-4b2b-8afa-3ad16b08d523",
   "metadata": {},
   "outputs": [
    {
     "data": {
      "text/plain": [
       "(3255, 75)"
      ]
     },
     "execution_count": 249,
     "metadata": {},
     "output_type": "execute_result"
    }
   ],
   "source": [
    "pipes_df_orig.shape"
   ]
  },
  {
   "cell_type": "code",
   "execution_count": 250,
   "id": "6489d547-3844-43cc-9018-b98d4ec8bca0",
   "metadata": {},
   "outputs": [
    {
     "data": {
      "text/plain": [
       "136"
      ]
     },
     "execution_count": 250,
     "metadata": {},
     "output_type": "execute_result"
    }
   ],
   "source": [
    "pipes_df_orig['Route'].isin(missing_route_types).sum()"
   ]
  },
  {
   "cell_type": "code",
   "execution_count": 255,
   "id": "43dc326c-33f6-4292-8d0e-c54ab1a1cb55",
   "metadata": {},
   "outputs": [
    {
     "data": {
      "text/plain": [
       "21"
      ]
     },
     "execution_count": 255,
     "metadata": {},
     "output_type": "execute_result"
    }
   ],
   "source": [
    "pipes_df_orig.loc[pipes_df_orig['Route'].isin(missing_route_types), 'LengthMergedKm'].isnull().sum()"
   ]
  },
  {
   "cell_type": "code",
   "execution_count": 257,
   "id": "6a80c232-d4ce-4416-ab2e-a2cf6c8f3504",
   "metadata": {},
   "outputs": [
    {
     "data": {
      "text/plain": [
       "115"
      ]
     },
     "execution_count": 257,
     "metadata": {},
     "output_type": "execute_result"
    }
   ],
   "source": [
    "pipes_df_orig['Route'].isin(missing_route_types).sum()-pipes_df_orig.loc[pipes_df_orig['Route'].isin(missing_route_types), 'LengthMergedKm'].isnull().sum()"
   ]
  },
  {
   "cell_type": "code",
   "execution_count": 225,
   "id": "88c84696-ffa9-4464-970e-3ed1b5ec9567",
   "metadata": {},
   "outputs": [
    {
     "data": {
      "text/plain": [
       "0       52.669720,-111.31072:51.915156,-109.13337:50.4...\n",
       "1       53.572938,-113.34182:53.904338,-112.91198:54.5...\n",
       "2       48.3119712,-101.73614:48.9982400,-102.26074:49...\n",
       "3       53.711746,-113.20655:45.398450,-95.097656:44.0...\n",
       "4       41.583607,-87.513656:38.891033,-90.131835:37.3...\n",
       "                              ...                        \n",
       "3250    -26.693663,149.186142:-26.693768,149.186127:-2...\n",
       "3251    -28.292648,118.537533:-28.291703,118.538255:-2...\n",
       "3252    -31.190878,121.627642:-31.191294,121.627741:-3...\n",
       "3253    -21.50219,121.853422:-21.506172,121.85201:-21....\n",
       "3254    -31.556791,115.956742:-31.556701,115.948918:-3...\n",
       "Name: Route, Length: 3255, dtype: object"
      ]
     },
     "execution_count": 225,
     "metadata": {},
     "output_type": "execute_result"
    }
   ],
   "source": [
    "pipes_df_orig['Route']==['Capacity expansion only', 'Bidirectionality upgrade only', 'Short route (< 100 km)']"
   ]
  },
  {
   "cell_type": "code",
   "execution_count": null,
   "id": "bd7109a0-7fb7-4d2d-ac8a-1243e4e5d739",
   "metadata": {},
   "outputs": [],
   "source": [
    "# num routes\n",
    "numprojects = pipes_df_orig.copy()\n",
    "numprojects = numprojects[~numprojects['Route'].isin(no_route_types)]\n",
    "numprojects = numprojects[(numprojects['Fuel']=='Gas') &\n",
    "                          (numprojects['Status'].isin(['Proposed','Construction']))]"
   ]
  }
 ],
 "metadata": {
  "kernelspec": {
   "display_name": "gem",
   "language": "python",
   "name": "gem"
  },
  "language_info": {
   "codemirror_mode": {
    "name": "ipython",
    "version": 3
   },
   "file_extension": ".py",
   "mimetype": "text/x-python",
   "name": "python",
   "nbconvert_exporter": "python",
   "pygments_lexer": "ipython3",
   "version": "3.9.9"
  }
 },
 "nbformat": 4,
 "nbformat_minor": 5
}
