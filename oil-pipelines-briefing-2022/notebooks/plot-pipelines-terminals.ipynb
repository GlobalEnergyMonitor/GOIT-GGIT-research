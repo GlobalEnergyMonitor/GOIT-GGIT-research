{
 "cells": [
  {
   "cell_type": "code",
   "execution_count": 2,
   "id": "bece9d24",
   "metadata": {},
   "outputs": [],
   "source": [
    "import pygsheets # use 'pip install pygsheets'\n",
    "import numpy\n",
    "import datetime\n",
    "\n",
    "import pandas\n",
    "import geopandas\n",
    "from geopandas.tools import overlay\n",
    "\n",
    "pandas.set_option('display.max_rows', 100)\n",
    "\n",
    "import shapely"
   ]
  },
  {
   "cell_type": "markdown",
   "id": "946339e9-10f0-4a0e-a1f1-f40f14577134",
   "metadata": {},
   "source": [
    "# terminal data\n",
    "\n",
    "## import"
   ]
  },
  {
   "cell_type": "code",
   "execution_count": 1,
   "id": "755dc23f-e0c2-42d9-b698-32928a4d4303",
   "metadata": {},
   "outputs": [
    {
     "ename": "NameError",
     "evalue": "name 'pygsheets' is not defined",
     "output_type": "error",
     "traceback": [
      "\u001b[0;31m---------------------------------------------------------------------------\u001b[0m",
      "\u001b[0;31mNameError\u001b[0m                                 Traceback (most recent call last)",
      "Input \u001b[0;32mIn [1]\u001b[0m, in \u001b[0;36m<module>\u001b[0;34m\u001b[0m\n\u001b[1;32m      1\u001b[0m credentials_directory \u001b[38;5;241m=\u001b[39m \u001b[38;5;124m'\u001b[39m\u001b[38;5;124m/Users/baird/Dropbox/_google-api/\u001b[39m\u001b[38;5;124m'\u001b[39m\n\u001b[0;32m----> 2\u001b[0m gc \u001b[38;5;241m=\u001b[39m \u001b[43mpygsheets\u001b[49m\u001b[38;5;241m.\u001b[39mauthorize(client_secret\u001b[38;5;241m=\u001b[39mcredentials_directory\u001b[38;5;241m+\u001b[39m\u001b[38;5;124m'\u001b[39m\u001b[38;5;124mclient_secret.json\u001b[39m\u001b[38;5;124m'\u001b[39m)\n\u001b[1;32m      3\u001b[0m spreadsheet \u001b[38;5;241m=\u001b[39m gc\u001b[38;5;241m.\u001b[39mopen_by_key(\u001b[38;5;124m'\u001b[39m\u001b[38;5;124m1tcS6Wd-Wp-LTDpLzFgJY_RSNDnbyubW3J_9HKIAys4A\u001b[39m\u001b[38;5;124m'\u001b[39m)\n\u001b[1;32m      5\u001b[0m \u001b[38;5;66;03m#spreadsheet[1] \"Gas Pipelines\" tab is the second index\u001b[39;00m\n",
      "\u001b[0;31mNameError\u001b[0m: name 'pygsheets' is not defined"
     ]
    }
   ],
   "source": [
    "credentials_directory = '/Users/baird/Dropbox/_google-api/'\n",
    "gc = pygsheets.authorize(client_secret=credentials_directory+'client_secret.json')\n",
    "spreadsheet = gc.open_by_key('1tcS6Wd-Wp-LTDpLzFgJY_RSNDnbyubW3J_9HKIAys4A')\n",
    "\n",
    "#spreadsheet[1] \"Gas Pipelines\" tab is the second index\n",
    "terms_df_orig = spreadsheet.worksheet('title', 'Terminals').get_as_df()\n",
    "terms_dict_df = spreadsheet.worksheet('title', 'Data dictionary').get_as_df()\n",
    "terms_acronyms_df = spreadsheet.worksheet('title', 'Acronyms').get_as_df()\n",
    "terms_copyright_df = spreadsheet.worksheet('title', 'Copyright').get_as_df()"
   ]
  },
  {
   "cell_type": "markdown",
   "id": "9e71695d-de4c-4971-94dc-5e6f9a9f57d8",
   "metadata": {},
   "source": [
    "## clean up"
   ]
  },
  {
   "cell_type": "code",
   "execution_count": 14,
   "id": "f02195ca-414f-45d2-9195-902eb6fd9394",
   "metadata": {},
   "outputs": [],
   "source": [
    "# remove oil export terminals\n",
    "terms_df_orig = terms_df_orig[terms_df_orig['Type1']!='Oil']\n",
    "# remove anything without a wiki page\n",
    "terms_df_orig = terms_df_orig[terms_df_orig['Wiki']!='']"
   ]
  },
  {
   "cell_type": "code",
   "execution_count": 15,
   "id": "33e97814-fee2-4140-a9ee-3d896c8a5c37",
   "metadata": {},
   "outputs": [],
   "source": [
    "terms_dict_df_include = terms_dict_df.copy()[terms_dict_df.copy()['IncludeWithDataRelease']=='Yes']\n",
    "terms_dict_df_include = terms_dict_df_include.sort_values('DataReleaseColumnOrder', ascending=True)\n",
    "terms_dict_df_include = terms_dict_df_include[['VariableName','Definition']]"
   ]
  },
  {
   "cell_type": "code",
   "execution_count": 16,
   "id": "bcec8ff5-043d-4af4-9509-01d25deeddcf",
   "metadata": {},
   "outputs": [],
   "source": [
    "no_lonlat_options = [\n",
    "    'Unknown',\n",
    "    'TBD'\n",
    "]"
   ]
  },
  {
   "cell_type": "markdown",
   "id": "13c4cf34-a4f2-411b-b354-06659258d9f1",
   "metadata": {},
   "source": [
    "## clean up more, create shapely points"
   ]
  },
  {
   "cell_type": "code",
   "execution_count": 17,
   "id": "152af76a-f0cb-42bb-949f-c28c76962118",
   "metadata": {},
   "outputs": [
    {
     "name": "stderr",
     "output_type": "stream",
     "text": [
      "/Users/baird/miniconda3/envs/gem/lib/python3.9/site-packages/pandas/core/dtypes/cast.py:118: ShapelyDeprecationWarning: The array interface is deprecated and will no longer work in Shapely 2.0. Convert the '.coords' to a numpy array instead.\n",
      "  arr = construct_1d_object_array_from_listlike(values)\n",
      "/Users/baird/miniconda3/envs/gem/lib/python3.9/site-packages/pandas/core/dtypes/cast.py:118: ShapelyDeprecationWarning: The array interface is deprecated and will no longer work in Shapely 2.0. Convert the '.coords' to a numpy array instead.\n",
      "  arr = construct_1d_object_array_from_listlike(values)\n"
     ]
    }
   ],
   "source": [
    "# code to create a dataframe with WKT formatted geometry\n",
    "\n",
    "# (1) copy, clean up\n",
    "to_convert_df = terms_df_orig.copy()\n",
    "to_convert_df = to_convert_df[~(to_convert_df['Latitude'].isin(no_lonlat_options)) |\n",
    "                             ~(to_convert_df['Longitude'].isin(no_lonlat_options))]\n",
    "\n",
    "# also keep the non-converted ones separate\n",
    "not_converted_df = terms_df_orig.copy()\n",
    "not_converted_df = not_converted_df[(not_converted_df['Longitude'].isin(no_lonlat_options)) | \n",
    "                                    (not_converted_df['Latitude'].isin(no_lonlat_options))]\n",
    "# add a dummy column so that the dimensions match with converted wkt pipelines\n",
    "not_converted_df.assign(ColName='geometry')\n",
    "not_converted_df['geometry'] = [shapely.geometry.Point()]*not_converted_df.shape[0]\n",
    "not_converted_df.reset_index(drop=True)\n",
    "not_converted_gdf = geopandas.GeoDataFrame(not_converted_df, geometry=not_converted_df['geometry'])\n",
    "\n",
    "# (2) convert all terminals\n",
    "terms_df_converted = to_convert_df.copy()\n",
    "terms_df_converted.assign(ColName='geometry')\n",
    "terms_df_converted['geometry'] = to_convert_df[['Longitude','Latitude']].apply(shapely.geometry.Point, axis=1)\n",
    "terms_df_converted = terms_df_converted.reset_index(drop=True)\n",
    "\n",
    "# # (3) store in a GeoDataFrame, attach a projection, transform to a different one\n",
    "terms_df_gdf = geopandas.GeoDataFrame(terms_df_converted, geometry=terms_df_converted['geometry'])\n",
    "terms_df_gdf = terms_df_gdf.set_crs('epsg:4326')\n",
    "terms_df_gdf_4087 = terms_df_gdf.to_crs('epsg:4087')"
   ]
  },
  {
   "cell_type": "code",
   "execution_count": 18,
   "id": "a13c905e-b13b-4595-8167-b681bbdc248d",
   "metadata": {},
   "outputs": [],
   "source": [
    "all_terms_df = pandas.concat([terms_df_gdf, not_converted_gdf])\n",
    "all_terms_df = all_terms_df.reset_index(drop=True)\n",
    "all_terms_df.sort_values('ComboID', inplace=True)"
   ]
  },
  {
   "cell_type": "code",
   "execution_count": 19,
   "id": "483b38b8-4dc5-4ed5-b305-899851d34224",
   "metadata": {},
   "outputs": [],
   "source": [
    "terms_dict_df_sorted = terms_dict_df[terms_dict_df['IncludeWithDataRelease']=='Yes'].sort_values('DataReleaseColumnOrder')\n",
    "output_columns = terms_dict_df_sorted['VariableName'].tolist()"
   ]
  },
  {
   "cell_type": "code",
   "execution_count": 20,
   "id": "fb14d842-1659-4be0-986d-acd54227074d",
   "metadata": {},
   "outputs": [],
   "source": [
    "all_terms_df_to_save = all_terms_df[output_columns]\n",
    "all_terms_df_to_save_gdf = geopandas.GeoDataFrame(all_terms_df_to_save, geometry=all_terms_df['geometry'])"
   ]
  },
  {
   "cell_type": "markdown",
   "id": "5c24d6c4-c4cb-4558-b195-85ea87454f8a",
   "metadata": {},
   "source": [
    "## save as GeoJSON file"
   ]
  },
  {
   "cell_type": "code",
   "execution_count": 21,
   "id": "a05ce250-1eef-47dd-8ca6-679aece35711",
   "metadata": {},
   "outputs": [
    {
     "name": "stdout",
     "output_type": "stream",
     "text": [
      "saved as GEM-LNG-Terminals-2022-05-11.geojson\n"
     ]
    }
   ],
   "source": [
    "now_string = datetime.datetime.now().strftime('%Y-%m-%d')\n",
    "filename = 'GEM-LNG-Terminals-'+now_string+'.geojson'\n",
    "all_terms_df_to_save_gdf.to_file(filename, driver='GeoJSON')\n",
    "print('saved as', filename)"
   ]
  },
  {
   "cell_type": "markdown",
   "id": "09a8db1e-4527-4dad-b5b7-0ba18805fae7",
   "metadata": {},
   "source": [
    "## save as shapefile"
   ]
  },
  {
   "cell_type": "code",
   "execution_count": 22,
   "id": "3b2e6a8d-a872-410e-9629-d9f5e133077e",
   "metadata": {},
   "outputs": [
    {
     "name": "stdout",
     "output_type": "stream",
     "text": [
      "saved as GEM-LNG-Terminals-dataset-2022-05-11.shp\n"
     ]
    }
   ],
   "source": [
    "now_string = datetime.datetime.now().strftime('%Y-%m-%d')\n",
    "filename = 'GEM-LNG-Terminals-dataset-'+now_string+'.shp'\n",
    "all_terms_df_to_save_gdf.to_file(filename, driver='GeoJSON')\n",
    "print('saved as', filename)"
   ]
  },
  {
   "cell_type": "code",
   "execution_count": 23,
   "id": "8a116577-6898-404d-a607-6620695f18cb",
   "metadata": {},
   "outputs": [],
   "source": [
    "# remove oil export terminals\n",
    "terms_df_orig = terms_df_orig[terms_df_orig['Type1']!='Oil']\n",
    "# remove anything without a wiki page\n",
    "terms_df_orig = terms_df_orig[terms_df_orig['Wiki']!='']"
   ]
  },
  {
   "cell_type": "code",
   "execution_count": 24,
   "id": "003f989f-45ea-4ef0-96a5-b679ed43ae8d",
   "metadata": {},
   "outputs": [],
   "source": [
    "terms_dict_df_include = terms_dict_df.copy()[terms_dict_df.copy()['IncludeWithDataRelease']=='Yes']\n",
    "terms_dict_df_include = terms_dict_df_include.sort_values('DataReleaseColumnOrder', ascending=True)\n",
    "terms_dict_df_include = terms_dict_df_include[['VariableName','Definition']]"
   ]
  },
  {
   "cell_type": "code",
   "execution_count": 25,
   "id": "eb668912-1f7b-467d-9cdd-9237029ba8ff",
   "metadata": {},
   "outputs": [],
   "source": [
    "terms_df_subset = terms_df_orig.copy()[terms_dict_df_include['VariableName'].tolist()]"
   ]
  },
  {
   "cell_type": "markdown",
   "id": "3e65996b-14d5-4de9-8363-a1bfc4dba72d",
   "metadata": {},
   "source": [
    "# pipeline data\n",
    "\n",
    "## import"
   ]
  },
  {
   "cell_type": "code",
   "execution_count": 37,
   "id": "3569adbe",
   "metadata": {},
   "outputs": [],
   "source": [
    "#fuel_type = 'Gas'\n",
    "#fuel_type = 'Oil'\n",
    "fuel_type = 'Oil-and-Gas'\n",
    "\n",
    "credentials_directory = '/Users/baird/Dropbox/_google-api/'\n",
    "gc = pygsheets.authorize(client_secret=credentials_directory+'client_secret.json')\n",
    "\n",
    "spreadsheet = gc.open_by_key('1foPLE6K-uqFlaYgLPAUxzeXfDO5wOOqE7tibNHeqTek')\n",
    "gas_pipes = spreadsheet.worksheet('title', 'Gas pipelines').get_as_df()\n",
    "oil_pipes = spreadsheet.worksheet('title', 'Oil/NGL pipelines').get_as_df()\n",
    "#owners = spreadsheet[3].get_as_df()\n",
    "\n",
    "pipes_dict_df = spreadsheet.worksheet('title', 'Data dictionary').get_as_df()\n",
    "\n",
    "#gas_pipes = gas_pipes.drop('WKTFormat', axis=1) # delete WKTFormat column\n",
    "#oil_pipes = oil_pipes.drop('WKTFormat', axis=1)\n",
    "#pipes_df_orig = pandas.concat([oil_pipes, gas_pipes], ignore_index=True)\n",
    "\n",
    "if fuel_type == 'Gas':\n",
    "    pipes_df_orig = gas_pipes.copy() #pandas.concat([oil_pipes, gas_pipes], ignore_index=True)\n",
    "if fuel_type == 'Oil':\n",
    "    pipes_df_orig = oil_pipes.copy()\n",
    "if fuel_type == 'Oil-and-Gas':\n",
    "    pipes_df_orig = pandas.concat([oil_pipes, gas_pipes], ignore_index=True)\n"
   ]
  },
  {
   "cell_type": "markdown",
   "id": "b9c1af73-5b7a-4e88-ba10-307882ee9e63",
   "metadata": {},
   "source": [
    "## clean up"
   ]
  },
  {
   "cell_type": "code",
   "execution_count": 38,
   "id": "88511914-e8d1-4c2c-8902-5b2b58767efb",
   "metadata": {},
   "outputs": [],
   "source": [
    "# clean up rows that should not be distributed\n",
    "pipes_df_orig = pipes_df_orig[pipes_df_orig['Status']!='N/A']\n",
    "pipes_df_orig = pipes_df_orig[pipes_df_orig['PipelineName']!='']"
   ]
  },
  {
   "cell_type": "code",
   "execution_count": 39,
   "id": "c442c207-39f6-4a8d-a457-677377a9afac",
   "metadata": {},
   "outputs": [],
   "source": [
    "status_in_dev = ['Proposed', \n",
    "                 'Construction', \n",
    "                 'Shelved', 'Operating', \n",
    "                 'Mothballed', \n",
    "                 'Cancelled', \n",
    "                 'Retired', \n",
    "                 'Idle']\n",
    "no_route_options = [\n",
    "    'Unavailable', \n",
    "    'Capacity expansion only', \n",
    "    'Bidirectionality upgrade only',\n",
    "    'Short route (< 100 km)', \n",
    "    'N/A',\n",
    "    ''\n",
    "]\n",
    "\n",
    "# filter for the statuses above in the status_in_dev list (modify as desired)\n",
    "#gas_pipes = gas_pipes[gas_pipes['Status'].str.lower().isin(status_in_dev)]"
   ]
  },
  {
   "cell_type": "markdown",
   "id": "7f093e3c-6be6-45ab-8c04-c8bad134de9d",
   "metadata": {},
   "source": [
    "## convert pipeline data to geodata info"
   ]
  },
  {
   "cell_type": "code",
   "execution_count": 40,
   "id": "20ded46e",
   "metadata": {},
   "outputs": [],
   "source": [
    "def convert_gfit_to_linestring(coord_str, pipeline_name):\n",
    "    '''\n",
    "    Takes string from GFIT column of coordinates for a single pipeline,\n",
    "    converts that string into Shapely LineString or MultiLinestring.\n",
    "    '''\n",
    "    #print(coord_str, pipeline_name)\n",
    "    if ':' in coord_str and ';' not in coord_str:\n",
    "        # simple geometry; no branching\n",
    "        # create nested list of lists, separating on colons        \n",
    "        coord_list = coord_str.split(':')\n",
    "        coord_list_tuples = []\n",
    "        # non-branched pipeline (nested list with one level)\n",
    "        # convert nested list of lists to list of tuples\n",
    "        try:\n",
    "            for element in coord_list:\n",
    "                element_tuple = (float(element.split(',')[1]), \n",
    "                                 float(element.split(',')[0]))\n",
    "                coord_list_tuples.append(element_tuple)\n",
    "        except:\n",
    "            print(f\"Exception for {pipeline_name}; element: {element}\") # for db\n",
    "        route_conv = shapely.geometry.LineString(coord_list_tuples)\n",
    "\n",
    "    elif ':' in coord_str and ';' in coord_str:\n",
    "        # create a nested list of lists, separating on semicolons\n",
    "        coord_list = coord_str.split(';')   \n",
    "        # create a second level of nesting, separating on colons\n",
    "        coord_list = [x.split(':') for x in coord_list]\n",
    "        # branched pipeline (nested list with two levels)\n",
    "        route_conv_list_all = []\n",
    "        \n",
    "        for nested_list in coord_list:\n",
    "            coord_list_tuples = []\n",
    "            # process element\n",
    "            try:\n",
    "                for element in nested_list:\n",
    "                    element_tuple = (float(element.split(',')[1]), \n",
    "                                     float(element.split(',')[0]))\n",
    "                    coord_list_tuples.append(element_tuple)\n",
    "            except:\n",
    "                print(f\"Exception for {pipeline_name}; element: {element}\") # for db\n",
    "            # process coord_list_tuples\n",
    "            try:\n",
    "                route_conv_list = shapely.geometry.LineString(coord_list_tuples)\n",
    "                route_conv_list_all.append(route_conv_list)\n",
    "            except:\n",
    "                print(f\"Exception for {pipeline_name}; coord_list_tuples: {coord_list_tuples}\") # for db\n",
    "                pass\n",
    "            \n",
    "        route_conv = shapely.geometry.MultiLineString(route_conv_list_all)\n",
    "        \n",
    "    return route_conv"
   ]
  },
  {
   "cell_type": "code",
   "execution_count": 41,
   "id": "ce04fde6",
   "metadata": {},
   "outputs": [],
   "source": [
    "def convert_all_pipelines(df):\n",
    "    \"\"\"\n",
    "    Apply the conversion function to all pipelines in the dataframe.\n",
    "    \"\"\"\n",
    "    # create geometry column with empty strings\n",
    "    #df.assign(ColName='geometry', dtype='str')\n",
    "    df['geometry'] = ''\n",
    "    #print(df['geometry'])\n",
    "    \n",
    "    # filter to keep only pipelines with routes\n",
    "    mask_route = df['Route'].str.contains(',' or ':')\n",
    "    pipes_with_route = df.loc[mask_route]\n",
    "    \n",
    "    for row in pipes_with_route.index:\n",
    "        route_str = df.at[row, 'Route']\n",
    "        pipeline_name = df.at[row, 'PipelineName']\n",
    "        \n",
    "        route_str_converted = convert_gfit_to_linestring(route_str, pipeline_name)\n",
    "    \n",
    "        #print(df.at[row,'ProjectID'])\n",
    "        #print(pipeline_name)\n",
    "        #print(route_str_converted)\n",
    "        \n",
    "        df.at[row, 'geometry'] = route_str_converted   \n",
    "        \n",
    "    return df"
   ]
  },
  {
   "cell_type": "markdown",
   "id": "ce388a04-6604-4f87-a0c1-1140e2ffc93e",
   "metadata": {},
   "source": [
    "## clean up more"
   ]
  },
  {
   "cell_type": "raw",
   "id": "760e8f7f-e73b-44f3-887c-b6249d45d0c2",
   "metadata": {},
   "source": [
    "to_convert_df.to_excel('example.xlsx')"
   ]
  },
  {
   "cell_type": "code",
   "execution_count": 42,
   "id": "f2e97928",
   "metadata": {
    "scrolled": true,
    "tags": []
   },
   "outputs": [
    {
     "name": "stderr",
     "output_type": "stream",
     "text": [
      "/Users/baird/miniconda3/envs/gem/lib/python3.9/site-packages/pandas/core/dtypes/cast.py:1990: ShapelyDeprecationWarning: __len__ for multi-part geometries is deprecated and will be removed in Shapely 2.0. Check the length of the `geoms` property instead to get the  number of parts of a multi-part geometry.\n",
      "  result[:] = values\n"
     ]
    },
    {
     "name": "stdout",
     "output_type": "stream",
     "text": [
      "Exception for Eight-Three Oil Pipeline Network; coord_list_tuples: [(119.608599, 39.935148)]\n"
     ]
    }
   ],
   "source": [
    "# code to create a dataframe with WKT formatted geometry\n",
    "\n",
    "# (1) copy, clean up\n",
    "to_convert_df = pipes_df_orig.copy()\n",
    "to_convert_df = to_convert_df[~to_convert_df['Route'].isin(no_route_options)]\n",
    "\n",
    "# also keep the non-converted ones separate\n",
    "not_converted_df = pipes_df_orig.copy()\n",
    "not_converted_df = not_converted_df[not_converted_df['Route'].isin(no_route_options)]\n",
    "# add a dummy column so that the dimensions match with converted wkt pipelines\n",
    "not_converted_df.assign(ColName='geometry')\n",
    "not_converted_df['geometry'] = [shapely.geometry.MultiLineString()]*not_converted_df.shape[0]\n",
    "not_converted_df.reset_index(drop=True)\n",
    "not_converted_gdf = geopandas.GeoDataFrame(not_converted_df, geometry=not_converted_df['geometry'])\n",
    "\n",
    "# (2) convert all pipelines\n",
    "pipes_df_wkt = convert_all_pipelines(to_convert_df)\n",
    "pipes_df_wkt = pipes_df_wkt.reset_index(drop=True)\n",
    "\n",
    "# (3) store in a GeoDataFrame, attach a projection, transform to a different one\n",
    "pipes_df_wkt_gdf = geopandas.GeoDataFrame(pipes_df_wkt, geometry=pipes_df_wkt['geometry'])\n",
    "pipes_df_wkt_gdf = pipes_df_wkt_gdf.set_crs('epsg:4326')\n",
    "pipes_df_wkt_gdf_4087 = pipes_df_wkt_gdf.to_crs('epsg:4087')"
   ]
  },
  {
   "cell_type": "markdown",
   "id": "5f50465f",
   "metadata": {},
   "source": [
    "## concatenate \"no route options\" back to have full dataset for export"
   ]
  },
  {
   "cell_type": "code",
   "execution_count": 43,
   "id": "ac5a5f10",
   "metadata": {},
   "outputs": [],
   "source": [
    "all_pipes_df = pandas.concat([pipes_df_wkt_gdf, not_converted_gdf])\n",
    "all_pipes_df = all_pipes_df.reset_index(drop=True)\n",
    "all_pipes_df.sort_values('ProjectID', inplace=True)"
   ]
  },
  {
   "cell_type": "code",
   "execution_count": 44,
   "id": "9a41007d-0e84-4135-b855-78e7519c6fb2",
   "metadata": {},
   "outputs": [],
   "source": [
    "pipes_dict_df_sorted = pipes_dict_df[(pipes_dict_df['IncludeWithDataRelease']=='Yes') &\n",
    "                                     (pipes_dict_df['GasVariable']=='Yes')].sort_values('DataReleaseColumnOrder')\n",
    "output_columns = pipes_dict_df_sorted['VariableName'].tolist()"
   ]
  },
  {
   "cell_type": "code",
   "execution_count": 45,
   "id": "f3bc7625",
   "metadata": {},
   "outputs": [],
   "source": [
    "all_pipes_df_to_save = all_pipes_df[output_columns]\n",
    "all_pipes_df_to_save_gdf = geopandas.GeoDataFrame(all_pipes_df_to_save, geometry=all_pipes_df['geometry'])"
   ]
  },
  {
   "cell_type": "markdown",
   "id": "28839a66",
   "metadata": {},
   "source": [
    "## save as GeoJSON file"
   ]
  },
  {
   "cell_type": "code",
   "execution_count": 46,
   "id": "597cae88",
   "metadata": {},
   "outputs": [
    {
     "name": "stdout",
     "output_type": "stream",
     "text": [
      "saved as GEM-Oil-and-Gas-Pipelines-2022-05-11.geojson\n"
     ]
    }
   ],
   "source": [
    "now_string = datetime.datetime.now().strftime('%Y-%m-%d')\n",
    "filename = 'GEM-'+fuel_type+'-Pipelines-'+now_string+'.geojson'\n",
    "all_pipes_df_to_save_gdf.to_file(filename, driver='GeoJSON')\n",
    "print('saved as', filename)"
   ]
  },
  {
   "cell_type": "markdown",
   "id": "7f3df157",
   "metadata": {},
   "source": [
    "## save as shapefile"
   ]
  },
  {
   "cell_type": "code",
   "execution_count": 47,
   "id": "36b2947c",
   "metadata": {},
   "outputs": [
    {
     "name": "stdout",
     "output_type": "stream",
     "text": [
      "saved as GEM-Oil-and-Gas-Pipelines-2022-05-11.shp\n"
     ]
    }
   ],
   "source": [
    "now_string = datetime.datetime.now().strftime('%Y-%m-%d')\n",
    "filename = 'GEM-'+fuel_type+'-Pipelines-'+now_string+'.shp'\n",
    "all_pipes_df_to_save_gdf.to_file(filename, driver='GeoJSON')\n",
    "print('saved as', filename)"
   ]
  },
  {
   "cell_type": "markdown",
   "id": "d91c1cf8-631a-44ce-bf83-3a0e6933208e",
   "metadata": {},
   "source": [
    "## save as csv"
   ]
  },
  {
   "cell_type": "code",
   "execution_count": 65,
   "id": "47c310f0-18b3-402a-878c-9493db8b21ba",
   "metadata": {},
   "outputs": [
    {
     "name": "stdout",
     "output_type": "stream",
     "text": [
      "saved as GEM-Gas-Pipelines-2022-03-10.csv\n"
     ]
    }
   ],
   "source": [
    "now_string = datetime.datetime.now().strftime('%Y-%m-%d')\n",
    "filename = 'GEM-'+fuel_type+'-Pipelines-'+now_string+'.csv'\n",
    "all_pipes_df_to_save_gdf.to_csv(filename, index=False)\n",
    "print('saved as', filename)"
   ]
  },
  {
   "cell_type": "code",
   "execution_count": null,
   "id": "4d9e9c1d-e206-4aa8-ba46-0295ca67652a",
   "metadata": {},
   "outputs": [],
   "source": []
  }
 ],
 "metadata": {
  "kernelspec": {
   "display_name": "gem",
   "language": "python",
   "name": "gem"
  },
  "language_info": {
   "codemirror_mode": {
    "name": "ipython",
    "version": 3
   },
   "file_extension": ".py",
   "mimetype": "text/x-python",
   "name": "python",
   "nbconvert_exporter": "python",
   "pygments_lexer": "ipython3",
   "version": "3.9.9"
  }
 },
 "nbformat": 4,
 "nbformat_minor": 5
}
