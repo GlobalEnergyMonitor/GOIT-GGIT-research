{
 "cells": [
  {
   "cell_type": "code",
   "execution_count": 93,
   "id": "3b38c4c2",
   "metadata": {},
   "outputs": [],
   "source": [
    "import pandas\n",
    "\n",
    "import pygsheets\n",
    "import numpy\n",
    "import scipy\n",
    "import re\n",
    "\n",
    "import matplotlib\n",
    "import matplotlib.pyplot as mp\n",
    "import matplotlib.cm\n",
    "\n",
    "import textwrap\n",
    "import seaborn"
   ]
  },
  {
   "cell_type": "code",
   "execution_count": 94,
   "id": "7c4470f8",
   "metadata": {},
   "outputs": [],
   "source": [
    "# solarized colors\n",
    "solar_base03    = '#002b36' # darkest gray\n",
    "solar_base02    = '#073642'\n",
    "solar_base01    = '#586e75'\n",
    "solar_base00    = '#657b83'\n",
    "solar_base0     = '#839496' # light gray\n",
    "solar_base1     = '#93a1a1' # lightest gray\n",
    "solar_base2     = '#eee8d5' # dark white\n",
    "solar_base3     = '#fdf6e3' # light white\n",
    "solar_yellow    = '#b58900'\n",
    "solar_orange    = '#cb4b16'\n",
    "solar_red       = '#dc322f'\n",
    "solar_magenta   = '#d33682'\n",
    "solar_violet    = '#6c71c4'\n",
    "solar_blue      = '#268bd2'\n",
    "solar_cyan      = '#2aa198'\n",
    "solar_green     = '#859900'"
   ]
  },
  {
   "cell_type": "code",
   "execution_count": 95,
   "id": "e6865013-30c5-4b2d-ac08-3e3262eb80ab",
   "metadata": {},
   "outputs": [],
   "source": [
    "# GEM tracker colors\n",
    "# done using this: https://imagecolorpicker.com/\n",
    "#tracker_construction = tracker_red     = '#cb4b16'\n",
    "#tracker_proposed = tracker_yellow  = '#ffb342'\n",
    "#tracker_shelved = tracker_blue    = '#609ed0'\n",
    "#tracker_operating = tracker_brown   = '#976f5d'\n",
    "#tracker_cancelled = tracker_green   = '#93db92'\n",
    "#tracker_mothballed = tracker_gray = '#515151'"
   ]
  },
  {
   "cell_type": "code",
   "execution_count": 96,
   "id": "c7a2b377-3968-4c9f-a5fa-6f1dcb621dea",
   "metadata": {},
   "outputs": [],
   "source": [
    "sel_cmap = matplotlib.cm.get_cmap('Reds')\n",
    "tracker_operating = sel_cmap(0.999)\n",
    "tracker_construction = sel_cmap(0.8)\n",
    "tracker_proposed = sel_cmap(0.6)\n",
    "tracker_shelved = sel_cmap(0.4)\n",
    "tracker_cancelled = sel_cmap(0.2)"
   ]
  },
  {
   "cell_type": "markdown",
   "id": "21fd656f-8488-47be-99f6-21910ee47768",
   "metadata": {},
   "source": [
    "# pipelines to map"
   ]
  },
  {
   "cell_type": "code",
   "execution_count": 97,
   "id": "53e48006-7e35-4ec5-a1ff-edc8f191a9d3",
   "metadata": {},
   "outputs": [],
   "source": [
    "# add ProjectIDs for pipelines discussed in the briefing itself"
   ]
  },
  {
   "cell_type": "markdown",
   "id": "c5e51996-e86d-4e84-81b9-adfed4434b8b",
   "metadata": {},
   "source": [
    "# import data directly from google sheets"
   ]
  },
  {
   "cell_type": "code",
   "execution_count": 98,
   "id": "029bc7eb-d141-4e01-a747-e0b5b03f1f53",
   "metadata": {},
   "outputs": [],
   "source": [
    "credentials_directory = '/Users/baird/Dropbox/_google-api/'\n",
    "gc = pygsheets.authorize(client_secret=credentials_directory+'client_secret.json')\n",
    "spreadsheet = gc.open_by_key('1foPLE6K-uqFlaYgLPAUxzeXfDO5wOOqE7tibNHeqTek')\n",
    "#spreadsheet = gc.open_by_key('1IQ_g9PCr6pexDvEBoi5jboNfamJtPQ63ezxyq0qRsu0') # specific doc for briefing\n",
    "\n",
    "#spreadsheet[1] \"Gas Pipelines\" tab is the second index\n",
    "gas_pipes = spreadsheet.worksheet('title','Gas pipelines').get_as_df(start='A2')\n",
    "oil_pipes = spreadsheet.worksheet('title', 'Oil/NGL pipelines').get_as_df(start='A2')\n",
    "\n",
    "#gas_pipes = gas_pipes.drop('WKTFormat', axis=1) # delete WKTFormat column\n",
    "#oil_pipes = oil_pipes.drop('WKTFormat', axis=1)\n",
    "\n",
    "# delete columns that aren't the same in the sheets, to concatenate them...\n",
    "#columns_not_in_oil = list(set(gas_pipes.columns)-set(oil_pipes.columns))\n",
    "#columns_not_in_gas = list(set(oil_pipes.columns)-set(gas_pipes.columns))\n",
    "#gas_pipes.drop(columns=columns_not_in_oil, axis=1, inplace=True)\n",
    "#oil_pipes.drop(columns=columns_not_in_gas, axis=1, inplace=True)\n",
    "\n",
    "pipes_df_orig = pandas.concat([oil_pipes, gas_pipes], ignore_index=True)\n",
    "#pipes_df_orig = pipes_df_orig[pipes_df_orig['Status']!='N/A'] # for container rows\n",
    "#pipes_df_orig = pipes_df_orig[pipes_df_orig['ProjectID']!=''] # for empty rows at bottom\n",
    "\n",
    "#get country ratios sheet\n",
    "country_ratios_df = spreadsheet.worksheet('title', 'Country ratios by pipeline').get_as_df()"
   ]
  },
  {
   "cell_type": "code",
   "execution_count": 99,
   "id": "2aed6720-4918-47bd-a9fd-c77d41d22b53",
   "metadata": {},
   "outputs": [],
   "source": [
    "owners_df_orig = spreadsheet.worksheet('title', 'Pipeline operators/owners (1/3)').get_as_df(start='A2')\n",
    "owners_df_orig = owners_df_orig.loc[owners_df_orig.ProjectID!='']\n",
    "owners_df_orig = owners_df_orig.loc[owners_df_orig.Wiki!='']\n",
    "owners_df = owners_df_orig.replace('',numpy.nan)\n",
    "\n",
    "owner_parent_links_df = spreadsheet.worksheet('title', 'Owner–parent relationships (2/3)').get_as_df(start='A2')\n",
    "# only keep the owners with a checked relationship\n",
    "owner_parent_links_df = owner_parent_links_df.loc[owner_parent_links_df['Parent–Owner Relationship Checked?']=='yes']\n",
    "owner_parent_links_df.replace('',numpy.nan,inplace=True)\n",
    "\n",
    "parents_df = spreadsheet.worksheet('title', 'Parent metadata (3/3)').get_as_df(start='A2')\n",
    "parents_df = parents_df.loc[parents_df.Parent!='']\n",
    "\n",
    "owners_df.set_index('ProjectID', inplace=True)\n",
    "owner_parent_links_df.set_index('Owner', inplace=True)\n",
    "parents_df.set_index('Parent', inplace=True)\n",
    "\n",
    "# ****************************************\n",
    "\n",
    "## create list of owner and parent column names\n",
    "owner_pct_col_names = []\n",
    "owner_col_names = []\n",
    "\n",
    "parent_pct_col_names = []\n",
    "parent_col_names = []\n",
    "\n",
    "for num in range(1,11+1):\n",
    "    owner_pct_col = f'Owner{num}%'\n",
    "    owner_pct_col_names.append(owner_pct_col)\n",
    "    \n",
    "    owner_col = f'Owner{num}'\n",
    "    owner_col_names.append(owner_col)\n",
    "    \n",
    "    parent_pct_col = f'Parent{num}%'\n",
    "    parent_pct_col_names.append(parent_pct_col)\n",
    "    \n",
    "    parent_col = f'Parent{num}'\n",
    "    parent_col_names.append(parent_col)\n",
    "\n",
    "# ****************************************\n",
    "## fill in missing parent info by borrowing owner info\n",
    "owners_FULL_set = owners_df[owner_col_names].stack().dropna().unique().tolist() # from owners_df\n",
    "owners_researched_set = list(set(owner_parent_links_df.index.to_list()))#+['Unknown'] # only existing owners, plus 'Unknown'\n",
    "owners_diff = list(set(owners_FULL_set)-set(owners_researched_set))\n",
    "owners_diff.append('Unknown')\n",
    "\n",
    "# update owner_parent_links_df with these extra owners\n",
    "owner_parent_links_df = pandas.concat([owner_parent_links_df, pandas.DataFrame(index=owners_diff, columns=owner_parent_links_df.columns)])\n",
    "owner_parent_links_df['Parent1'].loc[owners_diff] = owners_diff\n",
    "owner_parent_links_df['Parent1%'].loc[owners_diff] = '100.00%'\n",
    "\n",
    "# ****************************************\n",
    "# update parents_df with these as well\n",
    "# note countries will be unknkown...\n",
    "parents_set = list(set(parents_df.index.to_list()))\n",
    "parents_diff = list(set(owners_diff)-set(parents_set))\n",
    "parents_diff.append('Unknown')\n",
    "parents_df = pandas.concat([parents_df, pandas.DataFrame(numpy.nan, index=parents_diff, columns=parents_df.columns)])\n",
    "parents_df.loc[parents_diff,'ParentHQCountry'] = 'Unknown'"
   ]
  },
  {
   "cell_type": "markdown",
   "id": "e6e9c406-eada-4fde-8471-dbbb5aeb2e75",
   "metadata": {},
   "source": [
    "# for offline excel file"
   ]
  },
  {
   "cell_type": "raw",
   "id": "eafd8cb7-e090-4624-8f20-4a510faaa6f1",
   "metadata": {},
   "source": [
    "pipes_df_orig.to_excel('pipes_df_orig.xlsx', index=False)\n",
    "owners_df.to_excel('owners_df.xlsx', index=False)\n",
    "country_ratios_df.to_excel('country_ratios_df.xlsx', index=False)"
   ]
  },
  {
   "cell_type": "raw",
   "id": "8ae2c53a-c04e-49c7-8e19-d6af2c90a429",
   "metadata": {},
   "source": [
    "#spreadsheet = pandas.read_excel()\n",
    "\n",
    "file_name = '/Users/baird/Dropbox/_gem-docs/reports-gem-writing/briefing-oil-pipelies-2022/Pipelines (Gas_Oil_NGL) - main - for offline edits.xlsx'\n",
    "gas_pipes = pandas.read_excel(file_name, sheet_name='Gas pipelines')#.get_as_df()\n",
    "oil_pipes = pandas.read_excel(file_name, sheet_name='OilNGL pipelines')\n",
    "\n",
    "columns_not_in_oil = list(set(gas_pipes.columns)-set(oil_pipes.columns))\n",
    "columns_not_in_gas = list(set(oil_pipes.columns)-set(gas_pipes.columns))\n",
    "gas_pipes.drop(columns=columns_not_in_oil, axis=1, inplace=True)\n",
    "oil_pipes.drop(columns=columns_not_in_gas, axis=1, inplace=True)\n",
    "\n",
    "pipes_df_orig = pandas.concat([oil_pipes, gas_pipes], ignore_index=True)\n",
    "\n",
    "country_ratios_df = pandas.read_excel(file_name, sheet_name='Country ratios by pipeline')\n",
    "owners_df = pandas.read_excel(file_name, sheet_name='Pipeline operatorsowners (13)')\n",
    "owners_df.set_index('ProjectID', inplace=True)"
   ]
  },
  {
   "cell_type": "raw",
   "id": "5bcff50f-0510-499b-ae74-ddc8ecb6e508",
   "metadata": {},
   "source": [
    "# corrections\n",
    "\n",
    "# P2584 has a \"no route\" instead of \"capacity expansion only\"\n",
    "pipes_df_orig.loc[pipes_df_orig.ProjectID=='P2584','Route'] = ''\n",
    "pipes_df_orig.loc[pipes_df_orig.ProjectID=='P2584','RouteAccuracy'] = 'no route'"
   ]
  },
  {
   "cell_type": "markdown",
   "id": "c03ad170",
   "metadata": {},
   "source": [
    "## replace \"--\" with NaN, removing empty rows"
   ]
  },
  {
   "cell_type": "code",
   "execution_count": 37,
   "id": "53a9af81",
   "metadata": {},
   "outputs": [],
   "source": [
    "# replace -- entries with NaN\n",
    "pipes_df_orig = pipes_df_orig.replace('--', numpy.nan)\n",
    "pipes_df_orig = pipes_df_orig[pipes_df_orig['PipelineName']!='']\n",
    "pipes_df_orig = pipes_df_orig[pipes_df_orig['Wiki']!='']\n",
    "country_ratios_df.replace('--', numpy.nan, inplace=True)"
   ]
  },
  {
   "cell_type": "code",
   "execution_count": 38,
   "id": "96a2ab51",
   "metadata": {},
   "outputs": [],
   "source": [
    "# country_ratios_df['StartYearEarliest'].replace('--', numpy.nan, inplace=True)\n",
    "# country_ratios_df['LengthKnownKm'].replace('--', numpy.nan, inplace=True)\n",
    "# country_ratios_df['CostUSD'].replace('--', numpy.nan, inplace=True)\n",
    "# country_ratios_df['CostUSDPerKm'].replace('--', numpy.nan, inplace=True)\n",
    "# country_ratios_df['LengthKnownKmByCountry'].replace('--', numpy.nan, inplace=True)\n",
    "# country_ratios_df['Owner'].replace('--', numpy.nan, inplace=True)\n",
    "# country_ratios_df['Parent'].replace('--', numpy.nan, inplace=True)\n",
    "# country_ratios_df['CapacityBOEd'].replace('--', numpy.nan, inplace=True)"
   ]
  },
  {
   "cell_type": "markdown",
   "id": "a28ad2a3",
   "metadata": {},
   "source": [
    "# km by country, km by region calculations"
   ]
  },
  {
   "cell_type": "code",
   "execution_count": 39,
   "id": "b69bb35e",
   "metadata": {},
   "outputs": [],
   "source": [
    "status_list = ['Proposed', 'Construction', 'Shelved', 'Cancelled', 'Operating', 'Idle', 'Mothballed', 'Retired']\n",
    "country_list = sorted(list(set(country_ratios_df['Country'])))\n",
    "region_list = sorted(list(set(country_ratios_df['Region'])))"
   ]
  },
  {
   "cell_type": "code",
   "execution_count": 40,
   "id": "0f861f96",
   "metadata": {},
   "outputs": [
    {
     "name": "stdout",
     "output_type": "stream",
     "text": [
      "===country-level calculations===\n",
      "Proposed\n",
      "Construction\n",
      "Shelved\n",
      "Cancelled\n",
      "Operating\n",
      "Idle\n",
      "Mothballed\n",
      "Retired\n",
      "===regional calculations===\n",
      "Proposed\n",
      "Construction\n",
      "Shelved\n",
      "Cancelled\n",
      "Operating\n",
      "Idle\n",
      "Mothballed\n",
      "Retired\n"
     ]
    }
   ],
   "source": [
    "country_ratios_oil_df = country_ratios_df[country_ratios_df['Fuel']=='Oil']\n",
    "\n",
    "km_by_country_df = pandas.DataFrame(columns=status_list, index=country_list)\n",
    "km_by_region_df = pandas.DataFrame(columns=status_list, index=region_list)\n",
    "\n",
    "print('===country-level calculations===')\n",
    "for status in status_list:\n",
    "    print(status)\n",
    "    country_ratios_oil_df_status = country_ratios_oil_df[country_ratios_oil_df['Status']==status]\n",
    "    km_by_country_df[status] = country_ratios_oil_df_status.groupby('Country')['MergedKmByCountry'].sum()\n",
    "\n",
    "print('===regional calculations===')\n",
    "for status in status_list:\n",
    "    print(status)\n",
    "    country_ratios_oil_df_status = country_ratios_oil_df[country_ratios_oil_df['Status']==status]\n",
    "    km_by_region_df[status] = country_ratios_oil_df_status.groupby('Region')['MergedKmByCountry'].sum()\n",
    "\n",
    "# # fill NaN with 0.0\n",
    "km_by_region_df = km_by_region_df.fillna(0)\n",
    "km_by_country_df = km_by_country_df.fillna(0)"
   ]
  },
  {
   "cell_type": "code",
   "execution_count": 41,
   "id": "f27e1492-6919-456b-8519-a35e89c76f34",
   "metadata": {},
   "outputs": [],
   "source": [
    "km_by_region_df['Proposed+Construction'] = km_by_region_df[['Proposed','Construction']].sum(axis=1)\n",
    "km_by_region_df.sort_values(by='Proposed+Construction', inplace=True)\n",
    "km_by_region_df = km_by_region_df[['Proposed', 'Construction', 'Proposed+Construction', 'Shelved', 'Cancelled', 'Operating', 'Idle', 'Mothballed', 'Retired']]\n",
    "km_by_region_df.sort_values('Proposed+Construction', ascending=False, inplace=True)"
   ]
  },
  {
   "cell_type": "code",
   "execution_count": 42,
   "id": "38ef2764-c801-46f8-a82d-4803101a1f3b",
   "metadata": {},
   "outputs": [],
   "source": [
    "km_by_country_df['Proposed+Construction'] = km_by_country_df[['Proposed','Construction']].sum(axis=1)\n",
    "km_by_country_df.sort_values(by='Proposed+Construction', inplace=True)\n",
    "km_by_country_df = km_by_country_df[['Proposed', 'Construction', 'Proposed+Construction', 'Shelved', 'Cancelled', 'Operating', 'Idle', 'Mothballed', 'Retired']]\n",
    "km_by_country_df.sort_values('Proposed+Construction', ascending=False, inplace=True)"
   ]
  },
  {
   "cell_type": "markdown",
   "id": "15cab3a4-a85f-4813-8e3f-944747729946",
   "metadata": {},
   "source": [
    "## add Total row to km by country/region"
   ]
  },
  {
   "cell_type": "raw",
   "id": "7e73b537-02b9-4206-b45f-541ea2e9863f",
   "metadata": {},
   "source": [
    "if 'Total' not in km_by_country_df.index:\n",
    "    total_country = km_by_country_df.sum(axis=0)\n",
    "    total_country.name='Total'\n",
    "    km_by_country_df = km_by_country_df.append(total_country)\n",
    "\n",
    "if 'Total' not in km_by_region_df.index:\n",
    "    total_region = km_by_region_df.sum(axis=0)\n",
    "    total_region.name='Total'\n",
    "    km_by_region_df = km_by_region_df.append(total_region)\n",
    "\n",
    "#km_by_region_df.to_excel('GasKmByRegion.xlsx')\n",
    "#km_by_country_df.to_excel('GasKmByCountry.xlsx')"
   ]
  },
  {
   "cell_type": "markdown",
   "id": "c277d8a8-4ca4-491d-a172-2576d3346773",
   "metadata": {},
   "source": [
    "# projects by country, by region"
   ]
  },
  {
   "cell_type": "code",
   "execution_count": 43,
   "id": "9ff9810a-e55c-4a5c-89e4-7dbb2e4c6a48",
   "metadata": {},
   "outputs": [
    {
     "name": "stdout",
     "output_type": "stream",
     "text": [
      "===country-level calculations===\n",
      "Proposed\n",
      "Construction\n",
      "Shelved\n",
      "Cancelled\n",
      "Operating\n",
      "Idle\n",
      "Mothballed\n",
      "Retired\n",
      "===regional calculations===\n",
      "Proposed\n",
      "Construction\n",
      "Shelved\n",
      "Cancelled\n",
      "Operating\n",
      "Idle\n",
      "Mothballed\n",
      "Retired\n"
     ]
    }
   ],
   "source": [
    "country_ratios_oil_df = country_ratios_df[country_ratios_df['Fuel']=='Oil']\n",
    "\n",
    "num_by_country_df = pandas.DataFrame(columns=status_list, index=country_list)\n",
    "num_by_region_df = pandas.DataFrame(columns=status_list, index=region_list)\n",
    "\n",
    "print('===country-level calculations===')\n",
    "for status in status_list:\n",
    "    print(status)\n",
    "    country_ratios_oil_df_status = country_ratios_oil_df[country_ratios_oil_df['Status']==status]\n",
    "    num_by_country_df[status] = country_ratios_oil_df_status.groupby('ProjectID')['MergedKmByCountry'].sum()\n",
    "\n",
    "print('===regional calculations===')\n",
    "for status in status_list:\n",
    "    print(status)\n",
    "    country_ratios_oil_df_status = country_ratios_oil_df[country_ratios_oil_df['Status']==status]\n",
    "    num_by_region_df[status] = country_ratios_oil_df_status.groupby('Region')['MergedKmByCountry'].sum()\n",
    "\n",
    "# # fill NaN with 0.0\n",
    "num_by_region_df = num_by_region_df.fillna(0)\n",
    "num_by_country_df = num_by_country_df.fillna(0)"
   ]
  },
  {
   "cell_type": "code",
   "execution_count": 44,
   "id": "1f4be13c-7995-4ad3-8309-72b5804a0e23",
   "metadata": {},
   "outputs": [
    {
     "data": {
      "text/html": [
       "<div>\n",
       "<style scoped>\n",
       "    .dataframe tbody tr th:only-of-type {\n",
       "        vertical-align: middle;\n",
       "    }\n",
       "\n",
       "    .dataframe tbody tr th {\n",
       "        vertical-align: top;\n",
       "    }\n",
       "\n",
       "    .dataframe thead th {\n",
       "        text-align: right;\n",
       "    }\n",
       "</style>\n",
       "<table border=\"1\" class=\"dataframe\">\n",
       "  <thead>\n",
       "    <tr style=\"text-align: right;\">\n",
       "      <th></th>\n",
       "      <th>Proposed</th>\n",
       "      <th>Construction</th>\n",
       "      <th>Proposed+Construction</th>\n",
       "      <th>Shelved</th>\n",
       "      <th>Cancelled</th>\n",
       "      <th>Operating</th>\n",
       "      <th>Idle</th>\n",
       "      <th>Mothballed</th>\n",
       "      <th>Retired</th>\n",
       "    </tr>\n",
       "  </thead>\n",
       "  <tbody>\n",
       "    <tr>\n",
       "      <th>United States</th>\n",
       "      <td>2913.14</td>\n",
       "      <td>136.75</td>\n",
       "      <td>3049.89</td>\n",
       "      <td>1681.75</td>\n",
       "      <td>24221.22</td>\n",
       "      <td>98015.09</td>\n",
       "      <td>0.0</td>\n",
       "      <td>0.0</td>\n",
       "      <td>1432.00</td>\n",
       "    </tr>\n",
       "    <tr>\n",
       "      <th>India</th>\n",
       "      <td>1194.00</td>\n",
       "      <td>1630.00</td>\n",
       "      <td>2824.00</td>\n",
       "      <td>0.00</td>\n",
       "      <td>1338.00</td>\n",
       "      <td>8859.33</td>\n",
       "      <td>0.0</td>\n",
       "      <td>0.0</td>\n",
       "      <td>0.00</td>\n",
       "    </tr>\n",
       "    <tr>\n",
       "      <th>China</th>\n",
       "      <td>1046.59</td>\n",
       "      <td>1486.08</td>\n",
       "      <td>2532.67</td>\n",
       "      <td>0.00</td>\n",
       "      <td>8477.06</td>\n",
       "      <td>25271.28</td>\n",
       "      <td>0.0</td>\n",
       "      <td>0.0</td>\n",
       "      <td>6825.55</td>\n",
       "    </tr>\n",
       "    <tr>\n",
       "      <th>Russia</th>\n",
       "      <td>1494.20</td>\n",
       "      <td>557.01</td>\n",
       "      <td>2051.21</td>\n",
       "      <td>0.00</td>\n",
       "      <td>541.52</td>\n",
       "      <td>40091.91</td>\n",
       "      <td>0.0</td>\n",
       "      <td>52.0</td>\n",
       "      <td>618.00</td>\n",
       "    </tr>\n",
       "    <tr>\n",
       "      <th>Tanzania</th>\n",
       "      <td>1932.31</td>\n",
       "      <td>0.00</td>\n",
       "      <td>1932.31</td>\n",
       "      <td>0.00</td>\n",
       "      <td>0.00</td>\n",
       "      <td>877.39</td>\n",
       "      <td>0.0</td>\n",
       "      <td>0.0</td>\n",
       "      <td>0.00</td>\n",
       "    </tr>\n",
       "    <tr>\n",
       "      <th>...</th>\n",
       "      <td>...</td>\n",
       "      <td>...</td>\n",
       "      <td>...</td>\n",
       "      <td>...</td>\n",
       "      <td>...</td>\n",
       "      <td>...</td>\n",
       "      <td>...</td>\n",
       "      <td>...</td>\n",
       "      <td>...</td>\n",
       "    </tr>\n",
       "    <tr>\n",
       "      <th>Peru</th>\n",
       "      <td>0.00</td>\n",
       "      <td>0.00</td>\n",
       "      <td>0.00</td>\n",
       "      <td>207.00</td>\n",
       "      <td>0.00</td>\n",
       "      <td>1106.00</td>\n",
       "      <td>0.0</td>\n",
       "      <td>0.0</td>\n",
       "      <td>0.00</td>\n",
       "    </tr>\n",
       "    <tr>\n",
       "      <th>Paraguay</th>\n",
       "      <td>0.00</td>\n",
       "      <td>0.00</td>\n",
       "      <td>0.00</td>\n",
       "      <td>0.00</td>\n",
       "      <td>0.00</td>\n",
       "      <td>0.00</td>\n",
       "      <td>0.0</td>\n",
       "      <td>0.0</td>\n",
       "      <td>0.00</td>\n",
       "    </tr>\n",
       "    <tr>\n",
       "      <th>Papua New Guinea</th>\n",
       "      <td>0.00</td>\n",
       "      <td>0.00</td>\n",
       "      <td>0.00</td>\n",
       "      <td>0.00</td>\n",
       "      <td>0.00</td>\n",
       "      <td>265.00</td>\n",
       "      <td>0.0</td>\n",
       "      <td>0.0</td>\n",
       "      <td>0.00</td>\n",
       "    </tr>\n",
       "    <tr>\n",
       "      <th>Panama</th>\n",
       "      <td>0.00</td>\n",
       "      <td>0.00</td>\n",
       "      <td>0.00</td>\n",
       "      <td>0.00</td>\n",
       "      <td>0.00</td>\n",
       "      <td>131.00</td>\n",
       "      <td>0.0</td>\n",
       "      <td>0.0</td>\n",
       "      <td>0.00</td>\n",
       "    </tr>\n",
       "    <tr>\n",
       "      <th>Bosnia and Herzegovina</th>\n",
       "      <td>0.00</td>\n",
       "      <td>0.00</td>\n",
       "      <td>0.00</td>\n",
       "      <td>0.00</td>\n",
       "      <td>313.64</td>\n",
       "      <td>0.00</td>\n",
       "      <td>0.0</td>\n",
       "      <td>0.0</td>\n",
       "      <td>0.00</td>\n",
       "    </tr>\n",
       "  </tbody>\n",
       "</table>\n",
       "<p>161 rows × 9 columns</p>\n",
       "</div>"
      ],
      "text/plain": [
       "                        Proposed  Construction  Proposed+Construction  \\\n",
       "United States            2913.14        136.75                3049.89   \n",
       "India                    1194.00       1630.00                2824.00   \n",
       "China                    1046.59       1486.08                2532.67   \n",
       "Russia                   1494.20        557.01                2051.21   \n",
       "Tanzania                 1932.31          0.00                1932.31   \n",
       "...                          ...           ...                    ...   \n",
       "Peru                        0.00          0.00                   0.00   \n",
       "Paraguay                    0.00          0.00                   0.00   \n",
       "Papua New Guinea            0.00          0.00                   0.00   \n",
       "Panama                      0.00          0.00                   0.00   \n",
       "Bosnia and Herzegovina      0.00          0.00                   0.00   \n",
       "\n",
       "                        Shelved  Cancelled  Operating  Idle  Mothballed  \\\n",
       "United States           1681.75   24221.22   98015.09   0.0         0.0   \n",
       "India                      0.00    1338.00    8859.33   0.0         0.0   \n",
       "China                      0.00    8477.06   25271.28   0.0         0.0   \n",
       "Russia                     0.00     541.52   40091.91   0.0        52.0   \n",
       "Tanzania                   0.00       0.00     877.39   0.0         0.0   \n",
       "...                         ...        ...        ...   ...         ...   \n",
       "Peru                     207.00       0.00    1106.00   0.0         0.0   \n",
       "Paraguay                   0.00       0.00       0.00   0.0         0.0   \n",
       "Papua New Guinea           0.00       0.00     265.00   0.0         0.0   \n",
       "Panama                     0.00       0.00     131.00   0.0         0.0   \n",
       "Bosnia and Herzegovina     0.00     313.64       0.00   0.0         0.0   \n",
       "\n",
       "                        Retired  \n",
       "United States           1432.00  \n",
       "India                      0.00  \n",
       "China                   6825.55  \n",
       "Russia                   618.00  \n",
       "Tanzania                   0.00  \n",
       "...                         ...  \n",
       "Peru                       0.00  \n",
       "Paraguay                   0.00  \n",
       "Papua New Guinea           0.00  \n",
       "Panama                     0.00  \n",
       "Bosnia and Herzegovina     0.00  \n",
       "\n",
       "[161 rows x 9 columns]"
      ]
     },
     "execution_count": 44,
     "metadata": {},
     "output_type": "execute_result"
    }
   ],
   "source": [
    "km_by_country_df"
   ]
  },
  {
   "cell_type": "markdown",
   "id": "99fe358c",
   "metadata": {},
   "source": [
    "# numbers of pipes finished in a given year"
   ]
  },
  {
   "cell_type": "code",
   "execution_count": 45,
   "id": "198c9165",
   "metadata": {},
   "outputs": [],
   "source": [
    "# count pipelines that are already operating\n",
    "pipes_started = pipes_df_orig.copy()\n",
    "pipes_started['StartYearEarliest'].replace(numpy.nan,'',inplace=True)\n",
    "pipes_started = pipes_started[(pipes_started['Status'].isin(['Operating'])) &\n",
    "                              (pipes_started['Fuel']=='Oil')]\n",
    "pipes_started_sum = pipes_started.groupby('StartYearEarliest')['LengthMergedKm'].sum()"
   ]
  },
  {
   "cell_type": "code",
   "execution_count": 46,
   "id": "8d9559e8-1fc7-49c1-833f-6e19e425e498",
   "metadata": {},
   "outputs": [],
   "source": [
    "# count km of pipeline for each start year\n",
    "pipes_started_startyear = pipes_df_orig.copy()\n",
    "pipes_started_startyear['StartYearEarliest'].replace(numpy.nan,'',inplace=True)\n",
    "pipes_started_startyear = pipes_started_startyear[(pipes_started_startyear['Status'].isin(['Operating'])) &\n",
    "                              (pipes_started_startyear['Fuel']=='Oil')]\n",
    "#pipes_started_startyear_sum = pipes_started_startyear.groupby('StartYearLatest')['LengthMergedKm'].sum()"
   ]
  },
  {
   "cell_type": "code",
   "execution_count": 47,
   "id": "b944ca0c-f362-4d07-a142-78b1523e988d",
   "metadata": {},
   "outputs": [],
   "source": [
    "# indev pipelines = Proposed or Construction\n",
    "pipes_indev = pipes_df_orig.copy()\n",
    "pipes_indev = pipes_indev[pipes_indev['Fuel']=='Oil']\n",
    "pipes_indev = pipes_indev.groupby('Status')['LengthMergedKm'].sum()"
   ]
  },
  {
   "cell_type": "code",
   "execution_count": 48,
   "id": "d15a4dbf-af9f-4c41-bb90-bc045c099402",
   "metadata": {},
   "outputs": [],
   "source": [
    "pipes_indev_to2030 = pipes_df_orig.copy()\n",
    "pipes_indev_to2030 = pipes_indev_to2030[(pipes_indev_to2030['Fuel']=='Oil') &\n",
    "                                        (pipes_indev_to2030['Status'].isin(['Proposed','Construction','Shelved'])) &\n",
    "                                        (pipes_indev_to2030['StartYearEarliest'].isin(list(range(2023,2031))))]\n",
    "pipes_indev_to2030 = pipes_indev_to2030.groupby('Status')['LengthMergedKm'].sum()"
   ]
  },
  {
   "cell_type": "code",
   "execution_count": 49,
   "id": "5bd752fe-875a-4bc2-8429-0910473d52c6",
   "metadata": {},
   "outputs": [],
   "source": [
    "pipes_indev_startyear = pipes_df_orig.copy()\n",
    "pipes_indev_startyear = pipes_indev_startyear[(pipes_indev_startyear['Status'].isin(['Proposed','Construction','Shelved'])) &\n",
    "                                              (pipes_indev_startyear['Fuel']=='Oil')]\n",
    "pipes_indev_startyear = pipes_indev_startyear.groupby(['Status','StartYearEarliest'])['LengthMergedKm'].sum()"
   ]
  },
  {
   "cell_type": "markdown",
   "id": "5a075334-5559-443b-a8bf-c2cc32c2ece7",
   "metadata": {},
   "source": [
    "## Fig 2 again - 2023–2030, go back to 2008"
   ]
  },
  {
   "cell_type": "code",
   "execution_count": 50,
   "id": "4bb554ce-432a-4f7f-b397-12aefd7cdead",
   "metadata": {},
   "outputs": [
    {
     "data": {
      "image/png": "[encoded data removed]",
      "text/plain": [
       "<Figure size 234x288 with 2 Axes>"
      ]
     },
     "metadata": {
      "needs_background": "light"
     },
     "output_type": "display_data"
    }
   ],
   "source": [
    "font_size = 7\n",
    "\n",
    "ytop = 20000\n",
    "ytop2 = 20000\n",
    "\n",
    "fig = mp.figure(figsize=(3.25,4))\n",
    "\n",
    "widths=[15,3]\n",
    "spec = fig.add_gridspec(ncols=2, nrows=1, width_ratios=widths)\n",
    "\n",
    "ax = fig.add_subplot(spec[0,0])\n",
    "\n",
    "#axpos = ax.get_position()\n",
    "ax.bar(pipes_started_sum.index.values[-15:-1], pipes_started_sum.values[-15:-1],\n",
    "       color=tracker_operating, label='Operating') # color=solar_base03\n",
    "ax.tick_params(labelsize=font_size)\n",
    "ax.tick_params('x', rotation=45)\n",
    "#ax.set_xlabel('start year', size=font_size)\n",
    "ax.set_ylabel('km', size=font_size)\n",
    "\n",
    "ax.set_xlim(2007.25, 2021.75)\n",
    "ax.set_ylim(0, ytop)\n",
    "\n",
    "ax.xaxis.set_major_locator(matplotlib.ticker.MaxNLocator(integer=True))\n",
    "\n",
    "ax2 = fig.add_subplot(spec[0,1])\n",
    "ax2.set_ylim(0, ytop2)\n",
    "ax2.set_xlim(0.25,3.75)\n",
    "#ax2pos = ax2.get_position()\n",
    "xvals = [1,2,3]\n",
    "\n",
    "#colors = [solar_orange, solar_yellow, '0.75']\n",
    "colors = [tracker_construction, tracker_proposed, tracker_shelved]\n",
    "status = ['Construction', 'Proposed', 'Shelved']\n",
    "ax2_list = []\n",
    "for x,c,s in zip(xvals,colors,status):\n",
    "    ax2_list.append(ax2.bar(x, pipes_indev[s],\n",
    "             color=c, label=s))\n",
    "\n",
    "ax_h, ax_l = ax.get_legend_handles_labels()\n",
    "ax2_h, ax2_l = ax2.get_legend_handles_labels()\n",
    "\n",
    "#ax2.set_xlabel('possible\\nfuture', size=font_size)\n",
    "#ax2.set_yticklabels([])\n",
    "ax2.set_xticklabels([])\n",
    "ax2.tick_params(labelsize=font_size)\n",
    "ax2.set_xticks([])\n",
    "\n",
    "ax2.yaxis.tick_right()\n",
    "ax2.set_ylabel('km', fontsize=font_size, rotation=-90, labelpad=10)\n",
    "ax2.yaxis.set_label_position('right')\n",
    "#ax2.set_yticklabels([])\n",
    "#ax2.set_yticks([])\n",
    "\n",
    "ax.legend(handles=ax_h+ax2_h, fontsize=font_size, frameon=False)\n",
    "\n",
    "axpos = ax.get_position()\n",
    "ax2pos = ax2.get_position()\n",
    "\n",
    "ax.spines['right'].set_visible(False)\n",
    "ax.spines['top'].set_visible(False)\n",
    "\n",
    "ax2.spines['left'].set_visible(False)\n",
    "ax2.spines['top'].set_visible(False)\n",
    "#ax2.spines['right'].set_visible(False)\n",
    "\n",
    "ax.set_title('commissioned by year', fontsize=font_size)\n",
    "ax2.set_title('future', fontsize=font_size)\n",
    "\n",
    "fig.tight_layout()#w_pad=0.05)\n",
    "#fig.subplots_adjust(wspace=0.05, hspace=None)\n",
    "\n",
    "mp.savefig('saved-figures/oil-pipelines_km-by-start-year-backto2008.png', bbox_inches='tight', transparent=True, dpi=600)\n",
    "mp.savefig('saved-figures/oil-pipelines_km-by-start-year-backto2008.pdf', bbox_inches='tight', transparent=True)"
   ]
  },
  {
   "cell_type": "markdown",
   "id": "278b1549-5bbe-4760-91b1-f2061af98c42",
   "metadata": {},
   "source": [
    "## plus/minus 8 years"
   ]
  },
  {
   "cell_type": "code",
   "execution_count": 51,
   "id": "022cf8e1-137e-41ae-a1b5-9715078d82d9",
   "metadata": {},
   "outputs": [
    {
     "data": {
      "image/png": "[encoded data removed]",
      "text/plain": [
       "<Figure size 234x288 with 2 Axes>"
      ]
     },
     "metadata": {
      "needs_background": "light"
     },
     "output_type": "display_data"
    }
   ],
   "source": [
    "font_size = 7\n",
    "\n",
    "ytop = 20000\n",
    "ytop2 = 20000\n",
    "\n",
    "fig = mp.figure(figsize=(3.25,4))\n",
    "\n",
    "widths=[15,3]\n",
    "spec = fig.add_gridspec(ncols=2, nrows=1, width_ratios=widths)\n",
    "\n",
    "ax = fig.add_subplot(spec[0,0])\n",
    "\n",
    "#axpos = ax.get_position()\n",
    "ax.bar(pipes_started_sum.index.values[-15:-1], pipes_started_sum.values[-15:-1],\n",
    "       color=tracker_operating, label='Operating') # color=solar_base03\n",
    "ax.tick_params(labelsize=font_size)\n",
    "ax.tick_params('x', rotation=45)\n",
    "#ax.set_xlabel('start year', size=font_size)\n",
    "ax.set_ylabel('km', size=font_size)\n",
    "\n",
    "ax.set_xlim(2007.25, 2021.75)\n",
    "ax.set_ylim(0, ytop)\n",
    "\n",
    "ax.xaxis.set_major_locator(matplotlib.ticker.MaxNLocator(integer=True))\n",
    "\n",
    "ax2 = fig.add_subplot(spec[0,1])\n",
    "ax2.set_ylim(0, ytop2)\n",
    "ax2.set_xlim(0.25,3.75)\n",
    "#ax2pos = ax2.get_position()\n",
    "xvals = [1,2,3]\n",
    "\n",
    "#colors = [solar_orange, solar_yellow, '0.75']\n",
    "colors = [tracker_construction, tracker_proposed, tracker_shelved]\n",
    "status = ['Construction', 'Proposed', 'Shelved']\n",
    "status_alt = ['Construction\\n(beyond 2030)', 'Proposed\\n(beyond 2030)', 'Shelved\\n(beyond 2030)']\n",
    "ax2_list = []\n",
    "\n",
    "for x,c,s in zip(xvals,colors,status):\n",
    "    ax2_list.append(ax2.bar(x, pipes_indev_to2030[s],\n",
    "             color=c, label=s))\n",
    "\n",
    "for x,c,s,s_alt in zip(xvals,colors,status,status_alt):\n",
    "    ax2_list.append(ax2.bar(x, pipes_indev[s], bottom=pipes_indev_to2030[s],\n",
    "             color=c, label=s_alt, alpha=0.333))\n",
    "\n",
    "ax_h, ax_l = ax.get_legend_handles_labels()\n",
    "ax2_h, ax2_l = ax2.get_legend_handles_labels()\n",
    "\n",
    "#ax2.set_xlabel('possible\\nfuture', size=font_size)\n",
    "#ax2.set_yticklabels([])\n",
    "ax2.set_xticklabels([])\n",
    "ax2.tick_params(labelsize=font_size)\n",
    "ax2.set_xticks([])\n",
    "\n",
    "ax2.yaxis.tick_right()\n",
    "ax2.set_ylabel('km', fontsize=font_size, rotation=-90, labelpad=10)\n",
    "ax2.yaxis.set_label_position('right')\n",
    "#ax2.set_yticklabels([])\n",
    "#ax2.set_yticks([])\n",
    "\n",
    "ax.legend(handles=ax_h+ax2_h, fontsize=font_size, frameon=False)\n",
    "\n",
    "axpos = ax.get_position()\n",
    "ax2pos = ax2.get_position()\n",
    "\n",
    "ax.spines['right'].set_visible(False)\n",
    "ax.spines['top'].set_visible(False)\n",
    "\n",
    "ax2.spines['left'].set_visible(False)\n",
    "ax2.spines['top'].set_visible(False)\n",
    "#ax2.spines['right'].set_visible(False)\n",
    "\n",
    "ax.set_title('commissioned by year', fontsize=font_size)\n",
    "ax2.set_title('future', fontsize=font_size)\n",
    "\n",
    "fig.tight_layout()#w_pad=0.05)\n",
    "#fig.subplots_adjust(wspace=0.05, hspace=None)\n",
    "\n",
    "#mp.savefig('saved-figures/oil-pipelines_km-by-start-year-plusminus-8yrs.png', bbox_inches='tight', transparent=True, dpi=600)\n",
    "#mp.savefig('saved-figures/oil-pipelines_km-by-start-year-plusminus-8yrs.pdf', bbox_inches='tight', transparent=True)"
   ]
  },
  {
   "cell_type": "markdown",
   "id": "8298e2a6-3199-460c-8109-9f2ce4e9f680",
   "metadata": {},
   "source": [
    "## percent pipelines with start date (sanity check)"
   ]
  },
  {
   "cell_type": "code",
   "execution_count": 52,
   "id": "9b19f13c-1f8e-47eb-abff-f8ee5545ba20",
   "metadata": {},
   "outputs": [],
   "source": [
    "pipes_scratch = pipes_df_orig.copy()\n",
    "pipes_scratch = pipes_scratch[(pipes_scratch['Fuel']=='Oil') &\n",
    "                              (pipes_scratch['Status'].isin(['Proposed','Construction','Shelved']))]"
   ]
  },
  {
   "cell_type": "code",
   "execution_count": 53,
   "id": "4b88a57c-41dd-4d0a-a3ca-3c08d90892ac",
   "metadata": {},
   "outputs": [
    {
     "data": {
      "text/plain": [
       "0.6037735849056604"
      ]
     },
     "execution_count": 53,
     "metadata": {},
     "output_type": "execute_result"
    }
   ],
   "source": [
    "pipes_scratch[~pipes_scratch['StartYearEarliest'].isnull()]['StartYearEarliest'].count()/pipes_scratch.shape[0]\n"
   ]
  },
  {
   "cell_type": "markdown",
   "id": "358e0310",
   "metadata": {},
   "source": [
    "## regional pipelines started in given year"
   ]
  },
  {
   "cell_type": "code",
   "execution_count": 54,
   "id": "bc05d721",
   "metadata": {},
   "outputs": [],
   "source": [
    "years_array = numpy.arange( float(pipes_df_orig['StartYearEarliest'].min()), float(pipes_df_orig['StartYearEarliest'].max())+1)\n",
    "regions_startyear_sums_df = pandas.DataFrame(numpy.nan, index=years_array, columns=region_list)"
   ]
  },
  {
   "cell_type": "code",
   "execution_count": 55,
   "id": "b1fca66b",
   "metadata": {},
   "outputs": [],
   "source": [
    "#pipes_started = pipes_df.copy()[(pipes_df['Status'].isin(['Operating'])) & pipes_df['Fuel']=='Gas']\n",
    "#pipes_started_sum = pipes_started.groupby('StartYearLatest')['LengthMergedKm'].sum()\n",
    "\n",
    "for region in region_list:\n",
    "    pipes_started = pipes_df_orig.copy()[(pipes_df_orig['Status'].isin(['Operating','Retired','Idle'])) & \n",
    "                                    (pipes_df_orig['Fuel']=='Oil')]\n",
    "    pipes_started = pipes_started[pipes_started['StartRegion']==region]\n",
    "    pipes_started_sum_up = pipes_started.groupby('StartYearEarliest')['LengthMergedKm'].sum()\n",
    "    \n",
    "    regions_startyear_sums_df[region] = pipes_started_sum_up"
   ]
  },
  {
   "cell_type": "code",
   "execution_count": 56,
   "id": "37727617-097d-400e-82f7-bc396ec094aa",
   "metadata": {},
   "outputs": [],
   "source": [
    "if len(region_list)!=10:\n",
    "    region_list = region_list[2:]"
   ]
  },
  {
   "cell_type": "markdown",
   "id": "0299445b-00c6-448c-9db4-1ee541d487ed",
   "metadata": {},
   "source": [
    "## plot pie chart of regional values"
   ]
  },
  {
   "cell_type": "code",
   "execution_count": 57,
   "id": "226216bb-58ee-4c37-af1f-637b84aa56ea",
   "metadata": {},
   "outputs": [
    {
     "data": {
      "image/png": "[encoded data removed]",
      "text/plain": [
       "<Figure size 720x72 with 1 Axes>"
      ]
     },
     "metadata": {
      "needs_background": "light"
     },
     "output_type": "display_data"
    },
    {
     "data": {
      "image/png": "[encoded data removed]",
      "text/plain": [
       "<Figure size 720x72 with 1 Axes>"
      ]
     },
     "metadata": {
      "needs_background": "light"
     },
     "output_type": "display_data"
    }
   ],
   "source": [
    "# mess with some color pallettes\n",
    "#seaborn.color_palette('husl', 10)\n",
    "seaborn.palplot(seaborn.husl_palette(10, s=0.9, l=0.75, h=0.15))\n",
    "seaborn.palplot(seaborn.husl_palette(10, h=0.15))\n",
    "\n",
    "cmap_dark = seaborn.husl_palette(10, h=0.15, l=0.4, s=0.8, as_cmap=True)\n",
    "cmap_light = seaborn.husl_palette(10, h=0.15, s=1, as_cmap=True)"
   ]
  },
  {
   "cell_type": "code",
   "execution_count": 58,
   "id": "2efd35e5-b020-45a3-8686-1c1cf1e65bcb",
   "metadata": {},
   "outputs": [
    {
     "data": {
      "image/png": "[encoded data removed]",
      "text/plain": [
       "<Figure size 360x360 with 1 Axes>"
      ]
     },
     "metadata": {},
     "output_type": "display_data"
    }
   ],
   "source": [
    "font_size=7\n",
    "\n",
    "fig = mp.figure(figsize=(5,5))\n",
    "ax = fig.add_subplot(111)\n",
    "\n",
    "nwedges = region_list.__len__()\n",
    "region_order = km_by_region_df.index[:nwedges]\n",
    "\n",
    "pie_vals = km_by_region_df.loc[region_order]['Proposed+Construction'].values\n",
    "pie_labels = km_by_region_df.index\n",
    "pie_labels_km = km_by_region_df.loc[region_order]['Proposed+Construction'].apply(lambda x: f'\\n{int(round(x,-2)):,} km')\n",
    "pie_labels_perc = (km_by_region_df.loc[region_order]['Proposed+Construction'] / \n",
    "                   km_by_region_df.loc[region_order]['Proposed+Construction'].sum() * 100.).apply(lambda x: f'\\n{x:.1f}%')\n",
    "\n",
    "# ****************************************\n",
    "pie_vals_separated = km_by_region_df.loc[region_order][['Construction','Proposed']].values.flatten()\n",
    "#pie_labels_separated = numpy.array(list(zip(km_by_region_df.index[:-1],km_by_region_df.index[:-1]))).flatten()\n",
    "#pie_labels_km = km_by_region_df.loc[region_order]['Proposed+Construction'].apply(lambda x: f'\\n{int(round(x,-3)):,} km')\n",
    "\n",
    "nwedges_separated = 20\n",
    "cmap_light_10 = cmap_light(numpy.linspace(0,1,nwedges))\n",
    "cmap_dark_10 = cmap_dark(numpy.linspace(0,1,nwedges))\n",
    "\n",
    "pie_labels = [i+j+k for i,j,k in zip(pie_labels, pie_labels_km, pie_labels_perc)]\n",
    "pie_width = 0.666\n",
    "\n",
    "# ****************************************\n",
    "# size=0.3\n",
    "ax.pie(pie_vals_separated, \n",
    "       #labels=pie_labels,\n",
    "       #radius=1-size,\n",
    "       colors=numpy.hstack((cmap_light_10, cmap_dark_10)).reshape(20,-1),\n",
    "       wedgeprops=dict(width=pie_width),\n",
    "       textprops={'fontsize': font_size})\n",
    "ax.pie(pie_vals, \n",
    "       labels=pie_labels,\n",
    "       #radius=1,\n",
    "       #bottom=0.25,\n",
    "       colors=None,#cmap(numpy.linspace(0,1,pie_vals.size))[::-1],\n",
    "       wedgeprops=dict(edgecolor='1', facecolor='None', linewidth=2, width=pie_width),\n",
    "       textprops={'fontsize': font_size})\n",
    "\n",
    "\n",
    "ax.tick_params(labelsize=font_size)\n",
    "\n",
    "fig.tight_layout()\n",
    "\n",
    "mp.savefig('saved-figures/oil-pipelines_pie-graph-country-pipelines-km.pdf', bbox_inches='tight', transparent=True)\n",
    "\n",
    "#mp.savefig('saved-figures/oil-pipelines_pie-graph-country-pipelines-km.png', \n",
    "#           bbox_inches='tight', \n",
    "#           transparent=True,\n",
    "#           dpi=600)"
   ]
  },
  {
   "cell_type": "markdown",
   "id": "712acc4e",
   "metadata": {},
   "source": [
    "# top 20 countries proposed+construction"
   ]
  },
  {
   "cell_type": "code",
   "execution_count": 59,
   "id": "e4961c91-d30b-4e76-9e26-94a0ae21ba70",
   "metadata": {},
   "outputs": [],
   "source": [
    "def adjust_spines(ax, spines):\n",
    "    for loc, spine in ax.spines.items():\n",
    "        if loc in spines:\n",
    "            spine.set_position(('outward', 10))  # outward by 10 points\n",
    "        else:\n",
    "            spine.set_color('none')  # don't draw spine\n",
    "\n",
    "    # turn off ticks where there is no spine\n",
    "    if 'left' in spines:\n",
    "        ax.yaxis.set_ticks_position('left')\n",
    "    else:\n",
    "        # no yaxis ticks\n",
    "        ax.yaxis.set_ticks([])\n",
    "\n",
    "    if 'bottom' in spines:\n",
    "        ax.xaxis.set_ticks_position('bottom')\n",
    "    else:\n",
    "        # no xaxis ticks\n",
    "        ax.xaxis.set_ticks([])"
   ]
  },
  {
   "cell_type": "code",
   "execution_count": 60,
   "id": "3cdebc59",
   "metadata": {
    "tags": []
   },
   "outputs": [
    {
     "data": {
      "image/png": "[encoded data removed]",
      "text/plain": [
       "<Figure size 486x288 with 1 Axes>"
      ]
     },
     "metadata": {
      "needs_background": "light"
     },
     "output_type": "display_data"
    }
   ],
   "source": [
    "font_size = 7\n",
    "fig = mp.figure(figsize=(6.75,4))\n",
    "nbars=20\n",
    "\n",
    "country_order = km_by_country_df.index[:nbars][::-1]\n",
    "\n",
    "ax = fig.add_subplot(111)\n",
    "\n",
    "ax.barh(numpy.arange(nbars), \n",
    "        km_by_country_df.loc[country_order]['Construction'].values, \n",
    "        facecolor=tracker_construction,#solar_orange, \n",
    "        label='Construction')\n",
    "\n",
    "ax.barh(numpy.arange(nbars), \n",
    "        km_by_country_df.loc[country_order]['Proposed'].values, \n",
    "        left=km_by_country_df.loc[country_order]['Construction'].values, \n",
    "        facecolor=tracker_proposed,#solar_yellow, \n",
    "        label='Proposed')\n",
    "\n",
    "ax.barh(numpy.arange(nbars), \n",
    "        km_by_country_df.loc[country_order]['Shelved'].values, \n",
    "        left=km_by_country_df.loc[country_order][['Proposed','Construction']].sum(axis=1).values, \n",
    "        facecolor=tracker_shelved,#'0.75', \n",
    "        label='Shelved')\n",
    "\n",
    "ax.barh(numpy.arange(nbars), \n",
    "        km_by_country_df.loc[country_order]['Cancelled'].values, \n",
    "        left=km_by_country_df.loc[country_order][['Proposed','Construction','Shelved']].sum(axis=1).values, \n",
    "        facecolor=tracker_cancelled,#'0.9', \n",
    "        label='Cancelled')\n",
    "\n",
    "ax.set_yticks(numpy.arange(nbars))\n",
    "ax.set_yticklabels(km_by_country_df.index[:nbars][::-1])\n",
    "ax.tick_params(labelsize=font_size)\n",
    "ax.tick_params('x', pad=0)\n",
    "ax.set_xlim(0,30000)\n",
    "#ax.set_ylim(-.75,19.75)\n",
    "ax.set_ylim(-.25,20)\n",
    "ax.set_xlabel('km', size=font_size)#, labelpad=10)\n",
    "ax.xaxis.set_ticks_position('top')\n",
    "ax.xaxis.set_label_position('top')\n",
    "\n",
    "ax.legend(fontsize=font_size, frameon=False, loc='lower right')\n",
    "\n",
    "ax.spines['right'].set_visible(False)\n",
    "ax.spines['left'].set_visible(False)\n",
    "ax.spines['bottom'].set_visible(False)\n",
    "\n",
    "#mp.savefig('saved-figures/oil-pipelines_top-20-countries.pdf', bbox_inches='tight', transparent=True)\n",
    "\n",
    "#adjust_spines(ax, ['top'])\n",
    "    \n",
    "mp.savefig('saved-figures/oil-pipelines_top-20-countries.png',\n",
    "          bbox_inches='tight', \n",
    "          transparent=True,\n",
    "          dpi=600)\n",
    "\n",
    "mp.savefig('saved-figures/oil-pipelines_top-20-countries.pdf',\n",
    "          bbox_inches='tight', \n",
    "          transparent=True)"
   ]
  },
  {
   "cell_type": "markdown",
   "id": "3b0980c1-af1a-4b83-a13e-ec9f8942a6ff",
   "metadata": {},
   "source": [
    "# top 20 without cancelled and shelved bars"
   ]
  },
  {
   "cell_type": "code",
   "execution_count": 61,
   "id": "f96b605e-5079-43e8-b117-5f5ebd2f708b",
   "metadata": {},
   "outputs": [
    {
     "data": {
      "image/png": "[encoded data removed]",
      "text/plain": [
       "<Figure size 486x288 with 1 Axes>"
      ]
     },
     "metadata": {
      "needs_background": "light"
     },
     "output_type": "display_data"
    }
   ],
   "source": [
    "sel_cmap = matplotlib.cm.get_cmap('Reds')\n",
    "#tracker_operating = sel_cmap(0.999)\n",
    "#tracker_construction = sel_cmap(0.8)\n",
    "#tracker_proposed = sel_cmap(0.6)\n",
    "#tracker_shelved = sel_cmap(0.4)\n",
    "#tracker_cancelled = sel_cmap(0.2)\n",
    "\n",
    "font_size = 7\n",
    "fig = mp.figure(figsize=(6.75,4))\n",
    "nbars=20\n",
    "\n",
    "country_order = km_by_country_df.index[:nbars][::-1]\n",
    "\n",
    "ax = fig.add_subplot(111)\n",
    "\n",
    "ax.barh(numpy.arange(nbars), \n",
    "        km_by_country_df.loc[country_order]['Construction'].values, \n",
    "        facecolor=sel_cmap(0.8),\n",
    "        label='Construction', height=0.6)\n",
    "\n",
    "ax.barh(numpy.arange(nbars), \n",
    "        km_by_country_df.loc[country_order]['Proposed'].values, \n",
    "        left=km_by_country_df.loc[country_order]['Construction'].values, \n",
    "        facecolor=sel_cmap(0.4),\n",
    "        label='Proposed', height=0.6)\n",
    "\n",
    "ax.set_yticks(numpy.arange(nbars))\n",
    "ax.set_yticklabels(km_by_country_df.index[:nbars][::-1])\n",
    "ax.tick_params(labelsize=font_size)\n",
    "ax.tick_params('x', pad=0)\n",
    "ax.set_xlim(0,3250)\n",
    "#ax.set_ylim(-.75,19.75)\n",
    "ax.set_ylim(-.25,20)\n",
    "ax.set_xlabel('km', size=font_size)#, labelpad=10)\n",
    "ax.xaxis.set_ticks_position('top')\n",
    "ax.xaxis.set_label_position('top')\n",
    "\n",
    "ax.legend(fontsize=font_size, frameon=False, loc='lower right')\n",
    "\n",
    "ax.spines['right'].set_visible(False)\n",
    "ax.spines['left'].set_visible(False)\n",
    "ax.spines['bottom'].set_visible(False)\n",
    "\n",
    "#ax.xaxis.grid(True, which='minor')\n",
    "ax.xaxis.set_minor_locator(matplotlib.ticker.AutoMinorLocator(2))\n",
    "\n",
    "\n",
    "#mp.savefig('saved-figures/oil-pipelines_top-20-countries.pdf', bbox_inches='tight', transparent=True)\n",
    "\n",
    "#adjust_spines(ax, ['top'])\n",
    "    \n",
    "mp.savefig('saved-figures/oil-pipelines_top-20-countries-no-cancelled-shelved.png',\n",
    "          bbox_inches='tight', \n",
    "          transparent=True,\n",
    "          dpi=600)\n",
    "\n",
    "mp.savefig('saved-figures/oil-pipelines_top-20-countries-no-cancelled-shelved.pdf',\n",
    "          bbox_inches='tight', \n",
    "          transparent=True)"
   ]
  },
  {
   "cell_type": "code",
   "execution_count": 62,
   "id": "3906d28f",
   "metadata": {},
   "outputs": [
    {
     "data": {
      "text/plain": [
       "0.8968378186968838"
      ]
     },
     "execution_count": 62,
     "metadata": {},
     "output_type": "execute_result"
    }
   ],
   "source": [
    "# ratio of China to India (how many times larger is km of Chinese pipelines than India?)\n",
    "km_by_country_df.loc['China']['Proposed+Construction']/km_by_country_df.loc['India']['Proposed+Construction']"
   ]
  },
  {
   "cell_type": "markdown",
   "id": "ef4ea45f-4fac-4b6f-a619-dd3ecd24b143",
   "metadata": {},
   "source": [
    "# parent analysis"
   ]
  },
  {
   "cell_type": "code",
   "execution_count": 91,
   "id": "f95329ed-9812-4d28-be52-35386c81df7f",
   "metadata": {},
   "outputs": [
    {
     "ename": "IndexError",
     "evalue": "index 0 is out of bounds for axis 0 with size 0",
     "output_type": "error",
     "traceback": [
      "\u001b[0;31m---------------------------------------------------------------------------\u001b[0m",
      "\u001b[0;31mIndexError\u001b[0m                                Traceback (most recent call last)",
      "Input \u001b[0;32mIn [91]\u001b[0m, in \u001b[0;36m<module>\u001b[0;34m\u001b[0m\n\u001b[1;32m     17\u001b[0m             percent_list \u001b[38;5;241m+\u001b[39m\u001b[38;5;241m=\u001b[39m [leftover\u001b[38;5;241m/\u001b[39mnmissing]\u001b[38;5;241m*\u001b[39mnmissing\n\u001b[1;32m     19\u001b[0m     \u001b[38;5;28;01mfor\u001b[39;00m p_idx,parent \u001b[38;5;129;01min\u001b[39;00m \u001b[38;5;28menumerate\u001b[39m(parent_list):\n\u001b[1;32m     20\u001b[0m         owner_parent_calculations_df \u001b[38;5;241m=\u001b[39m pandas\u001b[38;5;241m.\u001b[39mconcat([owner_parent_calculations_df, \n\u001b[1;32m     21\u001b[0m                                                       pandas\u001b[38;5;241m.\u001b[39mDataFrame([{\u001b[38;5;124m'\u001b[39m\u001b[38;5;124mParent\u001b[39m\u001b[38;5;124m'\u001b[39m:parent, \u001b[38;5;124m'\u001b[39m\u001b[38;5;124mProjectID\u001b[39m\u001b[38;5;124m'\u001b[39m:row\u001b[38;5;241m.\u001b[39mProjectID, \n\u001b[1;32m     22\u001b[0m                                                                          \u001b[38;5;124m'\u001b[39m\u001b[38;5;124mFractionOwnership\u001b[39m\u001b[38;5;124m'\u001b[39m:percent_list[p_idx],\n\u001b[0;32m---> 23\u001b[0m                                                                          \u001b[38;5;124m'\u001b[39m\u001b[38;5;124mCountry\u001b[39m\u001b[38;5;124m'\u001b[39m:\u001b[43mparents_df\u001b[49m\u001b[38;5;241;43m.\u001b[39;49m\u001b[43mloc\u001b[49m\u001b[43m[\u001b[49m\u001b[43mparents_df\u001b[49m\u001b[38;5;241;43m.\u001b[39;49m\u001b[43mindex\u001b[49m\u001b[38;5;241;43m==\u001b[39;49m\u001b[43mparent\u001b[49m\u001b[43m]\u001b[49m\u001b[43m[\u001b[49m\u001b[38;5;124;43m'\u001b[39;49m\u001b[38;5;124;43mParentHQCountry\u001b[39;49m\u001b[38;5;124;43m'\u001b[39;49m\u001b[43m]\u001b[49m\u001b[38;5;241;43m.\u001b[39;49m\u001b[43mvalues\u001b[49m\u001b[43m[\u001b[49m\u001b[38;5;241;43m0\u001b[39;49m\u001b[43m]\u001b[49m,\n\u001b[1;32m     24\u001b[0m                                                                          \u001b[38;5;124m'\u001b[39m\u001b[38;5;124mStatus\u001b[39m\u001b[38;5;124m'\u001b[39m:row\u001b[38;5;241m.\u001b[39mStatus,\n\u001b[1;32m     25\u001b[0m                                                                          \u001b[38;5;124m'\u001b[39m\u001b[38;5;124mLengthMergedKm\u001b[39m\u001b[38;5;124m'\u001b[39m:row\u001b[38;5;241m.\u001b[39mLengthMergedKm,\n\u001b[1;32m     26\u001b[0m                                                                          \u001b[38;5;124m'\u001b[39m\u001b[38;5;124mCapacityBOEd\u001b[39m\u001b[38;5;124m'\u001b[39m:row\u001b[38;5;241m.\u001b[39mCapacityBOEd}])])\n\u001b[1;32m     28\u001b[0m owner_parent_calculations_df[\u001b[38;5;124m'\u001b[39m\u001b[38;5;124mKmOwnership\u001b[39m\u001b[38;5;124m'\u001b[39m] \u001b[38;5;241m=\u001b[39m owner_parent_calculations_df\u001b[38;5;241m.\u001b[39mFractionOwnership\u001b[38;5;241m*\u001b[39mowner_parent_calculations_df\u001b[38;5;241m.\u001b[39mLengthMergedKm\n\u001b[1;32m     29\u001b[0m owner_parent_calculations_df[\u001b[38;5;124m'\u001b[39m\u001b[38;5;124mCapacityOwnership\u001b[39m\u001b[38;5;124m'\u001b[39m] \u001b[38;5;241m=\u001b[39m owner_parent_calculations_df\u001b[38;5;241m.\u001b[39mFractionOwnership\u001b[38;5;241m*\u001b[39mowner_parent_calculations_df\u001b[38;5;241m.\u001b[39mCapacityBOEd\n",
      "\u001b[0;31mIndexError\u001b[0m: index 0 is out of bounds for axis 0 with size 0"
     ]
    }
   ],
   "source": [
    "owner_parent_calculations_df = pandas.DataFrame()\n",
    "# needs country, km in each country columns as well\n",
    "\n",
    "for idx,row in pipes_df_orig.loc[pipes_df_orig.Fuel=='Oil'].iterrows():\n",
    "    parent_string = row.Parent\n",
    "    parent_list = re.sub(' \\[.*?\\]', '', parent_string).split('; ') # all entries must have a Owner [%] syntax\n",
    "    percent_list = [float(i.rstrip('%'))/100. for i in re.findall('\\\\d+(?:\\\\.\\\\d+)?%', parent_string)]\n",
    "\n",
    "    if parent_list.__len__()!=percent_list.__len__():\n",
    "        if percent_list==[]:\n",
    "            percent_list = [1/parent_list.__len__() for i in parent_list]\n",
    "        else:\n",
    "            nmissing = parent_list.__len__()-percent_list.__len__()\n",
    "            # distribute nans evenly\n",
    "            total = numpy.nansum(percent_list)\n",
    "            leftover = 1-total\n",
    "            percent_list += [leftover/nmissing]*nmissing\n",
    "\n",
    "    for p_idx,parent in enumerate(parent_list):\n",
    "        owner_parent_calculations_df = pandas.concat([owner_parent_calculations_df, \n",
    "                                                      pandas.DataFrame([{'Parent':parent, 'ProjectID':row.ProjectID, \n",
    "                                                                         'FractionOwnership':percent_list[p_idx],\n",
    "                                                                         'Country':parents_df.loc[parents_df.index==parent]['ParentHQCountry'].values[0],\n",
    "                                                                         'Status':row.Status,\n",
    "                                                                         'LengthMergedKm':row.LengthMergedKm,\n",
    "                                                                         'CapacityBOEd':row.CapacityBOEd}])])\n",
    "\n",
    "owner_parent_calculations_df['KmOwnership'] = owner_parent_calculations_df.FractionOwnership*owner_parent_calculations_df.LengthMergedKm\n",
    "owner_parent_calculations_df['CapacityOwnership'] = owner_parent_calculations_df.FractionOwnership*owner_parent_calculations_df.CapacityBOEd"
   ]
  },
  {
   "cell_type": "code",
   "execution_count": 92,
   "id": "31186165-80ed-438f-bd19-288853e17465",
   "metadata": {},
   "outputs": [
    {
     "data": {
      "text/plain": [
       "'KazMunayGas'"
      ]
     },
     "execution_count": 92,
     "metadata": {},
     "output_type": "execute_result"
    }
   ],
   "source": [
    "parent"
   ]
  },
  {
   "cell_type": "markdown",
   "id": "d8b0603d-b6ea-47a4-a027-f7d933665b55",
   "metadata": {},
   "source": [
    "### companies invested in Russian infrastructure?\n",
    "\n",
    "it's really just ProjectIDs 2044 (Caspian Oil Pipeline), 3675 (Vostok Oil Pipeline), and 3679 (Sabo-Dagi Oil Pipeline)"
   ]
  },
  {
   "cell_type": "code",
   "execution_count": null,
   "id": "41e42270-fbb6-4dc1-9788-8b43bcacbd2b",
   "metadata": {},
   "outputs": [],
   "source": [
    "# project IDs of pipelines that pass through Russia and are construction/proposed\n",
    "russian_indev_projectids = country_ratios_oil_df.loc[(country_ratios_oil_df.Status.isin(['Proposed','Construction']))&\n",
    "                                                     (country_ratios_oil_df.Country=='Russia')]['ProjectID'].unique()\n",
    "#russian_indev_projectids\n",
    "russian_indev_op_df = owner_parent_calculations_df.loc[owner_parent_calculations_df.ProjectID.isin(russian_indev_projectids)]\n",
    "russian_indev_op_df.loc[russian_indev_op_df.Country!='Russia']"
   ]
  },
  {
   "cell_type": "markdown",
   "id": "2d82fc92-c9f5-4024-83f0-f0ec1a3bd69d",
   "metadata": {},
   "source": [
    "## biggest parent companies for in-dev stuff?"
   ]
  },
  {
   "cell_type": "code",
   "execution_count": null,
   "id": "7181e89d-3596-49e5-81cb-cce3d38839dd",
   "metadata": {},
   "outputs": [],
   "source": [
    "pandas.DataFrame(\n",
    "    owner_parent_calculations_df.loc[\n",
    "        owner_parent_calculations_df.Status.isin(['Proposed','Construction','Country'])].groupby(\n",
    "        'Parent')['KmOwnership'].sum()).sort_values('KmOwnership', ascending=False)[:20]"
   ]
  },
  {
   "cell_type": "code",
   "execution_count": null,
   "id": "694d3d2d-4df0-4713-b147-eef1d701b704",
   "metadata": {},
   "outputs": [],
   "source": [
    "pandas.DataFrame(\n",
    "    owner_parent_calculations_df.loc[\n",
    "        owner_parent_calculations_df.Status.isin(['Proposed','Construction'])].groupby(\n",
    "        ['Parent','Country'])[['KmOwnership','CapacityOwnership']].sum(min_count=1)).sort_values('KmOwnership', ascending=False)[:20]"
   ]
  },
  {
   "cell_type": "markdown",
   "id": "8ce8efa2-8a00-4d90-8156-c9d40d316290",
   "metadata": {},
   "source": [
    "### how many of the projects for each owner do we have capacity data for? (add fraction)\n",
    "\n",
    "### also calculate emissions estimates"
   ]
  },
  {
   "cell_type": "code",
   "execution_count": null,
   "id": "444f2dd9-336a-41aa-b288-15b8ea096f2a",
   "metadata": {},
   "outputs": [],
   "source": [
    "# kuhne paper\n",
    "co2_rate = 152.789 # number is 152,789 tCO2/year emissions per kilobarrel per day, divide by 1000 to get per bpd (bpd=BOEd)"
   ]
  },
  {
   "cell_type": "code",
   "execution_count": null,
   "id": "51911aa5-fdc0-4435-9c49-65033d1e4148",
   "metadata": {},
   "outputs": [],
   "source": [
    "x"
   ]
  },
  {
   "cell_type": "code",
   "execution_count": null,
   "id": "97f3fd5d-3410-45aa-bc2a-67b048e1ce85",
   "metadata": {},
   "outputs": [],
   "source": [
    "# calculate the number of CapacityBOEd entries, and which of those are NaNs\n",
    "# https://stackoverflow.com/questions/14529838/apply-multiple-functions-to-multiple-groupby-columns\n",
    "pandas.set_option('display.max_colwidth', None)\n",
    "result = owner_parent_calculations_df.loc[\n",
    "    owner_parent_calculations_df.Status.isin(['Proposed','Construction'])].groupby(\n",
    "    ['Parent','Country'])[['KmOwnership','CapacityBOEd','ProjectID']].agg({'KmOwnership':lambda x: x.sum(min_count=1),\n",
    "                                                                           'CapacityBOEd':[lambda x: x.sum(min_count=1),\n",
    "                                                                                           lambda x: x.dropna().count()],\n",
    "                                                                           'ProjectID':[lambda x: list(x.unique()).__len__(),\n",
    "                                                                                        lambda x: list(x.unique()),\n",
    "                                                                                        lambda x: [pipes_df_orig.loc[pipes_df_orig.ProjectID==i]['PipelineName'] for i in x]\n",
    "                                                                                                  ]})\n",
    "\n",
    "result['HowManyProjectsHaveCapacityData'] = result[('CapacityBOEd','<lambda_1>')].astype(str) + ' of ' + result[('ProjectID','<lambda_0>')].astype(str)\n",
    "result[['KmOwnership','CapacityBOEd','HowManyProjectsHaveCapacityData']].sort_values(('KmOwnership','<lambda>'), ascending=False)[:20]\n",
    "result['EmissionsMtCO2PerYear'] = result[('CapacityBOEd','<lambda_0>')]*co2_rate/1e6"
   ]
  },
  {
   "cell_type": "code",
   "execution_count": null,
   "id": "63cbb67c-4c91-4792-aa69-9a367bcde634",
   "metadata": {},
   "outputs": [],
   "source": [
    "result[[('KmOwnership','<lambda>'),\n",
    "        ('CapacityBOEd','<lambda_0>'),\n",
    "        ('EmissionsMtCO2PerYear',''),\n",
    "        ('HowManyProjectsHaveCapacityData',''),\n",
    "        ('ProjectID','<lambda_1>'),\n",
    "        ('ProjectID','<lambda_2>')]].sort_values(('KmOwnership','<lambda>'), ascending=False)[:20]"
   ]
  },
  {
   "cell_type": "markdown",
   "id": "a340a615-35b1-4a74-b9b6-67d6802de572",
   "metadata": {},
   "source": [
    "### total emissions globally (known capacity is at about 67%)"
   ]
  },
  {
   "cell_type": "code",
   "execution_count": null,
   "id": "6033b566-6170-4c74-aa4e-510c323da40c",
   "metadata": {},
   "outputs": [],
   "source": [
    "pipes_df_subset = pipes_df_orig.loc[(pipes_df_orig.Status.isin(['Construction','Proposed']))&\n",
    "                                     (pipes_df_orig.Fuel=='Oil')]\n",
    "print(pipes_df_subset['CapacityBcm/y'].dropna().size / pipes_df_subset['CapacityBcm/y'].size)\n",
    "pipes_df_subset['CapacityBOEd'].sum() * co2_rate / 1e6"
   ]
  },
  {
   "cell_type": "code",
   "execution_count": null,
   "id": "ae80b7e3-0361-4302-a4f8-aa92449e0121",
   "metadata": {},
   "outputs": [],
   "source": [
    "pipes_df_subset = pipes_df_orig.loc[(pipes_df_orig.Status.isin(['Proposed']))&\n",
    "                                     (pipes_df_orig.Fuel=='Oil')]\n",
    "print(pipes_df_subset['CapacityBcm/y'].dropna().size / pipes_df_subset['CapacityBcm/y'].size)\n",
    "pipes_df_subset['CapacityBOEd'].sum() * co2_rate / 1e6"
   ]
  },
  {
   "cell_type": "code",
   "execution_count": null,
   "id": "231d5617-cfc7-4c2d-a869-7d1e7fc4e399",
   "metadata": {},
   "outputs": [],
   "source": [
    "pipes_df_subset = pipes_df_orig.loc[(pipes_df_orig.Status.isin(['Construction']))&\n",
    "                                     (pipes_df_orig.Fuel=='Oil')]\n",
    "print(pipes_df_subset['CapacityBcm/y'].dropna().size / pipes_df_subset['CapacityBcm/y'].size)\n",
    "pipes_df_subset['CapacityBOEd'].sum() * co2_rate / 1e6"
   ]
  },
  {
   "cell_type": "markdown",
   "id": "5b859717-1d0b-471c-b4e6-9cb8547ab109",
   "metadata": {},
   "source": [
    "### diameter analysis\n",
    "\n",
    "to see if it's useful to estimate missing capacities from diameter\n",
    "\n",
    "looks like this could be possible using a log-linear plot (below), though this would only buy us an additional 15 data points, which isn't worth it to me"
   ]
  },
  {
   "cell_type": "code",
   "execution_count": null,
   "id": "5226f1ad-c30e-4bbb-9e36-c95ce3bf0b01",
   "metadata": {},
   "outputs": [],
   "source": [
    "pipes_df_fix_diam = pipes_df_orig.copy()\n",
    "for idx,row in pipes_df_fix_diam.iterrows():\n",
    "    diameter_vals = row.Diameter\n",
    "    if type(diameter_vals)==str and ',' in diameter_vals:\n",
    "        #print(row.PipelineName)\n",
    "        diameter_list = [i.strip() for i in diameter_vals.split(',')]\n",
    "        diameter_list = [float(i) for i in diameter_list]\n",
    "        max_diam = max(diameter_list)\n",
    "        pipes_df_fix_diam.loc[idx,'Diameter'] = max_diam\n",
    "        #print(max_diam)\n",
    "        if row.DiameterUnits=='in':\n",
    "            pipes_df_fix_diam.loc[idx,'DiameterInMm'] = max_diam*25.4\n",
    "pipes_df_fix_diam['DiameterInMm'].replace('--',numpy.nan,inplace=True)"
   ]
  },
  {
   "cell_type": "code",
   "execution_count": null,
   "id": "e0868748-887e-4838-b090-c6393d693c1c",
   "metadata": {},
   "outputs": [],
   "source": [
    "mp.scatter(pipes_df_fix_diam.DiameterInMm, pipes_df_fix_diam.CapacityBOEd)\n",
    "mp.yscale('log')\n",
    "#mp.xlim(0,0.1)"
   ]
  },
  {
   "cell_type": "markdown",
   "id": "4a9b53f6-1326-48c6-a389-3d5263c9eff8",
   "metadata": {},
   "source": [
    "### how many could you add by extrapolating capacity?\n",
    "\n",
    "it's about 15, not really enough to do that, I think"
   ]
  },
  {
   "cell_type": "code",
   "execution_count": null,
   "id": "c73dc52c-2411-4076-a2cd-0eb1f2839ce2",
   "metadata": {},
   "outputs": [],
   "source": [
    "pipes_df_subset = pipes_df_fix_diam.loc[(pipes_df_orig.Status.isin(['Construction','Proposed','Shelved']))&\n",
    "                                     (pipes_df_orig.Fuel=='Oil')]\n",
    "pipes_df_subset.loc[(pipes_df_subset['CapacityBOEd'].isna())&\n",
    "                    (~pipes_df_subset['DiameterInMm'].isna())]['DiameterInMm'].count()"
   ]
  },
  {
   "cell_type": "markdown",
   "id": "69662690-a933-4a57-91c3-f14af768a126",
   "metadata": {},
   "source": [
    "that would take it up to about 84% capacity info"
   ]
  },
  {
   "cell_type": "code",
   "execution_count": null,
   "id": "36fafe62-cd67-41f1-aee2-38a46a537c30",
   "metadata": {},
   "outputs": [],
   "source": [
    "pipes_df_subset = pipes_df_orig.loc[(pipes_df_orig.Status.isin(['Construction','Proposed','Shelved']))&\n",
    "                                     (pipes_df_orig.Fuel=='Oil')]\n",
    "(pipes_df_subset['CapacityBcm/y'].dropna().size + 15) / pipes_df_subset['CapacityBcm/y'].size"
   ]
  },
  {
   "cell_type": "markdown",
   "id": "41f4171b-3170-4bbf-b3d8-19a53722d1b0",
   "metadata": {},
   "source": [
    "### count fraction of available capacity information\n",
    "\n",
    "count"
   ]
  },
  {
   "cell_type": "code",
   "execution_count": null,
   "id": "a3406975-838c-4af0-80fa-bce2ab42718e",
   "metadata": {},
   "outputs": [],
   "source": [
    "pipes_df_subset = pipes_df_orig.loc[(pipes_df_orig.Status.isin(['Construction','Proposed']))&\n",
    "                                     (pipes_df_orig.Fuel=='Gas')]\n",
    "pipes_df_subset.loc[~pipes_df_subset['CapacityBcm/y'].isna()].groupby('StartRegion')['CapacityBOEd'].size()\n",
    "#pipes_df_subset.groupby('StartRegion')['CapacityBcm/y'].size()"
   ]
  },
  {
   "cell_type": "markdown",
   "id": "a09616ff-3225-4c93-9ce9-b38cb04a5612",
   "metadata": {},
   "source": [
    "fraction"
   ]
  },
  {
   "cell_type": "code",
   "execution_count": null,
   "id": "2b464411-7db6-4575-ae23-a6d2c49f635d",
   "metadata": {},
   "outputs": [],
   "source": [
    "pipes_df_subset.loc[~pipes_df_subset['CapacityBcm/y'].isna()].groupby('StartRegion')['CapacityBcm/y'].size()/pipes_df_subset.groupby('StartRegion')['CapacityBOEd'].size()"
   ]
  },
  {
   "cell_type": "code",
   "execution_count": null,
   "id": "9f9ba63d-9317-40dd-b820-c7505a4b7150",
   "metadata": {},
   "outputs": [],
   "source": [
    "median_capacity = pipes_df_orig['CapacityBcm/y'].median()"
   ]
  },
  {
   "cell_type": "code",
   "execution_count": null,
   "id": "0e61fd80-1863-4ba9-ac45-a761cc99a55c",
   "metadata": {},
   "outputs": [],
   "source": [
    "abs_dist_from_med_capacity = abs(pipes_df_orig['CapacityBcm/y']-pipes_df_orig['CapacityBcm/y'].median()).median()"
   ]
  },
  {
   "cell_type": "code",
   "execution_count": null,
   "id": "14cce16f-8d3e-4e63-ae7a-edf55d21b921",
   "metadata": {},
   "outputs": [],
   "source": [
    "pipes_df_orig['CapacityBcm/y'].mean()"
   ]
  },
  {
   "cell_type": "code",
   "execution_count": null,
   "id": "61dc2bcc-bf3f-414c-bc06-bb824d49d1e5",
   "metadata": {},
   "outputs": [],
   "source": [
    "pipes_df_orig['CapacityBcm/y'].std()"
   ]
  },
  {
   "cell_type": "code",
   "execution_count": null,
   "id": "c054d9ed-986a-432f-a234-826e2438144b",
   "metadata": {},
   "outputs": [],
   "source": [
    "print(median_capacity)\n",
    "print(abs_dist_from_med_capacity)"
   ]
  },
  {
   "cell_type": "code",
   "execution_count": null,
   "id": "a83f8bcb-9d19-4e0f-8c81-f3099f26c143",
   "metadata": {},
   "outputs": [],
   "source": [
    "# median capacity for a pipeline is about 10.56 bcm/y\n",
    "# median abs dist from the median is about 9.96"
   ]
  },
  {
   "cell_type": "markdown",
   "id": "fb98d85a",
   "metadata": {},
   "source": [
    "# cost estimates (pipeline cost per km)"
   ]
  },
  {
   "cell_type": "markdown",
   "id": "ff21443c",
   "metadata": {},
   "source": [
    "## looking for cost outliers"
   ]
  },
  {
   "cell_type": "raw",
   "id": "d2e72d00-734c-411a-a5c5-0cc2dd860f68",
   "metadata": {},
   "source": [
    "outliers_projectids = ['P2509','P0173','P1297','P0174','P3188','P2551','P1382','P0477']\n",
    "\n",
    "#P1382 - grenada to trinidad an tobago - underwater, not really a formalized route yet, skipping\n",
    "#P0477 - South Valley Pipeline (egypt) - just seems too high to make sense\n",
    "#P3174 - Off-shore Gas Pipeline (all underwater, not quite representative?)"
   ]
  },
  {
   "cell_type": "raw",
   "id": "3e13a992-2999-4359-a3fe-cf80ce63ef32",
   "metadata": {},
   "source": [
    "pipes_df_orig.loc[pipes_df_orig['ProjectID'].isin(outliers_projectids)]"
   ]
  },
  {
   "cell_type": "raw",
   "id": "92414473-f983-4d0b-9cc9-ed27ee9ae6f3",
   "metadata": {},
   "source": [
    "1-pipes_df_orig[pipes_df_orig['CostUSDPerKm'].isnull()].shape[0]/pipes_df_orig.shape[0]"
   ]
  },
  {
   "cell_type": "raw",
   "id": "a5230758-742e-4071-8270-c0f507f06edc",
   "metadata": {},
   "source": [
    "#pipes_cost_outliers_df = pipes_df[(pipes_df['Fuel']=='Gas') & (pipes_df['Countries'].str.contains('India'))]\n",
    "pipes_cost_outliers_df = pipes_df_orig.copy()[(pipes_df_orig['Fuel']=='Gas')]\n",
    "pipes_cost_outliers_df = pipes_cost_outliers_df[~pipes_cost_outliers_df.ProjectID.isin(outliers_projectids)]"
   ]
  },
  {
   "cell_type": "code",
   "execution_count": null,
   "id": "db9cff21-89db-4a17-83b8-358d095fb530",
   "metadata": {},
   "outputs": [],
   "source": [
    "# pull out only pipelines that have a KNOWN length AND a cost\n",
    "country_ratios_with_length_and_cost_df = country_ratios_df.copy()[(country_ratios_df['Fuel']=='Oil') & \n",
    "                                    (country_ratios_df['CostUSDPerKm'].notna()) & \n",
    "                                    (country_ratios_df['LengthKnownKmByCountry'].notna()) &\n",
    "                                    (country_ratios_df['LengthKnownKm']!=0)\n",
    "                                   ]\n",
    "#country_ratios_with_length_and_cost_df = country_ratios_with_length_and_cost_df[~country_ratios_with_length_and_cost_df.ProjectID.isin(outliers_projectids)]"
   ]
  },
  {
   "cell_type": "markdown",
   "id": "a60996ff-c763-46a6-8576-cffa78c2fcbb",
   "metadata": {},
   "source": [
    "### global mean value"
   ]
  },
  {
   "cell_type": "code",
   "execution_count": null,
   "id": "a36c8c61",
   "metadata": {},
   "outputs": [],
   "source": [
    "country_ratios_with_length_and_cost_df['CostUSDPerKm'].drop_duplicates().mean()"
   ]
  },
  {
   "cell_type": "markdown",
   "id": "9754a8d9-5d70-448d-a6ae-75efcd2a6054",
   "metadata": {},
   "source": [
    "### calculate regional costs"
   ]
  },
  {
   "cell_type": "code",
   "execution_count": null,
   "id": "47a82b04-9795-40a5-b329-43a3f0f86d41",
   "metadata": {},
   "outputs": [],
   "source": [
    "pipes_oil_costs_region_df = pandas.DataFrame(0, index=region_list, columns=['CostUSDPerKm','NumberOfCosts','NumberOfLengths'])\n",
    "\n",
    "for region in region_list:\n",
    "    print(region)\n",
    "    country_ratios_region_df = country_ratios_with_length_and_cost_df[country_ratios_with_length_and_cost_df['Region']==region]\n",
    "    pipes_oil_costs_region_df.loc[region]['CostUSDPerKm'] = country_ratios_region_df['CostUSDPerKm'].mean()\n",
    "    pipes_oil_costs_region_df.loc[region]['NumberOfCosts'] = list(set(country_ratios_region_df['ProjectID'])).__len__()\n",
    "    pipes_oil_costs_region_df.loc[region]['NumberOfLengths'] = list(set(country_ratios_region_df['ProjectID'])).__len__()\n",
    "    "
   ]
  },
  {
   "cell_type": "markdown",
   "id": "f9ee664c-930f-47ca-b605-c84012c6e2df",
   "metadata": {},
   "source": [
    "### table for methodology with regional cost info"
   ]
  },
  {
   "cell_type": "code",
   "execution_count": null,
   "id": "d3dda312-986c-4ea7-b628-ff1b4d1c257a",
   "metadata": {},
   "outputs": [],
   "source": [
    "pipes_oil_costs_region_df"
   ]
  },
  {
   "cell_type": "markdown",
   "id": "22cb04dc-3e08-43ec-8efd-51387768d17f",
   "metadata": {},
   "source": [
    "### calculate country-level costs"
   ]
  },
  {
   "cell_type": "code",
   "execution_count": null,
   "id": "a6370f0e-430d-45f3-9cf6-f063719dfe7b",
   "metadata": {},
   "outputs": [],
   "source": [
    "#country_list_for_costs = sorted(list(set(country_ratios_with_length_and_cost_df['Country'])))\n",
    "pipes_oil_costs_country_df = pandas.DataFrame(0, index=country_list, columns=['CostUSDPerKm','NumberOfCosts','NumberOfLengths'])\n",
    "\n",
    "for country in country_list:#_for_costs:\n",
    "    #print(country)\n",
    "    country_ratios_country_df = country_ratios_with_length_and_cost_df[country_ratios_with_length_and_cost_df['Country']==country]\n",
    "    pipes_oil_costs_country_df.loc[country,'CostUSDPerKm'] = country_ratios_country_df['CostUSDPerKm'].mean()\n",
    "    pipes_oil_costs_country_df.loc[country,'NumberOfCosts'] = list(set(country_ratios_country_df['ProjectID'])).__len__()\n",
    "    pipes_oil_costs_country_df.loc[country,'NumberOfLengths'] = list(set(country_ratios_country_df['ProjectID'])).__len__()"
   ]
  },
  {
   "cell_type": "markdown",
   "id": "f5242bbf-f1a7-4e90-9e91-90fbdb5bca2f",
   "metadata": {},
   "source": [
    "## table for regional totals"
   ]
  },
  {
   "cell_type": "code",
   "execution_count": null,
   "id": "f804568d-5a95-490f-8245-d87042a15fee",
   "metadata": {},
   "outputs": [],
   "source": [
    "if 'Total' in km_by_region_df.index:\n",
    "    km_by_region_df.drop(index='Total', inplace=True)   \n",
    "    total = km_by_region_df.sum(axis=0)\n",
    "    total.name='Total'\n",
    "    km_by_region_df = km_by_region_df.append(total)\n",
    "\n",
    "else:\n",
    "    total = km_by_region_df.sum(axis=0)\n",
    "    total.name='Total'\n",
    "    km_by_region_df = km_by_region_df.append(total)\n",
    "\n",
    "km_by_region_df"
   ]
  },
  {
   "cell_type": "markdown",
   "id": "79570a43-7f2f-44cb-8a79-6029e80d0c65",
   "metadata": {},
   "source": [
    "## table for km by country"
   ]
  },
  {
   "cell_type": "code",
   "execution_count": null,
   "id": "b42d6a47-d1a5-4a4b-acf8-7ec5f0fcc36e",
   "metadata": {},
   "outputs": [],
   "source": [
    "# saves all countries to an Excel file for reference\n",
    "\n",
    "km_by_country_df.sort_values('Proposed+Construction', ascending=False)\n",
    "\n",
    "if 'Total' in km_by_country_df.index:\n",
    "    km_by_country_df.drop(index='Total', inplace=True)   \n",
    "    total = km_by_country_df.sum(axis=0)\n",
    "    total.name='Total'\n",
    "    km_by_country_df = km_by_country_df.append(total)\n",
    "\n",
    "else:\n",
    "    total = km_by_country_df.sum(axis=0)\n",
    "    total.name='Total'\n",
    "    km_by_country_df = km_by_country_df.append(total)\n",
    "\n",
    "km_by_country_df.to_excel('saved-tables/GOIT-km-by-country.xlsx')"
   ]
  },
  {
   "cell_type": "markdown",
   "id": "44145d01-f597-498d-889a-73173abc7ef2",
   "metadata": {},
   "source": [
    "## table for stranded asset calculations"
   ]
  },
  {
   "cell_type": "code",
   "execution_count": null,
   "id": "df30b04e",
   "metadata": {},
   "outputs": [],
   "source": [
    "pandas.options.display.float_format = '{:,.1f}'.format\n",
    "#km_by_region_df.sort_index(inplace=True)\n",
    "#indices_without_total = list(km_by_region_df.index)\n",
    "#if 'Total' in indices_without_total:\n",
    "#    indices_without_total.remove('Total')\n",
    "\n",
    "capex_estimates_df = km_by_region_df.loc[region_list].multiply(pipes_oil_costs_region_df['CostUSDPerKm'].values, axis=0) / 1e9\n",
    "\n",
    "capex_estimates_df.sort_values('Proposed+Construction', ascending=False, inplace=True)\n",
    "\n",
    "total = capex_estimates_df.sum(axis=0)\n",
    "total.name='Total'\n",
    "capex_estimates_df = capex_estimates_df.append(total)\n",
    "\n",
    "capex_estimates_df"
   ]
  },
  {
   "cell_type": "markdown",
   "id": "a67ada29-6ccc-49b9-8ab1-6fdf3d6a116f",
   "metadata": {},
   "source": [
    "## print out country-level stranded assets for report discussion"
   ]
  },
  {
   "cell_type": "raw",
   "id": "54f8096a-370d-475e-9e0a-c93ae289ff8a",
   "metadata": {},
   "source": [
    "pandas.options.display.float_format = '{:,.1f}'.format\n",
    "\n",
    "these_countries = ['China','India','USA','Russia','Australia','Brazil']\n",
    "\n",
    "for cty in these_countries:\n",
    "    print(cty)\n",
    "    print(km_by_country_df.loc[cty]['Proposed'], ' km proposed')\n",
    "    print(km_by_country_df.loc[cty]['Construction'], ' km in construction')\n",
    "    print(km_by_country_df.loc[cty]['Proposed+Construction'], ' total km in development')\n",
    "    print(pipes_gas_costs_country_df.loc[cty])\n",
    "    print(pipes_gas_costs_country_df.loc[cty]['CostUSDPerKm']*km_by_country_df.loc[cty]/1e9)\n",
    "    print()"
   ]
  },
  {
   "cell_type": "markdown",
   "id": "63436c0a-add3-409e-968f-5686b16f1cee",
   "metadata": {},
   "source": [
    "## country-level table for stranded asset calculations"
   ]
  },
  {
   "cell_type": "code",
   "execution_count": null,
   "id": "3994073c-4a12-42c7-8c13-c30dc34bd049",
   "metadata": {},
   "outputs": [],
   "source": [
    "pandas.options.display.float_format = '{:,.1f}'.format\n",
    "#km_by_region_df.sort_index(inplace=True)\n",
    "#indices_without_total = list(km_by_region_df.index)\n",
    "#if 'Total' in indices_without_total:\n",
    "#    indices_without_total.remove('Total')\n",
    "\n",
    "capex_estimates_country_df = km_by_country_df.loc[country_list].multiply(pipes_oil_costs_country_df['CostUSDPerKm'].values, axis=0) / 1e9\n",
    "\n",
    "if 'Total' in capex_estimates_country_df.index:\n",
    "    capex_estimates_country_df.drop(index='Total', inplace=True)   \n",
    "    total = capex_estimates_df.sum(axis=0)\n",
    "    total.name='Total'\n",
    "    capex_estimates_country_df = capex_estimates_country_df.append(total)\n",
    "\n",
    "else:\n",
    "    total = capex_estimates_country_df.sum(axis=0)\n",
    "    total.name='Total'\n",
    "    capex_estimates_country_df = capex_estimates_country_df.append(total)\n",
    "\n",
    "capex_estimates_country_df.sort_values('Proposed+Construction', ascending=False)"
   ]
  },
  {
   "cell_type": "markdown",
   "id": "a2bac5e7-471e-48a2-8985-0225d1e26b3f",
   "metadata": {},
   "source": [
    "## pie chart for stranded assets"
   ]
  },
  {
   "cell_type": "code",
   "execution_count": null,
   "id": "158cc00b-f49a-4436-8190-ca743d67a9df",
   "metadata": {},
   "outputs": [],
   "source": [
    "font_size=7\n",
    "\n",
    "fig = mp.figure(figsize=(5,5))\n",
    "ax = fig.add_subplot(111)\n",
    "cmap = mp.get_cmap('Reds')\n",
    "\n",
    "pie_vals = capex_estimates_df.sort_values('Proposed+Construction', ascending=False)['Proposed+Construction'][1:]\n",
    "pie_labels = capex_estimates_df.sort_values('Proposed+Construction', ascending=False).index[1:]\n",
    "pie_labels_dollars = capex_estimates_df.sort_values('Proposed+Construction', ascending=False)['Proposed+Construction'].apply(lambda x: f'\\nUS${x:.1f} billion')[1:]\n",
    "\n",
    "pie_labels = [i+j for i,j in zip(pie_labels, pie_labels_dollars)]\n",
    "\n",
    "ax.pie(pie_vals, \n",
    "       labels=pie_labels,\n",
    "       colors=cmap(numpy.linspace(0,1,pie_vals.size))[::-1],\n",
    "       wedgeprops=dict(edgecolor='1'),\n",
    "       textprops={'fontsize':font_size})\n",
    "\n",
    "ax.tick_params(labelsize=font_size)\n",
    "\n",
    "fig.tight_layout()\n",
    "\n",
    "#mp.savefig('saved-figures/oil-pipelines_pie-graph.pdf', bbox_inches='tight', transparent=True)\n",
    "\n",
    "mp.savefig('saved-figures/oil-pipelines_pie-graph.png', \n",
    "           bbox_inches='tight', \n",
    "           transparent=True,\n",
    "           dpi=600)\n",
    "\n",
    "mp.savefig('saved-figures/oil-pipelines_pie-graph.pdf', \n",
    "           bbox_inches='tight', \n",
    "           transparent=True)\n"
   ]
  },
  {
   "cell_type": "code",
   "execution_count": null,
   "id": "5c295ea4-3ff5-42f3-bf40-4ed4ab2c50fd",
   "metadata": {},
   "outputs": [],
   "source": [
    "capex_estimates_df.sort_values('Proposed+Construction', ascending=False)['Proposed+Construction'].apply(lambda x: f'US${x:.2f} billion')[1:]"
   ]
  },
  {
   "cell_type": "code",
   "execution_count": null,
   "id": "793a8251-7565-4002-ab4d-3a28d9cca21c",
   "metadata": {},
   "outputs": [],
   "source": [
    "capex_estimates_df.sort_values('Proposed+Construction', ascending=False)['Proposed+Construction'][1:]"
   ]
  },
  {
   "cell_type": "code",
   "execution_count": null,
   "id": "569b655e-34ee-4c76-b605-08f536bdf1d2",
   "metadata": {},
   "outputs": [],
   "source": [
    "capex_estimates_df.sort_values('Proposed+Construction', ascending=False).index[1:]"
   ]
  },
  {
   "cell_type": "markdown",
   "id": "f5661b98-75a1-42ca-819d-ee2fa8ea2b76",
   "metadata": {},
   "source": [
    "### amount already being constructed"
   ]
  },
  {
   "cell_type": "code",
   "execution_count": null,
   "id": "741c91e9-dcdb-4332-beac-27f1cb8ca014",
   "metadata": {},
   "outputs": [],
   "source": [
    "# fraction of pipelines under construction compared to all in development\n",
    "# this number is different from below because it's skipping some pipelines\n",
    "km_by_country_total = km_by_country_df.sum(axis=0)\n",
    "km_by_country_total['Construction']/km_by_country_total['Proposed+Construction']"
   ]
  },
  {
   "cell_type": "code",
   "execution_count": null,
   "id": "f358b56a-22ef-4323-824b-ecf9ef20202c",
   "metadata": {},
   "outputs": [],
   "source": [
    "# this fraction is on the full database, rather than only the pipelines that we estimate length for\n",
    "total['Construction']/total['Proposed+Construction']"
   ]
  },
  {
   "cell_type": "markdown",
   "id": "1980f5ce",
   "metadata": {},
   "source": [
    "# numbers for report"
   ]
  },
  {
   "cell_type": "markdown",
   "id": "0ca10b06-27b4-49d0-aea2-4d3aa2801104",
   "metadata": {},
   "source": [
    "## km of pipeline with 2022, 2023 start years"
   ]
  },
  {
   "cell_type": "code",
   "execution_count": null,
   "id": "41b7f22a-4a20-4a9f-a581-8cbabbe35d5b",
   "metadata": {},
   "outputs": [],
   "source": [
    "# for the key points\n",
    "print(pipes_indev_startyear.loc['Construction',2022],\n",
    "      pipes_indev_startyear.loc['Construction',2023])\n",
    "\n",
    "print(pipes_indev_startyear.loc['Proposed',2022],\n",
    "      pipes_indev_startyear.loc['Proposed',2023])"
   ]
  },
  {
   "cell_type": "markdown",
   "id": "7e63a1db-0270-4177-ab3e-938d02509c20",
   "metadata": {},
   "source": [
    "## km of gas pipelines globally in development\n",
    "\n",
    "note this doesn't match up exactly with regional length calculations, so we've used the regional calculation totals instead (193,365.9)"
   ]
  },
  {
   "cell_type": "code",
   "execution_count": null,
   "id": "75452ad0-615e-4b4d-89d5-4891d71902d2",
   "metadata": {},
   "outputs": [],
   "source": [
    "pipes_df_calc = pipes_df_orig.copy()\n",
    "pipes_df_calc.replace('--',numpy.nan,inplace=True)\n",
    "pipes_df_calc[(pipes_df_calc['Status'].isin(['Proposed','Construction'])) &\n",
    "        (pipes_df_calc['Fuel']=='Oil')]['LengthMergedKm'].sum()"
   ]
  },
  {
   "cell_type": "code",
   "execution_count": null,
   "id": "06e0be20-2354-41c1-9838-53e0fa458e9b",
   "metadata": {},
   "outputs": [],
   "source": [
    "regional_km_sums_df = pandas.DataFrame(index=region_list, columns=status_list)\n",
    "\n",
    "for status in status_list:\n",
    "    regional_km_sums_df[status] = pipes_df_calc[(pipes_df_calc['Fuel']=='Oil') &\n",
    "                                                (pipes_df_calc['Status']==status)].groupby('StartRegion')['LengthMergedKm'].sum()\n",
    "\n",
    "regional_km_sums_df['P+C'] = regional_km_sums_df[['Proposed','Construction']].sum(axis=1)\n",
    "total_row = regional_km_sums_df.sum(axis=0)\n",
    "total_row.name = 'Total'\n",
    "#regional_km_sums_df.append(total_row)"
   ]
  },
  {
   "cell_type": "markdown",
   "id": "db6f746e",
   "metadata": {},
   "source": [
    "## country shares analysis"
   ]
  },
  {
   "cell_type": "code",
   "execution_count": null,
   "id": "636ea038",
   "metadata": {},
   "outputs": [],
   "source": [
    "country_ratios_df[(country_ratios_df['Status'].isin(['Proposed','Construction'])) &\n",
    "               (country_ratios_df['Fuel']=='Oil')]['MergedKmByCountry'].sum()"
   ]
  },
  {
   "cell_type": "markdown",
   "id": "6280f21d-4f6c-43aa-923b-f50dc67babc2",
   "metadata": {},
   "source": [
    "### China's percent of total"
   ]
  },
  {
   "cell_type": "code",
   "execution_count": null,
   "id": "2f0f6b5d",
   "metadata": {},
   "outputs": [],
   "source": [
    "km_by_country_df.loc['China']['Proposed+Construction']/km_by_country_df['Proposed+Construction'].sum(axis=0)"
   ]
  },
  {
   "cell_type": "code",
   "execution_count": null,
   "id": "06253a3e-d11b-45fd-bfaa-2b21e681f4c3",
   "metadata": {},
   "outputs": [],
   "source": [
    "km_by_country_df[:5]['Proposed+Construction'].sum(axis=0)/km_by_country_df[:-1]['Proposed+Construction'].sum(axis=0)"
   ]
  },
  {
   "cell_type": "code",
   "execution_count": null,
   "id": "4814a993",
   "metadata": {},
   "outputs": [],
   "source": [
    "km_by_country_df[:20]['Proposed+Construction'].sum(axis=0)/km_by_country_df[:-1]['Proposed+Construction'].sum(axis=0)"
   ]
  },
  {
   "cell_type": "markdown",
   "id": "4d2b5f76-95a2-4233-b862-d6a0fad3bb0f",
   "metadata": {},
   "source": [
    "## num in dev globally, whether capacity expansions or not"
   ]
  },
  {
   "cell_type": "code",
   "execution_count": null,
   "id": "fc4d8622-e562-4ccc-b0c8-7b0f78ae6d77",
   "metadata": {},
   "outputs": [],
   "source": [
    "print(\"capacity expansion projects:\",\n",
    "    pipes_df_orig.loc[(pipes_df_orig.Fuel=='Oil')&\n",
    "                  (pipes_df_orig.Status.isin(['Proposed','Construction']))&\n",
    "                  (pipes_df_orig.Route.isin(['Capacity expansion only','Bidirectionality upgrade only']))].shape)\n",
    "\n",
    "print(\"non-zero length projects:\",\n",
    "      pipes_df_orig.loc[(pipes_df_orig.Fuel=='Oil')&\n",
    "                  (pipes_df_orig.Status.isin(['Proposed','Construction']))&\n",
    "                  (~pipes_df_orig.Route.isin(['Capacity expansion only','Bidirectionality upgrade only']))].shape)"
   ]
  },
  {
   "cell_type": "code",
   "execution_count": null,
   "id": "3ff38068-b04e-4a03-9cb7-b4dfd85049d6",
   "metadata": {},
   "outputs": [],
   "source": [
    "cr = country_ratios_df.loc[(country_ratios_df.Status.isin(['Construction','Proposed']))&\n",
    "                      (country_ratios_df.Fuel=='Oil')]"
   ]
  },
  {
   "cell_type": "code",
   "execution_count": null,
   "id": "49124e66-1a88-4281-bafb-d72fdd5c7c1a",
   "metadata": {},
   "outputs": [],
   "source": [
    "cr.loc[cr.MergedKmByPipeline!=0].groupby('ProjectID')['MergedKmByPipeline'].count()"
   ]
  },
  {
   "cell_type": "code",
   "execution_count": null,
   "id": "21a96bd8-e464-4591-aba3-79d35a185654",
   "metadata": {},
   "outputs": [],
   "source": [
    "print(pipes_df_orig.loc[(pipes_df_orig.Fuel=='Oil')&\n",
    "                  (pipes_df_orig.Status.isin(['Proposed','Construction']))&\n",
    "                  (pipes_df_orig.Route.isin(['Capacity expansion only','Bidirectionality upgrade only']))]['CapacityBOEd'])\n",
    "\n",
    "\n",
    "print(pipes_df_orig.loc[(pipes_df_orig.Fuel=='Oil')&\n",
    "                  (pipes_df_orig.Status.isin(['Proposed','Construction']))&\n",
    "                  (pipes_df_orig.Route.isin(['Capacity expansion only','Bidirectionality upgrade only']))][['Countries','CapacityBOEd']])"
   ]
  },
  {
   "cell_type": "markdown",
   "id": "27c990b7-31e9-4a31-94c3-c7e8078e69f3",
   "metadata": {},
   "source": [
    "# texas proposed, cancelled, etc."
   ]
  },
  {
   "cell_type": "code",
   "execution_count": null,
   "id": "c29a7d40-08ac-4e4b-ac85-2c91a076ebcb",
   "metadata": {},
   "outputs": [],
   "source": [
    "pipes_df_permian = pipes_df_orig.loc[(pipes_df_orig['StartState/Province'].isin(['Texas', 'New Mexico', 'Louisiana']))|\n",
    "                                   (pipes_df_orig['EndState/Province'].isin(['Texas', 'New Mexico', 'Louisiana']))]"
   ]
  },
  {
   "cell_type": "code",
   "execution_count": null,
   "id": "812b6aa1-676f-467b-b0b5-6b97077ab176",
   "metadata": {},
   "outputs": [],
   "source": [
    "pipes_df_permian.shape"
   ]
  },
  {
   "cell_type": "markdown",
   "id": "d81ec3bd-f765-4167-b5d4-c13d7b210872",
   "metadata": {},
   "source": [
    "## how many of in dev infra is in Texas alone?"
   ]
  },
  {
   "cell_type": "code",
   "execution_count": null,
   "id": "c7e45905-bdd9-41da-a9c0-66ebf86260c9",
   "metadata": {},
   "outputs": [],
   "source": [
    "pipes_df_permian.loc[pipes_df_permian.Status.isin(['Proposed','Construction'])]['LengthMergedKm'].sum()"
   ]
  },
  {
   "cell_type": "code",
   "execution_count": null,
   "id": "8296a2c4-c027-47cc-ab20-cea329748a3d",
   "metadata": {},
   "outputs": [],
   "source": [
    "pipes_df_permian.loc[pipes_df_permian.Status.isin(['Proposed'])]['LengthMergedKm'].sum()"
   ]
  },
  {
   "cell_type": "code",
   "execution_count": null,
   "id": "44e4ce4d-dde5-4a3a-ac38-e4a0dd00b516",
   "metadata": {},
   "outputs": [],
   "source": [
    "pipes_df_permian.loc[pipes_df_permian.Status.isin(['Construction'])]['LengthMergedKm'].sum()"
   ]
  },
  {
   "cell_type": "code",
   "execution_count": null,
   "id": "925af86a-826d-4558-acb3-c18f1f8ed43f",
   "metadata": {},
   "outputs": [],
   "source": [
    "pipes_df_permian.loc[pipes_df_permian.Status.isin(['Construction'])]"
   ]
  },
  {
   "cell_type": "markdown",
   "id": "447f04a1-8e5b-4873-87cc-48988db8c41f",
   "metadata": {},
   "source": [
    "# China pipelines "
   ]
  },
  {
   "cell_type": "code",
   "execution_count": null,
   "id": "c40a2400-a570-42fc-898a-3331c7278c13",
   "metadata": {},
   "outputs": [],
   "source": [
    "# Shandong Oil Pipeline Network"
   ]
  },
  {
   "cell_type": "code",
   "execution_count": null,
   "id": "8baa0c11-b000-41a1-9285-63bd62bf0374",
   "metadata": {},
   "outputs": [],
   "source": [
    "pipes_shandong = pipes_df_orig.loc[(pipes_df_orig.Fuel=='Oil')&\n",
    "              (pipes_df_orig.PipelineNetworkContainer.isin(['Shandong Oil Pipeline Network']))]\n",
    "pipes_northeast = pipes_df_orig.loc[(pipes_df_orig.Fuel=='Oil')&\n",
    "              (pipes_df_orig.PipelineNetworkContainer.isin(['Northeast Oil Pipeline Network']))]"
   ]
  },
  {
   "cell_type": "code",
   "execution_count": null,
   "id": "bbb1a336-eae5-436c-a181-f52a6bf0d39c",
   "metadata": {},
   "outputs": [],
   "source": [
    "pipes_shandong.groupby('Status')['LengthMergedKm'].sum()"
   ]
  },
  {
   "cell_type": "code",
   "execution_count": null,
   "id": "ff165f5f-db82-475c-939e-57b019251b77",
   "metadata": {},
   "outputs": [],
   "source": [
    "pipes_northeast.groupby('Status')['LengthMergedKm'].sum()"
   ]
  }
 ],
 "metadata": {
  "kernelspec": {
   "display_name": "gem",
   "language": "python",
   "name": "gem"
  },
  "language_info": {
   "codemirror_mode": {
    "name": "ipython",
    "version": 3
   },
   "file_extension": ".py",
   "mimetype": "text/x-python",
   "name": "python",
   "nbconvert_exporter": "python",
   "pygments_lexer": "ipython3",
   "version": "3.9.9"
  }
 },
 "nbformat": 4,
 "nbformat_minor": 5
}
