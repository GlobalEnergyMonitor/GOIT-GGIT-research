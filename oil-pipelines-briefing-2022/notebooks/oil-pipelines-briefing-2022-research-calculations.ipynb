{
 "cells": [
  {
   "cell_type": "code",
   "execution_count": 6,
   "id": "3b38c4c2",
   "metadata": {},
   "outputs": [],
   "source": [
    "import pandas\n",
    "\n",
    "import pygsheets\n",
    "import numpy\n",
    "import scipy\n",
    "import re\n",
    "\n",
    "import matplotlib\n",
    "import matplotlib.pyplot as mp\n",
    "import matplotlib.cm\n",
    "\n",
    "import textwrap\n",
    "import seaborn"
   ]
  },
  {
   "cell_type": "markdown",
   "id": "28d79664-a683-49e9-a117-fed730f6b0b7",
   "metadata": {},
   "source": [
    "## define colors used in bars"
   ]
  },
  {
   "cell_type": "code",
   "execution_count": 7,
   "id": "c7a2b377-3968-4c9f-a5fa-6f1dcb621dea",
   "metadata": {},
   "outputs": [],
   "source": [
    "sel_cmap = matplotlib.cm.get_cmap('Reds')\n",
    "tracker_operating = sel_cmap(0.999)\n",
    "tracker_construction = sel_cmap(0.8)\n",
    "tracker_proposed = sel_cmap(0.6)\n",
    "tracker_shelved = sel_cmap(0.4)\n",
    "tracker_cancelled = sel_cmap(0.2)"
   ]
  },
  {
   "cell_type": "markdown",
   "id": "c5e51996-e86d-4e84-81b9-adfed4434b8b",
   "metadata": {},
   "source": [
    "# import data directly from google sheets"
   ]
  },
  {
   "cell_type": "code",
   "execution_count": 8,
   "id": "029bc7eb-d141-4e01-a747-e0b5b03f1f53",
   "metadata": {},
   "outputs": [],
   "source": [
    "credentials_directory = '/Users/baird/Dropbox/_google-api/'\n",
    "gc = pygsheets.authorize(client_secret=credentials_directory+'client_secret.json')\n",
    "#spreadsheet = gc.open_by_key('1foPLE6K-uqFlaYgLPAUxzeXfDO5wOOqE7tibNHeqTek')\n",
    "#spreadsheet = gc.open_by_key('1IQ_g9PCr6pexDvEBoi5jboNfamJtPQ63ezxyq0qRsu0') # specific doc for briefing\n",
    "spreadsheet = gc.open_by_key('1YeYmh43_DvVI4DWpEvVPt3IUr3XzP4h4-X1FSf0Kew8') # specific doc for briefing\n",
    "\n",
    "#spreadsheet[1] \"Gas Pipelines\" tab is the second index\n",
    "gas_pipes = spreadsheet.worksheet('title','Gas pipelines').get_as_df(start='A2')\n",
    "oil_pipes = spreadsheet.worksheet('title', 'Oil/NGL pipelines').get_as_df(start='A2')\n",
    "\n",
    "pipes_df_orig = pandas.concat([oil_pipes, gas_pipes], ignore_index=True)\n",
    "\n",
    "#get country ratios sheet\n",
    "country_ratios_df = spreadsheet.worksheet('title', 'Country ratios by pipeline').get_as_df()"
   ]
  },
  {
   "cell_type": "code",
   "execution_count": 9,
   "id": "2aed6720-4918-47bd-a9fd-c77d41d22b53",
   "metadata": {},
   "outputs": [],
   "source": [
    "owners_df_orig = spreadsheet.worksheet('title', 'Pipeline operators/owners (1/3)').get_as_df(start='A2')\n",
    "owners_df_orig = owners_df_orig.loc[owners_df_orig.ProjectID!='']\n",
    "owners_df_orig = owners_df_orig.loc[owners_df_orig.Wiki!='']\n",
    "owners_df = owners_df_orig.replace('',numpy.nan)\n",
    "\n",
    "owner_parent_links_df = spreadsheet.worksheet('title', 'Owner–parent relationships (2/3)').get_as_df(start='A2')\n",
    "# only keep the owners with a checked relationship\n",
    "owner_parent_links_df = owner_parent_links_df.loc[owner_parent_links_df['Parent–Owner Relationship Checked?']=='yes']\n",
    "owner_parent_links_df.replace('',numpy.nan,inplace=True)\n",
    "\n",
    "parents_df = spreadsheet.worksheet('title', 'Parent metadata (3/3)').get_as_df(start='A2')\n",
    "parents_df = parents_df.loc[parents_df.Parent!='']\n",
    "\n",
    "owners_df.set_index('ProjectID', inplace=True)\n",
    "owner_parent_links_df.set_index('Owner', inplace=True)\n",
    "parents_df.set_index('Parent', inplace=True)\n",
    "\n",
    "# ****************************************\n",
    "\n",
    "## create list of owner and parent column names\n",
    "owner_pct_col_names = []\n",
    "owner_col_names = []\n",
    "\n",
    "parent_pct_col_names = []\n",
    "parent_col_names = []\n",
    "\n",
    "for num in range(1,11+1):\n",
    "    owner_pct_col = f'Owner{num}%'\n",
    "    owner_pct_col_names.append(owner_pct_col)\n",
    "    \n",
    "    owner_col = f'Owner{num}'\n",
    "    owner_col_names.append(owner_col)\n",
    "    \n",
    "    parent_pct_col = f'Parent{num}%'\n",
    "    parent_pct_col_names.append(parent_pct_col)\n",
    "    \n",
    "    parent_col = f'Parent{num}'\n",
    "    parent_col_names.append(parent_col)\n",
    "\n",
    "# ****************************************\n",
    "## fill in missing parent info by borrowing owner info\n",
    "owners_FULL_set = owners_df[owner_col_names].stack().dropna().unique().tolist() # from owners_df\n",
    "owners_researched_set = list(set(owner_parent_links_df.index.to_list()))#+['Unknown'] # only existing owners, plus 'Unknown'\n",
    "owners_diff = list(set(owners_FULL_set)-set(owners_researched_set))\n",
    "owners_diff.append('Unknown')\n",
    "\n",
    "# update owner_parent_links_df with these extra owners\n",
    "owner_parent_links_df = pandas.concat([owner_parent_links_df, pandas.DataFrame(index=owners_diff, columns=owner_parent_links_df.columns)])\n",
    "owner_parent_links_df['Parent1'].loc[owners_diff] = owners_diff\n",
    "owner_parent_links_df['Parent1%'].loc[owners_diff] = '100.00%'\n",
    "\n",
    "# ****************************************\n",
    "# update parents_df with these as well\n",
    "# note countries will be unknkown...\n",
    "parents_set = list(set(parents_df.index.to_list()))\n",
    "parents_diff = list(set(owners_diff)-set(parents_set))\n",
    "parents_diff.append('Unknown')\n",
    "parents_df = pandas.concat([parents_df, pandas.DataFrame(numpy.nan, index=parents_diff, columns=parents_df.columns)])\n",
    "parents_df.loc[parents_diff,'ParentHQCountry'] = 'Unknown'"
   ]
  },
  {
   "cell_type": "markdown",
   "id": "e6e9c406-eada-4fde-8471-dbbb5aeb2e75",
   "metadata": {},
   "source": [
    "## for offline excel file (when you gotta do work without internet)"
   ]
  },
  {
   "cell_type": "raw",
   "id": "eafd8cb7-e090-4624-8f20-4a510faaa6f1",
   "metadata": {},
   "source": [
    "pipes_df_orig.to_excel('pipes_df_orig.xlsx', index=False)\n",
    "owners_df.to_excel('owners_df.xlsx', index=False)\n",
    "country_ratios_df.to_excel('country_ratios_df.xlsx', index=False)"
   ]
  },
  {
   "cell_type": "raw",
   "id": "8ae2c53a-c04e-49c7-8e19-d6af2c90a429",
   "metadata": {},
   "source": [
    "#spreadsheet = pandas.read_excel()\n",
    "\n",
    "file_name = '/Users/baird/Dropbox/_gem-docs/reports-gem-writing/briefing-oil-pipelies-2022/Pipelines (Gas_Oil_NGL) - main - for offline edits.xlsx'\n",
    "gas_pipes = pandas.read_excel(file_name, sheet_name='Gas pipelines')#.get_as_df()\n",
    "oil_pipes = pandas.read_excel(file_name, sheet_name='OilNGL pipelines')\n",
    "\n",
    "columns_not_in_oil = list(set(gas_pipes.columns)-set(oil_pipes.columns))\n",
    "columns_not_in_gas = list(set(oil_pipes.columns)-set(gas_pipes.columns))\n",
    "gas_pipes.drop(columns=columns_not_in_oil, axis=1, inplace=True)\n",
    "oil_pipes.drop(columns=columns_not_in_gas, axis=1, inplace=True)\n",
    "\n",
    "pipes_df_orig = pandas.concat([oil_pipes, gas_pipes], ignore_index=True)\n",
    "\n",
    "country_ratios_df = pandas.read_excel(file_name, sheet_name='Country ratios by pipeline')\n",
    "owners_df = pandas.read_excel(file_name, sheet_name='Pipeline operatorsowners (13)')\n",
    "owners_df.set_index('ProjectID', inplace=True)"
   ]
  },
  {
   "cell_type": "raw",
   "id": "5bcff50f-0510-499b-ae74-ddc8ecb6e508",
   "metadata": {},
   "source": [
    "# corrections\n",
    "\n",
    "# P2584 has a \"no route\" instead of \"capacity expansion only\"\n",
    "pipes_df_orig.loc[pipes_df_orig.ProjectID=='P2584','Route'] = ''\n",
    "pipes_df_orig.loc[pipes_df_orig.ProjectID=='P2584','RouteAccuracy'] = 'no route'"
   ]
  },
  {
   "cell_type": "markdown",
   "id": "c03ad170",
   "metadata": {},
   "source": [
    "## replace \"--\" with NaN, removing empty rows\n",
    "\n",
    "the dataset is structured to have -- wherever there's a lookup value that doesn't exist; replacing it with NaN (numpy.nan) allows pandas to treat it as a null value, which makes calculations much easier"
   ]
  },
  {
   "cell_type": "code",
   "execution_count": 10,
   "id": "53a9af81",
   "metadata": {},
   "outputs": [],
   "source": [
    "# replace -- entries with NaN\n",
    "pipes_df_orig = pipes_df_orig.replace('--', numpy.nan)\n",
    "pipes_df_orig = pipes_df_orig[pipes_df_orig['PipelineName']!='']\n",
    "pipes_df_orig = pipes_df_orig[pipes_df_orig['Wiki']!='']\n",
    "country_ratios_df.replace('--', numpy.nan, inplace=True)"
   ]
  },
  {
   "cell_type": "markdown",
   "id": "a28ad2a3",
   "metadata": {},
   "source": [
    "# km by country, km by region calculations"
   ]
  },
  {
   "cell_type": "code",
   "execution_count": 11,
   "id": "b69bb35e",
   "metadata": {},
   "outputs": [],
   "source": [
    "status_list = ['Proposed', 'Construction', 'Shelved', 'Cancelled', 'Operating', 'Idle', 'Mothballed', 'Retired']\n",
    "country_list = sorted(list(set(country_ratios_df['Country'])))\n",
    "region_list = sorted(list(set(country_ratios_df['Region'])))"
   ]
  },
  {
   "cell_type": "code",
   "execution_count": 12,
   "id": "0f861f96",
   "metadata": {},
   "outputs": [
    {
     "name": "stdout",
     "output_type": "stream",
     "text": [
      "===country-level calculations===\n",
      "Proposed\n",
      "Construction\n",
      "Shelved\n",
      "Cancelled\n",
      "Operating\n",
      "Idle\n",
      "Mothballed\n",
      "Retired\n",
      "===regional calculations===\n",
      "Proposed\n",
      "Construction\n",
      "Shelved\n",
      "Cancelled\n",
      "Operating\n",
      "Idle\n",
      "Mothballed\n",
      "Retired\n"
     ]
    }
   ],
   "source": [
    "country_ratios_oil_df = country_ratios_df[country_ratios_df['Fuel']=='Oil']\n",
    "\n",
    "km_by_country_df = pandas.DataFrame(columns=status_list, index=country_list)\n",
    "km_by_region_df = pandas.DataFrame(columns=status_list, index=region_list)\n",
    "\n",
    "print('===country-level calculations===')\n",
    "for status in status_list:\n",
    "    print(status)\n",
    "    country_ratios_oil_df_status = country_ratios_oil_df[country_ratios_oil_df['Status']==status]\n",
    "    km_by_country_df[status] = country_ratios_oil_df_status.groupby('Country')['MergedKmByCountry'].sum()\n",
    "\n",
    "print('===regional calculations===')\n",
    "for status in status_list:\n",
    "    print(status)\n",
    "    country_ratios_oil_df_status = country_ratios_oil_df[country_ratios_oil_df['Status']==status]\n",
    "    km_by_region_df[status] = country_ratios_oil_df_status.groupby('Region')['MergedKmByCountry'].sum()\n",
    "\n",
    "# # fill NaN with 0.0\n",
    "km_by_region_df = km_by_region_df.fillna(0)\n",
    "km_by_country_df = km_by_country_df.fillna(0)"
   ]
  },
  {
   "cell_type": "code",
   "execution_count": 13,
   "id": "f27e1492-6919-456b-8519-a35e89c76f34",
   "metadata": {},
   "outputs": [],
   "source": [
    "km_by_region_df['Proposed+Construction'] = km_by_region_df[['Proposed','Construction']].sum(axis=1)\n",
    "km_by_region_df.sort_values(by='Proposed+Construction', inplace=True)\n",
    "km_by_region_df = km_by_region_df[['Proposed', 'Construction', 'Proposed+Construction', 'Shelved', 'Cancelled', 'Operating', 'Idle', 'Mothballed', 'Retired']]\n",
    "km_by_region_df.sort_values('Proposed+Construction', ascending=False, inplace=True)"
   ]
  },
  {
   "cell_type": "code",
   "execution_count": 14,
   "id": "38ef2764-c801-46f8-a82d-4803101a1f3b",
   "metadata": {},
   "outputs": [],
   "source": [
    "km_by_country_df['Proposed+Construction'] = km_by_country_df[['Proposed','Construction']].sum(axis=1)\n",
    "km_by_country_df.sort_values(by='Proposed+Construction', inplace=True)\n",
    "km_by_country_df = km_by_country_df[['Proposed', 'Construction', 'Proposed+Construction', 'Shelved', 'Cancelled', 'Operating', 'Idle', 'Mothballed', 'Retired']]\n",
    "km_by_country_df.sort_values('Proposed+Construction', ascending=False, inplace=True)"
   ]
  },
  {
   "cell_type": "markdown",
   "id": "15cab3a4-a85f-4813-8e3f-944747729946",
   "metadata": {},
   "source": [
    "## add Total row to km by country/region"
   ]
  },
  {
   "cell_type": "raw",
   "id": "7e73b537-02b9-4206-b45f-541ea2e9863f",
   "metadata": {},
   "source": [
    "if 'Total' not in km_by_country_df.index:\n",
    "    total_country = km_by_country_df.sum(axis=0)\n",
    "    total_country.name='Total'\n",
    "    km_by_country_df = km_by_country_df.append(total_country)\n",
    "\n",
    "if 'Total' not in km_by_region_df.index:\n",
    "    total_region = km_by_region_df.sum(axis=0)\n",
    "    total_region.name='Total'\n",
    "    km_by_region_df = km_by_region_df.append(total_region)\n",
    "\n",
    "#km_by_region_df.to_excel('GasKmByRegion.xlsx')\n",
    "#km_by_country_df.to_excel('GasKmByCountry.xlsx')"
   ]
  },
  {
   "cell_type": "markdown",
   "id": "c277d8a8-4ca4-491d-a172-2576d3346773",
   "metadata": {},
   "source": [
    "# projects by country, by region"
   ]
  },
  {
   "cell_type": "code",
   "execution_count": 15,
   "id": "9ff9810a-e55c-4a5c-89e4-7dbb2e4c6a48",
   "metadata": {},
   "outputs": [
    {
     "name": "stdout",
     "output_type": "stream",
     "text": [
      "===country-level calculations===\n",
      "Proposed\n",
      "Construction\n",
      "Shelved\n",
      "Cancelled\n",
      "Operating\n",
      "Idle\n",
      "Mothballed\n",
      "Retired\n",
      "===regional calculations===\n",
      "Proposed\n",
      "Construction\n",
      "Shelved\n",
      "Cancelled\n",
      "Operating\n",
      "Idle\n",
      "Mothballed\n",
      "Retired\n"
     ]
    }
   ],
   "source": [
    "country_ratios_oil_df = country_ratios_df[country_ratios_df['Fuel']=='Oil']\n",
    "\n",
    "num_by_country_df = pandas.DataFrame(columns=status_list, index=country_list)\n",
    "num_by_region_df = pandas.DataFrame(columns=status_list, index=region_list)\n",
    "\n",
    "print('===country-level calculations===')\n",
    "for status in status_list:\n",
    "    print(status)\n",
    "    country_ratios_oil_df_status = country_ratios_oil_df[country_ratios_oil_df['Status']==status]\n",
    "    num_by_country_df[status] = country_ratios_oil_df_status.groupby('ProjectID')['MergedKmByCountry'].sum()\n",
    "\n",
    "print('===regional calculations===')\n",
    "for status in status_list:\n",
    "    print(status)\n",
    "    country_ratios_oil_df_status = country_ratios_oil_df[country_ratios_oil_df['Status']==status]\n",
    "    num_by_region_df[status] = country_ratios_oil_df_status.groupby('Region')['MergedKmByCountry'].sum()\n",
    "\n",
    "# # fill NaN with 0.0\n",
    "num_by_region_df = num_by_region_df.fillna(0)\n",
    "num_by_country_df = num_by_country_df.fillna(0)"
   ]
  },
  {
   "cell_type": "markdown",
   "id": "99fe358c",
   "metadata": {},
   "source": [
    "# numbers of pipes finished in a given year"
   ]
  },
  {
   "cell_type": "code",
   "execution_count": 16,
   "id": "198c9165",
   "metadata": {},
   "outputs": [],
   "source": [
    "# count pipelines that are already operating\n",
    "pipes_started = pipes_df_orig.copy()\n",
    "pipes_started['StartYearEarliest'].replace(numpy.nan,'',inplace=True)\n",
    "pipes_started = pipes_started[(pipes_started['Status'].isin(['Operating'])) &\n",
    "                              (pipes_started['Fuel']=='Oil')]\n",
    "pipes_started_sum = pipes_started.groupby('StartYearEarliest')['LengthMergedKm'].sum()"
   ]
  },
  {
   "cell_type": "code",
   "execution_count": 17,
   "id": "8d9559e8-1fc7-49c1-833f-6e19e425e498",
   "metadata": {},
   "outputs": [],
   "source": [
    "# count km of pipeline for each start year\n",
    "pipes_started_startyear = pipes_df_orig.copy()\n",
    "pipes_started_startyear['StartYearEarliest'].replace(numpy.nan,'',inplace=True)\n",
    "pipes_started_startyear = pipes_started_startyear[(pipes_started_startyear['Status'].isin(['Operating'])) &\n",
    "                              (pipes_started_startyear['Fuel']=='Oil')]\n",
    "#pipes_started_startyear_sum = pipes_started_startyear.groupby('StartYearLatest')['LengthMergedKm'].sum()"
   ]
  },
  {
   "cell_type": "code",
   "execution_count": 18,
   "id": "b944ca0c-f362-4d07-a142-78b1523e988d",
   "metadata": {},
   "outputs": [],
   "source": [
    "# indev pipelines = Proposed or Construction or Shelved\n",
    "pipes_indev = pipes_df_orig.copy()\n",
    "pipes_indev = pipes_indev.loc[(pipes_indev.Fuel=='Oil')&\n",
    "                              (pipes_indev.Status.isin(['Proposed','Construction','Shelved']))].groupby('Status')['LengthMergedKm'].sum()\n",
    "#pipes_indev = pipes_indev.loc[(pipes_indev.StartYearEarliest>2022)|\n",
    "#                              (pipes_indev.StartYearEarliest.isna())].groupby('Status')['LengthMergedKm'].sum()"
   ]
  },
  {
   "cell_type": "code",
   "execution_count": 19,
   "id": "d15a4dbf-af9f-4c41-bb90-bc045c099402",
   "metadata": {},
   "outputs": [],
   "source": [
    "pipes_indev_to2030 = pipes_df_orig.copy()\n",
    "pipes_indev_to2030 = pipes_indev_to2030.loc[(pipes_indev_to2030['Fuel']=='Oil') &\n",
    "                                        (pipes_indev_to2030['Status'].isin(['Proposed','Construction','Shelved'])) &\n",
    "                                        (pipes_indev_to2030['StartYearEarliest'].isin(list(range(2023,2031))))]\n",
    "pipes_indev_to2030 = pipes_indev_to2030.groupby('Status')['LengthMergedKm'].sum()\n"
   ]
  },
  {
   "cell_type": "code",
   "execution_count": 20,
   "id": "5bd752fe-875a-4bc2-8429-0910473d52c6",
   "metadata": {},
   "outputs": [],
   "source": [
    "pipes_indev_startyear = pipes_df_orig.copy()\n",
    "pipes_indev_startyear = pipes_indev_startyear[(pipes_indev_startyear['Status'].isin(['Proposed','Construction','Shelved'])) &\n",
    "                                              (pipes_indev_startyear['Fuel']=='Oil')]\n",
    "pipes_indev_startyear = pipes_indev_startyear.groupby(['Status','StartYearEarliest'], dropna=False)['LengthMergedKm'].sum(min_count=1)"
   ]
  },
  {
   "cell_type": "code",
   "execution_count": 21,
   "id": "47cc5cd7-5c49-4195-b71d-fff190221140",
   "metadata": {},
   "outputs": [
    {
     "data": {
      "text/html": [
       "<div>\n",
       "<style scoped>\n",
       "    .dataframe tbody tr th:only-of-type {\n",
       "        vertical-align: middle;\n",
       "    }\n",
       "\n",
       "    .dataframe tbody tr th {\n",
       "        vertical-align: top;\n",
       "    }\n",
       "\n",
       "    .dataframe thead th {\n",
       "        text-align: right;\n",
       "    }\n",
       "</style>\n",
       "<table border=\"1\" class=\"dataframe\">\n",
       "  <thead>\n",
       "    <tr style=\"text-align: right;\">\n",
       "      <th>StartYearEarliest</th>\n",
       "      <th>2017.0</th>\n",
       "      <th>2020.0</th>\n",
       "      <th>2021.0</th>\n",
       "      <th>2022.0</th>\n",
       "      <th>2023.0</th>\n",
       "      <th>2024.0</th>\n",
       "      <th>2025.0</th>\n",
       "      <th>2028.0</th>\n",
       "      <th>2030.0</th>\n",
       "      <th>NaN</th>\n",
       "    </tr>\n",
       "    <tr>\n",
       "      <th>Status</th>\n",
       "      <th></th>\n",
       "      <th></th>\n",
       "      <th></th>\n",
       "      <th></th>\n",
       "      <th></th>\n",
       "      <th></th>\n",
       "      <th></th>\n",
       "      <th></th>\n",
       "      <th></th>\n",
       "      <th></th>\n",
       "    </tr>\n",
       "  </thead>\n",
       "  <tbody>\n",
       "    <tr>\n",
       "      <th>Construction</th>\n",
       "      <td>NaN</td>\n",
       "      <td>NaN</td>\n",
       "      <td>NaN</td>\n",
       "      <td>2179.75</td>\n",
       "      <td>1193.4</td>\n",
       "      <td>3580.0</td>\n",
       "      <td>116.78</td>\n",
       "      <td>NaN</td>\n",
       "      <td>NaN</td>\n",
       "      <td>3283.21</td>\n",
       "    </tr>\n",
       "    <tr>\n",
       "      <th>Proposed</th>\n",
       "      <td>NaN</td>\n",
       "      <td>NaN</td>\n",
       "      <td>NaN</td>\n",
       "      <td>2867.86</td>\n",
       "      <td>1347.28</td>\n",
       "      <td>1599.5</td>\n",
       "      <td>2678.63</td>\n",
       "      <td>NaN</td>\n",
       "      <td>NaN</td>\n",
       "      <td>5319.66</td>\n",
       "    </tr>\n",
       "    <tr>\n",
       "      <th>Shelved</th>\n",
       "      <td>207.0</td>\n",
       "      <td>55.0</td>\n",
       "      <td>1234.36</td>\n",
       "      <td>249.4</td>\n",
       "      <td>47.01</td>\n",
       "      <td>306.0</td>\n",
       "      <td>NaN</td>\n",
       "      <td>1562.0</td>\n",
       "      <td>4800.0</td>\n",
       "      <td>1653.99</td>\n",
       "    </tr>\n",
       "  </tbody>\n",
       "</table>\n",
       "</div>"
      ],
      "text/plain": [
       "StartYearEarliest 2017.0 2020.0   2021.0   2022.0   2023.0  2024.0   2025.0  \\\n",
       "Status                                                                        \n",
       "Construction         NaN    NaN      NaN  2179.75   1193.4  3580.0   116.78   \n",
       "Proposed             NaN    NaN      NaN  2867.86  1347.28  1599.5  2678.63   \n",
       "Shelved            207.0   55.0  1234.36    249.4    47.01   306.0      NaN   \n",
       "\n",
       "StartYearEarliest  2028.0  2030.0   NaN     \n",
       "Status                                      \n",
       "Construction          NaN     NaN  3283.21  \n",
       "Proposed              NaN     NaN  5319.66  \n",
       "Shelved            1562.0  4800.0  1653.99  "
      ]
     },
     "execution_count": 21,
     "metadata": {},
     "output_type": "execute_result"
    }
   ],
   "source": [
    "pipes_indev_startyear.unstack()"
   ]
  },
  {
   "cell_type": "markdown",
   "id": "5a075334-5559-443b-a8bf-c2cc32c2ece7",
   "metadata": {},
   "source": [
    "## Fig 2 - 2023–2030, go back to 2008"
   ]
  },
  {
   "cell_type": "code",
   "execution_count": 22,
   "id": "30602be5-da26-4642-b985-ef9771157a7f",
   "metadata": {},
   "outputs": [],
   "source": [
    "pandas.DataFrame(pipes_started_sum).to_excel('saved-tables/pipelines-operating-km-by-start-year.xlsx')\n",
    "\n",
    "pandas.DataFrame(pipes_indev_startyear).unstack().replace(numpy.nan,0).to_excel('saved-tables/pipelines-indev-km-by-start-year.xlsx')"
   ]
  },
  {
   "cell_type": "code",
   "execution_count": 23,
   "id": "d22815fd-0093-470a-b77b-3e00f46c3a64",
   "metadata": {},
   "outputs": [
    {
     "data": {
      "image/png": "[encoded data removed]",
      "text/plain": [
       "<Figure size 234x288 with 2 Axes>"
      ]
     },
     "metadata": {
      "needs_background": "light"
     },
     "output_type": "display_data"
    }
   ],
   "source": [
    "font_size = 7\n",
    "\n",
    "ytop = 15000\n",
    "ytop2 = 15000\n",
    "\n",
    "fig = mp.figure(figsize=(3.25,4))\n",
    "\n",
    "widths=[15,3]\n",
    "spec = fig.add_gridspec(ncols=2, nrows=1, width_ratios=widths)\n",
    "\n",
    "ax = fig.add_subplot(spec[0,0])\n",
    "\n",
    "ax.bar(pipes_started_sum.index.values[-15:-1], pipes_started_sum.values[-15:-1],\n",
    "       color=tracker_operating, label='Operating') # color=solar_base03\n",
    "ax.bar(2022,pipes_indev_startyear['Construction',2022],\n",
    "       label='Construction\\n(scheduled\\nfor 2022)', bottom=pipes_started_sum.loc[2022], \n",
    "       facecolor=tracker_operating, alpha=0.25)\n",
    "ax.tick_params(labelsize=font_size)\n",
    "ax.tick_params('x', rotation=45)\n",
    "ax.set_ylabel('km', size=font_size)\n",
    "\n",
    "ax.set_xlim(2007.25, 2022.75)\n",
    "ax.set_ylim(0, ytop)\n",
    "\n",
    "ax.xaxis.set_major_locator(matplotlib.ticker.MaxNLocator(integer=True))\n",
    "\n",
    "ax2 = fig.add_subplot(spec[0,1])\n",
    "ax2.set_ylim(0, ytop2)\n",
    "ax2.set_xlim(0.25,3.75)\n",
    "xvals = [1,2,3]\n",
    "\n",
    "colors = [tracker_construction, tracker_proposed, tracker_shelved]\n",
    "status = ['Construction', 'Proposed', 'Shelved']\n",
    "ax2_list = []\n",
    "for x,c,s in zip(xvals,colors,status):\n",
    "    if s in ['Proposed','Shelved']:\n",
    "        ax2_list.append(ax2.bar(x, pipes_indev[s]+pipes_indev_startyear[s,2022],\n",
    "                 color=c, label=s))\n",
    "    else:\n",
    "        ax2_list.append(ax2.bar(x, pipes_indev[s],\n",
    "                 color=c, label=s))\n",
    "\n",
    "ax_h, ax_l = ax.get_legend_handles_labels()\n",
    "ax2_h, ax2_l = ax2.get_legend_handles_labels()\n",
    "\n",
    "ax2.set_xticklabels([])\n",
    "ax2.tick_params(labelsize=font_size)\n",
    "ax2.set_xticks([])\n",
    "\n",
    "\n",
    "ax2.yaxis.tick_right()\n",
    "ax2.set_ylabel('km', fontsize=font_size, rotation=-90, labelpad=10)\n",
    "ax2.yaxis.set_label_position('right')\n",
    "\n",
    "ax.legend(handles=ax_h+ax2_h, fontsize=font_size, frameon=False)\n",
    "\n",
    "axpos = ax.get_position()\n",
    "ax2pos = ax2.get_position()\n",
    "\n",
    "ax.spines['right'].set_visible(False)\n",
    "ax.spines['top'].set_visible(False)\n",
    "\n",
    "ax2.spines['left'].set_visible(False)\n",
    "ax2.spines['top'].set_visible(False)\n",
    "#ax2.spines['right'].set_visible(False)\n",
    "\n",
    "ax.set_title('commissioned by year', fontsize=font_size)\n",
    "ax2.set_title('future', fontsize=font_size)\n",
    "\n",
    "fig.tight_layout()#w_pad=0.05)\n",
    "\n",
    "ax.yaxis.set_minor_locator(matplotlib.ticker.AutoMinorLocator(2))\n",
    "ax2.yaxis.set_minor_locator(matplotlib.ticker.AutoMinorLocator(2))\n",
    "\n",
    "mp.savefig('saved-figures/oil-pipelines_km-by-start-year-backto2008-with-2022.png', bbox_inches='tight', transparent=True, dpi=600)\n",
    "mp.savefig('saved-figures/oil-pipelines_km-by-start-year-backto2008-with-2022.pdf', bbox_inches='tight', transparent=True)"
   ]
  },
  {
   "cell_type": "markdown",
   "id": "83c69fd8-e7a7-41bb-b816-b175a0b8909b",
   "metadata": {},
   "source": [
    "## alt for David"
   ]
  },
  {
   "cell_type": "code",
   "execution_count": 24,
   "id": "711d97d4-16d9-4d77-8577-5cb5997216a2",
   "metadata": {},
   "outputs": [
    {
     "data": {
      "text/plain": [
       "Status\n",
       "Construction    10353.14\n",
       "Proposed        13812.93\n",
       "Shelved         10114.76\n",
       "Name: LengthMergedKm, dtype: object"
      ]
     },
     "execution_count": 24,
     "metadata": {},
     "output_type": "execute_result"
    }
   ],
   "source": [
    "pipes_indev"
   ]
  },
  {
   "cell_type": "code",
   "execution_count": 26,
   "id": "5e6210eb-0ae8-47f3-81af-2b10d7833e6f",
   "metadata": {},
   "outputs": [
    {
     "data": {
      "image/png": "[encoded data removed]",
      "text/plain": [
       "<Figure size 234x288 with 2 Axes>"
      ]
     },
     "metadata": {
      "needs_background": "light"
     },
     "output_type": "display_data"
    }
   ],
   "source": [
    "font_size = 7\n",
    "\n",
    "ytop = 22500\n",
    "ytop2 = 22500\n",
    "\n",
    "fig = mp.figure(figsize=(3.25,4))\n",
    "\n",
    "widths=[15,2.25]\n",
    "spec = fig.add_gridspec(ncols=2, nrows=1, width_ratios=widths)\n",
    "\n",
    "ax = fig.add_subplot(spec[0,0])\n",
    "\n",
    "ax.bar(pipes_started_sum.index.values[-15:-1], pipes_started_sum.values[-15:-1],\n",
    "       color=tracker_operating, label='Operating') # color=solar_base03\n",
    "\n",
    "ax.bar(2022,pipes_indev_startyear['Construction',2022],\n",
    "       label='Construction\\n(scheduled\\nfor 2022)', bottom=pipes_started_sum.loc[2022], \n",
    "       facecolor=tracker_operating, alpha=0.25)\n",
    "\n",
    "ax.tick_params(labelsize=font_size)\n",
    "ax.tick_params('x', rotation=45)\n",
    "ax.set_ylabel('km', size=font_size)\n",
    "\n",
    "ax.set_xlim(2007.25, 2022.75)\n",
    "ax.set_ylim(0, ytop)\n",
    "\n",
    "ax.xaxis.set_major_locator(matplotlib.ticker.MaxNLocator(integer=True))\n",
    "\n",
    "ax2 = fig.add_subplot(spec[0,1])\n",
    "ax2.set_ylim(0, ytop2)\n",
    "ax2.set_xlim(0.25,2.75)\n",
    "xvals = [1.5]\n",
    "\n",
    "colors = [tracker_construction, tracker_proposed]#, tracker_shelved]\n",
    "status = ['Construction', 'Proposed']#, 'Shelved']\n",
    "ax2_list = []\n",
    "# for x,c,s in zip(xvals,colors,status):\n",
    "#     if s in ['Proposed','Shelved']:\n",
    "#         ax2_list.append(ax2.bar(x, pipes_indev[s]+pipes_indev_startyear[s,2022],\n",
    "#                  color=c, label=s))\n",
    "#     else:\n",
    "#         ax2_list.append(ax2.bar(x, pipes_indev[s],\n",
    "#                  color=c, label=s))\n",
    "ax2_list.append(ax2.bar(xvals[0], pipes_indev['Construction'],\n",
    "                 color=tracker_construction, label='Construction'))\n",
    "\n",
    "ax2_list.append(ax2.bar(xvals[0], pipes_indev['Proposed']-pipes_indev_startyear['Construction',2022],\n",
    "                        bottom=pipes_indev['Construction'],\n",
    "                 color=tracker_shelved, label='Proposed'))\n",
    "\n",
    "ax_h, ax_l = ax.get_legend_handles_labels()\n",
    "ax2_h, ax2_l = ax2.get_legend_handles_labels()\n",
    "\n",
    "ax2.set_xticklabels([])\n",
    "ax2.tick_params(labelsize=font_size)\n",
    "ax2.set_xticks([])\n",
    "\n",
    "#ax2.yaxis.tick_right()\n",
    "#ax2.set_ylabel('km', fontsize=font_size, rotation=-90, labelpad=10)\n",
    "#ax2.yaxis.set_label_position('right')\n",
    "ax2.set_yticks([])\n",
    "\n",
    "ax.legend(handles=ax_h+ax2_h, fontsize=font_size, frameon=False, \n",
    "          loc='upper left', bbox_to_anchor=[0.05,1])\n",
    "\n",
    "axpos = ax.get_position()\n",
    "ax2pos = ax2.get_position()\n",
    "\n",
    "ax.spines['right'].set_visible(False)\n",
    "ax.spines['top'].set_visible(False)\n",
    "\n",
    "ax2.spines['left'].set_visible(False)\n",
    "ax2.spines['top'].set_visible(False)\n",
    "ax2.spines['right'].set_visible(False)\n",
    "#ax2.spines['right'].set_visible(False)\n",
    "\n",
    "ax.set_title('commissioned by year', fontsize=font_size)\n",
    "ax2.set_title('future', fontsize=font_size)\n",
    "\n",
    "fig.tight_layout(w_pad=0)\n",
    "\n",
    "ax.yaxis.set_minor_locator(matplotlib.ticker.AutoMinorLocator(2))\n",
    "#ax2.yaxis.set_minor_locator(matplotlib.ticker.AutoMinorLocator(2))\n",
    "\n",
    "mp.savefig('saved-figures/oil-pipelines_km-by-start-year-backto2008-with-2022-alt.png', bbox_inches='tight', transparent=True, dpi=600)\n",
    "mp.savefig('saved-figures/oil-pipelines_km-by-start-year-backto2008-with-2022-alt.pdf', bbox_inches='tight', transparent=True)"
   ]
  },
  {
   "cell_type": "code",
   "execution_count": 253,
   "id": "09a92802-974a-42de-bc19-e12f40226b70",
   "metadata": {},
   "outputs": [
    {
     "data": {
      "text/plain": [
       "Status\n",
       "Construction   10,353.140\n",
       "Proposed       13,812.930\n",
       "Shelved        10,114.760\n",
       "Name: LengthMergedKm, dtype: object"
      ]
     },
     "execution_count": 253,
     "metadata": {},
     "output_type": "execute_result"
    }
   ],
   "source": [
    "pipes_indev"
   ]
  },
  {
   "cell_type": "markdown",
   "id": "278b1549-5bbe-4760-91b1-f2061af98c42",
   "metadata": {},
   "source": [
    "## plus/minus 8 years"
   ]
  },
  {
   "cell_type": "code",
   "execution_count": 254,
   "id": "022cf8e1-137e-41ae-a1b5-9715078d82d9",
   "metadata": {},
   "outputs": [
    {
     "data": {
      "image/png": "[encoded data removed]",
      "text/plain": [
       "<Figure size 234x288 with 2 Axes>"
      ]
     },
     "metadata": {
      "needs_background": "light"
     },
     "output_type": "display_data"
    }
   ],
   "source": [
    "font_size = 7\n",
    "\n",
    "ytop = 14500\n",
    "ytop2 = 14500\n",
    "\n",
    "fig = mp.figure(figsize=(3.25,4))\n",
    "\n",
    "widths=[15,3]\n",
    "spec = fig.add_gridspec(ncols=2, nrows=1, width_ratios=widths)\n",
    "\n",
    "ax = fig.add_subplot(spec[0,0])\n",
    "\n",
    "#axpos = ax.get_position()\n",
    "ax.bar(pipes_started_sum.index.values[-15:-1], pipes_started_sum.values[-15:-1],\n",
    "       color=tracker_operating, label='Operating') # color=solar_base03\n",
    "ax.bar(2022,pipes_indev_startyear['Construction',2022],\n",
    "       label='Construction\\n(scheduled\\nfor 2022)', bottom=pipes_started_sum.loc[2022], \n",
    "       facecolor=tracker_operating, alpha=0.25)\n",
    "ax.tick_params(labelsize=font_size)\n",
    "ax.tick_params('x', rotation=45)\n",
    "#ax.set_xlabel('start year', size=font_size)\n",
    "ax.set_ylabel('km', size=font_size)\n",
    "\n",
    "ax.set_xlim(2007.25, 2022.75)\n",
    "ax.set_ylim(0, ytop)\n",
    "\n",
    "ax.xaxis.set_major_locator(matplotlib.ticker.MaxNLocator(integer=True))\n",
    "\n",
    "ax2 = fig.add_subplot(spec[0,1])\n",
    "ax2.set_ylim(0, ytop2)\n",
    "ax2.set_xlim(0.25,3.75)\n",
    "#ax2pos = ax2.get_position()\n",
    "xvals = [1,2,3]\n",
    "\n",
    "#colors = [solar_orange, solar_yellow, '0.75']\n",
    "colors = [tracker_construction, tracker_proposed, tracker_shelved]\n",
    "status = ['Construction', 'Proposed', 'Shelved']\n",
    "status_alt = ['Construction\\n(beyond 2030)', 'Proposed\\n(beyond 2030)', 'Shelved\\n(beyond 2030)']\n",
    "ax2_list = []\n",
    "\n",
    "for x,c,s in zip(xvals,colors,status):\n",
    "    ax2_list.append(ax2.bar(x, pipes_indev_to2030[s],\n",
    "             color=c, label=s))\n",
    "\n",
    "for x,c,s,s_alt in zip(xvals,colors,status,status_alt):\n",
    "    ax2_list.append(ax2.bar(x, pipes_indev[s], bottom=pipes_indev_to2030[s],\n",
    "             color=c, label=s_alt, alpha=0.333))\n",
    "\n",
    "ax_h, ax_l = ax.get_legend_handles_labels()\n",
    "ax2_h, ax2_l = ax2.get_legend_handles_labels()\n",
    "\n",
    "#ax2.set_xlabel('possible\\nfuture', size=font_size)\n",
    "#ax2.set_yticklabels([])\n",
    "ax2.set_xticklabels([])\n",
    "ax2.tick_params(labelsize=font_size)\n",
    "ax2.set_xticks([])\n",
    "\n",
    "ax2.yaxis.tick_right()\n",
    "ax2.set_ylabel('km', fontsize=font_size, rotation=-90, labelpad=10)\n",
    "ax2.yaxis.set_label_position('right')\n",
    "#ax2.set_yticklabels([])\n",
    "#ax2.set_yticks([])\n",
    "\n",
    "ax.legend(handles=ax_h+ax2_h, fontsize=font_size, frameon=False)\n",
    "\n",
    "axpos = ax.get_position()\n",
    "ax2pos = ax2.get_position()\n",
    "\n",
    "ax.spines['right'].set_visible(False)\n",
    "ax.spines['top'].set_visible(False)\n",
    "\n",
    "ax2.spines['left'].set_visible(False)\n",
    "ax2.spines['top'].set_visible(False)\n",
    "#ax2.spines['right'].set_visible(False)\n",
    "\n",
    "ax.set_title('commissioned by year', fontsize=font_size)\n",
    "ax2.set_title('future', fontsize=font_size)\n",
    "\n",
    "fig.tight_layout()#w_pad=0.05)\n",
    "#fig.subplots_adjust(wspace=0.05, hspace=None)\n",
    "\n",
    "#mp.savefig('saved-figures/oil-pipelines_km-by-start-year-plusminus-8yrs.png', bbox_inches='tight', transparent=True, dpi=600)\n",
    "#mp.savefig('saved-figures/oil-pipelines_km-by-start-year-plusminus-8yrs.pdf', bbox_inches='tight', transparent=True)"
   ]
  },
  {
   "cell_type": "markdown",
   "id": "8298e2a6-3199-460c-8109-9f2ce4e9f680",
   "metadata": {},
   "source": [
    "## percent pipelines with start date (sanity check)"
   ]
  },
  {
   "cell_type": "code",
   "execution_count": 255,
   "id": "9b19f13c-1f8e-47eb-abff-f8ee5545ba20",
   "metadata": {},
   "outputs": [],
   "source": [
    "pipes_scratch = pipes_df_orig.copy()\n",
    "pipes_scratch = pipes_scratch[(pipes_scratch['Fuel']=='Oil') &\n",
    "                              (pipes_scratch['Status'].isin(['Proposed','Construction','Shelved']))]"
   ]
  },
  {
   "cell_type": "code",
   "execution_count": 256,
   "id": "4b88a57c-41dd-4d0a-a3ca-3c08d90892ac",
   "metadata": {},
   "outputs": [
    {
     "data": {
      "text/plain": [
       "0.5825242718446602"
      ]
     },
     "execution_count": 256,
     "metadata": {},
     "output_type": "execute_result"
    }
   ],
   "source": [
    "pipes_scratch[~pipes_scratch['StartYearEarliest'].isnull()]['StartYearEarliest'].count()/pipes_scratch.shape[0]\n"
   ]
  },
  {
   "cell_type": "markdown",
   "id": "358e0310",
   "metadata": {},
   "source": [
    "## regional pipelines started in given year"
   ]
  },
  {
   "cell_type": "code",
   "execution_count": 257,
   "id": "bc05d721",
   "metadata": {},
   "outputs": [],
   "source": [
    "years_array = numpy.arange( float(pipes_df_orig['StartYearEarliest'].min()), float(pipes_df_orig['StartYearEarliest'].max())+1)\n",
    "regions_startyear_sums_df = pandas.DataFrame(numpy.nan, index=years_array, columns=region_list)"
   ]
  },
  {
   "cell_type": "code",
   "execution_count": 258,
   "id": "b1fca66b",
   "metadata": {},
   "outputs": [],
   "source": [
    "#pipes_started = pipes_df.copy()[(pipes_df['Status'].isin(['Operating'])) & pipes_df['Fuel']=='Gas']\n",
    "#pipes_started_sum = pipes_started.groupby('StartYearLatest')['LengthMergedKm'].sum()\n",
    "\n",
    "for region in region_list:\n",
    "    pipes_started = pipes_df_orig.copy()[(pipes_df_orig['Status'].isin(['Operating','Retired','Idle'])) & \n",
    "                                    (pipes_df_orig['Fuel']=='Oil')]\n",
    "    pipes_started = pipes_started[pipes_started['StartRegion']==region]\n",
    "    pipes_started_sum_up = pipes_started.groupby('StartYearEarliest')['LengthMergedKm'].sum()\n",
    "    \n",
    "    regions_startyear_sums_df[region] = pipes_started_sum_up"
   ]
  },
  {
   "cell_type": "code",
   "execution_count": 259,
   "id": "37727617-097d-400e-82f7-bc396ec094aa",
   "metadata": {},
   "outputs": [],
   "source": [
    "if len(region_list)!=10:\n",
    "    region_list = region_list[2:]"
   ]
  },
  {
   "cell_type": "markdown",
   "id": "0299445b-00c6-448c-9db4-1ee541d487ed",
   "metadata": {},
   "source": [
    "## plot pie chart of regional values"
   ]
  },
  {
   "cell_type": "code",
   "execution_count": 260,
   "id": "226216bb-58ee-4c37-af1f-637b84aa56ea",
   "metadata": {},
   "outputs": [
    {
     "data": {
      "image/png": "[encoded data removed]",
      "text/plain": [
       "<Figure size 720x72 with 1 Axes>"
      ]
     },
     "metadata": {
      "needs_background": "light"
     },
     "output_type": "display_data"
    },
    {
     "data": {
      "image/png": "[encoded data removed]",
      "text/plain": [
       "<Figure size 720x72 with 1 Axes>"
      ]
     },
     "metadata": {
      "needs_background": "light"
     },
     "output_type": "display_data"
    }
   ],
   "source": [
    "# mess with some color pallettes\n",
    "#seaborn.color_palette('husl', 10)\n",
    "seaborn.palplot(seaborn.husl_palette(10, s=0.9, l=0.75, h=0.15))\n",
    "seaborn.palplot(seaborn.husl_palette(10, h=0.15))\n",
    "\n",
    "cmap_dark = seaborn.husl_palette(10, h=0.15, l=0.4, s=0.8, as_cmap=True)\n",
    "cmap_light = seaborn.husl_palette(10, h=0.15, s=1, as_cmap=True)"
   ]
  },
  {
   "cell_type": "code",
   "execution_count": 261,
   "id": "2efd35e5-b020-45a3-8686-1c1cf1e65bcb",
   "metadata": {},
   "outputs": [
    {
     "data": {
      "image/png": "[encoded data removed]",
      "text/plain": [
       "<Figure size 360x360 with 1 Axes>"
      ]
     },
     "metadata": {},
     "output_type": "display_data"
    }
   ],
   "source": [
    "font_size=7\n",
    "\n",
    "fig = mp.figure(figsize=(5,5))\n",
    "ax = fig.add_subplot(111)\n",
    "\n",
    "nwedges = region_list.__len__()\n",
    "region_order = km_by_region_df.index[:nwedges]\n",
    "\n",
    "pie_vals = km_by_region_df.loc[region_order]['Proposed+Construction'].values\n",
    "pie_labels = km_by_region_df.index\n",
    "pie_labels_km = km_by_region_df.loc[region_order]['Proposed+Construction'].apply(lambda x: f'\\n{int(round(x,-2)):,} km')\n",
    "pie_labels_perc = (km_by_region_df.loc[region_order]['Proposed+Construction'] / \n",
    "                   km_by_region_df.loc[region_order]['Proposed+Construction'].sum() * 100.).apply(lambda x: f'\\n{x:.1f}%')\n",
    "\n",
    "# ****************************************\n",
    "pie_vals_separated = km_by_region_df.loc[region_order][['Construction','Proposed']].values.flatten()\n",
    "#pie_labels_separated = numpy.array(list(zip(km_by_region_df.index[:-1],km_by_region_df.index[:-1]))).flatten()\n",
    "#pie_labels_km = km_by_region_df.loc[region_order]['Proposed+Construction'].apply(lambda x: f'\\n{int(round(x,-3)):,} km')\n",
    "\n",
    "nwedges_separated = 20\n",
    "cmap_light_10 = cmap_light(numpy.linspace(0,1,nwedges))\n",
    "cmap_dark_10 = cmap_dark(numpy.linspace(0,1,nwedges))\n",
    "\n",
    "pie_labels = [i+j+k for i,j,k in zip(pie_labels, pie_labels_km, pie_labels_perc)]\n",
    "pie_width = 0.666\n",
    "\n",
    "# ****************************************\n",
    "# size=0.3\n",
    "ax.pie(pie_vals_separated, \n",
    "       #labels=pie_labels,\n",
    "       #radius=1-size,\n",
    "       colors=numpy.hstack((cmap_light_10, cmap_dark_10)).reshape(20,-1),\n",
    "       wedgeprops=dict(width=pie_width),\n",
    "       textprops={'fontsize': font_size})\n",
    "ax.pie(pie_vals, \n",
    "       labels=pie_labels,\n",
    "       #radius=1,\n",
    "       #bottom=0.25,\n",
    "       colors=None,#cmap(numpy.linspace(0,1,pie_vals.size))[::-1],\n",
    "       wedgeprops=dict(edgecolor='1', facecolor='None', linewidth=2, width=pie_width),\n",
    "       textprops={'fontsize': font_size})\n",
    "\n",
    "\n",
    "ax.tick_params(labelsize=font_size)\n",
    "\n",
    "fig.tight_layout()\n",
    "\n",
    "mp.savefig('saved-figures/oil-pipelines_pie-graph-country-pipelines-km.pdf', bbox_inches='tight', transparent=True)\n",
    "\n",
    "#mp.savefig('saved-figures/oil-pipelines_pie-graph-country-pipelines-km.png', \n",
    "#           bbox_inches='tight', \n",
    "#           transparent=True,\n",
    "#           dpi=600)"
   ]
  },
  {
   "cell_type": "markdown",
   "id": "712acc4e",
   "metadata": {},
   "source": [
    "# top 20 countries proposed+construction"
   ]
  },
  {
   "cell_type": "code",
   "execution_count": 262,
   "id": "e4961c91-d30b-4e76-9e26-94a0ae21ba70",
   "metadata": {},
   "outputs": [],
   "source": [
    "def adjust_spines(ax, spines):\n",
    "    for loc, spine in ax.spines.items():\n",
    "        if loc in spines:\n",
    "            spine.set_position(('outward', 10))  # outward by 10 points\n",
    "        else:\n",
    "            spine.set_color('none')  # don't draw spine\n",
    "\n",
    "    # turn off ticks where there is no spine\n",
    "    if 'left' in spines:\n",
    "        ax.yaxis.set_ticks_position('left')\n",
    "    else:\n",
    "        # no yaxis ticks\n",
    "        ax.yaxis.set_ticks([])\n",
    "\n",
    "    if 'bottom' in spines:\n",
    "        ax.xaxis.set_ticks_position('bottom')\n",
    "    else:\n",
    "        # no xaxis ticks\n",
    "        ax.xaxis.set_ticks([])"
   ]
  },
  {
   "cell_type": "code",
   "execution_count": 263,
   "id": "3cdebc59",
   "metadata": {
    "tags": []
   },
   "outputs": [
    {
     "data": {
      "image/png": "[encoded data removed]",
      "text/plain": [
       "<Figure size 486x288 with 1 Axes>"
      ]
     },
     "metadata": {
      "needs_background": "light"
     },
     "output_type": "display_data"
    }
   ],
   "source": [
    "font_size = 7\n",
    "fig = mp.figure(figsize=(6.75,4))\n",
    "nbars=20\n",
    "\n",
    "country_order = km_by_country_df.index[:nbars][::-1]\n",
    "\n",
    "ax = fig.add_subplot(111)\n",
    "\n",
    "ax.barh(numpy.arange(nbars), \n",
    "        km_by_country_df.loc[country_order]['Construction'].values, \n",
    "        facecolor=tracker_construction,#solar_orange, \n",
    "        label='Construction')\n",
    "\n",
    "ax.barh(numpy.arange(nbars), \n",
    "        km_by_country_df.loc[country_order]['Proposed'].values, \n",
    "        left=km_by_country_df.loc[country_order]['Construction'].values, \n",
    "        facecolor=tracker_proposed,#solar_yellow, \n",
    "        label='Proposed')\n",
    "\n",
    "ax.barh(numpy.arange(nbars), \n",
    "        km_by_country_df.loc[country_order]['Shelved'].values, \n",
    "        left=km_by_country_df.loc[country_order][['Proposed','Construction']].sum(axis=1).values, \n",
    "        facecolor=tracker_shelved,#'0.75', \n",
    "        label='Shelved')\n",
    "\n",
    "ax.barh(numpy.arange(nbars), \n",
    "        km_by_country_df.loc[country_order]['Cancelled'].values, \n",
    "        left=km_by_country_df.loc[country_order][['Proposed','Construction','Shelved']].sum(axis=1).values, \n",
    "        facecolor=tracker_cancelled,#'0.9', \n",
    "        label='Cancelled')\n",
    "\n",
    "ax.set_yticks(numpy.arange(nbars))\n",
    "ax.set_yticklabels(km_by_country_df.index[:nbars][::-1])\n",
    "ax.tick_params(labelsize=font_size)\n",
    "ax.tick_params('x', pad=0)\n",
    "ax.set_xlim(0,30000)\n",
    "#ax.set_ylim(-.75,19.75)\n",
    "ax.set_ylim(-.25,20)\n",
    "ax.set_xlabel('km', size=font_size)#, labelpad=10)\n",
    "ax.xaxis.set_ticks_position('top')\n",
    "ax.xaxis.set_label_position('top')\n",
    "\n",
    "ax.legend(fontsize=font_size, frameon=False, loc='lower right')\n",
    "\n",
    "ax.spines['right'].set_visible(False)\n",
    "ax.spines['left'].set_visible(False)\n",
    "ax.spines['bottom'].set_visible(False)\n",
    "\n",
    "#mp.savefig('saved-figures/oil-pipelines_top-20-countries.pdf', bbox_inches='tight', transparent=True)\n",
    "\n",
    "#adjust_spines(ax, ['top'])\n",
    "    \n",
    "mp.savefig('saved-figures/oil-pipelines_top-20-countries.png',\n",
    "          bbox_inches='tight', \n",
    "          transparent=True,\n",
    "          dpi=600)\n",
    "\n",
    "mp.savefig('saved-figures/oil-pipelines_top-20-countries.pdf',\n",
    "          bbox_inches='tight', \n",
    "          transparent=True)"
   ]
  },
  {
   "cell_type": "markdown",
   "id": "3b0980c1-af1a-4b83-a13e-ec9f8942a6ff",
   "metadata": {},
   "source": [
    "# top 20 without cancelled and shelved bars"
   ]
  },
  {
   "cell_type": "code",
   "execution_count": 264,
   "id": "f96b605e-5079-43e8-b117-5f5ebd2f708b",
   "metadata": {},
   "outputs": [
    {
     "data": {
      "image/png": "[encoded data removed]",
      "text/plain": [
       "<Figure size 486x288 with 1 Axes>"
      ]
     },
     "metadata": {
      "needs_background": "light"
     },
     "output_type": "display_data"
    }
   ],
   "source": [
    "sel_cmap = matplotlib.cm.get_cmap('Reds')\n",
    "#tracker_operating = sel_cmap(0.999)\n",
    "#tracker_construction = sel_cmap(0.8)\n",
    "#tracker_proposed = sel_cmap(0.6)\n",
    "#tracker_shelved = sel_cmap(0.4)\n",
    "#tracker_cancelled = sel_cmap(0.2)\n",
    "\n",
    "font_size = 7\n",
    "fig = mp.figure(figsize=(6.75,4))\n",
    "nbars=20\n",
    "\n",
    "country_order = km_by_country_df.index[:nbars][::-1]\n",
    "\n",
    "ax = fig.add_subplot(111)\n",
    "\n",
    "ax.barh(numpy.arange(nbars), \n",
    "        km_by_country_df.loc[country_order]['Construction'].values, \n",
    "        facecolor=sel_cmap(0.8),\n",
    "        label='Construction', height=0.6)\n",
    "\n",
    "ax.barh(numpy.arange(nbars), \n",
    "        km_by_country_df.loc[country_order]['Proposed'].values, \n",
    "        left=km_by_country_df.loc[country_order]['Construction'].values, \n",
    "        facecolor=sel_cmap(0.4),\n",
    "        label='Proposed', height=0.6)\n",
    "\n",
    "ax.set_yticks(numpy.arange(nbars))\n",
    "ax.set_yticklabels(km_by_country_df.index[:nbars][::-1])\n",
    "ax.tick_params(labelsize=font_size)\n",
    "ax.tick_params('x', pad=0)\n",
    "ax.set_xlim(0,3250)\n",
    "#ax.set_ylim(-.75,19.75)\n",
    "ax.set_ylim(-.25,20)\n",
    "ax.set_xlabel('km', size=font_size)#, labelpad=10)\n",
    "ax.xaxis.set_ticks_position('top')\n",
    "ax.xaxis.set_label_position('top')\n",
    "\n",
    "ax.legend(fontsize=font_size, frameon=False, loc='lower right')\n",
    "\n",
    "ax.spines['right'].set_visible(False)\n",
    "ax.spines['left'].set_visible(False)\n",
    "ax.spines['bottom'].set_visible(False)\n",
    "\n",
    "#ax.xaxis.grid(True, which='minor')\n",
    "ax.xaxis.set_minor_locator(matplotlib.ticker.AutoMinorLocator(2))\n",
    "\n",
    "\n",
    "#mp.savefig('saved-figures/oil-pipelines_top-20-countries.pdf', bbox_inches='tight', transparent=True)\n",
    "\n",
    "#adjust_spines(ax, ['top'])\n",
    "    \n",
    "mp.savefig('saved-figures/oil-pipelines_top-20-countries-no-cancelled-shelved.png',\n",
    "          bbox_inches='tight', \n",
    "          transparent=True,\n",
    "          dpi=600)\n",
    "\n",
    "mp.savefig('saved-figures/oil-pipelines_top-20-countries-no-cancelled-shelved.pdf',\n",
    "          bbox_inches='tight', \n",
    "          transparent=True)"
   ]
  },
  {
   "cell_type": "code",
   "execution_count": 265,
   "id": "3906d28f",
   "metadata": {},
   "outputs": [
    {
     "data": {
      "text/plain": [
       "0.8968378186968838"
      ]
     },
     "execution_count": 265,
     "metadata": {},
     "output_type": "execute_result"
    }
   ],
   "source": [
    "# ratio of China to India (how many times larger is km of Chinese pipelines than India?)\n",
    "km_by_country_df.loc['China']['Proposed+Construction']/km_by_country_df.loc['India']['Proposed+Construction']"
   ]
  },
  {
   "cell_type": "markdown",
   "id": "ef4ea45f-4fac-4b6f-a619-dd3ecd24b143",
   "metadata": {},
   "source": [
    "# parent analysis"
   ]
  },
  {
   "cell_type": "code",
   "execution_count": 266,
   "id": "f95329ed-9812-4d28-be52-35386c81df7f",
   "metadata": {},
   "outputs": [],
   "source": [
    "owner_parent_calculations_df = pandas.DataFrame()\n",
    "# needs country, km in each country columns as well\n",
    "\n",
    "for idx,row in pipes_df_orig.loc[pipes_df_orig.Fuel=='Oil'].iterrows():\n",
    "    parent_string = row.Parent\n",
    "    parent_list = re.sub(' \\[.*?\\]', '', parent_string).split('; ') # all entries must have a Owner [%] syntax\n",
    "    percent_list = [float(i.rstrip('%'))/100. for i in re.findall('\\\\d+(?:\\\\.\\\\d+)?%', parent_string)]\n",
    "\n",
    "    if parent_list.__len__()!=percent_list.__len__():\n",
    "        if percent_list==[]:\n",
    "            percent_list = [1/parent_list.__len__() for i in parent_list]\n",
    "        else:\n",
    "            nmissing = parent_list.__len__()-percent_list.__len__()\n",
    "            # distribute nans evenly\n",
    "            total = numpy.nansum(percent_list)\n",
    "            leftover = 1-total\n",
    "            percent_list += [leftover/nmissing]*nmissing\n",
    "\n",
    "    for p_idx,parent in enumerate(parent_list):\n",
    "        owner_parent_calculations_df = pandas.concat([owner_parent_calculations_df, \n",
    "                                                      pandas.DataFrame([{'Parent':parent, 'ProjectID':row.ProjectID, \n",
    "                                                                         'FractionOwnership':percent_list[p_idx],\n",
    "                                                                         'Country':parents_df.loc[parents_df.index==parent]['ParentHQCountry'].values[0],\n",
    "                                                                         'Status':row.Status,\n",
    "                                                                         'LengthMergedKm':row.LengthMergedKm,\n",
    "                                                                         'CapacityBOEd':row.CapacityBOEd}])])\n",
    "\n",
    "owner_parent_calculations_df['KmOwnership'] = owner_parent_calculations_df.FractionOwnership*owner_parent_calculations_df.LengthMergedKm\n",
    "owner_parent_calculations_df['CapacityOwnership'] = owner_parent_calculations_df.FractionOwnership*owner_parent_calculations_df.CapacityBOEd"
   ]
  },
  {
   "cell_type": "markdown",
   "id": "d8b0603d-b6ea-47a4-a027-f7d933665b55",
   "metadata": {},
   "source": [
    "### companies invested in Russian infrastructure?\n",
    "\n",
    "it's really just ProjectIDs 2044 (Caspian Oil Pipeline), 3675 (Vostok Oil Pipeline), and 3679 (Sabo-Dagi Oil Pipeline)"
   ]
  },
  {
   "cell_type": "code",
   "execution_count": 267,
   "id": "41e42270-fbb6-4dc1-9788-8b43bcacbd2b",
   "metadata": {},
   "outputs": [
    {
     "data": {
      "text/html": [
       "<div>\n",
       "<style scoped>\n",
       "    .dataframe tbody tr th:only-of-type {\n",
       "        vertical-align: middle;\n",
       "    }\n",
       "\n",
       "    .dataframe tbody tr th {\n",
       "        vertical-align: top;\n",
       "    }\n",
       "\n",
       "    .dataframe thead th {\n",
       "        text-align: right;\n",
       "    }\n",
       "</style>\n",
       "<table border=\"1\" class=\"dataframe\">\n",
       "  <thead>\n",
       "    <tr style=\"text-align: right;\">\n",
       "      <th></th>\n",
       "      <th>Parent</th>\n",
       "      <th>ProjectID</th>\n",
       "      <th>FractionOwnership</th>\n",
       "      <th>Country</th>\n",
       "      <th>Status</th>\n",
       "      <th>LengthMergedKm</th>\n",
       "      <th>CapacityBOEd</th>\n",
       "      <th>KmOwnership</th>\n",
       "      <th>CapacityOwnership</th>\n",
       "    </tr>\n",
       "  </thead>\n",
       "  <tbody>\n",
       "    <tr>\n",
       "      <th>0</th>\n",
       "      <td>Samruk-Kazyna SWF JSC</td>\n",
       "      <td>P2044</td>\n",
       "      <td>0.198</td>\n",
       "      <td>Kazakhstan</td>\n",
       "      <td>Construction</td>\n",
       "      <td>0.000</td>\n",
       "      <td>319,478.900</td>\n",
       "      <td>0.000</td>\n",
       "      <td>63,256.822</td>\n",
       "    </tr>\n",
       "    <tr>\n",
       "      <th>0</th>\n",
       "      <td>Chevron</td>\n",
       "      <td>P2044</td>\n",
       "      <td>0.150</td>\n",
       "      <td>United States</td>\n",
       "      <td>Construction</td>\n",
       "      <td>0.000</td>\n",
       "      <td>319,478.900</td>\n",
       "      <td>0.000</td>\n",
       "      <td>47,921.835</td>\n",
       "    </tr>\n",
       "    <tr>\n",
       "      <th>0</th>\n",
       "      <td>ExxonMobil</td>\n",
       "      <td>P2044</td>\n",
       "      <td>0.075</td>\n",
       "      <td>United States</td>\n",
       "      <td>Construction</td>\n",
       "      <td>0.000</td>\n",
       "      <td>319,478.900</td>\n",
       "      <td>0.000</td>\n",
       "      <td>23,960.917</td>\n",
       "    </tr>\n",
       "    <tr>\n",
       "      <th>0</th>\n",
       "      <td>Shell</td>\n",
       "      <td>P2044</td>\n",
       "      <td>0.075</td>\n",
       "      <td>United Kingdom</td>\n",
       "      <td>Construction</td>\n",
       "      <td>0.000</td>\n",
       "      <td>319,478.900</td>\n",
       "      <td>0.000</td>\n",
       "      <td>23,960.917</td>\n",
       "    </tr>\n",
       "    <tr>\n",
       "      <th>0</th>\n",
       "      <td>Eni S.p.A.</td>\n",
       "      <td>P2044</td>\n",
       "      <td>0.020</td>\n",
       "      <td>Italy</td>\n",
       "      <td>Construction</td>\n",
       "      <td>0.000</td>\n",
       "      <td>319,478.900</td>\n",
       "      <td>0.000</td>\n",
       "      <td>6,389.578</td>\n",
       "    </tr>\n",
       "    <tr>\n",
       "      <th>0</th>\n",
       "      <td>BP</td>\n",
       "      <td>P2044</td>\n",
       "      <td>0.009</td>\n",
       "      <td>United Kingdom</td>\n",
       "      <td>Construction</td>\n",
       "      <td>0.000</td>\n",
       "      <td>319,478.900</td>\n",
       "      <td>0.000</td>\n",
       "      <td>2,811.414</td>\n",
       "    </tr>\n",
       "    <tr>\n",
       "      <th>0</th>\n",
       "      <td>National Bank of the Republic of Kazakhstan</td>\n",
       "      <td>P2044</td>\n",
       "      <td>0.001</td>\n",
       "      <td>Kazakhstan</td>\n",
       "      <td>Construction</td>\n",
       "      <td>0.000</td>\n",
       "      <td>319,478.900</td>\n",
       "      <td>0.000</td>\n",
       "      <td>255.583</td>\n",
       "    </tr>\n",
       "    <tr>\n",
       "      <th>0</th>\n",
       "      <td>Nord Axis</td>\n",
       "      <td>P3675</td>\n",
       "      <td>0.100</td>\n",
       "      <td>China</td>\n",
       "      <td>Proposed</td>\n",
       "      <td>800.000</td>\n",
       "      <td>NaN</td>\n",
       "      <td>80.000</td>\n",
       "      <td>NaN</td>\n",
       "    </tr>\n",
       "    <tr>\n",
       "      <th>0</th>\n",
       "      <td>Vitol</td>\n",
       "      <td>P3675</td>\n",
       "      <td>0.037</td>\n",
       "      <td>Switzerland</td>\n",
       "      <td>Proposed</td>\n",
       "      <td>800.000</td>\n",
       "      <td>NaN</td>\n",
       "      <td>30.000</td>\n",
       "      <td>NaN</td>\n",
       "    </tr>\n",
       "    <tr>\n",
       "      <th>0</th>\n",
       "      <td>MME</td>\n",
       "      <td>P3675</td>\n",
       "      <td>0.013</td>\n",
       "      <td>Singapore</td>\n",
       "      <td>Proposed</td>\n",
       "      <td>800.000</td>\n",
       "      <td>NaN</td>\n",
       "      <td>10.000</td>\n",
       "      <td>NaN</td>\n",
       "    </tr>\n",
       "    <tr>\n",
       "      <th>0</th>\n",
       "      <td>Nord Axis</td>\n",
       "      <td>P3676</td>\n",
       "      <td>0.100</td>\n",
       "      <td>China</td>\n",
       "      <td>Proposed</td>\n",
       "      <td>300.000</td>\n",
       "      <td>NaN</td>\n",
       "      <td>30.000</td>\n",
       "      <td>NaN</td>\n",
       "    </tr>\n",
       "    <tr>\n",
       "      <th>0</th>\n",
       "      <td>Vitol</td>\n",
       "      <td>P3676</td>\n",
       "      <td>0.037</td>\n",
       "      <td>Switzerland</td>\n",
       "      <td>Proposed</td>\n",
       "      <td>300.000</td>\n",
       "      <td>NaN</td>\n",
       "      <td>11.250</td>\n",
       "      <td>NaN</td>\n",
       "    </tr>\n",
       "    <tr>\n",
       "      <th>0</th>\n",
       "      <td>MME</td>\n",
       "      <td>P3676</td>\n",
       "      <td>0.013</td>\n",
       "      <td>Singapore</td>\n",
       "      <td>Proposed</td>\n",
       "      <td>300.000</td>\n",
       "      <td>NaN</td>\n",
       "      <td>3.750</td>\n",
       "      <td>NaN</td>\n",
       "    </tr>\n",
       "    <tr>\n",
       "      <th>0</th>\n",
       "      <td>Nord Axis</td>\n",
       "      <td>P3677</td>\n",
       "      <td>0.100</td>\n",
       "      <td>China</td>\n",
       "      <td>Proposed</td>\n",
       "      <td>300.000</td>\n",
       "      <td>NaN</td>\n",
       "      <td>30.000</td>\n",
       "      <td>NaN</td>\n",
       "    </tr>\n",
       "    <tr>\n",
       "      <th>0</th>\n",
       "      <td>Vitol</td>\n",
       "      <td>P3677</td>\n",
       "      <td>0.037</td>\n",
       "      <td>Switzerland</td>\n",
       "      <td>Proposed</td>\n",
       "      <td>300.000</td>\n",
       "      <td>NaN</td>\n",
       "      <td>11.250</td>\n",
       "      <td>NaN</td>\n",
       "    </tr>\n",
       "    <tr>\n",
       "      <th>0</th>\n",
       "      <td>MME</td>\n",
       "      <td>P3677</td>\n",
       "      <td>0.013</td>\n",
       "      <td>Singapore</td>\n",
       "      <td>Proposed</td>\n",
       "      <td>300.000</td>\n",
       "      <td>NaN</td>\n",
       "      <td>3.750</td>\n",
       "      <td>NaN</td>\n",
       "    </tr>\n",
       "    <tr>\n",
       "      <th>0</th>\n",
       "      <td>Alliance Oil Company Ltd</td>\n",
       "      <td>P3679</td>\n",
       "      <td>1.000</td>\n",
       "      <td>Bermuda</td>\n",
       "      <td>Construction</td>\n",
       "      <td>116.780</td>\n",
       "      <td>16,353.510</td>\n",
       "      <td>116.780</td>\n",
       "      <td>16,353.510</td>\n",
       "    </tr>\n",
       "  </tbody>\n",
       "</table>\n",
       "</div>"
      ],
      "text/plain": [
       "                                        Parent ProjectID  FractionOwnership  \\\n",
       "0                        Samruk-Kazyna SWF JSC     P2044              0.198   \n",
       "0                                      Chevron     P2044              0.150   \n",
       "0                                   ExxonMobil     P2044              0.075   \n",
       "0                                        Shell     P2044              0.075   \n",
       "0                                   Eni S.p.A.     P2044              0.020   \n",
       "0                                           BP     P2044              0.009   \n",
       "0  National Bank of the Republic of Kazakhstan     P2044              0.001   \n",
       "0                                    Nord Axis     P3675              0.100   \n",
       "0                                        Vitol     P3675              0.037   \n",
       "0                                          MME     P3675              0.013   \n",
       "0                                    Nord Axis     P3676              0.100   \n",
       "0                                        Vitol     P3676              0.037   \n",
       "0                                          MME     P3676              0.013   \n",
       "0                                    Nord Axis     P3677              0.100   \n",
       "0                                        Vitol     P3677              0.037   \n",
       "0                                          MME     P3677              0.013   \n",
       "0                     Alliance Oil Company Ltd     P3679              1.000   \n",
       "\n",
       "          Country        Status  LengthMergedKm  CapacityBOEd  KmOwnership  \\\n",
       "0      Kazakhstan  Construction           0.000   319,478.900        0.000   \n",
       "0   United States  Construction           0.000   319,478.900        0.000   \n",
       "0   United States  Construction           0.000   319,478.900        0.000   \n",
       "0  United Kingdom  Construction           0.000   319,478.900        0.000   \n",
       "0           Italy  Construction           0.000   319,478.900        0.000   \n",
       "0  United Kingdom  Construction           0.000   319,478.900        0.000   \n",
       "0      Kazakhstan  Construction           0.000   319,478.900        0.000   \n",
       "0           China      Proposed         800.000           NaN       80.000   \n",
       "0     Switzerland      Proposed         800.000           NaN       30.000   \n",
       "0       Singapore      Proposed         800.000           NaN       10.000   \n",
       "0           China      Proposed         300.000           NaN       30.000   \n",
       "0     Switzerland      Proposed         300.000           NaN       11.250   \n",
       "0       Singapore      Proposed         300.000           NaN        3.750   \n",
       "0           China      Proposed         300.000           NaN       30.000   \n",
       "0     Switzerland      Proposed         300.000           NaN       11.250   \n",
       "0       Singapore      Proposed         300.000           NaN        3.750   \n",
       "0         Bermuda  Construction         116.780    16,353.510      116.780   \n",
       "\n",
       "   CapacityOwnership  \n",
       "0         63,256.822  \n",
       "0         47,921.835  \n",
       "0         23,960.917  \n",
       "0         23,960.917  \n",
       "0          6,389.578  \n",
       "0          2,811.414  \n",
       "0            255.583  \n",
       "0                NaN  \n",
       "0                NaN  \n",
       "0                NaN  \n",
       "0                NaN  \n",
       "0                NaN  \n",
       "0                NaN  \n",
       "0                NaN  \n",
       "0                NaN  \n",
       "0                NaN  \n",
       "0         16,353.510  "
      ]
     },
     "execution_count": 267,
     "metadata": {},
     "output_type": "execute_result"
    }
   ],
   "source": [
    "# project IDs of pipelines that pass through Russia and are construction/proposed\n",
    "russian_indev_projectids = country_ratios_oil_df.loc[(country_ratios_oil_df.Status.isin(['Proposed','Construction']))&\n",
    "                                                     (country_ratios_oil_df.Country=='Russia')]['ProjectID'].unique()\n",
    "#russian_indev_projectids\n",
    "russian_indev_op_df = owner_parent_calculations_df.loc[owner_parent_calculations_df.ProjectID.isin(russian_indev_projectids)]\n",
    "russian_indev_op_df.loc[russian_indev_op_df.Country!='Russia']\n",
    "\n"
   ]
  },
  {
   "cell_type": "markdown",
   "id": "2d82fc92-c9f5-4024-83f0-f0ec1a3bd69d",
   "metadata": {},
   "source": [
    "## biggest parent companies for in-dev stuff?"
   ]
  },
  {
   "cell_type": "code",
   "execution_count": 268,
   "id": "7181e89d-3596-49e5-81cb-cce3d38839dd",
   "metadata": {},
   "outputs": [
    {
     "data": {
      "text/html": [
       "<div>\n",
       "<style scoped>\n",
       "    .dataframe tbody tr th:only-of-type {\n",
       "        vertical-align: middle;\n",
       "    }\n",
       "\n",
       "    .dataframe tbody tr th {\n",
       "        vertical-align: top;\n",
       "    }\n",
       "\n",
       "    .dataframe thead th {\n",
       "        text-align: right;\n",
       "    }\n",
       "</style>\n",
       "<table border=\"1\" class=\"dataframe\">\n",
       "  <thead>\n",
       "    <tr style=\"text-align: right;\">\n",
       "      <th></th>\n",
       "      <th>KmOwnership</th>\n",
       "    </tr>\n",
       "    <tr>\n",
       "      <th>Parent</th>\n",
       "      <th></th>\n",
       "    </tr>\n",
       "  </thead>\n",
       "  <tbody>\n",
       "    <tr>\n",
       "      <th>China National Petroleum Corporation</th>\n",
       "      <td>1,950.000</td>\n",
       "    </tr>\n",
       "    <tr>\n",
       "      <th>Iraq Ministry of Oil</th>\n",
       "      <td>1,665.000</td>\n",
       "    </tr>\n",
       "    <tr>\n",
       "      <th>Numaligarh Refinery Limited</th>\n",
       "      <td>1,630.000</td>\n",
       "    </tr>\n",
       "    <tr>\n",
       "      <th>TotalEnergies SE</th>\n",
       "      <td>1,287.698</td>\n",
       "    </tr>\n",
       "    <tr>\n",
       "      <th>Indian Oil Corporation</th>\n",
       "      <td>1,194.000</td>\n",
       "    </tr>\n",
       "    <tr>\n",
       "      <th>Iran Ministry of Petroleum</th>\n",
       "      <td>1,193.000</td>\n",
       "    </tr>\n",
       "    <tr>\n",
       "      <th>Rosneft</th>\n",
       "      <td>1,190.000</td>\n",
       "    </tr>\n",
       "    <tr>\n",
       "      <th>Government of Zambia</th>\n",
       "      <td>1,140.570</td>\n",
       "    </tr>\n",
       "    <tr>\n",
       "      <th>Canada Development Investment Corporation</th>\n",
       "      <td>980.000</td>\n",
       "    </tr>\n",
       "    <tr>\n",
       "      <th>Transneft</th>\n",
       "      <td>755.000</td>\n",
       "    </tr>\n",
       "    <tr>\n",
       "      <th>ConocoPhillips</th>\n",
       "      <td>700.865</td>\n",
       "    </tr>\n",
       "    <tr>\n",
       "      <th>Petrobangla</th>\n",
       "      <td>686.000</td>\n",
       "    </tr>\n",
       "    <tr>\n",
       "      <th>Tullow Oil</th>\n",
       "      <td>601.253</td>\n",
       "    </tr>\n",
       "    <tr>\n",
       "      <th>Power Solution Technologies Plc</th>\n",
       "      <td>570.020</td>\n",
       "    </tr>\n",
       "    <tr>\n",
       "      <th>Government of Tanzania</th>\n",
       "      <td>569.430</td>\n",
       "    </tr>\n",
       "    <tr>\n",
       "      <th>True Companies</th>\n",
       "      <td>563.270</td>\n",
       "    </tr>\n",
       "    <tr>\n",
       "      <th>Blackstone Group</th>\n",
       "      <td>563.270</td>\n",
       "    </tr>\n",
       "    <tr>\n",
       "      <th>Sultanate of Oman</th>\n",
       "      <td>440.000</td>\n",
       "    </tr>\n",
       "    <tr>\n",
       "      <th>Sarmatia</th>\n",
       "      <td>397.900</td>\n",
       "    </tr>\n",
       "    <tr>\n",
       "      <th>Africa Oil</th>\n",
       "      <td>392.418</td>\n",
       "    </tr>\n",
       "  </tbody>\n",
       "</table>\n",
       "</div>"
      ],
      "text/plain": [
       "                                           KmOwnership\n",
       "Parent                                                \n",
       "China National Petroleum Corporation         1,950.000\n",
       "Iraq Ministry of Oil                         1,665.000\n",
       "Numaligarh Refinery Limited                  1,630.000\n",
       "TotalEnergies SE                             1,287.698\n",
       "Indian Oil Corporation                       1,194.000\n",
       "Iran Ministry of Petroleum                   1,193.000\n",
       "Rosneft                                      1,190.000\n",
       "Government of Zambia                         1,140.570\n",
       "Canada Development Investment Corporation      980.000\n",
       "Transneft                                      755.000\n",
       "ConocoPhillips                                 700.865\n",
       "Petrobangla                                    686.000\n",
       "Tullow Oil                                     601.253\n",
       "Power Solution Technologies Plc                570.020\n",
       "Government of Tanzania                         569.430\n",
       "True Companies                                 563.270\n",
       "Blackstone Group                               563.270\n",
       "Sultanate of Oman                              440.000\n",
       "Sarmatia                                       397.900\n",
       "Africa Oil                                     392.418"
      ]
     },
     "execution_count": 268,
     "metadata": {},
     "output_type": "execute_result"
    }
   ],
   "source": [
    "pandas.DataFrame(\n",
    "    owner_parent_calculations_df.loc[\n",
    "        owner_parent_calculations_df.Status.isin(['Proposed','Construction','Country'])].groupby(\n",
    "        'Parent')['KmOwnership'].sum()).sort_values('KmOwnership', ascending=False)[:20]"
   ]
  },
  {
   "cell_type": "code",
   "execution_count": 269,
   "id": "694d3d2d-4df0-4713-b147-eef1d701b704",
   "metadata": {},
   "outputs": [
    {
     "data": {
      "text/html": [
       "<div>\n",
       "<style scoped>\n",
       "    .dataframe tbody tr th:only-of-type {\n",
       "        vertical-align: middle;\n",
       "    }\n",
       "\n",
       "    .dataframe tbody tr th {\n",
       "        vertical-align: top;\n",
       "    }\n",
       "\n",
       "    .dataframe thead th {\n",
       "        text-align: right;\n",
       "    }\n",
       "</style>\n",
       "<table border=\"1\" class=\"dataframe\">\n",
       "  <thead>\n",
       "    <tr style=\"text-align: right;\">\n",
       "      <th></th>\n",
       "      <th></th>\n",
       "      <th>KmOwnership</th>\n",
       "      <th>CapacityOwnership</th>\n",
       "    </tr>\n",
       "    <tr>\n",
       "      <th>Parent</th>\n",
       "      <th>Country</th>\n",
       "      <th></th>\n",
       "      <th></th>\n",
       "    </tr>\n",
       "  </thead>\n",
       "  <tbody>\n",
       "    <tr>\n",
       "      <th>China National Petroleum Corporation</th>\n",
       "      <th>China</th>\n",
       "      <td>1,950.000</td>\n",
       "      <td>90,000.000</td>\n",
       "    </tr>\n",
       "    <tr>\n",
       "      <th>Iraq Ministry of Oil</th>\n",
       "      <th>Iraq</th>\n",
       "      <td>1,665.000</td>\n",
       "      <td>1,000,000.000</td>\n",
       "    </tr>\n",
       "    <tr>\n",
       "      <th>Numaligarh Refinery Limited</th>\n",
       "      <th>India</th>\n",
       "      <td>1,630.000</td>\n",
       "      <td>NaN</td>\n",
       "    </tr>\n",
       "    <tr>\n",
       "      <th>TotalEnergies SE</th>\n",
       "      <th>France</th>\n",
       "      <td>1,287.698</td>\n",
       "      <td>203,503.333</td>\n",
       "    </tr>\n",
       "    <tr>\n",
       "      <th>Indian Oil Corporation</th>\n",
       "      <th>India</th>\n",
       "      <td>1,194.000</td>\n",
       "      <td>430,067.750</td>\n",
       "    </tr>\n",
       "    <tr>\n",
       "      <th>Iran Ministry of Petroleum</th>\n",
       "      <th>Iran</th>\n",
       "      <td>1,193.000</td>\n",
       "      <td>750,000.000</td>\n",
       "    </tr>\n",
       "    <tr>\n",
       "      <th>Rosneft</th>\n",
       "      <th>Russia</th>\n",
       "      <td>1,190.000</td>\n",
       "      <td>11,980.459</td>\n",
       "    </tr>\n",
       "    <tr>\n",
       "      <th>Government of Zambia</th>\n",
       "      <th>Zambia</th>\n",
       "      <td>1,140.570</td>\n",
       "      <td>14,674.000</td>\n",
       "    </tr>\n",
       "    <tr>\n",
       "      <th>Canada Development Investment Corporation</th>\n",
       "      <th>Canada</th>\n",
       "      <td>980.000</td>\n",
       "      <td>290,000.000</td>\n",
       "    </tr>\n",
       "    <tr>\n",
       "      <th>Transneft</th>\n",
       "      <th>Russia</th>\n",
       "      <td>755.000</td>\n",
       "      <td>397,106.689</td>\n",
       "    </tr>\n",
       "    <tr>\n",
       "      <th>ConocoPhillips</th>\n",
       "      <th>United States</th>\n",
       "      <td>700.865</td>\n",
       "      <td>275,000.000</td>\n",
       "    </tr>\n",
       "    <tr>\n",
       "      <th>Petrobangla</th>\n",
       "      <th>Bangladesh</th>\n",
       "      <td>686.000</td>\n",
       "      <td>60,000.000</td>\n",
       "    </tr>\n",
       "    <tr>\n",
       "      <th>Tullow Oil</th>\n",
       "      <th>United Kingdom</th>\n",
       "      <td>601.253</td>\n",
       "      <td>85,833.333</td>\n",
       "    </tr>\n",
       "    <tr>\n",
       "      <th>Power Solution Technologies Plc</th>\n",
       "      <th>Thailand</th>\n",
       "      <td>570.020</td>\n",
       "      <td>93,837.830</td>\n",
       "    </tr>\n",
       "    <tr>\n",
       "      <th>Government of Tanzania</th>\n",
       "      <th>Tanzania</th>\n",
       "      <td>569.430</td>\n",
       "      <td>7,326.000</td>\n",
       "    </tr>\n",
       "    <tr>\n",
       "      <th>True Companies</th>\n",
       "      <th>United States</th>\n",
       "      <td>563.270</td>\n",
       "      <td>400,000.000</td>\n",
       "    </tr>\n",
       "    <tr>\n",
       "      <th>Blackstone Group</th>\n",
       "      <th>United States</th>\n",
       "      <td>563.270</td>\n",
       "      <td>400,000.000</td>\n",
       "    </tr>\n",
       "    <tr>\n",
       "      <th>Sultanate of Oman</th>\n",
       "      <th>Oman</th>\n",
       "      <td>440.000</td>\n",
       "      <td>700,000.000</td>\n",
       "    </tr>\n",
       "    <tr>\n",
       "      <th>Sarmatia</th>\n",
       "      <th>Unknown</th>\n",
       "      <td>397.900</td>\n",
       "      <td>245,753.000</td>\n",
       "    </tr>\n",
       "    <tr>\n",
       "      <th>Africa Oil</th>\n",
       "      <th>Canada</th>\n",
       "      <td>392.418</td>\n",
       "      <td>69,583.333</td>\n",
       "    </tr>\n",
       "  </tbody>\n",
       "</table>\n",
       "</div>"
      ],
      "text/plain": [
       "                                                          KmOwnership  \\\n",
       "Parent                                    Country                       \n",
       "China National Petroleum Corporation      China             1,950.000   \n",
       "Iraq Ministry of Oil                      Iraq              1,665.000   \n",
       "Numaligarh Refinery Limited               India             1,630.000   \n",
       "TotalEnergies SE                          France            1,287.698   \n",
       "Indian Oil Corporation                    India             1,194.000   \n",
       "Iran Ministry of Petroleum                Iran              1,193.000   \n",
       "Rosneft                                   Russia            1,190.000   \n",
       "Government of Zambia                      Zambia            1,140.570   \n",
       "Canada Development Investment Corporation Canada              980.000   \n",
       "Transneft                                 Russia              755.000   \n",
       "ConocoPhillips                            United States       700.865   \n",
       "Petrobangla                               Bangladesh          686.000   \n",
       "Tullow Oil                                United Kingdom      601.253   \n",
       "Power Solution Technologies Plc           Thailand            570.020   \n",
       "Government of Tanzania                    Tanzania            569.430   \n",
       "True Companies                            United States       563.270   \n",
       "Blackstone Group                          United States       563.270   \n",
       "Sultanate of Oman                         Oman                440.000   \n",
       "Sarmatia                                  Unknown             397.900   \n",
       "Africa Oil                                Canada              392.418   \n",
       "\n",
       "                                                          CapacityOwnership  \n",
       "Parent                                    Country                            \n",
       "China National Petroleum Corporation      China                  90,000.000  \n",
       "Iraq Ministry of Oil                      Iraq                1,000,000.000  \n",
       "Numaligarh Refinery Limited               India                         NaN  \n",
       "TotalEnergies SE                          France                203,503.333  \n",
       "Indian Oil Corporation                    India                 430,067.750  \n",
       "Iran Ministry of Petroleum                Iran                  750,000.000  \n",
       "Rosneft                                   Russia                 11,980.459  \n",
       "Government of Zambia                      Zambia                 14,674.000  \n",
       "Canada Development Investment Corporation Canada                290,000.000  \n",
       "Transneft                                 Russia                397,106.689  \n",
       "ConocoPhillips                            United States         275,000.000  \n",
       "Petrobangla                               Bangladesh             60,000.000  \n",
       "Tullow Oil                                United Kingdom         85,833.333  \n",
       "Power Solution Technologies Plc           Thailand               93,837.830  \n",
       "Government of Tanzania                    Tanzania                7,326.000  \n",
       "True Companies                            United States         400,000.000  \n",
       "Blackstone Group                          United States         400,000.000  \n",
       "Sultanate of Oman                         Oman                  700,000.000  \n",
       "Sarmatia                                  Unknown               245,753.000  \n",
       "Africa Oil                                Canada                 69,583.333  "
      ]
     },
     "execution_count": 269,
     "metadata": {},
     "output_type": "execute_result"
    }
   ],
   "source": [
    "pandas.DataFrame(\n",
    "    owner_parent_calculations_df.loc[\n",
    "        owner_parent_calculations_df.Status.isin(['Proposed','Construction'])].groupby(\n",
    "        ['Parent','Country'])[['KmOwnership','CapacityOwnership']].sum(min_count=1)).sort_values('KmOwnership', ascending=False)[:20]"
   ]
  },
  {
   "cell_type": "markdown",
   "id": "8ce8efa2-8a00-4d90-8156-c9d40d316290",
   "metadata": {},
   "source": [
    "### how many of the projects for each owner do we have capacity data for? (add fraction)\n",
    "\n",
    "## emissions estimates"
   ]
  },
  {
   "cell_type": "code",
   "execution_count": 270,
   "id": "444f2dd9-336a-41aa-b288-15b8ea096f2a",
   "metadata": {},
   "outputs": [],
   "source": [
    "# kuhne paper\n",
    "co2_rate = 152.789 # number is 152,789 tCO2/year emissions per kilobarrel per day, divide by 1000 to get per bpd (bpd=BOEd)"
   ]
  },
  {
   "cell_type": "code",
   "execution_count": 271,
   "id": "97f3fd5d-3410-45aa-bc2a-67b048e1ce85",
   "metadata": {},
   "outputs": [],
   "source": [
    "# calculate the number of CapacityBOEd entries, and which of those are NaNs\n",
    "# https://stackoverflow.com/questions/14529838/apply-multiple-functions-to-multiple-groupby-columns\n",
    "pandas.set_option('display.max_colwidth', None)\n",
    "result = owner_parent_calculations_df.loc[\n",
    "    owner_parent_calculations_df.Status.isin(['Proposed','Construction'])].groupby(\n",
    "    ['Parent','Country'])[['KmOwnership','CapacityBOEd','ProjectID']].agg({'KmOwnership':lambda x: x.sum(min_count=1),\n",
    "                                                                           'CapacityBOEd':[lambda x: x.sum(min_count=1),\n",
    "                                                                                           lambda x: x.dropna().count()],\n",
    "                                                                           'ProjectID':[lambda x: list(x.unique()).__len__(),\n",
    "                                                                                        lambda x: list(x.unique()),\n",
    "                                                                                        lambda x: [pipes_df_orig.loc[pipes_df_orig.ProjectID==i]['PipelineName'] for i in x]\n",
    "                                                                                                  ]})\n",
    "\n",
    "result['HowManyProjectsHaveCapacityData'] = result[('CapacityBOEd','<lambda_1>')].astype(str) + ' of ' + result[('ProjectID','<lambda_0>')].astype(str)\n",
    "result[['KmOwnership','CapacityBOEd','HowManyProjectsHaveCapacityData']].sort_values(('KmOwnership','<lambda>'), ascending=False)[:20]\n",
    "result['EmissionsMtCO2PerYear'] = result[('CapacityBOEd','<lambda_0>')]*co2_rate/1e6"
   ]
  },
  {
   "cell_type": "raw",
   "id": "70a2debd-8aeb-4d0e-b2ff-d34fb648567f",
   "metadata": {},
   "source": [
    "result[[('KmOwnership','<lambda>'),\n",
    "        ('CapacityBOEd','<lambda_0>'),\n",
    "        ('EmissionsMtCO2PerYear',''),\n",
    "        ('HowManyProjectsHaveCapacityData',''),\n",
    "        ('ProjectID','<lambda_1>'),\n",
    "        ('ProjectID','<lambda_2>')]].sort_values(('KmOwnership','<lambda>'), ascending=False)[:20]"
   ]
  },
  {
   "cell_type": "markdown",
   "id": "a340a615-35b1-4a74-b9b6-67d6802de572",
   "metadata": {},
   "source": [
    "### total emissions globally (known capacity is at about 67%)"
   ]
  },
  {
   "cell_type": "code",
   "execution_count": 272,
   "id": "6033b566-6170-4c74-aa4e-510c323da40c",
   "metadata": {},
   "outputs": [
    {
     "name": "stdout",
     "output_type": "stream",
     "text": [
      "0.6551724137931034\n"
     ]
    },
    {
     "data": {
      "text/plain": [
       "4610.084677218931"
      ]
     },
     "execution_count": 272,
     "metadata": {},
     "output_type": "execute_result"
    }
   ],
   "source": [
    "pipes_df_subset = pipes_df_orig.loc[(pipes_df_orig.Status.isin(['Construction','Proposed']))&\n",
    "                                     (pipes_df_orig.Fuel=='Oil')]\n",
    "print(pipes_df_subset['CapacityBcm/y'].dropna().size / pipes_df_subset['CapacityBcm/y'].size)\n",
    "pipes_df_subset['CapacityBOEd'].sum() * co2_rate / 1e6"
   ]
  },
  {
   "cell_type": "code",
   "execution_count": 273,
   "id": "ae80b7e3-0361-4302-a4f8-aa92449e0121",
   "metadata": {},
   "outputs": [
    {
     "name": "stdout",
     "output_type": "stream",
     "text": [
      "0.6730769230769231\n"
     ]
    },
    {
     "data": {
      "text/plain": [
       "3336.5867548786496"
      ]
     },
     "execution_count": 273,
     "metadata": {},
     "output_type": "execute_result"
    }
   ],
   "source": [
    "pipes_df_subset = pipes_df_orig.loc[(pipes_df_orig.Status.isin(['Proposed']))&\n",
    "                                     (pipes_df_orig.Fuel=='Oil')]\n",
    "print(pipes_df_subset['CapacityBcm/y'].dropna().size / pipes_df_subset['CapacityBcm/y'].size)\n",
    "pipes_df_subset['CapacityBOEd'].sum() * co2_rate / 1e6"
   ]
  },
  {
   "cell_type": "code",
   "execution_count": 274,
   "id": "231d5617-cfc7-4c2d-a869-7d1e7fc4e399",
   "metadata": {},
   "outputs": [
    {
     "name": "stdout",
     "output_type": "stream",
     "text": [
      "0.6285714285714286\n"
     ]
    },
    {
     "data": {
      "text/plain": [
       "1273.4979223402795"
      ]
     },
     "execution_count": 274,
     "metadata": {},
     "output_type": "execute_result"
    }
   ],
   "source": [
    "pipes_df_subset = pipes_df_orig.loc[(pipes_df_orig.Status.isin(['Construction']))&\n",
    "                                     (pipes_df_orig.Fuel=='Oil')]\n",
    "print(pipes_df_subset['CapacityBcm/y'].dropna().size / pipes_df_subset['CapacityBcm/y'].size)\n",
    "pipes_df_subset['CapacityBOEd'].sum() * co2_rate / 1e6"
   ]
  },
  {
   "cell_type": "markdown",
   "id": "5b859717-1d0b-471c-b4e6-9cb8547ab109",
   "metadata": {},
   "source": [
    "### diameter analysis\n",
    "\n",
    "to see if it's useful to estimate missing capacities from diameter\n",
    "\n",
    "looks like this could be possible using a log-linear plot (below), though this would only buy us an additional 15 data points, which isn't worth it to me"
   ]
  },
  {
   "cell_type": "code",
   "execution_count": 275,
   "id": "5226f1ad-c30e-4bbb-9e36-c95ce3bf0b01",
   "metadata": {},
   "outputs": [],
   "source": [
    "pipes_df_fix_diam = pipes_df_orig.copy()\n",
    "for idx,row in pipes_df_fix_diam.iterrows():\n",
    "    diameter_vals = row.Diameter\n",
    "    if type(diameter_vals)==str and ',' in diameter_vals:\n",
    "        #print(row.PipelineName)\n",
    "        diameter_list = [i.strip() for i in diameter_vals.split(',')]\n",
    "        diameter_list = [float(i) for i in diameter_list]\n",
    "        max_diam = max(diameter_list)\n",
    "        pipes_df_fix_diam.loc[idx,'Diameter'] = max_diam\n",
    "        #print(max_diam)\n",
    "        if row.DiameterUnits=='in':\n",
    "            pipes_df_fix_diam.loc[idx,'DiameterInMm'] = max_diam*25.4\n",
    "pipes_df_fix_diam['DiameterInMm'].replace('--',numpy.nan,inplace=True)"
   ]
  },
  {
   "cell_type": "code",
   "execution_count": 276,
   "id": "e0868748-887e-4838-b090-c6393d693c1c",
   "metadata": {},
   "outputs": [
    {
     "data": {
      "image/png": "[encoded data removed]",
      "text/plain": [
       "<Figure size 432x288 with 1 Axes>"
      ]
     },
     "metadata": {
      "needs_background": "light"
     },
     "output_type": "display_data"
    }
   ],
   "source": [
    "mp.scatter(pipes_df_fix_diam.DiameterInMm, pipes_df_fix_diam.CapacityBOEd)\n",
    "mp.yscale('log')\n",
    "#mp.xlim(0,0.1)"
   ]
  },
  {
   "cell_type": "markdown",
   "id": "4a9b53f6-1326-48c6-a389-3d5263c9eff8",
   "metadata": {},
   "source": [
    "### how many could you add by extrapolating capacity?\n",
    "\n",
    "it's about 15, not really enough to do that, I think"
   ]
  },
  {
   "cell_type": "code",
   "execution_count": 277,
   "id": "c73dc52c-2411-4076-a2cd-0eb1f2839ce2",
   "metadata": {},
   "outputs": [
    {
     "data": {
      "text/plain": [
       "15"
      ]
     },
     "execution_count": 277,
     "metadata": {},
     "output_type": "execute_result"
    }
   ],
   "source": [
    "pipes_df_subset = pipes_df_fix_diam.loc[(pipes_df_orig.Status.isin(['Construction','Proposed','Shelved']))&\n",
    "                                     (pipes_df_orig.Fuel=='Oil')]\n",
    "pipes_df_subset.loc[(pipes_df_subset['CapacityBOEd'].isna())&\n",
    "                    (~pipes_df_subset['DiameterInMm'].isna())]['DiameterInMm'].count()"
   ]
  },
  {
   "cell_type": "markdown",
   "id": "69662690-a933-4a57-91c3-f14af768a126",
   "metadata": {},
   "source": [
    "that would take it up to about 84% capacity info"
   ]
  },
  {
   "cell_type": "code",
   "execution_count": 278,
   "id": "36fafe62-cd67-41f1-aee2-38a46a537c30",
   "metadata": {},
   "outputs": [
    {
     "data": {
      "text/plain": [
       "0.8349514563106796"
      ]
     },
     "execution_count": 278,
     "metadata": {},
     "output_type": "execute_result"
    }
   ],
   "source": [
    "pipes_df_subset = pipes_df_orig.loc[(pipes_df_orig.Status.isin(['Construction','Proposed','Shelved']))&\n",
    "                                     (pipes_df_orig.Fuel=='Oil')]\n",
    "(pipes_df_subset['CapacityBcm/y'].dropna().size + 15) / pipes_df_subset['CapacityBcm/y'].size"
   ]
  },
  {
   "cell_type": "markdown",
   "id": "41f4171b-3170-4bbf-b3d8-19a53722d1b0",
   "metadata": {},
   "source": [
    "### count fraction of available capacity information\n",
    "\n",
    "count"
   ]
  },
  {
   "cell_type": "code",
   "execution_count": 279,
   "id": "a3406975-838c-4af0-80fa-bce2ab42718e",
   "metadata": {},
   "outputs": [
    {
     "data": {
      "text/plain": [
       "StartRegion\n",
       "Australia and New Zealand          23\n",
       "East Asia                          92\n",
       "Eurasia                            62\n",
       "Europe                             50\n",
       "Latin America and the Caribbean    30\n",
       "Middle East and North Africa        8\n",
       "North America                      97\n",
       "SE Asia                            11\n",
       "South Asia                         29\n",
       "Sub-Saharan Africa                  6\n",
       "Name: CapacityBOEd, dtype: int64"
      ]
     },
     "execution_count": 279,
     "metadata": {},
     "output_type": "execute_result"
    }
   ],
   "source": [
    "pipes_df_subset = pipes_df_orig.loc[(pipes_df_orig.Status.isin(['Construction','Proposed']))&\n",
    "                                     (pipes_df_orig.Fuel=='Gas')]\n",
    "pipes_df_subset.loc[~pipes_df_subset['CapacityBcm/y'].isna()].groupby('StartRegion')['CapacityBOEd'].size()\n",
    "#pipes_df_subset.groupby('StartRegion')['CapacityBcm/y'].size()"
   ]
  },
  {
   "cell_type": "markdown",
   "id": "a09616ff-3225-4c93-9ce9-b38cb04a5612",
   "metadata": {},
   "source": [
    "fraction"
   ]
  },
  {
   "cell_type": "code",
   "execution_count": 280,
   "id": "2b464411-7db6-4575-ae23-a6d2c49f635d",
   "metadata": {},
   "outputs": [
    {
     "data": {
      "text/html": [
       "<div>\n",
       "<style scoped>\n",
       "    .dataframe tbody tr th:only-of-type {\n",
       "        vertical-align: middle;\n",
       "    }\n",
       "\n",
       "    .dataframe tbody tr th {\n",
       "        vertical-align: top;\n",
       "    }\n",
       "\n",
       "    .dataframe thead th {\n",
       "        text-align: right;\n",
       "    }\n",
       "</style>\n",
       "<table border=\"1\" class=\"dataframe\">\n",
       "  <thead>\n",
       "    <tr style=\"text-align: right;\">\n",
       "      <th></th>\n",
       "      <th>0</th>\n",
       "    </tr>\n",
       "    <tr>\n",
       "      <th>StartRegion</th>\n",
       "      <th></th>\n",
       "    </tr>\n",
       "  </thead>\n",
       "  <tbody>\n",
       "    <tr>\n",
       "      <th>Latin America and the Caribbean</th>\n",
       "      <td>0.938</td>\n",
       "    </tr>\n",
       "    <tr>\n",
       "      <th>Australia and New Zealand</th>\n",
       "      <td>0.821</td>\n",
       "    </tr>\n",
       "    <tr>\n",
       "      <th>North America</th>\n",
       "      <td>0.752</td>\n",
       "    </tr>\n",
       "    <tr>\n",
       "      <th>South Asia</th>\n",
       "      <td>0.725</td>\n",
       "    </tr>\n",
       "    <tr>\n",
       "      <th>Eurasia</th>\n",
       "      <td>0.667</td>\n",
       "    </tr>\n",
       "    <tr>\n",
       "      <th>East Asia</th>\n",
       "      <td>0.575</td>\n",
       "    </tr>\n",
       "    <tr>\n",
       "      <th>Europe</th>\n",
       "      <td>0.549</td>\n",
       "    </tr>\n",
       "    <tr>\n",
       "      <th>Middle East and North Africa</th>\n",
       "      <td>0.444</td>\n",
       "    </tr>\n",
       "    <tr>\n",
       "      <th>SE Asia</th>\n",
       "      <td>0.407</td>\n",
       "    </tr>\n",
       "    <tr>\n",
       "      <th>Sub-Saharan Africa</th>\n",
       "      <td>0.300</td>\n",
       "    </tr>\n",
       "  </tbody>\n",
       "</table>\n",
       "</div>"
      ],
      "text/plain": [
       "                                    0\n",
       "StartRegion                          \n",
       "Latin America and the Caribbean 0.938\n",
       "Australia and New Zealand       0.821\n",
       "North America                   0.752\n",
       "South Asia                      0.725\n",
       "Eurasia                         0.667\n",
       "East Asia                       0.575\n",
       "Europe                          0.549\n",
       "Middle East and North Africa    0.444\n",
       "SE Asia                         0.407\n",
       "Sub-Saharan Africa              0.300"
      ]
     },
     "execution_count": 280,
     "metadata": {},
     "output_type": "execute_result"
    }
   ],
   "source": [
    "pandas.options.display.float_format = '{:,.3f}'.format\n",
    "pandas.DataFrame(pipes_df_subset.loc[\n",
    "    ~pipes_df_subset['CapacityBcm/y'].isna()].groupby(\n",
    "    'StartRegion')['CapacityBcm/y'].size()/pipes_df_subset.groupby(\n",
    "    'StartRegion')['CapacityBOEd'].size()).sort_values(by=0, ascending=False)"
   ]
  },
  {
   "cell_type": "code",
   "execution_count": 281,
   "id": "9f9ba63d-9317-40dd-b820-c7505a4b7150",
   "metadata": {},
   "outputs": [],
   "source": [
    "median_capacity = pipes_df_orig['CapacityBcm/y'].median()"
   ]
  },
  {
   "cell_type": "code",
   "execution_count": 282,
   "id": "0e61fd80-1863-4ba9-ac45-a761cc99a55c",
   "metadata": {},
   "outputs": [],
   "source": [
    "abs_dist_from_med_capacity = abs(pipes_df_orig['CapacityBcm/y']-pipes_df_orig['CapacityBcm/y'].median()).median()"
   ]
  },
  {
   "cell_type": "code",
   "execution_count": 283,
   "id": "14cce16f-8d3e-4e63-ae7a-edf55d21b921",
   "metadata": {},
   "outputs": [
    {
     "data": {
      "text/plain": [
       "251.52531527718943"
      ]
     },
     "execution_count": 283,
     "metadata": {},
     "output_type": "execute_result"
    }
   ],
   "source": [
    "pipes_df_orig['CapacityBcm/y'].mean()"
   ]
  },
  {
   "cell_type": "code",
   "execution_count": 284,
   "id": "61dc2bcc-bf3f-414c-bc06-bb824d49d1e5",
   "metadata": {},
   "outputs": [
    {
     "data": {
      "text/plain": [
       "633.6571072405758"
      ]
     },
     "execution_count": 284,
     "metadata": {},
     "output_type": "execute_result"
    }
   ],
   "source": [
    "pipes_df_orig['CapacityBcm/y'].std()"
   ]
  },
  {
   "cell_type": "code",
   "execution_count": 285,
   "id": "c054d9ed-986a-432f-a234-826e2438144b",
   "metadata": {},
   "outputs": [
    {
     "name": "stdout",
     "output_type": "stream",
     "text": [
      "10.74\n",
      "10.07\n"
     ]
    }
   ],
   "source": [
    "print(median_capacity)\n",
    "print(abs_dist_from_med_capacity)"
   ]
  },
  {
   "cell_type": "markdown",
   "id": "8481ce32-c7f6-47fd-893e-4db28fbda279",
   "metadata": {},
   "source": [
    "median capacity for a pipeline is about 10.74 bcm/y\n",
    "\n",
    "median abs dist from the median is about 10."
   ]
  },
  {
   "cell_type": "markdown",
   "id": "fb98d85a",
   "metadata": {},
   "source": [
    "# cost estimates (pipeline cost per km)\n",
    "\n",
    "throwing out any estimates larger than USD 10 million per km for taking regional estimates"
   ]
  },
  {
   "cell_type": "code",
   "execution_count": 286,
   "id": "e83b508d-5fed-4b45-8cdf-d6ebb7850d58",
   "metadata": {},
   "outputs": [],
   "source": [
    "# pull out only pipelines that have a KNOWN length AND a cost\n",
    "country_ratios_with_length_and_cost_df = country_ratios_df.copy()[(country_ratios_df['Fuel']=='Oil') & \n",
    "                                    (country_ratios_df['CostUSDPerKm'].notna()) & \n",
    "                                    (country_ratios_df['LengthKnownKmByCountry'].notna()) &\n",
    "                                    (country_ratios_df['LengthKnownKm']!=0) &\n",
    "                                    (country_ratios_df['CostUSDPerKm']<10e6)\n",
    "                                   ]\n",
    "#country_ratios_with_length_and_cost_df = country_ratios_with_length_and_cost_df[~country_ratios_with_length_and_cost_df.ProjectID.isin(outliers_projectids)]"
   ]
  },
  {
   "cell_type": "markdown",
   "id": "a60996ff-c763-46a6-8576-cffa78c2fcbb",
   "metadata": {},
   "source": [
    "### global mean value"
   ]
  },
  {
   "cell_type": "code",
   "execution_count": 287,
   "id": "cf567357-e85c-4afc-b618-e35a0feef254",
   "metadata": {},
   "outputs": [
    {
     "data": {
      "text/plain": [
       "1905976.696103896"
      ]
     },
     "execution_count": 287,
     "metadata": {},
     "output_type": "execute_result"
    }
   ],
   "source": [
    "country_ratios_with_length_and_cost_df['CostUSDPerKm'].drop_duplicates().mean()"
   ]
  },
  {
   "cell_type": "markdown",
   "id": "9754a8d9-5d70-448d-a6ae-75efcd2a6054",
   "metadata": {},
   "source": [
    "### calculate regional costs"
   ]
  },
  {
   "cell_type": "code",
   "execution_count": 288,
   "id": "187bd845-39f3-4c5a-8618-723262516a27",
   "metadata": {},
   "outputs": [
    {
     "name": "stdout",
     "output_type": "stream",
     "text": [
      "Australia and New Zealand\n",
      "East Asia\n",
      "Eurasia\n",
      "Europe\n",
      "Latin America and the Caribbean\n",
      "Middle East and North Africa\n",
      "North America\n",
      "SE Asia\n",
      "South Asia\n",
      "Sub-Saharan Africa\n"
     ]
    }
   ],
   "source": [
    "pipes_oil_costs_region_df = pandas.DataFrame(0, index=region_list, columns=['CostUSDPerKm','NumberOfCosts','NumberOfLengths'])\n",
    "\n",
    "for region in region_list:\n",
    "    print(region)\n",
    "    country_ratios_region_df = country_ratios_with_length_and_cost_df[country_ratios_with_length_and_cost_df['Region']==region]\n",
    "    pipes_oil_costs_region_df.loc[region]['CostUSDPerKm'] = country_ratios_region_df['CostUSDPerKm'].mean()\n",
    "    pipes_oil_costs_region_df.loc[region]['NumberOfCosts'] = list(set(country_ratios_region_df['ProjectID'])).__len__()\n",
    "    pipes_oil_costs_region_df.loc[region]['NumberOfLengths'] = list(set(country_ratios_region_df['ProjectID'])).__len__()\n",
    "    "
   ]
  },
  {
   "cell_type": "markdown",
   "id": "f9ee664c-930f-47ca-b605-c84012c6e2df",
   "metadata": {},
   "source": [
    "### table for methodology with regional cost info"
   ]
  },
  {
   "cell_type": "code",
   "execution_count": 289,
   "id": "d3dda312-986c-4ea7-b628-ff1b4d1c257a",
   "metadata": {},
   "outputs": [
    {
     "data": {
      "text/html": [
       "<div>\n",
       "<style scoped>\n",
       "    .dataframe tbody tr th:only-of-type {\n",
       "        vertical-align: middle;\n",
       "    }\n",
       "\n",
       "    .dataframe tbody tr th {\n",
       "        vertical-align: top;\n",
       "    }\n",
       "\n",
       "    .dataframe thead th {\n",
       "        text-align: right;\n",
       "    }\n",
       "</style>\n",
       "<table border=\"1\" class=\"dataframe\">\n",
       "  <thead>\n",
       "    <tr style=\"text-align: right;\">\n",
       "      <th></th>\n",
       "      <th>CostUSDPerKm</th>\n",
       "      <th>NumberOfCosts</th>\n",
       "      <th>NumberOfLengths</th>\n",
       "    </tr>\n",
       "  </thead>\n",
       "  <tbody>\n",
       "    <tr>\n",
       "      <th>Australia and New Zealand</th>\n",
       "      <td>1214335</td>\n",
       "      <td>6</td>\n",
       "      <td>6</td>\n",
       "    </tr>\n",
       "    <tr>\n",
       "      <th>East Asia</th>\n",
       "      <td>1868961</td>\n",
       "      <td>5</td>\n",
       "      <td>5</td>\n",
       "    </tr>\n",
       "    <tr>\n",
       "      <th>Eurasia</th>\n",
       "      <td>1854012</td>\n",
       "      <td>6</td>\n",
       "      <td>6</td>\n",
       "    </tr>\n",
       "    <tr>\n",
       "      <th>Europe</th>\n",
       "      <td>1083571</td>\n",
       "      <td>5</td>\n",
       "      <td>5</td>\n",
       "    </tr>\n",
       "    <tr>\n",
       "      <th>Latin America and the Caribbean</th>\n",
       "      <td>1538293</td>\n",
       "      <td>5</td>\n",
       "      <td>5</td>\n",
       "    </tr>\n",
       "    <tr>\n",
       "      <th>Middle East and North Africa</th>\n",
       "      <td>1468246</td>\n",
       "      <td>14</td>\n",
       "      <td>14</td>\n",
       "    </tr>\n",
       "    <tr>\n",
       "      <th>North America</th>\n",
       "      <td>2842902</td>\n",
       "      <td>26</td>\n",
       "      <td>26</td>\n",
       "    </tr>\n",
       "    <tr>\n",
       "      <th>SE Asia</th>\n",
       "      <td>938922</td>\n",
       "      <td>6</td>\n",
       "      <td>6</td>\n",
       "    </tr>\n",
       "    <tr>\n",
       "      <th>South Asia</th>\n",
       "      <td>1711933</td>\n",
       "      <td>5</td>\n",
       "      <td>5</td>\n",
       "    </tr>\n",
       "    <tr>\n",
       "      <th>Sub-Saharan Africa</th>\n",
       "      <td>2947993</td>\n",
       "      <td>4</td>\n",
       "      <td>4</td>\n",
       "    </tr>\n",
       "  </tbody>\n",
       "</table>\n",
       "</div>"
      ],
      "text/plain": [
       "                                 CostUSDPerKm  NumberOfCosts  NumberOfLengths\n",
       "Australia and New Zealand             1214335              6                6\n",
       "East Asia                             1868961              5                5\n",
       "Eurasia                               1854012              6                6\n",
       "Europe                                1083571              5                5\n",
       "Latin America and the Caribbean       1538293              5                5\n",
       "Middle East and North Africa          1468246             14               14\n",
       "North America                         2842902             26               26\n",
       "SE Asia                                938922              6                6\n",
       "South Asia                            1711933              5                5\n",
       "Sub-Saharan Africa                    2947993              4                4"
      ]
     },
     "execution_count": 289,
     "metadata": {},
     "output_type": "execute_result"
    }
   ],
   "source": [
    "pipes_oil_costs_region_df"
   ]
  },
  {
   "cell_type": "markdown",
   "id": "22cb04dc-3e08-43ec-8efd-51387768d17f",
   "metadata": {},
   "source": [
    "### calculate country-level costs"
   ]
  },
  {
   "cell_type": "raw",
   "id": "f6d4b936-1617-4196-b270-4754f4f75147",
   "metadata": {},
   "source": [
    "#country_list_for_costs = sorted(list(set(country_ratios_with_length_and_cost_df['Country'])))\n",
    "pipes_oil_costs_country_df = pandas.DataFrame(0, index=country_list, columns=['CostUSDPerKm','NumberOfCosts','NumberOfLengths'])\n",
    "\n",
    "for country in country_list:#_for_costs:\n",
    "    #print(country)\n",
    "    country_ratios_country_df = country_ratios_with_length_and_cost_df[country_ratios_with_length_and_cost_df['Country']==country]\n",
    "    pipes_oil_costs_country_df.loc[country,'CostUSDPerKm'] = country_ratios_country_df['CostUSDPerKm'].mean()\n",
    "    pipes_oil_costs_country_df.loc[country,'NumberOfCosts'] = list(set(country_ratios_country_df['ProjectID'])).__len__()\n",
    "    pipes_oil_costs_country_df.loc[country,'NumberOfLengths'] = list(set(country_ratios_country_df['ProjectID'])).__len__()"
   ]
  },
  {
   "cell_type": "raw",
   "id": "f3ef70dd-626f-4bd8-8d61-feb899599542",
   "metadata": {},
   "source": [
    "pipes_df_orig.loc[(pipes_df_orig.Fuel=='Oil')&\n",
    "                  (pipes_df_orig.Status.isin(['Construction','Proposed']))&\n",
    "                  (pipes_df_orig.Route!='Capacity expansion only')].count()"
   ]
  },
  {
   "cell_type": "raw",
   "id": "3c5df307-f226-4ba5-b2a3-be847f857787",
   "metadata": {},
   "source": [
    "pipes_df_orig.loc[(pipes_df_orig.Fuel=='Oil')&\n",
    "                  (pipes_df_orig.Status.isin(['Construction','Proposed']))&\n",
    "                  (pipes_df_orig.Route=='Capacity expansion only')]['CapacityBOEd'].sum()"
   ]
  },
  {
   "cell_type": "markdown",
   "id": "a99048f2-e80e-41a0-be0a-b40942963375",
   "metadata": {},
   "source": [
    "# tables etc."
   ]
  },
  {
   "cell_type": "markdown",
   "id": "f5242bbf-f1a7-4e90-9e91-90fbdb5bca2f",
   "metadata": {},
   "source": [
    "## table for regional totals"
   ]
  },
  {
   "cell_type": "code",
   "execution_count": 290,
   "id": "f804568d-5a95-490f-8245-d87042a15fee",
   "metadata": {},
   "outputs": [
    {
     "data": {
      "text/html": [
       "<div>\n",
       "<style scoped>\n",
       "    .dataframe tbody tr th:only-of-type {\n",
       "        vertical-align: middle;\n",
       "    }\n",
       "\n",
       "    .dataframe tbody tr th {\n",
       "        vertical-align: top;\n",
       "    }\n",
       "\n",
       "    .dataframe thead th {\n",
       "        text-align: right;\n",
       "    }\n",
       "</style>\n",
       "<table border=\"1\" class=\"dataframe\">\n",
       "  <thead>\n",
       "    <tr style=\"text-align: right;\">\n",
       "      <th></th>\n",
       "      <th>Proposed</th>\n",
       "      <th>Construction</th>\n",
       "      <th>Proposed+Construction</th>\n",
       "      <th>Shelved</th>\n",
       "      <th>Cancelled</th>\n",
       "      <th>Operating</th>\n",
       "      <th>Idle</th>\n",
       "      <th>Mothballed</th>\n",
       "      <th>Retired</th>\n",
       "    </tr>\n",
       "  </thead>\n",
       "  <tbody>\n",
       "    <tr>\n",
       "      <th>Sub-Saharan Africa</th>\n",
       "      <td>4,540.090</td>\n",
       "      <td>1,950.000</td>\n",
       "      <td>6,490.090</td>\n",
       "      <td>986.160</td>\n",
       "      <td>2,100.000</td>\n",
       "      <td>8,932.050</td>\n",
       "      <td>0.000</td>\n",
       "      <td>0.000</td>\n",
       "      <td>0.000</td>\n",
       "    </tr>\n",
       "    <tr>\n",
       "      <th>North America</th>\n",
       "      <td>2,692.660</td>\n",
       "      <td>1,380.880</td>\n",
       "      <td>4,073.540</td>\n",
       "      <td>8,311.240</td>\n",
       "      <td>30,867.840</td>\n",
       "      <td>126,096.140</td>\n",
       "      <td>0.000</td>\n",
       "      <td>0.000</td>\n",
       "      <td>2,698.420</td>\n",
       "    </tr>\n",
       "    <tr>\n",
       "      <th>Middle East and North Africa</th>\n",
       "      <td>1,805.000</td>\n",
       "      <td>1,903.000</td>\n",
       "      <td>3,708.000</td>\n",
       "      <td>0.000</td>\n",
       "      <td>3,587.420</td>\n",
       "      <td>26,822.160</td>\n",
       "      <td>0.000</td>\n",
       "      <td>2,368.080</td>\n",
       "      <td>1,214.510</td>\n",
       "    </tr>\n",
       "    <tr>\n",
       "      <th>South Asia</th>\n",
       "      <td>1,194.000</td>\n",
       "      <td>2,316.000</td>\n",
       "      <td>3,510.000</td>\n",
       "      <td>249.400</td>\n",
       "      <td>1,692.100</td>\n",
       "      <td>9,987.180</td>\n",
       "      <td>0.000</td>\n",
       "      <td>0.000</td>\n",
       "      <td>0.000</td>\n",
       "    </tr>\n",
       "    <tr>\n",
       "      <th>East Asia</th>\n",
       "      <td>1,046.590</td>\n",
       "      <td>1,486.080</td>\n",
       "      <td>2,532.670</td>\n",
       "      <td>0.000</td>\n",
       "      <td>8,477.060</td>\n",
       "      <td>26,292.250</td>\n",
       "      <td>0.000</td>\n",
       "      <td>0.000</td>\n",
       "      <td>6,825.550</td>\n",
       "    </tr>\n",
       "    <tr>\n",
       "      <th>Eurasia</th>\n",
       "      <td>1,494.200</td>\n",
       "      <td>768.230</td>\n",
       "      <td>2,262.430</td>\n",
       "      <td>0.000</td>\n",
       "      <td>2,635.320</td>\n",
       "      <td>46,616.130</td>\n",
       "      <td>0.000</td>\n",
       "      <td>52.000</td>\n",
       "      <td>618.000</td>\n",
       "    </tr>\n",
       "    <tr>\n",
       "      <th>Europe</th>\n",
       "      <td>799.900</td>\n",
       "      <td>207.000</td>\n",
       "      <td>1,006.900</td>\n",
       "      <td>0.000</td>\n",
       "      <td>8,232.210</td>\n",
       "      <td>27,955.130</td>\n",
       "      <td>141.550</td>\n",
       "      <td>0.000</td>\n",
       "      <td>0.000</td>\n",
       "    </tr>\n",
       "    <tr>\n",
       "      <th>SE Asia</th>\n",
       "      <td>240.490</td>\n",
       "      <td>342.000</td>\n",
       "      <td>582.490</td>\n",
       "      <td>306.000</td>\n",
       "      <td>0.000</td>\n",
       "      <td>2,533.360</td>\n",
       "      <td>0.000</td>\n",
       "      <td>0.000</td>\n",
       "      <td>0.000</td>\n",
       "    </tr>\n",
       "    <tr>\n",
       "      <th>Australia and New Zealand</th>\n",
       "      <td>0.000</td>\n",
       "      <td>0.000</td>\n",
       "      <td>0.000</td>\n",
       "      <td>0.000</td>\n",
       "      <td>0.000</td>\n",
       "      <td>1,878.300</td>\n",
       "      <td>0.000</td>\n",
       "      <td>0.000</td>\n",
       "      <td>187.000</td>\n",
       "    </tr>\n",
       "    <tr>\n",
       "      <th>Latin America and the Caribbean</th>\n",
       "      <td>0.000</td>\n",
       "      <td>0.000</td>\n",
       "      <td>0.000</td>\n",
       "      <td>262.000</td>\n",
       "      <td>3,730.840</td>\n",
       "      <td>13,281.020</td>\n",
       "      <td>0.000</td>\n",
       "      <td>425.000</td>\n",
       "      <td>0.000</td>\n",
       "    </tr>\n",
       "    <tr>\n",
       "      <th>Total</th>\n",
       "      <td>13,812.930</td>\n",
       "      <td>10,353.190</td>\n",
       "      <td>24,166.120</td>\n",
       "      <td>10,114.800</td>\n",
       "      <td>61,322.790</td>\n",
       "      <td>290,393.720</td>\n",
       "      <td>141.550</td>\n",
       "      <td>2,845.080</td>\n",
       "      <td>11,543.480</td>\n",
       "    </tr>\n",
       "  </tbody>\n",
       "</table>\n",
       "</div>"
      ],
      "text/plain": [
       "                                  Proposed  Construction  \\\n",
       "Sub-Saharan Africa               4,540.090     1,950.000   \n",
       "North America                    2,692.660     1,380.880   \n",
       "Middle East and North Africa     1,805.000     1,903.000   \n",
       "South Asia                       1,194.000     2,316.000   \n",
       "East Asia                        1,046.590     1,486.080   \n",
       "Eurasia                          1,494.200       768.230   \n",
       "Europe                             799.900       207.000   \n",
       "SE Asia                            240.490       342.000   \n",
       "Australia and New Zealand            0.000         0.000   \n",
       "Latin America and the Caribbean      0.000         0.000   \n",
       "Total                           13,812.930    10,353.190   \n",
       "\n",
       "                                 Proposed+Construction    Shelved  Cancelled  \\\n",
       "Sub-Saharan Africa                           6,490.090    986.160  2,100.000   \n",
       "North America                                4,073.540  8,311.240 30,867.840   \n",
       "Middle East and North Africa                 3,708.000      0.000  3,587.420   \n",
       "South Asia                                   3,510.000    249.400  1,692.100   \n",
       "East Asia                                    2,532.670      0.000  8,477.060   \n",
       "Eurasia                                      2,262.430      0.000  2,635.320   \n",
       "Europe                                       1,006.900      0.000  8,232.210   \n",
       "SE Asia                                        582.490    306.000      0.000   \n",
       "Australia and New Zealand                        0.000      0.000      0.000   \n",
       "Latin America and the Caribbean                  0.000    262.000  3,730.840   \n",
       "Total                                       24,166.120 10,114.800 61,322.790   \n",
       "\n",
       "                                  Operating    Idle  Mothballed    Retired  \n",
       "Sub-Saharan Africa                8,932.050   0.000       0.000      0.000  \n",
       "North America                   126,096.140   0.000       0.000  2,698.420  \n",
       "Middle East and North Africa     26,822.160   0.000   2,368.080  1,214.510  \n",
       "South Asia                        9,987.180   0.000       0.000      0.000  \n",
       "East Asia                        26,292.250   0.000       0.000  6,825.550  \n",
       "Eurasia                          46,616.130   0.000      52.000    618.000  \n",
       "Europe                           27,955.130 141.550       0.000      0.000  \n",
       "SE Asia                           2,533.360   0.000       0.000      0.000  \n",
       "Australia and New Zealand         1,878.300   0.000       0.000    187.000  \n",
       "Latin America and the Caribbean  13,281.020   0.000     425.000      0.000  \n",
       "Total                           290,393.720 141.550   2,845.080 11,543.480  "
      ]
     },
     "execution_count": 290,
     "metadata": {},
     "output_type": "execute_result"
    }
   ],
   "source": [
    "if 'Total' in km_by_region_df.index:\n",
    "    km_by_region_df.drop(index='Total', inplace=True)   \n",
    "    total = km_by_region_df.sum(axis=0)\n",
    "    total.name='Total'\n",
    "    km_by_region_df = km_by_region_df.append(total)\n",
    "\n",
    "else:\n",
    "    total = km_by_region_df.sum(axis=0)\n",
    "    total.name='Total'\n",
    "    km_by_region_df = km_by_region_df.append(total)\n",
    "\n",
    "km_by_region_df"
   ]
  },
  {
   "cell_type": "markdown",
   "id": "79570a43-7f2f-44cb-8a79-6029e80d0c65",
   "metadata": {},
   "source": [
    "## table for km by country"
   ]
  },
  {
   "cell_type": "code",
   "execution_count": 291,
   "id": "b42d6a47-d1a5-4a4b-acf8-7ec5f0fcc36e",
   "metadata": {},
   "outputs": [],
   "source": [
    "# saves all countries to an Excel file for reference\n",
    "\n",
    "km_by_country_df.sort_values('Proposed+Construction', ascending=False)\n",
    "\n",
    "if 'Total' in km_by_country_df.index:\n",
    "    km_by_country_df.drop(index='Total', inplace=True)   \n",
    "    total = km_by_country_df.sum(axis=0)\n",
    "    total.name='Total'\n",
    "    km_by_country_df = km_by_country_df.append(total)\n",
    "\n",
    "else:\n",
    "    total = km_by_country_df.sum(axis=0)\n",
    "    total.name='Total'\n",
    "    km_by_country_df = km_by_country_df.append(total)\n",
    "\n",
    "km_by_country_df.to_excel('saved-tables/GOIT-km-by-country.xlsx')"
   ]
  },
  {
   "cell_type": "markdown",
   "id": "44145d01-f597-498d-889a-73173abc7ef2",
   "metadata": {},
   "source": [
    "# table for stranded asset calculations"
   ]
  },
  {
   "cell_type": "markdown",
   "id": "c009d10e-36da-4eb8-8e46-3164731bdb7d",
   "metadata": {},
   "source": [
    "## country-level capex estimates"
   ]
  },
  {
   "cell_type": "code",
   "execution_count": 292,
   "id": "b0edb61c-12f3-4886-8131-586ad36e46dd",
   "metadata": {},
   "outputs": [
    {
     "name": "stderr",
     "output_type": "stream",
     "text": [
      "/var/folders/h5/nfk59_vx7gg_58myc9jfk7_40000gn/T/ipykernel_45381/808118955.py:1: SettingWithCopyWarning: \n",
      "A value is trying to be set on a copy of a slice from a DataFrame.\n",
      "Try using .loc[row_indexer,col_indexer] = value instead\n",
      "\n",
      "See the caveats in the documentation: https://pandas.pydata.org/pandas-docs/stable/user_guide/indexing.html#returning-a-view-versus-a-copy\n",
      "  country_ratios_oil_df['CostUSDEstimate'] = numpy.nan\n",
      "/Users/baird/miniconda3/envs/gem/lib/python3.9/site-packages/pandas/core/indexing.py:1817: SettingWithCopyWarning: \n",
      "A value is trying to be set on a copy of a slice from a DataFrame.\n",
      "Try using .loc[row_indexer,col_indexer] = value instead\n",
      "\n",
      "See the caveats in the documentation: https://pandas.pydata.org/pandas-docs/stable/user_guide/indexing.html#returning-a-view-versus-a-copy\n",
      "  self._setitem_single_column(loc, value, pi)\n",
      "/Users/baird/miniconda3/envs/gem/lib/python3.9/site-packages/pandas/core/indexing.py:1773: SettingWithCopyWarning: \n",
      "A value is trying to be set on a copy of a slice from a DataFrame.\n",
      "Try using .loc[row_indexer,col_indexer] = value instead\n",
      "\n",
      "See the caveats in the documentation: https://pandas.pydata.org/pandas-docs/stable/user_guide/indexing.html#returning-a-view-versus-a-copy\n",
      "  self._setitem_single_column(ilocs[0], value, pi)\n"
     ]
    }
   ],
   "source": [
    "country_ratios_oil_df['CostUSDEstimate'] = numpy.nan\n",
    "\n",
    "for idx,row in country_ratios_oil_df.iterrows():\n",
    "    # calculate cost\n",
    "    cntry = row.Country\n",
    "    region = row.Region\n",
    "    km_by_cntry = row.LengthKnownKmByCountry\n",
    "    #print(row.PipelineName)\n",
    "    country_ratios_oil_df.loc[idx,'CostUSDEstimate'] = pipes_oil_costs_region_df.loc[region, 'CostUSDPerKm'] * km_by_cntry\n",
    "\n",
    "# replace any known costs now\n",
    "country_ratios_oil_df.loc[(~country_ratios_oil_df.LengthKnownKmByCountry.isna())&\n",
    "                      (~country_ratios_oil_df.CostUSDPerKm.isna()),'CostUSDEstimate'] = \\\n",
    "country_ratios_oil_df.loc[(~country_ratios_oil_df.LengthKnownKmByCountry.isna())&\n",
    "                      (~country_ratios_oil_df.CostUSDPerKm.isna())]['LengthKnownKmByCountry'] * \\\n",
    "country_ratios_oil_df.loc[(~country_ratios_oil_df.LengthKnownKmByCountry.isna())&\n",
    "                      (~country_ratios_oil_df.CostUSDPerKm.isna())]['CostUSDPerKm']\n",
    "\n",
    "country_sums_USDBillion_df = pandas.DataFrame(country_ratios_oil_df.loc[(country_ratios_oil_df.Status.isin(['Construction','Proposed']))].groupby('Country')['CostUSDEstimate'].sum(min_count=1)/1e9)"
   ]
  },
  {
   "cell_type": "code",
   "execution_count": 293,
   "id": "95829118-8241-44fa-941e-db867f4e7ad1",
   "metadata": {},
   "outputs": [
    {
     "name": "stdout",
     "output_type": "stream",
     "text": [
      "===country-level calculations===\n",
      "Proposed\n",
      "Construction\n",
      "Shelved\n",
      "Cancelled\n",
      "Operating\n",
      "Idle\n",
      "Mothballed\n",
      "Retired\n",
      "===regional calculations===\n",
      "Proposed\n",
      "Construction\n",
      "Shelved\n",
      "Cancelled\n",
      "Operating\n",
      "Idle\n",
      "Mothballed\n",
      "Retired\n"
     ]
    }
   ],
   "source": [
    "capex_by_country_df = pandas.DataFrame(columns=status_list, index=country_list)\n",
    "capex_by_region_df = pandas.DataFrame(columns=status_list, index=region_list)\n",
    "\n",
    "print('===country-level calculations===')\n",
    "for status in status_list:\n",
    "    print(status)\n",
    "    country_ratios_oil_df_status = country_ratios_oil_df[country_ratios_oil_df.Status==status]\n",
    "    capex_by_country_df[status] = country_ratios_oil_df_status.groupby('Country')['CostUSDEstimate'].sum()/1e9\n",
    "\n",
    "print('===regional calculations===')\n",
    "for status in status_list:\n",
    "    print(status)\n",
    "    country_ratios_oil_df_status = country_ratios_oil_df[country_ratios_oil_df.Status==status]\n",
    "    capex_by_region_df[status] = country_ratios_oil_df_status.groupby('Region')['CostUSDEstimate'].sum()/1e9\n",
    "\n",
    "# # fill NaN with 0.0\n",
    "capex_by_region_df = capex_by_region_df.fillna(0)\n",
    "capex_by_country_df = capex_by_country_df.fillna(0)"
   ]
  },
  {
   "cell_type": "code",
   "execution_count": 294,
   "id": "46a37257-f3c7-40f8-a2b7-51318878c296",
   "metadata": {},
   "outputs": [],
   "source": [
    "capex_by_region_df['Proposed+Construction'] = capex_by_region_df[['Proposed','Construction']].sum(axis=1)\n",
    "#capex_by_region_df.sort_values(by='Proposed+Construction', inplace=True)\n",
    "capex_by_region_df = capex_by_region_df[['Proposed', 'Construction', 'Proposed+Construction', 'Shelved', 'Cancelled', 'Operating', 'Idle', 'Mothballed', 'Retired']]\n",
    "capex_by_region_df.sort_values('Proposed+Construction', ascending=False, inplace=True)"
   ]
  },
  {
   "cell_type": "code",
   "execution_count": 295,
   "id": "cc733300-291f-497e-a686-e2499fa85713",
   "metadata": {},
   "outputs": [],
   "source": [
    "capex_by_country_df['Proposed+Construction'] = capex_by_country_df[['Proposed','Construction']].sum(axis=1)\n",
    "#capex_by_country_df.sort_values(by='Proposed+Construction', inplace=True)\n",
    "capex_by_country_df = capex_by_country_df[['Proposed', 'Construction', 'Proposed+Construction', 'Shelved', 'Cancelled', 'Operating', 'Idle', 'Mothballed', 'Retired']]\n",
    "capex_by_country_df.sort_values('Proposed+Construction', ascending=False, inplace=True)"
   ]
  },
  {
   "cell_type": "code",
   "execution_count": 296,
   "id": "fe3d3070-5264-4535-9257-abbd7419c0ad",
   "metadata": {},
   "outputs": [],
   "source": [
    "if 'Total' in capex_by_region_df.index:\n",
    "    capex_by_region_df.drop(index='Total', inplace=True)   \n",
    "    total = capex_by_region_df.sum(axis=0)\n",
    "    total.name='Total'\n",
    "    capex_by_region_df = capex_by_region_df.append(total)\n",
    "\n",
    "else:\n",
    "    total = capex_by_region_df.sum(axis=0)\n",
    "    total.name='Total'\n",
    "    capex_by_region_df = capex_by_region_df.append(total)"
   ]
  },
  {
   "cell_type": "code",
   "execution_count": 297,
   "id": "1472a37f-8e4f-4e29-8a23-95bc1c4c3e36",
   "metadata": {},
   "outputs": [],
   "source": [
    "if 'Total' in capex_by_country_df.index:\n",
    "    capex_by_country_df.drop(index='Total', inplace=True)   \n",
    "    total = capex_by_country_df.sum(axis=0)\n",
    "    total.name='Total'\n",
    "    capex_by_country_df = capex_by_country_df.append(total)\n",
    "\n",
    "else:\n",
    "    total = capex_by_country_df.sum(axis=0)\n",
    "    total.name='Total'\n",
    "    capex_by_country_df = capex_by_country_df.append(total)"
   ]
  },
  {
   "cell_type": "code",
   "execution_count": 298,
   "id": "22636b17-8c9a-4d61-bd7e-42e14da91c56",
   "metadata": {},
   "outputs": [
    {
     "data": {
      "text/html": [
       "<div>\n",
       "<style scoped>\n",
       "    .dataframe tbody tr th:only-of-type {\n",
       "        vertical-align: middle;\n",
       "    }\n",
       "\n",
       "    .dataframe tbody tr th {\n",
       "        vertical-align: top;\n",
       "    }\n",
       "\n",
       "    .dataframe thead th {\n",
       "        text-align: right;\n",
       "    }\n",
       "</style>\n",
       "<table border=\"1\" class=\"dataframe\">\n",
       "  <thead>\n",
       "    <tr style=\"text-align: right;\">\n",
       "      <th></th>\n",
       "      <th>Proposed</th>\n",
       "      <th>Construction</th>\n",
       "      <th>Proposed+Construction</th>\n",
       "      <th>Shelved</th>\n",
       "      <th>Cancelled</th>\n",
       "      <th>Operating</th>\n",
       "      <th>Idle</th>\n",
       "      <th>Mothballed</th>\n",
       "      <th>Retired</th>\n",
       "    </tr>\n",
       "  </thead>\n",
       "  <tbody>\n",
       "    <tr>\n",
       "      <th>North America</th>\n",
       "      <td>7.5</td>\n",
       "      <td>18.1</td>\n",
       "      <td>25.6</td>\n",
       "      <td>31.9</td>\n",
       "      <td>75.5</td>\n",
       "      <td>343.3</td>\n",
       "      <td>0.0</td>\n",
       "      <td>0.0</td>\n",
       "      <td>7.7</td>\n",
       "    </tr>\n",
       "    <tr>\n",
       "      <th>Sub-Saharan Africa</th>\n",
       "      <td>10.0</td>\n",
       "      <td>7.0</td>\n",
       "      <td>17.0</td>\n",
       "      <td>0.0</td>\n",
       "      <td>6.2</td>\n",
       "      <td>22.2</td>\n",
       "      <td>0.0</td>\n",
       "      <td>0.0</td>\n",
       "      <td>0.0</td>\n",
       "    </tr>\n",
       "    <tr>\n",
       "      <th>Middle East and North Africa</th>\n",
       "      <td>9.1</td>\n",
       "      <td>2.1</td>\n",
       "      <td>11.2</td>\n",
       "      <td>0.0</td>\n",
       "      <td>3.9</td>\n",
       "      <td>37.5</td>\n",
       "      <td>0.0</td>\n",
       "      <td>3.4</td>\n",
       "      <td>1.8</td>\n",
       "    </tr>\n",
       "    <tr>\n",
       "      <th>Europe</th>\n",
       "      <td>7.1</td>\n",
       "      <td>0.1</td>\n",
       "      <td>7.2</td>\n",
       "      <td>0.0</td>\n",
       "      <td>7.1</td>\n",
       "      <td>30.4</td>\n",
       "      <td>0.1</td>\n",
       "      <td>0.0</td>\n",
       "      <td>0.0</td>\n",
       "    </tr>\n",
       "    <tr>\n",
       "      <th>South Asia</th>\n",
       "      <td>1.2</td>\n",
       "      <td>4.6</td>\n",
       "      <td>5.8</td>\n",
       "      <td>0.3</td>\n",
       "      <td>2.9</td>\n",
       "      <td>15.1</td>\n",
       "      <td>0.0</td>\n",
       "      <td>0.0</td>\n",
       "      <td>0.0</td>\n",
       "    </tr>\n",
       "    <tr>\n",
       "      <th>East Asia</th>\n",
       "      <td>1.8</td>\n",
       "      <td>2.4</td>\n",
       "      <td>4.2</td>\n",
       "      <td>0.0</td>\n",
       "      <td>12.0</td>\n",
       "      <td>46.1</td>\n",
       "      <td>0.0</td>\n",
       "      <td>0.0</td>\n",
       "      <td>9.4</td>\n",
       "    </tr>\n",
       "    <tr>\n",
       "      <th>Eurasia</th>\n",
       "      <td>2.8</td>\n",
       "      <td>1.3</td>\n",
       "      <td>4.0</td>\n",
       "      <td>0.0</td>\n",
       "      <td>5.0</td>\n",
       "      <td>80.7</td>\n",
       "      <td>0.0</td>\n",
       "      <td>0.1</td>\n",
       "      <td>1.1</td>\n",
       "    </tr>\n",
       "    <tr>\n",
       "      <th>SE Asia</th>\n",
       "      <td>0.0</td>\n",
       "      <td>0.3</td>\n",
       "      <td>0.3</td>\n",
       "      <td>0.4</td>\n",
       "      <td>0.0</td>\n",
       "      <td>2.4</td>\n",
       "      <td>0.0</td>\n",
       "      <td>0.0</td>\n",
       "      <td>0.0</td>\n",
       "    </tr>\n",
       "    <tr>\n",
       "      <th>Australia and New Zealand</th>\n",
       "      <td>0.0</td>\n",
       "      <td>0.0</td>\n",
       "      <td>0.0</td>\n",
       "      <td>0.0</td>\n",
       "      <td>0.0</td>\n",
       "      <td>2.1</td>\n",
       "      <td>0.0</td>\n",
       "      <td>0.0</td>\n",
       "      <td>0.2</td>\n",
       "    </tr>\n",
       "    <tr>\n",
       "      <th>Latin America and the Caribbean</th>\n",
       "      <td>0.0</td>\n",
       "      <td>0.0</td>\n",
       "      <td>0.0</td>\n",
       "      <td>0.4</td>\n",
       "      <td>7.8</td>\n",
       "      <td>20.8</td>\n",
       "      <td>0.0</td>\n",
       "      <td>0.2</td>\n",
       "      <td>0.0</td>\n",
       "    </tr>\n",
       "    <tr>\n",
       "      <th>Total</th>\n",
       "      <td>39.5</td>\n",
       "      <td>36.0</td>\n",
       "      <td>75.4</td>\n",
       "      <td>32.9</td>\n",
       "      <td>120.5</td>\n",
       "      <td>600.5</td>\n",
       "      <td>0.1</td>\n",
       "      <td>3.7</td>\n",
       "      <td>20.2</td>\n",
       "    </tr>\n",
       "  </tbody>\n",
       "</table>\n",
       "</div>"
      ],
      "text/plain": [
       "                                 Proposed  Construction  \\\n",
       "North America                         7.5          18.1   \n",
       "Sub-Saharan Africa                   10.0           7.0   \n",
       "Middle East and North Africa          9.1           2.1   \n",
       "Europe                                7.1           0.1   \n",
       "South Asia                            1.2           4.6   \n",
       "East Asia                             1.8           2.4   \n",
       "Eurasia                               2.8           1.3   \n",
       "SE Asia                               0.0           0.3   \n",
       "Australia and New Zealand             0.0           0.0   \n",
       "Latin America and the Caribbean       0.0           0.0   \n",
       "Total                                39.5          36.0   \n",
       "\n",
       "                                 Proposed+Construction  Shelved  Cancelled  \\\n",
       "North America                                     25.6     31.9       75.5   \n",
       "Sub-Saharan Africa                                17.0      0.0        6.2   \n",
       "Middle East and North Africa                      11.2      0.0        3.9   \n",
       "Europe                                             7.2      0.0        7.1   \n",
       "South Asia                                         5.8      0.3        2.9   \n",
       "East Asia                                          4.2      0.0       12.0   \n",
       "Eurasia                                            4.0      0.0        5.0   \n",
       "SE Asia                                            0.3      0.4        0.0   \n",
       "Australia and New Zealand                          0.0      0.0        0.0   \n",
       "Latin America and the Caribbean                    0.0      0.4        7.8   \n",
       "Total                                             75.4     32.9      120.5   \n",
       "\n",
       "                                 Operating  Idle  Mothballed  Retired  \n",
       "North America                        343.3   0.0         0.0      7.7  \n",
       "Sub-Saharan Africa                    22.2   0.0         0.0      0.0  \n",
       "Middle East and North Africa          37.5   0.0         3.4      1.8  \n",
       "Europe                                30.4   0.1         0.0      0.0  \n",
       "South Asia                            15.1   0.0         0.0      0.0  \n",
       "East Asia                             46.1   0.0         0.0      9.4  \n",
       "Eurasia                               80.7   0.0         0.1      1.1  \n",
       "SE Asia                                2.4   0.0         0.0      0.0  \n",
       "Australia and New Zealand              2.1   0.0         0.0      0.2  \n",
       "Latin America and the Caribbean       20.8   0.0         0.2      0.0  \n",
       "Total                                600.5   0.1         3.7     20.2  "
      ]
     },
     "execution_count": 298,
     "metadata": {},
     "output_type": "execute_result"
    }
   ],
   "source": [
    "pandas.options.display.float_format = '{:,.1f}'.format\n",
    "capex_by_region_df"
   ]
  },
  {
   "cell_type": "markdown",
   "id": "a67ada29-6ccc-49b9-8ab1-6fdf3d6a116f",
   "metadata": {},
   "source": [
    "## print out country-level stranded assets for report discussion"
   ]
  },
  {
   "cell_type": "markdown",
   "id": "b734740c-6a22-4d1f-9c1b-1817d3b85166",
   "metadata": {},
   "source": [
    "## in-dev for each country in list"
   ]
  },
  {
   "cell_type": "code",
   "execution_count": 299,
   "id": "70436bc4-4148-4bed-afed-3a0929619316",
   "metadata": {},
   "outputs": [
    {
     "name": "stdout",
     "output_type": "stream",
     "text": [
      "China\n",
      "1046.59  km proposed\n",
      "1486.08  km in construction\n",
      "2532.67  total km in development\n",
      "CostUSDEstimate   4.2\n",
      "Name: China, dtype: float64 USD\n",
      "\n",
      "India\n",
      "1194.0  km proposed\n",
      "1630.0  km in construction\n",
      "2824.0  total km in development\n",
      "CostUSDEstimate   4.0\n",
      "Name: India, dtype: float64 USD\n",
      "\n",
      "United States\n",
      "2692.66  km proposed\n",
      "136.75  km in construction\n",
      "2829.41  total km in development\n",
      "CostUSDEstimate   7.9\n",
      "Name: United States, dtype: float64 USD\n",
      "\n",
      "Russia\n",
      "1494.2  km proposed\n",
      "557.01  km in construction\n",
      "2051.21  total km in development\n",
      "CostUSDEstimate   3.7\n",
      "Name: Russia, dtype: float64 USD\n",
      "\n"
     ]
    }
   ],
   "source": [
    "#pandas.options.display.float_format = '{:,.1f}'.format\n",
    "these_countries = ['China','India', 'United States','Russia']\n",
    "\n",
    "for cntry in these_countries:\n",
    "    print(cntry)\n",
    "    cntry_region = country_ratios_df.loc[country_ratios_df.Country==cntry]['Region'].to_list()[0]\n",
    "    print(km_by_country_df.loc[cntry]['Proposed'], ' km proposed')\n",
    "    print(km_by_country_df.loc[cntry]['Construction'], ' km in construction')\n",
    "    print(km_by_country_df.loc[cntry]['Proposed+Construction'], ' total km in development')\n",
    "    print(country_sums_USDBillion_df.loc[cntry], 'USD')  \n",
    "    print()\n",
    "#    country_ratios_df.loc[(country_ratios_df.Status.isin(['Construction','Proposed'])&\n",
    "#                           (country_ratios_df.\n",
    "    \n",
    "#    print(pipes_oil_costs_country_df.loc[cntry]['CostUSDPerKm']*km_by_country_df.loc[cntry]/1e9)\n",
    "#    print()"
   ]
  },
  {
   "cell_type": "markdown",
   "id": "b2f4f54d-258b-418b-a43f-2a2bcec82c0d",
   "metadata": {},
   "source": [
    "# numbers for report"
   ]
  },
  {
   "cell_type": "markdown",
   "id": "f5661b98-75a1-42ca-819d-ee2fa8ea2b76",
   "metadata": {},
   "source": [
    "## amount already being constructed"
   ]
  },
  {
   "cell_type": "code",
   "execution_count": 300,
   "id": "741c91e9-dcdb-4332-beac-27f1cb8ca014",
   "metadata": {},
   "outputs": [
    {
     "data": {
      "text/plain": [
       "0.42841755316947855"
      ]
     },
     "execution_count": 300,
     "metadata": {},
     "output_type": "execute_result"
    }
   ],
   "source": [
    "# fraction of pipelines under construction compared to all in development\n",
    "# this number is different from below because it's skipping some pipelines\n",
    "km_by_country_total = km_by_country_df.sum(axis=0)\n",
    "km_by_country_total['Construction']/km_by_country_total['Proposed+Construction']"
   ]
  },
  {
   "cell_type": "code",
   "execution_count": 301,
   "id": "f358b56a-22ef-4323-824b-ecf9ef20202c",
   "metadata": {},
   "outputs": [
    {
     "data": {
      "text/plain": [
       "0.4768098765816466"
      ]
     },
     "execution_count": 301,
     "metadata": {},
     "output_type": "execute_result"
    }
   ],
   "source": [
    "# this fraction is on the full database, rather than only the pipelines that we estimate length for\n",
    "total['Construction']/total['Proposed+Construction']"
   ]
  },
  {
   "cell_type": "markdown",
   "id": "999b3a60-b8fe-40f4-a54d-db52c1dd8fc3",
   "metadata": {},
   "source": [
    "## capacity/potential emissions in development globally"
   ]
  },
  {
   "cell_type": "code",
   "execution_count": 302,
   "id": "be033ca7-9c4f-419b-a4ac-95796751bb0c",
   "metadata": {},
   "outputs": [
    {
     "name": "stdout",
     "output_type": "stream",
     "text": [
      "8.335010519999999 million bpd\n",
      "1.2734979223402796 billion tonnes CO2\n"
     ]
    }
   ],
   "source": [
    "pipes_df_subset = pipes_df_orig.loc[(pipes_df_orig.Status.isin(['Construction']))&\n",
    "                                     (pipes_df_orig.Fuel=='Oil')]\n",
    "cap_sum = pipes_df_subset['CapacityBOEd'].sum()\n",
    "print(cap_sum / 1e6, 'million bpd')\n",
    "print(cap_sum * co2_rate / 1e9, 'billion tonnes CO2')"
   ]
  },
  {
   "cell_type": "code",
   "execution_count": 303,
   "id": "0bbe19c0-8aeb-4c7f-bbf2-46daff1a75c3",
   "metadata": {},
   "outputs": [
    {
     "name": "stdout",
     "output_type": "stream",
     "text": [
      "21.83787285 million bpd\n",
      "3.33658675487865 billion tonnes CO2\n"
     ]
    }
   ],
   "source": [
    "pipes_df_subset = pipes_df_orig.loc[(pipes_df_orig.Status.isin(['Proposed']))&\n",
    "                                     (pipes_df_orig.Fuel=='Oil')]\n",
    "cap_sum = pipes_df_subset['CapacityBOEd'].sum()\n",
    "print(cap_sum / 1e6, 'million bpd')\n",
    "print(cap_sum * co2_rate / 1e9, 'billion tonnes CO2')"
   ]
  },
  {
   "cell_type": "code",
   "execution_count": 304,
   "id": "9e16aa51-6397-43f4-8093-ce9e4dea03ba",
   "metadata": {},
   "outputs": [
    {
     "name": "stdout",
     "output_type": "stream",
     "text": [
      "30.172883370000005 million bpd\n",
      "4.61008467721893 billion tonnes CO2\n"
     ]
    }
   ],
   "source": [
    "pipes_df_subset = pipes_df_orig.loc[(pipes_df_orig.Status.isin(['Construction','Proposed']))&\n",
    "                                     (pipes_df_orig.Fuel=='Oil')]\n",
    "cap_sum = pipes_df_subset['CapacityBOEd'].sum()\n",
    "print(cap_sum / 1e6, 'million bpd')\n",
    "print(cap_sum * co2_rate / 1e9, 'billion tonnes CO2')"
   ]
  },
  {
   "cell_type": "markdown",
   "id": "3cbfcb52-da08-4330-b006-6a63b6144c85",
   "metadata": {},
   "source": [
    "## total number of pipelines in dev"
   ]
  },
  {
   "cell_type": "code",
   "execution_count": 305,
   "id": "3c1ece32-0f36-4514-9402-e7b6b15c1275",
   "metadata": {},
   "outputs": [
    {
     "data": {
      "text/plain": [
       "24166.07"
      ]
     },
     "execution_count": 305,
     "metadata": {},
     "output_type": "execute_result"
    }
   ],
   "source": [
    "pipes_df_orig.loc[(pipes_df_orig.Fuel=='Oil')&\n",
    "                  (pipes_df_orig.Status.isin(['Proposed','Construction']))]['LengthMergedKm'].sum()"
   ]
  },
  {
   "cell_type": "markdown",
   "id": "dadc820e-41b6-4522-8da9-6a4b65f465b5",
   "metadata": {},
   "source": [
    "## top 10 pipelines"
   ]
  },
  {
   "cell_type": "code",
   "execution_count": 306,
   "id": "1cf5b965-f261-481f-aace-30b080e7d3b2",
   "metadata": {},
   "outputs": [
    {
     "data": {
      "text/html": [
       "<div>\n",
       "<style scoped>\n",
       "    .dataframe tbody tr th:only-of-type {\n",
       "        vertical-align: middle;\n",
       "    }\n",
       "\n",
       "    .dataframe tbody tr th {\n",
       "        vertical-align: top;\n",
       "    }\n",
       "\n",
       "    .dataframe thead th {\n",
       "        text-align: right;\n",
       "    }\n",
       "</style>\n",
       "<table border=\"1\" class=\"dataframe\">\n",
       "  <thead>\n",
       "    <tr style=\"text-align: right;\">\n",
       "      <th></th>\n",
       "      <th>PipelineName</th>\n",
       "      <th>LengthKnownKm</th>\n",
       "      <th>CapacityBOEd</th>\n",
       "      <th>Countries</th>\n",
       "      <th>Status</th>\n",
       "      <th>StartYearEarliest</th>\n",
       "      <th>Wiki</th>\n",
       "    </tr>\n",
       "  </thead>\n",
       "  <tbody>\n",
       "    <tr>\n",
       "      <th>387</th>\n",
       "      <td>Niger–Benin Oil Pipeline</td>\n",
       "      <td>1,950.0</td>\n",
       "      <td>90,000.0</td>\n",
       "      <td>Niger, Benin</td>\n",
       "      <td>Construction</td>\n",
       "      <td>2024</td>\n",
       "      <td>https://www.gem.wiki/Niger%E2%80%93Benin_Oil_Pipeline</td>\n",
       "    </tr>\n",
       "    <tr>\n",
       "      <th>625</th>\n",
       "      <td>Tazama Oil Pipeline</td>\n",
       "      <td>1,710.0</td>\n",
       "      <td>22,000.0</td>\n",
       "      <td>Tanzania, Zambia</td>\n",
       "      <td>Proposed</td>\n",
       "      <td>NaN</td>\n",
       "      <td>https://www.gem.wiki/Tazama_Oil_Pipeline</td>\n",
       "    </tr>\n",
       "    <tr>\n",
       "      <th>175</th>\n",
       "      <td>Basra-Aqaba Oil Pipeline</td>\n",
       "      <td>1,665.0</td>\n",
       "      <td>1,000,000.0</td>\n",
       "      <td>Iraq, Jordan</td>\n",
       "      <td>Proposed</td>\n",
       "      <td>NaN</td>\n",
       "      <td>https://www.gem.wiki/Basra-Aqaba_Oil_Pipeline</td>\n",
       "    </tr>\n",
       "    <tr>\n",
       "      <th>939</th>\n",
       "      <td>Paradip Numaligarh Crude Pipeline (PNCPL)</td>\n",
       "      <td>1,630.0</td>\n",
       "      <td>NaN</td>\n",
       "      <td>India</td>\n",
       "      <td>Construction</td>\n",
       "      <td>2024</td>\n",
       "      <td>https://www.gem.wiki/Paradip_Numaligarh_Crude_Pipeline_(PNCPL)</td>\n",
       "    </tr>\n",
       "    <tr>\n",
       "      <th>172</th>\n",
       "      <td>East African Crude Oil Pipeline (EACOP)</td>\n",
       "      <td>1,444.0</td>\n",
       "      <td>216,000.0</td>\n",
       "      <td>Uganda, Tanzania</td>\n",
       "      <td>Proposed</td>\n",
       "      <td>2025</td>\n",
       "      <td>https://www.gem.wiki/East_African_Crude_Oil_Pipeline_(EACOP)</td>\n",
       "    </tr>\n",
       "    <tr>\n",
       "      <th>976</th>\n",
       "      <td>New Mundra–Panipat Oil Pipeline</td>\n",
       "      <td>1,194.0</td>\n",
       "      <td>430,067.8</td>\n",
       "      <td>India</td>\n",
       "      <td>Proposed</td>\n",
       "      <td>2024</td>\n",
       "      <td>https://www.gem.wiki/New_Mundra%E2%80%93Panipat_Oil_Pipeline</td>\n",
       "    </tr>\n",
       "    <tr>\n",
       "      <th>144</th>\n",
       "      <td>Seahorse Pipeline</td>\n",
       "      <td>1,126.5</td>\n",
       "      <td>800,000.0</td>\n",
       "      <td>United States</td>\n",
       "      <td>Proposed</td>\n",
       "      <td>2022</td>\n",
       "      <td>https://www.gem.wiki/Seahorse_Pipeline</td>\n",
       "    </tr>\n",
       "    <tr>\n",
       "      <th>30</th>\n",
       "      <td>Trans Mountain Oil Pipeline</td>\n",
       "      <td>980.0</td>\n",
       "      <td>290,000.0</td>\n",
       "      <td>Canada</td>\n",
       "      <td>Construction</td>\n",
       "      <td>2023</td>\n",
       "      <td>https://www.gem.wiki/Trans_Mountain_Oil_Pipeline</td>\n",
       "    </tr>\n",
       "    <tr>\n",
       "      <th>780</th>\n",
       "      <td>Vostok Oil Pipeline</td>\n",
       "      <td>800.0</td>\n",
       "      <td>NaN</td>\n",
       "      <td>Russia</td>\n",
       "      <td>Proposed</td>\n",
       "      <td>2022</td>\n",
       "      <td>https://www.gem.wiki/Vostok_Oil_Pipeline</td>\n",
       "    </tr>\n",
       "    <tr>\n",
       "      <th>777</th>\n",
       "      <td>Willow Oil Pipeline</td>\n",
       "      <td>620.4</td>\n",
       "      <td>200,000.0</td>\n",
       "      <td>United States</td>\n",
       "      <td>Proposed</td>\n",
       "      <td>2025</td>\n",
       "      <td>https://www.gem.wiki/Willow_Oil_Pipeline</td>\n",
       "    </tr>\n",
       "    <tr>\n",
       "      <th>532</th>\n",
       "      <td>Sabz Ab-Tang Fanni-Shazand-Rey crude oil pipeline project</td>\n",
       "      <td>620.0</td>\n",
       "      <td>450,000.0</td>\n",
       "      <td>Iran</td>\n",
       "      <td>Construction</td>\n",
       "      <td>NaN</td>\n",
       "      <td>https://www.gem.wiki/Sabz_Ab-Tang_Fanni-Shazand-Rey_crude_oil_pipeline_project</td>\n",
       "    </tr>\n",
       "    <tr>\n",
       "      <th>548</th>\n",
       "      <td>Baku-Novorossiysk Oil Pipeline</td>\n",
       "      <td>548.0</td>\n",
       "      <td>150,616.4</td>\n",
       "      <td>Russia, Azerbaijan</td>\n",
       "      <td>Construction</td>\n",
       "      <td>2022</td>\n",
       "      <td>https://www.gem.wiki/Baku-Novorossiysk_Oil_Pipeline</td>\n",
       "    </tr>\n",
       "    <tr>\n",
       "      <th>254</th>\n",
       "      <td>Oman Main Line–Ras Markaz Oil Pipeline</td>\n",
       "      <td>440.0</td>\n",
       "      <td>700,000.0</td>\n",
       "      <td>Oman</td>\n",
       "      <td>Construction</td>\n",
       "      <td>NaN</td>\n",
       "      <td>https://www.gem.wiki/Oman_Main_Line%E2%80%93Ras_Markaz_Oil_Pipeline</td>\n",
       "    </tr>\n",
       "    <tr>\n",
       "      <th>492</th>\n",
       "      <td>Rizhao–Yizheng Parallel Oil Pipeline</td>\n",
       "      <td>400.0</td>\n",
       "      <td>491,506.0</td>\n",
       "      <td>China</td>\n",
       "      <td>Proposed</td>\n",
       "      <td>NaN</td>\n",
       "      <td>https://www.gem.wiki/Rizhao%E2%80%93Yizheng_Parallel_Oil_Pipeline</td>\n",
       "    </tr>\n",
       "    <tr>\n",
       "      <th>539</th>\n",
       "      <td>Brody-Adamowo Oil pipeline</td>\n",
       "      <td>397.9</td>\n",
       "      <td>245,753.0</td>\n",
       "      <td>Ukraine, Poland</td>\n",
       "      <td>Proposed</td>\n",
       "      <td>2025</td>\n",
       "      <td>https://www.gem.wiki/Adamowo-Brody_Oil_pipeline</td>\n",
       "    </tr>\n",
       "  </tbody>\n",
       "</table>\n",
       "</div>"
      ],
      "text/plain": [
       "                                                  PipelineName LengthKnownKm  \\\n",
       "387                                   Niger–Benin Oil Pipeline       1,950.0   \n",
       "625                                        Tazama Oil Pipeline       1,710.0   \n",
       "175                                   Basra-Aqaba Oil Pipeline       1,665.0   \n",
       "939                  Paradip Numaligarh Crude Pipeline (PNCPL)       1,630.0   \n",
       "172                    East African Crude Oil Pipeline (EACOP)       1,444.0   \n",
       "976                            New Mundra–Panipat Oil Pipeline       1,194.0   \n",
       "144                                          Seahorse Pipeline       1,126.5   \n",
       "30                                 Trans Mountain Oil Pipeline         980.0   \n",
       "780                                        Vostok Oil Pipeline         800.0   \n",
       "777                                        Willow Oil Pipeline         620.4   \n",
       "532  Sabz Ab-Tang Fanni-Shazand-Rey crude oil pipeline project         620.0   \n",
       "548                             Baku-Novorossiysk Oil Pipeline         548.0   \n",
       "254                     Oman Main Line–Ras Markaz Oil Pipeline         440.0   \n",
       "492                       Rizhao–Yizheng Parallel Oil Pipeline         400.0   \n",
       "539                                 Brody-Adamowo Oil pipeline         397.9   \n",
       "\n",
       "    CapacityBOEd           Countries        Status StartYearEarliest  \\\n",
       "387     90,000.0        Niger, Benin  Construction              2024   \n",
       "625     22,000.0    Tanzania, Zambia      Proposed               NaN   \n",
       "175  1,000,000.0        Iraq, Jordan      Proposed               NaN   \n",
       "939          NaN               India  Construction              2024   \n",
       "172    216,000.0    Uganda, Tanzania      Proposed              2025   \n",
       "976    430,067.8               India      Proposed              2024   \n",
       "144    800,000.0       United States      Proposed              2022   \n",
       "30     290,000.0              Canada  Construction              2023   \n",
       "780          NaN              Russia      Proposed              2022   \n",
       "777    200,000.0       United States      Proposed              2025   \n",
       "532    450,000.0                Iran  Construction               NaN   \n",
       "548    150,616.4  Russia, Azerbaijan  Construction              2022   \n",
       "254    700,000.0                Oman  Construction               NaN   \n",
       "492    491,506.0               China      Proposed               NaN   \n",
       "539    245,753.0     Ukraine, Poland      Proposed              2025   \n",
       "\n",
       "                                                                               Wiki  \n",
       "387                           https://www.gem.wiki/Niger%E2%80%93Benin_Oil_Pipeline  \n",
       "625                                        https://www.gem.wiki/Tazama_Oil_Pipeline  \n",
       "175                                   https://www.gem.wiki/Basra-Aqaba_Oil_Pipeline  \n",
       "939                  https://www.gem.wiki/Paradip_Numaligarh_Crude_Pipeline_(PNCPL)  \n",
       "172                    https://www.gem.wiki/East_African_Crude_Oil_Pipeline_(EACOP)  \n",
       "976                    https://www.gem.wiki/New_Mundra%E2%80%93Panipat_Oil_Pipeline  \n",
       "144                                          https://www.gem.wiki/Seahorse_Pipeline  \n",
       "30                                 https://www.gem.wiki/Trans_Mountain_Oil_Pipeline  \n",
       "780                                        https://www.gem.wiki/Vostok_Oil_Pipeline  \n",
       "777                                        https://www.gem.wiki/Willow_Oil_Pipeline  \n",
       "532  https://www.gem.wiki/Sabz_Ab-Tang_Fanni-Shazand-Rey_crude_oil_pipeline_project  \n",
       "548                             https://www.gem.wiki/Baku-Novorossiysk_Oil_Pipeline  \n",
       "254             https://www.gem.wiki/Oman_Main_Line%E2%80%93Ras_Markaz_Oil_Pipeline  \n",
       "492               https://www.gem.wiki/Rizhao%E2%80%93Yizheng_Parallel_Oil_Pipeline  \n",
       "539                                 https://www.gem.wiki/Adamowo-Brody_Oil_pipeline  "
      ]
     },
     "execution_count": 306,
     "metadata": {},
     "output_type": "execute_result"
    }
   ],
   "source": [
    "pipes_df_orig.loc[(pipes_df_orig.Fuel=='Oil')&\n",
    "                  (pipes_df_orig.Status.isin(['Proposed','Construction']))].sort_values(\n",
    "    'LengthKnownKm', ascending=False)[['PipelineName','LengthKnownKm','CapacityBOEd','Countries','Status','StartYearEarliest','Wiki']][:15]\n",
    "\n"
   ]
  },
  {
   "cell_type": "code",
   "execution_count": 307,
   "id": "f91993c0-dda7-4493-9a8b-6ccf7a1b0186",
   "metadata": {},
   "outputs": [
    {
     "data": {
      "text/html": [
       "<div>\n",
       "<style scoped>\n",
       "    .dataframe tbody tr th:only-of-type {\n",
       "        vertical-align: middle;\n",
       "    }\n",
       "\n",
       "    .dataframe tbody tr th {\n",
       "        vertical-align: top;\n",
       "    }\n",
       "\n",
       "    .dataframe thead th {\n",
       "        text-align: right;\n",
       "    }\n",
       "</style>\n",
       "<table border=\"1\" class=\"dataframe\">\n",
       "  <thead>\n",
       "    <tr style=\"text-align: right;\">\n",
       "      <th></th>\n",
       "      <th></th>\n",
       "      <th></th>\n",
       "      <th>LengthKnownKm</th>\n",
       "    </tr>\n",
       "    <tr>\n",
       "      <th>PipelineName</th>\n",
       "      <th>Status</th>\n",
       "      <th>Wiki</th>\n",
       "      <th></th>\n",
       "    </tr>\n",
       "  </thead>\n",
       "  <tbody>\n",
       "    <tr>\n",
       "      <th>Niger–Benin Oil Pipeline</th>\n",
       "      <th>Construction</th>\n",
       "      <th>https://www.gem.wiki/Niger%E2%80%93Benin_Oil_Pipeline</th>\n",
       "      <td>1,950.0</td>\n",
       "    </tr>\n",
       "    <tr>\n",
       "      <th>Tazama Oil Pipeline</th>\n",
       "      <th>Proposed</th>\n",
       "      <th>https://www.gem.wiki/Tazama_Oil_Pipeline</th>\n",
       "      <td>1,710.0</td>\n",
       "    </tr>\n",
       "    <tr>\n",
       "      <th>Basra-Aqaba Oil Pipeline</th>\n",
       "      <th>Proposed</th>\n",
       "      <th>https://www.gem.wiki/Basra-Aqaba_Oil_Pipeline</th>\n",
       "      <td>1,665.0</td>\n",
       "    </tr>\n",
       "    <tr>\n",
       "      <th>Paradip Numaligarh Crude Pipeline (PNCPL)</th>\n",
       "      <th>Construction</th>\n",
       "      <th>https://www.gem.wiki/Paradip_Numaligarh_Crude_Pipeline_(PNCPL)</th>\n",
       "      <td>1,630.0</td>\n",
       "    </tr>\n",
       "    <tr>\n",
       "      <th>East African Crude Oil Pipeline (EACOP)</th>\n",
       "      <th>Proposed</th>\n",
       "      <th>https://www.gem.wiki/East_African_Crude_Oil_Pipeline_(EACOP)</th>\n",
       "      <td>1,444.0</td>\n",
       "    </tr>\n",
       "    <tr>\n",
       "      <th>Vostok Oil Pipeline</th>\n",
       "      <th>Proposed</th>\n",
       "      <th>https://www.gem.wiki/Vostok_Oil_Pipeline</th>\n",
       "      <td>1,400.0</td>\n",
       "    </tr>\n",
       "    <tr>\n",
       "      <th>New Mundra–Panipat Oil Pipeline</th>\n",
       "      <th>Proposed</th>\n",
       "      <th>https://www.gem.wiki/New_Mundra%E2%80%93Panipat_Oil_Pipeline</th>\n",
       "      <td>1,194.0</td>\n",
       "    </tr>\n",
       "    <tr>\n",
       "      <th>Seahorse Pipeline</th>\n",
       "      <th>Proposed</th>\n",
       "      <th>https://www.gem.wiki/Seahorse_Pipeline</th>\n",
       "      <td>1,126.5</td>\n",
       "    </tr>\n",
       "    <tr>\n",
       "      <th>Trans Mountain Oil Pipeline</th>\n",
       "      <th>Construction</th>\n",
       "      <th>https://www.gem.wiki/Trans_Mountain_Oil_Pipeline</th>\n",
       "      <td>980.0</td>\n",
       "    </tr>\n",
       "    <tr>\n",
       "      <th>Willow Oil Pipeline</th>\n",
       "      <th>Proposed</th>\n",
       "      <th>https://www.gem.wiki/Willow_Oil_Pipeline</th>\n",
       "      <td>620.4</td>\n",
       "    </tr>\n",
       "  </tbody>\n",
       "</table>\n",
       "</div>"
      ],
      "text/plain": [
       "                                                                                                                      LengthKnownKm\n",
       "PipelineName                              Status       Wiki                                                                        \n",
       "Niger–Benin Oil Pipeline                  Construction https://www.gem.wiki/Niger%E2%80%93Benin_Oil_Pipeline                1,950.0\n",
       "Tazama Oil Pipeline                       Proposed     https://www.gem.wiki/Tazama_Oil_Pipeline                             1,710.0\n",
       "Basra-Aqaba Oil Pipeline                  Proposed     https://www.gem.wiki/Basra-Aqaba_Oil_Pipeline                        1,665.0\n",
       "Paradip Numaligarh Crude Pipeline (PNCPL) Construction https://www.gem.wiki/Paradip_Numaligarh_Crude_Pipeline_(PNCPL)       1,630.0\n",
       "East African Crude Oil Pipeline (EACOP)   Proposed     https://www.gem.wiki/East_African_Crude_Oil_Pipeline_(EACOP)         1,444.0\n",
       "Vostok Oil Pipeline                       Proposed     https://www.gem.wiki/Vostok_Oil_Pipeline                             1,400.0\n",
       "New Mundra–Panipat Oil Pipeline           Proposed     https://www.gem.wiki/New_Mundra%E2%80%93Panipat_Oil_Pipeline         1,194.0\n",
       "Seahorse Pipeline                         Proposed     https://www.gem.wiki/Seahorse_Pipeline                               1,126.5\n",
       "Trans Mountain Oil Pipeline               Construction https://www.gem.wiki/Trans_Mountain_Oil_Pipeline                       980.0\n",
       "Willow Oil Pipeline                       Proposed     https://www.gem.wiki/Willow_Oil_Pipeline                               620.4"
      ]
     },
     "execution_count": 307,
     "metadata": {},
     "output_type": "execute_result"
    }
   ],
   "source": [
    "pandas.DataFrame(pipes_df_orig.loc[(pipes_df_orig.Fuel=='Oil')&\n",
    "                  (pipes_df_orig.Status.isin(['Proposed','Construction']))].groupby(['PipelineName','Status','Wiki'])['LengthKnownKm'].sum(min_count=1).sort_values(ascending=False)[:10])"
   ]
  },
  {
   "cell_type": "code",
   "execution_count": 308,
   "id": "2ebff4ff-e78b-408a-ab39-3cbdaab45244",
   "metadata": {},
   "outputs": [
    {
     "data": {
      "text/html": [
       "<div>\n",
       "<style scoped>\n",
       "    .dataframe tbody tr th:only-of-type {\n",
       "        vertical-align: middle;\n",
       "    }\n",
       "\n",
       "    .dataframe tbody tr th {\n",
       "        vertical-align: top;\n",
       "    }\n",
       "\n",
       "    .dataframe thead th {\n",
       "        text-align: right;\n",
       "    }\n",
       "</style>\n",
       "<table border=\"1\" class=\"dataframe\">\n",
       "  <thead>\n",
       "    <tr style=\"text-align: right;\">\n",
       "      <th></th>\n",
       "      <th>PipelineName</th>\n",
       "      <th>SegmentName</th>\n",
       "      <th>LengthKnownKm</th>\n",
       "      <th>LengthEstimateKm</th>\n",
       "      <th>CapacityBOEd</th>\n",
       "      <th>Countries</th>\n",
       "      <th>Status</th>\n",
       "      <th>StartYearEarliest</th>\n",
       "      <th>Wiki</th>\n",
       "    </tr>\n",
       "  </thead>\n",
       "  <tbody>\n",
       "    <tr>\n",
       "      <th>387</th>\n",
       "      <td>Niger–Benin Oil Pipeline</td>\n",
       "      <td></td>\n",
       "      <td>1,950.0</td>\n",
       "      <td>1,886.6</td>\n",
       "      <td>90,000.0</td>\n",
       "      <td>Niger, Benin</td>\n",
       "      <td>Construction</td>\n",
       "      <td>2024</td>\n",
       "      <td>https://www.gem.wiki/Niger%E2%80%93Benin_Oil_Pipeline</td>\n",
       "    </tr>\n",
       "    <tr>\n",
       "      <th>625</th>\n",
       "      <td>Tazama Oil Pipeline</td>\n",
       "      <td>Expansion</td>\n",
       "      <td>1,710.0</td>\n",
       "      <td>1,734.8</td>\n",
       "      <td>22,000.0</td>\n",
       "      <td>Tanzania, Zambia</td>\n",
       "      <td>Proposed</td>\n",
       "      <td>NaN</td>\n",
       "      <td>https://www.gem.wiki/Tazama_Oil_Pipeline</td>\n",
       "    </tr>\n",
       "    <tr>\n",
       "      <th>175</th>\n",
       "      <td>Basra-Aqaba Oil Pipeline</td>\n",
       "      <td></td>\n",
       "      <td>1,665.0</td>\n",
       "      <td>1,663.8</td>\n",
       "      <td>1,000,000.0</td>\n",
       "      <td>Iraq, Jordan</td>\n",
       "      <td>Proposed</td>\n",
       "      <td>NaN</td>\n",
       "      <td>https://www.gem.wiki/Basra-Aqaba_Oil_Pipeline</td>\n",
       "    </tr>\n",
       "    <tr>\n",
       "      <th>939</th>\n",
       "      <td>Paradip Numaligarh Crude Pipeline (PNCPL)</td>\n",
       "      <td></td>\n",
       "      <td>1,630.0</td>\n",
       "      <td>1,459.7</td>\n",
       "      <td>NaN</td>\n",
       "      <td>India</td>\n",
       "      <td>Construction</td>\n",
       "      <td>2024</td>\n",
       "      <td>https://www.gem.wiki/Paradip_Numaligarh_Crude_Pipeline_(PNCPL)</td>\n",
       "    </tr>\n",
       "    <tr>\n",
       "      <th>172</th>\n",
       "      <td>East African Crude Oil Pipeline (EACOP)</td>\n",
       "      <td></td>\n",
       "      <td>1,444.0</td>\n",
       "      <td>1,560.9</td>\n",
       "      <td>216,000.0</td>\n",
       "      <td>Uganda, Tanzania</td>\n",
       "      <td>Proposed</td>\n",
       "      <td>2025</td>\n",
       "      <td>https://www.gem.wiki/East_African_Crude_Oil_Pipeline_(EACOP)</td>\n",
       "    </tr>\n",
       "    <tr>\n",
       "      <th>976</th>\n",
       "      <td>New Mundra–Panipat Oil Pipeline</td>\n",
       "      <td></td>\n",
       "      <td>1,194.0</td>\n",
       "      <td>1,081.2</td>\n",
       "      <td>430,067.8</td>\n",
       "      <td>India</td>\n",
       "      <td>Proposed</td>\n",
       "      <td>2024</td>\n",
       "      <td>https://www.gem.wiki/New_Mundra%E2%80%93Panipat_Oil_Pipeline</td>\n",
       "    </tr>\n",
       "    <tr>\n",
       "      <th>144</th>\n",
       "      <td>Seahorse Pipeline</td>\n",
       "      <td></td>\n",
       "      <td>1,126.5</td>\n",
       "      <td>1,127.6</td>\n",
       "      <td>800,000.0</td>\n",
       "      <td>United States</td>\n",
       "      <td>Proposed</td>\n",
       "      <td>2022</td>\n",
       "      <td>https://www.gem.wiki/Seahorse_Pipeline</td>\n",
       "    </tr>\n",
       "    <tr>\n",
       "      <th>30</th>\n",
       "      <td>Trans Mountain Oil Pipeline</td>\n",
       "      <td>Trans Mountain Expansion (TMX)</td>\n",
       "      <td>980.0</td>\n",
       "      <td>1,097.4</td>\n",
       "      <td>290,000.0</td>\n",
       "      <td>Canada</td>\n",
       "      <td>Construction</td>\n",
       "      <td>2023</td>\n",
       "      <td>https://www.gem.wiki/Trans_Mountain_Oil_Pipeline</td>\n",
       "    </tr>\n",
       "    <tr>\n",
       "      <th>165</th>\n",
       "      <td>Lamu Port-South Sudan (LAPSSET) Pipeline</td>\n",
       "      <td>Lokichar–Lamu Oil Pipeline Segment</td>\n",
       "      <td>NaN</td>\n",
       "      <td>835.3</td>\n",
       "      <td>65,000.0</td>\n",
       "      <td>Kenya</td>\n",
       "      <td>Proposed</td>\n",
       "      <td>2023</td>\n",
       "      <td>https://www.gem.wiki/Lamu_Port-South_Sudan_(LAPSSET)_Pipeline</td>\n",
       "    </tr>\n",
       "    <tr>\n",
       "      <th>780</th>\n",
       "      <td>Vostok Oil Pipeline</td>\n",
       "      <td>Phase I</td>\n",
       "      <td>800.0</td>\n",
       "      <td>623.6</td>\n",
       "      <td>NaN</td>\n",
       "      <td>Russia</td>\n",
       "      <td>Proposed</td>\n",
       "      <td>2022</td>\n",
       "      <td>https://www.gem.wiki/Vostok_Oil_Pipeline</td>\n",
       "    </tr>\n",
       "    <tr>\n",
       "      <th>777</th>\n",
       "      <td>Willow Oil Pipeline</td>\n",
       "      <td></td>\n",
       "      <td>620.4</td>\n",
       "      <td>NaN</td>\n",
       "      <td>200,000.0</td>\n",
       "      <td>United States</td>\n",
       "      <td>Proposed</td>\n",
       "      <td>2025</td>\n",
       "      <td>https://www.gem.wiki/Willow_Oil_Pipeline</td>\n",
       "    </tr>\n",
       "    <tr>\n",
       "      <th>532</th>\n",
       "      <td>Sabz Ab-Tang Fanni-Shazand-Rey crude oil pipeline project</td>\n",
       "      <td></td>\n",
       "      <td>620.0</td>\n",
       "      <td>443.2</td>\n",
       "      <td>450,000.0</td>\n",
       "      <td>Iran</td>\n",
       "      <td>Construction</td>\n",
       "      <td>NaN</td>\n",
       "      <td>https://www.gem.wiki/Sabz_Ab-Tang_Fanni-Shazand-Rey_crude_oil_pipeline_project</td>\n",
       "    </tr>\n",
       "    <tr>\n",
       "      <th>169</th>\n",
       "      <td>Lamu Port-South Sudan (LAPSSET) Pipeline</td>\n",
       "      <td>South Sudan–Lokichar Oil Pipeline Segment</td>\n",
       "      <td>NaN</td>\n",
       "      <td>550.8</td>\n",
       "      <td>160,000.0</td>\n",
       "      <td>South Sudan, Kenya</td>\n",
       "      <td>Proposed</td>\n",
       "      <td>2022</td>\n",
       "      <td>https://www.gem.wiki/Lamu_Port-South_Sudan_(LAPSSET)_Pipeline</td>\n",
       "    </tr>\n",
       "    <tr>\n",
       "      <th>548</th>\n",
       "      <td>Baku-Novorossiysk Oil Pipeline</td>\n",
       "      <td>Grozny-Baku Oil Pipeline Replacement Project</td>\n",
       "      <td>548.0</td>\n",
       "      <td>466.3</td>\n",
       "      <td>150,616.4</td>\n",
       "      <td>Russia, Azerbaijan</td>\n",
       "      <td>Construction</td>\n",
       "      <td>2022</td>\n",
       "      <td>https://www.gem.wiki/Baku-Novorossiysk_Oil_Pipeline</td>\n",
       "    </tr>\n",
       "    <tr>\n",
       "      <th>254</th>\n",
       "      <td>Oman Main Line–Ras Markaz Oil Pipeline</td>\n",
       "      <td></td>\n",
       "      <td>440.0</td>\n",
       "      <td>389.5</td>\n",
       "      <td>700,000.0</td>\n",
       "      <td>Oman</td>\n",
       "      <td>Construction</td>\n",
       "      <td>NaN</td>\n",
       "      <td>https://www.gem.wiki/Oman_Main_Line%E2%80%93Ras_Markaz_Oil_Pipeline</td>\n",
       "    </tr>\n",
       "  </tbody>\n",
       "</table>\n",
       "</div>"
      ],
      "text/plain": [
       "                                                  PipelineName  \\\n",
       "387                                   Niger–Benin Oil Pipeline   \n",
       "625                                        Tazama Oil Pipeline   \n",
       "175                                   Basra-Aqaba Oil Pipeline   \n",
       "939                  Paradip Numaligarh Crude Pipeline (PNCPL)   \n",
       "172                    East African Crude Oil Pipeline (EACOP)   \n",
       "976                            New Mundra–Panipat Oil Pipeline   \n",
       "144                                          Seahorse Pipeline   \n",
       "30                                 Trans Mountain Oil Pipeline   \n",
       "165                   Lamu Port-South Sudan (LAPSSET) Pipeline   \n",
       "780                                        Vostok Oil Pipeline   \n",
       "777                                        Willow Oil Pipeline   \n",
       "532  Sabz Ab-Tang Fanni-Shazand-Rey crude oil pipeline project   \n",
       "169                   Lamu Port-South Sudan (LAPSSET) Pipeline   \n",
       "548                             Baku-Novorossiysk Oil Pipeline   \n",
       "254                     Oman Main Line–Ras Markaz Oil Pipeline   \n",
       "\n",
       "                                      SegmentName LengthKnownKm  \\\n",
       "387                                                     1,950.0   \n",
       "625                                     Expansion       1,710.0   \n",
       "175                                                     1,665.0   \n",
       "939                                                     1,630.0   \n",
       "172                                                     1,444.0   \n",
       "976                                                     1,194.0   \n",
       "144                                                     1,126.5   \n",
       "30                 Trans Mountain Expansion (TMX)         980.0   \n",
       "165            Lokichar–Lamu Oil Pipeline Segment           NaN   \n",
       "780                                       Phase I         800.0   \n",
       "777                                                       620.4   \n",
       "532                                                       620.0   \n",
       "169     South Sudan–Lokichar Oil Pipeline Segment           NaN   \n",
       "548  Grozny-Baku Oil Pipeline Replacement Project         548.0   \n",
       "254                                                       440.0   \n",
       "\n",
       "    LengthEstimateKm CapacityBOEd           Countries        Status  \\\n",
       "387          1,886.6     90,000.0        Niger, Benin  Construction   \n",
       "625          1,734.8     22,000.0    Tanzania, Zambia      Proposed   \n",
       "175          1,663.8  1,000,000.0        Iraq, Jordan      Proposed   \n",
       "939          1,459.7          NaN               India  Construction   \n",
       "172          1,560.9    216,000.0    Uganda, Tanzania      Proposed   \n",
       "976          1,081.2    430,067.8               India      Proposed   \n",
       "144          1,127.6    800,000.0       United States      Proposed   \n",
       "30           1,097.4    290,000.0              Canada  Construction   \n",
       "165            835.3     65,000.0               Kenya      Proposed   \n",
       "780            623.6          NaN              Russia      Proposed   \n",
       "777              NaN    200,000.0       United States      Proposed   \n",
       "532            443.2    450,000.0                Iran  Construction   \n",
       "169            550.8    160,000.0  South Sudan, Kenya      Proposed   \n",
       "548            466.3    150,616.4  Russia, Azerbaijan  Construction   \n",
       "254            389.5    700,000.0                Oman  Construction   \n",
       "\n",
       "    StartYearEarliest  \\\n",
       "387              2024   \n",
       "625               NaN   \n",
       "175               NaN   \n",
       "939              2024   \n",
       "172              2025   \n",
       "976              2024   \n",
       "144              2022   \n",
       "30               2023   \n",
       "165              2023   \n",
       "780              2022   \n",
       "777              2025   \n",
       "532               NaN   \n",
       "169              2022   \n",
       "548              2022   \n",
       "254               NaN   \n",
       "\n",
       "                                                                               Wiki  \n",
       "387                           https://www.gem.wiki/Niger%E2%80%93Benin_Oil_Pipeline  \n",
       "625                                        https://www.gem.wiki/Tazama_Oil_Pipeline  \n",
       "175                                   https://www.gem.wiki/Basra-Aqaba_Oil_Pipeline  \n",
       "939                  https://www.gem.wiki/Paradip_Numaligarh_Crude_Pipeline_(PNCPL)  \n",
       "172                    https://www.gem.wiki/East_African_Crude_Oil_Pipeline_(EACOP)  \n",
       "976                    https://www.gem.wiki/New_Mundra%E2%80%93Panipat_Oil_Pipeline  \n",
       "144                                          https://www.gem.wiki/Seahorse_Pipeline  \n",
       "30                                 https://www.gem.wiki/Trans_Mountain_Oil_Pipeline  \n",
       "165                   https://www.gem.wiki/Lamu_Port-South_Sudan_(LAPSSET)_Pipeline  \n",
       "780                                        https://www.gem.wiki/Vostok_Oil_Pipeline  \n",
       "777                                        https://www.gem.wiki/Willow_Oil_Pipeline  \n",
       "532  https://www.gem.wiki/Sabz_Ab-Tang_Fanni-Shazand-Rey_crude_oil_pipeline_project  \n",
       "169                   https://www.gem.wiki/Lamu_Port-South_Sudan_(LAPSSET)_Pipeline  \n",
       "548                             https://www.gem.wiki/Baku-Novorossiysk_Oil_Pipeline  \n",
       "254             https://www.gem.wiki/Oman_Main_Line%E2%80%93Ras_Markaz_Oil_Pipeline  "
      ]
     },
     "execution_count": 308,
     "metadata": {},
     "output_type": "execute_result"
    }
   ],
   "source": [
    "pipes_df_orig.loc[(pipes_df_orig.Fuel=='Oil')&\n",
    "                  (pipes_df_orig.Status.isin(['Proposed','Construction']))].sort_values(\n",
    "    'LengthMergedKm', ascending=False)[['PipelineName','SegmentName','LengthKnownKm','LengthEstimateKm','CapacityBOEd','Countries','Status','StartYearEarliest','Wiki']][:15]\n"
   ]
  },
  {
   "cell_type": "markdown",
   "id": "0ca10b06-27b4-49d0-aea2-4d3aa2801104",
   "metadata": {},
   "source": [
    "## km of pipeline with 2022, 2023 start years"
   ]
  },
  {
   "cell_type": "code",
   "execution_count": 309,
   "id": "41b7f22a-4a20-4a9f-a581-8cbabbe35d5b",
   "metadata": {},
   "outputs": [
    {
     "name": "stdout",
     "output_type": "stream",
     "text": [
      "2179.75 1193.4\n",
      "2867.86 1347.2800000000004\n"
     ]
    }
   ],
   "source": [
    "# for the key points\n",
    "print(pipes_indev_startyear.loc['Construction',2022],\n",
    "      pipes_indev_startyear.loc['Construction',2023])\n",
    "\n",
    "print(pipes_indev_startyear.loc['Proposed',2022],\n",
    "      pipes_indev_startyear.loc['Proposed',2023])"
   ]
  },
  {
   "cell_type": "markdown",
   "id": "7e63a1db-0270-4177-ab3e-938d02509c20",
   "metadata": {},
   "source": [
    "## km of gas pipelines globally in development\n",
    "\n",
    "note this doesn't match up exactly with regional length calculations, so we've used the regional calculation totals instead (193,365.9)"
   ]
  },
  {
   "cell_type": "code",
   "execution_count": 310,
   "id": "75452ad0-615e-4b4d-89d5-4891d71902d2",
   "metadata": {},
   "outputs": [
    {
     "data": {
      "text/plain": [
       "24166.07"
      ]
     },
     "execution_count": 310,
     "metadata": {},
     "output_type": "execute_result"
    }
   ],
   "source": [
    "pipes_df_calc = pipes_df_orig.copy()\n",
    "pipes_df_calc.replace('--',numpy.nan,inplace=True)\n",
    "pipes_df_calc[(pipes_df_calc['Status'].isin(['Proposed','Construction'])) &\n",
    "        (pipes_df_calc['Fuel']=='Oil')]['LengthMergedKm'].sum()"
   ]
  },
  {
   "cell_type": "code",
   "execution_count": 311,
   "id": "06e0be20-2354-41c1-9838-53e0fa458e9b",
   "metadata": {},
   "outputs": [],
   "source": [
    "regional_km_sums_df = pandas.DataFrame(index=region_list, columns=status_list)\n",
    "\n",
    "for status in status_list:\n",
    "    regional_km_sums_df[status] = pipes_df_calc[(pipes_df_calc['Fuel']=='Oil') &\n",
    "                                                (pipes_df_calc['Status']==status)].groupby('StartRegion')['LengthMergedKm'].sum()\n",
    "\n",
    "regional_km_sums_df['P+C'] = regional_km_sums_df[['Proposed','Construction']].sum(axis=1)\n",
    "total_row = regional_km_sums_df.sum(axis=0)\n",
    "total_row.name = 'Total'\n",
    "#regional_km_sums_df.append(total_row)"
   ]
  },
  {
   "cell_type": "markdown",
   "id": "db6f746e",
   "metadata": {},
   "source": [
    "## country shares analysis"
   ]
  },
  {
   "cell_type": "code",
   "execution_count": 312,
   "id": "636ea038",
   "metadata": {},
   "outputs": [
    {
     "data": {
      "text/plain": [
       "24166.12"
      ]
     },
     "execution_count": 312,
     "metadata": {},
     "output_type": "execute_result"
    }
   ],
   "source": [
    "country_ratios_df[(country_ratios_df['Status'].isin(['Proposed','Construction'])) &\n",
    "               (country_ratios_df['Fuel']=='Oil')]['MergedKmByCountry'].sum()"
   ]
  },
  {
   "cell_type": "markdown",
   "id": "4d2b5f76-95a2-4233-b862-d6a0fad3bb0f",
   "metadata": {},
   "source": [
    "## num in dev globally, whether capacity expansions or not"
   ]
  },
  {
   "cell_type": "code",
   "execution_count": 313,
   "id": "fc4d8622-e562-4ccc-b0c8-7b0f78ae6d77",
   "metadata": {},
   "outputs": [
    {
     "name": "stdout",
     "output_type": "stream",
     "text": [
      "capacity expansion projects: (9, 88)\n",
      "non-zero length projects: (78, 88)\n"
     ]
    }
   ],
   "source": [
    "print(\"capacity expansion projects:\",\n",
    "    pipes_df_orig.loc[(pipes_df_orig.Fuel=='Oil')&\n",
    "                  (pipes_df_orig.Status.isin(['Proposed','Construction']))&\n",
    "                  (pipes_df_orig.Route.isin(['Capacity expansion only','Bidirectionality upgrade only']))].shape)\n",
    "\n",
    "print(\"non-zero length projects:\",\n",
    "      pipes_df_orig.loc[(pipes_df_orig.Fuel=='Oil')&\n",
    "                  (pipes_df_orig.Status.isin(['Proposed','Construction']))&\n",
    "                  (~pipes_df_orig.Route.isin(['Capacity expansion only','Bidirectionality upgrade only']))].shape)"
   ]
  },
  {
   "cell_type": "code",
   "execution_count": 314,
   "id": "3ff38068-b04e-4a03-9cb7-b4dfd85049d6",
   "metadata": {},
   "outputs": [],
   "source": [
    "cr = country_ratios_df.loc[(country_ratios_df.Status.isin(['Construction','Proposed']))&\n",
    "                      (country_ratios_df.Fuel=='Oil')]"
   ]
  },
  {
   "cell_type": "code",
   "execution_count": 315,
   "id": "49124e66-1a88-4281-bafb-d72fdd5c7c1a",
   "metadata": {},
   "outputs": [
    {
     "data": {
      "text/plain": [
       "ProjectID\n",
       "P0033    1\n",
       "P0358    1\n",
       "P0531    1\n",
       "P0538    3\n",
       "P0541    2\n",
       "        ..\n",
       "P3863    1\n",
       "P3864    1\n",
       "P3865    1\n",
       "P3888    1\n",
       "P3889    1\n",
       "Name: MergedKmByPipeline, Length: 78, dtype: int64"
      ]
     },
     "execution_count": 315,
     "metadata": {},
     "output_type": "execute_result"
    }
   ],
   "source": [
    "cr.loc[cr.MergedKmByPipeline!=0].groupby('ProjectID')['MergedKmByPipeline'].count()"
   ]
  },
  {
   "cell_type": "code",
   "execution_count": 316,
   "id": "21a96bd8-e464-4591-aba3-79d35a185654",
   "metadata": {},
   "outputs": [
    {
     "name": "stdout",
     "output_type": "stream",
     "text": [
      "481   2,000,000.0\n",
      "490      62,000.0\n",
      "491      89,000.0\n",
      "495     319,478.9\n",
      "517     150,000.0\n",
      "635     220,000.0\n",
      "695      70,000.0\n",
      "764     250,000.0\n",
      "890           NaN\n",
      "Name: CapacityBOEd, dtype: object\n",
      "                 Countries CapacityBOEd\n",
      "481           Saudi Arabia  2,000,000.0\n",
      "490              Argentina     62,000.0\n",
      "491              Argentina     89,000.0\n",
      "495     Kazakhstan, Russia    319,478.9\n",
      "517  Canada, United States    150,000.0\n",
      "635          United States    220,000.0\n",
      "695          United States     70,000.0\n",
      "764          United States    250,000.0\n",
      "890                  China          NaN\n"
     ]
    }
   ],
   "source": [
    "print(pipes_df_orig.loc[(pipes_df_orig.Fuel=='Oil')&\n",
    "                  (pipes_df_orig.Status.isin(['Proposed','Construction']))&\n",
    "                  (pipes_df_orig.Route.isin(['Capacity expansion only','Bidirectionality upgrade only']))]['CapacityBOEd'])\n",
    "\n",
    "\n",
    "print(pipes_df_orig.loc[(pipes_df_orig.Fuel=='Oil')&\n",
    "                  (pipes_df_orig.Status.isin(['Proposed','Construction']))&\n",
    "                  (pipes_df_orig.Route.isin(['Capacity expansion only','Bidirectionality upgrade only']))][['Countries','CapacityBOEd']])"
   ]
  },
  {
   "cell_type": "code",
   "execution_count": null,
   "id": "82bb0830-0950-42ac-af86-18559005c4b1",
   "metadata": {},
   "outputs": [],
   "source": []
  }
 ],
 "metadata": {
  "kernelspec": {
   "display_name": "gem",
   "language": "python",
   "name": "gem"
  },
  "language_info": {
   "codemirror_mode": {
    "name": "ipython",
    "version": 3
   },
   "file_extension": ".py",
   "mimetype": "text/x-python",
   "name": "python",
   "nbconvert_exporter": "python",
   "pygments_lexer": "ipython3",
   "version": "3.9.9"
  }
 },
 "nbformat": 4,
 "nbformat_minor": 5
}
