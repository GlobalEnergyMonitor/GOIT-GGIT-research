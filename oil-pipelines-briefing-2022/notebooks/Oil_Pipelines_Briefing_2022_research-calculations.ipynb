{
 "cells": [
  {
   "cell_type": "code",
   "execution_count": 1,
   "id": "3b38c4c2",
   "metadata": {},
   "outputs": [],
   "source": [
    "import pandas\n",
    "\n",
    "import pygsheets\n",
    "import numpy\n",
    "import scipy\n",
    "import re\n",
    "\n",
    "import matplotlib\n",
    "import matplotlib.pyplot as mp\n",
    "import matplotlib.cm\n",
    "\n",
    "import textwrap\n",
    "import seaborn"
   ]
  },
  {
   "cell_type": "code",
   "execution_count": 2,
   "id": "7c4470f8",
   "metadata": {},
   "outputs": [],
   "source": [
    "# solarized colors\n",
    "solar_base03    = '#002b36' # darkest gray\n",
    "solar_base02    = '#073642'\n",
    "solar_base01    = '#586e75'\n",
    "solar_base00    = '#657b83'\n",
    "solar_base0     = '#839496' # light gray\n",
    "solar_base1     = '#93a1a1' # lightest gray\n",
    "solar_base2     = '#eee8d5' # dark white\n",
    "solar_base3     = '#fdf6e3' # light white\n",
    "solar_yellow    = '#b58900'\n",
    "solar_orange    = '#cb4b16'\n",
    "solar_red       = '#dc322f'\n",
    "solar_magenta   = '#d33682'\n",
    "solar_violet    = '#6c71c4'\n",
    "solar_blue      = '#268bd2'\n",
    "solar_cyan      = '#2aa198'\n",
    "solar_green     = '#859900'"
   ]
  },
  {
   "cell_type": "code",
   "execution_count": 3,
   "id": "e6865013-30c5-4b2d-ac08-3e3262eb80ab",
   "metadata": {},
   "outputs": [],
   "source": [
    "# GEM tracker colors\n",
    "# done using this: https://imagecolorpicker.com/\n",
    "#tracker_construction = tracker_red     = '#cb4b16'\n",
    "#tracker_proposed = tracker_yellow  = '#ffb342'\n",
    "#tracker_shelved = tracker_blue    = '#609ed0'\n",
    "#tracker_operating = tracker_brown   = '#976f5d'\n",
    "#tracker_cancelled = tracker_green   = '#93db92'\n",
    "#tracker_mothballed = tracker_gray = '#515151'"
   ]
  },
  {
   "cell_type": "code",
   "execution_count": 4,
   "id": "c7a2b377-3968-4c9f-a5fa-6f1dcb621dea",
   "metadata": {},
   "outputs": [],
   "source": [
    "sel_cmap = matplotlib.cm.get_cmap('Reds')\n",
    "tracker_operating = sel_cmap(0.999)\n",
    "tracker_construction = sel_cmap(0.8)\n",
    "tracker_proposed = sel_cmap(0.6)\n",
    "tracker_shelved = sel_cmap(0.4)\n",
    "tracker_cancelled = sel_cmap(0.2)"
   ]
  },
  {
   "cell_type": "markdown",
   "id": "21fd656f-8488-47be-99f6-21910ee47768",
   "metadata": {},
   "source": [
    "# pipelines to map"
   ]
  },
  {
   "cell_type": "code",
   "execution_count": 5,
   "id": "53e48006-7e35-4ec5-a1ff-edc8f191a9d3",
   "metadata": {},
   "outputs": [],
   "source": [
    "# add ProjectIDs for pipelines I mention"
   ]
  },
  {
   "cell_type": "markdown",
   "id": "c5e51996-e86d-4e84-81b9-adfed4434b8b",
   "metadata": {},
   "source": [
    "# import data directly from google sheets"
   ]
  },
  {
   "cell_type": "code",
   "execution_count": 6,
   "id": "029bc7eb-d141-4e01-a747-e0b5b03f1f53",
   "metadata": {},
   "outputs": [],
   "source": [
    "credentials_directory = '/Users/baird/Dropbox/_google-api/'\n",
    "gc = pygsheets.authorize(client_secret=credentials_directory+'client_secret.json')\n",
    "#spreadsheet = gc.open_by_key('1foPLE6K-uqFlaYgLPAUxzeXfDO5wOOqE7tibNHeqTek')\n",
    "spreadsheet = gc.open_by_key('1IQ_g9PCr6pexDvEBoi5jboNfamJtPQ63ezxyq0qRsu0') # specific doc for briefing\n",
    "\n",
    "#spreadsheet[1] \"Gas Pipelines\" tab is the second index\n",
    "gas_pipes = spreadsheet.worksheet('title','Gas pipelines').get_as_df(start='A2')\n",
    "oil_pipes = spreadsheet.worksheet('title', 'Oil/NGL pipelines').get_as_df(start='A2')\n",
    "\n",
    "#gas_pipes = gas_pipes.drop('WKTFormat', axis=1) # delete WKTFormat column\n",
    "#oil_pipes = oil_pipes.drop('WKTFormat', axis=1)\n",
    "\n",
    "# delete columns that aren't the same in the sheets, to concatenate them...\n",
    "columns_not_in_oil = list(set(gas_pipes.columns)-set(oil_pipes.columns))\n",
    "columns_not_in_gas = list(set(oil_pipes.columns)-set(gas_pipes.columns))\n",
    "gas_pipes.drop(columns=columns_not_in_oil, axis=1, inplace=True)\n",
    "oil_pipes.drop(columns=columns_not_in_gas, axis=1, inplace=True)\n",
    "\n",
    "pipes_df_orig = pandas.concat([oil_pipes, gas_pipes], ignore_index=True)\n",
    "#pipes_df_orig = pipes_df_orig[pipes_df_orig['Status']!='N/A'] # for container rows\n",
    "#pipes_df_orig = pipes_df_orig[pipes_df_orig['ProjectID']!=''] # for empty rows at bottom\n",
    "\n",
    "#get other relevant sheets\n",
    "country_ratios_df = spreadsheet.worksheet('title', 'Country ratios by pipeline').get_as_df()\n",
    "owners_df = spreadsheet.worksheet('title', 'Pipeline operators/owners (1/3)').get_as_df(start='A2')\n",
    "owners_df.set_index('ProjectID', inplace=True)"
   ]
  },
  {
   "cell_type": "code",
   "execution_count": 7,
   "id": "f9c4b167-6c13-4082-8a14-6e9c51dce0d1",
   "metadata": {},
   "outputs": [],
   "source": [
    "pipes_df_orig.to_excel('pipes_df_orig.xlsx', index=False)\n",
    "owners_df.to_excel('owners_df.xlsx', index=False)\n",
    "country_ratios_df.to_excel('country_ratios_df.xlsx', index=False)"
   ]
  },
  {
   "cell_type": "markdown",
   "id": "e6e9c406-eada-4fde-8471-dbbb5aeb2e75",
   "metadata": {},
   "source": [
    "# for offline excel file"
   ]
  },
  {
   "cell_type": "raw",
   "id": "8ae2c53a-c04e-49c7-8e19-d6af2c90a429",
   "metadata": {},
   "source": [
    "#spreadsheet = pandas.read_excel()\n",
    "\n",
    "file_name = '/Users/baird/Dropbox/_gem-docs/reports-gem-writing/briefing-oil-pipelies-2022/Pipelines (Gas_Oil_NGL) - main - for offline edits.xlsx'\n",
    "gas_pipes = pandas.read_excel(file_name, sheet_name='Gas pipelines')#.get_as_df()\n",
    "oil_pipes = pandas.read_excel(file_name, sheet_name='OilNGL pipelines')\n",
    "\n",
    "columns_not_in_oil = list(set(gas_pipes.columns)-set(oil_pipes.columns))\n",
    "columns_not_in_gas = list(set(oil_pipes.columns)-set(gas_pipes.columns))\n",
    "gas_pipes.drop(columns=columns_not_in_oil, axis=1, inplace=True)\n",
    "oil_pipes.drop(columns=columns_not_in_gas, axis=1, inplace=True)\n",
    "\n",
    "pipes_df_orig = pandas.concat([oil_pipes, gas_pipes], ignore_index=True)\n",
    "\n",
    "country_ratios_df = pandas.read_excel(file_name, sheet_name='Country ratios by pipeline')\n",
    "owners_df = pandas.read_excel(file_name, sheet_name='Pipeline operatorsowners (13)')\n",
    "owners_df.set_index('ProjectID', inplace=True)"
   ]
  },
  {
   "cell_type": "raw",
   "id": "5bcff50f-0510-499b-ae74-ddc8ecb6e508",
   "metadata": {},
   "source": [
    "# corrections\n",
    "\n",
    "# P2584 has a \"no route\" instead of \"capacity expansion only\"\n",
    "pipes_df_orig.loc[pipes_df_orig.ProjectID=='P2584','Route'] = ''\n",
    "pipes_df_orig.loc[pipes_df_orig.ProjectID=='P2584','RouteAccuracy'] = 'no route'"
   ]
  },
  {
   "cell_type": "code",
   "execution_count": 8,
   "id": "39042d18-e87b-408d-9b78-35cdac5a94fe",
   "metadata": {},
   "outputs": [
    {
     "data": {
      "text/plain": [
       "Index(['PipelineNetworkContainer', 'PipelineName', 'SegmentName', 'Wiki',\n",
       "       'ProjectID', 'Fuel', 'Countries', 'Researcher', 'LastUpdated',\n",
       "       'ResearcherNotes', 'Status', 'Owner', 'ProposalYear',\n",
       "       'ConstructionYear', 'StartYear1', 'StartYear2', 'StartYear3', 'Delayed',\n",
       "       'DelayType', 'StartYearEarliest', 'ShelvedYear', 'CancelledYear',\n",
       "       'StopYear', 'ShelvedCancelledType', 'Capacity', 'CapacityUnits',\n",
       "       'CapacityBcm/y', 'CapacityBOEd', 'LengthKnown', 'LengthKnownUnits',\n",
       "       'LengthKnownKm', 'LengthEstimateKm', 'LengthMergedKm', 'Diameter',\n",
       "       'DiameterUnits', 'FuelSource', 'StartLocation',\n",
       "       'StartPrefecture/District', 'StartState/Province', 'StartCountry',\n",
       "       'StartRegion', 'EndLocation', 'EndPrefecture/District',\n",
       "       'EndState/Province', 'EndCountry', 'EndRegion', 'NumberOfCountries',\n",
       "       'Cost', 'CostUnits', 'CostYear', 'CostType', 'CostUSD', 'FID',\n",
       "       'FIDYear', 'Opposition', 'ESJNotes', 'EuropeTracker', 'PCI3', 'PCI4',\n",
       "       'PCI5', 'Route', 'RouteAccuracy', 'RouteMapNotes', 'OtherEnglishNames',\n",
       "       'OtherLanguagePrimaryPipelineName',\n",
       "       'OtherLanguageAlternativePipelineNames', 'OtherLanguageSegmentName',\n",
       "       'OtherLanguageWikiPage', 'CostUSDPerKm', 'WKTFormat',\n",
       "       'AlternateRouteProjectIDs'],\n",
       "      dtype='object')"
      ]
     },
     "execution_count": 8,
     "metadata": {},
     "output_type": "execute_result"
    }
   ],
   "source": [
    "pipes_df_orig.columns"
   ]
  },
  {
   "cell_type": "markdown",
   "id": "c03ad170",
   "metadata": {},
   "source": [
    "## replace \"--\" with NaN, removing empty rows"
   ]
  },
  {
   "cell_type": "code",
   "execution_count": 9,
   "id": "53a9af81",
   "metadata": {},
   "outputs": [],
   "source": [
    "# replace -- entries with NaN\n",
    "pipes_df_orig = pipes_df_orig.replace('--', numpy.nan)\n",
    "pipes_df_orig = pipes_df_orig[pipes_df_orig['PipelineName']!='']\n",
    "pipes_df_orig = pipes_df_orig[pipes_df_orig['Wiki']!='']"
   ]
  },
  {
   "cell_type": "code",
   "execution_count": 10,
   "id": "96a2ab51",
   "metadata": {},
   "outputs": [],
   "source": [
    "country_ratios_df['StartYearEarliest'].replace('--', numpy.nan, inplace=True)\n",
    "country_ratios_df['LengthKnownKm'].replace('--', numpy.nan, inplace=True)\n",
    "country_ratios_df['CostUSD'].replace('--', numpy.nan, inplace=True)\n",
    "country_ratios_df['CostUSDPerKm'].replace('--', numpy.nan, inplace=True)\n",
    "country_ratios_df['LengthKnownKmByCountry'].replace('--', numpy.nan, inplace=True)"
   ]
  },
  {
   "cell_type": "markdown",
   "id": "a28ad2a3",
   "metadata": {},
   "source": [
    "# km by country, km by region calculations"
   ]
  },
  {
   "cell_type": "code",
   "execution_count": 11,
   "id": "b69bb35e",
   "metadata": {},
   "outputs": [],
   "source": [
    "status_list = ['Proposed', 'Construction', 'Shelved', 'Cancelled', 'Operating', 'Idle', 'Mothballed', 'Retired']\n",
    "country_list = sorted(list(set(country_ratios_df['Country'])))\n",
    "region_list = sorted(list(set(country_ratios_df['Region'])))"
   ]
  },
  {
   "cell_type": "code",
   "execution_count": 12,
   "id": "0f861f96",
   "metadata": {},
   "outputs": [
    {
     "name": "stdout",
     "output_type": "stream",
     "text": [
      "===country-level calculations===\n",
      "Proposed\n",
      "Construction\n",
      "Shelved\n",
      "Cancelled\n",
      "Operating\n",
      "Idle\n",
      "Mothballed\n",
      "Retired\n",
      "===regional calculations===\n",
      "Proposed\n",
      "Construction\n",
      "Shelved\n",
      "Cancelled\n",
      "Operating\n",
      "Idle\n",
      "Mothballed\n",
      "Retired\n"
     ]
    }
   ],
   "source": [
    "country_ratios_gas_df = country_ratios_df[country_ratios_df['Fuel']=='Oil']\n",
    "\n",
    "km_by_country_df = pandas.DataFrame(columns=status_list, index=country_list)\n",
    "km_by_region_df = pandas.DataFrame(columns=status_list, index=region_list)\n",
    "\n",
    "print('===country-level calculations===')\n",
    "for status in status_list:\n",
    "    print(status)\n",
    "    country_ratios_gas_df_status = country_ratios_gas_df[country_ratios_gas_df['Status']==status]\n",
    "    km_by_country_df[status] = country_ratios_gas_df_status.groupby('Country')['MergedKmByCountry'].sum()\n",
    "\n",
    "print('===regional calculations===')\n",
    "for status in status_list:\n",
    "    print(status)\n",
    "    country_ratios_gas_df_status = country_ratios_gas_df[country_ratios_gas_df['Status']==status]\n",
    "    km_by_region_df[status] = country_ratios_gas_df_status.groupby('Region')['MergedKmByCountry'].sum()\n",
    "\n",
    "# # fill NaN with 0.0\n",
    "km_by_region_df = km_by_region_df.fillna(0)\n",
    "km_by_country_df = km_by_country_df.fillna(0)"
   ]
  },
  {
   "cell_type": "code",
   "execution_count": 13,
   "id": "f27e1492-6919-456b-8519-a35e89c76f34",
   "metadata": {},
   "outputs": [],
   "source": [
    "km_by_region_df['Proposed+Construction'] = km_by_region_df[['Proposed','Construction']].sum(axis=1)\n",
    "km_by_region_df.sort_values(by='Proposed+Construction', inplace=True)\n",
    "km_by_region_df = km_by_region_df[['Proposed', 'Construction', 'Proposed+Construction', 'Shelved', 'Cancelled', 'Operating', 'Idle', 'Mothballed', 'Retired']]\n",
    "km_by_region_df.sort_values('Proposed+Construction', ascending=False, inplace=True)"
   ]
  },
  {
   "cell_type": "code",
   "execution_count": 14,
   "id": "38ef2764-c801-46f8-a82d-4803101a1f3b",
   "metadata": {},
   "outputs": [],
   "source": [
    "km_by_country_df['Proposed+Construction'] = km_by_country_df[['Proposed','Construction']].sum(axis=1)\n",
    "km_by_country_df.sort_values(by='Proposed+Construction', inplace=True)\n",
    "km_by_country_df = km_by_country_df[['Proposed', 'Construction', 'Proposed+Construction', 'Shelved', 'Cancelled', 'Operating', 'Idle', 'Mothballed', 'Retired']]\n",
    "km_by_country_df.sort_values('Proposed+Construction', ascending=False, inplace=True)"
   ]
  },
  {
   "cell_type": "markdown",
   "id": "15cab3a4-a85f-4813-8e3f-944747729946",
   "metadata": {},
   "source": [
    "## add Total row to km by country/region"
   ]
  },
  {
   "cell_type": "raw",
   "id": "7e73b537-02b9-4206-b45f-541ea2e9863f",
   "metadata": {},
   "source": [
    "if 'Total' not in km_by_country_df.index:\n",
    "    total_country = km_by_country_df.sum(axis=0)\n",
    "    total_country.name='Total'\n",
    "    km_by_country_df = km_by_country_df.append(total_country)\n",
    "\n",
    "if 'Total' not in km_by_region_df.index:\n",
    "    total_region = km_by_region_df.sum(axis=0)\n",
    "    total_region.name='Total'\n",
    "    km_by_region_df = km_by_region_df.append(total_region)\n",
    "\n",
    "#km_by_region_df.to_excel('GasKmByRegion.xlsx')\n",
    "#km_by_country_df.to_excel('GasKmByCountry.xlsx')"
   ]
  },
  {
   "cell_type": "markdown",
   "id": "c277d8a8-4ca4-491d-a172-2576d3346773",
   "metadata": {},
   "source": [
    "# projects by country, by region"
   ]
  },
  {
   "cell_type": "code",
   "execution_count": 86,
   "id": "9ff9810a-e55c-4a5c-89e4-7dbb2e4c6a48",
   "metadata": {},
   "outputs": [
    {
     "name": "stdout",
     "output_type": "stream",
     "text": [
      "===country-level calculations===\n",
      "Proposed\n",
      "Construction\n",
      "Shelved\n",
      "Cancelled\n",
      "Operating\n",
      "Idle\n",
      "Mothballed\n",
      "Retired\n",
      "===regional calculations===\n",
      "Proposed\n",
      "Construction\n",
      "Shelved\n",
      "Cancelled\n",
      "Operating\n",
      "Idle\n",
      "Mothballed\n",
      "Retired\n"
     ]
    }
   ],
   "source": [
    "country_ratios_gas_df = country_ratios_df[country_ratios_df['Fuel']=='Oil']\n",
    "\n",
    "num_by_country_df = pandas.DataFrame(columns=status_list, index=country_list)\n",
    "num_by_region_df = pandas.DataFrame(columns=status_list, index=region_list)\n",
    "\n",
    "print('===country-level calculations===')\n",
    "for status in status_list:\n",
    "    print(status)\n",
    "    country_ratios_gas_df_status = country_ratios_gas_df[country_ratios_gas_df['Status']==status]\n",
    "    num_by_country_df[status] = country_ratios_gas_df_status.groupby('ProjectID')['MergedKmByCountry'].sum()\n",
    "\n",
    "print('===regional calculations===')\n",
    "for status in status_list:\n",
    "    print(status)\n",
    "    country_ratios_gas_df_status = country_ratios_gas_df[country_ratios_gas_df['Status']==status]\n",
    "    num_by_region_df[status] = country_ratios_gas_df_status.groupby('Region')['MergedKmByCountry'].sum()\n",
    "\n",
    "# # fill NaN with 0.0\n",
    "num_by_region_df = num_by_region_df.fillna(0)\n",
    "num_by_country_df = num_by_country_df.fillna(0)"
   ]
  },
  {
   "cell_type": "code",
   "execution_count": 87,
   "id": "1f4be13c-7995-4ad3-8309-72b5804a0e23",
   "metadata": {},
   "outputs": [
    {
     "data": {
      "text/html": [
       "<div>\n",
       "<style scoped>\n",
       "    .dataframe tbody tr th:only-of-type {\n",
       "        vertical-align: middle;\n",
       "    }\n",
       "\n",
       "    .dataframe tbody tr th {\n",
       "        vertical-align: top;\n",
       "    }\n",
       "\n",
       "    .dataframe thead th {\n",
       "        text-align: right;\n",
       "    }\n",
       "</style>\n",
       "<table border=\"1\" class=\"dataframe\">\n",
       "  <thead>\n",
       "    <tr style=\"text-align: right;\">\n",
       "      <th></th>\n",
       "      <th>Proposed</th>\n",
       "      <th>Construction</th>\n",
       "      <th>Proposed+Construction</th>\n",
       "      <th>Shelved</th>\n",
       "      <th>Cancelled</th>\n",
       "      <th>Operating</th>\n",
       "      <th>Idle</th>\n",
       "      <th>Mothballed</th>\n",
       "      <th>Retired</th>\n",
       "    </tr>\n",
       "  </thead>\n",
       "  <tbody>\n",
       "    <tr>\n",
       "      <th>United States</th>\n",
       "      <td>2913.14</td>\n",
       "      <td>136.75</td>\n",
       "      <td>3049.89</td>\n",
       "      <td>1681.75</td>\n",
       "      <td>24221.22</td>\n",
       "      <td>98015.09</td>\n",
       "      <td>0.0</td>\n",
       "      <td>0.00</td>\n",
       "      <td>1432.00</td>\n",
       "    </tr>\n",
       "    <tr>\n",
       "      <th>India</th>\n",
       "      <td>1194.00</td>\n",
       "      <td>1630.00</td>\n",
       "      <td>2824.00</td>\n",
       "      <td>0.00</td>\n",
       "      <td>1338.00</td>\n",
       "      <td>8859.33</td>\n",
       "      <td>0.0</td>\n",
       "      <td>0.00</td>\n",
       "      <td>0.00</td>\n",
       "    </tr>\n",
       "    <tr>\n",
       "      <th>Russia</th>\n",
       "      <td>2094.20</td>\n",
       "      <td>557.01</td>\n",
       "      <td>2651.21</td>\n",
       "      <td>0.00</td>\n",
       "      <td>541.52</td>\n",
       "      <td>40091.91</td>\n",
       "      <td>0.0</td>\n",
       "      <td>52.00</td>\n",
       "      <td>618.00</td>\n",
       "    </tr>\n",
       "    <tr>\n",
       "      <th>China</th>\n",
       "      <td>1046.59</td>\n",
       "      <td>1486.08</td>\n",
       "      <td>2532.67</td>\n",
       "      <td>0.00</td>\n",
       "      <td>8477.06</td>\n",
       "      <td>25271.28</td>\n",
       "      <td>0.0</td>\n",
       "      <td>0.00</td>\n",
       "      <td>6825.55</td>\n",
       "    </tr>\n",
       "    <tr>\n",
       "      <th>Kenya</th>\n",
       "      <td>2357.65</td>\n",
       "      <td>0.00</td>\n",
       "      <td>2357.65</td>\n",
       "      <td>0.00</td>\n",
       "      <td>1011.53</td>\n",
       "      <td>0.00</td>\n",
       "      <td>0.0</td>\n",
       "      <td>0.00</td>\n",
       "      <td>0.00</td>\n",
       "    </tr>\n",
       "    <tr>\n",
       "      <th>...</th>\n",
       "      <td>...</td>\n",
       "      <td>...</td>\n",
       "      <td>...</td>\n",
       "      <td>...</td>\n",
       "      <td>...</td>\n",
       "      <td>...</td>\n",
       "      <td>...</td>\n",
       "      <td>...</td>\n",
       "      <td>...</td>\n",
       "    </tr>\n",
       "    <tr>\n",
       "      <th>Syria</th>\n",
       "      <td>0.00</td>\n",
       "      <td>0.00</td>\n",
       "      <td>0.00</td>\n",
       "      <td>0.00</td>\n",
       "      <td>0.25</td>\n",
       "      <td>0.75</td>\n",
       "      <td>0.0</td>\n",
       "      <td>426.33</td>\n",
       "      <td>171.27</td>\n",
       "    </tr>\n",
       "    <tr>\n",
       "      <th>San Marino</th>\n",
       "      <td>0.00</td>\n",
       "      <td>0.00</td>\n",
       "      <td>0.00</td>\n",
       "      <td>0.00</td>\n",
       "      <td>0.00</td>\n",
       "      <td>0.00</td>\n",
       "      <td>0.0</td>\n",
       "      <td>0.00</td>\n",
       "      <td>0.00</td>\n",
       "    </tr>\n",
       "    <tr>\n",
       "      <th>Saudi Arabia</th>\n",
       "      <td>0.00</td>\n",
       "      <td>0.00</td>\n",
       "      <td>0.00</td>\n",
       "      <td>0.00</td>\n",
       "      <td>2.95</td>\n",
       "      <td>4873.80</td>\n",
       "      <td>0.0</td>\n",
       "      <td>1356.72</td>\n",
       "      <td>843.14</td>\n",
       "    </tr>\n",
       "    <tr>\n",
       "      <th>Senegal</th>\n",
       "      <td>0.00</td>\n",
       "      <td>0.00</td>\n",
       "      <td>0.00</td>\n",
       "      <td>0.00</td>\n",
       "      <td>0.00</td>\n",
       "      <td>0.00</td>\n",
       "      <td>0.0</td>\n",
       "      <td>0.00</td>\n",
       "      <td>0.00</td>\n",
       "    </tr>\n",
       "    <tr>\n",
       "      <th>Denmark</th>\n",
       "      <td>0.00</td>\n",
       "      <td>0.00</td>\n",
       "      <td>0.00</td>\n",
       "      <td>0.00</td>\n",
       "      <td>0.00</td>\n",
       "      <td>955.35</td>\n",
       "      <td>0.0</td>\n",
       "      <td>0.00</td>\n",
       "      <td>0.00</td>\n",
       "    </tr>\n",
       "  </tbody>\n",
       "</table>\n",
       "<p>160 rows × 9 columns</p>\n",
       "</div>"
      ],
      "text/plain": [
       "               Proposed  Construction  Proposed+Construction  Shelved  \\\n",
       "United States   2913.14        136.75                3049.89  1681.75   \n",
       "India           1194.00       1630.00                2824.00     0.00   \n",
       "Russia          2094.20        557.01                2651.21     0.00   \n",
       "China           1046.59       1486.08                2532.67     0.00   \n",
       "Kenya           2357.65          0.00                2357.65     0.00   \n",
       "...                 ...           ...                    ...      ...   \n",
       "Syria              0.00          0.00                   0.00     0.00   \n",
       "San Marino         0.00          0.00                   0.00     0.00   \n",
       "Saudi Arabia       0.00          0.00                   0.00     0.00   \n",
       "Senegal            0.00          0.00                   0.00     0.00   \n",
       "Denmark            0.00          0.00                   0.00     0.00   \n",
       "\n",
       "               Cancelled  Operating  Idle  Mothballed  Retired  \n",
       "United States   24221.22   98015.09   0.0        0.00  1432.00  \n",
       "India            1338.00    8859.33   0.0        0.00     0.00  \n",
       "Russia            541.52   40091.91   0.0       52.00   618.00  \n",
       "China            8477.06   25271.28   0.0        0.00  6825.55  \n",
       "Kenya            1011.53       0.00   0.0        0.00     0.00  \n",
       "...                  ...        ...   ...         ...      ...  \n",
       "Syria               0.25       0.75   0.0      426.33   171.27  \n",
       "San Marino          0.00       0.00   0.0        0.00     0.00  \n",
       "Saudi Arabia        2.95    4873.80   0.0     1356.72   843.14  \n",
       "Senegal             0.00       0.00   0.0        0.00     0.00  \n",
       "Denmark             0.00     955.35   0.0        0.00     0.00  \n",
       "\n",
       "[160 rows x 9 columns]"
      ]
     },
     "execution_count": 87,
     "metadata": {},
     "output_type": "execute_result"
    }
   ],
   "source": [
    "km_by_country_df"
   ]
  },
  {
   "cell_type": "markdown",
   "id": "99fe358c",
   "metadata": {},
   "source": [
    "# numbers of pipes finished in a given year"
   ]
  },
  {
   "cell_type": "code",
   "execution_count": 88,
   "id": "198c9165",
   "metadata": {},
   "outputs": [],
   "source": [
    "# count pipelines that are already operating\n",
    "pipes_started = pipes_df_orig.copy()\n",
    "pipes_started['StartYearEarliest'].replace(numpy.nan,'',inplace=True)\n",
    "pipes_started = pipes_started[(pipes_started['Status'].isin(['Operating'])) &\n",
    "                              (pipes_started['Fuel']=='Oil')]\n",
    "pipes_started_sum = pipes_started.groupby('StartYearEarliest')['LengthMergedKm'].sum()"
   ]
  },
  {
   "cell_type": "code",
   "execution_count": 89,
   "id": "8d9559e8-1fc7-49c1-833f-6e19e425e498",
   "metadata": {},
   "outputs": [],
   "source": [
    "# count km of pipeline for each start year\n",
    "pipes_started_startyear = pipes_df_orig.copy()\n",
    "pipes_started_startyear['StartYearEarliest'].replace(numpy.nan,'',inplace=True)\n",
    "pipes_started_startyear = pipes_started_startyear[(pipes_started_startyear['Status'].isin(['Operating'])) &\n",
    "                              (pipes_started_startyear['Fuel']=='Oil')]\n",
    "#pipes_started_startyear_sum = pipes_started_startyear.groupby('StartYearLatest')['LengthMergedKm'].sum()"
   ]
  },
  {
   "cell_type": "code",
   "execution_count": 90,
   "id": "b944ca0c-f362-4d07-a142-78b1523e988d",
   "metadata": {},
   "outputs": [],
   "source": [
    "# indev pipelines = Proposed or Construction\n",
    "pipes_indev = pipes_df_orig.copy()\n",
    "pipes_indev = pipes_indev[pipes_indev['Fuel']=='Oil']\n",
    "pipes_indev = pipes_indev.groupby('Status')['LengthMergedKm'].sum()"
   ]
  },
  {
   "cell_type": "code",
   "execution_count": 91,
   "id": "d15a4dbf-af9f-4c41-bb90-bc045c099402",
   "metadata": {},
   "outputs": [],
   "source": [
    "pipes_indev_to2030 = pipes_df_orig.copy()\n",
    "pipes_indev_to2030 = pipes_indev_to2030[(pipes_indev_to2030['Fuel']=='Oil') &\n",
    "                                        (pipes_indev_to2030['Status'].isin(['Proposed','Construction','Shelved'])) &\n",
    "                                        (pipes_indev_to2030['StartYearEarliest'].isin(list(range(2023,2031))))]\n",
    "pipes_indev_to2030 = pipes_indev_to2030.groupby('Status')['LengthMergedKm'].sum()"
   ]
  },
  {
   "cell_type": "code",
   "execution_count": 92,
   "id": "5bd752fe-875a-4bc2-8429-0910473d52c6",
   "metadata": {},
   "outputs": [],
   "source": [
    "pipes_indev_startyear = pipes_df_orig.copy()\n",
    "pipes_indev_startyear = pipes_indev_startyear[(pipes_indev_startyear['Status'].isin(['Proposed','Construction','Shelved'])) &\n",
    "                                              (pipes_indev_startyear['Fuel']=='Oil')]\n",
    "pipes_indev_startyear = pipes_indev_startyear.groupby(['Status','StartYearEarliest'])['LengthMergedKm'].sum()"
   ]
  },
  {
   "cell_type": "markdown",
   "id": "5a075334-5559-443b-a8bf-c2cc32c2ece7",
   "metadata": {},
   "source": [
    "## Fig 2 again - 2023–2030, go back to 2008"
   ]
  },
  {
   "cell_type": "code",
   "execution_count": 93,
   "id": "4bb554ce-432a-4f7f-b397-12aefd7cdead",
   "metadata": {},
   "outputs": [
    {
     "data": {
      "image/png": "[encoded data removed]",
      "text/plain": [
       "<Figure size 234x288 with 2 Axes>"
      ]
     },
     "metadata": {
      "needs_background": "light"
     },
     "output_type": "display_data"
    }
   ],
   "source": [
    "font_size = 7\n",
    "\n",
    "ytop = 20000\n",
    "ytop2 = 20000\n",
    "\n",
    "fig = mp.figure(figsize=(3.25,4))\n",
    "\n",
    "widths=[15,3]\n",
    "spec = fig.add_gridspec(ncols=2, nrows=1, width_ratios=widths)\n",
    "\n",
    "ax = fig.add_subplot(spec[0,0])\n",
    "\n",
    "#axpos = ax.get_position()\n",
    "ax.bar(pipes_started_sum.index.values[-15:-1], pipes_started_sum.values[-15:-1],\n",
    "       color=tracker_operating, label='Operating') # color=solar_base03\n",
    "ax.tick_params(labelsize=font_size)\n",
    "ax.tick_params('x', rotation=45)\n",
    "#ax.set_xlabel('start year', size=font_size)\n",
    "ax.set_ylabel('km', size=font_size)\n",
    "\n",
    "ax.set_xlim(2007.25, 2021.75)\n",
    "ax.set_ylim(0, ytop)\n",
    "\n",
    "ax.xaxis.set_major_locator(matplotlib.ticker.MaxNLocator(integer=True))\n",
    "\n",
    "ax2 = fig.add_subplot(spec[0,1])\n",
    "ax2.set_ylim(0, ytop2)\n",
    "ax2.set_xlim(0.25,3.75)\n",
    "#ax2pos = ax2.get_position()\n",
    "xvals = [1,2,3]\n",
    "\n",
    "#colors = [solar_orange, solar_yellow, '0.75']\n",
    "colors = [tracker_construction, tracker_proposed, tracker_shelved]\n",
    "status = ['Construction', 'Proposed', 'Shelved']\n",
    "ax2_list = []\n",
    "for x,c,s in zip(xvals,colors,status):\n",
    "    ax2_list.append(ax2.bar(x, pipes_indev[s],\n",
    "             color=c, label=s))\n",
    "\n",
    "ax_h, ax_l = ax.get_legend_handles_labels()\n",
    "ax2_h, ax2_l = ax2.get_legend_handles_labels()\n",
    "\n",
    "#ax2.set_xlabel('possible\\nfuture', size=font_size)\n",
    "#ax2.set_yticklabels([])\n",
    "ax2.set_xticklabels([])\n",
    "ax2.tick_params(labelsize=font_size)\n",
    "ax2.set_xticks([])\n",
    "\n",
    "ax2.yaxis.tick_right()\n",
    "ax2.set_ylabel('km', fontsize=font_size, rotation=-90, labelpad=10)\n",
    "ax2.yaxis.set_label_position('right')\n",
    "#ax2.set_yticklabels([])\n",
    "#ax2.set_yticks([])\n",
    "\n",
    "ax.legend(handles=ax_h+ax2_h, fontsize=font_size, frameon=False)\n",
    "\n",
    "axpos = ax.get_position()\n",
    "ax2pos = ax2.get_position()\n",
    "\n",
    "ax.spines['right'].set_visible(False)\n",
    "ax.spines['top'].set_visible(False)\n",
    "\n",
    "ax2.spines['left'].set_visible(False)\n",
    "ax2.spines['top'].set_visible(False)\n",
    "#ax2.spines['right'].set_visible(False)\n",
    "\n",
    "ax.set_title('commissioned by year', fontsize=font_size)\n",
    "ax2.set_title('future', fontsize=font_size)\n",
    "\n",
    "fig.tight_layout()#w_pad=0.05)\n",
    "#fig.subplots_adjust(wspace=0.05, hspace=None)\n",
    "\n",
    "mp.savefig('saved-figures/oil-pipelines_km-by-start-year-backto2008.png', bbox_inches='tight', transparent=True, dpi=600)\n",
    "mp.savefig('saved-figures/oil-pipelines_km-by-start-year-backto2008.pdf', bbox_inches='tight', transparent=True)"
   ]
  },
  {
   "cell_type": "markdown",
   "id": "278b1549-5bbe-4760-91b1-f2061af98c42",
   "metadata": {},
   "source": [
    "## plus/minus 8 years"
   ]
  },
  {
   "cell_type": "code",
   "execution_count": 94,
   "id": "022cf8e1-137e-41ae-a1b5-9715078d82d9",
   "metadata": {},
   "outputs": [
    {
     "data": {
      "image/png": "[encoded data removed]",
      "text/plain": [
       "<Figure size 234x288 with 2 Axes>"
      ]
     },
     "metadata": {
      "needs_background": "light"
     },
     "output_type": "display_data"
    }
   ],
   "source": [
    "font_size = 7\n",
    "\n",
    "ytop = 20000\n",
    "ytop2 = 20000\n",
    "\n",
    "fig = mp.figure(figsize=(3.25,4))\n",
    "\n",
    "widths=[15,3]\n",
    "spec = fig.add_gridspec(ncols=2, nrows=1, width_ratios=widths)\n",
    "\n",
    "ax = fig.add_subplot(spec[0,0])\n",
    "\n",
    "#axpos = ax.get_position()\n",
    "ax.bar(pipes_started_sum.index.values[-15:-1], pipes_started_sum.values[-15:-1],\n",
    "       color=tracker_operating, label='Operating') # color=solar_base03\n",
    "ax.tick_params(labelsize=font_size)\n",
    "ax.tick_params('x', rotation=45)\n",
    "#ax.set_xlabel('start year', size=font_size)\n",
    "ax.set_ylabel('km', size=font_size)\n",
    "\n",
    "ax.set_xlim(2007.25, 2021.75)\n",
    "ax.set_ylim(0, ytop)\n",
    "\n",
    "ax.xaxis.set_major_locator(matplotlib.ticker.MaxNLocator(integer=True))\n",
    "\n",
    "ax2 = fig.add_subplot(spec[0,1])\n",
    "ax2.set_ylim(0, ytop2)\n",
    "ax2.set_xlim(0.25,3.75)\n",
    "#ax2pos = ax2.get_position()\n",
    "xvals = [1,2,3]\n",
    "\n",
    "#colors = [solar_orange, solar_yellow, '0.75']\n",
    "colors = [tracker_construction, tracker_proposed, tracker_shelved]\n",
    "status = ['Construction', 'Proposed', 'Shelved']\n",
    "status_alt = ['Construction\\n(beyond 2030)', 'Proposed\\n(beyond 2030)', 'Shelved\\n(beyond 2030)']\n",
    "ax2_list = []\n",
    "\n",
    "for x,c,s in zip(xvals,colors,status):\n",
    "    ax2_list.append(ax2.bar(x, pipes_indev_to2030[s],\n",
    "             color=c, label=s))\n",
    "\n",
    "for x,c,s,s_alt in zip(xvals,colors,status,status_alt):\n",
    "    ax2_list.append(ax2.bar(x, pipes_indev[s], bottom=pipes_indev_to2030[s],\n",
    "             color=c, label=s_alt, alpha=0.333))\n",
    "\n",
    "ax_h, ax_l = ax.get_legend_handles_labels()\n",
    "ax2_h, ax2_l = ax2.get_legend_handles_labels()\n",
    "\n",
    "#ax2.set_xlabel('possible\\nfuture', size=font_size)\n",
    "#ax2.set_yticklabels([])\n",
    "ax2.set_xticklabels([])\n",
    "ax2.tick_params(labelsize=font_size)\n",
    "ax2.set_xticks([])\n",
    "\n",
    "ax2.yaxis.tick_right()\n",
    "ax2.set_ylabel('km', fontsize=font_size, rotation=-90, labelpad=10)\n",
    "ax2.yaxis.set_label_position('right')\n",
    "#ax2.set_yticklabels([])\n",
    "#ax2.set_yticks([])\n",
    "\n",
    "ax.legend(handles=ax_h+ax2_h, fontsize=font_size, frameon=False)\n",
    "\n",
    "axpos = ax.get_position()\n",
    "ax2pos = ax2.get_position()\n",
    "\n",
    "ax.spines['right'].set_visible(False)\n",
    "ax.spines['top'].set_visible(False)\n",
    "\n",
    "ax2.spines['left'].set_visible(False)\n",
    "ax2.spines['top'].set_visible(False)\n",
    "#ax2.spines['right'].set_visible(False)\n",
    "\n",
    "ax.set_title('commissioned by year', fontsize=font_size)\n",
    "ax2.set_title('future', fontsize=font_size)\n",
    "\n",
    "fig.tight_layout()#w_pad=0.05)\n",
    "#fig.subplots_adjust(wspace=0.05, hspace=None)\n",
    "\n",
    "#mp.savefig('saved-figures/oil-pipelines_km-by-start-year-plusminus-8yrs.png', bbox_inches='tight', transparent=True, dpi=600)\n",
    "#mp.savefig('saved-figures/oil-pipelines_km-by-start-year-plusminus-8yrs.pdf', bbox_inches='tight', transparent=True)"
   ]
  },
  {
   "cell_type": "markdown",
   "id": "8298e2a6-3199-460c-8109-9f2ce4e9f680",
   "metadata": {},
   "source": [
    "## percent pipelines with start date (sanity check)"
   ]
  },
  {
   "cell_type": "code",
   "execution_count": 95,
   "id": "9b19f13c-1f8e-47eb-abff-f8ee5545ba20",
   "metadata": {},
   "outputs": [],
   "source": [
    "pipes_scratch = pipes_df_orig.copy()\n",
    "pipes_scratch = pipes_scratch[(pipes_scratch['Fuel']=='Oil') &\n",
    "                              (pipes_scratch['Status'].isin(['Proposed','Construction','Shelved']))]"
   ]
  },
  {
   "cell_type": "code",
   "execution_count": 96,
   "id": "29648ca1-6343-4e66-be8c-ba0f208326f8",
   "metadata": {},
   "outputs": [
    {
     "data": {
      "text/plain": [
       "(107, 71)"
      ]
     },
     "execution_count": 96,
     "metadata": {},
     "output_type": "execute_result"
    }
   ],
   "source": [
    "pipes_scratch.shape"
   ]
  },
  {
   "cell_type": "code",
   "execution_count": 97,
   "id": "4b88a57c-41dd-4d0a-a3ca-3c08d90892ac",
   "metadata": {},
   "outputs": [
    {
     "data": {
      "text/plain": [
       "0.6074766355140186"
      ]
     },
     "execution_count": 97,
     "metadata": {},
     "output_type": "execute_result"
    }
   ],
   "source": [
    "pipes_scratch[~pipes_scratch['StartYearEarliest'].isnull()]['StartYearEarliest'].count()/pipes_scratch.shape[0]\n"
   ]
  },
  {
   "cell_type": "markdown",
   "id": "358e0310",
   "metadata": {},
   "source": [
    "## regional pipelines started in given year"
   ]
  },
  {
   "cell_type": "code",
   "execution_count": 98,
   "id": "bc05d721",
   "metadata": {},
   "outputs": [],
   "source": [
    "years_array = numpy.arange( float(pipes_df_orig['StartYearEarliest'].min()), float(pipes_df_orig['StartYearEarliest'].max())+1)\n",
    "regions_startyear_sums_df = pandas.DataFrame(numpy.nan, index=years_array, columns=region_list)"
   ]
  },
  {
   "cell_type": "code",
   "execution_count": 99,
   "id": "b1fca66b",
   "metadata": {},
   "outputs": [],
   "source": [
    "#pipes_started = pipes_df.copy()[(pipes_df['Status'].isin(['Operating'])) & pipes_df['Fuel']=='Gas']\n",
    "#pipes_started_sum = pipes_started.groupby('StartYearLatest')['LengthMergedKm'].sum()\n",
    "\n",
    "for region in region_list:\n",
    "    pipes_started = pipes_df_orig.copy()[(pipes_df_orig['Status'].isin(['Operating','Retired','Idle'])) & \n",
    "                                    (pipes_df_orig['Fuel']=='Oil')]\n",
    "    pipes_started = pipes_started[pipes_started['StartRegion']==region]\n",
    "    pipes_started_sum_up = pipes_started.groupby('StartYearEarliest')['LengthMergedKm'].sum()\n",
    "    \n",
    "    regions_startyear_sums_df[region] = pipes_started_sum_up"
   ]
  },
  {
   "cell_type": "code",
   "execution_count": 100,
   "id": "37727617-097d-400e-82f7-bc396ec094aa",
   "metadata": {},
   "outputs": [],
   "source": [
    "if len(region_list)!=10:\n",
    "    region_list = region_list[2:]"
   ]
  },
  {
   "cell_type": "markdown",
   "id": "0299445b-00c6-448c-9db4-1ee541d487ed",
   "metadata": {},
   "source": [
    "## plot pie chart of regional values"
   ]
  },
  {
   "cell_type": "code",
   "execution_count": 101,
   "id": "226216bb-58ee-4c37-af1f-637b84aa56ea",
   "metadata": {},
   "outputs": [
    {
     "data": {
      "image/png": "[encoded data removed]",
      "text/plain": [
       "<Figure size 720x72 with 1 Axes>"
      ]
     },
     "metadata": {
      "needs_background": "light"
     },
     "output_type": "display_data"
    },
    {
     "data": {
      "image/png": "[encoded data removed]",
      "text/plain": [
       "<Figure size 720x72 with 1 Axes>"
      ]
     },
     "metadata": {
      "needs_background": "light"
     },
     "output_type": "display_data"
    }
   ],
   "source": [
    "# mess with some color pallettes\n",
    "#seaborn.color_palette('husl', 10)\n",
    "seaborn.palplot(seaborn.husl_palette(10, s=0.9, l=0.75, h=0.15))\n",
    "seaborn.palplot(seaborn.husl_palette(10, h=0.15))\n",
    "\n",
    "cmap_dark = seaborn.husl_palette(10, h=0.15, l=0.4, s=0.8, as_cmap=True)\n",
    "cmap_light = seaborn.husl_palette(10, h=0.15, s=1, as_cmap=True)"
   ]
  },
  {
   "cell_type": "code",
   "execution_count": 102,
   "id": "2efd35e5-b020-45a3-8686-1c1cf1e65bcb",
   "metadata": {},
   "outputs": [
    {
     "data": {
      "image/png": "[encoded data removed]",
      "text/plain": [
       "<Figure size 360x360 with 1 Axes>"
      ]
     },
     "metadata": {},
     "output_type": "display_data"
    }
   ],
   "source": [
    "font_size=7\n",
    "\n",
    "fig = mp.figure(figsize=(5,5))\n",
    "ax = fig.add_subplot(111)\n",
    "\n",
    "nwedges = region_list.__len__()\n",
    "region_order = km_by_region_df.index[:nwedges]\n",
    "\n",
    "pie_vals = km_by_region_df.loc[region_order]['Proposed+Construction'].values\n",
    "pie_labels = km_by_region_df.index\n",
    "pie_labels_km = km_by_region_df.loc[region_order]['Proposed+Construction'].apply(lambda x: f'\\n{int(round(x,-2)):,} km')\n",
    "pie_labels_perc = (km_by_region_df.loc[region_order]['Proposed+Construction'] / \n",
    "                   km_by_region_df.loc[region_order]['Proposed+Construction'].sum() * 100.).apply(lambda x: f'\\n{x:.1f}%')\n",
    "\n",
    "# ****************************************\n",
    "pie_vals_separated = km_by_region_df.loc[region_order][['Construction','Proposed']].values.flatten()\n",
    "#pie_labels_separated = numpy.array(list(zip(km_by_region_df.index[:-1],km_by_region_df.index[:-1]))).flatten()\n",
    "#pie_labels_km = km_by_region_df.loc[region_order]['Proposed+Construction'].apply(lambda x: f'\\n{int(round(x,-3)):,} km')\n",
    "\n",
    "nwedges_separated = 20\n",
    "cmap_light_10 = cmap_light(numpy.linspace(0,1,nwedges))\n",
    "cmap_dark_10 = cmap_dark(numpy.linspace(0,1,nwedges))\n",
    "\n",
    "pie_labels = [i+j+k for i,j,k in zip(pie_labels, pie_labels_km, pie_labels_perc)]\n",
    "pie_width = 0.666\n",
    "\n",
    "# ****************************************\n",
    "# size=0.3\n",
    "ax.pie(pie_vals_separated, \n",
    "       #labels=pie_labels,\n",
    "       #radius=1-size,\n",
    "       colors=numpy.hstack((cmap_light_10, cmap_dark_10)).reshape(20,-1),\n",
    "       wedgeprops=dict(width=pie_width),\n",
    "       textprops={'fontsize': font_size})\n",
    "ax.pie(pie_vals, \n",
    "       labels=pie_labels,\n",
    "       #radius=1,\n",
    "       #bottom=0.25,\n",
    "       colors=None,#cmap(numpy.linspace(0,1,pie_vals.size))[::-1],\n",
    "       wedgeprops=dict(edgecolor='1', facecolor='None', linewidth=2, width=pie_width),\n",
    "       textprops={'fontsize': font_size})\n",
    "\n",
    "\n",
    "ax.tick_params(labelsize=font_size)\n",
    "\n",
    "fig.tight_layout()\n",
    "\n",
    "mp.savefig('saved-figures/oil-pipelines_pie-graph-country-pipelines-km.pdf', bbox_inches='tight', transparent=True)\n",
    "\n",
    "#mp.savefig('saved-figures/oil-pipelines_pie-graph-country-pipelines-km.png', \n",
    "#           bbox_inches='tight', \n",
    "#           transparent=True,\n",
    "#           dpi=600)"
   ]
  },
  {
   "cell_type": "markdown",
   "id": "712acc4e",
   "metadata": {},
   "source": [
    "# top 20 countries proposed+construction"
   ]
  },
  {
   "cell_type": "code",
   "execution_count": 103,
   "id": "e4961c91-d30b-4e76-9e26-94a0ae21ba70",
   "metadata": {},
   "outputs": [],
   "source": [
    "def adjust_spines(ax, spines):\n",
    "    for loc, spine in ax.spines.items():\n",
    "        if loc in spines:\n",
    "            spine.set_position(('outward', 10))  # outward by 10 points\n",
    "        else:\n",
    "            spine.set_color('none')  # don't draw spine\n",
    "\n",
    "    # turn off ticks where there is no spine\n",
    "    if 'left' in spines:\n",
    "        ax.yaxis.set_ticks_position('left')\n",
    "    else:\n",
    "        # no yaxis ticks\n",
    "        ax.yaxis.set_ticks([])\n",
    "\n",
    "    if 'bottom' in spines:\n",
    "        ax.xaxis.set_ticks_position('bottom')\n",
    "    else:\n",
    "        # no xaxis ticks\n",
    "        ax.xaxis.set_ticks([])"
   ]
  },
  {
   "cell_type": "code",
   "execution_count": 104,
   "id": "3cdebc59",
   "metadata": {
    "tags": []
   },
   "outputs": [
    {
     "data": {
      "image/png": "[encoded data removed]",
      "text/plain": [
       "<Figure size 486x288 with 1 Axes>"
      ]
     },
     "metadata": {
      "needs_background": "light"
     },
     "output_type": "display_data"
    }
   ],
   "source": [
    "font_size = 7\n",
    "fig = mp.figure(figsize=(6.75,4))\n",
    "nbars=20\n",
    "\n",
    "country_order = km_by_country_df.index[:nbars][::-1]\n",
    "\n",
    "ax = fig.add_subplot(111)\n",
    "\n",
    "ax.barh(numpy.arange(nbars), \n",
    "        km_by_country_df.loc[country_order]['Construction'].values, \n",
    "        facecolor=tracker_construction,#solar_orange, \n",
    "        label='Construction')\n",
    "\n",
    "ax.barh(numpy.arange(nbars), \n",
    "        km_by_country_df.loc[country_order]['Proposed'].values, \n",
    "        left=km_by_country_df.loc[country_order]['Construction'].values, \n",
    "        facecolor=tracker_proposed,#solar_yellow, \n",
    "        label='Proposed')\n",
    "\n",
    "ax.barh(numpy.arange(nbars), \n",
    "        km_by_country_df.loc[country_order]['Shelved'].values, \n",
    "        left=km_by_country_df.loc[country_order][['Proposed','Construction']].sum(axis=1).values, \n",
    "        facecolor=tracker_shelved,#'0.75', \n",
    "        label='Shelved')\n",
    "\n",
    "ax.barh(numpy.arange(nbars), \n",
    "        km_by_country_df.loc[country_order]['Cancelled'].values, \n",
    "        left=km_by_country_df.loc[country_order][['Proposed','Construction','Shelved']].sum(axis=1).values, \n",
    "        facecolor=tracker_cancelled,#'0.9', \n",
    "        label='Cancelled')\n",
    "\n",
    "ax.set_yticks(numpy.arange(nbars))\n",
    "ax.set_yticklabels(km_by_country_df.index[:nbars][::-1])\n",
    "ax.tick_params(labelsize=font_size)\n",
    "ax.tick_params('x', pad=0)\n",
    "ax.set_xlim(0,30000)\n",
    "#ax.set_ylim(-.75,19.75)\n",
    "ax.set_ylim(-.25,20)\n",
    "ax.set_xlabel('km', size=font_size)#, labelpad=10)\n",
    "ax.xaxis.set_ticks_position('top')\n",
    "ax.xaxis.set_label_position('top')\n",
    "\n",
    "ax.legend(fontsize=font_size, frameon=False, loc='lower right')\n",
    "\n",
    "ax.spines['right'].set_visible(False)\n",
    "ax.spines['left'].set_visible(False)\n",
    "ax.spines['bottom'].set_visible(False)\n",
    "\n",
    "#mp.savefig('saved-figures/oil-pipelines_top-20-countries.pdf', bbox_inches='tight', transparent=True)\n",
    "\n",
    "#adjust_spines(ax, ['top'])\n",
    "    \n",
    "mp.savefig('saved-figures/oil-pipelines_top-20-countries.png',\n",
    "          bbox_inches='tight', \n",
    "          transparent=True,\n",
    "          dpi=600)\n",
    "\n",
    "mp.savefig('saved-figures/oil-pipelines_top-20-countries.pdf',\n",
    "          bbox_inches='tight', \n",
    "          transparent=True)"
   ]
  },
  {
   "cell_type": "markdown",
   "id": "3b0980c1-af1a-4b83-a13e-ec9f8942a6ff",
   "metadata": {},
   "source": [
    "# top 20 without cancelled and shelved bars"
   ]
  },
  {
   "cell_type": "code",
   "execution_count": 105,
   "id": "f96b605e-5079-43e8-b117-5f5ebd2f708b",
   "metadata": {},
   "outputs": [
    {
     "data": {
      "image/png": "[encoded data removed]",
      "text/plain": [
       "<Figure size 486x288 with 1 Axes>"
      ]
     },
     "metadata": {
      "needs_background": "light"
     },
     "output_type": "display_data"
    }
   ],
   "source": [
    "sel_cmap = matplotlib.cm.get_cmap('Reds')\n",
    "#tracker_operating = sel_cmap(0.999)\n",
    "#tracker_construction = sel_cmap(0.8)\n",
    "#tracker_proposed = sel_cmap(0.6)\n",
    "#tracker_shelved = sel_cmap(0.4)\n",
    "#tracker_cancelled = sel_cmap(0.2)\n",
    "\n",
    "font_size = 7\n",
    "fig = mp.figure(figsize=(6.75,4))\n",
    "nbars=20\n",
    "\n",
    "country_order = km_by_country_df.index[:nbars][::-1]\n",
    "\n",
    "ax = fig.add_subplot(111)\n",
    "\n",
    "ax.barh(numpy.arange(nbars), \n",
    "        km_by_country_df.loc[country_order]['Construction'].values, \n",
    "        facecolor=sel_cmap(0.8),\n",
    "        label='Construction', height=0.6)\n",
    "\n",
    "ax.barh(numpy.arange(nbars), \n",
    "        km_by_country_df.loc[country_order]['Proposed'].values, \n",
    "        left=km_by_country_df.loc[country_order]['Construction'].values, \n",
    "        facecolor=sel_cmap(0.4),\n",
    "        label='Proposed', height=0.6)\n",
    "\n",
    "ax.set_yticks(numpy.arange(nbars))\n",
    "ax.set_yticklabels(km_by_country_df.index[:nbars][::-1])\n",
    "ax.tick_params(labelsize=font_size)\n",
    "ax.tick_params('x', pad=0)\n",
    "ax.set_xlim(0,3250)\n",
    "#ax.set_ylim(-.75,19.75)\n",
    "ax.set_ylim(-.25,20)\n",
    "ax.set_xlabel('km', size=font_size)#, labelpad=10)\n",
    "ax.xaxis.set_ticks_position('top')\n",
    "ax.xaxis.set_label_position('top')\n",
    "\n",
    "ax.legend(fontsize=font_size, frameon=False, loc='lower right')\n",
    "\n",
    "ax.spines['right'].set_visible(False)\n",
    "ax.spines['left'].set_visible(False)\n",
    "ax.spines['bottom'].set_visible(False)\n",
    "\n",
    "#ax.xaxis.grid(True, which='minor')\n",
    "ax.xaxis.set_minor_locator(matplotlib.ticker.AutoMinorLocator(2))\n",
    "\n",
    "\n",
    "#mp.savefig('saved-figures/oil-pipelines_top-20-countries.pdf', bbox_inches='tight', transparent=True)\n",
    "\n",
    "#adjust_spines(ax, ['top'])\n",
    "    \n",
    "mp.savefig('saved-figures/oil-pipelines_top-20-countries-no-cancelled-shelved.png',\n",
    "          bbox_inches='tight', \n",
    "          transparent=True,\n",
    "          dpi=600)\n",
    "\n",
    "mp.savefig('saved-figures/oil-pipelines_top-20-countries-no-cancelled-shelved.pdf',\n",
    "          bbox_inches='tight', \n",
    "          transparent=True)"
   ]
  },
  {
   "cell_type": "code",
   "execution_count": 106,
   "id": "3906d28f",
   "metadata": {},
   "outputs": [
    {
     "data": {
      "text/plain": [
       "0.8968378186968838"
      ]
     },
     "execution_count": 106,
     "metadata": {},
     "output_type": "execute_result"
    }
   ],
   "source": [
    "# ratio of China to India (how many times larger is km of Chinese pipelines than India?)\n",
    "km_by_country_df.loc['China']['Proposed+Construction']/km_by_country_df.loc['India']['Proposed+Construction']"
   ]
  },
  {
   "cell_type": "markdown",
   "id": "ef4ea45f-4fac-4b6f-a619-dd3ecd24b143",
   "metadata": {},
   "source": [
    "# parent analysis"
   ]
  },
  {
   "cell_type": "code",
   "execution_count": null,
   "id": "f176982d-4ab9-4f74-9178-de5b24772054",
   "metadata": {},
   "outputs": [],
   "source": [
    "owner_parent_calculations_df = pandas.DataFrame()#columns=['Parent','ComboID','FractionOwnership','CapacityInMtpa'])#index=terms_df_orig.ComboID)#, columns = ['Country','Region','CapacityInMtpa'])\n",
    "\n",
    "for idx,row in terms_df_orig.iterrows():\n",
    "    #print(row.ComboID)\n",
    "    parent_string = row.Parent\n",
    "    parent_list = re.sub(' \\[.*?\\]', '', parent_string).split('; ') # all entries must have a Owner [%] syntax\n",
    "    percent_list = [float(i.rstrip('%'))/100. for i in re.findall('\\\\d+(?:\\\\.\\\\d+)?%', parent_string)]\n",
    "\n",
    "    if parent_list.__len__()!=percent_list.__len__():\n",
    "        if percent_list==[]:\n",
    "            percent_list = [1/parent_list.__len__() for i in parent_list]\n",
    "            #print(parent_list)\n",
    "            #print(percent_list)\n",
    "            #print()\n",
    "            for p_idx,parent in enumerate(parent_list):\n",
    "                owner_parent_calculations_df = pandas.concat([owner_parent_calculations_df, \n",
    "                                                              pandas.DataFrame([{'Parent':parent, 'ComboID':row.ComboID, \n",
    "                                                                                 'FractionOwnership':percent_list[p_idx],\n",
    "                                                                                 'CapacityInMtpa':row.CapacityInMtpa}])])\n",
    "        else:\n",
    "            nmissing = parent_list.__len__()-percent_list.__len__()\n",
    "            # distribute nans evenly\n",
    "            total = numpy.nansum(percent_list)\n",
    "            leftover = 1-total\n",
    "            percent_list += [leftover/nmissing]*nmissing\n",
    "            #print(percent_list)\n",
    "            #print(parent_list)\n",
    "            print()\n",
    "\n",
    "    for p_idx,parent in enumerate(parent_list):\n",
    "        #print(percent_list)\n",
    "        owner_parent_calculations_df = pandas.concat([owner_parent_calculations_df, \n",
    "                                                      pandas.DataFrame([{'Parent':parent, 'ComboID':row.ComboID, \n",
    "                                                                         'FractionOwnership':percent_list[p_idx],\n",
    "                                                                         'CapacityInMtpa':row.CapacityInMtpa}])])\n",
    "    \n",
    "    #if parent_string\n",
    "    #    pass#print(parent_list)\n",
    "    #else:\n",
    "    #    print(parent_list)\n",
    "\n",
    "#owner_parent_calculations_df.index.name = 'ComboID'\n",
    "#owner_parent_calculations_df['Parent']\n",
    "#owner_parent_calculations_df['FractionOwnership']"
   ]
  },
  {
   "cell_type": "markdown",
   "id": "b188789e-d415-420f-83bd-7c3170e1f14c",
   "metadata": {},
   "source": [
    "# emissions estimates"
   ]
  },
  {
   "cell_type": "code",
   "execution_count": 107,
   "id": "6033b566-6170-4c74-aa4e-510c323da40c",
   "metadata": {},
   "outputs": [
    {
     "data": {
      "text/plain": [
       "0.6355140186915887"
      ]
     },
     "execution_count": 107,
     "metadata": {},
     "output_type": "execute_result"
    }
   ],
   "source": [
    "pipes_df_subset = pipes_df_orig.loc[(pipes_df_orig.Status.isin(['Construction','Proposed','Shelved']))&\n",
    "                                     (pipes_df_orig.Fuel=='Oil')]\n",
    "pipes_df_subset['CapacityBcm/y'].dropna().size / pipes_df_subset['CapacityBcm/y'].size"
   ]
  },
  {
   "cell_type": "code",
   "execution_count": 111,
   "id": "b26b51aa-79f1-4036-a0dc-c5ee47b854f4",
   "metadata": {},
   "outputs": [
    {
     "ename": "TypeError",
     "evalue": "cannot convert the series to <class 'float'>",
     "output_type": "error",
     "traceback": [
      "\u001b[0;31m---------------------------------------------------------------------------\u001b[0m",
      "\u001b[0;31mTypeError\u001b[0m                                 Traceback (most recent call last)",
      "Input \u001b[0;32mIn [111]\u001b[0m, in \u001b[0;36m<module>\u001b[0;34m\u001b[0m\n\u001b[0;32m----> 1\u001b[0m \u001b[38;5;28;43mfloat\u001b[39;49m\u001b[43m(\u001b[49m\u001b[43mpipes_df_subset\u001b[49m\u001b[43m[\u001b[49m\u001b[38;5;124;43m'\u001b[39;49m\u001b[38;5;124;43mCapacityBcm/y\u001b[39;49m\u001b[38;5;124;43m'\u001b[39;49m\u001b[43m]\u001b[49m\u001b[43m)\u001b[49m\n",
      "File \u001b[0;32m~/miniconda3/envs/gem/lib/python3.9/site-packages/pandas/core/series.py:185\u001b[0m, in \u001b[0;36m_coerce_method.<locals>.wrapper\u001b[0;34m(self)\u001b[0m\n\u001b[1;32m    183\u001b[0m \u001b[38;5;28;01mif\u001b[39;00m \u001b[38;5;28mlen\u001b[39m(\u001b[38;5;28mself\u001b[39m) \u001b[38;5;241m==\u001b[39m \u001b[38;5;241m1\u001b[39m:\n\u001b[1;32m    184\u001b[0m     \u001b[38;5;28;01mreturn\u001b[39;00m converter(\u001b[38;5;28mself\u001b[39m\u001b[38;5;241m.\u001b[39miloc[\u001b[38;5;241m0\u001b[39m])\n\u001b[0;32m--> 185\u001b[0m \u001b[38;5;28;01mraise\u001b[39;00m \u001b[38;5;167;01mTypeError\u001b[39;00m(\u001b[38;5;124mf\u001b[39m\u001b[38;5;124m\"\u001b[39m\u001b[38;5;124mcannot convert the series to \u001b[39m\u001b[38;5;132;01m{\u001b[39;00mconverter\u001b[38;5;132;01m}\u001b[39;00m\u001b[38;5;124m\"\u001b[39m)\n",
      "\u001b[0;31mTypeError\u001b[0m: cannot convert the series to <class 'float'>"
     ]
    }
   ],
   "source": [
    "float(pipes_df_subset['CapacityBcm/y'])"
   ]
  },
  {
   "cell_type": "code",
   "execution_count": null,
   "id": "0ee62eef-8c7a-4694-93e6-68c5e6e6c37b",
   "metadata": {},
   "outputs": [],
   "source": [
    "#64% of capacity data"
   ]
  },
  {
   "cell_type": "code",
   "execution_count": null,
   "id": "c9003dab-6449-4814-8f47-8a235a5eb435",
   "metadata": {},
   "outputs": [],
   "source": []
  },
  {
   "cell_type": "code",
   "execution_count": null,
   "id": "a83f8bcb-9d19-4e0f-8c81-f3099f26c143",
   "metadata": {},
   "outputs": [],
   "source": []
  },
  {
   "cell_type": "markdown",
   "id": "fb98d85a",
   "metadata": {},
   "source": [
    "# cost estimates (pipeline cost per km)"
   ]
  },
  {
   "cell_type": "markdown",
   "id": "ff21443c",
   "metadata": {},
   "source": [
    "## looking for cost outliers"
   ]
  },
  {
   "cell_type": "raw",
   "id": "d2e72d00-734c-411a-a5c5-0cc2dd860f68",
   "metadata": {},
   "source": [
    "outliers_projectids = ['P2509','P0173','P1297','P0174','P3188','P2551','P1382','P0477']\n",
    "\n",
    "#P1382 - grenada to trinidad an tobago - underwater, not really a formalized route yet, skipping\n",
    "#P0477 - South Valley Pipeline (egypt) - just seems too high to make sense\n",
    "#P3174 - Off-shore Gas Pipeline (all underwater, not quite representative?)"
   ]
  },
  {
   "cell_type": "raw",
   "id": "3e13a992-2999-4359-a3fe-cf80ce63ef32",
   "metadata": {},
   "source": [
    "pipes_df_orig.loc[pipes_df_orig['ProjectID'].isin(outliers_projectids)]"
   ]
  },
  {
   "cell_type": "raw",
   "id": "92414473-f983-4d0b-9cc9-ed27ee9ae6f3",
   "metadata": {},
   "source": [
    "1-pipes_df_orig[pipes_df_orig['CostUSDPerKm'].isnull()].shape[0]/pipes_df_orig.shape[0]"
   ]
  },
  {
   "cell_type": "raw",
   "id": "a5230758-742e-4071-8270-c0f507f06edc",
   "metadata": {},
   "source": [
    "#pipes_cost_outliers_df = pipes_df[(pipes_df['Fuel']=='Gas') & (pipes_df['Countries'].str.contains('India'))]\n",
    "pipes_cost_outliers_df = pipes_df_orig.copy()[(pipes_df_orig['Fuel']=='Gas')]\n",
    "pipes_cost_outliers_df = pipes_cost_outliers_df[~pipes_cost_outliers_df.ProjectID.isin(outliers_projectids)]"
   ]
  },
  {
   "cell_type": "code",
   "execution_count": 51,
   "id": "db9cff21-89db-4a17-83b8-358d095fb530",
   "metadata": {},
   "outputs": [],
   "source": [
    "# pull out only pipelines that have a KNOWN length AND a cost\n",
    "country_ratios_with_length_and_cost_df = country_ratios_df.copy()[(country_ratios_df['Fuel']=='Oil') & \n",
    "                                    (country_ratios_df['CostUSDPerKm'].notna()) & \n",
    "                                    (country_ratios_df['LengthKnownKmByCountry'].notna()) &\n",
    "                                    (country_ratios_df['LengthKnownKm']!=0)\n",
    "                                   ]\n",
    "#country_ratios_with_length_and_cost_df = country_ratios_with_length_and_cost_df[~country_ratios_with_length_and_cost_df.ProjectID.isin(outliers_projectids)]"
   ]
  },
  {
   "cell_type": "markdown",
   "id": "a60996ff-c763-46a6-8576-cffa78c2fcbb",
   "metadata": {},
   "source": [
    "### global mean value"
   ]
  },
  {
   "cell_type": "code",
   "execution_count": 52,
   "id": "a36c8c61",
   "metadata": {},
   "outputs": [
    {
     "data": {
      "text/plain": [
       "3324484.1064285715"
      ]
     },
     "execution_count": 52,
     "metadata": {},
     "output_type": "execute_result"
    }
   ],
   "source": [
    "country_ratios_with_length_and_cost_df['CostUSDPerKm'].drop_duplicates().mean()"
   ]
  },
  {
   "cell_type": "markdown",
   "id": "9754a8d9-5d70-448d-a6ae-75efcd2a6054",
   "metadata": {},
   "source": [
    "### calculate regional costs"
   ]
  },
  {
   "cell_type": "code",
   "execution_count": 53,
   "id": "47a82b04-9795-40a5-b329-43a3f0f86d41",
   "metadata": {},
   "outputs": [
    {
     "name": "stdout",
     "output_type": "stream",
     "text": [
      "Australia and New Zealand\n",
      "East Asia\n",
      "Eurasia\n",
      "Europe\n",
      "Latin America and the Caribbean\n",
      "Middle East and North Africa\n",
      "North America\n",
      "SE Asia\n",
      "South Asia\n",
      "Sub-Saharan Africa\n"
     ]
    }
   ],
   "source": [
    "pipes_oil_costs_region_df = pandas.DataFrame(0, index=region_list, columns=['CostUSDPerKm','NumberOfCosts','NumberOfLengths'])\n",
    "\n",
    "for region in region_list:\n",
    "    print(region)\n",
    "    country_ratios_region_df = country_ratios_with_length_and_cost_df[country_ratios_with_length_and_cost_df['Region']==region]\n",
    "    pipes_oil_costs_region_df.loc[region]['CostUSDPerKm'] = country_ratios_region_df['CostUSDPerKm'].mean()\n",
    "    pipes_oil_costs_region_df.loc[region]['NumberOfCosts'] = list(set(country_ratios_region_df['ProjectID'])).__len__()\n",
    "    pipes_oil_costs_region_df.loc[region]['NumberOfLengths'] = list(set(country_ratios_region_df['ProjectID'])).__len__()\n",
    "    "
   ]
  },
  {
   "cell_type": "markdown",
   "id": "f9ee664c-930f-47ca-b605-c84012c6e2df",
   "metadata": {},
   "source": [
    "### table for methodology with regional cost info"
   ]
  },
  {
   "cell_type": "code",
   "execution_count": 54,
   "id": "d3dda312-986c-4ea7-b628-ff1b4d1c257a",
   "metadata": {},
   "outputs": [
    {
     "data": {
      "text/html": [
       "<div>\n",
       "<style scoped>\n",
       "    .dataframe tbody tr th:only-of-type {\n",
       "        vertical-align: middle;\n",
       "    }\n",
       "\n",
       "    .dataframe tbody tr th {\n",
       "        vertical-align: top;\n",
       "    }\n",
       "\n",
       "    .dataframe thead th {\n",
       "        text-align: right;\n",
       "    }\n",
       "</style>\n",
       "<table border=\"1\" class=\"dataframe\">\n",
       "  <thead>\n",
       "    <tr style=\"text-align: right;\">\n",
       "      <th></th>\n",
       "      <th>CostUSDPerKm</th>\n",
       "      <th>NumberOfCosts</th>\n",
       "      <th>NumberOfLengths</th>\n",
       "    </tr>\n",
       "  </thead>\n",
       "  <tbody>\n",
       "    <tr>\n",
       "      <th>Australia and New Zealand</th>\n",
       "      <td>1214335</td>\n",
       "      <td>6</td>\n",
       "      <td>6</td>\n",
       "    </tr>\n",
       "    <tr>\n",
       "      <th>East Asia</th>\n",
       "      <td>1868961</td>\n",
       "      <td>5</td>\n",
       "      <td>5</td>\n",
       "    </tr>\n",
       "    <tr>\n",
       "      <th>Eurasia</th>\n",
       "      <td>17906814</td>\n",
       "      <td>9</td>\n",
       "      <td>9</td>\n",
       "    </tr>\n",
       "    <tr>\n",
       "      <th>Europe</th>\n",
       "      <td>3043186</td>\n",
       "      <td>6</td>\n",
       "      <td>6</td>\n",
       "    </tr>\n",
       "    <tr>\n",
       "      <th>Latin America and the Caribbean</th>\n",
       "      <td>1538293</td>\n",
       "      <td>5</td>\n",
       "      <td>5</td>\n",
       "    </tr>\n",
       "    <tr>\n",
       "      <th>Middle East and North Africa</th>\n",
       "      <td>2117173</td>\n",
       "      <td>15</td>\n",
       "      <td>15</td>\n",
       "    </tr>\n",
       "    <tr>\n",
       "      <th>North America</th>\n",
       "      <td>3611851</td>\n",
       "      <td>28</td>\n",
       "      <td>28</td>\n",
       "    </tr>\n",
       "    <tr>\n",
       "      <th>SE Asia</th>\n",
       "      <td>938922</td>\n",
       "      <td>6</td>\n",
       "      <td>6</td>\n",
       "    </tr>\n",
       "    <tr>\n",
       "      <th>South Asia</th>\n",
       "      <td>1711933</td>\n",
       "      <td>5</td>\n",
       "      <td>5</td>\n",
       "    </tr>\n",
       "    <tr>\n",
       "      <th>Sub-Saharan Africa</th>\n",
       "      <td>3603944</td>\n",
       "      <td>6</td>\n",
       "      <td>6</td>\n",
       "    </tr>\n",
       "  </tbody>\n",
       "</table>\n",
       "</div>"
      ],
      "text/plain": [
       "                                 CostUSDPerKm  NumberOfCosts  NumberOfLengths\n",
       "Australia and New Zealand             1214335              6                6\n",
       "East Asia                             1868961              5                5\n",
       "Eurasia                              17906814              9                9\n",
       "Europe                                3043186              6                6\n",
       "Latin America and the Caribbean       1538293              5                5\n",
       "Middle East and North Africa          2117173             15               15\n",
       "North America                         3611851             28               28\n",
       "SE Asia                                938922              6                6\n",
       "South Asia                            1711933              5                5\n",
       "Sub-Saharan Africa                    3603944              6                6"
      ]
     },
     "execution_count": 54,
     "metadata": {},
     "output_type": "execute_result"
    }
   ],
   "source": [
    "pipes_oil_costs_region_df"
   ]
  },
  {
   "cell_type": "markdown",
   "id": "22cb04dc-3e08-43ec-8efd-51387768d17f",
   "metadata": {},
   "source": [
    "### calculate country-level costs"
   ]
  },
  {
   "cell_type": "code",
   "execution_count": 55,
   "id": "a6370f0e-430d-45f3-9cf6-f063719dfe7b",
   "metadata": {},
   "outputs": [],
   "source": [
    "#country_list_for_costs = sorted(list(set(country_ratios_with_length_and_cost_df['Country'])))\n",
    "pipes_oil_costs_country_df = pandas.DataFrame(0, index=country_list, columns=['CostUSDPerKm','NumberOfCosts','NumberOfLengths'])\n",
    "\n",
    "for country in country_list:#_for_costs:\n",
    "    #print(country)\n",
    "    country_ratios_country_df = country_ratios_with_length_and_cost_df[country_ratios_with_length_and_cost_df['Country']==country]\n",
    "    pipes_oil_costs_country_df.loc[country,'CostUSDPerKm'] = country_ratios_country_df['CostUSDPerKm'].mean()\n",
    "    pipes_oil_costs_country_df.loc[country,'NumberOfCosts'] = list(set(country_ratios_country_df['ProjectID'])).__len__()\n",
    "    pipes_oil_costs_country_df.loc[country,'NumberOfLengths'] = list(set(country_ratios_country_df['ProjectID'])).__len__()"
   ]
  },
  {
   "cell_type": "markdown",
   "id": "f5242bbf-f1a7-4e90-9e91-90fbdb5bca2f",
   "metadata": {},
   "source": [
    "## table for regional totals"
   ]
  },
  {
   "cell_type": "code",
   "execution_count": 56,
   "id": "f804568d-5a95-490f-8245-d87042a15fee",
   "metadata": {},
   "outputs": [
    {
     "data": {
      "text/html": [
       "<div>\n",
       "<style scoped>\n",
       "    .dataframe tbody tr th:only-of-type {\n",
       "        vertical-align: middle;\n",
       "    }\n",
       "\n",
       "    .dataframe tbody tr th {\n",
       "        vertical-align: top;\n",
       "    }\n",
       "\n",
       "    .dataframe thead th {\n",
       "        text-align: right;\n",
       "    }\n",
       "</style>\n",
       "<table border=\"1\" class=\"dataframe\">\n",
       "  <thead>\n",
       "    <tr style=\"text-align: right;\">\n",
       "      <th></th>\n",
       "      <th>Proposed</th>\n",
       "      <th>Construction</th>\n",
       "      <th>Proposed+Construction</th>\n",
       "      <th>Shelved</th>\n",
       "      <th>Cancelled</th>\n",
       "      <th>Operating</th>\n",
       "      <th>Idle</th>\n",
       "      <th>Mothballed</th>\n",
       "      <th>Retired</th>\n",
       "    </tr>\n",
       "  </thead>\n",
       "  <tbody>\n",
       "    <tr>\n",
       "      <th>Sub-Saharan Africa</th>\n",
       "      <td>6497.81</td>\n",
       "      <td>1950.00</td>\n",
       "      <td>8447.81</td>\n",
       "      <td>0.00</td>\n",
       "      <td>2100.00</td>\n",
       "      <td>8932.05</td>\n",
       "      <td>0.00</td>\n",
       "      <td>0.00</td>\n",
       "      <td>0.00</td>\n",
       "    </tr>\n",
       "    <tr>\n",
       "      <th>North America</th>\n",
       "      <td>2913.14</td>\n",
       "      <td>1380.88</td>\n",
       "      <td>4294.02</td>\n",
       "      <td>8090.76</td>\n",
       "      <td>30867.84</td>\n",
       "      <td>126096.14</td>\n",
       "      <td>0.00</td>\n",
       "      <td>0.00</td>\n",
       "      <td>2698.42</td>\n",
       "    </tr>\n",
       "    <tr>\n",
       "      <th>Middle East and North Africa</th>\n",
       "      <td>1816.74</td>\n",
       "      <td>1903.00</td>\n",
       "      <td>3719.74</td>\n",
       "      <td>0.00</td>\n",
       "      <td>3587.42</td>\n",
       "      <td>26810.56</td>\n",
       "      <td>0.00</td>\n",
       "      <td>2368.08</td>\n",
       "      <td>1214.51</td>\n",
       "    </tr>\n",
       "    <tr>\n",
       "      <th>South Asia</th>\n",
       "      <td>1194.00</td>\n",
       "      <td>2316.00</td>\n",
       "      <td>3510.00</td>\n",
       "      <td>249.40</td>\n",
       "      <td>1692.10</td>\n",
       "      <td>9987.18</td>\n",
       "      <td>0.00</td>\n",
       "      <td>0.00</td>\n",
       "      <td>0.00</td>\n",
       "    </tr>\n",
       "    <tr>\n",
       "      <th>Eurasia</th>\n",
       "      <td>2094.20</td>\n",
       "      <td>768.23</td>\n",
       "      <td>2862.43</td>\n",
       "      <td>0.00</td>\n",
       "      <td>2635.32</td>\n",
       "      <td>46616.13</td>\n",
       "      <td>0.00</td>\n",
       "      <td>52.00</td>\n",
       "      <td>618.00</td>\n",
       "    </tr>\n",
       "    <tr>\n",
       "      <th>East Asia</th>\n",
       "      <td>1046.59</td>\n",
       "      <td>1486.08</td>\n",
       "      <td>2532.67</td>\n",
       "      <td>0.00</td>\n",
       "      <td>8477.06</td>\n",
       "      <td>26292.25</td>\n",
       "      <td>0.00</td>\n",
       "      <td>0.00</td>\n",
       "      <td>6825.55</td>\n",
       "    </tr>\n",
       "    <tr>\n",
       "      <th>Europe</th>\n",
       "      <td>799.90</td>\n",
       "      <td>207.00</td>\n",
       "      <td>1006.90</td>\n",
       "      <td>0.00</td>\n",
       "      <td>8232.21</td>\n",
       "      <td>27955.13</td>\n",
       "      <td>141.55</td>\n",
       "      <td>0.00</td>\n",
       "      <td>0.00</td>\n",
       "    </tr>\n",
       "    <tr>\n",
       "      <th>SE Asia</th>\n",
       "      <td>240.49</td>\n",
       "      <td>715.50</td>\n",
       "      <td>955.99</td>\n",
       "      <td>306.00</td>\n",
       "      <td>0.00</td>\n",
       "      <td>2159.86</td>\n",
       "      <td>0.00</td>\n",
       "      <td>0.00</td>\n",
       "      <td>0.00</td>\n",
       "    </tr>\n",
       "    <tr>\n",
       "      <th>Australia and New Zealand</th>\n",
       "      <td>0.00</td>\n",
       "      <td>0.00</td>\n",
       "      <td>0.00</td>\n",
       "      <td>0.00</td>\n",
       "      <td>0.00</td>\n",
       "      <td>1878.30</td>\n",
       "      <td>0.00</td>\n",
       "      <td>0.00</td>\n",
       "      <td>187.00</td>\n",
       "    </tr>\n",
       "    <tr>\n",
       "      <th>Latin America and the Caribbean</th>\n",
       "      <td>0.00</td>\n",
       "      <td>0.00</td>\n",
       "      <td>0.00</td>\n",
       "      <td>262.00</td>\n",
       "      <td>3730.84</td>\n",
       "      <td>13281.02</td>\n",
       "      <td>0.00</td>\n",
       "      <td>425.00</td>\n",
       "      <td>0.00</td>\n",
       "    </tr>\n",
       "    <tr>\n",
       "      <th>Total</th>\n",
       "      <td>16602.87</td>\n",
       "      <td>10726.69</td>\n",
       "      <td>27329.56</td>\n",
       "      <td>8908.16</td>\n",
       "      <td>61322.79</td>\n",
       "      <td>290008.62</td>\n",
       "      <td>141.55</td>\n",
       "      <td>2845.08</td>\n",
       "      <td>11543.48</td>\n",
       "    </tr>\n",
       "  </tbody>\n",
       "</table>\n",
       "</div>"
      ],
      "text/plain": [
       "                                 Proposed  Construction  \\\n",
       "Sub-Saharan Africa                6497.81       1950.00   \n",
       "North America                     2913.14       1380.88   \n",
       "Middle East and North Africa      1816.74       1903.00   \n",
       "South Asia                        1194.00       2316.00   \n",
       "Eurasia                           2094.20        768.23   \n",
       "East Asia                         1046.59       1486.08   \n",
       "Europe                             799.90        207.00   \n",
       "SE Asia                            240.49        715.50   \n",
       "Australia and New Zealand            0.00          0.00   \n",
       "Latin America and the Caribbean      0.00          0.00   \n",
       "Total                            16602.87      10726.69   \n",
       "\n",
       "                                 Proposed+Construction  Shelved  Cancelled  \\\n",
       "Sub-Saharan Africa                             8447.81     0.00    2100.00   \n",
       "North America                                  4294.02  8090.76   30867.84   \n",
       "Middle East and North Africa                   3719.74     0.00    3587.42   \n",
       "South Asia                                     3510.00   249.40    1692.10   \n",
       "Eurasia                                        2862.43     0.00    2635.32   \n",
       "East Asia                                      2532.67     0.00    8477.06   \n",
       "Europe                                         1006.90     0.00    8232.21   \n",
       "SE Asia                                         955.99   306.00       0.00   \n",
       "Australia and New Zealand                         0.00     0.00       0.00   \n",
       "Latin America and the Caribbean                   0.00   262.00    3730.84   \n",
       "Total                                         27329.56  8908.16   61322.79   \n",
       "\n",
       "                                 Operating    Idle  Mothballed   Retired  \n",
       "Sub-Saharan Africa                 8932.05    0.00        0.00      0.00  \n",
       "North America                    126096.14    0.00        0.00   2698.42  \n",
       "Middle East and North Africa      26810.56    0.00     2368.08   1214.51  \n",
       "South Asia                         9987.18    0.00        0.00      0.00  \n",
       "Eurasia                           46616.13    0.00       52.00    618.00  \n",
       "East Asia                         26292.25    0.00        0.00   6825.55  \n",
       "Europe                            27955.13  141.55        0.00      0.00  \n",
       "SE Asia                            2159.86    0.00        0.00      0.00  \n",
       "Australia and New Zealand          1878.30    0.00        0.00    187.00  \n",
       "Latin America and the Caribbean   13281.02    0.00      425.00      0.00  \n",
       "Total                            290008.62  141.55     2845.08  11543.48  "
      ]
     },
     "execution_count": 56,
     "metadata": {},
     "output_type": "execute_result"
    }
   ],
   "source": [
    "if 'Total' in km_by_region_df.index:\n",
    "    km_by_region_df.drop(index='Total', inplace=True)   \n",
    "    total = km_by_region_df.sum(axis=0)\n",
    "    total.name='Total'\n",
    "    km_by_region_df = km_by_region_df.append(total)\n",
    "\n",
    "else:\n",
    "    total = km_by_region_df.sum(axis=0)\n",
    "    total.name='Total'\n",
    "    km_by_region_df = km_by_region_df.append(total)\n",
    "\n",
    "km_by_region_df"
   ]
  },
  {
   "cell_type": "markdown",
   "id": "79570a43-7f2f-44cb-8a79-6029e80d0c65",
   "metadata": {},
   "source": [
    "## table for km by country"
   ]
  },
  {
   "cell_type": "code",
   "execution_count": 57,
   "id": "b42d6a47-d1a5-4a4b-acf8-7ec5f0fcc36e",
   "metadata": {},
   "outputs": [],
   "source": [
    "# saves all countries to an Excel file for reference\n",
    "\n",
    "km_by_country_df.sort_values('Proposed+Construction', ascending=False)\n",
    "\n",
    "if 'Total' in km_by_country_df.index:\n",
    "    km_by_country_df.drop(index='Total', inplace=True)   \n",
    "    total = km_by_country_df.sum(axis=0)\n",
    "    total.name='Total'\n",
    "    km_by_country_df = km_by_country_df.append(total)\n",
    "\n",
    "else:\n",
    "    total = km_by_country_df.sum(axis=0)\n",
    "    total.name='Total'\n",
    "    km_by_country_df = km_by_country_df.append(total)\n",
    "\n",
    "km_by_country_df.to_excel('saved-tables/GOIT-km-by-country.xlsx')"
   ]
  },
  {
   "cell_type": "markdown",
   "id": "44145d01-f597-498d-889a-73173abc7ef2",
   "metadata": {},
   "source": [
    "## table for stranded asset calculations"
   ]
  },
  {
   "cell_type": "code",
   "execution_count": 58,
   "id": "df30b04e",
   "metadata": {},
   "outputs": [
    {
     "data": {
      "text/html": [
       "<div>\n",
       "<style scoped>\n",
       "    .dataframe tbody tr th:only-of-type {\n",
       "        vertical-align: middle;\n",
       "    }\n",
       "\n",
       "    .dataframe tbody tr th {\n",
       "        vertical-align: top;\n",
       "    }\n",
       "\n",
       "    .dataframe thead th {\n",
       "        text-align: right;\n",
       "    }\n",
       "</style>\n",
       "<table border=\"1\" class=\"dataframe\">\n",
       "  <thead>\n",
       "    <tr style=\"text-align: right;\">\n",
       "      <th></th>\n",
       "      <th>Proposed</th>\n",
       "      <th>Construction</th>\n",
       "      <th>Proposed+Construction</th>\n",
       "      <th>Shelved</th>\n",
       "      <th>Cancelled</th>\n",
       "      <th>Operating</th>\n",
       "      <th>Idle</th>\n",
       "      <th>Mothballed</th>\n",
       "      <th>Retired</th>\n",
       "    </tr>\n",
       "  </thead>\n",
       "  <tbody>\n",
       "    <tr>\n",
       "      <th>Eurasia</th>\n",
       "      <td>37.5</td>\n",
       "      <td>13.8</td>\n",
       "      <td>51.3</td>\n",
       "      <td>0.0</td>\n",
       "      <td>47.2</td>\n",
       "      <td>834.7</td>\n",
       "      <td>0.0</td>\n",
       "      <td>0.9</td>\n",
       "      <td>11.1</td>\n",
       "    </tr>\n",
       "    <tr>\n",
       "      <th>Sub-Saharan Africa</th>\n",
       "      <td>23.4</td>\n",
       "      <td>7.0</td>\n",
       "      <td>30.4</td>\n",
       "      <td>0.0</td>\n",
       "      <td>7.6</td>\n",
       "      <td>32.2</td>\n",
       "      <td>0.0</td>\n",
       "      <td>0.0</td>\n",
       "      <td>0.0</td>\n",
       "    </tr>\n",
       "    <tr>\n",
       "      <th>North America</th>\n",
       "      <td>10.5</td>\n",
       "      <td>5.0</td>\n",
       "      <td>15.5</td>\n",
       "      <td>29.2</td>\n",
       "      <td>111.5</td>\n",
       "      <td>455.4</td>\n",
       "      <td>0.0</td>\n",
       "      <td>0.0</td>\n",
       "      <td>9.7</td>\n",
       "    </tr>\n",
       "    <tr>\n",
       "      <th>Middle East and North Africa</th>\n",
       "      <td>3.8</td>\n",
       "      <td>4.0</td>\n",
       "      <td>7.9</td>\n",
       "      <td>0.0</td>\n",
       "      <td>7.6</td>\n",
       "      <td>56.8</td>\n",
       "      <td>0.0</td>\n",
       "      <td>5.0</td>\n",
       "      <td>2.6</td>\n",
       "    </tr>\n",
       "    <tr>\n",
       "      <th>South Asia</th>\n",
       "      <td>2.0</td>\n",
       "      <td>4.0</td>\n",
       "      <td>6.0</td>\n",
       "      <td>0.4</td>\n",
       "      <td>2.9</td>\n",
       "      <td>17.1</td>\n",
       "      <td>0.0</td>\n",
       "      <td>0.0</td>\n",
       "      <td>0.0</td>\n",
       "    </tr>\n",
       "    <tr>\n",
       "      <th>East Asia</th>\n",
       "      <td>2.0</td>\n",
       "      <td>2.8</td>\n",
       "      <td>4.7</td>\n",
       "      <td>0.0</td>\n",
       "      <td>15.8</td>\n",
       "      <td>49.1</td>\n",
       "      <td>0.0</td>\n",
       "      <td>0.0</td>\n",
       "      <td>12.8</td>\n",
       "    </tr>\n",
       "    <tr>\n",
       "      <th>Europe</th>\n",
       "      <td>2.4</td>\n",
       "      <td>0.6</td>\n",
       "      <td>3.1</td>\n",
       "      <td>0.0</td>\n",
       "      <td>25.1</td>\n",
       "      <td>85.1</td>\n",
       "      <td>0.4</td>\n",
       "      <td>0.0</td>\n",
       "      <td>0.0</td>\n",
       "    </tr>\n",
       "    <tr>\n",
       "      <th>SE Asia</th>\n",
       "      <td>0.2</td>\n",
       "      <td>0.7</td>\n",
       "      <td>0.9</td>\n",
       "      <td>0.3</td>\n",
       "      <td>0.0</td>\n",
       "      <td>2.0</td>\n",
       "      <td>0.0</td>\n",
       "      <td>0.0</td>\n",
       "      <td>0.0</td>\n",
       "    </tr>\n",
       "    <tr>\n",
       "      <th>Australia and New Zealand</th>\n",
       "      <td>0.0</td>\n",
       "      <td>0.0</td>\n",
       "      <td>0.0</td>\n",
       "      <td>0.0</td>\n",
       "      <td>0.0</td>\n",
       "      <td>2.3</td>\n",
       "      <td>0.0</td>\n",
       "      <td>0.0</td>\n",
       "      <td>0.2</td>\n",
       "    </tr>\n",
       "    <tr>\n",
       "      <th>Latin America and the Caribbean</th>\n",
       "      <td>0.0</td>\n",
       "      <td>0.0</td>\n",
       "      <td>0.0</td>\n",
       "      <td>0.4</td>\n",
       "      <td>5.7</td>\n",
       "      <td>20.4</td>\n",
       "      <td>0.0</td>\n",
       "      <td>0.7</td>\n",
       "      <td>0.0</td>\n",
       "    </tr>\n",
       "    <tr>\n",
       "      <th>Total</th>\n",
       "      <td>81.9</td>\n",
       "      <td>37.8</td>\n",
       "      <td>119.8</td>\n",
       "      <td>30.3</td>\n",
       "      <td>223.4</td>\n",
       "      <td>1,555.2</td>\n",
       "      <td>0.4</td>\n",
       "      <td>6.6</td>\n",
       "      <td>36.4</td>\n",
       "    </tr>\n",
       "  </tbody>\n",
       "</table>\n",
       "</div>"
      ],
      "text/plain": [
       "                                 Proposed  Construction  \\\n",
       "Eurasia                              37.5          13.8   \n",
       "Sub-Saharan Africa                   23.4           7.0   \n",
       "North America                        10.5           5.0   \n",
       "Middle East and North Africa          3.8           4.0   \n",
       "South Asia                            2.0           4.0   \n",
       "East Asia                             2.0           2.8   \n",
       "Europe                                2.4           0.6   \n",
       "SE Asia                               0.2           0.7   \n",
       "Australia and New Zealand             0.0           0.0   \n",
       "Latin America and the Caribbean       0.0           0.0   \n",
       "Total                                81.9          37.8   \n",
       "\n",
       "                                 Proposed+Construction  Shelved  Cancelled  \\\n",
       "Eurasia                                           51.3      0.0       47.2   \n",
       "Sub-Saharan Africa                                30.4      0.0        7.6   \n",
       "North America                                     15.5     29.2      111.5   \n",
       "Middle East and North Africa                       7.9      0.0        7.6   \n",
       "South Asia                                         6.0      0.4        2.9   \n",
       "East Asia                                          4.7      0.0       15.8   \n",
       "Europe                                             3.1      0.0       25.1   \n",
       "SE Asia                                            0.9      0.3        0.0   \n",
       "Australia and New Zealand                          0.0      0.0        0.0   \n",
       "Latin America and the Caribbean                    0.0      0.4        5.7   \n",
       "Total                                            119.8     30.3      223.4   \n",
       "\n",
       "                                 Operating  Idle  Mothballed  Retired  \n",
       "Eurasia                              834.7   0.0         0.9     11.1  \n",
       "Sub-Saharan Africa                    32.2   0.0         0.0      0.0  \n",
       "North America                        455.4   0.0         0.0      9.7  \n",
       "Middle East and North Africa          56.8   0.0         5.0      2.6  \n",
       "South Asia                            17.1   0.0         0.0      0.0  \n",
       "East Asia                             49.1   0.0         0.0     12.8  \n",
       "Europe                                85.1   0.4         0.0      0.0  \n",
       "SE Asia                                2.0   0.0         0.0      0.0  \n",
       "Australia and New Zealand              2.3   0.0         0.0      0.2  \n",
       "Latin America and the Caribbean       20.4   0.0         0.7      0.0  \n",
       "Total                              1,555.2   0.4         6.6     36.4  "
      ]
     },
     "execution_count": 58,
     "metadata": {},
     "output_type": "execute_result"
    }
   ],
   "source": [
    "pandas.options.display.float_format = '{:,.1f}'.format\n",
    "#km_by_region_df.sort_index(inplace=True)\n",
    "#indices_without_total = list(km_by_region_df.index)\n",
    "#if 'Total' in indices_without_total:\n",
    "#    indices_without_total.remove('Total')\n",
    "\n",
    "capex_estimates_df = km_by_region_df.loc[region_list].multiply(pipes_oil_costs_region_df['CostUSDPerKm'].values, axis=0) / 1e9\n",
    "\n",
    "capex_estimates_df.sort_values('Proposed+Construction', ascending=False, inplace=True)\n",
    "\n",
    "total = capex_estimates_df.sum(axis=0)\n",
    "total.name='Total'\n",
    "capex_estimates_df = capex_estimates_df.append(total)\n",
    "\n",
    "capex_estimates_df"
   ]
  },
  {
   "cell_type": "markdown",
   "id": "a67ada29-6ccc-49b9-8ab1-6fdf3d6a116f",
   "metadata": {},
   "source": [
    "## print out country-level stranded assets for report discussion"
   ]
  },
  {
   "cell_type": "raw",
   "id": "54f8096a-370d-475e-9e0a-c93ae289ff8a",
   "metadata": {},
   "source": [
    "pandas.options.display.float_format = '{:,.1f}'.format\n",
    "\n",
    "these_countries = ['China','India','USA','Russia','Australia','Brazil']\n",
    "\n",
    "for cty in these_countries:\n",
    "    print(cty)\n",
    "    print(km_by_country_df.loc[cty]['Proposed'], ' km proposed')\n",
    "    print(km_by_country_df.loc[cty]['Construction'], ' km in construction')\n",
    "    print(km_by_country_df.loc[cty]['Proposed+Construction'], ' total km in development')\n",
    "    print(pipes_gas_costs_country_df.loc[cty])\n",
    "    print(pipes_gas_costs_country_df.loc[cty]['CostUSDPerKm']*km_by_country_df.loc[cty]/1e9)\n",
    "    print()"
   ]
  },
  {
   "cell_type": "markdown",
   "id": "63436c0a-add3-409e-968f-5686b16f1cee",
   "metadata": {},
   "source": [
    "## country-level table for stranded asset calculations"
   ]
  },
  {
   "cell_type": "code",
   "execution_count": 59,
   "id": "3994073c-4a12-42c7-8c13-c30dc34bd049",
   "metadata": {},
   "outputs": [
    {
     "data": {
      "text/html": [
       "<div>\n",
       "<style scoped>\n",
       "    .dataframe tbody tr th:only-of-type {\n",
       "        vertical-align: middle;\n",
       "    }\n",
       "\n",
       "    .dataframe tbody tr th {\n",
       "        vertical-align: top;\n",
       "    }\n",
       "\n",
       "    .dataframe thead th {\n",
       "        text-align: right;\n",
       "    }\n",
       "</style>\n",
       "<table border=\"1\" class=\"dataframe\">\n",
       "  <thead>\n",
       "    <tr style=\"text-align: right;\">\n",
       "      <th></th>\n",
       "      <th>Proposed</th>\n",
       "      <th>Construction</th>\n",
       "      <th>Proposed+Construction</th>\n",
       "      <th>Shelved</th>\n",
       "      <th>Cancelled</th>\n",
       "      <th>Operating</th>\n",
       "      <th>Idle</th>\n",
       "      <th>Mothballed</th>\n",
       "      <th>Retired</th>\n",
       "    </tr>\n",
       "  </thead>\n",
       "  <tbody>\n",
       "    <tr>\n",
       "      <th>Total</th>\n",
       "      <td>92.6</td>\n",
       "      <td>39.3</td>\n",
       "      <td>132.0</td>\n",
       "      <td>48.1</td>\n",
       "      <td>179.6</td>\n",
       "      <td>1,645.4</td>\n",
       "      <td>0.0</td>\n",
       "      <td>4.9</td>\n",
       "      <td>43.3</td>\n",
       "    </tr>\n",
       "    <tr>\n",
       "      <th>Russia</th>\n",
       "      <td>56.8</td>\n",
       "      <td>15.1</td>\n",
       "      <td>71.9</td>\n",
       "      <td>0.0</td>\n",
       "      <td>14.7</td>\n",
       "      <td>1,087.3</td>\n",
       "      <td>0.0</td>\n",
       "      <td>1.4</td>\n",
       "      <td>16.8</td>\n",
       "    </tr>\n",
       "    <tr>\n",
       "      <th>Poland</th>\n",
       "      <td>8.9</td>\n",
       "      <td>0.0</td>\n",
       "      <td>8.9</td>\n",
       "      <td>0.0</td>\n",
       "      <td>21.3</td>\n",
       "      <td>14.5</td>\n",
       "      <td>0.0</td>\n",
       "      <td>0.0</td>\n",
       "      <td>0.0</td>\n",
       "    </tr>\n",
       "    <tr>\n",
       "      <th>Canada</th>\n",
       "      <td>0.0</td>\n",
       "      <td>8.5</td>\n",
       "      <td>8.5</td>\n",
       "      <td>43.7</td>\n",
       "      <td>45.2</td>\n",
       "      <td>172.5</td>\n",
       "      <td>0.0</td>\n",
       "      <td>0.0</td>\n",
       "      <td>8.6</td>\n",
       "    </tr>\n",
       "    <tr>\n",
       "      <th>United States</th>\n",
       "      <td>5.9</td>\n",
       "      <td>0.3</td>\n",
       "      <td>6.1</td>\n",
       "      <td>3.4</td>\n",
       "      <td>48.7</td>\n",
       "      <td>197.2</td>\n",
       "      <td>0.0</td>\n",
       "      <td>0.0</td>\n",
       "      <td>2.9</td>\n",
       "    </tr>\n",
       "    <tr>\n",
       "      <th>...</th>\n",
       "      <td>...</td>\n",
       "      <td>...</td>\n",
       "      <td>...</td>\n",
       "      <td>...</td>\n",
       "      <td>...</td>\n",
       "      <td>...</td>\n",
       "      <td>...</td>\n",
       "      <td>...</td>\n",
       "      <td>...</td>\n",
       "    </tr>\n",
       "    <tr>\n",
       "      <th>Uruguay</th>\n",
       "      <td>NaN</td>\n",
       "      <td>NaN</td>\n",
       "      <td>NaN</td>\n",
       "      <td>NaN</td>\n",
       "      <td>NaN</td>\n",
       "      <td>NaN</td>\n",
       "      <td>NaN</td>\n",
       "      <td>NaN</td>\n",
       "      <td>NaN</td>\n",
       "    </tr>\n",
       "    <tr>\n",
       "      <th>Uzbekistan</th>\n",
       "      <td>NaN</td>\n",
       "      <td>NaN</td>\n",
       "      <td>NaN</td>\n",
       "      <td>NaN</td>\n",
       "      <td>NaN</td>\n",
       "      <td>NaN</td>\n",
       "      <td>NaN</td>\n",
       "      <td>NaN</td>\n",
       "      <td>NaN</td>\n",
       "    </tr>\n",
       "    <tr>\n",
       "      <th>Virgin Islands (U.S.)</th>\n",
       "      <td>NaN</td>\n",
       "      <td>NaN</td>\n",
       "      <td>NaN</td>\n",
       "      <td>NaN</td>\n",
       "      <td>NaN</td>\n",
       "      <td>NaN</td>\n",
       "      <td>NaN</td>\n",
       "      <td>NaN</td>\n",
       "      <td>NaN</td>\n",
       "    </tr>\n",
       "    <tr>\n",
       "      <th>Western Sahara</th>\n",
       "      <td>NaN</td>\n",
       "      <td>NaN</td>\n",
       "      <td>NaN</td>\n",
       "      <td>NaN</td>\n",
       "      <td>NaN</td>\n",
       "      <td>NaN</td>\n",
       "      <td>NaN</td>\n",
       "      <td>NaN</td>\n",
       "      <td>NaN</td>\n",
       "    </tr>\n",
       "    <tr>\n",
       "      <th>Yemen</th>\n",
       "      <td>NaN</td>\n",
       "      <td>NaN</td>\n",
       "      <td>NaN</td>\n",
       "      <td>NaN</td>\n",
       "      <td>NaN</td>\n",
       "      <td>NaN</td>\n",
       "      <td>NaN</td>\n",
       "      <td>NaN</td>\n",
       "      <td>NaN</td>\n",
       "    </tr>\n",
       "  </tbody>\n",
       "</table>\n",
       "<p>161 rows × 9 columns</p>\n",
       "</div>"
      ],
      "text/plain": [
       "                       Proposed  Construction  Proposed+Construction  Shelved  \\\n",
       "Total                      92.6          39.3                  132.0     48.1   \n",
       "Russia                     56.8          15.1                   71.9      0.0   \n",
       "Poland                      8.9           0.0                    8.9      0.0   \n",
       "Canada                      0.0           8.5                    8.5     43.7   \n",
       "United States               5.9           0.3                    6.1      3.4   \n",
       "...                         ...           ...                    ...      ...   \n",
       "Uruguay                     NaN           NaN                    NaN      NaN   \n",
       "Uzbekistan                  NaN           NaN                    NaN      NaN   \n",
       "Virgin Islands (U.S.)       NaN           NaN                    NaN      NaN   \n",
       "Western Sahara              NaN           NaN                    NaN      NaN   \n",
       "Yemen                       NaN           NaN                    NaN      NaN   \n",
       "\n",
       "                       Cancelled  Operating  Idle  Mothballed  Retired  \n",
       "Total                      179.6    1,645.4   0.0         4.9     43.3  \n",
       "Russia                      14.7    1,087.3   0.0         1.4     16.8  \n",
       "Poland                      21.3       14.5   0.0         0.0      0.0  \n",
       "Canada                      45.2      172.5   0.0         0.0      8.6  \n",
       "United States               48.7      197.2   0.0         0.0      2.9  \n",
       "...                          ...        ...   ...         ...      ...  \n",
       "Uruguay                      NaN        NaN   NaN         NaN      NaN  \n",
       "Uzbekistan                   NaN        NaN   NaN         NaN      NaN  \n",
       "Virgin Islands (U.S.)        NaN        NaN   NaN         NaN      NaN  \n",
       "Western Sahara               NaN        NaN   NaN         NaN      NaN  \n",
       "Yemen                        NaN        NaN   NaN         NaN      NaN  \n",
       "\n",
       "[161 rows x 9 columns]"
      ]
     },
     "execution_count": 59,
     "metadata": {},
     "output_type": "execute_result"
    }
   ],
   "source": [
    "pandas.options.display.float_format = '{:,.1f}'.format\n",
    "#km_by_region_df.sort_index(inplace=True)\n",
    "#indices_without_total = list(km_by_region_df.index)\n",
    "#if 'Total' in indices_without_total:\n",
    "#    indices_without_total.remove('Total')\n",
    "\n",
    "capex_estimates_country_df = km_by_country_df.loc[country_list].multiply(pipes_oil_costs_country_df['CostUSDPerKm'].values, axis=0) / 1e9\n",
    "\n",
    "if 'Total' in capex_estimates_country_df.index:\n",
    "    capex_estimates_country_df.drop(index='Total', inplace=True)   \n",
    "    total = capex_estimates_df.sum(axis=0)\n",
    "    total.name='Total'\n",
    "    capex_estimates_country_df = capex_estimates_country_df.append(total)\n",
    "\n",
    "else:\n",
    "    total = capex_estimates_country_df.sum(axis=0)\n",
    "    total.name='Total'\n",
    "    capex_estimates_country_df = capex_estimates_country_df.append(total)\n",
    "\n",
    "capex_estimates_country_df.sort_values('Proposed+Construction', ascending=False)"
   ]
  },
  {
   "cell_type": "markdown",
   "id": "a2bac5e7-471e-48a2-8985-0225d1e26b3f",
   "metadata": {},
   "source": [
    "## pie chart for stranded assets"
   ]
  },
  {
   "cell_type": "code",
   "execution_count": 60,
   "id": "158cc00b-f49a-4436-8190-ca743d67a9df",
   "metadata": {},
   "outputs": [
    {
     "data": {
      "image/png": "[encoded data removed]",
      "text/plain": [
       "<Figure size 360x360 with 1 Axes>"
      ]
     },
     "metadata": {},
     "output_type": "display_data"
    }
   ],
   "source": [
    "font_size=7\n",
    "\n",
    "fig = mp.figure(figsize=(5,5))\n",
    "ax = fig.add_subplot(111)\n",
    "cmap = mp.get_cmap('Reds')\n",
    "\n",
    "pie_vals = capex_estimates_df.sort_values('Proposed+Construction', ascending=False)['Proposed+Construction'][1:]\n",
    "pie_labels = capex_estimates_df.sort_values('Proposed+Construction', ascending=False).index[1:]\n",
    "pie_labels_dollars = capex_estimates_df.sort_values('Proposed+Construction', ascending=False)['Proposed+Construction'].apply(lambda x: f'\\nUS${x:.1f} billion')[1:]\n",
    "\n",
    "pie_labels = [i+j for i,j in zip(pie_labels, pie_labels_dollars)]\n",
    "\n",
    "ax.pie(pie_vals, \n",
    "       labels=pie_labels,\n",
    "       colors=cmap(numpy.linspace(0,1,pie_vals.size))[::-1],\n",
    "       wedgeprops=dict(edgecolor='1'),\n",
    "       textprops={'fontsize':font_size})\n",
    "\n",
    "ax.tick_params(labelsize=font_size)\n",
    "\n",
    "fig.tight_layout()\n",
    "\n",
    "#mp.savefig('saved-figures/oil-pipelines_pie-graph.pdf', bbox_inches='tight', transparent=True)\n",
    "\n",
    "mp.savefig('saved-figures/oil-pipelines_pie-graph.png', \n",
    "           bbox_inches='tight', \n",
    "           transparent=True,\n",
    "           dpi=600)\n",
    "\n",
    "mp.savefig('saved-figures/oil-pipelines_pie-graph.pdf', \n",
    "           bbox_inches='tight', \n",
    "           transparent=True)\n"
   ]
  },
  {
   "cell_type": "code",
   "execution_count": 61,
   "id": "5c295ea4-3ff5-42f3-bf40-4ed4ab2c50fd",
   "metadata": {},
   "outputs": [
    {
     "data": {
      "text/plain": [
       "Eurasia                            US$51.26 billion\n",
       "Sub-Saharan Africa                 US$30.45 billion\n",
       "North America                      US$15.51 billion\n",
       "Middle East and North Africa        US$7.88 billion\n",
       "South Asia                          US$6.01 billion\n",
       "East Asia                           US$4.73 billion\n",
       "Europe                              US$3.06 billion\n",
       "SE Asia                             US$0.90 billion\n",
       "Australia and New Zealand           US$0.00 billion\n",
       "Latin America and the Caribbean     US$0.00 billion\n",
       "Name: Proposed+Construction, dtype: object"
      ]
     },
     "execution_count": 61,
     "metadata": {},
     "output_type": "execute_result"
    }
   ],
   "source": [
    "capex_estimates_df.sort_values('Proposed+Construction', ascending=False)['Proposed+Construction'].apply(lambda x: f'US${x:.2f} billion')[1:]"
   ]
  },
  {
   "cell_type": "code",
   "execution_count": 62,
   "id": "793a8251-7565-4002-ab4d-3a28d9cca21c",
   "metadata": {},
   "outputs": [
    {
     "data": {
      "text/plain": [
       "Eurasia                           51.3\n",
       "Sub-Saharan Africa                30.4\n",
       "North America                     15.5\n",
       "Middle East and North Africa       7.9\n",
       "South Asia                         6.0\n",
       "East Asia                          4.7\n",
       "Europe                             3.1\n",
       "SE Asia                            0.9\n",
       "Australia and New Zealand          0.0\n",
       "Latin America and the Caribbean    0.0\n",
       "Name: Proposed+Construction, dtype: float64"
      ]
     },
     "execution_count": 62,
     "metadata": {},
     "output_type": "execute_result"
    }
   ],
   "source": [
    "capex_estimates_df.sort_values('Proposed+Construction', ascending=False)['Proposed+Construction'][1:]"
   ]
  },
  {
   "cell_type": "code",
   "execution_count": 63,
   "id": "569b655e-34ee-4c76-b605-08f536bdf1d2",
   "metadata": {},
   "outputs": [
    {
     "data": {
      "text/plain": [
       "Index(['Eurasia', 'Sub-Saharan Africa', 'North America',\n",
       "       'Middle East and North Africa', 'South Asia', 'East Asia', 'Europe',\n",
       "       'SE Asia', 'Australia and New Zealand',\n",
       "       'Latin America and the Caribbean'],\n",
       "      dtype='object')"
      ]
     },
     "execution_count": 63,
     "metadata": {},
     "output_type": "execute_result"
    }
   ],
   "source": [
    "capex_estimates_df.sort_values('Proposed+Construction', ascending=False).index[1:]"
   ]
  },
  {
   "cell_type": "markdown",
   "id": "f5661b98-75a1-42ca-819d-ee2fa8ea2b76",
   "metadata": {},
   "source": [
    "### amount already being constructed"
   ]
  },
  {
   "cell_type": "code",
   "execution_count": 64,
   "id": "741c91e9-dcdb-4332-beac-27f1cb8ca014",
   "metadata": {},
   "outputs": [
    {
     "data": {
      "text/plain": [
       "0.392494061375302"
      ]
     },
     "execution_count": 64,
     "metadata": {},
     "output_type": "execute_result"
    }
   ],
   "source": [
    "# fraction of pipelines under construction compared to all in development\n",
    "# this number is different from below because it's skipping some pipelines\n",
    "km_by_country_total = km_by_country_df.sum(axis=0)\n",
    "km_by_country_total['Construction']/km_by_country_total['Proposed+Construction']"
   ]
  },
  {
   "cell_type": "code",
   "execution_count": 65,
   "id": "f358b56a-22ef-4323-824b-ecf9ef20202c",
   "metadata": {},
   "outputs": [
    {
     "data": {
      "text/plain": [
       "0.2981491140450615"
      ]
     },
     "execution_count": 65,
     "metadata": {},
     "output_type": "execute_result"
    }
   ],
   "source": [
    "# this fraction is on the full database, rather than only the pipelines that we estimate length for\n",
    "total['Construction']/total['Proposed+Construction']"
   ]
  },
  {
   "cell_type": "markdown",
   "id": "1980f5ce",
   "metadata": {},
   "source": [
    "# numbers for report"
   ]
  },
  {
   "cell_type": "markdown",
   "id": "0ca10b06-27b4-49d0-aea2-4d3aa2801104",
   "metadata": {},
   "source": [
    "## km of pipeline with 2022, 2023 start years"
   ]
  },
  {
   "cell_type": "code",
   "execution_count": 66,
   "id": "41b7f22a-4a20-4a9f-a581-8cbabbe35d5b",
   "metadata": {},
   "outputs": [
    {
     "name": "stdout",
     "output_type": "stream",
     "text": [
      "1289.75 1193.4\n",
      "3622.74 1335.94\n"
     ]
    }
   ],
   "source": [
    "# for the key points\n",
    "print(pipes_indev_startyear.loc['Construction',2022],\n",
    "      pipes_indev_startyear.loc['Construction',2023])\n",
    "\n",
    "print(pipes_indev_startyear.loc['Proposed',2022],\n",
    "      pipes_indev_startyear.loc['Proposed',2023])"
   ]
  },
  {
   "cell_type": "markdown",
   "id": "7e63a1db-0270-4177-ab3e-938d02509c20",
   "metadata": {},
   "source": [
    "## km of gas pipelines globally in development\n",
    "\n",
    "note this doesn't match up exactly with regional length calculations, so we've used the regional calculation totals instead (193,365.9)"
   ]
  },
  {
   "cell_type": "code",
   "execution_count": 67,
   "id": "75452ad0-615e-4b4d-89d5-4891d71902d2",
   "metadata": {},
   "outputs": [
    {
     "data": {
      "text/plain": [
       "27329.329999999998"
      ]
     },
     "execution_count": 67,
     "metadata": {},
     "output_type": "execute_result"
    }
   ],
   "source": [
    "pipes_df_calc = pipes_df_orig.copy()\n",
    "pipes_df_calc.replace('--',numpy.nan,inplace=True)\n",
    "pipes_df_calc[(pipes_df_calc['Status'].isin(['Proposed','Construction'])) &\n",
    "        (pipes_df_calc['Fuel']=='Oil')]['LengthMergedKm'].sum()"
   ]
  },
  {
   "cell_type": "code",
   "execution_count": 68,
   "id": "06e0be20-2354-41c1-9838-53e0fa458e9b",
   "metadata": {},
   "outputs": [],
   "source": [
    "regional_km_sums_df = pandas.DataFrame(index=region_list, columns=status_list)\n",
    "\n",
    "for status in status_list:\n",
    "    regional_km_sums_df[status] = pipes_df_calc[(pipes_df_calc['Fuel']=='Oil') &\n",
    "                                                (pipes_df_calc['Status']==status)].groupby('StartRegion')['LengthMergedKm'].sum()\n",
    "\n",
    "regional_km_sums_df['P+C'] = regional_km_sums_df[['Proposed','Construction']].sum(axis=1)\n",
    "total_row = regional_km_sums_df.sum(axis=0)\n",
    "total_row.name = 'Total'\n",
    "#regional_km_sums_df.append(total_row)"
   ]
  },
  {
   "cell_type": "markdown",
   "id": "db6f746e",
   "metadata": {},
   "source": [
    "## country shares analysis"
   ]
  },
  {
   "cell_type": "code",
   "execution_count": 69,
   "id": "636ea038",
   "metadata": {},
   "outputs": [
    {
     "data": {
      "text/plain": [
       "27329.559999999998"
      ]
     },
     "execution_count": 69,
     "metadata": {},
     "output_type": "execute_result"
    }
   ],
   "source": [
    "country_ratios_df[(country_ratios_df['Status'].isin(['Proposed','Construction'])) &\n",
    "               (country_ratios_df['Fuel']=='Oil')]['MergedKmByCountry'].sum()"
   ]
  },
  {
   "cell_type": "markdown",
   "id": "6280f21d-4f6c-43aa-923b-f50dc67babc2",
   "metadata": {},
   "source": [
    "### China's percent of total"
   ]
  },
  {
   "cell_type": "code",
   "execution_count": 70,
   "id": "2f0f6b5d",
   "metadata": {},
   "outputs": [
    {
     "data": {
      "text/plain": [
       "0.046335725858740504"
      ]
     },
     "execution_count": 70,
     "metadata": {},
     "output_type": "execute_result"
    }
   ],
   "source": [
    "km_by_country_df.loc['China']['Proposed+Construction']/km_by_country_df['Proposed+Construction'].sum(axis=0)"
   ]
  },
  {
   "cell_type": "code",
   "execution_count": 71,
   "id": "06253a3e-d11b-45fd-bfaa-2b21e681f4c3",
   "metadata": {},
   "outputs": [
    {
     "data": {
      "text/plain": [
       "0.49087581358792465"
      ]
     },
     "execution_count": 71,
     "metadata": {},
     "output_type": "execute_result"
    }
   ],
   "source": [
    "km_by_country_df[:5]['Proposed+Construction'].sum(axis=0)/km_by_country_df[:-1]['Proposed+Construction'].sum(axis=0)"
   ]
  },
  {
   "cell_type": "code",
   "execution_count": 72,
   "id": "4814a993",
   "metadata": {},
   "outputs": [
    {
     "data": {
      "text/plain": [
       "0.9440192231415362"
      ]
     },
     "execution_count": 72,
     "metadata": {},
     "output_type": "execute_result"
    }
   ],
   "source": [
    "km_by_country_df[:20]['Proposed+Construction'].sum(axis=0)/km_by_country_df[:-1]['Proposed+Construction'].sum(axis=0)"
   ]
  },
  {
   "cell_type": "markdown",
   "id": "4d2b5f76-95a2-4233-b862-d6a0fad3bb0f",
   "metadata": {},
   "source": [
    "## num in dev globally, whether capacity expansions or not"
   ]
  },
  {
   "cell_type": "code",
   "execution_count": 73,
   "id": "fc4d8622-e562-4ccc-b0c8-7b0f78ae6d77",
   "metadata": {},
   "outputs": [
    {
     "name": "stdout",
     "output_type": "stream",
     "text": [
      "capacity expansion projects: (9, 70)\n",
      "non-zero length projects: (84, 70)\n"
     ]
    }
   ],
   "source": [
    "print(\"capacity expansion projects:\",\n",
    "    pipes_df_orig.loc[(pipes_df_orig.Fuel=='Oil')&\n",
    "                  (pipes_df_orig.Status.isin(['Proposed','Construction']))&\n",
    "                  (pipes_df_orig.Route.isin(['Capacity expansion only','Bidirectionality upgrade only']))].shape)\n",
    "\n",
    "print(\"non-zero length projects:\",\n",
    "      pipes_df_orig.loc[(pipes_df_orig.Fuel=='Oil')&\n",
    "                  (pipes_df_orig.Status.isin(['Proposed','Construction']))&\n",
    "                  (~pipes_df_orig.Route.isin(['Capacity expansion only','Bidirectionality upgrade only']))].shape)"
   ]
  },
  {
   "cell_type": "code",
   "execution_count": 74,
   "id": "3ff38068-b04e-4a03-9cb7-b4dfd85049d6",
   "metadata": {},
   "outputs": [],
   "source": [
    "cr = country_ratios_df.loc[(country_ratios_df.Status.isin(['Construction','Proposed']))&\n",
    "                      (country_ratios_df.Fuel=='Oil')]"
   ]
  },
  {
   "cell_type": "code",
   "execution_count": 75,
   "id": "49124e66-1a88-4281-bafb-d72fdd5c7c1a",
   "metadata": {},
   "outputs": [
    {
     "data": {
      "text/plain": [
       "ProjectID\n",
       "P0033    1\n",
       "P0358    1\n",
       "P0531    1\n",
       "P0538    1\n",
       "P0541    2\n",
       "        ..\n",
       "P3864    1\n",
       "P3865    1\n",
       "P3877    1\n",
       "P3888    1\n",
       "P3889    1\n",
       "Name: MergedKmByPipeline, Length: 84, dtype: int64"
      ]
     },
     "execution_count": 75,
     "metadata": {},
     "output_type": "execute_result"
    }
   ],
   "source": [
    "cr.loc[cr.MergedKmByPipeline!=0].groupby('ProjectID')['MergedKmByPipeline'].count()"
   ]
  },
  {
   "cell_type": "code",
   "execution_count": 76,
   "id": "21a96bd8-e464-4591-aba3-79d35a185654",
   "metadata": {},
   "outputs": [
    {
     "name": "stdout",
     "output_type": "stream",
     "text": [
      "481    2,000,000\n",
      "490       62,000\n",
      "491       89,000\n",
      "495      319,479\n",
      "517      150,000\n",
      "635      220,000\n",
      "695       70,000\n",
      "764      250,000\n",
      "891          NaN\n",
      "Name: CapacityBOEd, dtype: object\n",
      "                 Countries CapacityBOEd\n",
      "481           Saudi Arabia    2,000,000\n",
      "490              Argentina       62,000\n",
      "491              Argentina       89,000\n",
      "495     Kazakhstan, Russia      319,479\n",
      "517  Canada, United States      150,000\n",
      "635          United States      220,000\n",
      "695          United States       70,000\n",
      "764          United States      250,000\n",
      "891                  China          NaN\n"
     ]
    }
   ],
   "source": [
    "print(pipes_df_orig.loc[(pipes_df_orig.Fuel=='Oil')&\n",
    "                  (pipes_df_orig.Status.isin(['Proposed','Construction']))&\n",
    "                  (pipes_df_orig.Route.isin(['Capacity expansion only','Bidirectionality upgrade only']))]['CapacityBOEd'])\n",
    "\n",
    "\n",
    "print(pipes_df_orig.loc[(pipes_df_orig.Fuel=='Oil')&\n",
    "                  (pipes_df_orig.Status.isin(['Proposed','Construction']))&\n",
    "                  (pipes_df_orig.Route.isin(['Capacity expansion only','Bidirectionality upgrade only']))][['Countries','CapacityBOEd']])"
   ]
  },
  {
   "cell_type": "markdown",
   "id": "27c990b7-31e9-4a31-94c3-c7e8078e69f3",
   "metadata": {},
   "source": [
    "# texas proposed, cancelled, etc."
   ]
  },
  {
   "cell_type": "code",
   "execution_count": 77,
   "id": "c29a7d40-08ac-4e4b-ac85-2c91a076ebcb",
   "metadata": {},
   "outputs": [],
   "source": [
    "pipes_df_permian = pipes_df_orig.loc[(pipes_df_orig['StartState/Province'].isin(['Texas', 'New Mexico', 'Louisiana']))|\n",
    "                                   (pipes_df_orig['EndState/Province'].isin(['Texas', 'New Mexico', 'Louisiana']))]"
   ]
  },
  {
   "cell_type": "code",
   "execution_count": 78,
   "id": "812b6aa1-676f-467b-b0b5-6b97077ab176",
   "metadata": {},
   "outputs": [
    {
     "data": {
      "text/plain": [
       "(297, 70)"
      ]
     },
     "execution_count": 78,
     "metadata": {},
     "output_type": "execute_result"
    }
   ],
   "source": [
    "pipes_df_permian.shape"
   ]
  },
  {
   "cell_type": "markdown",
   "id": "d81ec3bd-f765-4167-b5d4-c13d7b210872",
   "metadata": {},
   "source": [
    "## how many of in dev infra is in Texas alone?"
   ]
  },
  {
   "cell_type": "code",
   "execution_count": 79,
   "id": "c7e45905-bdd9-41da-a9c0-66ebf86260c9",
   "metadata": {},
   "outputs": [
    {
     "data": {
      "text/plain": [
       "6436.94"
      ]
     },
     "execution_count": 79,
     "metadata": {},
     "output_type": "execute_result"
    }
   ],
   "source": [
    "pipes_df_permian.loc[pipes_df_permian.Status.isin(['Proposed','Construction'])]['LengthMergedKm'].sum()"
   ]
  },
  {
   "cell_type": "code",
   "execution_count": 80,
   "id": "8296a2c4-c027-47cc-ab20-cea329748a3d",
   "metadata": {},
   "outputs": [
    {
     "data": {
      "text/plain": [
       "5904.65"
      ]
     },
     "execution_count": 80,
     "metadata": {},
     "output_type": "execute_result"
    }
   ],
   "source": [
    "pipes_df_permian.loc[pipes_df_permian.Status.isin(['Proposed'])]['LengthMergedKm'].sum()"
   ]
  },
  {
   "cell_type": "code",
   "execution_count": 81,
   "id": "44e4ce4d-dde5-4a3a-ac38-e4a0dd00b516",
   "metadata": {},
   "outputs": [
    {
     "data": {
      "text/plain": [
       "532.29"
      ]
     },
     "execution_count": 81,
     "metadata": {},
     "output_type": "execute_result"
    }
   ],
   "source": [
    "pipes_df_permian.loc[pipes_df_permian.Status.isin(['Construction'])]['LengthMergedKm'].sum()"
   ]
  },
  {
   "cell_type": "code",
   "execution_count": 82,
   "id": "925af86a-826d-4558-acb3-c18f1f8ed43f",
   "metadata": {},
   "outputs": [
    {
     "data": {
      "text/html": [
       "<div>\n",
       "<style scoped>\n",
       "    .dataframe tbody tr th:only-of-type {\n",
       "        vertical-align: middle;\n",
       "    }\n",
       "\n",
       "    .dataframe tbody tr th {\n",
       "        vertical-align: top;\n",
       "    }\n",
       "\n",
       "    .dataframe thead th {\n",
       "        text-align: right;\n",
       "    }\n",
       "</style>\n",
       "<table border=\"1\" class=\"dataframe\">\n",
       "  <thead>\n",
       "    <tr style=\"text-align: right;\">\n",
       "      <th></th>\n",
       "      <th>PipelineNetworkContainer</th>\n",
       "      <th>PipelineName</th>\n",
       "      <th>SegmentName</th>\n",
       "      <th>Wiki</th>\n",
       "      <th>ProjectID</th>\n",
       "      <th>Fuel</th>\n",
       "      <th>Countries</th>\n",
       "      <th>Researcher</th>\n",
       "      <th>LastUpdated</th>\n",
       "      <th>ResearcherNotes</th>\n",
       "      <th>...</th>\n",
       "      <th>Route</th>\n",
       "      <th>RouteAccuracy</th>\n",
       "      <th>RouteMapNotes</th>\n",
       "      <th>OtherEnglishNames</th>\n",
       "      <th>OtherLanguagePrimaryPipelineName</th>\n",
       "      <th>OtherLanguageAlternativePipelineNames</th>\n",
       "      <th>OtherLanguageSegmentName</th>\n",
       "      <th>OtherLanguageWikiPage</th>\n",
       "      <th>CostUSDPerKm</th>\n",
       "      <th>WKTFormat</th>\n",
       "    </tr>\n",
       "  </thead>\n",
       "  <tbody>\n",
       "    <tr>\n",
       "      <th>672</th>\n",
       "      <td></td>\n",
       "      <td>Ted Collins Link Pipeline</td>\n",
       "      <td></td>\n",
       "      <td>https://www.gem.wiki/Ted_Collins_Link_Pipeline</td>\n",
       "      <td>P2624</td>\n",
       "      <td>Oil</td>\n",
       "      <td>United States</td>\n",
       "      <td>BL</td>\n",
       "      <td>2022/04/19</td>\n",
       "      <td></td>\n",
       "      <td>...</td>\n",
       "      <td>29.999574,-93.985045:29.96736,-94.016709:29.91...</td>\n",
       "      <td></td>\n",
       "      <td>https://ir.energytransfer.com/static-files/62a...</td>\n",
       "      <td></td>\n",
       "      <td></td>\n",
       "      <td></td>\n",
       "      <td></td>\n",
       "      <td></td>\n",
       "      <td>NaN</td>\n",
       "      <td>LINESTRING (-93.985045 29.999574, -94.016709 2...</td>\n",
       "    </tr>\n",
       "    <tr>\n",
       "      <th>756</th>\n",
       "      <td></td>\n",
       "      <td>Keystone Port Neches Link Oil Pipeline</td>\n",
       "      <td></td>\n",
       "      <td>https://www.gem.wiki/Keystone_Port_Neches_Link...</td>\n",
       "      <td>P3159</td>\n",
       "      <td>Oil</td>\n",
       "      <td>United States</td>\n",
       "      <td>BL</td>\n",
       "      <td>2022/04/18</td>\n",
       "      <td></td>\n",
       "      <td>...</td>\n",
       "      <td>29.990597280091666, -94.00310891538219 : 29.99...</td>\n",
       "      <td></td>\n",
       "      <td></td>\n",
       "      <td></td>\n",
       "      <td></td>\n",
       "      <td></td>\n",
       "      <td></td>\n",
       "      <td></td>\n",
       "      <td>NaN</td>\n",
       "      <td>LINESTRING (-94.00310891538219 29.990597280091...</td>\n",
       "    </tr>\n",
       "    <tr>\n",
       "      <th>1105</th>\n",
       "      <td></td>\n",
       "      <td>TransCameron Pipeline</td>\n",
       "      <td></td>\n",
       "      <td>https://www.gem.wiki/TransCameron_Pipeline</td>\n",
       "      <td>P0269</td>\n",
       "      <td>Gas</td>\n",
       "      <td>United States</td>\n",
       "      <td>BL</td>\n",
       "      <td>08/17/2021</td>\n",
       "      <td>technically completed 2021</td>\n",
       "      <td>...</td>\n",
       "      <td>29.767331,-92.975147:29.795517,-93.327462</td>\n",
       "      <td></td>\n",
       "      <td></td>\n",
       "      <td></td>\n",
       "      <td></td>\n",
       "      <td></td>\n",
       "      <td></td>\n",
       "      <td></td>\n",
       "      <td>NaN</td>\n",
       "      <td>LINESTRING (-92.975147 29.767331, -93.327462 2...</td>\n",
       "    </tr>\n",
       "    <tr>\n",
       "      <th>1791</th>\n",
       "      <td></td>\n",
       "      <td>Gemini Gulf Coast Pipeline</td>\n",
       "      <td></td>\n",
       "      <td>https://www.gem.wiki/Gemini_Gulf_Coast_Pipeline</td>\n",
       "      <td>P1317</td>\n",
       "      <td>Gas</td>\n",
       "      <td>United States</td>\n",
       "      <td>BL</td>\n",
       "      <td>08/27/2021</td>\n",
       "      <td></td>\n",
       "      <td>...</td>\n",
       "      <td>32.206099,-94.151671:32.147816,-94.226174:32.1...</td>\n",
       "      <td></td>\n",
       "      <td></td>\n",
       "      <td></td>\n",
       "      <td></td>\n",
       "      <td></td>\n",
       "      <td></td>\n",
       "      <td></td>\n",
       "      <td>NaN</td>\n",
       "      <td>LINESTRING (-94.151671 32.206099, -94.226174 3...</td>\n",
       "    </tr>\n",
       "    <tr>\n",
       "      <th>2498</th>\n",
       "      <td></td>\n",
       "      <td>Texas Eastern Transmission (TETCO) Gas Pipeline</td>\n",
       "      <td>Cameron Expansion Project</td>\n",
       "      <td>https://www.gem.wiki/Texas_Eastern_Transmissio...</td>\n",
       "      <td>P2509</td>\n",
       "      <td>Gas</td>\n",
       "      <td>United States</td>\n",
       "      <td>JB</td>\n",
       "      <td>10/28/2021</td>\n",
       "      <td>check before update - almost complete</td>\n",
       "      <td>...</td>\n",
       "      <td>30.44623588,-93.1436911:30.44371707,-93.157593...</td>\n",
       "      <td></td>\n",
       "      <td>https://www.google.com/search?q=Cameron+Extens...</td>\n",
       "      <td></td>\n",
       "      <td></td>\n",
       "      <td></td>\n",
       "      <td></td>\n",
       "      <td></td>\n",
       "      <td>NaN</td>\n",
       "      <td>LINESTRING (-93.1436911 30.44623588, -93.15759...</td>\n",
       "    </tr>\n",
       "    <tr>\n",
       "      <th>2516</th>\n",
       "      <td></td>\n",
       "      <td>Golden Pass Gas Pipeline</td>\n",
       "      <td></td>\n",
       "      <td>https://www.gem.wiki/Golden_Pass_Gas_Pipeline</td>\n",
       "      <td>P2539</td>\n",
       "      <td>Gas</td>\n",
       "      <td>United States</td>\n",
       "      <td></td>\n",
       "      <td></td>\n",
       "      <td>route from FT</td>\n",
       "      <td>...</td>\n",
       "      <td>30.35938,-93.671875:30.301321,-93.670923:30.25...</td>\n",
       "      <td></td>\n",
       "      <td>https://goldenpasslng.com/operations/pipeline</td>\n",
       "      <td></td>\n",
       "      <td></td>\n",
       "      <td></td>\n",
       "      <td></td>\n",
       "      <td></td>\n",
       "      <td>NaN</td>\n",
       "      <td>LINESTRING (-93.671875 30.35938, -93.670923 30...</td>\n",
       "    </tr>\n",
       "    <tr>\n",
       "      <th>2517</th>\n",
       "      <td></td>\n",
       "      <td>Gulf Coast Southbound Pipeline</td>\n",
       "      <td>Phase II</td>\n",
       "      <td>https://www.gem.wiki/Gulf_Coast_Southbound_Pip...</td>\n",
       "      <td>P2541</td>\n",
       "      <td>Gas</td>\n",
       "      <td>United States</td>\n",
       "      <td>BL</td>\n",
       "      <td>08/17/2021</td>\n",
       "      <td>technically completed 2021</td>\n",
       "      <td>...</td>\n",
       "      <td>Capacity expansion only</td>\n",
       "      <td>no route</td>\n",
       "      <td>https://www.kindermorgan.com/content/docs/gulf...</td>\n",
       "      <td></td>\n",
       "      <td></td>\n",
       "      <td></td>\n",
       "      <td></td>\n",
       "      <td></td>\n",
       "      <td>NaN</td>\n",
       "      <td>NaN</td>\n",
       "    </tr>\n",
       "    <tr>\n",
       "      <th>2527</th>\n",
       "      <td></td>\n",
       "      <td>Columbia Gas Transmission</td>\n",
       "      <td>Louisiana XPress Expansion Project</td>\n",
       "      <td>https://www.gem.wiki/Columbia_Gas_Transmission</td>\n",
       "      <td>P2556</td>\n",
       "      <td>Gas</td>\n",
       "      <td>United States</td>\n",
       "      <td>BL</td>\n",
       "      <td>08/25/2021</td>\n",
       "      <td></td>\n",
       "      <td>...</td>\n",
       "      <td>Capacity expansion only</td>\n",
       "      <td>no route</td>\n",
       "      <td></td>\n",
       "      <td></td>\n",
       "      <td></td>\n",
       "      <td></td>\n",
       "      <td></td>\n",
       "      <td></td>\n",
       "      <td>NaN</td>\n",
       "      <td>NaN</td>\n",
       "    </tr>\n",
       "    <tr>\n",
       "      <th>2988</th>\n",
       "      <td></td>\n",
       "      <td>ANR Gas Pipeline</td>\n",
       "      <td>Grand Chenier XPress Project</td>\n",
       "      <td>https://www.gem.wiki/ANR_Gas_Pipeline</td>\n",
       "      <td>P3186</td>\n",
       "      <td>Gas</td>\n",
       "      <td>United States</td>\n",
       "      <td>BL</td>\n",
       "      <td>08/25/2021</td>\n",
       "      <td></td>\n",
       "      <td>...</td>\n",
       "      <td>Capacity expansion only</td>\n",
       "      <td>no route</td>\n",
       "      <td></td>\n",
       "      <td></td>\n",
       "      <td></td>\n",
       "      <td></td>\n",
       "      <td></td>\n",
       "      <td></td>\n",
       "      <td>NaN</td>\n",
       "      <td>NaN</td>\n",
       "    </tr>\n",
       "    <tr>\n",
       "      <th>3039</th>\n",
       "      <td></td>\n",
       "      <td>Florida Gas Transmission Pipeline</td>\n",
       "      <td>Galveston County Project</td>\n",
       "      <td>https://www.gem.wiki/Florida_Gas_Transmission_...</td>\n",
       "      <td>P3242</td>\n",
       "      <td>Gas</td>\n",
       "      <td>United States</td>\n",
       "      <td>BL</td>\n",
       "      <td>08/17/2021</td>\n",
       "      <td>small, route not a priority; technically compl...</td>\n",
       "      <td>...</td>\n",
       "      <td>Short route (&lt; 100 km)</td>\n",
       "      <td>no route</td>\n",
       "      <td></td>\n",
       "      <td></td>\n",
       "      <td></td>\n",
       "      <td></td>\n",
       "      <td></td>\n",
       "      <td></td>\n",
       "      <td>NaN</td>\n",
       "      <td>NaN</td>\n",
       "    </tr>\n",
       "  </tbody>\n",
       "</table>\n",
       "<p>10 rows × 70 columns</p>\n",
       "</div>"
      ],
      "text/plain": [
       "     PipelineNetworkContainer  \\\n",
       "672                             \n",
       "756                             \n",
       "1105                            \n",
       "1791                            \n",
       "2498                            \n",
       "2516                            \n",
       "2517                            \n",
       "2527                            \n",
       "2988                            \n",
       "3039                            \n",
       "\n",
       "                                         PipelineName  \\\n",
       "672                         Ted Collins Link Pipeline   \n",
       "756            Keystone Port Neches Link Oil Pipeline   \n",
       "1105                            TransCameron Pipeline   \n",
       "1791                       Gemini Gulf Coast Pipeline   \n",
       "2498  Texas Eastern Transmission (TETCO) Gas Pipeline   \n",
       "2516                         Golden Pass Gas Pipeline   \n",
       "2517                   Gulf Coast Southbound Pipeline   \n",
       "2527                        Columbia Gas Transmission   \n",
       "2988                                 ANR Gas Pipeline   \n",
       "3039                Florida Gas Transmission Pipeline   \n",
       "\n",
       "                             SegmentName  \\\n",
       "672                                        \n",
       "756                                        \n",
       "1105                                       \n",
       "1791                                       \n",
       "2498           Cameron Expansion Project   \n",
       "2516                                       \n",
       "2517                            Phase II   \n",
       "2527  Louisiana XPress Expansion Project   \n",
       "2988        Grand Chenier XPress Project   \n",
       "3039            Galveston County Project   \n",
       "\n",
       "                                                   Wiki ProjectID Fuel  \\\n",
       "672      https://www.gem.wiki/Ted_Collins_Link_Pipeline     P2624  Oil   \n",
       "756   https://www.gem.wiki/Keystone_Port_Neches_Link...     P3159  Oil   \n",
       "1105         https://www.gem.wiki/TransCameron_Pipeline     P0269  Gas   \n",
       "1791    https://www.gem.wiki/Gemini_Gulf_Coast_Pipeline     P1317  Gas   \n",
       "2498  https://www.gem.wiki/Texas_Eastern_Transmissio...     P2509  Gas   \n",
       "2516      https://www.gem.wiki/Golden_Pass_Gas_Pipeline     P2539  Gas   \n",
       "2517  https://www.gem.wiki/Gulf_Coast_Southbound_Pip...     P2541  Gas   \n",
       "2527     https://www.gem.wiki/Columbia_Gas_Transmission     P2556  Gas   \n",
       "2988              https://www.gem.wiki/ANR_Gas_Pipeline     P3186  Gas   \n",
       "3039  https://www.gem.wiki/Florida_Gas_Transmission_...     P3242  Gas   \n",
       "\n",
       "          Countries Researcher LastUpdated  \\\n",
       "672   United States         BL  2022/04/19   \n",
       "756   United States         BL  2022/04/18   \n",
       "1105  United States         BL  08/17/2021   \n",
       "1791  United States         BL  08/27/2021   \n",
       "2498  United States         JB  10/28/2021   \n",
       "2516  United States                          \n",
       "2517  United States         BL  08/17/2021   \n",
       "2527  United States         BL  08/25/2021   \n",
       "2988  United States         BL  08/25/2021   \n",
       "3039  United States         BL  08/17/2021   \n",
       "\n",
       "                                        ResearcherNotes  ...  \\\n",
       "672                                                      ...   \n",
       "756                                                      ...   \n",
       "1105                         technically completed 2021  ...   \n",
       "1791                                                     ...   \n",
       "2498              check before update - almost complete  ...   \n",
       "2516                                      route from FT  ...   \n",
       "2517                         technically completed 2021  ...   \n",
       "2527                                                     ...   \n",
       "2988                                                     ...   \n",
       "3039  small, route not a priority; technically compl...  ...   \n",
       "\n",
       "                                                  Route RouteAccuracy  \\\n",
       "672   29.999574,-93.985045:29.96736,-94.016709:29.91...                 \n",
       "756   29.990597280091666, -94.00310891538219 : 29.99...                 \n",
       "1105          29.767331,-92.975147:29.795517,-93.327462                 \n",
       "1791  32.206099,-94.151671:32.147816,-94.226174:32.1...                 \n",
       "2498  30.44623588,-93.1436911:30.44371707,-93.157593...                 \n",
       "2516  30.35938,-93.671875:30.301321,-93.670923:30.25...                 \n",
       "2517                            Capacity expansion only      no route   \n",
       "2527                            Capacity expansion only      no route   \n",
       "2988                            Capacity expansion only      no route   \n",
       "3039                             Short route (< 100 km)      no route   \n",
       "\n",
       "                                          RouteMapNotes OtherEnglishNames  \\\n",
       "672   https://ir.energytransfer.com/static-files/62a...                     \n",
       "756                                                                         \n",
       "1105                                                                        \n",
       "1791                                                                        \n",
       "2498  https://www.google.com/search?q=Cameron+Extens...                     \n",
       "2516      https://goldenpasslng.com/operations/pipeline                     \n",
       "2517  https://www.kindermorgan.com/content/docs/gulf...                     \n",
       "2527                                                                        \n",
       "2988                                                                        \n",
       "3039                                                                        \n",
       "\n",
       "     OtherLanguagePrimaryPipelineName OtherLanguageAlternativePipelineNames  \\\n",
       "672                                                                           \n",
       "756                                                                           \n",
       "1105                                                                          \n",
       "1791                                                                          \n",
       "2498                                                                          \n",
       "2516                                                                          \n",
       "2517                                                                          \n",
       "2527                                                                          \n",
       "2988                                                                          \n",
       "3039                                                                          \n",
       "\n",
       "     OtherLanguageSegmentName OtherLanguageWikiPage CostUSDPerKm  \\\n",
       "672                                                          NaN   \n",
       "756                                                          NaN   \n",
       "1105                                                         NaN   \n",
       "1791                                                         NaN   \n",
       "2498                                                         NaN   \n",
       "2516                                                         NaN   \n",
       "2517                                                         NaN   \n",
       "2527                                                         NaN   \n",
       "2988                                                         NaN   \n",
       "3039                                                         NaN   \n",
       "\n",
       "                                              WKTFormat  \n",
       "672   LINESTRING (-93.985045 29.999574, -94.016709 2...  \n",
       "756   LINESTRING (-94.00310891538219 29.990597280091...  \n",
       "1105  LINESTRING (-92.975147 29.767331, -93.327462 2...  \n",
       "1791  LINESTRING (-94.151671 32.206099, -94.226174 3...  \n",
       "2498  LINESTRING (-93.1436911 30.44623588, -93.15759...  \n",
       "2516  LINESTRING (-93.671875 30.35938, -93.670923 30...  \n",
       "2517                                                NaN  \n",
       "2527                                                NaN  \n",
       "2988                                                NaN  \n",
       "3039                                                NaN  \n",
       "\n",
       "[10 rows x 70 columns]"
      ]
     },
     "execution_count": 82,
     "metadata": {},
     "output_type": "execute_result"
    }
   ],
   "source": [
    "pipes_df_permian.loc[pipes_df_permian.Status.isin(['Construction'])]"
   ]
  },
  {
   "cell_type": "markdown",
   "id": "447f04a1-8e5b-4873-87cc-48988db8c41f",
   "metadata": {},
   "source": [
    "# China pipelines "
   ]
  },
  {
   "cell_type": "code",
   "execution_count": 84,
   "id": "c40a2400-a570-42fc-898a-3331c7278c13",
   "metadata": {},
   "outputs": [],
   "source": [
    "# Shandong Oil Pipeline Network"
   ]
  },
  {
   "cell_type": "code",
   "execution_count": 88,
   "id": "8baa0c11-b000-41a1-9285-63bd62bf0374",
   "metadata": {},
   "outputs": [],
   "source": [
    "pipes_shandong = pipes_df_orig.loc[(pipes_df_orig.Fuel=='Oil')&\n",
    "              (pipes_df_orig.PipelineNetworkContainer.isin(['Shandong Oil Pipeline Network']))]\n",
    "pipes_northeast = pipes_df_orig.loc[(pipes_df_orig.Fuel=='Oil')&\n",
    "              (pipes_df_orig.PipelineNetworkContainer.isin(['Northeast Oil Pipeline Network']))]"
   ]
  },
  {
   "cell_type": "code",
   "execution_count": 89,
   "id": "bbb1a336-eae5-436c-a181-f52a6bf0d39c",
   "metadata": {},
   "outputs": [
    {
     "data": {
      "text/plain": [
       "Status\n",
       "Cancelled        120.0\n",
       "Construction     836.0\n",
       "Operating      6,678.6\n",
       "Proposed         456.0\n",
       "Retired          799.1\n",
       "Name: LengthMergedKm, dtype: float64"
      ]
     },
     "execution_count": 89,
     "metadata": {},
     "output_type": "execute_result"
    }
   ],
   "source": [
    "pipes_shandong.groupby('Status')['LengthMergedKm'].sum()"
   ]
  },
  {
   "cell_type": "code",
   "execution_count": 90,
   "id": "ff165f5f-db82-475c-939e-57b019251b77",
   "metadata": {},
   "outputs": [
    {
     "data": {
      "text/plain": [
       "Status\n",
       "Construction     455.2\n",
       "Operating      4,810.6\n",
       "Proposed           9.4\n",
       "Retired        4,770.7\n",
       "Name: LengthMergedKm, dtype: float64"
      ]
     },
     "execution_count": 90,
     "metadata": {},
     "output_type": "execute_result"
    }
   ],
   "source": [
    "pipes_northeast.groupby('Status')['LengthMergedKm'].sum()"
   ]
  },
  {
   "cell_type": "code",
   "execution_count": null,
   "id": "b1319d8f-ac5a-4b2e-8905-4794aeb82b1b",
   "metadata": {},
   "outputs": [],
   "source": []
  }
 ],
 "metadata": {
  "kernelspec": {
   "display_name": "gem",
   "language": "python",
   "name": "gem"
  },
  "language_info": {
   "codemirror_mode": {
    "name": "ipython",
    "version": 3
   },
   "file_extension": ".py",
   "mimetype": "text/x-python",
   "name": "python",
   "nbconvert_exporter": "python",
   "pygments_lexer": "ipython3",
   "version": "3.9.9"
  }
 },
 "nbformat": 4,
 "nbformat_minor": 5
}
